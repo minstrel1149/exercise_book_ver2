{
 "cells": [
  {
   "cell_type": "code",
   "execution_count": 22,
   "metadata": {},
   "outputs": [],
   "source": [
    "import numpy as np\n",
    "import pandas as pd\n",
    "import matplotlib.pyplot as plt\n",
    "from matplotlib import rc\n",
    "import seaborn as sns\n",
    "from scipy import stats as ss\n",
    "import statsmodels.api as sm\n",
    "import statsmodels.formula.api as smf"
   ]
  },
  {
   "cell_type": "code",
   "execution_count": 2,
   "metadata": {},
   "outputs": [],
   "source": [
    "height = np.array([181, 161, 170, 160, 158, 168, 162, 179, 183, 178,\n",
    "                   171, 177, 163, 158, 160, 160, 158, 173, 160, 163,\n",
    "                   167, 165, 163, 173, 178, 170, 167, 177, 175, 169,\n",
    "                   152, 158, 160, 160, 159, 180, 169, 162, 178, 173,\n",
    "                   173, 171, 171, 170, 160, 167, 168, 166, 164, 173,\n",
    "                   180])\n",
    "weight = np.array([78, 49, 52, 53, 50, 57, 53, 54, 71, 73,\n",
    "                   55, 73, 51, 53, 65, 48, 59, 64, 48, 53,\n",
    "                   78, 45, 56, 70, 68, 59, 55, 64, 59, 55,\n",
    "                   38, 45, 50, 46, 50, 63, 71, 52, 74, 52,\n",
    "                   61, 65, 68, 57, 47, 48, 58, 59, 55, 74,\n",
    "                   74])"
   ]
  },
  {
   "cell_type": "code",
   "execution_count": 4,
   "metadata": {},
   "outputs": [
    {
     "data": {
      "text/plain": [
       "0.7362765055636866"
      ]
     },
     "execution_count": 4,
     "metadata": {},
     "output_type": "execute_result"
    }
   ],
   "source": [
    "np.corrcoef(height, weight)[0][1]"
   ]
  },
  {
   "cell_type": "code",
   "execution_count": 7,
   "metadata": {},
   "outputs": [],
   "source": [
    "data = {'height':height, 'weight':weight}\n",
    "df_data = pd.DataFrame(data)"
   ]
  },
  {
   "cell_type": "code",
   "execution_count": 23,
   "metadata": {},
   "outputs": [
    {
     "data": {
      "text/html": [
       "<table class=\"simpletable\">\n",
       "<caption>OLS Regression Results</caption>\n",
       "<tr>\n",
       "  <th>Dep. Variable:</th>         <td>weight</td>      <th>  R-squared:         </th> <td>   0.542</td>\n",
       "</tr>\n",
       "<tr>\n",
       "  <th>Model:</th>                   <td>OLS</td>       <th>  Adj. R-squared:    </th> <td>   0.533</td>\n",
       "</tr>\n",
       "<tr>\n",
       "  <th>Method:</th>             <td>Least Squares</td>  <th>  F-statistic:       </th> <td>   58.01</td>\n",
       "</tr>\n",
       "<tr>\n",
       "  <th>Date:</th>             <td>Fri, 26 Aug 2022</td> <th>  Prob (F-statistic):</th> <td>7.40e-10</td>\n",
       "</tr>\n",
       "<tr>\n",
       "  <th>Time:</th>                 <td>16:19:10</td>     <th>  Log-Likelihood:    </th> <td> -168.30</td>\n",
       "</tr>\n",
       "<tr>\n",
       "  <th>No. Observations:</th>      <td>    51</td>      <th>  AIC:               </th> <td>   340.6</td>\n",
       "</tr>\n",
       "<tr>\n",
       "  <th>Df Residuals:</th>          <td>    49</td>      <th>  BIC:               </th> <td>   344.5</td>\n",
       "</tr>\n",
       "<tr>\n",
       "  <th>Df Model:</th>              <td>     1</td>      <th>                     </th>     <td> </td>   \n",
       "</tr>\n",
       "<tr>\n",
       "  <th>Covariance Type:</th>      <td>nonrobust</td>    <th>                     </th>     <td> </td>   \n",
       "</tr>\n",
       "</table>\n",
       "<table class=\"simpletable\">\n",
       "<tr>\n",
       "      <td></td>         <th>coef</th>     <th>std err</th>      <th>t</th>      <th>P>|t|</th>  <th>[0.025</th>    <th>0.975]</th>  \n",
       "</tr>\n",
       "<tr>\n",
       "  <th>Intercept</th> <td> -100.7820</td> <td>   20.912</td> <td>   -4.819</td> <td> 0.000</td> <td> -142.806</td> <td>  -58.758</td>\n",
       "</tr>\n",
       "<tr>\n",
       "  <th>height</th>    <td>    0.9479</td> <td>    0.124</td> <td>    7.616</td> <td> 0.000</td> <td>    0.698</td> <td>    1.198</td>\n",
       "</tr>\n",
       "</table>\n",
       "<table class=\"simpletable\">\n",
       "<tr>\n",
       "  <th>Omnibus:</th>       <td> 5.480</td> <th>  Durbin-Watson:     </th> <td>   2.220</td>\n",
       "</tr>\n",
       "<tr>\n",
       "  <th>Prob(Omnibus):</th> <td> 0.065</td> <th>  Jarque-Bera (JB):  </th> <td>   4.425</td>\n",
       "</tr>\n",
       "<tr>\n",
       "  <th>Skew:</th>          <td> 0.569</td> <th>  Prob(JB):          </th> <td>   0.109</td>\n",
       "</tr>\n",
       "<tr>\n",
       "  <th>Kurtosis:</th>      <td> 3.886</td> <th>  Cond. No.          </th> <td>3.75e+03</td>\n",
       "</tr>\n",
       "</table><br/><br/>Notes:<br/>[1] Standard Errors assume that the covariance matrix of the errors is correctly specified.<br/>[2] The condition number is large, 3.75e+03. This might indicate that there are<br/>strong multicollinearity or other numerical problems."
      ],
      "text/plain": [
       "<class 'statsmodels.iolib.summary.Summary'>\n",
       "\"\"\"\n",
       "                            OLS Regression Results                            \n",
       "==============================================================================\n",
       "Dep. Variable:                 weight   R-squared:                       0.542\n",
       "Model:                            OLS   Adj. R-squared:                  0.533\n",
       "Method:                 Least Squares   F-statistic:                     58.01\n",
       "Date:                Fri, 26 Aug 2022   Prob (F-statistic):           7.40e-10\n",
       "Time:                        16:19:10   Log-Likelihood:                -168.30\n",
       "No. Observations:                  51   AIC:                             340.6\n",
       "Df Residuals:                      49   BIC:                             344.5\n",
       "Df Model:                           1                                         \n",
       "Covariance Type:            nonrobust                                         \n",
       "==============================================================================\n",
       "                 coef    std err          t      P>|t|      [0.025      0.975]\n",
       "------------------------------------------------------------------------------\n",
       "Intercept   -100.7820     20.912     -4.819      0.000    -142.806     -58.758\n",
       "height         0.9479      0.124      7.616      0.000       0.698       1.198\n",
       "==============================================================================\n",
       "Omnibus:                        5.480   Durbin-Watson:                   2.220\n",
       "Prob(Omnibus):                  0.065   Jarque-Bera (JB):                4.425\n",
       "Skew:                           0.569   Prob(JB):                        0.109\n",
       "Kurtosis:                       3.886   Cond. No.                     3.75e+03\n",
       "==============================================================================\n",
       "\n",
       "Notes:\n",
       "[1] Standard Errors assume that the covariance matrix of the errors is correctly specified.\n",
       "[2] The condition number is large, 3.75e+03. This might indicate that there are\n",
       "strong multicollinearity or other numerical problems.\n",
       "\"\"\""
      ]
     },
     "execution_count": 23,
     "metadata": {},
     "output_type": "execute_result"
    }
   ],
   "source": [
    "x = smf.ols('weight ~ height', data).fit()\n",
    "x.summary()"
   ]
  },
  {
   "cell_type": "code",
   "execution_count": 24,
   "metadata": {},
   "outputs": [
    {
     "data": {
      "text/html": [
       "<div>\n",
       "<style scoped>\n",
       "    .dataframe tbody tr th:only-of-type {\n",
       "        vertical-align: middle;\n",
       "    }\n",
       "\n",
       "    .dataframe tbody tr th {\n",
       "        vertical-align: top;\n",
       "    }\n",
       "\n",
       "    .dataframe thead th {\n",
       "        text-align: right;\n",
       "    }\n",
       "</style>\n",
       "<table border=\"1\" class=\"dataframe\">\n",
       "  <thead>\n",
       "    <tr style=\"text-align: right;\">\n",
       "      <th></th>\n",
       "      <th>0</th>\n",
       "      <th>1</th>\n",
       "    </tr>\n",
       "  </thead>\n",
       "  <tbody>\n",
       "    <tr>\n",
       "      <th>Intercept</th>\n",
       "      <td>-142.806014</td>\n",
       "      <td>-58.757955</td>\n",
       "    </tr>\n",
       "    <tr>\n",
       "      <th>height</th>\n",
       "      <td>0.697793</td>\n",
       "      <td>1.197985</td>\n",
       "    </tr>\n",
       "  </tbody>\n",
       "</table>\n",
       "</div>"
      ],
      "text/plain": [
       "                    0          1\n",
       "Intercept -142.806014 -58.757955\n",
       "height       0.697793   1.197985"
      ]
     },
     "execution_count": 24,
     "metadata": {},
     "output_type": "execute_result"
    }
   ],
   "source": [
    "x.conf_int(0.05)"
   ]
  },
  {
   "cell_type": "code",
   "execution_count": 14,
   "metadata": {},
   "outputs": [],
   "source": [
    "rc('font', family='Malgun Gothic')"
   ]
  },
  {
   "cell_type": "code",
   "execution_count": 17,
   "metadata": {},
   "outputs": [
    {
     "data": {
      "image/png": "[encoded data removed]",
      "text/plain": [
       "<Figure size 864x288 with 1 Axes>"
      ]
     },
     "metadata": {
      "needs_background": "light"
     },
     "output_type": "display_data"
    }
   ],
   "source": [
    "grid = sns.lmplot(data=df_data, x='height', y='weight')\n",
    "grid.fig.set_size_inches(12, 4)"
   ]
  },
  {
   "cell_type": "code",
   "execution_count": 29,
   "metadata": {},
   "outputs": [
    {
     "data": {
      "text/plain": [
       "<AxesSubplot:xlabel='height', ylabel='weight'>"
      ]
     },
     "execution_count": 29,
     "metadata": {},
     "output_type": "execute_result"
    },
    {
     "name": "stderr",
     "output_type": "stream",
     "text": [
      "c:\\Users\\admin\\anaconda3\\lib\\site-packages\\IPython\\core\\pylabtools.py:151: UserWarning: Glyph 8722 (\\N{MINUS SIGN}) missing from current font.\n",
      "  fig.canvas.print_figure(bytes_io, **kw)\n"
     ]
    },
    {
     "data": {
      "image/png": "[encoded data removed]",
      "text/plain": [
       "<Figure size 432x288 with 1 Axes>"
      ]
     },
     "metadata": {
      "needs_background": "light"
     },
     "output_type": "display_data"
    }
   ],
   "source": [
    "sns.residplot(data=df_data, x='height', y='weight', robust=True)"
   ]
  },
  {
   "cell_type": "code",
   "execution_count": 30,
   "metadata": {},
   "outputs": [
    {
     "data": {
      "text/plain": [
       "0      7.214002\n",
       "1     -2.828210\n",
       "2     -8.359215\n",
       "3      2.119679\n",
       "4      1.015458\n",
       "5     -1.463436\n",
       "6      0.223901\n",
       "7    -14.890219\n",
       "8     -1.681777\n",
       "9      5.057670\n",
       "10    -6.307104\n",
       "11     6.005560\n",
       "12    -2.723989\n",
       "13     4.015458\n",
       "14    14.119679\n",
       "15    -2.880321\n",
       "16    10.015458\n",
       "17     0.797117\n",
       "18    -2.880321\n",
       "19    -0.723989\n",
       "20    20.484454\n",
       "21   -10.619768\n",
       "22     2.276011\n",
       "23     6.797117\n",
       "24     0.057670\n",
       "25    -1.359215\n",
       "26    -2.515546\n",
       "27    -2.994440\n",
       "28    -6.098662\n",
       "29    -4.411325\n",
       "30    -5.297205\n",
       "31    -3.984542\n",
       "32    -0.880321\n",
       "33    -4.880321\n",
       "34     0.067569\n",
       "35    -6.838109\n",
       "36    11.588675\n",
       "37    -0.776099\n",
       "38     6.057670\n",
       "39   -11.202883\n",
       "40    -2.202883\n",
       "41     3.692896\n",
       "42     6.692896\n",
       "43    -3.359215\n",
       "44    -3.880321\n",
       "45    -9.515546\n",
       "46    -0.463436\n",
       "47     2.432343\n",
       "48     0.328122\n",
       "49    10.797117\n",
       "50     4.161891\n",
       "dtype: float64"
      ]
     },
     "execution_count": 30,
     "metadata": {},
     "output_type": "execute_result"
    }
   ],
   "source": [
    "x.resid"
   ]
  },
  {
   "cell_type": "code",
   "execution_count": 32,
   "metadata": {},
   "outputs": [
    {
     "name": "stderr",
     "output_type": "stream",
     "text": [
      "c:\\Users\\admin\\anaconda3\\lib\\site-packages\\IPython\\core\\pylabtools.py:151: UserWarning: Glyph 8722 (\\N{MINUS SIGN}) missing from current font.\n",
      "  fig.canvas.print_figure(bytes_io, **kw)\n"
     ]
    },
    {
     "data": {
      "image/png": "[encoded data removed]",
      "text/plain": [
       "<Figure size 432x288 with 1 Axes>"
      ]
     },
     "execution_count": 32,
     "metadata": {},
     "output_type": "execute_result"
    },
    {
     "data": {
      "image/png": "[encoded data removed]",
      "text/plain": [
       "<Figure size 432x288 with 1 Axes>"
      ]
     },
     "metadata": {
      "needs_background": "light"
     },
     "output_type": "display_data"
    }
   ],
   "source": [
    "sm.qqplot(x.resid, line='s')"
   ]
  },
  {
   "cell_type": "code",
   "execution_count": null,
   "metadata": {},
   "outputs": [],
   "source": []
  }
 ],
 "metadata": {
  "kernelspec": {
   "display_name": "Python 3.9.12 ('base')",
   "language": "python",
   "name": "python3"
  },
  "language_info": {
   "codemirror_mode": {
    "name": "ipython",
    "version": 3
   },
   "file_extension": ".py",
   "mimetype": "text/x-python",
   "name": "python",
   "nbconvert_exporter": "python",
   "pygments_lexer": "ipython3",
   "version": "3.9.12"
  },
  "orig_nbformat": 4,
  "vscode": {
   "interpreter": {
    "hash": "610a6f344c2137faf927ea819c63f6cee33a2c04455044b28099f39fe9722347"
   }
  }
 },
 "nbformat": 4,
 "nbformat_minor": 2
}
