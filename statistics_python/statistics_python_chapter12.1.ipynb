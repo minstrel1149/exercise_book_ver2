{
 "cells": [
  {
   "cell_type": "code",
   "execution_count": 1,
   "metadata": {},
   "outputs": [],
   "source": [
    "import numpy as np\n",
    "import pandas as pd\n",
    "import matplotlib.pyplot as plt\n",
    "import seaborn as sns\n",
    "from scipy import stats as ss\n",
    "import statsmodels.api as sm"
   ]
  },
  {
   "cell_type": "code",
   "execution_count": 2,
   "metadata": {},
   "outputs": [],
   "source": [
    "x = np.array([77, 77, 78, 78, 81, 81, 82, 82, 82, 82,\n",
    "              82, 83, 83, 84, 84, 84, 84, 85, 86, 86,\n",
    "              86, 86, 86, 87, 87, 87, 87, 87, 87, 87,\n",
    "              89, 89, 89, 89, 89, 89, 89, 90, 90, 90,\n",
    "              91, 91, 91, 91, 91, 91, 91, 91, 91, 91,\n",
    "              93, 93, 93, 93, 93, 93, 94, 94, 94, 94,\n",
    "              94, 94, 94, 94, 94, 94, 94, 94, 95, 95,\n",
    "              95, 95, 95, 96, 96, 96, 96, 96, 96, 97,\n",
    "              97, 97, 97, 97, 97, 97, 97, 97, 98, 99,\n",
    "              100, 100, 100, 100, 100, 100, 100, 100,\n",
    "              100, 101, 101, 101, 101, 101, 101, 102,\n",
    "              102, 102, 102, 102, 102, 103, 103, 104,\n",
    "              104, 104, 105, 107])\n",
    "y = np.array([71, 72, 73, 74, 75, 77, 78, 79, 79, 79,\n",
    "              79, 80, 80, 80, 81, 81, 81, 82, 82, 82,\n",
    "              82, 84, 84, 84, 84, 84, 84, 85, 85, 85,\n",
    "              85, 85, 85, 86, 86, 87, 88, 90, 91, 94])"
   ]
  },
  {
   "cell_type": "code",
   "execution_count": 13,
   "metadata": {},
   "outputs": [],
   "source": [
    "avg, var_x, var_y, n_x, n_y = np.mean(x) - np.mean(y), np.var(x, ddof=1), np.var(y, ddof=1), len(x), len(y)"
   ]
  },
  {
   "cell_type": "code",
   "execution_count": 15,
   "metadata": {},
   "outputs": [],
   "source": [
    "se = np.sqrt(var_x/n_x + var_y/n_y)\n",
    "z = ss.norm.ppf(1 - 0.05/2)"
   ]
  },
  {
   "cell_type": "code",
   "execution_count": 16,
   "metadata": {},
   "outputs": [
    {
     "data": {
      "text/plain": [
       "[8.870910287992295, 12.84349649166871]"
      ]
     },
     "execution_count": 16,
     "metadata": {},
     "output_type": "execute_result"
    }
   ],
   "source": [
    "[avg - se * z, avg + se * z]"
   ]
  },
  {
   "cell_type": "code",
   "execution_count": 24,
   "metadata": {},
   "outputs": [
    {
     "data": {
      "text/plain": [
       "42.24508094306821"
      ]
     },
     "execution_count": 24,
     "metadata": {},
     "output_type": "execute_result"
    }
   ],
   "source": [
    "var_total = ((n_x - 1) * var_x + (n_y - 1) * var_y) / (n_x + n_y - 2)\n",
    "var_total"
   ]
  },
  {
   "cell_type": "code",
   "execution_count": 26,
   "metadata": {},
   "outputs": [],
   "source": [
    "se_total = np.sqrt(var_total / n_x + var_total / n_y)\n",
    "t = ss.t.ppf(1 - 0.05/2, n_x + n_y - 2)"
   ]
  },
  {
   "cell_type": "code",
   "execution_count": 27,
   "metadata": {},
   "outputs": [
    {
     "data": {
      "text/plain": [
       "[8.508241695500033, 13.206165084160972]"
      ]
     },
     "execution_count": 27,
     "metadata": {},
     "output_type": "execute_result"
    }
   ],
   "source": [
    "[avg - se_total * t, avg + se_total * t]"
   ]
  },
  {
   "cell_type": "code",
   "execution_count": null,
   "metadata": {},
   "outputs": [],
   "source": []
  }
 ],
 "metadata": {
  "kernelspec": {
   "display_name": "Python 3.9.12 ('base')",
   "language": "python",
   "name": "python3"
  },
  "language_info": {
   "codemirror_mode": {
    "name": "ipython",
    "version": 3
   },
   "file_extension": ".py",
   "mimetype": "text/x-python",
   "name": "python",
   "nbconvert_exporter": "python",
   "pygments_lexer": "ipython3",
   "version": "3.9.12"
  },
  "orig_nbformat": 4,
  "vscode": {
   "interpreter": {
    "hash": "610a6f344c2137faf927ea819c63f6cee33a2c04455044b28099f39fe9722347"
   }
  }
 },
 "nbformat": 4,
 "nbformat_minor": 2
}
