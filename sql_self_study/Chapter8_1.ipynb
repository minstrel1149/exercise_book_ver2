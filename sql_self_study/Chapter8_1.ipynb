{
 "cells": [
  {
   "cell_type": "code",
   "execution_count": 1,
   "metadata": {},
   "outputs": [],
   "source": [
    "import pymysql\n",
    "import pyinputplus as pyip\n",
    "import pandas as pd\n",
    "from tkinter import *"
   ]
  },
  {
   "cell_type": "code",
   "execution_count": 2,
   "metadata": {},
   "outputs": [],
   "source": [
    "conn = pymysql.connect(host='127.0.0.1', user='root', password=pyip.inputStr(), db='market_db', charset='utf8')"
   ]
  },
  {
   "cell_type": "code",
   "execution_count": 3,
   "metadata": {},
   "outputs": [],
   "source": [
    "cur = conn.cursor()"
   ]
  },
  {
   "cell_type": "code",
   "execution_count": 4,
   "metadata": {},
   "outputs": [
    {
     "data": {
      "text/plain": [
       "10"
      ]
     },
     "execution_count": 4,
     "metadata": {},
     "output_type": "execute_result"
    }
   ],
   "source": [
    "cur.execute(\"SELECT * FROM member\")"
   ]
  },
  {
   "cell_type": "code",
   "execution_count": 5,
   "metadata": {},
   "outputs": [],
   "source": [
    "conn.commit()"
   ]
  },
  {
   "cell_type": "code",
   "execution_count": 6,
   "metadata": {},
   "outputs": [],
   "source": [
    "conn.close()"
   ]
  },
  {
   "cell_type": "code",
   "execution_count": 7,
   "metadata": {},
   "outputs": [],
   "source": [
    "conn = pymysql.connect(host='127.0.0.1', user='root', password=pyip.inputStr(), db='market_db', charset='utf8')\n",
    "sentence = \"SELECT * FROM member\""
   ]
  },
  {
   "cell_type": "code",
   "execution_count": 8,
   "metadata": {},
   "outputs": [
    {
     "name": "stderr",
     "output_type": "stream",
     "text": [
      "C:\\Users\\admin\\AppData\\Roaming\\Python\\Python310\\site-packages\\pandas\\io\\sql.py:761: UserWarning: pandas only support SQLAlchemy connectable(engine/connection) ordatabase string URI or sqlite3 DBAPI2 connectionother DBAPI2 objects are not tested, please consider using SQLAlchemy\n",
      "  warnings.warn(\n"
     ]
    },
    {
     "data": {
      "text/html": [
       "<div>\n",
       "<style scoped>\n",
       "    .dataframe tbody tr th:only-of-type {\n",
       "        vertical-align: middle;\n",
       "    }\n",
       "\n",
       "    .dataframe tbody tr th {\n",
       "        vertical-align: top;\n",
       "    }\n",
       "\n",
       "    .dataframe thead th {\n",
       "        text-align: right;\n",
       "    }\n",
       "</style>\n",
       "<table border=\"1\" class=\"dataframe\">\n",
       "  <thead>\n",
       "    <tr style=\"text-align: right;\">\n",
       "      <th></th>\n",
       "      <th>mem_id</th>\n",
       "      <th>mem_name</th>\n",
       "      <th>mem_number</th>\n",
       "      <th>addr</th>\n",
       "      <th>phone1</th>\n",
       "      <th>phone2</th>\n",
       "      <th>height</th>\n",
       "      <th>debut_date</th>\n",
       "    </tr>\n",
       "  </thead>\n",
       "  <tbody>\n",
       "    <tr>\n",
       "      <th>0</th>\n",
       "      <td>APN</td>\n",
       "      <td>에이핑크</td>\n",
       "      <td>6</td>\n",
       "      <td>경기</td>\n",
       "      <td>031</td>\n",
       "      <td>77777777</td>\n",
       "      <td>164</td>\n",
       "      <td>2011-02-10</td>\n",
       "    </tr>\n",
       "    <tr>\n",
       "      <th>1</th>\n",
       "      <td>BLK</td>\n",
       "      <td>블랙핑크</td>\n",
       "      <td>4</td>\n",
       "      <td>경남</td>\n",
       "      <td>055</td>\n",
       "      <td>22222222</td>\n",
       "      <td>163</td>\n",
       "      <td>2016-08-08</td>\n",
       "    </tr>\n",
       "    <tr>\n",
       "      <th>2</th>\n",
       "      <td>GRL</td>\n",
       "      <td>소녀시대</td>\n",
       "      <td>8</td>\n",
       "      <td>서울</td>\n",
       "      <td>02</td>\n",
       "      <td>44444444</td>\n",
       "      <td>168</td>\n",
       "      <td>2007-08-02</td>\n",
       "    </tr>\n",
       "    <tr>\n",
       "      <th>3</th>\n",
       "      <td>ITZ</td>\n",
       "      <td>잇지</td>\n",
       "      <td>5</td>\n",
       "      <td>경남</td>\n",
       "      <td>None</td>\n",
       "      <td>None</td>\n",
       "      <td>167</td>\n",
       "      <td>2019-02-12</td>\n",
       "    </tr>\n",
       "    <tr>\n",
       "      <th>4</th>\n",
       "      <td>MMU</td>\n",
       "      <td>마마무</td>\n",
       "      <td>4</td>\n",
       "      <td>전남</td>\n",
       "      <td>061</td>\n",
       "      <td>99999999</td>\n",
       "      <td>165</td>\n",
       "      <td>2014-06-19</td>\n",
       "    </tr>\n",
       "    <tr>\n",
       "      <th>5</th>\n",
       "      <td>OMY</td>\n",
       "      <td>오마이걸</td>\n",
       "      <td>7</td>\n",
       "      <td>서울</td>\n",
       "      <td>None</td>\n",
       "      <td>None</td>\n",
       "      <td>160</td>\n",
       "      <td>2015-04-21</td>\n",
       "    </tr>\n",
       "    <tr>\n",
       "      <th>6</th>\n",
       "      <td>RED</td>\n",
       "      <td>레드벨벳</td>\n",
       "      <td>4</td>\n",
       "      <td>경북</td>\n",
       "      <td>054</td>\n",
       "      <td>55555555</td>\n",
       "      <td>161</td>\n",
       "      <td>2014-08-01</td>\n",
       "    </tr>\n",
       "    <tr>\n",
       "      <th>7</th>\n",
       "      <td>SPC</td>\n",
       "      <td>우주소녀</td>\n",
       "      <td>13</td>\n",
       "      <td>서울</td>\n",
       "      <td>02</td>\n",
       "      <td>88888888</td>\n",
       "      <td>162</td>\n",
       "      <td>2016-02-25</td>\n",
       "    </tr>\n",
       "    <tr>\n",
       "      <th>8</th>\n",
       "      <td>TWC</td>\n",
       "      <td>트와이스</td>\n",
       "      <td>9</td>\n",
       "      <td>서울</td>\n",
       "      <td>02</td>\n",
       "      <td>11111111</td>\n",
       "      <td>167</td>\n",
       "      <td>2015-10-19</td>\n",
       "    </tr>\n",
       "    <tr>\n",
       "      <th>9</th>\n",
       "      <td>WMN</td>\n",
       "      <td>여자친구</td>\n",
       "      <td>6</td>\n",
       "      <td>경기</td>\n",
       "      <td>031</td>\n",
       "      <td>33333333</td>\n",
       "      <td>166</td>\n",
       "      <td>2015-01-15</td>\n",
       "    </tr>\n",
       "  </tbody>\n",
       "</table>\n",
       "</div>"
      ],
      "text/plain": [
       "  mem_id mem_name  mem_number addr phone1    phone2  height  debut_date\n",
       "0    APN     에이핑크           6   경기    031  77777777     164  2011-02-10\n",
       "1    BLK     블랙핑크           4   경남    055  22222222     163  2016-08-08\n",
       "2    GRL     소녀시대           8   서울     02  44444444     168  2007-08-02\n",
       "3    ITZ       잇지           5   경남   None      None     167  2019-02-12\n",
       "4    MMU      마마무           4   전남    061  99999999     165  2014-06-19\n",
       "5    OMY     오마이걸           7   서울   None      None     160  2015-04-21\n",
       "6    RED     레드벨벳           4   경북    054  55555555     161  2014-08-01\n",
       "7    SPC     우주소녀          13   서울     02  88888888     162  2016-02-25\n",
       "8    TWC     트와이스           9   서울     02  11111111     167  2015-10-19\n",
       "9    WMN     여자친구           6   경기    031  33333333     166  2015-01-15"
      ]
     },
     "execution_count": 8,
     "metadata": {},
     "output_type": "execute_result"
    }
   ],
   "source": [
    "pd.read_sql(sentence, con=conn)"
   ]
  },
  {
   "cell_type": "code",
   "execution_count": 9,
   "metadata": {},
   "outputs": [],
   "source": [
    "conn.close()"
   ]
  },
  {
   "cell_type": "code",
   "execution_count": null,
   "metadata": {},
   "outputs": [],
   "source": []
  }
 ],
 "metadata": {
  "kernelspec": {
   "display_name": "base",
   "language": "python",
   "name": "python3"
  },
  "language_info": {
   "codemirror_mode": {
    "name": "ipython",
    "version": 3
   },
   "file_extension": ".py",
   "mimetype": "text/x-python",
   "name": "python",
   "nbconvert_exporter": "python",
   "pygments_lexer": "ipython3",
   "version": "3.10.9"
  },
  "orig_nbformat": 4
 },
 "nbformat": 4,
 "nbformat_minor": 2
}
