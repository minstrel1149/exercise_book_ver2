{
 "cells": [
  {
   "cell_type": "code",
   "execution_count": 6,
   "metadata": {},
   "outputs": [],
   "source": [
    "import numpy as np"
   ]
  },
  {
   "cell_type": "code",
   "execution_count": 5,
   "metadata": {},
   "outputs": [
    {
     "name": "stdout",
     "output_type": "stream",
     "text": [
      "55\n"
     ]
    }
   ],
   "source": [
    "def sigma(x):\n",
    "    ret = 0\n",
    "    for x_i in x:\n",
    "        ret += x_i\n",
    "    return ret\n",
    "\n",
    "x = [i + 1 for i in range(10)]\n",
    "print(sigma(x))"
   ]
  },
  {
   "cell_type": "code",
   "execution_count": 3,
   "metadata": {},
   "outputs": [
    {
     "name": "stdout",
     "output_type": "stream",
     "text": [
      "3628800\n"
     ]
    }
   ],
   "source": [
    "def product(x):\n",
    "    ret = 1\n",
    "    for x_i in x:\n",
    "        ret *= x_i\n",
    "    return ret\n",
    "\n",
    "x = [i + 1 for i in range(10)]\n",
    "print(product(x))"
   ]
  },
  {
   "cell_type": "code",
   "execution_count": 14,
   "metadata": {},
   "outputs": [
    {
     "name": "stdout",
     "output_type": "stream",
     "text": [
      "5\n"
     ]
    }
   ],
   "source": [
    "def f(x):\n",
    "    return np.log(x)\n",
    "def argmax(target_func, X):\n",
    "    max_val = -np.inf\n",
    "    ret = None\n",
    "    for x in X:\n",
    "        val = f(x)\n",
    "        if val > max_val:\n",
    "            max_val = val\n",
    "            ret = x\n",
    "    return ret\n",
    "\n",
    "X = [i + 1 for i in range(5)]\n",
    "print(argmax(f, X))"
   ]
  },
  {
   "cell_type": "code",
   "execution_count": null,
   "metadata": {},
   "outputs": [],
   "source": []
  }
 ],
 "metadata": {
  "kernelspec": {
   "display_name": "base",
   "language": "python",
   "name": "python3"
  },
  "language_info": {
   "codemirror_mode": {
    "name": "ipython",
    "version": 3
   },
   "file_extension": ".py",
   "mimetype": "text/x-python",
   "name": "python",
   "nbconvert_exporter": "python",
   "pygments_lexer": "ipython3",
   "version": "3.9.12"
  },
  "orig_nbformat": 4
 },
 "nbformat": 4,
 "nbformat_minor": 2
}
