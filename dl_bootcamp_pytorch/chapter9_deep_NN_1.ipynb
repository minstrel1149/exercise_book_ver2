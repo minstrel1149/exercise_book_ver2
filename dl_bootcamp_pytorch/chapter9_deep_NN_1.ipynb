{
 "cells": [
  {
   "cell_type": "code",
   "execution_count": 1,
   "metadata": {},
   "outputs": [],
   "source": [
    "import torch\n",
    "import torch.nn as nn\n",
    "import torch.nn.functional as F\n",
    "import torch.optim as optim\n",
    "import numpy as np\n",
    "import pandas as pd\n",
    "import matplotlib.pyplot as plt\n",
    "import seaborn as sns"
   ]
  },
  {
   "cell_type": "code",
   "execution_count": 3,
   "metadata": {},
   "outputs": [],
   "source": [
    "from sklearn.datasets import load_boston"
   ]
  },
  {
   "cell_type": "code",
   "execution_count": 2,
   "metadata": {},
   "outputs": [],
   "source": [
    "from sklearn.preprocessing import StandardScaler"
   ]
  },
  {
   "cell_type": "code",
   "execution_count": 4,
   "metadata": {},
   "outputs": [
    {
     "name": "stderr",
     "output_type": "stream",
     "text": [
      "c:\\Users\\admin\\anaconda3\\lib\\site-packages\\sklearn\\utils\\deprecation.py:87: FutureWarning: Function load_boston is deprecated; `load_boston` is deprecated in 1.0 and will be removed in 1.2.\n",
      "\n",
      "    The Boston housing prices dataset has an ethical problem. You can refer to\n",
      "    the documentation of this function for further details.\n",
      "\n",
      "    The scikit-learn maintainers therefore strongly discourage the use of this\n",
      "    dataset unless the purpose of the code is to study and educate about\n",
      "    ethical issues in data science and machine learning.\n",
      "\n",
      "    In this special case, you can fetch the dataset from the original\n",
      "    source::\n",
      "\n",
      "        import pandas as pd\n",
      "        import numpy as np\n",
      "\n",
      "\n",
      "        data_url = \"http://lib.stat.cmu.edu/datasets/boston\"\n",
      "        raw_df = pd.read_csv(data_url, sep=\"\\s+\", skiprows=22, header=None)\n",
      "        data = np.hstack([raw_df.values[::2, :], raw_df.values[1::2, :2]])\n",
      "        target = raw_df.values[1::2, 2]\n",
      "\n",
      "    Alternative datasets include the California housing dataset (i.e.\n",
      "    :func:`~sklearn.datasets.fetch_california_housing`) and the Ames housing\n",
      "    dataset. You can load the datasets as follows::\n",
      "\n",
      "        from sklearn.datasets import fetch_california_housing\n",
      "        housing = fetch_california_housing()\n",
      "\n",
      "    for the California housing dataset and::\n",
      "\n",
      "        from sklearn.datasets import fetch_openml\n",
      "        housing = fetch_openml(name=\"house_prices\", as_frame=True)\n",
      "\n",
      "    for the Ames housing dataset.\n",
      "    \n",
      "  warnings.warn(msg, category=FutureWarning)\n"
     ]
    }
   ],
   "source": [
    "boston = load_boston()\n",
    "df = pd.DataFrame(boston['data'],columns=boston['feature_names'])\n",
    "df['target'] = boston['target']"
   ]
  },
  {
   "cell_type": "code",
   "execution_count": 5,
   "metadata": {},
   "outputs": [],
   "source": [
    "scaler = StandardScaler()\n",
    "scaler.fit(df.values[:, :-1])\n",
    "df.values[:, :-1] = scaler.transform(df.values[:, :-1]).round(4)"
   ]
  },
  {
   "cell_type": "code",
   "execution_count": 6,
   "metadata": {},
   "outputs": [
    {
     "data": {
      "text/html": [
       "<div>\n",
       "<style scoped>\n",
       "    .dataframe tbody tr th:only-of-type {\n",
       "        vertical-align: middle;\n",
       "    }\n",
       "\n",
       "    .dataframe tbody tr th {\n",
       "        vertical-align: top;\n",
       "    }\n",
       "\n",
       "    .dataframe thead th {\n",
       "        text-align: right;\n",
       "    }\n",
       "</style>\n",
       "<table border=\"1\" class=\"dataframe\">\n",
       "  <thead>\n",
       "    <tr style=\"text-align: right;\">\n",
       "      <th></th>\n",
       "      <th>CRIM</th>\n",
       "      <th>ZN</th>\n",
       "      <th>INDUS</th>\n",
       "      <th>CHAS</th>\n",
       "      <th>NOX</th>\n",
       "      <th>RM</th>\n",
       "      <th>AGE</th>\n",
       "      <th>DIS</th>\n",
       "      <th>RAD</th>\n",
       "      <th>TAX</th>\n",
       "      <th>PTRATIO</th>\n",
       "      <th>B</th>\n",
       "      <th>LSTAT</th>\n",
       "      <th>target</th>\n",
       "    </tr>\n",
       "  </thead>\n",
       "  <tbody>\n",
       "    <tr>\n",
       "      <th>501</th>\n",
       "      <td>-0.4132</td>\n",
       "      <td>-0.4877</td>\n",
       "      <td>0.1157</td>\n",
       "      <td>-0.2726</td>\n",
       "      <td>0.1581</td>\n",
       "      <td>0.4393</td>\n",
       "      <td>0.0187</td>\n",
       "      <td>-0.6258</td>\n",
       "      <td>-0.9828</td>\n",
       "      <td>-0.8032</td>\n",
       "      <td>1.1765</td>\n",
       "      <td>0.3872</td>\n",
       "      <td>-0.4181</td>\n",
       "      <td>22.4</td>\n",
       "    </tr>\n",
       "    <tr>\n",
       "      <th>502</th>\n",
       "      <td>-0.4152</td>\n",
       "      <td>-0.4877</td>\n",
       "      <td>0.1157</td>\n",
       "      <td>-0.2726</td>\n",
       "      <td>0.1581</td>\n",
       "      <td>-0.2345</td>\n",
       "      <td>0.2889</td>\n",
       "      <td>-0.7166</td>\n",
       "      <td>-0.9828</td>\n",
       "      <td>-0.8032</td>\n",
       "      <td>1.1765</td>\n",
       "      <td>0.4411</td>\n",
       "      <td>-0.5008</td>\n",
       "      <td>20.6</td>\n",
       "    </tr>\n",
       "    <tr>\n",
       "      <th>503</th>\n",
       "      <td>-0.4134</td>\n",
       "      <td>-0.4877</td>\n",
       "      <td>0.1157</td>\n",
       "      <td>-0.2726</td>\n",
       "      <td>0.1581</td>\n",
       "      <td>0.9850</td>\n",
       "      <td>0.7974</td>\n",
       "      <td>-0.7737</td>\n",
       "      <td>-0.9828</td>\n",
       "      <td>-0.8032</td>\n",
       "      <td>1.1765</td>\n",
       "      <td>0.4411</td>\n",
       "      <td>-0.9830</td>\n",
       "      <td>23.9</td>\n",
       "    </tr>\n",
       "    <tr>\n",
       "      <th>504</th>\n",
       "      <td>-0.4078</td>\n",
       "      <td>-0.4877</td>\n",
       "      <td>0.1157</td>\n",
       "      <td>-0.2726</td>\n",
       "      <td>0.1581</td>\n",
       "      <td>0.7257</td>\n",
       "      <td>0.7370</td>\n",
       "      <td>-0.6684</td>\n",
       "      <td>-0.9828</td>\n",
       "      <td>-0.8032</td>\n",
       "      <td>1.1765</td>\n",
       "      <td>0.4032</td>\n",
       "      <td>-0.8653</td>\n",
       "      <td>22.0</td>\n",
       "    </tr>\n",
       "    <tr>\n",
       "      <th>505</th>\n",
       "      <td>-0.4150</td>\n",
       "      <td>-0.4877</td>\n",
       "      <td>0.1157</td>\n",
       "      <td>-0.2726</td>\n",
       "      <td>0.1581</td>\n",
       "      <td>-0.3628</td>\n",
       "      <td>0.4347</td>\n",
       "      <td>-0.6132</td>\n",
       "      <td>-0.9828</td>\n",
       "      <td>-0.8032</td>\n",
       "      <td>1.1765</td>\n",
       "      <td>0.4411</td>\n",
       "      <td>-0.6691</td>\n",
       "      <td>11.9</td>\n",
       "    </tr>\n",
       "  </tbody>\n",
       "</table>\n",
       "</div>"
      ],
      "text/plain": [
       "       CRIM      ZN   INDUS    CHAS     NOX      RM     AGE     DIS     RAD  \\\n",
       "501 -0.4132 -0.4877  0.1157 -0.2726  0.1581  0.4393  0.0187 -0.6258 -0.9828   \n",
       "502 -0.4152 -0.4877  0.1157 -0.2726  0.1581 -0.2345  0.2889 -0.7166 -0.9828   \n",
       "503 -0.4134 -0.4877  0.1157 -0.2726  0.1581  0.9850  0.7974 -0.7737 -0.9828   \n",
       "504 -0.4078 -0.4877  0.1157 -0.2726  0.1581  0.7257  0.7370 -0.6684 -0.9828   \n",
       "505 -0.4150 -0.4877  0.1157 -0.2726  0.1581 -0.3628  0.4347 -0.6132 -0.9828   \n",
       "\n",
       "        TAX  PTRATIO       B   LSTAT  target  \n",
       "501 -0.8032   1.1765  0.3872 -0.4181    22.4  \n",
       "502 -0.8032   1.1765  0.4411 -0.5008    20.6  \n",
       "503 -0.8032   1.1765  0.4411 -0.9830    23.9  \n",
       "504 -0.8032   1.1765  0.4032 -0.8653    22.0  \n",
       "505 -0.8032   1.1765  0.4411 -0.6691    11.9  "
      ]
     },
     "execution_count": 6,
     "metadata": {},
     "output_type": "execute_result"
    }
   ],
   "source": [
    "df.tail()"
   ]
  },
  {
   "cell_type": "code",
   "execution_count": 7,
   "metadata": {},
   "outputs": [],
   "source": [
    "data = torch.from_numpy(df.values).float()\n",
    "X = data[:, :-1]\n",
    "y = data[:, -1:]"
   ]
  },
  {
   "cell_type": "code",
   "execution_count": 8,
   "metadata": {},
   "outputs": [],
   "source": [
    "n_epochs = 200000\n",
    "learning_rate = 1e-4\n",
    "print_interval = 10000"
   ]
  },
  {
   "cell_type": "code",
   "execution_count": 13,
   "metadata": {},
   "outputs": [],
   "source": [
    "class MyModel(nn.Module):\n",
    "    def __init__(self, input_dim, output_dim):\n",
    "        self.input_dim = input_dim\n",
    "        self.output_dim = output_dim\n",
    "        super().__init__()\n",
    "\n",
    "        self.linear1 = nn.Linear(input_dim, 3)\n",
    "        self.linear2 = nn.Linear(3, 3)\n",
    "        self.linear3 = nn.Linear(3, 3)\n",
    "        self.linear4 = nn.Linear(3, output_dim)\n",
    "        self.act = nn.LeakyReLU()\n",
    "    \n",
    "    def forward(self, X):\n",
    "        h = self.act(self.linear1(X))\n",
    "        h = self.act(self.linear2(h))\n",
    "        h = self.act(self.linear3(h))\n",
    "        y = self.linear4(h)\n",
    "        return y"
   ]
  },
  {
   "cell_type": "code",
   "execution_count": 14,
   "metadata": {},
   "outputs": [
    {
     "name": "stdout",
     "output_type": "stream",
     "text": [
      "MyModel(\n",
      "  (linear1): Linear(in_features=13, out_features=3, bias=True)\n",
      "  (linear2): Linear(in_features=3, out_features=3, bias=True)\n",
      "  (linear3): Linear(in_features=3, out_features=3, bias=True)\n",
      "  (linear4): Linear(in_features=3, out_features=1, bias=True)\n",
      "  (act): LeakyReLU(negative_slope=0.01)\n",
      ")\n"
     ]
    }
   ],
   "source": [
    "model = MyModel(X.size(-1), y.size(-1))\n",
    "print(model)"
   ]
  },
  {
   "cell_type": "code",
   "execution_count": 15,
   "metadata": {},
   "outputs": [],
   "source": [
    "optimizer = optim.SGD(model.parameters(), lr=learning_rate)"
   ]
  },
  {
   "cell_type": "code",
   "execution_count": 17,
   "metadata": {},
   "outputs": [
    {
     "name": "stdout",
     "output_type": "stream",
     "text": [
      "Epoch 10000: loss:1.2042e+01\n",
      "Epoch 20000: loss:1.1410e+01\n",
      "Epoch 30000: loss:1.0717e+01\n",
      "Epoch 40000: loss:1.0398e+01\n",
      "Epoch 50000: loss:1.0230e+01\n",
      "Epoch 60000: loss:1.0075e+01\n",
      "Epoch 70000: loss:9.7773e+00\n",
      "Epoch 80000: loss:9.1316e+00\n",
      "Epoch 90000: loss:8.2706e+00\n",
      "Epoch 100000: loss:7.7788e+00\n",
      "Epoch 110000: loss:7.5277e+00\n",
      "Epoch 120000: loss:7.3914e+00\n",
      "Epoch 130000: loss:7.3362e+00\n",
      "Epoch 140000: loss:7.3155e+00\n",
      "Epoch 150000: loss:7.2843e+00\n",
      "Epoch 160000: loss:7.2417e+00\n",
      "Epoch 170000: loss:7.1940e+00\n",
      "Epoch 180000: loss:7.1805e+00\n",
      "Epoch 190000: loss:7.1287e+00\n",
      "Epoch 200000: loss:7.0483e+00\n"
     ]
    }
   ],
   "source": [
    "for i in range(n_epochs):\n",
    "    y_hat = model(X)\n",
    "    loss = F.mse_loss(y_hat, y)\n",
    "\n",
    "    optimizer.zero_grad()\n",
    "    loss.backward()\n",
    "    optimizer.step()\n",
    "\n",
    "    if (i + 1) % print_interval == 0:\n",
    "        print(f'Epoch {i + 1}: loss:{loss:.4e}')"
   ]
  },
  {
   "cell_type": "code",
   "execution_count": 19,
   "metadata": {},
   "outputs": [
    {
     "data": {
      "image/png": "[encoded data removed]",
      "text/plain": [
       "<Figure size 720x720 with 6 Axes>"
      ]
     },
     "metadata": {
      "needs_background": "light"
     },
     "output_type": "display_data"
    }
   ],
   "source": [
    "df = (pd.DataFrame(torch.concat([y_hat, y], dim=1).detach().numpy(), columns=['y_hat', 'y'])\n",
    "      .assign(y_hat=lambda df: df.y_hat.clip(upper=50))\n",
    ")\n",
    "sns.pairplot(df, height=5)\n",
    "plt.show()"
   ]
  },
  {
   "cell_type": "code",
   "execution_count": null,
   "metadata": {},
   "outputs": [],
   "source": []
  }
 ],
 "metadata": {
  "kernelspec": {
   "display_name": "base",
   "language": "python",
   "name": "python3"
  },
  "language_info": {
   "codemirror_mode": {
    "name": "ipython",
    "version": 3
   },
   "file_extension": ".py",
   "mimetype": "text/x-python",
   "name": "python",
   "nbconvert_exporter": "python",
   "pygments_lexer": "ipython3",
   "version": "3.9.12"
  },
  "orig_nbformat": 4
 },
 "nbformat": 4,
 "nbformat_minor": 2
}
