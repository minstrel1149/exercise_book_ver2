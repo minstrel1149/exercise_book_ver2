{
 "cells": [
  {
   "cell_type": "code",
   "execution_count": 1,
   "metadata": {},
   "outputs": [],
   "source": [
    "import torch\n",
    "import torch.nn as nn\n",
    "import torch.nn.functional as F\n",
    "import torch.optim as optim\n",
    "import numpy as np\n",
    "import pandas as pd\n",
    "import matplotlib.pyplot as plt\n",
    "import seaborn as sns\n",
    "from copy import deepcopy"
   ]
  },
  {
   "cell_type": "code",
   "execution_count": 87,
   "metadata": {},
   "outputs": [],
   "source": [
    "from sklearn.preprocessing import StandardScaler\n",
    "from sklearn.metrics import roc_auc_score\n",
    "from sklearn.metrics import confusion_matrix"
   ]
  },
  {
   "cell_type": "code",
   "execution_count": 51,
   "metadata": {},
   "outputs": [],
   "source": [
    "from sklearn.datasets import load_breast_cancer\n",
    "from torchvision import datasets, transforms"
   ]
  },
  {
   "cell_type": "code",
   "execution_count": 4,
   "metadata": {},
   "outputs": [
    {
     "data": {
      "text/html": [
       "<div>\n",
       "<style scoped>\n",
       "    .dataframe tbody tr th:only-of-type {\n",
       "        vertical-align: middle;\n",
       "    }\n",
       "\n",
       "    .dataframe tbody tr th {\n",
       "        vertical-align: top;\n",
       "    }\n",
       "\n",
       "    .dataframe thead th {\n",
       "        text-align: right;\n",
       "    }\n",
       "</style>\n",
       "<table border=\"1\" class=\"dataframe\">\n",
       "  <thead>\n",
       "    <tr style=\"text-align: right;\">\n",
       "      <th></th>\n",
       "      <th>mean radius</th>\n",
       "      <th>mean texture</th>\n",
       "      <th>mean perimeter</th>\n",
       "      <th>mean area</th>\n",
       "      <th>mean smoothness</th>\n",
       "      <th>mean compactness</th>\n",
       "      <th>mean concavity</th>\n",
       "      <th>mean concave points</th>\n",
       "      <th>mean symmetry</th>\n",
       "      <th>mean fractal dimension</th>\n",
       "      <th>...</th>\n",
       "      <th>worst texture</th>\n",
       "      <th>worst perimeter</th>\n",
       "      <th>worst area</th>\n",
       "      <th>worst smoothness</th>\n",
       "      <th>worst compactness</th>\n",
       "      <th>worst concavity</th>\n",
       "      <th>worst concave points</th>\n",
       "      <th>worst symmetry</th>\n",
       "      <th>worst fractal dimension</th>\n",
       "      <th>class</th>\n",
       "    </tr>\n",
       "  </thead>\n",
       "  <tbody>\n",
       "    <tr>\n",
       "      <th>564</th>\n",
       "      <td>21.56</td>\n",
       "      <td>22.39</td>\n",
       "      <td>142.00</td>\n",
       "      <td>1479.0</td>\n",
       "      <td>0.11100</td>\n",
       "      <td>0.11590</td>\n",
       "      <td>0.24390</td>\n",
       "      <td>0.13890</td>\n",
       "      <td>0.1726</td>\n",
       "      <td>0.05623</td>\n",
       "      <td>...</td>\n",
       "      <td>26.40</td>\n",
       "      <td>166.10</td>\n",
       "      <td>2027.0</td>\n",
       "      <td>0.14100</td>\n",
       "      <td>0.21130</td>\n",
       "      <td>0.4107</td>\n",
       "      <td>0.2216</td>\n",
       "      <td>0.2060</td>\n",
       "      <td>0.07115</td>\n",
       "      <td>0</td>\n",
       "    </tr>\n",
       "    <tr>\n",
       "      <th>565</th>\n",
       "      <td>20.13</td>\n",
       "      <td>28.25</td>\n",
       "      <td>131.20</td>\n",
       "      <td>1261.0</td>\n",
       "      <td>0.09780</td>\n",
       "      <td>0.10340</td>\n",
       "      <td>0.14400</td>\n",
       "      <td>0.09791</td>\n",
       "      <td>0.1752</td>\n",
       "      <td>0.05533</td>\n",
       "      <td>...</td>\n",
       "      <td>38.25</td>\n",
       "      <td>155.00</td>\n",
       "      <td>1731.0</td>\n",
       "      <td>0.11660</td>\n",
       "      <td>0.19220</td>\n",
       "      <td>0.3215</td>\n",
       "      <td>0.1628</td>\n",
       "      <td>0.2572</td>\n",
       "      <td>0.06637</td>\n",
       "      <td>0</td>\n",
       "    </tr>\n",
       "    <tr>\n",
       "      <th>566</th>\n",
       "      <td>16.60</td>\n",
       "      <td>28.08</td>\n",
       "      <td>108.30</td>\n",
       "      <td>858.1</td>\n",
       "      <td>0.08455</td>\n",
       "      <td>0.10230</td>\n",
       "      <td>0.09251</td>\n",
       "      <td>0.05302</td>\n",
       "      <td>0.1590</td>\n",
       "      <td>0.05648</td>\n",
       "      <td>...</td>\n",
       "      <td>34.12</td>\n",
       "      <td>126.70</td>\n",
       "      <td>1124.0</td>\n",
       "      <td>0.11390</td>\n",
       "      <td>0.30940</td>\n",
       "      <td>0.3403</td>\n",
       "      <td>0.1418</td>\n",
       "      <td>0.2218</td>\n",
       "      <td>0.07820</td>\n",
       "      <td>0</td>\n",
       "    </tr>\n",
       "    <tr>\n",
       "      <th>567</th>\n",
       "      <td>20.60</td>\n",
       "      <td>29.33</td>\n",
       "      <td>140.10</td>\n",
       "      <td>1265.0</td>\n",
       "      <td>0.11780</td>\n",
       "      <td>0.27700</td>\n",
       "      <td>0.35140</td>\n",
       "      <td>0.15200</td>\n",
       "      <td>0.2397</td>\n",
       "      <td>0.07016</td>\n",
       "      <td>...</td>\n",
       "      <td>39.42</td>\n",
       "      <td>184.60</td>\n",
       "      <td>1821.0</td>\n",
       "      <td>0.16500</td>\n",
       "      <td>0.86810</td>\n",
       "      <td>0.9387</td>\n",
       "      <td>0.2650</td>\n",
       "      <td>0.4087</td>\n",
       "      <td>0.12400</td>\n",
       "      <td>0</td>\n",
       "    </tr>\n",
       "    <tr>\n",
       "      <th>568</th>\n",
       "      <td>7.76</td>\n",
       "      <td>24.54</td>\n",
       "      <td>47.92</td>\n",
       "      <td>181.0</td>\n",
       "      <td>0.05263</td>\n",
       "      <td>0.04362</td>\n",
       "      <td>0.00000</td>\n",
       "      <td>0.00000</td>\n",
       "      <td>0.1587</td>\n",
       "      <td>0.05884</td>\n",
       "      <td>...</td>\n",
       "      <td>30.37</td>\n",
       "      <td>59.16</td>\n",
       "      <td>268.6</td>\n",
       "      <td>0.08996</td>\n",
       "      <td>0.06444</td>\n",
       "      <td>0.0000</td>\n",
       "      <td>0.0000</td>\n",
       "      <td>0.2871</td>\n",
       "      <td>0.07039</td>\n",
       "      <td>1</td>\n",
       "    </tr>\n",
       "  </tbody>\n",
       "</table>\n",
       "<p>5 rows × 31 columns</p>\n",
       "</div>"
      ],
      "text/plain": [
       "     mean radius  mean texture  mean perimeter  mean area  mean smoothness  \\\n",
       "564        21.56         22.39          142.00     1479.0          0.11100   \n",
       "565        20.13         28.25          131.20     1261.0          0.09780   \n",
       "566        16.60         28.08          108.30      858.1          0.08455   \n",
       "567        20.60         29.33          140.10     1265.0          0.11780   \n",
       "568         7.76         24.54           47.92      181.0          0.05263   \n",
       "\n",
       "     mean compactness  mean concavity  mean concave points  mean symmetry  \\\n",
       "564           0.11590         0.24390              0.13890         0.1726   \n",
       "565           0.10340         0.14400              0.09791         0.1752   \n",
       "566           0.10230         0.09251              0.05302         0.1590   \n",
       "567           0.27700         0.35140              0.15200         0.2397   \n",
       "568           0.04362         0.00000              0.00000         0.1587   \n",
       "\n",
       "     mean fractal dimension  ...  worst texture  worst perimeter  worst area  \\\n",
       "564                 0.05623  ...          26.40           166.10      2027.0   \n",
       "565                 0.05533  ...          38.25           155.00      1731.0   \n",
       "566                 0.05648  ...          34.12           126.70      1124.0   \n",
       "567                 0.07016  ...          39.42           184.60      1821.0   \n",
       "568                 0.05884  ...          30.37            59.16       268.6   \n",
       "\n",
       "     worst smoothness  worst compactness  worst concavity  \\\n",
       "564           0.14100            0.21130           0.4107   \n",
       "565           0.11660            0.19220           0.3215   \n",
       "566           0.11390            0.30940           0.3403   \n",
       "567           0.16500            0.86810           0.9387   \n",
       "568           0.08996            0.06444           0.0000   \n",
       "\n",
       "     worst concave points  worst symmetry  worst fractal dimension  class  \n",
       "564                0.2216          0.2060                  0.07115      0  \n",
       "565                0.1628          0.2572                  0.06637      0  \n",
       "566                0.1418          0.2218                  0.07820      0  \n",
       "567                0.2650          0.4087                  0.12400      0  \n",
       "568                0.0000          0.2871                  0.07039      1  \n",
       "\n",
       "[5 rows x 31 columns]"
      ]
     },
     "execution_count": 4,
     "metadata": {},
     "output_type": "execute_result"
    }
   ],
   "source": [
    "cancer = load_breast_cancer()\n",
    "df = pd.DataFrame(cancer['data'], columns=cancer['feature_names'])\n",
    "df['class'] = cancer['target']\n",
    "df.tail()"
   ]
  },
  {
   "cell_type": "code",
   "execution_count": 14,
   "metadata": {},
   "outputs": [],
   "source": [
    "data = torch.from_numpy(df.values).float()\n",
    "X = data[:, :-1]\n",
    "y = data[:, -1:]"
   ]
  },
  {
   "cell_type": "code",
   "execution_count": 15,
   "metadata": {},
   "outputs": [],
   "source": [
    "ratios = [0.6, 0.2, 0.2]\n",
    "train_cnt = int(data.size(0) * ratios[0])\n",
    "valid_cnt = int(data.size(0) * ratios[1])\n",
    "test_cnt = data.size(0) - train_cnt - valid_cnt\n",
    "cnts = [train_cnt, valid_cnt, test_cnt]"
   ]
  },
  {
   "cell_type": "code",
   "execution_count": 16,
   "metadata": {},
   "outputs": [],
   "source": [
    "indices = torch.randperm(data.size(0))\n",
    "X = torch.index_select(X, dim=0, index=indices)\n",
    "y = torch.index_select(y, dim=0, index=indices)\n",
    "# X를 리스트로 바꿔줘야만 아래 박스 코드가 작동 → 왜지? 아, 튜플은 immutable이기 때문에\n",
    "X = list(X.split(cnts, dim=0))\n",
    "y = y.split(cnts, dim=0)"
   ]
  },
  {
   "cell_type": "code",
   "execution_count": 17,
   "metadata": {},
   "outputs": [],
   "source": [
    "scaler = StandardScaler()\n",
    "scaler.fit(X[0].numpy())\n",
    "X[0] = torch.from_numpy(scaler.transform(X[0].numpy())).float()\n",
    "X[1] = torch.from_numpy(scaler.transform(X[1].numpy())).float()\n",
    "X[2] = torch.from_numpy(scaler.transform(X[2].numpy())).float()"
   ]
  },
  {
   "cell_type": "code",
   "execution_count": 19,
   "metadata": {},
   "outputs": [
    {
     "name": "stdout",
     "output_type": "stream",
     "text": [
      "Sequential(\n",
      "  (0): Linear(in_features=30, out_features=25, bias=True)\n",
      "  (1): LeakyReLU(negative_slope=0.01)\n",
      "  (2): Linear(in_features=25, out_features=20, bias=True)\n",
      "  (3): LeakyReLU(negative_slope=0.01)\n",
      "  (4): Linear(in_features=20, out_features=15, bias=True)\n",
      "  (5): LeakyReLU(negative_slope=0.01)\n",
      "  (6): Linear(in_features=15, out_features=10, bias=True)\n",
      "  (7): LeakyReLU(negative_slope=0.01)\n",
      "  (8): Linear(in_features=10, out_features=5, bias=True)\n",
      "  (9): LeakyReLU(negative_slope=0.01)\n",
      "  (10): Linear(in_features=5, out_features=1, bias=True)\n",
      "  (11): Sigmoid()\n",
      ")\n"
     ]
    }
   ],
   "source": [
    "model = nn.Sequential(\n",
    "    nn.Linear(X[0].size(-1), 25),\n",
    "    nn.LeakyReLU(),\n",
    "    nn.Linear(25, 20),\n",
    "    nn.LeakyReLU(),\n",
    "    nn.Linear(20, 15),\n",
    "    nn.LeakyReLU(),\n",
    "    nn.Linear(15, 10),\n",
    "    nn.LeakyReLU(),\n",
    "    nn.Linear(10, 5),\n",
    "    nn.LeakyReLU(),\n",
    "    nn.Linear(5, y[0].size(-1)),\n",
    "    nn.Sigmoid()\n",
    ")\n",
    "print(model)"
   ]
  },
  {
   "cell_type": "code",
   "execution_count": 20,
   "metadata": {},
   "outputs": [],
   "source": [
    "optimizer = optim.Adam(model.parameters())"
   ]
  },
  {
   "cell_type": "code",
   "execution_count": 21,
   "metadata": {},
   "outputs": [],
   "source": [
    "n_epochs = 10000\n",
    "batch_size = 32\n",
    "print_interval = 10\n",
    "early_stop = 100"
   ]
  },
  {
   "cell_type": "code",
   "execution_count": 22,
   "metadata": {},
   "outputs": [],
   "source": [
    "lowest_loss = np.inf\n",
    "best_model = None\n",
    "lowest_epoch = np.inf"
   ]
  },
  {
   "cell_type": "code",
   "execution_count": 23,
   "metadata": {},
   "outputs": [
    {
     "name": "stdout",
     "output_type": "stream",
     "text": [
      "Epoch 10: train loss=1.2532e-01, valid loss=2.0694e-01, lowest loss=2.3193e-01\n",
      "Epoch 20: train loss=4.1756e-02, valid loss=2.0572e-01, lowest loss=1.7720e-01\n",
      "Epoch 30: train loss=2.4397e-02, valid loss=2.2625e-01, lowest loss=1.7720e-01\n",
      "Epoch 40: train loss=1.1223e-02, valid loss=2.6151e-01, lowest loss=1.7720e-01\n",
      "Epoch 50: train loss=2.5209e-03, valid loss=3.1829e-01, lowest loss=1.7720e-01\n",
      "Epoch 60: train loss=8.5343e-04, valid loss=3.9592e-01, lowest loss=1.7720e-01\n",
      "Epoch 70: train loss=3.7830e-04, valid loss=4.4886e-01, lowest loss=1.7720e-01\n",
      "Epoch 80: train loss=2.3061e-04, valid loss=4.8746e-01, lowest loss=1.7720e-01\n",
      "Epoch 90: train loss=1.4879e-04, valid loss=5.1487e-01, lowest loss=1.7720e-01\n",
      "Epoch 100: train loss=1.1095e-04, valid loss=1.1907e+00, lowest loss=1.7720e-01\n",
      "Epoch 110: train loss=7.9757e-05, valid loss=1.2081e+00, lowest loss=1.7720e-01\n",
      "There is no improvement during last 100 epochs.\n",
      "The best validation loss from epoch 13: 1.7720e-01\n"
     ]
    },
    {
     "data": {
      "text/plain": [
       "<All keys matched successfully>"
      ]
     },
     "execution_count": 23,
     "metadata": {},
     "output_type": "execute_result"
    }
   ],
   "source": [
    "train_history, valid_history = ([], [])\n",
    "\n",
    "for i in range(n_epochs):\n",
    "    indices = torch.randperm(X[0].size(0))\n",
    "    X_ = torch.index_select(X[0], dim=0, index=indices)\n",
    "    y_ = torch.index_select(y[0], dim=0, index=indices)\n",
    "    X_ = X_.split(batch_size, dim=0)\n",
    "    y_ = y_.split(batch_size, dim=0)\n",
    "\n",
    "    train_loss, valid_loss = (0, 0)\n",
    "    y_hat = []\n",
    "\n",
    "    for X_i, y_i in zip(X_, y_):\n",
    "        y_hat_i = model(X_i)\n",
    "        loss = F.binary_cross_entropy(y_hat_i, y_i)\n",
    "        optimizer.zero_grad()\n",
    "        loss.backward()\n",
    "        optimizer.step()\n",
    "        train_loss += float(loss)\n",
    "\n",
    "    train_loss = train_loss / len(X_)\n",
    "\n",
    "    with torch.no_grad():\n",
    "        X_ = X[1].split(batch_size, dim=0)\n",
    "        y_ = y[1].split(batch_size, dim=0)\n",
    "\n",
    "        valid_loss = 0\n",
    "\n",
    "        for X_i, y_i in zip(X_, y_):\n",
    "            y_hat_i = model(X_i)\n",
    "            loss = F.binary_cross_entropy(y_hat_i, y_i)\n",
    "            valid_loss += float(loss)\n",
    "            y_hat = [y_hat_i]\n",
    "        \n",
    "    valid_loss = valid_loss / len(X_)\n",
    "\n",
    "    train_history += [train_loss]\n",
    "    valid_history += [valid_loss]\n",
    "\n",
    "    if (i + 1) % print_interval == 0:\n",
    "        print(f'Epoch {i + 1}: train loss={train_loss:.4e}, valid loss={valid_loss:.4e}, lowest loss={lowest_loss:.4e}')\n",
    "    \n",
    "    if valid_loss < lowest_loss:\n",
    "        lowest_loss = valid_loss\n",
    "        lowest_epoch = i\n",
    "        best_model = deepcopy(model.state_dict())\n",
    "    else:\n",
    "        if early_stop > 0 and lowest_epoch + early_stop < i + 1:\n",
    "            print(f'There is no improvement during last {early_stop} epochs.')\n",
    "            break\n",
    "\n",
    "print(f'The best validation loss from epoch {lowest_epoch + 1}: {lowest_loss:.4e}')\n",
    "\n",
    "model.load_state_dict(best_model)"
   ]
  },
  {
   "cell_type": "code",
   "execution_count": 25,
   "metadata": {},
   "outputs": [
    {
     "data": {
      "image/png": "[encoded data removed]",
      "text/plain": [
       "<Figure size 1296x288 with 1 Axes>"
      ]
     },
     "metadata": {
      "needs_background": "light"
     },
     "output_type": "display_data"
    }
   ],
   "source": [
    "plot_from = 0\n",
    "\n",
    "fig, ax = plt.subplots(1, 1, figsize=(18, 4))\n",
    "plt.title('Train / Valid Loss History')\n",
    "ax.plot(range(plot_from, len(train_history)), train_history[plot_from:],\n",
    "         range(plot_from, len(valid_history)), valid_history[plot_from:])\n",
    "plt.grid(True)\n",
    "plt.yscale('log')\n",
    "plt.legend(['Train', 'Valid'])\n",
    "plt.show()"
   ]
  },
  {
   "cell_type": "code",
   "execution_count": 26,
   "metadata": {},
   "outputs": [
    {
     "name": "stdout",
     "output_type": "stream",
     "text": [
      "Train loss: 6.3062e-02\n",
      "Valid loss: 1.7720e-01\n",
      "Test loss: 2.6576e-02\n"
     ]
    }
   ],
   "source": [
    "test_loss = 0\n",
    "y_hat = []\n",
    "\n",
    "with torch.no_grad():\n",
    "    X_ = X[2].split(batch_size, dim=0)\n",
    "    y_ = y[2].split(batch_size, dim=0)\n",
    "\n",
    "    for X_i, y_i in zip(X_, y_):\n",
    "        y_hat_i = model(X_i)\n",
    "        loss = F.binary_cross_entropy(y_hat_i, y_i)\n",
    "        test_loss += float(loss)\n",
    "        y_hat += [y_hat_i]\n",
    "\n",
    "test_loss = test_loss / len(X_)\n",
    "y_hat = torch.concat(y_hat, dim=0)\n",
    "\n",
    "sorted_history = sorted(zip(train_history, valid_history), key=lambda x: x[1])\n",
    "\n",
    "print(f'Train loss: {sorted_history[0][0]:.4e}')\n",
    "print(f'Valid loss: {sorted_history[0][1]:.4e}')\n",
    "print(f'Test loss: {test_loss:.4e}')"
   ]
  },
  {
   "cell_type": "code",
   "execution_count": 34,
   "metadata": {},
   "outputs": [
    {
     "name": "stdout",
     "output_type": "stream",
     "text": [
      "Test Accuracy: 1.0000\n"
     ]
    }
   ],
   "source": [
    "correct_cnt = (y[2] == (y_hat > 0.5)).sum()\n",
    "total_cnt = float(y[2].size(0))\n",
    "\n",
    "print(f'Test Accuracy: {correct_cnt / total_cnt:.4f}')"
   ]
  },
  {
   "cell_type": "code",
   "execution_count": 49,
   "metadata": {},
   "outputs": [
    {
     "data": {
      "image/png": "[encoded data removed]",
      "text/plain": [
       "<Figure size 432x288 with 1 Axes>"
      ]
     },
     "metadata": {
      "needs_background": "light"
     },
     "output_type": "display_data"
    }
   ],
   "source": [
    "df = pd.DataFrame(torch.concat([(y_hat > 0.5).float(), y[2]], dim=1).detach().numpy(), columns=['y', 'y_hat'])\n",
    "sns.histplot(df, x='y_hat', hue='y', bins=50, stat='probability')\n",
    "plt.show()"
   ]
  },
  {
   "cell_type": "code",
   "execution_count": 47,
   "metadata": {},
   "outputs": [
    {
     "data": {
      "text/plain": [
       "1.0"
      ]
     },
     "execution_count": 47,
     "metadata": {},
     "output_type": "execute_result"
    }
   ],
   "source": [
    "roc_auc_score(df.values[:, 0], df.values[:, 1])"
   ]
  },
  {
   "cell_type": "code",
   "execution_count": 52,
   "metadata": {},
   "outputs": [
    {
     "name": "stdout",
     "output_type": "stream",
     "text": [
      "Downloading http://yann.lecun.com/exdb/mnist/train-images-idx3-ubyte.gz\n",
      "Downloading http://yann.lecun.com/exdb/mnist/train-images-idx3-ubyte.gz to ../data\\MNIST\\raw\\train-images-idx3-ubyte.gz\n"
     ]
    },
    {
     "data": {
      "application/vnd.jupyter.widget-view+json": {
       "model_id": "f57db92251d84d5eacdddeb6d22be9d5",
       "version_major": 2,
       "version_minor": 0
      },
      "text/plain": [
       "  0%|          | 0/9912422 [00:00<?, ?it/s]"
      ]
     },
     "metadata": {},
     "output_type": "display_data"
    },
    {
     "name": "stdout",
     "output_type": "stream",
     "text": [
      "Extracting ../data\\MNIST\\raw\\train-images-idx3-ubyte.gz to ../data\\MNIST\\raw\n",
      "\n",
      "Downloading http://yann.lecun.com/exdb/mnist/train-labels-idx1-ubyte.gz\n",
      "Downloading http://yann.lecun.com/exdb/mnist/train-labels-idx1-ubyte.gz to ../data\\MNIST\\raw\\train-labels-idx1-ubyte.gz\n"
     ]
    },
    {
     "data": {
      "application/vnd.jupyter.widget-view+json": {
       "model_id": "c600706e3c754a84a52dd4ca03dd18ce",
       "version_major": 2,
       "version_minor": 0
      },
      "text/plain": [
       "  0%|          | 0/28881 [00:00<?, ?it/s]"
      ]
     },
     "metadata": {},
     "output_type": "display_data"
    },
    {
     "name": "stdout",
     "output_type": "stream",
     "text": [
      "Extracting ../data\\MNIST\\raw\\train-labels-idx1-ubyte.gz to ../data\\MNIST\\raw\n",
      "\n",
      "Downloading http://yann.lecun.com/exdb/mnist/t10k-images-idx3-ubyte.gz\n",
      "Downloading http://yann.lecun.com/exdb/mnist/t10k-images-idx3-ubyte.gz to ../data\\MNIST\\raw\\t10k-images-idx3-ubyte.gz\n"
     ]
    },
    {
     "data": {
      "application/vnd.jupyter.widget-view+json": {
       "model_id": "e6d07be9be0c44d483af6dca9409be19",
       "version_major": 2,
       "version_minor": 0
      },
      "text/plain": [
       "  0%|          | 0/1648877 [00:00<?, ?it/s]"
      ]
     },
     "metadata": {},
     "output_type": "display_data"
    },
    {
     "name": "stdout",
     "output_type": "stream",
     "text": [
      "Extracting ../data\\MNIST\\raw\\t10k-images-idx3-ubyte.gz to ../data\\MNIST\\raw\n",
      "\n",
      "Downloading http://yann.lecun.com/exdb/mnist/t10k-labels-idx1-ubyte.gz\n",
      "Downloading http://yann.lecun.com/exdb/mnist/t10k-labels-idx1-ubyte.gz to ../data\\MNIST\\raw\\t10k-labels-idx1-ubyte.gz\n"
     ]
    },
    {
     "data": {
      "application/vnd.jupyter.widget-view+json": {
       "model_id": "dd518dc2eb244ff1a4ff544c0f5b43d5",
       "version_major": 2,
       "version_minor": 0
      },
      "text/plain": [
       "  0%|          | 0/4542 [00:00<?, ?it/s]"
      ]
     },
     "metadata": {},
     "output_type": "display_data"
    },
    {
     "name": "stdout",
     "output_type": "stream",
     "text": [
      "Extracting ../data\\MNIST\\raw\\t10k-labels-idx1-ubyte.gz to ../data\\MNIST\\raw\n",
      "\n"
     ]
    }
   ],
   "source": [
    "train = datasets.MNIST('../data', train=True, download=True, transform=transforms.Compose([transforms.ToTensor()]))\n",
    "test = datasets.MNIST('../data', train=False, transform=transforms.Compose([transforms.ToTensor()]))"
   ]
  },
  {
   "cell_type": "code",
   "execution_count": 53,
   "metadata": {},
   "outputs": [],
   "source": [
    "def plot(X):\n",
    "    img = np.array(X.detach().cpu(), dtype='float').reshape(28, 28)\n",
    "    plt.imshow(img, cmap='gray')\n",
    "    plt.show()"
   ]
  },
  {
   "cell_type": "code",
   "execution_count": 54,
   "metadata": {},
   "outputs": [
    {
     "data": {
      "image/png": "[encoded data removed]",
      "text/plain": [
       "<Figure size 432x288 with 1 Axes>"
      ]
     },
     "metadata": {
      "needs_background": "light"
     },
     "output_type": "display_data"
    }
   ],
   "source": [
    "plot(train.data[0])"
   ]
  },
  {
   "cell_type": "code",
   "execution_count": 64,
   "metadata": {},
   "outputs": [
    {
     "data": {
      "text/plain": [
       "(torch.Size([60000, 784]), torch.Size([60000]))"
      ]
     },
     "execution_count": 64,
     "metadata": {},
     "output_type": "execute_result"
    }
   ],
   "source": [
    "X = train.data.float() / 255\n",
    "y = train.targets\n",
    "X = X.reshape(X.size(0), -1)\n",
    "X.shape, y.shape"
   ]
  },
  {
   "cell_type": "code",
   "execution_count": 66,
   "metadata": {},
   "outputs": [],
   "source": [
    "input_size = X.size(-1)\n",
    "output_size = int(max(y)) + 1"
   ]
  },
  {
   "cell_type": "code",
   "execution_count": 74,
   "metadata": {},
   "outputs": [],
   "source": [
    "ratios = [0.8, 0.2]\n",
    "train_cnt = int(X.size(0) * ratios[0])\n",
    "valid_cnt = X.size(0) - train_cnt\n",
    "test_cnt = len(test.data)\n",
    "cnts = [train_cnt, valid_cnt]"
   ]
  },
  {
   "cell_type": "code",
   "execution_count": 75,
   "metadata": {},
   "outputs": [],
   "source": [
    "indices = torch.randperm(X.size(0))\n",
    "X = torch.index_select(X, dim=0, index=indices)\n",
    "y = torch.index_select(y, dim=0, index=indices)\n",
    "X = list(X.split(cnts, dim=0))\n",
    "y = list(y.split(cnts, dim=0))"
   ]
  },
  {
   "cell_type": "code",
   "execution_count": 76,
   "metadata": {},
   "outputs": [],
   "source": [
    "X += [(test.data.float() / 255).reshape(test_cnt, -1)]\n",
    "y += [test.targets]"
   ]
  },
  {
   "cell_type": "code",
   "execution_count": 77,
   "metadata": {},
   "outputs": [
    {
     "name": "stdout",
     "output_type": "stream",
     "text": [
      "torch.Size([48000, 784]) torch.Size([48000])\n",
      "torch.Size([12000, 784]) torch.Size([12000])\n",
      "torch.Size([10000, 784]) torch.Size([10000])\n"
     ]
    }
   ],
   "source": [
    "for X_i, y_i in zip(X, y):\n",
    "    print(X_i.size(), y_i.size())"
   ]
  },
  {
   "cell_type": "code",
   "execution_count": 78,
   "metadata": {},
   "outputs": [
    {
     "name": "stdout",
     "output_type": "stream",
     "text": [
      "Sequential(\n",
      "  (0): Linear(in_features=784, out_features=500, bias=True)\n",
      "  (1): LeakyReLU(negative_slope=0.01)\n",
      "  (2): Linear(in_features=500, out_features=400, bias=True)\n",
      "  (3): LeakyReLU(negative_slope=0.01)\n",
      "  (4): Linear(in_features=400, out_features=300, bias=True)\n",
      "  (5): LeakyReLU(negative_slope=0.01)\n",
      "  (6): Linear(in_features=300, out_features=200, bias=True)\n",
      "  (7): LeakyReLU(negative_slope=0.01)\n",
      "  (8): Linear(in_features=200, out_features=100, bias=True)\n",
      "  (9): LeakyReLU(negative_slope=0.01)\n",
      "  (10): Linear(in_features=100, out_features=50, bias=True)\n",
      "  (11): LeakyReLU(negative_slope=0.01)\n",
      "  (12): Linear(in_features=50, out_features=10, bias=True)\n",
      "  (13): LogSoftmax(dim=-1)\n",
      ")\n"
     ]
    }
   ],
   "source": [
    "model = nn.Sequential(\n",
    "    nn.Linear(input_size, 500),\n",
    "    nn.LeakyReLU(),\n",
    "    nn.Linear(500, 400),\n",
    "    nn.LeakyReLU(),\n",
    "    nn.Linear(400, 300),\n",
    "    nn.LeakyReLU(),\n",
    "    nn.Linear(300, 200),\n",
    "    nn.LeakyReLU(),\n",
    "    nn.Linear(200, 100),\n",
    "    nn.LeakyReLU(),\n",
    "    nn.Linear(100, 50),\n",
    "    nn.LeakyReLU(),\n",
    "    nn.Linear(50, output_size),\n",
    "    nn.LogSoftmax(dim=-1)\n",
    ")\n",
    "print(model)"
   ]
  },
  {
   "cell_type": "code",
   "execution_count": 79,
   "metadata": {},
   "outputs": [],
   "source": [
    "optimizer = optim.Adam(model.parameters())\n",
    "crit = nn.NLLLoss()"
   ]
  },
  {
   "cell_type": "code",
   "execution_count": 80,
   "metadata": {},
   "outputs": [],
   "source": [
    "n_epochs = 1000\n",
    "batch_size = 256\n",
    "print_interval = 100\n",
    "early_stop = 100"
   ]
  },
  {
   "cell_type": "code",
   "execution_count": 81,
   "metadata": {},
   "outputs": [],
   "source": [
    "lowest_loss = np.inf\n",
    "best_model = None\n",
    "lowest_epoch = np.inf"
   ]
  },
  {
   "cell_type": "code",
   "execution_count": 83,
   "metadata": {},
   "outputs": [
    {
     "name": "stdout",
     "output_type": "stream",
     "text": [
      "Epoch 100: train loss=6.0704e-08, valid loss=1.9532e-01, lowest loss=9.3667e-02\n",
      "There is no improvement during last 100 epochs.\n",
      "The best validation loss from epoch 6: 9.3667e-02\n"
     ]
    },
    {
     "data": {
      "text/plain": [
       "<All keys matched successfully>"
      ]
     },
     "execution_count": 83,
     "metadata": {},
     "output_type": "execute_result"
    }
   ],
   "source": [
    "train_history, valid_history = ([], [])\n",
    "\n",
    "for i in range(n_epochs):\n",
    "    indices = torch.randperm(X[0].size(0))\n",
    "    X_ = torch.index_select(X[0], dim=0, index=indices)\n",
    "    y_ = torch.index_select(y[0], dim=0, index=indices)\n",
    "    X_ = X_.split(batch_size, dim=0)\n",
    "    y_ = y_.split(batch_size, dim=0)\n",
    "\n",
    "    train_loss, valid_loss = (0, 0)\n",
    "    y_hat = []\n",
    "\n",
    "    for X_i, y_i in zip(X_, y_):\n",
    "        y_hat_i = model(X_i)\n",
    "        loss = crit(y_hat_i, y_i.squeeze())\n",
    "        \n",
    "        optimizer.zero_grad()\n",
    "        loss.backward()\n",
    "        optimizer.step()\n",
    "        \n",
    "        train_loss += float(loss)\n",
    "\n",
    "    train_loss = train_loss / len(X_)\n",
    "\n",
    "    with torch.no_grad():\n",
    "        X_ = X[1].split(batch_size, dim=0)\n",
    "        y_ = y[1].split(batch_size, dim=0)\n",
    "\n",
    "        valid_loss = 0\n",
    "\n",
    "        for X_i, y_i in zip(X_, y_):\n",
    "            y_hat_i = model(X_i)\n",
    "            loss = crit(y_hat_i, y_i.squeeze())\n",
    "\n",
    "            valid_loss += float(loss)\n",
    "            y_hat += [y_hat_i]\n",
    "    \n",
    "    valid_loss = valid_loss / len(X_)\n",
    "\n",
    "    train_history += [train_loss]\n",
    "    valid_history += [valid_loss]\n",
    "\n",
    "    if (i + 1) % print_interval == 0:\n",
    "        print(f'Epoch {i + 1}: train loss={train_loss:.4e}, valid loss={valid_loss:.4e}, lowest loss={lowest_loss:.4e}')\n",
    "    \n",
    "    if valid_loss < lowest_loss:\n",
    "        lowest_loss = valid_loss\n",
    "        lowest_epoch = i\n",
    "        best_model = deepcopy(model.state_dict())\n",
    "    else:\n",
    "        if early_stop > 0 and lowest_epoch + early_stop < i + 1:\n",
    "            print(f'There is no improvement during last {early_stop} epochs.')\n",
    "            break\n",
    "\n",
    "print(f'The best validation loss from epoch {lowest_epoch + 1}: {lowest_loss:.4e}')\n",
    "\n",
    "model.load_state_dict(best_model)\n"
   ]
  },
  {
   "cell_type": "code",
   "execution_count": 85,
   "metadata": {},
   "outputs": [
    {
     "name": "stdout",
     "output_type": "stream",
     "text": [
      "Train loss: 4.6878e-02\n",
      "Valid loss: 9.3667e-02\n",
      "Test loss: 7.9639e-02\n"
     ]
    }
   ],
   "source": [
    "test_loss = 0\n",
    "y_hat = []\n",
    "\n",
    "with torch.no_grad():\n",
    "    X_ = X[2].split(batch_size, dim=0)\n",
    "    y_ = y[2].split(batch_size, dim=0)\n",
    "\n",
    "    for X_i, y_i in zip(X_, y_):\n",
    "        y_hat_i = model(X_i)\n",
    "        loss = crit(y_hat_i, y_i.squeeze())\n",
    "        test_loss += float(loss)\n",
    "        y_hat += [y_hat_i]\n",
    "\n",
    "test_loss = test_loss / len(X_)\n",
    "y_hat = torch.concat(y_hat, dim=0)\n",
    "\n",
    "sorted_history = sorted(zip(train_history, valid_history), key=lambda x: x[1])\n",
    "\n",
    "print(f'Train loss: {sorted_history[0][0]:.4e}')\n",
    "print(f'Valid loss: {sorted_history[0][1]:.4e}')\n",
    "print(f'Test loss: {test_loss:.4e}')"
   ]
  },
  {
   "cell_type": "code",
   "execution_count": 86,
   "metadata": {},
   "outputs": [
    {
     "name": "stdout",
     "output_type": "stream",
     "text": [
      "Test Accuracy: 0.9775\n"
     ]
    }
   ],
   "source": [
    "correct_cnt = (y[2].squeeze() == torch.argmax(y_hat, dim=-1)).sum()\n",
    "total_cnt = float(y[2].size(0))\n",
    "print(f'Test Accuracy: {correct_cnt / total_cnt:.4f}')"
   ]
  },
  {
   "cell_type": "code",
   "execution_count": 88,
   "metadata": {},
   "outputs": [
    {
     "data": {
      "text/html": [
       "<div>\n",
       "<style scoped>\n",
       "    .dataframe tbody tr th:only-of-type {\n",
       "        vertical-align: middle;\n",
       "    }\n",
       "\n",
       "    .dataframe tbody tr th {\n",
       "        vertical-align: top;\n",
       "    }\n",
       "\n",
       "    .dataframe thead th {\n",
       "        text-align: right;\n",
       "    }\n",
       "</style>\n",
       "<table border=\"1\" class=\"dataframe\">\n",
       "  <thead>\n",
       "    <tr style=\"text-align: right;\">\n",
       "      <th></th>\n",
       "      <th>Pred_0</th>\n",
       "      <th>Pred_1</th>\n",
       "      <th>Pred_2</th>\n",
       "      <th>Pred_3</th>\n",
       "      <th>Pred_4</th>\n",
       "      <th>Pred_5</th>\n",
       "      <th>Pred_6</th>\n",
       "      <th>Pred_7</th>\n",
       "      <th>Pred_8</th>\n",
       "      <th>Pred_9</th>\n",
       "    </tr>\n",
       "  </thead>\n",
       "  <tbody>\n",
       "    <tr>\n",
       "      <th>True_0</th>\n",
       "      <td>965</td>\n",
       "      <td>0</td>\n",
       "      <td>1</td>\n",
       "      <td>1</td>\n",
       "      <td>0</td>\n",
       "      <td>2</td>\n",
       "      <td>9</td>\n",
       "      <td>1</td>\n",
       "      <td>1</td>\n",
       "      <td>0</td>\n",
       "    </tr>\n",
       "    <tr>\n",
       "      <th>True_1</th>\n",
       "      <td>0</td>\n",
       "      <td>1130</td>\n",
       "      <td>0</td>\n",
       "      <td>0</td>\n",
       "      <td>0</td>\n",
       "      <td>0</td>\n",
       "      <td>1</td>\n",
       "      <td>1</td>\n",
       "      <td>3</td>\n",
       "      <td>0</td>\n",
       "    </tr>\n",
       "    <tr>\n",
       "      <th>True_2</th>\n",
       "      <td>2</td>\n",
       "      <td>1</td>\n",
       "      <td>1012</td>\n",
       "      <td>4</td>\n",
       "      <td>1</td>\n",
       "      <td>0</td>\n",
       "      <td>0</td>\n",
       "      <td>10</td>\n",
       "      <td>2</td>\n",
       "      <td>0</td>\n",
       "    </tr>\n",
       "    <tr>\n",
       "      <th>True_3</th>\n",
       "      <td>0</td>\n",
       "      <td>0</td>\n",
       "      <td>5</td>\n",
       "      <td>987</td>\n",
       "      <td>0</td>\n",
       "      <td>3</td>\n",
       "      <td>0</td>\n",
       "      <td>7</td>\n",
       "      <td>7</td>\n",
       "      <td>1</td>\n",
       "    </tr>\n",
       "    <tr>\n",
       "      <th>True_4</th>\n",
       "      <td>2</td>\n",
       "      <td>2</td>\n",
       "      <td>4</td>\n",
       "      <td>0</td>\n",
       "      <td>955</td>\n",
       "      <td>1</td>\n",
       "      <td>6</td>\n",
       "      <td>5</td>\n",
       "      <td>1</td>\n",
       "      <td>6</td>\n",
       "    </tr>\n",
       "    <tr>\n",
       "      <th>True_5</th>\n",
       "      <td>3</td>\n",
       "      <td>0</td>\n",
       "      <td>0</td>\n",
       "      <td>10</td>\n",
       "      <td>1</td>\n",
       "      <td>865</td>\n",
       "      <td>3</td>\n",
       "      <td>1</td>\n",
       "      <td>6</td>\n",
       "      <td>3</td>\n",
       "    </tr>\n",
       "    <tr>\n",
       "      <th>True_6</th>\n",
       "      <td>1</td>\n",
       "      <td>4</td>\n",
       "      <td>0</td>\n",
       "      <td>0</td>\n",
       "      <td>1</td>\n",
       "      <td>10</td>\n",
       "      <td>936</td>\n",
       "      <td>0</td>\n",
       "      <td>6</td>\n",
       "      <td>0</td>\n",
       "    </tr>\n",
       "    <tr>\n",
       "      <th>True_7</th>\n",
       "      <td>1</td>\n",
       "      <td>0</td>\n",
       "      <td>7</td>\n",
       "      <td>3</td>\n",
       "      <td>1</td>\n",
       "      <td>0</td>\n",
       "      <td>0</td>\n",
       "      <td>1011</td>\n",
       "      <td>1</td>\n",
       "      <td>4</td>\n",
       "    </tr>\n",
       "    <tr>\n",
       "      <th>True_8</th>\n",
       "      <td>3</td>\n",
       "      <td>1</td>\n",
       "      <td>4</td>\n",
       "      <td>5</td>\n",
       "      <td>4</td>\n",
       "      <td>4</td>\n",
       "      <td>0</td>\n",
       "      <td>5</td>\n",
       "      <td>945</td>\n",
       "      <td>3</td>\n",
       "    </tr>\n",
       "    <tr>\n",
       "      <th>True_9</th>\n",
       "      <td>4</td>\n",
       "      <td>5</td>\n",
       "      <td>0</td>\n",
       "      <td>8</td>\n",
       "      <td>14</td>\n",
       "      <td>1</td>\n",
       "      <td>0</td>\n",
       "      <td>6</td>\n",
       "      <td>2</td>\n",
       "      <td>969</td>\n",
       "    </tr>\n",
       "  </tbody>\n",
       "</table>\n",
       "</div>"
      ],
      "text/plain": [
       "        Pred_0  Pred_1  Pred_2  Pred_3  Pred_4  Pred_5  Pred_6  Pred_7  \\\n",
       "True_0     965       0       1       1       0       2       9       1   \n",
       "True_1       0    1130       0       0       0       0       1       1   \n",
       "True_2       2       1    1012       4       1       0       0      10   \n",
       "True_3       0       0       5     987       0       3       0       7   \n",
       "True_4       2       2       4       0     955       1       6       5   \n",
       "True_5       3       0       0      10       1     865       3       1   \n",
       "True_6       1       4       0       0       1      10     936       0   \n",
       "True_7       1       0       7       3       1       0       0    1011   \n",
       "True_8       3       1       4       5       4       4       0       5   \n",
       "True_9       4       5       0       8      14       1       0       6   \n",
       "\n",
       "        Pred_8  Pred_9  \n",
       "True_0       1       0  \n",
       "True_1       3       0  \n",
       "True_2       2       0  \n",
       "True_3       7       1  \n",
       "True_4       1       6  \n",
       "True_5       6       3  \n",
       "True_6       6       0  \n",
       "True_7       1       4  \n",
       "True_8     945       3  \n",
       "True_9       2     969  "
      ]
     },
     "execution_count": 88,
     "metadata": {},
     "output_type": "execute_result"
    }
   ],
   "source": [
    "pd.DataFrame(confusion_matrix(y[2], torch.argmax(y_hat, dim=-1)), index=[f'True_{i}' for i in range(10)], columns=[f'Pred_{i}' for i in range(10)])"
   ]
  },
  {
   "cell_type": "code",
   "execution_count": null,
   "metadata": {},
   "outputs": [],
   "source": []
  }
 ],
 "metadata": {
  "kernelspec": {
   "display_name": "base",
   "language": "python",
   "name": "python3"
  },
  "language_info": {
   "codemirror_mode": {
    "name": "ipython",
    "version": 3
   },
   "file_extension": ".py",
   "mimetype": "text/x-python",
   "name": "python",
   "nbconvert_exporter": "python",
   "pygments_lexer": "ipython3",
   "version": "3.9.12"
  },
  "orig_nbformat": 4
 },
 "nbformat": 4,
 "nbformat_minor": 2
}
