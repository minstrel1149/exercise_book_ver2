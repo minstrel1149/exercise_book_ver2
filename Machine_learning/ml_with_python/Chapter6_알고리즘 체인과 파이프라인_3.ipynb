{
 "cells": [
  {
   "cell_type": "code",
   "execution_count": 1,
   "metadata": {},
   "outputs": [],
   "source": [
    "import os\n",
    "import sys\n",
    "import numpy as np\n",
    "from scipy import sparse\n",
    "%matplotlib inline\n",
    "import matplotlib.pyplot as plt\n",
    "import pandas as pd\n",
    "import mglearn\n",
    "plt.rcParams['font.family'] = 'Malgun Gothic'\n",
    "plt.rcParams['axes.unicode_minus'] = False\n",
    "%config InlineBackend.figure_format = 'svg'\n",
    "from mpl_toolkits.mplot3d import Axes3D, axes3d\n",
    "import scipy.cluster.hierarchy as sch\n",
    "import seaborn as sns\n",
    "import spacy\n",
    "import nltk\n",
    "from konlpy.tag import Okt\n",
    "import graphviz\n",
    "from sklearn.utils.fixes import loguniform"
   ]
  },
  {
   "cell_type": "code",
   "execution_count": 56,
   "metadata": {},
   "outputs": [],
   "source": [
    "from sklearn.model_selection import train_test_split\n",
    "from sklearn.model_selection import GridSearchCV\n",
    "from sklearn.model_selection import cross_val_score, cross_validate\n",
    "from sklearn.svm import SVC\n",
    "from sklearn.linear_model import Ridge, LogisticRegression\n",
    "from sklearn.ensemble import RandomForestClassifier\n",
    "from sklearn.preprocessing import MinMaxScaler, StandardScaler\n",
    "from sklearn.preprocessing import PolynomialFeatures\n",
    "from sklearn.feature_selection import SelectPercentile, f_regression\n",
    "from sklearn.pipeline import Pipeline, make_pipeline\n",
    "from sklearn.metrics import accuracy_score, roc_auc_score, average_precision_score, ConfusionMatrixDisplay, r2_score\n",
    "from sklearn.decomposition import PCA"
   ]
  },
  {
   "cell_type": "code",
   "execution_count": 3,
   "metadata": {},
   "outputs": [],
   "source": [
    "from sklearn.datasets import load_breast_cancer\n",
    "from sklearn.datasets import load_boston"
   ]
  },
  {
   "cell_type": "code",
   "execution_count": 5,
   "metadata": {},
   "outputs": [
    {
     "data": {
      "image/svg+xml": "<?xml version=\"1.0\" encoding=\"utf-8\" standalone=\"no\"?>\n<!DOCTYPE svg PUBLIC \"-//W3C//DTD SVG 1.1//EN\"\n  \"http://www.w3.org/Graphics/SVG/1.1/DTD/svg11.dtd\">\n<svg xmlns:xlink=\"http://www.w3.org/1999/xlink\" width=\"851.4pt\" height=\"584.596029pt\" viewBox=\"0 0 851.4 584.596029\" xmlns=\"http://www.w3.org/2000/svg\" version=\"1.1\">\n <metadata>\n  <rdf:RDF xmlns:dc=\"http://purl.org/dc/elements/1.1/\" xmlns:cc=\"http://creativecommons.org/ns#\" xmlns:rdf=\"http://www.w3.org/1999/02/22-rdf-syntax-ns#\">\n   <cc:Work>\n    <dc:type rdf:resource=\"http://purl.org/dc/dcmitype/StillImage\"/>\n    <dc:date>2022-11-21T21:16:25.905947</dc:date>\n    <dc:format>image/svg+xml</dc:format>\n    <dc:creator>\n     <cc:Agent>\n      <dc:title>Matplotlib v3.5.1, https://matplotlib.org/</dc:title>\n     </cc:Agent>\n    </dc:creator>\n   </cc:Work>\n  </rdf:RDF>\n </metadata>\n <defs>\n  <style type=\"text/css\">*{stroke-linejoin: round; stroke-linecap: butt}</style>\n </defs>\n <g id=\"figure_1\">\n  <g id=\"patch_1\">\n   <path d=\"M 0 584.596029 \nL 851.4 584.596029 \nL 851.4 0 \nL 0 0 \nL 0 584.596029 \nz\n\" style=\"fill: none\"/>\n  </g>\n  <g id=\"axes_1\">\n   <g id=\"patch_2\">\n    <path d=\"M 11.343564 265.350863 \nL 504.427723 265.350863 \nL 504.427723 232.945498 \nL 11.343564 232.945498 \nz\n\" clip-path=\"url(#pe3883d718c)\" style=\"fill: url(#h835231bd7d); stroke: #000000; stroke-linejoin: miter\"/>\n   </g>\n   <g id=\"patch_3\">\n    <path d=\"M 508.571287 265.350863 \nL 628.734653 265.350863 \nL 628.734653 232.945498 \nL 508.571287 232.945498 \nz\n\" clip-path=\"url(#pe3883d718c)\" style=\"fill: url(#h1a10cf1c32); stroke: #000000; stroke-linejoin: miter\"/>\n   </g>\n   <g id=\"patch_4\">\n    <path d=\"M 632.878218 265.350863 \nL 835.912871 265.350863 \nL 835.912871 232.945498 \nL 632.878218 232.945498 \nz\n\" clip-path=\"url(#pe3883d718c)\" style=\"fill: #808080; stroke: #000000; stroke-linejoin: miter\"/>\n   </g>\n   <g id=\"matplotlib.axis_1\"/>\n   <g id=\"matplotlib.axis_2\"/>\n   <g id=\"text_1\">\n    <!-- training folds -->\n    <g transform=\"translate(217.838207 277.502875)scale(0.14 -0.14)\">\n     <defs>\n      <path id=\"MalgunGothic-74\" d=\"M 2031 31 \nQ 1844 -72 1553 -72 \nQ 706 -72 706 881 \nL 706 2856 \nL 138 2856 \nL 138 3284 \nL 706 3284 \nL 706 4091 \nL 1200 4250 \nL 1200 3284 \nL 2031 3284 \nL 2031 2856 \nL 1200 2856 \nL 1200 972 \nQ 1200 625 1315 487 \nQ 1431 350 1691 350 \nQ 1888 350 2031 459 \nL 2031 31 \nz\n\" transform=\"scale(0.015625)\"/>\n      <path id=\"MalgunGothic-72\" d=\"M 2225 2775 \nQ 2084 2881 1828 2881 \nQ 1491 2881 1262 2553 \nQ 1034 2225 1034 1681 \nL 1034 0 \nL 538 0 \nL 538 3284 \nL 1034 3284 \nL 1034 2603 \nL 1047 2603 \nQ 1159 2950 1389 3145 \nQ 1619 3341 1903 3341 \nQ 2109 3341 2225 3297 \nL 2225 2775 \nz\n\" transform=\"scale(0.015625)\"/>\n      <path id=\"MalgunGothic-61\" d=\"M 616 3050 \nQ 1097 3359 1722 3359 \nQ 2866 3359 2866 2147 \nL 2866 0 \nL 2369 0 \nL 2369 516 \nL 2350 516 \nQ 2009 -78 1341 -78 \nQ 859 -78 576 180 \nQ 294 438 294 869 \nQ 294 1784 1375 1934 \nL 2366 2078 \nQ 2366 2934 1684 2934 \nQ 1084 2934 616 2525 \nL 616 3050 \nz\nM 1563 1559 \nQ 1178 1509 993 1371 \nQ 809 1234 809 903 \nQ 809 653 986 500 \nQ 1163 347 1450 347 \nQ 1847 347 2106 628 \nQ 2366 909 2366 1334 \nL 2366 1666 \nL 1563 1559 \nz\n\" transform=\"scale(0.015625)\"/>\n      <path id=\"MalgunGothic-69\" d=\"M 472 4466 \nQ 472 4606 565 4701 \nQ 659 4797 794 4797 \nQ 934 4797 1029 4700 \nQ 1125 4603 1125 4466 \nQ 1125 4325 1029 4231 \nQ 934 4138 794 4138 \nQ 659 4138 565 4230 \nQ 472 4322 472 4466 \nz\nM 541 0 \nL 541 3284 \nL 1034 3284 \nL 1034 0 \nL 541 0 \nz\n\" transform=\"scale(0.015625)\"/>\n      <path id=\"MalgunGothic-6e\" d=\"M 3238 0 \nL 2741 0 \nL 2741 1875 \nQ 2741 2941 1963 2941 \nQ 1563 2941 1298 2639 \nQ 1034 2338 1034 1872 \nL 1034 0 \nL 538 0 \nL 538 3284 \nL 1034 3284 \nL 1034 2734 \nL 1047 2734 \nQ 1416 3359 2125 3359 \nQ 2666 3359 2952 3012 \nQ 3238 2666 3238 2006 \nL 3238 0 \nz\n\" transform=\"scale(0.015625)\"/>\n      <path id=\"MalgunGothic-67\" d=\"M 3313 259 \nQ 3313 -1547 1603 -1547 \nQ 1003 -1547 538 -1313 \nL 538 -806 \nQ 1088 -1116 1600 -1116 \nQ 2822 -1116 2822 194 \nL 2822 559 \nL 2809 559 \nQ 2422 -78 1675 -78 \nQ 1066 -78 691 362 \nQ 316 803 316 1534 \nQ 316 2375 722 2867 \nQ 1128 3359 1816 3359 \nQ 2484 3359 2809 2822 \nL 2822 2822 \nL 2822 3284 \nL 3313 3284 \nL 3313 259 \nz\nM 2822 1978 \nQ 2822 2378 2547 2659 \nQ 2272 2941 1878 2941 \nQ 1384 2941 1101 2577 \nQ 819 2213 819 1572 \nQ 819 1016 1092 680 \nQ 1366 344 1803 344 \nQ 2247 344 2534 666 \nQ 2822 988 2822 1478 \nL 2822 1978 \nz\n\" transform=\"scale(0.015625)\"/>\n      <path id=\"MalgunGothic-20\" transform=\"scale(0.015625)\"/>\n      <path id=\"MalgunGothic-66\" d=\"M 2128 4422 \nQ 1975 4506 1778 4506 \nQ 1222 4506 1222 3800 \nL 1222 3284 \nL 1991 3284 \nL 1991 2856 \nL 1222 2856 \nL 1222 0 \nL 734 0 \nL 734 2856 \nL 172 2856 \nL 172 3284 \nL 734 3284 \nL 734 3825 \nQ 734 4341 1026 4636 \nQ 1319 4931 1753 4931 \nQ 1994 4931 2128 4875 \nL 2128 4422 \nz\n\" transform=\"scale(0.015625)\"/>\n      <path id=\"MalgunGothic-6f\" d=\"M 316 1600 \nQ 316 2419 761 2889 \nQ 1206 3359 1978 3359 \nQ 2697 3359 3111 2907 \nQ 3525 2456 3525 1650 \nQ 3525 869 3078 395 \nQ 2631 -78 1900 -78 \nQ 1184 -78 750 384 \nQ 316 847 316 1600 \nz\nM 819 1622 \nQ 819 1041 1123 692 \nQ 1428 344 1934 344 \nQ 2459 344 2739 680 \nQ 3019 1016 3019 1634 \nQ 3019 2256 2737 2598 \nQ 2456 2941 1934 2941 \nQ 1425 2941 1122 2587 \nQ 819 2234 819 1622 \nz\n\" transform=\"scale(0.015625)\"/>\n      <path id=\"MalgunGothic-6c\" d=\"M 541 0 \nL 541 4859 \nL 1034 4859 \nL 1034 0 \nL 541 0 \nz\n\" transform=\"scale(0.015625)\"/>\n      <path id=\"MalgunGothic-64\" d=\"M 3313 0 \nL 2822 0 \nL 2822 566 \nL 2809 566 \nQ 2444 -78 1675 -78 \nQ 1056 -78 686 364 \nQ 316 806 316 1566 \nQ 316 2375 728 2867 \nQ 1141 3359 1816 3359 \nQ 2494 3359 2809 2822 \nL 2822 2822 \nL 2822 4859 \nL 3313 4859 \nL 3313 0 \nz\nM 2822 1978 \nQ 2822 2378 2550 2659 \nQ 2278 2941 1872 2941 \nQ 1384 2941 1101 2577 \nQ 819 2213 819 1591 \nQ 819 1025 1086 684 \nQ 1353 344 1813 344 \nQ 2250 344 2536 666 \nQ 2822 988 2822 1478 \nL 2822 1978 \nz\n\" transform=\"scale(0.015625)\"/>\n      <path id=\"MalgunGothic-73\" d=\"M 331 669 \nQ 763 350 1278 350 \nQ 1978 350 1978 822 \nQ 1978 1025 1825 1158 \nQ 1672 1291 1222 1459 \nQ 703 1666 520 1878 \nQ 338 2091 338 2416 \nQ 338 2834 700 3096 \nQ 1063 3359 1584 3359 \nQ 2003 3359 2341 3213 \nL 2341 2697 \nQ 1975 2934 1506 2934 \nQ 1200 2934 1025 2798 \nQ 850 2663 850 2459 \nQ 850 2241 979 2125 \nQ 1109 2009 1544 1838 \nQ 2131 1609 2309 1390 \nQ 2488 1172 2488 869 \nQ 2488 431 2127 176 \nQ 1766 -78 1203 -78 \nQ 694 -78 331 122 \nL 331 669 \nz\n\" transform=\"scale(0.015625)\"/>\n     </defs>\n     <use xlink:href=\"#MalgunGothic-74\"/>\n     <use xlink:href=\"#MalgunGothic-72\" x=\"34.472656\"/>\n     <use xlink:href=\"#MalgunGothic-61\" x=\"69.824219\"/>\n     <use xlink:href=\"#MalgunGothic-69\" x=\"121.826172\"/>\n     <use xlink:href=\"#MalgunGothic-6e\" x=\"146.435547\"/>\n     <use xlink:href=\"#MalgunGothic-69\" x=\"204.248047\"/>\n     <use xlink:href=\"#MalgunGothic-6e\" x=\"228.857422\"/>\n     <use xlink:href=\"#MalgunGothic-67\" x=\"286.669922\"/>\n     <use xlink:href=\"#MalgunGothic-20\" x=\"346.875\"/>\n     <use xlink:href=\"#MalgunGothic-66\" x=\"382.03125\"/>\n     <use xlink:href=\"#MalgunGothic-6f\" x=\"413.671875\"/>\n     <use xlink:href=\"#MalgunGothic-6c\" x=\"473.583984\"/>\n     <use xlink:href=\"#MalgunGothic-64\" x=\"498.193359\"/>\n     <use xlink:href=\"#MalgunGothic-73\" x=\"558.398438\"/>\n    </g>\n   </g>\n   <g id=\"text_2\">\n    <!-- validation fold -->\n    <g transform=\"translate(525.33194 277.502875)scale(0.14 -0.14)\">\n     <defs>\n      <path id=\"MalgunGothic-76\" d=\"M 3084 3284 \nL 1769 0 \nL 1294 0 \nL 47 3284 \nL 594 3284 \nL 1441 872 \nQ 1531 609 1556 425 \nL 1572 425 \nQ 1603 669 1672 863 \nL 2563 3284 \nL 3084 3284 \nz\n\" transform=\"scale(0.015625)\"/>\n     </defs>\n     <use xlink:href=\"#MalgunGothic-76\"/>\n     <use xlink:href=\"#MalgunGothic-61\" x=\"46.730469\"/>\n     <use xlink:href=\"#MalgunGothic-6c\" x=\"98.732422\"/>\n     <use xlink:href=\"#MalgunGothic-69\" x=\"123.341797\"/>\n     <use xlink:href=\"#MalgunGothic-64\" x=\"147.951172\"/>\n     <use xlink:href=\"#MalgunGothic-61\" x=\"208.15625\"/>\n     <use xlink:href=\"#MalgunGothic-74\" x=\"260.158203\"/>\n     <use xlink:href=\"#MalgunGothic-69\" x=\"294.630859\"/>\n     <use xlink:href=\"#MalgunGothic-6f\" x=\"319.240234\"/>\n     <use xlink:href=\"#MalgunGothic-6e\" x=\"379.152344\"/>\n     <use xlink:href=\"#MalgunGothic-20\" x=\"436.964844\"/>\n     <use xlink:href=\"#MalgunGothic-66\" x=\"472.121094\"/>\n     <use xlink:href=\"#MalgunGothic-6f\" x=\"503.761719\"/>\n     <use xlink:href=\"#MalgunGothic-6c\" x=\"563.673828\"/>\n     <use xlink:href=\"#MalgunGothic-64\" x=\"588.283203\"/>\n    </g>\n   </g>\n   <g id=\"text_3\">\n    <!-- test set -->\n    <g transform=\"translate(713.273264 277.502875)scale(0.14 -0.14)\">\n     <defs>\n      <path id=\"MalgunGothic-65\" d=\"M 3156 1519 \nL 828 1519 \nQ 844 950 1133 648 \nQ 1422 347 1909 347 \nQ 2472 347 2934 719 \nL 2934 244 \nQ 2494 -78 1794 -78 \nQ 1100 -78 708 376 \nQ 316 831 316 1634 \nQ 316 2381 747 2870 \nQ 1178 3359 1816 3359 \nQ 2453 3359 2804 2942 \nQ 3156 2525 3156 1788 \nL 3156 1519 \nz\nM 2644 1956 \nQ 2644 2416 2423 2675 \nQ 2203 2934 1809 2934 \nQ 1438 2934 1169 2667 \nQ 900 2400 834 1956 \nL 2644 1956 \nz\n\" transform=\"scale(0.015625)\"/>\n     </defs>\n     <use xlink:href=\"#MalgunGothic-74\"/>\n     <use xlink:href=\"#MalgunGothic-65\" x=\"33.597656\"/>\n     <use xlink:href=\"#MalgunGothic-73\" x=\"87.113281\"/>\n     <use xlink:href=\"#MalgunGothic-74\" x=\"130.423828\"/>\n     <use xlink:href=\"#MalgunGothic-20\" x=\"164.896484\"/>\n     <use xlink:href=\"#MalgunGothic-73\" x=\"200.052734\"/>\n     <use xlink:href=\"#MalgunGothic-65\" x=\"243.363281\"/>\n     <use xlink:href=\"#MalgunGothic-74\" x=\"296.878906\"/>\n    </g>\n   </g>\n   <g id=\"patch_5\">\n    <path d=\"M 322.110891 202.796896 \nQ 322.110891 206.746782 322.110891 210.696668 \n\" style=\"fill: none; stroke: #000000; stroke-width: 2; stroke-linecap: round\"/>\n    <path d=\"M 22.110891 214.696668 \nL 22.110891 210.696668 \nL 622.110891 210.696668 \nL 622.110891 214.696668 \n\" style=\"fill: none; stroke: #000000; stroke-width: 2; stroke-linecap: round\"/>\n   </g>\n   <g id=\"text_4\">\n    <g id=\"patch_6\">\n     <path d=\"M 277.917141 200.293701 \nL 366.304641 200.293701 \nL 366.304641 168.381201 \nL 277.917141 168.381201 \nz\n\" style=\"fill: #ffffff; stroke: #000000; stroke-linejoin: miter\"/>\n    </g>\n    <!-- scaler fit -->\n    <g transform=\"translate(283.917141 189.565576)scale(0.2 -0.2)\">\n     <defs>\n      <path id=\"MalgunGothic-63\" d=\"M 2763 153 \nQ 2375 -78 1872 -78 \nQ 1184 -78 750 372 \nQ 316 822 316 1566 \nQ 316 2381 777 2870 \nQ 1238 3359 2009 3359 \nQ 2434 3359 2766 3200 \nL 2766 2681 \nQ 2397 2941 1981 2941 \nQ 1478 2941 1148 2577 \nQ 819 2213 819 1609 \nQ 819 1034 1120 689 \nQ 1422 344 1947 344 \nQ 2381 344 2763 631 \nL 2763 153 \nz\n\" transform=\"scale(0.015625)\"/>\n     </defs>\n     <use xlink:href=\"#MalgunGothic-73\"/>\n     <use xlink:href=\"#MalgunGothic-63\" x=\"43.310547\"/>\n     <use xlink:href=\"#MalgunGothic-61\" x=\"90.576172\"/>\n     <use xlink:href=\"#MalgunGothic-6c\" x=\"142.578125\"/>\n     <use xlink:href=\"#MalgunGothic-65\" x=\"167.1875\"/>\n     <use xlink:href=\"#MalgunGothic-72\" x=\"220.703125\"/>\n     <use xlink:href=\"#MalgunGothic-20\" x=\"256.054688\"/>\n     <use xlink:href=\"#MalgunGothic-66\" x=\"291.210938\"/>\n     <use xlink:href=\"#MalgunGothic-69\" x=\"322.851562\"/>\n     <use xlink:href=\"#MalgunGothic-74\" x=\"347.460938\"/>\n    </g>\n   </g>\n   <g id=\"patch_7\">\n    <path d=\"M 259.957426 121.783766 \nQ 259.957426 131.807444 259.957426 141.831122 \n\" style=\"fill: none; stroke: #000000; stroke-width: 2; stroke-linecap: round\"/>\n    <path d=\"M 19.957426 145.831122 \nL 19.957426 141.831122 \nL 499.957426 141.831122 \nL 499.957426 145.831122 \n\" style=\"fill: none; stroke: #000000; stroke-width: 2; stroke-linecap: round\"/>\n   </g>\n   <g id=\"text_5\">\n    <g id=\"patch_8\">\n     <path d=\"M 223.474613 119.280288 \nL 296.440238 119.280288 \nL 296.440238 87.367788 \nL 223.474613 87.367788 \nz\n\" style=\"fill: #ffffff; stroke: #000000; stroke-linejoin: miter\"/>\n    </g>\n    <!-- SVC fit -->\n    <g transform=\"translate(229.474613 108.552163)scale(0.2 -0.2)\">\n     <defs>\n      <path id=\"MalgunGothic-53\" d=\"M 394 797 \nQ 606 613 964 500 \nQ 1322 388 1625 388 \nQ 2628 388 2628 1116 \nQ 2628 1325 2523 1484 \nQ 2419 1644 2250 1756 \nQ 2081 1869 1547 2144 \nQ 903 2475 651 2754 \nQ 400 3034 400 3456 \nQ 400 4019 858 4347 \nQ 1316 4675 1988 4675 \nQ 2669 4675 2963 4513 \nL 2963 3928 \nQ 2563 4206 1922 4206 \nQ 1484 4206 1207 4018 \nQ 931 3831 931 3500 \nQ 931 3200 1126 3011 \nQ 1322 2822 1938 2522 \nQ 2656 2163 2906 1844 \nQ 3156 1525 3156 1153 \nQ 3156 556 2725 239 \nQ 2294 -78 1531 -78 \nQ 1291 -78 927 -1 \nQ 563 75 394 188 \nL 394 797 \nz\n\" transform=\"scale(0.015625)\"/>\n      <path id=\"MalgunGothic-56\" d=\"M 4000 4600 \nL 2288 0 \nL 1734 0 \nL 59 4600 \nL 625 4600 \nL 1919 922 \nQ 1978 750 2009 519 \nL 2025 519 \nQ 2050 713 2128 928 \nL 3453 4600 \nL 4000 4600 \nz\n\" transform=\"scale(0.015625)\"/>\n      <path id=\"MalgunGothic-43\" d=\"M 3725 197 \nQ 3216 -78 2459 -78 \nQ 1488 -78 897 561 \nQ 306 1200 306 2213 \nQ 306 3281 959 3978 \nQ 1613 4675 2644 4675 \nQ 3297 4675 3725 4484 \nL 3725 3941 \nQ 3234 4213 2634 4213 \nQ 1813 4213 1325 3659 \nQ 838 3106 838 2241 \nQ 838 1413 1297 897 \nQ 1756 381 2522 381 \nQ 3216 381 3725 688 \nL 3725 197 \nz\n\" transform=\"scale(0.015625)\"/>\n     </defs>\n     <use xlink:href=\"#MalgunGothic-53\"/>\n     <use xlink:href=\"#MalgunGothic-56\" x=\"54.296875\"/>\n     <use xlink:href=\"#MalgunGothic-43\" x=\"115.474609\"/>\n     <use xlink:href=\"#MalgunGothic-20\" x=\"178.951172\"/>\n     <use xlink:href=\"#MalgunGothic-66\" x=\"214.107422\"/>\n     <use xlink:href=\"#MalgunGothic-69\" x=\"245.748047\"/>\n     <use xlink:href=\"#MalgunGothic-74\" x=\"270.357422\"/>\n    </g>\n   </g>\n   <g id=\"patch_9\">\n    <path d=\"M 566.581188 121.783766 \nQ 566.581188 131.807444 566.581188 141.831122 \n\" style=\"fill: none; stroke: #000000; stroke-width: 2; stroke-linecap: round\"/>\n    <path d=\"M 516.581188 145.831122 \nL 516.581188 141.831122 \nL 616.581188 141.831122 \nL 616.581188 145.831122 \n\" style=\"fill: none; stroke: #000000; stroke-width: 2; stroke-linecap: round\"/>\n   </g>\n   <g id=\"text_6\">\n    <g id=\"patch_10\">\n     <path d=\"M 507.759313 119.280288 \nL 625.403063 119.280288 \nL 625.403063 87.367788 \nL 507.759313 87.367788 \nz\n\" style=\"fill: #ffffff; stroke: #000000; stroke-linejoin: miter\"/>\n    </g>\n    <!-- SVC predict -->\n    <g transform=\"translate(513.759313 108.552163)scale(0.2 -0.2)\">\n     <defs>\n      <path id=\"MalgunGothic-70\" d=\"M 1034 481 \nL 1034 -1513 \nL 538 -1513 \nL 538 3284 \nL 1034 3284 \nL 1034 2703 \nL 1047 2703 \nQ 1438 3359 2184 3359 \nQ 2809 3359 3171 2920 \nQ 3534 2481 3534 1738 \nQ 3534 906 3126 414 \nQ 2719 -78 2034 -78 \nQ 1394 -78 1047 481 \nL 1034 481 \nz\nM 1034 1331 \nQ 1034 922 1307 633 \nQ 1581 344 1991 344 \nQ 2475 344 2751 716 \nQ 3028 1088 3028 1753 \nQ 3028 2300 2767 2620 \nQ 2506 2941 2072 2941 \nQ 1619 2941 1326 2619 \nQ 1034 2297 1034 1806 \nL 1034 1331 \nz\n\" transform=\"scale(0.015625)\"/>\n     </defs>\n     <use xlink:href=\"#MalgunGothic-53\"/>\n     <use xlink:href=\"#MalgunGothic-56\" x=\"54.296875\"/>\n     <use xlink:href=\"#MalgunGothic-43\" x=\"115.474609\"/>\n     <use xlink:href=\"#MalgunGothic-20\" x=\"178.951172\"/>\n     <use xlink:href=\"#MalgunGothic-70\" x=\"214.107422\"/>\n     <use xlink:href=\"#MalgunGothic-72\" x=\"274.166016\"/>\n     <use xlink:href=\"#MalgunGothic-65\" x=\"308.142578\"/>\n     <use xlink:href=\"#MalgunGothic-64\" x=\"361.658203\"/>\n     <use xlink:href=\"#MalgunGothic-69\" x=\"421.863281\"/>\n     <use xlink:href=\"#MalgunGothic-63\" x=\"446.472656\"/>\n     <use xlink:href=\"#MalgunGothic-74\" x=\"493.738281\"/>\n    </g>\n   </g>\n   <g id=\"text_7\">\n    <!-- Cross validation -->\n    <g transform=\"translate(382.733437 16.310625)scale(0.12 -0.12)\">\n     <use xlink:href=\"#MalgunGothic-43\"/>\n     <use xlink:href=\"#MalgunGothic-72\" x=\"63.476562\"/>\n     <use xlink:href=\"#MalgunGothic-6f\" x=\"97.453125\"/>\n     <use xlink:href=\"#MalgunGothic-73\" x=\"157.365234\"/>\n     <use xlink:href=\"#MalgunGothic-73\" x=\"200.675781\"/>\n     <use xlink:href=\"#MalgunGothic-20\" x=\"243.986328\"/>\n     <use xlink:href=\"#MalgunGothic-76\" x=\"279.142578\"/>\n     <use xlink:href=\"#MalgunGothic-61\" x=\"325.873047\"/>\n     <use xlink:href=\"#MalgunGothic-6c\" x=\"377.875\"/>\n     <use xlink:href=\"#MalgunGothic-69\" x=\"402.484375\"/>\n     <use xlink:href=\"#MalgunGothic-64\" x=\"427.09375\"/>\n     <use xlink:href=\"#MalgunGothic-61\" x=\"487.298828\"/>\n     <use xlink:href=\"#MalgunGothic-74\" x=\"539.300781\"/>\n     <use xlink:href=\"#MalgunGothic-69\" x=\"573.773438\"/>\n     <use xlink:href=\"#MalgunGothic-6f\" x=\"598.382812\"/>\n     <use xlink:href=\"#MalgunGothic-6e\" x=\"658.294922\"/>\n    </g>\n   </g>\n  </g>\n  <g id=\"axes_2\">\n   <g id=\"patch_11\">\n    <path d=\"M 11.343564 561.859954 \nL 504.427723 561.859954 \nL 504.427723 529.454589 \nL 11.343564 529.454589 \nz\n\" clip-path=\"url(#p72f16ed324)\" style=\"fill: url(#h835231bd7d); stroke: #000000; stroke-linejoin: miter\"/>\n   </g>\n   <g id=\"patch_12\">\n    <path d=\"M 508.571287 561.859954 \nL 628.734653 561.859954 \nL 628.734653 529.454589 \nL 508.571287 529.454589 \nz\n\" clip-path=\"url(#p72f16ed324)\" style=\"fill: url(#h1a10cf1c32); stroke: #000000; stroke-linejoin: miter\"/>\n   </g>\n   <g id=\"patch_13\">\n    <path d=\"M 632.878218 561.859954 \nL 835.912871 561.859954 \nL 835.912871 529.454589 \nL 632.878218 529.454589 \nz\n\" clip-path=\"url(#p72f16ed324)\" style=\"fill: #808080; stroke: #000000; stroke-linejoin: miter\"/>\n   </g>\n   <g id=\"matplotlib.axis_3\"/>\n   <g id=\"matplotlib.axis_4\"/>\n   <g id=\"text_8\">\n    <!-- training folds -->\n    <g transform=\"translate(217.838207 574.011966)scale(0.14 -0.14)\">\n     <use xlink:href=\"#MalgunGothic-74\"/>\n     <use xlink:href=\"#MalgunGothic-72\" x=\"34.472656\"/>\n     <use xlink:href=\"#MalgunGothic-61\" x=\"69.824219\"/>\n     <use xlink:href=\"#MalgunGothic-69\" x=\"121.826172\"/>\n     <use xlink:href=\"#MalgunGothic-6e\" x=\"146.435547\"/>\n     <use xlink:href=\"#MalgunGothic-69\" x=\"204.248047\"/>\n     <use xlink:href=\"#MalgunGothic-6e\" x=\"228.857422\"/>\n     <use xlink:href=\"#MalgunGothic-67\" x=\"286.669922\"/>\n     <use xlink:href=\"#MalgunGothic-20\" x=\"346.875\"/>\n     <use xlink:href=\"#MalgunGothic-66\" x=\"382.03125\"/>\n     <use xlink:href=\"#MalgunGothic-6f\" x=\"413.671875\"/>\n     <use xlink:href=\"#MalgunGothic-6c\" x=\"473.583984\"/>\n     <use xlink:href=\"#MalgunGothic-64\" x=\"498.193359\"/>\n     <use xlink:href=\"#MalgunGothic-73\" x=\"558.398438\"/>\n    </g>\n   </g>\n   <g id=\"text_9\">\n    <!-- validation fold -->\n    <g transform=\"translate(525.33194 574.011966)scale(0.14 -0.14)\">\n     <use xlink:href=\"#MalgunGothic-76\"/>\n     <use xlink:href=\"#MalgunGothic-61\" x=\"46.730469\"/>\n     <use xlink:href=\"#MalgunGothic-6c\" x=\"98.732422\"/>\n     <use xlink:href=\"#MalgunGothic-69\" x=\"123.341797\"/>\n     <use xlink:href=\"#MalgunGothic-64\" x=\"147.951172\"/>\n     <use xlink:href=\"#MalgunGothic-61\" x=\"208.15625\"/>\n     <use xlink:href=\"#MalgunGothic-74\" x=\"260.158203\"/>\n     <use xlink:href=\"#MalgunGothic-69\" x=\"294.630859\"/>\n     <use xlink:href=\"#MalgunGothic-6f\" x=\"319.240234\"/>\n     <use xlink:href=\"#MalgunGothic-6e\" x=\"379.152344\"/>\n     <use xlink:href=\"#MalgunGothic-20\" x=\"436.964844\"/>\n     <use xlink:href=\"#MalgunGothic-66\" x=\"472.121094\"/>\n     <use xlink:href=\"#MalgunGothic-6f\" x=\"503.761719\"/>\n     <use xlink:href=\"#MalgunGothic-6c\" x=\"563.673828\"/>\n     <use xlink:href=\"#MalgunGothic-64\" x=\"588.283203\"/>\n    </g>\n   </g>\n   <g id=\"text_10\">\n    <!-- test set -->\n    <g transform=\"translate(713.273264 574.011966)scale(0.14 -0.14)\">\n     <use xlink:href=\"#MalgunGothic-74\"/>\n     <use xlink:href=\"#MalgunGothic-65\" x=\"33.597656\"/>\n     <use xlink:href=\"#MalgunGothic-73\" x=\"87.113281\"/>\n     <use xlink:href=\"#MalgunGothic-74\" x=\"130.423828\"/>\n     <use xlink:href=\"#MalgunGothic-20\" x=\"164.896484\"/>\n     <use xlink:href=\"#MalgunGothic-73\" x=\"200.052734\"/>\n     <use xlink:href=\"#MalgunGothic-65\" x=\"243.363281\"/>\n     <use xlink:href=\"#MalgunGothic-74\" x=\"296.878906\"/>\n    </g>\n   </g>\n   <g id=\"patch_14\">\n    <path d=\"M 322.110891 499.305987 \nQ 322.110891 503.255873 322.110891 507.205758 \n\" style=\"fill: none; stroke: #000000; stroke-width: 2; stroke-linecap: round\"/>\n    <path d=\"M 22.110891 511.205758 \nL 22.110891 507.205758 \nL 622.110891 507.205758 \nL 622.110891 511.205758 \n\" style=\"fill: none; stroke: #000000; stroke-width: 2; stroke-linecap: round\"/>\n   </g>\n   <g id=\"text_11\">\n    <g id=\"patch_15\">\n     <path d=\"M 277.917141 496.802792 \nL 366.304641 496.802792 \nL 366.304641 464.890292 \nL 277.917141 464.890292 \nz\n\" style=\"fill: #ffffff; stroke: #000000; stroke-linejoin: miter\"/>\n    </g>\n    <!-- scaler fit -->\n    <g transform=\"translate(283.917141 486.074667)scale(0.2 -0.2)\">\n     <use xlink:href=\"#MalgunGothic-73\"/>\n     <use xlink:href=\"#MalgunGothic-63\" x=\"43.310547\"/>\n     <use xlink:href=\"#MalgunGothic-61\" x=\"90.576172\"/>\n     <use xlink:href=\"#MalgunGothic-6c\" x=\"142.578125\"/>\n     <use xlink:href=\"#MalgunGothic-65\" x=\"167.1875\"/>\n     <use xlink:href=\"#MalgunGothic-72\" x=\"220.703125\"/>\n     <use xlink:href=\"#MalgunGothic-20\" x=\"256.054688\"/>\n     <use xlink:href=\"#MalgunGothic-66\" x=\"291.210938\"/>\n     <use xlink:href=\"#MalgunGothic-69\" x=\"322.851562\"/>\n     <use xlink:href=\"#MalgunGothic-74\" x=\"347.460938\"/>\n    </g>\n   </g>\n   <g id=\"patch_16\">\n    <path d=\"M 322.110891 418.292857 \nQ 322.110891 428.316535 322.110891 438.340213 \n\" style=\"fill: none; stroke: #000000; stroke-width: 2; stroke-linecap: round\"/>\n    <path d=\"M 22.110891 442.340213 \nL 22.110891 438.340213 \nL 622.110891 438.340213 \nL 622.110891 442.340213 \n\" style=\"fill: none; stroke: #000000; stroke-width: 2; stroke-linecap: round\"/>\n   </g>\n   <g id=\"text_12\">\n    <g id=\"patch_17\">\n     <path d=\"M 285.628079 415.789379 \nL 358.593704 415.789379 \nL 358.593704 383.876879 \nL 285.628079 383.876879 \nz\n\" style=\"fill: #ffffff; stroke: #000000; stroke-linejoin: miter\"/>\n    </g>\n    <!-- SVC fit -->\n    <g transform=\"translate(291.628079 405.061254)scale(0.2 -0.2)\">\n     <use xlink:href=\"#MalgunGothic-53\"/>\n     <use xlink:href=\"#MalgunGothic-56\" x=\"54.296875\"/>\n     <use xlink:href=\"#MalgunGothic-43\" x=\"115.474609\"/>\n     <use xlink:href=\"#MalgunGothic-20\" x=\"178.951172\"/>\n     <use xlink:href=\"#MalgunGothic-66\" x=\"214.107422\"/>\n     <use xlink:href=\"#MalgunGothic-69\" x=\"245.748047\"/>\n     <use xlink:href=\"#MalgunGothic-74\" x=\"270.357422\"/>\n    </g>\n   </g>\n   <g id=\"patch_18\">\n    <path d=\"M 736.467327 418.292857 \nQ 736.467327 428.316535 736.467327 438.340213 \n\" style=\"fill: none; stroke: #000000; stroke-width: 2; stroke-linecap: round\"/>\n    <path d=\"M 640.467327 442.340213 \nL 640.467327 438.340213 \nL 832.467327 438.340213 \nL 832.467327 442.340213 \n\" style=\"fill: none; stroke: #000000; stroke-width: 2; stroke-linecap: round\"/>\n   </g>\n   <g id=\"text_13\">\n    <g id=\"patch_19\">\n     <path d=\"M 677.645452 415.789379 \nL 795.289202 415.789379 \nL 795.289202 383.876879 \nL 677.645452 383.876879 \nz\n\" style=\"fill: #ffffff; stroke: #000000; stroke-linejoin: miter\"/>\n    </g>\n    <!-- SVC predict -->\n    <g transform=\"translate(683.645452 405.061254)scale(0.2 -0.2)\">\n     <use xlink:href=\"#MalgunGothic-53\"/>\n     <use xlink:href=\"#MalgunGothic-56\" x=\"54.296875\"/>\n     <use xlink:href=\"#MalgunGothic-43\" x=\"115.474609\"/>\n     <use xlink:href=\"#MalgunGothic-20\" x=\"178.951172\"/>\n     <use xlink:href=\"#MalgunGothic-70\" x=\"214.107422\"/>\n     <use xlink:href=\"#MalgunGothic-72\" x=\"274.166016\"/>\n     <use xlink:href=\"#MalgunGothic-65\" x=\"308.142578\"/>\n     <use xlink:href=\"#MalgunGothic-64\" x=\"361.658203\"/>\n     <use xlink:href=\"#MalgunGothic-69\" x=\"421.863281\"/>\n     <use xlink:href=\"#MalgunGothic-63\" x=\"446.472656\"/>\n     <use xlink:href=\"#MalgunGothic-74\" x=\"493.738281\"/>\n    </g>\n   </g>\n   <g id=\"text_14\">\n    <!-- Test set prediction -->\n    <g transform=\"translate(375.804375 312.819716)scale(0.12 -0.12)\">\n     <defs>\n      <path id=\"MalgunGothic-54\" d=\"M 3294 4134 \nL 1966 4134 \nL 1966 0 \nL 1456 0 \nL 1456 4134 \nL 134 4134 \nL 134 4600 \nL 3294 4600 \nL 3294 4134 \nz\n\" transform=\"scale(0.015625)\"/>\n     </defs>\n     <use xlink:href=\"#MalgunGothic-54\"/>\n     <use xlink:href=\"#MalgunGothic-65\" x=\"42.244141\"/>\n     <use xlink:href=\"#MalgunGothic-73\" x=\"95.759766\"/>\n     <use xlink:href=\"#MalgunGothic-74\" x=\"139.070312\"/>\n     <use xlink:href=\"#MalgunGothic-20\" x=\"173.542969\"/>\n     <use xlink:href=\"#MalgunGothic-73\" x=\"208.699219\"/>\n     <use xlink:href=\"#MalgunGothic-65\" x=\"252.009766\"/>\n     <use xlink:href=\"#MalgunGothic-74\" x=\"305.525391\"/>\n     <use xlink:href=\"#MalgunGothic-20\" x=\"339.998047\"/>\n     <use xlink:href=\"#MalgunGothic-70\" x=\"375.154297\"/>\n     <use xlink:href=\"#MalgunGothic-72\" x=\"435.212891\"/>\n     <use xlink:href=\"#MalgunGothic-65\" x=\"469.189453\"/>\n     <use xlink:href=\"#MalgunGothic-64\" x=\"522.705078\"/>\n     <use xlink:href=\"#MalgunGothic-69\" x=\"582.910156\"/>\n     <use xlink:href=\"#MalgunGothic-63\" x=\"607.519531\"/>\n     <use xlink:href=\"#MalgunGothic-74\" x=\"654.785156\"/>\n     <use xlink:href=\"#MalgunGothic-69\" x=\"689.257812\"/>\n     <use xlink:href=\"#MalgunGothic-6f\" x=\"713.867188\"/>\n     <use xlink:href=\"#MalgunGothic-6e\" x=\"773.779297\"/>\n    </g>\n   </g>\n  </g>\n </g>\n <defs>\n  <clipPath id=\"pe3883d718c\">\n   <rect x=\"7.2\" y=\"22.310625\" width=\"837\" height=\"247.090909\"/>\n  </clipPath>\n  <clipPath id=\"p72f16ed324\">\n   <rect x=\"7.2\" y=\"318.819716\" width=\"837\" height=\"247.090909\"/>\n  </clipPath>\n </defs>\n <defs>\n  <pattern id=\"h835231bd7d\" patternUnits=\"userSpaceOnUse\" x=\"0\" y=\"0\" width=\"72\" height=\"72\">\n   <rect x=\"0\" y=\"0\" width=\"73\" height=\"73\" fill=\"#ffffff\"/>\n   <path d=\"M -36 36 \nL 36 -36 \nM -30 42 \nL 42 -30 \nM -24 48 \nL 48 -24 \nM -18 54 \nL 54 -18 \nM -12 60 \nL 60 -12 \nM -6 66 \nL 66 -6 \nM 0 72 \nL 72 0 \nM 6 78 \nL 78 6 \nM 12 84 \nL 84 12 \nM 18 90 \nL 90 18 \nM 24 96 \nL 96 24 \nM 30 102 \nL 102 30 \nM 36 108 \nL 108 36 \n\" style=\"fill: #000000; stroke: #000000; stroke-width: 1.0; stroke-linecap: butt; stroke-linejoin: miter\"/>\n  </pattern>\n  <pattern id=\"h1a10cf1c32\" patternUnits=\"userSpaceOnUse\" x=\"0\" y=\"0\" width=\"72\" height=\"72\">\n   <rect x=\"0\" y=\"0\" width=\"73\" height=\"73\" fill=\"#808080\"/>\n   <path d=\"M -36 36 \nL 36 -36 \nM -30 42 \nL 42 -30 \nM -24 48 \nL 48 -24 \nM -18 54 \nL 54 -18 \nM -12 60 \nL 60 -12 \nM -6 66 \nL 66 -6 \nM 0 72 \nL 72 0 \nM 6 78 \nL 78 6 \nM 12 84 \nL 84 12 \nM 18 90 \nL 90 18 \nM 24 96 \nL 96 24 \nM 30 102 \nL 102 30 \nM 36 108 \nL 108 36 \n\" style=\"fill: #000000; stroke: #000000; stroke-width: 1.0; stroke-linecap: butt; stroke-linejoin: miter\"/>\n  </pattern>\n </defs>\n</svg>\n",
      "text/plain": [
       "<Figure size 1080x720 with 2 Axes>"
      ]
     },
     "metadata": {},
     "output_type": "display_data"
    }
   ],
   "source": [
    "mglearn.plots.plot_improper_processing()"
   ]
  },
  {
   "cell_type": "code",
   "execution_count": 6,
   "metadata": {},
   "outputs": [],
   "source": [
    "cancer = load_breast_cancer()"
   ]
  },
  {
   "cell_type": "code",
   "execution_count": 7,
   "metadata": {},
   "outputs": [],
   "source": [
    "X_train, X_test, y_train, y_test = train_test_split(cancer['data'], cancer['target'], random_state=0)"
   ]
  },
  {
   "cell_type": "code",
   "execution_count": 9,
   "metadata": {},
   "outputs": [],
   "source": [
    "pipe = make_pipeline(MinMaxScaler(), SVC())"
   ]
  },
  {
   "cell_type": "code",
   "execution_count": 13,
   "metadata": {},
   "outputs": [],
   "source": [
    "param_grid = {'svc__C':np.logspace(-3, 1, 5), 'svc__gamma':np.logspace(-3, 1, 5)}\n",
    "grid = GridSearchCV(pipe, param_grid=param_grid, cv=5, scoring='average_precision').fit(X_train, y_train)"
   ]
  },
  {
   "cell_type": "code",
   "execution_count": 15,
   "metadata": {},
   "outputs": [
    {
     "data": {
      "text/plain": [
       "({'svc__C': 10.0, 'svc__gamma': 1.0},\n",
       " 0.9958120196256701,\n",
       " 0.9990400239755808,\n",
       " 0.9700353967020633)"
      ]
     },
     "execution_count": 15,
     "metadata": {},
     "output_type": "execute_result"
    }
   ],
   "source": [
    "grid.best_params_, grid.best_score_, grid.score(X_test, y_test), average_precision_score(y_test, grid.predict(X_test))"
   ]
  },
  {
   "cell_type": "code",
   "execution_count": 16,
   "metadata": {},
   "outputs": [],
   "source": [
    "param_grid = {'svc__C':np.logspace(-3, 1, 5), 'svc__gamma':np.logspace(-3, 1, 5)}\n",
    "grid = GridSearchCV(pipe, param_grid=param_grid, cv=5, scoring='roc_auc').fit(X_train, y_train)"
   ]
  },
  {
   "cell_type": "code",
   "execution_count": 18,
   "metadata": {},
   "outputs": [
    {
     "data": {
      "text/plain": [
       "({'svc__C': 10.0, 'svc__gamma': 1.0},\n",
       " 0.9938601756046979,\n",
       " 0.9983228511530399,\n",
       " 0.970020964360587,\n",
       " 0.972027972027972)"
      ]
     },
     "execution_count": 18,
     "metadata": {},
     "output_type": "execute_result"
    }
   ],
   "source": [
    "grid.best_params_, grid.best_score_, grid.score(X_test, y_test), roc_auc_score(y_test, grid.predict(X_test)), accuracy_score(y_test, grid.predict(X_test))"
   ]
  },
  {
   "cell_type": "code",
   "execution_count": 20,
   "metadata": {},
   "outputs": [
    {
     "data": {
      "text/html": [
       "<div>\n",
       "<style scoped>\n",
       "    .dataframe tbody tr th:only-of-type {\n",
       "        vertical-align: middle;\n",
       "    }\n",
       "\n",
       "    .dataframe tbody tr th {\n",
       "        vertical-align: top;\n",
       "    }\n",
       "\n",
       "    .dataframe thead th {\n",
       "        text-align: right;\n",
       "    }\n",
       "</style>\n",
       "<table border=\"1\" class=\"dataframe\">\n",
       "  <thead>\n",
       "    <tr style=\"text-align: right;\">\n",
       "      <th></th>\n",
       "      <th>0</th>\n",
       "      <th>1</th>\n",
       "      <th>2</th>\n",
       "      <th>3</th>\n",
       "      <th>4</th>\n",
       "      <th>5</th>\n",
       "      <th>6</th>\n",
       "      <th>7</th>\n",
       "      <th>8</th>\n",
       "      <th>9</th>\n",
       "      <th>...</th>\n",
       "      <th>15</th>\n",
       "      <th>16</th>\n",
       "      <th>17</th>\n",
       "      <th>18</th>\n",
       "      <th>19</th>\n",
       "      <th>20</th>\n",
       "      <th>21</th>\n",
       "      <th>22</th>\n",
       "      <th>23</th>\n",
       "      <th>24</th>\n",
       "    </tr>\n",
       "  </thead>\n",
       "  <tbody>\n",
       "    <tr>\n",
       "      <th>mean_fit_time</th>\n",
       "      <td>0.005004</td>\n",
       "      <td>0.004204</td>\n",
       "      <td>0.004004</td>\n",
       "      <td>0.005004</td>\n",
       "      <td>0.004204</td>\n",
       "      <td>0.004205</td>\n",
       "      <td>0.004803</td>\n",
       "      <td>0.004604</td>\n",
       "      <td>0.004804</td>\n",
       "      <td>0.004804</td>\n",
       "      <td>...</td>\n",
       "      <td>0.004404</td>\n",
       "      <td>0.003603</td>\n",
       "      <td>0.002202</td>\n",
       "      <td>0.002202</td>\n",
       "      <td>0.005805</td>\n",
       "      <td>0.003603</td>\n",
       "      <td>0.002202</td>\n",
       "      <td>0.002002</td>\n",
       "      <td>0.001802</td>\n",
       "      <td>0.005805</td>\n",
       "    </tr>\n",
       "    <tr>\n",
       "      <th>std_fit_time</th>\n",
       "      <td>0.000633</td>\n",
       "      <td>0.0004</td>\n",
       "      <td>0.000001</td>\n",
       "      <td>0.000001</td>\n",
       "      <td>0.0004</td>\n",
       "      <td>0.000402</td>\n",
       "      <td>0.000402</td>\n",
       "      <td>0.00049</td>\n",
       "      <td>0.0004</td>\n",
       "      <td>0.0004</td>\n",
       "      <td>...</td>\n",
       "      <td>0.00049</td>\n",
       "      <td>0.00049</td>\n",
       "      <td>0.0004</td>\n",
       "      <td>0.0004</td>\n",
       "      <td>0.0004</td>\n",
       "      <td>0.00049</td>\n",
       "      <td>0.0004</td>\n",
       "      <td>0.000001</td>\n",
       "      <td>0.0004</td>\n",
       "      <td>0.000401</td>\n",
       "    </tr>\n",
       "    <tr>\n",
       "      <th>mean_score_time</th>\n",
       "      <td>0.004204</td>\n",
       "      <td>0.003003</td>\n",
       "      <td>0.002802</td>\n",
       "      <td>0.002803</td>\n",
       "      <td>0.003003</td>\n",
       "      <td>0.003065</td>\n",
       "      <td>0.003603</td>\n",
       "      <td>0.002803</td>\n",
       "      <td>0.002802</td>\n",
       "      <td>0.003003</td>\n",
       "      <td>...</td>\n",
       "      <td>0.003003</td>\n",
       "      <td>0.002602</td>\n",
       "      <td>0.001601</td>\n",
       "      <td>0.001001</td>\n",
       "      <td>0.002802</td>\n",
       "      <td>0.002402</td>\n",
       "      <td>0.001401</td>\n",
       "      <td>0.001001</td>\n",
       "      <td>0.001001</td>\n",
       "      <td>0.003002</td>\n",
       "    </tr>\n",
       "    <tr>\n",
       "      <th>std_score_time</th>\n",
       "      <td>0.001168</td>\n",
       "      <td>0.000001</td>\n",
       "      <td>0.0004</td>\n",
       "      <td>0.0004</td>\n",
       "      <td>0.0</td>\n",
       "      <td>0.000124</td>\n",
       "      <td>0.000801</td>\n",
       "      <td>0.0004</td>\n",
       "      <td>0.0004</td>\n",
       "      <td>0.0</td>\n",
       "      <td>...</td>\n",
       "      <td>0.0</td>\n",
       "      <td>0.00049</td>\n",
       "      <td>0.00049</td>\n",
       "      <td>0.000001</td>\n",
       "      <td>0.000401</td>\n",
       "      <td>0.00049</td>\n",
       "      <td>0.000491</td>\n",
       "      <td>0.0</td>\n",
       "      <td>0.0</td>\n",
       "      <td>0.0</td>\n",
       "    </tr>\n",
       "    <tr>\n",
       "      <th>param_svc__C</th>\n",
       "      <td>0.001</td>\n",
       "      <td>0.001</td>\n",
       "      <td>0.001</td>\n",
       "      <td>0.001</td>\n",
       "      <td>0.001</td>\n",
       "      <td>0.01</td>\n",
       "      <td>0.01</td>\n",
       "      <td>0.01</td>\n",
       "      <td>0.01</td>\n",
       "      <td>0.01</td>\n",
       "      <td>...</td>\n",
       "      <td>1.0</td>\n",
       "      <td>1.0</td>\n",
       "      <td>1.0</td>\n",
       "      <td>1.0</td>\n",
       "      <td>1.0</td>\n",
       "      <td>10.0</td>\n",
       "      <td>10.0</td>\n",
       "      <td>10.0</td>\n",
       "      <td>10.0</td>\n",
       "      <td>10.0</td>\n",
       "    </tr>\n",
       "    <tr>\n",
       "      <th>param_svc__gamma</th>\n",
       "      <td>0.001</td>\n",
       "      <td>0.01</td>\n",
       "      <td>0.1</td>\n",
       "      <td>1.0</td>\n",
       "      <td>10.0</td>\n",
       "      <td>0.001</td>\n",
       "      <td>0.01</td>\n",
       "      <td>0.1</td>\n",
       "      <td>1.0</td>\n",
       "      <td>10.0</td>\n",
       "      <td>...</td>\n",
       "      <td>0.001</td>\n",
       "      <td>0.01</td>\n",
       "      <td>0.1</td>\n",
       "      <td>1.0</td>\n",
       "      <td>10.0</td>\n",
       "      <td>0.001</td>\n",
       "      <td>0.01</td>\n",
       "      <td>0.1</td>\n",
       "      <td>1.0</td>\n",
       "      <td>10.0</td>\n",
       "    </tr>\n",
       "    <tr>\n",
       "      <th>params</th>\n",
       "      <td>{'svc__C': 0.001, 'svc__gamma': 0.001}</td>\n",
       "      <td>{'svc__C': 0.001, 'svc__gamma': 0.01}</td>\n",
       "      <td>{'svc__C': 0.001, 'svc__gamma': 0.1}</td>\n",
       "      <td>{'svc__C': 0.001, 'svc__gamma': 1.0}</td>\n",
       "      <td>{'svc__C': 0.001, 'svc__gamma': 10.0}</td>\n",
       "      <td>{'svc__C': 0.01, 'svc__gamma': 0.001}</td>\n",
       "      <td>{'svc__C': 0.01, 'svc__gamma': 0.01}</td>\n",
       "      <td>{'svc__C': 0.01, 'svc__gamma': 0.1}</td>\n",
       "      <td>{'svc__C': 0.01, 'svc__gamma': 1.0}</td>\n",
       "      <td>{'svc__C': 0.01, 'svc__gamma': 10.0}</td>\n",
       "      <td>...</td>\n",
       "      <td>{'svc__C': 1.0, 'svc__gamma': 0.001}</td>\n",
       "      <td>{'svc__C': 1.0, 'svc__gamma': 0.01}</td>\n",
       "      <td>{'svc__C': 1.0, 'svc__gamma': 0.1}</td>\n",
       "      <td>{'svc__C': 1.0, 'svc__gamma': 1.0}</td>\n",
       "      <td>{'svc__C': 1.0, 'svc__gamma': 10.0}</td>\n",
       "      <td>{'svc__C': 10.0, 'svc__gamma': 0.001}</td>\n",
       "      <td>{'svc__C': 10.0, 'svc__gamma': 0.01}</td>\n",
       "      <td>{'svc__C': 10.0, 'svc__gamma': 0.1}</td>\n",
       "      <td>{'svc__C': 10.0, 'svc__gamma': 1.0}</td>\n",
       "      <td>{'svc__C': 10.0, 'svc__gamma': 10.0}</td>\n",
       "    </tr>\n",
       "    <tr>\n",
       "      <th>split0_test_score</th>\n",
       "      <td>0.978588</td>\n",
       "      <td>0.978588</td>\n",
       "      <td>0.978588</td>\n",
       "      <td>0.985532</td>\n",
       "      <td>0.989583</td>\n",
       "      <td>0.978588</td>\n",
       "      <td>0.979167</td>\n",
       "      <td>0.979745</td>\n",
       "      <td>0.985532</td>\n",
       "      <td>0.989583</td>\n",
       "      <td>...</td>\n",
       "      <td>0.978588</td>\n",
       "      <td>0.979745</td>\n",
       "      <td>0.986111</td>\n",
       "      <td>0.997685</td>\n",
       "      <td>0.996528</td>\n",
       "      <td>0.979745</td>\n",
       "      <td>0.98206</td>\n",
       "      <td>0.994213</td>\n",
       "      <td>1.0</td>\n",
       "      <td>0.993056</td>\n",
       "    </tr>\n",
       "    <tr>\n",
       "      <th>split1_test_score</th>\n",
       "      <td>0.994624</td>\n",
       "      <td>0.994624</td>\n",
       "      <td>0.994624</td>\n",
       "      <td>0.98865</td>\n",
       "      <td>0.961171</td>\n",
       "      <td>0.994624</td>\n",
       "      <td>0.994624</td>\n",
       "      <td>0.994026</td>\n",
       "      <td>0.98865</td>\n",
       "      <td>0.962963</td>\n",
       "      <td>...</td>\n",
       "      <td>0.994624</td>\n",
       "      <td>0.994624</td>\n",
       "      <td>0.995818</td>\n",
       "      <td>0.995818</td>\n",
       "      <td>0.959379</td>\n",
       "      <td>0.994624</td>\n",
       "      <td>0.996416</td>\n",
       "      <td>0.997611</td>\n",
       "      <td>0.997013</td>\n",
       "      <td>0.959976</td>\n",
       "    </tr>\n",
       "    <tr>\n",
       "      <th>split2_test_score</th>\n",
       "      <td>0.965802</td>\n",
       "      <td>0.965212</td>\n",
       "      <td>0.964623</td>\n",
       "      <td>0.954599</td>\n",
       "      <td>0.956368</td>\n",
       "      <td>0.965802</td>\n",
       "      <td>0.965212</td>\n",
       "      <td>0.965212</td>\n",
       "      <td>0.954599</td>\n",
       "      <td>0.956368</td>\n",
       "      <td>...</td>\n",
       "      <td>0.965802</td>\n",
       "      <td>0.966981</td>\n",
       "      <td>0.973467</td>\n",
       "      <td>0.973467</td>\n",
       "      <td>0.956368</td>\n",
       "      <td>0.966981</td>\n",
       "      <td>0.975825</td>\n",
       "      <td>0.973467</td>\n",
       "      <td>0.972288</td>\n",
       "      <td>0.95283</td>\n",
       "    </tr>\n",
       "    <tr>\n",
       "      <th>split3_test_score</th>\n",
       "      <td>0.994104</td>\n",
       "      <td>0.994104</td>\n",
       "      <td>0.993514</td>\n",
       "      <td>0.996462</td>\n",
       "      <td>0.997642</td>\n",
       "      <td>0.994104</td>\n",
       "      <td>0.994104</td>\n",
       "      <td>0.993514</td>\n",
       "      <td>0.996462</td>\n",
       "      <td>0.997052</td>\n",
       "      <td>...</td>\n",
       "      <td>0.993514</td>\n",
       "      <td>0.996462</td>\n",
       "      <td>1.0</td>\n",
       "      <td>1.0</td>\n",
       "      <td>0.992925</td>\n",
       "      <td>0.997052</td>\n",
       "      <td>1.0</td>\n",
       "      <td>1.0</td>\n",
       "      <td>1.0</td>\n",
       "      <td>0.98408</td>\n",
       "    </tr>\n",
       "    <tr>\n",
       "      <th>split4_test_score</th>\n",
       "      <td>0.996462</td>\n",
       "      <td>0.996462</td>\n",
       "      <td>0.996462</td>\n",
       "      <td>0.997642</td>\n",
       "      <td>0.988208</td>\n",
       "      <td>0.996462</td>\n",
       "      <td>0.996462</td>\n",
       "      <td>0.996462</td>\n",
       "      <td>0.997052</td>\n",
       "      <td>0.987618</td>\n",
       "      <td>...</td>\n",
       "      <td>0.996462</td>\n",
       "      <td>0.997052</td>\n",
       "      <td>1.0</td>\n",
       "      <td>1.0</td>\n",
       "      <td>0.992925</td>\n",
       "      <td>0.997052</td>\n",
       "      <td>0.998821</td>\n",
       "      <td>1.0</td>\n",
       "      <td>1.0</td>\n",
       "      <td>0.989976</td>\n",
       "    </tr>\n",
       "    <tr>\n",
       "      <th>mean_test_score</th>\n",
       "      <td>0.985916</td>\n",
       "      <td>0.985798</td>\n",
       "      <td>0.985562</td>\n",
       "      <td>0.984577</td>\n",
       "      <td>0.978594</td>\n",
       "      <td>0.985916</td>\n",
       "      <td>0.985914</td>\n",
       "      <td>0.985792</td>\n",
       "      <td>0.984459</td>\n",
       "      <td>0.978717</td>\n",
       "      <td>...</td>\n",
       "      <td>0.985798</td>\n",
       "      <td>0.986973</td>\n",
       "      <td>0.991079</td>\n",
       "      <td>0.993394</td>\n",
       "      <td>0.979625</td>\n",
       "      <td>0.987091</td>\n",
       "      <td>0.990624</td>\n",
       "      <td>0.993058</td>\n",
       "      <td>0.99386</td>\n",
       "      <td>0.975984</td>\n",
       "    </tr>\n",
       "    <tr>\n",
       "      <th>std_test_score</th>\n",
       "      <td>0.011936</td>\n",
       "      <td>0.012136</td>\n",
       "      <td>0.012258</td>\n",
       "      <td>0.015672</td>\n",
       "      <td>0.016574</td>\n",
       "      <td>0.011936</td>\n",
       "      <td>0.012069</td>\n",
       "      <td>0.011844</td>\n",
       "      <td>0.015576</td>\n",
       "      <td>0.016007</td>\n",
       "      <td>...</td>\n",
       "      <td>0.011857</td>\n",
       "      <td>0.01185</td>\n",
       "      <td>0.010164</td>\n",
       "      <td>0.010086</td>\n",
       "      <td>0.017834</td>\n",
       "      <td>0.011946</td>\n",
       "      <td>0.009808</td>\n",
       "      <td>0.010022</td>\n",
       "      <td>0.010848</td>\n",
       "      <td>0.016402</td>\n",
       "    </tr>\n",
       "    <tr>\n",
       "      <th>rank_test_score</th>\n",
       "      <td>11</td>\n",
       "      <td>15</td>\n",
       "      <td>18</td>\n",
       "      <td>19</td>\n",
       "      <td>24</td>\n",
       "      <td>11</td>\n",
       "      <td>14</td>\n",
       "      <td>17</td>\n",
       "      <td>20</td>\n",
       "      <td>22</td>\n",
       "      <td>...</td>\n",
       "      <td>15</td>\n",
       "      <td>9</td>\n",
       "      <td>4</td>\n",
       "      <td>2</td>\n",
       "      <td>21</td>\n",
       "      <td>8</td>\n",
       "      <td>5</td>\n",
       "      <td>3</td>\n",
       "      <td>1</td>\n",
       "      <td>25</td>\n",
       "    </tr>\n",
       "  </tbody>\n",
       "</table>\n",
       "<p>15 rows × 25 columns</p>\n",
       "</div>"
      ],
      "text/plain": [
       "                                                       0   \\\n",
       "mean_fit_time                                    0.005004   \n",
       "std_fit_time                                     0.000633   \n",
       "mean_score_time                                  0.004204   \n",
       "std_score_time                                   0.001168   \n",
       "param_svc__C                                        0.001   \n",
       "param_svc__gamma                                    0.001   \n",
       "params             {'svc__C': 0.001, 'svc__gamma': 0.001}   \n",
       "split0_test_score                                0.978588   \n",
       "split1_test_score                                0.994624   \n",
       "split2_test_score                                0.965802   \n",
       "split3_test_score                                0.994104   \n",
       "split4_test_score                                0.996462   \n",
       "mean_test_score                                  0.985916   \n",
       "std_test_score                                   0.011936   \n",
       "rank_test_score                                        11   \n",
       "\n",
       "                                                      1   \\\n",
       "mean_fit_time                                   0.004204   \n",
       "std_fit_time                                      0.0004   \n",
       "mean_score_time                                 0.003003   \n",
       "std_score_time                                  0.000001   \n",
       "param_svc__C                                       0.001   \n",
       "param_svc__gamma                                    0.01   \n",
       "params             {'svc__C': 0.001, 'svc__gamma': 0.01}   \n",
       "split0_test_score                               0.978588   \n",
       "split1_test_score                               0.994624   \n",
       "split2_test_score                               0.965212   \n",
       "split3_test_score                               0.994104   \n",
       "split4_test_score                               0.996462   \n",
       "mean_test_score                                 0.985798   \n",
       "std_test_score                                  0.012136   \n",
       "rank_test_score                                       15   \n",
       "\n",
       "                                                     2   \\\n",
       "mean_fit_time                                  0.004004   \n",
       "std_fit_time                                   0.000001   \n",
       "mean_score_time                                0.002802   \n",
       "std_score_time                                   0.0004   \n",
       "param_svc__C                                      0.001   \n",
       "param_svc__gamma                                    0.1   \n",
       "params             {'svc__C': 0.001, 'svc__gamma': 0.1}   \n",
       "split0_test_score                              0.978588   \n",
       "split1_test_score                              0.994624   \n",
       "split2_test_score                              0.964623   \n",
       "split3_test_score                              0.993514   \n",
       "split4_test_score                              0.996462   \n",
       "mean_test_score                                0.985562   \n",
       "std_test_score                                 0.012258   \n",
       "rank_test_score                                      18   \n",
       "\n",
       "                                                     3   \\\n",
       "mean_fit_time                                  0.005004   \n",
       "std_fit_time                                   0.000001   \n",
       "mean_score_time                                0.002803   \n",
       "std_score_time                                   0.0004   \n",
       "param_svc__C                                      0.001   \n",
       "param_svc__gamma                                    1.0   \n",
       "params             {'svc__C': 0.001, 'svc__gamma': 1.0}   \n",
       "split0_test_score                              0.985532   \n",
       "split1_test_score                               0.98865   \n",
       "split2_test_score                              0.954599   \n",
       "split3_test_score                              0.996462   \n",
       "split4_test_score                              0.997642   \n",
       "mean_test_score                                0.984577   \n",
       "std_test_score                                 0.015672   \n",
       "rank_test_score                                      19   \n",
       "\n",
       "                                                      4   \\\n",
       "mean_fit_time                                   0.004204   \n",
       "std_fit_time                                      0.0004   \n",
       "mean_score_time                                 0.003003   \n",
       "std_score_time                                       0.0   \n",
       "param_svc__C                                       0.001   \n",
       "param_svc__gamma                                    10.0   \n",
       "params             {'svc__C': 0.001, 'svc__gamma': 10.0}   \n",
       "split0_test_score                               0.989583   \n",
       "split1_test_score                               0.961171   \n",
       "split2_test_score                               0.956368   \n",
       "split3_test_score                               0.997642   \n",
       "split4_test_score                               0.988208   \n",
       "mean_test_score                                 0.978594   \n",
       "std_test_score                                  0.016574   \n",
       "rank_test_score                                       24   \n",
       "\n",
       "                                                      5   \\\n",
       "mean_fit_time                                   0.004205   \n",
       "std_fit_time                                    0.000402   \n",
       "mean_score_time                                 0.003065   \n",
       "std_score_time                                  0.000124   \n",
       "param_svc__C                                        0.01   \n",
       "param_svc__gamma                                   0.001   \n",
       "params             {'svc__C': 0.01, 'svc__gamma': 0.001}   \n",
       "split0_test_score                               0.978588   \n",
       "split1_test_score                               0.994624   \n",
       "split2_test_score                               0.965802   \n",
       "split3_test_score                               0.994104   \n",
       "split4_test_score                               0.996462   \n",
       "mean_test_score                                 0.985916   \n",
       "std_test_score                                  0.011936   \n",
       "rank_test_score                                       11   \n",
       "\n",
       "                                                     6   \\\n",
       "mean_fit_time                                  0.004803   \n",
       "std_fit_time                                   0.000402   \n",
       "mean_score_time                                0.003603   \n",
       "std_score_time                                 0.000801   \n",
       "param_svc__C                                       0.01   \n",
       "param_svc__gamma                                   0.01   \n",
       "params             {'svc__C': 0.01, 'svc__gamma': 0.01}   \n",
       "split0_test_score                              0.979167   \n",
       "split1_test_score                              0.994624   \n",
       "split2_test_score                              0.965212   \n",
       "split3_test_score                              0.994104   \n",
       "split4_test_score                              0.996462   \n",
       "mean_test_score                                0.985914   \n",
       "std_test_score                                 0.012069   \n",
       "rank_test_score                                      14   \n",
       "\n",
       "                                                    7   \\\n",
       "mean_fit_time                                 0.004604   \n",
       "std_fit_time                                   0.00049   \n",
       "mean_score_time                               0.002803   \n",
       "std_score_time                                  0.0004   \n",
       "param_svc__C                                      0.01   \n",
       "param_svc__gamma                                   0.1   \n",
       "params             {'svc__C': 0.01, 'svc__gamma': 0.1}   \n",
       "split0_test_score                             0.979745   \n",
       "split1_test_score                             0.994026   \n",
       "split2_test_score                             0.965212   \n",
       "split3_test_score                             0.993514   \n",
       "split4_test_score                             0.996462   \n",
       "mean_test_score                               0.985792   \n",
       "std_test_score                                0.011844   \n",
       "rank_test_score                                     17   \n",
       "\n",
       "                                                    8   \\\n",
       "mean_fit_time                                 0.004804   \n",
       "std_fit_time                                    0.0004   \n",
       "mean_score_time                               0.002802   \n",
       "std_score_time                                  0.0004   \n",
       "param_svc__C                                      0.01   \n",
       "param_svc__gamma                                   1.0   \n",
       "params             {'svc__C': 0.01, 'svc__gamma': 1.0}   \n",
       "split0_test_score                             0.985532   \n",
       "split1_test_score                              0.98865   \n",
       "split2_test_score                             0.954599   \n",
       "split3_test_score                             0.996462   \n",
       "split4_test_score                             0.997052   \n",
       "mean_test_score                               0.984459   \n",
       "std_test_score                                0.015576   \n",
       "rank_test_score                                     20   \n",
       "\n",
       "                                                     9   ...  \\\n",
       "mean_fit_time                                  0.004804  ...   \n",
       "std_fit_time                                     0.0004  ...   \n",
       "mean_score_time                                0.003003  ...   \n",
       "std_score_time                                      0.0  ...   \n",
       "param_svc__C                                       0.01  ...   \n",
       "param_svc__gamma                                   10.0  ...   \n",
       "params             {'svc__C': 0.01, 'svc__gamma': 10.0}  ...   \n",
       "split0_test_score                              0.989583  ...   \n",
       "split1_test_score                              0.962963  ...   \n",
       "split2_test_score                              0.956368  ...   \n",
       "split3_test_score                              0.997052  ...   \n",
       "split4_test_score                              0.987618  ...   \n",
       "mean_test_score                                0.978717  ...   \n",
       "std_test_score                                 0.016007  ...   \n",
       "rank_test_score                                      22  ...   \n",
       "\n",
       "                                                     15  \\\n",
       "mean_fit_time                                  0.004404   \n",
       "std_fit_time                                    0.00049   \n",
       "mean_score_time                                0.003003   \n",
       "std_score_time                                      0.0   \n",
       "param_svc__C                                        1.0   \n",
       "param_svc__gamma                                  0.001   \n",
       "params             {'svc__C': 1.0, 'svc__gamma': 0.001}   \n",
       "split0_test_score                              0.978588   \n",
       "split1_test_score                              0.994624   \n",
       "split2_test_score                              0.965802   \n",
       "split3_test_score                              0.993514   \n",
       "split4_test_score                              0.996462   \n",
       "mean_test_score                                0.985798   \n",
       "std_test_score                                 0.011857   \n",
       "rank_test_score                                      15   \n",
       "\n",
       "                                                    16  \\\n",
       "mean_fit_time                                 0.003603   \n",
       "std_fit_time                                   0.00049   \n",
       "mean_score_time                               0.002602   \n",
       "std_score_time                                 0.00049   \n",
       "param_svc__C                                       1.0   \n",
       "param_svc__gamma                                  0.01   \n",
       "params             {'svc__C': 1.0, 'svc__gamma': 0.01}   \n",
       "split0_test_score                             0.979745   \n",
       "split1_test_score                             0.994624   \n",
       "split2_test_score                             0.966981   \n",
       "split3_test_score                             0.996462   \n",
       "split4_test_score                             0.997052   \n",
       "mean_test_score                               0.986973   \n",
       "std_test_score                                 0.01185   \n",
       "rank_test_score                                      9   \n",
       "\n",
       "                                                   17  \\\n",
       "mean_fit_time                                0.002202   \n",
       "std_fit_time                                   0.0004   \n",
       "mean_score_time                              0.001601   \n",
       "std_score_time                                0.00049   \n",
       "param_svc__C                                      1.0   \n",
       "param_svc__gamma                                  0.1   \n",
       "params             {'svc__C': 1.0, 'svc__gamma': 0.1}   \n",
       "split0_test_score                            0.986111   \n",
       "split1_test_score                            0.995818   \n",
       "split2_test_score                            0.973467   \n",
       "split3_test_score                                 1.0   \n",
       "split4_test_score                                 1.0   \n",
       "mean_test_score                              0.991079   \n",
       "std_test_score                               0.010164   \n",
       "rank_test_score                                     4   \n",
       "\n",
       "                                                   18  \\\n",
       "mean_fit_time                                0.002202   \n",
       "std_fit_time                                   0.0004   \n",
       "mean_score_time                              0.001001   \n",
       "std_score_time                               0.000001   \n",
       "param_svc__C                                      1.0   \n",
       "param_svc__gamma                                  1.0   \n",
       "params             {'svc__C': 1.0, 'svc__gamma': 1.0}   \n",
       "split0_test_score                            0.997685   \n",
       "split1_test_score                            0.995818   \n",
       "split2_test_score                            0.973467   \n",
       "split3_test_score                                 1.0   \n",
       "split4_test_score                                 1.0   \n",
       "mean_test_score                              0.993394   \n",
       "std_test_score                               0.010086   \n",
       "rank_test_score                                     2   \n",
       "\n",
       "                                                    19  \\\n",
       "mean_fit_time                                 0.005805   \n",
       "std_fit_time                                    0.0004   \n",
       "mean_score_time                               0.002802   \n",
       "std_score_time                                0.000401   \n",
       "param_svc__C                                       1.0   \n",
       "param_svc__gamma                                  10.0   \n",
       "params             {'svc__C': 1.0, 'svc__gamma': 10.0}   \n",
       "split0_test_score                             0.996528   \n",
       "split1_test_score                             0.959379   \n",
       "split2_test_score                             0.956368   \n",
       "split3_test_score                             0.992925   \n",
       "split4_test_score                             0.992925   \n",
       "mean_test_score                               0.979625   \n",
       "std_test_score                                0.017834   \n",
       "rank_test_score                                     21   \n",
       "\n",
       "                                                      20  \\\n",
       "mean_fit_time                                   0.003603   \n",
       "std_fit_time                                     0.00049   \n",
       "mean_score_time                                 0.002402   \n",
       "std_score_time                                   0.00049   \n",
       "param_svc__C                                        10.0   \n",
       "param_svc__gamma                                   0.001   \n",
       "params             {'svc__C': 10.0, 'svc__gamma': 0.001}   \n",
       "split0_test_score                               0.979745   \n",
       "split1_test_score                               0.994624   \n",
       "split2_test_score                               0.966981   \n",
       "split3_test_score                               0.997052   \n",
       "split4_test_score                               0.997052   \n",
       "mean_test_score                                 0.987091   \n",
       "std_test_score                                  0.011946   \n",
       "rank_test_score                                        8   \n",
       "\n",
       "                                                     21  \\\n",
       "mean_fit_time                                  0.002202   \n",
       "std_fit_time                                     0.0004   \n",
       "mean_score_time                                0.001401   \n",
       "std_score_time                                 0.000491   \n",
       "param_svc__C                                       10.0   \n",
       "param_svc__gamma                                   0.01   \n",
       "params             {'svc__C': 10.0, 'svc__gamma': 0.01}   \n",
       "split0_test_score                               0.98206   \n",
       "split1_test_score                              0.996416   \n",
       "split2_test_score                              0.975825   \n",
       "split3_test_score                                   1.0   \n",
       "split4_test_score                              0.998821   \n",
       "mean_test_score                                0.990624   \n",
       "std_test_score                                 0.009808   \n",
       "rank_test_score                                       5   \n",
       "\n",
       "                                                    22  \\\n",
       "mean_fit_time                                 0.002002   \n",
       "std_fit_time                                  0.000001   \n",
       "mean_score_time                               0.001001   \n",
       "std_score_time                                     0.0   \n",
       "param_svc__C                                      10.0   \n",
       "param_svc__gamma                                   0.1   \n",
       "params             {'svc__C': 10.0, 'svc__gamma': 0.1}   \n",
       "split0_test_score                             0.994213   \n",
       "split1_test_score                             0.997611   \n",
       "split2_test_score                             0.973467   \n",
       "split3_test_score                                  1.0   \n",
       "split4_test_score                                  1.0   \n",
       "mean_test_score                               0.993058   \n",
       "std_test_score                                0.010022   \n",
       "rank_test_score                                      3   \n",
       "\n",
       "                                                    23  \\\n",
       "mean_fit_time                                 0.001802   \n",
       "std_fit_time                                    0.0004   \n",
       "mean_score_time                               0.001001   \n",
       "std_score_time                                     0.0   \n",
       "param_svc__C                                      10.0   \n",
       "param_svc__gamma                                   1.0   \n",
       "params             {'svc__C': 10.0, 'svc__gamma': 1.0}   \n",
       "split0_test_score                                  1.0   \n",
       "split1_test_score                             0.997013   \n",
       "split2_test_score                             0.972288   \n",
       "split3_test_score                                  1.0   \n",
       "split4_test_score                                  1.0   \n",
       "mean_test_score                                0.99386   \n",
       "std_test_score                                0.010848   \n",
       "rank_test_score                                      1   \n",
       "\n",
       "                                                     24  \n",
       "mean_fit_time                                  0.005805  \n",
       "std_fit_time                                   0.000401  \n",
       "mean_score_time                                0.003002  \n",
       "std_score_time                                      0.0  \n",
       "param_svc__C                                       10.0  \n",
       "param_svc__gamma                                   10.0  \n",
       "params             {'svc__C': 10.0, 'svc__gamma': 10.0}  \n",
       "split0_test_score                              0.993056  \n",
       "split1_test_score                              0.959976  \n",
       "split2_test_score                               0.95283  \n",
       "split3_test_score                               0.98408  \n",
       "split4_test_score                              0.989976  \n",
       "mean_test_score                                0.975984  \n",
       "std_test_score                                 0.016402  \n",
       "rank_test_score                                      25  \n",
       "\n",
       "[15 rows x 25 columns]"
      ]
     },
     "execution_count": 20,
     "metadata": {},
     "output_type": "execute_result"
    }
   ],
   "source": [
    "pd.DataFrame(grid.cv_results_).T"
   ]
  },
  {
   "cell_type": "code",
   "execution_count": 22,
   "metadata": {},
   "outputs": [
    {
     "data": {
      "text/plain": [
       "<sklearn.metrics._plot.confusion_matrix.ConfusionMatrixDisplay at 0x250c7d13fa0>"
      ]
     },
     "execution_count": 22,
     "metadata": {},
     "output_type": "execute_result"
    },
    {
     "data": {
      "image/svg+xml": "<?xml version=\"1.0\" encoding=\"utf-8\" standalone=\"no\"?>\n<!DOCTYPE svg PUBLIC \"-//W3C//DTD SVG 1.1//EN\"\n  \"http://www.w3.org/Graphics/SVG/1.1/DTD/svg11.dtd\">\n<svg xmlns:xlink=\"http://www.w3.org/1999/xlink\" width=\"303.931688pt\" height=\"262.7525pt\" viewBox=\"0 0 303.931688 262.7525\" xmlns=\"http://www.w3.org/2000/svg\" version=\"1.1\">\n <metadata>\n  <rdf:RDF xmlns:dc=\"http://purl.org/dc/elements/1.1/\" xmlns:cc=\"http://creativecommons.org/ns#\" xmlns:rdf=\"http://www.w3.org/1999/02/22-rdf-syntax-ns#\">\n   <cc:Work>\n    <dc:type rdf:resource=\"http://purl.org/dc/dcmitype/StillImage\"/>\n    <dc:date>2022-11-21T21:26:25.825949</dc:date>\n    <dc:format>image/svg+xml</dc:format>\n    <dc:creator>\n     <cc:Agent>\n      <dc:title>Matplotlib v3.5.1, https://matplotlib.org/</dc:title>\n     </cc:Agent>\n    </dc:creator>\n   </cc:Work>\n  </rdf:RDF>\n </metadata>\n <defs>\n  <style type=\"text/css\">*{stroke-linejoin: round; stroke-linecap: butt}</style>\n </defs>\n <g id=\"figure_1\">\n  <g id=\"patch_1\">\n   <path d=\"M 0 262.7525 \nL 303.931688 262.7525 \nL 303.931688 0 \nL 0 0 \nL 0 262.7525 \nz\n\" style=\"fill: none\"/>\n  </g>\n  <g id=\"axes_1\">\n   <g id=\"patch_2\">\n    <path d=\"M 33.664062 224.64 \nL 251.104062 224.64 \nL 251.104062 7.2 \nL 33.664062 7.2 \nz\n\" style=\"fill: #ffffff\"/>\n   </g>\n   <g clip-path=\"url(#pc7cbf96328)\">\n    <image xlink:href=\"data:image/png;base64,\niVBORw0KGgoAAAANSUhEUgAAANoAAADaCAYAAADAHVzbAAACmUlEQVR4nO3VQQ3CUAAFQUqqAhtYIKmB+kMHLnquAGyAhn/ZH8KMgnfZvOWx7J8LP+X1PmZPYNB19gD4B0KDgNAgIDQICA0CQoOA0CAgNAgIDQJCg4DQICA0CAgNAkKDgNAgIDQICA0CQoOA0CAgNAgIDQJCg4DQICA0CAgNAkKDgNAgIDQICA0CQoOA0CAgNAgIDQJCg4DQICA0CAgNAkKDgNAgIDQICA0CQoOA0CAgNAgIDQJCg4DQICA0CAgNAkKDgNAgIDQICA0CQoOA0CAgNAgIDQJCg4DQICA0CAgNAkKDgNAgIDQICA0CQoOA0CAgNAgIDQJCg4DQICA0CAgNAkKDgNAgIDQICA0CQoOA0CAgNAgIDQJCg4DQICA0CAgNAkKDgNAgIDQICA0CQoOA0CAgNAgIDQJCg4DQICA0CAgNAkKDgNAgIDQICA0CQoOA0CAgNAgIDQJCg4DQICA0CKzn8z57A4O22+wFjPJoEBAaBIQGAaFBQGgQEBoEhAYBoUFAaBAQGgSEBgGhQUBoEBAaBIQGAaFBQGgQEBoEhAYBoUFAaBAQGgSEBgGhQUBoEBAaBIQGAaFBQGgQEBoEhAYBoUFAaBAQGgSEBgGhQUBoEBAaBIQGAaFBQGgQEBoEhAYBoUFAaBAQGgSEBgGhQUBoEBAaBIQGAaFBQGgQEBoEhAYBoUFAaBAQGgSEBgGhQUBoEBAaBIQGAaFBQGgQEBoEhAYBoUFAaBAQGgSEBgGhQUBoEBAaBIQGAaFBQGgQEBoEhAYBoUFAaBAQGgSEBgGhQUBoEBAaBIQGAaFBQGgQEBoEhAYBoUFAaBAQGgSEBgGhQUBoEBAaBIQGAaFBQGgQEBoEhAYBoUFAaBAQGgSEBgGhQeALTtkHyprjy14AAAAASUVORK5CYII=\" id=\"imagef6dae7218b\" transform=\"scale(1 -1)translate(0 -218)\" x=\"33.664062\" y=\"-6.64\" width=\"218\" height=\"218\"/>\n   </g>\n   <g id=\"matplotlib.axis_1\">\n    <g id=\"xtick_1\">\n     <g id=\"line2d_1\">\n      <defs>\n       <path id=\"m2d7506a3d3\" d=\"M 0 0 \nL 0 3.5 \n\" style=\"stroke: #000000; stroke-width: 0.8\"/>\n      </defs>\n      <g>\n       <use xlink:href=\"#m2d7506a3d3\" x=\"88.024062\" y=\"224.64\" style=\"stroke: #000000; stroke-width: 0.8\"/>\n      </g>\n     </g>\n     <g id=\"text_1\">\n      <!-- 0 -->\n      <g transform=\"translate(85.270156 239.232187)scale(0.1 -0.1)\">\n       <defs>\n        <path id=\"MalgunGothic-30\" d=\"M 278 2206 \nQ 278 3425 675 4050 \nQ 1072 4675 1819 4675 \nQ 3253 4675 3253 2319 \nQ 3253 1156 2854 539 \nQ 2456 -78 1716 -78 \nQ 1016 -78 647 520 \nQ 278 1119 278 2206 \nz\nM 784 2231 \nQ 784 344 1769 344 \nQ 2747 344 2747 2259 \nQ 2747 4250 1794 4250 \nQ 784 4250 784 2231 \nz\n\" transform=\"scale(0.015625)\"/>\n       </defs>\n       <use xlink:href=\"#MalgunGothic-30\"/>\n      </g>\n     </g>\n    </g>\n    <g id=\"xtick_2\">\n     <g id=\"line2d_2\">\n      <g>\n       <use xlink:href=\"#m2d7506a3d3\" x=\"196.744062\" y=\"224.64\" style=\"stroke: #000000; stroke-width: 0.8\"/>\n      </g>\n     </g>\n     <g id=\"text_2\">\n      <!-- 1 -->\n      <g transform=\"translate(193.990156 239.232187)scale(0.1 -0.1)\">\n       <defs>\n        <path id=\"MalgunGothic-31\" d=\"M 2231 0 \nL 1734 0 \nL 1734 3972 \nQ 1591 3828 1266 3661 \nQ 941 3494 672 3428 \nL 672 3959 \nQ 1016 4056 1409 4275 \nQ 1803 4494 2031 4700 \nL 2231 4700 \nL 2231 0 \nz\n\" transform=\"scale(0.015625)\"/>\n       </defs>\n       <use xlink:href=\"#MalgunGothic-31\"/>\n      </g>\n     </g>\n    </g>\n    <g id=\"text_3\">\n     <!-- Predicted label -->\n     <g transform=\"translate(108.687969 253.188437)scale(0.1 -0.1)\">\n      <defs>\n       <path id=\"MalgunGothic-50\" d=\"M 1113 1747 \nL 1113 0 \nL 609 0 \nL 609 4600 \nL 1850 4600 \nQ 2575 4600 2979 4240 \nQ 3384 3881 3384 3231 \nQ 3384 2559 2909 2140 \nQ 2434 1722 1728 1747 \nL 1113 1747 \nz\nM 1113 4131 \nL 1113 2219 \nL 1691 2219 \nQ 2256 2219 2554 2475 \nQ 2853 2731 2853 3206 \nQ 2853 4131 1759 4131 \nL 1113 4131 \nz\n\" transform=\"scale(0.015625)\"/>\n       <path id=\"MalgunGothic-72\" d=\"M 2225 2775 \nQ 2084 2881 1828 2881 \nQ 1491 2881 1262 2553 \nQ 1034 2225 1034 1681 \nL 1034 0 \nL 538 0 \nL 538 3284 \nL 1034 3284 \nL 1034 2603 \nL 1047 2603 \nQ 1159 2950 1389 3145 \nQ 1619 3341 1903 3341 \nQ 2109 3341 2225 3297 \nL 2225 2775 \nz\n\" transform=\"scale(0.015625)\"/>\n       <path id=\"MalgunGothic-65\" d=\"M 3156 1519 \nL 828 1519 \nQ 844 950 1133 648 \nQ 1422 347 1909 347 \nQ 2472 347 2934 719 \nL 2934 244 \nQ 2494 -78 1794 -78 \nQ 1100 -78 708 376 \nQ 316 831 316 1634 \nQ 316 2381 747 2870 \nQ 1178 3359 1816 3359 \nQ 2453 3359 2804 2942 \nQ 3156 2525 3156 1788 \nL 3156 1519 \nz\nM 2644 1956 \nQ 2644 2416 2423 2675 \nQ 2203 2934 1809 2934 \nQ 1438 2934 1169 2667 \nQ 900 2400 834 1956 \nL 2644 1956 \nz\n\" transform=\"scale(0.015625)\"/>\n       <path id=\"MalgunGothic-64\" d=\"M 3313 0 \nL 2822 0 \nL 2822 566 \nL 2809 566 \nQ 2444 -78 1675 -78 \nQ 1056 -78 686 364 \nQ 316 806 316 1566 \nQ 316 2375 728 2867 \nQ 1141 3359 1816 3359 \nQ 2494 3359 2809 2822 \nL 2822 2822 \nL 2822 4859 \nL 3313 4859 \nL 3313 0 \nz\nM 2822 1978 \nQ 2822 2378 2550 2659 \nQ 2278 2941 1872 2941 \nQ 1384 2941 1101 2577 \nQ 819 2213 819 1591 \nQ 819 1025 1086 684 \nQ 1353 344 1813 344 \nQ 2250 344 2536 666 \nQ 2822 988 2822 1478 \nL 2822 1978 \nz\n\" transform=\"scale(0.015625)\"/>\n       <path id=\"MalgunGothic-69\" d=\"M 472 4466 \nQ 472 4606 565 4701 \nQ 659 4797 794 4797 \nQ 934 4797 1029 4700 \nQ 1125 4603 1125 4466 \nQ 1125 4325 1029 4231 \nQ 934 4138 794 4138 \nQ 659 4138 565 4230 \nQ 472 4322 472 4466 \nz\nM 541 0 \nL 541 3284 \nL 1034 3284 \nL 1034 0 \nL 541 0 \nz\n\" transform=\"scale(0.015625)\"/>\n       <path id=\"MalgunGothic-63\" d=\"M 2763 153 \nQ 2375 -78 1872 -78 \nQ 1184 -78 750 372 \nQ 316 822 316 1566 \nQ 316 2381 777 2870 \nQ 1238 3359 2009 3359 \nQ 2434 3359 2766 3200 \nL 2766 2681 \nQ 2397 2941 1981 2941 \nQ 1478 2941 1148 2577 \nQ 819 2213 819 1609 \nQ 819 1034 1120 689 \nQ 1422 344 1947 344 \nQ 2381 344 2763 631 \nL 2763 153 \nz\n\" transform=\"scale(0.015625)\"/>\n       <path id=\"MalgunGothic-74\" d=\"M 2031 31 \nQ 1844 -72 1553 -72 \nQ 706 -72 706 881 \nL 706 2856 \nL 138 2856 \nL 138 3284 \nL 706 3284 \nL 706 4091 \nL 1200 4250 \nL 1200 3284 \nL 2031 3284 \nL 2031 2856 \nL 1200 2856 \nL 1200 972 \nQ 1200 625 1315 487 \nQ 1431 350 1691 350 \nQ 1888 350 2031 459 \nL 2031 31 \nz\n\" transform=\"scale(0.015625)\"/>\n       <path id=\"MalgunGothic-20\" transform=\"scale(0.015625)\"/>\n       <path id=\"MalgunGothic-6c\" d=\"M 541 0 \nL 541 4859 \nL 1034 4859 \nL 1034 0 \nL 541 0 \nz\n\" transform=\"scale(0.015625)\"/>\n       <path id=\"MalgunGothic-61\" d=\"M 616 3050 \nQ 1097 3359 1722 3359 \nQ 2866 3359 2866 2147 \nL 2866 0 \nL 2369 0 \nL 2369 516 \nL 2350 516 \nQ 2009 -78 1341 -78 \nQ 859 -78 576 180 \nQ 294 438 294 869 \nQ 294 1784 1375 1934 \nL 2366 2078 \nQ 2366 2934 1684 2934 \nQ 1084 2934 616 2525 \nL 616 3050 \nz\nM 1563 1559 \nQ 1178 1509 993 1371 \nQ 809 1234 809 903 \nQ 809 653 986 500 \nQ 1163 347 1450 347 \nQ 1847 347 2106 628 \nQ 2366 909 2366 1334 \nL 2366 1666 \nL 1563 1559 \nz\n\" transform=\"scale(0.015625)\"/>\n       <path id=\"MalgunGothic-62\" d=\"M 1034 481 \nL 1034 0 \nL 538 0 \nL 538 4859 \nL 1034 4859 \nL 1034 2703 \nL 1047 2703 \nQ 1438 3359 2184 3359 \nQ 2813 3359 3173 2917 \nQ 3534 2475 3534 1738 \nQ 3534 906 3126 414 \nQ 2719 -78 2034 -78 \nQ 1384 -78 1047 481 \nL 1034 481 \nz\nM 1034 1334 \nQ 1034 922 1307 633 \nQ 1581 344 1991 344 \nQ 2475 344 2751 716 \nQ 3028 1088 3028 1753 \nQ 3028 2303 2767 2622 \nQ 2506 2941 2072 2941 \nQ 1616 2941 1325 2616 \nQ 1034 2291 1034 1803 \nL 1034 1334 \nz\n\" transform=\"scale(0.015625)\"/>\n      </defs>\n      <use xlink:href=\"#MalgunGothic-50\"/>\n      <use xlink:href=\"#MalgunGothic-72\" x=\"57.080078\"/>\n      <use xlink:href=\"#MalgunGothic-65\" x=\"91.056641\"/>\n      <use xlink:href=\"#MalgunGothic-64\" x=\"144.572266\"/>\n      <use xlink:href=\"#MalgunGothic-69\" x=\"204.777344\"/>\n      <use xlink:href=\"#MalgunGothic-63\" x=\"229.386719\"/>\n      <use xlink:href=\"#MalgunGothic-74\" x=\"276.652344\"/>\n      <use xlink:href=\"#MalgunGothic-65\" x=\"310.25\"/>\n      <use xlink:href=\"#MalgunGothic-64\" x=\"363.765625\"/>\n      <use xlink:href=\"#MalgunGothic-20\" x=\"423.970703\"/>\n      <use xlink:href=\"#MalgunGothic-6c\" x=\"459.126953\"/>\n      <use xlink:href=\"#MalgunGothic-61\" x=\"483.736328\"/>\n      <use xlink:href=\"#MalgunGothic-62\" x=\"535.738281\"/>\n      <use xlink:href=\"#MalgunGothic-65\" x=\"595.796875\"/>\n      <use xlink:href=\"#MalgunGothic-6c\" x=\"649.3125\"/>\n     </g>\n    </g>\n   </g>\n   <g id=\"matplotlib.axis_2\">\n    <g id=\"ytick_1\">\n     <g id=\"line2d_3\">\n      <defs>\n       <path id=\"m350b9b5821\" d=\"M 0 0 \nL -3.5 0 \n\" style=\"stroke: #000000; stroke-width: 0.8\"/>\n      </defs>\n      <g>\n       <use xlink:href=\"#m350b9b5821\" x=\"33.664062\" y=\"61.56\" style=\"stroke: #000000; stroke-width: 0.8\"/>\n      </g>\n     </g>\n     <g id=\"text_4\">\n      <!-- 0 -->\n      <g transform=\"translate(21.15625 65.356094)scale(0.1 -0.1)\">\n       <use xlink:href=\"#MalgunGothic-30\"/>\n      </g>\n     </g>\n    </g>\n    <g id=\"ytick_2\">\n     <g id=\"line2d_4\">\n      <g>\n       <use xlink:href=\"#m350b9b5821\" x=\"33.664062\" y=\"170.28\" style=\"stroke: #000000; stroke-width: 0.8\"/>\n      </g>\n     </g>\n     <g id=\"text_5\">\n      <!-- 1 -->\n      <g transform=\"translate(21.15625 174.076094)scale(0.1 -0.1)\">\n       <use xlink:href=\"#MalgunGothic-31\"/>\n      </g>\n     </g>\n    </g>\n    <g id=\"text_6\">\n     <!-- True label -->\n     <g transform=\"translate(14.792187 137.952031)rotate(-90)scale(0.1 -0.1)\">\n      <defs>\n       <path id=\"MalgunGothic-54\" d=\"M 3294 4134 \nL 1966 4134 \nL 1966 0 \nL 1456 0 \nL 1456 4134 \nL 134 4134 \nL 134 4600 \nL 3294 4600 \nL 3294 4134 \nz\n\" transform=\"scale(0.015625)\"/>\n       <path id=\"MalgunGothic-75\" d=\"M 3166 0 \nL 2669 0 \nL 2669 519 \nL 2656 519 \nQ 2331 -78 1644 -78 \nQ 469 -78 469 1322 \nL 469 3284 \nL 959 3284 \nL 959 1403 \nQ 959 344 1766 344 \nQ 2159 344 2414 636 \nQ 2669 928 2669 1394 \nL 2669 3284 \nL 3166 3284 \nL 3166 0 \nz\n\" transform=\"scale(0.015625)\"/>\n      </defs>\n      <use xlink:href=\"#MalgunGothic-54\"/>\n      <use xlink:href=\"#MalgunGothic-72\" x=\"43.994141\"/>\n      <use xlink:href=\"#MalgunGothic-75\" x=\"79.345703\"/>\n      <use xlink:href=\"#MalgunGothic-65\" x=\"137.158203\"/>\n      <use xlink:href=\"#MalgunGothic-20\" x=\"190.673828\"/>\n      <use xlink:href=\"#MalgunGothic-6c\" x=\"225.830078\"/>\n      <use xlink:href=\"#MalgunGothic-61\" x=\"250.439453\"/>\n      <use xlink:href=\"#MalgunGothic-62\" x=\"302.441406\"/>\n      <use xlink:href=\"#MalgunGothic-65\" x=\"362.5\"/>\n      <use xlink:href=\"#MalgunGothic-6c\" x=\"416.015625\"/>\n     </g>\n    </g>\n   </g>\n   <g id=\"patch_3\">\n    <path d=\"M 33.664062 224.64 \nL 33.664062 7.2 \n\" style=\"fill: none; stroke: #000000; stroke-width: 0.8; stroke-linejoin: miter; stroke-linecap: square\"/>\n   </g>\n   <g id=\"patch_4\">\n    <path d=\"M 251.104062 224.64 \nL 251.104062 7.2 \n\" style=\"fill: none; stroke: #000000; stroke-width: 0.8; stroke-linejoin: miter; stroke-linecap: square\"/>\n   </g>\n   <g id=\"patch_5\">\n    <path d=\"M 33.664062 224.64 \nL 251.104062 224.64 \n\" style=\"fill: none; stroke: #000000; stroke-width: 0.8; stroke-linejoin: miter; stroke-linecap: square\"/>\n   </g>\n   <g id=\"patch_6\">\n    <path d=\"M 33.664062 7.2 \nL 251.104062 7.2 \n\" style=\"fill: none; stroke: #000000; stroke-width: 0.8; stroke-linejoin: miter; stroke-linecap: square\"/>\n   </g>\n   <g id=\"text_7\">\n    <!-- 51 -->\n    <g style=\"fill: #440154\" transform=\"translate(82.51625 64.174062)scale(0.1 -0.1)\">\n     <defs>\n      <path id=\"MalgunGothic-35\" d=\"M 3072 1403 \nQ 3072 722 2636 322 \nQ 2200 -78 1469 -78 \nQ 828 -78 516 113 \nL 516 650 \nQ 994 344 1475 344 \nQ 1969 344 2270 630 \nQ 2572 916 2572 1372 \nQ 2572 1838 2265 2092 \nQ 1959 2347 1381 2347 \nQ 994 2347 603 2300 \nL 759 4600 \nL 2869 4600 \nL 2869 4147 \nL 1206 4147 \nL 1106 2763 \nQ 1347 2784 1547 2784 \nQ 2263 2784 2667 2414 \nQ 3072 2044 3072 1403 \nz\n\" transform=\"scale(0.015625)\"/>\n     </defs>\n     <use xlink:href=\"#MalgunGothic-35\"/>\n     <use xlink:href=\"#MalgunGothic-31\" x=\"55.078125\"/>\n    </g>\n   </g>\n   <g id=\"text_8\">\n    <!-- 2 -->\n    <g style=\"fill: #fde725\" transform=\"translate(193.990156 64.174062)scale(0.1 -0.1)\">\n     <defs>\n      <path id=\"MalgunGothic-32\" d=\"M 2519 3372 \nQ 2519 3784 2275 4018 \nQ 2031 4253 1628 4253 \nQ 1341 4253 1053 4104 \nQ 766 3956 534 3697 \nL 534 4234 \nQ 981 4675 1691 4675 \nQ 2281 4675 2642 4334 \nQ 3003 3994 3003 3416 \nQ 3003 2919 2772 2545 \nQ 2541 2172 1984 1775 \nQ 1459 1406 1254 1215 \nQ 1050 1025 967 854 \nQ 884 684 884 450 \nL 3116 450 \nL 3116 0 \nL 356 0 \nL 356 225 \nQ 356 603 461 870 \nQ 566 1138 811 1392 \nQ 1056 1647 1597 2022 \nQ 2091 2363 2305 2670 \nQ 2519 2978 2519 3372 \nz\n\" transform=\"scale(0.015625)\"/>\n     </defs>\n     <use xlink:href=\"#MalgunGothic-32\"/>\n    </g>\n   </g>\n   <g id=\"text_9\">\n    <!-- 2 -->\n    <g style=\"fill: #fde725\" transform=\"translate(85.270156 172.894062)scale(0.1 -0.1)\">\n     <use xlink:href=\"#MalgunGothic-32\"/>\n    </g>\n   </g>\n   <g id=\"text_10\">\n    <!-- 88 -->\n    <g style=\"fill: #440154\" transform=\"translate(191.23625 172.894062)scale(0.1 -0.1)\">\n     <defs>\n      <path id=\"MalgunGothic-38\" d=\"M 303 1281 \nQ 303 1669 539 2011 \nQ 775 2353 1153 2494 \nQ 856 2647 675 2915 \nQ 494 3184 494 3500 \nQ 494 3828 659 4098 \nQ 825 4369 1122 4522 \nQ 1419 4675 1778 4675 \nQ 2334 4675 2700 4342 \nQ 3066 4009 3066 3500 \nQ 3066 3181 2881 2914 \nQ 2697 2647 2413 2494 \nQ 2788 2350 3022 2009 \nQ 3256 1669 3256 1281 \nQ 3256 672 2843 297 \nQ 2431 -78 1778 -78 \nQ 1131 -78 717 301 \nQ 303 681 303 1281 \nz\nM 809 1328 \nQ 809 878 1081 611 \nQ 1353 344 1781 344 \nQ 2206 344 2482 619 \nQ 2759 894 2759 1328 \nQ 2759 1731 2482 2011 \nQ 2206 2291 1781 2291 \nQ 1372 2291 1090 2020 \nQ 809 1750 809 1328 \nz\nM 1003 3459 \nQ 1003 3125 1234 2900 \nQ 1466 2675 1781 2675 \nQ 2097 2675 2330 2900 \nQ 2563 3125 2563 3459 \nQ 2563 3803 2341 4026 \nQ 2119 4250 1781 4250 \nQ 1450 4250 1226 4029 \nQ 1003 3809 1003 3459 \nz\n\" transform=\"scale(0.015625)\"/>\n     </defs>\n     <use xlink:href=\"#MalgunGothic-38\"/>\n     <use xlink:href=\"#MalgunGothic-38\" x=\"55.078125\"/>\n    </g>\n   </g>\n  </g>\n  <g id=\"axes_2\">\n   <g id=\"patch_7\">\n    <path d=\"M 267.844063 224.64 \nL 278.716063 224.64 \nL 278.716063 7.2 \nL 267.844063 7.2 \nz\n\" style=\"fill: #ffffff\"/>\n   </g>\n   <g id=\"patch_8\">\n    <path clip-path=\"url(#p6e9826df28)\" style=\"fill: #ffffff; stroke: #ffffff; stroke-width: 0.01; stroke-linejoin: miter\"/>\n   </g>\n   <image xlink:href=\"data:image/png;base64,\niVBORw0KGgoAAAANSUhEUgAAAAsAAADaCAYAAABwzrisAAABXklEQVR4nOXa0Y0CMRCD4SSTpTJKoP9K7o5rId+DpVngeWTZ/zhZtDCf8/Ueh5895jqdHXuueT5sylWgbDZgeC7wTMojFnAK5xy6II2cjRyNJgF70HhXj4Dk2dAdz4495JIJ2gjSEOWg55TyEGUqv3EmGzEapmw0RLkJDelzl6UQOgrY5XTDcBd0wYCxS8bWLcqfvu4uns9nv4DGxwe8YflB954Bo30+P99oo8ejrQuN4LrBcxDdStloQgO+IiVpjJELGFMWGsZZPFNAsoEBZfjcBQdM0aj118HGitFYcgYr1o1gQBmuCesm5S7Dsu4t5W/imZT3+u1gY0nrKrhuoFFGI1UkpAE2rindyF0ydD+LMgaUisa6UbJBWspj/oBybClUUSo/obuERu4MEjoMGLvrggFTD6DHiN11dFIs4PEsKl+mDD83yNu9XfJDxhIbF7zPUhugTJ5L/ggkNv4BhseBbPAtGr0AAAAASUVORK5CYII=\" id=\"image91199ae6a0\" transform=\"scale(1 -1)translate(0 -218)\" x=\"268\" y=\"-6\" width=\"11\" height=\"218\"/>\n   <g id=\"matplotlib.axis_3\">\n    <g id=\"ytick_3\">\n     <g id=\"line2d_5\">\n      <defs>\n       <path id=\"mdd8c28d30f\" d=\"M 0 0 \nL 3.5 0 \n\" style=\"stroke: #000000; stroke-width: 0.8\"/>\n      </defs>\n      <g>\n       <use xlink:href=\"#mdd8c28d30f\" x=\"278.716063\" y=\"204.413023\" style=\"stroke: #000000; stroke-width: 0.8\"/>\n      </g>\n     </g>\n     <g id=\"text_11\">\n      <!-- 10 -->\n      <g transform=\"translate(285.716063 208.209117)scale(0.1 -0.1)\">\n       <use xlink:href=\"#MalgunGothic-31\"/>\n       <use xlink:href=\"#MalgunGothic-30\" x=\"55.078125\"/>\n      </g>\n     </g>\n    </g>\n    <g id=\"ytick_4\">\n     <g id=\"line2d_6\">\n      <g>\n       <use xlink:href=\"#mdd8c28d30f\" x=\"278.716063\" y=\"179.129302\" style=\"stroke: #000000; stroke-width: 0.8\"/>\n      </g>\n     </g>\n     <g id=\"text_12\">\n      <!-- 20 -->\n      <g transform=\"translate(285.716063 182.925396)scale(0.1 -0.1)\">\n       <use xlink:href=\"#MalgunGothic-32\"/>\n       <use xlink:href=\"#MalgunGothic-30\" x=\"55.078125\"/>\n      </g>\n     </g>\n    </g>\n    <g id=\"ytick_5\">\n     <g id=\"line2d_7\">\n      <g>\n       <use xlink:href=\"#mdd8c28d30f\" x=\"278.716063\" y=\"153.845581\" style=\"stroke: #000000; stroke-width: 0.8\"/>\n      </g>\n     </g>\n     <g id=\"text_13\">\n      <!-- 30 -->\n      <g transform=\"translate(285.716063 157.641675)scale(0.1 -0.1)\">\n       <defs>\n        <path id=\"MalgunGothic-33\" d=\"M 416 719 \nQ 891 344 1478 344 \nQ 1959 344 2254 587 \nQ 2550 831 2550 1247 \nQ 2550 2169 1253 2169 \nL 872 2169 \nL 872 2591 \nL 1234 2591 \nQ 2388 2591 2388 3453 \nQ 2388 4250 1509 4250 \nQ 1022 4250 594 3916 \nL 594 4413 \nQ 1031 4675 1634 4675 \nQ 2184 4675 2539 4372 \nQ 2894 4069 2894 3581 \nQ 2894 2678 1972 2409 \nL 1972 2400 \nQ 2469 2356 2764 2053 \nQ 3059 1750 3059 1300 \nQ 3059 672 2604 297 \nQ 2150 -78 1450 -78 \nQ 806 -78 416 169 \nL 416 719 \nz\n\" transform=\"scale(0.015625)\"/>\n       </defs>\n       <use xlink:href=\"#MalgunGothic-33\"/>\n       <use xlink:href=\"#MalgunGothic-30\" x=\"55.078125\"/>\n      </g>\n     </g>\n    </g>\n    <g id=\"ytick_6\">\n     <g id=\"line2d_8\">\n      <g>\n       <use xlink:href=\"#mdd8c28d30f\" x=\"278.716063\" y=\"128.56186\" style=\"stroke: #000000; stroke-width: 0.8\"/>\n      </g>\n     </g>\n     <g id=\"text_14\">\n      <!-- 40 -->\n      <g transform=\"translate(285.716063 132.357954)scale(0.1 -0.1)\">\n       <defs>\n        <path id=\"MalgunGothic-34\" d=\"M 2703 4600 \nL 2703 1563 \nL 3309 1563 \nL 3309 1113 \nL 2703 1113 \nL 2703 0 \nL 2213 0 \nL 2213 1113 \nL 50 1113 \nL 50 1534 \nQ 728 2297 1295 3109 \nQ 1863 3922 2172 4600 \nL 2703 4600 \nz\nM 625 1563 \nL 2213 1563 \nL 2213 3831 \nQ 1613 2788 959 1981 \nL 625 1563 \nz\n\" transform=\"scale(0.015625)\"/>\n       </defs>\n       <use xlink:href=\"#MalgunGothic-34\"/>\n       <use xlink:href=\"#MalgunGothic-30\" x=\"55.078125\"/>\n      </g>\n     </g>\n    </g>\n    <g id=\"ytick_7\">\n     <g id=\"line2d_9\">\n      <g>\n       <use xlink:href=\"#mdd8c28d30f\" x=\"278.716063\" y=\"103.27814\" style=\"stroke: #000000; stroke-width: 0.8\"/>\n      </g>\n     </g>\n     <g id=\"text_15\">\n      <!-- 50 -->\n      <g transform=\"translate(285.716063 107.074233)scale(0.1 -0.1)\">\n       <use xlink:href=\"#MalgunGothic-35\"/>\n       <use xlink:href=\"#MalgunGothic-30\" x=\"55.078125\"/>\n      </g>\n     </g>\n    </g>\n    <g id=\"ytick_8\">\n     <g id=\"line2d_10\">\n      <g>\n       <use xlink:href=\"#mdd8c28d30f\" x=\"278.716063\" y=\"77.994419\" style=\"stroke: #000000; stroke-width: 0.8\"/>\n      </g>\n     </g>\n     <g id=\"text_16\">\n      <!-- 60 -->\n      <g transform=\"translate(285.716063 81.790512)scale(0.1 -0.1)\">\n       <defs>\n        <path id=\"MalgunGothic-36\" d=\"M 2981 4069 \nQ 2619 4250 2228 4250 \nQ 1591 4250 1228 3689 \nQ 866 3128 869 2213 \nL 884 2213 \nQ 1203 2872 1938 2872 \nQ 2547 2872 2903 2478 \nQ 3259 2084 3259 1450 \nQ 3259 797 2857 359 \nQ 2456 -78 1825 -78 \nQ 1116 -78 736 478 \nQ 356 1034 356 2019 \nQ 356 3181 847 3928 \nQ 1338 4675 2222 4675 \nQ 2700 4675 2981 4544 \nL 2981 4069 \nz\nM 906 1506 \nQ 906 1022 1165 683 \nQ 1425 344 1844 344 \nQ 2247 344 2498 645 \nQ 2750 947 2750 1388 \nQ 2750 1888 2509 2167 \nQ 2269 2447 1838 2447 \nQ 1444 2447 1175 2173 \nQ 906 1900 906 1506 \nz\n\" transform=\"scale(0.015625)\"/>\n       </defs>\n       <use xlink:href=\"#MalgunGothic-36\"/>\n       <use xlink:href=\"#MalgunGothic-30\" x=\"55.078125\"/>\n      </g>\n     </g>\n    </g>\n    <g id=\"ytick_9\">\n     <g id=\"line2d_11\">\n      <g>\n       <use xlink:href=\"#mdd8c28d30f\" x=\"278.716063\" y=\"52.710698\" style=\"stroke: #000000; stroke-width: 0.8\"/>\n      </g>\n     </g>\n     <g id=\"text_17\">\n      <!-- 70 -->\n      <g transform=\"translate(285.716063 56.506791)scale(0.1 -0.1)\">\n       <defs>\n        <path id=\"MalgunGothic-37\" d=\"M 3213 4297 \nQ 2478 3006 2064 1918 \nQ 1650 831 1550 0 \nL 1009 0 \nQ 1084 531 1290 1176 \nQ 1497 1822 1815 2537 \nQ 2134 3253 2631 4147 \nL 291 4147 \nL 291 4600 \nL 3213 4600 \nL 3213 4297 \nz\n\" transform=\"scale(0.015625)\"/>\n       </defs>\n       <use xlink:href=\"#MalgunGothic-37\"/>\n       <use xlink:href=\"#MalgunGothic-30\" x=\"55.078125\"/>\n      </g>\n     </g>\n    </g>\n    <g id=\"ytick_10\">\n     <g id=\"line2d_12\">\n      <g>\n       <use xlink:href=\"#mdd8c28d30f\" x=\"278.716063\" y=\"27.426977\" style=\"stroke: #000000; stroke-width: 0.8\"/>\n      </g>\n     </g>\n     <g id=\"text_18\">\n      <!-- 80 -->\n      <g transform=\"translate(285.716063 31.22307)scale(0.1 -0.1)\">\n       <use xlink:href=\"#MalgunGothic-38\"/>\n       <use xlink:href=\"#MalgunGothic-30\" x=\"55.078125\"/>\n      </g>\n     </g>\n    </g>\n   </g>\n   <g id=\"LineCollection_1\"/>\n   <g id=\"patch_9\">\n    <path d=\"M 267.844063 224.64 \nL 273.280063 224.64 \nL 278.716063 224.64 \nL 278.716063 7.2 \nL 273.280063 7.2 \nL 267.844063 7.2 \nL 267.844063 224.64 \nz\n\" style=\"fill: none; stroke: #000000; stroke-width: 0.8; stroke-linejoin: miter; stroke-linecap: square\"/>\n   </g>\n  </g>\n </g>\n <defs>\n  <clipPath id=\"pc7cbf96328\">\n   <rect x=\"33.664062\" y=\"7.2\" width=\"217.44\" height=\"217.44\"/>\n  </clipPath>\n  <clipPath id=\"p6e9826df28\">\n   <rect x=\"267.844063\" y=\"7.2\" width=\"10.872\" height=\"217.44\"/>\n  </clipPath>\n </defs>\n</svg>\n",
      "text/plain": [
       "<Figure size 432x288 with 2 Axes>"
      ]
     },
     "metadata": {
      "needs_background": "light"
     },
     "output_type": "display_data"
    }
   ],
   "source": [
    "ConfusionMatrixDisplay.from_estimator(grid, X_test, y_test)"
   ]
  },
  {
   "cell_type": "code",
   "execution_count": 23,
   "metadata": {},
   "outputs": [
    {
     "data": {
      "text/plain": [
       "SVC()"
      ]
     },
     "execution_count": 23,
     "metadata": {},
     "output_type": "execute_result"
    }
   ],
   "source": [
    "pipe.named_steps['svc']"
   ]
  },
  {
   "cell_type": "code",
   "execution_count": 24,
   "metadata": {},
   "outputs": [],
   "source": [
    "pipe = make_pipeline(StandardScaler(), LogisticRegression(max_iter=1000))"
   ]
  },
  {
   "cell_type": "code",
   "execution_count": 25,
   "metadata": {},
   "outputs": [],
   "source": [
    "param_grid = {'logisticregression__C':np.logspace(-3, 1, 5)}\n",
    "grid = GridSearchCV(pipe, param_grid=param_grid, cv=5).fit(X_train, y_train)"
   ]
  },
  {
   "cell_type": "code",
   "execution_count": 26,
   "metadata": {},
   "outputs": [
    {
     "data": {
      "text/plain": [
       "Pipeline(steps=[('standardscaler', StandardScaler()),\n",
       "                ('logisticregression', LogisticRegression(max_iter=1000))])"
      ]
     },
     "execution_count": 26,
     "metadata": {},
     "output_type": "execute_result"
    }
   ],
   "source": [
    "grid.best_estimator_"
   ]
  },
  {
   "cell_type": "code",
   "execution_count": 28,
   "metadata": {},
   "outputs": [
    {
     "data": {
      "text/plain": [
       "array([[-0.29792942, -0.58056355, -0.3109406 , -0.377129  , -0.11984232,\n",
       "         0.42855478, -0.71131106, -0.85371164, -0.46688191,  0.11762548,\n",
       "        -1.38262136,  0.0899184 , -0.94778563, -0.94686238,  0.18575731,\n",
       "         0.99305313,  0.11090349, -0.3458275 ,  0.20290919,  0.80470317,\n",
       "        -0.91626377, -0.91726667, -0.8159834 , -0.86539197, -0.45539191,\n",
       "         0.10347391, -0.83009341, -0.98445173, -0.5920036 , -0.61086989]])"
      ]
     },
     "execution_count": 28,
     "metadata": {},
     "output_type": "execute_result"
    }
   ],
   "source": [
    "grid.best_estimator_.named_steps['logisticregression'].coef_"
   ]
  },
  {
   "cell_type": "code",
   "execution_count": 29,
   "metadata": {},
   "outputs": [],
   "source": [
    "X_train, X_test, y_train, y_test = train_test_split(cancer['data'], cancer['target'], random_state=4)"
   ]
  },
  {
   "cell_type": "code",
   "execution_count": 30,
   "metadata": {},
   "outputs": [],
   "source": [
    "pipe = make_pipeline(StandardScaler(), LogisticRegression(max_iter=1000))\n",
    "param_grid = {'logisticregression__C':np.logspace(-3, 1, 5)}\n",
    "grid = GridSearchCV(pipe, param_grid=param_grid, cv=5).fit(X_train, y_train)"
   ]
  },
  {
   "cell_type": "code",
   "execution_count": 31,
   "metadata": {},
   "outputs": [
    {
     "data": {
      "text/plain": [
       "Pipeline(steps=[('standardscaler', StandardScaler()),\n",
       "                ('logisticregression', LogisticRegression(max_iter=1000))])"
      ]
     },
     "execution_count": 31,
     "metadata": {},
     "output_type": "execute_result"
    }
   ],
   "source": [
    "grid.best_estimator_"
   ]
  },
  {
   "cell_type": "code",
   "execution_count": 33,
   "metadata": {},
   "outputs": [
    {
     "data": {
      "text/plain": [
       "array([[-0.436, -0.343, -0.408, -0.534, -0.15 ,  0.61 , -0.726, -0.785,\n",
       "         0.039,  0.275, -1.298,  0.049, -0.673, -0.934, -0.139,  0.45 ,\n",
       "        -0.13 , -0.101,  0.434,  0.716, -1.091, -1.095, -0.852, -1.064,\n",
       "        -0.743,  0.073, -0.823, -0.653, -0.644, -0.42 ]])"
      ]
     },
     "execution_count": 33,
     "metadata": {},
     "output_type": "execute_result"
    }
   ],
   "source": [
    "grid.best_estimator_.named_steps['logisticregression'].coef_.round(3)"
   ]
  },
  {
   "cell_type": "code",
   "execution_count": 34,
   "metadata": {},
   "outputs": [
    {
     "name": "stderr",
     "output_type": "stream",
     "text": [
      "c:\\Users\\admin\\anaconda3\\lib\\site-packages\\sklearn\\utils\\deprecation.py:87: FutureWarning: Function load_boston is deprecated; `load_boston` is deprecated in 1.0 and will be removed in 1.2.\n",
      "\n",
      "    The Boston housing prices dataset has an ethical problem. You can refer to\n",
      "    the documentation of this function for further details.\n",
      "\n",
      "    The scikit-learn maintainers therefore strongly discourage the use of this\n",
      "    dataset unless the purpose of the code is to study and educate about\n",
      "    ethical issues in data science and machine learning.\n",
      "\n",
      "    In this special case, you can fetch the dataset from the original\n",
      "    source::\n",
      "\n",
      "        import pandas as pd\n",
      "        import numpy as np\n",
      "\n",
      "\n",
      "        data_url = \"http://lib.stat.cmu.edu/datasets/boston\"\n",
      "        raw_df = pd.read_csv(data_url, sep=\"\\s+\", skiprows=22, header=None)\n",
      "        data = np.hstack([raw_df.values[::2, :], raw_df.values[1::2, :2]])\n",
      "        target = raw_df.values[1::2, 2]\n",
      "\n",
      "    Alternative datasets include the California housing dataset (i.e.\n",
      "    :func:`~sklearn.datasets.fetch_california_housing`) and the Ames housing\n",
      "    dataset. You can load the datasets as follows::\n",
      "\n",
      "        from sklearn.datasets import fetch_california_housing\n",
      "        housing = fetch_california_housing()\n",
      "\n",
      "    for the California housing dataset and::\n",
      "\n",
      "        from sklearn.datasets import fetch_openml\n",
      "        housing = fetch_openml(name=\"house_prices\", as_frame=True)\n",
      "\n",
      "    for the Ames housing dataset.\n",
      "    \n",
      "  warnings.warn(msg, category=FutureWarning)\n"
     ]
    }
   ],
   "source": [
    "boston = load_boston()"
   ]
  },
  {
   "cell_type": "code",
   "execution_count": 35,
   "metadata": {},
   "outputs": [],
   "source": [
    "X_train, X_test, y_train, y_test = train_test_split(boston['data'], boston['target'], random_state=0)"
   ]
  },
  {
   "cell_type": "code",
   "execution_count": 36,
   "metadata": {},
   "outputs": [],
   "source": [
    "pipe = make_pipeline(StandardScaler(), PolynomialFeatures(), Ridge())"
   ]
  },
  {
   "cell_type": "code",
   "execution_count": 46,
   "metadata": {},
   "outputs": [],
   "source": [
    "param_grid = {'polynomialfeatures__degree':[1, 2, 3], 'ridge__alpha':np.logspace(-4, 2, 7)}\n",
    "grid = GridSearchCV(pipe, param_grid=param_grid, cv=5).fit(X_train, y_train)"
   ]
  },
  {
   "cell_type": "code",
   "execution_count": 54,
   "metadata": {},
   "outputs": [
    {
     "data": {
      "text/plain": [
       "<AxesSubplot:>"
      ]
     },
     "execution_count": 54,
     "metadata": {},
     "output_type": "execute_result"
    },
    {
     "data": {
      "image/svg+xml": "<?xml version=\"1.0\" encoding=\"utf-8\" standalone=\"no\"?>\n<!DOCTYPE svg PUBLIC \"-//W3C//DTD SVG 1.1//EN\"\n  \"http://www.w3.org/Graphics/SVG/1.1/DTD/svg11.dtd\">\n<svg xmlns:xlink=\"http://www.w3.org/1999/xlink\" width=\"354.43325pt\" height=\"252.333543pt\" viewBox=\"0 0 354.43325 252.333543\" xmlns=\"http://www.w3.org/2000/svg\" version=\"1.1\">\n <metadata>\n  <rdf:RDF xmlns:dc=\"http://purl.org/dc/elements/1.1/\" xmlns:cc=\"http://creativecommons.org/ns#\" xmlns:rdf=\"http://www.w3.org/1999/02/22-rdf-syntax-ns#\">\n   <cc:Work>\n    <dc:type rdf:resource=\"http://purl.org/dc/dcmitype/StillImage\"/>\n    <dc:date>2022-11-21T21:40:31.427561</dc:date>\n    <dc:format>image/svg+xml</dc:format>\n    <dc:creator>\n     <cc:Agent>\n      <dc:title>Matplotlib v3.5.1, https://matplotlib.org/</dc:title>\n     </cc:Agent>\n    </dc:creator>\n   </cc:Work>\n  </rdf:RDF>\n </metadata>\n <defs>\n  <style type=\"text/css\">*{stroke-linejoin: round; stroke-linecap: butt}</style>\n </defs>\n <g id=\"figure_1\">\n  <g id=\"patch_1\">\n   <path d=\"M 0 252.333543 \nL 354.43325 252.333543 \nL 354.43325 0 \nL 0 0 \nL 0 252.333543 \nz\n\" style=\"fill: none\"/>\n  </g>\n  <g id=\"axes_1\">\n   <g id=\"patch_2\">\n    <path d=\"M 24.15625 228.177293 \nL 291.99625 228.177293 \nL 291.99625 10.737293 \nL 24.15625 10.737293 \nz\n\" style=\"fill: #ffffff\"/>\n   </g>\n   <g id=\"QuadMesh_1\">\n    <path d=\"M 24.15625 10.737293 \nL 62.419107 10.737293 \nL 62.419107 83.217293 \nL 24.15625 83.217293 \nL 24.15625 10.737293 \n\" clip-path=\"url(#p5c5c3728e5)\" style=\"fill: #faebdd\"/>\n    <path d=\"M 62.419107 10.737293 \nL 100.681964 10.737293 \nL 100.681964 83.217293 \nL 62.419107 83.217293 \nL 62.419107 10.737293 \n\" clip-path=\"url(#p5c5c3728e5)\" style=\"fill: #faebdd\"/>\n    <path d=\"M 100.681964 10.737293 \nL 138.944821 10.737293 \nL 138.944821 83.217293 \nL 100.681964 83.217293 \nL 100.681964 10.737293 \n\" clip-path=\"url(#p5c5c3728e5)\" style=\"fill: #faebdd\"/>\n    <path d=\"M 138.944821 10.737293 \nL 177.207679 10.737293 \nL 177.207679 83.217293 \nL 138.944821 83.217293 \nL 138.944821 10.737293 \n\" clip-path=\"url(#p5c5c3728e5)\" style=\"fill: #faebdd\"/>\n    <path d=\"M 177.207679 10.737293 \nL 215.470536 10.737293 \nL 215.470536 83.217293 \nL 177.207679 83.217293 \nL 177.207679 10.737293 \n\" clip-path=\"url(#p5c5c3728e5)\" style=\"fill: #faebdd\"/>\n    <path d=\"M 215.470536 10.737293 \nL 253.733393 10.737293 \nL 253.733393 83.217293 \nL 215.470536 83.217293 \nL 215.470536 10.737293 \n\" clip-path=\"url(#p5c5c3728e5)\" style=\"fill: #faebdd\"/>\n    <path d=\"M 253.733393 10.737293 \nL 291.99625 10.737293 \nL 291.99625 83.217293 \nL 253.733393 83.217293 \nL 253.733393 10.737293 \n\" clip-path=\"url(#p5c5c3728e5)\" style=\"fill: #faebdd\"/>\n    <path d=\"M 24.15625 83.217293 \nL 62.419107 83.217293 \nL 62.419107 155.697293 \nL 24.15625 155.697293 \nL 24.15625 83.217293 \n\" clip-path=\"url(#p5c5c3728e5)\" style=\"fill: #faebdd\"/>\n    <path d=\"M 62.419107 83.217293 \nL 100.681964 83.217293 \nL 100.681964 155.697293 \nL 62.419107 155.697293 \nL 62.419107 83.217293 \n\" clip-path=\"url(#p5c5c3728e5)\" style=\"fill: #faebdd\"/>\n    <path d=\"M 100.681964 83.217293 \nL 138.944821 83.217293 \nL 138.944821 155.697293 \nL 100.681964 155.697293 \nL 100.681964 83.217293 \n\" clip-path=\"url(#p5c5c3728e5)\" style=\"fill: #faebdd\"/>\n    <path d=\"M 138.944821 83.217293 \nL 177.207679 83.217293 \nL 177.207679 155.697293 \nL 138.944821 155.697293 \nL 138.944821 83.217293 \n\" clip-path=\"url(#p5c5c3728e5)\" style=\"fill: #faebdd\"/>\n    <path d=\"M 177.207679 83.217293 \nL 215.470536 83.217293 \nL 215.470536 155.697293 \nL 177.207679 155.697293 \nL 177.207679 83.217293 \n\" clip-path=\"url(#p5c5c3728e5)\" style=\"fill: #faebdd\"/>\n    <path d=\"M 215.470536 83.217293 \nL 253.733393 83.217293 \nL 253.733393 155.697293 \nL 215.470536 155.697293 \nL 215.470536 83.217293 \n\" clip-path=\"url(#p5c5c3728e5)\" style=\"fill: #faebdd\"/>\n    <path d=\"M 253.733393 83.217293 \nL 291.99625 83.217293 \nL 291.99625 155.697293 \nL 253.733393 155.697293 \nL 253.733393 83.217293 \n\" clip-path=\"url(#p5c5c3728e5)\" style=\"fill: #faebdd\"/>\n    <path d=\"M 24.15625 155.697293 \nL 62.419107 155.697293 \nL 62.419107 228.177293 \nL 24.15625 228.177293 \nL 24.15625 155.697293 \n\" clip-path=\"url(#p5c5c3728e5)\" style=\"fill: #03051a\"/>\n    <path d=\"M 62.419107 155.697293 \nL 100.681964 155.697293 \nL 100.681964 228.177293 \nL 62.419107 228.177293 \nL 62.419107 155.697293 \n\" clip-path=\"url(#p5c5c3728e5)\" style=\"fill: #3f1b43\"/>\n    <path d=\"M 100.681964 155.697293 \nL 138.944821 155.697293 \nL 138.944821 228.177293 \nL 100.681964 228.177293 \nL 100.681964 155.697293 \n\" clip-path=\"url(#p5c5c3728e5)\" style=\"fill: #f58f66\"/>\n    <path d=\"M 138.944821 155.697293 \nL 177.207679 155.697293 \nL 177.207679 228.177293 \nL 138.944821 228.177293 \nL 138.944821 155.697293 \n\" clip-path=\"url(#p5c5c3728e5)\" style=\"fill: #f9e3d2\"/>\n    <path d=\"M 177.207679 155.697293 \nL 215.470536 155.697293 \nL 215.470536 228.177293 \nL 177.207679 228.177293 \nL 177.207679 155.697293 \n\" clip-path=\"url(#p5c5c3728e5)\" style=\"fill: #faebdd\"/>\n    <path d=\"M 215.470536 155.697293 \nL 253.733393 155.697293 \nL 253.733393 228.177293 \nL 215.470536 228.177293 \nL 215.470536 155.697293 \n\" clip-path=\"url(#p5c5c3728e5)\" style=\"fill: #faebdd\"/>\n    <path d=\"M 253.733393 155.697293 \nL 291.99625 155.697293 \nL 291.99625 228.177293 \nL 253.733393 228.177293 \nL 253.733393 155.697293 \n\" clip-path=\"url(#p5c5c3728e5)\" style=\"fill: #faebdd\"/>\n   </g>\n   <g id=\"matplotlib.axis_1\">\n    <g id=\"xtick_1\">\n     <g id=\"line2d_1\">\n      <defs>\n       <path id=\"mb6d6491eae\" d=\"M 0 0 \nL 0 3.5 \n\" style=\"stroke: #000000; stroke-width: 0.8\"/>\n      </defs>\n      <g>\n       <use xlink:href=\"#mb6d6491eae\" x=\"43.287679\" y=\"228.177293\" style=\"stroke: #000000; stroke-width: 0.8\"/>\n      </g>\n     </g>\n     <g id=\"text_1\">\n      <!-- 0 -->\n      <g transform=\"translate(40.533772 242.76948)scale(0.1 -0.1)\">\n       <defs>\n        <path id=\"MalgunGothic-30\" d=\"M 278 2206 \nQ 278 3425 675 4050 \nQ 1072 4675 1819 4675 \nQ 3253 4675 3253 2319 \nQ 3253 1156 2854 539 \nQ 2456 -78 1716 -78 \nQ 1016 -78 647 520 \nQ 278 1119 278 2206 \nz\nM 784 2231 \nQ 784 344 1769 344 \nQ 2747 344 2747 2259 \nQ 2747 4250 1794 4250 \nQ 784 4250 784 2231 \nz\n\" transform=\"scale(0.015625)\"/>\n       </defs>\n       <use xlink:href=\"#MalgunGothic-30\"/>\n      </g>\n     </g>\n    </g>\n    <g id=\"xtick_2\">\n     <g id=\"line2d_2\">\n      <g>\n       <use xlink:href=\"#mb6d6491eae\" x=\"81.550536\" y=\"228.177293\" style=\"stroke: #000000; stroke-width: 0.8\"/>\n      </g>\n     </g>\n     <g id=\"text_2\">\n      <!-- 1 -->\n      <g transform=\"translate(78.796629 242.76948)scale(0.1 -0.1)\">\n       <defs>\n        <path id=\"MalgunGothic-31\" d=\"M 2231 0 \nL 1734 0 \nL 1734 3972 \nQ 1591 3828 1266 3661 \nQ 941 3494 672 3428 \nL 672 3959 \nQ 1016 4056 1409 4275 \nQ 1803 4494 2031 4700 \nL 2231 4700 \nL 2231 0 \nz\n\" transform=\"scale(0.015625)\"/>\n       </defs>\n       <use xlink:href=\"#MalgunGothic-31\"/>\n      </g>\n     </g>\n    </g>\n    <g id=\"xtick_3\">\n     <g id=\"line2d_3\">\n      <g>\n       <use xlink:href=\"#mb6d6491eae\" x=\"119.813393\" y=\"228.177293\" style=\"stroke: #000000; stroke-width: 0.8\"/>\n      </g>\n     </g>\n     <g id=\"text_3\">\n      <!-- 2 -->\n      <g transform=\"translate(117.059487 242.76948)scale(0.1 -0.1)\">\n       <defs>\n        <path id=\"MalgunGothic-32\" d=\"M 2519 3372 \nQ 2519 3784 2275 4018 \nQ 2031 4253 1628 4253 \nQ 1341 4253 1053 4104 \nQ 766 3956 534 3697 \nL 534 4234 \nQ 981 4675 1691 4675 \nQ 2281 4675 2642 4334 \nQ 3003 3994 3003 3416 \nQ 3003 2919 2772 2545 \nQ 2541 2172 1984 1775 \nQ 1459 1406 1254 1215 \nQ 1050 1025 967 854 \nQ 884 684 884 450 \nL 3116 450 \nL 3116 0 \nL 356 0 \nL 356 225 \nQ 356 603 461 870 \nQ 566 1138 811 1392 \nQ 1056 1647 1597 2022 \nQ 2091 2363 2305 2670 \nQ 2519 2978 2519 3372 \nz\n\" transform=\"scale(0.015625)\"/>\n       </defs>\n       <use xlink:href=\"#MalgunGothic-32\"/>\n      </g>\n     </g>\n    </g>\n    <g id=\"xtick_4\">\n     <g id=\"line2d_4\">\n      <g>\n       <use xlink:href=\"#mb6d6491eae\" x=\"158.07625\" y=\"228.177293\" style=\"stroke: #000000; stroke-width: 0.8\"/>\n      </g>\n     </g>\n     <g id=\"text_4\">\n      <!-- 3 -->\n      <g transform=\"translate(155.322344 242.76948)scale(0.1 -0.1)\">\n       <defs>\n        <path id=\"MalgunGothic-33\" d=\"M 416 719 \nQ 891 344 1478 344 \nQ 1959 344 2254 587 \nQ 2550 831 2550 1247 \nQ 2550 2169 1253 2169 \nL 872 2169 \nL 872 2591 \nL 1234 2591 \nQ 2388 2591 2388 3453 \nQ 2388 4250 1509 4250 \nQ 1022 4250 594 3916 \nL 594 4413 \nQ 1031 4675 1634 4675 \nQ 2184 4675 2539 4372 \nQ 2894 4069 2894 3581 \nQ 2894 2678 1972 2409 \nL 1972 2400 \nQ 2469 2356 2764 2053 \nQ 3059 1750 3059 1300 \nQ 3059 672 2604 297 \nQ 2150 -78 1450 -78 \nQ 806 -78 416 169 \nL 416 719 \nz\n\" transform=\"scale(0.015625)\"/>\n       </defs>\n       <use xlink:href=\"#MalgunGothic-33\"/>\n      </g>\n     </g>\n    </g>\n    <g id=\"xtick_5\">\n     <g id=\"line2d_5\">\n      <g>\n       <use xlink:href=\"#mb6d6491eae\" x=\"196.339107\" y=\"228.177293\" style=\"stroke: #000000; stroke-width: 0.8\"/>\n      </g>\n     </g>\n     <g id=\"text_5\">\n      <!-- 4 -->\n      <g transform=\"translate(193.585201 242.76948)scale(0.1 -0.1)\">\n       <defs>\n        <path id=\"MalgunGothic-34\" d=\"M 2703 4600 \nL 2703 1563 \nL 3309 1563 \nL 3309 1113 \nL 2703 1113 \nL 2703 0 \nL 2213 0 \nL 2213 1113 \nL 50 1113 \nL 50 1534 \nQ 728 2297 1295 3109 \nQ 1863 3922 2172 4600 \nL 2703 4600 \nz\nM 625 1563 \nL 2213 1563 \nL 2213 3831 \nQ 1613 2788 959 1981 \nL 625 1563 \nz\n\" transform=\"scale(0.015625)\"/>\n       </defs>\n       <use xlink:href=\"#MalgunGothic-34\"/>\n      </g>\n     </g>\n    </g>\n    <g id=\"xtick_6\">\n     <g id=\"line2d_6\">\n      <g>\n       <use xlink:href=\"#mb6d6491eae\" x=\"234.601964\" y=\"228.177293\" style=\"stroke: #000000; stroke-width: 0.8\"/>\n      </g>\n     </g>\n     <g id=\"text_6\">\n      <!-- 5 -->\n      <g transform=\"translate(231.848058 242.76948)scale(0.1 -0.1)\">\n       <defs>\n        <path id=\"MalgunGothic-35\" d=\"M 3072 1403 \nQ 3072 722 2636 322 \nQ 2200 -78 1469 -78 \nQ 828 -78 516 113 \nL 516 650 \nQ 994 344 1475 344 \nQ 1969 344 2270 630 \nQ 2572 916 2572 1372 \nQ 2572 1838 2265 2092 \nQ 1959 2347 1381 2347 \nQ 994 2347 603 2300 \nL 759 4600 \nL 2869 4600 \nL 2869 4147 \nL 1206 4147 \nL 1106 2763 \nQ 1347 2784 1547 2784 \nQ 2263 2784 2667 2414 \nQ 3072 2044 3072 1403 \nz\n\" transform=\"scale(0.015625)\"/>\n       </defs>\n       <use xlink:href=\"#MalgunGothic-35\"/>\n      </g>\n     </g>\n    </g>\n    <g id=\"xtick_7\">\n     <g id=\"line2d_7\">\n      <g>\n       <use xlink:href=\"#mb6d6491eae\" x=\"272.864821\" y=\"228.177293\" style=\"stroke: #000000; stroke-width: 0.8\"/>\n      </g>\n     </g>\n     <g id=\"text_7\">\n      <!-- 6 -->\n      <g transform=\"translate(270.110915 242.76948)scale(0.1 -0.1)\">\n       <defs>\n        <path id=\"MalgunGothic-36\" d=\"M 2981 4069 \nQ 2619 4250 2228 4250 \nQ 1591 4250 1228 3689 \nQ 866 3128 869 2213 \nL 884 2213 \nQ 1203 2872 1938 2872 \nQ 2547 2872 2903 2478 \nQ 3259 2084 3259 1450 \nQ 3259 797 2857 359 \nQ 2456 -78 1825 -78 \nQ 1116 -78 736 478 \nQ 356 1034 356 2019 \nQ 356 3181 847 3928 \nQ 1338 4675 2222 4675 \nQ 2700 4675 2981 4544 \nL 2981 4069 \nz\nM 906 1506 \nQ 906 1022 1165 683 \nQ 1425 344 1844 344 \nQ 2247 344 2498 645 \nQ 2750 947 2750 1388 \nQ 2750 1888 2509 2167 \nQ 2269 2447 1838 2447 \nQ 1444 2447 1175 2173 \nQ 906 1900 906 1506 \nz\n\" transform=\"scale(0.015625)\"/>\n       </defs>\n       <use xlink:href=\"#MalgunGothic-36\"/>\n      </g>\n     </g>\n    </g>\n   </g>\n   <g id=\"matplotlib.axis_2\">\n    <g id=\"ytick_1\">\n     <g id=\"line2d_8\">\n      <defs>\n       <path id=\"m0b63272426\" d=\"M 0 0 \nL -3.5 0 \n\" style=\"stroke: #000000; stroke-width: 0.8\"/>\n      </defs>\n      <g>\n       <use xlink:href=\"#m0b63272426\" x=\"24.15625\" y=\"46.977293\" style=\"stroke: #000000; stroke-width: 0.8\"/>\n      </g>\n     </g>\n     <g id=\"text_8\">\n      <!-- 0 -->\n      <g transform=\"translate(14.792188 49.731199)rotate(-90)scale(0.1 -0.1)\">\n       <use xlink:href=\"#MalgunGothic-30\"/>\n      </g>\n     </g>\n    </g>\n    <g id=\"ytick_2\">\n     <g id=\"line2d_9\">\n      <g>\n       <use xlink:href=\"#m0b63272426\" x=\"24.15625\" y=\"119.457293\" style=\"stroke: #000000; stroke-width: 0.8\"/>\n      </g>\n     </g>\n     <g id=\"text_9\">\n      <!-- 1 -->\n      <g transform=\"translate(14.792188 122.211199)rotate(-90)scale(0.1 -0.1)\">\n       <use xlink:href=\"#MalgunGothic-31\"/>\n      </g>\n     </g>\n    </g>\n    <g id=\"ytick_3\">\n     <g id=\"line2d_10\">\n      <g>\n       <use xlink:href=\"#m0b63272426\" x=\"24.15625\" y=\"191.937293\" style=\"stroke: #000000; stroke-width: 0.8\"/>\n      </g>\n     </g>\n     <g id=\"text_10\">\n      <!-- 2 -->\n      <g transform=\"translate(14.792188 194.691199)rotate(-90)scale(0.1 -0.1)\">\n       <use xlink:href=\"#MalgunGothic-32\"/>\n      </g>\n     </g>\n    </g>\n   </g>\n   <g id=\"text_11\">\n    <!-- 0.72 -->\n    <g style=\"fill: #262626\" transform=\"translate(33.93221 49.591355)scale(0.1 -0.1)\">\n     <defs>\n      <path id=\"MalgunGothic-2e\" d=\"M 356 275 \nQ 356 422 459 523 \nQ 563 625 700 625 \nQ 838 625 941 523 \nQ 1044 422 1044 275 \nQ 1044 138 942 33 \nQ 841 -72 700 -72 \nQ 559 -72 457 29 \nQ 356 131 356 275 \nz\n\" transform=\"scale(0.015625)\"/>\n      <path id=\"MalgunGothic-37\" d=\"M 3213 4297 \nQ 2478 3006 2064 1918 \nQ 1650 831 1550 0 \nL 1009 0 \nQ 1084 531 1290 1176 \nQ 1497 1822 1815 2537 \nQ 2134 3253 2631 4147 \nL 291 4147 \nL 291 4600 \nL 3213 4600 \nL 3213 4297 \nz\n\" transform=\"scale(0.015625)\"/>\n     </defs>\n     <use xlink:href=\"#MalgunGothic-30\"/>\n     <use xlink:href=\"#MalgunGothic-2e\" x=\"55.078125\"/>\n     <use xlink:href=\"#MalgunGothic-37\" x=\"76.953125\"/>\n     <use xlink:href=\"#MalgunGothic-32\" x=\"132.03125\"/>\n    </g>\n   </g>\n   <g id=\"text_12\">\n    <!-- 0.72 -->\n    <g style=\"fill: #262626\" transform=\"translate(72.195067 49.591355)scale(0.1 -0.1)\">\n     <use xlink:href=\"#MalgunGothic-30\"/>\n     <use xlink:href=\"#MalgunGothic-2e\" x=\"55.078125\"/>\n     <use xlink:href=\"#MalgunGothic-37\" x=\"76.953125\"/>\n     <use xlink:href=\"#MalgunGothic-32\" x=\"132.03125\"/>\n    </g>\n   </g>\n   <g id=\"text_13\">\n    <!-- 0.72 -->\n    <g style=\"fill: #262626\" transform=\"translate(110.457924 49.591355)scale(0.1 -0.1)\">\n     <use xlink:href=\"#MalgunGothic-30\"/>\n     <use xlink:href=\"#MalgunGothic-2e\" x=\"55.078125\"/>\n     <use xlink:href=\"#MalgunGothic-37\" x=\"76.953125\"/>\n     <use xlink:href=\"#MalgunGothic-32\" x=\"132.03125\"/>\n    </g>\n   </g>\n   <g id=\"text_14\">\n    <!-- 0.72 -->\n    <g style=\"fill: #262626\" transform=\"translate(148.720781 49.591355)scale(0.1 -0.1)\">\n     <use xlink:href=\"#MalgunGothic-30\"/>\n     <use xlink:href=\"#MalgunGothic-2e\" x=\"55.078125\"/>\n     <use xlink:href=\"#MalgunGothic-37\" x=\"76.953125\"/>\n     <use xlink:href=\"#MalgunGothic-32\" x=\"132.03125\"/>\n    </g>\n   </g>\n   <g id=\"text_15\">\n    <!-- 0.72 -->\n    <g style=\"fill: #262626\" transform=\"translate(186.983638 49.591355)scale(0.1 -0.1)\">\n     <use xlink:href=\"#MalgunGothic-30\"/>\n     <use xlink:href=\"#MalgunGothic-2e\" x=\"55.078125\"/>\n     <use xlink:href=\"#MalgunGothic-37\" x=\"76.953125\"/>\n     <use xlink:href=\"#MalgunGothic-32\" x=\"132.03125\"/>\n    </g>\n   </g>\n   <g id=\"text_16\">\n    <!-- 0.72 -->\n    <g style=\"fill: #262626\" transform=\"translate(225.246496 49.591355)scale(0.1 -0.1)\">\n     <use xlink:href=\"#MalgunGothic-30\"/>\n     <use xlink:href=\"#MalgunGothic-2e\" x=\"55.078125\"/>\n     <use xlink:href=\"#MalgunGothic-37\" x=\"76.953125\"/>\n     <use xlink:href=\"#MalgunGothic-32\" x=\"132.03125\"/>\n    </g>\n   </g>\n   <g id=\"text_17\">\n    <!-- 0.71 -->\n    <g style=\"fill: #262626\" transform=\"translate(263.509353 49.591355)scale(0.1 -0.1)\">\n     <use xlink:href=\"#MalgunGothic-30\"/>\n     <use xlink:href=\"#MalgunGothic-2e\" x=\"55.078125\"/>\n     <use xlink:href=\"#MalgunGothic-37\" x=\"76.953125\"/>\n     <use xlink:href=\"#MalgunGothic-31\" x=\"132.03125\"/>\n    </g>\n   </g>\n   <g id=\"text_18\">\n    <!-- 0.76 -->\n    <g style=\"fill: #262626\" transform=\"translate(33.93221 122.071355)scale(0.1 -0.1)\">\n     <use xlink:href=\"#MalgunGothic-30\"/>\n     <use xlink:href=\"#MalgunGothic-2e\" x=\"55.078125\"/>\n     <use xlink:href=\"#MalgunGothic-37\" x=\"76.953125\"/>\n     <use xlink:href=\"#MalgunGothic-36\" x=\"132.03125\"/>\n    </g>\n   </g>\n   <g id=\"text_19\">\n    <!-- 0.76 -->\n    <g style=\"fill: #262626\" transform=\"translate(72.195067 122.071355)scale(0.1 -0.1)\">\n     <use xlink:href=\"#MalgunGothic-30\"/>\n     <use xlink:href=\"#MalgunGothic-2e\" x=\"55.078125\"/>\n     <use xlink:href=\"#MalgunGothic-37\" x=\"76.953125\"/>\n     <use xlink:href=\"#MalgunGothic-36\" x=\"132.03125\"/>\n    </g>\n   </g>\n   <g id=\"text_20\">\n    <!-- 0.76 -->\n    <g style=\"fill: #262626\" transform=\"translate(110.457924 122.071355)scale(0.1 -0.1)\">\n     <use xlink:href=\"#MalgunGothic-30\"/>\n     <use xlink:href=\"#MalgunGothic-2e\" x=\"55.078125\"/>\n     <use xlink:href=\"#MalgunGothic-37\" x=\"76.953125\"/>\n     <use xlink:href=\"#MalgunGothic-36\" x=\"132.03125\"/>\n    </g>\n   </g>\n   <g id=\"text_21\">\n    <!-- 0.77 -->\n    <g style=\"fill: #262626\" transform=\"translate(148.720781 122.071355)scale(0.1 -0.1)\">\n     <use xlink:href=\"#MalgunGothic-30\"/>\n     <use xlink:href=\"#MalgunGothic-2e\" x=\"55.078125\"/>\n     <use xlink:href=\"#MalgunGothic-37\" x=\"76.953125\"/>\n     <use xlink:href=\"#MalgunGothic-37\" x=\"132.03125\"/>\n    </g>\n   </g>\n   <g id=\"text_22\">\n    <!-- 0.79 -->\n    <g style=\"fill: #262626\" transform=\"translate(186.983638 122.071355)scale(0.1 -0.1)\">\n     <defs>\n      <path id=\"MalgunGothic-39\" d=\"M 556 563 \nQ 941 344 1366 344 \nQ 1994 344 2347 855 \nQ 2700 1366 2700 2313 \nQ 2694 2306 2688 2313 \nQ 2388 1713 1653 1713 \nQ 1059 1713 682 2120 \nQ 306 2528 306 3144 \nQ 306 3806 711 4240 \nQ 1116 4675 1772 4675 \nQ 2466 4675 2833 4131 \nQ 3200 3588 3200 2578 \nQ 3200 1319 2717 620 \nQ 2234 -78 1344 -78 \nQ 881 -78 556 78 \nL 556 563 \nz\nM 813 3219 \nQ 813 2741 1063 2450 \nQ 1313 2159 1759 2159 \nQ 2147 2159 2406 2417 \nQ 2666 2675 2666 3047 \nQ 2666 3556 2411 3903 \nQ 2156 4250 1725 4250 \nQ 1322 4250 1067 3948 \nQ 813 3647 813 3219 \nz\n\" transform=\"scale(0.015625)\"/>\n     </defs>\n     <use xlink:href=\"#MalgunGothic-30\"/>\n     <use xlink:href=\"#MalgunGothic-2e\" x=\"55.078125\"/>\n     <use xlink:href=\"#MalgunGothic-37\" x=\"76.953125\"/>\n     <use xlink:href=\"#MalgunGothic-39\" x=\"132.03125\"/>\n    </g>\n   </g>\n   <g id=\"text_23\">\n    <!-- 0.83 -->\n    <g style=\"fill: #262626\" transform=\"translate(225.246496 122.071355)scale(0.1 -0.1)\">\n     <defs>\n      <path id=\"MalgunGothic-38\" d=\"M 303 1281 \nQ 303 1669 539 2011 \nQ 775 2353 1153 2494 \nQ 856 2647 675 2915 \nQ 494 3184 494 3500 \nQ 494 3828 659 4098 \nQ 825 4369 1122 4522 \nQ 1419 4675 1778 4675 \nQ 2334 4675 2700 4342 \nQ 3066 4009 3066 3500 \nQ 3066 3181 2881 2914 \nQ 2697 2647 2413 2494 \nQ 2788 2350 3022 2009 \nQ 3256 1669 3256 1281 \nQ 3256 672 2843 297 \nQ 2431 -78 1778 -78 \nQ 1131 -78 717 301 \nQ 303 681 303 1281 \nz\nM 809 1328 \nQ 809 878 1081 611 \nQ 1353 344 1781 344 \nQ 2206 344 2482 619 \nQ 2759 894 2759 1328 \nQ 2759 1731 2482 2011 \nQ 2206 2291 1781 2291 \nQ 1372 2291 1090 2020 \nQ 809 1750 809 1328 \nz\nM 1003 3459 \nQ 1003 3125 1234 2900 \nQ 1466 2675 1781 2675 \nQ 2097 2675 2330 2900 \nQ 2563 3125 2563 3459 \nQ 2563 3803 2341 4026 \nQ 2119 4250 1781 4250 \nQ 1450 4250 1226 4029 \nQ 1003 3809 1003 3459 \nz\n\" transform=\"scale(0.015625)\"/>\n     </defs>\n     <use xlink:href=\"#MalgunGothic-30\"/>\n     <use xlink:href=\"#MalgunGothic-2e\" x=\"55.078125\"/>\n     <use xlink:href=\"#MalgunGothic-38\" x=\"76.953125\"/>\n     <use xlink:href=\"#MalgunGothic-33\" x=\"132.03125\"/>\n    </g>\n   </g>\n   <g id=\"text_24\">\n    <!-- 0.8 -->\n    <g style=\"fill: #262626\" transform=\"translate(266.263259 122.071355)scale(0.1 -0.1)\">\n     <use xlink:href=\"#MalgunGothic-30\"/>\n     <use xlink:href=\"#MalgunGothic-2e\" x=\"55.078125\"/>\n     <use xlink:href=\"#MalgunGothic-38\" x=\"76.953125\"/>\n    </g>\n   </g>\n   <g id=\"text_25\">\n    <!-- -7e+02 -->\n    <g style=\"fill: #ffffff\" transform=\"translate(26.796272 194.551355)scale(0.1 -0.1)\">\n     <defs>\n      <path id=\"MalgunGothic-2d\" d=\"M 2213 1634 \nL 463 1634 \nL 463 2031 \nL 2213 2031 \nL 2213 1634 \nz\n\" transform=\"scale(0.015625)\"/>\n      <path id=\"MalgunGothic-65\" d=\"M 3156 1519 \nL 828 1519 \nQ 844 950 1133 648 \nQ 1422 347 1909 347 \nQ 2472 347 2934 719 \nL 2934 244 \nQ 2494 -78 1794 -78 \nQ 1100 -78 708 376 \nQ 316 831 316 1634 \nQ 316 2381 747 2870 \nQ 1178 3359 1816 3359 \nQ 2453 3359 2804 2942 \nQ 3156 2525 3156 1788 \nL 3156 1519 \nz\nM 2644 1956 \nQ 2644 2416 2423 2675 \nQ 2203 2934 1809 2934 \nQ 1438 2934 1169 2667 \nQ 900 2400 834 1956 \nL 2644 1956 \nz\n\" transform=\"scale(0.015625)\"/>\n      <path id=\"MalgunGothic-2b\" d=\"M 3750 1706 \nL 2450 1706 \nL 2450 413 \nL 2041 413 \nL 2041 1706 \nL 744 1706 \nL 744 2122 \nL 2041 2122 \nL 2041 3416 \nL 2450 3416 \nL 2450 2122 \nL 3750 2122 \nL 3750 1706 \nz\n\" transform=\"scale(0.015625)\"/>\n     </defs>\n     <use xlink:href=\"#MalgunGothic-2d\"/>\n     <use xlink:href=\"#MalgunGothic-37\" x=\"41.015625\"/>\n     <use xlink:href=\"#MalgunGothic-65\" x=\"96.09375\"/>\n     <use xlink:href=\"#MalgunGothic-2b\" x=\"149.609375\"/>\n     <use xlink:href=\"#MalgunGothic-30\" x=\"219.677734\"/>\n     <use xlink:href=\"#MalgunGothic-32\" x=\"274.755859\"/>\n    </g>\n   </g>\n   <g id=\"text_26\">\n    <!-- -5.8e+02 -->\n    <g style=\"fill: #ffffff\" transform=\"translate(61.211473 194.551355)scale(0.1 -0.1)\">\n     <use xlink:href=\"#MalgunGothic-2d\"/>\n     <use xlink:href=\"#MalgunGothic-35\" x=\"41.015625\"/>\n     <use xlink:href=\"#MalgunGothic-2e\" x=\"96.09375\"/>\n     <use xlink:href=\"#MalgunGothic-38\" x=\"117.96875\"/>\n     <use xlink:href=\"#MalgunGothic-65\" x=\"173.046875\"/>\n     <use xlink:href=\"#MalgunGothic-2b\" x=\"226.5625\"/>\n     <use xlink:href=\"#MalgunGothic-30\" x=\"296.630859\"/>\n     <use xlink:href=\"#MalgunGothic-32\" x=\"351.708984\"/>\n    </g>\n   </g>\n   <g id=\"text_27\">\n    <!-- -1.6e+02 -->\n    <g style=\"fill: #ffffff\" transform=\"translate(99.47433 194.551355)scale(0.1 -0.1)\">\n     <use xlink:href=\"#MalgunGothic-2d\"/>\n     <use xlink:href=\"#MalgunGothic-31\" x=\"41.015625\"/>\n     <use xlink:href=\"#MalgunGothic-2e\" x=\"96.09375\"/>\n     <use xlink:href=\"#MalgunGothic-36\" x=\"117.96875\"/>\n     <use xlink:href=\"#MalgunGothic-65\" x=\"173.046875\"/>\n     <use xlink:href=\"#MalgunGothic-2b\" x=\"226.5625\"/>\n     <use xlink:href=\"#MalgunGothic-30\" x=\"296.630859\"/>\n     <use xlink:href=\"#MalgunGothic-32\" x=\"351.708984\"/>\n    </g>\n   </g>\n   <g id=\"text_28\">\n    <!-- -13 -->\n    <g style=\"fill: #262626\" transform=\"translate(150.517656 194.551355)scale(0.1 -0.1)\">\n     <use xlink:href=\"#MalgunGothic-2d\"/>\n     <use xlink:href=\"#MalgunGothic-31\" x=\"41.015625\"/>\n     <use xlink:href=\"#MalgunGothic-33\" x=\"96.09375\"/>\n    </g>\n   </g>\n   <g id=\"text_29\">\n    <!-- -0.032 -->\n    <g style=\"fill: #262626\" transform=\"translate(182.178951 194.551355)scale(0.1 -0.1)\">\n     <use xlink:href=\"#MalgunGothic-2d\"/>\n     <use xlink:href=\"#MalgunGothic-30\" x=\"41.015625\"/>\n     <use xlink:href=\"#MalgunGothic-2e\" x=\"96.09375\"/>\n     <use xlink:href=\"#MalgunGothic-30\" x=\"117.96875\"/>\n     <use xlink:href=\"#MalgunGothic-33\" x=\"173.046875\"/>\n     <use xlink:href=\"#MalgunGothic-32\" x=\"228.125\"/>\n    </g>\n   </g>\n   <g id=\"text_30\">\n    <!-- 0.65 -->\n    <g style=\"fill: #262626\" transform=\"translate(225.246496 194.551355)scale(0.1 -0.1)\">\n     <use xlink:href=\"#MalgunGothic-30\"/>\n     <use xlink:href=\"#MalgunGothic-2e\" x=\"55.078125\"/>\n     <use xlink:href=\"#MalgunGothic-36\" x=\"76.953125\"/>\n     <use xlink:href=\"#MalgunGothic-35\" x=\"132.03125\"/>\n    </g>\n   </g>\n   <g id=\"text_31\">\n    <!-- 0.65 -->\n    <g style=\"fill: #262626\" transform=\"translate(263.509353 194.551355)scale(0.1 -0.1)\">\n     <use xlink:href=\"#MalgunGothic-30\"/>\n     <use xlink:href=\"#MalgunGothic-2e\" x=\"55.078125\"/>\n     <use xlink:href=\"#MalgunGothic-36\" x=\"76.953125\"/>\n     <use xlink:href=\"#MalgunGothic-35\" x=\"132.03125\"/>\n    </g>\n   </g>\n  </g>\n  <g id=\"axes_2\">\n   <g id=\"patch_3\">\n    <path d=\"M 308.73625 228.177293 \nL 319.60825 228.177293 \nL 319.60825 10.737293 \nL 308.73625 10.737293 \nz\n\" style=\"fill: #ffffff\"/>\n   </g>\n   <g id=\"patch_4\">\n    <path clip-path=\"url(#p921ca4ec94)\" style=\"fill: #ffffff; stroke: #ffffff; stroke-width: 0.01; stroke-linejoin: miter\"/>\n   </g>\n   <image xlink:href=\"data:image/png;base64,\niVBORw0KGgoAAAANSUhEUgAAAAsAAADaCAYAAABwzrisAAABXUlEQVR4nO3aQQ7CMAxEUbsJl+D+9yxrdn5II6USWY+sP2MnLSm9Xu+7hmv3VFlVu3suN/HVl4gFowgjZXDlDFLOkoa1WyqvS9KIMWNlYLY0njj8OYOntPt5aZjBsfSps2HRzRee/EUGASO5UwCDct7BDh4x/BTdOmOec9El2w0Y1u4YBrX7FIPj3xKeBlWO7W4SSxpoMIURTEPEKzZIh6SBBufq4B60NG5gxuFPpdFUeV6YzzrAQGYRQ78NYzVhUBrzhZVjzBfMqDKPtUmDTQbhZIwyj7WKQQYlOhPTbBgGVE6mARiVmw0S71RluFeIVoYTejc8gQyjpHIOo+G9wJjNoFxZGAa82UWbImK5YzTmWBo55pKPL1Z5QRqdw8hFJwYx50PSkI9ch6RhZx1VFvGeP+mTzDmDSwzmMP5p/Fq5O7ZhT0lDDMbaHcw5t1MsjVcIg/5l8Tf4JU7tlA88JC0n4ukzDQAAAABJRU5ErkJggg==\" id=\"imagea7a65a3b41\" transform=\"scale(1 -1)translate(0 -218)\" x=\"309\" y=\"-10\" width=\"11\" height=\"218\"/>\n   <g id=\"matplotlib.axis_3\">\n    <g id=\"ytick_4\">\n     <g id=\"line2d_11\">\n      <defs>\n       <path id=\"mb909cb61c5\" d=\"M 0 0 \nL 3.5 0 \n\" style=\"stroke: #000000; stroke-width: 0.8\"/>\n      </defs>\n      <g>\n       <use xlink:href=\"#mb909cb61c5\" x=\"319.60825\" y=\"198.368609\" style=\"stroke: #000000; stroke-width: 0.8\"/>\n      </g>\n     </g>\n     <g id=\"text_32\">\n      <!-- -600 -->\n      <g transform=\"translate(326.60825 202.164703)scale(0.1 -0.1)\">\n       <use xlink:href=\"#MalgunGothic-2d\"/>\n       <use xlink:href=\"#MalgunGothic-36\" x=\"41.015625\"/>\n       <use xlink:href=\"#MalgunGothic-30\" x=\"96.09375\"/>\n       <use xlink:href=\"#MalgunGothic-30\" x=\"151.171875\"/>\n      </g>\n     </g>\n    </g>\n    <g id=\"ytick_5\">\n     <g id=\"line2d_12\">\n      <g>\n       <use xlink:href=\"#mb909cb61c5\" x=\"319.60825\" y=\"167.139857\" style=\"stroke: #000000; stroke-width: 0.8\"/>\n      </g>\n     </g>\n     <g id=\"text_33\">\n      <!-- -500 -->\n      <g transform=\"translate(326.60825 170.935951)scale(0.1 -0.1)\">\n       <use xlink:href=\"#MalgunGothic-2d\"/>\n       <use xlink:href=\"#MalgunGothic-35\" x=\"41.015625\"/>\n       <use xlink:href=\"#MalgunGothic-30\" x=\"96.09375\"/>\n       <use xlink:href=\"#MalgunGothic-30\" x=\"151.171875\"/>\n      </g>\n     </g>\n    </g>\n    <g id=\"ytick_6\">\n     <g id=\"line2d_13\">\n      <g>\n       <use xlink:href=\"#mb909cb61c5\" x=\"319.60825\" y=\"135.911104\" style=\"stroke: #000000; stroke-width: 0.8\"/>\n      </g>\n     </g>\n     <g id=\"text_34\">\n      <!-- -400 -->\n      <g transform=\"translate(326.60825 139.707198)scale(0.1 -0.1)\">\n       <use xlink:href=\"#MalgunGothic-2d\"/>\n       <use xlink:href=\"#MalgunGothic-34\" x=\"41.015625\"/>\n       <use xlink:href=\"#MalgunGothic-30\" x=\"96.09375\"/>\n       <use xlink:href=\"#MalgunGothic-30\" x=\"151.171875\"/>\n      </g>\n     </g>\n    </g>\n    <g id=\"ytick_7\">\n     <g id=\"line2d_14\">\n      <g>\n       <use xlink:href=\"#mb909cb61c5\" x=\"319.60825\" y=\"104.682352\" style=\"stroke: #000000; stroke-width: 0.8\"/>\n      </g>\n     </g>\n     <g id=\"text_35\">\n      <!-- -300 -->\n      <g transform=\"translate(326.60825 108.478445)scale(0.1 -0.1)\">\n       <use xlink:href=\"#MalgunGothic-2d\"/>\n       <use xlink:href=\"#MalgunGothic-33\" x=\"41.015625\"/>\n       <use xlink:href=\"#MalgunGothic-30\" x=\"96.09375\"/>\n       <use xlink:href=\"#MalgunGothic-30\" x=\"151.171875\"/>\n      </g>\n     </g>\n    </g>\n    <g id=\"ytick_8\">\n     <g id=\"line2d_15\">\n      <g>\n       <use xlink:href=\"#mb909cb61c5\" x=\"319.60825\" y=\"73.453599\" style=\"stroke: #000000; stroke-width: 0.8\"/>\n      </g>\n     </g>\n     <g id=\"text_36\">\n      <!-- -200 -->\n      <g transform=\"translate(326.60825 77.249693)scale(0.1 -0.1)\">\n       <use xlink:href=\"#MalgunGothic-2d\"/>\n       <use xlink:href=\"#MalgunGothic-32\" x=\"41.015625\"/>\n       <use xlink:href=\"#MalgunGothic-30\" x=\"96.09375\"/>\n       <use xlink:href=\"#MalgunGothic-30\" x=\"151.171875\"/>\n      </g>\n     </g>\n    </g>\n    <g id=\"ytick_9\">\n     <g id=\"line2d_16\">\n      <g>\n       <use xlink:href=\"#mb909cb61c5\" x=\"319.60825\" y=\"42.224846\" style=\"stroke: #000000; stroke-width: 0.8\"/>\n      </g>\n     </g>\n     <g id=\"text_37\">\n      <!-- -100 -->\n      <g transform=\"translate(326.60825 46.02094)scale(0.1 -0.1)\">\n       <use xlink:href=\"#MalgunGothic-2d\"/>\n       <use xlink:href=\"#MalgunGothic-31\" x=\"41.015625\"/>\n       <use xlink:href=\"#MalgunGothic-30\" x=\"96.09375\"/>\n       <use xlink:href=\"#MalgunGothic-30\" x=\"151.171875\"/>\n      </g>\n     </g>\n    </g>\n    <g id=\"ytick_10\">\n     <g id=\"line2d_17\">\n      <g>\n       <use xlink:href=\"#mb909cb61c5\" x=\"319.60825\" y=\"10.996094\" style=\"stroke: #000000; stroke-width: 0.8\"/>\n      </g>\n     </g>\n     <g id=\"text_38\">\n      <!-- 0 -->\n      <g transform=\"translate(326.60825 14.792188)scale(0.1 -0.1)\">\n       <use xlink:href=\"#MalgunGothic-30\"/>\n      </g>\n     </g>\n    </g>\n   </g>\n   <g id=\"LineCollection_1\"/>\n   <g id=\"patch_5\">\n    <path d=\"M 308.73625 228.177293 \nL 314.17225 228.177293 \nL 319.60825 228.177293 \nL 319.60825 10.737293 \nL 314.17225 10.737293 \nL 308.73625 10.737293 \nL 308.73625 228.177293 \nz\n\" style=\"fill: none\"/>\n   </g>\n  </g>\n </g>\n <defs>\n  <clipPath id=\"p5c5c3728e5\">\n   <rect x=\"24.15625\" y=\"10.737293\" width=\"267.84\" height=\"217.44\"/>\n  </clipPath>\n  <clipPath id=\"p921ca4ec94\">\n   <rect x=\"308.73625\" y=\"10.737293\" width=\"10.872\" height=\"217.44\"/>\n  </clipPath>\n </defs>\n</svg>\n",
      "text/plain": [
       "<Figure size 432x288 with 2 Axes>"
      ]
     },
     "metadata": {
      "needs_background": "light"
     },
     "output_type": "display_data"
    }
   ],
   "source": [
    "sns.heatmap(grid.cv_results_['mean_test_score'].reshape(3, -1), annot=True)"
   ]
  },
  {
   "cell_type": "code",
   "execution_count": 55,
   "metadata": {},
   "outputs": [
    {
     "data": {
      "text/plain": [
       "{'polynomialfeatures__degree': 2, 'ridge__alpha': 10.0}"
      ]
     },
     "execution_count": 55,
     "metadata": {},
     "output_type": "execute_result"
    }
   ],
   "source": [
    "grid.best_params_"
   ]
  },
  {
   "cell_type": "code",
   "execution_count": 57,
   "metadata": {},
   "outputs": [
    {
     "data": {
      "text/plain": [
       "(0.7683045464100137, 0.7683045464100137)"
      ]
     },
     "execution_count": 57,
     "metadata": {},
     "output_type": "execute_result"
    }
   ],
   "source": [
    "grid.score(X_test, y_test), r2_score(y_test, grid.predict(X_test))"
   ]
  },
  {
   "cell_type": "code",
   "execution_count": 58,
   "metadata": {},
   "outputs": [],
   "source": [
    "pipe = Pipeline([('preprocessing', StandardScaler()), ('classifier', SVC())])\n",
    "param_grid = [{'classifier':[SVC()], 'preprocessing':[StandardScaler()],\n",
    "               'classifier__C':[0.001, 0.01, 0.1, 1, 10, 100], 'classifier__gamma':[0.001, 0.01, 0.1, 1, 10, 100]},\n",
    "             {'classifier':[RandomForestClassifier(n_estimators=100)],\n",
    "             'preprocessing':[None], 'classifier__max_features':[1, 2, 3]}]"
   ]
  },
  {
   "cell_type": "code",
   "execution_count": 60,
   "metadata": {},
   "outputs": [],
   "source": [
    "X_train, X_test, y_train, y_test = train_test_split(cancer['data'], cancer['target'], random_state=0)"
   ]
  },
  {
   "cell_type": "code",
   "execution_count": 61,
   "metadata": {},
   "outputs": [],
   "source": [
    "grid = GridSearchCV(pipe, param_grid=param_grid, cv=5).fit(X_train, y_train)"
   ]
  },
  {
   "cell_type": "code",
   "execution_count": 62,
   "metadata": {},
   "outputs": [
    {
     "data": {
      "text/plain": [
       "({'classifier': SVC(C=10, gamma=0.01),\n",
       "  'classifier__C': 10,\n",
       "  'classifier__gamma': 0.01,\n",
       "  'preprocessing': StandardScaler()},\n",
       " 0.9858823529411765,\n",
       " 0.9790209790209791)"
      ]
     },
     "execution_count": 62,
     "metadata": {},
     "output_type": "execute_result"
    }
   ],
   "source": [
    "grid.best_params_, grid.best_score_, accuracy_score(y_test, grid.predict(X_test))"
   ]
  },
  {
   "cell_type": "code",
   "execution_count": null,
   "metadata": {},
   "outputs": [],
   "source": []
  }
 ],
 "metadata": {
  "kernelspec": {
   "display_name": "Python 3.9.12 ('base')",
   "language": "python",
   "name": "python3"
  },
  "language_info": {
   "codemirror_mode": {
    "name": "ipython",
    "version": 3
   },
   "file_extension": ".py",
   "mimetype": "text/x-python",
   "name": "python",
   "nbconvert_exporter": "python",
   "pygments_lexer": "ipython3",
   "version": "3.9.12"
  },
  "orig_nbformat": 4,
  "vscode": {
   "interpreter": {
    "hash": "610a6f344c2137faf927ea819c63f6cee33a2c04455044b28099f39fe9722347"
   }
  }
 },
 "nbformat": 4,
 "nbformat_minor": 2
}
