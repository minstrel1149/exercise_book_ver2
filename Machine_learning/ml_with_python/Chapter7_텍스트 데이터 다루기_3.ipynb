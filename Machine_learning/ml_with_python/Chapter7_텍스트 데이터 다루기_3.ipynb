{
 "cells": [
  {
   "cell_type": "code",
   "execution_count": 1,
   "metadata": {},
   "outputs": [],
   "source": [
    "import os\n",
    "import sys\n",
    "import numpy as np\n",
    "from scipy import sparse\n",
    "%matplotlib inline\n",
    "import matplotlib.pyplot as plt\n",
    "import pandas as pd\n",
    "import mglearn\n",
    "plt.rcParams['font.family'] = 'Malgun Gothic'\n",
    "plt.rcParams['axes.unicode_minus'] = False\n",
    "%config InlineBackend.figure_format = 'svg'\n",
    "from mpl_toolkits.mplot3d import Axes3D, axes3d\n",
    "import scipy.cluster.hierarchy as sch\n",
    "import seaborn as sns\n",
    "import spacy\n",
    "import nltk\n",
    "from konlpy.tag import Okt\n",
    "import graphviz\n",
    "from sklearn.utils.fixes import loguniform"
   ]
  },
  {
   "cell_type": "code",
   "execution_count": 82,
   "metadata": {},
   "outputs": [],
   "source": [
    "from sklearn.model_selection import train_test_split\n",
    "from sklearn.model_selection import cross_val_score, cross_validate\n",
    "from sklearn.model_selection import GridSearchCV\n",
    "from sklearn.linear_model import LogisticRegression\n",
    "from sklearn.ensemble import RandomForestClassifier\n",
    "from sklearn.naive_bayes import MultinomialNB\n",
    "from sklearn.feature_extraction.text import CountVectorizer\n",
    "from sklearn.feature_extraction.text import ENGLISH_STOP_WORDS\n",
    "from sklearn.feature_extraction.text import TfidfVectorizer, TfidfTransformer\n",
    "from sklearn.pipeline import make_pipeline\n",
    "from sklearn.decomposition import LatentDirichletAllocation"
   ]
  },
  {
   "cell_type": "code",
   "execution_count": 3,
   "metadata": {},
   "outputs": [],
   "source": [
    "from sklearn.datasets import load_files"
   ]
  },
  {
   "cell_type": "code",
   "execution_count": 4,
   "metadata": {},
   "outputs": [],
   "source": [
    "reviews_train = load_files('aclImdb/train/')\n",
    "text_train, y_train = reviews_train['data'], reviews_train['target']"
   ]
  },
  {
   "cell_type": "code",
   "execution_count": 5,
   "metadata": {},
   "outputs": [],
   "source": [
    "text_train = [doc.replace(b'<br/>', b'') for doc in text_train]"
   ]
  },
  {
   "cell_type": "code",
   "execution_count": 6,
   "metadata": {},
   "outputs": [
    {
     "data": {
      "text/plain": [
       "array([12500, 12500], dtype=int64)"
      ]
     },
     "execution_count": 6,
     "metadata": {},
     "output_type": "execute_result"
    }
   ],
   "source": [
    "np.bincount(y_train)"
   ]
  },
  {
   "cell_type": "code",
   "execution_count": 7,
   "metadata": {},
   "outputs": [],
   "source": [
    "reviews_test = load_files('aclImdb/test/')\n",
    "text_test, y_test = reviews_test['data'], reviews_test['target']\n",
    "text_test = [doc.replace(b'<br/>', b'') for doc in text_test]"
   ]
  },
  {
   "cell_type": "code",
   "execution_count": 8,
   "metadata": {},
   "outputs": [],
   "source": [
    "bards_words = ['The fool doth think he is wise,', 'but the wise man knows himself to be a fool']"
   ]
  },
  {
   "cell_type": "code",
   "execution_count": 9,
   "metadata": {},
   "outputs": [
    {
     "data": {
      "text/plain": [
       "{'the': 9,\n",
       " 'fool': 3,\n",
       " 'doth': 2,\n",
       " 'think': 10,\n",
       " 'he': 4,\n",
       " 'is': 6,\n",
       " 'wise': 12,\n",
       " 'but': 1,\n",
       " 'man': 8,\n",
       " 'knows': 7,\n",
       " 'himself': 5,\n",
       " 'to': 11,\n",
       " 'be': 0}"
      ]
     },
     "execution_count": 9,
     "metadata": {},
     "output_type": "execute_result"
    }
   ],
   "source": [
    "vect = CountVectorizer().fit(bards_words)\n",
    "vect.vocabulary_"
   ]
  },
  {
   "cell_type": "code",
   "execution_count": 10,
   "metadata": {},
   "outputs": [
    {
     "data": {
      "text/plain": [
       "array([[0, 0, 1, 1, 1, 0, 1, 0, 0, 1, 1, 0, 1],\n",
       "       [1, 1, 0, 1, 0, 1, 0, 1, 1, 1, 0, 1, 1]], dtype=int64)"
      ]
     },
     "execution_count": 10,
     "metadata": {},
     "output_type": "execute_result"
    }
   ],
   "source": [
    "bag_of_words = vect.transform(bards_words)\n",
    "bag_of_words.toarray()"
   ]
  },
  {
   "cell_type": "code",
   "execution_count": 11,
   "metadata": {},
   "outputs": [],
   "source": [
    "vect = CountVectorizer().fit(text_train)\n",
    "X_train = vect.transform(text_train)\n",
    "X_test = vect.transform(text_test)"
   ]
  },
  {
   "cell_type": "code",
   "execution_count": 12,
   "metadata": {},
   "outputs": [
    {
     "data": {
      "text/plain": [
       "array(['00', '000', '0000000000001', ..., 'østbye', 'über', 'üvegtigris'],\n",
       "      dtype=object)"
      ]
     },
     "execution_count": 12,
     "metadata": {},
     "output_type": "execute_result"
    }
   ],
   "source": [
    "vect.get_feature_names_out()"
   ]
  },
  {
   "cell_type": "code",
   "execution_count": 13,
   "metadata": {},
   "outputs": [
    {
     "data": {
      "text/plain": [
       "b'\"Dutch Schultz\", AKA Arthur Fleggenheimer, was a real person and his rather nasty life is fairly well documented. This movie which purports to depict his life should have used a fictional character, because the overdramatized events are too strong a departure from the facts and the chronology. Not only that, it ignores some interesting details which other versions have included such as the public relations fiasco in upstate N.Y. and his religious conversion. It is true that he was executed by Luciano, Lansky, et. al. but that\\'s as far as it goes. The exploding plate scene which represents Luciano carrying out the execution of Bo Weinberg in his own home, assisted by his own mother is rediculous. Also, there is the scene in which Dutch approaches his own mother to pay protection to Legs Diamond. It just doesn\\'t work. The character of Mrs. Fleggenheimer doesn\\'t work either. This movie does not need a doting Jewish mother for comic relief. The lame representation of Legs Diamond was humorous enough. I\\'m sure the man is turning in his grave. And, by the way, Dutch did in fact personally kill people, but, he was not Rambo or 007. The scene in which he wipes out the brewery is absurd. I don\\'t know. Maybe it was supposed to be a comedy and I just didn\\'t get it.'"
      ]
     },
     "execution_count": 13,
     "metadata": {},
     "output_type": "execute_result"
    }
   ],
   "source": [
    "[text_train[i] for i in np.argwhere(X_train[:, 9] == 1)[:, 0]][0]"
   ]
  },
  {
   "cell_type": "code",
   "execution_count": 14,
   "metadata": {},
   "outputs": [
    {
     "data": {
      "text/plain": [
       "array([[  554,     0],\n",
       "       [ 6583,     0],\n",
       "       [ 7758,     0],\n",
       "       [ 9637,     0],\n",
       "       [10764,     0],\n",
       "       [15068,     0],\n",
       "       [16627,     0],\n",
       "       [17873,     0],\n",
       "       [22458,     0],\n",
       "       [23321,     0],\n",
       "       [23473,     0]])"
      ]
     },
     "execution_count": 14,
     "metadata": {},
     "output_type": "execute_result"
    }
   ],
   "source": [
    "# X_train[:, 9] == 1이 (-1, 1) 형태의 shape이기에 argwhere가 [n, 0] 형태로 나타남\n",
    "np.argwhere(X_train[:, 9] == 1)"
   ]
  },
  {
   "cell_type": "code",
   "execution_count": 15,
   "metadata": {},
   "outputs": [
    {
     "data": {
      "text/plain": [
       "0.87912"
      ]
     },
     "execution_count": 15,
     "metadata": {},
     "output_type": "execute_result"
    }
   ],
   "source": [
    "logreg = LogisticRegression(C=0.1, max_iter=5000).fit(X_train, y_train)\n",
    "logreg.score(X_test, y_test)"
   ]
  },
  {
   "cell_type": "code",
   "execution_count": 16,
   "metadata": {},
   "outputs": [],
   "source": [
    "vect = CountVectorizer(min_df=5).fit(text_train)\n",
    "X_train = vect.transform(text_train)\n",
    "X_test = vect.transform(text_test)"
   ]
  },
  {
   "cell_type": "code",
   "execution_count": 17,
   "metadata": {},
   "outputs": [
    {
     "data": {
      "text/plain": [
       "0.87848"
      ]
     },
     "execution_count": 17,
     "metadata": {},
     "output_type": "execute_result"
    }
   ],
   "source": [
    "logreg = LogisticRegression(C=0.1, max_iter=5000).fit(X_train, y_train)\n",
    "logreg.score(X_test, y_test)"
   ]
  },
  {
   "cell_type": "code",
   "execution_count": 18,
   "metadata": {},
   "outputs": [],
   "source": [
    "vect = CountVectorizer(min_df=5, stop_words='english').fit(text_train)\n",
    "X_train = vect.transform(text_train)\n",
    "X_test = vect.transform(text_test)"
   ]
  },
  {
   "cell_type": "code",
   "execution_count": 19,
   "metadata": {},
   "outputs": [
    {
     "data": {
      "text/plain": [
       "0.87332"
      ]
     },
     "execution_count": 19,
     "metadata": {},
     "output_type": "execute_result"
    }
   ],
   "source": [
    "logreg = LogisticRegression(C=0.1, max_iter=5000).fit(X_train, y_train)\n",
    "logreg.score(X_test, y_test)"
   ]
  },
  {
   "cell_type": "code",
   "execution_count": 20,
   "metadata": {},
   "outputs": [
    {
     "data": {
      "text/plain": [
       "0.85184"
      ]
     },
     "execution_count": 20,
     "metadata": {},
     "output_type": "execute_result"
    }
   ],
   "source": [
    "pipe = make_pipeline(TfidfVectorizer(min_df=5), LogisticRegression(C=0.1, max_iter=5000)).fit(text_train, y_train)\n",
    "pipe.score(text_test, y_test)"
   ]
  },
  {
   "cell_type": "code",
   "execution_count": 21,
   "metadata": {},
   "outputs": [
    {
     "data": {
      "text/plain": [
       "array(['00', '000', '007', ..., 'zuniga', 'zwick', 'émigré'], dtype=object)"
      ]
     },
     "execution_count": 21,
     "metadata": {},
     "output_type": "execute_result"
    }
   ],
   "source": [
    "vect = pipe.named_steps['tfidfvectorizer']\n",
    "feature_names = vect.get_feature_names_out()\n",
    "feature_names"
   ]
  },
  {
   "cell_type": "code",
   "execution_count": 22,
   "metadata": {},
   "outputs": [
    {
     "data": {
      "text/plain": [
       "array(['the', 'and', 'of', 'to', 'this', 'is', 'it', 'in', 'that', 'but'],\n",
       "      dtype=object)"
      ]
     },
     "execution_count": 22,
     "metadata": {},
     "output_type": "execute_result"
    }
   ],
   "source": [
    "feature_names[np.argsort(vect.idf_)[:10]]"
   ]
  },
  {
   "cell_type": "code",
   "execution_count": 23,
   "metadata": {},
   "outputs": [
    {
     "data": {
      "image/svg+xml": "<?xml version=\"1.0\" encoding=\"utf-8\" standalone=\"no\"?>\n<!DOCTYPE svg PUBLIC \"-//W3C//DTD SVG 1.1//EN\"\n  \"http://www.w3.org/Graphics/SVG/1.1/DTD/svg11.dtd\">\n<svg xmlns:xlink=\"http://www.w3.org/1999/xlink\" width=\"882.13125pt\" height=\"288.646784pt\" viewBox=\"0 0 882.13125 288.646784\" xmlns=\"http://www.w3.org/2000/svg\" version=\"1.1\">\n <metadata>\n  <rdf:RDF xmlns:dc=\"http://purl.org/dc/elements/1.1/\" xmlns:cc=\"http://creativecommons.org/ns#\" xmlns:rdf=\"http://www.w3.org/1999/02/22-rdf-syntax-ns#\">\n   <cc:Work>\n    <dc:type rdf:resource=\"http://purl.org/dc/dcmitype/StillImage\"/>\n    <dc:date>2022-11-26T14:39:51.162908</dc:date>\n    <dc:format>image/svg+xml</dc:format>\n    <dc:creator>\n     <cc:Agent>\n      <dc:title>Matplotlib v3.5.1, https://matplotlib.org/</dc:title>\n     </cc:Agent>\n    </dc:creator>\n   </cc:Work>\n  </rdf:RDF>\n </metadata>\n <defs>\n  <style type=\"text/css\">*{stroke-linejoin: round; stroke-linecap: butt}</style>\n </defs>\n <g id=\"figure_1\">\n  <g id=\"patch_1\">\n   <path d=\"M 0 288.646784 \nL 882.13125 288.646784 \nL 882.13125 0 \nL 0 0 \nL 0 288.646784 \nz\n\" style=\"fill: none\"/>\n  </g>\n  <g id=\"axes_1\">\n   <g id=\"patch_2\">\n    <path d=\"M 37.93125 216 \nL 874.93125 216 \nL 874.93125 7.2 \nL 37.93125 7.2 \nz\n\" style=\"fill: #ffffff\"/>\n   </g>\n   <g id=\"patch_3\">\n    <path d=\"M 75.976705 103.243008 \nL 106.720506 103.243008 \nL 106.720506 206.509091 \nL 75.976705 206.509091 \nz\n\" clip-path=\"url(#p4b9194210d)\" style=\"fill: #ff2020\"/>\n   </g>\n   <g id=\"patch_4\">\n    <path d=\"M 114.406457 103.243008 \nL 145.150258 103.243008 \nL 145.150258 183.863035 \nL 114.406457 183.863035 \nz\n\" clip-path=\"url(#p4b9194210d)\" style=\"fill: #ff2020\"/>\n   </g>\n   <g id=\"patch_5\">\n    <path d=\"M 152.836209 103.243008 \nL 183.58001 103.243008 \nL 183.58001 162.591604 \nL 152.836209 162.591604 \nz\n\" clip-path=\"url(#p4b9194210d)\" style=\"fill: #ff2020\"/>\n   </g>\n   <g id=\"patch_6\">\n    <path d=\"M 191.265961 103.243008 \nL 222.009762 103.243008 \nL 222.009762 158.706715 \nL 191.265961 158.706715 \nz\n\" clip-path=\"url(#p4b9194210d)\" style=\"fill: #ff2020\"/>\n   </g>\n   <g id=\"patch_7\">\n    <path d=\"M 229.695713 103.243008 \nL 260.439514 103.243008 \nL 260.439514 158.11042 \nL 229.695713 158.11042 \nz\n\" clip-path=\"url(#p4b9194210d)\" style=\"fill: #ff2020\"/>\n   </g>\n   <g id=\"patch_8\">\n    <path d=\"M 268.125465 103.243008 \nL 298.869267 103.243008 \nL 298.869267 153.355759 \nL 268.125465 153.355759 \nz\n\" clip-path=\"url(#p4b9194210d)\" style=\"fill: #ff2020\"/>\n   </g>\n   <g id=\"patch_9\">\n    <path d=\"M 306.555217 103.243008 \nL 337.299019 103.243008 \nL 337.299019 150.680493 \nL 306.555217 150.680493 \nz\n\" clip-path=\"url(#p4b9194210d)\" style=\"fill: #ff2020\"/>\n   </g>\n   <g id=\"patch_10\">\n    <path d=\"M 344.984969 103.243008 \nL 375.728771 103.243008 \nL 375.728771 149.011901 \nL 344.984969 149.011901 \nz\n\" clip-path=\"url(#p4b9194210d)\" style=\"fill: #ff2020\"/>\n   </g>\n   <g id=\"patch_11\">\n    <path d=\"M 383.414721 103.243008 \nL 414.158523 103.243008 \nL 414.158523 148.498434 \nL 383.414721 148.498434 \nz\n\" clip-path=\"url(#p4b9194210d)\" style=\"fill: #ff2020\"/>\n   </g>\n   <g id=\"patch_12\">\n    <path d=\"M 421.844473 103.243008 \nL 452.588275 103.243008 \nL 452.588275 148.470495 \nL 421.844473 148.470495 \nz\n\" clip-path=\"url(#p4b9194210d)\" style=\"fill: #ff2020\"/>\n   </g>\n   <g id=\"patch_13\">\n    <path d=\"M 460.274225 103.243008 \nL 491.018027 103.243008 \nL 491.018027 66.424558 \nL 460.274225 66.424558 \nz\n\" clip-path=\"url(#p4b9194210d)\" style=\"fill: #0000aa\"/>\n   </g>\n   <g id=\"patch_14\">\n    <path d=\"M 498.703977 103.243008 \nL 529.447779 103.243008 \nL 529.447779 66.004852 \nL 498.703977 66.004852 \nz\n\" clip-path=\"url(#p4b9194210d)\" style=\"fill: #0000aa\"/>\n   </g>\n   <g id=\"patch_15\">\n    <path d=\"M 537.133729 103.243008 \nL 567.877531 103.243008 \nL 567.877531 62.713443 \nL 537.133729 62.713443 \nz\n\" clip-path=\"url(#p4b9194210d)\" style=\"fill: #0000aa\"/>\n   </g>\n   <g id=\"patch_16\">\n    <path d=\"M 575.563481 103.243008 \nL 606.307283 103.243008 \nL 606.307283 60.958231 \nL 575.563481 60.958231 \nz\n\" clip-path=\"url(#p4b9194210d)\" style=\"fill: #0000aa\"/>\n   </g>\n   <g id=\"patch_17\">\n    <path d=\"M 613.993233 103.243008 \nL 644.737035 103.243008 \nL 644.737035 59.218989 \nL 613.993233 59.218989 \nz\n\" clip-path=\"url(#p4b9194210d)\" style=\"fill: #0000aa\"/>\n   </g>\n   <g id=\"patch_18\">\n    <path d=\"M 652.422986 103.243008 \nL 683.166787 103.243008 \nL 683.166787 55.289952 \nL 652.422986 55.289952 \nz\n\" clip-path=\"url(#p4b9194210d)\" style=\"fill: #0000aa\"/>\n   </g>\n   <g id=\"patch_19\">\n    <path d=\"M 690.852738 103.243008 \nL 721.596539 103.243008 \nL 721.596539 51.743891 \nL 690.852738 51.743891 \nz\n\" clip-path=\"url(#p4b9194210d)\" style=\"fill: #0000aa\"/>\n   </g>\n   <g id=\"patch_20\">\n    <path d=\"M 729.28249 103.243008 \nL 760.026291 103.243008 \nL 760.026291 50.436942 \nL 729.28249 50.436942 \nz\n\" clip-path=\"url(#p4b9194210d)\" style=\"fill: #0000aa\"/>\n   </g>\n   <g id=\"patch_21\">\n    <path d=\"M 767.712242 103.243008 \nL 798.456043 103.243008 \nL 798.456043 44.304446 \nL 767.712242 44.304446 \nz\n\" clip-path=\"url(#p4b9194210d)\" style=\"fill: #0000aa\"/>\n   </g>\n   <g id=\"patch_22\">\n    <path d=\"M 806.141994 103.243008 \nL 836.885795 103.243008 \nL 836.885795 16.690909 \nL 806.141994 16.690909 \nz\n\" clip-path=\"url(#p4b9194210d)\" style=\"fill: #0000aa\"/>\n   </g>\n   <g id=\"matplotlib.axis_1\">\n    <g id=\"xtick_1\">\n     <g id=\"line2d_1\">\n      <defs>\n       <path id=\"m6e40604454\" d=\"M 0 0 \nL 0 3.5 \n\" style=\"stroke: #000000; stroke-width: 0.8\"/>\n      </defs>\n      <g>\n       <use xlink:href=\"#m6e40604454\" x=\"129.778357\" y=\"216\" style=\"stroke: #000000; stroke-width: 0.8\"/>\n      </g>\n     </g>\n     <g id=\"text_1\">\n      <!-- bad -->\n      <g transform=\"translate(119.186488 241.595656)rotate(-60)scale(0.1 -0.1)\">\n       <defs>\n        <path id=\"MalgunGothic-62\" d=\"M 1034 481 \nL 1034 0 \nL 538 0 \nL 538 4859 \nL 1034 4859 \nL 1034 2703 \nL 1047 2703 \nQ 1438 3359 2184 3359 \nQ 2813 3359 3173 2917 \nQ 3534 2475 3534 1738 \nQ 3534 906 3126 414 \nQ 2719 -78 2034 -78 \nQ 1384 -78 1047 481 \nL 1034 481 \nz\nM 1034 1334 \nQ 1034 922 1307 633 \nQ 1581 344 1991 344 \nQ 2475 344 2751 716 \nQ 3028 1088 3028 1753 \nQ 3028 2303 2767 2622 \nQ 2506 2941 2072 2941 \nQ 1616 2941 1325 2616 \nQ 1034 2291 1034 1803 \nL 1034 1334 \nz\n\" transform=\"scale(0.015625)\"/>\n        <path id=\"MalgunGothic-61\" d=\"M 616 3050 \nQ 1097 3359 1722 3359 \nQ 2866 3359 2866 2147 \nL 2866 0 \nL 2369 0 \nL 2369 516 \nL 2350 516 \nQ 2009 -78 1341 -78 \nQ 859 -78 576 180 \nQ 294 438 294 869 \nQ 294 1784 1375 1934 \nL 2366 2078 \nQ 2366 2934 1684 2934 \nQ 1084 2934 616 2525 \nL 616 3050 \nz\nM 1563 1559 \nQ 1178 1509 993 1371 \nQ 809 1234 809 903 \nQ 809 653 986 500 \nQ 1163 347 1450 347 \nQ 1847 347 2106 628 \nQ 2366 909 2366 1334 \nL 2366 1666 \nL 1563 1559 \nz\n\" transform=\"scale(0.015625)\"/>\n        <path id=\"MalgunGothic-64\" d=\"M 3313 0 \nL 2822 0 \nL 2822 566 \nL 2809 566 \nQ 2444 -78 1675 -78 \nQ 1056 -78 686 364 \nQ 316 806 316 1566 \nQ 316 2375 728 2867 \nQ 1141 3359 1816 3359 \nQ 2494 3359 2809 2822 \nL 2822 2822 \nL 2822 4859 \nL 3313 4859 \nL 3313 0 \nz\nM 2822 1978 \nQ 2822 2378 2550 2659 \nQ 2278 2941 1872 2941 \nQ 1384 2941 1101 2577 \nQ 819 2213 819 1591 \nQ 819 1025 1086 684 \nQ 1353 344 1813 344 \nQ 2250 344 2536 666 \nQ 2822 988 2822 1478 \nL 2822 1978 \nz\n\" transform=\"scale(0.015625)\"/>\n       </defs>\n       <use xlink:href=\"#MalgunGothic-62\"/>\n       <use xlink:href=\"#MalgunGothic-61\" x=\"58.683594\"/>\n       <use xlink:href=\"#MalgunGothic-64\" x=\"110.685547\"/>\n      </g>\n     </g>\n    </g>\n    <g id=\"xtick_2\">\n     <g id=\"line2d_2\">\n      <g>\n       <use xlink:href=\"#m6e40604454\" x=\"168.20811\" y=\"216\" style=\"stroke: #000000; stroke-width: 0.8\"/>\n      </g>\n     </g>\n     <g id=\"text_2\">\n      <!-- worst -->\n      <g transform=\"translate(153.801396 248.203159)rotate(-60)scale(0.1 -0.1)\">\n       <defs>\n        <path id=\"MalgunGothic-77\" d=\"M 4634 3284 \nL 3650 0 \nL 3134 0 \nL 2447 2378 \nQ 2409 2506 2397 2675 \nL 2384 2675 \nQ 2384 2609 2316 2384 \nL 1572 0 \nL 1078 0 \nL 81 3284 \nL 600 3284 \nL 1294 794 \nQ 1325 681 1338 503 \nL 1363 503 \nQ 1378 656 1422 800 \nL 2191 3284 \nL 2644 3284 \nL 3334 788 \nQ 3359 700 3381 497 \nL 3409 497 \nQ 3416 631 3463 788 \nL 4144 3284 \nL 4634 3284 \nz\n\" transform=\"scale(0.015625)\"/>\n        <path id=\"MalgunGothic-6f\" d=\"M 316 1600 \nQ 316 2419 761 2889 \nQ 1206 3359 1978 3359 \nQ 2697 3359 3111 2907 \nQ 3525 2456 3525 1650 \nQ 3525 869 3078 395 \nQ 2631 -78 1900 -78 \nQ 1184 -78 750 384 \nQ 316 847 316 1600 \nz\nM 819 1622 \nQ 819 1041 1123 692 \nQ 1428 344 1934 344 \nQ 2459 344 2739 680 \nQ 3019 1016 3019 1634 \nQ 3019 2256 2737 2598 \nQ 2456 2941 1934 2941 \nQ 1425 2941 1122 2587 \nQ 819 2234 819 1622 \nz\n\" transform=\"scale(0.015625)\"/>\n        <path id=\"MalgunGothic-72\" d=\"M 2225 2775 \nQ 2084 2881 1828 2881 \nQ 1491 2881 1262 2553 \nQ 1034 2225 1034 1681 \nL 1034 0 \nL 538 0 \nL 538 3284 \nL 1034 3284 \nL 1034 2603 \nL 1047 2603 \nQ 1159 2950 1389 3145 \nQ 1619 3341 1903 3341 \nQ 2109 3341 2225 3297 \nL 2225 2775 \nz\n\" transform=\"scale(0.015625)\"/>\n        <path id=\"MalgunGothic-73\" d=\"M 331 669 \nQ 763 350 1278 350 \nQ 1978 350 1978 822 \nQ 1978 1025 1825 1158 \nQ 1672 1291 1222 1459 \nQ 703 1666 520 1878 \nQ 338 2091 338 2416 \nQ 338 2834 700 3096 \nQ 1063 3359 1584 3359 \nQ 2003 3359 2341 3213 \nL 2341 2697 \nQ 1975 2934 1506 2934 \nQ 1200 2934 1025 2798 \nQ 850 2663 850 2459 \nQ 850 2241 979 2125 \nQ 1109 2009 1544 1838 \nQ 2131 1609 2309 1390 \nQ 2488 1172 2488 869 \nQ 2488 431 2127 176 \nQ 1766 -78 1203 -78 \nQ 694 -78 331 122 \nL 331 669 \nz\n\" transform=\"scale(0.015625)\"/>\n        <path id=\"MalgunGothic-74\" d=\"M 2031 31 \nQ 1844 -72 1553 -72 \nQ 706 -72 706 881 \nL 706 2856 \nL 138 2856 \nL 138 3284 \nL 706 3284 \nL 706 4091 \nL 1200 4250 \nL 1200 3284 \nL 2031 3284 \nL 2031 2856 \nL 1200 2856 \nL 1200 972 \nQ 1200 625 1315 487 \nQ 1431 350 1691 350 \nQ 1888 350 2031 459 \nL 2031 31 \nz\n\" transform=\"scale(0.015625)\"/>\n       </defs>\n       <use xlink:href=\"#MalgunGothic-77\"/>\n       <use xlink:href=\"#MalgunGothic-6f\" x=\"73.382812\"/>\n       <use xlink:href=\"#MalgunGothic-72\" x=\"133.294922\"/>\n       <use xlink:href=\"#MalgunGothic-73\" x=\"169.396484\"/>\n       <use xlink:href=\"#MalgunGothic-74\" x=\"212.707031\"/>\n      </g>\n     </g>\n    </g>\n    <g id=\"xtick_3\">\n     <g id=\"line2d_3\">\n      <g>\n       <use xlink:href=\"#m6e40604454\" x=\"206.637862\" y=\"216\" style=\"stroke: #000000; stroke-width: 0.8\"/>\n      </g>\n     </g>\n     <g id=\"text_3\">\n      <!-- no -->\n      <g transform=\"translate(198.704586 236.990837)rotate(-60)scale(0.1 -0.1)\">\n       <defs>\n        <path id=\"MalgunGothic-6e\" d=\"M 3238 0 \nL 2741 0 \nL 2741 1875 \nQ 2741 2941 1963 2941 \nQ 1563 2941 1298 2639 \nQ 1034 2338 1034 1872 \nL 1034 0 \nL 538 0 \nL 538 3284 \nL 1034 3284 \nL 1034 2734 \nL 1047 2734 \nQ 1416 3359 2125 3359 \nQ 2666 3359 2952 3012 \nQ 3238 2666 3238 2006 \nL 3238 0 \nz\n\" transform=\"scale(0.015625)\"/>\n       </defs>\n       <use xlink:href=\"#MalgunGothic-6e\"/>\n       <use xlink:href=\"#MalgunGothic-6f\" x=\"57.8125\"/>\n      </g>\n     </g>\n    </g>\n    <g id=\"xtick_4\">\n     <g id=\"line2d_4\">\n      <g>\n       <use xlink:href=\"#m6e40604454\" x=\"245.067614\" y=\"216\" style=\"stroke: #000000; stroke-width: 0.8\"/>\n      </g>\n     </g>\n     <g id=\"text_4\">\n      <!-- awful -->\n      <g transform=\"translate(231.035119 247.554993)rotate(-60)scale(0.1 -0.1)\">\n       <defs>\n        <path id=\"MalgunGothic-66\" d=\"M 2128 4422 \nQ 1975 4506 1778 4506 \nQ 1222 4506 1222 3800 \nL 1222 3284 \nL 1991 3284 \nL 1991 2856 \nL 1222 2856 \nL 1222 0 \nL 734 0 \nL 734 2856 \nL 172 2856 \nL 172 3284 \nL 734 3284 \nL 734 3825 \nQ 734 4341 1026 4636 \nQ 1319 4931 1753 4931 \nQ 1994 4931 2128 4875 \nL 2128 4422 \nz\n\" transform=\"scale(0.015625)\"/>\n        <path id=\"MalgunGothic-75\" d=\"M 3166 0 \nL 2669 0 \nL 2669 519 \nL 2656 519 \nQ 2331 -78 1644 -78 \nQ 469 -78 469 1322 \nL 469 3284 \nL 959 3284 \nL 959 1403 \nQ 959 344 1766 344 \nQ 2159 344 2414 636 \nQ 2669 928 2669 1394 \nL 2669 3284 \nL 3166 3284 \nL 3166 0 \nz\n\" transform=\"scale(0.015625)\"/>\n        <path id=\"MalgunGothic-6c\" d=\"M 541 0 \nL 541 4859 \nL 1034 4859 \nL 1034 0 \nL 541 0 \nz\n\" transform=\"scale(0.015625)\"/>\n       </defs>\n       <use xlink:href=\"#MalgunGothic-61\"/>\n       <use xlink:href=\"#MalgunGothic-77\" x=\"52.001953\"/>\n       <use xlink:href=\"#MalgunGothic-66\" x=\"125.634766\"/>\n       <use xlink:href=\"#MalgunGothic-75\" x=\"157.275391\"/>\n       <use xlink:href=\"#MalgunGothic-6c\" x=\"215.087891\"/>\n      </g>\n     </g>\n    </g>\n    <g id=\"xtick_5\">\n     <g id=\"line2d_5\">\n      <g>\n       <use xlink:href=\"#m6e40604454\" x=\"283.497366\" y=\"216\" style=\"stroke: #000000; stroke-width: 0.8\"/>\n      </g>\n     </g>\n     <g id=\"text_5\">\n      <!-- waste -->\n      <g transform=\"translate(268.646903 248.971757)rotate(-60)scale(0.1 -0.1)\">\n       <defs>\n        <path id=\"MalgunGothic-65\" d=\"M 3156 1519 \nL 828 1519 \nQ 844 950 1133 648 \nQ 1422 347 1909 347 \nQ 2472 347 2934 719 \nL 2934 244 \nQ 2494 -78 1794 -78 \nQ 1100 -78 708 376 \nQ 316 831 316 1634 \nQ 316 2381 747 2870 \nQ 1178 3359 1816 3359 \nQ 2453 3359 2804 2942 \nQ 3156 2525 3156 1788 \nL 3156 1519 \nz\nM 2644 1956 \nQ 2644 2416 2423 2675 \nQ 2203 2934 1809 2934 \nQ 1438 2934 1169 2667 \nQ 900 2400 834 1956 \nL 2644 1956 \nz\n\" transform=\"scale(0.015625)\"/>\n       </defs>\n       <use xlink:href=\"#MalgunGothic-77\"/>\n       <use xlink:href=\"#MalgunGothic-61\" x=\"73.632812\"/>\n       <use xlink:href=\"#MalgunGothic-73\" x=\"125.634766\"/>\n       <use xlink:href=\"#MalgunGothic-74\" x=\"168.945312\"/>\n       <use xlink:href=\"#MalgunGothic-65\" x=\"202.542969\"/>\n      </g>\n     </g>\n    </g>\n    <g id=\"xtick_6\">\n     <g id=\"line2d_6\">\n      <g>\n       <use xlink:href=\"#m6e40604454\" x=\"321.927118\" y=\"216\" style=\"stroke: #000000; stroke-width: 0.8\"/>\n      </g>\n     </g>\n     <g id=\"text_6\">\n      <!-- boring -->\n      <g transform=\"translate(304.936116 252.599591)rotate(-60)scale(0.1 -0.1)\">\n       <defs>\n        <path id=\"MalgunGothic-69\" d=\"M 472 4466 \nQ 472 4606 565 4701 \nQ 659 4797 794 4797 \nQ 934 4797 1029 4700 \nQ 1125 4603 1125 4466 \nQ 1125 4325 1029 4231 \nQ 934 4138 794 4138 \nQ 659 4138 565 4230 \nQ 472 4322 472 4466 \nz\nM 541 0 \nL 541 3284 \nL 1034 3284 \nL 1034 0 \nL 541 0 \nz\n\" transform=\"scale(0.015625)\"/>\n        <path id=\"MalgunGothic-67\" d=\"M 3313 259 \nQ 3313 -1547 1603 -1547 \nQ 1003 -1547 538 -1313 \nL 538 -806 \nQ 1088 -1116 1600 -1116 \nQ 2822 -1116 2822 194 \nL 2822 559 \nL 2809 559 \nQ 2422 -78 1675 -78 \nQ 1066 -78 691 362 \nQ 316 803 316 1534 \nQ 316 2375 722 2867 \nQ 1128 3359 1816 3359 \nQ 2484 3359 2809 2822 \nL 2822 2822 \nL 2822 3284 \nL 3313 3284 \nL 3313 259 \nz\nM 2822 1978 \nQ 2822 2378 2547 2659 \nQ 2272 2941 1878 2941 \nQ 1384 2941 1101 2577 \nQ 819 2213 819 1572 \nQ 819 1016 1092 680 \nQ 1366 344 1803 344 \nQ 2247 344 2534 666 \nQ 2822 988 2822 1478 \nL 2822 1978 \nz\n\" transform=\"scale(0.015625)\"/>\n       </defs>\n       <use xlink:href=\"#MalgunGothic-62\"/>\n       <use xlink:href=\"#MalgunGothic-6f\" x=\"60.058594\"/>\n       <use xlink:href=\"#MalgunGothic-72\" x=\"119.970703\"/>\n       <use xlink:href=\"#MalgunGothic-69\" x=\"155.322266\"/>\n       <use xlink:href=\"#MalgunGothic-6e\" x=\"179.931641\"/>\n       <use xlink:href=\"#MalgunGothic-67\" x=\"237.744141\"/>\n      </g>\n     </g>\n    </g>\n    <g id=\"xtick_7\">\n     <g id=\"line2d_7\">\n      <g>\n       <use xlink:href=\"#m6e40604454\" x=\"360.35687\" y=\"216\" style=\"stroke: #000000; stroke-width: 0.8\"/>\n      </g>\n     </g>\n     <g id=\"text_7\">\n      <!-- nothing -->\n      <g transform=\"translate(340.62993 257.338374)rotate(-60)scale(0.1 -0.1)\">\n       <defs>\n        <path id=\"MalgunGothic-68\" d=\"M 3238 0 \nL 2744 0 \nL 2744 1894 \nQ 2744 2941 1963 2941 \nQ 1572 2941 1303 2637 \nQ 1034 2334 1034 1859 \nL 1034 0 \nL 538 0 \nL 538 4859 \nL 1034 4859 \nL 1034 2734 \nL 1047 2734 \nQ 1425 3359 2128 3359 \nQ 3238 3359 3238 2022 \nL 3238 0 \nz\n\" transform=\"scale(0.015625)\"/>\n       </defs>\n       <use xlink:href=\"#MalgunGothic-6e\"/>\n       <use xlink:href=\"#MalgunGothic-6f\" x=\"57.8125\"/>\n       <use xlink:href=\"#MalgunGothic-74\" x=\"117.724609\"/>\n       <use xlink:href=\"#MalgunGothic-68\" x=\"152.197266\"/>\n       <use xlink:href=\"#MalgunGothic-69\" x=\"210.058594\"/>\n       <use xlink:href=\"#MalgunGothic-6e\" x=\"234.667969\"/>\n       <use xlink:href=\"#MalgunGothic-67\" x=\"292.480469\"/>\n      </g>\n     </g>\n    </g>\n    <g id=\"xtick_8\">\n     <g id=\"line2d_8\">\n      <g>\n       <use xlink:href=\"#m6e40604454\" x=\"398.786622\" y=\"216\" style=\"stroke: #000000; stroke-width: 0.8\"/>\n      </g>\n     </g>\n     <g id=\"text_8\">\n      <!-- even -->\n      <g transform=\"translate(386.091627 245.238375)rotate(-60)scale(0.1 -0.1)\">\n       <defs>\n        <path id=\"MalgunGothic-76\" d=\"M 3084 3284 \nL 1769 0 \nL 1294 0 \nL 47 3284 \nL 594 3284 \nL 1441 872 \nQ 1531 609 1556 425 \nL 1572 425 \nQ 1603 669 1672 863 \nL 2563 3284 \nL 3084 3284 \nz\n\" transform=\"scale(0.015625)\"/>\n       </defs>\n       <use xlink:href=\"#MalgunGothic-65\"/>\n       <use xlink:href=\"#MalgunGothic-76\" x=\"53.515625\"/>\n       <use xlink:href=\"#MalgunGothic-65\" x=\"101.621094\"/>\n       <use xlink:href=\"#MalgunGothic-6e\" x=\"155.136719\"/>\n      </g>\n     </g>\n    </g>\n    <g id=\"xtick_9\">\n     <g id=\"line2d_9\">\n      <g>\n       <use xlink:href=\"#m6e40604454\" x=\"437.216374\" y=\"216\" style=\"stroke: #000000; stroke-width: 0.8\"/>\n      </g>\n     </g>\n     <g id=\"text_9\">\n      <!-- poor -->\n      <g transform=\"translate(424.407317 245.435937)rotate(-60)scale(0.1 -0.1)\">\n       <defs>\n        <path id=\"MalgunGothic-70\" d=\"M 1034 481 \nL 1034 -1513 \nL 538 -1513 \nL 538 3284 \nL 1034 3284 \nL 1034 2703 \nL 1047 2703 \nQ 1438 3359 2184 3359 \nQ 2809 3359 3171 2920 \nQ 3534 2481 3534 1738 \nQ 3534 906 3126 414 \nQ 2719 -78 2034 -78 \nQ 1394 -78 1047 481 \nL 1034 481 \nz\nM 1034 1331 \nQ 1034 922 1307 633 \nQ 1581 344 1991 344 \nQ 2475 344 2751 716 \nQ 3028 1088 3028 1753 \nQ 3028 2300 2767 2620 \nQ 2506 2941 2072 2941 \nQ 1619 2941 1326 2619 \nQ 1034 2297 1034 1806 \nL 1034 1331 \nz\n\" transform=\"scale(0.015625)\"/>\n       </defs>\n       <use xlink:href=\"#MalgunGothic-70\"/>\n       <use xlink:href=\"#MalgunGothic-6f\" x=\"60.058594\"/>\n       <use xlink:href=\"#MalgunGothic-6f\" x=\"119.970703\"/>\n       <use xlink:href=\"#MalgunGothic-72\" x=\"179.882812\"/>\n      </g>\n     </g>\n    </g>\n    <g id=\"xtick_10\">\n     <g id=\"line2d_10\">\n      <g>\n       <use xlink:href=\"#m6e40604454\" x=\"475.646126\" y=\"216\" style=\"stroke: #000000; stroke-width: 0.8\"/>\n      </g>\n     </g>\n     <g id=\"text_10\">\n      <!-- terrible -->\n      <g transform=\"translate(457.567538 254.563033)rotate(-60)scale(0.1 -0.1)\">\n       <use xlink:href=\"#MalgunGothic-74\"/>\n       <use xlink:href=\"#MalgunGothic-65\" x=\"33.597656\"/>\n       <use xlink:href=\"#MalgunGothic-72\" x=\"87.113281\"/>\n       <use xlink:href=\"#MalgunGothic-72\" x=\"122.464844\"/>\n       <use xlink:href=\"#MalgunGothic-69\" x=\"157.816406\"/>\n       <use xlink:href=\"#MalgunGothic-62\" x=\"182.425781\"/>\n       <use xlink:href=\"#MalgunGothic-6c\" x=\"242.484375\"/>\n       <use xlink:href=\"#MalgunGothic-65\" x=\"267.09375\"/>\n      </g>\n     </g>\n    </g>\n    <g id=\"xtick_11\">\n     <g id=\"line2d_11\">\n      <g>\n       <use xlink:href=\"#m6e40604454\" x=\"514.075878\" y=\"216\" style=\"stroke: #000000; stroke-width: 0.8\"/>\n      </g>\n     </g>\n     <g id=\"text_11\">\n      <!-- perfect -->\n      <g transform=\"translate(496.137134 254.377067)rotate(-60)scale(0.1 -0.1)\">\n       <defs>\n        <path id=\"MalgunGothic-63\" d=\"M 2763 153 \nQ 2375 -78 1872 -78 \nQ 1184 -78 750 372 \nQ 316 822 316 1566 \nQ 316 2381 777 2870 \nQ 1238 3359 2009 3359 \nQ 2434 3359 2766 3200 \nL 2766 2681 \nQ 2397 2941 1981 2941 \nQ 1478 2941 1148 2577 \nQ 819 2213 819 1609 \nQ 819 1034 1120 689 \nQ 1422 344 1947 344 \nQ 2381 344 2763 631 \nL 2763 153 \nz\n\" transform=\"scale(0.015625)\"/>\n       </defs>\n       <use xlink:href=\"#MalgunGothic-70\"/>\n       <use xlink:href=\"#MalgunGothic-65\" x=\"60.058594\"/>\n       <use xlink:href=\"#MalgunGothic-72\" x=\"113.574219\"/>\n       <use xlink:href=\"#MalgunGothic-66\" x=\"150.925781\"/>\n       <use xlink:href=\"#MalgunGothic-65\" x=\"182.566406\"/>\n       <use xlink:href=\"#MalgunGothic-63\" x=\"236.082031\"/>\n       <use xlink:href=\"#MalgunGothic-74\" x=\"283.347656\"/>\n      </g>\n     </g>\n    </g>\n    <g id=\"xtick_12\">\n     <g id=\"line2d_12\">\n      <g>\n       <use xlink:href=\"#m6e40604454\" x=\"552.50563\" y=\"216\" style=\"stroke: #000000; stroke-width: 0.8\"/>\n      </g>\n     </g>\n     <g id=\"text_12\">\n      <!-- it -->\n      <g transform=\"translate(547.504386 231.912409)rotate(-60)scale(0.1 -0.1)\">\n       <use xlink:href=\"#MalgunGothic-69\"/>\n       <use xlink:href=\"#MalgunGothic-74\" x=\"24.609375\"/>\n      </g>\n     </g>\n    </g>\n    <g id=\"xtick_13\">\n     <g id=\"line2d_13\">\n      <g>\n       <use xlink:href=\"#m6e40604454\" x=\"590.935382\" y=\"216\" style=\"stroke: #000000; stroke-width: 0.8\"/>\n      </g>\n     </g>\n     <g id=\"text_13\">\n      <!-- very -->\n      <g transform=\"translate(579.310786 243.278141)rotate(-60)scale(0.1 -0.1)\">\n       <defs>\n        <path id=\"MalgunGothic-79\" d=\"M 3119 3284 \nL 1597 -544 \nQ 1197 -1547 481 -1547 \nQ 313 -1547 156 -1509 \nL 156 -1056 \nQ 316 -1109 459 -1109 \nQ 859 -1109 1059 -628 \nL 1328 6 \nL 47 3284 \nL 597 3284 \nL 1503 722 \nQ 1513 697 1572 488 \nL 1588 488 \nL 1650 716 \nL 2603 3284 \nL 3119 3284 \nz\n\" transform=\"scale(0.015625)\"/>\n       </defs>\n       <use xlink:href=\"#MalgunGothic-76\"/>\n       <use xlink:href=\"#MalgunGothic-65\" x=\"48.105469\"/>\n       <use xlink:href=\"#MalgunGothic-72\" x=\"101.621094\"/>\n       <use xlink:href=\"#MalgunGothic-79\" x=\"141.347656\"/>\n      </g>\n     </g>\n    </g>\n    <g id=\"xtick_14\">\n     <g id=\"line2d_14\">\n      <g>\n       <use xlink:href=\"#m6e40604454\" x=\"629.365134\" y=\"216\" style=\"stroke: #000000; stroke-width: 0.8\"/>\n      </g>\n     </g>\n     <g id=\"text_14\">\n      <!-- wonderful -->\n      <g transform=\"translate(604.505296 266.308503)rotate(-60)scale(0.1 -0.1)\">\n       <use xlink:href=\"#MalgunGothic-77\"/>\n       <use xlink:href=\"#MalgunGothic-6f\" x=\"73.382812\"/>\n       <use xlink:href=\"#MalgunGothic-6e\" x=\"133.294922\"/>\n       <use xlink:href=\"#MalgunGothic-64\" x=\"191.107422\"/>\n       <use xlink:href=\"#MalgunGothic-65\" x=\"251.3125\"/>\n       <use xlink:href=\"#MalgunGothic-72\" x=\"304.828125\"/>\n       <use xlink:href=\"#MalgunGothic-66\" x=\"342.179688\"/>\n       <use xlink:href=\"#MalgunGothic-75\" x=\"373.820312\"/>\n       <use xlink:href=\"#MalgunGothic-6c\" x=\"431.632812\"/>\n      </g>\n     </g>\n    </g>\n    <g id=\"xtick_15\">\n     <g id=\"line2d_15\">\n      <g>\n       <use xlink:href=\"#m6e40604454\" x=\"667.794886\" y=\"216\" style=\"stroke: #000000; stroke-width: 0.8\"/>\n      </g>\n     </g>\n     <g id=\"text_15\">\n      <!-- well -->\n      <g transform=\"translate(656.953798 242.027316)rotate(-60)scale(0.1 -0.1)\">\n       <use xlink:href=\"#MalgunGothic-77\"/>\n       <use xlink:href=\"#MalgunGothic-65\" x=\"73.132812\"/>\n       <use xlink:href=\"#MalgunGothic-6c\" x=\"126.648438\"/>\n       <use xlink:href=\"#MalgunGothic-6c\" x=\"151.257812\"/>\n      </g>\n     </g>\n    </g>\n    <g id=\"xtick_16\">\n     <g id=\"line2d_16\">\n      <g>\n       <use xlink:href=\"#m6e40604454\" x=\"706.224638\" y=\"216\" style=\"stroke: #000000; stroke-width: 0.8\"/>\n      </g>\n     </g>\n     <g id=\"text_16\">\n      <!-- love -->\n      <g transform=\"translate(694.870269 242.916345)rotate(-60)scale(0.1 -0.1)\">\n       <use xlink:href=\"#MalgunGothic-6c\"/>\n       <use xlink:href=\"#MalgunGothic-6f\" x=\"24.609375\"/>\n       <use xlink:href=\"#MalgunGothic-76\" x=\"84.521484\"/>\n       <use xlink:href=\"#MalgunGothic-65\" x=\"132.626953\"/>\n      </g>\n     </g>\n    </g>\n    <g id=\"xtick_17\">\n     <g id=\"line2d_17\">\n      <g>\n       <use xlink:href=\"#m6e40604454\" x=\"744.65439\" y=\"216\" style=\"stroke: #000000; stroke-width: 0.8\"/>\n      </g>\n     </g>\n     <g id=\"text_17\">\n      <!-- excellent -->\n      <g transform=\"translate(722.860959 260.997331)rotate(-60)scale(0.1 -0.1)\">\n       <defs>\n        <path id=\"MalgunGothic-78\" d=\"M 2884 3284 \nL 1784 1616 \nL 2869 0 \nL 2288 0 \nL 1634 1078 \nQ 1563 1197 1491 1325 \nL 1475 1325 \nQ 1456 1284 1328 1078 \nL 656 0 \nL 88 0 \nL 1209 1606 \nL 134 3284 \nL 713 3284 \nL 1494 1897 \nL 1506 1897 \nQ 1525 1925 1641 2119 \nL 2344 3284 \nL 2884 3284 \nz\n\" transform=\"scale(0.015625)\"/>\n       </defs>\n       <use xlink:href=\"#MalgunGothic-65\"/>\n       <use xlink:href=\"#MalgunGothic-78\" x=\"53.515625\"/>\n       <use xlink:href=\"#MalgunGothic-63\" x=\"99.125\"/>\n       <use xlink:href=\"#MalgunGothic-65\" x=\"146.390625\"/>\n       <use xlink:href=\"#MalgunGothic-6c\" x=\"199.90625\"/>\n       <use xlink:href=\"#MalgunGothic-6c\" x=\"224.515625\"/>\n       <use xlink:href=\"#MalgunGothic-65\" x=\"249.125\"/>\n       <use xlink:href=\"#MalgunGothic-6e\" x=\"302.640625\"/>\n       <use xlink:href=\"#MalgunGothic-74\" x=\"360.453125\"/>\n      </g>\n     </g>\n    </g>\n    <g id=\"xtick_18\">\n     <g id=\"line2d_18\">\n      <g>\n       <use xlink:href=\"#m6e40604454\" x=\"783.084143\" y=\"216\" style=\"stroke: #000000; stroke-width: 0.8\"/>\n      </g>\n     </g>\n     <g id=\"text_18\">\n      <!-- best -->\n      <g transform=\"translate(771.468836 243.368302)rotate(-60)scale(0.1 -0.1)\">\n       <use xlink:href=\"#MalgunGothic-62\"/>\n       <use xlink:href=\"#MalgunGothic-65\" x=\"60.058594\"/>\n       <use xlink:href=\"#MalgunGothic-73\" x=\"113.574219\"/>\n       <use xlink:href=\"#MalgunGothic-74\" x=\"156.884766\"/>\n      </g>\n     </g>\n    </g>\n    <g id=\"xtick_19\">\n     <g id=\"line2d_19\">\n      <g>\n       <use xlink:href=\"#m6e40604454\" x=\"821.513895\" y=\"216\" style=\"stroke: #000000; stroke-width: 0.8\"/>\n      </g>\n     </g>\n     <g id=\"text_19\">\n      <!-- and -->\n      <g transform=\"translate(810.965775 241.519879)rotate(-60)scale(0.1 -0.1)\">\n       <use xlink:href=\"#MalgunGothic-61\"/>\n       <use xlink:href=\"#MalgunGothic-6e\" x=\"52.001953\"/>\n       <use xlink:href=\"#MalgunGothic-64\" x=\"109.814453\"/>\n      </g>\n     </g>\n    </g>\n    <g id=\"xtick_20\">\n     <g id=\"line2d_20\">\n      <g>\n       <use xlink:href=\"#m6e40604454\" x=\"859.943647\" y=\"216\" style=\"stroke: #000000; stroke-width: 0.8\"/>\n      </g>\n     </g>\n     <g id=\"text_20\">\n      <!-- great -->\n      <g transform=\"translate(846.141707 247.049411)rotate(-60)scale(0.1 -0.1)\">\n       <use xlink:href=\"#MalgunGothic-67\"/>\n       <use xlink:href=\"#MalgunGothic-72\" x=\"60.205078\"/>\n       <use xlink:href=\"#MalgunGothic-65\" x=\"94.181641\"/>\n       <use xlink:href=\"#MalgunGothic-61\" x=\"147.697266\"/>\n       <use xlink:href=\"#MalgunGothic-74\" x=\"199.699219\"/>\n      </g>\n     </g>\n    </g>\n    <g id=\"text_21\">\n     <!-- Feature -->\n     <g transform=\"translate(439.673438 279.082722)scale(0.1 -0.1)\">\n      <defs>\n       <path id=\"MalgunGothic-46\" d=\"M 2922 4134 \nL 1113 4134 \nL 1113 2516 \nL 2788 2516 \nL 2788 2050 \nL 1113 2050 \nL 1113 0 \nL 609 0 \nL 609 4600 \nL 2922 4600 \nL 2922 4134 \nz\n\" transform=\"scale(0.015625)\"/>\n      </defs>\n      <use xlink:href=\"#MalgunGothic-46\"/>\n      <use xlink:href=\"#MalgunGothic-65\" x=\"49.853516\"/>\n      <use xlink:href=\"#MalgunGothic-61\" x=\"103.369141\"/>\n      <use xlink:href=\"#MalgunGothic-74\" x=\"155.371094\"/>\n      <use xlink:href=\"#MalgunGothic-75\" x=\"189.84375\"/>\n      <use xlink:href=\"#MalgunGothic-72\" x=\"247.65625\"/>\n      <use xlink:href=\"#MalgunGothic-65\" x=\"281.632812\"/>\n     </g>\n    </g>\n   </g>\n   <g id=\"matplotlib.axis_2\">\n    <g id=\"ytick_1\">\n     <g id=\"line2d_21\">\n      <defs>\n       <path id=\"m56c7df6192\" d=\"M 0 0 \nL -3.5 0 \n\" style=\"stroke: #000000; stroke-width: 0.8\"/>\n      </defs>\n      <g>\n       <use xlink:href=\"#m56c7df6192\" x=\"37.93125\" y=\"205.264332\" style=\"stroke: #000000; stroke-width: 0.8\"/>\n      </g>\n     </g>\n     <g id=\"text_22\">\n      <!-- -4 -->\n      <g transform=\"translate(21.321875 209.060426)scale(0.1 -0.1)\">\n       <defs>\n        <path id=\"MalgunGothic-2d\" d=\"M 2213 1634 \nL 463 1634 \nL 463 2031 \nL 2213 2031 \nL 2213 1634 \nz\n\" transform=\"scale(0.015625)\"/>\n        <path id=\"MalgunGothic-34\" d=\"M 2703 4600 \nL 2703 1563 \nL 3309 1563 \nL 3309 1113 \nL 2703 1113 \nL 2703 0 \nL 2213 0 \nL 2213 1113 \nL 50 1113 \nL 50 1534 \nQ 728 2297 1295 3109 \nQ 1863 3922 2172 4600 \nL 2703 4600 \nz\nM 625 1563 \nL 2213 1563 \nL 2213 3831 \nQ 1613 2788 959 1981 \nL 625 1563 \nz\n\" transform=\"scale(0.015625)\"/>\n       </defs>\n       <use xlink:href=\"#MalgunGothic-2d\"/>\n       <use xlink:href=\"#MalgunGothic-34\" x=\"41.015625\"/>\n      </g>\n     </g>\n    </g>\n    <g id=\"ytick_2\">\n     <g id=\"line2d_22\">\n      <g>\n       <use xlink:href=\"#m56c7df6192\" x=\"37.93125\" y=\"179.759001\" style=\"stroke: #000000; stroke-width: 0.8\"/>\n      </g>\n     </g>\n     <g id=\"text_23\">\n      <!-- -3 -->\n      <g transform=\"translate(21.321875 183.555095)scale(0.1 -0.1)\">\n       <defs>\n        <path id=\"MalgunGothic-33\" d=\"M 416 719 \nQ 891 344 1478 344 \nQ 1959 344 2254 587 \nQ 2550 831 2550 1247 \nQ 2550 2169 1253 2169 \nL 872 2169 \nL 872 2591 \nL 1234 2591 \nQ 2388 2591 2388 3453 \nQ 2388 4250 1509 4250 \nQ 1022 4250 594 3916 \nL 594 4413 \nQ 1031 4675 1634 4675 \nQ 2184 4675 2539 4372 \nQ 2894 4069 2894 3581 \nQ 2894 2678 1972 2409 \nL 1972 2400 \nQ 2469 2356 2764 2053 \nQ 3059 1750 3059 1300 \nQ 3059 672 2604 297 \nQ 2150 -78 1450 -78 \nQ 806 -78 416 169 \nL 416 719 \nz\n\" transform=\"scale(0.015625)\"/>\n       </defs>\n       <use xlink:href=\"#MalgunGothic-2d\"/>\n       <use xlink:href=\"#MalgunGothic-33\" x=\"41.015625\"/>\n      </g>\n     </g>\n    </g>\n    <g id=\"ytick_3\">\n     <g id=\"line2d_23\">\n      <g>\n       <use xlink:href=\"#m56c7df6192\" x=\"37.93125\" y=\"154.25367\" style=\"stroke: #000000; stroke-width: 0.8\"/>\n      </g>\n     </g>\n     <g id=\"text_24\">\n      <!-- -2 -->\n      <g transform=\"translate(21.321875 158.049764)scale(0.1 -0.1)\">\n       <defs>\n        <path id=\"MalgunGothic-32\" d=\"M 2519 3372 \nQ 2519 3784 2275 4018 \nQ 2031 4253 1628 4253 \nQ 1341 4253 1053 4104 \nQ 766 3956 534 3697 \nL 534 4234 \nQ 981 4675 1691 4675 \nQ 2281 4675 2642 4334 \nQ 3003 3994 3003 3416 \nQ 3003 2919 2772 2545 \nQ 2541 2172 1984 1775 \nQ 1459 1406 1254 1215 \nQ 1050 1025 967 854 \nQ 884 684 884 450 \nL 3116 450 \nL 3116 0 \nL 356 0 \nL 356 225 \nQ 356 603 461 870 \nQ 566 1138 811 1392 \nQ 1056 1647 1597 2022 \nQ 2091 2363 2305 2670 \nQ 2519 2978 2519 3372 \nz\n\" transform=\"scale(0.015625)\"/>\n       </defs>\n       <use xlink:href=\"#MalgunGothic-2d\"/>\n       <use xlink:href=\"#MalgunGothic-32\" x=\"41.015625\"/>\n      </g>\n     </g>\n    </g>\n    <g id=\"ytick_4\">\n     <g id=\"line2d_24\">\n      <g>\n       <use xlink:href=\"#m56c7df6192\" x=\"37.93125\" y=\"128.748339\" style=\"stroke: #000000; stroke-width: 0.8\"/>\n      </g>\n     </g>\n     <g id=\"text_25\">\n      <!-- -1 -->\n      <g transform=\"translate(21.321875 132.544433)scale(0.1 -0.1)\">\n       <defs>\n        <path id=\"MalgunGothic-31\" d=\"M 2231 0 \nL 1734 0 \nL 1734 3972 \nQ 1591 3828 1266 3661 \nQ 941 3494 672 3428 \nL 672 3959 \nQ 1016 4056 1409 4275 \nQ 1803 4494 2031 4700 \nL 2231 4700 \nL 2231 0 \nz\n\" transform=\"scale(0.015625)\"/>\n       </defs>\n       <use xlink:href=\"#MalgunGothic-2d\"/>\n       <use xlink:href=\"#MalgunGothic-31\" x=\"41.015625\"/>\n      </g>\n     </g>\n    </g>\n    <g id=\"ytick_5\">\n     <g id=\"line2d_25\">\n      <g>\n       <use xlink:href=\"#m56c7df6192\" x=\"37.93125\" y=\"103.243008\" style=\"stroke: #000000; stroke-width: 0.8\"/>\n      </g>\n     </g>\n     <g id=\"text_26\">\n      <!-- 0 -->\n      <g transform=\"translate(25.423438 107.039102)scale(0.1 -0.1)\">\n       <defs>\n        <path id=\"MalgunGothic-30\" d=\"M 278 2206 \nQ 278 3425 675 4050 \nQ 1072 4675 1819 4675 \nQ 3253 4675 3253 2319 \nQ 3253 1156 2854 539 \nQ 2456 -78 1716 -78 \nQ 1016 -78 647 520 \nQ 278 1119 278 2206 \nz\nM 784 2231 \nQ 784 344 1769 344 \nQ 2747 344 2747 2259 \nQ 2747 4250 1794 4250 \nQ 784 4250 784 2231 \nz\n\" transform=\"scale(0.015625)\"/>\n       </defs>\n       <use xlink:href=\"#MalgunGothic-30\"/>\n      </g>\n     </g>\n    </g>\n    <g id=\"ytick_6\">\n     <g id=\"line2d_26\">\n      <g>\n       <use xlink:href=\"#m56c7df6192\" x=\"37.93125\" y=\"77.737677\" style=\"stroke: #000000; stroke-width: 0.8\"/>\n      </g>\n     </g>\n     <g id=\"text_27\">\n      <!-- 1 -->\n      <g transform=\"translate(25.423438 81.533771)scale(0.1 -0.1)\">\n       <use xlink:href=\"#MalgunGothic-31\"/>\n      </g>\n     </g>\n    </g>\n    <g id=\"ytick_7\">\n     <g id=\"line2d_27\">\n      <g>\n       <use xlink:href=\"#m56c7df6192\" x=\"37.93125\" y=\"52.232346\" style=\"stroke: #000000; stroke-width: 0.8\"/>\n      </g>\n     </g>\n     <g id=\"text_28\">\n      <!-- 2 -->\n      <g transform=\"translate(25.423438 56.02844)scale(0.1 -0.1)\">\n       <use xlink:href=\"#MalgunGothic-32\"/>\n      </g>\n     </g>\n    </g>\n    <g id=\"ytick_8\">\n     <g id=\"line2d_28\">\n      <g>\n       <use xlink:href=\"#m56c7df6192\" x=\"37.93125\" y=\"26.727015\" style=\"stroke: #000000; stroke-width: 0.8\"/>\n      </g>\n     </g>\n     <g id=\"text_29\">\n      <!-- 3 -->\n      <g transform=\"translate(25.423438 30.523109)scale(0.1 -0.1)\">\n       <use xlink:href=\"#MalgunGothic-33\"/>\n      </g>\n     </g>\n    </g>\n    <g id=\"text_30\">\n     <!-- Coefficient magnitude -->\n     <g transform=\"translate(14.904688 161.911719)rotate(-90)scale(0.1 -0.1)\">\n      <defs>\n       <path id=\"MalgunGothic-43\" d=\"M 3725 197 \nQ 3216 -78 2459 -78 \nQ 1488 -78 897 561 \nQ 306 1200 306 2213 \nQ 306 3281 959 3978 \nQ 1613 4675 2644 4675 \nQ 3297 4675 3725 4484 \nL 3725 3941 \nQ 3234 4213 2634 4213 \nQ 1813 4213 1325 3659 \nQ 838 3106 838 2241 \nQ 838 1413 1297 897 \nQ 1756 381 2522 381 \nQ 3216 381 3725 688 \nL 3725 197 \nz\n\" transform=\"scale(0.015625)\"/>\n       <path id=\"MalgunGothic-20\" transform=\"scale(0.015625)\"/>\n       <path id=\"MalgunGothic-6d\" d=\"M 5166 0 \nL 4669 0 \nL 4669 1884 \nQ 4669 2463 4495 2702 \nQ 4322 2941 3922 2941 \nQ 3584 2941 3342 2623 \nQ 3100 2306 3100 1875 \nL 3100 0 \nL 2606 0 \nL 2606 1953 \nQ 2606 2941 1844 2941 \nQ 1497 2941 1265 2642 \nQ 1034 2344 1034 1875 \nL 1034 0 \nL 538 0 \nL 538 3284 \nL 1034 3284 \nL 1034 2763 \nL 1047 2763 \nQ 1391 3359 2063 3359 \nQ 2381 3359 2636 3176 \nQ 2891 2994 2991 2675 \nQ 3356 3359 4081 3359 \nQ 5166 3359 5166 2022 \nL 5166 0 \nz\n\" transform=\"scale(0.015625)\"/>\n      </defs>\n      <use xlink:href=\"#MalgunGothic-43\"/>\n      <use xlink:href=\"#MalgunGothic-6f\" x=\"63.476562\"/>\n      <use xlink:href=\"#MalgunGothic-65\" x=\"123.388672\"/>\n      <use xlink:href=\"#MalgunGothic-66\" x=\"176.904297\"/>\n      <use xlink:href=\"#MalgunGothic-66\" x=\"208.544922\"/>\n      <use xlink:href=\"#MalgunGothic-69\" x=\"240.185547\"/>\n      <use xlink:href=\"#MalgunGothic-63\" x=\"264.794922\"/>\n      <use xlink:href=\"#MalgunGothic-69\" x=\"312.060547\"/>\n      <use xlink:href=\"#MalgunGothic-65\" x=\"336.669922\"/>\n      <use xlink:href=\"#MalgunGothic-6e\" x=\"390.185547\"/>\n      <use xlink:href=\"#MalgunGothic-74\" x=\"447.998047\"/>\n      <use xlink:href=\"#MalgunGothic-20\" x=\"482.470703\"/>\n      <use xlink:href=\"#MalgunGothic-6d\" x=\"517.626953\"/>\n      <use xlink:href=\"#MalgunGothic-61\" x=\"605.615234\"/>\n      <use xlink:href=\"#MalgunGothic-67\" x=\"657.617188\"/>\n      <use xlink:href=\"#MalgunGothic-6e\" x=\"717.822266\"/>\n      <use xlink:href=\"#MalgunGothic-69\" x=\"775.634766\"/>\n      <use xlink:href=\"#MalgunGothic-74\" x=\"800.244141\"/>\n      <use xlink:href=\"#MalgunGothic-75\" x=\"834.716797\"/>\n      <use xlink:href=\"#MalgunGothic-64\" x=\"892.529297\"/>\n      <use xlink:href=\"#MalgunGothic-65\" x=\"952.734375\"/>\n     </g>\n    </g>\n   </g>\n   <g id=\"patch_23\">\n    <path d=\"M 37.93125 216 \nL 37.93125 7.2 \n\" style=\"fill: none; stroke: #000000; stroke-width: 0.8; stroke-linejoin: miter; stroke-linecap: square\"/>\n   </g>\n   <g id=\"patch_24\">\n    <path d=\"M 874.93125 216 \nL 874.93125 7.2 \n\" style=\"fill: none; stroke: #000000; stroke-width: 0.8; stroke-linejoin: miter; stroke-linecap: square\"/>\n   </g>\n   <g id=\"patch_25\">\n    <path d=\"M 37.93125 216 \nL 874.93125 216 \n\" style=\"fill: none; stroke: #000000; stroke-width: 0.8; stroke-linejoin: miter; stroke-linecap: square\"/>\n   </g>\n   <g id=\"patch_26\">\n    <path d=\"M 37.93125 7.2 \nL 874.93125 7.2 \n\" style=\"fill: none; stroke: #000000; stroke-width: 0.8; stroke-linejoin: miter; stroke-linecap: square\"/>\n   </g>\n  </g>\n </g>\n <defs>\n  <clipPath id=\"p4b9194210d\">\n   <rect x=\"37.93125\" y=\"7.2\" width=\"837\" height=\"208.8\"/>\n  </clipPath>\n </defs>\n</svg>\n",
      "text/plain": [
       "<Figure size 1080x360 with 1 Axes>"
      ]
     },
     "metadata": {
      "needs_background": "light"
     },
     "output_type": "display_data"
    }
   ],
   "source": [
    "mglearn.tools.visualize_coefficients(pipe.named_steps['logisticregression'].coef_[0], feature_names, n_top_features=10)"
   ]
  },
  {
   "cell_type": "code",
   "execution_count": 24,
   "metadata": {},
   "outputs": [
    {
     "data": {
      "text/plain": [
       "<2x27 sparse matrix of type '<class 'numpy.int64'>'\n",
       "\twith 30 stored elements in Compressed Sparse Row format>"
      ]
     },
     "execution_count": 24,
     "metadata": {},
     "output_type": "execute_result"
    }
   ],
   "source": [
    "vect = CountVectorizer(ngram_range=(1, 2)).fit(bards_words)\n",
    "vect.transform(bards_words)"
   ]
  },
  {
   "cell_type": "code",
   "execution_count": 25,
   "metadata": {},
   "outputs": [
    {
     "data": {
      "text/plain": [
       "array(['be', 'be fool', 'but', 'but the', 'doth', 'doth think', 'fool',\n",
       "       'fool doth', 'he', 'he is', 'himself', 'himself to', 'is',\n",
       "       'is wise', 'knows', 'knows himself', 'man', 'man knows', 'the',\n",
       "       'the fool', 'the wise', 'think', 'think he', 'to', 'to be', 'wise',\n",
       "       'wise man'], dtype=object)"
      ]
     },
     "execution_count": 25,
     "metadata": {},
     "output_type": "execute_result"
    }
   ],
   "source": [
    "vect.get_feature_names_out()"
   ]
  },
  {
   "cell_type": "code",
   "execution_count": 26,
   "metadata": {},
   "outputs": [
    {
     "data": {
      "text/html": [
       "<div>\n",
       "<style scoped>\n",
       "    .dataframe tbody tr th:only-of-type {\n",
       "        vertical-align: middle;\n",
       "    }\n",
       "\n",
       "    .dataframe tbody tr th {\n",
       "        vertical-align: top;\n",
       "    }\n",
       "\n",
       "    .dataframe thead th {\n",
       "        text-align: right;\n",
       "    }\n",
       "</style>\n",
       "<table border=\"1\" class=\"dataframe\">\n",
       "  <thead>\n",
       "    <tr style=\"text-align: right;\">\n",
       "      <th></th>\n",
       "      <th>0</th>\n",
       "      <th>1</th>\n",
       "    </tr>\n",
       "  </thead>\n",
       "  <tbody>\n",
       "    <tr>\n",
       "      <th>be</th>\n",
       "      <td>0</td>\n",
       "      <td>1</td>\n",
       "    </tr>\n",
       "    <tr>\n",
       "      <th>be fool</th>\n",
       "      <td>0</td>\n",
       "      <td>1</td>\n",
       "    </tr>\n",
       "    <tr>\n",
       "      <th>but</th>\n",
       "      <td>0</td>\n",
       "      <td>1</td>\n",
       "    </tr>\n",
       "    <tr>\n",
       "      <th>but the</th>\n",
       "      <td>0</td>\n",
       "      <td>1</td>\n",
       "    </tr>\n",
       "    <tr>\n",
       "      <th>doth</th>\n",
       "      <td>1</td>\n",
       "      <td>0</td>\n",
       "    </tr>\n",
       "  </tbody>\n",
       "</table>\n",
       "</div>"
      ],
      "text/plain": [
       "         0  1\n",
       "be       0  1\n",
       "be fool  0  1\n",
       "but      0  1\n",
       "but the  0  1\n",
       "doth     1  0"
      ]
     },
     "execution_count": 26,
     "metadata": {},
     "output_type": "execute_result"
    }
   ],
   "source": [
    "pd.DataFrame(vect.transform(bards_words).toarray(), columns=vect.get_feature_names_out()).T.head()"
   ]
  },
  {
   "cell_type": "code",
   "execution_count": 27,
   "metadata": {},
   "outputs": [],
   "source": [
    "vect = CountVectorizer(min_df=5, ngram_range=(1, 2)).fit(text_train)\n",
    "X_train = vect.transform(text_train)\n",
    "X_test = vect.transform(text_test)"
   ]
  },
  {
   "cell_type": "code",
   "execution_count": 28,
   "metadata": {},
   "outputs": [
    {
     "data": {
      "text/plain": [
       "0.89"
      ]
     },
     "execution_count": 28,
     "metadata": {},
     "output_type": "execute_result"
    }
   ],
   "source": [
    "logreg = LogisticRegression(C=100, max_iter=5000).fit(X_train, y_train)\n",
    "logreg.score(X_test, y_test)"
   ]
  },
  {
   "cell_type": "code",
   "execution_count": 29,
   "metadata": {},
   "outputs": [
    {
     "data": {
      "image/svg+xml": "<?xml version=\"1.0\" encoding=\"utf-8\" standalone=\"no\"?>\n<!DOCTYPE svg PUBLIC \"-//W3C//DTD SVG 1.1//EN\"\n  \"http://www.w3.org/Graphics/SVG/1.1/DTD/svg11.dtd\">\n<svg xmlns:xlink=\"http://www.w3.org/1999/xlink\" width=\"882.13125pt\" height=\"310.933676pt\" viewBox=\"0 0 882.13125 310.933676\" xmlns=\"http://www.w3.org/2000/svg\" version=\"1.1\">\n <metadata>\n  <rdf:RDF xmlns:dc=\"http://purl.org/dc/elements/1.1/\" xmlns:cc=\"http://creativecommons.org/ns#\" xmlns:rdf=\"http://www.w3.org/1999/02/22-rdf-syntax-ns#\">\n   <cc:Work>\n    <dc:type rdf:resource=\"http://purl.org/dc/dcmitype/StillImage\"/>\n    <dc:date>2022-11-26T14:40:43.984119</dc:date>\n    <dc:format>image/svg+xml</dc:format>\n    <dc:creator>\n     <cc:Agent>\n      <dc:title>Matplotlib v3.5.1, https://matplotlib.org/</dc:title>\n     </cc:Agent>\n    </dc:creator>\n   </cc:Work>\n  </rdf:RDF>\n </metadata>\n <defs>\n  <style type=\"text/css\">*{stroke-linejoin: round; stroke-linecap: butt}</style>\n </defs>\n <g id=\"figure_1\">\n  <g id=\"patch_1\">\n   <path d=\"M 0 310.933676 \nL 882.13125 310.933676 \nL 882.13125 0 \nL 0 0 \nL 0 310.933676 \nz\n\" style=\"fill: none\"/>\n  </g>\n  <g id=\"axes_1\">\n   <g id=\"patch_2\">\n    <path d=\"M 37.93125 216 \nL 874.93125 216 \nL 874.93125 7.2 \nL 37.93125 7.2 \nz\n\" style=\"fill: #ffffff\"/>\n   </g>\n   <g id=\"patch_3\">\n    <path d=\"M 75.976705 98.759903 \nL 91.27136 98.759903 \nL 91.27136 206.509091 \nL 75.976705 206.509091 \nz\n\" clip-path=\"url(#pded12542da)\" style=\"fill: #ff2020\"/>\n   </g>\n   <g id=\"patch_4\">\n    <path d=\"M 95.095023 98.759903 \nL 110.389679 98.759903 \nL 110.389679 201.999896 \nL 95.095023 201.999896 \nz\n\" clip-path=\"url(#pded12542da)\" style=\"fill: #ff2020\"/>\n   </g>\n   <g id=\"patch_5\">\n    <path d=\"M 114.213342 98.759903 \nL 129.507997 98.759903 \nL 129.507997 195.518391 \nL 114.213342 195.518391 \nz\n\" clip-path=\"url(#pded12542da)\" style=\"fill: #ff2020\"/>\n   </g>\n   <g id=\"patch_6\">\n    <path d=\"M 133.331661 98.759903 \nL 148.626316 98.759903 \nL 148.626316 193.501275 \nL 133.331661 193.501275 \nz\n\" clip-path=\"url(#pded12542da)\" style=\"fill: #ff2020\"/>\n   </g>\n   <g id=\"patch_7\">\n    <path d=\"M 152.44998 98.759903 \nL 167.744635 98.759903 \nL 167.744635 189.733781 \nL 152.44998 189.733781 \nz\n\" clip-path=\"url(#pded12542da)\" style=\"fill: #ff2020\"/>\n   </g>\n   <g id=\"patch_8\">\n    <path d=\"M 171.568299 98.759903 \nL 186.862954 98.759903 \nL 186.862954 179.489384 \nL 171.568299 179.489384 \nz\n\" clip-path=\"url(#pded12542da)\" style=\"fill: #ff2020\"/>\n   </g>\n   <g id=\"patch_9\">\n    <path d=\"M 190.686618 98.759903 \nL 205.981273 98.759903 \nL 205.981273 178.436359 \nL 190.686618 178.436359 \nz\n\" clip-path=\"url(#pded12542da)\" style=\"fill: #ff2020\"/>\n   </g>\n   <g id=\"patch_10\">\n    <path d=\"M 209.804937 98.759903 \nL 225.099592 98.759903 \nL 225.099592 178.044774 \nL 209.804937 178.044774 \nz\n\" clip-path=\"url(#pded12542da)\" style=\"fill: #ff2020\"/>\n   </g>\n   <g id=\"patch_11\">\n    <path d=\"M 228.923255 98.759903 \nL 244.217911 98.759903 \nL 244.217911 176.809774 \nL 228.923255 176.809774 \nz\n\" clip-path=\"url(#pded12542da)\" style=\"fill: #ff2020\"/>\n   </g>\n   <g id=\"patch_12\">\n    <path d=\"M 248.041574 98.759903 \nL 263.336229 98.759903 \nL 263.336229 173.925368 \nL 248.041574 173.925368 \nz\n\" clip-path=\"url(#pded12542da)\" style=\"fill: #ff2020\"/>\n   </g>\n   <g id=\"patch_13\">\n    <path d=\"M 267.159893 98.759903 \nL 282.454548 98.759903 \nL 282.454548 173.795247 \nL 267.159893 173.795247 \nz\n\" clip-path=\"url(#pded12542da)\" style=\"fill: #ff2020\"/>\n   </g>\n   <g id=\"patch_14\">\n    <path d=\"M 286.278212 98.759903 \nL 301.572867 98.759903 \nL 301.572867 169.505705 \nL 286.278212 169.505705 \nz\n\" clip-path=\"url(#pded12542da)\" style=\"fill: #ff2020\"/>\n   </g>\n   <g id=\"patch_15\">\n    <path d=\"M 305.396531 98.759903 \nL 320.691186 98.759903 \nL 320.691186 168.315156 \nL 305.396531 168.315156 \nz\n\" clip-path=\"url(#pded12542da)\" style=\"fill: #ff2020\"/>\n   </g>\n   <g id=\"patch_16\">\n    <path d=\"M 324.51485 98.759903 \nL 339.809505 98.759903 \nL 339.809505 168.055983 \nL 324.51485 168.055983 \nz\n\" clip-path=\"url(#pded12542da)\" style=\"fill: #ff2020\"/>\n   </g>\n   <g id=\"patch_17\">\n    <path d=\"M 343.633169 98.759903 \nL 358.927824 98.759903 \nL 358.927824 167.941083 \nL 343.633169 167.941083 \nz\n\" clip-path=\"url(#pded12542da)\" style=\"fill: #ff2020\"/>\n   </g>\n   <g id=\"patch_18\">\n    <path d=\"M 362.751488 98.759903 \nL 378.046143 98.759903 \nL 378.046143 167.922075 \nL 362.751488 167.922075 \nz\n\" clip-path=\"url(#pded12542da)\" style=\"fill: #ff2020\"/>\n   </g>\n   <g id=\"patch_19\">\n    <path d=\"M 381.869806 98.759903 \nL 397.164462 98.759903 \nL 397.164462 166.551758 \nL 381.869806 166.551758 \nz\n\" clip-path=\"url(#pded12542da)\" style=\"fill: #ff2020\"/>\n   </g>\n   <g id=\"patch_20\">\n    <path d=\"M 400.988125 98.759903 \nL 416.28278 98.759903 \nL 416.28278 165.930932 \nL 400.988125 165.930932 \nz\n\" clip-path=\"url(#pded12542da)\" style=\"fill: #ff2020\"/>\n   </g>\n   <g id=\"patch_21\">\n    <path d=\"M 420.106444 98.759903 \nL 435.401099 98.759903 \nL 435.401099 162.260428 \nL 420.106444 162.260428 \nz\n\" clip-path=\"url(#pded12542da)\" style=\"fill: #ff2020\"/>\n   </g>\n   <g id=\"patch_22\">\n    <path d=\"M 439.224763 98.759903 \nL 454.519418 98.759903 \nL 454.519418 162.054046 \nL 439.224763 162.054046 \nz\n\" clip-path=\"url(#pded12542da)\" style=\"fill: #ff2020\"/>\n   </g>\n   <g id=\"patch_23\">\n    <path d=\"M 458.343082 98.759903 \nL 473.637737 98.759903 \nL 473.637737 48.528549 \nL 458.343082 48.528549 \nz\n\" clip-path=\"url(#pded12542da)\" style=\"fill: #0000aa\"/>\n   </g>\n   <g id=\"patch_24\">\n    <path d=\"M 477.461401 98.759903 \nL 492.756056 98.759903 \nL 492.756056 47.86641 \nL 477.461401 47.86641 \nz\n\" clip-path=\"url(#pded12542da)\" style=\"fill: #0000aa\"/>\n   </g>\n   <g id=\"patch_25\">\n    <path d=\"M 496.57972 98.759903 \nL 511.874375 98.759903 \nL 511.874375 46.919527 \nL 496.57972 46.919527 \nz\n\" clip-path=\"url(#pded12542da)\" style=\"fill: #0000aa\"/>\n   </g>\n   <g id=\"patch_26\">\n    <path d=\"M 515.698038 98.759903 \nL 530.992694 98.759903 \nL 530.992694 46.12636 \nL 515.698038 46.12636 \nz\n\" clip-path=\"url(#pded12542da)\" style=\"fill: #0000aa\"/>\n   </g>\n   <g id=\"patch_27\">\n    <path d=\"M 534.816357 98.759903 \nL 550.111012 98.759903 \nL 550.111012 45.468213 \nL 534.816357 45.468213 \nz\n\" clip-path=\"url(#pded12542da)\" style=\"fill: #0000aa\"/>\n   </g>\n   <g id=\"patch_28\">\n    <path d=\"M 553.934676 98.759903 \nL 569.229331 98.759903 \nL 569.229331 45.435126 \nL 553.934676 45.435126 \nz\n\" clip-path=\"url(#pded12542da)\" style=\"fill: #0000aa\"/>\n   </g>\n   <g id=\"patch_29\">\n    <path d=\"M 573.052995 98.759903 \nL 588.34765 98.759903 \nL 588.34765 44.753491 \nL 573.052995 44.753491 \nz\n\" clip-path=\"url(#pded12542da)\" style=\"fill: #0000aa\"/>\n   </g>\n   <g id=\"patch_30\">\n    <path d=\"M 592.171314 98.759903 \nL 607.465969 98.759903 \nL 607.465969 44.695481 \nL 592.171314 44.695481 \nz\n\" clip-path=\"url(#pded12542da)\" style=\"fill: #0000aa\"/>\n   </g>\n   <g id=\"patch_31\">\n    <path d=\"M 611.289633 98.759903 \nL 626.584288 98.759903 \nL 626.584288 43.896895 \nL 611.289633 43.896895 \nz\n\" clip-path=\"url(#pded12542da)\" style=\"fill: #0000aa\"/>\n   </g>\n   <g id=\"patch_32\">\n    <path d=\"M 630.407952 98.759903 \nL 645.702607 98.759903 \nL 645.702607 41.541392 \nL 630.407952 41.541392 \nz\n\" clip-path=\"url(#pded12542da)\" style=\"fill: #0000aa\"/>\n   </g>\n   <g id=\"patch_33\">\n    <path d=\"M 649.526271 98.759903 \nL 664.820926 98.759903 \nL 664.820926 41.404258 \nL 649.526271 41.404258 \nz\n\" clip-path=\"url(#pded12542da)\" style=\"fill: #0000aa\"/>\n   </g>\n   <g id=\"patch_34\">\n    <path d=\"M 668.644589 98.759903 \nL 683.939245 98.759903 \nL 683.939245 41.10229 \nL 668.644589 41.10229 \nz\n\" clip-path=\"url(#pded12542da)\" style=\"fill: #0000aa\"/>\n   </g>\n   <g id=\"patch_35\">\n    <path d=\"M 687.762908 98.759903 \nL 703.057563 98.759903 \nL 703.057563 40.448693 \nL 687.762908 40.448693 \nz\n\" clip-path=\"url(#pded12542da)\" style=\"fill: #0000aa\"/>\n   </g>\n   <g id=\"patch_36\">\n    <path d=\"M 706.881227 98.759903 \nL 722.175882 98.759903 \nL 722.175882 39.411651 \nL 706.881227 39.411651 \nz\n\" clip-path=\"url(#pded12542da)\" style=\"fill: #0000aa\"/>\n   </g>\n   <g id=\"patch_37\">\n    <path d=\"M 725.999546 98.759903 \nL 741.294201 98.759903 \nL 741.294201 35.850659 \nL 725.999546 35.850659 \nz\n\" clip-path=\"url(#pded12542da)\" style=\"fill: #0000aa\"/>\n   </g>\n   <g id=\"patch_38\">\n    <path d=\"M 745.117865 98.759903 \nL 760.41252 98.759903 \nL 760.41252 33.946067 \nL 745.117865 33.946067 \nz\n\" clip-path=\"url(#pded12542da)\" style=\"fill: #0000aa\"/>\n   </g>\n   <g id=\"patch_39\">\n    <path d=\"M 764.236184 98.759903 \nL 779.530839 98.759903 \nL 779.530839 30.898045 \nL 764.236184 30.898045 \nz\n\" clip-path=\"url(#pded12542da)\" style=\"fill: #0000aa\"/>\n   </g>\n   <g id=\"patch_40\">\n    <path d=\"M 783.354503 98.759903 \nL 798.649158 98.759903 \nL 798.649158 26.285902 \nL 783.354503 26.285902 \nz\n\" clip-path=\"url(#pded12542da)\" style=\"fill: #0000aa\"/>\n   </g>\n   <g id=\"patch_41\">\n    <path d=\"M 802.472821 98.759903 \nL 817.767477 98.759903 \nL 817.767477 20.981699 \nL 802.472821 20.981699 \nz\n\" clip-path=\"url(#pded12542da)\" style=\"fill: #0000aa\"/>\n   </g>\n   <g id=\"patch_42\">\n    <path d=\"M 821.59114 98.759903 \nL 836.885795 98.759903 \nL 836.885795 16.690909 \nL 821.59114 16.690909 \nz\n\" clip-path=\"url(#pded12542da)\" style=\"fill: #0000aa\"/>\n   </g>\n   <g id=\"matplotlib.axis_1\">\n    <g id=\"xtick_1\">\n     <g id=\"line2d_1\">\n      <defs>\n       <path id=\"m34fea35655\" d=\"M 0 0 \nL 0 3.5 \n\" style=\"stroke: #000000; stroke-width: 0.8\"/>\n      </defs>\n      <g>\n       <use xlink:href=\"#m34fea35655\" x=\"102.742351\" y=\"216\" style=\"stroke: #000000; stroke-width: 0.8\"/>\n      </g>\n     </g>\n     <g id=\"text_1\">\n      <!-- worst -->\n      <g transform=\"translate(88.335638 248.203159)rotate(-60)scale(0.1 -0.1)\">\n       <defs>\n        <path id=\"MalgunGothic-77\" d=\"M 4634 3284 \nL 3650 0 \nL 3134 0 \nL 2447 2378 \nQ 2409 2506 2397 2675 \nL 2384 2675 \nQ 2384 2609 2316 2384 \nL 1572 0 \nL 1078 0 \nL 81 3284 \nL 600 3284 \nL 1294 794 \nQ 1325 681 1338 503 \nL 1363 503 \nQ 1378 656 1422 800 \nL 2191 3284 \nL 2644 3284 \nL 3334 788 \nQ 3359 700 3381 497 \nL 3409 497 \nQ 3416 631 3463 788 \nL 4144 3284 \nL 4634 3284 \nz\n\" transform=\"scale(0.015625)\"/>\n        <path id=\"MalgunGothic-6f\" d=\"M 316 1600 \nQ 316 2419 761 2889 \nQ 1206 3359 1978 3359 \nQ 2697 3359 3111 2907 \nQ 3525 2456 3525 1650 \nQ 3525 869 3078 395 \nQ 2631 -78 1900 -78 \nQ 1184 -78 750 384 \nQ 316 847 316 1600 \nz\nM 819 1622 \nQ 819 1041 1123 692 \nQ 1428 344 1934 344 \nQ 2459 344 2739 680 \nQ 3019 1016 3019 1634 \nQ 3019 2256 2737 2598 \nQ 2456 2941 1934 2941 \nQ 1425 2941 1122 2587 \nQ 819 2234 819 1622 \nz\n\" transform=\"scale(0.015625)\"/>\n        <path id=\"MalgunGothic-72\" d=\"M 2225 2775 \nQ 2084 2881 1828 2881 \nQ 1491 2881 1262 2553 \nQ 1034 2225 1034 1681 \nL 1034 0 \nL 538 0 \nL 538 3284 \nL 1034 3284 \nL 1034 2603 \nL 1047 2603 \nQ 1159 2950 1389 3145 \nQ 1619 3341 1903 3341 \nQ 2109 3341 2225 3297 \nL 2225 2775 \nz\n\" transform=\"scale(0.015625)\"/>\n        <path id=\"MalgunGothic-73\" d=\"M 331 669 \nQ 763 350 1278 350 \nQ 1978 350 1978 822 \nQ 1978 1025 1825 1158 \nQ 1672 1291 1222 1459 \nQ 703 1666 520 1878 \nQ 338 2091 338 2416 \nQ 338 2834 700 3096 \nQ 1063 3359 1584 3359 \nQ 2003 3359 2341 3213 \nL 2341 2697 \nQ 1975 2934 1506 2934 \nQ 1200 2934 1025 2798 \nQ 850 2663 850 2459 \nQ 850 2241 979 2125 \nQ 1109 2009 1544 1838 \nQ 2131 1609 2309 1390 \nQ 2488 1172 2488 869 \nQ 2488 431 2127 176 \nQ 1766 -78 1203 -78 \nQ 694 -78 331 122 \nL 331 669 \nz\n\" transform=\"scale(0.015625)\"/>\n        <path id=\"MalgunGothic-74\" d=\"M 2031 31 \nQ 1844 -72 1553 -72 \nQ 706 -72 706 881 \nL 706 2856 \nL 138 2856 \nL 138 3284 \nL 706 3284 \nL 706 4091 \nL 1200 4250 \nL 1200 3284 \nL 2031 3284 \nL 2031 2856 \nL 1200 2856 \nL 1200 972 \nQ 1200 625 1315 487 \nQ 1431 350 1691 350 \nQ 1888 350 2031 459 \nL 2031 31 \nz\n\" transform=\"scale(0.015625)\"/>\n       </defs>\n       <use xlink:href=\"#MalgunGothic-77\"/>\n       <use xlink:href=\"#MalgunGothic-6f\" x=\"73.382812\"/>\n       <use xlink:href=\"#MalgunGothic-72\" x=\"133.294922\"/>\n       <use xlink:href=\"#MalgunGothic-73\" x=\"169.396484\"/>\n       <use xlink:href=\"#MalgunGothic-74\" x=\"212.707031\"/>\n      </g>\n     </g>\n    </g>\n    <g id=\"xtick_2\">\n     <g id=\"line2d_2\">\n      <g>\n       <use xlink:href=\"#m34fea35655\" x=\"121.86067\" y=\"216\" style=\"stroke: #000000; stroke-width: 0.8\"/>\n      </g>\n     </g>\n     <g id=\"text_2\">\n      <!-- awful -->\n      <g transform=\"translate(107.828175 247.554993)rotate(-60)scale(0.1 -0.1)\">\n       <defs>\n        <path id=\"MalgunGothic-61\" d=\"M 616 3050 \nQ 1097 3359 1722 3359 \nQ 2866 3359 2866 2147 \nL 2866 0 \nL 2369 0 \nL 2369 516 \nL 2350 516 \nQ 2009 -78 1341 -78 \nQ 859 -78 576 180 \nQ 294 438 294 869 \nQ 294 1784 1375 1934 \nL 2366 2078 \nQ 2366 2934 1684 2934 \nQ 1084 2934 616 2525 \nL 616 3050 \nz\nM 1563 1559 \nQ 1178 1509 993 1371 \nQ 809 1234 809 903 \nQ 809 653 986 500 \nQ 1163 347 1450 347 \nQ 1847 347 2106 628 \nQ 2366 909 2366 1334 \nL 2366 1666 \nL 1563 1559 \nz\n\" transform=\"scale(0.015625)\"/>\n        <path id=\"MalgunGothic-66\" d=\"M 2128 4422 \nQ 1975 4506 1778 4506 \nQ 1222 4506 1222 3800 \nL 1222 3284 \nL 1991 3284 \nL 1991 2856 \nL 1222 2856 \nL 1222 0 \nL 734 0 \nL 734 2856 \nL 172 2856 \nL 172 3284 \nL 734 3284 \nL 734 3825 \nQ 734 4341 1026 4636 \nQ 1319 4931 1753 4931 \nQ 1994 4931 2128 4875 \nL 2128 4422 \nz\n\" transform=\"scale(0.015625)\"/>\n        <path id=\"MalgunGothic-75\" d=\"M 3166 0 \nL 2669 0 \nL 2669 519 \nL 2656 519 \nQ 2331 -78 1644 -78 \nQ 469 -78 469 1322 \nL 469 3284 \nL 959 3284 \nL 959 1403 \nQ 959 344 1766 344 \nQ 2159 344 2414 636 \nQ 2669 928 2669 1394 \nL 2669 3284 \nL 3166 3284 \nL 3166 0 \nz\n\" transform=\"scale(0.015625)\"/>\n        <path id=\"MalgunGothic-6c\" d=\"M 541 0 \nL 541 4859 \nL 1034 4859 \nL 1034 0 \nL 541 0 \nz\n\" transform=\"scale(0.015625)\"/>\n       </defs>\n       <use xlink:href=\"#MalgunGothic-61\"/>\n       <use xlink:href=\"#MalgunGothic-77\" x=\"52.001953\"/>\n       <use xlink:href=\"#MalgunGothic-66\" x=\"125.634766\"/>\n       <use xlink:href=\"#MalgunGothic-75\" x=\"157.275391\"/>\n       <use xlink:href=\"#MalgunGothic-6c\" x=\"215.087891\"/>\n      </g>\n     </g>\n    </g>\n    <g id=\"xtick_3\">\n     <g id=\"line2d_3\">\n      <g>\n       <use xlink:href=\"#m34fea35655\" x=\"140.978989\" y=\"216\" style=\"stroke: #000000; stroke-width: 0.8\"/>\n      </g>\n     </g>\n     <g id=\"text_3\">\n      <!-- boring -->\n      <g transform=\"translate(123.987987 252.599591)rotate(-60)scale(0.1 -0.1)\">\n       <defs>\n        <path id=\"MalgunGothic-62\" d=\"M 1034 481 \nL 1034 0 \nL 538 0 \nL 538 4859 \nL 1034 4859 \nL 1034 2703 \nL 1047 2703 \nQ 1438 3359 2184 3359 \nQ 2813 3359 3173 2917 \nQ 3534 2475 3534 1738 \nQ 3534 906 3126 414 \nQ 2719 -78 2034 -78 \nQ 1384 -78 1047 481 \nL 1034 481 \nz\nM 1034 1334 \nQ 1034 922 1307 633 \nQ 1581 344 1991 344 \nQ 2475 344 2751 716 \nQ 3028 1088 3028 1753 \nQ 3028 2303 2767 2622 \nQ 2506 2941 2072 2941 \nQ 1616 2941 1325 2616 \nQ 1034 2291 1034 1803 \nL 1034 1334 \nz\n\" transform=\"scale(0.015625)\"/>\n        <path id=\"MalgunGothic-69\" d=\"M 472 4466 \nQ 472 4606 565 4701 \nQ 659 4797 794 4797 \nQ 934 4797 1029 4700 \nQ 1125 4603 1125 4466 \nQ 1125 4325 1029 4231 \nQ 934 4138 794 4138 \nQ 659 4138 565 4230 \nQ 472 4322 472 4466 \nz\nM 541 0 \nL 541 3284 \nL 1034 3284 \nL 1034 0 \nL 541 0 \nz\n\" transform=\"scale(0.015625)\"/>\n        <path id=\"MalgunGothic-6e\" d=\"M 3238 0 \nL 2741 0 \nL 2741 1875 \nQ 2741 2941 1963 2941 \nQ 1563 2941 1298 2639 \nQ 1034 2338 1034 1872 \nL 1034 0 \nL 538 0 \nL 538 3284 \nL 1034 3284 \nL 1034 2734 \nL 1047 2734 \nQ 1416 3359 2125 3359 \nQ 2666 3359 2952 3012 \nQ 3238 2666 3238 2006 \nL 3238 0 \nz\n\" transform=\"scale(0.015625)\"/>\n        <path id=\"MalgunGothic-67\" d=\"M 3313 259 \nQ 3313 -1547 1603 -1547 \nQ 1003 -1547 538 -1313 \nL 538 -806 \nQ 1088 -1116 1600 -1116 \nQ 2822 -1116 2822 194 \nL 2822 559 \nL 2809 559 \nQ 2422 -78 1675 -78 \nQ 1066 -78 691 362 \nQ 316 803 316 1534 \nQ 316 2375 722 2867 \nQ 1128 3359 1816 3359 \nQ 2484 3359 2809 2822 \nL 2822 2822 \nL 2822 3284 \nL 3313 3284 \nL 3313 259 \nz\nM 2822 1978 \nQ 2822 2378 2547 2659 \nQ 2272 2941 1878 2941 \nQ 1384 2941 1101 2577 \nQ 819 2213 819 1572 \nQ 819 1016 1092 680 \nQ 1366 344 1803 344 \nQ 2247 344 2534 666 \nQ 2822 988 2822 1478 \nL 2822 1978 \nz\n\" transform=\"scale(0.015625)\"/>\n       </defs>\n       <use xlink:href=\"#MalgunGothic-62\"/>\n       <use xlink:href=\"#MalgunGothic-6f\" x=\"60.058594\"/>\n       <use xlink:href=\"#MalgunGothic-72\" x=\"119.970703\"/>\n       <use xlink:href=\"#MalgunGothic-69\" x=\"155.322266\"/>\n       <use xlink:href=\"#MalgunGothic-6e\" x=\"179.931641\"/>\n       <use xlink:href=\"#MalgunGothic-67\" x=\"237.744141\"/>\n      </g>\n     </g>\n    </g>\n    <g id=\"xtick_4\">\n     <g id=\"line2d_4\">\n      <g>\n       <use xlink:href=\"#m34fea35655\" x=\"160.097308\" y=\"216\" style=\"stroke: #000000; stroke-width: 0.8\"/>\n      </g>\n     </g>\n     <g id=\"text_4\">\n      <!-- disappointment -->\n      <g transform=\"translate(122.508563 288.355615)rotate(-60)scale(0.1 -0.1)\">\n       <defs>\n        <path id=\"MalgunGothic-64\" d=\"M 3313 0 \nL 2822 0 \nL 2822 566 \nL 2809 566 \nQ 2444 -78 1675 -78 \nQ 1056 -78 686 364 \nQ 316 806 316 1566 \nQ 316 2375 728 2867 \nQ 1141 3359 1816 3359 \nQ 2494 3359 2809 2822 \nL 2822 2822 \nL 2822 4859 \nL 3313 4859 \nL 3313 0 \nz\nM 2822 1978 \nQ 2822 2378 2550 2659 \nQ 2278 2941 1872 2941 \nQ 1384 2941 1101 2577 \nQ 819 2213 819 1591 \nQ 819 1025 1086 684 \nQ 1353 344 1813 344 \nQ 2250 344 2536 666 \nQ 2822 988 2822 1478 \nL 2822 1978 \nz\n\" transform=\"scale(0.015625)\"/>\n        <path id=\"MalgunGothic-70\" d=\"M 1034 481 \nL 1034 -1513 \nL 538 -1513 \nL 538 3284 \nL 1034 3284 \nL 1034 2703 \nL 1047 2703 \nQ 1438 3359 2184 3359 \nQ 2809 3359 3171 2920 \nQ 3534 2481 3534 1738 \nQ 3534 906 3126 414 \nQ 2719 -78 2034 -78 \nQ 1394 -78 1047 481 \nL 1034 481 \nz\nM 1034 1331 \nQ 1034 922 1307 633 \nQ 1581 344 1991 344 \nQ 2475 344 2751 716 \nQ 3028 1088 3028 1753 \nQ 3028 2300 2767 2620 \nQ 2506 2941 2072 2941 \nQ 1619 2941 1326 2619 \nQ 1034 2297 1034 1806 \nL 1034 1331 \nz\n\" transform=\"scale(0.015625)\"/>\n        <path id=\"MalgunGothic-6d\" d=\"M 5166 0 \nL 4669 0 \nL 4669 1884 \nQ 4669 2463 4495 2702 \nQ 4322 2941 3922 2941 \nQ 3584 2941 3342 2623 \nQ 3100 2306 3100 1875 \nL 3100 0 \nL 2606 0 \nL 2606 1953 \nQ 2606 2941 1844 2941 \nQ 1497 2941 1265 2642 \nQ 1034 2344 1034 1875 \nL 1034 0 \nL 538 0 \nL 538 3284 \nL 1034 3284 \nL 1034 2763 \nL 1047 2763 \nQ 1391 3359 2063 3359 \nQ 2381 3359 2636 3176 \nQ 2891 2994 2991 2675 \nQ 3356 3359 4081 3359 \nQ 5166 3359 5166 2022 \nL 5166 0 \nz\n\" transform=\"scale(0.015625)\"/>\n        <path id=\"MalgunGothic-65\" d=\"M 3156 1519 \nL 828 1519 \nQ 844 950 1133 648 \nQ 1422 347 1909 347 \nQ 2472 347 2934 719 \nL 2934 244 \nQ 2494 -78 1794 -78 \nQ 1100 -78 708 376 \nQ 316 831 316 1634 \nQ 316 2381 747 2870 \nQ 1178 3359 1816 3359 \nQ 2453 3359 2804 2942 \nQ 3156 2525 3156 1788 \nL 3156 1519 \nz\nM 2644 1956 \nQ 2644 2416 2423 2675 \nQ 2203 2934 1809 2934 \nQ 1438 2934 1169 2667 \nQ 900 2400 834 1956 \nL 2644 1956 \nz\n\" transform=\"scale(0.015625)\"/>\n       </defs>\n       <use xlink:href=\"#MalgunGothic-64\"/>\n       <use xlink:href=\"#MalgunGothic-69\" x=\"60.205078\"/>\n       <use xlink:href=\"#MalgunGothic-73\" x=\"84.814453\"/>\n       <use xlink:href=\"#MalgunGothic-61\" x=\"128.125\"/>\n       <use xlink:href=\"#MalgunGothic-70\" x=\"180.126953\"/>\n       <use xlink:href=\"#MalgunGothic-70\" x=\"240.185547\"/>\n       <use xlink:href=\"#MalgunGothic-6f\" x=\"300.244141\"/>\n       <use xlink:href=\"#MalgunGothic-69\" x=\"360.15625\"/>\n       <use xlink:href=\"#MalgunGothic-6e\" x=\"384.765625\"/>\n       <use xlink:href=\"#MalgunGothic-74\" x=\"442.578125\"/>\n       <use xlink:href=\"#MalgunGothic-6d\" x=\"477.050781\"/>\n       <use xlink:href=\"#MalgunGothic-65\" x=\"565.039062\"/>\n       <use xlink:href=\"#MalgunGothic-6e\" x=\"618.554688\"/>\n       <use xlink:href=\"#MalgunGothic-74\" x=\"676.367188\"/>\n      </g>\n     </g>\n    </g>\n    <g id=\"xtick_5\">\n     <g id=\"line2d_5\">\n      <g>\n       <use xlink:href=\"#m34fea35655\" x=\"179.215626\" y=\"216\" style=\"stroke: #000000; stroke-width: 0.8\"/>\n      </g>\n     </g>\n     <g id=\"text_5\">\n      <!-- waste -->\n      <g transform=\"translate(164.365163 248.971757)rotate(-60)scale(0.1 -0.1)\">\n       <use xlink:href=\"#MalgunGothic-77\"/>\n       <use xlink:href=\"#MalgunGothic-61\" x=\"73.632812\"/>\n       <use xlink:href=\"#MalgunGothic-73\" x=\"125.634766\"/>\n       <use xlink:href=\"#MalgunGothic-74\" x=\"168.945312\"/>\n       <use xlink:href=\"#MalgunGothic-65\" x=\"202.542969\"/>\n      </g>\n     </g>\n    </g>\n    <g id=\"xtick_6\">\n     <g id=\"line2d_6\">\n      <g>\n       <use xlink:href=\"#m34fea35655\" x=\"198.333945\" y=\"216\" style=\"stroke: #000000; stroke-width: 0.8\"/>\n      </g>\n     </g>\n     <g id=\"text_6\">\n      <!-- poorly -->\n      <g transform=\"translate(181.785131 251.8337)rotate(-60)scale(0.1 -0.1)\">\n       <defs>\n        <path id=\"MalgunGothic-79\" d=\"M 3119 3284 \nL 1597 -544 \nQ 1197 -1547 481 -1547 \nQ 313 -1547 156 -1509 \nL 156 -1056 \nQ 316 -1109 459 -1109 \nQ 859 -1109 1059 -628 \nL 1328 6 \nL 47 3284 \nL 597 3284 \nL 1503 722 \nQ 1513 697 1572 488 \nL 1588 488 \nL 1650 716 \nL 2603 3284 \nL 3119 3284 \nz\n\" transform=\"scale(0.015625)\"/>\n       </defs>\n       <use xlink:href=\"#MalgunGothic-70\"/>\n       <use xlink:href=\"#MalgunGothic-6f\" x=\"60.058594\"/>\n       <use xlink:href=\"#MalgunGothic-6f\" x=\"119.970703\"/>\n       <use xlink:href=\"#MalgunGothic-72\" x=\"179.882812\"/>\n       <use xlink:href=\"#MalgunGothic-6c\" x=\"215.234375\"/>\n       <use xlink:href=\"#MalgunGothic-79\" x=\"239.84375\"/>\n      </g>\n     </g>\n    </g>\n    <g id=\"xtick_7\">\n     <g id=\"line2d_7\">\n      <g>\n       <use xlink:href=\"#m34fea35655\" x=\"217.452264\" y=\"216\" style=\"stroke: #000000; stroke-width: 0.8\"/>\n      </g>\n     </g>\n     <g id=\"text_7\">\n      <!-- disappointing -->\n      <g transform=\"translate(184.375325 280.461252)rotate(-60)scale(0.1 -0.1)\">\n       <use xlink:href=\"#MalgunGothic-64\"/>\n       <use xlink:href=\"#MalgunGothic-69\" x=\"60.205078\"/>\n       <use xlink:href=\"#MalgunGothic-73\" x=\"84.814453\"/>\n       <use xlink:href=\"#MalgunGothic-61\" x=\"128.125\"/>\n       <use xlink:href=\"#MalgunGothic-70\" x=\"180.126953\"/>\n       <use xlink:href=\"#MalgunGothic-70\" x=\"240.185547\"/>\n       <use xlink:href=\"#MalgunGothic-6f\" x=\"300.244141\"/>\n       <use xlink:href=\"#MalgunGothic-69\" x=\"360.15625\"/>\n       <use xlink:href=\"#MalgunGothic-6e\" x=\"384.765625\"/>\n       <use xlink:href=\"#MalgunGothic-74\" x=\"442.578125\"/>\n       <use xlink:href=\"#MalgunGothic-69\" x=\"477.050781\"/>\n       <use xlink:href=\"#MalgunGothic-6e\" x=\"501.660156\"/>\n       <use xlink:href=\"#MalgunGothic-67\" x=\"559.472656\"/>\n      </g>\n     </g>\n    </g>\n    <g id=\"xtick_8\">\n     <g id=\"line2d_8\">\n      <g>\n       <use xlink:href=\"#m34fea35655\" x=\"236.570583\" y=\"216\" style=\"stroke: #000000; stroke-width: 0.8\"/>\n      </g>\n     </g>\n     <g id=\"text_8\">\n      <!-- not worth -->\n      <g transform=\"translate(211.950589 265.893081)rotate(-60)scale(0.1 -0.1)\">\n       <defs>\n        <path id=\"MalgunGothic-20\" transform=\"scale(0.015625)\"/>\n        <path id=\"MalgunGothic-68\" d=\"M 3238 0 \nL 2744 0 \nL 2744 1894 \nQ 2744 2941 1963 2941 \nQ 1572 2941 1303 2637 \nQ 1034 2334 1034 1859 \nL 1034 0 \nL 538 0 \nL 538 4859 \nL 1034 4859 \nL 1034 2734 \nL 1047 2734 \nQ 1425 3359 2128 3359 \nQ 3238 3359 3238 2022 \nL 3238 0 \nz\n\" transform=\"scale(0.015625)\"/>\n       </defs>\n       <use xlink:href=\"#MalgunGothic-6e\"/>\n       <use xlink:href=\"#MalgunGothic-6f\" x=\"57.8125\"/>\n       <use xlink:href=\"#MalgunGothic-74\" x=\"117.724609\"/>\n       <use xlink:href=\"#MalgunGothic-20\" x=\"152.197266\"/>\n       <use xlink:href=\"#MalgunGothic-77\" x=\"187.353516\"/>\n       <use xlink:href=\"#MalgunGothic-6f\" x=\"260.736328\"/>\n       <use xlink:href=\"#MalgunGothic-72\" x=\"320.648438\"/>\n       <use xlink:href=\"#MalgunGothic-74\" x=\"359.125\"/>\n       <use xlink:href=\"#MalgunGothic-68\" x=\"393.597656\"/>\n      </g>\n     </g>\n    </g>\n    <g id=\"xtick_9\">\n     <g id=\"line2d_9\">\n      <g>\n       <use xlink:href=\"#m34fea35655\" x=\"255.688902\" y=\"216\" style=\"stroke: #000000; stroke-width: 0.8\"/>\n      </g>\n     </g>\n     <g id=\"text_9\">\n      <!-- lacks -->\n      <g transform=\"translate(242.752501 245.656503)rotate(-60)scale(0.1 -0.1)\">\n       <defs>\n        <path id=\"MalgunGothic-63\" d=\"M 2763 153 \nQ 2375 -78 1872 -78 \nQ 1184 -78 750 372 \nQ 316 822 316 1566 \nQ 316 2381 777 2870 \nQ 1238 3359 2009 3359 \nQ 2434 3359 2766 3200 \nL 2766 2681 \nQ 2397 2941 1981 2941 \nQ 1478 2941 1148 2577 \nQ 819 2213 819 1609 \nQ 819 1034 1120 689 \nQ 1422 344 1947 344 \nQ 2381 344 2763 631 \nL 2763 153 \nz\n\" transform=\"scale(0.015625)\"/>\n        <path id=\"MalgunGothic-6b\" d=\"M 3228 0 \nL 2525 0 \nL 1047 1575 \nL 1034 1575 \nL 1034 0 \nL 538 0 \nL 538 4859 \nL 1034 4859 \nL 1034 1778 \nL 1047 1778 \nL 2450 3284 \nL 3106 3284 \nL 1563 1694 \nL 3228 0 \nz\n\" transform=\"scale(0.015625)\"/>\n       </defs>\n       <use xlink:href=\"#MalgunGothic-6c\"/>\n       <use xlink:href=\"#MalgunGothic-61\" x=\"24.609375\"/>\n       <use xlink:href=\"#MalgunGothic-63\" x=\"76.611328\"/>\n       <use xlink:href=\"#MalgunGothic-6b\" x=\"123.876953\"/>\n       <use xlink:href=\"#MalgunGothic-73\" x=\"174.462891\"/>\n      </g>\n     </g>\n    </g>\n    <g id=\"xtick_10\">\n     <g id=\"line2d_10\">\n      <g>\n       <use xlink:href=\"#m34fea35655\" x=\"274.807221\" y=\"216\" style=\"stroke: #000000; stroke-width: 0.8\"/>\n      </g>\n     </g>\n     <g id=\"text_10\">\n      <!-- poor -->\n      <g transform=\"translate(261.998164 245.435937)rotate(-60)scale(0.1 -0.1)\">\n       <use xlink:href=\"#MalgunGothic-70\"/>\n       <use xlink:href=\"#MalgunGothic-6f\" x=\"60.058594\"/>\n       <use xlink:href=\"#MalgunGothic-6f\" x=\"119.970703\"/>\n       <use xlink:href=\"#MalgunGothic-72\" x=\"179.882812\"/>\n      </g>\n     </g>\n    </g>\n    <g id=\"xtick_11\">\n     <g id=\"line2d_11\">\n      <g>\n       <use xlink:href=\"#m34fea35655\" x=\"293.92554\" y=\"216\" style=\"stroke: #000000; stroke-width: 0.8\"/>\n      </g>\n     </g>\n     <g id=\"text_11\">\n      <!-- terrible -->\n      <g transform=\"translate(275.846951 254.563033)rotate(-60)scale(0.1 -0.1)\">\n       <use xlink:href=\"#MalgunGothic-74\"/>\n       <use xlink:href=\"#MalgunGothic-65\" x=\"33.597656\"/>\n       <use xlink:href=\"#MalgunGothic-72\" x=\"87.113281\"/>\n       <use xlink:href=\"#MalgunGothic-72\" x=\"122.464844\"/>\n       <use xlink:href=\"#MalgunGothic-69\" x=\"157.816406\"/>\n       <use xlink:href=\"#MalgunGothic-62\" x=\"182.425781\"/>\n       <use xlink:href=\"#MalgunGothic-6c\" x=\"242.484375\"/>\n       <use xlink:href=\"#MalgunGothic-65\" x=\"267.09375\"/>\n      </g>\n     </g>\n    </g>\n    <g id=\"xtick_12\">\n     <g id=\"line2d_12\">\n      <g>\n       <use xlink:href=\"#m34fea35655\" x=\"313.043858\" y=\"216\" style=\"stroke: #000000; stroke-width: 0.8\"/>\n      </g>\n     </g>\n     <g id=\"text_12\">\n      <!-- worse -->\n      <g transform=\"translate(297.684802 249.852667)rotate(-60)scale(0.1 -0.1)\">\n       <use xlink:href=\"#MalgunGothic-77\"/>\n       <use xlink:href=\"#MalgunGothic-6f\" x=\"73.382812\"/>\n       <use xlink:href=\"#MalgunGothic-72\" x=\"133.294922\"/>\n       <use xlink:href=\"#MalgunGothic-73\" x=\"169.396484\"/>\n       <use xlink:href=\"#MalgunGothic-65\" x=\"212.707031\"/>\n      </g>\n     </g>\n    </g>\n    <g id=\"xtick_13\">\n     <g id=\"line2d_13\">\n      <g>\n       <use xlink:href=\"#m34fea35655\" x=\"332.162177\" y=\"216\" style=\"stroke: #000000; stroke-width: 0.8\"/>\n      </g>\n     </g>\n     <g id=\"text_13\">\n      <!-- horrible -->\n      <g transform=\"translate(312.550777 257.217942)rotate(-60)scale(0.1 -0.1)\">\n       <use xlink:href=\"#MalgunGothic-68\"/>\n       <use xlink:href=\"#MalgunGothic-6f\" x=\"57.861328\"/>\n       <use xlink:href=\"#MalgunGothic-72\" x=\"117.773438\"/>\n       <use xlink:href=\"#MalgunGothic-72\" x=\"153.125\"/>\n       <use xlink:href=\"#MalgunGothic-69\" x=\"188.476562\"/>\n       <use xlink:href=\"#MalgunGothic-62\" x=\"213.085938\"/>\n       <use xlink:href=\"#MalgunGothic-6c\" x=\"273.144531\"/>\n       <use xlink:href=\"#MalgunGothic-65\" x=\"297.753906\"/>\n      </g>\n     </g>\n    </g>\n    <g id=\"xtick_14\">\n     <g id=\"line2d_14\">\n      <g>\n       <use xlink:href=\"#m34fea35655\" x=\"351.280496\" y=\"216\" style=\"stroke: #000000; stroke-width: 0.8\"/>\n      </g>\n     </g>\n     <g id=\"text_14\">\n      <!-- mess -->\n      <g transform=\"translate(337.826908 246.552298)rotate(-60)scale(0.1 -0.1)\">\n       <use xlink:href=\"#MalgunGothic-6d\"/>\n       <use xlink:href=\"#MalgunGothic-65\" x=\"87.988281\"/>\n       <use xlink:href=\"#MalgunGothic-73\" x=\"141.503906\"/>\n       <use xlink:href=\"#MalgunGothic-73\" x=\"184.814453\"/>\n      </g>\n     </g>\n    </g>\n    <g id=\"xtick_15\">\n     <g id=\"line2d_15\">\n      <g>\n       <use xlink:href=\"#m34fea35655\" x=\"370.398815\" y=\"216\" style=\"stroke: #000000; stroke-width: 0.8\"/>\n      </g>\n     </g>\n     <g id=\"text_15\">\n      <!-- dull -->\n      <g transform=\"translate(359.989758 241.279015)rotate(-60)scale(0.1 -0.1)\">\n       <use xlink:href=\"#MalgunGothic-64\"/>\n       <use xlink:href=\"#MalgunGothic-75\" x=\"60.205078\"/>\n       <use xlink:href=\"#MalgunGothic-6c\" x=\"118.017578\"/>\n       <use xlink:href=\"#MalgunGothic-6c\" x=\"142.626953\"/>\n      </g>\n     </g>\n    </g>\n    <g id=\"xtick_16\">\n     <g id=\"line2d_16\">\n      <g>\n       <use xlink:href=\"#m34fea35655\" x=\"389.517134\" y=\"216\" style=\"stroke: #000000; stroke-width: 0.8\"/>\n      </g>\n     </g>\n     <g id=\"text_16\">\n      <!-- laughable -->\n      <g transform=\"translate(365.290194 265.132603)rotate(-60)scale(0.1 -0.1)\">\n       <use xlink:href=\"#MalgunGothic-6c\"/>\n       <use xlink:href=\"#MalgunGothic-61\" x=\"24.609375\"/>\n       <use xlink:href=\"#MalgunGothic-75\" x=\"76.611328\"/>\n       <use xlink:href=\"#MalgunGothic-67\" x=\"134.423828\"/>\n       <use xlink:href=\"#MalgunGothic-68\" x=\"194.628906\"/>\n       <use xlink:href=\"#MalgunGothic-61\" x=\"252.490234\"/>\n       <use xlink:href=\"#MalgunGothic-62\" x=\"304.492188\"/>\n       <use xlink:href=\"#MalgunGothic-6c\" x=\"364.550781\"/>\n       <use xlink:href=\"#MalgunGothic-65\" x=\"389.160156\"/>\n      </g>\n     </g>\n    </g>\n    <g id=\"xtick_17\">\n     <g id=\"line2d_17\">\n      <g>\n       <use xlink:href=\"#m34fea35655\" x=\"408.635453\" y=\"216\" style=\"stroke: #000000; stroke-width: 0.8\"/>\n      </g>\n     </g>\n     <g id=\"text_17\">\n      <!-- the worst -->\n      <g transform=\"translate(385.17874 263.878219)rotate(-60)scale(0.1 -0.1)\">\n       <use xlink:href=\"#MalgunGothic-74\"/>\n       <use xlink:href=\"#MalgunGothic-68\" x=\"34.472656\"/>\n       <use xlink:href=\"#MalgunGothic-65\" x=\"92.333984\"/>\n       <use xlink:href=\"#MalgunGothic-20\" x=\"145.849609\"/>\n       <use xlink:href=\"#MalgunGothic-77\" x=\"181.005859\"/>\n       <use xlink:href=\"#MalgunGothic-6f\" x=\"254.388672\"/>\n       <use xlink:href=\"#MalgunGothic-72\" x=\"314.300781\"/>\n       <use xlink:href=\"#MalgunGothic-73\" x=\"350.402344\"/>\n       <use xlink:href=\"#MalgunGothic-74\" x=\"393.712891\"/>\n      </g>\n     </g>\n    </g>\n    <g id=\"xtick_18\">\n     <g id=\"line2d_18\">\n      <g>\n       <use xlink:href=\"#m34fea35655\" x=\"427.753772\" y=\"216\" style=\"stroke: #000000; stroke-width: 0.8\"/>\n      </g>\n     </g>\n     <g id=\"text_18\">\n      <!-- lame -->\n      <g transform=\"translate(414.800965 245.68492)rotate(-60)scale(0.1 -0.1)\">\n       <use xlink:href=\"#MalgunGothic-6c\"/>\n       <use xlink:href=\"#MalgunGothic-61\" x=\"24.609375\"/>\n       <use xlink:href=\"#MalgunGothic-6d\" x=\"76.611328\"/>\n       <use xlink:href=\"#MalgunGothic-65\" x=\"164.599609\"/>\n      </g>\n     </g>\n    </g>\n    <g id=\"xtick_19\">\n     <g id=\"line2d_19\">\n      <g>\n       <use xlink:href=\"#m34fea35655\" x=\"446.872091\" y=\"216\" style=\"stroke: #000000; stroke-width: 0.8\"/>\n      </g>\n     </g>\n     <g id=\"text_19\">\n      <!-- avoid -->\n      <g transform=\"translate(432.583346 247.998831)rotate(-60)scale(0.1 -0.1)\">\n       <defs>\n        <path id=\"MalgunGothic-76\" d=\"M 3084 3284 \nL 1769 0 \nL 1294 0 \nL 47 3284 \nL 594 3284 \nL 1441 872 \nQ 1531 609 1556 425 \nL 1572 425 \nQ 1603 669 1672 863 \nL 2563 3284 \nL 3084 3284 \nz\n\" transform=\"scale(0.015625)\"/>\n       </defs>\n       <use xlink:href=\"#MalgunGothic-61\"/>\n       <use xlink:href=\"#MalgunGothic-76\" x=\"52.001953\"/>\n       <use xlink:href=\"#MalgunGothic-6f\" x=\"100.107422\"/>\n       <use xlink:href=\"#MalgunGothic-69\" x=\"160.019531\"/>\n       <use xlink:href=\"#MalgunGothic-64\" x=\"184.628906\"/>\n      </g>\n     </g>\n    </g>\n    <g id=\"xtick_20\">\n     <g id=\"line2d_20\">\n      <g>\n       <use xlink:href=\"#m34fea35655\" x=\"465.990409\" y=\"216\" style=\"stroke: #000000; stroke-width: 0.8\"/>\n      </g>\n     </g>\n     <g id=\"text_20\">\n      <!-- just not -->\n      <g transform=\"translate(446.51972 256.867974)rotate(-60)scale(0.1 -0.1)\">\n       <defs>\n        <path id=\"MalgunGothic-6a\" d=\"M 469 4466 \nQ 469 4603 562 4700 \nQ 656 4797 794 4797 \nQ 934 4797 1029 4700 \nQ 1125 4603 1125 4466 \nQ 1125 4325 1029 4231 \nQ 934 4138 794 4138 \nQ 656 4138 562 4230 \nQ 469 4322 469 4466 \nz\nM 1031 144 \nQ 1031 -659 706 -1103 \nQ 381 -1547 -216 -1547 \nQ -441 -1547 -650 -1444 \nL -650 -975 \nQ -413 -1116 -197 -1116 \nQ 538 -1116 538 53 \nL 538 3284 \nL 1031 3284 \nL 1031 144 \nz\n\" transform=\"scale(0.015625)\"/>\n       </defs>\n       <use xlink:href=\"#MalgunGothic-6a\"/>\n       <use xlink:href=\"#MalgunGothic-75\" x=\"24.609375\"/>\n       <use xlink:href=\"#MalgunGothic-73\" x=\"82.421875\"/>\n       <use xlink:href=\"#MalgunGothic-74\" x=\"125.732422\"/>\n       <use xlink:href=\"#MalgunGothic-20\" x=\"160.205078\"/>\n       <use xlink:href=\"#MalgunGothic-6e\" x=\"195.361328\"/>\n       <use xlink:href=\"#MalgunGothic-6f\" x=\"253.173828\"/>\n       <use xlink:href=\"#MalgunGothic-74\" x=\"313.085938\"/>\n      </g>\n     </g>\n    </g>\n    <g id=\"xtick_21\">\n     <g id=\"line2d_21\">\n      <g>\n       <use xlink:href=\"#m34fea35655\" x=\"485.108728\" y=\"216\" style=\"stroke: #000000; stroke-width: 0.8\"/>\n      </g>\n     </g>\n     <g id=\"text_21\">\n      <!-- surprisingly -->\n      <g transform=\"translate(457.198976 271.511421)rotate(-60)scale(0.1 -0.1)\">\n       <use xlink:href=\"#MalgunGothic-73\"/>\n       <use xlink:href=\"#MalgunGothic-75\" x=\"43.310547\"/>\n       <use xlink:href=\"#MalgunGothic-72\" x=\"101.123047\"/>\n       <use xlink:href=\"#MalgunGothic-70\" x=\"136.474609\"/>\n       <use xlink:href=\"#MalgunGothic-72\" x=\"196.533203\"/>\n       <use xlink:href=\"#MalgunGothic-69\" x=\"231.884766\"/>\n       <use xlink:href=\"#MalgunGothic-73\" x=\"256.494141\"/>\n       <use xlink:href=\"#MalgunGothic-69\" x=\"299.804688\"/>\n       <use xlink:href=\"#MalgunGothic-6e\" x=\"324.414062\"/>\n       <use xlink:href=\"#MalgunGothic-67\" x=\"382.226562\"/>\n       <use xlink:href=\"#MalgunGothic-6c\" x=\"442.431641\"/>\n       <use xlink:href=\"#MalgunGothic-79\" x=\"467.041016\"/>\n      </g>\n     </g>\n    </g>\n    <g id=\"xtick_22\">\n     <g id=\"line2d_22\">\n      <g>\n       <use xlink:href=\"#m34fea35655\" x=\"504.227047\" y=\"216\" style=\"stroke: #000000; stroke-width: 0.8\"/>\n      </g>\n     </g>\n     <g id=\"text_22\">\n      <!-- better than -->\n      <g transform=\"translate(476.789084 270.773946)rotate(-60)scale(0.1 -0.1)\">\n       <use xlink:href=\"#MalgunGothic-62\"/>\n       <use xlink:href=\"#MalgunGothic-65\" x=\"60.058594\"/>\n       <use xlink:href=\"#MalgunGothic-74\" x=\"113.574219\"/>\n       <use xlink:href=\"#MalgunGothic-74\" x=\"148.046875\"/>\n       <use xlink:href=\"#MalgunGothic-65\" x=\"181.644531\"/>\n       <use xlink:href=\"#MalgunGothic-72\" x=\"235.160156\"/>\n       <use xlink:href=\"#MalgunGothic-20\" x=\"270.511719\"/>\n       <use xlink:href=\"#MalgunGothic-74\" x=\"305.667969\"/>\n       <use xlink:href=\"#MalgunGothic-68\" x=\"340.140625\"/>\n       <use xlink:href=\"#MalgunGothic-61\" x=\"398.001953\"/>\n       <use xlink:href=\"#MalgunGothic-6e\" x=\"450.003906\"/>\n      </g>\n     </g>\n    </g>\n    <g id=\"xtick_23\">\n     <g id=\"line2d_23\">\n      <g>\n       <use xlink:href=\"#m34fea35655\" x=\"523.345366\" y=\"216\" style=\"stroke: #000000; stroke-width: 0.8\"/>\n      </g>\n     </g>\n     <g id=\"text_23\">\n      <!-- very good -->\n      <g transform=\"translate(497.95202 267.152878)rotate(-60)scale(0.1 -0.1)\">\n       <use xlink:href=\"#MalgunGothic-76\"/>\n       <use xlink:href=\"#MalgunGothic-65\" x=\"48.105469\"/>\n       <use xlink:href=\"#MalgunGothic-72\" x=\"101.621094\"/>\n       <use xlink:href=\"#MalgunGothic-79\" x=\"141.347656\"/>\n       <use xlink:href=\"#MalgunGothic-20\" x=\"190.615234\"/>\n       <use xlink:href=\"#MalgunGothic-67\" x=\"225.771484\"/>\n       <use xlink:href=\"#MalgunGothic-6f\" x=\"285.976562\"/>\n       <use xlink:href=\"#MalgunGothic-6f\" x=\"345.888672\"/>\n       <use xlink:href=\"#MalgunGothic-64\" x=\"405.800781\"/>\n      </g>\n     </g>\n    </g>\n    <g id=\"xtick_24\">\n     <g id=\"line2d_24\">\n      <g>\n       <use xlink:href=\"#m34fea35655\" x=\"542.463685\" y=\"216\" style=\"stroke: #000000; stroke-width: 0.8\"/>\n      </g>\n     </g>\n     <g id=\"text_24\">\n      <!-- rare -->\n      <g transform=\"translate(531.673378 241.93936)rotate(-60)scale(0.1 -0.1)\">\n       <use xlink:href=\"#MalgunGothic-72\"/>\n       <use xlink:href=\"#MalgunGothic-61\" x=\"35.351562\"/>\n       <use xlink:href=\"#MalgunGothic-72\" x=\"87.353516\"/>\n       <use xlink:href=\"#MalgunGothic-65\" x=\"121.330078\"/>\n      </g>\n     </g>\n    </g>\n    <g id=\"xtick_25\">\n     <g id=\"line2d_25\">\n      <g>\n       <use xlink:href=\"#m34fea35655\" x=\"561.582004\" y=\"216\" style=\"stroke: #000000; stroke-width: 0.8\"/>\n      </g>\n     </g>\n     <g id=\"text_25\">\n      <!-- to all -->\n      <g transform=\"translate(548.040916 246.703853)rotate(-60)scale(0.1 -0.1)\">\n       <use xlink:href=\"#MalgunGothic-74\"/>\n       <use xlink:href=\"#MalgunGothic-6f\" x=\"33.597656\"/>\n       <use xlink:href=\"#MalgunGothic-20\" x=\"93.509766\"/>\n       <use xlink:href=\"#MalgunGothic-61\" x=\"128.666016\"/>\n       <use xlink:href=\"#MalgunGothic-6c\" x=\"180.667969\"/>\n       <use xlink:href=\"#MalgunGothic-6c\" x=\"205.277344\"/>\n      </g>\n     </g>\n    </g>\n    <g id=\"xtick_26\">\n     <g id=\"line2d_26\">\n      <g>\n       <use xlink:href=\"#m34fea35655\" x=\"580.700323\" y=\"216\" style=\"stroke: #000000; stroke-width: 0.8\"/>\n      </g>\n     </g>\n     <g id=\"text_26\">\n      <!-- must see -->\n      <g transform=\"translate(558.199078 262.223299)rotate(-60)scale(0.1 -0.1)\">\n       <use xlink:href=\"#MalgunGothic-6d\"/>\n       <use xlink:href=\"#MalgunGothic-75\" x=\"87.988281\"/>\n       <use xlink:href=\"#MalgunGothic-73\" x=\"145.800781\"/>\n       <use xlink:href=\"#MalgunGothic-74\" x=\"189.111328\"/>\n       <use xlink:href=\"#MalgunGothic-20\" x=\"223.583984\"/>\n       <use xlink:href=\"#MalgunGothic-73\" x=\"258.740234\"/>\n       <use xlink:href=\"#MalgunGothic-65\" x=\"302.050781\"/>\n       <use xlink:href=\"#MalgunGothic-65\" x=\"355.566406\"/>\n      </g>\n     </g>\n    </g>\n    <g id=\"xtick_27\">\n     <g id=\"line2d_27\">\n      <g>\n       <use xlink:href=\"#m34fea35655\" x=\"599.818642\" y=\"216\" style=\"stroke: #000000; stroke-width: 0.8\"/>\n      </g>\n     </g>\n     <g id=\"text_27\">\n      <!-- today -->\n      <g transform=\"translate(584.976858 248.877035)rotate(-60)scale(0.1 -0.1)\">\n       <use xlink:href=\"#MalgunGothic-74\"/>\n       <use xlink:href=\"#MalgunGothic-6f\" x=\"33.597656\"/>\n       <use xlink:href=\"#MalgunGothic-64\" x=\"93.509766\"/>\n       <use xlink:href=\"#MalgunGothic-61\" x=\"153.714844\"/>\n       <use xlink:href=\"#MalgunGothic-79\" x=\"205.716797\"/>\n      </g>\n     </g>\n    </g>\n    <g id=\"xtick_28\">\n     <g id=\"line2d_28\">\n      <g>\n       <use xlink:href=\"#m34fea35655\" x=\"618.93696\" y=\"216\" style=\"stroke: #000000; stroke-width: 0.8\"/>\n      </g>\n     </g>\n     <g id=\"text_28\">\n      <!-- wonderfully -->\n      <g transform=\"translate(590.337365 272.762515)rotate(-60)scale(0.1 -0.1)\">\n       <use xlink:href=\"#MalgunGothic-77\"/>\n       <use xlink:href=\"#MalgunGothic-6f\" x=\"73.382812\"/>\n       <use xlink:href=\"#MalgunGothic-6e\" x=\"133.294922\"/>\n       <use xlink:href=\"#MalgunGothic-64\" x=\"191.107422\"/>\n       <use xlink:href=\"#MalgunGothic-65\" x=\"251.3125\"/>\n       <use xlink:href=\"#MalgunGothic-72\" x=\"304.828125\"/>\n       <use xlink:href=\"#MalgunGothic-66\" x=\"342.179688\"/>\n       <use xlink:href=\"#MalgunGothic-75\" x=\"373.820312\"/>\n       <use xlink:href=\"#MalgunGothic-6c\" x=\"431.632812\"/>\n       <use xlink:href=\"#MalgunGothic-6c\" x=\"456.242188\"/>\n       <use xlink:href=\"#MalgunGothic-79\" x=\"480.851562\"/>\n      </g>\n     </g>\n    </g>\n    <g id=\"xtick_29\">\n     <g id=\"line2d_29\">\n      <g>\n       <use xlink:href=\"#m34fea35655\" x=\"638.055279\" y=\"216\" style=\"stroke: #000000; stroke-width: 0.8\"/>\n      </g>\n     </g>\n     <g id=\"text_29\">\n      <!-- brilliant -->\n      <g transform=\"translate(619.10091 256.079931)rotate(-60)scale(0.1 -0.1)\">\n       <use xlink:href=\"#MalgunGothic-62\"/>\n       <use xlink:href=\"#MalgunGothic-72\" x=\"60.058594\"/>\n       <use xlink:href=\"#MalgunGothic-69\" x=\"95.410156\"/>\n       <use xlink:href=\"#MalgunGothic-6c\" x=\"120.019531\"/>\n       <use xlink:href=\"#MalgunGothic-6c\" x=\"144.628906\"/>\n       <use xlink:href=\"#MalgunGothic-69\" x=\"169.238281\"/>\n       <use xlink:href=\"#MalgunGothic-61\" x=\"193.847656\"/>\n       <use xlink:href=\"#MalgunGothic-6e\" x=\"245.849609\"/>\n       <use xlink:href=\"#MalgunGothic-74\" x=\"303.662109\"/>\n      </g>\n     </g>\n    </g>\n    <g id=\"xtick_30\">\n     <g id=\"line2d_30\">\n      <g>\n       <use xlink:href=\"#m34fea35655\" x=\"657.173598\" y=\"216\" style=\"stroke: #000000; stroke-width: 0.8\"/>\n      </g>\n     </g>\n     <g id=\"text_30\">\n      <!-- amazing -->\n      <g transform=\"translate(636.040409 259.747508)rotate(-60)scale(0.1 -0.1)\">\n       <defs>\n        <path id=\"MalgunGothic-7a\" d=\"M 2788 0 \nL 109 0 \nL 109 147 \nL 2069 2856 \nL 291 2856 \nL 291 3284 \nL 2809 3284 \nL 2809 3156 \nL 841 428 \nL 2788 428 \nL 2788 0 \nz\n\" transform=\"scale(0.015625)\"/>\n       </defs>\n       <use xlink:href=\"#MalgunGothic-61\"/>\n       <use xlink:href=\"#MalgunGothic-6d\" x=\"52.001953\"/>\n       <use xlink:href=\"#MalgunGothic-61\" x=\"139.990234\"/>\n       <use xlink:href=\"#MalgunGothic-7a\" x=\"191.992188\"/>\n       <use xlink:href=\"#MalgunGothic-69\" x=\"238.183594\"/>\n       <use xlink:href=\"#MalgunGothic-6e\" x=\"262.792969\"/>\n       <use xlink:href=\"#MalgunGothic-67\" x=\"320.605469\"/>\n      </g>\n     </g>\n    </g>\n    <g id=\"xtick_31\">\n     <g id=\"line2d_31\">\n      <g>\n       <use xlink:href=\"#m34fea35655\" x=\"676.291917\" y=\"216\" style=\"stroke: #000000; stroke-width: 0.8\"/>\n      </g>\n     </g>\n     <g id=\"text_31\">\n      <!-- 10 10 -->\n      <g transform=\"translate(661.471141 248.920336)rotate(-60)scale(0.1 -0.1)\">\n       <defs>\n        <path id=\"MalgunGothic-31\" d=\"M 2231 0 \nL 1734 0 \nL 1734 3972 \nQ 1591 3828 1266 3661 \nQ 941 3494 672 3428 \nL 672 3959 \nQ 1016 4056 1409 4275 \nQ 1803 4494 2031 4700 \nL 2231 4700 \nL 2231 0 \nz\n\" transform=\"scale(0.015625)\"/>\n        <path id=\"MalgunGothic-30\" d=\"M 278 2206 \nQ 278 3425 675 4050 \nQ 1072 4675 1819 4675 \nQ 3253 4675 3253 2319 \nQ 3253 1156 2854 539 \nQ 2456 -78 1716 -78 \nQ 1016 -78 647 520 \nQ 278 1119 278 2206 \nz\nM 784 2231 \nQ 784 344 1769 344 \nQ 2747 344 2747 2259 \nQ 2747 4250 1794 4250 \nQ 784 4250 784 2231 \nz\n\" transform=\"scale(0.015625)\"/>\n       </defs>\n       <use xlink:href=\"#MalgunGothic-31\"/>\n       <use xlink:href=\"#MalgunGothic-30\" x=\"55.078125\"/>\n       <use xlink:href=\"#MalgunGothic-20\" x=\"110.15625\"/>\n       <use xlink:href=\"#MalgunGothic-31\" x=\"145.3125\"/>\n       <use xlink:href=\"#MalgunGothic-30\" x=\"200.390625\"/>\n      </g>\n     </g>\n    </g>\n    <g id=\"xtick_32\">\n     <g id=\"line2d_32\">\n      <g>\n       <use xlink:href=\"#m34fea35655\" x=\"695.410236\" y=\"216\" style=\"stroke: #000000; stroke-width: 0.8\"/>\n      </g>\n     </g>\n     <g id=\"text_32\">\n      <!-- refreshing -->\n      <g transform=\"translate(670.795015 265.861376)rotate(-60)scale(0.1 -0.1)\">\n       <use xlink:href=\"#MalgunGothic-72\"/>\n       <use xlink:href=\"#MalgunGothic-65\" x=\"33.976562\"/>\n       <use xlink:href=\"#MalgunGothic-66\" x=\"87.492188\"/>\n       <use xlink:href=\"#MalgunGothic-72\" x=\"119.132812\"/>\n       <use xlink:href=\"#MalgunGothic-65\" x=\"153.109375\"/>\n       <use xlink:href=\"#MalgunGothic-73\" x=\"206.625\"/>\n       <use xlink:href=\"#MalgunGothic-68\" x=\"249.935547\"/>\n       <use xlink:href=\"#MalgunGothic-69\" x=\"307.796875\"/>\n       <use xlink:href=\"#MalgunGothic-6e\" x=\"332.40625\"/>\n       <use xlink:href=\"#MalgunGothic-67\" x=\"390.21875\"/>\n      </g>\n     </g>\n    </g>\n    <g id=\"xtick_33\">\n     <g id=\"line2d_33\">\n      <g>\n       <use xlink:href=\"#m34fea35655\" x=\"714.528555\" y=\"216\" style=\"stroke: #000000; stroke-width: 0.8\"/>\n      </g>\n     </g>\n     <g id=\"text_33\">\n      <!-- incredible -->\n      <g transform=\"translate(690.471842 264.917449)rotate(-60)scale(0.1 -0.1)\">\n       <use xlink:href=\"#MalgunGothic-69\"/>\n       <use xlink:href=\"#MalgunGothic-6e\" x=\"24.609375\"/>\n       <use xlink:href=\"#MalgunGothic-63\" x=\"82.421875\"/>\n       <use xlink:href=\"#MalgunGothic-72\" x=\"129.6875\"/>\n       <use xlink:href=\"#MalgunGothic-65\" x=\"163.664062\"/>\n       <use xlink:href=\"#MalgunGothic-64\" x=\"217.179688\"/>\n       <use xlink:href=\"#MalgunGothic-69\" x=\"277.384766\"/>\n       <use xlink:href=\"#MalgunGothic-62\" x=\"301.994141\"/>\n       <use xlink:href=\"#MalgunGothic-6c\" x=\"362.052734\"/>\n       <use xlink:href=\"#MalgunGothic-65\" x=\"386.662109\"/>\n      </g>\n     </g>\n    </g>\n    <g id=\"xtick_34\">\n     <g id=\"line2d_34\">\n      <g>\n       <use xlink:href=\"#m34fea35655\" x=\"733.646874\" y=\"216\" style=\"stroke: #000000; stroke-width: 0.8\"/>\n      </g>\n     </g>\n     <g id=\"text_34\">\n      <!-- definitely worth -->\n      <g transform=\"translate(695.921497 288.568832)rotate(-60)scale(0.1 -0.1)\">\n       <use xlink:href=\"#MalgunGothic-64\"/>\n       <use xlink:href=\"#MalgunGothic-65\" x=\"60.205078\"/>\n       <use xlink:href=\"#MalgunGothic-66\" x=\"113.720703\"/>\n       <use xlink:href=\"#MalgunGothic-69\" x=\"145.361328\"/>\n       <use xlink:href=\"#MalgunGothic-6e\" x=\"169.970703\"/>\n       <use xlink:href=\"#MalgunGothic-69\" x=\"227.783203\"/>\n       <use xlink:href=\"#MalgunGothic-74\" x=\"252.392578\"/>\n       <use xlink:href=\"#MalgunGothic-65\" x=\"285.990234\"/>\n       <use xlink:href=\"#MalgunGothic-6c\" x=\"339.505859\"/>\n       <use xlink:href=\"#MalgunGothic-79\" x=\"364.115234\"/>\n       <use xlink:href=\"#MalgunGothic-20\" x=\"413.382812\"/>\n       <use xlink:href=\"#MalgunGothic-77\" x=\"448.539062\"/>\n       <use xlink:href=\"#MalgunGothic-6f\" x=\"521.921875\"/>\n       <use xlink:href=\"#MalgunGothic-72\" x=\"581.833984\"/>\n       <use xlink:href=\"#MalgunGothic-74\" x=\"620.310547\"/>\n       <use xlink:href=\"#MalgunGothic-68\" x=\"654.783203\"/>\n      </g>\n     </g>\n    </g>\n    <g id=\"xtick_35\">\n     <g id=\"line2d_35\">\n      <g>\n       <use xlink:href=\"#m34fea35655\" x=\"752.765192\" y=\"216\" style=\"stroke: #000000; stroke-width: 0.8\"/>\n      </g>\n     </g>\n     <g id=\"text_35\">\n      <!-- well worth -->\n      <g transform=\"translate(726.960823 267.944479)rotate(-60)scale(0.1 -0.1)\">\n       <use xlink:href=\"#MalgunGothic-77\"/>\n       <use xlink:href=\"#MalgunGothic-65\" x=\"73.132812\"/>\n       <use xlink:href=\"#MalgunGothic-6c\" x=\"126.648438\"/>\n       <use xlink:href=\"#MalgunGothic-6c\" x=\"151.257812\"/>\n       <use xlink:href=\"#MalgunGothic-20\" x=\"175.867188\"/>\n       <use xlink:href=\"#MalgunGothic-77\" x=\"211.023438\"/>\n       <use xlink:href=\"#MalgunGothic-6f\" x=\"284.40625\"/>\n       <use xlink:href=\"#MalgunGothic-72\" x=\"344.318359\"/>\n       <use xlink:href=\"#MalgunGothic-74\" x=\"382.794922\"/>\n       <use xlink:href=\"#MalgunGothic-68\" x=\"417.267578\"/>\n      </g>\n     </g>\n    </g>\n    <g id=\"xtick_36\">\n     <g id=\"line2d_36\">\n      <g>\n       <use xlink:href=\"#m34fea35655\" x=\"771.883511\" y=\"216\" style=\"stroke: #000000; stroke-width: 0.8\"/>\n      </g>\n     </g>\n     <g id=\"text_36\">\n      <!-- enjoyable -->\n      <g transform=\"translate(748.025322 264.493909)rotate(-60)scale(0.1 -0.1)\">\n       <use xlink:href=\"#MalgunGothic-65\"/>\n       <use xlink:href=\"#MalgunGothic-6e\" x=\"53.515625\"/>\n       <use xlink:href=\"#MalgunGothic-6a\" x=\"111.328125\"/>\n       <use xlink:href=\"#MalgunGothic-6f\" x=\"135.9375\"/>\n       <use xlink:href=\"#MalgunGothic-79\" x=\"195.849609\"/>\n       <use xlink:href=\"#MalgunGothic-61\" x=\"245.117188\"/>\n       <use xlink:href=\"#MalgunGothic-62\" x=\"297.119141\"/>\n       <use xlink:href=\"#MalgunGothic-6c\" x=\"357.177734\"/>\n       <use xlink:href=\"#MalgunGothic-65\" x=\"381.787109\"/>\n      </g>\n     </g>\n    </g>\n    <g id=\"xtick_37\">\n     <g id=\"line2d_37\">\n      <g>\n       <use xlink:href=\"#m34fea35655\" x=\"791.00183\" y=\"216\" style=\"stroke: #000000; stroke-width: 0.8\"/>\n      </g>\n     </g>\n     <g id=\"text_37\">\n      <!-- wonderful -->\n      <g transform=\"translate(766.141992 266.308503)rotate(-60)scale(0.1 -0.1)\">\n       <use xlink:href=\"#MalgunGothic-77\"/>\n       <use xlink:href=\"#MalgunGothic-6f\" x=\"73.382812\"/>\n       <use xlink:href=\"#MalgunGothic-6e\" x=\"133.294922\"/>\n       <use xlink:href=\"#MalgunGothic-64\" x=\"191.107422\"/>\n       <use xlink:href=\"#MalgunGothic-65\" x=\"251.3125\"/>\n       <use xlink:href=\"#MalgunGothic-72\" x=\"304.828125\"/>\n       <use xlink:href=\"#MalgunGothic-66\" x=\"342.179688\"/>\n       <use xlink:href=\"#MalgunGothic-75\" x=\"373.820312\"/>\n       <use xlink:href=\"#MalgunGothic-6c\" x=\"431.632812\"/>\n      </g>\n     </g>\n    </g>\n    <g id=\"xtick_38\">\n     <g id=\"line2d_38\">\n      <g>\n       <use xlink:href=\"#m34fea35655\" x=\"810.120149\" y=\"216\" style=\"stroke: #000000; stroke-width: 0.8\"/>\n      </g>\n     </g>\n     <g id=\"text_38\">\n      <!-- superb -->\n      <g transform=\"translate(792.566561 253.653707)rotate(-60)scale(0.1 -0.1)\">\n       <use xlink:href=\"#MalgunGothic-73\"/>\n       <use xlink:href=\"#MalgunGothic-75\" x=\"43.310547\"/>\n       <use xlink:href=\"#MalgunGothic-70\" x=\"101.123047\"/>\n       <use xlink:href=\"#MalgunGothic-65\" x=\"161.181641\"/>\n       <use xlink:href=\"#MalgunGothic-72\" x=\"214.697266\"/>\n       <use xlink:href=\"#MalgunGothic-62\" x=\"250.048828\"/>\n      </g>\n     </g>\n    </g>\n    <g id=\"xtick_39\">\n     <g id=\"line2d_39\">\n      <g>\n       <use xlink:href=\"#m34fea35655\" x=\"829.238468\" y=\"216\" style=\"stroke: #000000; stroke-width: 0.8\"/>\n      </g>\n     </g>\n     <g id=\"text_39\">\n      <!-- perfect -->\n      <g transform=\"translate(811.299723 254.377067)rotate(-60)scale(0.1 -0.1)\">\n       <use xlink:href=\"#MalgunGothic-70\"/>\n       <use xlink:href=\"#MalgunGothic-65\" x=\"60.058594\"/>\n       <use xlink:href=\"#MalgunGothic-72\" x=\"113.574219\"/>\n       <use xlink:href=\"#MalgunGothic-66\" x=\"150.925781\"/>\n       <use xlink:href=\"#MalgunGothic-65\" x=\"182.566406\"/>\n       <use xlink:href=\"#MalgunGothic-63\" x=\"236.082031\"/>\n       <use xlink:href=\"#MalgunGothic-74\" x=\"283.347656\"/>\n      </g>\n     </g>\n    </g>\n    <g id=\"xtick_40\">\n     <g id=\"line2d_40\">\n      <g>\n       <use xlink:href=\"#m34fea35655\" x=\"848.356787\" y=\"216\" style=\"stroke: #000000; stroke-width: 0.8\"/>\n      </g>\n     </g>\n     <g id=\"text_40\">\n      <!-- excellent -->\n      <g transform=\"translate(826.563355 260.997331)rotate(-60)scale(0.1 -0.1)\">\n       <defs>\n        <path id=\"MalgunGothic-78\" d=\"M 2884 3284 \nL 1784 1616 \nL 2869 0 \nL 2288 0 \nL 1634 1078 \nQ 1563 1197 1491 1325 \nL 1475 1325 \nQ 1456 1284 1328 1078 \nL 656 0 \nL 88 0 \nL 1209 1606 \nL 134 3284 \nL 713 3284 \nL 1494 1897 \nL 1506 1897 \nQ 1525 1925 1641 2119 \nL 2344 3284 \nL 2884 3284 \nz\n\" transform=\"scale(0.015625)\"/>\n       </defs>\n       <use xlink:href=\"#MalgunGothic-65\"/>\n       <use xlink:href=\"#MalgunGothic-78\" x=\"53.515625\"/>\n       <use xlink:href=\"#MalgunGothic-63\" x=\"99.125\"/>\n       <use xlink:href=\"#MalgunGothic-65\" x=\"146.390625\"/>\n       <use xlink:href=\"#MalgunGothic-6c\" x=\"199.90625\"/>\n       <use xlink:href=\"#MalgunGothic-6c\" x=\"224.515625\"/>\n       <use xlink:href=\"#MalgunGothic-65\" x=\"249.125\"/>\n       <use xlink:href=\"#MalgunGothic-6e\" x=\"302.640625\"/>\n       <use xlink:href=\"#MalgunGothic-74\" x=\"360.453125\"/>\n      </g>\n     </g>\n    </g>\n    <g id=\"text_41\">\n     <!-- Feature -->\n     <g transform=\"translate(439.673438 301.369614)scale(0.1 -0.1)\">\n      <defs>\n       <path id=\"MalgunGothic-46\" d=\"M 2922 4134 \nL 1113 4134 \nL 1113 2516 \nL 2788 2516 \nL 2788 2050 \nL 1113 2050 \nL 1113 0 \nL 609 0 \nL 609 4600 \nL 2922 4600 \nL 2922 4134 \nz\n\" transform=\"scale(0.015625)\"/>\n      </defs>\n      <use xlink:href=\"#MalgunGothic-46\"/>\n      <use xlink:href=\"#MalgunGothic-65\" x=\"49.853516\"/>\n      <use xlink:href=\"#MalgunGothic-61\" x=\"103.369141\"/>\n      <use xlink:href=\"#MalgunGothic-74\" x=\"155.371094\"/>\n      <use xlink:href=\"#MalgunGothic-75\" x=\"189.84375\"/>\n      <use xlink:href=\"#MalgunGothic-72\" x=\"247.65625\"/>\n      <use xlink:href=\"#MalgunGothic-65\" x=\"281.632812\"/>\n     </g>\n    </g>\n   </g>\n   <g id=\"matplotlib.axis_2\">\n    <g id=\"ytick_1\">\n     <g id=\"line2d_41\">\n      <defs>\n       <path id=\"m6cba049f18\" d=\"M 0 0 \nL -3.5 0 \n\" style=\"stroke: #000000; stroke-width: 0.8\"/>\n      </defs>\n      <g>\n       <use xlink:href=\"#m6cba049f18\" x=\"37.93125\" y=\"207.929395\" style=\"stroke: #000000; stroke-width: 0.8\"/>\n      </g>\n     </g>\n     <g id=\"text_42\">\n      <!-- -3 -->\n      <g transform=\"translate(21.321875 211.725489)scale(0.1 -0.1)\">\n       <defs>\n        <path id=\"MalgunGothic-2d\" d=\"M 2213 1634 \nL 463 1634 \nL 463 2031 \nL 2213 2031 \nL 2213 1634 \nz\n\" transform=\"scale(0.015625)\"/>\n        <path id=\"MalgunGothic-33\" d=\"M 416 719 \nQ 891 344 1478 344 \nQ 1959 344 2254 587 \nQ 2550 831 2550 1247 \nQ 2550 2169 1253 2169 \nL 872 2169 \nL 872 2591 \nL 1234 2591 \nQ 2388 2591 2388 3453 \nQ 2388 4250 1509 4250 \nQ 1022 4250 594 3916 \nL 594 4413 \nQ 1031 4675 1634 4675 \nQ 2184 4675 2539 4372 \nQ 2894 4069 2894 3581 \nQ 2894 2678 1972 2409 \nL 1972 2400 \nQ 2469 2356 2764 2053 \nQ 3059 1750 3059 1300 \nQ 3059 672 2604 297 \nQ 2150 -78 1450 -78 \nQ 806 -78 416 169 \nL 416 719 \nz\n\" transform=\"scale(0.015625)\"/>\n       </defs>\n       <use xlink:href=\"#MalgunGothic-2d\"/>\n       <use xlink:href=\"#MalgunGothic-33\" x=\"41.015625\"/>\n      </g>\n     </g>\n    </g>\n    <g id=\"ytick_2\">\n     <g id=\"line2d_42\">\n      <g>\n       <use xlink:href=\"#m6cba049f18\" x=\"37.93125\" y=\"171.539565\" style=\"stroke: #000000; stroke-width: 0.8\"/>\n      </g>\n     </g>\n     <g id=\"text_43\">\n      <!-- -2 -->\n      <g transform=\"translate(21.321875 175.335658)scale(0.1 -0.1)\">\n       <defs>\n        <path id=\"MalgunGothic-32\" d=\"M 2519 3372 \nQ 2519 3784 2275 4018 \nQ 2031 4253 1628 4253 \nQ 1341 4253 1053 4104 \nQ 766 3956 534 3697 \nL 534 4234 \nQ 981 4675 1691 4675 \nQ 2281 4675 2642 4334 \nQ 3003 3994 3003 3416 \nQ 3003 2919 2772 2545 \nQ 2541 2172 1984 1775 \nQ 1459 1406 1254 1215 \nQ 1050 1025 967 854 \nQ 884 684 884 450 \nL 3116 450 \nL 3116 0 \nL 356 0 \nL 356 225 \nQ 356 603 461 870 \nQ 566 1138 811 1392 \nQ 1056 1647 1597 2022 \nQ 2091 2363 2305 2670 \nQ 2519 2978 2519 3372 \nz\n\" transform=\"scale(0.015625)\"/>\n       </defs>\n       <use xlink:href=\"#MalgunGothic-2d\"/>\n       <use xlink:href=\"#MalgunGothic-32\" x=\"41.015625\"/>\n      </g>\n     </g>\n    </g>\n    <g id=\"ytick_3\">\n     <g id=\"line2d_43\">\n      <g>\n       <use xlink:href=\"#m6cba049f18\" x=\"37.93125\" y=\"135.149734\" style=\"stroke: #000000; stroke-width: 0.8\"/>\n      </g>\n     </g>\n     <g id=\"text_44\">\n      <!-- -1 -->\n      <g transform=\"translate(21.321875 138.945828)scale(0.1 -0.1)\">\n       <use xlink:href=\"#MalgunGothic-2d\"/>\n       <use xlink:href=\"#MalgunGothic-31\" x=\"41.015625\"/>\n      </g>\n     </g>\n    </g>\n    <g id=\"ytick_4\">\n     <g id=\"line2d_44\">\n      <g>\n       <use xlink:href=\"#m6cba049f18\" x=\"37.93125\" y=\"98.759903\" style=\"stroke: #000000; stroke-width: 0.8\"/>\n      </g>\n     </g>\n     <g id=\"text_45\">\n      <!-- 0 -->\n      <g transform=\"translate(25.423438 102.555997)scale(0.1 -0.1)\">\n       <use xlink:href=\"#MalgunGothic-30\"/>\n      </g>\n     </g>\n    </g>\n    <g id=\"ytick_5\">\n     <g id=\"line2d_45\">\n      <g>\n       <use xlink:href=\"#m6cba049f18\" x=\"37.93125\" y=\"62.370073\" style=\"stroke: #000000; stroke-width: 0.8\"/>\n      </g>\n     </g>\n     <g id=\"text_46\">\n      <!-- 1 -->\n      <g transform=\"translate(25.423438 66.166166)scale(0.1 -0.1)\">\n       <use xlink:href=\"#MalgunGothic-31\"/>\n      </g>\n     </g>\n    </g>\n    <g id=\"ytick_6\">\n     <g id=\"line2d_46\">\n      <g>\n       <use xlink:href=\"#m6cba049f18\" x=\"37.93125\" y=\"25.980242\" style=\"stroke: #000000; stroke-width: 0.8\"/>\n      </g>\n     </g>\n     <g id=\"text_47\">\n      <!-- 2 -->\n      <g transform=\"translate(25.423438 29.776336)scale(0.1 -0.1)\">\n       <use xlink:href=\"#MalgunGothic-32\"/>\n      </g>\n     </g>\n    </g>\n    <g id=\"text_48\">\n     <!-- Coefficient magnitude -->\n     <g transform=\"translate(14.904688 161.911719)rotate(-90)scale(0.1 -0.1)\">\n      <defs>\n       <path id=\"MalgunGothic-43\" d=\"M 3725 197 \nQ 3216 -78 2459 -78 \nQ 1488 -78 897 561 \nQ 306 1200 306 2213 \nQ 306 3281 959 3978 \nQ 1613 4675 2644 4675 \nQ 3297 4675 3725 4484 \nL 3725 3941 \nQ 3234 4213 2634 4213 \nQ 1813 4213 1325 3659 \nQ 838 3106 838 2241 \nQ 838 1413 1297 897 \nQ 1756 381 2522 381 \nQ 3216 381 3725 688 \nL 3725 197 \nz\n\" transform=\"scale(0.015625)\"/>\n      </defs>\n      <use xlink:href=\"#MalgunGothic-43\"/>\n      <use xlink:href=\"#MalgunGothic-6f\" x=\"63.476562\"/>\n      <use xlink:href=\"#MalgunGothic-65\" x=\"123.388672\"/>\n      <use xlink:href=\"#MalgunGothic-66\" x=\"176.904297\"/>\n      <use xlink:href=\"#MalgunGothic-66\" x=\"208.544922\"/>\n      <use xlink:href=\"#MalgunGothic-69\" x=\"240.185547\"/>\n      <use xlink:href=\"#MalgunGothic-63\" x=\"264.794922\"/>\n      <use xlink:href=\"#MalgunGothic-69\" x=\"312.060547\"/>\n      <use xlink:href=\"#MalgunGothic-65\" x=\"336.669922\"/>\n      <use xlink:href=\"#MalgunGothic-6e\" x=\"390.185547\"/>\n      <use xlink:href=\"#MalgunGothic-74\" x=\"447.998047\"/>\n      <use xlink:href=\"#MalgunGothic-20\" x=\"482.470703\"/>\n      <use xlink:href=\"#MalgunGothic-6d\" x=\"517.626953\"/>\n      <use xlink:href=\"#MalgunGothic-61\" x=\"605.615234\"/>\n      <use xlink:href=\"#MalgunGothic-67\" x=\"657.617188\"/>\n      <use xlink:href=\"#MalgunGothic-6e\" x=\"717.822266\"/>\n      <use xlink:href=\"#MalgunGothic-69\" x=\"775.634766\"/>\n      <use xlink:href=\"#MalgunGothic-74\" x=\"800.244141\"/>\n      <use xlink:href=\"#MalgunGothic-75\" x=\"834.716797\"/>\n      <use xlink:href=\"#MalgunGothic-64\" x=\"892.529297\"/>\n      <use xlink:href=\"#MalgunGothic-65\" x=\"952.734375\"/>\n     </g>\n    </g>\n   </g>\n   <g id=\"patch_43\">\n    <path d=\"M 37.93125 216 \nL 37.93125 7.2 \n\" style=\"fill: none; stroke: #000000; stroke-width: 0.8; stroke-linejoin: miter; stroke-linecap: square\"/>\n   </g>\n   <g id=\"patch_44\">\n    <path d=\"M 874.93125 216 \nL 874.93125 7.2 \n\" style=\"fill: none; stroke: #000000; stroke-width: 0.8; stroke-linejoin: miter; stroke-linecap: square\"/>\n   </g>\n   <g id=\"patch_45\">\n    <path d=\"M 37.93125 216 \nL 874.93125 216 \n\" style=\"fill: none; stroke: #000000; stroke-width: 0.8; stroke-linejoin: miter; stroke-linecap: square\"/>\n   </g>\n   <g id=\"patch_46\">\n    <path d=\"M 37.93125 7.2 \nL 874.93125 7.2 \n\" style=\"fill: none; stroke: #000000; stroke-width: 0.8; stroke-linejoin: miter; stroke-linecap: square\"/>\n   </g>\n  </g>\n </g>\n <defs>\n  <clipPath id=\"pded12542da\">\n   <rect x=\"37.93125\" y=\"7.2\" width=\"837\" height=\"208.8\"/>\n  </clipPath>\n </defs>\n</svg>\n",
      "text/plain": [
       "<Figure size 1080x360 with 1 Axes>"
      ]
     },
     "metadata": {
      "needs_background": "light"
     },
     "output_type": "display_data"
    }
   ],
   "source": [
    "mglearn.tools.visualize_coefficients(logreg.coef_[0], vect.get_feature_names_out(), n_top_features=20)"
   ]
  },
  {
   "cell_type": "code",
   "execution_count": 30,
   "metadata": {},
   "outputs": [],
   "source": [
    "en_nlp = spacy.load('en_core_web_sm')"
   ]
  },
  {
   "cell_type": "code",
   "execution_count": 31,
   "metadata": {},
   "outputs": [],
   "source": [
    "def word_normalization(doc):\n",
    "    doc_spacy = en_nlp(doc)\n",
    "    print([token.lemma_ for token in doc_spacy])"
   ]
  },
  {
   "cell_type": "code",
   "execution_count": 32,
   "metadata": {},
   "outputs": [
    {
     "name": "stdout",
     "output_type": "stream",
     "text": [
      "['the', 'fool', 'doth', 'think', 'he', 'be', 'wise', ',', 'but', 'the', 'wise', 'man', 'know', 'himself', 'to', 'be', 'a', 'fool']\n"
     ]
    }
   ],
   "source": [
    "# Dunning-Kruger Effect\n",
    "bards_words_2 = 'The fool doth think he is wise, but the wise man knows himself to be a fool'\n",
    "word_normalization(bards_words_2)"
   ]
  },
  {
   "cell_type": "code",
   "execution_count": 33,
   "metadata": {},
   "outputs": [],
   "source": [
    "en_nlp = spacy.load('en_core_web_sm', disable=['parser', 'ner'])\n",
    "def custom_tokenizer(doc):\n",
    "    doc_spacy = en_nlp(doc)\n",
    "    return [token.lemma_ for token in doc_spacy]"
   ]
  },
  {
   "cell_type": "code",
   "execution_count": 34,
   "metadata": {},
   "outputs": [
    {
     "name": "stderr",
     "output_type": "stream",
     "text": [
      "c:\\Users\\admin\\anaconda3\\lib\\site-packages\\sklearn\\feature_extraction\\text.py:516: UserWarning: The parameter 'token_pattern' will not be used since 'tokenizer' is not None'\n",
      "  warnings.warn(\n"
     ]
    }
   ],
   "source": [
    "lemma_vect = CountVectorizer(min_df=5, tokenizer=custom_tokenizer).fit(text_train)"
   ]
  },
  {
   "cell_type": "code",
   "execution_count": 35,
   "metadata": {},
   "outputs": [],
   "source": [
    "X_train_lemma = lemma_vect.transform(text_train)\n",
    "X_test_lemma = lemma_vect.transform(text_test)"
   ]
  },
  {
   "cell_type": "code",
   "execution_count": 36,
   "metadata": {},
   "outputs": [
    {
     "name": "stderr",
     "output_type": "stream",
     "text": [
      "c:\\Users\\admin\\anaconda3\\lib\\site-packages\\sklearn\\linear_model\\_logistic.py:814: ConvergenceWarning: lbfgs failed to converge (status=1):\n",
      "STOP: TOTAL NO. of ITERATIONS REACHED LIMIT.\n",
      "\n",
      "Increase the number of iterations (max_iter) or scale the data as shown in:\n",
      "    https://scikit-learn.org/stable/modules/preprocessing.html\n",
      "Please also refer to the documentation for alternative solver options:\n",
      "    https://scikit-learn.org/stable/modules/linear_model.html#logistic-regression\n",
      "  n_iter_i = _check_optimize_result(\n"
     ]
    },
    {
     "data": {
      "text/plain": [
       "0.87832"
      ]
     },
     "execution_count": 36,
     "metadata": {},
     "output_type": "execute_result"
    }
   ],
   "source": [
    "logreg = LogisticRegression(C=0.1).fit(X_train_lemma, y_train)\n",
    "logreg.score(X_test_lemma, y_test)"
   ]
  },
  {
   "cell_type": "code",
   "execution_count": 37,
   "metadata": {},
   "outputs": [
    {
     "data": {
      "text/html": [
       "<div>\n",
       "<style scoped>\n",
       "    .dataframe tbody tr th:only-of-type {\n",
       "        vertical-align: middle;\n",
       "    }\n",
       "\n",
       "    .dataframe tbody tr th {\n",
       "        vertical-align: top;\n",
       "    }\n",
       "\n",
       "    .dataframe thead th {\n",
       "        text-align: right;\n",
       "    }\n",
       "</style>\n",
       "<table border=\"1\" class=\"dataframe\">\n",
       "  <thead>\n",
       "    <tr style=\"text-align: right;\">\n",
       "      <th></th>\n",
       "      <th>id</th>\n",
       "      <th>document</th>\n",
       "      <th>label</th>\n",
       "    </tr>\n",
       "  </thead>\n",
       "  <tbody>\n",
       "    <tr>\n",
       "      <th>0</th>\n",
       "      <td>9976970</td>\n",
       "      <td>아 더빙.. 진짜 짜증나네요 목소리</td>\n",
       "      <td>0</td>\n",
       "    </tr>\n",
       "    <tr>\n",
       "      <th>1</th>\n",
       "      <td>3819312</td>\n",
       "      <td>흠...포스터보고 초딩영화줄....오버연기조차 가볍지 않구나</td>\n",
       "      <td>1</td>\n",
       "    </tr>\n",
       "    <tr>\n",
       "      <th>2</th>\n",
       "      <td>10265843</td>\n",
       "      <td>너무재밓었다그래서보는것을추천한다</td>\n",
       "      <td>0</td>\n",
       "    </tr>\n",
       "    <tr>\n",
       "      <th>3</th>\n",
       "      <td>9045019</td>\n",
       "      <td>교도소 이야기구먼 ..솔직히 재미는 없다..평점 조정</td>\n",
       "      <td>0</td>\n",
       "    </tr>\n",
       "    <tr>\n",
       "      <th>4</th>\n",
       "      <td>6483659</td>\n",
       "      <td>사이몬페그의 익살스런 연기가 돋보였던 영화!스파이더맨에서 늙어보이기만 했던 커스틴 ...</td>\n",
       "      <td>1</td>\n",
       "    </tr>\n",
       "  </tbody>\n",
       "</table>\n",
       "</div>"
      ],
      "text/plain": [
       "         id                                           document  label\n",
       "0   9976970                                아 더빙.. 진짜 짜증나네요 목소리      0\n",
       "1   3819312                  흠...포스터보고 초딩영화줄....오버연기조차 가볍지 않구나      1\n",
       "2  10265843                                  너무재밓었다그래서보는것을추천한다      0\n",
       "3   9045019                      교도소 이야기구먼 ..솔직히 재미는 없다..평점 조정      0\n",
       "4   6483659  사이몬페그의 익살스런 연기가 돋보였던 영화!스파이더맨에서 늙어보이기만 했던 커스틴 ...      1"
      ]
     },
     "execution_count": 37,
     "metadata": {},
     "output_type": "execute_result"
    }
   ],
   "source": [
    "df_train = pd.read_csv('naver/ratings_train.txt', delimiter='\\t', keep_default_na=False)\n",
    "df_test = pd.read_csv('naver/ratings_test.txt', delimiter='\\t', keep_default_na=False)\n",
    "df_train.head()"
   ]
  },
  {
   "cell_type": "code",
   "execution_count": 38,
   "metadata": {},
   "outputs": [],
   "source": [
    "text_train, y_train = df_train['document'].values, df_train['label'].values\n",
    "text_test, y_test = df_test['document'].values, df_test['label'].values"
   ]
  },
  {
   "cell_type": "code",
   "execution_count": 39,
   "metadata": {},
   "outputs": [
    {
     "data": {
      "text/plain": [
       "(array([75173, 74827], dtype=int64), array([24827, 25173], dtype=int64))"
      ]
     },
     "execution_count": 39,
     "metadata": {},
     "output_type": "execute_result"
    }
   ],
   "source": [
    "np.bincount(y_train), np.bincount(y_test)"
   ]
  },
  {
   "cell_type": "code",
   "execution_count": 40,
   "metadata": {},
   "outputs": [],
   "source": [
    "class PicklableOkt(Okt):\n",
    "    def __init__(self, *args):\n",
    "        self.args = args\n",
    "        Okt.__init__(self, *args)\n",
    "    def __setstate__(self, state):\n",
    "        self.__init__(*state['args'])\n",
    "    def __getstate__(self):\n",
    "        return {'args':self.args}\n",
    "okt = PicklableOkt()"
   ]
  },
  {
   "cell_type": "code",
   "execution_count": 41,
   "metadata": {},
   "outputs": [
    {
     "name": "stderr",
     "output_type": "stream",
     "text": [
      "c:\\Users\\admin\\anaconda3\\lib\\site-packages\\sklearn\\feature_extraction\\text.py:516: UserWarning: The parameter 'token_pattern' will not be used since 'tokenizer' is not None'\n",
      "  warnings.warn(\n"
     ]
    }
   ],
   "source": [
    "vect = TfidfVectorizer(min_df=3, tokenizer=okt.morphs, ngram_range=(1, 2)).fit(text_train[:10000])\n",
    "X_train = vect.transform(text_train[:10000])\n",
    "X_test = vect.transform(text_test[:10000])"
   ]
  },
  {
   "cell_type": "code",
   "execution_count": 42,
   "metadata": {},
   "outputs": [
    {
     "data": {
      "text/plain": [
       "0.7129"
      ]
     },
     "execution_count": 42,
     "metadata": {},
     "output_type": "execute_result"
    }
   ],
   "source": [
    "rf_clf = RandomForestClassifier(n_estimators=100, max_depth=3).fit(X_train, y_train[:10000])\n",
    "rf_clf.score(X_test, y_test[:10000])"
   ]
  },
  {
   "cell_type": "code",
   "execution_count": 47,
   "metadata": {},
   "outputs": [],
   "source": [
    "ko_nlp = spacy.load('ko_core_news_sm')\n",
    "def ko_custom_vect(doc):\n",
    "    doc_spacy = ko_nlp(doc)\n",
    "    return [token.lemma_ for token in doc_spacy]"
   ]
  },
  {
   "cell_type": "code",
   "execution_count": 48,
   "metadata": {},
   "outputs": [
    {
     "name": "stderr",
     "output_type": "stream",
     "text": [
      "c:\\Users\\admin\\anaconda3\\lib\\site-packages\\sklearn\\feature_extraction\\text.py:516: UserWarning: The parameter 'token_pattern' will not be used since 'tokenizer' is not None'\n",
      "  warnings.warn(\n"
     ]
    }
   ],
   "source": [
    "vect = CountVectorizer(min_df=3, tokenizer=ko_custom_vect, ngram_range=(1, 2)).fit(text_train[:10000])\n",
    "X_train = vect.transform(text_train[:10000])\n",
    "X_test = vect.transform(text_test[:10000])"
   ]
  },
  {
   "cell_type": "code",
   "execution_count": 49,
   "metadata": {},
   "outputs": [
    {
     "data": {
      "text/plain": [
       "0.6355"
      ]
     },
     "execution_count": 49,
     "metadata": {},
     "output_type": "execute_result"
    }
   ],
   "source": [
    "# konlpy가 훨씬 더 score가 높게 나오는듯\n",
    "rf_clf = RandomForestClassifier(n_estimators=100, max_depth=3).fit(X_train, y_train[:10000])\n",
    "rf_clf.score(X_test, y_test[:10000])"
   ]
  },
  {
   "cell_type": "code",
   "execution_count": 50,
   "metadata": {},
   "outputs": [],
   "source": [
    "ex_sentence = '먼저 통화지급의 원칙은 임금이 현물로 지급되는 현물급여제의 폐해를 제거하기 위하여 제정되었다. 현물로 급여를 지급하게 되면 그 가격이 불안정하고, 또 그 현물을 다시 현금으로 바꿔야하는 불편함이 존재하기 때문이다. 여기서 통화란 국내에서 강제통용력이 있는 화폐를 의미한다. 다만, 법령이나 단체협약에 의해 임금의 일부를 통화 이외의 것으로 지급할 수 있는 예외를 둔 경우에는 그에 따른다.'"
   ]
  },
  {
   "cell_type": "code",
   "execution_count": 51,
   "metadata": {},
   "outputs": [
    {
     "data": {
      "text/plain": [
       "['먼저',\n",
       " '통화지+급+의',\n",
       " '원칙+은',\n",
       " '임금+이',\n",
       " '현물+로',\n",
       " '지급+되+는',\n",
       " '현물급여+제의',\n",
       " '폐해+를',\n",
       " '제거+하+기',\n",
       " '위하+어',\n",
       " '제정+되+었+다',\n",
       " '.',\n",
       " '현물로',\n",
       " '급여+를',\n",
       " '지급+하+게',\n",
       " '되+면',\n",
       " '그',\n",
       " '가격+이',\n",
       " '불안정+하+고',\n",
       " ',',\n",
       " '또',\n",
       " '그',\n",
       " '현물+을',\n",
       " '다시',\n",
       " '현금+으로',\n",
       " '바꿔야하+는',\n",
       " '불편함+이',\n",
       " '존재+하+기',\n",
       " '때문+이+다',\n",
       " '.',\n",
       " '여기+서',\n",
       " '통화+란',\n",
       " '국내+에서',\n",
       " '강제통용+력+이',\n",
       " '있+는',\n",
       " '화폐+를',\n",
       " '의미+하+ㄴ다',\n",
       " '.',\n",
       " '다만',\n",
       " ',',\n",
       " '법령+이나',\n",
       " '단체+협약+에',\n",
       " '의하+어',\n",
       " '임금+의',\n",
       " '일부+를',\n",
       " '통화',\n",
       " '이외+의',\n",
       " '것+으로',\n",
       " '지급+하+ㄹ',\n",
       " '수',\n",
       " '있+는',\n",
       " '예외+를',\n",
       " '두+ㄴ',\n",
       " '경우+에+는',\n",
       " '그+에',\n",
       " '따르+ㄴ다',\n",
       " '.']"
      ]
     },
     "execution_count": 51,
     "metadata": {},
     "output_type": "execute_result"
    }
   ],
   "source": [
    "ko_custom_vect(ex_sentence)"
   ]
  },
  {
   "cell_type": "code",
   "execution_count": 53,
   "metadata": {},
   "outputs": [
    {
     "data": {
      "text/plain": [
       "['먼저',\n",
       " '통화',\n",
       " '지급',\n",
       " '의',\n",
       " '원칙',\n",
       " '은',\n",
       " '임금',\n",
       " '이',\n",
       " '현물',\n",
       " '로',\n",
       " '지급',\n",
       " '되는',\n",
       " '현물',\n",
       " '급여',\n",
       " '제의',\n",
       " '폐해',\n",
       " '를',\n",
       " '제거',\n",
       " '하기',\n",
       " '위',\n",
       " '하여',\n",
       " '제정',\n",
       " '되었다',\n",
       " '.',\n",
       " '현물',\n",
       " '로',\n",
       " '급여',\n",
       " '를',\n",
       " '지급',\n",
       " '하게',\n",
       " '되면',\n",
       " '그',\n",
       " '가격',\n",
       " '이',\n",
       " '불안정하고',\n",
       " ',',\n",
       " '또',\n",
       " '그',\n",
       " '현물',\n",
       " '을',\n",
       " '다시',\n",
       " '현금',\n",
       " '으로',\n",
       " '바꿔',\n",
       " '야하는',\n",
       " '불편함이',\n",
       " '존재',\n",
       " '하기',\n",
       " '때문',\n",
       " '이다',\n",
       " '.',\n",
       " '여기',\n",
       " '서',\n",
       " '통화',\n",
       " '란',\n",
       " '국내',\n",
       " '에서',\n",
       " '강제',\n",
       " '통용',\n",
       " '력',\n",
       " '이',\n",
       " '있는',\n",
       " '화폐',\n",
       " '를',\n",
       " '의미',\n",
       " '한다',\n",
       " '.',\n",
       " '다만',\n",
       " ',',\n",
       " '법령',\n",
       " '이나',\n",
       " '단체',\n",
       " '협약',\n",
       " '에',\n",
       " '의해',\n",
       " '임금',\n",
       " '의',\n",
       " '일부',\n",
       " '를',\n",
       " '통화',\n",
       " '이외',\n",
       " '의',\n",
       " '것',\n",
       " '으로',\n",
       " '지급',\n",
       " '할',\n",
       " '수',\n",
       " '있는',\n",
       " '예외',\n",
       " '를',\n",
       " '둔',\n",
       " '경우',\n",
       " '에는',\n",
       " '그',\n",
       " '에',\n",
       " '따른다',\n",
       " '.']"
      ]
     },
     "execution_count": 53,
     "metadata": {},
     "output_type": "execute_result"
    }
   ],
   "source": [
    "okt.morphs(ex_sentence)"
   ]
  },
  {
   "cell_type": "code",
   "execution_count": 66,
   "metadata": {},
   "outputs": [],
   "source": [
    "vect = CountVectorizer(max_features=10000, max_df=0.15, tokenizer=okt.morphs, ngram_range=(2, 5))\n",
    "X = vect.fit_transform(text_train)"
   ]
  },
  {
   "cell_type": "code",
   "execution_count": 67,
   "metadata": {},
   "outputs": [],
   "source": [
    "lda = LatentDirichletAllocation(n_components=10, learning_method='batch', max_iter=25, n_jobs=-1, random_state=0)\n",
    "document_topics = lda.fit_transform(X)"
   ]
  },
  {
   "cell_type": "code",
   "execution_count": 68,
   "metadata": {},
   "outputs": [
    {
     "data": {
      "text/plain": [
       "(array([[28.31106883,  6.14405736, 23.81972943, ...,  0.10000918,\n",
       "         23.30446346,  0.10004519],\n",
       "        [ 0.10003952, 10.05344671,  3.38017963, ...,  0.10001241,\n",
       "          3.31154452,  2.86397411],\n",
       "        [ 8.88882438,  0.10000644,  0.10001917, ...,  0.10001901,\n",
       "          0.10000053,  0.10000633],\n",
       "        ...,\n",
       "        [ 0.10000841,  4.8657024 ,  0.10001266, ..., 88.71196729,\n",
       "          0.100011  ,  0.10000822],\n",
       "        [ 0.10000871,  0.10001065,  0.10000695, ...,  0.10000774,\n",
       "          0.10000908,  0.10000877],\n",
       "        [ 0.1000094 ,  0.10002594,  0.10001214, ..., 24.31085359,\n",
       "         22.68391626, 31.17284733]]),\n",
       " (10, 10000))"
      ]
     },
     "execution_count": 68,
     "metadata": {},
     "output_type": "execute_result"
    }
   ],
   "source": [
    "lda.components_, lda.components_.shape"
   ]
  },
  {
   "cell_type": "code",
   "execution_count": 69,
   "metadata": {},
   "outputs": [],
   "source": [
    "sorting = np.argsort(lda.components_, axis=1)[:, ::-1]\n",
    "feature_names = np.array(vect.get_feature_names_out())"
   ]
  },
  {
   "cell_type": "code",
   "execution_count": 70,
   "metadata": {},
   "outputs": [
    {
     "name": "stdout",
     "output_type": "stream",
     "text": [
      "topic 0       topic 1       topic 2       topic 3       topic 4       \n",
      "--------      --------      --------      --------      --------      \n",
      "들 이           최고 의          입니다 .         들 은           영화 는          \n",
      "도 없고          의 영화          영화 입니다        사람 들          적 으로          \n",
      "10 점          평점 이          쓰레기 영화        끝 까지          감동 적          \n",
      "것 도           최고 의 영화       없다 .          이 게           같다 .          \n",
      "재미 도          영화 가          보는 내내         들 이           개인 적          \n",
      "아이 들          이 너무          영화 도          10 점          적 이고          \n",
      "애 들           최악 의          같은 영화         사람 이          배우 들          \n",
      "이 것           내 인생          배우 들          1 편           이 영화          \n",
      "이해 가          1 점도          연기 도          이건 뭐          개인 적 으로       \n",
      "내용 도          최악 의 영화       영화 입니다 .      사람 들 이        들 이           \n",
      "\n",
      "\n",
      "topic 5       topic 6       topic 7       topic 8       topic 9       \n",
      "--------      --------      --------      --------      --------      \n",
      "영화 .          이 거           네 요           이다 .          들 의           \n",
      "영화 를          적 인           이 영화          영화 중          의 연기          \n",
      "이 영화          1 점           볼 만           내 가           영화 의          \n",
      "이런 영화         이 게           영화 에          중 에           영화 .          \n",
      "영화 다          인 영화          말 이           본 영화          연기 가          \n",
      "다 .           점 이           영화 네          나 는           적 인           \n",
      "영화 가          적 인 영화        평점 이          였다 .          만 에           \n",
      "한 영화          0 점           수 있는          한다 .          배우 들          \n",
      "영화 ..         만든 영화         에 대한          정도 로          배우 들 의        \n",
      "이 영화 를        인 듯           요 .           영화 였다         오랜 만          \n",
      "\n",
      "\n"
     ]
    }
   ],
   "source": [
    "mglearn.tools.print_topics(topics=range(10), feature_names=feature_names, sorting=sorting, topics_per_chunk=5, n_words=10)"
   ]
  },
  {
   "cell_type": "code",
   "execution_count": 71,
   "metadata": {},
   "outputs": [
    {
     "data": {
      "text/plain": [
       "array([[1397, 1398,  967, ...,  815, 2936, 3212],\n",
       "       [ 967, 1398, 1397, ..., 9424, 7065, 9175],\n",
       "       [ 967, 1397, 1398, ..., 5202, 6312, 7987],\n",
       "       ...,\n",
       "       [1397, 1398,  967, ..., 4448, 7485, 2414],\n",
       "       [ 967, 1397, 1398, ..., 2226, 6327, 7642],\n",
       "       [1398, 1397,  967, ..., 6298, 7043, 3200]], dtype=int64)"
      ]
     },
     "execution_count": 71,
     "metadata": {},
     "output_type": "execute_result"
    }
   ],
   "source": [
    "np.argsort(lda.components_, axis=1)"
   ]
  },
  {
   "cell_type": "code",
   "execution_count": 80,
   "metadata": {},
   "outputs": [
    {
     "name": "stdout",
     "output_type": "stream",
     "text": [
      "저는 정말좋았어요 잔잔하지만 중가중간 재미있는요소들도많고 여운이많이남는 영화였어요\n",
      "\n",
      "\n",
      "정말이지 여운이 많이 남는 영화,다시는 이런 느낌을 받지못할 것 같다\n",
      "\n",
      "\n",
      "이렇게 뜻있고 훈훈한 소재를, 이렇게 좋은 배우들을 섭외시켜 놓고도 , 이 정도로 밖에 못 그려내다니.. 백퍼 연출가 탓 ... 촬영한거 십분의 일도 못 살린 영화..\n",
      "\n",
      "\n",
      "쓰레기쓰레기쓰레기쓰레기쓰레기쓰레기\n",
      "\n",
      "\n",
      "명불허전.. 스토리도 좋았고 주인공들도 너무 매력적이었다.\n",
      "\n",
      "\n",
      "감동... 20년전 어릴 때 봤을 때는 이해하지 못했던 깊이가 감동으로\n",
      "\n",
      "\n",
      "정말 감동적이에요. 특히 대사들이 정말 감동 ㅠㅠ\n",
      "\n",
      "\n",
      "정말 네티즌들 ㅡ.ㅡ영화 보지도 않고 평점 깎아먹는 꼬라지 하고는...제발 그러지 마라 정말 ㅡ.ㅡ영화 재밌기만 하구만~배우들도 잘생겼고 친절하고~\n",
      "\n",
      "\n",
      "이 영화 나왔을 때 어렴풋이 기억나는데 마치 스케일큰 재난 영화처럼 광고했었던 거 같다. 이런 좋은 내용이었을 줄 누가 알았겠어...광고를 다른 방향으로 했다면 흥행했을 것! 감동적이었다.\n",
      "\n",
      "\n",
      "개인적으로 전쟁영화 선호 하지않은데이 영화는 정말 감동적으로 봤어요 남자로서 생각도많이들고\n",
      "\n",
      "\n"
     ]
    }
   ],
   "source": [
    "topic_4 = np.argsort(document_topics[:, 4])[::-1]\n",
    "for arr in topic_4[10:20]:\n",
    "    print(text_train[arr] + '\\n\\n')"
   ]
  },
  {
   "cell_type": "code",
   "execution_count": 84,
   "metadata": {},
   "outputs": [
    {
     "data": {
      "text/plain": [
       "0.7371"
      ]
     },
     "execution_count": 84,
     "metadata": {},
     "output_type": "execute_result"
    }
   ],
   "source": [
    "mnb = MultinomialNB().fit(X_train, y_train[:10000])\n",
    "mnb.score(X_test, y_test[:10000])"
   ]
  },
  {
   "cell_type": "code",
   "execution_count": 89,
   "metadata": {},
   "outputs": [
    {
     "name": "stderr",
     "output_type": "stream",
     "text": [
      "c:\\Users\\admin\\anaconda3\\lib\\site-packages\\sklearn\\feature_extraction\\text.py:516: UserWarning: The parameter 'token_pattern' will not be used since 'tokenizer' is not None'\n",
      "  warnings.warn(\n"
     ]
    }
   ],
   "source": [
    "vect = TfidfVectorizer(min_df=3, tokenizer=okt.morphs, ngram_range=(1, 5)).fit(text_train[:10000])\n",
    "X_train = vect.transform(text_train[:10000])\n",
    "X_test = vect.transform(text_test[:10000])"
   ]
  },
  {
   "cell_type": "code",
   "execution_count": 90,
   "metadata": {},
   "outputs": [
    {
     "data": {
      "text/plain": [
       "0.816"
      ]
     },
     "execution_count": 90,
     "metadata": {},
     "output_type": "execute_result"
    }
   ],
   "source": [
    "mnb = MultinomialNB().fit(X_train, y_train[:10000])\n",
    "mnb.score(X_test, y_test[:10000])"
   ]
  },
  {
   "cell_type": "code",
   "execution_count": 98,
   "metadata": {},
   "outputs": [
    {
     "data": {
      "text/plain": [
       "array([[ -7.21939738, -10.36555682, -10.36555682, ...,  -9.16373889,\n",
       "         -9.96539879,  -9.97066378],\n",
       "       [ -6.05440762,  -9.69046302,  -9.38474952, ...,  -9.93659905,\n",
       "        -10.09134062, -10.03253103]])"
      ]
     },
     "execution_count": 98,
     "metadata": {},
     "output_type": "execute_result"
    }
   ],
   "source": [
    "mnb.feature_log_prob_"
   ]
  },
  {
   "cell_type": "code",
   "execution_count": 104,
   "metadata": {},
   "outputs": [
    {
     "data": {
      "text/plain": [
       "array([1, 0, 0, ..., 0, 0, 0], dtype=int64)"
      ]
     },
     "execution_count": 104,
     "metadata": {},
     "output_type": "execute_result"
    }
   ],
   "source": [
    "mnb.predict(X_test)"
   ]
  },
  {
   "cell_type": "code",
   "execution_count": 124,
   "metadata": {},
   "outputs": [
    {
     "name": "stdout",
     "output_type": "stream",
     "text": [
      "약간 야한 씬에만 눈이 간다. 결말이 이해가 안돼.\n",
      "\n",
      "남매는 그런게 아닐까? 때로는 엄마같은 누나, 때로는 오빠같은 동생, 잔잔함 그리고 일본특유의 소박함이 묻어나는 따스한영화.\n",
      "\n",
      "이런 식의 공포물은 별로\n",
      "\n",
      "확실히 어렵다.. 역시 린치구나\n",
      "\n",
      "투자대비 효율 제로에 가까운 가성비 최악의 영화. 화려한 캐스팅과 드라마의 인지도에도 불구하고 반에 반에 반타작도 못한 망작영화.\n",
      "\n",
      "별로야..,,,,..\n",
      "\n",
      "스토리 연결 전혀 안되고 편집해서 끼워맞춘 드라마 말아먹은 작품\n",
      "\n",
      "역시 프랑스에는 기대가 안간다는 편견만 만들어준다..\n",
      "\n",
      "더빙이 똥이야 ....\n",
      "\n",
      "뭐야 대중을 공감시켜야지 감독지혼자만 공감하냐\n",
      "\n"
     ]
    }
   ],
   "source": [
    "for arg in np.argsort(mnb.predict_proba(X_test)[:, 1])[:10]:\n",
    "    print(text_train[arg] + '\\n')"
   ]
  },
  {
   "cell_type": "code",
   "execution_count": null,
   "metadata": {},
   "outputs": [],
   "source": []
  }
 ],
 "metadata": {
  "kernelspec": {
   "display_name": "Python 3.9.12 ('base')",
   "language": "python",
   "name": "python3"
  },
  "language_info": {
   "codemirror_mode": {
    "name": "ipython",
    "version": 3
   },
   "file_extension": ".py",
   "mimetype": "text/x-python",
   "name": "python",
   "nbconvert_exporter": "python",
   "pygments_lexer": "ipython3",
   "version": "3.9.12"
  },
  "orig_nbformat": 4,
  "vscode": {
   "interpreter": {
    "hash": "610a6f344c2137faf927ea819c63f6cee33a2c04455044b28099f39fe9722347"
   }
  }
 },
 "nbformat": 4,
 "nbformat_minor": 2
}
