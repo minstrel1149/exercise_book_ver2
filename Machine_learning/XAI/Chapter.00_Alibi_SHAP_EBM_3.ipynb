{
 "cells": [
  {
   "cell_type": "code",
   "execution_count": 1,
   "id": "6a50a326",
   "metadata": {},
   "outputs": [
    {
     "name": "stdout",
     "output_type": "stream",
     "text": [
      "WARNING:tensorflow:From c:\\Users\\admin\\anaconda3\\lib\\site-packages\\keras\\src\\losses.py:2976: The name tf.losses.sparse_softmax_cross_entropy is deprecated. Please use tf.compat.v1.losses.sparse_softmax_cross_entropy instead.\n",
      "\n",
      "WARNING:tensorflow:From C:\\Users\\admin\\AppData\\Local\\Temp\\ipykernel_6640\\468878597.py:13: The name tf.disable_eager_execution is deprecated. Please use tf.compat.v1.disable_eager_execution instead.\n",
      "\n"
     ]
    }
   ],
   "source": [
    "from ISLP import load_data\n",
    "import numpy as np\n",
    "import pandas as pd\n",
    "import matplotlib.pyplot as plt\n",
    "import seaborn as sns\n",
    "from sklearn.preprocessing import StandardScaler, OneHotEncoder, OrdinalEncoder\n",
    "from sklearn.compose import ColumnTransformer\n",
    "from sklearn.model_selection import train_test_split\n",
    "from xgboost import XGBRegressor, XGBClassifier\n",
    "import warnings\n",
    "warnings.filterwarnings('ignore')\n",
    "import tensorflow as tf\n",
    "tf.compat.v1.disable_eager_execution()\n",
    "from alibi.explainers import Counterfactual\n",
    "from alibi.datasets import fetch_adult\n",
    "import shap\n",
    "from interpret import set_visualize_provider\n",
    "from interpret.provider import InlineProvider\n",
    "set_visualize_provider(InlineProvider())\n",
    "from interpret import show\n",
    "from interpret.glassbox import ExplainableBoostingRegressor, ExplainableBoostingClassifier"
   ]
  },
  {
   "cell_type": "code",
   "execution_count": 2,
   "id": "72ed983a",
   "metadata": {},
   "outputs": [],
   "source": [
    "tf.compat.v1.reset_default_graph()"
   ]
  },
  {
   "cell_type": "code",
   "execution_count": 4,
   "id": "3d6b7e5f",
   "metadata": {},
   "outputs": [
    {
     "data": {
      "text/plain": [
       "{'data': array([[39,  7,  1, ...,  0, 40,  9],\n",
       "        [50,  6,  1, ...,  0, 13,  9],\n",
       "        [38,  4,  4, ...,  0, 40,  9],\n",
       "        ...,\n",
       "        [58,  4,  4, ...,  0, 40,  9],\n",
       "        [22,  4,  4, ...,  0, 20,  9],\n",
       "        [52,  5,  4, ...,  0, 40,  9]], dtype=int64),\n",
       " 'target': array([0, 0, 0, ..., 0, 0, 1]),\n",
       " 'feature_names': ['Age',\n",
       "  'Workclass',\n",
       "  'Education',\n",
       "  'Marital Status',\n",
       "  'Occupation',\n",
       "  'Relationship',\n",
       "  'Race',\n",
       "  'Sex',\n",
       "  'Capital Gain',\n",
       "  'Capital Loss',\n",
       "  'Hours per week',\n",
       "  'Country'],\n",
       " 'target_names': ['<=50K', '>50K'],\n",
       " 'category_map': {1: ['?',\n",
       "   'Federal-gov',\n",
       "   'Local-gov',\n",
       "   'Never-worked',\n",
       "   'Private',\n",
       "   'Self-emp-inc',\n",
       "   'Self-emp-not-inc',\n",
       "   'State-gov',\n",
       "   'Without-pay'],\n",
       "  2: ['Associates',\n",
       "   'Bachelors',\n",
       "   'Doctorate',\n",
       "   'Dropout',\n",
       "   'High School grad',\n",
       "   'Masters',\n",
       "   'Prof-School'],\n",
       "  3: ['Married', 'Never-Married', 'Separated', 'Widowed'],\n",
       "  4: ['?',\n",
       "   'Admin',\n",
       "   'Blue-Collar',\n",
       "   'Military',\n",
       "   'Other',\n",
       "   'Professional',\n",
       "   'Sales',\n",
       "   'Service',\n",
       "   'White-Collar'],\n",
       "  5: ['Husband',\n",
       "   'Not-in-family',\n",
       "   'Other-relative',\n",
       "   'Own-child',\n",
       "   'Unmarried',\n",
       "   'Wife'],\n",
       "  6: ['Amer-Indian-Eskimo', 'Asian-Pac-Islander', 'Black', 'Other', 'White'],\n",
       "  7: ['Female', 'Male'],\n",
       "  11: ['?',\n",
       "   'British-Commonwealth',\n",
       "   'China',\n",
       "   'Euro_1',\n",
       "   'Euro_2',\n",
       "   'Latin-America',\n",
       "   'Other',\n",
       "   'SE-Asia',\n",
       "   'South-America',\n",
       "   'United-States',\n",
       "   'Yugoslavia']}}"
      ]
     },
     "execution_count": 4,
     "metadata": {},
     "output_type": "execute_result"
    }
   ],
   "source": [
    "adult = fetch_adult()\n",
    "adult"
   ]
  },
  {
   "cell_type": "code",
   "execution_count": 6,
   "id": "2f484aa4",
   "metadata": {},
   "outputs": [],
   "source": [
    "features = pd.DataFrame(data=adult.data, columns=adult.feature_names)\n",
    "target = adult.target"
   ]
  },
  {
   "cell_type": "code",
   "execution_count": null,
   "id": "3462c76b",
   "metadata": {},
   "outputs": [],
   "source": []
  }
 ],
 "metadata": {
  "kernelspec": {
   "display_name": "base",
   "language": "python",
   "name": "python3"
  },
  "language_info": {
   "codemirror_mode": {
    "name": "ipython",
    "version": 3
   },
   "file_extension": ".py",
   "mimetype": "text/x-python",
   "name": "python",
   "nbconvert_exporter": "python",
   "pygments_lexer": "ipython3",
   "version": "3.10.9"
  }
 },
 "nbformat": 4,
 "nbformat_minor": 5
}
