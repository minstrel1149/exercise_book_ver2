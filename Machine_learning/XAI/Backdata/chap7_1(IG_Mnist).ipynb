{
 "cells": [
  {
   "cell_type": "code",
   "execution_count": 1,
   "id": "c8ebbd35",
   "metadata": {},
   "outputs": [],
   "source": [
    "import numpy as np\n",
    "import os\n",
    "import tensorflow as tf\n",
    "from tensorflow.keras.layers import Activation, Conv2D, Dense, Dropout\n",
    "from tensorflow.keras.layers import Flatten, Input, Reshape, MaxPooling2D\n",
    "from tensorflow.keras.models import Model\n",
    "from tensorflow.keras.utils import to_categorical"
   ]
  },
  {
   "cell_type": "code",
   "execution_count": 2,
   "id": "bfdbf4fa",
   "metadata": {},
   "outputs": [],
   "source": [
    "from alibi.explainers import IntegratedGradients\n",
    "import matplotlib.pyplot as plt\n",
    "#print('TF version: ', tf.__version__)\n",
    "#print('Eager execution enabled: ', tf.executing_eagerly()) # True"
   ]
  },
  {
   "cell_type": "code",
   "execution_count": 4,
   "id": "4b89cebb",
   "metadata": {},
   "outputs": [
    {
     "name": "stdout",
     "output_type": "stream",
     "text": [
      "(60000, 28, 28, 1) (60000, 10) (10000, 28, 28, 1) (10000, 10)\n"
     ]
    }
   ],
   "source": [
    "(X_train,y_train),(X_test,y_test) = tf.keras.datasets.mnist.load_data()\n",
    "test_labels = y_test.copy()\n",
    "train_labels = y_train.copy()\n",
    "X_train = X_train.reshape(-1, 28, 28, 1).astype('float64') / 255\n",
    "X_test = X_test.reshape(-1, 28, 28, 1).astype('float64') / 255\n",
    "y_train = to_categorical(y_train, 10)\n",
    "y_test = to_categorical(y_test, 10)\n",
    "print(X_train.shape, y_train.shape, X_test.shape, y_test.shape)"
   ]
  },
  {
   "cell_type": "code",
   "execution_count": 14,
   "id": "8c9ae315",
   "metadata": {},
   "outputs": [
    {
     "name": "stdout",
     "output_type": "stream",
     "text": [
      "Epoch 1/6\n",
      "235/235 [==============================] - 25s 105ms/step - loss: 0.4928 - accuracy: 0.8450 - val_loss: 0.1140 - val_accuracy: 0.9664\n",
      "Epoch 2/6\n",
      "235/235 [==============================] - 27s 114ms/step - loss: 0.1617 - accuracy: 0.9497 - val_loss: 0.0700 - val_accuracy: 0.9789\n",
      "Epoch 3/6\n",
      "235/235 [==============================] - 27s 115ms/step - loss: 0.1174 - accuracy: 0.9647 - val_loss: 0.0528 - val_accuracy: 0.9835\n",
      "Epoch 4/6\n",
      "235/235 [==============================] - 27s 117ms/step - loss: 0.0977 - accuracy: 0.9696 - val_loss: 0.0455 - val_accuracy: 0.9848\n",
      "Epoch 5/6\n",
      "235/235 [==============================] - 30s 127ms/step - loss: 0.0858 - accuracy: 0.9729 - val_loss: 0.0416 - val_accuracy: 0.9869\n",
      "Epoch 6/6\n",
      "235/235 [==============================] - 37s 157ms/step - loss: 0.0770 - accuracy: 0.9754 - val_loss: 0.0378 - val_accuracy: 0.9869\n"
     ]
    },
    {
     "data": {
      "text/plain": [
       "<keras.callbacks.History at 0x17aa359e130>"
      ]
     },
     "execution_count": 14,
     "metadata": {},
     "output_type": "execute_result"
    }
   ],
   "source": [
    "inputs = Input(shape=(X_train.shape[1:]), dtype=tf.float64)\n",
    "x = Conv2D(64, 2, padding='same', activation='relu')(inputs)\n",
    "x = MaxPooling2D(pool_size=2)(x)\n",
    "x = Dropout(.3)(x)\n",
    "x = Conv2D(32, 2, padding='same', activation='relu')(x)\n",
    "x = MaxPooling2D(pool_size=2)(x)\n",
    "x = Dropout(.3)(x)\n",
    "x = Flatten()(x)\n",
    "x = Dense(256, activation='relu')(x)\n",
    "x = Dropout(.5)(x)\n",
    "logits = Dense(10, activation='softmax')(x)\n",
    "model = Model(inputs=inputs, outputs=logits)\n",
    "model.compile(loss='categorical_crossentropy',optimizer='adam',metrics=['accuracy'])\n",
    "# train model\n",
    "model.fit(X_train, y_train,epochs=6,batch_size=256,verbose=1,validation_data=(X_test, y_test))"
   ]
  },
  {
   "cell_type": "code",
   "execution_count": 15,
   "id": "cf08a70f",
   "metadata": {},
   "outputs": [
    {
     "name": "stdout",
     "output_type": "stream",
     "text": [
      "1/1 [==============================] - 0s 73ms/step\n"
     ]
    }
   ],
   "source": [
    "ig = IntegratedGradients(model,)\n",
    "X_test_sample = X_test[:10]\n",
    "predictions = model.predict(X_test_sample).argmax(axis=1)\n",
    "explanation = ig.explain(X_test_sample,baselines=None,target=predictions)"
   ]
  },
  {
   "cell_type": "code",
   "execution_count": 16,
   "id": "99f85094",
   "metadata": {},
   "outputs": [
    {
     "data": {
      "text/plain": [
       "{'name': 'IntegratedGradients',\n",
       " 'type': ['whitebox'],\n",
       " 'explanations': ['local'],\n",
       " 'params': {'target_fn': None,\n",
       "  'method': 'gausslegendre',\n",
       "  'n_steps': 50,\n",
       "  'internal_batch_size': 100,\n",
       "  'layer': 0},\n",
       " 'version': '0.9.0'}"
      ]
     },
     "execution_count": 16,
     "metadata": {},
     "output_type": "execute_result"
    }
   ],
   "source": [
    "explanation.meta"
   ]
  },
  {
   "cell_type": "code",
   "execution_count": 9,
   "id": "78f2675a",
   "metadata": {},
   "outputs": [
    {
     "data": {
      "text/plain": [
       "dict_keys(['attributions', 'X', 'forward_kwargs', 'baselines', 'predictions', 'deltas', 'target'])"
      ]
     },
     "execution_count": 9,
     "metadata": {},
     "output_type": "execute_result"
    }
   ],
   "source": [
    "# Data fields from the explanation object\n",
    "explanation.data.keys()"
   ]
  },
  {
   "cell_type": "code",
   "execution_count": 20,
   "id": "c678d224",
   "metadata": {},
   "outputs": [
    {
     "name": "stdout",
     "output_type": "stream",
     "text": [
      "(10, 28, 28, 1)\n",
      "-0.10980081270870781 0.12210678440522395\n"
     ]
    }
   ],
   "source": [
    "attrs = explanation.attributions[0]\n",
    "print(attrs.shape)\n",
    "print(attrs.min(), attrs.max())"
   ]
  },
  {
   "cell_type": "code",
   "execution_count": 21,
   "id": "33a8fe60",
   "metadata": {},
   "outputs": [
    {
     "name": "stdout",
     "output_type": "stream",
     "text": [
      "(28, 28, 1)\n",
      "[0.]\n"
     ]
    }
   ],
   "source": [
    "base=explanation.baselines[0]\n",
    "print(base.shape)\n",
    "print(np.unique(base))"
   ]
  },
  {
   "cell_type": "code",
   "execution_count": 22,
   "id": "9801fa60",
   "metadata": {},
   "outputs": [
    {
     "data": {
      "image/png": "[encoded data removed]",
      "text/plain": [
       "<Figure size 1000x700 with 13 Axes>"
      ]
     },
     "metadata": {},
     "output_type": "display_data"
    }
   ],
   "source": [
    "fig, ax = plt.subplots(nrows=3, ncols=4, figsize=(10, 7))\n",
    "image_ids = [0, 1, 9]\n",
    "cmap_bound = np.abs(attrs[[0, 1, 9]]).max()\n",
    "for row, image_id in enumerate(image_ids):\n",
    "    # original images\n",
    "    ax[row, 0].imshow(X_test[image_id].squeeze(), cmap='gray')\n",
    "    ax[row, 0].set_title(f'Prediction: {predictions[image_id]}')\n",
    "    # attributions\n",
    "    attr = attrs[image_id]\n",
    "    im = ax[row, 1].imshow(attr.squeeze(), vmin=-cmap_bound, vmax=cmap_bound, cmap='PiYG')\n",
    "    # positive attributions\n",
    "    attr_pos = attr.clip(0, 0.2)\n",
    "    im_pos = ax[row, 2].imshow(attr_pos.squeeze(), vmin=-cmap_bound, vmax=cmap_bound,cmap='PiYG')\n",
    "    # negative attributions\n",
    "    attr_neg = attr.clip(-0.2, 0)\n",
    "    im_neg = ax[row, 3].imshow(attr_neg.squeeze(), vmin=-cmap_bound, vmax=cmap_bound,cmap='PiYG')\n",
    "ax[0, 1].set_title('Attributions');\n",
    "ax[0, 2].set_title('Positive attributions');\n",
    "ax[0, 3].set_title('Negative attributions');\n",
    "for ax in fig.axes:\n",
    "    ax.axis('off')\n",
    "fig.colorbar(im, cax=fig.add_axes([0.95, 0.25, 0.03, 0.5]));"
   ]
  },
  {
   "cell_type": "code",
   "execution_count": null,
   "id": "ad44aff2",
   "metadata": {},
   "outputs": [],
   "source": []
  },
  {
   "cell_type": "code",
   "execution_count": null,
   "id": "88db1e82",
   "metadata": {},
   "outputs": [],
   "source": []
  }
 ],
 "metadata": {
  "kernelspec": {
   "display_name": "Python 3 (ipykernel)",
   "language": "python",
   "name": "python3"
  },
  "language_info": {
   "codemirror_mode": {
    "name": "ipython",
    "version": 3
   },
   "file_extension": ".py",
   "mimetype": "text/x-python",
   "name": "python",
   "nbconvert_exporter": "python",
   "pygments_lexer": "ipython3",
   "version": "3.8.16"
  }
 },
 "nbformat": 4,
 "nbformat_minor": 5
}
