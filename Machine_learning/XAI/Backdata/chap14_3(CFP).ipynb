{
 "cells": [
  {
   "cell_type": "code",
   "execution_count": 2,
   "id": "0d94cdc8",
   "metadata": {},
   "outputs": [],
   "source": [
    "import tensorflow as tf\n",
    "tf.get_logger().setLevel(40) # suppress deprecation messages\n",
    "tf.compat.v1.disable_v2_behavior()\n",
    "from tensorflow.keras.layers import Dense, Input, Embedding, Flatten, Concatenate, Reshape,Dropout, Lambda\n",
    "from tensorflow.keras.models import Model\n",
    "from tensorflow.keras.utils import to_categorical\n",
    "%matplotlib inline\n",
    "import matplotlib\n",
    "import matplotlib.pyplot as plt\n",
    "import numpy as np\n",
    "import os\n",
    "from time import time\n",
    "from alibi.datasets import fetch_adult\n",
    "from alibi.explainers import CounterfactualProto"
   ]
  },
  {
   "cell_type": "code",
   "execution_count": 3,
   "id": "a43775b0",
   "metadata": {},
   "outputs": [],
   "source": [
    "adult = fetch_adult()\n",
    "data = adult.data\n",
    "target = adult.target\n",
    "feature_names = adult.feature_names\n",
    "category_map_tmp = adult.category_map\n",
    "target_names = adult.target_names"
   ]
  },
  {
   "cell_type": "code",
   "execution_count": 4,
   "id": "4bfba756",
   "metadata": {},
   "outputs": [],
   "source": [
    "def set_seed(s=0):\n",
    "    np.random.seed(s)\n",
    "    tf.random.set_seed(s)"
   ]
  },
  {
   "cell_type": "code",
   "execution_count": 5,
   "id": "4e8af3c1",
   "metadata": {},
   "outputs": [],
   "source": [
    "set_seed()\n",
    "data_perm = np.random.permutation(np.c_[data, target])\n",
    "X = data_perm[:,:-1]\n",
    "y = data_perm[:,-1]"
   ]
  },
  {
   "cell_type": "code",
   "execution_count": 6,
   "id": "6b5618bc",
   "metadata": {},
   "outputs": [],
   "source": [
    "idx = 30000\n",
    "y_train, y_test = y[:idx], y[idx:]"
   ]
  },
  {
   "cell_type": "code",
   "execution_count": 7,
   "id": "505fb86a",
   "metadata": {},
   "outputs": [],
   "source": [
    "X = np.c_[X[:, 1:8], X[:, 11], X[:, 0], X[:, 8:11]]"
   ]
  },
  {
   "cell_type": "code",
   "execution_count": 8,
   "id": "93a18852",
   "metadata": {},
   "outputs": [
    {
     "name": "stdout",
     "output_type": "stream",
     "text": [
      "['Workclass', 'Education', 'Marital Status', 'Occupation', 'Relationship', 'Race', 'Sex', 'Country', 'Age', 'Capital Gain', 'Capital Loss', 'Hours per week']\n"
     ]
    }
   ],
   "source": [
    "feature_names = feature_names[1:8] + feature_names[11:12] + feature_names[0:1] + feature_names[8:11]\n",
    "print(feature_names)"
   ]
  },
  {
   "cell_type": "code",
   "execution_count": 9,
   "id": "36b93339",
   "metadata": {},
   "outputs": [],
   "source": [
    "category_map = {}\n",
    "for i, (_, v) in enumerate(category_map_tmp.items()):\n",
    "    category_map[i] = v"
   ]
  },
  {
   "cell_type": "code",
   "execution_count": 10,
   "id": "afa7c193",
   "metadata": {},
   "outputs": [
    {
     "name": "stdout",
     "output_type": "stream",
     "text": [
      "{0: 9, 1: 7, 2: 4, 3: 9, 4: 6, 5: 5, 6: 2, 7: 11}\n"
     ]
    }
   ],
   "source": [
    "cat_vars_ord = {}\n",
    "n_categories = len(list(category_map.keys()))\n",
    "for i in range(n_categories):\n",
    "    cat_vars_ord[i] = len(np.unique(X[:, i]))\n",
    "print(cat_vars_ord)\n"
   ]
  },
  {
   "cell_type": "code",
   "execution_count": 11,
   "id": "50dd98a7",
   "metadata": {},
   "outputs": [],
   "source": [
    "X_num = X[:, -4:].astype(np.float32, copy=False)\n",
    "xmin, xmax = X_num.min(axis=0), X_num.max(axis=0)\n",
    "rng = (-1., 1.)\n",
    "X_num_scaled = (X_num - xmin) / (xmax - xmin) * (rng[1] - rng[0]) + rng[0]\n",
    "X_num_scaled_train = X_num_scaled[:idx, :]\n",
    "X_num_scaled_test = X_num_scaled[idx+1:, :]"
   ]
  },
  {
   "cell_type": "code",
   "execution_count": 12,
   "id": "a150b176",
   "metadata": {},
   "outputs": [
    {
     "name": "stdout",
     "output_type": "stream",
     "text": [
      "(30000, 12) (2561, 12)\n"
     ]
    }
   ],
   "source": [
    "X = np.c_[X[:, :-4], X_num_scaled].astype(np.float32, copy=False)\n",
    "X_train, X_test = X[:idx, :], X[idx:, :]\n",
    "print(X_train.shape, X_test.shape)"
   ]
  },
  {
   "cell_type": "code",
   "execution_count": 13,
   "id": "eb871342",
   "metadata": {},
   "outputs": [],
   "source": [
    "def nn_ord():\n",
    "    x_in = Input(shape=(12,))\n",
    "    layers_in = []\n",
    "    # embedding layers\n",
    "    for i, (_, v) in enumerate(cat_vars_ord.items()):\n",
    "        emb_in = Lambda(lambda x: x[:, i:i+1]+1)(x_in)\n",
    "        emb_dim = int(max(min(np.ceil(.5 * v), 50), 2))\n",
    "        emb_layer = Embedding(input_dim=v+1, output_dim=emb_dim, input_length=1)(emb_in)\n",
    "        emb_layer=Flatten()(emb_layer)\n",
    "        layers_in.append(emb_layer)\n",
    "    # numerical layers\n",
    "    num_in = Lambda(lambda x: x[:, -4:])(x_in)\n",
    "    num_layer = Dense(16)(num_in)\n",
    "    layers_in.append(num_layer)\n",
    "    # combine\n",
    "    x = Concatenate()(layers_in)\n",
    "    x = Dense(60, activation='relu')(x)\n",
    "    x = Dropout(.2)(x)\n",
    "    x = Dense(60, activation='relu')(x)\n",
    "    x = Dropout(.2)(x)\n",
    "    x = Dense(60, activation='relu')(x)\n",
    "    x = Dropout(.2)(x)\n",
    "    x_out = Dense(2, activation='softmax')(x)\n",
    "    nn = Model(inputs=x_in, outputs=x_out)\n",
    "    nn.compile(loss='categorical_crossentropy', optimizer='adam', metrics=['accuracy'])\n",
    "    return nn"
   ]
  },
  {
   "cell_type": "code",
   "execution_count": 19,
   "id": "f037196c",
   "metadata": {},
   "outputs": [
    {
     "name": "stdout",
     "output_type": "stream",
     "text": [
      "[[[ 0.00022001 -0.01777273 -0.00655563  0.0315379   0.01513681]]]\n"
     ]
    }
   ],
   "source": [
    "import numpy as np\n",
    "aa=int(max(min(np.ceil(.5 * 9), 50), 2))\n",
    "\n",
    "v=9\n",
    "model = tf.keras.Sequential()\n",
    "model.add(tf.keras.layers.Embedding(v+1, aa, input_length=1))\n",
    "model.compile('rmsprop', 'mse')\n",
    "output_array = model.predict(np.array([3]))\n",
    "print(output_array)"
   ]
  },
  {
   "cell_type": "code",
   "execution_count": 20,
   "id": "eed76e2a",
   "metadata": {},
   "outputs": [
    {
     "name": "stdout",
     "output_type": "stream",
     "text": [
      "Model: \"model\"\n",
      "__________________________________________________________________________________________________\n",
      " Layer (type)                   Output Shape         Param #     Connected to                     \n",
      "==================================================================================================\n",
      " input_1 (InputLayer)           [(None, 12)]         0           []                               \n",
      "                                                                                                  \n",
      " lambda (Lambda)                (None, 1)            0           ['input_1[0][0]']                \n",
      "                                                                                                  \n",
      " lambda_1 (Lambda)              (None, 1)            0           ['input_1[0][0]']                \n",
      "                                                                                                  \n",
      " lambda_2 (Lambda)              (None, 1)            0           ['input_1[0][0]']                \n",
      "                                                                                                  \n",
      " lambda_3 (Lambda)              (None, 1)            0           ['input_1[0][0]']                \n",
      "                                                                                                  \n",
      " lambda_4 (Lambda)              (None, 1)            0           ['input_1[0][0]']                \n",
      "                                                                                                  \n",
      " lambda_5 (Lambda)              (None, 1)            0           ['input_1[0][0]']                \n",
      "                                                                                                  \n",
      " lambda_6 (Lambda)              (None, 1)            0           ['input_1[0][0]']                \n",
      "                                                                                                  \n",
      " lambda_7 (Lambda)              (None, 1)            0           ['input_1[0][0]']                \n",
      "                                                                                                  \n",
      " embedding_6 (Embedding)        (None, 1, 5)         50          ['lambda[0][0]']                 \n",
      "                                                                                                  \n",
      " embedding_7 (Embedding)        (None, 1, 4)         32          ['lambda_1[0][0]']               \n",
      "                                                                                                  \n",
      " embedding_8 (Embedding)        (None, 1, 2)         10          ['lambda_2[0][0]']               \n",
      "                                                                                                  \n",
      " embedding_9 (Embedding)        (None, 1, 5)         50          ['lambda_3[0][0]']               \n",
      "                                                                                                  \n",
      " embedding_10 (Embedding)       (None, 1, 3)         21          ['lambda_4[0][0]']               \n",
      "                                                                                                  \n",
      " embedding_11 (Embedding)       (None, 1, 3)         18          ['lambda_5[0][0]']               \n",
      "                                                                                                  \n",
      " embedding_12 (Embedding)       (None, 1, 2)         6           ['lambda_6[0][0]']               \n",
      "                                                                                                  \n",
      " embedding_13 (Embedding)       (None, 1, 6)         72          ['lambda_7[0][0]']               \n",
      "                                                                                                  \n",
      " lambda_8 (Lambda)              (None, 4)            0           ['input_1[0][0]']                \n",
      "                                                                                                  \n",
      " flatten (Flatten)              (None, 5)            0           ['embedding_6[0][0]']            \n",
      "                                                                                                  \n",
      " flatten_1 (Flatten)            (None, 4)            0           ['embedding_7[0][0]']            \n",
      "                                                                                                  \n",
      " flatten_2 (Flatten)            (None, 2)            0           ['embedding_8[0][0]']            \n",
      "                                                                                                  \n",
      " flatten_3 (Flatten)            (None, 5)            0           ['embedding_9[0][0]']            \n",
      "                                                                                                  \n",
      " flatten_4 (Flatten)            (None, 3)            0           ['embedding_10[0][0]']           \n",
      "                                                                                                  \n",
      " flatten_5 (Flatten)            (None, 3)            0           ['embedding_11[0][0]']           \n",
      "                                                                                                  \n",
      " flatten_6 (Flatten)            (None, 2)            0           ['embedding_12[0][0]']           \n",
      "                                                                                                  \n",
      " flatten_7 (Flatten)            (None, 6)            0           ['embedding_13[0][0]']           \n",
      "                                                                                                  \n",
      " dense (Dense)                  (None, 16)           80          ['lambda_8[0][0]']               \n",
      "                                                                                                  \n",
      " concatenate (Concatenate)      (None, 46)           0           ['flatten[0][0]',                \n",
      "                                                                  'flatten_1[0][0]',              \n",
      "                                                                  'flatten_2[0][0]',              \n",
      "                                                                  'flatten_3[0][0]',              \n",
      "                                                                  'flatten_4[0][0]',              \n",
      "                                                                  'flatten_5[0][0]',              \n",
      "                                                                  'flatten_6[0][0]',              \n",
      "                                                                  'flatten_7[0][0]',              \n",
      "                                                                  'dense[0][0]']                  \n",
      "                                                                                                  \n",
      " dense_1 (Dense)                (None, 60)           2820        ['concatenate[0][0]']            \n",
      "                                                                                                  \n",
      " dropout (Dropout)              (None, 60)           0           ['dense_1[0][0]']                \n",
      "                                                                                                  \n",
      " dense_2 (Dense)                (None, 60)           3660        ['dropout[0][0]']                \n",
      "                                                                                                  \n",
      " dropout_1 (Dropout)            (None, 60)           0           ['dense_2[0][0]']                \n",
      "                                                                                                  \n",
      " dense_3 (Dense)                (None, 60)           3660        ['dropout_1[0][0]']              \n",
      "                                                                                                  \n",
      " dropout_2 (Dropout)            (None, 60)           0           ['dense_3[0][0]']                \n",
      "                                                                                                  \n",
      " dense_4 (Dense)                (None, 2)            122         ['dropout_2[0][0]']              \n",
      "                                                                                                  \n",
      "==================================================================================================\n",
      "Total params: 10,601\n",
      "Trainable params: 10,601\n",
      "Non-trainable params: 0\n"
     ]
    },
    {
     "name": "stdout",
     "output_type": "stream",
     "text": [
      "__________________________________________________________________________________________________\n"
     ]
    }
   ],
   "source": [
    "set_seed()\n",
    "nn = nn_ord()\n",
    "nn.summary()"
   ]
  },
  {
   "cell_type": "code",
   "execution_count": 24,
   "id": "ee580dd8",
   "metadata": {},
   "outputs": [
    {
     "name": "stdout",
     "output_type": "stream",
     "text": [
      "Train on 30000 samples\n",
      "Epoch 1/30\n",
      "30000/30000 [==============================] - 1s 32us/sample - loss: 0.4074 - acc: 0.8058\n",
      "Epoch 2/30\n",
      "30000/30000 [==============================] - 1s 25us/sample - loss: 0.3321 - acc: 0.8478\n",
      "Epoch 3/30\n",
      "30000/30000 [==============================] - 1s 28us/sample - loss: 0.3226 - acc: 0.8505\n",
      "Epoch 4/30\n",
      "30000/30000 [==============================] - 1s 27us/sample - loss: 0.3188 - acc: 0.8528\n",
      "Epoch 5/30\n",
      "30000/30000 [==============================] - 1s 25us/sample - loss: 0.3169 - acc: 0.8542\n",
      "Epoch 6/30\n",
      "30000/30000 [==============================] - 1s 26us/sample - loss: 0.3153 - acc: 0.8559\n",
      "Epoch 7/30\n",
      "30000/30000 [==============================] - 1s 27us/sample - loss: 0.3133 - acc: 0.8549\n",
      "Epoch 8/30\n",
      "30000/30000 [==============================] - 1s 29us/sample - loss: 0.3122 - acc: 0.8563\n",
      "Epoch 9/30\n",
      "30000/30000 [==============================] - 1s 26us/sample - loss: 0.3111 - acc: 0.8569\n",
      "Epoch 10/30\n",
      "30000/30000 [==============================] - 1s 28us/sample - loss: 0.3103 - acc: 0.8562\n",
      "Epoch 11/30\n",
      "30000/30000 [==============================] - 1s 28us/sample - loss: 0.3107 - acc: 0.8561\n",
      "Epoch 12/30\n",
      "30000/30000 [==============================] - 1s 25us/sample - loss: 0.3083 - acc: 0.8569\n",
      "Epoch 13/30\n",
      "30000/30000 [==============================] - 1s 30us/sample - loss: 0.3087 - acc: 0.8574\n",
      "Epoch 14/30\n",
      "30000/30000 [==============================] - 1s 25us/sample - loss: 0.3066 - acc: 0.8593\n",
      "Epoch 15/30\n",
      "30000/30000 [==============================] - 1s 22us/sample - loss: 0.3068 - acc: 0.8586\n",
      "Epoch 16/30\n",
      "30000/30000 [==============================] - 0s 16us/sample - loss: 0.3068 - acc: 0.8599\n",
      "Epoch 17/30\n",
      "30000/30000 [==============================] - 1s 19us/sample - loss: 0.3066 - acc: 0.8591\n",
      "Epoch 18/30\n",
      "30000/30000 [==============================] - 1s 26us/sample - loss: 0.3056 - acc: 0.8592\n",
      "Epoch 19/30\n",
      "30000/30000 [==============================] - 1s 25us/sample - loss: 0.3047 - acc: 0.8600\n",
      "Epoch 20/30\n",
      "30000/30000 [==============================] - 1s 28us/sample - loss: 0.3039 - acc: 0.8605\n",
      "Epoch 21/30\n",
      "30000/30000 [==============================] - 1s 30us/sample - loss: 0.3034 - acc: 0.8608\n",
      "Epoch 22/30\n",
      "30000/30000 [==============================] - 1s 27us/sample - loss: 0.3046 - acc: 0.8619\n",
      "Epoch 23/30\n",
      "30000/30000 [==============================] - 1s 26us/sample - loss: 0.3043 - acc: 0.8604\n",
      "Epoch 24/30\n",
      "30000/30000 [==============================] - 1s 26us/sample - loss: 0.3022 - acc: 0.8602\n",
      "Epoch 25/30\n",
      "30000/30000 [==============================] - 1s 28us/sample - loss: 0.3036 - acc: 0.8610\n",
      "Epoch 26/30\n",
      "30000/30000 [==============================] - 1s 28us/sample - loss: 0.3011 - acc: 0.8628\n",
      "Epoch 27/30\n",
      "30000/30000 [==============================] - 1s 28us/sample - loss: 0.3005 - acc: 0.8606\n",
      "Epoch 28/30\n",
      "30000/30000 [==============================] - 1s 29us/sample - loss: 0.3009 - acc: 0.8619\n",
      "Epoch 29/30\n",
      "30000/30000 [==============================] - 1s 26us/sample - loss: 0.3010 - acc: 0.8615\n",
      "Epoch 30/30\n",
      "30000/30000 [==============================] - 1s 26us/sample - loss: 0.2998 - acc: 0.8629\n"
     ]
    },
    {
     "data": {
      "text/plain": [
       "<keras.callbacks.History at 0x204c9120bb0>"
      ]
     },
     "execution_count": 24,
     "metadata": {},
     "output_type": "execute_result"
    }
   ],
   "source": [
    "nn.fit(X_train, to_categorical(y_train), batch_size=128, epochs=30, verbose=1)"
   ]
  },
  {
   "cell_type": "code",
   "execution_count": 15,
   "id": "16accbad",
   "metadata": {},
   "outputs": [
    {
     "name": "stdout",
     "output_type": "stream",
     "text": [
      "0.86021084\n"
     ]
    },
    {
     "name": "stderr",
     "output_type": "stream",
     "text": [
      "`Model.state_updates` will be removed in a future version. This property should not be used in TensorFlow 2.0, as `updates` are applied automatically.\n"
     ]
    }
   ],
   "source": [
    "score=nn.evaluate(X_test, to_categorical(y_test))\n",
    "print(score[1])"
   ]
  },
  {
   "cell_type": "code",
   "execution_count": 16,
   "id": "5e18c76d",
   "metadata": {},
   "outputs": [],
   "source": [
    "X = X_test[0].reshape((1,) + X_test[0].shape)"
   ]
  },
  {
   "cell_type": "code",
   "execution_count": 17,
   "id": "a10e3824",
   "metadata": {},
   "outputs": [],
   "source": [
    "shape = X.shape\n",
    "beta = .01\n",
    "c_init = 1.\n",
    "c_steps = 5\n",
    "max_iterations = 500\n",
    "rng = (-1., 1.) # scale features between -1 and 1\n",
    "rng_shape = (1,) + data.shape[1:]\n",
    "feature_range = ((np.ones(rng_shape) * rng[0]).astype(np.float32),\n",
    "(np.ones(rng_shape) * rng[1]).astype(np.float32))"
   ]
  },
  {
   "cell_type": "code",
   "execution_count": 18,
   "id": "6e090b7d",
   "metadata": {},
   "outputs": [],
   "source": [
    "set_seed()\n",
    "# define predict function\n",
    "predict_fn = lambda x: nn.predict(x)\n",
    "cf = CounterfactualProto(predict_fn,\n",
    "     shape,\n",
    "     beta=beta,\n",
    "     cat_vars=cat_vars_ord,\n",
    "     max_iterations=max_iterations,\n",
    "     feature_range=feature_range,\n",
    "     c_init=c_init,\n",
    "     c_steps=c_steps,\n",
    "     eps=(.01, .01) # perturbation size for numerical gradients\n",
    ")"
   ]
  },
  {
   "cell_type": "code",
   "execution_count": 19,
   "id": "3d0ac852",
   "metadata": {},
   "outputs": [],
   "source": [
    "cf.fit(X_train, d_type='abdm', disc_perc=[25, 50, 75]);"
   ]
  },
  {
   "cell_type": "code",
   "execution_count": 20,
   "id": "93775873",
   "metadata": {},
   "outputs": [],
   "source": [
    "set_seed()\n",
    "explanation = cf.explain(X)"
   ]
  },
  {
   "cell_type": "code",
   "execution_count": 21,
   "id": "35d9bfed",
   "metadata": {},
   "outputs": [],
   "source": [
    "def describe_instance(X, explanation, eps=1e-2):\n",
    "    print('Original instance: {} -- proba: {}'.format(target_names[explanation.orig_class],\n",
    "          explanation.orig_proba[0]))\n",
    "    print('Counterfactual instance: {} -- proba: {}'.format(target_names[explanation.cf['class']],\n",
    "           explanation.cf['proba'][0]))\n",
    "    print('\\nCounterfactual perturbations...')\n",
    "    print('\\nCategorical:')\n",
    "    X_orig_ord = X\n",
    "    X_cf_ord = explanation.cf['X']\n",
    "    delta_cat = {}\n",
    "    for i, (_, v) in enumerate(category_map.items()):\n",
    "        cat_orig = v[int(X_orig_ord[0, i])]\n",
    "        cat_cf = v[int(X_cf_ord[0, i])]\n",
    "        if cat_orig != cat_cf:\n",
    "            delta_cat[feature_names[i]] = [cat_orig, cat_cf]\n",
    "    if delta_cat:\n",
    "        for k, v in delta_cat.items():\n",
    "            print('{}: {} --> {}'.format(k, v[0], v[1]))\n",
    "    print('\\nNumerical:')\n",
    "    delta_num = X_cf_ord[0, -4:] - X_orig_ord[0, -4:]\n",
    "    n_keys = len(list(cat_vars_ord.keys()))\n",
    "    for i in range(delta_num.shape[0]):\n",
    "        if np.abs(delta_num[i]) > eps:\n",
    "            print('{}: {:.2f} --> {:.2f}'.format(feature_names[i+n_keys],\n",
    "                  X_orig_ord[0,i+n_keys],\n",
    "                X_cf_ord[0,i+n_keys]))"
   ]
  },
  {
   "cell_type": "code",
   "execution_count": 22,
   "id": "74c2bbb2",
   "metadata": {},
   "outputs": [
    {
     "name": "stdout",
     "output_type": "stream",
     "text": [
      "Original instance: <=50K -- proba: [0.8820062  0.11799379]\n",
      "Counterfactual instance: >50K -- proba: [0.49965528 0.5003447 ]\n",
      "\n",
      "Counterfactual perturbations...\n",
      "\n",
      "Categorical:\n",
      "\n",
      "Numerical:\n",
      "Capital Gain: -0.96 --> -0.83\n"
     ]
    }
   ],
   "source": [
    "describe_instance(X, explanation)"
   ]
  },
  {
   "cell_type": "code",
   "execution_count": null,
   "id": "f9223ed2",
   "metadata": {},
   "outputs": [],
   "source": []
  }
 ],
 "metadata": {
  "kernelspec": {
   "display_name": "Python 3 (ipykernel)",
   "language": "python",
   "name": "python3"
  },
  "language_info": {
   "codemirror_mode": {
    "name": "ipython",
    "version": 3
   },
   "file_extension": ".py",
   "mimetype": "text/x-python",
   "name": "python",
   "nbconvert_exporter": "python",
   "pygments_lexer": "ipython3",
   "version": "3.8.16"
  }
 },
 "nbformat": 4,
 "nbformat_minor": 5
}
