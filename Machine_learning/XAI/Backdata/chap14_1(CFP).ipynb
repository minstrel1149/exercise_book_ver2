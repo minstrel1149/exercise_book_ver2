{
 "cells": [
  {
   "cell_type": "code",
   "execution_count": 15,
   "id": "9a3f23a1",
   "metadata": {},
   "outputs": [],
   "source": [
    "import matplotlib.pyplot as plt\n",
    "tf.compat.v1.disable_v2_behavior()\n",
    "import tensorflow as tf\n",
    "from tensorflow.keras.layers import Dense, Input\n",
    "from tensorflow.keras.models import Model, load_model\n",
    "from tensorflow.keras.utils import to_categorical\n",
    "\n",
    "import os\n",
    "import numpy as np\n",
    "import pandas as pd\n",
    "from sklearn.datasets import fetch_california_housing\n",
    "from sklearn.model_selection import train_test_split\n",
    "from alibi.explainers import CounterfactualProto"
   ]
  },
  {
   "cell_type": "code",
   "execution_count": 16,
   "id": "70ee1391",
   "metadata": {},
   "outputs": [],
   "source": [
    "california = fetch_california_housing(as_frame=True)\n",
    "X = california.data.to_numpy()\n",
    "target = california.target.to_numpy()\n",
    "feature_names = california.feature_names"
   ]
  },
  {
   "cell_type": "code",
   "execution_count": 17,
   "id": "ea250f69",
   "metadata": {},
   "outputs": [
    {
     "data": {
      "text/html": [
       "<div>\n",
       "<style scoped>\n",
       "    .dataframe tbody tr th:only-of-type {\n",
       "        vertical-align: middle;\n",
       "    }\n",
       "\n",
       "    .dataframe tbody tr th {\n",
       "        vertical-align: top;\n",
       "    }\n",
       "\n",
       "    .dataframe thead th {\n",
       "        text-align: right;\n",
       "    }\n",
       "</style>\n",
       "<table border=\"1\" class=\"dataframe\">\n",
       "  <thead>\n",
       "    <tr style=\"text-align: right;\">\n",
       "      <th></th>\n",
       "      <th>MedInc</th>\n",
       "      <th>HouseAge</th>\n",
       "      <th>AveRooms</th>\n",
       "      <th>AveBedrms</th>\n",
       "      <th>Population</th>\n",
       "      <th>AveOccup</th>\n",
       "      <th>Latitude</th>\n",
       "      <th>Longitude</th>\n",
       "    </tr>\n",
       "  </thead>\n",
       "  <tbody>\n",
       "    <tr>\n",
       "      <th>0</th>\n",
       "      <td>8.3252</td>\n",
       "      <td>41.0</td>\n",
       "      <td>6.984127</td>\n",
       "      <td>1.023810</td>\n",
       "      <td>322.0</td>\n",
       "      <td>2.555556</td>\n",
       "      <td>37.88</td>\n",
       "      <td>-122.23</td>\n",
       "    </tr>\n",
       "    <tr>\n",
       "      <th>1</th>\n",
       "      <td>8.3014</td>\n",
       "      <td>21.0</td>\n",
       "      <td>6.238137</td>\n",
       "      <td>0.971880</td>\n",
       "      <td>2401.0</td>\n",
       "      <td>2.109842</td>\n",
       "      <td>37.86</td>\n",
       "      <td>-122.22</td>\n",
       "    </tr>\n",
       "    <tr>\n",
       "      <th>2</th>\n",
       "      <td>7.2574</td>\n",
       "      <td>52.0</td>\n",
       "      <td>8.288136</td>\n",
       "      <td>1.073446</td>\n",
       "      <td>496.0</td>\n",
       "      <td>2.802260</td>\n",
       "      <td>37.85</td>\n",
       "      <td>-122.24</td>\n",
       "    </tr>\n",
       "    <tr>\n",
       "      <th>3</th>\n",
       "      <td>5.6431</td>\n",
       "      <td>52.0</td>\n",
       "      <td>5.817352</td>\n",
       "      <td>1.073059</td>\n",
       "      <td>558.0</td>\n",
       "      <td>2.547945</td>\n",
       "      <td>37.85</td>\n",
       "      <td>-122.25</td>\n",
       "    </tr>\n",
       "    <tr>\n",
       "      <th>4</th>\n",
       "      <td>3.8462</td>\n",
       "      <td>52.0</td>\n",
       "      <td>6.281853</td>\n",
       "      <td>1.081081</td>\n",
       "      <td>565.0</td>\n",
       "      <td>2.181467</td>\n",
       "      <td>37.85</td>\n",
       "      <td>-122.25</td>\n",
       "    </tr>\n",
       "  </tbody>\n",
       "</table>\n",
       "</div>"
      ],
      "text/plain": [
       "   MedInc  HouseAge  AveRooms  AveBedrms  Population  AveOccup  Latitude  \\\n",
       "0  8.3252      41.0  6.984127   1.023810       322.0  2.555556     37.88   \n",
       "1  8.3014      21.0  6.238137   0.971880      2401.0  2.109842     37.86   \n",
       "2  7.2574      52.0  8.288136   1.073446       496.0  2.802260     37.85   \n",
       "3  5.6431      52.0  5.817352   1.073059       558.0  2.547945     37.85   \n",
       "4  3.8462      52.0  6.281853   1.081081       565.0  2.181467     37.85   \n",
       "\n",
       "   Longitude  \n",
       "0    -122.23  \n",
       "1    -122.22  \n",
       "2    -122.24  \n",
       "3    -122.25  \n",
       "4    -122.25  "
      ]
     },
     "execution_count": 17,
     "metadata": {},
     "output_type": "execute_result"
    }
   ],
   "source": [
    "california.data.head()"
   ]
  },
  {
   "cell_type": "code",
   "execution_count": 18,
   "id": "8b972cf0",
   "metadata": {},
   "outputs": [],
   "source": [
    "y = np.zeros((target.shape[0],))\n",
    "y[np.where(target > np.median(target))[0]] = 1"
   ]
  },
  {
   "cell_type": "code",
   "execution_count": 19,
   "id": "cc6f3cd8",
   "metadata": {},
   "outputs": [],
   "source": [
    "mu = X.mean(axis=0)\n",
    "sigma = X.std(axis=0)\n",
    "X = (X - mu) / sigma"
   ]
  },
  {
   "cell_type": "code",
   "execution_count": 20,
   "id": "9bb17ce7",
   "metadata": {},
   "outputs": [],
   "source": [
    "X_train, X_test, y_train, y_test = train_test_split(X, y, test_size=0.2, random_state=42)\n",
    "y_train = to_categorical(y_train)\n",
    "y_test = to_categorical(y_test)"
   ]
  },
  {
   "cell_type": "code",
   "execution_count": 21,
   "id": "f1d40d24",
   "metadata": {},
   "outputs": [],
   "source": [
    "np.random.seed(42)\n",
    "tf.random.set_seed(42)"
   ]
  },
  {
   "cell_type": "code",
   "execution_count": 22,
   "id": "4d083df5",
   "metadata": {},
   "outputs": [],
   "source": [
    "def nn_model():\n",
    "    x_in = Input(shape=(8,))\n",
    "    x = Dense(40, activation='relu')(x_in)\n",
    "    x = Dense(40, activation='relu')(x)\n",
    "    x_out = Dense(2, activation='softmax')(x)\n",
    "    nn = Model(inputs=x_in, outputs=x_out)\n",
    "    nn.compile(loss='categorical_crossentropy', optimizer='sgd', metrics=['accuracy'])\n",
    "    return nn"
   ]
  },
  {
   "cell_type": "code",
   "execution_count": 23,
   "id": "06311a87",
   "metadata": {},
   "outputs": [
    {
     "name": "stdout",
     "output_type": "stream",
     "text": [
      "Model: \"model_1\"\n",
      "_________________________________________________________________\n",
      " Layer (type)                Output Shape              Param #   \n",
      "=================================================================\n",
      " input_1 (InputLayer)        [(None, 8)]               0         \n",
      "                                                                 \n",
      " dense_3 (Dense)             (None, 40)                360       \n",
      "                                                                 \n",
      " dense_4 (Dense)             (None, 40)                1640      \n",
      "                                                                 \n",
      " dense_5 (Dense)             (None, 2)                 82        \n",
      "                                                                 \n",
      "=================================================================\n",
      "Total params: 2,082\n",
      "Trainable params: 2,082\n",
      "Non-trainable params: 0\n",
      "_________________________________________________________________\n",
      "Train on 16512 samples\n",
      "Epoch 1/30\n",
      "16512/16512 [==============================] - 0s 15us/sample - loss: 0.6445 - acc: 0.6779\n",
      "Epoch 2/30\n",
      "16512/16512 [==============================] - 0s 8us/sample - loss: 0.5313 - acc: 0.7659\n",
      "Epoch 3/30\n",
      "16512/16512 [==============================] - 0s 8us/sample - loss: 0.4691 - acc: 0.7843\n",
      "Epoch 4/30\n",
      "16512/16512 [==============================] - 0s 8us/sample - loss: 0.4345 - acc: 0.8002\n",
      "Epoch 5/30\n",
      "16512/16512 [==============================] - 0s 8us/sample - loss: 0.4126 - acc: 0.8074\n",
      "Epoch 6/30\n",
      "16512/16512 [==============================] - 0s 8us/sample - loss: 0.3978 - acc: 0.8157\n",
      "Epoch 7/30\n",
      "16512/16512 [==============================] - 0s 10us/sample - loss: 0.3876 - acc: 0.8218\n",
      "Epoch 8/30\n",
      "16512/16512 [==============================] - 0s 10us/sample - loss: 0.3811 - acc: 0.8265\n",
      "Epoch 9/30\n",
      "16512/16512 [==============================] - 0s 12us/sample - loss: 0.3767 - acc: 0.8293\n",
      "Epoch 10/30\n",
      "16512/16512 [==============================] - 0s 12us/sample - loss: 0.3730 - acc: 0.8316\n",
      "Epoch 11/30\n",
      "16512/16512 [==============================] - 0s 15us/sample - loss: 0.3706 - acc: 0.8337\n",
      "Epoch 12/30\n",
      "16512/16512 [==============================] - 0s 15us/sample - loss: 0.3683 - acc: 0.8322\n",
      "Epoch 13/30\n",
      "16512/16512 [==============================] - 0s 10us/sample - loss: 0.3659 - acc: 0.8334\n",
      "Epoch 14/30\n",
      "16512/16512 [==============================] - 0s 9us/sample - loss: 0.3643 - acc: 0.8352\n",
      "Epoch 15/30\n",
      "16512/16512 [==============================] - 0s 10us/sample - loss: 0.3627 - acc: 0.8348\n",
      "Epoch 16/30\n",
      "16512/16512 [==============================] - 0s 9us/sample - loss: 0.3604 - acc: 0.8369\n",
      "Epoch 17/30\n",
      "16512/16512 [==============================] - 0s 8us/sample - loss: 0.3592 - acc: 0.8387\n",
      "Epoch 18/30\n",
      "16512/16512 [==============================] - 0s 9us/sample - loss: 0.3575 - acc: 0.8385\n",
      "Epoch 19/30\n",
      "16512/16512 [==============================] - 0s 9us/sample - loss: 0.3557 - acc: 0.8388\n",
      "Epoch 20/30\n",
      "16512/16512 [==============================] - 0s 9us/sample - loss: 0.3538 - acc: 0.8408\n",
      "Epoch 21/30\n",
      "16512/16512 [==============================] - 0s 12us/sample - loss: 0.3522 - acc: 0.8416\n",
      "Epoch 22/30\n",
      "16512/16512 [==============================] - 0s 12us/sample - loss: 0.3502 - acc: 0.8418\n",
      "Epoch 23/30\n",
      "16512/16512 [==============================] - 0s 10us/sample - loss: 0.3483 - acc: 0.8431\n",
      "Epoch 24/30\n",
      "16512/16512 [==============================] - 0s 9us/sample - loss: 0.3467 - acc: 0.8437\n",
      "Epoch 25/30\n",
      "16512/16512 [==============================] - 0s 9us/sample - loss: 0.3449 - acc: 0.8436\n",
      "Epoch 26/30\n",
      "16512/16512 [==============================] - 0s 8us/sample - loss: 0.3432 - acc: 0.8453\n",
      "Epoch 27/30\n",
      "16512/16512 [==============================] - 0s 8us/sample - loss: 0.3415 - acc: 0.8462\n",
      "Epoch 28/30\n",
      "16512/16512 [==============================] - 0s 9us/sample - loss: 0.3399 - acc: 0.8480\n",
      "Epoch 29/30\n",
      "16512/16512 [==============================] - 0s 9us/sample - loss: 0.3383 - acc: 0.8480\n",
      "Epoch 30/30\n",
      "16512/16512 [==============================] - 0s 9us/sample - loss: 0.3375 - acc: 0.8494\n"
     ]
    }
   ],
   "source": [
    "nn = nn_model()\n",
    "nn.summary()\n",
    "nn.fit(X_train, y_train, batch_size=64, epochs=30, verbose=1)\n",
    "nn.save('nn_california.h5', save_format='h5')"
   ]
  },
  {
   "cell_type": "code",
   "execution_count": 25,
   "id": "0101b162",
   "metadata": {},
   "outputs": [
    {
     "name": "stdout",
     "output_type": "stream",
     "text": [
      "Test accuracy:  0.8498062\n"
     ]
    }
   ],
   "source": [
    "nn = load_model('nn_california.h5')\n",
    "score = nn.evaluate(X_test, y_test, verbose=0)\n",
    "print('Test accuracy: ', score[1])"
   ]
  },
  {
   "cell_type": "code",
   "execution_count": 26,
   "id": "62f1b6e0",
   "metadata": {},
   "outputs": [],
   "source": [
    "X = X_test[1].reshape((1,) + X_test[1].shape)\n",
    "shape = X.shape"
   ]
  },
  {
   "cell_type": "code",
   "execution_count": 13,
   "id": "e4062c60",
   "metadata": {},
   "outputs": [
    {
     "name": "stdout",
     "output_type": "stream",
     "text": [
      "WARNING:tensorflow:From C:\\Users\\user\\anaconda3\\lib\\site-packages\\alibi\\explainers\\cfproto.py:123: The name tf.keras.backend.get_session is deprecated. Please use tf.compat.v1.keras.backend.get_session instead.\n",
      "\n"
     ]
    },
    {
     "name": "stderr",
     "output_type": "stream",
     "text": [
      "`Model.state_updates` will be removed in a future version. This property should not be used in TensorFlow 2.0, as `updates` are applied automatically.\n",
      "No encoder specified. Using k-d trees to represent class prototypes.\n"
     ]
    },
    {
     "data": {
      "text/plain": [
       "CounterfactualProto(meta={\n",
       "  'name': 'CounterfactualProto',\n",
       "  'type': ['blackbox', 'tensorflow', 'keras'],\n",
       "  'explanations': ['local'],\n",
       "  'params': {\n",
       "              'kappa': 0.0,\n",
       "              'beta': 0.1,\n",
       "              'gamma': 0.0,\n",
       "              'theta': 10.0,\n",
       "              'cat_vars': None,\n",
       "              'ohe': False,\n",
       "              'use_kdtree': True,\n",
       "              'learning_rate_init': 0.01,\n",
       "              'max_iterations': 1000,\n",
       "              'c_init': 1.0,\n",
       "              'c_steps': 10,\n",
       "              'eps': (0.001, 0.001),\n",
       "              'clip': (-1000.0, 1000.0),\n",
       "              'update_num_grad': 1,\n",
       "              'write_dir': None,\n",
       "              'feature_range': (array([-1.77429947, -2.19618048, -1.83504572, -1.61076772, -1.25612255,\n",
       "       -0.22899997, -1.44288613, -2.38599234]), array([  5.85828581,   1.85618152,  55.16323628,  51.78248741,\n",
       "        30.25033022, 119.41910319,   2.95806762,   2.62528006])),\n",
       "              'shape': (1, 8),\n",
       "              'is_model': True,\n",
       "              'is_ae': False,\n",
       "              'is_enc': False,\n",
       "              'enc_or_kdtree': True,\n",
       "              'is_cat': False,\n",
       "              'trustscore_kwargs': None,\n",
       "              'd_type': 'abdm',\n",
       "              'w': None,\n",
       "              'disc_perc': (25, 50, 75),\n",
       "              'standardize_cat_vars': False,\n",
       "              'smooth': 1.0,\n",
       "              'center': True,\n",
       "              'update_feature_range': True}\n",
       "            ,\n",
       "  'version': '0.9.0'}\n",
       ")"
      ]
     },
     "execution_count": 13,
     "metadata": {},
     "output_type": "execute_result"
    }
   ],
   "source": [
    "nn = load_model('nn_california.h5')\n",
    "\n",
    "cf = CounterfactualProto(nn, shape, use_kdtree=True, theta=10., max_iterations=1000,\n",
    "                         feature_range=(X_train.min(axis=0), X_train.max(axis=0)), \n",
    "                         c_init=1., c_steps=10)\n",
    "\n",
    "cf.fit(X_train)"
   ]
  },
  {
   "cell_type": "code",
   "execution_count": 14,
   "id": "6ffce9c0",
   "metadata": {},
   "outputs": [
    {
     "name": "stdout",
     "output_type": "stream",
     "text": [
      "dict_keys(['cf', 'all', 'orig_class', 'orig_proba', 'id_proto'])\n"
     ]
    }
   ],
   "source": [
    "# generate a counterfactual\n",
    "explanation = cf.explain(X)\n",
    "print(explanation.data.keys())"
   ]
  },
  {
   "cell_type": "code",
   "execution_count": 28,
   "id": "8558cfac",
   "metadata": {},
   "outputs": [
    {
     "name": "stdout",
     "output_type": "stream",
     "text": [
      "Original prediction: 0\n",
      "Counterfactual prediction: 1\n"
     ]
    }
   ],
   "source": [
    "print(f'Original prediction: {explanation.orig_class}')\n",
    "print(f'Counterfactual prediction: {explanation.cf[\"class\"]}')"
   ]
  },
  {
   "cell_type": "code",
   "execution_count": 32,
   "id": "02de53ed",
   "metadata": {},
   "outputs": [
    {
     "name": "stdout",
     "output_type": "stream",
     "text": [
      "[[-4.48098820e-08  3.79467160e-08 -1.79144086e-08  2.23376229e-09\n",
      "   3.66006270e-06  7.68842279e-09 -1.91754168e-10 -1.19414201e-01]]\n",
      "Longitude: -0.11941420102439793\n"
     ]
    }
   ],
   "source": [
    "orig = X * sigma + mu\n",
    "counterfactual = explanation.cf['X'] * sigma + mu\n",
    "delta = counterfactual - orig\n",
    "print(delta)\n",
    "for i, f in enumerate(feature_names):\n",
    "    if np.abs(delta[0][i]) > 1e-2:\n",
    "        print(f'{f}: {delta[0][i]}')#남쪽으로"
   ]
  },
  {
   "cell_type": "code",
   "execution_count": 33,
   "id": "77d98d49",
   "metadata": {},
   "outputs": [
    {
     "data": {
      "text/html": [
       "<div>\n",
       "<style scoped>\n",
       "    .dataframe tbody tr th:only-of-type {\n",
       "        vertical-align: middle;\n",
       "    }\n",
       "\n",
       "    .dataframe tbody tr th {\n",
       "        vertical-align: top;\n",
       "    }\n",
       "\n",
       "    .dataframe thead th {\n",
       "        text-align: right;\n",
       "    }\n",
       "</style>\n",
       "<table border=\"1\" class=\"dataframe\">\n",
       "  <thead>\n",
       "    <tr style=\"text-align: right;\">\n",
       "      <th></th>\n",
       "      <th>MedInc</th>\n",
       "      <th>HouseAge</th>\n",
       "      <th>AveRooms</th>\n",
       "      <th>AveBedrms</th>\n",
       "      <th>Population</th>\n",
       "      <th>AveOccup</th>\n",
       "      <th>Latitude</th>\n",
       "      <th>Longitude</th>\n",
       "    </tr>\n",
       "  </thead>\n",
       "  <tbody>\n",
       "    <tr>\n",
       "      <th>0</th>\n",
       "      <td>2.5313</td>\n",
       "      <td>30.0</td>\n",
       "      <td>5.039384</td>\n",
       "      <td>1.193493</td>\n",
       "      <td>1565.0</td>\n",
       "      <td>2.679795</td>\n",
       "      <td>35.14</td>\n",
       "      <td>-119.46</td>\n",
       "    </tr>\n",
       "  </tbody>\n",
       "</table>\n",
       "</div>"
      ],
      "text/plain": [
       "   MedInc  HouseAge  AveRooms  AveBedrms  Population  AveOccup  Latitude  \\\n",
       "0  2.5313      30.0  5.039384   1.193493      1565.0  2.679795     35.14   \n",
       "\n",
       "   Longitude  \n",
       "0    -119.46  "
      ]
     },
     "execution_count": 33,
     "metadata": {},
     "output_type": "execute_result"
    }
   ],
   "source": [
    "pd.DataFrame(orig, columns=feature_names)"
   ]
  },
  {
   "cell_type": "code",
   "execution_count": 34,
   "id": "e4c248b4",
   "metadata": {},
   "outputs": [
    {
     "data": {
      "text/html": [
       "<div>\n",
       "<style scoped>\n",
       "    .dataframe tbody tr th:only-of-type {\n",
       "        vertical-align: middle;\n",
       "    }\n",
       "\n",
       "    .dataframe tbody tr th {\n",
       "        vertical-align: top;\n",
       "    }\n",
       "\n",
       "    .dataframe thead th {\n",
       "        text-align: right;\n",
       "    }\n",
       "</style>\n",
       "<table border=\"1\" class=\"dataframe\">\n",
       "  <thead>\n",
       "    <tr style=\"text-align: right;\">\n",
       "      <th></th>\n",
       "      <th>MedInc</th>\n",
       "      <th>HouseAge</th>\n",
       "      <th>AveRooms</th>\n",
       "      <th>AveBedrms</th>\n",
       "      <th>Population</th>\n",
       "      <th>AveOccup</th>\n",
       "      <th>Latitude</th>\n",
       "      <th>Longitude</th>\n",
       "    </tr>\n",
       "  </thead>\n",
       "  <tbody>\n",
       "    <tr>\n",
       "      <th>0</th>\n",
       "      <td>2.5313</td>\n",
       "      <td>30.0</td>\n",
       "      <td>5.039384</td>\n",
       "      <td>1.193493</td>\n",
       "      <td>1565.000004</td>\n",
       "      <td>2.679795</td>\n",
       "      <td>35.14</td>\n",
       "      <td>-119.579414</td>\n",
       "    </tr>\n",
       "  </tbody>\n",
       "</table>\n",
       "</div>"
      ],
      "text/plain": [
       "   MedInc  HouseAge  AveRooms  AveBedrms   Population  AveOccup  Latitude  \\\n",
       "0  2.5313      30.0  5.039384   1.193493  1565.000004  2.679795     35.14   \n",
       "\n",
       "    Longitude  \n",
       "0 -119.579414  "
      ]
     },
     "execution_count": 34,
     "metadata": {},
     "output_type": "execute_result"
    }
   ],
   "source": [
    "pd.DataFrame(counterfactual, columns=feature_names)"
   ]
  },
  {
   "cell_type": "code",
   "execution_count": 35,
   "id": "8482d63d",
   "metadata": {},
   "outputs": [],
   "source": [
    "os.remove('nn_california.h5')"
   ]
  },
  {
   "cell_type": "code",
   "execution_count": null,
   "id": "f007c28f",
   "metadata": {},
   "outputs": [],
   "source": []
  }
 ],
 "metadata": {
  "kernelspec": {
   "display_name": "Python 3 (ipykernel)",
   "language": "python",
   "name": "python3"
  },
  "language_info": {
   "codemirror_mode": {
    "name": "ipython",
    "version": 3
   },
   "file_extension": ".py",
   "mimetype": "text/x-python",
   "name": "python",
   "nbconvert_exporter": "python",
   "pygments_lexer": "ipython3",
   "version": "3.8.16"
  }
 },
 "nbformat": 4,
 "nbformat_minor": 5
}
