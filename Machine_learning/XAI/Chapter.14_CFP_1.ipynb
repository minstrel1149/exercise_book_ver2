{
 "cells": [
  {
   "cell_type": "code",
   "execution_count": 1,
   "id": "3d822516",
   "metadata": {},
   "outputs": [
    {
     "name": "stdout",
     "output_type": "stream",
     "text": [
      "WARNING:tensorflow:From c:\\Users\\admin\\anaconda3\\lib\\site-packages\\keras\\src\\losses.py:2976: The name tf.losses.sparse_softmax_cross_entropy is deprecated. Please use tf.compat.v1.losses.sparse_softmax_cross_entropy instead.\n",
      "\n",
      "WARNING:tensorflow:From C:\\Users\\admin\\AppData\\Local\\Temp\\ipykernel_276\\1920332539.py:4: The name tf.disable_eager_execution is deprecated. Please use tf.compat.v1.disable_eager_execution instead.\n",
      "\n"
     ]
    }
   ],
   "source": [
    "import warnings\n",
    "warnings.filterwarnings('ignore')\n",
    "import tensorflow as tf\n",
    "tf.compat.v1.disable_eager_execution()\n",
    "import numpy as np\n",
    "import pandas as pd\n",
    "import shap\n",
    "from xgboost import XGBClassifier\n",
    "from sklearn.model_selection import train_test_split\n",
    "from sklearn.datasets import load_iris, load_breast_cancer, fetch_california_housing\n",
    "from alibi.explainers import Counterfactual, CounterfactualProto"
   ]
  },
  {
   "cell_type": "code",
   "execution_count": 2,
   "id": "5bc41288",
   "metadata": {},
   "outputs": [
    {
     "data": {
      "text/plain": [
       "((20640, 8), (20640,))"
      ]
     },
     "execution_count": 2,
     "metadata": {},
     "output_type": "execute_result"
    }
   ],
   "source": [
    "tf.compat.v1.reset_default_graph()\n",
    "\n",
    "cali = fetch_california_housing(as_frame=True)\n",
    "X = cali['data'].values\n",
    "target = cali['target'].values\n",
    "y = np.zeros((target.shape[0]))\n",
    "y[np.where(target > np.median(target))[0]] = 1\n",
    "feature_names = cali['feature_names']\n",
    "X.shape, y.shape"
   ]
  },
  {
   "cell_type": "code",
   "execution_count": 3,
   "id": "9b1a5013",
   "metadata": {},
   "outputs": [
    {
     "data": {
      "text/plain": [
       "((16512, 8), (4128, 8), (16512,), (4128,))"
      ]
     },
     "execution_count": 3,
     "metadata": {},
     "output_type": "execute_result"
    }
   ],
   "source": [
    "X_train, X_test, y_train, y_test = train_test_split(X, y, stratify=y, test_size=0.2, random_state=0)\n",
    "X_train.shape, X_test.shape, y_train.shape, y_test.shape"
   ]
  },
  {
   "cell_type": "code",
   "execution_count": 4,
   "id": "17253f7f",
   "metadata": {},
   "outputs": [
    {
     "data": {
      "text/plain": [
       "(0.9464631782945736, 0.903343023255814)"
      ]
     },
     "execution_count": 4,
     "metadata": {},
     "output_type": "execute_result"
    }
   ],
   "source": [
    "model = XGBClassifier(n_estimators=1000, learning_rate=0.1, max_depth=3, reg_alpha=1)\n",
    "model.fit(X_train, y_train)\n",
    "model.score(X_train, y_train), model.score(X_test, y_test)"
   ]
  },
  {
   "cell_type": "code",
   "execution_count": 5,
   "id": "5a2eec9f",
   "metadata": {},
   "outputs": [
    {
     "name": "stdout",
     "output_type": "stream",
     "text": [
      "WARNING:tensorflow:From c:\\Users\\admin\\anaconda3\\lib\\site-packages\\keras\\src\\backend.py:731: The name tf.get_default_session is deprecated. Please use tf.compat.v1.get_default_session instead.\n",
      "\n",
      "WARNING:tensorflow:From c:\\Users\\admin\\anaconda3\\lib\\site-packages\\alibi\\explainers\\cfproto.py:628: The name tf.train.polynomial_decay is deprecated. Please use tf.compat.v1.train.polynomial_decay instead.\n",
      "\n"
     ]
    },
    {
     "name": "stderr",
     "output_type": "stream",
     "text": [
      "No encoder specified. Using k-d trees to represent class prototypes.\n"
     ]
    },
    {
     "data": {
      "text/plain": [
       "CounterfactualProto(meta={\n",
       "  'name': 'CounterfactualProto',\n",
       "  'type': ['blackbox', 'tensorflow', 'keras'],\n",
       "  'explanations': ['local'],\n",
       "  'params': {\n",
       "              'kappa': 0.0,\n",
       "              'beta': 0.1,\n",
       "              'gamma': 0.0,\n",
       "              'theta': 1,\n",
       "              'cat_vars': None,\n",
       "              'ohe': False,\n",
       "              'use_kdtree': True,\n",
       "              'learning_rate_init': 0.01,\n",
       "              'max_iterations': 1000,\n",
       "              'c_init': 1,\n",
       "              'c_steps': 10,\n",
       "              'eps': (0.001, 0.001),\n",
       "              'clip': (-1000.0, 1000.0),\n",
       "              'update_num_grad': 1,\n",
       "              'write_dir': None,\n",
       "              'feature_range': (array([   0.4999    ,    1.        ,    0.88888889,    0.33333333,\n",
       "          3.        ,    0.69230769,   32.54      , -124.35      ]), array([ 1.50001000e+01,  5.20000000e+01,  1.41909091e+02,  3.40666667e+01,\n",
       "        3.56820000e+04,  1.24333333e+03,  4.19500000e+01, -1.14310000e+02])),\n",
       "              'shape': (1, 8),\n",
       "              'is_model': False,\n",
       "              'is_ae': False,\n",
       "              'is_enc': False,\n",
       "              'enc_or_kdtree': True,\n",
       "              'is_cat': False,\n",
       "              'trustscore_kwargs': None,\n",
       "              'd_type': 'abdm',\n",
       "              'w': None,\n",
       "              'disc_perc': (25, 50, 75),\n",
       "              'standardize_cat_vars': False,\n",
       "              'smooth': 1.0,\n",
       "              'center': True,\n",
       "              'update_feature_range': True}\n",
       "            ,\n",
       "  'version': '0.9.6'}\n",
       ")"
      ]
     },
     "execution_count": 5,
     "metadata": {},
     "output_type": "execute_result"
    }
   ],
   "source": [
    "cf = CounterfactualProto(model.predict_proba, shape=(1, X_test.shape[1]), use_kdtree=True, feature_range=(X_train.min(axis=0), X_train.max(axis=0)),\n",
    "                         c_init=1, c_steps=10, theta=1)\n",
    "cf.fit(X_train)"
   ]
  },
  {
   "cell_type": "code",
   "execution_count": 6,
   "id": "27065ae7",
   "metadata": {},
   "outputs": [
    {
     "data": {
      "text/plain": [
       "(array([[   1.475     ,   45.        ,    3.30656934,    1.06569343,\n",
       "          749.        ,    5.46715328,   37.88      , -122.3       ]]),\n",
       " 0,\n",
       " array([1]))"
      ]
     },
     "execution_count": 6,
     "metadata": {},
     "output_type": "execute_result"
    }
   ],
   "source": [
    "instance_to_explain = X_test[[0]]\n",
    "original_prediction_idx = model.predict(instance_to_explain)[0]\n",
    "target_prediction_as_array = 1 - model.predict(X_test[[0]])\n",
    "instance_to_explain, original_prediction_idx, target_prediction_as_array"
   ]
  },
  {
   "cell_type": "code",
   "execution_count": 7,
   "id": "ca57665c",
   "metadata": {},
   "outputs": [
    {
     "name": "stderr",
     "output_type": "stream",
     "text": [
      "No counterfactual found!\n"
     ]
    },
    {
     "data": {
      "text/plain": [
       "Explanation(meta={\n",
       "  'name': 'CounterfactualProto',\n",
       "  'type': ['blackbox', 'tensorflow', 'keras'],\n",
       "  'explanations': ['local'],\n",
       "  'params': {\n",
       "              'kappa': 0.0,\n",
       "              'beta': 0.1,\n",
       "              'gamma': 0.0,\n",
       "              'theta': 1,\n",
       "              'cat_vars': None,\n",
       "              'ohe': False,\n",
       "              'use_kdtree': True,\n",
       "              'learning_rate_init': 0.01,\n",
       "              'max_iterations': 1000,\n",
       "              'c_init': 1,\n",
       "              'c_steps': 10,\n",
       "              'eps': (0.001, 0.001),\n",
       "              'clip': (-1000.0, 1000.0),\n",
       "              'update_num_grad': 1,\n",
       "              'write_dir': None,\n",
       "              'feature_range': (array([   0.4999    ,    1.        ,    0.88888889,    0.33333333,\n",
       "          3.        ,    0.69230769,   32.54      , -124.35      ]), array([ 1.50001000e+01,  5.20000000e+01,  1.41909091e+02,  3.40666667e+01,\n",
       "        3.56820000e+04,  1.24333333e+03,  4.19500000e+01, -1.14310000e+02])),\n",
       "              'shape': (1, 8),\n",
       "              'is_model': False,\n",
       "              'is_ae': False,\n",
       "              'is_enc': False,\n",
       "              'enc_or_kdtree': True,\n",
       "              'is_cat': False,\n",
       "              'trustscore_kwargs': None,\n",
       "              'd_type': 'abdm',\n",
       "              'w': None,\n",
       "              'disc_perc': (25, 50, 75),\n",
       "              'standardize_cat_vars': False,\n",
       "              'smooth': 1.0,\n",
       "              'center': True,\n",
       "              'update_feature_range': True}\n",
       "            ,\n",
       "  'version': '0.9.6'}\n",
       ", data={\n",
       "  'cf': None,\n",
       "  'all': [],\n",
       "  'orig_class': 0,\n",
       "  'orig_proba': array([[0.9072039 , 0.09279607]], dtype=float32),\n",
       "  'id_proto': 1}\n",
       ")"
      ]
     },
     "execution_count": 7,
     "metadata": {},
     "output_type": "execute_result"
    }
   ],
   "source": [
    "explanation = cf.explain(instance_to_explain, target_class=target_prediction_as_array)\n",
    "explanation"
   ]
  },
  {
   "cell_type": "code",
   "execution_count": 8,
   "id": "ab71b0a0",
   "metadata": {},
   "outputs": [
    {
     "data": {
      "text/plain": [
       "dict_keys(['cf', 'all', 'orig_class', 'orig_proba', 'id_proto'])"
      ]
     },
     "execution_count": 8,
     "metadata": {},
     "output_type": "execute_result"
    }
   ],
   "source": [
    "explanation.data.keys()"
   ]
  },
  {
   "cell_type": "code",
   "execution_count": 9,
   "id": "8b3bfe7e",
   "metadata": {},
   "outputs": [
    {
     "name": "stdout",
     "output_type": "stream",
     "text": [
      "None\n"
     ]
    }
   ],
   "source": [
    "print(explanation.cf)"
   ]
  },
  {
   "cell_type": "code",
   "execution_count": 10,
   "id": "82cf48ed",
   "metadata": {},
   "outputs": [
    {
     "name": "stderr",
     "output_type": "stream",
     "text": [
      "No counterfactual found!\n"
     ]
    },
    {
     "name": "stdout",
     "output_type": "stream",
     "text": [
      "X_Test0: No counterfactual found!\n"
     ]
    },
    {
     "name": "stderr",
     "output_type": "stream",
     "text": [
      "No counterfactual found!\n"
     ]
    },
    {
     "name": "stdout",
     "output_type": "stream",
     "text": [
      "X_Test1: No counterfactual found!\n"
     ]
    },
    {
     "name": "stderr",
     "output_type": "stream",
     "text": [
      "No counterfactual found!\n"
     ]
    },
    {
     "name": "stdout",
     "output_type": "stream",
     "text": [
      "X_Test2: No counterfactual found!\n"
     ]
    },
    {
     "name": "stderr",
     "output_type": "stream",
     "text": [
      "No counterfactual found!\n"
     ]
    },
    {
     "name": "stdout",
     "output_type": "stream",
     "text": [
      "X_Test3: No counterfactual found!\n"
     ]
    },
    {
     "name": "stderr",
     "output_type": "stream",
     "text": [
      "No counterfactual found!\n"
     ]
    },
    {
     "name": "stdout",
     "output_type": "stream",
     "text": [
      "X_Test4: No counterfactual found!\n"
     ]
    },
    {
     "name": "stderr",
     "output_type": "stream",
     "text": [
      "No counterfactual found!\n"
     ]
    },
    {
     "name": "stdout",
     "output_type": "stream",
     "text": [
      "X_Test5: No counterfactual found!\n",
      "X_Test6: [[ 0.    0.    0.   -0.    0.    0.   -0.01 -0.13]]\n"
     ]
    },
    {
     "name": "stderr",
     "output_type": "stream",
     "text": [
      "No counterfactual found!\n"
     ]
    },
    {
     "name": "stdout",
     "output_type": "stream",
     "text": [
      "X_Test7: No counterfactual found!\n"
     ]
    },
    {
     "name": "stderr",
     "output_type": "stream",
     "text": [
      "No counterfactual found!\n"
     ]
    },
    {
     "name": "stdout",
     "output_type": "stream",
     "text": [
      "X_Test8: No counterfactual found!\n"
     ]
    },
    {
     "name": "stderr",
     "output_type": "stream",
     "text": [
      "No counterfactual found!\n"
     ]
    },
    {
     "name": "stdout",
     "output_type": "stream",
     "text": [
      "X_Test9: No counterfactual found!\n"
     ]
    }
   ],
   "source": [
    "for i in range(0, 10):\n",
    "    instance_to_explain = X_test[[i]]\n",
    "    original_prediction_idx = model.predict(instance_to_explain)[0]\n",
    "    target_prediction_as_array = 1 - model.predict(X_test[[0]])\n",
    "    explanation = cf.explain(instance_to_explain, target_class=target_prediction_as_array)\n",
    "    if explanation.cf is None:\n",
    "        print(f'X_Test{i}: No counterfactual found!')\n",
    "    else:\n",
    "        print(f'X_Test{i}: {(explanation.cf[\"X\"] - instance_to_explain).round(2)}')"
   ]
  },
  {
   "cell_type": "code",
   "execution_count": 11,
   "id": "42900ee0",
   "metadata": {},
   "outputs": [
    {
     "name": "stdout",
     "output_type": "stream",
     "text": [
      "집값 중앙값: 1.80\n",
      "클래스 분포:\n",
      "MedHouseVal\n",
      "0    10323\n",
      "1    10317\n",
      "Name: count, dtype: int64\n",
      "==================================================\n",
      "설명 대상 샘플 인덱스: 2\n",
      "원본 데이터의 예측: Class 1 (High Price)\n",
      "==================================================\n",
      "카운터팩추얼을 탐색합니다...\n"
     ]
    },
    {
     "name": "stderr",
     "output_type": "stream",
     "text": [
      "No counterfactual found!\n"
     ]
    },
    {
     "name": "stdout",
     "output_type": "stream",
     "text": [
      "\n",
      "지정된 조건 내에서 카운터팩추얼을 찾지 못했습니다.\n",
      "-> 생성자의 max_iter 값을 높여서 다시 시도해보세요.\n"
     ]
    }
   ],
   "source": [
    "tf.compat.v1.reset_default_graph()\n",
    "\n",
    "# --- 1. 데이터 로드 및 분류 문제로 변환 ---\n",
    "housing = fetch_california_housing(as_frame=True)\n",
    "X = housing.data\n",
    "y_regr = housing.target # 원래의 연속형 타겟 (집값)\n",
    "\n",
    "# 타겟 변수를 중앙값 기준으로 0과 1로 변환\n",
    "median_price = y_regr.median()\n",
    "y_clf = (y_regr > median_price).astype(int)\n",
    "target_names = ['Low Price', 'High Price']\n",
    "\n",
    "print(f\"집값 중앙값: {median_price:.2f}\")\n",
    "print(f\"클래스 분포:\\n{y_clf.value_counts()}\")\n",
    "print(\"=\"*50)\n",
    "\n",
    "# 훈련/테스트 데이터 분리\n",
    "X_train, X_test, y_train, y_test = train_test_split(X, y_clf, test_size=0.2, random_state=42)\n",
    "\n",
    "# --- 2. XGBoost 분류 모델 학습 ---\n",
    "model = XGBClassifier(n_estimators=1000, learning_rate=0.1, max_depth=3, reg_alpha=1)\n",
    "model.fit(X_train, y_train)\n",
    "\n",
    "\n",
    "# --- 3. 설명할 인스턴스 선택 ---\n",
    "# 예시: 모델이 'High Price'(Class 1)로 예측한 데이터 중 하나를 찾습니다.\n",
    "high_price_indices = np.where(model.predict(X_test) == 1)[0]\n",
    "if len(high_price_indices) == 0:\n",
    "    raise ValueError(\"테스트 데이터에서 'High Price'로 예측된 샘플이 없습니다.\")\n",
    "    \n",
    "instance_index = high_price_indices[0]\n",
    "instance_to_explain = X_test.iloc[[instance_index]]\n",
    "original_prediction_idx = model.predict(instance_to_explain)[0]\n",
    "\n",
    "print(f\"설명 대상 샘플 인덱스: {instance_index}\")\n",
    "print(f\"원본 데이터의 예측: Class {original_prediction_idx} ({target_names[original_prediction_idx]})\")\n",
    "print(\"=\"*50)\n",
    "\n",
    "\n",
    "# --- 4. Alibi CounterFactualProto 설명기 생성 ---\n",
    "# 목표: 예측을 'Low Price'(Class 0)으로 바꾸고 싶다\n",
    "target_class = 0\n",
    "\n",
    "# 각 피처가 가질 수 있는 현실적인 범위를 (min, max) 형태로 지정\n",
    "feature_range = (X_train.values.min(axis=0), X_train.values.max(axis=0))\n",
    "\n",
    "# CounterFactualProto 클래스 생성\n",
    "cf_explainer = CounterfactualProto(\n",
    "    model.predict_proba,\n",
    "    shape=(1, X_train.shape[1]),\n",
    "    feature_range=feature_range,\n",
    ")\n",
    "\n",
    "# 데이터 분포 및 프로토타입 학습\n",
    "cf_explainer.fit(X_train.values)\n",
    "\n",
    "\n",
    "# --- 5. 카운터팩추얼 설명 생성 ---\n",
    "print(\"카운터팩추얼을 탐색합니다...\")\n",
    "# explain 메서드에 target_class 파라미터 사용\n",
    "explanation = cf_explainer.explain(\n",
    "    instance_to_explain.values,\n",
    "    target_class=target_class\n",
    ")\n",
    "\n",
    "\n",
    "# --- 6. 결과 확인 ---\n",
    "if explanation.cf is None:\n",
    "    print(\"\\n지정된 조건 내에서 카운터팩추얼을 찾지 못했습니다.\")\n",
    "    print(\"-> 생성자의 max_iter 값을 높여서 다시 시도해보세요.\")\n",
    "else:\n",
    "    counterfactual = explanation.cf['X']\n",
    "    cf_prediction_idx = model.predict(counterfactual)[0]\n",
    "\n",
    "    print(f\"\\n카운터팩추얼의 예측: Class {cf_prediction_idx} ({target_names[cf_prediction_idx]})\")\n",
    "    print(\"\\n--- 예측을 바꾸기 위해 변경된 피처 값 ---\")\n",
    "\n",
    "    diff = counterfactual - instance_to_explain.values\n",
    "    changed_indices = np.where(np.abs(diff[0]) > 1e-4)[0]\n",
    "\n",
    "    if len(changed_indices) == 0:\n",
    "        print(\"최소한의 변경으로 예측을 바꿀 수 없어, 원본과 동일한 값이 반환되었습니다.\")\n",
    "    else:\n",
    "        for idx in changed_indices:\n",
    "            print(f\"- {feature_names[idx]}: {instance_to_explain.values[0, idx]:.2f}  ->  {counterfactual[0, idx]:.2f}\")"
   ]
  },
  {
   "cell_type": "code",
   "execution_count": null,
   "id": "0c760bfe",
   "metadata": {},
   "outputs": [
    {
     "name": "stdout",
     "output_type": "stream",
     "text": [
      "원본 데이터의 예측 위험 점수: 31.08\n",
      "==================================================\n"
     ]
    },
    {
     "ename": "IndexError",
     "evalue": "tuple index out of range",
     "output_type": "error",
     "traceback": [
      "\u001b[1;31m---------------------------------------------------------------------------\u001b[0m",
      "\u001b[1;31mIndexError\u001b[0m                                Traceback (most recent call last)",
      "Input \u001b[1;32mIn [16]\u001b[0m, in \u001b[0;36m<cell line: 22>\u001b[1;34m()\u001b[0m\n\u001b[0;32m     18\u001b[0m \u001b[38;5;28mprint\u001b[39m(\u001b[38;5;124m\"\u001b[39m\u001b[38;5;124m=\u001b[39m\u001b[38;5;124m\"\u001b[39m\u001b[38;5;241m*\u001b[39m\u001b[38;5;241m50\u001b[39m)\n\u001b[0;32m     20\u001b[0m \u001b[38;5;66;03m# --- 3. Alibi 카운터팩추얼 설명기 생성 ---\u001b[39;00m\n\u001b[0;32m     21\u001b[0m \u001b[38;5;66;03m# Counterfactual 클래스는 회귀/분류 모두 동일하게 사용\u001b[39;00m\n\u001b[1;32m---> 22\u001b[0m cf_explainer \u001b[38;5;241m=\u001b[39m \u001b[43mCounterfactual\u001b[49m\u001b[43m(\u001b[49m\n\u001b[0;32m     23\u001b[0m \u001b[43m    \u001b[49m\u001b[43msksurv_model\u001b[49m\u001b[38;5;241;43m.\u001b[39;49m\u001b[43mpredict\u001b[49m\u001b[43m,\u001b[49m\u001b[43m \u001b[49m\u001b[38;5;66;43;03m# .predict는 위험 점수(숫자)를 반환하므로 회귀 문제와 동일\u001b[39;49;00m\n\u001b[0;32m     24\u001b[0m \u001b[43m    \u001b[49m\u001b[43mshape\u001b[49m\u001b[38;5;241;43m=\u001b[39;49m\u001b[43m(\u001b[49m\u001b[38;5;241;43m1\u001b[39;49m\u001b[43m,\u001b[49m\u001b[43m \u001b[49m\u001b[43mX_train\u001b[49m\u001b[38;5;241;43m.\u001b[39;49m\u001b[43mshape\u001b[49m\u001b[43m[\u001b[49m\u001b[38;5;241;43m1\u001b[39;49m\u001b[43m]\u001b[49m\u001b[43m)\u001b[49m\u001b[43m,\u001b[49m\n\u001b[0;32m     25\u001b[0m \u001b[43m    \u001b[49m\u001b[43mmax_iter\u001b[49m\u001b[38;5;241;43m=\u001b[39;49m\u001b[38;5;241;43m1000\u001b[39;49m\n\u001b[0;32m     26\u001b[0m \u001b[43m)\u001b[49m\n\u001b[0;32m     27\u001b[0m cf_explainer\u001b[38;5;241m.\u001b[39mfit(X_train\u001b[38;5;241m.\u001b[39mvalues, y_train)\n\u001b[0;32m     29\u001b[0m \u001b[38;5;66;03m# --- 4. 카운터팩추얼 설명 생성 (목표 범위 지정) ---\u001b[39;00m\n",
      "File \u001b[1;32mc:\\Users\\admin\\anaconda3\\lib\\site-packages\\alibi\\explainers\\counterfactual.py:190\u001b[0m, in \u001b[0;36mCounterfactual.__init__\u001b[1;34m(self, predict_fn, shape, distance_fn, target_proba, target_class, max_iter, early_stop, lam_init, max_lam_steps, tol, learning_rate_init, feature_range, eps, init, decay, write_dir, debug, sess)\u001b[0m\n\u001b[0;32m    187\u001b[0m     \u001b[38;5;28mself\u001b[39m\u001b[38;5;241m.\u001b[39mpredict_tn \u001b[38;5;241m=\u001b[39m \u001b[38;5;28;01mNone\u001b[39;00m\n\u001b[0;32m    188\u001b[0m     \u001b[38;5;28mself\u001b[39m\u001b[38;5;241m.\u001b[39mmodel \u001b[38;5;241m=\u001b[39m \u001b[38;5;28;01mFalse\u001b[39;00m\n\u001b[1;32m--> 190\u001b[0m \u001b[38;5;28mself\u001b[39m\u001b[38;5;241m.\u001b[39mn_classes \u001b[38;5;241m=\u001b[39m \u001b[38;5;28;43mself\u001b[39;49m\u001b[38;5;241;43m.\u001b[39;49m\u001b[43mpredict_fn\u001b[49m\u001b[43m(\u001b[49m\u001b[43mnp\u001b[49m\u001b[38;5;241;43m.\u001b[39;49m\u001b[43mzeros\u001b[49m\u001b[43m(\u001b[49m\u001b[43mshape\u001b[49m\u001b[43m)\u001b[49m\u001b[43m)\u001b[49m\u001b[38;5;241;43m.\u001b[39;49m\u001b[43mshape\u001b[49m\u001b[43m[\u001b[49m\u001b[38;5;241;43m1\u001b[39;49m\u001b[43m]\u001b[49m\n\u001b[0;32m    192\u001b[0m \u001b[38;5;66;03m# flag to keep track if explainer is fit or not\u001b[39;00m\n\u001b[0;32m    193\u001b[0m \u001b[38;5;28mself\u001b[39m\u001b[38;5;241m.\u001b[39mfitted \u001b[38;5;241m=\u001b[39m \u001b[38;5;28;01mFalse\u001b[39;00m\n",
      "\u001b[1;31mIndexError\u001b[0m: tuple index out of range"
     ]
    }
   ],
   "source": [
    "tf.compat.v1.reset_default_graph()\n",
    "\n",
    "from sksurv.ensemble import RandomSurvivalForest\n",
    "from sksurv.datasets import load_whas500\n",
    "\n",
    "# --- 1. 데이터 로드 및 생존 분석 모델 학습 ---\n",
    "X, y = load_whas500()\n",
    "X_train, X_test, y_train, y_test = train_test_split(X, y, test_size=0.2, random_state=42)\n",
    "\n",
    "sksurv_model = RandomSurvivalForest(n_estimators=100, random_state=42)\n",
    "sksurv_model.fit(X_train, y_train)\n",
    "\n",
    "# --- 2. 설명할 인스턴스 선택 ---\n",
    "# 예시: 위험 점수가 높은 직원(환자) 선택\n",
    "instance_to_explain = X_test.iloc[[0]].values\n",
    "original_risk_score = sksurv_model.predict(instance_to_explain)[0]\n",
    "print(f\"원본 데이터의 예측 위험 점수: {original_risk_score:.2f}\")\n",
    "print(\"=\"*50)\n",
    "\n",
    "# --- 3. Alibi 카운터팩추얼 설명기 생성 ---\n",
    "# Counterfactual 클래스는 회귀/분류 모두 동일하게 사용\n",
    "cf_explainer = Counterfactual(\n",
    "    sksurv_model.predict, # .predict는 위험 점수(숫자)를 반환하므로 회귀 문제와 동일\n",
    "    shape=(1, X_train.shape[1]),\n",
    "    max_iter=1000\n",
    ")\n",
    "cf_explainer.fit(X_train.values, y_train)\n",
    "\n",
    "# --- 4. 카운터팩추얼 설명 생성 (목표 범위 지정) ---\n",
    "print(\"카운터팩추얼을 탐색합니다...\")\n",
    "\n",
    "# 목표: 위험 점수를 0.5 이하의 안정적인 범위로 낮추기\n",
    "# np.NINF는 음의 무한대를 의미\n",
    "target_range = [np.NINF, 0.5] \n",
    "\n",
    "# target_class 대신 target_prediction 파라미터 사용\n",
    "explanation = cf_explainer.explain(\n",
    "    instance_to_explain,\n",
    "    target_prediction=target_range\n",
    ")\n",
    "\n",
    "# --- 5. 결과 확인 ---\n",
    "if explanation.cf is None:\n",
    "    print(f\"\\n위험 점수를 {target_range[1]} 이하로 낮추는 대안을 찾지 못했습니다.\")\n",
    "else:\n",
    "    counterfactual = explanation.cf['X']\n",
    "    cf_risk_score = sksurv_model.predict(counterfactual)[0]\n",
    "\n",
    "    print(f\"\\n카운터팩추얼의 예측 위험 점수: {cf_risk_score:.2f}\")\n",
    "    print(\"\\n--- 위험 점수를 낮추기 위해 변경된 피처 값 ---\")\n",
    "\n",
    "    diff = counterfactual - instance_to_explain\n",
    "    changed_indices = np.where(np.abs(diff[0]) > 1e-2)[0]\n",
    "\n",
    "    for idx in changed_indices:\n",
    "        print(f\"- {X_test.columns[idx]}: {instance_to_explain[0, idx]:.2f}  ->  {counterfactual[0, idx]:.2f}\")"
   ]
  },
  {
   "cell_type": "code",
   "execution_count": null,
   "id": "13448469",
   "metadata": {},
   "outputs": [],
   "source": []
  }
 ],
 "metadata": {
  "kernelspec": {
   "display_name": "base",
   "language": "python",
   "name": "python3"
  },
  "language_info": {
   "codemirror_mode": {
    "name": "ipython",
    "version": 3
   },
   "file_extension": ".py",
   "mimetype": "text/x-python",
   "name": "python",
   "nbconvert_exporter": "python",
   "pygments_lexer": "ipython3",
   "version": "3.10.9"
  }
 },
 "nbformat": 4,
 "nbformat_minor": 5
}
