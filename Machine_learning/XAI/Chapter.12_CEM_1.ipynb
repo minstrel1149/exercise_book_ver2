{
 "cells": [
  {
   "cell_type": "code",
   "execution_count": null,
   "id": "3de115de",
   "metadata": {},
   "outputs": [],
   "source": [
    "import tensorflow as tf\n",
    "tf.compat.v1.disable_eager_execution()\n",
    "import numpy as np\n",
    "import pandas as pd\n",
    "import shap\n",
    "from xgboost import XGBClassifier\n",
    "from sklearn.model_selection import train_test_split\n",
    "from sklearn.datasets import load_iris\n",
    "from alibi.explainers import CounterFactual"
   ]
  },
  {
   "cell_type": "code",
   "execution_count": 2,
   "id": "b432e8f1",
   "metadata": {},
   "outputs": [
    {
     "data": {
      "text/plain": [
       "((150, 4), (150,))"
      ]
     },
     "execution_count": 2,
     "metadata": {},
     "output_type": "execute_result"
    }
   ],
   "source": [
    "iris = load_iris(as_frame=True)\n",
    "X = iris['data']\n",
    "y = iris['target']\n",
    "feature_names = iris['feature_names']\n",
    "target_names = iris['target_names']\n",
    "X.shape, y.shape"
   ]
  },
  {
   "cell_type": "code",
   "execution_count": 3,
   "id": "9da0d004",
   "metadata": {},
   "outputs": [],
   "source": [
    "X_train, X_test, y_train, y_test = train_test_split(X, y, test_size=0.2, random_state=0)"
   ]
  },
  {
   "cell_type": "code",
   "execution_count": 4,
   "id": "4062a82f",
   "metadata": {},
   "outputs": [
    {
     "data": {
      "text/plain": [
       "(1.0, 1.0)"
      ]
     },
     "execution_count": 4,
     "metadata": {},
     "output_type": "execute_result"
    }
   ],
   "source": [
    "model = XGBClassifier()\n",
    "model.fit(X_train, y_train)\n",
    "model.score(X_train, y_train), model.score(X_test, y_test)"
   ]
  },
  {
   "cell_type": "code",
   "execution_count": 5,
   "id": "ba467ba3",
   "metadata": {},
   "outputs": [
    {
     "data": {
      "text/plain": [
       "(     sepal length (cm)  sepal width (cm)  petal length (cm)  petal width (cm)\n",
       " 114                5.8               2.8                5.1               2.4,\n",
       " 2)"
      ]
     },
     "execution_count": 5,
     "metadata": {},
     "output_type": "execute_result"
    }
   ],
   "source": [
    "instance_to_explain = X_test.iloc[[0]]\n",
    "original_prediction_idx = model.predict(instance_to_explain)[0]\n",
    "instance_to_explain, original_prediction_idx"
   ]
  },
  {
   "cell_type": "code",
   "execution_count": 6,
   "id": "c05fb9c3",
   "metadata": {},
   "outputs": [],
   "source": [
    "target_prediction = 1"
   ]
  },
  {
   "cell_type": "code",
   "execution_count": null,
   "id": "684f74fe",
   "metadata": {},
   "outputs": [
    {
     "name": "stderr",
     "output_type": "stream",
     "text": [
      "c:\\Users\\admin\\anaconda3\\lib\\site-packages\\alibi\\explainers\\counterfactual.py:71: FutureWarning: The class name `CounterFactual` is deprecated, please use `Counterfactual`.\n",
      "  warnings.warn(warning_msg, FutureWarning)\n"
     ]
    },
    {
     "data": {
      "text/plain": [
       "Counterfactual(meta={\n",
       "  'name': 'Counterfactual',\n",
       "  'type': ['blackbox', 'tensorflow', 'keras'],\n",
       "  'explanations': ['local'],\n",
       "  'params': {\n",
       "              'shape': (1, 4),\n",
       "              'distance_fn': 'l1',\n",
       "              'target_proba': 1.0,\n",
       "              'target_class': 1,\n",
       "              'max_iter': 1000,\n",
       "              'early_stop': 50,\n",
       "              'lam_init': 0.1,\n",
       "              'max_lam_steps': 10,\n",
       "              'tol': 0.05,\n",
       "              'learning_rate_init': 0.1,\n",
       "              'eps': 0.01,\n",
       "              'init': 'identity',\n",
       "              'decay': True,\n",
       "              'write_dir': None,\n",
       "              'debug': False,\n",
       "              'feature_range': (-10000000000.0, 10000000000.0),\n",
       "              'is_model': False}\n",
       "            ,\n",
       "  'version': '0.9.6'}\n",
       ")"
      ]
     },
     "execution_count": 10,
     "metadata": {},
     "output_type": "execute_result"
    }
   ],
   "source": [
    "cf_explainer = CounterFactual(model.predict_proba, shape=(1, X_train.shape[1]), target_class=target_prediction)\n",
    "cf_explainer.fit(X_train.values, y_train)"
   ]
  },
  {
   "cell_type": "code",
   "execution_count": 12,
   "id": "85456cb4",
   "metadata": {},
   "outputs": [
    {
     "name": "stderr",
     "output_type": "stream",
     "text": [
      "No appropriate lambda range found, try decreasing lam_init\n"
     ]
    },
    {
     "data": {
      "text/plain": [
       "Explanation(meta={\n",
       "  'name': 'Counterfactual',\n",
       "  'type': ['blackbox', 'tensorflow', 'keras'],\n",
       "  'explanations': ['local'],\n",
       "  'params': {\n",
       "              'shape': (1, 4),\n",
       "              'distance_fn': 'l1',\n",
       "              'target_proba': 1.0,\n",
       "              'target_class': 1,\n",
       "              'max_iter': 1000,\n",
       "              'early_stop': 50,\n",
       "              'lam_init': 0.1,\n",
       "              'max_lam_steps': 10,\n",
       "              'tol': 0.05,\n",
       "              'learning_rate_init': 0.1,\n",
       "              'eps': 0.01,\n",
       "              'init': 'identity',\n",
       "              'decay': True,\n",
       "              'write_dir': None,\n",
       "              'debug': False,\n",
       "              'feature_range': (-10000000000.0, 10000000000.0),\n",
       "              'is_model': False}\n",
       "            ,\n",
       "  'version': '0.9.6'}\n",
       ", data={\n",
       "  'cf': None,\n",
       "  'all': {0: [], 1: [], 2: [], 3: [], 4: [], 5: [], 6: [], 7: [], 8: [], 9: []},\n",
       "  'orig_class': 2,\n",
       "  'orig_proba': 0.9886096715927124,\n",
       "  'success': None}\n",
       ")"
      ]
     },
     "execution_count": 12,
     "metadata": {},
     "output_type": "execute_result"
    }
   ],
   "source": [
    "explanation = cf_explainer.explain(instance_to_explain.values)\n",
    "explanation"
   ]
  },
  {
   "cell_type": "code",
   "execution_count": 13,
   "id": "028fc90e",
   "metadata": {},
   "outputs": [
    {
     "name": "stdout",
     "output_type": "stream",
     "text": [
      "\n",
      "지정된 조건 내에서 카운터팩추얼을 찾지 못했습니다.\n"
     ]
    }
   ],
   "source": [
    "if explanation.cf is None:\n",
    "    print(\"\\n지정된 조건 내에서 카운터팩추얼을 찾지 못했습니다.\")\n",
    "else:\n",
    "    counterfactual = explanation.cf['X']\n",
    "    cf_prediction_idx = model.predict(counterfactual)[0]\n",
    "\n",
    "    print(f\"\\n카운터팩추얼의 예측: Class {cf_prediction_idx} ({target_names[cf_prediction_idx]})\")\n",
    "    print(\"\\n--- 예측을 바꾸기 위해 변경된 피처 값 ---\")\n",
    "\n",
    "    diff = counterfactual - instance_to_explain.values\n",
    "    changed_indices = np.where(np.abs(diff[0]) > 1e-4)[0]\n",
    "\n",
    "    if len(changed_indices) == 0:\n",
    "        print(\"최소한의 변경으로 예측을 바꿀 수 없어, 원본과 동일한 값이 반환되었습니다.\")\n",
    "    else:\n",
    "        for idx in changed_indices:\n",
    "            print(f\"- {feature_names[idx]}: {instance_to_explain.values[0, idx]:.2f}  ->  {counterfactual[0, idx]:.2f}\")"
   ]
  },
  {
   "cell_type": "code",
   "execution_count": 16,
   "id": "a6fdb374",
   "metadata": {},
   "outputs": [
    {
     "name": "stdout",
     "output_type": "stream",
     "text": [
      "원본 데이터의 예측: Class 1 (versicolor)\n",
      "==================================================\n",
      "카운터팩추얼을 탐색합니다...\n"
     ]
    },
    {
     "name": "stderr",
     "output_type": "stream",
     "text": [
      "c:\\Users\\admin\\anaconda3\\lib\\site-packages\\alibi\\explainers\\counterfactual.py:71: FutureWarning: The class name `CounterFactual` is deprecated, please use `Counterfactual`.\n",
      "  warnings.warn(warning_msg, FutureWarning)\n"
     ]
    },
    {
     "name": "stdout",
     "output_type": "stream",
     "text": [
      "\n",
      "카운터팩추얼의 예측: Class 2 (virginica)\n",
      "\n",
      "--- 예측을 바꾸기 위해 변경된 피처 값 ---\n",
      "- sepal length (cm): 6.10  ->  6.10\n",
      "- sepal width (cm): 2.80  ->  2.80\n",
      "- petal length (cm): 4.70  ->  5.21\n"
     ]
    }
   ],
   "source": [
    "# --- 1. 데이터 로드 및 모델 학습 ---\n",
    "iris = load_iris()\n",
    "X = pd.DataFrame(iris.data, columns=iris.feature_names)\n",
    "y = iris.target\n",
    "feature_names = X.columns.tolist()\n",
    "target_names = iris.target_names\n",
    "\n",
    "# 훈련/테스트 데이터 분리\n",
    "X_train, X_test, y_train, y_test = train_test_split(X, y, test_size=0.2, random_state=42)\n",
    "\n",
    "# XGBoost 다중 클래스 분류 모델 학습\n",
    "model = XGBClassifier(random_state=42)\n",
    "model.fit(X_train, y_train)\n",
    "\n",
    "\n",
    "# --- 2. 설명할 인스턴스 선택 ---\n",
    "instance_to_explain = X_test.iloc[[0]]\n",
    "original_prediction_idx = model.predict(instance_to_explain)[0]\n",
    "print(f\"원본 데이터의 예측: Class {original_prediction_idx} ({target_names[original_prediction_idx]})\")\n",
    "print(\"=\"*50)\n",
    "\n",
    "\n",
    "# --- 3. Alibi 카운터팩추얼 설명기 생성 ---\n",
    "target_prediction = 2\n",
    "\n",
    "cf_explainer = CounterFactual(\n",
    "    model.predict_proba,\n",
    "    shape=(1, X_train.shape[1]),\n",
    "    target_class=target_prediction\n",
    ")\n",
    "\n",
    "# --- 이 부분이 수정되었습니다 ---\n",
    "# 데이터 분포 학습 시 y_train도 함께 전달\n",
    "cf_explainer.fit(X_train.values, y_train)\n",
    "\n",
    "\n",
    "# --- 4. 카운터팩추얼 설명 생성 ---\n",
    "print(\"카운터팩추얼을 탐색합니다...\")\n",
    "explanation = cf_explainer.explain(instance_to_explain.values)\n",
    "\n",
    "\n",
    "# --- 5. 결과 확인 ---\n",
    "if explanation.cf is None:\n",
    "    print(\"\\n지정된 조건 내에서 카운터팩추얼을 찾지 못했습니다.\")\n",
    "else:\n",
    "    counterfactual = explanation.cf['X']\n",
    "    cf_prediction_idx = model.predict(counterfactual)[0]\n",
    "\n",
    "    print(f\"\\n카운터팩추얼의 예측: Class {cf_prediction_idx} ({target_names[cf_prediction_idx]})\")\n",
    "    print(\"\\n--- 예측을 바꾸기 위해 변경된 피처 값 ---\")\n",
    "\n",
    "    diff = counterfactual - instance_to_explain.values\n",
    "    changed_indices = np.where(np.abs(diff[0]) > 1e-4)[0]\n",
    "\n",
    "    if len(changed_indices) == 0:\n",
    "        print(\"최소한의 변경으로 예측을 바꿀 수 없어, 원본과 동일한 값이 반환되었습니다.\")\n",
    "    else:\n",
    "        for idx in changed_indices:\n",
    "            print(f\"- {feature_names[idx]}: {instance_to_explain.values[0, idx]:.2f}  ->  {counterfactual[0, idx]:.2f}\")"
   ]
  },
  {
   "cell_type": "code",
   "execution_count": null,
   "id": "b4b1b5a8",
   "metadata": {},
   "outputs": [],
   "source": []
  }
 ],
 "metadata": {
  "kernelspec": {
   "display_name": "base",
   "language": "python",
   "name": "python3"
  },
  "language_info": {
   "codemirror_mode": {
    "name": "ipython",
    "version": 3
   },
   "file_extension": ".py",
   "mimetype": "text/x-python",
   "name": "python",
   "nbconvert_exporter": "python",
   "pygments_lexer": "ipython3",
   "version": "3.10.9"
  }
 },
 "nbformat": 4,
 "nbformat_minor": 5
}
