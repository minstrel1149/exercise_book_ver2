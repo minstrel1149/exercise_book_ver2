{
 "cells": [
  {
   "cell_type": "code",
   "execution_count": 7,
   "id": "0ef82410",
   "metadata": {},
   "outputs": [
    {
     "name": "stderr",
     "output_type": "stream",
     "text": [
      "c:\\Users\\admin\\anaconda3\\lib\\site-packages\\xgboost\\training.py:183: UserWarning: [16:24:00] WARNING: C:\\actions-runner\\_work\\xgboost\\xgboost\\src\\learner.cc:738: \n",
      "Parameters: { \"use_label_encoder\" } are not used.\n",
      "\n",
      "  bst.update(dtrain, iteration=i, fobj=obj)\n"
     ]
    },
    {
     "name": "stdout",
     "output_type": "stream",
     "text": [
      "설명 대상 샘플의 원본 예측: Class 1 (versicolor)\n",
      "==================================================\n",
      "CEM 설명을 탐색합니다...\n"
     ]
    },
    {
     "name": "stderr",
     "output_type": "stream",
     "text": [
      "No PP found!\n"
     ]
    },
    {
     "name": "stdout",
     "output_type": "stream",
     "text": [
      "\n",
      "설명을 찾지 못했습니다.\n"
     ]
    }
   ],
   "source": [
    "# --- 0. TensorFlow 호환 모드 설정 및 라이브러리 임포트 ---\n",
    "import tensorflow as tf\n",
    "tf.compat.v1.disable_eager_execution()\n",
    "tf.compat.v1.reset_default_graph()\n",
    "\n",
    "import pandas as pd\n",
    "import numpy as np\n",
    "from xgboost import XGBClassifier\n",
    "from sklearn.datasets import load_iris\n",
    "from sklearn.model_selection import train_test_split\n",
    "from sklearn.preprocessing import StandardScaler\n",
    "from alibi.explainers import CEM\n",
    "\n",
    "# --- 1. 데이터 로드 및 모델 학습 ---\n",
    "iris = load_iris()\n",
    "X = pd.DataFrame(iris.data, columns=iris.feature_names)\n",
    "y = iris.target\n",
    "feature_names = X.columns.tolist()\n",
    "target_names = iris.target_names\n",
    "\n",
    "X_train, X_test, y_train, y_test = train_test_split(X, y, test_size=0.2, random_state=42)\n",
    "\n",
    "# XGBoost 다중 클래스 분류 모델 학습\n",
    "model = XGBClassifier(random_state=42, use_label_encoder=False, eval_metric='mlogloss')\n",
    "model.fit(X_train, y_train)\n",
    "\n",
    "\n",
    "# --- 2. 설명할 인스턴스 선택 ---\n",
    "# 예시: 모델이 'versicolor'(Class 1)로 예측한 첫 번째 테스트 데이터\n",
    "instance_to_explain = X_test.iloc[[0]].values\n",
    "original_prediction_idx = model.predict(instance_to_explain)[0]\n",
    "print(f\"설명 대상 샘플의 원본 예측: Class {original_prediction_idx} ({target_names[original_prediction_idx]})\")\n",
    "print(\"=\"*50)\n",
    "\n",
    "\n",
    "# --- 3. Alibi CEM 설명기 생성 ---\n",
    "# CEM에 필요한 파라미터들을 설정합니다.\n",
    "# mode: 'PP'(Pertinent Positive) 또는 'PN'(Pertinent Negative)\n",
    "mode = 'PP'\n",
    "\n",
    "# shape: 입력 데이터의 형태\n",
    "shape = (1, X_train.shape[1])\n",
    "\n",
    "# kappa: 예측 신뢰도. 높을수록 더 확실한 설명을 찾으려 합니다.\n",
    "kappa = 0.0\n",
    "\n",
    "# beta: L1 정규화 계수. 변경되는 피처 수를 줄입니다.\n",
    "beta = .1\n",
    "\n",
    "# c_init, c_steps: 최적화 상수 및 스텝. 높을수록 더 강하게 탐색합니다.\n",
    "c_init = 1.0\n",
    "c_steps = 10\n",
    "\n",
    "# CEM 설명기 생성\n",
    "cem_explainer = CEM(\n",
    "    model.predict_proba,\n",
    "    mode=mode,\n",
    "    shape=shape,\n",
    "    kappa=kappa,\n",
    "    beta=beta,\n",
    "    c_init=c_init,\n",
    "    c_steps=c_steps\n",
    ")\n",
    "cem_explainer.fit(X_train.values, no_info_type='median')\n",
    "\n",
    "\n",
    "# --- 4. 카운터팩추얼 설명 생성 ---\n",
    "print(\"CEM 설명을 탐색합니다...\")\n",
    "\n",
    "# explain 메서드에는 목표 클래스를 지정하지 않습니다.\n",
    "# 생성 시 mode에 따라 PP 또는 PN을 찾습니다.\n",
    "scaler = StandardScaler()\n",
    "explanation = cem_explainer.explain(instance_to_explain, verbose=False)\n",
    "\n",
    "\n",
    "# --- 5. 결과 확인 ---\n",
    "if explanation.PP is None and explanation.PN is None:\n",
    "    print(\"\\n설명을 찾지 못했습니다.\")\n",
    "else:\n",
    "    print(f\"\\n--- Pertinent Positive (왜 Class {original_prediction_idx}인가?) ---\")\n",
    "    print(\"설명: 아래 피처들이 현재 값을 가졌기 때문에 'versicolor'로 예측되었습니다.\")\n",
    "    # PP_as_df()는 원본 대비 변경된 부분만 보여줍니다.\n",
    "    # PP는 원본과 거의 같지만, 예측에 불필요한 노이즈가 제거된 형태입니다.\n",
    "    print(explanation.PP_as_df(feature_names=feature_names))\n",
    "\n",
    "    print(\"\\n--- Pertinent Negative (왜 Class 0이 아닌가?) ---\")\n",
    "    print(\"설명: 아래 피처들이 현재 값을 가졌기 때문에 'setosa'가 아니라고 예측되었습니다.\")\n",
    "    \n",
    "    # PN을 찾기 위해 mode를 바꾸고 다시 설명\n",
    "    cem_explainer.mode = 'PN'\n",
    "    # 'as_class'는 비교 대상 클래스를 지정합니다.\n",
    "    explanation_pn = cem_explainer.explain(instance_to_explain, as_class=0)\n",
    "    print(explanation_pn.PN_as_df(feature_names=feature_names))\n"
   ]
  },
  {
   "cell_type": "code",
   "execution_count": null,
   "id": "d3aee9a9",
   "metadata": {},
   "outputs": [],
   "source": []
  }
 ],
 "metadata": {
  "kernelspec": {
   "display_name": "base",
   "language": "python",
   "name": "python3"
  },
  "language_info": {
   "codemirror_mode": {
    "name": "ipython",
    "version": 3
   },
   "file_extension": ".py",
   "mimetype": "text/x-python",
   "name": "python",
   "nbconvert_exporter": "python",
   "pygments_lexer": "ipython3",
   "version": "3.10.9"
  }
 },
 "nbformat": 4,
 "nbformat_minor": 5
}
