{
 "cells": [
  {
   "cell_type": "code",
   "execution_count": 1,
   "id": "396bd0d3",
   "metadata": {},
   "outputs": [
    {
     "name": "stderr",
     "output_type": "stream",
     "text": [
      "c:\\Users\\admin\\anaconda3\\lib\\site-packages\\numpy\\_distributor_init.py:30: UserWarning: loaded more than 1 DLL from .libs:\n",
      "c:\\Users\\admin\\anaconda3\\lib\\site-packages\\numpy\\.libs\\libopenblas.EL2C6PLE4ZYW3ECEVIV3OXXGRN2NRFM2.gfortran-win_amd64.dll\n",
      "c:\\Users\\admin\\anaconda3\\lib\\site-packages\\numpy\\.libs\\libopenblas.FB5AE2TYXYH2IJRDKGDGQ3XBKLKTF43H.gfortran-win_amd64.dll\n",
      "  warnings.warn(\"loaded more than 1 DLL from .libs:\"\n",
      "c:\\Users\\admin\\anaconda3\\lib\\site-packages\\thinc\\compat.py:36: UserWarning: 'has_mps' is deprecated, please use 'torch.backends.mps.is_built()'\n",
      "  hasattr(torch, \"has_mps\")\n",
      "c:\\Users\\admin\\anaconda3\\lib\\site-packages\\thinc\\compat.py:37: UserWarning: 'has_mps' is deprecated, please use 'torch.backends.mps.is_built()'\n",
      "  and torch.has_mps  # type: ignore[attr-defined]\n"
     ]
    }
   ],
   "source": [
    "import numpy as np\n",
    "import os\n",
    "os.environ['TF_CPP_MIN_LOG_LEVEL'] = '3'\n",
    "import spacy\n",
    "import string\n",
    "from sklearn.ensemble import RandomForestClassifier\n",
    "from sklearn.linear_model import LogisticRegression\n",
    "from sklearn.naive_bayes import GaussianNB\n",
    "from sklearn.model_selection import train_test_split\n",
    "from sklearn.compose import ColumnTransformer\n",
    "from sklearn.pipeline import Pipeline\n",
    "from sklearn.impute import SimpleImputer\n",
    "from sklearn.metrics import accuracy_score\n",
    "from sklearn.preprocessing import StandardScaler, OneHotEncoder\n",
    "from sklearn.feature_extraction.text import CountVectorizer, TfidfVectorizer\n",
    "from alibi.explainers import AnchorTabular, AnchorText\n",
    "from alibi.datasets import fetch_adult, fetch_movie_sentiment\n",
    "from alibi.utils import gen_category_map, DistilbertBaseUncased, BertBaseUncased, RobertaBase"
   ]
  },
  {
   "cell_type": "code",
   "execution_count": 2,
   "id": "d2e1a0ee",
   "metadata": {},
   "outputs": [
    {
     "data": {
      "text/plain": [
       "dict_keys(['data', 'target', 'feature_names', 'target_names', 'category_map'])"
      ]
     },
     "execution_count": 2,
     "metadata": {},
     "output_type": "execute_result"
    }
   ],
   "source": [
    "adult = fetch_adult()\n",
    "adult.keys()"
   ]
  },
  {
   "cell_type": "code",
   "execution_count": 3,
   "id": "58927009",
   "metadata": {},
   "outputs": [
    {
     "data": {
      "text/plain": [
       "{1: ['?',\n",
       "  'Federal-gov',\n",
       "  'Local-gov',\n",
       "  'Never-worked',\n",
       "  'Private',\n",
       "  'Self-emp-inc',\n",
       "  'Self-emp-not-inc',\n",
       "  'State-gov',\n",
       "  'Without-pay'],\n",
       " 2: ['Associates',\n",
       "  'Bachelors',\n",
       "  'Doctorate',\n",
       "  'Dropout',\n",
       "  'High School grad',\n",
       "  'Masters',\n",
       "  'Prof-School'],\n",
       " 3: ['Married', 'Never-Married', 'Separated', 'Widowed'],\n",
       " 4: ['?',\n",
       "  'Admin',\n",
       "  'Blue-Collar',\n",
       "  'Military',\n",
       "  'Other',\n",
       "  'Professional',\n",
       "  'Sales',\n",
       "  'Service',\n",
       "  'White-Collar'],\n",
       " 5: ['Husband',\n",
       "  'Not-in-family',\n",
       "  'Other-relative',\n",
       "  'Own-child',\n",
       "  'Unmarried',\n",
       "  'Wife'],\n",
       " 6: ['Amer-Indian-Eskimo', 'Asian-Pac-Islander', 'Black', 'Other', 'White'],\n",
       " 7: ['Female', 'Male'],\n",
       " 11: ['?',\n",
       "  'British-Commonwealth',\n",
       "  'China',\n",
       "  'Euro_1',\n",
       "  'Euro_2',\n",
       "  'Latin-America',\n",
       "  'Other',\n",
       "  'SE-Asia',\n",
       "  'South-America',\n",
       "  'United-States',\n",
       "  'Yugoslavia']}"
      ]
     },
     "execution_count": 3,
     "metadata": {},
     "output_type": "execute_result"
    }
   ],
   "source": [
    "adult['category_map']"
   ]
  },
  {
   "cell_type": "code",
   "execution_count": 4,
   "id": "9a377888",
   "metadata": {},
   "outputs": [],
   "source": [
    "data = adult.data\n",
    "target = adult.target\n",
    "feature_names = adult.feature_names\n",
    "category_map = adult.category_map"
   ]
  },
  {
   "cell_type": "code",
   "execution_count": 5,
   "id": "b0d7a5a3",
   "metadata": {},
   "outputs": [],
   "source": [
    "np.random.seed(0)\n",
    "data_perm = np.random.permutation(np.c_[data, target])\n",
    "data = data_perm[:, :-1]\n",
    "target = data_perm[:, -1]\n",
    "idx = 30000\n",
    "X_train, y_train = data[:idx, :], target[:idx]\n",
    "X_test, y_test = data[idx:, :], target[idx:]"
   ]
  },
  {
   "cell_type": "code",
   "execution_count": null,
   "id": "e72f41a9",
   "metadata": {},
   "outputs": [],
   "source": []
  }
 ],
 "metadata": {
  "kernelspec": {
   "display_name": "base",
   "language": "python",
   "name": "python3"
  },
  "language_info": {
   "codemirror_mode": {
    "name": "ipython",
    "version": 3
   },
   "file_extension": ".py",
   "mimetype": "text/x-python",
   "name": "python",
   "nbconvert_exporter": "python",
   "pygments_lexer": "ipython3",
   "version": "3.10.9"
  }
 },
 "nbformat": 4,
 "nbformat_minor": 5
}
