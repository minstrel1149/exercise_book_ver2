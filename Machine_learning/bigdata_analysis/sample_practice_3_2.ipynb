{
 "cells": [
  {
   "cell_type": "code",
   "execution_count": 1,
   "metadata": {},
   "outputs": [],
   "source": [
    "import pandas as pd\n",
    "import numpy as np\n",
    "import scipy.stats as ss"
   ]
  },
  {
   "cell_type": "code",
   "execution_count": 2,
   "metadata": {},
   "outputs": [],
   "source": [
    "from sklearn.model_selection import train_test_split, GridSearchCV, cross_val_score\n",
    "from sklearn.metrics import roc_auc_score, f1_score, classification_report\n",
    "from sklearn.ensemble import RandomForestClassifier\n",
    "from xgboost import XGBClassifier"
   ]
  },
  {
   "cell_type": "code",
   "execution_count": 3,
   "metadata": {},
   "outputs": [],
   "source": [
    "X_train = pd.read_csv('data/hr_data/X_train.csv')\n",
    "X_test = pd.read_csv('data/hr_data/X_test.csv')\n",
    "y_train = pd.read_csv('data/hr_data/y_train.csv')"
   ]
  },
  {
   "cell_type": "code",
   "execution_count": 4,
   "metadata": {},
   "outputs": [],
   "source": [
    "X_train = pd.read_csv('data/hr_data/X_train.csv')\n",
    "# train_DataFrame 전처리 진행(결측치 삭제)\n",
    "X_train = X_train.sort_values(by='enrollee_id', ascending=True).reset_index(drop=True)\n",
    "y_train = y_train.sort_values(by='enrollee_id', ascending=True).reset_index(drop=True)\n",
    "train_df = X_train.merge(y_train, on='enrollee_id', how='inner')\n",
    "train_df = train_df.dropna(how='any')\n",
    "X_train = train_df.iloc[:, :-1]\n",
    "y_train = train_df.iloc[:, -1]"
   ]
  },
  {
   "cell_type": "code",
   "execution_count": 5,
   "metadata": {},
   "outputs": [
    {
     "data": {
      "text/plain": [
       "enrollee_id               0\n",
       "city                      0\n",
       "city_development_index    0\n",
       "gender                    0\n",
       "relevent_experience       0\n",
       "enrolled_university       0\n",
       "education_level           0\n",
       "major_discipline          0\n",
       "experience                0\n",
       "company_size              0\n",
       "company_type              0\n",
       "last_new_job              0\n",
       "training_hours            0\n",
       "dtype: int64"
      ]
     },
     "execution_count": 5,
     "metadata": {},
     "output_type": "execute_result"
    }
   ],
   "source": [
    "X_test = pd.read_csv('data/hr_data/X_test.csv')\n",
    "# test_DataFrame 전처리 필요(결측치 어떻게 처리? -> 각 특성별로 다르게 처리)\n",
    "X_test = X_test.sort_values(by='enrollee_id', ascending=True).reset_index(drop=True)\n",
    "X_test['gender'] = X_test['gender'].fillna('Other')\n",
    "X_test['enrolled_university'] = X_test['enrolled_university'].fillna('no_enrollment')\n",
    "X_test['education_level'] = X_test['education_level'].fillna('Primary School')\n",
    "X_test['major_discipline'] = np.where(X_test['education_level'].isin(['High School', 'Primary School']), 'No Major', X_test['major_discipline'])\n",
    "X_test['major_discipline'] = X_test['major_discipline'].fillna('STEM')\n",
    "X_test['experience'] = X_test['experience'].fillna(ss.mode(X_test['experience'].values)[0][0])\n",
    "X_test['company_size'] = X_test['company_size'].bfill()\n",
    "X_test['company_type'] = X_test['company_type'].bfill()\n",
    "X_test['last_new_job'] = X_test['last_new_job'].fillna('never')\n",
    "X_test.isna().sum()"
   ]
  },
  {
   "cell_type": "code",
   "execution_count": 6,
   "metadata": {},
   "outputs": [],
   "source": [
    "# 특성 전처리 진행\n",
    "#X_train['experience'] = pd.to_numeric(X_train['experience'].replace({'>20':'25', '<1':'0'}))\n",
    "#X_train['company_size'] = (X_train['company_size']\n",
    "#.replace({'10000+':'10000-20000', '10/49':'10-49', '<10':'1-10'})\n",
    "#.str.split('-', expand=True)\n",
    "#.astype('float64').mean(axis=1)\n",
    "#)\n",
    "#X_train['relevent_experience'] = X_train['relevent_experience'].replace({'Has relevent experience':1, 'No relevent experience':0})\n",
    "#X_train['last_new_job'] = X_train['last_new_job'].replace({'never':0, '>4':5}).astype('int64')\n",
    "\n",
    "def preprocessing_X(df):\n",
    "    df['experience'] = pd.to_numeric(df['experience'].replace({'>20':'25', '<1':'0'}))\n",
    "    df['education_level'] = df['education_level'].replace({'Primary School':0, 'High School':1, 'Graduate':2, 'Masters':3, 'Phd':4})\n",
    "    df['company_size'] = df['company_size'].replace({'10000+':'10000-20000', '10000':'10000-20000', '10/49':'10-49', '<10':'1-10'}).str.split('-', expand=True).astype('int64').mean(axis=1)\n",
    "    df['relevent_experience'] = df['relevent_experience'].replace({'Has relevent experience':1, 'No relevent experience':0})\n",
    "    df['last_new_job'] = df['last_new_job'].replace({'never':0, '>4':5}).astype('int64')\n",
    "    df = pd.get_dummies(df)\n",
    "    return df"
   ]
  },
  {
   "cell_type": "code",
   "execution_count": 7,
   "metadata": {},
   "outputs": [],
   "source": [
    "X_train = preprocessing_X(X_train)\n",
    "X_test = preprocessing_X(X_test)"
   ]
  },
  {
   "cell_type": "code",
   "execution_count": 8,
   "metadata": {},
   "outputs": [],
   "source": [
    "X_train_tr, X_train_val, y_train_tr, y_train_val = train_test_split(X_train, y_train, random_state=0)"
   ]
  },
  {
   "cell_type": "code",
   "execution_count": 9,
   "metadata": {},
   "outputs": [
    {
     "data": {
      "text/plain": [
       "({'ccp_alpha': 0.0005, 'max_depth': 15, 'min_samples_leaf': 9},\n",
       " 0.8477945281965382)"
      ]
     },
     "execution_count": 9,
     "metadata": {},
     "output_type": "execute_result"
    }
   ],
   "source": [
    "rf_clf = RandomForestClassifier(n_estimators=200, n_jobs=-1, random_state=0)\n",
    "param_grid = {'ccp_alpha':[0.001, 0.0005], 'max_depth':[11, 13, 15], 'min_samples_leaf':[7, 9]}\n",
    "grid = GridSearchCV(rf_clf, param_grid=param_grid, cv=5, n_jobs=-1).fit(X_train, y_train)\n",
    "grid.best_params_, grid.best_score_"
   ]
  },
  {
   "cell_type": "code",
   "execution_count": 10,
   "metadata": {},
   "outputs": [
    {
     "data": {
      "text/plain": [
       "(0.8604824300178677, 0.8584189370254578)"
      ]
     },
     "execution_count": 10,
     "metadata": {},
     "output_type": "execute_result"
    }
   ],
   "source": [
    "rf_clf = RandomForestClassifier(n_estimators=200, ccp_alpha=0.0005, max_depth=15, min_samples_leaf=9, n_jobs=-1, random_state=0).fit(X_train_tr, y_train_tr)\n",
    "rf_clf.score(X_train_tr, y_train_tr), rf_clf.score(X_train_val, y_train_val)"
   ]
  },
  {
   "cell_type": "code",
   "execution_count": 11,
   "metadata": {},
   "outputs": [
    {
     "name": "stdout",
     "output_type": "stream",
     "text": [
      "city_city_171\n",
      "city_city_180\n",
      "city_city_31\n",
      "city_city_79\n"
     ]
    },
    {
     "data": {
      "text/plain": [
       "['city_city_109',\n",
       " 'city_city_120',\n",
       " 'city_city_129',\n",
       " 'city_city_131',\n",
       " 'city_city_146',\n",
       " 'city_city_166',\n",
       " 'city_city_18',\n",
       " 'city_city_55',\n",
       " 'city_city_59',\n",
       " 'city_city_62',\n",
       " 'city_city_7',\n",
       " 'city_city_81',\n",
       " 'city_city_171',\n",
       " 'city_city_180',\n",
       " 'city_city_31',\n",
       " 'city_city_79']"
      ]
     },
     "execution_count": 11,
     "metadata": {},
     "output_type": "execute_result"
    }
   ],
   "source": [
    "# X_train 및 X_test의 특성 통일\n",
    "train_cols_residue = X_train.columns.tolist()\n",
    "cols_error = []\n",
    "for col in X_test.columns.tolist():\n",
    "    try:\n",
    "        train_cols_residue.remove(col)\n",
    "    except:\n",
    "        cols_error.append(col)\n",
    "        print(col)\n",
    "        continue\n",
    "for add_col in cols_error:\n",
    "    train_cols_residue.append(add_col)\n",
    "train_cols_residue"
   ]
  },
  {
   "cell_type": "code",
   "execution_count": 12,
   "metadata": {},
   "outputs": [
    {
     "data": {
      "text/plain": [
       "((8955, 130), (2126, 130))"
      ]
     },
     "execution_count": 12,
     "metadata": {},
     "output_type": "execute_result"
    }
   ],
   "source": [
    "for del_col in train_cols_residue:\n",
    "    try:\n",
    "        if del_col in X_train.columns:\n",
    "            X_train = X_train.drop(del_col, axis=1)\n",
    "        else:\n",
    "            X_test = X_test.drop(del_col, axis=1)\n",
    "    except:\n",
    "        continue\n",
    "X_train.shape, X_test.shape"
   ]
  },
  {
   "cell_type": "code",
   "execution_count": 14,
   "metadata": {},
   "outputs": [
    {
     "data": {
      "text/plain": [
       "array([[0.86759108, 0.13240892],\n",
       "       [0.88060824, 0.11939176],\n",
       "       [0.88592509, 0.11407491],\n",
       "       ...,\n",
       "       [0.84289888, 0.15710112],\n",
       "       [0.42306365, 0.57693635],\n",
       "       [0.90790257, 0.09209743]])"
      ]
     },
     "execution_count": 14,
     "metadata": {},
     "output_type": "execute_result"
    }
   ],
   "source": [
    "rf_clf.fit(X_train, y_train)\n",
    "rf_clf.predict_proba(X_test)"
   ]
  },
  {
   "cell_type": "code",
   "execution_count": null,
   "metadata": {},
   "outputs": [],
   "source": []
  }
 ],
 "metadata": {
  "kernelspec": {
   "display_name": "Python 3.9.12 ('base')",
   "language": "python",
   "name": "python3"
  },
  "language_info": {
   "codemirror_mode": {
    "name": "ipython",
    "version": 3
   },
   "file_extension": ".py",
   "mimetype": "text/x-python",
   "name": "python",
   "nbconvert_exporter": "python",
   "pygments_lexer": "ipython3",
   "version": "3.9.12"
  },
  "orig_nbformat": 4,
  "vscode": {
   "interpreter": {
    "hash": "610a6f344c2137faf927ea819c63f6cee33a2c04455044b28099f39fe9722347"
   }
  }
 },
 "nbformat": 4,
 "nbformat_minor": 2
}
