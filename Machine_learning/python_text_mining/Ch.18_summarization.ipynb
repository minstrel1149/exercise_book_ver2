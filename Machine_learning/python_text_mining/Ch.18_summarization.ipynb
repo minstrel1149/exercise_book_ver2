{
 "cells": [
  {
   "cell_type": "code",
   "execution_count": 20,
   "metadata": {},
   "outputs": [],
   "source": [
    "from transformers import pipeline\n",
    "from transformers import AutoModelForSeq2SeqLM, AutoTokenizer\n",
    "from transformers import T5TokenizerFast, T5ForConditionalGeneration\n",
    "import torch\n",
    "import torch.nn as nn\n",
    "import torch.nn.functional as F\n",
    "from datasets import load_dataset"
   ]
  },
  {
   "cell_type": "code",
   "execution_count": 2,
   "metadata": {},
   "outputs": [
    {
     "name": "stderr",
     "output_type": "stream",
     "text": [
      "No model was supplied, defaulted to sshleifer/distilbart-cnn-12-6 and revision a4f8f3e (https://huggingface.co/sshleifer/distilbart-cnn-12-6).\n",
      "Using a pipeline without specifying a model name and revision in production is not recommended.\n"
     ]
    },
    {
     "data": {
      "application/vnd.jupyter.widget-view+json": {
       "model_id": "f4e44c06b8744792b502cf137fce3e2f",
       "version_major": 2,
       "version_minor": 0
      },
      "text/plain": [
       "(…)ilbart-cnn-12-6/resolve/main/config.json:   0%|          | 0.00/1.80k [00:00<?, ?B/s]"
      ]
     },
     "metadata": {},
     "output_type": "display_data"
    },
    {
     "name": "stderr",
     "output_type": "stream",
     "text": [
      "c:\\Users\\admin\\anaconda3\\lib\\site-packages\\huggingface_hub\\file_download.py:138: UserWarning: `huggingface_hub` cache-system uses symlinks by default to efficiently store duplicated files but your machine does not support them in C:\\Users\\admin\\.cache\\huggingface\\hub. Caching files will still work but in a degraded version that might require more space on your disk. This warning can be disabled by setting the `HF_HUB_DISABLE_SYMLINKS_WARNING` environment variable. For more details, see https://huggingface.co/docs/huggingface_hub/how-to-cache#limitations.\n",
      "To support symlinks on Windows, you either need to activate Developer Mode or to run Python as an administrator. In order to see activate developer mode, see this article: https://docs.microsoft.com/en-us/windows/apps/get-started/enable-your-device-for-development\n",
      "  warnings.warn(message)\n"
     ]
    },
    {
     "data": {
      "application/vnd.jupyter.widget-view+json": {
       "model_id": "51b73bc158fa4e8d88e34a422da1411d",
       "version_major": 2,
       "version_minor": 0
      },
      "text/plain": [
       "pytorch_model.bin:   0%|          | 0.00/1.22G [00:00<?, ?B/s]"
      ]
     },
     "metadata": {},
     "output_type": "display_data"
    },
    {
     "data": {
      "application/vnd.jupyter.widget-view+json": {
       "model_id": "d715a6c3236041bdaf323b73411349e4",
       "version_major": 2,
       "version_minor": 0
      },
      "text/plain": [
       "(…)-12-6/resolve/main/tokenizer_config.json:   0%|          | 0.00/26.0 [00:00<?, ?B/s]"
      ]
     },
     "metadata": {},
     "output_type": "display_data"
    },
    {
     "data": {
      "application/vnd.jupyter.widget-view+json": {
       "model_id": "92ee0a5cf2ab4072b62ec2aa176ea23e",
       "version_major": 2,
       "version_minor": 0
      },
      "text/plain": [
       "(…)tilbart-cnn-12-6/resolve/main/vocab.json:   0%|          | 0.00/899k [00:00<?, ?B/s]"
      ]
     },
     "metadata": {},
     "output_type": "display_data"
    },
    {
     "data": {
      "application/vnd.jupyter.widget-view+json": {
       "model_id": "ff82e8538da246af9fc4297d9a6fffde",
       "version_major": 2,
       "version_minor": 0
      },
      "text/plain": [
       "(…)tilbart-cnn-12-6/resolve/main/merges.txt:   0%|          | 0.00/456k [00:00<?, ?B/s]"
      ]
     },
     "metadata": {},
     "output_type": "display_data"
    }
   ],
   "source": [
    "summarizer = pipeline('summarization')"
   ]
  },
  {
   "cell_type": "code",
   "execution_count": 3,
   "metadata": {},
   "outputs": [],
   "source": [
    "text = '''Text mining, also referred to as text data mining (abbr.: TDM), similar to text analytics, \n",
    "        is the process of deriving high-quality information from text. It involves \n",
    "        \"the discovery by computer of new, previously unknown information, \n",
    "        by automatically extracting information from different written resources.\" \n",
    "        Written resources may include websites, books, emails, reviews, and articles. \n",
    "        High-quality information is typically obtained by devising patterns and trends \n",
    "        by means such as statistical pattern learning. According to Hotho et al. (2005)\n",
    "        we can distinguish between three different perspectives of text mining: \n",
    "        information extraction, data mining, and a KDD (Knowledge Discovery in Databases) process.''' "
   ]
  },
  {
   "cell_type": "code",
   "execution_count": 4,
   "metadata": {},
   "outputs": [
    {
     "data": {
      "text/plain": [
       "[{'summary_text': ' Text mining involves deriving high-quality information from text . Written resources may include websites, books, emails, reviews, and articles . Text mining is similar to text analytics . It involves the discovery by computer of new, previously unknown information by automatically extracting information from different written resources .'}]"
      ]
     },
     "execution_count": 4,
     "metadata": {},
     "output_type": "execute_result"
    }
   ],
   "source": [
    "result = summarizer(text)\n",
    "result"
   ]
  },
  {
   "cell_type": "code",
   "execution_count": 5,
   "metadata": {},
   "outputs": [
    {
     "data": {
      "text/plain": [
       "(778, 341)"
      ]
     },
     "execution_count": 5,
     "metadata": {},
     "output_type": "execute_result"
    }
   ],
   "source": [
    "len(text), len(result[0]['summary_text'])"
   ]
  },
  {
   "cell_type": "code",
   "execution_count": 8,
   "metadata": {},
   "outputs": [
    {
     "data": {
      "application/vnd.jupyter.widget-view+json": {
       "model_id": "a55b238e335a4be4a865b9eadca33420",
       "version_major": 2,
       "version_minor": 0
      },
      "text/plain": [
       "(…)small/resolve/main/tokenizer_config.json:   0%|          | 0.00/2.32k [00:00<?, ?B/s]"
      ]
     },
     "metadata": {},
     "output_type": "display_data"
    },
    {
     "data": {
      "application/vnd.jupyter.widget-view+json": {
       "model_id": "bc46b8e8636540c18377de5d229e393f",
       "version_major": 2,
       "version_minor": 0
      },
      "text/plain": [
       "(…)ce.co/t5-small/resolve/main/spiece.model:   0%|          | 0.00/792k [00:00<?, ?B/s]"
      ]
     },
     "metadata": {},
     "output_type": "display_data"
    },
    {
     "data": {
      "application/vnd.jupyter.widget-view+json": {
       "model_id": "e6b8ab839e0443f4ac48e554a858f220",
       "version_major": 2,
       "version_minor": 0
      },
      "text/plain": [
       "(…).co/t5-small/resolve/main/tokenizer.json:   0%|          | 0.00/1.39M [00:00<?, ?B/s]"
      ]
     },
     "metadata": {},
     "output_type": "display_data"
    },
    {
     "data": {
      "application/vnd.jupyter.widget-view+json": {
       "model_id": "5040a55aead949dda07fe2f0837e8795",
       "version_major": 2,
       "version_minor": 0
      },
      "text/plain": [
       "(…)ace.co/t5-small/resolve/main/config.json:   0%|          | 0.00/1.21k [00:00<?, ?B/s]"
      ]
     },
     "metadata": {},
     "output_type": "display_data"
    },
    {
     "data": {
      "application/vnd.jupyter.widget-view+json": {
       "model_id": "d9c529a501074635abb98e90d0ea9f08",
       "version_major": 2,
       "version_minor": 0
      },
      "text/plain": [
       "pytorch_model.bin:   0%|          | 0.00/242M [00:00<?, ?B/s]"
      ]
     },
     "metadata": {},
     "output_type": "display_data"
    }
   ],
   "source": [
    "tokenizer = AutoTokenizer.from_pretrained(\"t5-small\", model_max_length=512)\n",
    "model = AutoModelForSeq2SeqLM.from_pretrained('t5-small')\n",
    "device = torch.device('cuda') if torch.cuda.is_available() else torch.device('cpu')\n",
    "model = model.to(device)"
   ]
  },
  {
   "cell_type": "code",
   "execution_count": 9,
   "metadata": {},
   "outputs": [
    {
     "data": {
      "text/plain": [
       "(transformers.models.t5.tokenization_t5_fast.T5TokenizerFast,\n",
       " transformers.models.t5.modeling_t5.T5ForConditionalGeneration)"
      ]
     },
     "execution_count": 9,
     "metadata": {},
     "output_type": "execute_result"
    }
   ],
   "source": [
    "type(tokenizer), type(model)"
   ]
  },
  {
   "cell_type": "code",
   "execution_count": 10,
   "metadata": {},
   "outputs": [],
   "source": [
    "preprocess_text = text.strip().replace(\"\\n\",\"\")\n",
    "input_text = \"summarize: \" + preprocess_text"
   ]
  },
  {
   "cell_type": "code",
   "execution_count": 11,
   "metadata": {},
   "outputs": [],
   "source": [
    "tokenized_text = tokenizer.encode(input_text, return_tensors=\"pt\").to(device)"
   ]
  },
  {
   "cell_type": "code",
   "execution_count": 12,
   "metadata": {},
   "outputs": [],
   "source": [
    "summary_ids = model.generate(tokenized_text,\n",
    "                             num_beams=4,\n",
    "                             no_repeat_ngram_size=3,\n",
    "                             min_length=30,\n",
    "                             max_length=100,\n",
    "                             early_stopping=True)"
   ]
  },
  {
   "cell_type": "code",
   "execution_count": 13,
   "metadata": {},
   "outputs": [
    {
     "data": {
      "text/plain": [
       "'text data mining is the process of deriving high-quality information from text. it involves the discovery by computer of new, previously unknown information. a KDD (Knowledge Discovery in Databases) process is similar to text analytics.'"
      ]
     },
     "execution_count": 13,
     "metadata": {},
     "output_type": "execute_result"
    }
   ],
   "source": [
    "output = tokenizer.decode(summary_ids[0], skip_special_tokens=True)\n",
    "output"
   ]
  },
  {
   "cell_type": "code",
   "execution_count": 15,
   "metadata": {},
   "outputs": [],
   "source": [
    "model = T5ForConditionalGeneration.from_pretrained('t5-small')\n",
    "tokenizer = T5TokenizerFast.from_pretrained('t5-small', model_max_length=1024)\n",
    "device = torch.device('cuda') if torch.cuda.is_available() else torch.device('cpu')\n",
    "model = model.to(device)"
   ]
  },
  {
   "cell_type": "code",
   "execution_count": 16,
   "metadata": {},
   "outputs": [],
   "source": [
    "text = '''The Inflation Reduction Act lowers prescription drug costs, health care costs, \n",
    "and energy costs. It's the most aggressive action on tackling the climate crisis in American history, \n",
    "which will lift up American workers and create good-paying, union jobs across the country. \n",
    "It'll lower the deficit and ask the ultra-wealthy and corporations to pay their fair share. \n",
    "And no one making under $400,000 per year will pay a penny more in taxes.'''"
   ]
  },
  {
   "cell_type": "code",
   "execution_count": 17,
   "metadata": {},
   "outputs": [],
   "source": [
    "preprocess_text = text.strip().replace('\\n', '')\n",
    "input_text = 'summarize: ' + preprocess_text"
   ]
  },
  {
   "cell_type": "code",
   "execution_count": 18,
   "metadata": {},
   "outputs": [],
   "source": [
    "tokenized_text = tokenizer.encode(input_text, return_tensors='pt').to(device)\n",
    "summary_ids = model.generate(tokenized_text,\n",
    "                             num_beams=4,\n",
    "                             no_repeat_ngram_size=3,\n",
    "                             min_length=30,\n",
    "                             max_length=100,\n",
    "                             early_stopping=True)"
   ]
  },
  {
   "cell_type": "code",
   "execution_count": 19,
   "metadata": {},
   "outputs": [
    {
     "data": {
      "text/plain": [
       "\"the Inflation Reduction Act lowers prescription drug costs, health care costs, and energy costs. it's the most aggressive action on tackling the climate crisis in history. no one making under $400,000 per year will pay a penny more in taxes.\""
      ]
     },
     "execution_count": 19,
     "metadata": {},
     "output_type": "execute_result"
    }
   ],
   "source": [
    "output = tokenizer.decode(summary_ids[0], skip_special_tokens=True)\n",
    "output"
   ]
  },
  {
   "cell_type": "code",
   "execution_count": 21,
   "metadata": {},
   "outputs": [
    {
     "data": {
      "application/vnd.jupyter.widget-view+json": {
       "model_id": "75e828bdcaea4d32a815e7ce88b24e19",
       "version_major": 2,
       "version_minor": 0
      },
      "text/plain": [
       "Downloading builder script:   0%|          | 0.00/3.66k [00:00<?, ?B/s]"
      ]
     },
     "metadata": {},
     "output_type": "display_data"
    },
    {
     "data": {
      "application/vnd.jupyter.widget-view+json": {
       "model_id": "145e250752534afaabed05896693c1f1",
       "version_major": 2,
       "version_minor": 0
      },
      "text/plain": [
       "Downloading metadata:   0%|          | 0.00/1.80k [00:00<?, ?B/s]"
      ]
     },
     "metadata": {},
     "output_type": "display_data"
    },
    {
     "data": {
      "application/vnd.jupyter.widget-view+json": {
       "model_id": "8e7e81bf48e541f3b8521249cbc39628",
       "version_major": 2,
       "version_minor": 0
      },
      "text/plain": [
       "Downloading readme:   0%|          | 0.00/6.70k [00:00<?, ?B/s]"
      ]
     },
     "metadata": {},
     "output_type": "display_data"
    },
    {
     "data": {
      "application/vnd.jupyter.widget-view+json": {
       "model_id": "13af3ba5605a459c9a5ea535ea4ffbb1",
       "version_major": 2,
       "version_minor": 0
      },
      "text/plain": [
       "Downloading data:   0%|          | 0.00/67.3M [00:00<?, ?B/s]"
      ]
     },
     "metadata": {},
     "output_type": "display_data"
    },
    {
     "data": {
      "application/vnd.jupyter.widget-view+json": {
       "model_id": "094627ce8db44a8f9b4803ab488ec5ba",
       "version_major": 2,
       "version_minor": 0
      },
      "text/plain": [
       "Generating train split:   0%|          | 0/18949 [00:00<?, ? examples/s]"
      ]
     },
     "metadata": {},
     "output_type": "display_data"
    },
    {
     "data": {
      "application/vnd.jupyter.widget-view+json": {
       "model_id": "c2d0f1972c0c41a4a0a9e7e5781275e4",
       "version_major": 2,
       "version_minor": 0
      },
      "text/plain": [
       "Generating test split:   0%|          | 0/3269 [00:00<?, ? examples/s]"
      ]
     },
     "metadata": {},
     "output_type": "display_data"
    },
    {
     "data": {
      "application/vnd.jupyter.widget-view+json": {
       "model_id": "e0dd8ebc22c148fe87a5d0380f608956",
       "version_major": 2,
       "version_minor": 0
      },
      "text/plain": [
       "Generating ca_test split:   0%|          | 0/1237 [00:00<?, ? examples/s]"
      ]
     },
     "metadata": {},
     "output_type": "display_data"
    },
    {
     "data": {
      "text/plain": [
       "{'text': 'The people of the State of California do enact as follows:\\n\\n\\nSECTION 1.\\nSection 4830 of the Business and Professions Code is amended to read:\\n4830.\\n(a) This chapter does not apply to:\\n(1) Veterinarians while serving in any armed branch of the military service of the United States or the United States Department of Agriculture while actually engaged and employed in their official capacity.\\n(2) Regularly licensed veterinarians in actual consultation from other states.\\n(3) Regularly licensed veterinarians actually called from other states to attend cases in this state, but who do not open an office or appoint a place to do business within this state.\\n(4) Veterinarians employed by the University of California while engaged in the performance of duties in connection with the College of Agriculture, the Agricultural Experiment Station, the School of Veterinary Medicine, or the agricultural extension work of the university or employed by the Western University of Health Sciences while engaged in the performance of duties in connection with the College of Veterinary Medicine or the agricultural extension work of the university.\\n(5) Students in the School of Veterinary Medicine of the University of California or the College of Veterinary Medicine of the Western University of Health Sciences who participate in diagnosis and treatment as part of their educational experience, including those in off-campus educational programs under the direct supervision of a licensed veterinarian in good standing, as defined in paragraph (1) of subdivision (b) of Section 4848, appointed by the University of California, Davis, or the Western University of Health Sciences.\\n(6) A veterinarian who is employed by the Meat and Poultry Inspection Branch of the California Department of Food and Agriculture while actually engaged and employed in his or her official capacity. A person exempt under this paragraph shall not otherwise engage in the practice of veterinary medicine unless he or she is issued a license by the board.\\n(7) Unlicensed personnel employed by the Department of Food and Agriculture or the United States Department of Agriculture when in the course of their duties they are directed by a veterinarian supervisor to conduct an examination, obtain biological specimens, apply biological tests, or administer medications or biological products as part of government disease or condition monitoring, investigation, control, or eradication activities.\\n(b) (1) For purposes of paragraph (3) of subdivision (a), a regularly licensed veterinarian in good standing who is called from another state by a law enforcement agency or animal control agency, as defined in Section 31606 of the Food and Agricultural Code, to attend to cases that are a part of an investigation of an alleged violation of federal or state animal fighting or animal cruelty laws within a single geographic location shall be exempt from the licensing requirements of this chapter if the law enforcement agency or animal control agency determines that it is necessary to call the veterinarian in order for the agency or officer to conduct the investigation in a timely, efficient, and effective manner. In determining whether it is necessary to call a veterinarian from another state, consideration shall be given to the availability of veterinarians in this state to attend to these cases. An agency, department, or officer that calls a veterinarian pursuant to this subdivision shall notify the board of the investigation.\\n(2) Notwithstanding any other provision of this chapter, a regularly licensed veterinarian in good standing who is called from another state to attend to cases that are a part of an investigation described in paragraph (1) may provide veterinary medical care for animals that are affected by the investigation with a temporary shelter facility, and the temporary shelter facility shall be exempt from the registration requirement of Section 4853 if all of the following conditions are met:\\n(A) The temporary shelter facility is established only for the purpose of the investigation.\\n(B) The temporary shelter facility provides veterinary medical care, shelter, food, and water only to animals that are affected by the investigation.\\n(C) The temporary shelter facility complies with Section 4854.\\n(D) The temporary shelter facility exists for not more than 60 days, unless the law enforcement agency or animal control agency determines that a longer period of time is necessary to complete the investigation.\\n(E) Within 30 calendar days upon completion of the provision of veterinary health care services at a temporary shelter facility established pursuant to this section, the veterinarian called from another state by a law enforcement agency or animal control agency to attend to a case shall file a report with the board. The report shall contain the date, place, type, and general description of the care provided, along with a listing of the veterinary health care practitioners who participated in providing that care.\\n(c) For purposes of paragraph (3) of subdivision (a), the board may inspect temporary facilities established pursuant to this section.',\n",
       " 'summary': 'Under existing law, the Veterinary Medicine Practice Act, the Veterinary Medical Board licenses and regulates veterinarians and the practice of veterinary medicine. It is unlawful for any person to practice veterinary medicine in this state unless he or she holds a valid, unexpired, and unrevoked license issued by the board, except under specified circumstances, including when regularly licensed veterinarians are actually called from other states to attend cases in this state and do not open an office or appoint a place to do business within the state.\\nThis bill would further specify, for purposes of that provision, that a regularly licensed veterinarian in good standing who is called from another state by a law enforcement agency or animal control agency to attend to cases that are a part of an investigation of an alleged violation of federal or state animal fighting or animal cruelty laws within a single geographic location shall be exempt from specified licensing requirements if the agency determines that it is necessary to call the veterinarian in order to conduct the investigation, as specified. The bill would require an agency, department, or officer that calls a veterinarian pursuant to these provisions to notify the board of the investigation. The bill would also authorize a veterinarian who is called from another state to care for animals that are affected by an investigation with a temporary shelter facility established only for the purpose of the investigation, which would be exempt from specified registration requirements if it meets specified conditions.',\n",
       " 'title': 'An act to amend Section 4830 of the Business and Professions Code, relating to veterinarians.'}"
      ]
     },
     "execution_count": 21,
     "metadata": {},
     "output_type": "execute_result"
    }
   ],
   "source": [
    "billsum = load_dataset(\"billsum\", split=\"ca_test\")\n",
    "billsum = billsum.train_test_split(test_size=0.2)\n",
    "example = billsum[\"train\"][0]\n",
    "example"
   ]
  },
  {
   "cell_type": "code",
   "execution_count": 25,
   "metadata": {},
   "outputs": [
    {
     "data": {
      "text/plain": [
       "'An act to amend Section 4830 of the Business and Professions Code, relating to veterinarians.'"
      ]
     },
     "execution_count": 25,
     "metadata": {},
     "output_type": "execute_result"
    }
   ],
   "source": [
    "example['title']"
   ]
  },
  {
   "cell_type": "code",
   "execution_count": null,
   "metadata": {},
   "outputs": [],
   "source": []
  }
 ],
 "metadata": {
  "kernelspec": {
   "display_name": "base",
   "language": "python",
   "name": "python3"
  },
  "language_info": {
   "codemirror_mode": {
    "name": "ipython",
    "version": 3
   },
   "file_extension": ".py",
   "mimetype": "text/x-python",
   "name": "python",
   "nbconvert_exporter": "python",
   "pygments_lexer": "ipython3",
   "version": "3.10.9"
  }
 },
 "nbformat": 4,
 "nbformat_minor": 2
}
