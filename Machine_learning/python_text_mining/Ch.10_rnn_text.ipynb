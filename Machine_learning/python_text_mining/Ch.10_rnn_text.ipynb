{
 "cells": [
  {
   "cell_type": "code",
   "execution_count": 24,
   "metadata": {},
   "outputs": [],
   "source": [
    "from nltk.corpus import movie_reviews\n",
    "import numpy as np\n",
    "import tensorflow as tf\n",
    "from tensorflow.keras.preprocessing.text import Tokenizer\n",
    "from tensorflow.keras.preprocessing.sequence import pad_sequences\n",
    "from tensorflow.keras.models import Sequential\n",
    "from tensorflow.keras.layers import Flatten, Dense, Embedding, SimpleRNN, LSTM, Bidirectional, GRU\n",
    "from tensorflow.keras.optimizers import Adam\n",
    "from sklearn.model_selection import train_test_split\n",
    "import matplotlib.pyplot as plt\n",
    "%matplotlib inline"
   ]
  },
  {
   "cell_type": "code",
   "execution_count": 2,
   "metadata": {},
   "outputs": [],
   "source": [
    "fileids = movie_reviews.fileids()\n",
    "reviews = [movie_reviews.raw(fileid) for fileid in fileids]\n",
    "categories = [movie_reviews.categories(fileid)[0] for fileid in fileids] "
   ]
  },
  {
   "cell_type": "code",
   "execution_count": 3,
   "metadata": {},
   "outputs": [],
   "source": [
    "np.random.seed(7)\n",
    "tf.random.set_seed(7)"
   ]
  },
  {
   "cell_type": "code",
   "execution_count": 4,
   "metadata": {},
   "outputs": [],
   "source": [
    "max_words = 10000\n",
    "tokenizer = Tokenizer(num_words=max_words, oov_token='UNK') \n",
    "tokenizer.fit_on_texts(reviews)\n",
    "X = tokenizer.texts_to_sequences(reviews) "
   ]
  },
  {
   "cell_type": "code",
   "execution_count": 5,
   "metadata": {},
   "outputs": [
    {
     "name": "stdout",
     "output_type": "stream",
     "text": [
      "Lengths of first 10 documents: [710, 240, 486, 479, 733, 671, 550, 584, 702, 776]\n"
     ]
    }
   ],
   "source": [
    "print('Lengths of first 10 documents:', [len(doc) for doc in X[:10]])"
   ]
  },
  {
   "cell_type": "code",
   "execution_count": 6,
   "metadata": {},
   "outputs": [
    {
     "name": "stdout",
     "output_type": "stream",
     "text": [
      "2 466 1\n"
     ]
    }
   ],
   "source": [
    "print(tokenizer.word_index['the'], tokenizer.word_index['review'], tokenizer.word_index['UNK'])"
   ]
  },
  {
   "cell_type": "code",
   "execution_count": 7,
   "metadata": {},
   "outputs": [],
   "source": [
    "maxlen = 500\n",
    "X = pad_sequences(X, maxlen=maxlen, truncating='pre') "
   ]
  },
  {
   "cell_type": "code",
   "execution_count": 8,
   "metadata": {},
   "outputs": [
    {
     "name": "stdout",
     "output_type": "stream",
     "text": [
      "{0, 1}\n"
     ]
    }
   ],
   "source": [
    "label_dict = {'pos':1, 'neg':0}\n",
    "y = np.array([label_dict[c] for c in categories])\n",
    "print(set(y))"
   ]
  },
  {
   "cell_type": "code",
   "execution_count": 9,
   "metadata": {},
   "outputs": [],
   "source": [
    "X_train, X_test, y_train, y_test = train_test_split(X, y, test_size=0.2, random_state=10)"
   ]
  },
  {
   "cell_type": "code",
   "execution_count": 10,
   "metadata": {},
   "outputs": [
    {
     "name": "stdout",
     "output_type": "stream",
     "text": [
      "Model: \"sequential\"\n",
      "_________________________________________________________________\n",
      " Layer (type)                Output Shape              Param #   \n",
      "=================================================================\n",
      " embedding (Embedding)       (None, 500, 32)           320000    \n",
      "                                                                 \n",
      " flatten (Flatten)           (None, 16000)             0         \n",
      "                                                                 \n",
      " dense (Dense)               (None, 1)                 16001     \n",
      "                                                                 \n",
      "=================================================================\n",
      "Total params: 336001 (1.28 MB)\n",
      "Trainable params: 336001 (1.28 MB)\n",
      "Non-trainable params: 0 (0.00 Byte)\n",
      "_________________________________________________________________\n"
     ]
    }
   ],
   "source": [
    "model = Sequential([\n",
    "    Embedding(max_words, 32, input_length=maxlen),\n",
    "    Flatten(),\n",
    "    Dense(1, activation='sigmoid')\n",
    "])\n",
    "\n",
    "model.summary()"
   ]
  },
  {
   "cell_type": "code",
   "execution_count": 11,
   "metadata": {},
   "outputs": [
    {
     "name": "stdout",
     "output_type": "stream",
     "text": [
      "Epoch 1/100\n",
      "40/40 [==============================] - 1s 8ms/step - loss: 0.6918 - acc: 0.5133 - val_loss: 0.6901 - val_acc: 0.5437\n",
      "Epoch 2/100\n",
      "40/40 [==============================] - 0s 5ms/step - loss: 0.6141 - acc: 0.8953 - val_loss: 0.6848 - val_acc: 0.5406\n",
      "Epoch 3/100\n",
      "40/40 [==============================] - 0s 5ms/step - loss: 0.5090 - acc: 0.9680 - val_loss: 0.6731 - val_acc: 0.5594\n",
      "Epoch 4/100\n",
      "40/40 [==============================] - 0s 4ms/step - loss: 0.3753 - acc: 0.9891 - val_loss: 0.6551 - val_acc: 0.6000\n",
      "Epoch 5/100\n",
      "40/40 [==============================] - 0s 5ms/step - loss: 0.2458 - acc: 0.9953 - val_loss: 0.6359 - val_acc: 0.6375\n",
      "Epoch 6/100\n",
      "40/40 [==============================] - 0s 5ms/step - loss: 0.1457 - acc: 0.9984 - val_loss: 0.6261 - val_acc: 0.6281\n",
      "Epoch 7/100\n",
      "40/40 [==============================] - 0s 5ms/step - loss: 0.0813 - acc: 1.0000 - val_loss: 0.6209 - val_acc: 0.6344\n",
      "Epoch 8/100\n",
      "40/40 [==============================] - 0s 4ms/step - loss: 0.0437 - acc: 1.0000 - val_loss: 0.6260 - val_acc: 0.6344\n",
      "Epoch 9/100\n",
      "40/40 [==============================] - 0s 5ms/step - loss: 0.0238 - acc: 1.0000 - val_loss: 0.6212 - val_acc: 0.6375\n",
      "Epoch 10/100\n",
      "40/40 [==============================] - 0s 5ms/step - loss: 0.0136 - acc: 1.0000 - val_loss: 0.6557 - val_acc: 0.6313\n",
      "Epoch 11/100\n",
      "40/40 [==============================] - 0s 5ms/step - loss: 0.0084 - acc: 1.0000 - val_loss: 0.6641 - val_acc: 0.6375\n",
      "Epoch 12/100\n",
      "40/40 [==============================] - 0s 5ms/step - loss: 0.0056 - acc: 1.0000 - val_loss: 0.6692 - val_acc: 0.6313\n",
      "Epoch 13/100\n",
      "40/40 [==============================] - 0s 5ms/step - loss: 0.0040 - acc: 1.0000 - val_loss: 0.6829 - val_acc: 0.6375\n",
      "Epoch 14/100\n",
      "40/40 [==============================] - 0s 5ms/step - loss: 0.0031 - acc: 1.0000 - val_loss: 0.6982 - val_acc: 0.6313\n",
      "Epoch 15/100\n",
      "40/40 [==============================] - 0s 5ms/step - loss: 0.0024 - acc: 1.0000 - val_loss: 0.7184 - val_acc: 0.6281\n",
      "Epoch 16/100\n",
      "40/40 [==============================] - 0s 5ms/step - loss: 0.0020 - acc: 1.0000 - val_loss: 0.7344 - val_acc: 0.6250\n",
      "Epoch 17/100\n",
      "40/40 [==============================] - 0s 5ms/step - loss: 0.0017 - acc: 1.0000 - val_loss: 0.7427 - val_acc: 0.6281\n",
      "Epoch 18/100\n",
      "40/40 [==============================] - 0s 5ms/step - loss: 0.0015 - acc: 1.0000 - val_loss: 0.7654 - val_acc: 0.6344\n",
      "Epoch 19/100\n",
      "40/40 [==============================] - 0s 5ms/step - loss: 0.0013 - acc: 1.0000 - val_loss: 0.7651 - val_acc: 0.6313\n",
      "Epoch 20/100\n",
      "40/40 [==============================] - 0s 5ms/step - loss: 0.0011 - acc: 1.0000 - val_loss: 0.7931 - val_acc: 0.6250\n",
      "Epoch 21/100\n",
      "40/40 [==============================] - 0s 4ms/step - loss: 0.0010 - acc: 1.0000 - val_loss: 0.7903 - val_acc: 0.6250\n",
      "Epoch 22/100\n",
      "40/40 [==============================] - 0s 4ms/step - loss: 8.9863e-04 - acc: 1.0000 - val_loss: 0.8070 - val_acc: 0.6375\n",
      "Epoch 23/100\n",
      "40/40 [==============================] - 0s 4ms/step - loss: 8.2023e-04 - acc: 1.0000 - val_loss: 0.8085 - val_acc: 0.6313\n",
      "Epoch 24/100\n",
      "40/40 [==============================] - 0s 5ms/step - loss: 7.5059e-04 - acc: 1.0000 - val_loss: 0.8187 - val_acc: 0.6313\n",
      "Epoch 25/100\n",
      "40/40 [==============================] - 0s 4ms/step - loss: 6.8917e-04 - acc: 1.0000 - val_loss: 0.8209 - val_acc: 0.6250\n",
      "Epoch 26/100\n",
      "40/40 [==============================] - 0s 5ms/step - loss: 6.3553e-04 - acc: 1.0000 - val_loss: 0.8265 - val_acc: 0.6219\n",
      "Epoch 27/100\n",
      "40/40 [==============================] - 0s 5ms/step - loss: 5.9665e-04 - acc: 1.0000 - val_loss: 0.8372 - val_acc: 0.6219\n",
      "Epoch 28/100\n",
      "40/40 [==============================] - 0s 5ms/step - loss: 5.5579e-04 - acc: 1.0000 - val_loss: 0.8438 - val_acc: 0.6250\n",
      "Epoch 29/100\n",
      "40/40 [==============================] - 0s 5ms/step - loss: 5.2242e-04 - acc: 1.0000 - val_loss: 0.8476 - val_acc: 0.6219\n",
      "Epoch 30/100\n",
      "40/40 [==============================] - 0s 5ms/step - loss: 4.9027e-04 - acc: 1.0000 - val_loss: 0.8526 - val_acc: 0.6219\n",
      "Epoch 31/100\n",
      "40/40 [==============================] - 0s 5ms/step - loss: 4.6415e-04 - acc: 1.0000 - val_loss: 0.8592 - val_acc: 0.6219\n",
      "Epoch 32/100\n",
      "40/40 [==============================] - 0s 5ms/step - loss: 4.3744e-04 - acc: 1.0000 - val_loss: 0.8644 - val_acc: 0.6250\n",
      "Epoch 33/100\n",
      "40/40 [==============================] - 0s 5ms/step - loss: 4.1693e-04 - acc: 1.0000 - val_loss: 0.8679 - val_acc: 0.6219\n",
      "Epoch 34/100\n",
      "40/40 [==============================] - 0s 4ms/step - loss: 3.9643e-04 - acc: 1.0000 - val_loss: 0.8732 - val_acc: 0.6219\n",
      "Epoch 35/100\n",
      "40/40 [==============================] - 0s 4ms/step - loss: 3.7520e-04 - acc: 1.0000 - val_loss: 0.8785 - val_acc: 0.6187\n",
      "Epoch 36/100\n",
      "40/40 [==============================] - 0s 5ms/step - loss: 3.5711e-04 - acc: 1.0000 - val_loss: 0.8832 - val_acc: 0.6219\n",
      "Epoch 37/100\n",
      "40/40 [==============================] - 0s 4ms/step - loss: 3.4346e-04 - acc: 1.0000 - val_loss: 0.8888 - val_acc: 0.6125\n",
      "Epoch 38/100\n",
      "40/40 [==============================] - 0s 5ms/step - loss: 3.2999e-04 - acc: 1.0000 - val_loss: 0.8968 - val_acc: 0.6156\n",
      "Epoch 39/100\n",
      "40/40 [==============================] - 0s 5ms/step - loss: 3.1842e-04 - acc: 1.0000 - val_loss: 0.8970 - val_acc: 0.6156\n",
      "Epoch 40/100\n",
      "40/40 [==============================] - 0s 4ms/step - loss: 3.0551e-04 - acc: 1.0000 - val_loss: 0.9000 - val_acc: 0.6156\n",
      "Epoch 41/100\n",
      "40/40 [==============================] - 0s 4ms/step - loss: 2.9316e-04 - acc: 1.0000 - val_loss: 0.9035 - val_acc: 0.6187\n",
      "Epoch 42/100\n",
      "40/40 [==============================] - 0s 5ms/step - loss: 2.8279e-04 - acc: 1.0000 - val_loss: 0.9067 - val_acc: 0.6125\n",
      "Epoch 43/100\n",
      "40/40 [==============================] - 0s 5ms/step - loss: 2.7243e-04 - acc: 1.0000 - val_loss: 0.9142 - val_acc: 0.6187\n",
      "Epoch 44/100\n",
      "40/40 [==============================] - 0s 5ms/step - loss: 2.6322e-04 - acc: 1.0000 - val_loss: 0.9155 - val_acc: 0.6156\n",
      "Epoch 45/100\n",
      "40/40 [==============================] - 0s 5ms/step - loss: 2.5384e-04 - acc: 1.0000 - val_loss: 0.9204 - val_acc: 0.6125\n",
      "Epoch 46/100\n",
      "40/40 [==============================] - 0s 5ms/step - loss: 2.4358e-04 - acc: 1.0000 - val_loss: 0.9211 - val_acc: 0.6125\n",
      "Epoch 47/100\n",
      "40/40 [==============================] - 0s 4ms/step - loss: 2.3866e-04 - acc: 1.0000 - val_loss: 0.9255 - val_acc: 0.6156\n",
      "Epoch 48/100\n",
      "40/40 [==============================] - 0s 4ms/step - loss: 2.3103e-04 - acc: 1.0000 - val_loss: 0.9296 - val_acc: 0.6125\n",
      "Epoch 49/100\n",
      "40/40 [==============================] - 0s 4ms/step - loss: 2.2327e-04 - acc: 1.0000 - val_loss: 0.9314 - val_acc: 0.6094\n",
      "Epoch 50/100\n",
      "40/40 [==============================] - 0s 4ms/step - loss: 2.1721e-04 - acc: 1.0000 - val_loss: 0.9339 - val_acc: 0.6125\n",
      "Epoch 51/100\n",
      "40/40 [==============================] - 0s 5ms/step - loss: 2.1087e-04 - acc: 1.0000 - val_loss: 0.9395 - val_acc: 0.6156\n",
      "Epoch 52/100\n",
      "40/40 [==============================] - 0s 5ms/step - loss: 2.0451e-04 - acc: 1.0000 - val_loss: 0.9413 - val_acc: 0.6094\n",
      "Epoch 53/100\n",
      "40/40 [==============================] - 0s 5ms/step - loss: 1.9983e-04 - acc: 1.0000 - val_loss: 0.9427 - val_acc: 0.6156\n",
      "Epoch 54/100\n",
      "40/40 [==============================] - 0s 5ms/step - loss: 1.9399e-04 - acc: 1.0000 - val_loss: 0.9462 - val_acc: 0.6156\n",
      "Epoch 55/100\n",
      "40/40 [==============================] - 0s 5ms/step - loss: 1.8882e-04 - acc: 1.0000 - val_loss: 0.9497 - val_acc: 0.6156\n",
      "Epoch 56/100\n",
      "40/40 [==============================] - 0s 5ms/step - loss: 1.8449e-04 - acc: 1.0000 - val_loss: 0.9509 - val_acc: 0.6125\n",
      "Epoch 57/100\n",
      "40/40 [==============================] - 0s 5ms/step - loss: 1.7919e-04 - acc: 1.0000 - val_loss: 0.9545 - val_acc: 0.6125\n",
      "Epoch 58/100\n",
      "40/40 [==============================] - 0s 5ms/step - loss: 1.7465e-04 - acc: 1.0000 - val_loss: 0.9572 - val_acc: 0.6125\n",
      "Epoch 59/100\n",
      "40/40 [==============================] - 0s 5ms/step - loss: 1.7109e-04 - acc: 1.0000 - val_loss: 0.9595 - val_acc: 0.6125\n",
      "Epoch 60/100\n",
      "40/40 [==============================] - 0s 5ms/step - loss: 1.6675e-04 - acc: 1.0000 - val_loss: 0.9617 - val_acc: 0.6156\n",
      "Epoch 61/100\n",
      "40/40 [==============================] - 0s 5ms/step - loss: 1.6329e-04 - acc: 1.0000 - val_loss: 0.9633 - val_acc: 0.6156\n",
      "Epoch 62/100\n",
      "40/40 [==============================] - 0s 4ms/step - loss: 1.5930e-04 - acc: 1.0000 - val_loss: 0.9674 - val_acc: 0.6156\n",
      "Epoch 63/100\n",
      "40/40 [==============================] - 0s 5ms/step - loss: 1.5550e-04 - acc: 1.0000 - val_loss: 0.9705 - val_acc: 0.6094\n",
      "Epoch 64/100\n",
      "40/40 [==============================] - 0s 5ms/step - loss: 1.5277e-04 - acc: 1.0000 - val_loss: 0.9718 - val_acc: 0.6156\n",
      "Epoch 65/100\n",
      "40/40 [==============================] - 0s 5ms/step - loss: 1.4918e-04 - acc: 1.0000 - val_loss: 0.9734 - val_acc: 0.6187\n",
      "Epoch 66/100\n",
      "40/40 [==============================] - 0s 5ms/step - loss: 1.4631e-04 - acc: 1.0000 - val_loss: 0.9751 - val_acc: 0.6187\n",
      "Epoch 67/100\n",
      "40/40 [==============================] - 0s 5ms/step - loss: 1.4348e-04 - acc: 1.0000 - val_loss: 0.9777 - val_acc: 0.6187\n",
      "Epoch 68/100\n",
      "40/40 [==============================] - 0s 5ms/step - loss: 1.4083e-04 - acc: 1.0000 - val_loss: 0.9799 - val_acc: 0.6187\n",
      "Epoch 69/100\n",
      "40/40 [==============================] - 0s 5ms/step - loss: 1.3767e-04 - acc: 1.0000 - val_loss: 0.9821 - val_acc: 0.6187\n",
      "Epoch 70/100\n",
      "40/40 [==============================] - 0s 5ms/step - loss: 1.3504e-04 - acc: 1.0000 - val_loss: 0.9849 - val_acc: 0.6156\n",
      "Epoch 71/100\n",
      "40/40 [==============================] - 0s 5ms/step - loss: 1.3261e-04 - acc: 1.0000 - val_loss: 0.9870 - val_acc: 0.6156\n",
      "Epoch 72/100\n",
      "40/40 [==============================] - 0s 5ms/step - loss: 1.2979e-04 - acc: 1.0000 - val_loss: 0.9875 - val_acc: 0.6187\n",
      "Epoch 73/100\n",
      "40/40 [==============================] - 0s 5ms/step - loss: 1.2759e-04 - acc: 1.0000 - val_loss: 0.9896 - val_acc: 0.6187\n",
      "Epoch 74/100\n",
      "40/40 [==============================] - 0s 5ms/step - loss: 1.2483e-04 - acc: 1.0000 - val_loss: 0.9923 - val_acc: 0.6187\n",
      "Epoch 75/100\n",
      "40/40 [==============================] - 0s 5ms/step - loss: 1.2253e-04 - acc: 1.0000 - val_loss: 0.9936 - val_acc: 0.6187\n",
      "Epoch 76/100\n",
      "40/40 [==============================] - 0s 5ms/step - loss: 1.2070e-04 - acc: 1.0000 - val_loss: 0.9951 - val_acc: 0.6125\n",
      "Epoch 77/100\n",
      "40/40 [==============================] - 0s 5ms/step - loss: 1.1848e-04 - acc: 1.0000 - val_loss: 0.9973 - val_acc: 0.6125\n",
      "Epoch 78/100\n",
      "40/40 [==============================] - 0s 5ms/step - loss: 1.1688e-04 - acc: 1.0000 - val_loss: 0.9995 - val_acc: 0.6187\n",
      "Epoch 79/100\n",
      "40/40 [==============================] - 0s 5ms/step - loss: 1.1473e-04 - acc: 1.0000 - val_loss: 1.0014 - val_acc: 0.6187\n",
      "Epoch 80/100\n",
      "40/40 [==============================] - 0s 5ms/step - loss: 1.1296e-04 - acc: 1.0000 - val_loss: 1.0026 - val_acc: 0.6187\n",
      "Epoch 81/100\n",
      "40/40 [==============================] - 0s 5ms/step - loss: 1.1086e-04 - acc: 1.0000 - val_loss: 1.0042 - val_acc: 0.6187\n",
      "Epoch 82/100\n",
      "40/40 [==============================] - 0s 4ms/step - loss: 1.0899e-04 - acc: 1.0000 - val_loss: 1.0066 - val_acc: 0.6187\n",
      "Epoch 83/100\n",
      "40/40 [==============================] - 0s 5ms/step - loss: 1.0737e-04 - acc: 1.0000 - val_loss: 1.0086 - val_acc: 0.6187\n",
      "Epoch 84/100\n",
      "40/40 [==============================] - 0s 5ms/step - loss: 1.0559e-04 - acc: 1.0000 - val_loss: 1.0103 - val_acc: 0.6156\n",
      "Epoch 85/100\n",
      "40/40 [==============================] - 0s 5ms/step - loss: 1.0394e-04 - acc: 1.0000 - val_loss: 1.0121 - val_acc: 0.6156\n",
      "Epoch 86/100\n",
      "40/40 [==============================] - 0s 5ms/step - loss: 1.0238e-04 - acc: 1.0000 - val_loss: 1.0127 - val_acc: 0.6187\n",
      "Epoch 87/100\n",
      "40/40 [==============================] - 0s 4ms/step - loss: 1.0098e-04 - acc: 1.0000 - val_loss: 1.0149 - val_acc: 0.6187\n",
      "Epoch 88/100\n",
      "40/40 [==============================] - 0s 4ms/step - loss: 9.9339e-05 - acc: 1.0000 - val_loss: 1.0169 - val_acc: 0.6156\n",
      "Epoch 89/100\n",
      "40/40 [==============================] - 0s 4ms/step - loss: 9.7521e-05 - acc: 1.0000 - val_loss: 1.0184 - val_acc: 0.6094\n",
      "Epoch 90/100\n",
      "40/40 [==============================] - 0s 4ms/step - loss: 9.6525e-05 - acc: 1.0000 - val_loss: 1.0195 - val_acc: 0.6156\n",
      "Epoch 91/100\n",
      "40/40 [==============================] - 0s 4ms/step - loss: 9.5279e-05 - acc: 1.0000 - val_loss: 1.0210 - val_acc: 0.6125\n",
      "Epoch 92/100\n",
      "40/40 [==============================] - 0s 4ms/step - loss: 9.3742e-05 - acc: 1.0000 - val_loss: 1.0233 - val_acc: 0.6156\n",
      "Epoch 93/100\n",
      "40/40 [==============================] - 0s 5ms/step - loss: 9.2475e-05 - acc: 1.0000 - val_loss: 1.0247 - val_acc: 0.6156\n",
      "Epoch 94/100\n",
      "40/40 [==============================] - 0s 4ms/step - loss: 9.1247e-05 - acc: 1.0000 - val_loss: 1.0270 - val_acc: 0.6156\n",
      "Epoch 95/100\n",
      "40/40 [==============================] - 0s 5ms/step - loss: 8.9912e-05 - acc: 1.0000 - val_loss: 1.0270 - val_acc: 0.6125\n",
      "Epoch 96/100\n",
      "40/40 [==============================] - 0s 4ms/step - loss: 8.8928e-05 - acc: 1.0000 - val_loss: 1.0289 - val_acc: 0.6125\n",
      "Epoch 97/100\n",
      "40/40 [==============================] - 0s 4ms/step - loss: 8.7396e-05 - acc: 1.0000 - val_loss: 1.0307 - val_acc: 0.6125\n",
      "Epoch 98/100\n",
      "40/40 [==============================] - 0s 4ms/step - loss: 8.6660e-05 - acc: 1.0000 - val_loss: 1.0317 - val_acc: 0.6125\n",
      "Epoch 99/100\n",
      "40/40 [==============================] - 0s 4ms/step - loss: 8.5321e-05 - acc: 1.0000 - val_loss: 1.0332 - val_acc: 0.6125\n",
      "Epoch 100/100\n",
      "40/40 [==============================] - 0s 4ms/step - loss: 8.4357e-05 - acc: 1.0000 - val_loss: 1.0349 - val_acc: 0.6125\n"
     ]
    }
   ],
   "source": [
    "model.compile(optimizer='rmsprop', loss='binary_crossentropy', metrics=['acc'])\n",
    "history = model.fit(X_train, y_train, \n",
    "                    epochs=100,\n",
    "                    verbose=1,\n",
    "                    validation_split=0.2)"
   ]
  },
  {
   "cell_type": "code",
   "execution_count": 12,
   "metadata": {},
   "outputs": [
    {
     "data": {
      "text/plain": [
       "<keras.src.callbacks.History at 0x12fb2e75e10>"
      ]
     },
     "execution_count": 12,
     "metadata": {},
     "output_type": "execute_result"
    }
   ],
   "source": [
    "history"
   ]
  },
  {
   "cell_type": "code",
   "execution_count": 15,
   "metadata": {},
   "outputs": [
    {
     "data": {
      "text/plain": [
       "[0.543749988079071,\n",
       " 0.5406249761581421,\n",
       " 0.559374988079071,\n",
       " 0.6000000238418579,\n",
       " 0.637499988079071,\n",
       " 0.628125011920929,\n",
       " 0.6343749761581421,\n",
       " 0.6343749761581421,\n",
       " 0.637499988079071,\n",
       " 0.6312500238418579,\n",
       " 0.637499988079071,\n",
       " 0.6312500238418579,\n",
       " 0.637499988079071,\n",
       " 0.6312500238418579,\n",
       " 0.628125011920929,\n",
       " 0.625,\n",
       " 0.628125011920929,\n",
       " 0.6343749761581421,\n",
       " 0.6312500238418579,\n",
       " 0.625,\n",
       " 0.625,\n",
       " 0.637499988079071,\n",
       " 0.6312500238418579,\n",
       " 0.6312500238418579,\n",
       " 0.625,\n",
       " 0.621874988079071,\n",
       " 0.621874988079071,\n",
       " 0.625,\n",
       " 0.621874988079071,\n",
       " 0.621874988079071,\n",
       " 0.621874988079071,\n",
       " 0.625,\n",
       " 0.621874988079071,\n",
       " 0.621874988079071,\n",
       " 0.6187499761581421,\n",
       " 0.621874988079071,\n",
       " 0.612500011920929,\n",
       " 0.6156250238418579,\n",
       " 0.6156250238418579,\n",
       " 0.6156250238418579,\n",
       " 0.6187499761581421,\n",
       " 0.612500011920929,\n",
       " 0.6187499761581421,\n",
       " 0.6156250238418579,\n",
       " 0.612500011920929,\n",
       " 0.612500011920929,\n",
       " 0.6156250238418579,\n",
       " 0.612500011920929,\n",
       " 0.609375,\n",
       " 0.612500011920929,\n",
       " 0.6156250238418579,\n",
       " 0.609375,\n",
       " 0.6156250238418579,\n",
       " 0.6156250238418579,\n",
       " 0.6156250238418579,\n",
       " 0.612500011920929,\n",
       " 0.612500011920929,\n",
       " 0.612500011920929,\n",
       " 0.612500011920929,\n",
       " 0.6156250238418579,\n",
       " 0.6156250238418579,\n",
       " 0.6156250238418579,\n",
       " 0.609375,\n",
       " 0.6156250238418579,\n",
       " 0.6187499761581421,\n",
       " 0.6187499761581421,\n",
       " 0.6187499761581421,\n",
       " 0.6187499761581421,\n",
       " 0.6187499761581421,\n",
       " 0.6156250238418579,\n",
       " 0.6156250238418579,\n",
       " 0.6187499761581421,\n",
       " 0.6187499761581421,\n",
       " 0.6187499761581421,\n",
       " 0.6187499761581421,\n",
       " 0.612500011920929,\n",
       " 0.612500011920929,\n",
       " 0.6187499761581421,\n",
       " 0.6187499761581421,\n",
       " 0.6187499761581421,\n",
       " 0.6187499761581421,\n",
       " 0.6187499761581421,\n",
       " 0.6187499761581421,\n",
       " 0.6156250238418579,\n",
       " 0.6156250238418579,\n",
       " 0.6187499761581421,\n",
       " 0.6187499761581421,\n",
       " 0.6156250238418579,\n",
       " 0.609375,\n",
       " 0.6156250238418579,\n",
       " 0.612500011920929,\n",
       " 0.6156250238418579,\n",
       " 0.6156250238418579,\n",
       " 0.6156250238418579,\n",
       " 0.612500011920929,\n",
       " 0.612500011920929,\n",
       " 0.612500011920929,\n",
       " 0.612500011920929,\n",
       " 0.612500011920929,\n",
       " 0.612500011920929]"
      ]
     },
     "execution_count": 15,
     "metadata": {},
     "output_type": "execute_result"
    }
   ],
   "source": [
    "history.history['val_acc']"
   ]
  },
  {
   "cell_type": "code",
   "execution_count": 16,
   "metadata": {},
   "outputs": [
    {
     "data": {
      "image/png": "[encoded data removed]",
      "text/plain": [
       "<Figure size 432x288 with 1 Axes>"
      ]
     },
     "metadata": {
      "needs_background": "light"
     },
     "output_type": "display_data"
    }
   ],
   "source": [
    "def plot_results(history, metric):\n",
    "    plt.plot(history.history[metric], 'b', label='Training '+metric)\n",
    "    plt.plot(history.history['val_'+metric], 'r--', label='Validation '+metric)\n",
    "    plt.title('Training vs. Validation '+metric)\n",
    "    plt.xlabel('Epochs')\n",
    "    plt.ylabel(metric)\n",
    "    plt.legend()\n",
    "    plt.show()\n",
    "\n",
    "plot_results(history, 'acc')"
   ]
  },
  {
   "cell_type": "code",
   "execution_count": 18,
   "metadata": {},
   "outputs": [
    {
     "name": "stdout",
     "output_type": "stream",
     "text": [
      "13/13 [==============================] - 0s 2ms/step - loss: 1.1182 - acc: 0.6325\n"
     ]
    },
    {
     "data": {
      "text/plain": [
       "0.6324999928474426"
      ]
     },
     "execution_count": 18,
     "metadata": {},
     "output_type": "execute_result"
    }
   ],
   "source": [
    "score = model.evaluate(X_test, y_test)\n",
    "score[1]"
   ]
  },
  {
   "cell_type": "code",
   "execution_count": 20,
   "metadata": {},
   "outputs": [],
   "source": [
    "model = Sequential([\n",
    "    Embedding(max_words, 32),\n",
    "    SimpleRNN(32),\n",
    "    Dense(32, activation='relu'),\n",
    "    Dense(1, activation='sigmoid')\n",
    "])"
   ]
  },
  {
   "cell_type": "code",
   "execution_count": 21,
   "metadata": {},
   "outputs": [],
   "source": [
    "adam = Adam(learning_rate = 1e-4)"
   ]
  },
  {
   "cell_type": "code",
   "execution_count": 22,
   "metadata": {},
   "outputs": [
    {
     "name": "stdout",
     "output_type": "stream",
     "text": [
      "Epoch 1/100\n",
      "40/40 [==============================] - 3s 62ms/step - loss: 0.6940 - acc: 0.5094 - val_loss: 0.6921 - val_acc: 0.5094\n",
      "Epoch 2/100\n",
      "40/40 [==============================] - 2s 56ms/step - loss: 0.6821 - acc: 0.5734 - val_loss: 0.6917 - val_acc: 0.5125\n",
      "Epoch 3/100\n",
      "40/40 [==============================] - 2s 56ms/step - loss: 0.6694 - acc: 0.6508 - val_loss: 0.6909 - val_acc: 0.5250\n",
      "Epoch 4/100\n",
      "40/40 [==============================] - 2s 57ms/step - loss: 0.6528 - acc: 0.7203 - val_loss: 0.6882 - val_acc: 0.5406\n",
      "Epoch 5/100\n",
      "40/40 [==============================] - 2s 56ms/step - loss: 0.6301 - acc: 0.7797 - val_loss: 0.6831 - val_acc: 0.5625\n",
      "Epoch 6/100\n",
      "40/40 [==============================] - 2s 56ms/step - loss: 0.6009 - acc: 0.8516 - val_loss: 0.6799 - val_acc: 0.5906\n",
      "Epoch 7/100\n",
      "40/40 [==============================] - 2s 58ms/step - loss: 0.5596 - acc: 0.8953 - val_loss: 0.6729 - val_acc: 0.6062\n",
      "Epoch 8/100\n",
      "40/40 [==============================] - 2s 57ms/step - loss: 0.5155 - acc: 0.9242 - val_loss: 0.6755 - val_acc: 0.5688\n",
      "Epoch 9/100\n",
      "40/40 [==============================] - 2s 58ms/step - loss: 0.4598 - acc: 0.9516 - val_loss: 0.6559 - val_acc: 0.6375\n",
      "Epoch 10/100\n",
      "40/40 [==============================] - 2s 57ms/step - loss: 0.4002 - acc: 0.9688 - val_loss: 0.6569 - val_acc: 0.6125\n",
      "Epoch 11/100\n",
      "40/40 [==============================] - 2s 57ms/step - loss: 0.3438 - acc: 0.9836 - val_loss: 0.6485 - val_acc: 0.6562\n",
      "Epoch 12/100\n",
      "40/40 [==============================] - 2s 57ms/step - loss: 0.2889 - acc: 0.9914 - val_loss: 0.6466 - val_acc: 0.6844\n",
      "Epoch 13/100\n",
      "40/40 [==============================] - 2s 56ms/step - loss: 0.2420 - acc: 0.9945 - val_loss: 0.6482 - val_acc: 0.6562\n",
      "Epoch 14/100\n",
      "40/40 [==============================] - 2s 56ms/step - loss: 0.2013 - acc: 0.9969 - val_loss: 0.6667 - val_acc: 0.6531\n",
      "Epoch 15/100\n",
      "40/40 [==============================] - 2s 57ms/step - loss: 0.1664 - acc: 0.9984 - val_loss: 0.6552 - val_acc: 0.6812\n",
      "Epoch 16/100\n",
      "40/40 [==============================] - 2s 58ms/step - loss: 0.1370 - acc: 0.9992 - val_loss: 0.6578 - val_acc: 0.6844\n",
      "Epoch 17/100\n",
      "40/40 [==============================] - 2s 58ms/step - loss: 0.1129 - acc: 0.9992 - val_loss: 0.6672 - val_acc: 0.6812\n",
      "Epoch 18/100\n",
      "40/40 [==============================] - 2s 58ms/step - loss: 0.0937 - acc: 1.0000 - val_loss: 0.6871 - val_acc: 0.6719\n",
      "Epoch 19/100\n",
      "40/40 [==============================] - 2s 58ms/step - loss: 0.0786 - acc: 1.0000 - val_loss: 0.6923 - val_acc: 0.6750\n",
      "Epoch 20/100\n",
      "40/40 [==============================] - 2s 57ms/step - loss: 0.0660 - acc: 1.0000 - val_loss: 0.7069 - val_acc: 0.6562\n",
      "Epoch 21/100\n",
      "40/40 [==============================] - 2s 57ms/step - loss: 0.0557 - acc: 1.0000 - val_loss: 0.7062 - val_acc: 0.6594\n",
      "Epoch 22/100\n",
      "40/40 [==============================] - 2s 58ms/step - loss: 0.0470 - acc: 1.0000 - val_loss: 0.7236 - val_acc: 0.6500\n",
      "Epoch 23/100\n",
      "40/40 [==============================] - 2s 57ms/step - loss: 0.0402 - acc: 1.0000 - val_loss: 0.7258 - val_acc: 0.6594\n",
      "Epoch 24/100\n",
      "40/40 [==============================] - 2s 56ms/step - loss: 0.0344 - acc: 1.0000 - val_loss: 0.7397 - val_acc: 0.6656\n",
      "Epoch 25/100\n",
      "40/40 [==============================] - 2s 56ms/step - loss: 0.0297 - acc: 1.0000 - val_loss: 0.7424 - val_acc: 0.6594\n",
      "Epoch 26/100\n",
      "40/40 [==============================] - 2s 57ms/step - loss: 0.0261 - acc: 1.0000 - val_loss: 0.7483 - val_acc: 0.6687\n",
      "Epoch 27/100\n",
      "40/40 [==============================] - 2s 56ms/step - loss: 0.0230 - acc: 1.0000 - val_loss: 0.7709 - val_acc: 0.6562\n",
      "Epoch 28/100\n",
      "40/40 [==============================] - 2s 57ms/step - loss: 0.0204 - acc: 1.0000 - val_loss: 0.7827 - val_acc: 0.6625\n",
      "Epoch 29/100\n",
      "40/40 [==============================] - 2s 56ms/step - loss: 0.0182 - acc: 1.0000 - val_loss: 0.7775 - val_acc: 0.6625\n",
      "Epoch 30/100\n",
      "40/40 [==============================] - 2s 57ms/step - loss: 0.0163 - acc: 1.0000 - val_loss: 0.7869 - val_acc: 0.6625\n",
      "Epoch 31/100\n",
      "40/40 [==============================] - 2s 57ms/step - loss: 0.0147 - acc: 1.0000 - val_loss: 0.7999 - val_acc: 0.6469\n",
      "Epoch 32/100\n",
      "40/40 [==============================] - 2s 56ms/step - loss: 0.0133 - acc: 1.0000 - val_loss: 0.8079 - val_acc: 0.6594\n",
      "Epoch 33/100\n",
      "40/40 [==============================] - 2s 56ms/step - loss: 0.0121 - acc: 1.0000 - val_loss: 0.8164 - val_acc: 0.6531\n",
      "Epoch 34/100\n",
      "40/40 [==============================] - 2s 56ms/step - loss: 0.0110 - acc: 1.0000 - val_loss: 0.8225 - val_acc: 0.6406\n",
      "Epoch 35/100\n",
      "40/40 [==============================] - 2s 56ms/step - loss: 0.0101 - acc: 1.0000 - val_loss: 0.8357 - val_acc: 0.6531\n",
      "Epoch 36/100\n",
      "40/40 [==============================] - 2s 57ms/step - loss: 0.0093 - acc: 1.0000 - val_loss: 0.8504 - val_acc: 0.6531\n",
      "Epoch 37/100\n",
      "40/40 [==============================] - 2s 56ms/step - loss: 0.0085 - acc: 1.0000 - val_loss: 0.8498 - val_acc: 0.6469\n",
      "Epoch 38/100\n",
      "40/40 [==============================] - 2s 55ms/step - loss: 0.0079 - acc: 1.0000 - val_loss: 0.8648 - val_acc: 0.6531\n",
      "Epoch 39/100\n",
      "40/40 [==============================] - 2s 57ms/step - loss: 0.0073 - acc: 1.0000 - val_loss: 0.8666 - val_acc: 0.6594\n",
      "Epoch 40/100\n",
      "40/40 [==============================] - 2s 57ms/step - loss: 0.0068 - acc: 1.0000 - val_loss: 0.8737 - val_acc: 0.6438\n",
      "Epoch 41/100\n",
      "40/40 [==============================] - 2s 58ms/step - loss: 0.0063 - acc: 1.0000 - val_loss: 0.8838 - val_acc: 0.6500\n",
      "Epoch 42/100\n",
      "40/40 [==============================] - 2s 58ms/step - loss: 0.0059 - acc: 1.0000 - val_loss: 0.8875 - val_acc: 0.6469\n",
      "Epoch 43/100\n",
      "40/40 [==============================] - 2s 55ms/step - loss: 0.0055 - acc: 1.0000 - val_loss: 0.8871 - val_acc: 0.6406\n",
      "Epoch 44/100\n",
      "40/40 [==============================] - 2s 57ms/step - loss: 0.0051 - acc: 1.0000 - val_loss: 0.9059 - val_acc: 0.6500\n",
      "Epoch 45/100\n",
      "40/40 [==============================] - 2s 57ms/step - loss: 0.0048 - acc: 1.0000 - val_loss: 0.9063 - val_acc: 0.6438\n",
      "Epoch 46/100\n",
      "40/40 [==============================] - 2s 56ms/step - loss: 0.0045 - acc: 1.0000 - val_loss: 0.9131 - val_acc: 0.6500\n",
      "Epoch 47/100\n",
      "40/40 [==============================] - 2s 55ms/step - loss: 0.0042 - acc: 1.0000 - val_loss: 0.9231 - val_acc: 0.6438\n",
      "Epoch 48/100\n",
      "40/40 [==============================] - 2s 56ms/step - loss: 0.0040 - acc: 1.0000 - val_loss: 0.9250 - val_acc: 0.6438\n",
      "Epoch 49/100\n",
      "40/40 [==============================] - 2s 56ms/step - loss: 0.0037 - acc: 1.0000 - val_loss: 0.9278 - val_acc: 0.6438\n",
      "Epoch 50/100\n",
      "40/40 [==============================] - 2s 57ms/step - loss: 0.0035 - acc: 1.0000 - val_loss: 0.9383 - val_acc: 0.6406\n",
      "Epoch 51/100\n",
      "40/40 [==============================] - 2s 55ms/step - loss: 0.0033 - acc: 1.0000 - val_loss: 0.9452 - val_acc: 0.6438\n",
      "Epoch 52/100\n",
      "40/40 [==============================] - 2s 57ms/step - loss: 0.0032 - acc: 1.0000 - val_loss: 0.9497 - val_acc: 0.6406\n",
      "Epoch 53/100\n",
      "40/40 [==============================] - 2s 57ms/step - loss: 0.0031 - acc: 1.0000 - val_loss: 0.9604 - val_acc: 0.6406\n",
      "Epoch 54/100\n",
      "40/40 [==============================] - 2s 58ms/step - loss: 0.0029 - acc: 1.0000 - val_loss: 0.9622 - val_acc: 0.6406\n",
      "Epoch 55/100\n",
      "40/40 [==============================] - 2s 58ms/step - loss: 0.0027 - acc: 1.0000 - val_loss: 0.9637 - val_acc: 0.6406\n",
      "Epoch 56/100\n",
      "40/40 [==============================] - 2s 56ms/step - loss: 0.0026 - acc: 1.0000 - val_loss: 0.9735 - val_acc: 0.6406\n",
      "Epoch 57/100\n",
      "40/40 [==============================] - 2s 57ms/step - loss: 0.0024 - acc: 1.0000 - val_loss: 0.9766 - val_acc: 0.6438\n",
      "Epoch 58/100\n",
      "40/40 [==============================] - 2s 57ms/step - loss: 0.0023 - acc: 1.0000 - val_loss: 0.9865 - val_acc: 0.6375\n",
      "Epoch 59/100\n",
      "40/40 [==============================] - 2s 55ms/step - loss: 0.0022 - acc: 1.0000 - val_loss: 0.9912 - val_acc: 0.6344\n",
      "Epoch 60/100\n",
      "40/40 [==============================] - 2s 57ms/step - loss: 0.0021 - acc: 1.0000 - val_loss: 0.9929 - val_acc: 0.6438\n",
      "Epoch 61/100\n",
      "40/40 [==============================] - 2s 56ms/step - loss: 0.0020 - acc: 1.0000 - val_loss: 1.0022 - val_acc: 0.6344\n",
      "Epoch 62/100\n",
      "40/40 [==============================] - 2s 56ms/step - loss: 0.0019 - acc: 1.0000 - val_loss: 1.0037 - val_acc: 0.6344\n",
      "Epoch 63/100\n",
      "40/40 [==============================] - 2s 57ms/step - loss: 0.0018 - acc: 1.0000 - val_loss: 1.0114 - val_acc: 0.6375\n",
      "Epoch 64/100\n",
      "40/40 [==============================] - 2s 57ms/step - loss: 0.0017 - acc: 1.0000 - val_loss: 1.0190 - val_acc: 0.6375\n",
      "Epoch 65/100\n",
      "40/40 [==============================] - 2s 56ms/step - loss: 0.0017 - acc: 1.0000 - val_loss: 1.0228 - val_acc: 0.6344\n",
      "Epoch 66/100\n",
      "40/40 [==============================] - 2s 56ms/step - loss: 0.0016 - acc: 1.0000 - val_loss: 1.0235 - val_acc: 0.6344\n",
      "Epoch 67/100\n",
      "40/40 [==============================] - 2s 58ms/step - loss: 0.0015 - acc: 1.0000 - val_loss: 1.0351 - val_acc: 0.6344\n",
      "Epoch 68/100\n",
      "40/40 [==============================] - 2s 56ms/step - loss: 0.0015 - acc: 1.0000 - val_loss: 1.0364 - val_acc: 0.6313\n",
      "Epoch 69/100\n",
      "40/40 [==============================] - 2s 58ms/step - loss: 0.0014 - acc: 1.0000 - val_loss: 1.0410 - val_acc: 0.6313\n",
      "Epoch 70/100\n",
      "40/40 [==============================] - 2s 57ms/step - loss: 0.0013 - acc: 1.0000 - val_loss: 1.0499 - val_acc: 0.6344\n",
      "Epoch 71/100\n",
      "40/40 [==============================] - 2s 57ms/step - loss: 0.0013 - acc: 1.0000 - val_loss: 1.0502 - val_acc: 0.6281\n",
      "Epoch 72/100\n",
      "40/40 [==============================] - 2s 57ms/step - loss: 0.0012 - acc: 1.0000 - val_loss: 1.0608 - val_acc: 0.6250\n",
      "Epoch 73/100\n",
      "40/40 [==============================] - 2s 57ms/step - loss: 0.0012 - acc: 1.0000 - val_loss: 1.0626 - val_acc: 0.6250\n",
      "Epoch 74/100\n",
      "40/40 [==============================] - 2s 56ms/step - loss: 0.0011 - acc: 1.0000 - val_loss: 1.0702 - val_acc: 0.6219\n",
      "Epoch 75/100\n",
      "40/40 [==============================] - 2s 55ms/step - loss: 0.0011 - acc: 1.0000 - val_loss: 1.0715 - val_acc: 0.6219\n",
      "Epoch 76/100\n",
      "40/40 [==============================] - 2s 56ms/step - loss: 0.0011 - acc: 1.0000 - val_loss: 1.0781 - val_acc: 0.6219\n",
      "Epoch 77/100\n",
      "40/40 [==============================] - 2s 57ms/step - loss: 0.0010 - acc: 1.0000 - val_loss: 1.0915 - val_acc: 0.6219\n",
      "Epoch 78/100\n",
      "40/40 [==============================] - 2s 56ms/step - loss: 9.8136e-04 - acc: 1.0000 - val_loss: 1.0948 - val_acc: 0.6219\n",
      "Epoch 79/100\n",
      "40/40 [==============================] - 2s 57ms/step - loss: 9.6352e-04 - acc: 1.0000 - val_loss: 1.0968 - val_acc: 0.6250\n",
      "Epoch 80/100\n",
      "40/40 [==============================] - 2s 56ms/step - loss: 9.1895e-04 - acc: 1.0000 - val_loss: 1.1088 - val_acc: 0.6219\n",
      "Epoch 81/100\n",
      "40/40 [==============================] - 2s 57ms/step - loss: 8.7912e-04 - acc: 1.0000 - val_loss: 1.1166 - val_acc: 0.6156\n",
      "Epoch 82/100\n",
      "40/40 [==============================] - 2s 57ms/step - loss: 8.4210e-04 - acc: 1.0000 - val_loss: 1.1104 - val_acc: 0.6219\n",
      "Epoch 83/100\n",
      "40/40 [==============================] - 2s 57ms/step - loss: 8.1105e-04 - acc: 1.0000 - val_loss: 1.1176 - val_acc: 0.6187\n",
      "Epoch 84/100\n",
      "40/40 [==============================] - 2s 55ms/step - loss: 7.8157e-04 - acc: 1.0000 - val_loss: 1.1334 - val_acc: 0.6219\n",
      "Epoch 85/100\n",
      "40/40 [==============================] - 2s 57ms/step - loss: 7.5294e-04 - acc: 1.0000 - val_loss: 1.1249 - val_acc: 0.6125\n",
      "Epoch 86/100\n",
      "40/40 [==============================] - 2s 55ms/step - loss: 7.2630e-04 - acc: 1.0000 - val_loss: 1.1301 - val_acc: 0.6125\n",
      "Epoch 87/100\n",
      "40/40 [==============================] - 2s 57ms/step - loss: 7.0057e-04 - acc: 1.0000 - val_loss: 1.1362 - val_acc: 0.6156\n",
      "Epoch 88/100\n",
      "40/40 [==============================] - 2s 56ms/step - loss: 6.7713e-04 - acc: 1.0000 - val_loss: 1.1332 - val_acc: 0.6156\n",
      "Epoch 89/100\n",
      "40/40 [==============================] - 2s 55ms/step - loss: 6.5716e-04 - acc: 1.0000 - val_loss: 1.1393 - val_acc: 0.6094\n",
      "Epoch 90/100\n",
      "40/40 [==============================] - 2s 56ms/step - loss: 6.3584e-04 - acc: 1.0000 - val_loss: 1.1584 - val_acc: 0.6125\n",
      "Epoch 91/100\n",
      "40/40 [==============================] - 2s 55ms/step - loss: 6.1230e-04 - acc: 1.0000 - val_loss: 1.1538 - val_acc: 0.6125\n",
      "Epoch 92/100\n",
      "40/40 [==============================] - 2s 56ms/step - loss: 5.9172e-04 - acc: 1.0000 - val_loss: 1.1718 - val_acc: 0.6125\n",
      "Epoch 93/100\n",
      "40/40 [==============================] - 2s 56ms/step - loss: 5.7082e-04 - acc: 1.0000 - val_loss: 1.1724 - val_acc: 0.6125\n",
      "Epoch 94/100\n",
      "40/40 [==============================] - 2s 56ms/step - loss: 5.5132e-04 - acc: 1.0000 - val_loss: 1.1731 - val_acc: 0.6125\n",
      "Epoch 95/100\n",
      "40/40 [==============================] - 2s 58ms/step - loss: 5.3314e-04 - acc: 1.0000 - val_loss: 1.1734 - val_acc: 0.6125\n",
      "Epoch 96/100\n",
      "40/40 [==============================] - 2s 56ms/step - loss: 5.1595e-04 - acc: 1.0000 - val_loss: 1.1856 - val_acc: 0.6125\n",
      "Epoch 97/100\n",
      "40/40 [==============================] - 2s 56ms/step - loss: 5.0006e-04 - acc: 1.0000 - val_loss: 1.1811 - val_acc: 0.6062\n",
      "Epoch 98/100\n",
      "40/40 [==============================] - 2s 57ms/step - loss: 4.8509e-04 - acc: 1.0000 - val_loss: 1.1999 - val_acc: 0.6094\n",
      "Epoch 99/100\n",
      "40/40 [==============================] - 2s 57ms/step - loss: 4.8210e-04 - acc: 1.0000 - val_loss: 1.1994 - val_acc: 0.6125\n",
      "Epoch 100/100\n",
      "40/40 [==============================] - 2s 57ms/step - loss: 0.1769 - acc: 0.9312 - val_loss: 1.2928 - val_acc: 0.5625\n"
     ]
    }
   ],
   "source": [
    "model.compile(optimizer=adam, loss='binary_crossentropy', metrics=['acc'])\n",
    "history = model.fit(X_train, y_train, \n",
    "                    epochs=100,\n",
    "                    verbose=1,\n",
    "                    validation_split=0.2)"
   ]
  },
  {
   "cell_type": "code",
   "execution_count": 23,
   "metadata": {},
   "outputs": [
    {
     "name": "stdout",
     "output_type": "stream",
     "text": [
      "13/13 [==============================] - 0s 11ms/step - loss: 1.2495 - acc: 0.5925\n"
     ]
    },
    {
     "data": {
      "text/plain": [
       "[1.2494585514068604, 0.5924999713897705]"
      ]
     },
     "execution_count": 23,
     "metadata": {},
     "output_type": "execute_result"
    }
   ],
   "source": [
    "score = model.evaluate(X_test, y_test)\n",
    "score"
   ]
  },
  {
   "cell_type": "code",
   "execution_count": 25,
   "metadata": {},
   "outputs": [
    {
     "data": {
      "image/png": "[encoded data removed]",
      "text/plain": [
       "<Figure size 432x288 with 1 Axes>"
      ]
     },
     "metadata": {
      "needs_background": "light"
     },
     "output_type": "display_data"
    }
   ],
   "source": [
    "plot_results(history, 'acc')"
   ]
  },
  {
   "cell_type": "code",
   "execution_count": 26,
   "metadata": {},
   "outputs": [],
   "source": [
    "model = Sequential([\n",
    "    Embedding(max_words, 64),\n",
    "    Bidirectional(LSTM(64)),\n",
    "    Dense(64, activation='relu'),\n",
    "    Dense(1, activation='sigmoid')\n",
    "])"
   ]
  },
  {
   "cell_type": "code",
   "execution_count": 30,
   "metadata": {},
   "outputs": [
    {
     "name": "stdout",
     "output_type": "stream",
     "text": [
      "Epoch 1/10\n",
      "40/40 [==============================] - 8s 150ms/step - loss: 0.6920 - acc: 0.5469 - val_loss: 0.6930 - val_acc: 0.5125\n",
      "Epoch 2/10\n",
      "40/40 [==============================] - 5s 136ms/step - loss: 0.6905 - acc: 0.5711 - val_loss: 0.6928 - val_acc: 0.5125\n",
      "Epoch 3/10\n",
      "40/40 [==============================] - 5s 136ms/step - loss: 0.6882 - acc: 0.6133 - val_loss: 0.6922 - val_acc: 0.5344\n",
      "Epoch 4/10\n",
      "40/40 [==============================] - 5s 137ms/step - loss: 0.6827 - acc: 0.6422 - val_loss: 0.6891 - val_acc: 0.5531\n",
      "Epoch 5/10\n",
      "40/40 [==============================] - 5s 136ms/step - loss: 0.6478 - acc: 0.6898 - val_loss: 0.6412 - val_acc: 0.6594\n",
      "Epoch 6/10\n",
      "40/40 [==============================] - 5s 137ms/step - loss: 0.5463 - acc: 0.7930 - val_loss: 0.5592 - val_acc: 0.7375\n",
      "Epoch 7/10\n",
      "40/40 [==============================] - 5s 136ms/step - loss: 0.4962 - acc: 0.7867 - val_loss: 0.6090 - val_acc: 0.6344\n",
      "Epoch 8/10\n",
      "40/40 [==============================] - 5s 137ms/step - loss: 0.3866 - acc: 0.8523 - val_loss: 0.6071 - val_acc: 0.7250\n",
      "Epoch 9/10\n",
      "40/40 [==============================] - 6s 140ms/step - loss: 0.3105 - acc: 0.8789 - val_loss: 0.5642 - val_acc: 0.7625\n",
      "Epoch 10/10\n",
      "40/40 [==============================] - 6s 141ms/step - loss: 0.2184 - acc: 0.9328 - val_loss: 0.5804 - val_acc: 0.7688\n"
     ]
    }
   ],
   "source": [
    "adam = Adam(learning_rate = 1e-4)\n",
    "model.compile(optimizer=adam, loss='binary_crossentropy', metrics=['acc'])\n",
    "history = model.fit(X_train, y_train, \n",
    "                    epochs=10,\n",
    "                    verbose=1,\n",
    "                    validation_split=0.2)"
   ]
  },
  {
   "cell_type": "code",
   "execution_count": 31,
   "metadata": {},
   "outputs": [
    {
     "name": "stdout",
     "output_type": "stream",
     "text": [
      "13/13 [==============================] - 1s 42ms/step - loss: 0.5434 - acc: 0.7825\n"
     ]
    },
    {
     "data": {
      "text/plain": [
       "[0.5434330105781555, 0.7825000286102295]"
      ]
     },
     "execution_count": 31,
     "metadata": {},
     "output_type": "execute_result"
    }
   ],
   "source": [
    "score = model.evaluate(X_test, y_test)\n",
    "score"
   ]
  },
  {
   "cell_type": "code",
   "execution_count": 32,
   "metadata": {},
   "outputs": [
    {
     "data": {
      "image/png": "[encoded data removed]",
      "text/plain": [
       "<Figure size 432x288 with 1 Axes>"
      ]
     },
     "metadata": {
      "needs_background": "light"
     },
     "output_type": "display_data"
    }
   ],
   "source": [
    "plot_results(history, 'acc')"
   ]
  },
  {
   "cell_type": "code",
   "execution_count": 33,
   "metadata": {},
   "outputs": [],
   "source": [
    "model = Sequential([\n",
    "    Embedding(max_words, 64),\n",
    "    Bidirectional(GRU(64)),\n",
    "    Dense(64, activation='relu'),\n",
    "    Dense(1, activation='sigmoid')\n",
    "])"
   ]
  },
  {
   "cell_type": "code",
   "execution_count": 34,
   "metadata": {},
   "outputs": [
    {
     "name": "stdout",
     "output_type": "stream",
     "text": [
      "Epoch 1/10\n",
      "40/40 [==============================] - 7s 128ms/step - loss: 0.6932 - acc: 0.5031 - val_loss: 0.6926 - val_acc: 0.5063\n",
      "Epoch 2/10\n",
      "40/40 [==============================] - 5s 114ms/step - loss: 0.6917 - acc: 0.5742 - val_loss: 0.6925 - val_acc: 0.4938\n",
      "Epoch 3/10\n",
      "40/40 [==============================] - 4s 112ms/step - loss: 0.6902 - acc: 0.5883 - val_loss: 0.6924 - val_acc: 0.5000\n",
      "Epoch 4/10\n",
      "40/40 [==============================] - 4s 111ms/step - loss: 0.6881 - acc: 0.5875 - val_loss: 0.6922 - val_acc: 0.5000\n",
      "Epoch 5/10\n",
      "40/40 [==============================] - 4s 112ms/step - loss: 0.6851 - acc: 0.6047 - val_loss: 0.6918 - val_acc: 0.5063\n",
      "Epoch 6/10\n",
      "40/40 [==============================] - 4s 111ms/step - loss: 0.6798 - acc: 0.6383 - val_loss: 0.6911 - val_acc: 0.5406\n",
      "Epoch 7/10\n",
      "40/40 [==============================] - 4s 112ms/step - loss: 0.6689 - acc: 0.6898 - val_loss: 0.6892 - val_acc: 0.5375\n",
      "Epoch 8/10\n",
      "40/40 [==============================] - 4s 112ms/step - loss: 0.6451 - acc: 0.7641 - val_loss: 0.6842 - val_acc: 0.5562\n",
      "Epoch 9/10\n",
      "40/40 [==============================] - 4s 112ms/step - loss: 0.6059 - acc: 0.8227 - val_loss: 0.6577 - val_acc: 0.5938\n",
      "Epoch 10/10\n",
      "40/40 [==============================] - 4s 112ms/step - loss: 0.4636 - acc: 0.8766 - val_loss: 0.6203 - val_acc: 0.6562\n"
     ]
    }
   ],
   "source": [
    "adam = Adam(learning_rate = 1e-4)\n",
    "model.compile(optimizer=adam, loss='binary_crossentropy', metrics=['acc'])\n",
    "history = model.fit(X_train, y_train, \n",
    "                    epochs=10,\n",
    "                    verbose=1,\n",
    "                    validation_split=0.2)"
   ]
  },
  {
   "cell_type": "code",
   "execution_count": 35,
   "metadata": {},
   "outputs": [
    {
     "name": "stdout",
     "output_type": "stream",
     "text": [
      "13/13 [==============================] - 1s 31ms/step - loss: 0.6080 - acc: 0.6575\n"
     ]
    },
    {
     "data": {
      "text/plain": [
       "[0.6079988479614258, 0.6575000286102295]"
      ]
     },
     "execution_count": 35,
     "metadata": {},
     "output_type": "execute_result"
    }
   ],
   "source": [
    "score = model.evaluate(X_test, y_test)\n",
    "score"
   ]
  },
  {
   "cell_type": "code",
   "execution_count": 36,
   "metadata": {},
   "outputs": [
    {
     "data": {
      "image/png": "[encoded data removed]",
      "text/plain": [
       "<Figure size 432x288 with 1 Axes>"
      ]
     },
     "metadata": {
      "needs_background": "light"
     },
     "output_type": "display_data"
    }
   ],
   "source": [
    "plot_results(history, 'acc')"
   ]
  },
  {
   "cell_type": "code",
   "execution_count": 37,
   "metadata": {},
   "outputs": [
    {
     "name": "stdout",
     "output_type": "stream",
     "text": [
      "4/4 [==============================] - 1s 27ms/step\n",
      "predicted value: 1.0, true value: 0, so the prediction is False\n",
      "predicted value: 1.0, true value: 1, so the prediction is True\n",
      "predicted value: 1.0, true value: 1, so the prediction is True\n",
      "predicted value: 0.0, true value: 0, so the prediction is True\n",
      "predicted value: 0.0, true value: 1, so the prediction is False\n",
      "predicted value: 1.0, true value: 1, so the prediction is True\n",
      "predicted value: 1.0, true value: 0, so the prediction is False\n",
      "predicted value: 0.0, true value: 0, so the prediction is True\n",
      "predicted value: 1.0, true value: 0, so the prediction is False\n",
      "predicted value: 0.0, true value: 0, so the prediction is True\n",
      "predicted value: 1.0, true value: 1, so the prediction is True\n",
      "predicted value: 0.0, true value: 1, so the prediction is False\n",
      "predicted value: 0.0, true value: 0, so the prediction is True\n",
      "predicted value: 0.0, true value: 0, so the prediction is True\n",
      "predicted value: 1.0, true value: 1, so the prediction is True\n",
      "predicted value: 1.0, true value: 0, so the prediction is False\n",
      "predicted value: 0.0, true value: 0, so the prediction is True\n",
      "predicted value: 1.0, true value: 1, so the prediction is True\n",
      "predicted value: 1.0, true value: 1, so the prediction is True\n",
      "predicted value: 0.0, true value: 1, so the prediction is False\n",
      "predicted value: 1.0, true value: 0, so the prediction is False\n",
      "predicted value: 1.0, true value: 0, so the prediction is False\n",
      "predicted value: 0.0, true value: 0, so the prediction is True\n",
      "predicted value: 1.0, true value: 0, so the prediction is False\n",
      "predicted value: 1.0, true value: 1, so the prediction is True\n",
      "predicted value: 1.0, true value: 1, so the prediction is True\n",
      "predicted value: 0.0, true value: 1, so the prediction is False\n",
      "predicted value: 0.0, true value: 0, so the prediction is True\n",
      "predicted value: 0.0, true value: 0, so the prediction is True\n",
      "predicted value: 1.0, true value: 1, so the prediction is True\n",
      "predicted value: 1.0, true value: 1, so the prediction is True\n",
      "predicted value: 1.0, true value: 1, so the prediction is True\n",
      "predicted value: 1.0, true value: 0, so the prediction is False\n",
      "predicted value: 0.0, true value: 1, so the prediction is False\n",
      "predicted value: 0.0, true value: 0, so the prediction is True\n",
      "predicted value: 1.0, true value: 0, so the prediction is False\n",
      "predicted value: 1.0, true value: 0, so the prediction is False\n",
      "predicted value: 0.0, true value: 1, so the prediction is False\n",
      "predicted value: 0.0, true value: 1, so the prediction is False\n",
      "predicted value: 1.0, true value: 0, so the prediction is False\n",
      "predicted value: 0.0, true value: 0, so the prediction is True\n",
      "predicted value: 1.0, true value: 1, so the prediction is True\n",
      "predicted value: 1.0, true value: 1, so the prediction is True\n",
      "predicted value: 0.0, true value: 1, so the prediction is False\n",
      "predicted value: 0.0, true value: 0, so the prediction is True\n",
      "predicted value: 1.0, true value: 0, so the prediction is False\n",
      "predicted value: 1.0, true value: 1, so the prediction is True\n",
      "predicted value: 0.0, true value: 1, so the prediction is False\n",
      "predicted value: 0.0, true value: 0, so the prediction is True\n",
      "predicted value: 1.0, true value: 0, so the prediction is False\n",
      "predicted value: 0.0, true value: 1, so the prediction is False\n",
      "predicted value: 1.0, true value: 0, so the prediction is False\n",
      "predicted value: 0.0, true value: 1, so the prediction is False\n",
      "predicted value: 1.0, true value: 0, so the prediction is False\n",
      "predicted value: 0.0, true value: 0, so the prediction is True\n",
      "predicted value: 1.0, true value: 0, so the prediction is False\n",
      "predicted value: 0.0, true value: 0, so the prediction is True\n",
      "predicted value: 0.0, true value: 0, so the prediction is True\n",
      "predicted value: 0.0, true value: 1, so the prediction is False\n",
      "predicted value: 0.0, true value: 0, so the prediction is True\n",
      "predicted value: 1.0, true value: 1, so the prediction is True\n",
      "predicted value: 1.0, true value: 1, so the prediction is True\n",
      "predicted value: 1.0, true value: 0, so the prediction is False\n",
      "predicted value: 0.0, true value: 0, so the prediction is True\n",
      "predicted value: 1.0, true value: 1, so the prediction is True\n",
      "predicted value: 1.0, true value: 0, so the prediction is False\n",
      "predicted value: 1.0, true value: 1, so the prediction is True\n",
      "predicted value: 0.0, true value: 1, so the prediction is False\n",
      "predicted value: 1.0, true value: 1, so the prediction is True\n",
      "predicted value: 1.0, true value: 1, so the prediction is True\n",
      "predicted value: 1.0, true value: 0, so the prediction is False\n",
      "predicted value: 1.0, true value: 0, so the prediction is False\n",
      "predicted value: 1.0, true value: 1, so the prediction is True\n",
      "predicted value: 1.0, true value: 1, so the prediction is True\n",
      "predicted value: 0.0, true value: 0, so the prediction is True\n",
      "predicted value: 0.0, true value: 1, so the prediction is False\n",
      "predicted value: 0.0, true value: 0, so the prediction is True\n",
      "predicted value: 0.0, true value: 0, so the prediction is True\n",
      "predicted value: 0.0, true value: 0, so the prediction is True\n",
      "predicted value: 1.0, true value: 0, so the prediction is False\n",
      "predicted value: 1.0, true value: 0, so the prediction is False\n",
      "predicted value: 0.0, true value: 0, so the prediction is True\n",
      "predicted value: 1.0, true value: 1, so the prediction is True\n",
      "predicted value: 1.0, true value: 1, so the prediction is True\n",
      "predicted value: 1.0, true value: 0, so the prediction is False\n",
      "predicted value: 0.0, true value: 0, so the prediction is True\n",
      "predicted value: 1.0, true value: 1, so the prediction is True\n",
      "predicted value: 0.0, true value: 0, so the prediction is True\n",
      "predicted value: 1.0, true value: 1, so the prediction is True\n",
      "predicted value: 0.0, true value: 0, so the prediction is True\n",
      "predicted value: 1.0, true value: 1, so the prediction is True\n",
      "predicted value: 0.0, true value: 0, so the prediction is True\n",
      "predicted value: 1.0, true value: 1, so the prediction is True\n",
      "predicted value: 1.0, true value: 0, so the prediction is False\n",
      "predicted value: 1.0, true value: 1, so the prediction is True\n",
      "predicted value: 1.0, true value: 0, so the prediction is False\n",
      "predicted value: 1.0, true value: 1, so the prediction is True\n",
      "predicted value: 1.0, true value: 1, so the prediction is True\n",
      "predicted value: 0.0, true value: 0, so the prediction is True\n",
      "predicted value: 1.0, true value: 1, so the prediction is True\n"
     ]
    }
   ],
   "source": [
    "y_pred = np.round(model.predict(X_test[:100]))\n",
    "for pred, y_t in zip(y_pred, y_test[:100]):\n",
    "    print(f'predicted value: {pred[0]}, true value: {y_t}, so the prediction is {pred[0] == y_t}')"
   ]
  },
  {
   "cell_type": "code",
   "execution_count": null,
   "metadata": {},
   "outputs": [],
   "source": []
  }
 ],
 "metadata": {
  "kernelspec": {
   "display_name": "base",
   "language": "python",
   "name": "python3"
  },
  "language_info": {
   "codemirror_mode": {
    "name": "ipython",
    "version": 3
   },
   "file_extension": ".py",
   "mimetype": "text/x-python",
   "name": "python",
   "nbconvert_exporter": "python",
   "pygments_lexer": "ipython3",
   "version": "3.10.9"
  }
 },
 "nbformat": 4,
 "nbformat_minor": 2
}
