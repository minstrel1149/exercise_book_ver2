{
 "cells": [
  {
   "cell_type": "code",
   "execution_count": 1,
   "metadata": {},
   "outputs": [],
   "source": [
    "from nltk.corpus import movie_reviews\n",
    "import numpy as np\n",
    "import tensorflow as tf\n",
    "from tensorflow.keras.preprocessing.text import Tokenizer\n",
    "from tensorflow.keras.preprocessing.sequence import pad_sequences\n",
    "from tensorflow.keras.models import Sequential\n",
    "from tensorflow.keras.layers import Flatten, Dense, Embedding, SimpleRNN, LSTM, Bidirectional, GRU\n",
    "from tensorflow.keras.optimizers import Adam\n",
    "from sklearn.model_selection import train_test_split\n",
    "import matplotlib.pyplot as plt\n",
    "%matplotlib inline"
   ]
  },
  {
   "cell_type": "code",
   "execution_count": 3,
   "metadata": {},
   "outputs": [],
   "source": [
    "fildids = movie_reviews.fileids()\n",
    "reviews = [movie_reviews.raw(fileid) for fileid in fildids]\n",
    "categories = [movie_reviews.categories(fileid)[0] for fileid in fildids]"
   ]
  },
  {
   "cell_type": "code",
   "execution_count": 4,
   "metadata": {},
   "outputs": [],
   "source": [
    "np.random.seed(7)\n",
    "tf.random.set_seed(7)"
   ]
  },
  {
   "cell_type": "code",
   "execution_count": 13,
   "metadata": {},
   "outputs": [
    {
     "name": "stdout",
     "output_type": "stream",
     "text": [
      "[710, 240, 486, 479, 733, 671, 550, 584, 702, 776] [[98, 77, 949, 4622, 131, 6, 3, 2016, 789, 3764, 4, 103, 1314, 37, 73, 56, 25, 1341, 24, 5, 2, 519, 1325, 17, 14, 678, 1571, 6, 84, 55, 8, 34, 90, 4, 33, 4477, 604, 2, 638, 242, 2, 27, 4, 8854, 190, 41, 2186, 3, 302, 6462, 27, 13, 2, 949, 1458, 9, 2402, 20, 3, 80, 691, 362, 17, 1768, 10, 8, 3, 80, 106, 3980, 46, 7, 49, 143, 15, 466, 25, 57, 3668, 24, 6, 1175, 195, 19, 1342, 8855, 96, 46, 527, 6, 831, 2, 7098, 903, 12, 170, 363, 4, 118, 342, 4204, 8856, 17, 53, 21, 62, 4, 106, 753, 5, 243, 36, 2695, 5, 96, 4, 113, 1879, 51, 249, 1, 15, 24, 6180, 37, 250, 6, 32, 625, 15, 272, 3765, 1224, 17, 2795, 10, 2284, 40, 49, 21, 2, 470, 12, 2, 27, 78, 65, 349, 354, 7, 9, 38, 322, 89, 7840, 10, 437, 88, 1315, 17, 103, 1, 56, 15, 1446, 146, 8, 46, 35, 11, 25, 162, 1123, 32, 60, 362, 604, 160, 20, 53, 21, 1077, 53, 21, 82, 505, 136, 29, 2, 329, 53, 21, 486, 28, 178, 39, 2, 329, 53, 21, 770, 1, 53, 21, 1, 53, 21, 3, 1, 5, 911, 115, 53, 21, 5278, 5, 1387, 172, 9, 633, 4, 64, 5, 10, 7, 322, 26, 1958, 144, 19, 2927, 121, 302, 255, 6, 9490, 3, 16, 151, 144, 4, 103, 17, 45, 36, 10, 92, 7, 257, 104, 2, 165, 2852, 101, 4, 101, 209, 19, 73, 260, 5, 4078, 43, 83, 3, 95, 46, 7, 15, 248, 955, 354, 38, 614, 295, 15, 134, 802, 6, 3147, 17, 10, 139, 6, 258, 6, 3147, 10, 309, 314, 65, 370, 494, 227, 4, 76, 37, 87, 172, 440, 2796, 47, 57, 1748, 8, 2, 5676, 26, 93, 2, 1281, 205, 7, 9, 2, 4079, 4, 19, 159, 5677, 20, 1712, 39, 15, 40, 63, 176, 4080, 64, 5, 10, 41, 22, 2, 269, 85, 213, 40, 36, 5, 2, 1, 83, 9, 198, 443, 6, 87, 3, 99, 252, 5, 262, 17, 10, 138, 249, 2, 87, 2, 16, 36, 9, 44, 440, 19, 619, 2, 1487, 312, 12, 122, 39, 15, 7, 9, 35, 168, 246, 87, 277, 9, 2, 162, 7, 56, 10, 57, 142, 37, 21, 285, 2, 802, 1, 6, 2017, 170, 146, 5, 2330, 19, 571, 964, 7841, 1, 427, 222, 29, 3864, 13, 42, 1431, 227, 458, 2, 27, 7, 51, 1685, 3593, 1124, 63, 73, 10, 53, 21, 102, 3025, 34, 4, 63, 121, 119, 28, 37, 21, 76, 63, 93, 438, 6, 84, 10, 101, 4, 101, 209, 97, 42, 666, 133, 317, 115, 3289, 1045, 2441, 56, 36, 5, 2, 1, 160, 150, 8, 2, 27, 683, 2, 930, 875, 15, 16, 222, 29, 65, 124, 4, 1, 10, 43, 492, 4, 10, 337, 53, 8857, 70, 3, 272, 876, 949, 302, 6462, 27, 8, 129, 1103, 17, 19, 619, 2, 2853, 1326, 9, 1730, 10, 56, 3, 290, 432, 12, 99, 1327, 69, 87, 44, 262, 2, 210, 21, 272, 62, 13, 2, 64, 205, 188, 2595, 1, 51, 676, 6, 23, 389, 2, 2110, 165, 75, 9, 18, 198, 8, 259, 1035, 58, 8, 3, 114, 5279, 17, 107, 955, 5280, 131, 41, 6, 1, 28, 1544, 34, 182, 458, 2, 340, 16, 4, 176, 33, 35, 622, 34, 1527, 1, 899, 2, 16, 117, 1994, 86, 10, 117, 2477, 38, 1472, 10, 1359, 1, 4, 10, 649, 272, 7099, 13, 64, 5, 65, 1, 401, 3, 272, 691, 325, 4, 1995, 6, 36, 5, 2, 1, 9, 771, 142, 10, 658, 4, 22, 2, 85, 15, 7, 26, 3, 296, 47, 949, 1650, 732, 38, 51, 1, 6, 178, 9, 85, 86, 372, 7, 683, 6793, 9, 2, 522, 7, 138, 1133, 12, 2, 441, 10, 72, 3211, 461, 77, 175, 715, 4, 33, 70, 1488, 20, 2, 7444, 194, 195, 1046, 2854, 10, 3981, 4205, 505, 29, 3, 2215, 5, 7100, 1004, 641, 1212, 303, 1447, 1316, 315, 1212, 303, 2, 2519, 1854, 303, 2, 2519, 7101, 750, 303, 342, 4204, 303, 303, 8856, 303, 303, 2, 486, 1854, 303, 4342, 5, 3865, 1023, 303], [2, 659, 7102, 1013, 27, 466, 1572, 9, 1, 2928, 38, 295, 3, 363, 443, 8, 15, 27, 776, 3026, 557, 3368, 4, 128, 1713, 575, 722, 15, 61, 8, 3, 68, 3866, 3, 685, 5, 3, 1, 9, 203, 634, 3, 5281, 2042, 4081, 560, 9, 33, 3, 1, 6, 10, 45, 37, 2563, 2, 588, 136, 20, 99, 76, 37, 119, 2, 588, 615, 160, 13, 2, 1260, 4, 1714, 20, 3, 149, 125, 471, 129, 4, 53, 1809, 138, 649, 80, 2043, 39, 3, 27, 160, 13, 36, 2159, 4, 60, 1880, 63, 121, 119, 163, 2, 685, 31, 93, 41, 8, 2, 631, 5, 1417, 63, 121, 119, 2, 1, 5, 49, 875, 101, 2, 560, 51, 9, 3, 134, 4775, 3082, 183, 487, 2, 1, 4, 5, 224, 63, 121, 119, 163, 3290, 3434, 7, 6794, 158, 1, 458, 129, 38, 51, 1959, 1087, 911, 113, 102, 158, 12, 50, 4478, 2, 211, 7, 1996, 1176, 57, 29, 2, 1405, 5, 3368, 421, 44, 877, 6, 73, 3, 2563, 41, 5, 34, 140, 8, 2403, 1, 3434, 7, 1190, 4, 1713, 78, 126, 211, 39, 3, 1713, 5, 224, 2, 154, 200, 129, 21, 8317, 1, 2855, 1628, 50, 1, 2655, 4, 2, 2160, 62, 1260, 406, 39, 4206, 56, 4932, 1489, 40, 52, 4478, 4, 523, 692, 93, 388, 35, 20, 1789, 170, 27, 923, 38, 272, 71, 3, 1, 560, 5, 3, 27]]\n"
     ]
    }
   ],
   "source": [
    "max_words = 10000\n",
    "tokenizer = Tokenizer(num_words=max_words, oov_token='UNK')\n",
    "tokenizer.fit_on_texts(reviews)\n",
    "X = tokenizer.texts_to_sequences(reviews)\n",
    "print([len(doc) for doc in X[:10]], X[:2])"
   ]
  },
  {
   "cell_type": "code",
   "execution_count": 14,
   "metadata": {},
   "outputs": [
    {
     "data": {
      "text/plain": [
       "(2, 1)"
      ]
     },
     "execution_count": 14,
     "metadata": {},
     "output_type": "execute_result"
    }
   ],
   "source": [
    "tokenizer.word_index['the'], tokenizer.word_index['UNK']"
   ]
  },
  {
   "cell_type": "code",
   "execution_count": 15,
   "metadata": {},
   "outputs": [
    {
     "name": "stdout",
     "output_type": "stream",
     "text": [
      "[500, 500, 500, 500, 500, 500, 500, 500, 500, 500] [[ 911  115   53   21 5278    5 1387  172    9  633    4   64    5   10\n",
      "     7  322   26 1958  144   19 2927  121  302  255    6 9490    3   16\n",
      "   151  144    4  103   17   45   36   10   92    7  257  104    2  165\n",
      "  2852  101    4  101  209   19   73  260    5 4078   43   83    3   95\n",
      "    46    7   15  248  955  354   38  614  295   15  134  802    6 3147\n",
      "    17   10  139    6  258    6 3147   10  309  314   65  370  494  227\n",
      "     4   76   37   87  172  440 2796   47   57 1748    8    2 5676   26\n",
      "    93    2 1281  205    7    9    2 4079    4   19  159 5677   20 1712\n",
      "    39   15   40   63  176 4080   64    5   10   41   22    2  269   85\n",
      "   213   40   36    5    2    1   83    9  198  443    6   87    3   99\n",
      "   252    5  262   17   10  138  249    2   87    2   16   36    9   44\n",
      "   440   19  619    2 1487  312   12  122   39   15    7    9   35  168\n",
      "   246   87  277    9    2  162    7   56   10   57  142   37   21  285\n",
      "     2  802    1    6 2017  170  146    5 2330   19  571  964 7841    1\n",
      "   427  222   29 3864   13   42 1431  227  458    2   27    7   51 1685\n",
      "  3593 1124   63   73   10   53   21  102 3025   34    4   63  121  119\n",
      "    28   37   21   76   63   93  438    6   84   10  101    4  101  209\n",
      "    97   42  666  133  317  115 3289 1045 2441   56   36    5    2    1\n",
      "   160  150    8    2   27  683    2  930  875   15   16  222   29   65\n",
      "   124    4    1   10   43  492    4   10  337   53 8857   70    3  272\n",
      "   876  949  302 6462   27    8  129 1103   17   19  619    2 2853 1326\n",
      "     9 1730   10   56    3  290  432   12   99 1327   69   87   44  262\n",
      "     2  210   21  272   62   13    2   64  205  188 2595    1   51  676\n",
      "     6   23  389    2 2110  165   75    9   18  198    8  259 1035   58\n",
      "     8    3  114 5279   17  107  955 5280  131   41    6    1   28 1544\n",
      "    34  182  458    2  340   16    4  176   33   35  622   34 1527    1\n",
      "   899    2   16  117 1994   86   10  117 2477   38 1472   10 1359    1\n",
      "     4   10  649  272 7099   13   64    5   65    1  401    3  272  691\n",
      "   325    4 1995    6   36    5    2    1    9  771  142   10  658    4\n",
      "    22    2   85   15    7   26    3  296   47  949 1650  732   38   51\n",
      "     1    6  178    9   85   86  372    7  683 6793    9    2  522    7\n",
      "   138 1133   12    2  441   10   72 3211  461   77  175  715    4   33\n",
      "    70 1488   20    2 7444  194  195 1046 2854   10 3981 4205  505   29\n",
      "     3 2215    5 7100 1004  641 1212  303 1447 1316  315 1212  303    2\n",
      "  2519 1854  303    2 2519 7101  750  303  342 4204  303  303 8856  303\n",
      "   303    2  486 1854  303 4342    5 3865 1023  303]\n",
      " [   0    0    0    0    0    0    0    0    0    0    0    0    0    0\n",
      "     0    0    0    0    0    0    0    0    0    0    0    0    0    0\n",
      "     0    0    0    0    0    0    0    0    0    0    0    0    0    0\n",
      "     0    0    0    0    0    0    0    0    0    0    0    0    0    0\n",
      "     0    0    0    0    0    0    0    0    0    0    0    0    0    0\n",
      "     0    0    0    0    0    0    0    0    0    0    0    0    0    0\n",
      "     0    0    0    0    0    0    0    0    0    0    0    0    0    0\n",
      "     0    0    0    0    0    0    0    0    0    0    0    0    0    0\n",
      "     0    0    0    0    0    0    0    0    0    0    0    0    0    0\n",
      "     0    0    0    0    0    0    0    0    0    0    0    0    0    0\n",
      "     0    0    0    0    0    0    0    0    0    0    0    0    0    0\n",
      "     0    0    0    0    0    0    0    0    0    0    0    0    0    0\n",
      "     0    0    0    0    0    0    0    0    0    0    0    0    0    0\n",
      "     0    0    0    0    0    0    0    0    0    0    0    0    0    0\n",
      "     0    0    0    0    0    0    0    0    0    0    0    0    0    0\n",
      "     0    0    0    0    0    0    0    0    0    0    0    0    0    0\n",
      "     0    0    0    0    0    0    0    0    0    0    0    0    0    0\n",
      "     0    0    0    0    0    0    0    0    0    0    0    0    0    0\n",
      "     0    0    0    0    0    0    0    0    2  659 7102 1013   27  466\n",
      "  1572    9    1 2928   38  295    3  363  443    8   15   27  776 3026\n",
      "   557 3368    4  128 1713  575  722   15   61    8    3   68 3866    3\n",
      "   685    5    3    1    9  203  634    3 5281 2042 4081  560    9   33\n",
      "     3    1    6   10   45   37 2563    2  588  136   20   99   76   37\n",
      "   119    2  588  615  160   13    2 1260    4 1714   20    3  149  125\n",
      "   471  129    4   53 1809  138  649   80 2043   39    3   27  160   13\n",
      "    36 2159    4   60 1880   63  121  119  163    2  685   31   93   41\n",
      "     8    2  631    5 1417   63  121  119    2    1    5   49  875  101\n",
      "     2  560   51    9    3  134 4775 3082  183  487    2    1    4    5\n",
      "   224   63  121  119  163 3290 3434    7 6794  158    1  458  129   38\n",
      "    51 1959 1087  911  113  102  158   12   50 4478    2  211    7 1996\n",
      "  1176   57   29    2 1405    5 3368  421   44  877    6   73    3 2563\n",
      "    41    5   34  140    8 2403    1 3434    7 1190    4 1713   78  126\n",
      "   211   39    3 1713    5  224    2  154  200  129   21 8317    1 2855\n",
      "  1628   50    1 2655    4    2 2160   62 1260  406   39 4206   56 4932\n",
      "  1489   40   52 4478    4  523  692   93  388   35   20 1789  170   27\n",
      "   923   38  272   71    3    1  560    5    3   27]]\n"
     ]
    }
   ],
   "source": [
    "max_len = 500\n",
    "X = pad_sequences(X, maxlen=max_len, truncating='pre')\n",
    "print([len(doc) for doc in X[:10]], X[:2])"
   ]
  },
  {
   "cell_type": "code",
   "execution_count": 16,
   "metadata": {},
   "outputs": [],
   "source": [
    "label_dict = {'pos':1, 'neg':0}\n",
    "y = np.array([label_dict[c] for c in categories])"
   ]
  },
  {
   "cell_type": "code",
   "execution_count": 17,
   "metadata": {},
   "outputs": [
    {
     "data": {
      "text/plain": [
       "(1600, 400)"
      ]
     },
     "execution_count": 17,
     "metadata": {},
     "output_type": "execute_result"
    }
   ],
   "source": [
    "X_train, X_test, y_train, y_test = train_test_split(X, y, test_size=0.2, random_state=10)\n",
    "len(X_train), len(X_test)"
   ]
  },
  {
   "cell_type": "code",
   "execution_count": 21,
   "metadata": {},
   "outputs": [
    {
     "name": "stdout",
     "output_type": "stream",
     "text": [
      "Model: \"sequential_1\"\n",
      "_________________________________________________________________\n",
      " Layer (type)                Output Shape              Param #   \n",
      "=================================================================\n",
      " embedding_1 (Embedding)     (None, 500, 32)           320000    \n",
      "                                                                 \n",
      " flatten_1 (Flatten)         (None, 16000)             0         \n",
      "                                                                 \n",
      " dense_1 (Dense)             (None, 1)                 16001     \n",
      "                                                                 \n",
      "=================================================================\n",
      "Total params: 336001 (1.28 MB)\n",
      "Trainable params: 336001 (1.28 MB)\n",
      "Non-trainable params: 0 (0.00 Byte)\n",
      "_________________________________________________________________\n"
     ]
    }
   ],
   "source": [
    "model = Sequential([Embedding(max_words, 32, input_length=max_len),\n",
    "                    Flatten(),\n",
    "                    Dense(1, activation='sigmoid')])\n",
    "model.summary()"
   ]
  },
  {
   "cell_type": "code",
   "execution_count": 22,
   "metadata": {},
   "outputs": [],
   "source": [
    "model.compile(optimizer='rmsprop', loss='binary_crossentropy', metrics=['acc'])"
   ]
  },
  {
   "cell_type": "code",
   "execution_count": 23,
   "metadata": {},
   "outputs": [
    {
     "name": "stdout",
     "output_type": "stream",
     "text": [
      "Epoch 1/20\n",
      "40/40 [==============================] - 1s 6ms/step - loss: 0.6925 - acc: 0.5086 - val_loss: 0.6909 - val_acc: 0.5406\n",
      "Epoch 2/20\n",
      "40/40 [==============================] - 0s 5ms/step - loss: 0.6161 - acc: 0.8875 - val_loss: 0.6852 - val_acc: 0.5719\n",
      "Epoch 3/20\n",
      "40/40 [==============================] - 0s 5ms/step - loss: 0.5137 - acc: 0.9641 - val_loss: 0.6727 - val_acc: 0.5813\n",
      "Epoch 4/20\n",
      "40/40 [==============================] - 0s 5ms/step - loss: 0.3826 - acc: 0.9883 - val_loss: 0.6547 - val_acc: 0.5844\n",
      "Epoch 5/20\n",
      "40/40 [==============================] - 0s 5ms/step - loss: 0.2536 - acc: 0.9961 - val_loss: 0.6356 - val_acc: 0.6156\n",
      "Epoch 6/20\n",
      "40/40 [==============================] - 0s 5ms/step - loss: 0.1527 - acc: 0.9984 - val_loss: 0.6276 - val_acc: 0.6125\n",
      "Epoch 7/20\n",
      "40/40 [==============================] - 0s 4ms/step - loss: 0.0863 - acc: 1.0000 - val_loss: 0.6217 - val_acc: 0.6313\n",
      "Epoch 8/20\n",
      "40/40 [==============================] - 0s 4ms/step - loss: 0.0467 - acc: 1.0000 - val_loss: 0.6317 - val_acc: 0.6375\n",
      "Epoch 9/20\n",
      "40/40 [==============================] - 0s 5ms/step - loss: 0.0257 - acc: 1.0000 - val_loss: 0.6272 - val_acc: 0.6438\n",
      "Epoch 10/20\n",
      "40/40 [==============================] - 0s 5ms/step - loss: 0.0146 - acc: 1.0000 - val_loss: 0.6602 - val_acc: 0.6344\n",
      "Epoch 11/20\n",
      "40/40 [==============================] - 0s 5ms/step - loss: 0.0090 - acc: 1.0000 - val_loss: 0.6694 - val_acc: 0.6406\n",
      "Epoch 12/20\n",
      "40/40 [==============================] - 0s 4ms/step - loss: 0.0060 - acc: 1.0000 - val_loss: 0.6826 - val_acc: 0.6406\n",
      "Epoch 13/20\n",
      "40/40 [==============================] - 0s 4ms/step - loss: 0.0043 - acc: 1.0000 - val_loss: 0.6998 - val_acc: 0.6438\n",
      "Epoch 14/20\n",
      "40/40 [==============================] - 0s 4ms/step - loss: 0.0032 - acc: 1.0000 - val_loss: 0.7142 - val_acc: 0.6469\n",
      "Epoch 15/20\n",
      "40/40 [==============================] - 0s 5ms/step - loss: 0.0026 - acc: 1.0000 - val_loss: 0.7354 - val_acc: 0.6438\n",
      "Epoch 16/20\n",
      "40/40 [==============================] - 0s 5ms/step - loss: 0.0021 - acc: 1.0000 - val_loss: 0.7564 - val_acc: 0.6406\n",
      "Epoch 17/20\n",
      "40/40 [==============================] - 0s 4ms/step - loss: 0.0018 - acc: 1.0000 - val_loss: 0.7666 - val_acc: 0.6469\n",
      "Epoch 18/20\n",
      "40/40 [==============================] - 0s 4ms/step - loss: 0.0015 - acc: 1.0000 - val_loss: 0.7862 - val_acc: 0.6250\n",
      "Epoch 19/20\n",
      "40/40 [==============================] - 0s 4ms/step - loss: 0.0013 - acc: 1.0000 - val_loss: 0.7915 - val_acc: 0.6438\n",
      "Epoch 20/20\n",
      "40/40 [==============================] - 0s 4ms/step - loss: 0.0012 - acc: 1.0000 - val_loss: 0.8197 - val_acc: 0.6344\n"
     ]
    }
   ],
   "source": [
    "history = model.fit(X_train, y_train, epochs=20, verbose=1, validation_split=0.2)"
   ]
  },
  {
   "cell_type": "code",
   "execution_count": 24,
   "metadata": {},
   "outputs": [
    {
     "data": {
      "text/plain": [
       "[0.5406249761581421,\n",
       " 0.5718749761581421,\n",
       " 0.581250011920929,\n",
       " 0.5843750238418579,\n",
       " 0.6156250238418579,\n",
       " 0.612500011920929,\n",
       " 0.6312500238418579,\n",
       " 0.637499988079071,\n",
       " 0.643750011920929,\n",
       " 0.6343749761581421,\n",
       " 0.640625,\n",
       " 0.640625,\n",
       " 0.643750011920929,\n",
       " 0.6468750238418579,\n",
       " 0.643750011920929,\n",
       " 0.640625,\n",
       " 0.6468750238418579,\n",
       " 0.625,\n",
       " 0.643750011920929,\n",
       " 0.6343749761581421]"
      ]
     },
     "execution_count": 24,
     "metadata": {},
     "output_type": "execute_result"
    }
   ],
   "source": [
    "history.history['val_acc']"
   ]
  },
  {
   "cell_type": "code",
   "execution_count": 25,
   "metadata": {},
   "outputs": [
    {
     "data": {
      "image/png": "[encoded data removed]",
      "text/plain": [
       "<Figure size 432x288 with 1 Axes>"
      ]
     },
     "metadata": {
      "needs_background": "light"
     },
     "output_type": "display_data"
    }
   ],
   "source": [
    "def plot_results(history, metric):\n",
    "    plt.plot(history.history[metric], 'b', label='Training '+metric)\n",
    "    plt.plot(history.history['val_'+metric], 'r--', label='Validation '+metric)\n",
    "    plt.title('Training vs. Validation '+metric)\n",
    "    plt.xlabel('Epochs')\n",
    "    plt.ylabel(metric)\n",
    "    plt.legend()\n",
    "    plt.show()\n",
    "\n",
    "plot_results(history, 'acc')"
   ]
  },
  {
   "cell_type": "code",
   "execution_count": 26,
   "metadata": {},
   "outputs": [
    {
     "name": "stdout",
     "output_type": "stream",
     "text": [
      "13/13 [==============================] - 0s 2ms/step - loss: 0.7571 - acc: 0.6875\n"
     ]
    },
    {
     "data": {
      "text/plain": [
       "[0.7571358680725098, 0.6875]"
      ]
     },
     "execution_count": 26,
     "metadata": {},
     "output_type": "execute_result"
    }
   ],
   "source": [
    "score = model.evaluate(X_test, y_test)\n",
    "score"
   ]
  },
  {
   "cell_type": "code",
   "execution_count": 27,
   "metadata": {},
   "outputs": [
    {
     "name": "stdout",
     "output_type": "stream",
     "text": [
      "Model: \"sequential_2\"\n",
      "_________________________________________________________________\n",
      " Layer (type)                Output Shape              Param #   \n",
      "=================================================================\n",
      " embedding_2 (Embedding)     (None, 500, 32)           320000    \n",
      "                                                                 \n",
      " simple_rnn (SimpleRNN)      (None, 32)                2080      \n",
      "                                                                 \n",
      " dense_2 (Dense)             (None, 32)                1056      \n",
      "                                                                 \n",
      " dense_3 (Dense)             (None, 1)                 33        \n",
      "                                                                 \n",
      "=================================================================\n",
      "Total params: 323169 (1.23 MB)\n",
      "Trainable params: 323169 (1.23 MB)\n",
      "Non-trainable params: 0 (0.00 Byte)\n",
      "_________________________________________________________________\n"
     ]
    }
   ],
   "source": [
    "model = Sequential([Embedding(max_words, 32, input_length=max_len),\n",
    "                    SimpleRNN(32),\n",
    "                    Dense(32, activation='relu'),\n",
    "                    Dense(1, activation='sigmoid')])\n",
    "model.summary()"
   ]
  },
  {
   "cell_type": "code",
   "execution_count": 28,
   "metadata": {},
   "outputs": [],
   "source": [
    "adam = Adam(learning_rate=1e-4)\n",
    "model.compile(optimizer=adam, loss='binary_crossentropy', metrics=['acc'])"
   ]
  },
  {
   "cell_type": "code",
   "execution_count": 29,
   "metadata": {},
   "outputs": [],
   "source": [
    "history = model.fit(X_train, y_train, epochs=10, verbose=1, validation_split=0.2)"
   ]
  },
  {
   "cell_type": "code",
   "execution_count": 30,
   "metadata": {},
   "outputs": [
    {
     "data": {
      "image/png": "[encoded data removed]",
      "text/plain": [
       "<Figure size 432x288 with 1 Axes>"
      ]
     },
     "metadata": {
      "needs_background": "light"
     },
     "output_type": "display_data"
    }
   ],
   "source": [
    "plot_results(history, 'acc')"
   ]
  },
  {
   "cell_type": "code",
   "execution_count": 31,
   "metadata": {},
   "outputs": [
    {
     "name": "stdout",
     "output_type": "stream",
     "text": [
      "13/13 [==============================] - 0s 11ms/step - loss: 0.6947 - acc: 0.5250\n"
     ]
    },
    {
     "data": {
      "text/plain": [
       "[0.694658637046814, 0.5249999761581421]"
      ]
     },
     "execution_count": 31,
     "metadata": {},
     "output_type": "execute_result"
    }
   ],
   "source": [
    "score = model.evaluate(X_test, y_test)\n",
    "score"
   ]
  },
  {
   "cell_type": "code",
   "execution_count": null,
   "metadata": {},
   "outputs": [],
   "source": []
  }
 ],
 "metadata": {
  "kernelspec": {
   "display_name": "base",
   "language": "python",
   "name": "python3"
  },
  "language_info": {
   "codemirror_mode": {
    "name": "ipython",
    "version": 3
   },
   "file_extension": ".py",
   "mimetype": "text/x-python",
   "name": "python",
   "nbconvert_exporter": "python",
   "pygments_lexer": "ipython3",
   "version": "3.10.9"
  }
 },
 "nbformat": 4,
 "nbformat_minor": 2
}
