{
 "cells": [
  {
   "cell_type": "code",
   "execution_count": 1,
   "metadata": {},
   "outputs": [
    {
     "name": "stderr",
     "output_type": "stream",
     "text": [
      "C:\\Users\\admin\\AppData\\Roaming\\Python\\Python310\\site-packages\\scipy\\__init__.py:146: UserWarning: A NumPy version >=1.16.5 and <1.23.0 is required for this version of SciPy (detected version 1.26.1\n",
      "  warnings.warn(f\"A NumPy version >={np_minversion} and <{np_maxversion}\"\n"
     ]
    }
   ],
   "source": [
    "import nltk\n",
    "from nltk.corpus import gutenberg\n",
    "from nltk.corpus import stopwords\n",
    "from nltk.tokenize import word_tokenize, RegexpTokenizer\n",
    "from nltk.stem import WordNetLemmatizer, PorterStemmer\n",
    "import matplotlib.pyplot as plt\n",
    "%matplotlib inline\n",
    "from matplotlib import font_manager, rc\n",
    "from wordcloud import WordCloud\n",
    "from konlpy.corpus import kolaw\n",
    "from konlpy.tag import Okt"
   ]
  },
  {
   "cell_type": "code",
   "execution_count": 2,
   "metadata": {},
   "outputs": [
    {
     "name": "stdout",
     "output_type": "stream",
     "text": [
      "<class 'list'> ['austen-emma.txt', 'austen-persuasion.txt', 'austen-sense.txt', 'bible-kjv.txt', 'blake-poems.txt', 'bryant-stories.txt', 'burgess-busterbrown.txt', 'carroll-alice.txt', 'chesterton-ball.txt', 'chesterton-brown.txt', 'chesterton-thursday.txt', 'edgeworth-parents.txt', 'melville-moby_dick.txt', 'milton-paradise.txt', 'shakespeare-caesar.txt', 'shakespeare-hamlet.txt', 'shakespeare-macbeth.txt', 'whitman-leaves.txt']\n"
     ]
    }
   ],
   "source": [
    "file_names = gutenberg.fileids()\n",
    "print(type(file_names), file_names)"
   ]
  },
  {
   "cell_type": "code",
   "execution_count": 3,
   "metadata": {},
   "outputs": [
    {
     "data": {
      "text/plain": [
       "144395"
      ]
     },
     "execution_count": 3,
     "metadata": {},
     "output_type": "execute_result"
    }
   ],
   "source": [
    "doc_alice = gutenberg.open('carroll-alice.txt').read()\n",
    "len(doc_alice)"
   ]
  },
  {
   "cell_type": "code",
   "execution_count": 4,
   "metadata": {},
   "outputs": [
    {
     "data": {
      "text/plain": [
       "(33492,\n",
       " ['[',\n",
       "  'alice',\n",
       "  \"'s\",\n",
       "  'adventures',\n",
       "  'in',\n",
       "  'wonderland',\n",
       "  'by',\n",
       "  'lewis',\n",
       "  'carroll',\n",
       "  '1865'])"
      ]
     },
     "execution_count": 4,
     "metadata": {},
     "output_type": "execute_result"
    }
   ],
   "source": [
    "token_alice = word_tokenize(doc_alice.lower())\n",
    "len(token_alice), token_alice[:10]"
   ]
  },
  {
   "cell_type": "code",
   "execution_count": 5,
   "metadata": {},
   "outputs": [
    {
     "data": {
      "text/plain": [
       "(25768,\n",
       " [\"alice's\",\n",
       "  'adventures',\n",
       "  'in',\n",
       "  'wonderland',\n",
       "  'by',\n",
       "  'lewis',\n",
       "  'carroll',\n",
       "  '1865',\n",
       "  'chapter',\n",
       "  'down'])"
      ]
     },
     "execution_count": 5,
     "metadata": {},
     "output_type": "execute_result"
    }
   ],
   "source": [
    "tokenizer = RegexpTokenizer(\"[\\w']{2,}\")\n",
    "reg_token_alice = tokenizer.tokenize(doc_alice.lower())\n",
    "len(reg_token_alice), reg_token_alice[:10]"
   ]
  },
  {
   "cell_type": "code",
   "execution_count": 6,
   "metadata": {},
   "outputs": [
    {
     "data": {
      "text/plain": [
       "(25768,\n",
       " [\"alice's\",\n",
       "  'adventure',\n",
       "  'in',\n",
       "  'wonderland',\n",
       "  'by',\n",
       "  'lewis',\n",
       "  'carroll',\n",
       "  '1865',\n",
       "  'chapter',\n",
       "  'down'])"
      ]
     },
     "execution_count": 6,
     "metadata": {},
     "output_type": "execute_result"
    }
   ],
   "source": [
    "lemma = WordNetLemmatizer()\n",
    "lemma_token_alice = [lemma.lemmatize(token) for token in reg_token_alice]\n",
    "len(lemma_token_alice), lemma_token_alice[:10]"
   ]
  },
  {
   "cell_type": "code",
   "execution_count": 7,
   "metadata": {},
   "outputs": [
    {
     "data": {
      "text/plain": [
       "(13600,\n",
       " [\"alice's\",\n",
       "  'adventure',\n",
       "  'wonderland',\n",
       "  'lewis',\n",
       "  'carroll',\n",
       "  '1865',\n",
       "  'chapter',\n",
       "  'rabbit',\n",
       "  'hole',\n",
       "  'alice'])"
      ]
     },
     "execution_count": 7,
     "metadata": {},
     "output_type": "execute_result"
    }
   ],
   "source": [
    "eng_stops = set(stopwords.words('english'))\n",
    "result_alice = [token for token in lemma_token_alice if token not in eng_stops]\n",
    "len(result_alice), result_alice[:10]"
   ]
  },
  {
   "cell_type": "code",
   "execution_count": 8,
   "metadata": {},
   "outputs": [
    {
     "name": "stdout",
     "output_type": "stream",
     "text": [
      "'said': 462, 'alice': 385, 'wa': 356, 'little': 128, \"'i\": 126, 'one': 99, 'know': 90, 'like': 86, 'went': 83, 'thing': 80, 'would': 78, 'could': 77, 'time': 77, 'thought': 76, 'queen': 69, 'see': 67, 'king': 62, 'head': 59, 'turtle': 59, 'began': 58, "
     ]
    }
   ],
   "source": [
    "alice_word_count = dict()\n",
    "for word in result_alice:\n",
    "    alice_word_count[word] = alice_word_count.get(word, 0) + 1\n",
    "sorted_word_count = sorted(alice_word_count, key=alice_word_count.get, reverse=True)\n",
    "for key in sorted_word_count[:20]:\n",
    "    print(f'{repr(key)}: {alice_word_count[key]}', end=', ')"
   ]
  },
  {
   "cell_type": "code",
   "execution_count": 9,
   "metadata": {},
   "outputs": [
    {
     "data": {
      "text/plain": [
       "(9069,\n",
       " [\"alice's\",\n",
       "  'adventure',\n",
       "  'wonderland',\n",
       "  'carroll',\n",
       "  'chapter',\n",
       "  'rabbit',\n",
       "  'hole',\n",
       "  'alice',\n",
       "  'wa',\n",
       "  'get'])"
      ]
     },
     "execution_count": 9,
     "metadata": {},
     "output_type": "execute_result"
    }
   ],
   "source": [
    "my_tag_set = ['NN', 'VB', 'VBD', 'JJ']\n",
    "my_words = [word for word, tag in nltk.pos_tag(result_alice) if tag in my_tag_set]\n",
    "len(my_words), my_words[:10]"
   ]
  },
  {
   "cell_type": "code",
   "execution_count": 10,
   "metadata": {},
   "outputs": [
    {
     "name": "stdout",
     "output_type": "stream",
     "text": [
      "JJ: adjective or numeral, ordinal\n",
      "    third ill-mannered pre-war regrettable oiled calamitous first separable\n",
      "    ectoplasmic battery-powered participatory fourth still-to-be-named\n",
      "    multilingual multi-disciplinary ...\n"
     ]
    }
   ],
   "source": [
    "nltk.help.upenn_tagset('JJ')"
   ]
  },
  {
   "cell_type": "code",
   "execution_count": 11,
   "metadata": {},
   "outputs": [
    {
     "name": "stdout",
     "output_type": "stream",
     "text": [
      "'said': 462, 'alice': 304, 'wa': 277, 'little': 123, 'went': 83, 'thing': 80, 'time': 77, 'queen': 65, 'turtle': 59, 'began': 58, 'way': 57, 'head': 57, 'thought': 56, 'mock': 55, 'voice': 51, 'gryphon': 50, 'cat': 48, 'rabbit': 45, 'got': 44, 'hatter': 44, "
     ]
    }
   ],
   "source": [
    "alice_word_count = dict()\n",
    "for word in my_words:\n",
    "    alice_word_count[word] = alice_word_count.get(word, 0) + 1\n",
    "sorted_word_count = sorted(alice_word_count, key=alice_word_count.get, reverse=True)\n",
    "for key in sorted_word_count[:20]:\n",
    "    print(f'{repr(key)}: {alice_word_count[key]}', end=', ')"
   ]
  },
  {
   "cell_type": "code",
   "execution_count": 13,
   "metadata": {},
   "outputs": [
    {
     "data": {
      "image/png": "[encoded data removed]",
      "text/plain": [
       "<Figure size 864x216 with 1 Axes>"
      ]
     },
     "metadata": {
      "needs_background": "light"
     },
     "output_type": "display_data"
    }
   ],
   "source": [
    "word_count_list = [alice_word_count[key] for key in sorted_word_count]\n",
    "plt.figure(figsize=(12, 3))\n",
    "plt.plot(word_count_list)\n",
    "plt.show()"
   ]
  },
  {
   "cell_type": "code",
   "execution_count": 17,
   "metadata": {},
   "outputs": [
    {
     "data": {
      "image/png": "[encoded data removed]",
      "text/plain": [
       "<Figure size 864x360 with 1 Axes>"
      ]
     },
     "metadata": {
      "needs_background": "light"
     },
     "output_type": "display_data"
    }
   ],
   "source": [
    "n = sorted_word_count[:20][::-1]\n",
    "w = [alice_word_count[key] for key in n]\n",
    "plt.figure(figsize=(12, 5))\n",
    "plt.barh(range(len(n)), w, tick_label=n)\n",
    "plt.show()"
   ]
  },
  {
   "cell_type": "code",
   "execution_count": null,
   "metadata": {},
   "outputs": [],
   "source": []
  }
 ],
 "metadata": {
  "kernelspec": {
   "display_name": "base",
   "language": "python",
   "name": "python3"
  },
  "language_info": {
   "codemirror_mode": {
    "name": "ipython",
    "version": 3
   },
   "file_extension": ".py",
   "mimetype": "text/x-python",
   "name": "python",
   "nbconvert_exporter": "python",
   "pygments_lexer": "ipython3",
   "version": "3.10.9"
  }
 },
 "nbformat": 4,
 "nbformat_minor": 2
}
