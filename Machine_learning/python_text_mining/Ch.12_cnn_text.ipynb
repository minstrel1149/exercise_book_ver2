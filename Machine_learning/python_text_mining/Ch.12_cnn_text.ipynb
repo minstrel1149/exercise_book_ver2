{
 "cells": [
  {
   "cell_type": "code",
   "execution_count": 15,
   "metadata": {},
   "outputs": [],
   "source": [
    "from nltk.corpus import movie_reviews\n",
    "import numpy as np\n",
    "import tensorflow as tf\n",
    "from tensorflow.keras.preprocessing.text import Tokenizer\n",
    "from tensorflow.keras.preprocessing.sequence import pad_sequences\n",
    "from tensorflow.keras.models import Sequential\n",
    "from tensorflow.keras.layers import Dense, Conv1D, MaxPooling1D\n",
    "from tensorflow.keras.layers import Embedding, Dropout, Flatten\n",
    "from tensorflow.keras.optimizers import Adam\n",
    "from sklearn.model_selection import train_test_split\n",
    "import matplotlib.pyplot as plt\n",
    "%matplotlib inline"
   ]
  },
  {
   "cell_type": "code",
   "execution_count": 4,
   "metadata": {},
   "outputs": [],
   "source": [
    "fileids = movie_reviews.fileids()\n",
    "reviews = [movie_reviews.raw(fileid) for fileid in fileids]\n",
    "categories = [movie_reviews.categories(fileid)[0] for fileid in fileids]"
   ]
  },
  {
   "cell_type": "code",
   "execution_count": 5,
   "metadata": {},
   "outputs": [],
   "source": [
    "np.random.seed(7)\n",
    "tf.random.set_seed(7)"
   ]
  },
  {
   "cell_type": "code",
   "execution_count": 6,
   "metadata": {},
   "outputs": [],
   "source": [
    "max_words = 10000\n",
    "maxlen = 500"
   ]
  },
  {
   "cell_type": "code",
   "execution_count": 8,
   "metadata": {},
   "outputs": [],
   "source": [
    "tokenizer = Tokenizer(num_words=max_words, oov_token='UNK')\n",
    "tokenizer.fit_on_texts(reviews)\n",
    "X = tokenizer.texts_to_sequences(reviews)\n",
    "X = pad_sequences(X, maxlen=maxlen, truncating='pre')"
   ]
  },
  {
   "cell_type": "code",
   "execution_count": 9,
   "metadata": {},
   "outputs": [],
   "source": [
    "label_dict = {'pos':0, 'neg':1}\n",
    "y = np.array([label_dict[c] for c in categories])"
   ]
  },
  {
   "cell_type": "code",
   "execution_count": 10,
   "metadata": {},
   "outputs": [],
   "source": [
    "X_train, X_test, y_train, y_test = train_test_split(X, y, test_size=0.2, random_state=10)"
   ]
  },
  {
   "cell_type": "code",
   "execution_count": 12,
   "metadata": {},
   "outputs": [],
   "source": [
    "model = Sequential([\n",
    "    Embedding(max_words, 64, input_length=maxlen), \n",
    "    Conv1D(128,\n",
    "            5,\n",
    "            padding='valid', \n",
    "            activation='relu',\n",
    "            strides=1), \n",
    "    MaxPooling1D(),\n",
    "    Conv1D(256,\n",
    "            5,\n",
    "            padding='valid', \n",
    "            activation='relu',\n",
    "            strides=1), \n",
    "    MaxPooling1D(),\n",
    "    Flatten(),\n",
    "    Dense(64, activation='relu'),\n",
    "    Dense(1, activation='sigmoid')\n",
    "])"
   ]
  },
  {
   "cell_type": "code",
   "execution_count": 13,
   "metadata": {},
   "outputs": [
    {
     "name": "stdout",
     "output_type": "stream",
     "text": [
      "Model: \"sequential\"\n",
      "_________________________________________________________________\n",
      " Layer (type)                Output Shape              Param #   \n",
      "=================================================================\n",
      " embedding (Embedding)       (None, 500, 64)           640000    \n",
      "                                                                 \n",
      " conv1d (Conv1D)             (None, 496, 128)          41088     \n",
      "                                                                 \n",
      " max_pooling1d (MaxPooling1  (None, 248, 128)          0         \n",
      " D)                                                              \n",
      "                                                                 \n",
      " conv1d_1 (Conv1D)           (None, 244, 256)          164096    \n",
      "                                                                 \n",
      " max_pooling1d_1 (MaxPoolin  (None, 122, 256)          0         \n",
      " g1D)                                                            \n",
      "                                                                 \n",
      " flatten (Flatten)           (None, 31232)             0         \n",
      "                                                                 \n",
      " dense (Dense)               (None, 64)                1998912   \n",
      "                                                                 \n",
      " dense_1 (Dense)             (None, 1)                 65        \n",
      "                                                                 \n",
      "=================================================================\n",
      "Total params: 2844161 (10.85 MB)\n",
      "Trainable params: 2844161 (10.85 MB)\n",
      "Non-trainable params: 0 (0.00 Byte)\n",
      "_________________________________________________________________\n"
     ]
    }
   ],
   "source": [
    "model.summary()"
   ]
  },
  {
   "cell_type": "code",
   "execution_count": 14,
   "metadata": {},
   "outputs": [
    {
     "name": "stdout",
     "output_type": "stream",
     "text": [
      "Epoch 1/20\n",
      "5/5 [==============================] - 3s 402ms/step - loss: 0.7041 - acc: 0.5117 - val_loss: 0.6944 - val_acc: 0.4969\n",
      "Epoch 2/20\n",
      "5/5 [==============================] - 2s 361ms/step - loss: 0.6931 - acc: 0.4969 - val_loss: 0.6928 - val_acc: 0.4969\n",
      "Epoch 3/20\n",
      "5/5 [==============================] - 2s 364ms/step - loss: 0.6920 - acc: 0.6500 - val_loss: 0.6921 - val_acc: 0.5250\n",
      "Epoch 4/20\n",
      "5/5 [==============================] - 2s 361ms/step - loss: 0.6901 - acc: 0.5320 - val_loss: 0.6912 - val_acc: 0.5375\n",
      "Epoch 5/20\n",
      "5/5 [==============================] - 2s 365ms/step - loss: 0.6857 - acc: 0.5617 - val_loss: 0.6901 - val_acc: 0.5344\n",
      "Epoch 6/20\n",
      "5/5 [==============================] - 2s 359ms/step - loss: 0.6747 - acc: 0.6859 - val_loss: 0.6844 - val_acc: 0.5844\n",
      "Epoch 7/20\n",
      "5/5 [==============================] - 2s 361ms/step - loss: 0.6396 - acc: 0.8320 - val_loss: 0.6551 - val_acc: 0.6406\n",
      "Epoch 8/20\n",
      "5/5 [==============================] - 2s 370ms/step - loss: 0.5411 - acc: 0.8273 - val_loss: 0.6002 - val_acc: 0.6500\n",
      "Epoch 9/20\n",
      "5/5 [==============================] - 2s 364ms/step - loss: 0.3856 - acc: 0.8914 - val_loss: 0.5009 - val_acc: 0.7563\n",
      "Epoch 10/20\n",
      "5/5 [==============================] - 2s 368ms/step - loss: 0.2004 - acc: 0.9523 - val_loss: 0.4456 - val_acc: 0.8000\n",
      "Epoch 11/20\n",
      "5/5 [==============================] - 2s 363ms/step - loss: 0.0751 - acc: 0.9867 - val_loss: 0.4483 - val_acc: 0.8062\n",
      "Epoch 12/20\n",
      "5/5 [==============================] - 2s 362ms/step - loss: 0.0190 - acc: 0.9984 - val_loss: 0.4844 - val_acc: 0.8250\n",
      "Epoch 13/20\n",
      "5/5 [==============================] - 2s 367ms/step - loss: 0.0042 - acc: 1.0000 - val_loss: 0.5397 - val_acc: 0.8281\n",
      "Epoch 14/20\n",
      "5/5 [==============================] - 2s 369ms/step - loss: 0.0011 - acc: 1.0000 - val_loss: 0.6497 - val_acc: 0.8375\n",
      "Epoch 15/20\n",
      "5/5 [==============================] - 2s 366ms/step - loss: 4.6126e-04 - acc: 1.0000 - val_loss: 0.6348 - val_acc: 0.8281\n",
      "Epoch 16/20\n",
      "5/5 [==============================] - 2s 362ms/step - loss: 1.4501e-04 - acc: 1.0000 - val_loss: 0.6480 - val_acc: 0.8344\n",
      "Epoch 17/20\n",
      "5/5 [==============================] - 2s 365ms/step - loss: 9.7132e-05 - acc: 1.0000 - val_loss: 0.6791 - val_acc: 0.8125\n",
      "Epoch 18/20\n",
      "5/5 [==============================] - 2s 362ms/step - loss: 8.7755e-05 - acc: 1.0000 - val_loss: 0.6960 - val_acc: 0.8094\n",
      "Epoch 19/20\n",
      "5/5 [==============================] - 2s 364ms/step - loss: 7.0320e-05 - acc: 1.0000 - val_loss: 0.6983 - val_acc: 0.8125\n",
      "Epoch 20/20\n",
      "5/5 [==============================] - 2s 365ms/step - loss: 5.3876e-05 - acc: 1.0000 - val_loss: 0.6960 - val_acc: 0.8313\n"
     ]
    }
   ],
   "source": [
    "adam = Adam(learning_rate=1e-3)\n",
    "model.compile(optimizer=adam, loss='binary_crossentropy', metrics=['acc'])\n",
    "history = model.fit(X_train, y_train, \n",
    "                    epochs=20,\n",
    "                    batch_size=256,\n",
    "                    verbose=1,\n",
    "                    validation_split=0.2)"
   ]
  },
  {
   "cell_type": "code",
   "execution_count": 16,
   "metadata": {},
   "outputs": [],
   "source": [
    "def plot_results(history, metric):\n",
    "    plt.plot(history.history[metric], 'b', label='Training '+metric)\n",
    "    plt.plot(history.history['val_'+metric], 'r--', label='Validation '+metric)\n",
    "    plt.title('Training vs. Validation '+metric)\n",
    "    plt.xlabel('Epochs')\n",
    "    plt.ylabel(metric)\n",
    "    plt.legend()\n",
    "    plt.show()"
   ]
  },
  {
   "cell_type": "code",
   "execution_count": 17,
   "metadata": {},
   "outputs": [
    {
     "data": {
      "image/png": "[encoded data removed]",
      "text/plain": [
       "<Figure size 432x288 with 1 Axes>"
      ]
     },
     "metadata": {
      "needs_background": "light"
     },
     "output_type": "display_data"
    }
   ],
   "source": [
    "plot_results(history, 'acc')"
   ]
  },
  {
   "cell_type": "code",
   "execution_count": 18,
   "metadata": {},
   "outputs": [
    {
     "name": "stdout",
     "output_type": "stream",
     "text": [
      "13/13 [==============================] - 0s 15ms/step - loss: 0.7232 - acc: 0.8225\n"
     ]
    },
    {
     "data": {
      "text/plain": [
       "[0.7232261896133423, 0.8224999904632568]"
      ]
     },
     "execution_count": 18,
     "metadata": {},
     "output_type": "execute_result"
    }
   ],
   "source": [
    "score = model.evaluate(X_test, y_test)\n",
    "score"
   ]
  },
  {
   "cell_type": "code",
   "execution_count": null,
   "metadata": {},
   "outputs": [],
   "source": []
  }
 ],
 "metadata": {
  "kernelspec": {
   "display_name": "base",
   "language": "python",
   "name": "python3"
  },
  "language_info": {
   "codemirror_mode": {
    "name": "ipython",
    "version": 3
   },
   "file_extension": ".py",
   "mimetype": "text/x-python",
   "name": "python",
   "nbconvert_exporter": "python",
   "pygments_lexer": "ipython3",
   "version": "3.10.9"
  }
 },
 "nbformat": 4,
 "nbformat_minor": 2
}
