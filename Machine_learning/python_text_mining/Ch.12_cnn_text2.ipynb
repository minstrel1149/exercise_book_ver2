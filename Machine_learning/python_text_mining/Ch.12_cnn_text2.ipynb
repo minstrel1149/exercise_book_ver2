{
 "cells": [
  {
   "cell_type": "code",
   "execution_count": 1,
   "metadata": {},
   "outputs": [],
   "source": [
    "from nltk.corpus import movie_reviews\n",
    "import numpy as np\n",
    "import tensorflow as tf\n",
    "from tensorflow.keras.preprocessing.text import Tokenizer\n",
    "from tensorflow.keras.preprocessing.sequence import pad_sequences\n",
    "from tensorflow.keras.models import Sequential\n",
    "from tensorflow.keras.layers import Dense, Conv1D, MaxPooling1D\n",
    "from tensorflow.keras.layers import Embedding, Dropout, Flatten\n",
    "from tensorflow.keras.optimizers import Adam\n",
    "from sklearn.model_selection import train_test_split\n",
    "import matplotlib.pyplot as plt\n",
    "%matplotlib inline"
   ]
  },
  {
   "cell_type": "code",
   "execution_count": 2,
   "metadata": {},
   "outputs": [],
   "source": [
    "fileids = movie_reviews.fileids()\n",
    "reviews = [movie_reviews.raw(fileid) for fileid in fileids]\n",
    "categories = [movie_reviews.categories(fileid)[0] for fileid in fileids]"
   ]
  },
  {
   "cell_type": "code",
   "execution_count": 3,
   "metadata": {},
   "outputs": [],
   "source": [
    "np.random.seed(7)\n",
    "tf.random.set_seed(7)"
   ]
  },
  {
   "cell_type": "code",
   "execution_count": 4,
   "metadata": {},
   "outputs": [],
   "source": [
    "max_words = 10000\n",
    "max_len = 500\n",
    "tokenizer = Tokenizer(num_words=max_words, oov_token='UNK')\n",
    "tokenizer.fit_on_texts(reviews)\n",
    "X = tokenizer.texts_to_sequences(reviews)\n",
    "X = pad_sequences(X, maxlen=max_len, truncating='pre')"
   ]
  },
  {
   "cell_type": "code",
   "execution_count": 5,
   "metadata": {},
   "outputs": [],
   "source": [
    "label_dict = {'pos':0, 'neg':1}\n",
    "y = np.array([label_dict[c] for c in categories])"
   ]
  },
  {
   "cell_type": "code",
   "execution_count": 7,
   "metadata": {},
   "outputs": [
    {
     "data": {
      "text/plain": [
       "(1600, 400)"
      ]
     },
     "execution_count": 7,
     "metadata": {},
     "output_type": "execute_result"
    }
   ],
   "source": [
    "X_train, X_test, y_train, y_test = train_test_split(X, y, test_size=0.2, random_state=10)\n",
    "len(X_train), len(X_test)"
   ]
  },
  {
   "cell_type": "code",
   "execution_count": 11,
   "metadata": {},
   "outputs": [
    {
     "name": "stdout",
     "output_type": "stream",
     "text": [
      "Model: \"sequential_1\"\n",
      "_________________________________________________________________\n",
      " Layer (type)                Output Shape              Param #   \n",
      "=================================================================\n",
      " embedding_1 (Embedding)     (None, 500, 64)           640000    \n",
      "                                                                 \n",
      " conv1d_2 (Conv1D)           (None, 496, 128)          41088     \n",
      "                                                                 \n",
      " max_pooling1d_2 (MaxPoolin  (None, 248, 128)          0         \n",
      " g1D)                                                            \n",
      "                                                                 \n",
      " conv1d_3 (Conv1D)           (None, 244, 256)          164096    \n",
      "                                                                 \n",
      " max_pooling1d_3 (MaxPoolin  (None, 122, 256)          0         \n",
      " g1D)                                                            \n",
      "                                                                 \n",
      " flatten_1 (Flatten)         (None, 31232)             0         \n",
      "                                                                 \n",
      " dense_2 (Dense)             (None, 64)                1998912   \n",
      "                                                                 \n",
      " dense_3 (Dense)             (None, 1)                 65        \n",
      "                                                                 \n",
      "=================================================================\n",
      "Total params: 2844161 (10.85 MB)\n",
      "Trainable params: 2844161 (10.85 MB)\n",
      "Non-trainable params: 0 (0.00 Byte)\n",
      "_________________________________________________________________\n"
     ]
    }
   ],
   "source": [
    "model = Sequential([Embedding(max_words, 64, input_length=max_len),\n",
    "                    Conv1D(128, 5, padding='valid', activation='relu', strides=1),\n",
    "                    MaxPooling1D(),\n",
    "                    Conv1D(256, 5, padding='valid', activation='relu', strides=1),\n",
    "                    MaxPooling1D(),\n",
    "                    Flatten(),\n",
    "                    Dense(64, activation='relu'),\n",
    "                    Dense(1, activation='sigmoid')])\n",
    "model.summary()"
   ]
  },
  {
   "cell_type": "code",
   "execution_count": 12,
   "metadata": {},
   "outputs": [],
   "source": [
    "adam = Adam(learning_rate=1e-3)\n",
    "model.compile(optimizer=adam, loss='binary_crossentropy', metrics=['acc'])"
   ]
  },
  {
   "cell_type": "code",
   "execution_count": 13,
   "metadata": {},
   "outputs": [
    {
     "name": "stdout",
     "output_type": "stream",
     "text": [
      "Epoch 1/30\n"
     ]
    },
    {
     "name": "stdout",
     "output_type": "stream",
     "text": [
      "5/5 [==============================] - 3s 425ms/step - loss: 0.7243 - acc: 0.5109 - val_loss: 0.6941 - val_acc: 0.4969\n",
      "Epoch 2/30\n",
      "5/5 [==============================] - 2s 393ms/step - loss: 0.6932 - acc: 0.4969 - val_loss: 0.6931 - val_acc: 0.4969\n",
      "Epoch 3/30\n",
      "5/5 [==============================] - 2s 386ms/step - loss: 0.6926 - acc: 0.4969 - val_loss: 0.6929 - val_acc: 0.4969\n",
      "Epoch 4/30\n",
      "5/5 [==============================] - 2s 384ms/step - loss: 0.6919 - acc: 0.4969 - val_loss: 0.6926 - val_acc: 0.4969\n",
      "Epoch 5/30\n",
      "5/5 [==============================] - 2s 384ms/step - loss: 0.6901 - acc: 0.4977 - val_loss: 0.6920 - val_acc: 0.4969\n",
      "Epoch 6/30\n",
      "5/5 [==============================] - 2s 387ms/step - loss: 0.6857 - acc: 0.5750 - val_loss: 0.6915 - val_acc: 0.4969\n",
      "Epoch 7/30\n",
      "5/5 [==============================] - 2s 375ms/step - loss: 0.6751 - acc: 0.6438 - val_loss: 0.6886 - val_acc: 0.5531\n",
      "Epoch 8/30\n",
      "5/5 [==============================] - 2s 388ms/step - loss: 0.6545 - acc: 0.7898 - val_loss: 0.6873 - val_acc: 0.4969\n",
      "Epoch 9/30\n",
      "5/5 [==============================] - 2s 383ms/step - loss: 0.6093 - acc: 0.8594 - val_loss: 0.6657 - val_acc: 0.5781\n",
      "Epoch 10/30\n",
      "5/5 [==============================] - 2s 392ms/step - loss: 0.5058 - acc: 0.8828 - val_loss: 0.5843 - val_acc: 0.6875\n",
      "Epoch 11/30\n",
      "5/5 [==============================] - 2s 395ms/step - loss: 0.3279 - acc: 0.9297 - val_loss: 0.4852 - val_acc: 0.7812\n",
      "Epoch 12/30\n",
      "5/5 [==============================] - 2s 403ms/step - loss: 0.1734 - acc: 0.9578 - val_loss: 0.5235 - val_acc: 0.7531\n",
      "Epoch 13/30\n",
      "5/5 [==============================] - 2s 404ms/step - loss: 0.0664 - acc: 0.9898 - val_loss: 0.4586 - val_acc: 0.7750\n",
      "Epoch 14/30\n",
      "5/5 [==============================] - 2s 408ms/step - loss: 0.0206 - acc: 0.9984 - val_loss: 0.5414 - val_acc: 0.8156\n",
      "Epoch 15/30\n",
      "5/5 [==============================] - 2s 431ms/step - loss: 0.0064 - acc: 1.0000 - val_loss: 0.5112 - val_acc: 0.8062\n",
      "Epoch 16/30\n",
      "5/5 [==============================] - 2s 411ms/step - loss: 0.0028 - acc: 1.0000 - val_loss: 0.5713 - val_acc: 0.8031\n",
      "Epoch 17/30\n",
      "5/5 [==============================] - 2s 396ms/step - loss: 0.0011 - acc: 1.0000 - val_loss: 0.5811 - val_acc: 0.8219\n",
      "Epoch 18/30\n",
      "5/5 [==============================] - 2s 401ms/step - loss: 6.1880e-04 - acc: 1.0000 - val_loss: 0.6462 - val_acc: 0.8219\n",
      "Epoch 19/30\n",
      "5/5 [==============================] - 2s 391ms/step - loss: 5.0899e-04 - acc: 1.0000 - val_loss: 0.6467 - val_acc: 0.8188\n",
      "Epoch 20/30\n",
      "5/5 [==============================] - 2s 394ms/step - loss: 3.3294e-04 - acc: 1.0000 - val_loss: 0.6313 - val_acc: 0.8156\n",
      "Epoch 21/30\n",
      "5/5 [==============================] - 2s 382ms/step - loss: 2.4019e-04 - acc: 1.0000 - val_loss: 0.6322 - val_acc: 0.8188\n",
      "Epoch 22/30\n",
      "5/5 [==============================] - 2s 395ms/step - loss: 2.0894e-04 - acc: 1.0000 - val_loss: 0.6398 - val_acc: 0.8062\n",
      "Epoch 23/30\n",
      "5/5 [==============================] - 2s 389ms/step - loss: 1.9175e-04 - acc: 1.0000 - val_loss: 0.6452 - val_acc: 0.8000\n",
      "Epoch 24/30\n",
      "5/5 [==============================] - 2s 388ms/step - loss: 1.7588e-04 - acc: 1.0000 - val_loss: 0.6475 - val_acc: 0.8031\n",
      "Epoch 25/30\n",
      "5/5 [==============================] - 2s 389ms/step - loss: 1.6051e-04 - acc: 1.0000 - val_loss: 0.6485 - val_acc: 0.8156\n",
      "Epoch 26/30\n",
      "5/5 [==============================] - 2s 398ms/step - loss: 1.4812e-04 - acc: 1.0000 - val_loss: 0.6501 - val_acc: 0.8125\n",
      "Epoch 27/30\n",
      "5/5 [==============================] - 2s 387ms/step - loss: 1.3837e-04 - acc: 1.0000 - val_loss: 0.6523 - val_acc: 0.8219\n",
      "Epoch 28/30\n",
      "5/5 [==============================] - 2s 388ms/step - loss: 1.3035e-04 - acc: 1.0000 - val_loss: 0.6546 - val_acc: 0.8219\n",
      "Epoch 29/30\n",
      "5/5 [==============================] - 2s 390ms/step - loss: 1.2399e-04 - acc: 1.0000 - val_loss: 0.6564 - val_acc: 0.8250\n",
      "Epoch 30/30\n",
      "5/5 [==============================] - 2s 391ms/step - loss: 1.1793e-04 - acc: 1.0000 - val_loss: 0.6578 - val_acc: 0.8219\n"
     ]
    }
   ],
   "source": [
    "history = model.fit(X_train, y_train, epochs=30, batch_size=256, verbose=1, validation_split=0.2)"
   ]
  },
  {
   "cell_type": "code",
   "execution_count": 14,
   "metadata": {},
   "outputs": [],
   "source": [
    "def plot_results(history, metric):\n",
    "    plt.plot(history.history[metric], 'b', label='Training '+metric)\n",
    "    plt.plot(history.history['val_'+metric], 'r--', label='Validation '+metric)\n",
    "    plt.title('Training vs. Validation '+metric)\n",
    "    plt.xlabel('Epochs')\n",
    "    plt.ylabel(metric)\n",
    "    plt.legend()\n",
    "    plt.show()"
   ]
  },
  {
   "cell_type": "code",
   "execution_count": 15,
   "metadata": {},
   "outputs": [
    {
     "data": {
      "image/png": "[encoded data removed]",
      "text/plain": [
       "<Figure size 432x288 with 1 Axes>"
      ]
     },
     "metadata": {
      "needs_background": "light"
     },
     "output_type": "display_data"
    }
   ],
   "source": [
    "plot_results(history, 'acc')"
   ]
  },
  {
   "cell_type": "code",
   "execution_count": 16,
   "metadata": {},
   "outputs": [
    {
     "name": "stdout",
     "output_type": "stream",
     "text": [
      "13/13 [==============================] - 0s 14ms/step - loss: 0.6690 - acc: 0.8175\n"
     ]
    },
    {
     "data": {
      "text/plain": [
       "[0.669006884098053, 0.8174999952316284]"
      ]
     },
     "execution_count": 16,
     "metadata": {},
     "output_type": "execute_result"
    }
   ],
   "source": [
    "score = model.evaluate(X_test, y_test)\n",
    "score"
   ]
  },
  {
   "cell_type": "code",
   "execution_count": null,
   "metadata": {},
   "outputs": [],
   "source": []
  }
 ],
 "metadata": {
  "kernelspec": {
   "display_name": "base",
   "language": "python",
   "name": "python3"
  },
  "language_info": {
   "codemirror_mode": {
    "name": "ipython",
    "version": 3
   },
   "file_extension": ".py",
   "mimetype": "text/x-python",
   "name": "python",
   "nbconvert_exporter": "python",
   "pygments_lexer": "ipython3",
   "version": "3.10.9"
  }
 },
 "nbformat": 4,
 "nbformat_minor": 2
}
