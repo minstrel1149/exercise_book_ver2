{
 "cells": [
  {
   "cell_type": "code",
   "execution_count": 1,
   "metadata": {},
   "outputs": [
    {
     "name": "stderr",
     "output_type": "stream",
     "text": [
      "C:\\Users\\admin\\AppData\\Roaming\\Python\\Python310\\site-packages\\scipy\\__init__.py:146: UserWarning: A NumPy version >=1.16.5 and <1.23.0 is required for this version of SciPy (detected version 1.26.1\n",
      "  warnings.warn(f\"A NumPy version >={np_minversion} and <{np_maxversion}\"\n"
     ]
    }
   ],
   "source": [
    "from sklearn.datasets import fetch_20newsgroups\n",
    "from sklearn.feature_extraction.text import TfidfVectorizer, CountVectorizer, TfidfTransformer\n",
    "from sklearn.decomposition import LatentDirichletAllocation\n",
    "import numpy as np\n",
    "import pandas as pd\n",
    "import matplotlib as mpl\n",
    "import matplotlib.pyplot as plt\n",
    "%matplotlib inline\n",
    "from gensim.corpora.dictionary import Dictionary\n",
    "from gensim.models import LdaModel, CoherenceModel, LdaSeqModel\n",
    "from nltk.tokenize import RegexpTokenizer, word_tokenize\n",
    "from nltk.corpus import stopwords\n",
    "from konlpy.tag import Okt"
   ]
  },
  {
   "cell_type": "code",
   "execution_count": 2,
   "metadata": {},
   "outputs": [
    {
     "name": "stdout",
     "output_type": "stream",
     "text": [
      "3219\n"
     ]
    }
   ],
   "source": [
    "categories = ['alt.atheism', 'talk.religion.misc', 'comp.graphics', 'sci.space', \n",
    "              'comp.sys.ibm.pc.hardware', 'sci.crypt']\n",
    "newsgroups_train = fetch_20newsgroups(subset='train', categories=categories)\n",
    "print(len(newsgroups_train.data))"
   ]
  },
  {
   "cell_type": "code",
   "execution_count": 3,
   "metadata": {},
   "outputs": [],
   "source": [
    "cv = CountVectorizer(token_pattern=\"[\\w']{2,}\", stop_words='english', max_features=2000, min_df=5, max_df=0.5)"
   ]
  },
  {
   "cell_type": "code",
   "execution_count": 4,
   "metadata": {},
   "outputs": [
    {
     "data": {
      "text/plain": [
       "(3219, 2000)"
      ]
     },
     "execution_count": 4,
     "metadata": {},
     "output_type": "execute_result"
    }
   ],
   "source": [
    "review_cv = cv.fit_transform(newsgroups_train.data)\n",
    "review_cv.shape"
   ]
  },
  {
   "cell_type": "code",
   "execution_count": 5,
   "metadata": {},
   "outputs": [],
   "source": [
    "np.set_printoptions(precision=3)"
   ]
  },
  {
   "cell_type": "code",
   "execution_count": 23,
   "metadata": {},
   "outputs": [],
   "source": [
    "lda = LatentDirichletAllocation(n_components=9, max_iter=5, doc_topic_prior=1.0, topic_word_prior=0.1,\n",
    "                                learning_method='online', n_jobs=-1, random_state=0)"
   ]
  },
  {
   "cell_type": "code",
   "execution_count": 24,
   "metadata": {},
   "outputs": [
    {
     "data": {
      "text/plain": [
       "((3219, 9),\n",
       " array([0.05 , 0.018, 0.014, 0.024, 0.008, 0.008, 0.863, 0.007, 0.008]))"
      ]
     },
     "execution_count": 24,
     "metadata": {},
     "output_type": "execute_result"
    }
   ],
   "source": [
    "review_topic = lda.fit_transform(review_cv)\n",
    "review_topic.shape, review_topic[0]"
   ]
  },
  {
   "cell_type": "code",
   "execution_count": 25,
   "metadata": {},
   "outputs": [
    {
     "data": {
      "text/plain": [
       "array([0.101, 0.114, 0.071, 0.148, 0.078, 0.122, 0.092, 0.086, 0.187])"
      ]
     },
     "execution_count": 25,
     "metadata": {},
     "output_type": "execute_result"
    }
   ],
   "source": [
    "gross_topic_weights = np.mean(review_topic, axis=0)\n",
    "gross_topic_weights"
   ]
  },
  {
   "cell_type": "code",
   "execution_count": 26,
   "metadata": {},
   "outputs": [
    {
     "data": {
      "text/plain": [
       "((9, 2000),\n",
       " array(['god', 'jesus', 'bible', 'does', 'john', 'question', 'point',\n",
       "        'time', 'know', 'christian'], dtype=object))"
      ]
     },
     "execution_count": 26,
     "metadata": {},
     "output_type": "execute_result"
    }
   ],
   "source": [
    "lda.components_.shape, cv.get_feature_names_out()[lda.components_[0].argsort()[:-11:-1]]"
   ]
  },
  {
   "cell_type": "code",
   "execution_count": 27,
   "metadata": {},
   "outputs": [],
   "source": [
    "def print_top_words(model, feature_names, n_top_words=10):\n",
    "    for topic_idx, topic in enumerate(model.components_):\n",
    "        print(f\"Topic #{topic_idx}: {', '.join([feature_names[i] for i in topic.argsort()[:-n_top_words-1:-1]])}\")\n",
    "    print()"
   ]
  },
  {
   "cell_type": "code",
   "execution_count": 28,
   "metadata": {},
   "outputs": [
    {
     "name": "stdout",
     "output_type": "stream",
     "text": [
      "Topic #0: god, jesus, bible, does, john, question, point, time, know, christian\n",
      "Topic #1: space, nasa, gov, launch, earth, orbit, moon, research, shuttle, center\n",
      "Topic #2: com, article, sandvik, au, cc, apple, kent, islam, university, islamic\n",
      "Topic #3: people, don't, just, like, think, com, know, it's, good, article\n",
      "Topic #4: drive, scsi, db, disk, ide, bus, controller, hard, drives, data\n",
      "Topic #5: key, encryption, clipper, chip, com, government, keys, use, security, escrow\n",
      "Topic #6: com, article, posting, nntp, host, keith, morality, sgi, caltech, objective\n",
      "Topic #7: image, file, ftp, available, information, mail, data, software, graphics, pub\n",
      "Topic #8: com, university, host, nntp, posting, thanks, know, need, i'm, like\n",
      "\n"
     ]
    }
   ],
   "source": [
    "print_top_words(lda, cv.get_feature_names_out())"
   ]
  },
  {
   "cell_type": "code",
   "execution_count": 21,
   "metadata": {},
   "outputs": [],
   "source": [
    "def show_perplexity(cv, start=10, end=30, max_iter=5, topic_word_prior= 0.1, \n",
    "                    doc_topic_prior=1.0):\n",
    "    iter_num = []\n",
    "    per_value = []\n",
    "\n",
    "    for i in range(start, end + 1):\n",
    "        lda = LatentDirichletAllocation(n_components = i, max_iter=max_iter, \n",
    "                                        topic_word_prior= topic_word_prior, \n",
    "                                        doc_topic_prior=doc_topic_prior,\n",
    "                                        learning_method='batch', n_jobs= -1,\n",
    "                                        random_state=7)    \n",
    "        lda.fit(cv)\n",
    "        iter_num.append(i)\n",
    "        pv = lda.perplexity(cv)\n",
    "        per_value.append(pv)\n",
    "        print(f'n_components: {i}, perplexity: {pv:0.3f}')\n",
    "\n",
    "    plt.plot(iter_num, per_value, 'g-')\n",
    "    plt.show()\n",
    "    return start + per_value.index(min(per_value))"
   ]
  },
  {
   "cell_type": "code",
   "execution_count": 22,
   "metadata": {},
   "outputs": [
    {
     "name": "stdout",
     "output_type": "stream",
     "text": [
      "n_components: 6, perplexity: 1025.810\n",
      "n_components: 7, perplexity: 1030.788\n",
      "n_components: 8, perplexity: 1025.020\n",
      "n_components: 9, perplexity: 1021.306\n",
      "n_components: 10, perplexity: 1025.672\n",
      "n_components: 11, perplexity: 1028.674\n",
      "n_components: 12, perplexity: 1037.358\n",
      "n_components: 13, perplexity: 1030.755\n",
      "n_components: 14, perplexity: 1035.261\n",
      "n_components: 15, perplexity: 1035.485\n"
     ]
    },
    {
     "data": {
      "image/png": "[encoded data removed]",
      "text/plain": [
       "<Figure size 432x288 with 1 Axes>"
      ]
     },
     "metadata": {
      "needs_background": "light"
     },
     "output_type": "display_data"
    },
    {
     "data": {
      "text/plain": [
       "9"
      ]
     },
     "execution_count": 22,
     "metadata": {},
     "output_type": "execute_result"
    }
   ],
   "source": [
    "show_perplexity(review_cv, start=6, end=15)"
   ]
  },
  {
   "cell_type": "code",
   "execution_count": null,
   "metadata": {},
   "outputs": [],
   "source": []
  }
 ],
 "metadata": {
  "kernelspec": {
   "display_name": "base",
   "language": "python",
   "name": "python3"
  },
  "language_info": {
   "codemirror_mode": {
    "name": "ipython",
    "version": 3
   },
   "file_extension": ".py",
   "mimetype": "text/x-python",
   "name": "python",
   "nbconvert_exporter": "python",
   "pygments_lexer": "ipython3",
   "version": "3.10.9"
  }
 },
 "nbformat": 4,
 "nbformat_minor": 2
}
