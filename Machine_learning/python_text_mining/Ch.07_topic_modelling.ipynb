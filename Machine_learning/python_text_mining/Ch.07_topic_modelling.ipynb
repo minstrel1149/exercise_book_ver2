{
 "cells": [
  {
   "cell_type": "code",
   "execution_count": 48,
   "metadata": {},
   "outputs": [],
   "source": [
    "from sklearn.datasets import fetch_20newsgroups\n",
    "from sklearn.feature_extraction.text import TfidfVectorizer, CountVectorizer, TfidfTransformer\n",
    "from sklearn.decomposition import LatentDirichletAllocation\n",
    "import numpy as np\n",
    "import pandas as pd\n",
    "import matplotlib as mpl\n",
    "import matplotlib.pyplot as plt\n",
    "%matplotlib inline\n",
    "from gensim.corpora.dictionary import Dictionary\n",
    "from gensim.models import LdaModel, CoherenceModel, LdaSeqModel\n",
    "from nltk.tokenize import RegexpTokenizer, word_tokenize\n",
    "from nltk.corpus import stopwords\n",
    "from konlpy.tag import Okt"
   ]
  },
  {
   "cell_type": "code",
   "execution_count": 2,
   "metadata": {},
   "outputs": [],
   "source": [
    "categories = ['alt.atheism', 'talk.religion.misc', 'comp.graphics', 'sci.space', \n",
    "              'comp.sys.ibm.pc.hardware', 'sci.crypt']"
   ]
  },
  {
   "cell_type": "code",
   "execution_count": 3,
   "metadata": {},
   "outputs": [
    {
     "name": "stdout",
     "output_type": "stream",
     "text": [
      "3219\n"
     ]
    }
   ],
   "source": [
    "newsgroups_train = fetch_20newsgroups(subset='train', categories=categories)\n",
    "print(len(newsgroups_train.data))"
   ]
  },
  {
   "cell_type": "code",
   "execution_count": 4,
   "metadata": {},
   "outputs": [],
   "source": [
    "cv = CountVectorizer(token_pattern=\"[\\w']{3,}\", stop_words='english', min_df=5, max_df=0.5)\n",
    "review_cv = cv.fit_transform(newsgroups_train.data)"
   ]
  },
  {
   "cell_type": "code",
   "execution_count": 5,
   "metadata": {},
   "outputs": [],
   "source": [
    "np.set_printoptions(precision=3)"
   ]
  },
  {
   "cell_type": "code",
   "execution_count": 6,
   "metadata": {},
   "outputs": [],
   "source": [
    "n_components = 10\n",
    "lda = LatentDirichletAllocation(n_components=n_components, max_iter=10, topic_word_prior=1/n_components, doc_topic_prior=10/n_components, learning_method='batch', n_jobs=-1)"
   ]
  },
  {
   "cell_type": "code",
   "execution_count": 7,
   "metadata": {},
   "outputs": [],
   "source": [
    "review_topics = lda.fit_transform(review_cv)"
   ]
  },
  {
   "cell_type": "code",
   "execution_count": 8,
   "metadata": {},
   "outputs": [
    {
     "name": "stdout",
     "output_type": "stream",
     "text": [
      "(3219, 10)\n",
      "[0.008 0.007 0.813 0.006 0.007 0.006 0.133 0.006 0.008 0.006]\n"
     ]
    }
   ],
   "source": [
    "print(review_topics.shape)\n",
    "print(review_topics[0])"
   ]
  },
  {
   "cell_type": "code",
   "execution_count": 9,
   "metadata": {},
   "outputs": [
    {
     "name": "stdout",
     "output_type": "stream",
     "text": [
      "[0.081 0.062 0.137 0.092 0.08  0.131 0.162 0.096 0.056 0.102]\n"
     ]
    }
   ],
   "source": [
    "gross_topic_weights = np.mean(review_topics, axis=0)\n",
    "print(gross_topic_weights)"
   ]
  },
  {
   "cell_type": "code",
   "execution_count": 10,
   "metadata": {},
   "outputs": [
    {
     "data": {
      "text/plain": [
       "(3219, 10)"
      ]
     },
     "execution_count": 10,
     "metadata": {},
     "output_type": "execute_result"
    }
   ],
   "source": [
    "review_topics.shape"
   ]
  },
  {
   "cell_type": "code",
   "execution_count": 11,
   "metadata": {},
   "outputs": [],
   "source": [
    "def print_top_words(model, feature_names, n_top_words):\n",
    "    for topic_idx, topic in enumerate(model.components_):\n",
    "        print(\"Topic #%d: \" % topic_idx, end='')\n",
    "        print(\", \".join([feature_names[i] for i in topic.argsort()[:-n_top_words - 1:-1]]))\n",
    "    print()"
   ]
  },
  {
   "cell_type": "code",
   "execution_count": 12,
   "metadata": {},
   "outputs": [
    {
     "name": "stdout",
     "output_type": "stream",
     "text": [
      "Topic #0: space, nasa, information, internet, faq, anonymous, gov, orbit, sci, data\n",
      "Topic #1: space, launch, new, cost, year, nasa, gov, right, commercial, years\n",
      "Topic #2: com, article, posting, nntp, host, just, don't, keith, think, access\n",
      "Topic #3: com, university, posting, host, nntp, graphics, washington, computer, article, mail\n",
      "Topic #4: com, just, know, jesus, like, good, brian, people, article, don't\n",
      "Topic #5: image, software, version, file, graphics, files, windows, use, program, bit\n",
      "Topic #6: god, people, don't, say, think, com, does, christian, believe, article\n",
      "Topic #7: com, key, netcom, des, chip, keys, clipper, nsa, pgp, crypto\n",
      "Topic #8: encryption, clipper, chip, government, law, use, key, technology, privacy, security\n",
      "Topic #9: drive, scsi, ide, controller, disk, bus, hard, drives, com, university\n",
      "\n"
     ]
    }
   ],
   "source": [
    "print_top_words(lda, cv.get_feature_names_out(), 10)"
   ]
  },
  {
   "cell_type": "code",
   "execution_count": 13,
   "metadata": {},
   "outputs": [
    {
     "name": "stdout",
     "output_type": "stream",
     "text": [
      "n_components: 6, perplexity: 3283.435\n",
      "n_components: 7, perplexity: 3259.015\n",
      "n_components: 8, perplexity: 3211.871\n",
      "n_components: 9, perplexity: 3273.342\n",
      "n_components: 10, perplexity: 3240.417\n",
      "n_components: 11, perplexity: 3246.680\n",
      "n_components: 12, perplexity: 3267.414\n",
      "n_components: 13, perplexity: 3307.195\n",
      "n_components: 14, perplexity: 3309.275\n",
      "n_components: 15, perplexity: 3329.700\n"
     ]
    },
    {
     "data": {
      "image/png": "[encoded data removed]",
      "text/plain": [
       "<Figure size 432x288 with 1 Axes>"
      ]
     },
     "metadata": {
      "needs_background": "light"
     },
     "output_type": "display_data"
    },
    {
     "data": {
      "text/plain": [
       "8"
      ]
     },
     "execution_count": 13,
     "metadata": {},
     "output_type": "execute_result"
    }
   ],
   "source": [
    "import matplotlib.pyplot as plt\n",
    "%matplotlib inline\n",
    "\n",
    "def show_perplexity(cv, start=10, end=30, max_iter=5, topic_word_prior= 0.1, \n",
    "                    doc_topic_prior=1.0):\n",
    "    iter_num = []\n",
    "    per_value = []\n",
    "\n",
    "    for i in range(start, end + 1):\n",
    "        lda = LatentDirichletAllocation(n_components = i, max_iter=max_iter, \n",
    "                                        topic_word_prior= topic_word_prior, \n",
    "                                        doc_topic_prior=doc_topic_prior,\n",
    "                                        learning_method='batch', n_jobs= -1,\n",
    "                                        random_state=7)    \n",
    "        lda.fit(cv)\n",
    "        iter_num.append(i)\n",
    "        pv = lda.perplexity(cv)\n",
    "        per_value.append(pv)\n",
    "        print(f'n_components: {i}, perplexity: {pv:0.3f}')\n",
    "\n",
    "    plt.plot(iter_num, per_value, 'g-')\n",
    "    plt.show()\n",
    "    return start + per_value.index(min(per_value))\n",
    "\n",
    "show_perplexity(review_cv, start=6, end=15)"
   ]
  },
  {
   "cell_type": "code",
   "execution_count": 14,
   "metadata": {},
   "outputs": [
    {
     "name": "stdout",
     "output_type": "stream",
     "text": [
      "Topic #0: key, encryption, clipper, chip, government, use, public, security, keys, privacy\n",
      "Topic #1: drive, scsi, card, university, ide, controller, disk, bus, hard, host\n",
      "Topic #2: com, article, nntp, posting, host, i'm, just, netcom, like, don't\n",
      "Topic #3: god, jesus, people, does, bible, believe, just, time, say, good\n",
      "Topic #4: space, nasa, gov, information, research, center, faq, university, sci, 1993\n",
      "Topic #5: space, article, launch, moon, orbit, access, nasa, just, earth, henry\n",
      "Topic #6: graphics, image, file, files, software, ftp, version, program, mail, available\n",
      "Topic #7: people, com, don't, article, think, say, keith, morality, just, like\n",
      "\n"
     ]
    }
   ],
   "source": [
    "lda = LatentDirichletAllocation(n_components = 8, #추출할 topic의 수를 지정\n",
    "                                max_iter=20, \n",
    "                                topic_word_prior= 0.1, \n",
    "                                doc_topic_prior=1.0,\n",
    "                                learning_method='batch',\n",
    "                                n_jobs= -1, \n",
    "                                random_state=7)\n",
    "\n",
    "review_topics = lda.fit_transform(review_cv)\n",
    "\n",
    "print_top_words(lda, cv.get_feature_names_out(), 10)"
   ]
  },
  {
   "cell_type": "code",
   "execution_count": 15,
   "metadata": {},
   "outputs": [],
   "source": [
    "reg_token = RegexpTokenizer(\"[\\w']{3,}\")\n",
    "english_stops = set(stopwords.words('english'))\n",
    "\n",
    "def tokenizer(text):\n",
    "    tokens = reg_token.tokenize(text.lower()) \n",
    "    # stopwords 제외\n",
    "    words = [word for word in tokens if (word not in english_stops) and len(word) > 2]\n",
    "    return words\n",
    "\n",
    "texts = [tokenizer(news) for news in newsgroups_train.data]"
   ]
  },
  {
   "cell_type": "code",
   "execution_count": 16,
   "metadata": {},
   "outputs": [
    {
     "name": "stdout",
     "output_type": "stream",
     "text": [
      "46466\n",
      "2000\n",
      "2000 3219\n"
     ]
    }
   ],
   "source": [
    "dictionary = Dictionary(texts)\n",
    "print(len(dictionary))\n",
    "\n",
    "dictionary.filter_extremes(keep_n = 2000, no_below=5, no_above=0.5)\n",
    "print(len(dictionary))\n",
    "\n",
    "corpus = [dictionary.doc2bow(text) for text in texts]\n",
    "print(len(dictionary), len(corpus))"
   ]
  },
  {
   "cell_type": "code",
   "execution_count": 17,
   "metadata": {},
   "outputs": [],
   "source": [
    "num_topics = 10\n",
    "passes = 5\n",
    "model = LdaModel(corpus=corpus, id2word=dictionary,\n",
    "                       passes=passes, num_topics=num_topics,\n",
    "                       random_state=7)"
   ]
  },
  {
   "cell_type": "code",
   "execution_count": 18,
   "metadata": {},
   "outputs": [
    {
     "data": {
      "text/plain": [
       "[(0,\n",
       "  '0.023*\"com\" + 0.018*\"keith\" + 0.016*\"caltech\" + 0.013*\"sgi\" + 0.013*\"nntp\" + 0.013*\"posting\" + 0.013*\"host\" + 0.012*\"would\" + 0.012*\"system\" + 0.011*\"livesey\"'),\n",
       " (1,\n",
       "  '0.020*\"morality\" + 0.018*\"objective\" + 0.015*\"one\" + 0.015*\"say\" + 0.014*\"uiuc\" + 0.012*\"frank\" + 0.012*\"values\" + 0.010*\"faq\" + 0.010*\"article\" + 0.008*\"cso\"'),\n",
       " (2,\n",
       "  '0.026*\"com\" + 0.025*\"access\" + 0.025*\"posting\" + 0.023*\"host\" + 0.023*\"nntp\" + 0.017*\"digex\" + 0.015*\"article\" + 0.013*\"cwru\" + 0.013*\"___\" + 0.013*\"net\"'),\n",
       " (3,\n",
       "  '0.021*\"university\" + 0.017*\"posting\" + 0.015*\"host\" + 0.015*\"nntp\" + 0.013*\"article\" + 0.010*\"com\" + 0.009*\"know\" + 0.009*\"i\\'m\" + 0.009*\"would\" + 0.009*\"thanks\"'),\n",
       " (4,\n",
       "  '0.032*\"com\" + 0.015*\"would\" + 0.011*\"article\" + 0.010*\"one\" + 0.010*\"get\" + 0.009*\"people\" + 0.009*\"ibm\" + 0.008*\"government\" + 0.007*\"good\" + 0.007*\"i\\'m\"'),\n",
       " (5,\n",
       "  '0.025*\"key\" + 0.017*\"encryption\" + 0.014*\"clipper\" + 0.014*\"chip\" + 0.009*\"keys\" + 0.009*\"use\" + 0.008*\"security\" + 0.008*\"government\" + 0.008*\"public\" + 0.007*\"escrow\"'),\n",
       " (6,\n",
       "  '0.024*\"scsi\" + 0.024*\"drive\" + 0.013*\"com\" + 0.012*\"ide\" + 0.011*\"controller\" + 0.010*\"bus\" + 0.010*\"card\" + 0.010*\"disk\" + 0.009*\"one\" + 0.009*\"drives\"'),\n",
       " (7,\n",
       "  '0.017*\"graphics\" + 0.012*\"image\" + 0.012*\"ftp\" + 0.011*\"file\" + 0.010*\"files\" + 0.009*\"available\" + 0.009*\"data\" + 0.009*\"pub\" + 0.008*\"software\" + 0.008*\"use\"'),\n",
       " (8,\n",
       "  '0.014*\"god\" + 0.013*\"people\" + 0.012*\"one\" + 0.009*\"would\" + 0.007*\"jesus\" + 0.007*\"com\" + 0.007*\"think\" + 0.006*\"many\" + 0.006*\"even\" + 0.006*\"say\"'),\n",
       " (9,\n",
       "  '0.033*\"space\" + 0.019*\"nasa\" + 0.009*\"gov\" + 0.007*\"first\" + 0.007*\"launch\" + 0.006*\"moon\" + 0.006*\"earth\" + 0.006*\"orbit\" + 0.006*\"shuttle\" + 0.006*\"would\"')]"
      ]
     },
     "execution_count": 18,
     "metadata": {},
     "output_type": "execute_result"
    }
   ],
   "source": [
    "model.print_topics(num_words=10)"
   ]
  },
  {
   "cell_type": "code",
   "execution_count": 19,
   "metadata": {},
   "outputs": [
    {
     "data": {
      "text/plain": [
       "[(0, 0.72576934), (8, 0.2699505)]"
      ]
     },
     "execution_count": 19,
     "metadata": {},
     "output_type": "execute_result"
    }
   ],
   "source": [
    "model.get_document_topics(corpus)[0]"
   ]
  },
  {
   "cell_type": "code",
   "execution_count": 20,
   "metadata": {},
   "outputs": [
    {
     "name": "stdout",
     "output_type": "stream",
     "text": [
      "-1.7493528544065975\n"
     ]
    }
   ],
   "source": [
    "cm = CoherenceModel(model=model, corpus=corpus, coherence='u_mass')\n",
    "coherence = cm.get_coherence()\n",
    "print(coherence)"
   ]
  },
  {
   "cell_type": "code",
   "execution_count": 23,
   "metadata": {},
   "outputs": [
    {
     "data": {
      "text/html": [
       "<div>\n",
       "<style scoped>\n",
       "    .dataframe tbody tr th:only-of-type {\n",
       "        vertical-align: middle;\n",
       "    }\n",
       "\n",
       "    .dataframe tbody tr th {\n",
       "        vertical-align: top;\n",
       "    }\n",
       "\n",
       "    .dataframe thead th {\n",
       "        text-align: right;\n",
       "    }\n",
       "</style>\n",
       "<table border=\"1\" class=\"dataframe\">\n",
       "  <thead>\n",
       "    <tr style=\"text-align: right;\">\n",
       "      <th></th>\n",
       "      <th>article_id</th>\n",
       "      <th>start</th>\n",
       "      <th>end</th>\n",
       "      <th>answered</th>\n",
       "      <th>votes</th>\n",
       "      <th>category</th>\n",
       "      <th>title</th>\n",
       "      <th>content</th>\n",
       "    </tr>\n",
       "  </thead>\n",
       "  <tbody>\n",
       "    <tr>\n",
       "      <th>0</th>\n",
       "      <td>58</td>\n",
       "      <td>2017-08-19</td>\n",
       "      <td>2017-11-17</td>\n",
       "      <td>0</td>\n",
       "      <td>21</td>\n",
       "      <td>일자리</td>\n",
       "      <td>국토교통부와 한국주택협회가 행한 부당한 행위와 권력남용에 대한 내용을 청원드립니다.</td>\n",
       "      <td>안녕하세요? 존경하고 지지하는 문재인 대통령님!\\n저는 성남시 분당구 정자동 주택전...</td>\n",
       "    </tr>\n",
       "    <tr>\n",
       "      <th>1</th>\n",
       "      <td>63</td>\n",
       "      <td>2017-08-20</td>\n",
       "      <td>2017-09-04</td>\n",
       "      <td>0</td>\n",
       "      <td>1</td>\n",
       "      <td>보건복지</td>\n",
       "      <td>살려주세요..</td>\n",
       "      <td>안녕하십니까?\\n저는 올해 63세된 홀로 사는 늙은 여자입니다...\\n작년 중복날 ...</td>\n",
       "    </tr>\n",
       "    <tr>\n",
       "      <th>2</th>\n",
       "      <td>136</td>\n",
       "      <td>2017-08-20</td>\n",
       "      <td>2017-11-18</td>\n",
       "      <td>0</td>\n",
       "      <td>4</td>\n",
       "      <td>육아/교육</td>\n",
       "      <td>고등학교 교육 내용 수준을 낮춰주시고 실용적인 내용을 담아주세요!</td>\n",
       "      <td>저는 광주에 사는 중3 학생입니다. 고등학교 가기 직전의 학년이라 어느 때보다 고등...</td>\n",
       "    </tr>\n",
       "    <tr>\n",
       "      <th>3</th>\n",
       "      <td>141</td>\n",
       "      <td>2017-08-20</td>\n",
       "      <td>2017-08-27</td>\n",
       "      <td>0</td>\n",
       "      <td>0</td>\n",
       "      <td>기타</td>\n",
       "      <td>한국문화에 창조적요소를 심자</td>\n",
       "      <td>안녕하십니까\\n저는 92년 한국을 알게된  종국동포 입니다.\\n[저는 한 중소기업에...</td>\n",
       "    </tr>\n",
       "    <tr>\n",
       "      <th>4</th>\n",
       "      <td>148</td>\n",
       "      <td>2017-08-20</td>\n",
       "      <td>2017-11-18</td>\n",
       "      <td>0</td>\n",
       "      <td>7</td>\n",
       "      <td>외교/통일/국방</td>\n",
       "      <td>다문화정책 및 할랄 인증 제도</td>\n",
       "      <td>대한민국과 국민을 위해 밤낮 없이 수고하시는 대통령을 비롯한 위정자 분들께\\n대한민...</td>\n",
       "    </tr>\n",
       "  </tbody>\n",
       "</table>\n",
       "</div>"
      ],
      "text/plain": [
       "   article_id       start         end  answered  votes  category  \\\n",
       "0          58  2017-08-19  2017-11-17         0     21       일자리   \n",
       "1          63  2017-08-20  2017-09-04         0      1      보건복지   \n",
       "2         136  2017-08-20  2017-11-18         0      4     육아/교육   \n",
       "3         141  2017-08-20  2017-08-27         0      0        기타   \n",
       "4         148  2017-08-20  2017-11-18         0      7  외교/통일/국방   \n",
       "\n",
       "                                            title  \\\n",
       "0  국토교통부와 한국주택협회가 행한 부당한 행위와 권력남용에 대한 내용을 청원드립니다.   \n",
       "1                                         살려주세요..   \n",
       "2            고등학교 교육 내용 수준을 낮춰주시고 실용적인 내용을 담아주세요!   \n",
       "3                                 한국문화에 창조적요소를 심자   \n",
       "4                                다문화정책 및 할랄 인증 제도   \n",
       "\n",
       "                                             content  \n",
       "0  안녕하세요? 존경하고 지지하는 문재인 대통령님!\\n저는 성남시 분당구 정자동 주택전...  \n",
       "1  안녕하십니까?\\n저는 올해 63세된 홀로 사는 늙은 여자입니다...\\n작년 중복날 ...  \n",
       "2  저는 광주에 사는 중3 학생입니다. 고등학교 가기 직전의 학년이라 어느 때보다 고등...  \n",
       "3  안녕하십니까\\n저는 92년 한국을 알게된  종국동포 입니다.\\n[저는 한 중소기업에...  \n",
       "4  대한민국과 국민을 위해 밤낮 없이 수고하시는 대통령을 비롯한 위정자 분들께\\n대한민...  "
      ]
     },
     "execution_count": 23,
     "metadata": {},
     "output_type": "execute_result"
    }
   ],
   "source": [
    "df = pd.read_csv(\"./data/petition_sampled.csv\")\n",
    "df.head()"
   ]
  },
  {
   "cell_type": "code",
   "execution_count": 25,
   "metadata": {},
   "outputs": [],
   "source": [
    "okt = Okt()"
   ]
  },
  {
   "cell_type": "code",
   "execution_count": 26,
   "metadata": {},
   "outputs": [],
   "source": [
    "def tokenizer(doc):\n",
    "    return [token for token in okt.nouns(doc) if len(token) > 1]"
   ]
  },
  {
   "cell_type": "code",
   "execution_count": 28,
   "metadata": {},
   "outputs": [
    {
     "name": "stdout",
     "output_type": "stream",
     "text": [
      "(18077, 1000)\n"
     ]
    }
   ],
   "source": [
    "cv = CountVectorizer(tokenizer=tokenizer, max_df=0.5, min_df=5, max_features=1000)\n",
    "pet_cv = cv.fit_transform(df.content)\n",
    "print(pet_cv.shape)"
   ]
  },
  {
   "cell_type": "code",
   "execution_count": 29,
   "metadata": {},
   "outputs": [],
   "source": [
    "lda = LatentDirichletAllocation(n_components=15, n_jobs=-1, random_state=0)"
   ]
  },
  {
   "cell_type": "code",
   "execution_count": 30,
   "metadata": {},
   "outputs": [],
   "source": [
    "pet_topics = lda.fit_transform(pet_cv)"
   ]
  },
  {
   "cell_type": "code",
   "execution_count": 31,
   "metadata": {},
   "outputs": [],
   "source": [
    "def print_top_words(model, feature_names, n_top_words):\n",
    "    for topic_idx, topic in enumerate(model.components_):\n",
    "        print(\"Topic #%d: \" % topic_idx, end='')\n",
    "        print(', '.join([feature_names[i] for i in topic.argsort()[:-n_top_words-1:-1]]))"
   ]
  },
  {
   "cell_type": "code",
   "execution_count": 32,
   "metadata": {},
   "outputs": [
    {
     "name": "stdout",
     "output_type": "stream",
     "text": [
      "Topic #0: 사람, 생각, 피해자, 처벌, 사건, 병원, 가해자, 대통령, 국민, 나라, 자신, 환자, 정말, 대한민국, 가족\n",
      "Topic #1: 북한, 한국, 우리, 대통령, 정부, 대한민국, 미국, 국민, 문재인, 일본, 국가, 문제, 생각, 우리나라, 나라\n",
      "Topic #2: 아이, 부모, 생각, 어린이집, 엄마, 교사, 우리, 유치원, 자녀, 가정, 동물, 가족, 출산, 아빠, 결혼\n",
      "Topic #3: 청소년, 불법, 보호, 폐지, 장애인, 조직, 이용, 생각, 사찰, 게임, 노인, 사람, 사회, 축구, 나이\n",
      "Topic #4: 주택, 정부, 정책, 부동산, 서민, 아파트, 국민, 나라, 세금, 대통령, 사람, 지금, 서울, 투기, 집값\n",
      "Topic #5: 일자리, 정부, 기업, 생각, 근무, 지원, 근로자, 임금, 최저임금, 정책, 시간, 사람, 고용, 대기업, 직원\n",
      "Topic #6: 국민, 청원, 국회의원, 국회, 난민, 의원, 대통령, 청와대, 정치, 세금, 반대, 생각, 나라, 대한민국, 국가\n",
      "Topic #7: 관리, 대한, 내용, 판결, 관련, 공사, 조사, 업무, 판사, 확인, 사실, 결과, 기관, 해당, 경우\n",
      "Topic #8: 학생, 학교, 교육, 선수, 시험, 생각, 대학, 공부, 교사, 선생님, 문제, 시간, 고등학교, 위해, 제도\n",
      "Topic #9: 보험, 연금, 국민연금, 공무원, 지급, 국민, 방송, 의료, 소득, 건강, 가입, 국가, 보험료, 기초, 제도\n",
      "Topic #10: 여성, 공무원, 사회, 생각, 남성, 남자, 대한민국, 의무, 사람, 여자, 행정, 군대, 나라, 국가, 문제\n",
      "Topic #11: 경찰, 범죄, 국민, 사건, 위해, 대한민국, 조직, 불법, 만행, 경찰서, 범죄자, 수사, 부정부패, 검찰, 살인마\n",
      "Topic #12: 처벌, 차량, 사건, 사고, 경우, 기사, 피해, 대한, 피해자, 안전, 행위, 이명박, 청원, 택시, 관련\n",
      "Topic #13: 민원, 화폐, 가상, 정부, 투자, 거래, 시장, 계획, 규제, 주식, 흡연, 사업, 담배, 금융, 개인\n",
      "Topic #14: 사람, 회사, 저희, 생각, 전화, 미세먼지, 대출, 정말, 사용, 지금, 신고, 때문, 판매, 은행, 다시\n"
     ]
    }
   ],
   "source": [
    "print_top_words(lda, cv.get_feature_names_out(), 15)"
   ]
  },
  {
   "cell_type": "code",
   "execution_count": 33,
   "metadata": {},
   "outputs": [
    {
     "data": {
      "text/html": [
       "<div>\n",
       "<style scoped>\n",
       "    .dataframe tbody tr th:only-of-type {\n",
       "        vertical-align: middle;\n",
       "    }\n",
       "\n",
       "    .dataframe tbody tr th {\n",
       "        vertical-align: top;\n",
       "    }\n",
       "\n",
       "    .dataframe thead th {\n",
       "        text-align: right;\n",
       "    }\n",
       "</style>\n",
       "<table border=\"1\" class=\"dataframe\">\n",
       "  <thead>\n",
       "    <tr style=\"text-align: right;\">\n",
       "      <th></th>\n",
       "      <th>Topic1</th>\n",
       "      <th>Topic2</th>\n",
       "      <th>Topic3</th>\n",
       "      <th>Topic4</th>\n",
       "      <th>Topic5</th>\n",
       "      <th>Topic6</th>\n",
       "      <th>Topic7</th>\n",
       "      <th>Topic8</th>\n",
       "      <th>Topic9</th>\n",
       "      <th>Topic10</th>\n",
       "      <th>Topic11</th>\n",
       "      <th>Topic12</th>\n",
       "      <th>Topic13</th>\n",
       "      <th>Topic14</th>\n",
       "      <th>Topic15</th>\n",
       "      <th>start</th>\n",
       "    </tr>\n",
       "  </thead>\n",
       "  <tbody>\n",
       "    <tr>\n",
       "      <th>0</th>\n",
       "      <td>0.000307</td>\n",
       "      <td>0.000307</td>\n",
       "      <td>0.000307</td>\n",
       "      <td>0.075431</td>\n",
       "      <td>0.178300</td>\n",
       "      <td>0.000307</td>\n",
       "      <td>0.000307</td>\n",
       "      <td>0.742581</td>\n",
       "      <td>0.000307</td>\n",
       "      <td>0.000307</td>\n",
       "      <td>0.000307</td>\n",
       "      <td>0.000307</td>\n",
       "      <td>0.000307</td>\n",
       "      <td>0.000307</td>\n",
       "      <td>0.000307</td>\n",
       "      <td>2017-08</td>\n",
       "    </tr>\n",
       "    <tr>\n",
       "      <th>1</th>\n",
       "      <td>0.000813</td>\n",
       "      <td>0.000813</td>\n",
       "      <td>0.169797</td>\n",
       "      <td>0.000813</td>\n",
       "      <td>0.000813</td>\n",
       "      <td>0.058154</td>\n",
       "      <td>0.000813</td>\n",
       "      <td>0.000813</td>\n",
       "      <td>0.000813</td>\n",
       "      <td>0.142041</td>\n",
       "      <td>0.070066</td>\n",
       "      <td>0.000813</td>\n",
       "      <td>0.000813</td>\n",
       "      <td>0.000813</td>\n",
       "      <td>0.551813</td>\n",
       "      <td>2017-08</td>\n",
       "    </tr>\n",
       "    <tr>\n",
       "      <th>2</th>\n",
       "      <td>0.001449</td>\n",
       "      <td>0.001449</td>\n",
       "      <td>0.001449</td>\n",
       "      <td>0.001449</td>\n",
       "      <td>0.001449</td>\n",
       "      <td>0.001449</td>\n",
       "      <td>0.001449</td>\n",
       "      <td>0.001449</td>\n",
       "      <td>0.979710</td>\n",
       "      <td>0.001449</td>\n",
       "      <td>0.001449</td>\n",
       "      <td>0.001449</td>\n",
       "      <td>0.001449</td>\n",
       "      <td>0.001449</td>\n",
       "      <td>0.001449</td>\n",
       "      <td>2017-08</td>\n",
       "    </tr>\n",
       "    <tr>\n",
       "      <th>3</th>\n",
       "      <td>0.038665</td>\n",
       "      <td>0.670496</td>\n",
       "      <td>0.000227</td>\n",
       "      <td>0.000227</td>\n",
       "      <td>0.000227</td>\n",
       "      <td>0.231310</td>\n",
       "      <td>0.000227</td>\n",
       "      <td>0.000227</td>\n",
       "      <td>0.000227</td>\n",
       "      <td>0.000227</td>\n",
       "      <td>0.016086</td>\n",
       "      <td>0.000227</td>\n",
       "      <td>0.000227</td>\n",
       "      <td>0.000227</td>\n",
       "      <td>0.041175</td>\n",
       "      <td>2017-08</td>\n",
       "    </tr>\n",
       "    <tr>\n",
       "      <th>4</th>\n",
       "      <td>0.068176</td>\n",
       "      <td>0.344914</td>\n",
       "      <td>0.000447</td>\n",
       "      <td>0.000447</td>\n",
       "      <td>0.000447</td>\n",
       "      <td>0.033170</td>\n",
       "      <td>0.322260</td>\n",
       "      <td>0.000447</td>\n",
       "      <td>0.000447</td>\n",
       "      <td>0.000447</td>\n",
       "      <td>0.227005</td>\n",
       "      <td>0.000447</td>\n",
       "      <td>0.000447</td>\n",
       "      <td>0.000447</td>\n",
       "      <td>0.000447</td>\n",
       "      <td>2017-08</td>\n",
       "    </tr>\n",
       "  </tbody>\n",
       "</table>\n",
       "</div>"
      ],
      "text/plain": [
       "     Topic1    Topic2    Topic3    Topic4    Topic5    Topic6    Topic7  \\\n",
       "0  0.000307  0.000307  0.000307  0.075431  0.178300  0.000307  0.000307   \n",
       "1  0.000813  0.000813  0.169797  0.000813  0.000813  0.058154  0.000813   \n",
       "2  0.001449  0.001449  0.001449  0.001449  0.001449  0.001449  0.001449   \n",
       "3  0.038665  0.670496  0.000227  0.000227  0.000227  0.231310  0.000227   \n",
       "4  0.068176  0.344914  0.000447  0.000447  0.000447  0.033170  0.322260   \n",
       "\n",
       "     Topic8    Topic9   Topic10   Topic11   Topic12   Topic13   Topic14  \\\n",
       "0  0.742581  0.000307  0.000307  0.000307  0.000307  0.000307  0.000307   \n",
       "1  0.000813  0.000813  0.142041  0.070066  0.000813  0.000813  0.000813   \n",
       "2  0.001449  0.979710  0.001449  0.001449  0.001449  0.001449  0.001449   \n",
       "3  0.000227  0.000227  0.000227  0.016086  0.000227  0.000227  0.000227   \n",
       "4  0.000447  0.000447  0.000447  0.227005  0.000447  0.000447  0.000447   \n",
       "\n",
       "    Topic15    start  \n",
       "0  0.000307  2017-08  \n",
       "1  0.551813  2017-08  \n",
       "2  0.001449  2017-08  \n",
       "3  0.041175  2017-08  \n",
       "4  0.000447  2017-08  "
      ]
     },
     "execution_count": 33,
     "metadata": {},
     "output_type": "execute_result"
    }
   ],
   "source": [
    "trend_data = pd.DataFrame(pet_topics, columns=['Topic'+str(i) for i in range(1, 16)])\n",
    "trend_data = pd.concat([trend_data, df.start.map(lambda x: x[:7])], axis=1)\n",
    "trend_data.head()"
   ]
  },
  {
   "cell_type": "code",
   "execution_count": 34,
   "metadata": {},
   "outputs": [
    {
     "data": {
      "text/html": [
       "<div>\n",
       "<style scoped>\n",
       "    .dataframe tbody tr th:only-of-type {\n",
       "        vertical-align: middle;\n",
       "    }\n",
       "\n",
       "    .dataframe tbody tr th {\n",
       "        vertical-align: top;\n",
       "    }\n",
       "\n",
       "    .dataframe thead th {\n",
       "        text-align: right;\n",
       "    }\n",
       "</style>\n",
       "<table border=\"1\" class=\"dataframe\">\n",
       "  <thead>\n",
       "    <tr style=\"text-align: right;\">\n",
       "      <th></th>\n",
       "      <th>Topic1</th>\n",
       "      <th>Topic2</th>\n",
       "      <th>Topic3</th>\n",
       "      <th>Topic4</th>\n",
       "      <th>Topic5</th>\n",
       "      <th>Topic6</th>\n",
       "      <th>Topic7</th>\n",
       "      <th>Topic8</th>\n",
       "      <th>Topic9</th>\n",
       "      <th>Topic10</th>\n",
       "      <th>Topic11</th>\n",
       "      <th>Topic12</th>\n",
       "      <th>Topic13</th>\n",
       "      <th>Topic14</th>\n",
       "      <th>Topic15</th>\n",
       "    </tr>\n",
       "    <tr>\n",
       "      <th>start</th>\n",
       "      <th></th>\n",
       "      <th></th>\n",
       "      <th></th>\n",
       "      <th></th>\n",
       "      <th></th>\n",
       "      <th></th>\n",
       "      <th></th>\n",
       "      <th></th>\n",
       "      <th></th>\n",
       "      <th></th>\n",
       "      <th></th>\n",
       "      <th></th>\n",
       "      <th></th>\n",
       "      <th></th>\n",
       "      <th></th>\n",
       "    </tr>\n",
       "  </thead>\n",
       "  <tbody>\n",
       "    <tr>\n",
       "      <th>2017-08</th>\n",
       "      <td>0.077774</td>\n",
       "      <td>0.100127</td>\n",
       "      <td>0.152156</td>\n",
       "      <td>0.011585</td>\n",
       "      <td>0.059008</td>\n",
       "      <td>0.126860</td>\n",
       "      <td>0.035792</td>\n",
       "      <td>0.085492</td>\n",
       "      <td>0.096521</td>\n",
       "      <td>0.041937</td>\n",
       "      <td>0.031564</td>\n",
       "      <td>0.015125</td>\n",
       "      <td>0.032138</td>\n",
       "      <td>0.026306</td>\n",
       "      <td>0.107615</td>\n",
       "    </tr>\n",
       "    <tr>\n",
       "      <th>2017-09</th>\n",
       "      <td>0.148761</td>\n",
       "      <td>0.054678</td>\n",
       "      <td>0.088093</td>\n",
       "      <td>0.284642</td>\n",
       "      <td>0.030026</td>\n",
       "      <td>0.044347</td>\n",
       "      <td>0.050916</td>\n",
       "      <td>0.038872</td>\n",
       "      <td>0.056488</td>\n",
       "      <td>0.022204</td>\n",
       "      <td>0.041628</td>\n",
       "      <td>0.025142</td>\n",
       "      <td>0.053777</td>\n",
       "      <td>0.020606</td>\n",
       "      <td>0.039820</td>\n",
       "    </tr>\n",
       "    <tr>\n",
       "      <th>2017-10</th>\n",
       "      <td>0.105944</td>\n",
       "      <td>0.083196</td>\n",
       "      <td>0.063092</td>\n",
       "      <td>0.046101</td>\n",
       "      <td>0.054212</td>\n",
       "      <td>0.095063</td>\n",
       "      <td>0.056595</td>\n",
       "      <td>0.061956</td>\n",
       "      <td>0.083099</td>\n",
       "      <td>0.035336</td>\n",
       "      <td>0.084683</td>\n",
       "      <td>0.053623</td>\n",
       "      <td>0.057386</td>\n",
       "      <td>0.031646</td>\n",
       "      <td>0.088069</td>\n",
       "    </tr>\n",
       "    <tr>\n",
       "      <th>2017-11</th>\n",
       "      <td>0.129331</td>\n",
       "      <td>0.058988</td>\n",
       "      <td>0.043212</td>\n",
       "      <td>0.029472</td>\n",
       "      <td>0.038092</td>\n",
       "      <td>0.057070</td>\n",
       "      <td>0.095541</td>\n",
       "      <td>0.048153</td>\n",
       "      <td>0.066312</td>\n",
       "      <td>0.030609</td>\n",
       "      <td>0.045303</td>\n",
       "      <td>0.040608</td>\n",
       "      <td>0.229142</td>\n",
       "      <td>0.040015</td>\n",
       "      <td>0.048151</td>\n",
       "    </tr>\n",
       "    <tr>\n",
       "      <th>2017-12</th>\n",
       "      <td>0.118983</td>\n",
       "      <td>0.077071</td>\n",
       "      <td>0.064286</td>\n",
       "      <td>0.039208</td>\n",
       "      <td>0.055003</td>\n",
       "      <td>0.104068</td>\n",
       "      <td>0.087627</td>\n",
       "      <td>0.060753</td>\n",
       "      <td>0.072500</td>\n",
       "      <td>0.036061</td>\n",
       "      <td>0.055756</td>\n",
       "      <td>0.026878</td>\n",
       "      <td>0.071888</td>\n",
       "      <td>0.048763</td>\n",
       "      <td>0.081157</td>\n",
       "    </tr>\n",
       "  </tbody>\n",
       "</table>\n",
       "</div>"
      ],
      "text/plain": [
       "           Topic1    Topic2    Topic3    Topic4    Topic5    Topic6    Topic7  \\\n",
       "start                                                                           \n",
       "2017-08  0.077774  0.100127  0.152156  0.011585  0.059008  0.126860  0.035792   \n",
       "2017-09  0.148761  0.054678  0.088093  0.284642  0.030026  0.044347  0.050916   \n",
       "2017-10  0.105944  0.083196  0.063092  0.046101  0.054212  0.095063  0.056595   \n",
       "2017-11  0.129331  0.058988  0.043212  0.029472  0.038092  0.057070  0.095541   \n",
       "2017-12  0.118983  0.077071  0.064286  0.039208  0.055003  0.104068  0.087627   \n",
       "\n",
       "           Topic8    Topic9   Topic10   Topic11   Topic12   Topic13   Topic14  \\\n",
       "start                                                                           \n",
       "2017-08  0.085492  0.096521  0.041937  0.031564  0.015125  0.032138  0.026306   \n",
       "2017-09  0.038872  0.056488  0.022204  0.041628  0.025142  0.053777  0.020606   \n",
       "2017-10  0.061956  0.083099  0.035336  0.084683  0.053623  0.057386  0.031646   \n",
       "2017-11  0.048153  0.066312  0.030609  0.045303  0.040608  0.229142  0.040015   \n",
       "2017-12  0.060753  0.072500  0.036061  0.055756  0.026878  0.071888  0.048763   \n",
       "\n",
       "          Topic15  \n",
       "start              \n",
       "2017-08  0.107615  \n",
       "2017-09  0.039820  \n",
       "2017-10  0.088069  \n",
       "2017-11  0.048151  \n",
       "2017-12  0.081157  "
      ]
     },
     "execution_count": 34,
     "metadata": {},
     "output_type": "execute_result"
    }
   ],
   "source": [
    "trend = trend_data.groupby(['start']).mean()\n",
    "trend.head()"
   ]
  },
  {
   "cell_type": "code",
   "execution_count": 36,
   "metadata": {},
   "outputs": [
    {
     "data": {
      "image/png": "[encoded data removed]",
      "text/plain": [
       "<Figure size 864x1152 with 15 Axes>"
      ]
     },
     "metadata": {
      "needs_background": "light"
     },
     "output_type": "display_data"
    }
   ],
   "source": [
    "fig, axes = plt.subplots(5, 3, sharex='col', figsize=(12, 16)) \n",
    "for col, ax in zip(trend.columns.tolist(), axes.ravel()): \n",
    "    ax.set_title(col)\n",
    "    ax.axes.xaxis.set_visible(False)\n",
    "    ax.plot(trend[col])\n",
    "plt.show()"
   ]
  },
  {
   "cell_type": "code",
   "execution_count": 37,
   "metadata": {},
   "outputs": [
    {
     "data": {
      "text/html": [
       "<div>\n",
       "<style scoped>\n",
       "    .dataframe tbody tr th:only-of-type {\n",
       "        vertical-align: middle;\n",
       "    }\n",
       "\n",
       "    .dataframe tbody tr th {\n",
       "        vertical-align: top;\n",
       "    }\n",
       "\n",
       "    .dataframe thead th {\n",
       "        text-align: right;\n",
       "    }\n",
       "</style>\n",
       "<table border=\"1\" class=\"dataframe\">\n",
       "  <thead>\n",
       "    <tr style=\"text-align: right;\">\n",
       "      <th></th>\n",
       "      <th>article_id</th>\n",
       "      <th>start</th>\n",
       "      <th>end</th>\n",
       "      <th>answered</th>\n",
       "      <th>votes</th>\n",
       "      <th>category</th>\n",
       "      <th>title</th>\n",
       "      <th>content</th>\n",
       "    </tr>\n",
       "  </thead>\n",
       "  <tbody>\n",
       "    <tr>\n",
       "      <th>0</th>\n",
       "      <td>58</td>\n",
       "      <td>2017-08-19</td>\n",
       "      <td>2017-11-17</td>\n",
       "      <td>0</td>\n",
       "      <td>21</td>\n",
       "      <td>일자리</td>\n",
       "      <td>국토교통부와 한국주택협회가 행한 부당한 행위와 권력남용에 대한 내용을 청원드립니다.</td>\n",
       "      <td>안녕하세요? 존경하고 지지하는 문재인 대통령님!\\n저는 성남시 분당구 정자동 주택전...</td>\n",
       "    </tr>\n",
       "    <tr>\n",
       "      <th>1</th>\n",
       "      <td>63</td>\n",
       "      <td>2017-08-20</td>\n",
       "      <td>2017-09-04</td>\n",
       "      <td>0</td>\n",
       "      <td>1</td>\n",
       "      <td>보건복지</td>\n",
       "      <td>살려주세요..</td>\n",
       "      <td>안녕하십니까?\\n저는 올해 63세된 홀로 사는 늙은 여자입니다...\\n작년 중복날 ...</td>\n",
       "    </tr>\n",
       "    <tr>\n",
       "      <th>2</th>\n",
       "      <td>136</td>\n",
       "      <td>2017-08-20</td>\n",
       "      <td>2017-11-18</td>\n",
       "      <td>0</td>\n",
       "      <td>4</td>\n",
       "      <td>육아/교육</td>\n",
       "      <td>고등학교 교육 내용 수준을 낮춰주시고 실용적인 내용을 담아주세요!</td>\n",
       "      <td>저는 광주에 사는 중3 학생입니다. 고등학교 가기 직전의 학년이라 어느 때보다 고등...</td>\n",
       "    </tr>\n",
       "    <tr>\n",
       "      <th>3</th>\n",
       "      <td>141</td>\n",
       "      <td>2017-08-20</td>\n",
       "      <td>2017-08-27</td>\n",
       "      <td>0</td>\n",
       "      <td>0</td>\n",
       "      <td>기타</td>\n",
       "      <td>한국문화에 창조적요소를 심자</td>\n",
       "      <td>안녕하십니까\\n저는 92년 한국을 알게된  종국동포 입니다.\\n[저는 한 중소기업에...</td>\n",
       "    </tr>\n",
       "    <tr>\n",
       "      <th>4</th>\n",
       "      <td>148</td>\n",
       "      <td>2017-08-20</td>\n",
       "      <td>2017-11-18</td>\n",
       "      <td>0</td>\n",
       "      <td>7</td>\n",
       "      <td>외교/통일/국방</td>\n",
       "      <td>다문화정책 및 할랄 인증 제도</td>\n",
       "      <td>대한민국과 국민을 위해 밤낮 없이 수고하시는 대통령을 비롯한 위정자 분들께\\n대한민...</td>\n",
       "    </tr>\n",
       "  </tbody>\n",
       "</table>\n",
       "</div>"
      ],
      "text/plain": [
       "   article_id       start         end  answered  votes  category  \\\n",
       "0          58  2017-08-19  2017-11-17         0     21       일자리   \n",
       "1          63  2017-08-20  2017-09-04         0      1      보건복지   \n",
       "2         136  2017-08-20  2017-11-18         0      4     육아/교육   \n",
       "3         141  2017-08-20  2017-08-27         0      0        기타   \n",
       "4         148  2017-08-20  2017-11-18         0      7  외교/통일/국방   \n",
       "\n",
       "                                            title  \\\n",
       "0  국토교통부와 한국주택협회가 행한 부당한 행위와 권력남용에 대한 내용을 청원드립니다.   \n",
       "1                                         살려주세요..   \n",
       "2            고등학교 교육 내용 수준을 낮춰주시고 실용적인 내용을 담아주세요!   \n",
       "3                                 한국문화에 창조적요소를 심자   \n",
       "4                                다문화정책 및 할랄 인증 제도   \n",
       "\n",
       "                                             content  \n",
       "0  안녕하세요? 존경하고 지지하는 문재인 대통령님!\\n저는 성남시 분당구 정자동 주택전...  \n",
       "1  안녕하십니까?\\n저는 올해 63세된 홀로 사는 늙은 여자입니다...\\n작년 중복날 ...  \n",
       "2  저는 광주에 사는 중3 학생입니다. 고등학교 가기 직전의 학년이라 어느 때보다 고등...  \n",
       "3  안녕하십니까\\n저는 92년 한국을 알게된  종국동포 입니다.\\n[저는 한 중소기업에...  \n",
       "4  대한민국과 국민을 위해 밤낮 없이 수고하시는 대통령을 비롯한 위정자 분들께\\n대한민...  "
      ]
     },
     "execution_count": 37,
     "metadata": {},
     "output_type": "execute_result"
    }
   ],
   "source": [
    "df.head()"
   ]
  },
  {
   "cell_type": "code",
   "execution_count": 38,
   "metadata": {},
   "outputs": [
    {
     "data": {
      "text/html": [
       "<div>\n",
       "<style scoped>\n",
       "    .dataframe tbody tr th:only-of-type {\n",
       "        vertical-align: middle;\n",
       "    }\n",
       "\n",
       "    .dataframe tbody tr th {\n",
       "        vertical-align: top;\n",
       "    }\n",
       "\n",
       "    .dataframe thead th {\n",
       "        text-align: right;\n",
       "    }\n",
       "</style>\n",
       "<table border=\"1\" class=\"dataframe\">\n",
       "  <thead>\n",
       "    <tr style=\"text-align: right;\">\n",
       "      <th></th>\n",
       "      <th>article_id</th>\n",
       "      <th>start</th>\n",
       "      <th>end</th>\n",
       "      <th>answered</th>\n",
       "      <th>votes</th>\n",
       "      <th>category</th>\n",
       "      <th>title</th>\n",
       "      <th>content</th>\n",
       "      <th>time</th>\n",
       "    </tr>\n",
       "  </thead>\n",
       "  <tbody>\n",
       "    <tr>\n",
       "      <th>0</th>\n",
       "      <td>58</td>\n",
       "      <td>2017-08-19</td>\n",
       "      <td>2017-11-17</td>\n",
       "      <td>0</td>\n",
       "      <td>21</td>\n",
       "      <td>일자리</td>\n",
       "      <td>국토교통부와 한국주택협회가 행한 부당한 행위와 권력남용에 대한 내용을 청원드립니다.</td>\n",
       "      <td>안녕하세요? 존경하고 지지하는 문재인 대통령님!\\n저는 성남시 분당구 정자동 주택전...</td>\n",
       "      <td>2017-08</td>\n",
       "    </tr>\n",
       "    <tr>\n",
       "      <th>1</th>\n",
       "      <td>63</td>\n",
       "      <td>2017-08-20</td>\n",
       "      <td>2017-09-04</td>\n",
       "      <td>0</td>\n",
       "      <td>1</td>\n",
       "      <td>보건복지</td>\n",
       "      <td>살려주세요..</td>\n",
       "      <td>안녕하십니까?\\n저는 올해 63세된 홀로 사는 늙은 여자입니다...\\n작년 중복날 ...</td>\n",
       "      <td>2017-08</td>\n",
       "    </tr>\n",
       "    <tr>\n",
       "      <th>2</th>\n",
       "      <td>136</td>\n",
       "      <td>2017-08-20</td>\n",
       "      <td>2017-11-18</td>\n",
       "      <td>0</td>\n",
       "      <td>4</td>\n",
       "      <td>육아/교육</td>\n",
       "      <td>고등학교 교육 내용 수준을 낮춰주시고 실용적인 내용을 담아주세요!</td>\n",
       "      <td>저는 광주에 사는 중3 학생입니다. 고등학교 가기 직전의 학년이라 어느 때보다 고등...</td>\n",
       "      <td>2017-08</td>\n",
       "    </tr>\n",
       "    <tr>\n",
       "      <th>3</th>\n",
       "      <td>141</td>\n",
       "      <td>2017-08-20</td>\n",
       "      <td>2017-08-27</td>\n",
       "      <td>0</td>\n",
       "      <td>0</td>\n",
       "      <td>기타</td>\n",
       "      <td>한국문화에 창조적요소를 심자</td>\n",
       "      <td>안녕하십니까\\n저는 92년 한국을 알게된  종국동포 입니다.\\n[저는 한 중소기업에...</td>\n",
       "      <td>2017-08</td>\n",
       "    </tr>\n",
       "    <tr>\n",
       "      <th>4</th>\n",
       "      <td>148</td>\n",
       "      <td>2017-08-20</td>\n",
       "      <td>2017-11-18</td>\n",
       "      <td>0</td>\n",
       "      <td>7</td>\n",
       "      <td>외교/통일/국방</td>\n",
       "      <td>다문화정책 및 할랄 인증 제도</td>\n",
       "      <td>대한민국과 국민을 위해 밤낮 없이 수고하시는 대통령을 비롯한 위정자 분들께\\n대한민...</td>\n",
       "      <td>2017-08</td>\n",
       "    </tr>\n",
       "  </tbody>\n",
       "</table>\n",
       "</div>"
      ],
      "text/plain": [
       "   article_id       start         end  answered  votes  category  \\\n",
       "0          58  2017-08-19  2017-11-17         0     21       일자리   \n",
       "1          63  2017-08-20  2017-09-04         0      1      보건복지   \n",
       "2         136  2017-08-20  2017-11-18         0      4     육아/교육   \n",
       "3         141  2017-08-20  2017-08-27         0      0        기타   \n",
       "4         148  2017-08-20  2017-11-18         0      7  외교/통일/국방   \n",
       "\n",
       "                                            title  \\\n",
       "0  국토교통부와 한국주택협회가 행한 부당한 행위와 권력남용에 대한 내용을 청원드립니다.   \n",
       "1                                         살려주세요..   \n",
       "2            고등학교 교육 내용 수준을 낮춰주시고 실용적인 내용을 담아주세요!   \n",
       "3                                 한국문화에 창조적요소를 심자   \n",
       "4                                다문화정책 및 할랄 인증 제도   \n",
       "\n",
       "                                             content     time  \n",
       "0  안녕하세요? 존경하고 지지하는 문재인 대통령님!\\n저는 성남시 분당구 정자동 주택전...  2017-08  \n",
       "1  안녕하십니까?\\n저는 올해 63세된 홀로 사는 늙은 여자입니다...\\n작년 중복날 ...  2017-08  \n",
       "2  저는 광주에 사는 중3 학생입니다. 고등학교 가기 직전의 학년이라 어느 때보다 고등...  2017-08  \n",
       "3  안녕하십니까\\n저는 92년 한국을 알게된  종국동포 입니다.\\n[저는 한 중소기업에...  2017-08  \n",
       "4  대한민국과 국민을 위해 밤낮 없이 수고하시는 대통령을 비롯한 위정자 분들께\\n대한민...  2017-08  "
      ]
     },
     "execution_count": 38,
     "metadata": {},
     "output_type": "execute_result"
    }
   ],
   "source": [
    "df_sorted = df.sort_values(by='start')\n",
    "df_sorted['time'] = df_sorted['start'].map(lambda x: x[:7])\n",
    "df_sorted.head()"
   ]
  },
  {
   "cell_type": "code",
   "execution_count": 40,
   "metadata": {},
   "outputs": [],
   "source": [
    "time_slice = list(df_sorted['time'].value_counts().sort_index())\n",
    "time_tag = sorted(list(set(df_sorted['time'])))"
   ]
  },
  {
   "cell_type": "code",
   "execution_count": 41,
   "metadata": {},
   "outputs": [],
   "source": [
    "okt = Okt()"
   ]
  },
  {
   "cell_type": "code",
   "execution_count": 42,
   "metadata": {},
   "outputs": [],
   "source": [
    "def tokenizer(doc):\n",
    "    return [token for token in okt.nouns(doc) if len(token) > 1]"
   ]
  },
  {
   "cell_type": "code",
   "execution_count": 43,
   "metadata": {},
   "outputs": [],
   "source": [
    "texts = [tokenizer(news) for news in df_sorted['content']]"
   ]
  },
  {
   "cell_type": "code",
   "execution_count": 44,
   "metadata": {},
   "outputs": [],
   "source": [
    "dictionary = Dictionary(texts)\n",
    "dictionary.filter_extremes(keep_n=2000, no_below=5, no_above=0.5)"
   ]
  },
  {
   "cell_type": "code",
   "execution_count": 45,
   "metadata": {},
   "outputs": [
    {
     "name": "stdout",
     "output_type": "stream",
     "text": [
      "2000 18077\n"
     ]
    }
   ],
   "source": [
    "corpus = [dictionary.doc2bow(text) for text in texts]\n",
    "print(len(dictionary), len(corpus))"
   ]
  },
  {
   "cell_type": "code",
   "execution_count": 46,
   "metadata": {},
   "outputs": [],
   "source": [
    "def show_coherence(corpus, dictionary, start=6, end=15):\n",
    "    iter_num = []\n",
    "    per_value = []\n",
    "    coh_value = []\n",
    "\n",
    "    for i in range(start, end + 1):\n",
    "        model = LdaModel(corpus=corpus, id2word=dictionary,\n",
    "                 chunksize=1000, num_topics=i,\n",
    "                 random_state=7)\n",
    "        iter_num.append(i)\n",
    "        pv = model.log_perplexity(corpus)\n",
    "        per_value.append(pv)\n",
    "        \n",
    "        cm = CoherenceModel(model=model, corpus=corpus, \n",
    "                            coherence='u_mass')\n",
    "        cv = cm.get_coherence()\n",
    "        coh_value.append(cv)\n",
    "        print(f'num_topics: {i}, perplexity: {pv:0.3f}, coherence: {cv:0.3f}')\n",
    "\n",
    "    plt.plot(iter_num, per_value, 'g-')\n",
    "    plt.xlabel(\"num_topics\")\n",
    "    plt.ylabel(\"perplexity\")\n",
    "    plt.show()\n",
    "\n",
    "    plt.plot(iter_num, coh_value, 'r--')\n",
    "    plt.xlabel(\"num_topics\")\n",
    "    plt.ylabel(\"coherence\")\n",
    "    plt.show()"
   ]
  },
  {
   "cell_type": "code",
   "execution_count": 47,
   "metadata": {},
   "outputs": [
    {
     "name": "stdout",
     "output_type": "stream",
     "text": [
      "num_topics: 6, perplexity: -6.903, coherence: -2.204\n",
      "num_topics: 7, perplexity: -6.885, coherence: -2.174\n",
      "num_topics: 8, perplexity: -6.886, coherence: -2.181\n",
      "num_topics: 9, perplexity: -6.875, coherence: -2.323\n",
      "num_topics: 10, perplexity: -6.860, coherence: -2.298\n",
      "num_topics: 11, perplexity: -6.863, coherence: -2.355\n",
      "num_topics: 12, perplexity: -6.864, coherence: -2.616\n",
      "num_topics: 13, perplexity: -6.872, coherence: -2.333\n",
      "num_topics: 14, perplexity: -6.884, coherence: -2.439\n",
      "num_topics: 15, perplexity: -6.946, coherence: -2.452\n"
     ]
    },
    {
     "data": {
      "image/png": "[encoded data removed]",
      "text/plain": [
       "<Figure size 432x288 with 1 Axes>"
      ]
     },
     "metadata": {
      "needs_background": "light"
     },
     "output_type": "display_data"
    },
    {
     "data": {
      "image/png": "[encoded data removed]",
      "text/plain": [
       "<Figure size 432x288 with 1 Axes>"
      ]
     },
     "metadata": {
      "needs_background": "light"
     },
     "output_type": "display_data"
    }
   ],
   "source": [
    "show_coherence(corpus, dictionary, start=6, end=15)"
   ]
  },
  {
   "cell_type": "code",
   "execution_count": 49,
   "metadata": {},
   "outputs": [],
   "source": [
    "import warnings\n",
    "warnings.filterwarnings('ignore')"
   ]
  },
  {
   "cell_type": "code",
   "execution_count": 50,
   "metadata": {},
   "outputs": [],
   "source": [
    "ldaseq = LdaSeqModel(corpus=corpus, id2word=dictionary, time_slice=time_slice, num_topics=6, random_state=7)"
   ]
  },
  {
   "cell_type": "code",
   "execution_count": null,
   "metadata": {},
   "outputs": [],
   "source": [
    "def get_topic_words(topic, top_n_words=10):\n",
    "    words, _ = zip(*topic)\n",
    "    return words[:top_n_words]\n",
    "\n",
    "def print_topic_times(model, topic, time_tag, top_n_words=10):\n",
    "    topic_times = model.print_topic_times(topic)\n",
    "    for i in range(len(topic_times)):\n",
    "        print(time_tag[i]+':', get_topic_words(topic_times[i], top_n_words))"
   ]
  },
  {
   "cell_type": "code",
   "execution_count": null,
   "metadata": {},
   "outputs": [],
   "source": [
    "print_topic_times(ldaseq, 4, time_tag, 10)"
   ]
  },
  {
   "cell_type": "code",
   "execution_count": null,
   "metadata": {},
   "outputs": [],
   "source": [
    "def get_topic_trends(model, corpus, time_slice):\n",
    "    dtm = model.dtm_vis(0, corpus)\n",
    "    result = []\n",
    "    start = 0\n",
    "    for index in time_slice:\n",
    "        result.append(np.array(dtm[0][start:start+index]).mean(axis=0))\n",
    "        start += index\n",
    "    return np.array(result)"
   ]
  },
  {
   "cell_type": "code",
   "execution_count": null,
   "metadata": {},
   "outputs": [],
   "source": [
    "topic_trends = get_topic_trends(ldaseq, corpus, time_slice)"
   ]
  },
  {
   "cell_type": "code",
   "execution_count": null,
   "metadata": {},
   "outputs": [],
   "source": [
    "topic_titles = ['Topic '+str(i) for i in range(6)] # 토픽 타이틀 생성\n",
    "fig, axes = plt.subplots(2, 3, sharex='col', figsize=(12, 6)) \n",
    "for i, (title, ax) in enumerate(zip(topic_titles, axes.ravel())): \n",
    "    ax.set_title(title)\n",
    "    ax.set_xticks([0, 5, 10, 15])\n",
    "    ax.set_xticklabels(time_tag[::5])\n",
    "    ax.plot(topic_trends[:, i])\n",
    "plt.show()"
   ]
  },
  {
   "cell_type": "code",
   "execution_count": null,
   "metadata": {},
   "outputs": [],
   "source": []
  }
 ],
 "metadata": {
  "kernelspec": {
   "display_name": "base",
   "language": "python",
   "name": "python3"
  },
  "language_info": {
   "codemirror_mode": {
    "name": "ipython",
    "version": 3
   },
   "file_extension": ".py",
   "mimetype": "text/x-python",
   "name": "python",
   "nbconvert_exporter": "python",
   "pygments_lexer": "ipython3",
   "version": "3.10.9"
  }
 },
 "nbformat": 4,
 "nbformat_minor": 2
}
