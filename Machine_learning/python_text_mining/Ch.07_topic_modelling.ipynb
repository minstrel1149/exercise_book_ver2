{
 "cells": [
  {
   "cell_type": "code",
   "execution_count": 8,
   "metadata": {},
   "outputs": [],
   "source": [
    "from sklearn.datasets import fetch_20newsgroups\n",
    "from sklearn.feature_extraction.text import TfidfVectorizer, CountVectorizer, TfidfTransformer\n",
    "from sklearn.decomposition import LatentDirichletAllocation\n",
    "import numpy as np"
   ]
  },
  {
   "cell_type": "code",
   "execution_count": 2,
   "metadata": {},
   "outputs": [],
   "source": [
    "categories = ['alt.atheism', 'talk.religion.misc', 'comp.graphics', 'sci.space', \n",
    "              'comp.sys.ibm.pc.hardware', 'sci.crypt']"
   ]
  },
  {
   "cell_type": "code",
   "execution_count": 4,
   "metadata": {},
   "outputs": [
    {
     "name": "stdout",
     "output_type": "stream",
     "text": [
      "3219\n"
     ]
    }
   ],
   "source": [
    "newsgroups_train = fetch_20newsgroups(subset='train', categories=categories)\n",
    "print(len(newsgroups_train.data))"
   ]
  },
  {
   "cell_type": "code",
   "execution_count": 7,
   "metadata": {},
   "outputs": [],
   "source": [
    "cv = CountVectorizer(token_pattern=\"[\\w']{3,}\", stop_words='english', min_df=5, max_df=0.5)\n",
    "review_cv = cv.fit_transform(newsgroups_train.data)"
   ]
  },
  {
   "cell_type": "code",
   "execution_count": 9,
   "metadata": {},
   "outputs": [],
   "source": [
    "np.set_printoptions(precision=3)"
   ]
  },
  {
   "cell_type": "code",
   "execution_count": 10,
   "metadata": {},
   "outputs": [],
   "source": [
    "n_components = 10\n",
    "lda = LatentDirichletAllocation(n_components=n_components, max_iter=10, topic_word_prior=1/n_components, doc_topic_prior=10/n_components, learning_method='batch', n_jobs=-1)"
   ]
  },
  {
   "cell_type": "code",
   "execution_count": 11,
   "metadata": {},
   "outputs": [],
   "source": [
    "review_topics = lda.fit_transform(review_cv)"
   ]
  },
  {
   "cell_type": "code",
   "execution_count": 12,
   "metadata": {},
   "outputs": [
    {
     "name": "stdout",
     "output_type": "stream",
     "text": [
      "(3219, 10)\n",
      "[0.011 0.006 0.006 0.006 0.006 0.026 0.008 0.006 0.891 0.035]\n"
     ]
    }
   ],
   "source": [
    "print(review_topics.shape)\n",
    "print(review_topics[0])"
   ]
  },
  {
   "cell_type": "code",
   "execution_count": 13,
   "metadata": {},
   "outputs": [
    {
     "name": "stdout",
     "output_type": "stream",
     "text": [
      "[0.058 0.127 0.125 0.136 0.061 0.108 0.068 0.077 0.139 0.101]\n"
     ]
    }
   ],
   "source": [
    "gross_topic_weights = np.mean(review_topics, axis=0)\n",
    "print(gross_topic_weights)"
   ]
  },
  {
   "cell_type": "code",
   "execution_count": 15,
   "metadata": {},
   "outputs": [
    {
     "data": {
      "text/plain": [
       "(3219, 10)"
      ]
     },
     "execution_count": 15,
     "metadata": {},
     "output_type": "execute_result"
    }
   ],
   "source": [
    "review_topics.shape"
   ]
  },
  {
   "cell_type": "code",
   "execution_count": 17,
   "metadata": {},
   "outputs": [],
   "source": [
    "def print_top_words(model, feature_names, n_top_words):\n",
    "    for topic_idx, topic in enumerate(model.components_):\n",
    "        print(\"Topic #%d: \" % topic_idx, end='')\n",
    "        print(\", \".join([feature_names[i] for i in topic.argsort()[:-n_top_words - 1:-1]]))\n",
    "    print()"
   ]
  },
  {
   "cell_type": "code",
   "execution_count": 18,
   "metadata": {},
   "outputs": [
    {
     "name": "stdout",
     "output_type": "stream",
     "text": [
      "Topic #0: space, technology, encryption, new, launch, chip, satellite, government, use, law\n",
      "Topic #1: com, key, clipper, chip, encryption, government, keys, privacy, use, netcom\n",
      "Topic #2: graphics, com, software, mail, image, data, ftp, university, available, ibm\n",
      "Topic #3: scsi, card, drive, com, ide, university, bus, controller, nntp, host\n",
      "Topic #4: bit, key, file, jpeg, use, files, image, version, gif, public\n",
      "Topic #5: space, article, com, university, moon, just, henry, posting, orbit, toronto\n",
      "Topic #6: nasa, article, sandvik, com, law, apple, gov, kent, people, newton\n",
      "Topic #7: com, drive, ___, access, jpl, posting, nntp, host, digex, tape\n",
      "Topic #8: people, god, don't, com, think, say, article, just, keith, does\n",
      "Topic #9: jesus, people, god, just, like, good, know, time, bible, does\n",
      "\n"
     ]
    }
   ],
   "source": [
    "print_top_words(lda, cv.get_feature_names_out(), 10)"
   ]
  },
  {
   "cell_type": "code",
   "execution_count": 19,
   "metadata": {},
   "outputs": [
    {
     "name": "stdout",
     "output_type": "stream",
     "text": [
      "n_components: 6, perplexity: 3283.435\n",
      "n_components: 7, perplexity: 3259.015\n",
      "n_components: 8, perplexity: 3211.871\n",
      "n_components: 9, perplexity: 3273.342\n",
      "n_components: 10, perplexity: 3240.417\n",
      "n_components: 11, perplexity: 3246.680\n",
      "n_components: 12, perplexity: 3267.414\n",
      "n_components: 13, perplexity: 3307.195\n",
      "n_components: 14, perplexity: 3309.275\n",
      "n_components: 15, perplexity: 3329.700\n"
     ]
    },
    {
     "data": {
      "image/png": "[encoded data removed]",
      "text/plain": [
       "<Figure size 432x288 with 1 Axes>"
      ]
     },
     "metadata": {
      "needs_background": "light"
     },
     "output_type": "display_data"
    },
    {
     "data": {
      "text/plain": [
       "8"
      ]
     },
     "execution_count": 19,
     "metadata": {},
     "output_type": "execute_result"
    }
   ],
   "source": [
    "import matplotlib.pyplot as plt\n",
    "%matplotlib inline\n",
    "\n",
    "def show_perplexity(cv, start=10, end=30, max_iter=5, topic_word_prior= 0.1, \n",
    "                    doc_topic_prior=1.0):\n",
    "    iter_num = []\n",
    "    per_value = []\n",
    "\n",
    "    for i in range(start, end + 1):\n",
    "        lda = LatentDirichletAllocation(n_components = i, max_iter=max_iter, \n",
    "                                        topic_word_prior= topic_word_prior, \n",
    "                                        doc_topic_prior=doc_topic_prior,\n",
    "                                        learning_method='batch', n_jobs= -1,\n",
    "                                        random_state=7)    \n",
    "        lda.fit(cv)\n",
    "        iter_num.append(i)\n",
    "        pv = lda.perplexity(cv)\n",
    "        per_value.append(pv)\n",
    "        print(f'n_components: {i}, perplexity: {pv:0.3f}')\n",
    "\n",
    "    plt.plot(iter_num, per_value, 'g-')\n",
    "    plt.show()\n",
    "    return start + per_value.index(min(per_value))\n",
    "\n",
    "show_perplexity(review_cv, start=6, end=15)"
   ]
  },
  {
   "cell_type": "code",
   "execution_count": 20,
   "metadata": {},
   "outputs": [
    {
     "name": "stdout",
     "output_type": "stream",
     "text": [
      "Topic #0: key, encryption, clipper, chip, government, use, public, security, keys, privacy\n",
      "Topic #1: drive, scsi, card, university, ide, controller, disk, bus, hard, host\n",
      "Topic #2: com, article, nntp, posting, host, i'm, just, netcom, like, don't\n",
      "Topic #3: god, jesus, people, does, bible, believe, just, time, say, good\n",
      "Topic #4: space, nasa, gov, information, research, center, faq, university, sci, 1993\n",
      "Topic #5: space, article, launch, moon, orbit, access, nasa, just, earth, henry\n",
      "Topic #6: graphics, image, file, files, software, ftp, version, program, mail, available\n",
      "Topic #7: people, com, don't, article, think, say, keith, morality, just, like\n",
      "\n"
     ]
    }
   ],
   "source": [
    "lda = LatentDirichletAllocation(n_components = 8, #추출할 topic의 수를 지정\n",
    "                                max_iter=20, \n",
    "                                topic_word_prior= 0.1, \n",
    "                                doc_topic_prior=1.0,\n",
    "                                learning_method='batch',\n",
    "                                n_jobs= -1, \n",
    "                                random_state=7)\n",
    "\n",
    "review_topics = lda.fit_transform(review_cv)\n",
    "\n",
    "print_top_words(lda, cv.get_feature_names_out(), 10)"
   ]
  },
  {
   "cell_type": "code",
   "execution_count": null,
   "metadata": {},
   "outputs": [],
   "source": []
  }
 ],
 "metadata": {
  "kernelspec": {
   "display_name": "base",
   "language": "python",
   "name": "python3"
  },
  "language_info": {
   "codemirror_mode": {
    "name": "ipython",
    "version": 3
   },
   "file_extension": ".py",
   "mimetype": "text/x-python",
   "name": "python",
   "nbconvert_exporter": "python",
   "pygments_lexer": "ipython3",
   "version": "3.10.9"
  }
 },
 "nbformat": 4,
 "nbformat_minor": 2
}
