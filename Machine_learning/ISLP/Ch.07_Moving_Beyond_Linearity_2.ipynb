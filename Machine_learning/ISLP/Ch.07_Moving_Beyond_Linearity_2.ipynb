{
 "cells": [
  {
   "cell_type": "code",
   "execution_count": 1,
   "id": "42e23fa9",
   "metadata": {},
   "outputs": [
    {
     "name": "stderr",
     "output_type": "stream",
     "text": [
      "c:\\Users\\admin\\anaconda3\\lib\\site-packages\\numpy\\_distributor_init.py:30: UserWarning: loaded more than 1 DLL from .libs:\n",
      "c:\\Users\\admin\\anaconda3\\lib\\site-packages\\numpy\\.libs\\libopenblas.EL2C6PLE4ZYW3ECEVIV3OXXGRN2NRFM2.gfortran-win_amd64.dll\n",
      "c:\\Users\\admin\\anaconda3\\lib\\site-packages\\numpy\\.libs\\libopenblas.FB5AE2TYXYH2IJRDKGDGQ3XBKLKTF43H.gfortran-win_amd64.dll\n",
      "  warnings.warn(\"loaded more than 1 DLL from .libs:\"\n"
     ]
    }
   ],
   "source": [
    "import numpy as np\n",
    "import pandas as pd\n",
    "import matplotlib.pyplot as plt\n",
    "import statsmodels.api as sm\n",
    "from ISLP import load_data\n",
    "from ISLP.models import (summarize, poly, ModelSpec as MS, bs, ns)\n",
    "from ISLP.transforms import BSpline, NaturalSpline\n",
    "from statsmodels.stats.anova import anova_lm\n",
    "from pygam import (s as s_gam, l as l_gam, f as f_gam, LinearGAM, LogisticGAM)\n",
    "from ISLP.pygam import (approx_lam, degrees_of_freedom, plot as plot_gam, anova as anova_gam)"
   ]
  },
  {
   "cell_type": "code",
   "execution_count": 2,
   "id": "f033303a",
   "metadata": {},
   "outputs": [],
   "source": [
    "Wage = load_data('Wage')\n",
    "y = Wage['wage']\n",
    "age = Wage['age']"
   ]
  },
  {
   "cell_type": "code",
   "execution_count": 3,
   "id": "bdfa85fb",
   "metadata": {},
   "outputs": [
    {
     "name": "stderr",
     "output_type": "stream",
     "text": [
      "c:\\Users\\admin\\anaconda3\\lib\\site-packages\\sklearn\\utils\\validation.py:605: FutureWarning: is_sparse is deprecated and will be removed in a future version. Check `isinstance(dtype, pd.SparseDtype)` instead.\n",
      "  if is_sparse(pd_dtype):\n",
      "c:\\Users\\admin\\anaconda3\\lib\\site-packages\\sklearn\\utils\\validation.py:614: FutureWarning: is_sparse is deprecated and will be removed in a future version. Check `isinstance(dtype, pd.SparseDtype)` instead.\n",
      "  if is_sparse(pd_dtype) or not is_extension_array_dtype(pd_dtype):\n"
     ]
    },
    {
     "data": {
      "text/html": [
       "<div>\n",
       "<style scoped>\n",
       "    .dataframe tbody tr th:only-of-type {\n",
       "        vertical-align: middle;\n",
       "    }\n",
       "\n",
       "    .dataframe tbody tr th {\n",
       "        vertical-align: top;\n",
       "    }\n",
       "\n",
       "    .dataframe thead th {\n",
       "        text-align: right;\n",
       "    }\n",
       "</style>\n",
       "<table border=\"1\" class=\"dataframe\">\n",
       "  <thead>\n",
       "    <tr style=\"text-align: right;\">\n",
       "      <th></th>\n",
       "      <th>coef</th>\n",
       "      <th>std err</th>\n",
       "      <th>t</th>\n",
       "      <th>P&gt;|t|</th>\n",
       "    </tr>\n",
       "  </thead>\n",
       "  <tbody>\n",
       "    <tr>\n",
       "      <th>intercept</th>\n",
       "      <td>111.7036</td>\n",
       "      <td>0.729</td>\n",
       "      <td>153.283</td>\n",
       "      <td>0.000</td>\n",
       "    </tr>\n",
       "    <tr>\n",
       "      <th>poly(age, degree=4)[0]</th>\n",
       "      <td>447.0679</td>\n",
       "      <td>39.915</td>\n",
       "      <td>11.201</td>\n",
       "      <td>0.000</td>\n",
       "    </tr>\n",
       "    <tr>\n",
       "      <th>poly(age, degree=4)[1]</th>\n",
       "      <td>-478.3158</td>\n",
       "      <td>39.915</td>\n",
       "      <td>-11.983</td>\n",
       "      <td>0.000</td>\n",
       "    </tr>\n",
       "    <tr>\n",
       "      <th>poly(age, degree=4)[2]</th>\n",
       "      <td>125.5217</td>\n",
       "      <td>39.915</td>\n",
       "      <td>3.145</td>\n",
       "      <td>0.002</td>\n",
       "    </tr>\n",
       "    <tr>\n",
       "      <th>poly(age, degree=4)[3]</th>\n",
       "      <td>-77.9112</td>\n",
       "      <td>39.915</td>\n",
       "      <td>-1.952</td>\n",
       "      <td>0.051</td>\n",
       "    </tr>\n",
       "  </tbody>\n",
       "</table>\n",
       "</div>"
      ],
      "text/plain": [
       "                            coef  std err        t  P>|t|\n",
       "intercept               111.7036    0.729  153.283  0.000\n",
       "poly(age, degree=4)[0]  447.0679   39.915   11.201  0.000\n",
       "poly(age, degree=4)[1] -478.3158   39.915  -11.983  0.000\n",
       "poly(age, degree=4)[2]  125.5217   39.915    3.145  0.002\n",
       "poly(age, degree=4)[3]  -77.9112   39.915   -1.952  0.051"
      ]
     },
     "execution_count": 3,
     "metadata": {},
     "output_type": "execute_result"
    }
   ],
   "source": [
    "poly_age = MS([poly('age', degree=4)]).fit(Wage)\n",
    "model = sm.OLS(y, poly_age.transform(Wage)).fit()\n",
    "summarize(model)"
   ]
  },
  {
   "cell_type": "code",
   "execution_count": 4,
   "id": "62696acb",
   "metadata": {},
   "outputs": [],
   "source": [
    "def plot_wage_fit(age_df, basis, title):\n",
    "    X = basis.transform(Wage)\n",
    "    X_new = basis.transform(age_df)\n",
    "    model = sm.OLS(y, X).fit()\n",
    "    preds = model.get_prediction(X_new)\n",
    "    bands = preds.conf_int(alpha=0.05)\n",
    "    fig, ax = plt.subplots(1, 1, figsize=(8, 6))\n",
    "    ax.scatter(age, y, facecolor='gray', alpha=0.5)\n",
    "    for val, ls in zip([preds.predicted_mean, bands[:, 0], bands[:, 1]], ['b', 'r--', 'r--']):\n",
    "        ax.plot(age_df.values, val, ls, linewidth=3)\n",
    "    ax.set_title(title, fontsize=15)\n",
    "    ax.set_xlabel('Age', fontsize=12)\n",
    "    ax.set_ylabel('Wage', fontsize=12)\n",
    "    return ax"
   ]
  },
  {
   "cell_type": "code",
   "execution_count": 5,
   "id": "d5f87008",
   "metadata": {},
   "outputs": [],
   "source": [
    "age_grid = np.linspace(age.min(), age.max(), 100)\n",
    "age_df = pd.DataFrame({'age':age_grid})"
   ]
  },
  {
   "cell_type": "code",
   "execution_count": 6,
   "id": "5b562413",
   "metadata": {},
   "outputs": [
    {
     "data": {
      "text/plain": [
       "<AxesSubplot:title={'center':'Degree-4 Poly'}, xlabel='Age', ylabel='Wage'>"
      ]
     },
     "execution_count": 6,
     "metadata": {},
     "output_type": "execute_result"
    },
    {
     "data": {
      "image/png": "[encoded data removed]",
      "text/plain": [
       "<Figure size 576x432 with 1 Axes>"
      ]
     },
     "metadata": {
      "needs_background": "light"
     },
     "output_type": "display_data"
    }
   ],
   "source": [
    "plot_wage_fit(age_df, poly_age, 'Degree-4 Poly')"
   ]
  },
  {
   "cell_type": "code",
   "execution_count": 7,
   "id": "5f60d34e",
   "metadata": {},
   "outputs": [
    {
     "name": "stderr",
     "output_type": "stream",
     "text": [
      "c:\\Users\\admin\\anaconda3\\lib\\site-packages\\sklearn\\utils\\validation.py:605: FutureWarning: is_sparse is deprecated and will be removed in a future version. Check `isinstance(dtype, pd.SparseDtype)` instead.\n",
      "  if is_sparse(pd_dtype):\n",
      "c:\\Users\\admin\\anaconda3\\lib\\site-packages\\sklearn\\utils\\validation.py:614: FutureWarning: is_sparse is deprecated and will be removed in a future version. Check `isinstance(dtype, pd.SparseDtype)` instead.\n",
      "  if is_sparse(pd_dtype) or not is_extension_array_dtype(pd_dtype):\n",
      "c:\\Users\\admin\\anaconda3\\lib\\site-packages\\sklearn\\utils\\validation.py:605: FutureWarning: is_sparse is deprecated and will be removed in a future version. Check `isinstance(dtype, pd.SparseDtype)` instead.\n",
      "  if is_sparse(pd_dtype):\n",
      "c:\\Users\\admin\\anaconda3\\lib\\site-packages\\sklearn\\utils\\validation.py:614: FutureWarning: is_sparse is deprecated and will be removed in a future version. Check `isinstance(dtype, pd.SparseDtype)` instead.\n",
      "  if is_sparse(pd_dtype) or not is_extension_array_dtype(pd_dtype):\n",
      "c:\\Users\\admin\\anaconda3\\lib\\site-packages\\sklearn\\utils\\validation.py:605: FutureWarning: is_sparse is deprecated and will be removed in a future version. Check `isinstance(dtype, pd.SparseDtype)` instead.\n",
      "  if is_sparse(pd_dtype):\n",
      "c:\\Users\\admin\\anaconda3\\lib\\site-packages\\sklearn\\utils\\validation.py:614: FutureWarning: is_sparse is deprecated and will be removed in a future version. Check `isinstance(dtype, pd.SparseDtype)` instead.\n",
      "  if is_sparse(pd_dtype) or not is_extension_array_dtype(pd_dtype):\n",
      "c:\\Users\\admin\\anaconda3\\lib\\site-packages\\sklearn\\utils\\validation.py:605: FutureWarning: is_sparse is deprecated and will be removed in a future version. Check `isinstance(dtype, pd.SparseDtype)` instead.\n",
      "  if is_sparse(pd_dtype):\n",
      "c:\\Users\\admin\\anaconda3\\lib\\site-packages\\sklearn\\utils\\validation.py:614: FutureWarning: is_sparse is deprecated and will be removed in a future version. Check `isinstance(dtype, pd.SparseDtype)` instead.\n",
      "  if is_sparse(pd_dtype) or not is_extension_array_dtype(pd_dtype):\n",
      "c:\\Users\\admin\\anaconda3\\lib\\site-packages\\sklearn\\utils\\validation.py:605: FutureWarning: is_sparse is deprecated and will be removed in a future version. Check `isinstance(dtype, pd.SparseDtype)` instead.\n",
      "  if is_sparse(pd_dtype):\n",
      "c:\\Users\\admin\\anaconda3\\lib\\site-packages\\sklearn\\utils\\validation.py:614: FutureWarning: is_sparse is deprecated and will be removed in a future version. Check `isinstance(dtype, pd.SparseDtype)` instead.\n",
      "  if is_sparse(pd_dtype) or not is_extension_array_dtype(pd_dtype):\n"
     ]
    },
    {
     "data": {
      "text/html": [
       "<div>\n",
       "<style scoped>\n",
       "    .dataframe tbody tr th:only-of-type {\n",
       "        vertical-align: middle;\n",
       "    }\n",
       "\n",
       "    .dataframe tbody tr th {\n",
       "        vertical-align: top;\n",
       "    }\n",
       "\n",
       "    .dataframe thead th {\n",
       "        text-align: right;\n",
       "    }\n",
       "</style>\n",
       "<table border=\"1\" class=\"dataframe\">\n",
       "  <thead>\n",
       "    <tr style=\"text-align: right;\">\n",
       "      <th></th>\n",
       "      <th>df_resid</th>\n",
       "      <th>ssr</th>\n",
       "      <th>df_diff</th>\n",
       "      <th>ss_diff</th>\n",
       "      <th>F</th>\n",
       "      <th>Pr(&gt;F)</th>\n",
       "    </tr>\n",
       "  </thead>\n",
       "  <tbody>\n",
       "    <tr>\n",
       "      <th>0</th>\n",
       "      <td>2998.0</td>\n",
       "      <td>5.022216e+06</td>\n",
       "      <td>0.0</td>\n",
       "      <td>NaN</td>\n",
       "      <td>NaN</td>\n",
       "      <td>NaN</td>\n",
       "    </tr>\n",
       "    <tr>\n",
       "      <th>1</th>\n",
       "      <td>2997.0</td>\n",
       "      <td>4.793430e+06</td>\n",
       "      <td>1.0</td>\n",
       "      <td>228786.010128</td>\n",
       "      <td>143.593107</td>\n",
       "      <td>2.363850e-32</td>\n",
       "    </tr>\n",
       "    <tr>\n",
       "      <th>2</th>\n",
       "      <td>2996.0</td>\n",
       "      <td>4.777674e+06</td>\n",
       "      <td>1.0</td>\n",
       "      <td>15755.693664</td>\n",
       "      <td>9.888756</td>\n",
       "      <td>1.679202e-03</td>\n",
       "    </tr>\n",
       "    <tr>\n",
       "      <th>3</th>\n",
       "      <td>2995.0</td>\n",
       "      <td>4.771604e+06</td>\n",
       "      <td>1.0</td>\n",
       "      <td>6070.152124</td>\n",
       "      <td>3.809813</td>\n",
       "      <td>5.104620e-02</td>\n",
       "    </tr>\n",
       "    <tr>\n",
       "      <th>4</th>\n",
       "      <td>2994.0</td>\n",
       "      <td>4.770322e+06</td>\n",
       "      <td>1.0</td>\n",
       "      <td>1282.563017</td>\n",
       "      <td>0.804976</td>\n",
       "      <td>3.696820e-01</td>\n",
       "    </tr>\n",
       "  </tbody>\n",
       "</table>\n",
       "</div>"
      ],
      "text/plain": [
       "   df_resid           ssr  df_diff        ss_diff           F        Pr(>F)\n",
       "0    2998.0  5.022216e+06      0.0            NaN         NaN           NaN\n",
       "1    2997.0  4.793430e+06      1.0  228786.010128  143.593107  2.363850e-32\n",
       "2    2996.0  4.777674e+06      1.0   15755.693664    9.888756  1.679202e-03\n",
       "3    2995.0  4.771604e+06      1.0    6070.152124    3.809813  5.104620e-02\n",
       "4    2994.0  4.770322e+06      1.0    1282.563017    0.804976  3.696820e-01"
      ]
     },
     "execution_count": 7,
     "metadata": {},
     "output_type": "execute_result"
    }
   ],
   "source": [
    "models = [MS([poly('age', degree=d)]) for d in range(1, 6)]\n",
    "Xs = [model.fit_transform(Wage) for model in models]\n",
    "anova_lm(*[sm.OLS(y, X_).fit() for X_ in Xs])"
   ]
  },
  {
   "cell_type": "code",
   "execution_count": 8,
   "id": "881cfe23",
   "metadata": {},
   "outputs": [
    {
     "data": {
      "text/html": [
       "<div>\n",
       "<style scoped>\n",
       "    .dataframe tbody tr th:only-of-type {\n",
       "        vertical-align: middle;\n",
       "    }\n",
       "\n",
       "    .dataframe tbody tr th {\n",
       "        vertical-align: top;\n",
       "    }\n",
       "\n",
       "    .dataframe thead th {\n",
       "        text-align: right;\n",
       "    }\n",
       "</style>\n",
       "<table border=\"1\" class=\"dataframe\">\n",
       "  <thead>\n",
       "    <tr style=\"text-align: right;\">\n",
       "      <th></th>\n",
       "      <th>coef</th>\n",
       "      <th>std err</th>\n",
       "      <th>t</th>\n",
       "      <th>P&gt;|t|</th>\n",
       "    </tr>\n",
       "  </thead>\n",
       "  <tbody>\n",
       "    <tr>\n",
       "      <th>intercept</th>\n",
       "      <td>111.7036</td>\n",
       "      <td>0.729</td>\n",
       "      <td>153.283</td>\n",
       "      <td>0.000</td>\n",
       "    </tr>\n",
       "    <tr>\n",
       "      <th>poly(age, degree=4)[0]</th>\n",
       "      <td>447.0679</td>\n",
       "      <td>39.915</td>\n",
       "      <td>11.201</td>\n",
       "      <td>0.000</td>\n",
       "    </tr>\n",
       "    <tr>\n",
       "      <th>poly(age, degree=4)[1]</th>\n",
       "      <td>-478.3158</td>\n",
       "      <td>39.915</td>\n",
       "      <td>-11.983</td>\n",
       "      <td>0.000</td>\n",
       "    </tr>\n",
       "    <tr>\n",
       "      <th>poly(age, degree=4)[2]</th>\n",
       "      <td>125.5217</td>\n",
       "      <td>39.915</td>\n",
       "      <td>3.145</td>\n",
       "      <td>0.002</td>\n",
       "    </tr>\n",
       "    <tr>\n",
       "      <th>poly(age, degree=4)[3]</th>\n",
       "      <td>-77.9112</td>\n",
       "      <td>39.915</td>\n",
       "      <td>-1.952</td>\n",
       "      <td>0.051</td>\n",
       "    </tr>\n",
       "  </tbody>\n",
       "</table>\n",
       "</div>"
      ],
      "text/plain": [
       "                            coef  std err        t  P>|t|\n",
       "intercept               111.7036    0.729  153.283  0.000\n",
       "poly(age, degree=4)[0]  447.0679   39.915   11.201  0.000\n",
       "poly(age, degree=4)[1] -478.3158   39.915  -11.983  0.000\n",
       "poly(age, degree=4)[2]  125.5217   39.915    3.145  0.002\n",
       "poly(age, degree=4)[3]  -77.9112   39.915   -1.952  0.051"
      ]
     },
     "execution_count": 8,
     "metadata": {},
     "output_type": "execute_result"
    }
   ],
   "source": [
    "summarize(model)"
   ]
  },
  {
   "cell_type": "code",
   "execution_count": 9,
   "id": "0bedb003",
   "metadata": {},
   "outputs": [
    {
     "name": "stderr",
     "output_type": "stream",
     "text": [
      "c:\\Users\\admin\\anaconda3\\lib\\site-packages\\sklearn\\utils\\validation.py:605: FutureWarning: is_sparse is deprecated and will be removed in a future version. Check `isinstance(dtype, pd.SparseDtype)` instead.\n",
      "  if is_sparse(pd_dtype):\n",
      "c:\\Users\\admin\\anaconda3\\lib\\site-packages\\sklearn\\utils\\validation.py:614: FutureWarning: is_sparse is deprecated and will be removed in a future version. Check `isinstance(dtype, pd.SparseDtype)` instead.\n",
      "  if is_sparse(pd_dtype) or not is_extension_array_dtype(pd_dtype):\n",
      "c:\\Users\\admin\\anaconda3\\lib\\site-packages\\sklearn\\utils\\validation.py:605: FutureWarning: is_sparse is deprecated and will be removed in a future version. Check `isinstance(dtype, pd.SparseDtype)` instead.\n",
      "  if is_sparse(pd_dtype):\n",
      "c:\\Users\\admin\\anaconda3\\lib\\site-packages\\sklearn\\utils\\validation.py:614: FutureWarning: is_sparse is deprecated and will be removed in a future version. Check `isinstance(dtype, pd.SparseDtype)` instead.\n",
      "  if is_sparse(pd_dtype) or not is_extension_array_dtype(pd_dtype):\n",
      "c:\\Users\\admin\\anaconda3\\lib\\site-packages\\sklearn\\utils\\validation.py:605: FutureWarning: is_sparse is deprecated and will be removed in a future version. Check `isinstance(dtype, pd.SparseDtype)` instead.\n",
      "  if is_sparse(pd_dtype):\n",
      "c:\\Users\\admin\\anaconda3\\lib\\site-packages\\sklearn\\utils\\validation.py:614: FutureWarning: is_sparse is deprecated and will be removed in a future version. Check `isinstance(dtype, pd.SparseDtype)` instead.\n",
      "  if is_sparse(pd_dtype) or not is_extension_array_dtype(pd_dtype):\n",
      "c:\\Users\\admin\\anaconda3\\lib\\site-packages\\sklearn\\utils\\validation.py:605: FutureWarning: is_sparse is deprecated and will be removed in a future version. Check `isinstance(dtype, pd.SparseDtype)` instead.\n",
      "  if is_sparse(pd_dtype):\n",
      "c:\\Users\\admin\\anaconda3\\lib\\site-packages\\sklearn\\utils\\validation.py:614: FutureWarning: is_sparse is deprecated and will be removed in a future version. Check `isinstance(dtype, pd.SparseDtype)` instead.\n",
      "  if is_sparse(pd_dtype) or not is_extension_array_dtype(pd_dtype):\n",
      "c:\\Users\\admin\\anaconda3\\lib\\site-packages\\sklearn\\utils\\validation.py:605: FutureWarning: is_sparse is deprecated and will be removed in a future version. Check `isinstance(dtype, pd.SparseDtype)` instead.\n",
      "  if is_sparse(pd_dtype):\n",
      "c:\\Users\\admin\\anaconda3\\lib\\site-packages\\sklearn\\utils\\validation.py:614: FutureWarning: is_sparse is deprecated and will be removed in a future version. Check `isinstance(dtype, pd.SparseDtype)` instead.\n",
      "  if is_sparse(pd_dtype) or not is_extension_array_dtype(pd_dtype):\n",
      "c:\\Users\\admin\\anaconda3\\lib\\site-packages\\sklearn\\utils\\validation.py:605: FutureWarning: is_sparse is deprecated and will be removed in a future version. Check `isinstance(dtype, pd.SparseDtype)` instead.\n",
      "  if is_sparse(pd_dtype):\n",
      "c:\\Users\\admin\\anaconda3\\lib\\site-packages\\sklearn\\utils\\validation.py:614: FutureWarning: is_sparse is deprecated and will be removed in a future version. Check `isinstance(dtype, pd.SparseDtype)` instead.\n",
      "  if is_sparse(pd_dtype) or not is_extension_array_dtype(pd_dtype):\n",
      "c:\\Users\\admin\\anaconda3\\lib\\site-packages\\sklearn\\utils\\validation.py:605: FutureWarning: is_sparse is deprecated and will be removed in a future version. Check `isinstance(dtype, pd.SparseDtype)` instead.\n",
      "  if is_sparse(pd_dtype):\n",
      "c:\\Users\\admin\\anaconda3\\lib\\site-packages\\sklearn\\utils\\validation.py:614: FutureWarning: is_sparse is deprecated and will be removed in a future version. Check `isinstance(dtype, pd.SparseDtype)` instead.\n",
      "  if is_sparse(pd_dtype) or not is_extension_array_dtype(pd_dtype):\n",
      "c:\\Users\\admin\\anaconda3\\lib\\site-packages\\sklearn\\utils\\validation.py:605: FutureWarning: is_sparse is deprecated and will be removed in a future version. Check `isinstance(dtype, pd.SparseDtype)` instead.\n",
      "  if is_sparse(pd_dtype):\n",
      "c:\\Users\\admin\\anaconda3\\lib\\site-packages\\sklearn\\utils\\validation.py:614: FutureWarning: is_sparse is deprecated and will be removed in a future version. Check `isinstance(dtype, pd.SparseDtype)` instead.\n",
      "  if is_sparse(pd_dtype) or not is_extension_array_dtype(pd_dtype):\n",
      "c:\\Users\\admin\\anaconda3\\lib\\site-packages\\sklearn\\utils\\validation.py:605: FutureWarning: is_sparse is deprecated and will be removed in a future version. Check `isinstance(dtype, pd.SparseDtype)` instead.\n",
      "  if is_sparse(pd_dtype):\n",
      "c:\\Users\\admin\\anaconda3\\lib\\site-packages\\sklearn\\utils\\validation.py:614: FutureWarning: is_sparse is deprecated and will be removed in a future version. Check `isinstance(dtype, pd.SparseDtype)` instead.\n",
      "  if is_sparse(pd_dtype) or not is_extension_array_dtype(pd_dtype):\n"
     ]
    },
    {
     "data": {
      "text/html": [
       "<div>\n",
       "<style scoped>\n",
       "    .dataframe tbody tr th:only-of-type {\n",
       "        vertical-align: middle;\n",
       "    }\n",
       "\n",
       "    .dataframe tbody tr th {\n",
       "        vertical-align: top;\n",
       "    }\n",
       "\n",
       "    .dataframe thead th {\n",
       "        text-align: right;\n",
       "    }\n",
       "</style>\n",
       "<table border=\"1\" class=\"dataframe\">\n",
       "  <thead>\n",
       "    <tr style=\"text-align: right;\">\n",
       "      <th></th>\n",
       "      <th>df_resid</th>\n",
       "      <th>ssr</th>\n",
       "      <th>df_diff</th>\n",
       "      <th>ss_diff</th>\n",
       "      <th>F</th>\n",
       "      <th>Pr(&gt;F)</th>\n",
       "    </tr>\n",
       "  </thead>\n",
       "  <tbody>\n",
       "    <tr>\n",
       "      <th>0</th>\n",
       "      <td>2997.0</td>\n",
       "      <td>3.902335e+06</td>\n",
       "      <td>0.0</td>\n",
       "      <td>NaN</td>\n",
       "      <td>NaN</td>\n",
       "      <td>NaN</td>\n",
       "    </tr>\n",
       "    <tr>\n",
       "      <th>1</th>\n",
       "      <td>2996.0</td>\n",
       "      <td>3.759472e+06</td>\n",
       "      <td>1.0</td>\n",
       "      <td>142862.701185</td>\n",
       "      <td>113.991883</td>\n",
       "      <td>3.838075e-26</td>\n",
       "    </tr>\n",
       "    <tr>\n",
       "      <th>2</th>\n",
       "      <td>2995.0</td>\n",
       "      <td>3.753546e+06</td>\n",
       "      <td>1.0</td>\n",
       "      <td>5926.207070</td>\n",
       "      <td>4.728593</td>\n",
       "      <td>2.974318e-02</td>\n",
       "    </tr>\n",
       "  </tbody>\n",
       "</table>\n",
       "</div>"
      ],
      "text/plain": [
       "   df_resid           ssr  df_diff        ss_diff           F        Pr(>F)\n",
       "0    2997.0  3.902335e+06      0.0            NaN         NaN           NaN\n",
       "1    2996.0  3.759472e+06      1.0  142862.701185  113.991883  3.838075e-26\n",
       "2    2995.0  3.753546e+06      1.0    5926.207070    4.728593  2.974318e-02"
      ]
     },
     "execution_count": 9,
     "metadata": {},
     "output_type": "execute_result"
    }
   ],
   "source": [
    "models = [MS(['education', poly('age', degree=d)]) for d in range(1, 4)]\n",
    "XEs = [model.fit_transform(Wage) for model in models]\n",
    "anova_lm(*[sm.OLS(y, X_).fit() for X_ in XEs])"
   ]
  },
  {
   "cell_type": "code",
   "execution_count": 30,
   "id": "f91e0a9c",
   "metadata": {},
   "outputs": [
    {
     "data": {
      "text/html": [
       "<div>\n",
       "<style scoped>\n",
       "    .dataframe tbody tr th:only-of-type {\n",
       "        vertical-align: middle;\n",
       "    }\n",
       "\n",
       "    .dataframe tbody tr th {\n",
       "        vertical-align: top;\n",
       "    }\n",
       "\n",
       "    .dataframe thead th {\n",
       "        text-align: right;\n",
       "    }\n",
       "</style>\n",
       "<table border=\"1\" class=\"dataframe\">\n",
       "  <thead>\n",
       "    <tr style=\"text-align: right;\">\n",
       "      <th></th>\n",
       "      <th>coef</th>\n",
       "      <th>std err</th>\n",
       "      <th>z</th>\n",
       "      <th>P&gt;|z|</th>\n",
       "    </tr>\n",
       "  </thead>\n",
       "  <tbody>\n",
       "    <tr>\n",
       "      <th>intercept</th>\n",
       "      <td>-4.3012</td>\n",
       "      <td>0.345</td>\n",
       "      <td>-12.457</td>\n",
       "      <td>0.000</td>\n",
       "    </tr>\n",
       "    <tr>\n",
       "      <th>poly(age, degree=4)[0]</th>\n",
       "      <td>71.9642</td>\n",
       "      <td>26.133</td>\n",
       "      <td>2.754</td>\n",
       "      <td>0.006</td>\n",
       "    </tr>\n",
       "    <tr>\n",
       "      <th>poly(age, degree=4)[1]</th>\n",
       "      <td>-85.7729</td>\n",
       "      <td>35.929</td>\n",
       "      <td>-2.387</td>\n",
       "      <td>0.017</td>\n",
       "    </tr>\n",
       "    <tr>\n",
       "      <th>poly(age, degree=4)[2]</th>\n",
       "      <td>34.1626</td>\n",
       "      <td>19.697</td>\n",
       "      <td>1.734</td>\n",
       "      <td>0.083</td>\n",
       "    </tr>\n",
       "    <tr>\n",
       "      <th>poly(age, degree=4)[3]</th>\n",
       "      <td>-47.4008</td>\n",
       "      <td>24.105</td>\n",
       "      <td>-1.966</td>\n",
       "      <td>0.049</td>\n",
       "    </tr>\n",
       "  </tbody>\n",
       "</table>\n",
       "</div>"
      ],
      "text/plain": [
       "                           coef  std err       z  P>|z|\n",
       "intercept               -4.3012    0.345 -12.457  0.000\n",
       "poly(age, degree=4)[0]  71.9642   26.133   2.754  0.006\n",
       "poly(age, degree=4)[1] -85.7729   35.929  -2.387  0.017\n",
       "poly(age, degree=4)[2]  34.1626   19.697   1.734  0.083\n",
       "poly(age, degree=4)[3] -47.4008   24.105  -1.966  0.049"
      ]
     },
     "execution_count": 30,
     "metadata": {},
     "output_type": "execute_result"
    }
   ],
   "source": [
    "X = poly_age.transform(Wage)\n",
    "high_earn = Wage['high_earn'] = y > 250\n",
    "glm = sm.GLM(y > 250, X, family=sm.families.Binomial())\n",
    "B = glm.fit()\n",
    "summarize(B)"
   ]
  },
  {
   "cell_type": "code",
   "execution_count": 11,
   "id": "1980833e",
   "metadata": {},
   "outputs": [],
   "source": [
    "newX = poly_age.transform(age_df)\n",
    "preds = B.get_prediction(newX)\n",
    "bands = preds.conf_int(alpha=0.05)"
   ]
  },
  {
   "cell_type": "code",
   "execution_count": 12,
   "id": "8bd9f7ef",
   "metadata": {},
   "outputs": [
    {
     "data": {
      "text/html": [
       "<div>\n",
       "<style scoped>\n",
       "    .dataframe tbody tr th:only-of-type {\n",
       "        vertical-align: middle;\n",
       "    }\n",
       "\n",
       "    .dataframe tbody tr th {\n",
       "        vertical-align: top;\n",
       "    }\n",
       "\n",
       "    .dataframe thead th {\n",
       "        text-align: right;\n",
       "    }\n",
       "</style>\n",
       "<table border=\"1\" class=\"dataframe\">\n",
       "  <thead>\n",
       "    <tr style=\"text-align: right;\">\n",
       "      <th></th>\n",
       "      <th>coef</th>\n",
       "      <th>std err</th>\n",
       "      <th>t</th>\n",
       "      <th>P&gt;|t|</th>\n",
       "    </tr>\n",
       "  </thead>\n",
       "  <tbody>\n",
       "    <tr>\n",
       "      <th>(17.999, 33.75]</th>\n",
       "      <td>94.1584</td>\n",
       "      <td>1.478</td>\n",
       "      <td>63.692</td>\n",
       "      <td>0.0</td>\n",
       "    </tr>\n",
       "    <tr>\n",
       "      <th>(33.75, 42.0]</th>\n",
       "      <td>116.6608</td>\n",
       "      <td>1.470</td>\n",
       "      <td>79.385</td>\n",
       "      <td>0.0</td>\n",
       "    </tr>\n",
       "    <tr>\n",
       "      <th>(42.0, 51.0]</th>\n",
       "      <td>119.1887</td>\n",
       "      <td>1.416</td>\n",
       "      <td>84.147</td>\n",
       "      <td>0.0</td>\n",
       "    </tr>\n",
       "    <tr>\n",
       "      <th>(51.0, 80.0]</th>\n",
       "      <td>116.5717</td>\n",
       "      <td>1.559</td>\n",
       "      <td>74.751</td>\n",
       "      <td>0.0</td>\n",
       "    </tr>\n",
       "  </tbody>\n",
       "</table>\n",
       "</div>"
      ],
      "text/plain": [
       "                     coef  std err       t  P>|t|\n",
       "(17.999, 33.75]   94.1584    1.478  63.692    0.0\n",
       "(33.75, 42.0]    116.6608    1.470  79.385    0.0\n",
       "(42.0, 51.0]     119.1887    1.416  84.147    0.0\n",
       "(51.0, 80.0]     116.5717    1.559  74.751    0.0"
      ]
     },
     "execution_count": 12,
     "metadata": {},
     "output_type": "execute_result"
    }
   ],
   "source": [
    "cut_age = pd.qcut(age, 4)\n",
    "summarize(sm.OLS(y, pd.get_dummies(cut_age)).fit())"
   ]
  },
  {
   "cell_type": "code",
   "execution_count": 13,
   "id": "13d9931f",
   "metadata": {},
   "outputs": [
    {
     "data": {
      "text/plain": [
       "(3000, 7)"
      ]
     },
     "execution_count": 13,
     "metadata": {},
     "output_type": "execute_result"
    }
   ],
   "source": [
    "bs_ = BSpline(internal_knots=[25, 40, 60], intercept=True).fit(age)\n",
    "bs_age = bs_.transform(age)\n",
    "bs_age.shape"
   ]
  },
  {
   "cell_type": "code",
   "execution_count": 14,
   "id": "2da0ef41",
   "metadata": {},
   "outputs": [
    {
     "name": "stderr",
     "output_type": "stream",
     "text": [
      "c:\\Users\\admin\\anaconda3\\lib\\site-packages\\sklearn\\utils\\validation.py:605: FutureWarning: is_sparse is deprecated and will be removed in a future version. Check `isinstance(dtype, pd.SparseDtype)` instead.\n",
      "  if is_sparse(pd_dtype):\n",
      "c:\\Users\\admin\\anaconda3\\lib\\site-packages\\sklearn\\utils\\validation.py:614: FutureWarning: is_sparse is deprecated and will be removed in a future version. Check `isinstance(dtype, pd.SparseDtype)` instead.\n",
      "  if is_sparse(pd_dtype) or not is_extension_array_dtype(pd_dtype):\n"
     ]
    },
    {
     "data": {
      "text/html": [
       "<div>\n",
       "<style scoped>\n",
       "    .dataframe tbody tr th:only-of-type {\n",
       "        vertical-align: middle;\n",
       "    }\n",
       "\n",
       "    .dataframe tbody tr th {\n",
       "        vertical-align: top;\n",
       "    }\n",
       "\n",
       "    .dataframe thead th {\n",
       "        text-align: right;\n",
       "    }\n",
       "</style>\n",
       "<table border=\"1\" class=\"dataframe\">\n",
       "  <thead>\n",
       "    <tr style=\"text-align: right;\">\n",
       "      <th></th>\n",
       "      <th>coef</th>\n",
       "      <th>std err</th>\n",
       "      <th>t</th>\n",
       "      <th>P&gt;|t|</th>\n",
       "    </tr>\n",
       "  </thead>\n",
       "  <tbody>\n",
       "    <tr>\n",
       "      <th>intercept</th>\n",
       "      <td>60.4937</td>\n",
       "      <td>9.460</td>\n",
       "      <td>6.394</td>\n",
       "      <td>0.000</td>\n",
       "    </tr>\n",
       "    <tr>\n",
       "      <th>bs(age)[0]</th>\n",
       "      <td>3.9805</td>\n",
       "      <td>12.538</td>\n",
       "      <td>0.317</td>\n",
       "      <td>0.751</td>\n",
       "    </tr>\n",
       "    <tr>\n",
       "      <th>bs(age)[1]</th>\n",
       "      <td>44.6310</td>\n",
       "      <td>9.626</td>\n",
       "      <td>4.636</td>\n",
       "      <td>0.000</td>\n",
       "    </tr>\n",
       "    <tr>\n",
       "      <th>bs(age)[2]</th>\n",
       "      <td>62.8388</td>\n",
       "      <td>10.755</td>\n",
       "      <td>5.843</td>\n",
       "      <td>0.000</td>\n",
       "    </tr>\n",
       "    <tr>\n",
       "      <th>bs(age)[3]</th>\n",
       "      <td>55.9908</td>\n",
       "      <td>10.706</td>\n",
       "      <td>5.230</td>\n",
       "      <td>0.000</td>\n",
       "    </tr>\n",
       "    <tr>\n",
       "      <th>bs(age)[4]</th>\n",
       "      <td>50.6881</td>\n",
       "      <td>14.402</td>\n",
       "      <td>3.520</td>\n",
       "      <td>0.000</td>\n",
       "    </tr>\n",
       "    <tr>\n",
       "      <th>bs(age)[5]</th>\n",
       "      <td>16.6061</td>\n",
       "      <td>19.126</td>\n",
       "      <td>0.868</td>\n",
       "      <td>0.385</td>\n",
       "    </tr>\n",
       "  </tbody>\n",
       "</table>\n",
       "</div>"
      ],
      "text/plain": [
       "               coef  std err      t  P>|t|\n",
       "intercept   60.4937    9.460  6.394  0.000\n",
       "bs(age)[0]   3.9805   12.538  0.317  0.751\n",
       "bs(age)[1]  44.6310    9.626  4.636  0.000\n",
       "bs(age)[2]  62.8388   10.755  5.843  0.000\n",
       "bs(age)[3]  55.9908   10.706  5.230  0.000\n",
       "bs(age)[4]  50.6881   14.402  3.520  0.000\n",
       "bs(age)[5]  16.6061   19.126  0.868  0.385"
      ]
     },
     "execution_count": 14,
     "metadata": {},
     "output_type": "execute_result"
    }
   ],
   "source": [
    "bs_age = MS([bs('age', internal_knots=[25, 40, 60], name='bs(age)')])\n",
    "Xbs = bs_age.fit_transform(Wage)\n",
    "M = sm.OLS(y, Xbs).fit()\n",
    "summarize(M)"
   ]
  },
  {
   "cell_type": "code",
   "execution_count": 15,
   "id": "b5370a6e",
   "metadata": {},
   "outputs": [
    {
     "data": {
      "text/plain": [
       "array([33.75, 42.  , 51.  ])"
      ]
     },
     "execution_count": 15,
     "metadata": {},
     "output_type": "execute_result"
    }
   ],
   "source": [
    "BSpline(df=6).fit(age).internal_knots_"
   ]
  },
  {
   "cell_type": "code",
   "execution_count": 16,
   "id": "a28b48f0",
   "metadata": {},
   "outputs": [
    {
     "name": "stderr",
     "output_type": "stream",
     "text": [
      "c:\\Users\\admin\\anaconda3\\lib\\site-packages\\sklearn\\utils\\validation.py:605: FutureWarning: is_sparse is deprecated and will be removed in a future version. Check `isinstance(dtype, pd.SparseDtype)` instead.\n",
      "  if is_sparse(pd_dtype):\n",
      "c:\\Users\\admin\\anaconda3\\lib\\site-packages\\sklearn\\utils\\validation.py:614: FutureWarning: is_sparse is deprecated and will be removed in a future version. Check `isinstance(dtype, pd.SparseDtype)` instead.\n",
      "  if is_sparse(pd_dtype) or not is_extension_array_dtype(pd_dtype):\n"
     ]
    },
    {
     "data": {
      "text/html": [
       "<div>\n",
       "<style scoped>\n",
       "    .dataframe tbody tr th:only-of-type {\n",
       "        vertical-align: middle;\n",
       "    }\n",
       "\n",
       "    .dataframe tbody tr th {\n",
       "        vertical-align: top;\n",
       "    }\n",
       "\n",
       "    .dataframe thead th {\n",
       "        text-align: right;\n",
       "    }\n",
       "</style>\n",
       "<table border=\"1\" class=\"dataframe\">\n",
       "  <thead>\n",
       "    <tr style=\"text-align: right;\">\n",
       "      <th></th>\n",
       "      <th>coef</th>\n",
       "      <th>std err</th>\n",
       "      <th>t</th>\n",
       "      <th>P&gt;|t|</th>\n",
       "    </tr>\n",
       "  </thead>\n",
       "  <tbody>\n",
       "    <tr>\n",
       "      <th>intercept</th>\n",
       "      <td>94.1584</td>\n",
       "      <td>1.478</td>\n",
       "      <td>63.687</td>\n",
       "      <td>0.0</td>\n",
       "    </tr>\n",
       "    <tr>\n",
       "      <th>bs(age, df=3, degree=0)[0]</th>\n",
       "      <td>22.3490</td>\n",
       "      <td>2.152</td>\n",
       "      <td>10.388</td>\n",
       "      <td>0.0</td>\n",
       "    </tr>\n",
       "    <tr>\n",
       "      <th>bs(age, df=3, degree=0)[1]</th>\n",
       "      <td>24.8076</td>\n",
       "      <td>2.044</td>\n",
       "      <td>12.137</td>\n",
       "      <td>0.0</td>\n",
       "    </tr>\n",
       "    <tr>\n",
       "      <th>bs(age, df=3, degree=0)[2]</th>\n",
       "      <td>22.7814</td>\n",
       "      <td>2.087</td>\n",
       "      <td>10.917</td>\n",
       "      <td>0.0</td>\n",
       "    </tr>\n",
       "  </tbody>\n",
       "</table>\n",
       "</div>"
      ],
      "text/plain": [
       "                               coef  std err       t  P>|t|\n",
       "intercept                   94.1584    1.478  63.687    0.0\n",
       "bs(age, df=3, degree=0)[0]  22.3490    2.152  10.388    0.0\n",
       "bs(age, df=3, degree=0)[1]  24.8076    2.044  12.137    0.0\n",
       "bs(age, df=3, degree=0)[2]  22.7814    2.087  10.917    0.0"
      ]
     },
     "execution_count": 16,
     "metadata": {},
     "output_type": "execute_result"
    }
   ],
   "source": [
    "bs_age0 = MS([bs('age', df=3, degree=0)]).fit(Wage)\n",
    "Xbs0 = bs_age0.transform(Wage)\n",
    "summarize(sm.OLS(y, Xbs0).fit())"
   ]
  },
  {
   "cell_type": "code",
   "execution_count": 17,
   "id": "f680bfeb",
   "metadata": {},
   "outputs": [
    {
     "name": "stderr",
     "output_type": "stream",
     "text": [
      "c:\\Users\\admin\\anaconda3\\lib\\site-packages\\sklearn\\utils\\validation.py:605: FutureWarning: is_sparse is deprecated and will be removed in a future version. Check `isinstance(dtype, pd.SparseDtype)` instead.\n",
      "  if is_sparse(pd_dtype):\n",
      "c:\\Users\\admin\\anaconda3\\lib\\site-packages\\sklearn\\utils\\validation.py:614: FutureWarning: is_sparse is deprecated and will be removed in a future version. Check `isinstance(dtype, pd.SparseDtype)` instead.\n",
      "  if is_sparse(pd_dtype) or not is_extension_array_dtype(pd_dtype):\n"
     ]
    },
    {
     "data": {
      "text/html": [
       "<div>\n",
       "<style scoped>\n",
       "    .dataframe tbody tr th:only-of-type {\n",
       "        vertical-align: middle;\n",
       "    }\n",
       "\n",
       "    .dataframe tbody tr th {\n",
       "        vertical-align: top;\n",
       "    }\n",
       "\n",
       "    .dataframe thead th {\n",
       "        text-align: right;\n",
       "    }\n",
       "</style>\n",
       "<table border=\"1\" class=\"dataframe\">\n",
       "  <thead>\n",
       "    <tr style=\"text-align: right;\">\n",
       "      <th></th>\n",
       "      <th>coef</th>\n",
       "      <th>std err</th>\n",
       "      <th>t</th>\n",
       "      <th>P&gt;|t|</th>\n",
       "    </tr>\n",
       "  </thead>\n",
       "  <tbody>\n",
       "    <tr>\n",
       "      <th>intercept</th>\n",
       "      <td>60.4752</td>\n",
       "      <td>4.708</td>\n",
       "      <td>12.844</td>\n",
       "      <td>0.000</td>\n",
       "    </tr>\n",
       "    <tr>\n",
       "      <th>ns(age, df=5)[0]</th>\n",
       "      <td>61.5267</td>\n",
       "      <td>4.709</td>\n",
       "      <td>13.065</td>\n",
       "      <td>0.000</td>\n",
       "    </tr>\n",
       "    <tr>\n",
       "      <th>ns(age, df=5)[1]</th>\n",
       "      <td>55.6912</td>\n",
       "      <td>5.717</td>\n",
       "      <td>9.741</td>\n",
       "      <td>0.000</td>\n",
       "    </tr>\n",
       "    <tr>\n",
       "      <th>ns(age, df=5)[2]</th>\n",
       "      <td>46.8184</td>\n",
       "      <td>4.948</td>\n",
       "      <td>9.463</td>\n",
       "      <td>0.000</td>\n",
       "    </tr>\n",
       "    <tr>\n",
       "      <th>ns(age, df=5)[3]</th>\n",
       "      <td>83.2036</td>\n",
       "      <td>11.918</td>\n",
       "      <td>6.982</td>\n",
       "      <td>0.000</td>\n",
       "    </tr>\n",
       "    <tr>\n",
       "      <th>ns(age, df=5)[4]</th>\n",
       "      <td>6.8770</td>\n",
       "      <td>9.484</td>\n",
       "      <td>0.725</td>\n",
       "      <td>0.468</td>\n",
       "    </tr>\n",
       "  </tbody>\n",
       "</table>\n",
       "</div>"
      ],
      "text/plain": [
       "                     coef  std err       t  P>|t|\n",
       "intercept         60.4752    4.708  12.844  0.000\n",
       "ns(age, df=5)[0]  61.5267    4.709  13.065  0.000\n",
       "ns(age, df=5)[1]  55.6912    5.717   9.741  0.000\n",
       "ns(age, df=5)[2]  46.8184    4.948   9.463  0.000\n",
       "ns(age, df=5)[3]  83.2036   11.918   6.982  0.000\n",
       "ns(age, df=5)[4]   6.8770    9.484   0.725  0.468"
      ]
     },
     "execution_count": 17,
     "metadata": {},
     "output_type": "execute_result"
    }
   ],
   "source": [
    "ns_age = MS([ns('age', df=5)]).fit(Wage)\n",
    "M_ns = sm.OLS(y, ns_age.transform(Wage)).fit()\n",
    "summarize(M_ns)"
   ]
  },
  {
   "cell_type": "code",
   "execution_count": 18,
   "id": "1566c877",
   "metadata": {},
   "outputs": [
    {
     "data": {
      "text/plain": [
       "<AxesSubplot:title={'center':'Natural Spline, df=5'}, xlabel='Age', ylabel='Wage'>"
      ]
     },
     "execution_count": 18,
     "metadata": {},
     "output_type": "execute_result"
    },
    {
     "data": {
      "image/png": "[encoded data removed]",
      "text/plain": [
       "<Figure size 576x432 with 1 Axes>"
      ]
     },
     "metadata": {
      "needs_background": "light"
     },
     "output_type": "display_data"
    }
   ],
   "source": [
    "plot_wage_fit(age_df, ns_age, 'Natural Spline, df=5')"
   ]
  },
  {
   "cell_type": "code",
   "execution_count": 19,
   "id": "3ba6c8d6",
   "metadata": {},
   "outputs": [
    {
     "data": {
      "text/plain": [
       "LinearGAM(callbacks=[Deviance(), Diffs()], fit_intercept=True, \n",
       "   max_iter=100, scale=None, terms=s(0) + intercept, tol=0.0001, \n",
       "   verbose=False)"
      ]
     },
     "execution_count": 19,
     "metadata": {},
     "output_type": "execute_result"
    }
   ],
   "source": [
    "X_age = np.asarray(age).reshape((-1, 1))\n",
    "gam = LinearGAM(s_gam(0, lam=0.6))\n",
    "gam.fit(X_age, y)\n",
    "gam"
   ]
  },
  {
   "cell_type": "code",
   "execution_count": 20,
   "id": "c4657580",
   "metadata": {},
   "outputs": [
    {
     "data": {
      "text/plain": [
       "<matplotlib.legend.Legend at 0x1aa690df550>"
      ]
     },
     "execution_count": 20,
     "metadata": {},
     "output_type": "execute_result"
    },
    {
     "data": {
      "image/png": "[encoded data removed]",
      "text/plain": [
       "<Figure size 576x432 with 1 Axes>"
      ]
     },
     "metadata": {
      "needs_background": "light"
     },
     "output_type": "display_data"
    }
   ],
   "source": [
    "fig, ax = plt.subplots(1, 1, figsize=(8, 6))\n",
    "for lam in np.logspace(-2, 6, 5):\n",
    "    gam = LinearGAM(s_gam(0, lam=lam)).fit(X_age, y)\n",
    "    ax.plot(age_grid, gam.predict(age_grid), label=f'{lam:.1e}')\n",
    "ax.legend()"
   ]
  },
  {
   "cell_type": "code",
   "execution_count": 21,
   "id": "185b317e",
   "metadata": {},
   "outputs": [],
   "source": [
    "ns_age = NaturalSpline(df=4).fit(age)\n",
    "ns_year = NaturalSpline(df=5).fit(Wage['year'])\n",
    "Xs = [ns_age.transform(age), ns_year.transform(Wage['year']), pd.get_dummies(Wage['education']).values]\n",
    "X_bh = np.hstack(Xs)\n",
    "gam_bh = sm.OLS(y, X_bh).fit()"
   ]
  },
  {
   "cell_type": "code",
   "execution_count": 22,
   "id": "49e28ea1",
   "metadata": {},
   "outputs": [],
   "source": [
    "gam_full = LinearGAM(s_gam(0) + s_gam(1, n_splines=7) + f_gam(2, lam=0))\n",
    "Xgam = np.column_stack([age, Wage['year'], Wage['education'].cat.codes])\n",
    "gam_full = gam_full.fit(Xgam, y)"
   ]
  },
  {
   "cell_type": "code",
   "execution_count": 23,
   "id": "ad17ca4f",
   "metadata": {},
   "outputs": [
    {
     "data": {
      "text/plain": [
       "<AxesSubplot:>"
      ]
     },
     "execution_count": 23,
     "metadata": {},
     "output_type": "execute_result"
    },
    {
     "data": {
      "image/png": "[encoded data removed]",
      "text/plain": [
       "<Figure size 576x432 with 1 Axes>"
      ]
     },
     "metadata": {
      "needs_background": "light"
     },
     "output_type": "display_data"
    }
   ],
   "source": [
    "fig, ax = plt.subplots(1, 1, figsize=(8, 6))\n",
    "plot_gam(gam_full, 1, ax=ax)"
   ]
  },
  {
   "cell_type": "code",
   "execution_count": 24,
   "id": "98572bda",
   "metadata": {},
   "outputs": [
    {
     "name": "stdout",
     "output_type": "stream",
     "text": [
      "LinearGAM                                                                                                 \n",
      "=============================================== ==========================================================\n",
      "Distribution:                        NormalDist Effective DoF:                                     23.7858\n",
      "Link Function:                     IdentityLink Log Likelihood:                                -24118.5887\n",
      "Number of Samples:                         3000 AIC:                                            48286.7489\n",
      "                                                AICc:                                           48287.1787\n",
      "                                                GCV:                                             1254.5772\n",
      "                                                Scale:                                           1236.6853\n",
      "                                                Pseudo R-Squared:                                   0.2952\n",
      "==========================================================================================================\n",
      "Feature Function                  Lambda               Rank         EDoF         P > x        Sig. Code   \n",
      "================================= ==================== ============ ============ ============ ============\n",
      "s(0)                              [0.6]                20           15.2         1.11e-16     ***         \n",
      "s(1)                              [0.6]                7            4.6          5.40e-03     **          \n",
      "f(2)                              [0]                  5            4.0          1.11e-16     ***         \n",
      "intercept                                              1            0.0          1.11e-16     ***         \n",
      "==========================================================================================================\n",
      "Significance codes:  0 '***' 0.001 '**' 0.01 '*' 0.05 '.' 0.1 ' ' 1\n",
      "\n",
      "WARNING: Fitting splines and a linear function to a feature introduces a model identifiability problem\n",
      "         which can cause p-values to appear significant when they are not.\n",
      "\n",
      "WARNING: p-values calculated in this manner behave correctly for un-penalized models or models with\n",
      "         known smoothing parameters, but when smoothing parameters have been estimated, the p-values\n",
      "         are typically lower than they should be, meaning that the tests reject the null too readily.\n"
     ]
    },
    {
     "name": "stderr",
     "output_type": "stream",
     "text": [
      "C:\\Users\\admin\\AppData\\Local\\Temp\\ipykernel_21060\\3870570873.py:1: UserWarning: KNOWN BUG: p-values computed in this summary are likely much smaller than they should be. \n",
      " \n",
      "Please do not make inferences based on these values! \n",
      "\n",
      "Collaborate on a solution, and stay up to date at: \n",
      "github.com/dswah/pyGAM/issues/163 \n",
      "\n",
      "  gam_full.summary()\n"
     ]
    }
   ],
   "source": [
    "gam_full.summary()"
   ]
  },
  {
   "cell_type": "code",
   "execution_count": 25,
   "id": "87b85649",
   "metadata": {},
   "outputs": [
    {
     "data": {
      "text/plain": [
       "array([ 54.74161832,  99.52667598, 111.9847121 , ...,  71.85592295,\n",
       "        95.225241  , 104.5302153 ])"
      ]
     },
     "execution_count": 25,
     "metadata": {},
     "output_type": "execute_result"
    }
   ],
   "source": [
    "yhat = gam_full.predict(Xgam)\n",
    "yhat"
   ]
  },
  {
   "cell_type": "code",
   "execution_count": null,
   "id": "ca1289ef",
   "metadata": {},
   "outputs": [],
   "source": [
    "age_term = gam_full.terms[0]"
   ]
  },
  {
   "cell_type": "code",
   "execution_count": 31,
   "id": "429d2de8",
   "metadata": {},
   "outputs": [
    {
     "data": {
      "text/plain": [
       "LogisticGAM(callbacks=[Deviance(), Diffs(), Accuracy()], \n",
       "   fit_intercept=True, max_iter=100, \n",
       "   terms=s(0) + l(1) + f(2) + intercept, tol=0.0001, verbose=False)"
      ]
     },
     "execution_count": 31,
     "metadata": {},
     "output_type": "execute_result"
    }
   ],
   "source": [
    "gam_logit = LogisticGAM(age_term + l_gam(1, lam=0) + f_gam(2, lam=0))\n",
    "gam_logit.fit(Xgam, high_earn)"
   ]
  },
  {
   "cell_type": "code",
   "execution_count": 35,
   "id": "d7ff3d8e",
   "metadata": {},
   "outputs": [
    {
     "data": {
      "text/plain": [
       "<AxesSubplot:>"
      ]
     },
     "execution_count": 35,
     "metadata": {},
     "output_type": "execute_result"
    },
    {
     "data": {
      "image/png": "[encoded data removed]",
      "text/plain": [
       "<Figure size 1080x432 with 3 Axes>"
      ]
     },
     "metadata": {
      "needs_background": "light"
     },
     "output_type": "display_data"
    }
   ],
   "source": [
    "fig, (ax1, ax2, ax3) = plt.subplots(1, 3, figsize=(15, 6))\n",
    "plot_gam(gam_logit, 0, ax=ax1)\n",
    "plot_gam(gam_logit, 1, ax=ax2)\n",
    "plot_gam(gam_logit, 2, ax=ax3)"
   ]
  },
  {
   "cell_type": "code",
   "execution_count": 36,
   "id": "ee69c466",
   "metadata": {},
   "outputs": [
    {
     "data": {
      "text/html": [
       "<div>\n",
       "<style scoped>\n",
       "    .dataframe tbody tr th:only-of-type {\n",
       "        vertical-align: middle;\n",
       "    }\n",
       "\n",
       "    .dataframe tbody tr th {\n",
       "        vertical-align: top;\n",
       "    }\n",
       "\n",
       "    .dataframe thead th {\n",
       "        text-align: right;\n",
       "    }\n",
       "</style>\n",
       "<table border=\"1\" class=\"dataframe\">\n",
       "  <thead>\n",
       "    <tr style=\"text-align: right;\">\n",
       "      <th>education</th>\n",
       "      <th>1. &lt; HS Grad</th>\n",
       "      <th>2. HS Grad</th>\n",
       "      <th>3. Some College</th>\n",
       "      <th>4. College Grad</th>\n",
       "      <th>5. Advanced Degree</th>\n",
       "    </tr>\n",
       "    <tr>\n",
       "      <th>high_earn</th>\n",
       "      <th></th>\n",
       "      <th></th>\n",
       "      <th></th>\n",
       "      <th></th>\n",
       "      <th></th>\n",
       "    </tr>\n",
       "  </thead>\n",
       "  <tbody>\n",
       "    <tr>\n",
       "      <th>False</th>\n",
       "      <td>268</td>\n",
       "      <td>966</td>\n",
       "      <td>643</td>\n",
       "      <td>663</td>\n",
       "      <td>381</td>\n",
       "    </tr>\n",
       "    <tr>\n",
       "      <th>True</th>\n",
       "      <td>0</td>\n",
       "      <td>5</td>\n",
       "      <td>7</td>\n",
       "      <td>22</td>\n",
       "      <td>45</td>\n",
       "    </tr>\n",
       "  </tbody>\n",
       "</table>\n",
       "</div>"
      ],
      "text/plain": [
       "education  1. < HS Grad  2. HS Grad  3. Some College  4. College Grad  \\\n",
       "high_earn                                                               \n",
       "False               268         966              643              663   \n",
       "True                  0           5                7               22   \n",
       "\n",
       "education  5. Advanced Degree  \n",
       "high_earn                      \n",
       "False                     381  \n",
       "True                       45  "
      ]
     },
     "execution_count": 36,
     "metadata": {},
     "output_type": "execute_result"
    }
   ],
   "source": [
    "pd.crosstab(Wage['high_earn'], Wage['education'])"
   ]
  },
  {
   "cell_type": "code",
   "execution_count": null,
   "id": "b11aa886",
   "metadata": {},
   "outputs": [],
   "source": []
  }
 ],
 "metadata": {
  "kernelspec": {
   "display_name": "base",
   "language": "python",
   "name": "python3"
  },
  "language_info": {
   "codemirror_mode": {
    "name": "ipython",
    "version": 3
   },
   "file_extension": ".py",
   "mimetype": "text/x-python",
   "name": "python",
   "nbconvert_exporter": "python",
   "pygments_lexer": "ipython3",
   "version": "3.10.9"
  }
 },
 "nbformat": 4,
 "nbformat_minor": 5
}
