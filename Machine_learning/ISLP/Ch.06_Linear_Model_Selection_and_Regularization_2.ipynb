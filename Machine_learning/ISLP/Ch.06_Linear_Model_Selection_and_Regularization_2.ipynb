{
 "cells": [
  {
   "cell_type": "code",
   "execution_count": 1,
   "id": "191ae466",
   "metadata": {},
   "outputs": [
    {
     "name": "stderr",
     "output_type": "stream",
     "text": [
      "c:\\Users\\admin\\anaconda3\\lib\\site-packages\\numpy\\_distributor_init.py:30: UserWarning: loaded more than 1 DLL from .libs:\n",
      "c:\\Users\\admin\\anaconda3\\lib\\site-packages\\numpy\\.libs\\libopenblas.EL2C6PLE4ZYW3ECEVIV3OXXGRN2NRFM2.gfortran-win_amd64.dll\n",
      "c:\\Users\\admin\\anaconda3\\lib\\site-packages\\numpy\\.libs\\libopenblas.FB5AE2TYXYH2IJRDKGDGQ3XBKLKTF43H.gfortran-win_amd64.dll\n",
      "  warnings.warn(\"loaded more than 1 DLL from .libs:\"\n"
     ]
    }
   ],
   "source": [
    "import numpy as np\n",
    "import pandas as pd\n",
    "import matplotlib.pyplot as plt\n",
    "import statsmodels.api as sm\n",
    "from sklearn.model_selection import train_test_split, cross_validate\n",
    "from sklearn.linear_model import LogisticRegression, Ridge, Lasso, LinearRegression\n",
    "from sklearn.preprocessing import StandardScaler\n",
    "from sklearn.pipeline import Pipeline, make_pipeline\n",
    "from sklearn.decomposition import PCA\n",
    "from sklearn.cross_decomposition import PLSRegression\n",
    "from ISLP import load_data\n",
    "from ISLP.models import (ModelSpec as MS, Stepwise, sklearn_selected, sklearn_selection_path)\n",
    "from functools import partial\n",
    "from l0bnb import fit_path"
   ]
  },
  {
   "cell_type": "code",
   "execution_count": 3,
   "id": "20120635",
   "metadata": {},
   "outputs": [
    {
     "data": {
      "text/plain": [
       "59"
      ]
     },
     "execution_count": 3,
     "metadata": {},
     "output_type": "execute_result"
    }
   ],
   "source": [
    "Hitters = load_data('Hitters')\n",
    "np.isnan(Hitters['Salary']).sum()"
   ]
  },
  {
   "cell_type": "code",
   "execution_count": 5,
   "id": "977aa381",
   "metadata": {},
   "outputs": [
    {
     "data": {
      "text/plain": [
       "(263, 20)"
      ]
     },
     "execution_count": 5,
     "metadata": {},
     "output_type": "execute_result"
    }
   ],
   "source": [
    "Hitters = Hitters.dropna(how='any')\n",
    "Hitters.shape"
   ]
  },
  {
   "cell_type": "code",
   "execution_count": 6,
   "id": "ecbd79b6",
   "metadata": {},
   "outputs": [],
   "source": [
    "def nCp(sigma2, estimator, X, y):\n",
    "    n, p = X.shape\n",
    "    y_hat = estimator.predict(X)\n",
    "    RSS = np.sum((y - y_hat) ** 2)\n",
    "    return -(RSS + 2*p*sigma2) / n"
   ]
  },
  {
   "cell_type": "code",
   "execution_count": 7,
   "id": "50489757",
   "metadata": {},
   "outputs": [],
   "source": [
    "design = MS(Hitters.columns.drop('Salary')).fit(Hitters)\n",
    "y = np.array(Hitters['Salary'])\n",
    "X = design.transform(Hitters)\n",
    "sigma2 = sm.OLS(y, X).fit().scale"
   ]
  },
  {
   "cell_type": "code",
   "execution_count": 8,
   "id": "b0e22f80",
   "metadata": {},
   "outputs": [],
   "source": [
    "neg_Cp = partial(nCp, sigma2)"
   ]
  },
  {
   "cell_type": "code",
   "execution_count": 9,
   "id": "df05e69d",
   "metadata": {},
   "outputs": [],
   "source": [
    "strategy = Stepwise.first_peak(design, direction='forward', max_terms=len(design.terms))"
   ]
  },
  {
   "cell_type": "code",
   "execution_count": 11,
   "id": "a8e1bc9d",
   "metadata": {},
   "outputs": [
    {
     "data": {
      "text/plain": [
       "('Assists',\n",
       " 'AtBat',\n",
       " 'CAtBat',\n",
       " 'CRBI',\n",
       " 'CRuns',\n",
       " 'CWalks',\n",
       " 'Division',\n",
       " 'Hits',\n",
       " 'PutOuts',\n",
       " 'Walks')"
      ]
     },
     "execution_count": 11,
     "metadata": {},
     "output_type": "execute_result"
    }
   ],
   "source": [
    "hitters_Cp = sklearn_selected(sm.OLS, strategy, scoring=neg_Cp)\n",
    "hitters_Cp.fit(Hitters, y)\n",
    "hitters_Cp.selected_state_"
   ]
  },
  {
   "cell_type": "code",
   "execution_count": null,
   "id": "aa8e4f26",
   "metadata": {},
   "outputs": [],
   "source": []
  }
 ],
 "metadata": {
  "kernelspec": {
   "display_name": "base",
   "language": "python",
   "name": "python3"
  },
  "language_info": {
   "codemirror_mode": {
    "name": "ipython",
    "version": 3
   },
   "file_extension": ".py",
   "mimetype": "text/x-python",
   "name": "python",
   "nbconvert_exporter": "python",
   "pygments_lexer": "ipython3",
   "version": "3.10.9"
  }
 },
 "nbformat": 4,
 "nbformat_minor": 5
}
