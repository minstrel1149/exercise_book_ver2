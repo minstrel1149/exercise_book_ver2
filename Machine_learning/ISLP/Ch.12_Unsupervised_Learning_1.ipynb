{
 "cells": [
  {
   "cell_type": "code",
   "execution_count": 1,
   "id": "815d01c7",
   "metadata": {},
   "outputs": [
    {
     "name": "stderr",
     "output_type": "stream",
     "text": [
      "c:\\Users\\admin\\anaconda3\\lib\\site-packages\\numpy\\_distributor_init.py:30: UserWarning: loaded more than 1 DLL from .libs:\n",
      "c:\\Users\\admin\\anaconda3\\lib\\site-packages\\numpy\\.libs\\libopenblas.EL2C6PLE4ZYW3ECEVIV3OXXGRN2NRFM2.gfortran-win_amd64.dll\n",
      "c:\\Users\\admin\\anaconda3\\lib\\site-packages\\numpy\\.libs\\libopenblas.FB5AE2TYXYH2IJRDKGDGQ3XBKLKTF43H.gfortran-win_amd64.dll\n",
      "  warnings.warn(\"loaded more than 1 DLL from .libs:\"\n"
     ]
    }
   ],
   "source": [
    "import numpy as np\n",
    "import pandas as pd\n",
    "import matplotlib.pyplot as plt\n",
    "from statsmodels.datasets import get_rdataset\n",
    "from sklearn.decomposition import PCA\n",
    "from sklearn.preprocessing import StandardScaler\n",
    "from sklearn.cluster import KMeans, AgglomerativeClustering\n",
    "from scipy.cluster.hierarchy import dendrogram, cut_tree\n",
    "from ISLP import load_data\n",
    "from ISLP.cluster import compute_linkage"
   ]
  },
  {
   "cell_type": "code",
   "execution_count": 3,
   "id": "67d38e60",
   "metadata": {},
   "outputs": [
    {
     "data": {
      "text/html": [
       "<div>\n",
       "<style scoped>\n",
       "    .dataframe tbody tr th:only-of-type {\n",
       "        vertical-align: middle;\n",
       "    }\n",
       "\n",
       "    .dataframe tbody tr th {\n",
       "        vertical-align: top;\n",
       "    }\n",
       "\n",
       "    .dataframe thead th {\n",
       "        text-align: right;\n",
       "    }\n",
       "</style>\n",
       "<table border=\"1\" class=\"dataframe\">\n",
       "  <thead>\n",
       "    <tr style=\"text-align: right;\">\n",
       "      <th></th>\n",
       "      <th>Murder</th>\n",
       "      <th>Assault</th>\n",
       "      <th>UrbanPop</th>\n",
       "      <th>Rape</th>\n",
       "    </tr>\n",
       "    <tr>\n",
       "      <th>rownames</th>\n",
       "      <th></th>\n",
       "      <th></th>\n",
       "      <th></th>\n",
       "      <th></th>\n",
       "    </tr>\n",
       "  </thead>\n",
       "  <tbody>\n",
       "    <tr>\n",
       "      <th>Alabama</th>\n",
       "      <td>13.2</td>\n",
       "      <td>236</td>\n",
       "      <td>58</td>\n",
       "      <td>21.2</td>\n",
       "    </tr>\n",
       "    <tr>\n",
       "      <th>Alaska</th>\n",
       "      <td>10.0</td>\n",
       "      <td>263</td>\n",
       "      <td>48</td>\n",
       "      <td>44.5</td>\n",
       "    </tr>\n",
       "    <tr>\n",
       "      <th>Arizona</th>\n",
       "      <td>8.1</td>\n",
       "      <td>294</td>\n",
       "      <td>80</td>\n",
       "      <td>31.0</td>\n",
       "    </tr>\n",
       "    <tr>\n",
       "      <th>Arkansas</th>\n",
       "      <td>8.8</td>\n",
       "      <td>190</td>\n",
       "      <td>50</td>\n",
       "      <td>19.5</td>\n",
       "    </tr>\n",
       "    <tr>\n",
       "      <th>California</th>\n",
       "      <td>9.0</td>\n",
       "      <td>276</td>\n",
       "      <td>91</td>\n",
       "      <td>40.6</td>\n",
       "    </tr>\n",
       "  </tbody>\n",
       "</table>\n",
       "</div>"
      ],
      "text/plain": [
       "            Murder  Assault  UrbanPop  Rape\n",
       "rownames                                   \n",
       "Alabama       13.2      236        58  21.2\n",
       "Alaska        10.0      263        48  44.5\n",
       "Arizona        8.1      294        80  31.0\n",
       "Arkansas       8.8      190        50  19.5\n",
       "California     9.0      276        91  40.6"
      ]
     },
     "execution_count": 3,
     "metadata": {},
     "output_type": "execute_result"
    }
   ],
   "source": [
    "USArrests = get_rdataset('USArrests').data\n",
    "USArrests.head()"
   ]
  },
  {
   "cell_type": "code",
   "execution_count": 5,
   "id": "d4e6f402",
   "metadata": {},
   "outputs": [
    {
     "data": {
      "text/plain": [
       "Murder        7.788\n",
       "Assault     170.760\n",
       "UrbanPop     65.540\n",
       "Rape         21.232\n",
       "dtype: float64"
      ]
     },
     "execution_count": 5,
     "metadata": {},
     "output_type": "execute_result"
    }
   ],
   "source": [
    "USArrests.mean()"
   ]
  },
  {
   "cell_type": "code",
   "execution_count": 8,
   "id": "ffd9726a",
   "metadata": {},
   "outputs": [
    {
     "name": "stderr",
     "output_type": "stream",
     "text": [
      "c:\\Users\\admin\\anaconda3\\lib\\site-packages\\sklearn\\utils\\validation.py:767: FutureWarning: is_sparse is deprecated and will be removed in a future version. Check `isinstance(dtype, pd.SparseDtype)` instead.\n",
      "  if not hasattr(array, \"sparse\") and array.dtypes.apply(is_sparse).any():\n",
      "c:\\Users\\admin\\anaconda3\\lib\\site-packages\\sklearn\\utils\\validation.py:605: FutureWarning: is_sparse is deprecated and will be removed in a future version. Check `isinstance(dtype, pd.SparseDtype)` instead.\n",
      "  if is_sparse(pd_dtype):\n",
      "c:\\Users\\admin\\anaconda3\\lib\\site-packages\\sklearn\\utils\\validation.py:614: FutureWarning: is_sparse is deprecated and will be removed in a future version. Check `isinstance(dtype, pd.SparseDtype)` instead.\n",
      "  if is_sparse(pd_dtype) or not is_extension_array_dtype(pd_dtype):\n",
      "c:\\Users\\admin\\anaconda3\\lib\\site-packages\\sklearn\\utils\\validation.py:767: FutureWarning: is_sparse is deprecated and will be removed in a future version. Check `isinstance(dtype, pd.SparseDtype)` instead.\n",
      "  if not hasattr(array, \"sparse\") and array.dtypes.apply(is_sparse).any():\n",
      "c:\\Users\\admin\\anaconda3\\lib\\site-packages\\sklearn\\utils\\validation.py:605: FutureWarning: is_sparse is deprecated and will be removed in a future version. Check `isinstance(dtype, pd.SparseDtype)` instead.\n",
      "  if is_sparse(pd_dtype):\n",
      "c:\\Users\\admin\\anaconda3\\lib\\site-packages\\sklearn\\utils\\validation.py:614: FutureWarning: is_sparse is deprecated and will be removed in a future version. Check `isinstance(dtype, pd.SparseDtype)` instead.\n",
      "  if is_sparse(pd_dtype) or not is_extension_array_dtype(pd_dtype):\n"
     ]
    }
   ],
   "source": [
    "scaler = StandardScaler().fit(USArrests)\n",
    "US_scaled = scaler.transform(USArrests)"
   ]
  },
  {
   "cell_type": "code",
   "execution_count": 10,
   "id": "11425588",
   "metadata": {},
   "outputs": [
    {
     "data": {
      "text/html": [
       "<style>#sk-container-id-1 {color: black;background-color: white;}#sk-container-id-1 pre{padding: 0;}#sk-container-id-1 div.sk-toggleable {background-color: white;}#sk-container-id-1 label.sk-toggleable__label {cursor: pointer;display: block;width: 100%;margin-bottom: 0;padding: 0.3em;box-sizing: border-box;text-align: center;}#sk-container-id-1 label.sk-toggleable__label-arrow:before {content: \"▸\";float: left;margin-right: 0.25em;color: #696969;}#sk-container-id-1 label.sk-toggleable__label-arrow:hover:before {color: black;}#sk-container-id-1 div.sk-estimator:hover label.sk-toggleable__label-arrow:before {color: black;}#sk-container-id-1 div.sk-toggleable__content {max-height: 0;max-width: 0;overflow: hidden;text-align: left;background-color: #f0f8ff;}#sk-container-id-1 div.sk-toggleable__content pre {margin: 0.2em;color: black;border-radius: 0.25em;background-color: #f0f8ff;}#sk-container-id-1 input.sk-toggleable__control:checked~div.sk-toggleable__content {max-height: 200px;max-width: 100%;overflow: auto;}#sk-container-id-1 input.sk-toggleable__control:checked~label.sk-toggleable__label-arrow:before {content: \"▾\";}#sk-container-id-1 div.sk-estimator input.sk-toggleable__control:checked~label.sk-toggleable__label {background-color: #d4ebff;}#sk-container-id-1 div.sk-label input.sk-toggleable__control:checked~label.sk-toggleable__label {background-color: #d4ebff;}#sk-container-id-1 input.sk-hidden--visually {border: 0;clip: rect(1px 1px 1px 1px);clip: rect(1px, 1px, 1px, 1px);height: 1px;margin: -1px;overflow: hidden;padding: 0;position: absolute;width: 1px;}#sk-container-id-1 div.sk-estimator {font-family: monospace;background-color: #f0f8ff;border: 1px dotted black;border-radius: 0.25em;box-sizing: border-box;margin-bottom: 0.5em;}#sk-container-id-1 div.sk-estimator:hover {background-color: #d4ebff;}#sk-container-id-1 div.sk-parallel-item::after {content: \"\";width: 100%;border-bottom: 1px solid gray;flex-grow: 1;}#sk-container-id-1 div.sk-label:hover label.sk-toggleable__label {background-color: #d4ebff;}#sk-container-id-1 div.sk-serial::before {content: \"\";position: absolute;border-left: 1px solid gray;box-sizing: border-box;top: 0;bottom: 0;left: 50%;z-index: 0;}#sk-container-id-1 div.sk-serial {display: flex;flex-direction: column;align-items: center;background-color: white;padding-right: 0.2em;padding-left: 0.2em;position: relative;}#sk-container-id-1 div.sk-item {position: relative;z-index: 1;}#sk-container-id-1 div.sk-parallel {display: flex;align-items: stretch;justify-content: center;background-color: white;position: relative;}#sk-container-id-1 div.sk-item::before, #sk-container-id-1 div.sk-parallel-item::before {content: \"\";position: absolute;border-left: 1px solid gray;box-sizing: border-box;top: 0;bottom: 0;left: 50%;z-index: -1;}#sk-container-id-1 div.sk-parallel-item {display: flex;flex-direction: column;z-index: 1;position: relative;background-color: white;}#sk-container-id-1 div.sk-parallel-item:first-child::after {align-self: flex-end;width: 50%;}#sk-container-id-1 div.sk-parallel-item:last-child::after {align-self: flex-start;width: 50%;}#sk-container-id-1 div.sk-parallel-item:only-child::after {width: 0;}#sk-container-id-1 div.sk-dashed-wrapped {border: 1px dashed gray;margin: 0 0.4em 0.5em 0.4em;box-sizing: border-box;padding-bottom: 0.4em;background-color: white;}#sk-container-id-1 div.sk-label label {font-family: monospace;font-weight: bold;display: inline-block;line-height: 1.2em;}#sk-container-id-1 div.sk-label-container {text-align: center;}#sk-container-id-1 div.sk-container {/* jupyter's `normalize.less` sets `[hidden] { display: none; }` but bootstrap.min.css set `[hidden] { display: none !important; }` so we also need the `!important` here to be able to override the default hidden behavior on the sphinx rendered scikit-learn.org. See: https://github.com/scikit-learn/scikit-learn/issues/21755 */display: inline-block !important;position: relative;}#sk-container-id-1 div.sk-text-repr-fallback {display: none;}</style><div id=\"sk-container-id-1\" class=\"sk-top-container\"><div class=\"sk-text-repr-fallback\"><pre>PCA()</pre><b>In a Jupyter environment, please rerun this cell to show the HTML representation or trust the notebook. <br />On GitHub, the HTML representation is unable to render, please try loading this page with nbviewer.org.</b></div><div class=\"sk-container\" hidden><div class=\"sk-item\"><div class=\"sk-estimator sk-toggleable\"><input class=\"sk-toggleable__control sk-hidden--visually\" id=\"sk-estimator-id-1\" type=\"checkbox\" checked><label for=\"sk-estimator-id-1\" class=\"sk-toggleable__label sk-toggleable__label-arrow\">PCA</label><div class=\"sk-toggleable__content\"><pre>PCA()</pre></div></div></div></div></div>"
      ],
      "text/plain": [
       "PCA()"
      ]
     },
     "execution_count": 10,
     "metadata": {},
     "output_type": "execute_result"
    }
   ],
   "source": [
    "pcaUS = PCA()\n",
    "pcaUS.fit(US_scaled)"
   ]
  },
  {
   "cell_type": "code",
   "execution_count": 11,
   "id": "30494c45",
   "metadata": {},
   "outputs": [
    {
     "data": {
      "text/plain": [
       "array([-7.10542736e-17,  1.38777878e-16, -4.39648318e-16,  8.59312621e-16])"
      ]
     },
     "execution_count": 11,
     "metadata": {},
     "output_type": "execute_result"
    }
   ],
   "source": [
    "pcaUS.mean_"
   ]
  },
  {
   "cell_type": "code",
   "execution_count": 13,
   "id": "8b96dab2",
   "metadata": {},
   "outputs": [
    {
     "data": {
      "text/plain": [
       "array([[ 9.85565885e-01,  1.13339238e+00, -4.44268788e-01,\n",
       "         1.56267145e-01],\n",
       "       [ 1.95013775e+00,  1.07321326e+00,  2.04000333e+00,\n",
       "        -4.38583440e-01],\n",
       "       [ 1.76316354e+00, -7.45956781e-01,  5.47808243e-02,\n",
       "        -8.34652924e-01],\n",
       "       [-1.41420290e-01,  1.11979678e+00,  1.14573692e-01,\n",
       "        -1.82810896e-01],\n",
       "       [ 2.52398013e+00, -1.54293399e+00,  5.98556799e-01,\n",
       "        -3.41996478e-01],\n",
       "       [ 1.51456286e+00, -9.87555085e-01,  1.09500699e+00,\n",
       "         1.46488703e-03],\n",
       "       [-1.35864746e+00, -1.08892789e+00, -6.43257569e-01,\n",
       "        -1.18469414e-01],\n",
       "       [ 4.77093091e-02, -3.25358925e-01, -7.18632942e-01,\n",
       "        -8.81977637e-01],\n",
       "       [ 3.01304227e+00,  3.92285133e-02, -5.76829492e-01,\n",
       "        -9.62847520e-02],\n",
       "       [ 1.63928304e+00,  1.27894240e+00, -3.42460080e-01,\n",
       "         1.07679681e+00],\n",
       "       [-9.12657146e-01, -1.57046001e+00,  5.07818939e-02,\n",
       "         9.02806864e-01],\n",
       "       [-1.63979985e+00,  2.10972917e-01,  2.59801342e-01,\n",
       "        -4.99104101e-01],\n",
       "       [ 1.37891072e+00, -6.81841189e-01, -6.77495641e-01,\n",
       "        -1.22021292e-01],\n",
       "       [-5.05461361e-01, -1.51562542e-01,  2.28054838e-01,\n",
       "         4.24665700e-01],\n",
       "       [-2.25364607e+00, -1.04054073e-01,  1.64564315e-01,\n",
       "         1.75559157e-02],\n",
       "       [-7.96881121e-01, -2.70164705e-01,  2.55533072e-02,\n",
       "         2.06496428e-01],\n",
       "       [-7.50859074e-01,  9.58440286e-01, -2.83694170e-02,\n",
       "         6.70556671e-01],\n",
       "       [ 1.56481798e+00,  8.71054655e-01, -7.83480358e-01,\n",
       "         4.54728038e-01],\n",
       "       [-2.39682949e+00,  3.76391576e-01, -6.56823864e-02,\n",
       "        -3.30459817e-01],\n",
       "       [ 1.76336939e+00,  4.27655192e-01, -1.57250127e-01,\n",
       "        -5.59069521e-01],\n",
       "       [-4.86166287e-01, -1.47449650e+00, -6.09497476e-01,\n",
       "        -1.79598963e-01],\n",
       "       [ 2.10844115e+00, -1.55396819e-01,  3.84868584e-01,\n",
       "         1.02372019e-01],\n",
       "       [-1.69268181e+00, -6.32261251e-01,  1.53070434e-01,\n",
       "         6.73168850e-02],\n",
       "       [ 9.96494459e-01,  2.39379599e+00, -7.40808395e-01,\n",
       "         2.15508013e-01],\n",
       "       [ 6.96787329e-01, -2.63354790e-01,  3.77443827e-01,\n",
       "         2.25824461e-01],\n",
       "       [-1.18545191e+00,  5.36874372e-01,  2.46889321e-01,\n",
       "         1.23742227e-01],\n",
       "       [-1.26563654e+00, -1.93953730e-01,  1.75573906e-01,\n",
       "         1.58928878e-02],\n",
       "       [ 2.87439454e+00, -7.75600196e-01,  1.16338049e+00,\n",
       "         3.14515476e-01],\n",
       "       [-2.38391541e+00, -1.80822897e-02,  3.68553932e-02,\n",
       "        -3.31373376e-02],\n",
       "       [ 1.81566110e-01, -1.44950571e+00, -7.64453551e-01,\n",
       "         2.43382700e-01],\n",
       "       [ 1.98002375e+00,  1.42848780e-01,  1.83692180e-01,\n",
       "        -3.39533597e-01],\n",
       "       [ 1.68257738e+00, -8.23184142e-01, -6.43075093e-01,\n",
       "        -1.34843689e-02],\n",
       "       [ 1.12337861e+00,  2.22800338e+00, -8.63571788e-01,\n",
       "        -9.54381667e-01],\n",
       "       [-2.99222562e+00,  5.99118824e-01,  3.01277285e-01,\n",
       "        -2.53987327e-01],\n",
       "       [-2.25965422e-01, -7.42238237e-01, -3.11391215e-02,\n",
       "         4.73915911e-01],\n",
       "       [-3.11782855e-01, -2.87854206e-01, -1.53097922e-02,\n",
       "         1.03323208e-02],\n",
       "       [ 5.91220768e-02, -5.41411454e-01,  9.39832977e-01,\n",
       "        -2.37780688e-01],\n",
       "       [-8.88415824e-01, -5.71100352e-01, -4.00628706e-01,\n",
       "         3.59061124e-01],\n",
       "       [-8.63772064e-01, -1.49197842e+00, -1.36994570e+00,\n",
       "        -6.13569430e-01],\n",
       "       [ 1.32072380e+00,  1.93340466e+00, -3.00537790e-01,\n",
       "        -1.31466685e-01],\n",
       "       [-1.98777484e+00,  8.23343241e-01,  3.89293329e-01,\n",
       "        -1.09571764e-01],\n",
       "       [ 9.99741684e-01,  8.60251305e-01,  1.88082949e-01,\n",
       "         6.52864291e-01],\n",
       "       [ 1.35513821e+00, -4.12480819e-01, -4.92068858e-01,\n",
       "         6.43195491e-01],\n",
       "       [-5.50565262e-01, -1.47150461e+00,  2.93728037e-01,\n",
       "        -8.23140470e-02],\n",
       "       [-2.80141174e+00,  1.40228806e+00,  8.41263094e-01,\n",
       "        -1.44889914e-01],\n",
       "       [-9.63349112e-02,  1.99735289e-01,  1.17125418e-02,\n",
       "         2.11370813e-01],\n",
       "       [-2.16903379e-01, -9.70124183e-01,  6.24870938e-01,\n",
       "        -2.20847793e-01],\n",
       "       [-2.10858541e+00,  1.42484670e+00,  1.04774671e-01,\n",
       "         1.31908831e-01],\n",
       "       [-2.07971417e+00, -6.11268624e-01, -1.38864998e-01,\n",
       "         1.84103743e-01],\n",
       "       [-6.29426664e-01,  3.21012967e-01, -2.40659234e-01,\n",
       "        -1.66651801e-01]])"
      ]
     },
     "execution_count": 13,
     "metadata": {},
     "output_type": "execute_result"
    }
   ],
   "source": [
    "scores = pcaUS.transform(US_scaled)\n",
    "scores"
   ]
  },
  {
   "cell_type": "code",
   "execution_count": 14,
   "id": "a1b353de",
   "metadata": {},
   "outputs": [
    {
     "data": {
      "text/plain": [
       "array([[ 0.53589947,  0.58318363,  0.27819087,  0.54343209],\n",
       "       [ 0.41818087,  0.1879856 , -0.87280619, -0.16731864],\n",
       "       [-0.34123273, -0.26814843, -0.37801579,  0.81777791],\n",
       "       [ 0.6492278 , -0.74340748,  0.13387773,  0.08902432]])"
      ]
     },
     "execution_count": 14,
     "metadata": {},
     "output_type": "execute_result"
    }
   ],
   "source": [
    "pcaUS.components_"
   ]
  },
  {
   "cell_type": "code",
   "execution_count": 15,
   "id": "96263b91",
   "metadata": {},
   "outputs": [
    {
     "data": {
      "text/plain": [
       "array([1.5908673 , 1.00496987, 0.6031915 , 0.4206774 ])"
      ]
     },
     "execution_count": 15,
     "metadata": {},
     "output_type": "execute_result"
    }
   ],
   "source": [
    "scores.std(0, ddof=1)"
   ]
  },
  {
   "cell_type": "code",
   "execution_count": 16,
   "id": "c10091e5",
   "metadata": {},
   "outputs": [
    {
     "data": {
      "text/plain": [
       "(array([2.53085875, 1.00996444, 0.36383998, 0.17696948]),\n",
       " array([0.62006039, 0.24744129, 0.0891408 , 0.04335752]))"
      ]
     },
     "execution_count": 16,
     "metadata": {},
     "output_type": "execute_result"
    }
   ],
   "source": [
    "pcaUS.explained_variance_, pcaUS.explained_variance_ratio_"
   ]
  },
  {
   "cell_type": "code",
   "execution_count": 19,
   "id": "0aa090b4",
   "metadata": {},
   "outputs": [
    {
     "data": {
      "text/plain": [
       "[<matplotlib.lines.Line2D at 0x1e0b4269780>]"
      ]
     },
     "execution_count": 19,
     "metadata": {},
     "output_type": "execute_result"
    },
    {
     "data": {
      "image/png": "[encoded data removed]",
      "text/plain": [
       "<Figure size 1008x432 with 2 Axes>"
      ]
     },
     "metadata": {
      "needs_background": "light"
     },
     "output_type": "display_data"
    }
   ],
   "source": [
    "fig, axs = plt.subplots(1, 2, figsize=(14, 6))\n",
    "ticks = np.arange(pcaUS.n_components_) + 1\n",
    "ax = axs[0]\n",
    "ax.plot(ticks, pcaUS.explained_variance_ratio_, marker='o')\n",
    "ax2 = axs[1]\n",
    "ax2.plot(ticks, pcaUS.explained_variance_ratio_.cumsum(), marker='o')"
   ]
  },
  {
   "cell_type": "code",
   "execution_count": 20,
   "id": "97fc5409",
   "metadata": {},
   "outputs": [
    {
     "data": {
      "text/plain": [
       "((50, 4), (4,), (4, 4))"
      ]
     },
     "execution_count": 20,
     "metadata": {},
     "output_type": "execute_result"
    }
   ],
   "source": [
    "X = US_scaled\n",
    "U, D, V = np.linalg.svd(X, full_matrices=False)\n",
    "U.shape, D.shape, V.shape"
   ]
  },
  {
   "cell_type": "code",
   "execution_count": 21,
   "id": "3ca3f881",
   "metadata": {},
   "outputs": [
    {
     "data": {
      "text/plain": [
       "(array([[-0.53589947, -0.58318363, -0.27819087, -0.54343209],\n",
       "        [ 0.41818087,  0.1879856 , -0.87280619, -0.16731864],\n",
       "        [-0.34123273, -0.26814843, -0.37801579,  0.81777791],\n",
       "        [ 0.6492278 , -0.74340748,  0.13387773,  0.08902432]]),\n",
       " array([[ 0.53589947,  0.58318363,  0.27819087,  0.54343209],\n",
       "        [ 0.41818087,  0.1879856 , -0.87280619, -0.16731864],\n",
       "        [-0.34123273, -0.26814843, -0.37801579,  0.81777791],\n",
       "        [ 0.6492278 , -0.74340748,  0.13387773,  0.08902432]]))"
      ]
     },
     "execution_count": 21,
     "metadata": {},
     "output_type": "execute_result"
    }
   ],
   "source": [
    "V, pcaUS.components_"
   ]
  },
  {
   "cell_type": "code",
   "execution_count": 22,
   "id": "a93017bb",
   "metadata": {},
   "outputs": [
    {
     "data": {
      "text/plain": [
       "(array([[-0.98556588,  1.13339238, -0.44426879,  0.15626714],\n",
       "        [-1.95013775,  1.07321326,  2.04000333, -0.43858344],\n",
       "        [-1.76316354, -0.74595678,  0.05478082, -0.83465292],\n",
       "        [ 0.14142029,  1.11979678,  0.11457369, -0.1828109 ]]),\n",
       " array([[ 0.98556588,  1.13339238, -0.44426879,  0.15626714],\n",
       "        [ 1.95013775,  1.07321326,  2.04000333, -0.43858344],\n",
       "        [ 1.76316354, -0.74595678,  0.05478082, -0.83465292],\n",
       "        [-0.14142029,  1.11979678,  0.11457369, -0.1828109 ]]))"
      ]
     },
     "execution_count": 22,
     "metadata": {},
     "output_type": "execute_result"
    }
   ],
   "source": [
    "(U * D[None, :])[:4], scores[:4]"
   ]
  },
  {
   "cell_type": "code",
   "execution_count": 23,
   "id": "efc507c7",
   "metadata": {},
   "outputs": [],
   "source": [
    "n_omit = 20\n",
    "np.random.seed(15)\n",
    "r_idx = np.random.choice(np.arange(X.shape[0]), n_omit, replace=False)\n",
    "c_idx = np.random.choice(np.arange(X.shape[1]), n_omit, replace=True)\n",
    "Xna = X.copy()\n",
    "Xna[r_idx, c_idx] = np.nan"
   ]
  },
  {
   "cell_type": "code",
   "execution_count": 28,
   "id": "b4a94fda",
   "metadata": {},
   "outputs": [],
   "source": [
    "def low_rank(X, M=1):\n",
    "    U, D, V = np.linalg.svd(X)\n",
    "    L = U[:, :M] * D[None, :M]\n",
    "    return L.dot(V[:M])"
   ]
  },
  {
   "cell_type": "code",
   "execution_count": 25,
   "id": "adf2fc87",
   "metadata": {},
   "outputs": [],
   "source": [
    "Xhat = Xna.copy()\n",
    "Xbar = np.nanmean(Xhat, axis=0)\n",
    "Xhat[r_idx, c_idx] = Xbar[c_idx]"
   ]
  },
  {
   "cell_type": "code",
   "execution_count": 26,
   "id": "c53d35b9",
   "metadata": {},
   "outputs": [],
   "source": [
    "thr = 1e-7\n",
    "rel_err = 1\n",
    "count = 0\n",
    "ismiss = np.isnan(Xna)\n",
    "mssold = np.mean(Xhat[~ismiss]**2)\n",
    "mss0 = np.mean(Xna[~ismiss]**2)"
   ]
  },
  {
   "cell_type": "code",
   "execution_count": 29,
   "id": "a5718f4f",
   "metadata": {},
   "outputs": [
    {
     "name": "stdout",
     "output_type": "stream",
     "text": [
      "Iteration: 2, MSS:0.395, Rel.Err 5.99e-01\n",
      "Iteration: 3, MSS:0.382, Rel.Err 1.33e-02\n",
      "Iteration: 4, MSS:0.381, Rel.Err 1.44e-03\n",
      "Iteration: 5, MSS:0.381, Rel.Err 1.79e-04\n",
      "Iteration: 6, MSS:0.381, Rel.Err 2.58e-05\n",
      "Iteration: 7, MSS:0.381, Rel.Err 4.22e-06\n",
      "Iteration: 8, MSS:0.381, Rel.Err 7.65e-07\n",
      "Iteration: 9, MSS:0.381, Rel.Err 1.48e-07\n",
      "Iteration: 10, MSS:0.381, Rel.Err 2.95e-08\n"
     ]
    }
   ],
   "source": [
    "while rel_err > thr:\n",
    "    count += 1\n",
    "    Xapp = low_rank(Xhat, M=1)\n",
    "    Xhat[ismiss] = Xapp[ismiss]\n",
    "    mss = np.mean(((Xna - Xapp)[~ismiss])**2)\n",
    "    rel_err = (mssold - mss) / mss0\n",
    "    mssold = mss\n",
    "    print(f'Iteration: {count}, MSS:{mss:.3f}, Rel.Err {rel_err:.2e}')"
   ]
  },
  {
   "cell_type": "code",
   "execution_count": 30,
   "id": "8274eb8b",
   "metadata": {},
   "outputs": [
    {
     "data": {
      "text/plain": [
       "array([[1.        , 0.71135674],\n",
       "       [0.71135674, 1.        ]])"
      ]
     },
     "execution_count": 30,
     "metadata": {},
     "output_type": "execute_result"
    }
   ],
   "source": [
    "np.corrcoef(Xapp[ismiss], X[ismiss])"
   ]
  },
  {
   "cell_type": "code",
   "execution_count": 31,
   "id": "5fbfb950",
   "metadata": {},
   "outputs": [],
   "source": [
    "np.random.seed(0)\n",
    "X = np.random.standard_normal((50, 2))\n",
    "X[:25, 0] += 3\n",
    "X[:25, 1] -= 4"
   ]
  },
  {
   "cell_type": "code",
   "execution_count": 32,
   "id": "4a96af14",
   "metadata": {},
   "outputs": [
    {
     "data": {
      "text/plain": [
       "array([1, 1, 1, 1, 1, 1, 1, 1, 1, 1, 1, 1, 1, 1, 1, 1, 1, 1, 1, 1, 1, 0,\n",
       "       1, 1, 1, 0, 0, 0, 0, 0, 0, 0, 0, 0, 0, 0, 0, 0, 0, 0, 0, 0, 0, 0,\n",
       "       0, 0, 0, 0, 0, 0])"
      ]
     },
     "execution_count": 32,
     "metadata": {},
     "output_type": "execute_result"
    }
   ],
   "source": [
    "kmeans = KMeans(n_clusters=2, random_state=2, n_init=20).fit(X)\n",
    "kmeans.labels_"
   ]
  },
  {
   "cell_type": "code",
   "execution_count": null,
   "id": "dbfc950f",
   "metadata": {},
   "outputs": [],
   "source": []
  }
 ],
 "metadata": {
  "kernelspec": {
   "display_name": "base",
   "language": "python",
   "name": "python3"
  },
  "language_info": {
   "codemirror_mode": {
    "name": "ipython",
    "version": 3
   },
   "file_extension": ".py",
   "mimetype": "text/x-python",
   "name": "python",
   "nbconvert_exporter": "python",
   "pygments_lexer": "ipython3",
   "version": "3.10.9"
  }
 },
 "nbformat": 4,
 "nbformat_minor": 5
}
