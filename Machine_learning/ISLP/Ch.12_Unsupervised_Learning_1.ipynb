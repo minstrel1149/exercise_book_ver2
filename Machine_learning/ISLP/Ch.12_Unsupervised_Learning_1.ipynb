{
 "cells": [
  {
   "cell_type": "code",
   "execution_count": 1,
   "id": "815d01c7",
   "metadata": {},
   "outputs": [
    {
     "name": "stderr",
     "output_type": "stream",
     "text": [
      "c:\\Users\\admin\\anaconda3\\lib\\site-packages\\numpy\\_distributor_init.py:30: UserWarning: loaded more than 1 DLL from .libs:\n",
      "c:\\Users\\admin\\anaconda3\\lib\\site-packages\\numpy\\.libs\\libopenblas.EL2C6PLE4ZYW3ECEVIV3OXXGRN2NRFM2.gfortran-win_amd64.dll\n",
      "c:\\Users\\admin\\anaconda3\\lib\\site-packages\\numpy\\.libs\\libopenblas.FB5AE2TYXYH2IJRDKGDGQ3XBKLKTF43H.gfortran-win_amd64.dll\n",
      "  warnings.warn(\"loaded more than 1 DLL from .libs:\"\n"
     ]
    }
   ],
   "source": [
    "import numpy as np\n",
    "import pandas as pd\n",
    "import matplotlib.pyplot as plt\n",
    "from statsmodels.datasets import get_rdataset\n",
    "from sklearn.decomposition import PCA\n",
    "from sklearn.preprocessing import StandardScaler\n",
    "from sklearn.cluster import KMeans, AgglomerativeClustering as HClust\n",
    "from scipy.cluster.hierarchy import dendrogram, cut_tree\n",
    "from ISLP import load_data\n",
    "from ISLP.cluster import compute_linkage"
   ]
  },
  {
   "cell_type": "code",
   "execution_count": 2,
   "id": "67d38e60",
   "metadata": {},
   "outputs": [
    {
     "data": {
      "text/html": [
       "<div>\n",
       "<style scoped>\n",
       "    .dataframe tbody tr th:only-of-type {\n",
       "        vertical-align: middle;\n",
       "    }\n",
       "\n",
       "    .dataframe tbody tr th {\n",
       "        vertical-align: top;\n",
       "    }\n",
       "\n",
       "    .dataframe thead th {\n",
       "        text-align: right;\n",
       "    }\n",
       "</style>\n",
       "<table border=\"1\" class=\"dataframe\">\n",
       "  <thead>\n",
       "    <tr style=\"text-align: right;\">\n",
       "      <th></th>\n",
       "      <th>Murder</th>\n",
       "      <th>Assault</th>\n",
       "      <th>UrbanPop</th>\n",
       "      <th>Rape</th>\n",
       "    </tr>\n",
       "    <tr>\n",
       "      <th>rownames</th>\n",
       "      <th></th>\n",
       "      <th></th>\n",
       "      <th></th>\n",
       "      <th></th>\n",
       "    </tr>\n",
       "  </thead>\n",
       "  <tbody>\n",
       "    <tr>\n",
       "      <th>Alabama</th>\n",
       "      <td>13.2</td>\n",
       "      <td>236</td>\n",
       "      <td>58</td>\n",
       "      <td>21.2</td>\n",
       "    </tr>\n",
       "    <tr>\n",
       "      <th>Alaska</th>\n",
       "      <td>10.0</td>\n",
       "      <td>263</td>\n",
       "      <td>48</td>\n",
       "      <td>44.5</td>\n",
       "    </tr>\n",
       "    <tr>\n",
       "      <th>Arizona</th>\n",
       "      <td>8.1</td>\n",
       "      <td>294</td>\n",
       "      <td>80</td>\n",
       "      <td>31.0</td>\n",
       "    </tr>\n",
       "    <tr>\n",
       "      <th>Arkansas</th>\n",
       "      <td>8.8</td>\n",
       "      <td>190</td>\n",
       "      <td>50</td>\n",
       "      <td>19.5</td>\n",
       "    </tr>\n",
       "    <tr>\n",
       "      <th>California</th>\n",
       "      <td>9.0</td>\n",
       "      <td>276</td>\n",
       "      <td>91</td>\n",
       "      <td>40.6</td>\n",
       "    </tr>\n",
       "  </tbody>\n",
       "</table>\n",
       "</div>"
      ],
      "text/plain": [
       "            Murder  Assault  UrbanPop  Rape\n",
       "rownames                                   \n",
       "Alabama       13.2      236        58  21.2\n",
       "Alaska        10.0      263        48  44.5\n",
       "Arizona        8.1      294        80  31.0\n",
       "Arkansas       8.8      190        50  19.5\n",
       "California     9.0      276        91  40.6"
      ]
     },
     "execution_count": 2,
     "metadata": {},
     "output_type": "execute_result"
    }
   ],
   "source": [
    "USArrests = get_rdataset('USArrests').data\n",
    "USArrests.head()"
   ]
  },
  {
   "cell_type": "code",
   "execution_count": 3,
   "id": "d4e6f402",
   "metadata": {},
   "outputs": [
    {
     "data": {
      "text/plain": [
       "Murder        7.788\n",
       "Assault     170.760\n",
       "UrbanPop     65.540\n",
       "Rape         21.232\n",
       "dtype: float64"
      ]
     },
     "execution_count": 3,
     "metadata": {},
     "output_type": "execute_result"
    }
   ],
   "source": [
    "USArrests.mean()"
   ]
  },
  {
   "cell_type": "code",
   "execution_count": 4,
   "id": "ffd9726a",
   "metadata": {},
   "outputs": [
    {
     "name": "stderr",
     "output_type": "stream",
     "text": [
      "c:\\Users\\admin\\anaconda3\\lib\\site-packages\\sklearn\\utils\\validation.py:767: FutureWarning: is_sparse is deprecated and will be removed in a future version. Check `isinstance(dtype, pd.SparseDtype)` instead.\n",
      "  if not hasattr(array, \"sparse\") and array.dtypes.apply(is_sparse).any():\n",
      "c:\\Users\\admin\\anaconda3\\lib\\site-packages\\sklearn\\utils\\validation.py:605: FutureWarning: is_sparse is deprecated and will be removed in a future version. Check `isinstance(dtype, pd.SparseDtype)` instead.\n",
      "  if is_sparse(pd_dtype):\n",
      "c:\\Users\\admin\\anaconda3\\lib\\site-packages\\sklearn\\utils\\validation.py:614: FutureWarning: is_sparse is deprecated and will be removed in a future version. Check `isinstance(dtype, pd.SparseDtype)` instead.\n",
      "  if is_sparse(pd_dtype) or not is_extension_array_dtype(pd_dtype):\n",
      "c:\\Users\\admin\\anaconda3\\lib\\site-packages\\sklearn\\utils\\validation.py:767: FutureWarning: is_sparse is deprecated and will be removed in a future version. Check `isinstance(dtype, pd.SparseDtype)` instead.\n",
      "  if not hasattr(array, \"sparse\") and array.dtypes.apply(is_sparse).any():\n",
      "c:\\Users\\admin\\anaconda3\\lib\\site-packages\\sklearn\\utils\\validation.py:605: FutureWarning: is_sparse is deprecated and will be removed in a future version. Check `isinstance(dtype, pd.SparseDtype)` instead.\n",
      "  if is_sparse(pd_dtype):\n",
      "c:\\Users\\admin\\anaconda3\\lib\\site-packages\\sklearn\\utils\\validation.py:614: FutureWarning: is_sparse is deprecated and will be removed in a future version. Check `isinstance(dtype, pd.SparseDtype)` instead.\n",
      "  if is_sparse(pd_dtype) or not is_extension_array_dtype(pd_dtype):\n"
     ]
    }
   ],
   "source": [
    "scaler = StandardScaler().fit(USArrests)\n",
    "US_scaled = scaler.transform(USArrests)"
   ]
  },
  {
   "cell_type": "code",
   "execution_count": 5,
   "id": "11425588",
   "metadata": {},
   "outputs": [
    {
     "data": {
      "text/html": [
       "<style>#sk-container-id-1 {color: black;background-color: white;}#sk-container-id-1 pre{padding: 0;}#sk-container-id-1 div.sk-toggleable {background-color: white;}#sk-container-id-1 label.sk-toggleable__label {cursor: pointer;display: block;width: 100%;margin-bottom: 0;padding: 0.3em;box-sizing: border-box;text-align: center;}#sk-container-id-1 label.sk-toggleable__label-arrow:before {content: \"▸\";float: left;margin-right: 0.25em;color: #696969;}#sk-container-id-1 label.sk-toggleable__label-arrow:hover:before {color: black;}#sk-container-id-1 div.sk-estimator:hover label.sk-toggleable__label-arrow:before {color: black;}#sk-container-id-1 div.sk-toggleable__content {max-height: 0;max-width: 0;overflow: hidden;text-align: left;background-color: #f0f8ff;}#sk-container-id-1 div.sk-toggleable__content pre {margin: 0.2em;color: black;border-radius: 0.25em;background-color: #f0f8ff;}#sk-container-id-1 input.sk-toggleable__control:checked~div.sk-toggleable__content {max-height: 200px;max-width: 100%;overflow: auto;}#sk-container-id-1 input.sk-toggleable__control:checked~label.sk-toggleable__label-arrow:before {content: \"▾\";}#sk-container-id-1 div.sk-estimator input.sk-toggleable__control:checked~label.sk-toggleable__label {background-color: #d4ebff;}#sk-container-id-1 div.sk-label input.sk-toggleable__control:checked~label.sk-toggleable__label {background-color: #d4ebff;}#sk-container-id-1 input.sk-hidden--visually {border: 0;clip: rect(1px 1px 1px 1px);clip: rect(1px, 1px, 1px, 1px);height: 1px;margin: -1px;overflow: hidden;padding: 0;position: absolute;width: 1px;}#sk-container-id-1 div.sk-estimator {font-family: monospace;background-color: #f0f8ff;border: 1px dotted black;border-radius: 0.25em;box-sizing: border-box;margin-bottom: 0.5em;}#sk-container-id-1 div.sk-estimator:hover {background-color: #d4ebff;}#sk-container-id-1 div.sk-parallel-item::after {content: \"\";width: 100%;border-bottom: 1px solid gray;flex-grow: 1;}#sk-container-id-1 div.sk-label:hover label.sk-toggleable__label {background-color: #d4ebff;}#sk-container-id-1 div.sk-serial::before {content: \"\";position: absolute;border-left: 1px solid gray;box-sizing: border-box;top: 0;bottom: 0;left: 50%;z-index: 0;}#sk-container-id-1 div.sk-serial {display: flex;flex-direction: column;align-items: center;background-color: white;padding-right: 0.2em;padding-left: 0.2em;position: relative;}#sk-container-id-1 div.sk-item {position: relative;z-index: 1;}#sk-container-id-1 div.sk-parallel {display: flex;align-items: stretch;justify-content: center;background-color: white;position: relative;}#sk-container-id-1 div.sk-item::before, #sk-container-id-1 div.sk-parallel-item::before {content: \"\";position: absolute;border-left: 1px solid gray;box-sizing: border-box;top: 0;bottom: 0;left: 50%;z-index: -1;}#sk-container-id-1 div.sk-parallel-item {display: flex;flex-direction: column;z-index: 1;position: relative;background-color: white;}#sk-container-id-1 div.sk-parallel-item:first-child::after {align-self: flex-end;width: 50%;}#sk-container-id-1 div.sk-parallel-item:last-child::after {align-self: flex-start;width: 50%;}#sk-container-id-1 div.sk-parallel-item:only-child::after {width: 0;}#sk-container-id-1 div.sk-dashed-wrapped {border: 1px dashed gray;margin: 0 0.4em 0.5em 0.4em;box-sizing: border-box;padding-bottom: 0.4em;background-color: white;}#sk-container-id-1 div.sk-label label {font-family: monospace;font-weight: bold;display: inline-block;line-height: 1.2em;}#sk-container-id-1 div.sk-label-container {text-align: center;}#sk-container-id-1 div.sk-container {/* jupyter's `normalize.less` sets `[hidden] { display: none; }` but bootstrap.min.css set `[hidden] { display: none !important; }` so we also need the `!important` here to be able to override the default hidden behavior on the sphinx rendered scikit-learn.org. See: https://github.com/scikit-learn/scikit-learn/issues/21755 */display: inline-block !important;position: relative;}#sk-container-id-1 div.sk-text-repr-fallback {display: none;}</style><div id=\"sk-container-id-1\" class=\"sk-top-container\"><div class=\"sk-text-repr-fallback\"><pre>PCA()</pre><b>In a Jupyter environment, please rerun this cell to show the HTML representation or trust the notebook. <br />On GitHub, the HTML representation is unable to render, please try loading this page with nbviewer.org.</b></div><div class=\"sk-container\" hidden><div class=\"sk-item\"><div class=\"sk-estimator sk-toggleable\"><input class=\"sk-toggleable__control sk-hidden--visually\" id=\"sk-estimator-id-1\" type=\"checkbox\" checked><label for=\"sk-estimator-id-1\" class=\"sk-toggleable__label sk-toggleable__label-arrow\">PCA</label><div class=\"sk-toggleable__content\"><pre>PCA()</pre></div></div></div></div></div>"
      ],
      "text/plain": [
       "PCA()"
      ]
     },
     "execution_count": 5,
     "metadata": {},
     "output_type": "execute_result"
    }
   ],
   "source": [
    "pcaUS = PCA()\n",
    "pcaUS.fit(US_scaled)"
   ]
  },
  {
   "cell_type": "code",
   "execution_count": 6,
   "id": "30494c45",
   "metadata": {},
   "outputs": [
    {
     "data": {
      "text/plain": [
       "array([-7.10542736e-17,  1.38777878e-16, -4.39648318e-16,  8.59312621e-16])"
      ]
     },
     "execution_count": 6,
     "metadata": {},
     "output_type": "execute_result"
    }
   ],
   "source": [
    "pcaUS.mean_"
   ]
  },
  {
   "cell_type": "code",
   "execution_count": 7,
   "id": "8b96dab2",
   "metadata": {},
   "outputs": [
    {
     "data": {
      "text/plain": [
       "array([[ 9.85565885e-01,  1.13339238e+00, -4.44268788e-01,\n",
       "         1.56267145e-01],\n",
       "       [ 1.95013775e+00,  1.07321326e+00,  2.04000333e+00,\n",
       "        -4.38583440e-01],\n",
       "       [ 1.76316354e+00, -7.45956781e-01,  5.47808243e-02,\n",
       "        -8.34652924e-01],\n",
       "       [-1.41420290e-01,  1.11979678e+00,  1.14573692e-01,\n",
       "        -1.82810896e-01],\n",
       "       [ 2.52398013e+00, -1.54293399e+00,  5.98556799e-01,\n",
       "        -3.41996478e-01],\n",
       "       [ 1.51456286e+00, -9.87555085e-01,  1.09500699e+00,\n",
       "         1.46488703e-03],\n",
       "       [-1.35864746e+00, -1.08892789e+00, -6.43257569e-01,\n",
       "        -1.18469414e-01],\n",
       "       [ 4.77093091e-02, -3.25358925e-01, -7.18632942e-01,\n",
       "        -8.81977637e-01],\n",
       "       [ 3.01304227e+00,  3.92285133e-02, -5.76829492e-01,\n",
       "        -9.62847520e-02],\n",
       "       [ 1.63928304e+00,  1.27894240e+00, -3.42460080e-01,\n",
       "         1.07679681e+00],\n",
       "       [-9.12657146e-01, -1.57046001e+00,  5.07818939e-02,\n",
       "         9.02806864e-01],\n",
       "       [-1.63979985e+00,  2.10972917e-01,  2.59801342e-01,\n",
       "        -4.99104101e-01],\n",
       "       [ 1.37891072e+00, -6.81841189e-01, -6.77495641e-01,\n",
       "        -1.22021292e-01],\n",
       "       [-5.05461361e-01, -1.51562542e-01,  2.28054838e-01,\n",
       "         4.24665700e-01],\n",
       "       [-2.25364607e+00, -1.04054073e-01,  1.64564315e-01,\n",
       "         1.75559157e-02],\n",
       "       [-7.96881121e-01, -2.70164705e-01,  2.55533072e-02,\n",
       "         2.06496428e-01],\n",
       "       [-7.50859074e-01,  9.58440286e-01, -2.83694170e-02,\n",
       "         6.70556671e-01],\n",
       "       [ 1.56481798e+00,  8.71054655e-01, -7.83480358e-01,\n",
       "         4.54728038e-01],\n",
       "       [-2.39682949e+00,  3.76391576e-01, -6.56823864e-02,\n",
       "        -3.30459817e-01],\n",
       "       [ 1.76336939e+00,  4.27655192e-01, -1.57250127e-01,\n",
       "        -5.59069521e-01],\n",
       "       [-4.86166287e-01, -1.47449650e+00, -6.09497476e-01,\n",
       "        -1.79598963e-01],\n",
       "       [ 2.10844115e+00, -1.55396819e-01,  3.84868584e-01,\n",
       "         1.02372019e-01],\n",
       "       [-1.69268181e+00, -6.32261251e-01,  1.53070434e-01,\n",
       "         6.73168850e-02],\n",
       "       [ 9.96494459e-01,  2.39379599e+00, -7.40808395e-01,\n",
       "         2.15508013e-01],\n",
       "       [ 6.96787329e-01, -2.63354790e-01,  3.77443827e-01,\n",
       "         2.25824461e-01],\n",
       "       [-1.18545191e+00,  5.36874372e-01,  2.46889321e-01,\n",
       "         1.23742227e-01],\n",
       "       [-1.26563654e+00, -1.93953730e-01,  1.75573906e-01,\n",
       "         1.58928878e-02],\n",
       "       [ 2.87439454e+00, -7.75600196e-01,  1.16338049e+00,\n",
       "         3.14515476e-01],\n",
       "       [-2.38391541e+00, -1.80822897e-02,  3.68553932e-02,\n",
       "        -3.31373376e-02],\n",
       "       [ 1.81566110e-01, -1.44950571e+00, -7.64453551e-01,\n",
       "         2.43382700e-01],\n",
       "       [ 1.98002375e+00,  1.42848780e-01,  1.83692180e-01,\n",
       "        -3.39533597e-01],\n",
       "       [ 1.68257738e+00, -8.23184142e-01, -6.43075093e-01,\n",
       "        -1.34843689e-02],\n",
       "       [ 1.12337861e+00,  2.22800338e+00, -8.63571788e-01,\n",
       "        -9.54381667e-01],\n",
       "       [-2.99222562e+00,  5.99118824e-01,  3.01277285e-01,\n",
       "        -2.53987327e-01],\n",
       "       [-2.25965422e-01, -7.42238237e-01, -3.11391215e-02,\n",
       "         4.73915911e-01],\n",
       "       [-3.11782855e-01, -2.87854206e-01, -1.53097922e-02,\n",
       "         1.03323208e-02],\n",
       "       [ 5.91220768e-02, -5.41411454e-01,  9.39832977e-01,\n",
       "        -2.37780688e-01],\n",
       "       [-8.88415824e-01, -5.71100352e-01, -4.00628706e-01,\n",
       "         3.59061124e-01],\n",
       "       [-8.63772064e-01, -1.49197842e+00, -1.36994570e+00,\n",
       "        -6.13569430e-01],\n",
       "       [ 1.32072380e+00,  1.93340466e+00, -3.00537790e-01,\n",
       "        -1.31466685e-01],\n",
       "       [-1.98777484e+00,  8.23343241e-01,  3.89293329e-01,\n",
       "        -1.09571764e-01],\n",
       "       [ 9.99741684e-01,  8.60251305e-01,  1.88082949e-01,\n",
       "         6.52864291e-01],\n",
       "       [ 1.35513821e+00, -4.12480819e-01, -4.92068858e-01,\n",
       "         6.43195491e-01],\n",
       "       [-5.50565262e-01, -1.47150461e+00,  2.93728037e-01,\n",
       "        -8.23140470e-02],\n",
       "       [-2.80141174e+00,  1.40228806e+00,  8.41263094e-01,\n",
       "        -1.44889914e-01],\n",
       "       [-9.63349112e-02,  1.99735289e-01,  1.17125418e-02,\n",
       "         2.11370813e-01],\n",
       "       [-2.16903379e-01, -9.70124183e-01,  6.24870938e-01,\n",
       "        -2.20847793e-01],\n",
       "       [-2.10858541e+00,  1.42484670e+00,  1.04774671e-01,\n",
       "         1.31908831e-01],\n",
       "       [-2.07971417e+00, -6.11268624e-01, -1.38864998e-01,\n",
       "         1.84103743e-01],\n",
       "       [-6.29426664e-01,  3.21012967e-01, -2.40659234e-01,\n",
       "        -1.66651801e-01]])"
      ]
     },
     "execution_count": 7,
     "metadata": {},
     "output_type": "execute_result"
    }
   ],
   "source": [
    "scores = pcaUS.transform(US_scaled)\n",
    "scores"
   ]
  },
  {
   "cell_type": "code",
   "execution_count": 8,
   "id": "a1b353de",
   "metadata": {},
   "outputs": [
    {
     "data": {
      "text/plain": [
       "array([[ 0.53589947,  0.58318363,  0.27819087,  0.54343209],\n",
       "       [ 0.41818087,  0.1879856 , -0.87280619, -0.16731864],\n",
       "       [-0.34123273, -0.26814843, -0.37801579,  0.81777791],\n",
       "       [ 0.6492278 , -0.74340748,  0.13387773,  0.08902432]])"
      ]
     },
     "execution_count": 8,
     "metadata": {},
     "output_type": "execute_result"
    }
   ],
   "source": [
    "pcaUS.components_"
   ]
  },
  {
   "cell_type": "code",
   "execution_count": 9,
   "id": "96263b91",
   "metadata": {},
   "outputs": [
    {
     "data": {
      "text/plain": [
       "array([1.5908673 , 1.00496987, 0.6031915 , 0.4206774 ])"
      ]
     },
     "execution_count": 9,
     "metadata": {},
     "output_type": "execute_result"
    }
   ],
   "source": [
    "scores.std(0, ddof=1)"
   ]
  },
  {
   "cell_type": "code",
   "execution_count": 10,
   "id": "c10091e5",
   "metadata": {},
   "outputs": [
    {
     "data": {
      "text/plain": [
       "(array([2.53085875, 1.00996444, 0.36383998, 0.17696948]),\n",
       " array([0.62006039, 0.24744129, 0.0891408 , 0.04335752]))"
      ]
     },
     "execution_count": 10,
     "metadata": {},
     "output_type": "execute_result"
    }
   ],
   "source": [
    "pcaUS.explained_variance_, pcaUS.explained_variance_ratio_"
   ]
  },
  {
   "cell_type": "code",
   "execution_count": 11,
   "id": "0aa090b4",
   "metadata": {},
   "outputs": [
    {
     "data": {
      "text/plain": [
       "[<matplotlib.lines.Line2D at 0x18c72c7be80>]"
      ]
     },
     "execution_count": 11,
     "metadata": {},
     "output_type": "execute_result"
    },
    {
     "data": {
      "image/png": "[encoded data removed]",
      "text/plain": [
       "<Figure size 1008x432 with 2 Axes>"
      ]
     },
     "metadata": {
      "needs_background": "light"
     },
     "output_type": "display_data"
    }
   ],
   "source": [
    "fig, axs = plt.subplots(1, 2, figsize=(14, 6))\n",
    "ticks = np.arange(pcaUS.n_components_) + 1\n",
    "ax = axs[0]\n",
    "ax.plot(ticks, pcaUS.explained_variance_ratio_, marker='o')\n",
    "ax2 = axs[1]\n",
    "ax2.plot(ticks, pcaUS.explained_variance_ratio_.cumsum(), marker='o')"
   ]
  },
  {
   "cell_type": "code",
   "execution_count": 12,
   "id": "97fc5409",
   "metadata": {},
   "outputs": [
    {
     "data": {
      "text/plain": [
       "((50, 4), (4,), (4, 4))"
      ]
     },
     "execution_count": 12,
     "metadata": {},
     "output_type": "execute_result"
    }
   ],
   "source": [
    "X = US_scaled\n",
    "U, D, V = np.linalg.svd(X, full_matrices=False)\n",
    "U.shape, D.shape, V.shape"
   ]
  },
  {
   "cell_type": "code",
   "execution_count": 13,
   "id": "3ca3f881",
   "metadata": {},
   "outputs": [
    {
     "data": {
      "text/plain": [
       "(array([[-0.53589947, -0.58318363, -0.27819087, -0.54343209],\n",
       "        [ 0.41818087,  0.1879856 , -0.87280619, -0.16731864],\n",
       "        [-0.34123273, -0.26814843, -0.37801579,  0.81777791],\n",
       "        [ 0.6492278 , -0.74340748,  0.13387773,  0.08902432]]),\n",
       " array([[ 0.53589947,  0.58318363,  0.27819087,  0.54343209],\n",
       "        [ 0.41818087,  0.1879856 , -0.87280619, -0.16731864],\n",
       "        [-0.34123273, -0.26814843, -0.37801579,  0.81777791],\n",
       "        [ 0.6492278 , -0.74340748,  0.13387773,  0.08902432]]))"
      ]
     },
     "execution_count": 13,
     "metadata": {},
     "output_type": "execute_result"
    }
   ],
   "source": [
    "V, pcaUS.components_"
   ]
  },
  {
   "cell_type": "code",
   "execution_count": 14,
   "id": "a93017bb",
   "metadata": {},
   "outputs": [
    {
     "data": {
      "text/plain": [
       "(array([[-0.98556588,  1.13339238, -0.44426879,  0.15626714],\n",
       "        [-1.95013775,  1.07321326,  2.04000333, -0.43858344],\n",
       "        [-1.76316354, -0.74595678,  0.05478082, -0.83465292],\n",
       "        [ 0.14142029,  1.11979678,  0.11457369, -0.1828109 ]]),\n",
       " array([[ 0.98556588,  1.13339238, -0.44426879,  0.15626714],\n",
       "        [ 1.95013775,  1.07321326,  2.04000333, -0.43858344],\n",
       "        [ 1.76316354, -0.74595678,  0.05478082, -0.83465292],\n",
       "        [-0.14142029,  1.11979678,  0.11457369, -0.1828109 ]]))"
      ]
     },
     "execution_count": 14,
     "metadata": {},
     "output_type": "execute_result"
    }
   ],
   "source": [
    "(U * D[None, :])[:4], scores[:4]"
   ]
  },
  {
   "cell_type": "code",
   "execution_count": 15,
   "id": "efc507c7",
   "metadata": {},
   "outputs": [],
   "source": [
    "n_omit = 20\n",
    "np.random.seed(15)\n",
    "r_idx = np.random.choice(np.arange(X.shape[0]), n_omit, replace=False)\n",
    "c_idx = np.random.choice(np.arange(X.shape[1]), n_omit, replace=True)\n",
    "Xna = X.copy()\n",
    "Xna[r_idx, c_idx] = np.nan"
   ]
  },
  {
   "cell_type": "code",
   "execution_count": 16,
   "id": "b4a94fda",
   "metadata": {},
   "outputs": [],
   "source": [
    "def low_rank(X, M=1):\n",
    "    U, D, V = np.linalg.svd(X)\n",
    "    L = U[:, :M] * D[None, :M]\n",
    "    return L.dot(V[:M])"
   ]
  },
  {
   "cell_type": "code",
   "execution_count": 17,
   "id": "adf2fc87",
   "metadata": {},
   "outputs": [],
   "source": [
    "Xhat = Xna.copy()\n",
    "Xbar = np.nanmean(Xhat, axis=0)\n",
    "Xhat[r_idx, c_idx] = Xbar[c_idx]"
   ]
  },
  {
   "cell_type": "code",
   "execution_count": 18,
   "id": "c53d35b9",
   "metadata": {},
   "outputs": [],
   "source": [
    "thr = 1e-7\n",
    "rel_err = 1\n",
    "count = 0\n",
    "ismiss = np.isnan(Xna)\n",
    "mssold = np.mean(Xhat[~ismiss]**2)\n",
    "mss0 = np.mean(Xna[~ismiss]**2)"
   ]
  },
  {
   "cell_type": "code",
   "execution_count": 19,
   "id": "a5718f4f",
   "metadata": {},
   "outputs": [
    {
     "name": "stdout",
     "output_type": "stream",
     "text": [
      "Iteration: 1, MSS:0.395, Rel.Err 5.99e-01\n",
      "Iteration: 2, MSS:0.382, Rel.Err 1.33e-02\n",
      "Iteration: 3, MSS:0.381, Rel.Err 1.44e-03\n",
      "Iteration: 4, MSS:0.381, Rel.Err 1.79e-04\n",
      "Iteration: 5, MSS:0.381, Rel.Err 2.58e-05\n",
      "Iteration: 6, MSS:0.381, Rel.Err 4.22e-06\n",
      "Iteration: 7, MSS:0.381, Rel.Err 7.65e-07\n",
      "Iteration: 8, MSS:0.381, Rel.Err 1.48e-07\n",
      "Iteration: 9, MSS:0.381, Rel.Err 2.95e-08\n"
     ]
    }
   ],
   "source": [
    "while rel_err > thr:\n",
    "    count += 1\n",
    "    Xapp = low_rank(Xhat, M=1)\n",
    "    Xhat[ismiss] = Xapp[ismiss]\n",
    "    mss = np.mean(((Xna - Xapp)[~ismiss])**2)\n",
    "    rel_err = (mssold - mss) / mss0\n",
    "    mssold = mss\n",
    "    print(f'Iteration: {count}, MSS:{mss:.3f}, Rel.Err {rel_err:.2e}')"
   ]
  },
  {
   "cell_type": "code",
   "execution_count": 20,
   "id": "8274eb8b",
   "metadata": {},
   "outputs": [
    {
     "data": {
      "text/plain": [
       "array([[1.        , 0.71135674],\n",
       "       [0.71135674, 1.        ]])"
      ]
     },
     "execution_count": 20,
     "metadata": {},
     "output_type": "execute_result"
    }
   ],
   "source": [
    "np.corrcoef(Xapp[ismiss], X[ismiss])"
   ]
  },
  {
   "cell_type": "code",
   "execution_count": 21,
   "id": "5fbfb950",
   "metadata": {},
   "outputs": [],
   "source": [
    "np.random.seed(0)\n",
    "X = np.random.standard_normal((50, 2))\n",
    "X[:25, 0] += 3\n",
    "X[:25, 1] -= 4"
   ]
  },
  {
   "cell_type": "code",
   "execution_count": 22,
   "id": "4a96af14",
   "metadata": {},
   "outputs": [
    {
     "data": {
      "text/plain": [
       "array([1, 1, 1, 1, 1, 1, 1, 1, 1, 1, 1, 1, 1, 1, 1, 1, 1, 1, 1, 1, 1, 0,\n",
       "       1, 1, 1, 0, 0, 0, 0, 0, 0, 0, 0, 0, 0, 0, 0, 0, 0, 0, 0, 0, 0, 0,\n",
       "       0, 0, 0, 0, 0, 0])"
      ]
     },
     "execution_count": 22,
     "metadata": {},
     "output_type": "execute_result"
    }
   ],
   "source": [
    "kmeans = KMeans(n_clusters=2, random_state=2, n_init=20).fit(X)\n",
    "kmeans.labels_"
   ]
  },
  {
   "cell_type": "code",
   "execution_count": 23,
   "id": "dbfc950f",
   "metadata": {},
   "outputs": [
    {
     "data": {
      "text/html": [
       "<style>#sk-container-id-2 {color: black;background-color: white;}#sk-container-id-2 pre{padding: 0;}#sk-container-id-2 div.sk-toggleable {background-color: white;}#sk-container-id-2 label.sk-toggleable__label {cursor: pointer;display: block;width: 100%;margin-bottom: 0;padding: 0.3em;box-sizing: border-box;text-align: center;}#sk-container-id-2 label.sk-toggleable__label-arrow:before {content: \"▸\";float: left;margin-right: 0.25em;color: #696969;}#sk-container-id-2 label.sk-toggleable__label-arrow:hover:before {color: black;}#sk-container-id-2 div.sk-estimator:hover label.sk-toggleable__label-arrow:before {color: black;}#sk-container-id-2 div.sk-toggleable__content {max-height: 0;max-width: 0;overflow: hidden;text-align: left;background-color: #f0f8ff;}#sk-container-id-2 div.sk-toggleable__content pre {margin: 0.2em;color: black;border-radius: 0.25em;background-color: #f0f8ff;}#sk-container-id-2 input.sk-toggleable__control:checked~div.sk-toggleable__content {max-height: 200px;max-width: 100%;overflow: auto;}#sk-container-id-2 input.sk-toggleable__control:checked~label.sk-toggleable__label-arrow:before {content: \"▾\";}#sk-container-id-2 div.sk-estimator input.sk-toggleable__control:checked~label.sk-toggleable__label {background-color: #d4ebff;}#sk-container-id-2 div.sk-label input.sk-toggleable__control:checked~label.sk-toggleable__label {background-color: #d4ebff;}#sk-container-id-2 input.sk-hidden--visually {border: 0;clip: rect(1px 1px 1px 1px);clip: rect(1px, 1px, 1px, 1px);height: 1px;margin: -1px;overflow: hidden;padding: 0;position: absolute;width: 1px;}#sk-container-id-2 div.sk-estimator {font-family: monospace;background-color: #f0f8ff;border: 1px dotted black;border-radius: 0.25em;box-sizing: border-box;margin-bottom: 0.5em;}#sk-container-id-2 div.sk-estimator:hover {background-color: #d4ebff;}#sk-container-id-2 div.sk-parallel-item::after {content: \"\";width: 100%;border-bottom: 1px solid gray;flex-grow: 1;}#sk-container-id-2 div.sk-label:hover label.sk-toggleable__label {background-color: #d4ebff;}#sk-container-id-2 div.sk-serial::before {content: \"\";position: absolute;border-left: 1px solid gray;box-sizing: border-box;top: 0;bottom: 0;left: 50%;z-index: 0;}#sk-container-id-2 div.sk-serial {display: flex;flex-direction: column;align-items: center;background-color: white;padding-right: 0.2em;padding-left: 0.2em;position: relative;}#sk-container-id-2 div.sk-item {position: relative;z-index: 1;}#sk-container-id-2 div.sk-parallel {display: flex;align-items: stretch;justify-content: center;background-color: white;position: relative;}#sk-container-id-2 div.sk-item::before, #sk-container-id-2 div.sk-parallel-item::before {content: \"\";position: absolute;border-left: 1px solid gray;box-sizing: border-box;top: 0;bottom: 0;left: 50%;z-index: -1;}#sk-container-id-2 div.sk-parallel-item {display: flex;flex-direction: column;z-index: 1;position: relative;background-color: white;}#sk-container-id-2 div.sk-parallel-item:first-child::after {align-self: flex-end;width: 50%;}#sk-container-id-2 div.sk-parallel-item:last-child::after {align-self: flex-start;width: 50%;}#sk-container-id-2 div.sk-parallel-item:only-child::after {width: 0;}#sk-container-id-2 div.sk-dashed-wrapped {border: 1px dashed gray;margin: 0 0.4em 0.5em 0.4em;box-sizing: border-box;padding-bottom: 0.4em;background-color: white;}#sk-container-id-2 div.sk-label label {font-family: monospace;font-weight: bold;display: inline-block;line-height: 1.2em;}#sk-container-id-2 div.sk-label-container {text-align: center;}#sk-container-id-2 div.sk-container {/* jupyter's `normalize.less` sets `[hidden] { display: none; }` but bootstrap.min.css set `[hidden] { display: none !important; }` so we also need the `!important` here to be able to override the default hidden behavior on the sphinx rendered scikit-learn.org. See: https://github.com/scikit-learn/scikit-learn/issues/21755 */display: inline-block !important;position: relative;}#sk-container-id-2 div.sk-text-repr-fallback {display: none;}</style><div id=\"sk-container-id-2\" class=\"sk-top-container\"><div class=\"sk-text-repr-fallback\"><pre>AgglomerativeClustering(distance_threshold=0, linkage=&#x27;complete&#x27;,\n",
       "                        n_clusters=None)</pre><b>In a Jupyter environment, please rerun this cell to show the HTML representation or trust the notebook. <br />On GitHub, the HTML representation is unable to render, please try loading this page with nbviewer.org.</b></div><div class=\"sk-container\" hidden><div class=\"sk-item\"><div class=\"sk-estimator sk-toggleable\"><input class=\"sk-toggleable__control sk-hidden--visually\" id=\"sk-estimator-id-2\" type=\"checkbox\" checked><label for=\"sk-estimator-id-2\" class=\"sk-toggleable__label sk-toggleable__label-arrow\">AgglomerativeClustering</label><div class=\"sk-toggleable__content\"><pre>AgglomerativeClustering(distance_threshold=0, linkage=&#x27;complete&#x27;,\n",
       "                        n_clusters=None)</pre></div></div></div></div></div>"
      ],
      "text/plain": [
       "AgglomerativeClustering(distance_threshold=0, linkage='complete',\n",
       "                        n_clusters=None)"
      ]
     },
     "execution_count": 23,
     "metadata": {},
     "output_type": "execute_result"
    }
   ],
   "source": [
    "hc_comp = HClust(distance_threshold=0, n_clusters=None, linkage='complete')\n",
    "hc_comp.fit(X)"
   ]
  },
  {
   "cell_type": "code",
   "execution_count": 24,
   "id": "5a2e0de2",
   "metadata": {},
   "outputs": [
    {
     "data": {
      "text/html": [
       "<style>#sk-container-id-3 {color: black;background-color: white;}#sk-container-id-3 pre{padding: 0;}#sk-container-id-3 div.sk-toggleable {background-color: white;}#sk-container-id-3 label.sk-toggleable__label {cursor: pointer;display: block;width: 100%;margin-bottom: 0;padding: 0.3em;box-sizing: border-box;text-align: center;}#sk-container-id-3 label.sk-toggleable__label-arrow:before {content: \"▸\";float: left;margin-right: 0.25em;color: #696969;}#sk-container-id-3 label.sk-toggleable__label-arrow:hover:before {color: black;}#sk-container-id-3 div.sk-estimator:hover label.sk-toggleable__label-arrow:before {color: black;}#sk-container-id-3 div.sk-toggleable__content {max-height: 0;max-width: 0;overflow: hidden;text-align: left;background-color: #f0f8ff;}#sk-container-id-3 div.sk-toggleable__content pre {margin: 0.2em;color: black;border-radius: 0.25em;background-color: #f0f8ff;}#sk-container-id-3 input.sk-toggleable__control:checked~div.sk-toggleable__content {max-height: 200px;max-width: 100%;overflow: auto;}#sk-container-id-3 input.sk-toggleable__control:checked~label.sk-toggleable__label-arrow:before {content: \"▾\";}#sk-container-id-3 div.sk-estimator input.sk-toggleable__control:checked~label.sk-toggleable__label {background-color: #d4ebff;}#sk-container-id-3 div.sk-label input.sk-toggleable__control:checked~label.sk-toggleable__label {background-color: #d4ebff;}#sk-container-id-3 input.sk-hidden--visually {border: 0;clip: rect(1px 1px 1px 1px);clip: rect(1px, 1px, 1px, 1px);height: 1px;margin: -1px;overflow: hidden;padding: 0;position: absolute;width: 1px;}#sk-container-id-3 div.sk-estimator {font-family: monospace;background-color: #f0f8ff;border: 1px dotted black;border-radius: 0.25em;box-sizing: border-box;margin-bottom: 0.5em;}#sk-container-id-3 div.sk-estimator:hover {background-color: #d4ebff;}#sk-container-id-3 div.sk-parallel-item::after {content: \"\";width: 100%;border-bottom: 1px solid gray;flex-grow: 1;}#sk-container-id-3 div.sk-label:hover label.sk-toggleable__label {background-color: #d4ebff;}#sk-container-id-3 div.sk-serial::before {content: \"\";position: absolute;border-left: 1px solid gray;box-sizing: border-box;top: 0;bottom: 0;left: 50%;z-index: 0;}#sk-container-id-3 div.sk-serial {display: flex;flex-direction: column;align-items: center;background-color: white;padding-right: 0.2em;padding-left: 0.2em;position: relative;}#sk-container-id-3 div.sk-item {position: relative;z-index: 1;}#sk-container-id-3 div.sk-parallel {display: flex;align-items: stretch;justify-content: center;background-color: white;position: relative;}#sk-container-id-3 div.sk-item::before, #sk-container-id-3 div.sk-parallel-item::before {content: \"\";position: absolute;border-left: 1px solid gray;box-sizing: border-box;top: 0;bottom: 0;left: 50%;z-index: -1;}#sk-container-id-3 div.sk-parallel-item {display: flex;flex-direction: column;z-index: 1;position: relative;background-color: white;}#sk-container-id-3 div.sk-parallel-item:first-child::after {align-self: flex-end;width: 50%;}#sk-container-id-3 div.sk-parallel-item:last-child::after {align-self: flex-start;width: 50%;}#sk-container-id-3 div.sk-parallel-item:only-child::after {width: 0;}#sk-container-id-3 div.sk-dashed-wrapped {border: 1px dashed gray;margin: 0 0.4em 0.5em 0.4em;box-sizing: border-box;padding-bottom: 0.4em;background-color: white;}#sk-container-id-3 div.sk-label label {font-family: monospace;font-weight: bold;display: inline-block;line-height: 1.2em;}#sk-container-id-3 div.sk-label-container {text-align: center;}#sk-container-id-3 div.sk-container {/* jupyter's `normalize.less` sets `[hidden] { display: none; }` but bootstrap.min.css set `[hidden] { display: none !important; }` so we also need the `!important` here to be able to override the default hidden behavior on the sphinx rendered scikit-learn.org. See: https://github.com/scikit-learn/scikit-learn/issues/21755 */display: inline-block !important;position: relative;}#sk-container-id-3 div.sk-text-repr-fallback {display: none;}</style><div id=\"sk-container-id-3\" class=\"sk-top-container\"><div class=\"sk-text-repr-fallback\"><pre>AgglomerativeClustering(distance_threshold=0, linkage=&#x27;average&#x27;,\n",
       "                        n_clusters=None)</pre><b>In a Jupyter environment, please rerun this cell to show the HTML representation or trust the notebook. <br />On GitHub, the HTML representation is unable to render, please try loading this page with nbviewer.org.</b></div><div class=\"sk-container\" hidden><div class=\"sk-item\"><div class=\"sk-estimator sk-toggleable\"><input class=\"sk-toggleable__control sk-hidden--visually\" id=\"sk-estimator-id-3\" type=\"checkbox\" checked><label for=\"sk-estimator-id-3\" class=\"sk-toggleable__label sk-toggleable__label-arrow\">AgglomerativeClustering</label><div class=\"sk-toggleable__content\"><pre>AgglomerativeClustering(distance_threshold=0, linkage=&#x27;average&#x27;,\n",
       "                        n_clusters=None)</pre></div></div></div></div></div>"
      ],
      "text/plain": [
       "AgglomerativeClustering(distance_threshold=0, linkage='average',\n",
       "                        n_clusters=None)"
      ]
     },
     "execution_count": 24,
     "metadata": {},
     "output_type": "execute_result"
    }
   ],
   "source": [
    "hc_avg = HClust(distance_threshold=0, n_clusters=None, linkage='average')\n",
    "hc_avg.fit(X)"
   ]
  },
  {
   "cell_type": "code",
   "execution_count": 25,
   "id": "3693eaac",
   "metadata": {},
   "outputs": [
    {
     "data": {
      "text/html": [
       "<style>#sk-container-id-4 {color: black;background-color: white;}#sk-container-id-4 pre{padding: 0;}#sk-container-id-4 div.sk-toggleable {background-color: white;}#sk-container-id-4 label.sk-toggleable__label {cursor: pointer;display: block;width: 100%;margin-bottom: 0;padding: 0.3em;box-sizing: border-box;text-align: center;}#sk-container-id-4 label.sk-toggleable__label-arrow:before {content: \"▸\";float: left;margin-right: 0.25em;color: #696969;}#sk-container-id-4 label.sk-toggleable__label-arrow:hover:before {color: black;}#sk-container-id-4 div.sk-estimator:hover label.sk-toggleable__label-arrow:before {color: black;}#sk-container-id-4 div.sk-toggleable__content {max-height: 0;max-width: 0;overflow: hidden;text-align: left;background-color: #f0f8ff;}#sk-container-id-4 div.sk-toggleable__content pre {margin: 0.2em;color: black;border-radius: 0.25em;background-color: #f0f8ff;}#sk-container-id-4 input.sk-toggleable__control:checked~div.sk-toggleable__content {max-height: 200px;max-width: 100%;overflow: auto;}#sk-container-id-4 input.sk-toggleable__control:checked~label.sk-toggleable__label-arrow:before {content: \"▾\";}#sk-container-id-4 div.sk-estimator input.sk-toggleable__control:checked~label.sk-toggleable__label {background-color: #d4ebff;}#sk-container-id-4 div.sk-label input.sk-toggleable__control:checked~label.sk-toggleable__label {background-color: #d4ebff;}#sk-container-id-4 input.sk-hidden--visually {border: 0;clip: rect(1px 1px 1px 1px);clip: rect(1px, 1px, 1px, 1px);height: 1px;margin: -1px;overflow: hidden;padding: 0;position: absolute;width: 1px;}#sk-container-id-4 div.sk-estimator {font-family: monospace;background-color: #f0f8ff;border: 1px dotted black;border-radius: 0.25em;box-sizing: border-box;margin-bottom: 0.5em;}#sk-container-id-4 div.sk-estimator:hover {background-color: #d4ebff;}#sk-container-id-4 div.sk-parallel-item::after {content: \"\";width: 100%;border-bottom: 1px solid gray;flex-grow: 1;}#sk-container-id-4 div.sk-label:hover label.sk-toggleable__label {background-color: #d4ebff;}#sk-container-id-4 div.sk-serial::before {content: \"\";position: absolute;border-left: 1px solid gray;box-sizing: border-box;top: 0;bottom: 0;left: 50%;z-index: 0;}#sk-container-id-4 div.sk-serial {display: flex;flex-direction: column;align-items: center;background-color: white;padding-right: 0.2em;padding-left: 0.2em;position: relative;}#sk-container-id-4 div.sk-item {position: relative;z-index: 1;}#sk-container-id-4 div.sk-parallel {display: flex;align-items: stretch;justify-content: center;background-color: white;position: relative;}#sk-container-id-4 div.sk-item::before, #sk-container-id-4 div.sk-parallel-item::before {content: \"\";position: absolute;border-left: 1px solid gray;box-sizing: border-box;top: 0;bottom: 0;left: 50%;z-index: -1;}#sk-container-id-4 div.sk-parallel-item {display: flex;flex-direction: column;z-index: 1;position: relative;background-color: white;}#sk-container-id-4 div.sk-parallel-item:first-child::after {align-self: flex-end;width: 50%;}#sk-container-id-4 div.sk-parallel-item:last-child::after {align-self: flex-start;width: 50%;}#sk-container-id-4 div.sk-parallel-item:only-child::after {width: 0;}#sk-container-id-4 div.sk-dashed-wrapped {border: 1px dashed gray;margin: 0 0.4em 0.5em 0.4em;box-sizing: border-box;padding-bottom: 0.4em;background-color: white;}#sk-container-id-4 div.sk-label label {font-family: monospace;font-weight: bold;display: inline-block;line-height: 1.2em;}#sk-container-id-4 div.sk-label-container {text-align: center;}#sk-container-id-4 div.sk-container {/* jupyter's `normalize.less` sets `[hidden] { display: none; }` but bootstrap.min.css set `[hidden] { display: none !important; }` so we also need the `!important` here to be able to override the default hidden behavior on the sphinx rendered scikit-learn.org. See: https://github.com/scikit-learn/scikit-learn/issues/21755 */display: inline-block !important;position: relative;}#sk-container-id-4 div.sk-text-repr-fallback {display: none;}</style><div id=\"sk-container-id-4\" class=\"sk-top-container\"><div class=\"sk-text-repr-fallback\"><pre>AgglomerativeClustering(distance_threshold=0, linkage=&#x27;single&#x27;, n_clusters=None)</pre><b>In a Jupyter environment, please rerun this cell to show the HTML representation or trust the notebook. <br />On GitHub, the HTML representation is unable to render, please try loading this page with nbviewer.org.</b></div><div class=\"sk-container\" hidden><div class=\"sk-item\"><div class=\"sk-estimator sk-toggleable\"><input class=\"sk-toggleable__control sk-hidden--visually\" id=\"sk-estimator-id-4\" type=\"checkbox\" checked><label for=\"sk-estimator-id-4\" class=\"sk-toggleable__label sk-toggleable__label-arrow\">AgglomerativeClustering</label><div class=\"sk-toggleable__content\"><pre>AgglomerativeClustering(distance_threshold=0, linkage=&#x27;single&#x27;, n_clusters=None)</pre></div></div></div></div></div>"
      ],
      "text/plain": [
       "AgglomerativeClustering(distance_threshold=0, linkage='single', n_clusters=None)"
      ]
     },
     "execution_count": 25,
     "metadata": {},
     "output_type": "execute_result"
    }
   ],
   "source": [
    "hc_sing = HClust(distance_threshold=0, n_clusters=None, linkage='single')\n",
    "hc_sing.fit(X)"
   ]
  },
  {
   "cell_type": "code",
   "execution_count": 26,
   "id": "48c65a8d",
   "metadata": {},
   "outputs": [],
   "source": [
    "cargs = {'color_threshold':4, 'above_threshold_color':'black'}"
   ]
  },
  {
   "cell_type": "code",
   "execution_count": 27,
   "id": "ebe5f3bc",
   "metadata": {},
   "outputs": [
    {
     "data": {
      "text/plain": [
       "{'icoord': [[15.0, 15.0, 25.0, 25.0],\n",
       "  [5.0, 5.0, 20.0, 20.0],\n",
       "  [55.0, 55.0, 65.0, 65.0],\n",
       "  [45.0, 45.0, 60.0, 60.0],\n",
       "  [35.0, 35.0, 52.5, 52.5],\n",
       "  [12.5, 12.5, 43.75, 43.75],\n",
       "  [75.0, 75.0, 85.0, 85.0],\n",
       "  [95.0, 95.0, 105.0, 105.0],\n",
       "  [115.0, 115.0, 125.0, 125.0],\n",
       "  [100.0, 100.0, 120.0, 120.0],\n",
       "  [80.0, 80.0, 110.0, 110.0],\n",
       "  [135.0, 135.0, 145.0, 145.0],\n",
       "  [155.0, 155.0, 165.0, 165.0],\n",
       "  [175.0, 175.0, 185.0, 185.0],\n",
       "  [195.0, 195.0, 205.0, 205.0],\n",
       "  [180.0, 180.0, 200.0, 200.0],\n",
       "  [160.0, 160.0, 190.0, 190.0],\n",
       "  [140.0, 140.0, 175.0, 175.0],\n",
       "  [95.0, 95.0, 157.5, 157.5],\n",
       "  [28.125, 28.125, 126.25, 126.25],\n",
       "  [225.0, 225.0, 235.0, 235.0],\n",
       "  [215.0, 215.0, 230.0, 230.0],\n",
       "  [255.0, 255.0, 265.0, 265.0],\n",
       "  [245.0, 245.0, 260.0, 260.0],\n",
       "  [275.0, 275.0, 285.0, 285.0],\n",
       "  [252.5, 252.5, 280.0, 280.0],\n",
       "  [222.5, 222.5, 266.25, 266.25],\n",
       "  [295.0, 295.0, 305.0, 305.0],\n",
       "  [315.0, 315.0, 325.0, 325.0],\n",
       "  [300.0, 300.0, 320.0, 320.0],\n",
       "  [335.0, 335.0, 345.0, 345.0],\n",
       "  [375.0, 375.0, 385.0, 385.0],\n",
       "  [365.0, 365.0, 380.0, 380.0],\n",
       "  [355.0, 355.0, 372.5, 372.5],\n",
       "  [340.0, 340.0, 363.75, 363.75],\n",
       "  [310.0, 310.0, 351.875, 351.875],\n",
       "  [405.0, 405.0, 415.0, 415.0],\n",
       "  [395.0, 395.0, 410.0, 410.0],\n",
       "  [330.9375, 330.9375, 402.5, 402.5],\n",
       "  [244.375, 244.375, 366.71875, 366.71875],\n",
       "  [435.0, 435.0, 445.0, 445.0],\n",
       "  [425.0, 425.0, 440.0, 440.0],\n",
       "  [455.0, 455.0, 465.0, 465.0],\n",
       "  [485.0, 485.0, 495.0, 495.0],\n",
       "  [475.0, 475.0, 490.0, 490.0],\n",
       "  [460.0, 460.0, 482.5, 482.5],\n",
       "  [432.5, 432.5, 471.25, 471.25],\n",
       "  [305.546875, 305.546875, 451.875, 451.875],\n",
       "  [77.1875, 77.1875, 378.7109375, 378.7109375]],\n",
       " 'dcoord': [[0.0, 0.40345638834732755, 0.40345638834732755, 0.0],\n",
       "  [0.0, 1.0685451502731318, 1.0685451502731318, 0.40345638834732755],\n",
       "  [0.0, 0.26019592576249684, 0.26019592576249684, 0.0],\n",
       "  [0.0, 0.5524636964144236, 0.5524636964144236, 0.26019592576249684],\n",
       "  [0.0, 1.1600148062708335, 1.1600148062708335, 0.5524636964144236],\n",
       "  [1.0685451502731318,\n",
       "   2.1261724468110734,\n",
       "   2.1261724468110734,\n",
       "   1.1600148062708335],\n",
       "  [0.0, 0.6239991154988663, 0.6239991154988663, 0.0],\n",
       "  [0.0, 0.3320945047164902, 0.3320945047164902, 0.0],\n",
       "  [0.0, 0.6627913614670907, 0.6627913614670907, 0.0],\n",
       "  [0.3320945047164902,\n",
       "   1.0409566084958586,\n",
       "   1.0409566084958586,\n",
       "   0.6627913614670907],\n",
       "  [0.6239991154988663,\n",
       "   2.1817724310348465,\n",
       "   2.1817724310348465,\n",
       "   1.0409566084958586],\n",
       "  [0.0, 0.5833683734000014, 0.5833683734000014, 0.0],\n",
       "  [0.0, 0.5626150598290894, 0.5626150598290894, 0.0],\n",
       "  [0.0, 0.1827495795685997, 0.1827495795685997, 0.0],\n",
       "  [0.0, 0.5224857812249969, 0.5224857812249969, 0.0],\n",
       "  [0.1827495795685997,\n",
       "   0.6160347902973645,\n",
       "   0.6160347902973645,\n",
       "   0.5224857812249969],\n",
       "  [0.5626150598290894,\n",
       "   1.509011566123477,\n",
       "   1.509011566123477,\n",
       "   0.6160347902973645],\n",
       "  [0.5833683734000014,\n",
       "   2.204280862875046,\n",
       "   2.204280862875046,\n",
       "   1.509011566123477],\n",
       "  [2.1817724310348465,\n",
       "   3.5638722879375466,\n",
       "   3.5638722879375466,\n",
       "   2.204280862875046],\n",
       "  [2.1261724468110734,\n",
       "   4.615904514738079,\n",
       "   4.615904514738079,\n",
       "   3.5638722879375466],\n",
       "  [0.0, 0.18030959310146272, 0.18030959310146272, 0.0],\n",
       "  [0.0, 0.8142802239545881, 0.8142802239545881, 0.18030959310146272],\n",
       "  [0.0, 0.03827136560701966, 0.03827136560701966, 0.0],\n",
       "  [0.0, 0.32034877105731313, 0.32034877105731313, 0.03827136560701966],\n",
       "  [0.0, 0.33516600631514243, 0.33516600631514243, 0.0],\n",
       "  [0.32034877105731313,\n",
       "   0.9660671920220237,\n",
       "   0.9660671920220237,\n",
       "   0.33516600631514243],\n",
       "  [0.8142802239545881,\n",
       "   1.645495556672459,\n",
       "   1.645495556672459,\n",
       "   0.9660671920220237],\n",
       "  [0.0, 0.36151415474982385, 0.36151415474982385, 0.0],\n",
       "  [0.0, 0.5455677782733541, 0.5455677782733541, 0.0],\n",
       "  [0.36151415474982385,\n",
       "   1.0256358120036955,\n",
       "   1.0256358120036955,\n",
       "   0.5455677782733541],\n",
       "  [0.0, 0.30800428832486804, 0.30800428832486804, 0.0],\n",
       "  [0.0, 0.11640990654301805, 0.11640990654301805, 0.0],\n",
       "  [0.0, 0.1575078370046222, 0.1575078370046222, 0.11640990654301805],\n",
       "  [0.0, 0.558431267818579, 0.558431267818579, 0.1575078370046222],\n",
       "  [0.30800428832486804,\n",
       "   1.0571151603201412,\n",
       "   1.0571151603201412,\n",
       "   0.558431267818579],\n",
       "  [1.0256358120036955,\n",
       "   1.6727447721469924,\n",
       "   1.6727447721469924,\n",
       "   1.0571151603201412],\n",
       "  [0.0, 0.6989827190088709, 0.6989827190088709, 0.0],\n",
       "  [0.0, 2.0077428017506542, 2.0077428017506542, 0.6989827190088709],\n",
       "  [1.6727447721469924,\n",
       "   2.799859002669842,\n",
       "   2.799859002669842,\n",
       "   2.0077428017506542],\n",
       "  [1.645495556672459,\n",
       "   3.4319861918101258,\n",
       "   3.4319861918101258,\n",
       "   2.799859002669842],\n",
       "  [0.0, 1.0540169443838694, 1.0540169443838694, 0.0],\n",
       "  [0.0, 1.3060818641549043, 1.3060818641549043, 1.0540169443838694],\n",
       "  [0.0, 0.623814512924114, 0.623814512924114, 0.0],\n",
       "  [0.0, 0.7380893932454302, 0.7380893932454302, 0.0],\n",
       "  [0.0, 0.9740867473720515, 0.9740867473720515, 0.7380893932454302],\n",
       "  [0.623814512924114,\n",
       "   2.1314826768079964,\n",
       "   2.1314826768079964,\n",
       "   0.9740867473720515],\n",
       "  [1.3060818641549043,\n",
       "   3.576581716287291,\n",
       "   3.576581716287291,\n",
       "   2.1314826768079964],\n",
       "  [3.4319861918101258,\n",
       "   6.154316570032954,\n",
       "   6.154316570032954,\n",
       "   3.576581716287291],\n",
       "  [4.615904514738079, 9.08966394474236, 9.08966394474236, 6.154316570032954]],\n",
       " 'ivl': ['1',\n",
       "  '14',\n",
       "  '18',\n",
       "  '5',\n",
       "  '7',\n",
       "  '4',\n",
       "  '15',\n",
       "  '2',\n",
       "  '12',\n",
       "  '3',\n",
       "  '6',\n",
       "  '0',\n",
       "  '8',\n",
       "  '16',\n",
       "  '20',\n",
       "  '9',\n",
       "  '11',\n",
       "  '19',\n",
       "  '22',\n",
       "  '13',\n",
       "  '17',\n",
       "  '33',\n",
       "  '40',\n",
       "  '44',\n",
       "  '38',\n",
       "  '29',\n",
       "  '30',\n",
       "  '25',\n",
       "  '34',\n",
       "  '32',\n",
       "  '37',\n",
       "  '35',\n",
       "  '43',\n",
       "  '46',\n",
       "  '47',\n",
       "  '39',\n",
       "  '27',\n",
       "  '28',\n",
       "  '49',\n",
       "  '42',\n",
       "  '45',\n",
       "  '48',\n",
       "  '10',\n",
       "  '23',\n",
       "  '24',\n",
       "  '26',\n",
       "  '31',\n",
       "  '21',\n",
       "  '36',\n",
       "  '41'],\n",
       " 'leaves': [1,\n",
       "  14,\n",
       "  18,\n",
       "  5,\n",
       "  7,\n",
       "  4,\n",
       "  15,\n",
       "  2,\n",
       "  12,\n",
       "  3,\n",
       "  6,\n",
       "  0,\n",
       "  8,\n",
       "  16,\n",
       "  20,\n",
       "  9,\n",
       "  11,\n",
       "  19,\n",
       "  22,\n",
       "  13,\n",
       "  17,\n",
       "  33,\n",
       "  40,\n",
       "  44,\n",
       "  38,\n",
       "  29,\n",
       "  30,\n",
       "  25,\n",
       "  34,\n",
       "  32,\n",
       "  37,\n",
       "  35,\n",
       "  43,\n",
       "  46,\n",
       "  47,\n",
       "  39,\n",
       "  27,\n",
       "  28,\n",
       "  49,\n",
       "  42,\n",
       "  45,\n",
       "  48,\n",
       "  10,\n",
       "  23,\n",
       "  24,\n",
       "  26,\n",
       "  31,\n",
       "  21,\n",
       "  36,\n",
       "  41],\n",
       " 'color_list': ['C1',\n",
       "  'C1',\n",
       "  'C1',\n",
       "  'C1',\n",
       "  'C1',\n",
       "  'C1',\n",
       "  'C2',\n",
       "  'C2',\n",
       "  'C2',\n",
       "  'C2',\n",
       "  'C2',\n",
       "  'C2',\n",
       "  'C2',\n",
       "  'C2',\n",
       "  'C2',\n",
       "  'C2',\n",
       "  'C2',\n",
       "  'C2',\n",
       "  'C2',\n",
       "  'black',\n",
       "  'C3',\n",
       "  'C3',\n",
       "  'C3',\n",
       "  'C3',\n",
       "  'C3',\n",
       "  'C3',\n",
       "  'C3',\n",
       "  'C3',\n",
       "  'C3',\n",
       "  'C3',\n",
       "  'C3',\n",
       "  'C3',\n",
       "  'C3',\n",
       "  'C3',\n",
       "  'C3',\n",
       "  'C3',\n",
       "  'C3',\n",
       "  'C3',\n",
       "  'C3',\n",
       "  'C3',\n",
       "  'C4',\n",
       "  'C4',\n",
       "  'C4',\n",
       "  'C4',\n",
       "  'C4',\n",
       "  'C4',\n",
       "  'C4',\n",
       "  'black',\n",
       "  'black'],\n",
       " 'leaves_color_list': ['C1',\n",
       "  'C1',\n",
       "  'C1',\n",
       "  'C1',\n",
       "  'C1',\n",
       "  'C1',\n",
       "  'C1',\n",
       "  'C2',\n",
       "  'C2',\n",
       "  'C2',\n",
       "  'C2',\n",
       "  'C2',\n",
       "  'C2',\n",
       "  'C2',\n",
       "  'C2',\n",
       "  'C2',\n",
       "  'C2',\n",
       "  'C2',\n",
       "  'C2',\n",
       "  'C2',\n",
       "  'C2',\n",
       "  'C3',\n",
       "  'C3',\n",
       "  'C3',\n",
       "  'C3',\n",
       "  'C3',\n",
       "  'C3',\n",
       "  'C3',\n",
       "  'C3',\n",
       "  'C3',\n",
       "  'C3',\n",
       "  'C3',\n",
       "  'C3',\n",
       "  'C3',\n",
       "  'C3',\n",
       "  'C3',\n",
       "  'C3',\n",
       "  'C3',\n",
       "  'C3',\n",
       "  'C3',\n",
       "  'C3',\n",
       "  'C3',\n",
       "  'C4',\n",
       "  'C4',\n",
       "  'C4',\n",
       "  'C4',\n",
       "  'C4',\n",
       "  'C4',\n",
       "  'C4',\n",
       "  'C4']}"
      ]
     },
     "execution_count": 27,
     "metadata": {},
     "output_type": "execute_result"
    },
    {
     "data": {
      "image/png": "[encoded data removed]",
      "text/plain": [
       "<Figure size 576x432 with 1 Axes>"
      ]
     },
     "metadata": {
      "needs_background": "light"
     },
     "output_type": "display_data"
    }
   ],
   "source": [
    "linkage_comp = compute_linkage(hc_comp)\n",
    "fig, ax = plt.subplots(1, 1, figsize=(8, 6))\n",
    "dendrogram(linkage_comp, ax=ax, **cargs)"
   ]
  },
  {
   "cell_type": "code",
   "execution_count": 28,
   "id": "17e43985",
   "metadata": {},
   "outputs": [
    {
     "data": {
      "text/plain": [
       "array([[0, 1, 0, 0, 1, 1, 0, 1, 0, 0, 2, 0, 0, 0, 1, 1, 0, 0, 1, 0, 0, 2,\n",
       "        0, 2, 2, 3, 2, 3, 3, 3, 3, 2, 3, 3, 3, 3, 2, 3, 3, 3, 3, 2, 3, 3,\n",
       "        3, 3, 3, 3, 3, 3]])"
      ]
     },
     "execution_count": 28,
     "metadata": {},
     "output_type": "execute_result"
    }
   ],
   "source": [
    "cut_tree(linkage_comp, n_clusters=4).T"
   ]
  },
  {
   "cell_type": "code",
   "execution_count": 29,
   "id": "344ff76a",
   "metadata": {},
   "outputs": [
    {
     "data": {
      "text/plain": [
       "{'icoord': [[15.0, 15.0, 25.0, 25.0],\n",
       "  [5.0, 5.0, 20.0, 20.0],\n",
       "  [35.0, 35.0, 45.0, 45.0],\n",
       "  [65.0, 65.0, 75.0, 75.0],\n",
       "  [55.0, 55.0, 70.0, 70.0],\n",
       "  [85.0, 85.0, 95.0, 95.0],\n",
       "  [105.0, 105.0, 115.0, 115.0],\n",
       "  [125.0, 125.0, 135.0, 135.0],\n",
       "  [110.0, 110.0, 130.0, 130.0],\n",
       "  [90.0, 90.0, 120.0, 120.0],\n",
       "  [62.5, 62.5, 105.0, 105.0],\n",
       "  [40.0, 40.0, 83.75, 83.75],\n",
       "  [12.5, 12.5, 61.875, 61.875],\n",
       "  [145.0, 145.0, 155.0, 155.0],\n",
       "  [185.0, 185.0, 195.0, 195.0],\n",
       "  [175.0, 175.0, 190.0, 190.0],\n",
       "  [165.0, 165.0, 182.5, 182.5],\n",
       "  [150.0, 150.0, 173.75, 173.75],\n",
       "  [225.0, 225.0, 235.0, 235.0],\n",
       "  [215.0, 215.0, 230.0, 230.0],\n",
       "  [205.0, 205.0, 222.5, 222.5],\n",
       "  [245.0, 245.0, 255.0, 255.0],\n",
       "  [265.0, 265.0, 275.0, 275.0],\n",
       "  [285.0, 285.0, 295.0, 295.0],\n",
       "  [270.0, 270.0, 290.0, 290.0],\n",
       "  [250.0, 250.0, 280.0, 280.0],\n",
       "  [213.75, 213.75, 265.0, 265.0],\n",
       "  [161.875, 161.875, 239.375, 239.375],\n",
       "  [37.1875, 37.1875, 200.625, 200.625]],\n",
       " 'dcoord': [[0.0, 0.007487706574961006, 0.007487706574961006, 0.0],\n",
       "  [0.0, 0.13817222744345126, 0.13817222744345126, 0.007487706574961006],\n",
       "  [0.0, 0.04412974864800534, 0.04412974864800534, 0.0],\n",
       "  [0.0, 0.0017528305043742476, 0.0017528305043742476, 0.0],\n",
       "  [0.0, 0.02052954505108673, 0.02052954505108673, 0.0017528305043742476],\n",
       "  [0.0, 0.00060296562007911, 0.00060296562007911, 0.0],\n",
       "  [0.0, 2.6019236852303784e-05, 2.6019236852303784e-05, 0.0],\n",
       "  [0.0, 0.00041043450138800175, 0.00041043450138800175, 0.0],\n",
       "  [2.6019236852303784e-05,\n",
       "   0.006072595919307644,\n",
       "   0.006072595919307644,\n",
       "   0.00041043450138800175],\n",
       "  [0.00060296562007911,\n",
       "   0.034191307456319375,\n",
       "   0.034191307456319375,\n",
       "   0.006072595919307644],\n",
       "  [0.02052954505108673,\n",
       "   0.20416221174179638,\n",
       "   0.20416221174179638,\n",
       "   0.034191307456319375],\n",
       "  [0.04412974864800534,\n",
       "   0.621235068665537,\n",
       "   0.621235068665537,\n",
       "   0.20416221174179638],\n",
       "  [0.13817222744345126,\n",
       "   1.4183477458671911,\n",
       "   1.4183477458671911,\n",
       "   0.621235068665537],\n",
       "  [0.0, 0.00018923317475416646, 0.00018923317475416646, 0.0],\n",
       "  [0.0, 0.0011507254774391074, 0.0011507254774391074, 0.0],\n",
       "  [0.0, 0.004723989592060884, 0.004723989592060884, 0.0011507254774391074],\n",
       "  [0.0, 0.029330366893285165, 0.029330366893285165, 0.004723989592060884],\n",
       "  [0.00018923317475416646,\n",
       "   0.08182635100714686,\n",
       "   0.08182635100714686,\n",
       "   0.029330366893285165],\n",
       "  [0.0, 0.0023998528413211595, 0.0023998528413211595, 0.0],\n",
       "  [0.0, 0.01733748628480547, 0.01733748628480547, 0.0023998528413211595],\n",
       "  [0.0, 0.11155349396294167, 0.11155349396294167, 0.01733748628480547],\n",
       "  [0.0, 0.009554371337392453, 0.009554371337392453, 0.0],\n",
       "  [0.0, 1.9788888772076518e-07, 1.9788888772076518e-07, 0.0],\n",
       "  [0.0, 0.0019817977375063967, 0.0019817977375063967, 0.0],\n",
       "  [1.9788888772076518e-07,\n",
       "   0.020485246691060777,\n",
       "   0.020485246691060777,\n",
       "   0.0019817977375063967],\n",
       "  [0.009554371337392453,\n",
       "   0.19299252014155988,\n",
       "   0.19299252014155988,\n",
       "   0.020485246691060777],\n",
       "  [0.11155349396294167,\n",
       "   0.9895303648490956,\n",
       "   0.9895303648490956,\n",
       "   0.19299252014155988],\n",
       "  [0.08182635100714686,\n",
       "   1.9803813246896969,\n",
       "   1.9803813246896969,\n",
       "   0.9895303648490956],\n",
       "  [1.4183477458671911,\n",
       "   1.9999808431199109,\n",
       "   1.9999808431199109,\n",
       "   1.9803813246896969]],\n",
       " 'ivl': ['14',\n",
       "  '7',\n",
       "  '16',\n",
       "  '12',\n",
       "  '15',\n",
       "  '11',\n",
       "  '1',\n",
       "  '21',\n",
       "  '18',\n",
       "  '29',\n",
       "  '13',\n",
       "  '22',\n",
       "  '2',\n",
       "  '19',\n",
       "  '9',\n",
       "  '24',\n",
       "  '28',\n",
       "  '17',\n",
       "  '0',\n",
       "  '25',\n",
       "  '5',\n",
       "  '6',\n",
       "  '3',\n",
       "  '27',\n",
       "  '8',\n",
       "  '20',\n",
       "  '4',\n",
       "  '26',\n",
       "  '10',\n",
       "  '23'],\n",
       " 'leaves': [14,\n",
       "  7,\n",
       "  16,\n",
       "  12,\n",
       "  15,\n",
       "  11,\n",
       "  1,\n",
       "  21,\n",
       "  18,\n",
       "  29,\n",
       "  13,\n",
       "  22,\n",
       "  2,\n",
       "  19,\n",
       "  9,\n",
       "  24,\n",
       "  28,\n",
       "  17,\n",
       "  0,\n",
       "  25,\n",
       "  5,\n",
       "  6,\n",
       "  3,\n",
       "  27,\n",
       "  8,\n",
       "  20,\n",
       "  4,\n",
       "  26,\n",
       "  10,\n",
       "  23],\n",
       " 'color_list': ['C1',\n",
       "  'C1',\n",
       "  'C1',\n",
       "  'C1',\n",
       "  'C1',\n",
       "  'C1',\n",
       "  'C1',\n",
       "  'C1',\n",
       "  'C1',\n",
       "  'C1',\n",
       "  'C1',\n",
       "  'C1',\n",
       "  'C1',\n",
       "  'C1',\n",
       "  'C1',\n",
       "  'C1',\n",
       "  'C1',\n",
       "  'C1',\n",
       "  'C1',\n",
       "  'C1',\n",
       "  'C1',\n",
       "  'C1',\n",
       "  'C1',\n",
       "  'C1',\n",
       "  'C1',\n",
       "  'C1',\n",
       "  'C1',\n",
       "  'C1',\n",
       "  'C1'],\n",
       " 'leaves_color_list': ['C1',\n",
       "  'C1',\n",
       "  'C1',\n",
       "  'C1',\n",
       "  'C1',\n",
       "  'C1',\n",
       "  'C1',\n",
       "  'C1',\n",
       "  'C1',\n",
       "  'C1',\n",
       "  'C1',\n",
       "  'C1',\n",
       "  'C1',\n",
       "  'C1',\n",
       "  'C1',\n",
       "  'C1',\n",
       "  'C1',\n",
       "  'C1',\n",
       "  'C1',\n",
       "  'C1',\n",
       "  'C1',\n",
       "  'C1',\n",
       "  'C1',\n",
       "  'C1',\n",
       "  'C1',\n",
       "  'C1',\n",
       "  'C1',\n",
       "  'C1',\n",
       "  'C1',\n",
       "  'C1']}"
      ]
     },
     "execution_count": 29,
     "metadata": {},
     "output_type": "execute_result"
    },
    {
     "data": {
      "image/png": "[encoded data removed]",
      "text/plain": [
       "<Figure size 576x432 with 1 Axes>"
      ]
     },
     "metadata": {
      "needs_background": "light"
     },
     "output_type": "display_data"
    }
   ],
   "source": [
    "X = np.random.standard_normal((30, 3))\n",
    "corD = 1 - np.corrcoef(X)\n",
    "hc_cor = HClust(linkage='complete', distance_threshold=0, n_clusters=None, metric='precomputed')\n",
    "hc_cor.fit(corD)\n",
    "linkage_cor = compute_linkage(hc_cor)\n",
    "fig, ax = plt.subplots(1, 1, figsize=(8, 6))\n",
    "dendrogram(linkage_cor, ax=ax, **cargs)"
   ]
  },
  {
   "cell_type": "code",
   "execution_count": 30,
   "id": "7c0cc04e",
   "metadata": {},
   "outputs": [],
   "source": [
    "nci60 = load_data('NCI60')\n",
    "nci_labs = nci60['labels']\n",
    "nci_data = nci60['data']"
   ]
  },
  {
   "cell_type": "code",
   "execution_count": 31,
   "id": "556a0ef9",
   "metadata": {},
   "outputs": [
    {
     "data": {
      "text/plain": [
       "(64, 6830)"
      ]
     },
     "execution_count": 31,
     "metadata": {},
     "output_type": "execute_result"
    }
   ],
   "source": [
    "nci_data.shape"
   ]
  },
  {
   "cell_type": "code",
   "execution_count": 32,
   "id": "f153e215",
   "metadata": {},
   "outputs": [
    {
     "data": {
      "text/plain": [
       "label      \n",
       "NSCLC          9\n",
       "RENAL          9\n",
       "MELANOMA       8\n",
       "BREAST         7\n",
       "COLON          7\n",
       "LEUKEMIA       6\n",
       "OVARIAN        6\n",
       "CNS            5\n",
       "PROSTATE       2\n",
       "K562A-repro    1\n",
       "K562B-repro    1\n",
       "MCF7A-repro    1\n",
       "MCF7D-repro    1\n",
       "UNKNOWN        1\n",
       "Name: count, dtype: int64"
      ]
     },
     "execution_count": 32,
     "metadata": {},
     "output_type": "execute_result"
    }
   ],
   "source": [
    "nci_labs.value_counts()"
   ]
  },
  {
   "cell_type": "code",
   "execution_count": 33,
   "id": "cf14a111",
   "metadata": {},
   "outputs": [],
   "source": [
    "scaler = StandardScaler()\n",
    "nci_sc = scaler.fit_transform(nci_data)\n",
    "nci_pca = PCA()\n",
    "nci_scores = nci_pca.fit_transform(nci_sc)"
   ]
  },
  {
   "cell_type": "code",
   "execution_count": 34,
   "id": "d4b235f7",
   "metadata": {},
   "outputs": [
    {
     "data": {
      "text/plain": [
       "[<matplotlib.lines.Line2D at 0x18c57ccef50>]"
      ]
     },
     "execution_count": 34,
     "metadata": {},
     "output_type": "execute_result"
    },
    {
     "data": {
      "image/png": "[encoded data removed]",
      "text/plain": [
       "<Figure size 1008x432 with 2 Axes>"
      ]
     },
     "metadata": {
      "needs_background": "light"
     },
     "output_type": "display_data"
    }
   ],
   "source": [
    "fig, axs = plt.subplots(1, 2, figsize=(14, 6))\n",
    "ax1 = axs[0]\n",
    "ticks = np.arange(nci_pca.n_components_) + 1\n",
    "ax1.plot(ticks, nci_pca.explained_variance_ratio_, marker='o')\n",
    "ax2 = axs[1]\n",
    "ax2.plot(ticks, nci_pca.explained_variance_ratio_.cumsum(), marker='o')"
   ]
  },
  {
   "cell_type": "code",
   "execution_count": 35,
   "id": "62949691",
   "metadata": {},
   "outputs": [],
   "source": [
    "def plot_nci(linkage, ax, cut=-np.inf):\n",
    "    cargs = {'above_threshold_color':'black', 'color_threshold':cut}\n",
    "    hc = HClust(n_clusters=None, distance_threshold=0, linkage=linkage.lower()).fit(nci_sc)\n",
    "    linkage_ = compute_linkage(hc)\n",
    "    dendrogram(linkage_, ax=ax, labels=np.asarray(nci_labs), leaf_font_size=10, **cargs)\n",
    "    ax.set_title(f'Linkage: {linkage}')\n",
    "    return hc"
   ]
  },
  {
   "cell_type": "code",
   "execution_count": 36,
   "id": "ec90f6b9",
   "metadata": {},
   "outputs": [
    {
     "data": {
      "image/png": "[encoded data removed]",
      "text/plain": [
       "<Figure size 1296x432 with 3 Axes>"
      ]
     },
     "metadata": {
      "needs_background": "light"
     },
     "output_type": "display_data"
    }
   ],
   "source": [
    "fig, axs = plt.subplots(1, 3, figsize=(18, 6))\n",
    "hc_comp = plot_nci('complete', axs[0])\n",
    "hc_avg = plot_nci('average', axs[1])\n",
    "hc_sing = plot_nci('single', axs[2])"
   ]
  },
  {
   "cell_type": "code",
   "execution_count": null,
   "id": "692540e1",
   "metadata": {},
   "outputs": [],
   "source": []
  }
 ],
 "metadata": {
  "kernelspec": {
   "display_name": "base",
   "language": "python",
   "name": "python3"
  },
  "language_info": {
   "codemirror_mode": {
    "name": "ipython",
    "version": 3
   },
   "file_extension": ".py",
   "mimetype": "text/x-python",
   "name": "python",
   "nbconvert_exporter": "python",
   "pygments_lexer": "ipython3",
   "version": "3.10.9"
  }
 },
 "nbformat": 4,
 "nbformat_minor": 5
}
