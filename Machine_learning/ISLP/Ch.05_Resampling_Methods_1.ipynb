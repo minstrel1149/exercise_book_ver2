{
 "cells": [
  {
   "cell_type": "code",
   "execution_count": 3,
   "metadata": {},
   "outputs": [],
   "source": [
    "import numpy as np\n",
    "import pandas as pd\n",
    "import matplotlib.pyplot as plt\n",
    "from ISLP import load_data\n",
    "from ISLP.models import (ModelSpec as MS, summarize, poly, sklearn_sm)\n",
    "from functools import partial"
   ]
  },
  {
   "cell_type": "code",
   "execution_count": 4,
   "metadata": {},
   "outputs": [],
   "source": [
    "from sklearn.model_selection import (train_test_split, cross_validate, KFold, ShuffleSplit)\n",
    "import statsmodels.api as sm"
   ]
  },
  {
   "cell_type": "code",
   "execution_count": 5,
   "metadata": {},
   "outputs": [
    {
     "data": {
      "text/plain": [
       "((196, 8), (196, 8))"
      ]
     },
     "execution_count": 5,
     "metadata": {},
     "output_type": "execute_result"
    }
   ],
   "source": [
    "Auto = load_data('Auto')\n",
    "Auto_train, Auto_test = train_test_split(Auto, test_size=0.5, random_state=0)\n",
    "Auto_train.shape, Auto_test.shape"
   ]
  },
  {
   "cell_type": "code",
   "execution_count": 8,
   "metadata": {},
   "outputs": [
    {
     "data": {
      "text/plain": [
       "(196, 2)"
      ]
     },
     "execution_count": 8,
     "metadata": {},
     "output_type": "execute_result"
    }
   ],
   "source": [
    "hp_mm = MS(['horsepower'])\n",
    "X = hp_mm.fit_transform(Auto)\n",
    "y = Auto['mpg']\n",
    "X_train, X_val, y_train, y_val = train_test_split(X, y, test_size=0.5, random_state=0)\n",
    "X_train.shape"
   ]
  },
  {
   "cell_type": "code",
   "execution_count": 9,
   "metadata": {},
   "outputs": [
    {
     "data": {
      "text/html": [
       "<table class=\"simpletable\">\n",
       "<caption>OLS Regression Results</caption>\n",
       "<tr>\n",
       "  <th>Dep. Variable:</th>           <td>mpg</td>       <th>  R-squared:         </th> <td>   0.608</td>\n",
       "</tr>\n",
       "<tr>\n",
       "  <th>Model:</th>                   <td>OLS</td>       <th>  Adj. R-squared:    </th> <td>   0.606</td>\n",
       "</tr>\n",
       "<tr>\n",
       "  <th>Method:</th>             <td>Least Squares</td>  <th>  F-statistic:       </th> <td>   300.4</td>\n",
       "</tr>\n",
       "<tr>\n",
       "  <th>Date:</th>             <td>Sun, 09 Feb 2025</td> <th>  Prob (F-statistic):</th> <td>2.83e-41</td>\n",
       "</tr>\n",
       "<tr>\n",
       "  <th>Time:</th>                 <td>10:52:11</td>     <th>  Log-Likelihood:    </th> <td> -590.83</td>\n",
       "</tr>\n",
       "<tr>\n",
       "  <th>No. Observations:</th>      <td>   196</td>      <th>  AIC:               </th> <td>   1186.</td>\n",
       "</tr>\n",
       "<tr>\n",
       "  <th>Df Residuals:</th>          <td>   194</td>      <th>  BIC:               </th> <td>   1192.</td>\n",
       "</tr>\n",
       "<tr>\n",
       "  <th>Df Model:</th>              <td>     1</td>      <th>                     </th>     <td> </td>   \n",
       "</tr>\n",
       "<tr>\n",
       "  <th>Covariance Type:</th>      <td>nonrobust</td>    <th>                     </th>     <td> </td>   \n",
       "</tr>\n",
       "</table>\n",
       "<table class=\"simpletable\">\n",
       "<tr>\n",
       "       <td></td>         <th>coef</th>     <th>std err</th>      <th>t</th>      <th>P>|t|</th>  <th>[0.025</th>    <th>0.975]</th>  \n",
       "</tr>\n",
       "<tr>\n",
       "  <th>intercept</th>  <td>   39.9055</td> <td>    1.009</td> <td>   39.537</td> <td> 0.000</td> <td>   37.915</td> <td>   41.896</td>\n",
       "</tr>\n",
       "<tr>\n",
       "  <th>horsepower</th> <td>   -0.1563</td> <td>    0.009</td> <td>  -17.333</td> <td> 0.000</td> <td>   -0.174</td> <td>   -0.139</td>\n",
       "</tr>\n",
       "</table>\n",
       "<table class=\"simpletable\">\n",
       "<tr>\n",
       "  <th>Omnibus:</th>       <td> 7.263</td> <th>  Durbin-Watson:     </th> <td>   2.175</td>\n",
       "</tr>\n",
       "<tr>\n",
       "  <th>Prob(Omnibus):</th> <td> 0.026</td> <th>  Jarque-Bera (JB):  </th> <td>   6.993</td>\n",
       "</tr>\n",
       "<tr>\n",
       "  <th>Skew:</th>          <td> 0.440</td> <th>  Prob(JB):          </th> <td>  0.0303</td>\n",
       "</tr>\n",
       "<tr>\n",
       "  <th>Kurtosis:</th>      <td> 3.286</td> <th>  Cond. No.          </th> <td>    319.</td>\n",
       "</tr>\n",
       "</table><br/><br/>Notes:<br/>[1] Standard Errors assume that the covariance matrix of the errors is correctly specified."
      ],
      "text/plain": [
       "<class 'statsmodels.iolib.summary.Summary'>\n",
       "\"\"\"\n",
       "                            OLS Regression Results                            \n",
       "==============================================================================\n",
       "Dep. Variable:                    mpg   R-squared:                       0.608\n",
       "Model:                            OLS   Adj. R-squared:                  0.606\n",
       "Method:                 Least Squares   F-statistic:                     300.4\n",
       "Date:                Sun, 09 Feb 2025   Prob (F-statistic):           2.83e-41\n",
       "Time:                        10:52:11   Log-Likelihood:                -590.83\n",
       "No. Observations:                 196   AIC:                             1186.\n",
       "Df Residuals:                     194   BIC:                             1192.\n",
       "Df Model:                           1                                         \n",
       "Covariance Type:            nonrobust                                         \n",
       "==============================================================================\n",
       "                 coef    std err          t      P>|t|      [0.025      0.975]\n",
       "------------------------------------------------------------------------------\n",
       "intercept     39.9055      1.009     39.537      0.000      37.915      41.896\n",
       "horsepower    -0.1563      0.009    -17.333      0.000      -0.174      -0.139\n",
       "==============================================================================\n",
       "Omnibus:                        7.263   Durbin-Watson:                   2.175\n",
       "Prob(Omnibus):                  0.026   Jarque-Bera (JB):                6.993\n",
       "Skew:                           0.440   Prob(JB):                       0.0303\n",
       "Kurtosis:                       3.286   Cond. No.                         319.\n",
       "==============================================================================\n",
       "\n",
       "Notes:\n",
       "[1] Standard Errors assume that the covariance matrix of the errors is correctly specified.\n",
       "\"\"\""
      ]
     },
     "execution_count": 9,
     "metadata": {},
     "output_type": "execute_result"
    }
   ],
   "source": [
    "model = sm.OLS(y_train, X_train)\n",
    "results = model.fit()\n",
    "results.summary()"
   ]
  },
  {
   "cell_type": "code",
   "execution_count": 12,
   "metadata": {},
   "outputs": [
    {
     "data": {
      "text/plain": [
       "name\n",
       "dodge colt                    28.182440\n",
       "ford fairmont 4               26.150448\n",
       "oldsmobile delta 88 royale    14.896344\n",
       "plymouth horizon miser        30.058124\n",
       "subaru dl                     29.432896\n",
       "                                ...    \n",
       "toyota celica gt liftback     25.056299\n",
       "audi 5000                     23.805843\n",
       "chevrolet concours            22.711694\n",
       "ford torino 500               26.150448\n",
       "amc concord d/l               21.148624\n",
       "Length: 196, dtype: float64"
      ]
     },
     "execution_count": 12,
     "metadata": {},
     "output_type": "execute_result"
    }
   ],
   "source": [
    "results.predict(X_val)"
   ]
  },
  {
   "cell_type": "code",
   "execution_count": 13,
   "metadata": {},
   "outputs": [
    {
     "name": "stdout",
     "output_type": "stream",
     "text": [
      "\u001b[1;31mType:\u001b[0m            RegressionResultsWrapper\n",
      "\u001b[1;31mString form:\u001b[0m     <statsmodels.regression.linear_model.RegressionResultsWrapper object at 0x0000018E2ADCF520>\n",
      "\u001b[1;31mFile:\u001b[0m            c:\\users\\admin\\anaconda3\\lib\\site-packages\\statsmodels\\regression\\linear_model.py\n",
      "\u001b[1;31mDocstring:\u001b[0m      \n",
      "Results class for for an OLS model.\n",
      "\n",
      "Parameters\n",
      "----------\n",
      "model : RegressionModel\n",
      "    The regression model instance.\n",
      "params : ndarray\n",
      "    The estimated parameters.\n",
      "normalized_cov_params : ndarray\n",
      "    The normalized covariance parameters.\n",
      "scale : float\n",
      "    The estimated scale of the residuals.\n",
      "cov_type : str\n",
      "    The covariance estimator used in the results.\n",
      "cov_kwds : dict\n",
      "    Additional keywords used in the covariance specification.\n",
      "use_t : bool\n",
      "    Flag indicating to use the Student's t in inference.\n",
      "**kwargs\n",
      "    Additional keyword arguments used to initialize the results.\n",
      "\n",
      "See Also\n",
      "--------\n",
      "RegressionResults\n",
      "    Results store for WLS and GLW models.\n",
      "\n",
      "Notes\n",
      "-----\n",
      "Most of the methods and attributes are inherited from RegressionResults.\n",
      "The special methods that are only available for OLS are:\n",
      "\n",
      "- get_influence\n",
      "- outlier_test\n",
      "- el_test\n",
      "- conf_int_el\n",
      "\u001b[1;31mClass docstring:\u001b[0m\n",
      "Class which wraps a statsmodels estimation Results class and steps in to\n",
      "reattach metadata to results (if available)\n"
     ]
    }
   ],
   "source": [
    "results?"
   ]
  },
  {
   "cell_type": "code",
   "execution_count": 15,
   "metadata": {},
   "outputs": [
    {
     "data": {
      "text/html": [
       "<table class=\"simpletable\">\n",
       "<caption>OLS Regression Results</caption>\n",
       "<tr>\n",
       "  <th>Dep. Variable:</th>           <td>mpg</td>       <th>  R-squared:         </th> <td>   0.691</td>\n",
       "</tr>\n",
       "<tr>\n",
       "  <th>Model:</th>                   <td>OLS</td>       <th>  Adj. R-squared:    </th> <td>   0.687</td>\n",
       "</tr>\n",
       "<tr>\n",
       "  <th>Method:</th>             <td>Least Squares</td>  <th>  F-statistic:       </th> <td>   143.4</td>\n",
       "</tr>\n",
       "<tr>\n",
       "  <th>Date:</th>             <td>Sun, 09 Feb 2025</td> <th>  Prob (F-statistic):</th> <td>8.87e-49</td>\n",
       "</tr>\n",
       "<tr>\n",
       "  <th>Time:</th>                 <td>10:56:04</td>     <th>  Log-Likelihood:    </th> <td> -567.29</td>\n",
       "</tr>\n",
       "<tr>\n",
       "  <th>No. Observations:</th>      <td>   196</td>      <th>  AIC:               </th> <td>   1143.</td>\n",
       "</tr>\n",
       "<tr>\n",
       "  <th>Df Residuals:</th>          <td>   192</td>      <th>  BIC:               </th> <td>   1156.</td>\n",
       "</tr>\n",
       "<tr>\n",
       "  <th>Df Model:</th>              <td>     3</td>      <th>                     </th>     <td> </td>   \n",
       "</tr>\n",
       "<tr>\n",
       "  <th>Covariance Type:</th>      <td>nonrobust</td>    <th>                     </th>     <td> </td>   \n",
       "</tr>\n",
       "</table>\n",
       "<table class=\"simpletable\">\n",
       "<tr>\n",
       "                <td></td>                   <th>coef</th>     <th>std err</th>      <th>t</th>      <th>P>|t|</th>  <th>[0.025</th>    <th>0.975]</th>  \n",
       "</tr>\n",
       "<tr>\n",
       "  <th>intercept</th>                     <td>   23.5174</td> <td>    0.316</td> <td>   74.493</td> <td> 0.000</td> <td>   22.895</td> <td>   24.140</td>\n",
       "</tr>\n",
       "<tr>\n",
       "  <th>poly(horsepower, degree=3)[0]</th> <td> -120.5743</td> <td>    6.125</td> <td>  -19.686</td> <td> 0.000</td> <td> -132.655</td> <td> -108.494</td>\n",
       "</tr>\n",
       "<tr>\n",
       "  <th>poly(horsepower, degree=3)[1]</th> <td>   43.9414</td> <td>    6.118</td> <td>    7.183</td> <td> 0.000</td> <td>   31.875</td> <td>   56.008</td>\n",
       "</tr>\n",
       "<tr>\n",
       "  <th>poly(horsepower, degree=3)[2]</th> <td>   -5.7848</td> <td>    5.847</td> <td>   -0.989</td> <td> 0.324</td> <td>  -17.317</td> <td>    5.748</td>\n",
       "</tr>\n",
       "</table>\n",
       "<table class=\"simpletable\">\n",
       "<tr>\n",
       "  <th>Omnibus:</th>       <td> 9.940</td> <th>  Durbin-Watson:     </th> <td>   2.149</td>\n",
       "</tr>\n",
       "<tr>\n",
       "  <th>Prob(Omnibus):</th> <td> 0.007</td> <th>  Jarque-Bera (JB):  </th> <td>  20.088</td>\n",
       "</tr>\n",
       "<tr>\n",
       "  <th>Skew:</th>          <td> 0.125</td> <th>  Prob(JB):          </th> <td>4.34e-05</td>\n",
       "</tr>\n",
       "<tr>\n",
       "  <th>Kurtosis:</th>      <td> 4.548</td> <th>  Cond. No.          </th> <td>    19.8</td>\n",
       "</tr>\n",
       "</table><br/><br/>Notes:<br/>[1] Standard Errors assume that the covariance matrix of the errors is correctly specified."
      ],
      "text/plain": [
       "<class 'statsmodels.iolib.summary.Summary'>\n",
       "\"\"\"\n",
       "                            OLS Regression Results                            \n",
       "==============================================================================\n",
       "Dep. Variable:                    mpg   R-squared:                       0.691\n",
       "Model:                            OLS   Adj. R-squared:                  0.687\n",
       "Method:                 Least Squares   F-statistic:                     143.4\n",
       "Date:                Sun, 09 Feb 2025   Prob (F-statistic):           8.87e-49\n",
       "Time:                        10:56:04   Log-Likelihood:                -567.29\n",
       "No. Observations:                 196   AIC:                             1143.\n",
       "Df Residuals:                     192   BIC:                             1156.\n",
       "Df Model:                           3                                         \n",
       "Covariance Type:            nonrobust                                         \n",
       "=================================================================================================\n",
       "                                    coef    std err          t      P>|t|      [0.025      0.975]\n",
       "-------------------------------------------------------------------------------------------------\n",
       "intercept                        23.5174      0.316     74.493      0.000      22.895      24.140\n",
       "poly(horsepower, degree=3)[0]  -120.5743      6.125    -19.686      0.000    -132.655    -108.494\n",
       "poly(horsepower, degree=3)[1]    43.9414      6.118      7.183      0.000      31.875      56.008\n",
       "poly(horsepower, degree=3)[2]    -5.7848      5.847     -0.989      0.324     -17.317       5.748\n",
       "==============================================================================\n",
       "Omnibus:                        9.940   Durbin-Watson:                   2.149\n",
       "Prob(Omnibus):                  0.007   Jarque-Bera (JB):               20.088\n",
       "Skew:                           0.125   Prob(JB):                     4.34e-05\n",
       "Kurtosis:                       4.548   Cond. No.                         19.8\n",
       "==============================================================================\n",
       "\n",
       "Notes:\n",
       "[1] Standard Errors assume that the covariance matrix of the errors is correctly specified.\n",
       "\"\"\""
      ]
     },
     "execution_count": 15,
     "metadata": {},
     "output_type": "execute_result"
    }
   ],
   "source": [
    "hp_mm = MS([poly('horsepower', 3)])\n",
    "X = hp_mm.fit_transform(Auto)\n",
    "y = Auto['mpg']\n",
    "X_train, X_val, y_train, y_val = train_test_split(X, y, test_size=0.5, random_state=0)\n",
    "X_train.shape\n",
    "model = sm.OLS(y_train, X_train)\n",
    "results = model.fit()\n",
    "results.summary()"
   ]
  },
  {
   "cell_type": "code",
   "execution_count": 16,
   "metadata": {},
   "outputs": [
    {
     "data": {
      "text/html": [
       "<table class=\"simpletable\">\n",
       "<caption>OLS Regression Results</caption>\n",
       "<tr>\n",
       "  <th>Dep. Variable:</th>           <td>mpg</td>       <th>  R-squared:         </th> <td>   0.690</td>\n",
       "</tr>\n",
       "<tr>\n",
       "  <th>Model:</th>                   <td>OLS</td>       <th>  Adj. R-squared:    </th> <td>   0.687</td>\n",
       "</tr>\n",
       "<tr>\n",
       "  <th>Method:</th>             <td>Least Squares</td>  <th>  F-statistic:       </th> <td>   214.6</td>\n",
       "</tr>\n",
       "<tr>\n",
       "  <th>Date:</th>             <td>Sun, 09 Feb 2025</td> <th>  Prob (F-statistic):</th> <td>8.70e-50</td>\n",
       "</tr>\n",
       "<tr>\n",
       "  <th>Time:</th>                 <td>10:57:15</td>     <th>  Log-Likelihood:    </th> <td> -567.79</td>\n",
       "</tr>\n",
       "<tr>\n",
       "  <th>No. Observations:</th>      <td>   196</td>      <th>  AIC:               </th> <td>   1142.</td>\n",
       "</tr>\n",
       "<tr>\n",
       "  <th>Df Residuals:</th>          <td>   193</td>      <th>  BIC:               </th> <td>   1151.</td>\n",
       "</tr>\n",
       "<tr>\n",
       "  <th>Df Model:</th>              <td>     2</td>      <th>                     </th>     <td> </td>   \n",
       "</tr>\n",
       "<tr>\n",
       "  <th>Covariance Type:</th>      <td>nonrobust</td>    <th>                     </th>     <td> </td>   \n",
       "</tr>\n",
       "</table>\n",
       "<table class=\"simpletable\">\n",
       "<tr>\n",
       "                <td></td>                   <th>coef</th>     <th>std err</th>      <th>t</th>      <th>P>|t|</th>  <th>[0.025</th>    <th>0.975]</th>  \n",
       "</tr>\n",
       "<tr>\n",
       "  <th>intercept</th>                     <td>   23.5173</td> <td>    0.316</td> <td>   74.496</td> <td> 0.000</td> <td>   22.895</td> <td>   24.140</td>\n",
       "</tr>\n",
       "<tr>\n",
       "  <th>poly(horsepower, degree=2)[0]</th> <td> -120.7043</td> <td>    6.123</td> <td>  -19.713</td> <td> 0.000</td> <td> -132.781</td> <td> -108.628</td>\n",
       "</tr>\n",
       "<tr>\n",
       "  <th>poly(horsepower, degree=2)[1]</th> <td>   43.7180</td> <td>    6.113</td> <td>    7.151</td> <td> 0.000</td> <td>   31.661</td> <td>   55.776</td>\n",
       "</tr>\n",
       "</table>\n",
       "<table class=\"simpletable\">\n",
       "<tr>\n",
       "  <th>Omnibus:</th>       <td> 9.097</td> <th>  Durbin-Watson:     </th> <td>   2.148</td>\n",
       "</tr>\n",
       "<tr>\n",
       "  <th>Prob(Omnibus):</th> <td> 0.011</td> <th>  Jarque-Bera (JB):  </th> <td>  16.562</td>\n",
       "</tr>\n",
       "<tr>\n",
       "  <th>Skew:</th>          <td> 0.154</td> <th>  Prob(JB):          </th> <td>0.000253</td>\n",
       "</tr>\n",
       "<tr>\n",
       "  <th>Kurtosis:</th>      <td> 4.390</td> <th>  Cond. No.          </th> <td>    19.8</td>\n",
       "</tr>\n",
       "</table><br/><br/>Notes:<br/>[1] Standard Errors assume that the covariance matrix of the errors is correctly specified."
      ],
      "text/plain": [
       "<class 'statsmodels.iolib.summary.Summary'>\n",
       "\"\"\"\n",
       "                            OLS Regression Results                            \n",
       "==============================================================================\n",
       "Dep. Variable:                    mpg   R-squared:                       0.690\n",
       "Model:                            OLS   Adj. R-squared:                  0.687\n",
       "Method:                 Least Squares   F-statistic:                     214.6\n",
       "Date:                Sun, 09 Feb 2025   Prob (F-statistic):           8.70e-50\n",
       "Time:                        10:57:15   Log-Likelihood:                -567.79\n",
       "No. Observations:                 196   AIC:                             1142.\n",
       "Df Residuals:                     193   BIC:                             1151.\n",
       "Df Model:                           2                                         \n",
       "Covariance Type:            nonrobust                                         \n",
       "=================================================================================================\n",
       "                                    coef    std err          t      P>|t|      [0.025      0.975]\n",
       "-------------------------------------------------------------------------------------------------\n",
       "intercept                        23.5173      0.316     74.496      0.000      22.895      24.140\n",
       "poly(horsepower, degree=2)[0]  -120.7043      6.123    -19.713      0.000    -132.781    -108.628\n",
       "poly(horsepower, degree=2)[1]    43.7180      6.113      7.151      0.000      31.661      55.776\n",
       "==============================================================================\n",
       "Omnibus:                        9.097   Durbin-Watson:                   2.148\n",
       "Prob(Omnibus):                  0.011   Jarque-Bera (JB):               16.562\n",
       "Skew:                           0.154   Prob(JB):                     0.000253\n",
       "Kurtosis:                       4.390   Cond. No.                         19.8\n",
       "==============================================================================\n",
       "\n",
       "Notes:\n",
       "[1] Standard Errors assume that the covariance matrix of the errors is correctly specified.\n",
       "\"\"\""
      ]
     },
     "execution_count": 16,
     "metadata": {},
     "output_type": "execute_result"
    }
   ],
   "source": [
    "hp_mm = MS([poly('horsepower', 2)])\n",
    "X = hp_mm.fit_transform(Auto)\n",
    "y = Auto['mpg']\n",
    "X_train, X_val, y_train, y_val = train_test_split(X, y, test_size=0.5, random_state=0)\n",
    "X_train.shape\n",
    "model = sm.OLS(y_train, X_train)\n",
    "results = model.fit()\n",
    "results.summary()"
   ]
  },
  {
   "cell_type": "code",
   "execution_count": null,
   "metadata": {},
   "outputs": [],
   "source": []
  }
 ],
 "metadata": {
  "kernelspec": {
   "display_name": "base",
   "language": "python",
   "name": "python3"
  },
  "language_info": {
   "codemirror_mode": {
    "name": "ipython",
    "version": 3
   },
   "file_extension": ".py",
   "mimetype": "text/x-python",
   "name": "python",
   "nbconvert_exporter": "python",
   "pygments_lexer": "ipython3",
   "version": "3.10.9"
  }
 },
 "nbformat": 4,
 "nbformat_minor": 2
}
