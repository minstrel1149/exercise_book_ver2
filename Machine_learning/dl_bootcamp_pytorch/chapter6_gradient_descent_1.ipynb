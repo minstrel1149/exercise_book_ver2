{
 "cells": [
  {
   "cell_type": "code",
   "execution_count": 2,
   "metadata": {},
   "outputs": [],
   "source": [
    "import torch\n",
    "import torch.nn as nn\n",
    "import torch.nn.functional as F\n",
    "import numpy as np"
   ]
  },
  {
   "cell_type": "code",
   "execution_count": 12,
   "metadata": {},
   "outputs": [],
   "source": [
    "target = torch.FloatTensor([i + 1 for i in range(9)]).reshape(3, 3)"
   ]
  },
  {
   "cell_type": "code",
   "execution_count": 13,
   "metadata": {},
   "outputs": [
    {
     "data": {
      "text/plain": [
       "tensor([[0.2538, 0.2181, 0.8582],\n",
       "        [0.8002, 0.8241, 0.6895],\n",
       "        [0.8296, 0.3412, 0.1851]], requires_grad=True)"
      ]
     },
     "execution_count": 13,
     "metadata": {},
     "output_type": "execute_result"
    }
   ],
   "source": [
    "x = torch.rand_like(target)\n",
    "x.requires_grad = True\n",
    "x"
   ]
  },
  {
   "cell_type": "code",
   "execution_count": 14,
   "metadata": {},
   "outputs": [
    {
     "data": {
      "text/plain": [
       "tensor(26.5145, grad_fn=<MseLossBackward0>)"
      ]
     },
     "execution_count": 14,
     "metadata": {},
     "output_type": "execute_result"
    }
   ],
   "source": [
    "loss = F.mse_loss(x, target)\n",
    "loss"
   ]
  },
  {
   "cell_type": "code",
   "execution_count": 15,
   "metadata": {},
   "outputs": [
    {
     "name": "stdout",
     "output_type": "stream",
     "text": [
      "1-th Loss: 1.6040e+01\n",
      "tensor([[0.4196, 0.6141, 1.3342],\n",
      "        [1.5112, 1.7521, 1.8696],\n",
      "        [2.2008, 2.0432, 2.1439]], requires_grad=True)\n",
      "2-th Loss: 9.7030e+00\n",
      "tensor([[0.5486, 0.9221, 1.7043],\n",
      "        [2.0643, 2.4739, 2.7875],\n",
      "        [3.2673, 3.3669, 3.6675]], requires_grad=True)\n",
      "3-th Loss: 5.8697e+00\n",
      "tensor([[0.6489, 1.1616, 1.9923],\n",
      "        [2.4945, 3.0352, 3.5014],\n",
      "        [4.0968, 4.3965, 4.8525]], requires_grad=True)\n",
      "4-th Loss: 3.5508e+00\n",
      "tensor([[0.7269, 1.3479, 2.2162],\n",
      "        [2.8290, 3.4718, 4.0566],\n",
      "        [4.7419, 5.1973, 5.7742]], requires_grad=True)\n",
      "5-th Loss: 2.1480e+00\n",
      "tensor([[0.7876, 1.4928, 2.3904],\n",
      "        [3.0892, 3.8114, 4.4885],\n",
      "        [5.2437, 5.8201, 6.4910]], requires_grad=True)\n",
      "6-th Loss: 1.2994e+00\n",
      "tensor([[0.8348, 1.6055, 2.5259],\n",
      "        [3.2916, 4.0756, 4.8244],\n",
      "        [5.6340, 6.3045, 7.0486]], requires_grad=True)\n",
      "7-th Loss: 7.8607e-01\n",
      "tensor([[0.8715, 1.6932, 2.6312],\n",
      "        [3.4490, 4.2810, 5.0856],\n",
      "        [5.9376, 6.6813, 7.4822]], requires_grad=True)\n",
      "8-th Loss: 4.7552e-01\n",
      "tensor([[0.9001, 1.7614, 2.7132],\n",
      "        [3.5715, 4.4408, 5.2888],\n",
      "        [6.1737, 6.9743, 7.8195]], requires_grad=True)\n",
      "9-th Loss: 2.8766e-01\n",
      "tensor([[0.9223, 1.8144, 2.7769],\n",
      "        [3.6667, 4.5650, 5.4469],\n",
      "        [6.3573, 7.2023, 8.0818]], requires_grad=True)\n",
      "10-th Loss: 1.7402e-01\n",
      "tensor([[0.9395, 1.8556, 2.8265],\n",
      "        [3.7408, 4.6617, 5.5698],\n",
      "        [6.5001, 7.3795, 8.2859]], requires_grad=True)\n",
      "11-th Loss: 1.0527e-01\n",
      "tensor([[0.9530, 1.8877, 2.8650],\n",
      "        [3.7984, 4.7369, 5.6654],\n",
      "        [6.6112, 7.5174, 8.4446]], requires_grad=True)\n",
      "12-th Loss: 6.3682e-02\n",
      "tensor([[0.9634, 1.9127, 2.8950],\n",
      "        [3.8432, 4.7953, 5.7397],\n",
      "        [6.6976, 7.6247, 8.5680]], requires_grad=True)\n",
      "13-th Loss: 3.8524e-02\n",
      "tensor([[0.9716, 1.9321, 2.9184],\n",
      "        [3.8780, 4.8408, 5.7976],\n",
      "        [6.7648, 7.7081, 8.6640]], requires_grad=True)\n",
      "14-th Loss: 2.3304e-02\n",
      "tensor([[0.9779, 1.9472, 2.9365],\n",
      "        [3.9051, 4.8762, 5.8426],\n",
      "        [6.8171, 7.7729, 8.7387]], requires_grad=True)\n",
      "15-th Loss: 1.4098e-02\n",
      "tensor([[0.9828, 1.9589, 2.9506],\n",
      "        [3.9262, 4.9037, 5.8775],\n",
      "        [6.8577, 7.8234, 8.7967]], requires_grad=True)\n",
      "16-th Loss: 8.5283e-03\n",
      "tensor([[0.9866, 1.9680, 2.9616],\n",
      "        [3.9426, 4.9251, 5.9048],\n",
      "        [6.8893, 7.8626, 8.8419]], requires_grad=True)\n",
      "17-th Loss: 5.1591e-03\n",
      "tensor([[0.9896, 1.9751, 2.9701],\n",
      "        [3.9554, 4.9418, 5.9259],\n",
      "        [6.9139, 7.8932, 8.8770]], requires_grad=True)\n",
      "18-th Loss: 3.1209e-03\n",
      "tensor([[0.9919, 1.9807, 2.9768],\n",
      "        [3.9653, 4.9547, 5.9424],\n",
      "        [6.9331, 7.9169, 8.9044]], requires_grad=True)\n",
      "19-th Loss: 1.8880e-03\n",
      "tensor([[0.9937, 1.9850, 2.9819],\n",
      "        [3.9730, 4.9648, 5.9552],\n",
      "        [6.9479, 7.9354, 8.9256]], requires_grad=True)\n",
      "20-th Loss: 1.1421e-03\n",
      "tensor([[0.9951, 1.9883, 2.9859],\n",
      "        [3.9790, 4.9726, 5.9651],\n",
      "        [6.9595, 7.9497, 8.9421]], requires_grad=True)\n",
      "21-th Loss: 6.9090e-04\n",
      "tensor([[0.9962, 1.9909, 2.9891],\n",
      "        [3.9837, 4.9787, 5.9729],\n",
      "        [6.9685, 7.9609, 8.9550]], requires_grad=True)\n",
      "22-th Loss: 4.1795e-04\n",
      "tensor([[0.9970, 1.9929, 2.9915],\n",
      "        [3.9873, 4.9834, 5.9789],\n",
      "        [6.9755, 7.9696, 8.9650]], requires_grad=True)\n",
      "23-th Loss: 2.5284e-04\n",
      "tensor([[0.9977, 1.9945, 2.9934],\n",
      "        [3.9901, 4.9871, 5.9836],\n",
      "        [6.9809, 7.9763, 8.9728]], requires_grad=True)\n",
      "24-th Loss: 1.5295e-04\n",
      "tensor([[0.9982, 1.9957, 2.9949],\n",
      "        [3.9923, 4.9900, 5.9872],\n",
      "        [6.9852, 7.9816, 8.9788]], requires_grad=True)\n",
      "25-th Loss: 9.2526e-05\n",
      "tensor([[0.9986, 1.9967, 2.9960],\n",
      "        [3.9940, 4.9922, 5.9901],\n",
      "        [6.9885, 7.9857, 8.9835]], requires_grad=True)\n",
      "26-th Loss: 5.5973e-05\n",
      "tensor([[0.9989, 1.9974, 2.9969],\n",
      "        [3.9954, 4.9939, 5.9923],\n",
      "        [6.9910, 7.9889, 8.9872]], requires_grad=True)\n",
      "27-th Loss: 3.3860e-05\n",
      "tensor([[0.9992, 1.9980, 2.9976],\n",
      "        [3.9964, 4.9953, 5.9940],\n",
      "        [6.9930, 7.9913, 8.9900]], requires_grad=True)\n",
      "28-th Loss: 2.0484e-05\n",
      "tensor([[0.9993, 1.9984, 2.9981],\n",
      "        [3.9972, 4.9963, 5.9953],\n",
      "        [6.9946, 7.9933, 8.9923]], requires_grad=True)\n",
      "29-th Loss: 1.2391e-05\n",
      "tensor([[0.9995, 1.9988, 2.9985],\n",
      "        [3.9978, 4.9971, 5.9964],\n",
      "        [6.9958, 7.9948, 8.9940]], requires_grad=True)\n",
      "30-th Loss: 7.4961e-06\n",
      "tensor([[0.9996, 1.9991, 2.9989],\n",
      "        [3.9983, 4.9978, 5.9972],\n",
      "        [6.9967, 7.9959, 8.9953]], requires_grad=True)\n"
     ]
    }
   ],
   "source": [
    "thrs = 1e-5\n",
    "learning_rate = 1\n",
    "iter_cnt = 0\n",
    "\n",
    "while loss > thrs:\n",
    "    iter_cnt += 1\n",
    "    loss.backward()\n",
    "    x = x - learning_rate * x.grad\n",
    "\n",
    "    x.detach_()\n",
    "    x.requires_grad_(True)\n",
    "\n",
    "    loss = F.mse_loss(x, target)\n",
    "\n",
    "    print(f'{iter_cnt}-th Loss: {loss:.4e}')\n",
    "    print(x)"
   ]
  },
  {
   "cell_type": "code",
   "execution_count": 16,
   "metadata": {},
   "outputs": [],
   "source": [
    "x = torch.FloatTensor([i + 1 for i in range(4)]).reshape(2, 2).requires_grad_(True)"
   ]
  },
  {
   "cell_type": "code",
   "execution_count": 17,
   "metadata": {},
   "outputs": [],
   "source": [
    "x1 = x + 2\n",
    "x2 = x - 2\n",
    "x3 = x1 * x2\n",
    "y = x3.sum()"
   ]
  },
  {
   "cell_type": "code",
   "execution_count": 18,
   "metadata": {},
   "outputs": [
    {
     "data": {
      "text/plain": [
       "(tensor([[3., 4.],\n",
       "         [5., 6.]], grad_fn=<AddBackward0>),\n",
       " tensor([[-1.,  0.],\n",
       "         [ 1.,  2.]], grad_fn=<SubBackward0>),\n",
       " tensor([[-3.,  0.],\n",
       "         [ 5., 12.]], grad_fn=<MulBackward0>),\n",
       " tensor(14., grad_fn=<SumBackward0>))"
      ]
     },
     "execution_count": 18,
     "metadata": {},
     "output_type": "execute_result"
    }
   ],
   "source": [
    "x1, x2, x3, y"
   ]
  },
  {
   "cell_type": "code",
   "execution_count": 19,
   "metadata": {},
   "outputs": [],
   "source": [
    "y.backward()"
   ]
  },
  {
   "cell_type": "code",
   "execution_count": 23,
   "metadata": {},
   "outputs": [
    {
     "name": "stdout",
     "output_type": "stream",
     "text": [
      "tensor([[2., 4.],\n",
      "        [6., 8.]])\n"
     ]
    }
   ],
   "source": [
    "print(x.grad)"
   ]
  },
  {
   "cell_type": "code",
   "execution_count": 24,
   "metadata": {},
   "outputs": [
    {
     "data": {
      "text/plain": [
       "tensor([[-3.,  0.],\n",
       "        [ 5., 12.]])"
      ]
     },
     "execution_count": 24,
     "metadata": {},
     "output_type": "execute_result"
    }
   ],
   "source": [
    "x3.detach_()"
   ]
  },
  {
   "cell_type": "code",
   "execution_count": 25,
   "metadata": {},
   "outputs": [
    {
     "name": "stdout",
     "output_type": "stream",
     "text": [
      "tensor([[2., 4.],\n",
      "        [6., 8.]])\n"
     ]
    }
   ],
   "source": [
    "print(x.grad)"
   ]
  },
  {
   "cell_type": "code",
   "execution_count": null,
   "metadata": {},
   "outputs": [],
   "source": []
  }
 ],
 "metadata": {
  "kernelspec": {
   "display_name": "base",
   "language": "python",
   "name": "python3"
  },
  "language_info": {
   "codemirror_mode": {
    "name": "ipython",
    "version": 3
   },
   "file_extension": ".py",
   "mimetype": "text/x-python",
   "name": "python",
   "nbconvert_exporter": "python",
   "pygments_lexer": "ipython3",
   "version": "3.9.12"
  },
  "orig_nbformat": 4
 },
 "nbformat": 4,
 "nbformat_minor": 2
}
