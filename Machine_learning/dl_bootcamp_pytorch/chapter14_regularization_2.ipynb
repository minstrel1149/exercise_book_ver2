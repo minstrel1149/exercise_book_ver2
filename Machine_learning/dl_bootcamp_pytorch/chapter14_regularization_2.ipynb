{
 "cells": [
  {
   "cell_type": "code",
   "execution_count": 1,
   "metadata": {},
   "outputs": [],
   "source": [
    "import torch\n",
    "import torch.nn as nn\n",
    "import torch.nn.functional as F\n",
    "import torch.optim as optim\n",
    "import numpy as np\n",
    "import pandas as pd\n",
    "import matplotlib.pyplot as plt\n",
    "import seaborn as sns\n",
    "from copy import deepcopy"
   ]
  },
  {
   "cell_type": "code",
   "execution_count": 2,
   "metadata": {},
   "outputs": [],
   "source": [
    "from sklearn.preprocessing import StandardScaler\n",
    "from sklearn.metrics import roc_auc_score\n",
    "from sklearn.metrics import confusion_matrix"
   ]
  },
  {
   "cell_type": "code",
   "execution_count": 3,
   "metadata": {},
   "outputs": [],
   "source": [
    "from sklearn.datasets import load_breast_cancer\n",
    "from torchvision import datasets, transforms"
   ]
  },
  {
   "cell_type": "code",
   "execution_count": 4,
   "metadata": {},
   "outputs": [],
   "source": [
    "train = datasets.MNIST('../data', train=True, transform=transforms.Compose([transforms.ToTensor()]))\n",
    "test = datasets.MNIST('../data', train=False, transform=transforms.Compose([transforms.ToTensor()]))"
   ]
  },
  {
   "cell_type": "code",
   "execution_count": 5,
   "metadata": {},
   "outputs": [],
   "source": [
    "X = train.data.float() / 255\n",
    "y = train.targets\n",
    "X = X.reshape(X.size(0), -1)"
   ]
  },
  {
   "cell_type": "code",
   "execution_count": 6,
   "metadata": {},
   "outputs": [],
   "source": [
    "input_size = X.size(-1)\n",
    "output_size = int(max(y)) + 1"
   ]
  },
  {
   "cell_type": "code",
   "execution_count": 7,
   "metadata": {},
   "outputs": [],
   "source": [
    "ratios = [0.8, 0.2]\n",
    "\n",
    "train_cnt = int(X.size(0) * ratios[0])\n",
    "valid_cnt = X.size(0) - train_cnt\n",
    "test_cnt = len(test.data)\n",
    "cnts = [train_cnt, valid_cnt]"
   ]
  },
  {
   "cell_type": "code",
   "execution_count": 8,
   "metadata": {},
   "outputs": [
    {
     "name": "stdout",
     "output_type": "stream",
     "text": [
      "torch.Size([48000, 784]) torch.Size([48000])\n",
      "torch.Size([12000, 784]) torch.Size([12000])\n",
      "torch.Size([10000, 784]) torch.Size([10000])\n"
     ]
    }
   ],
   "source": [
    "indices = torch.randperm(len(train.data))\n",
    "X = list(torch.index_select(X, dim=0, index=indices).split(cnts, dim=0))\n",
    "y = list(torch.index_select(y, dim=0, index=indices).split(cnts, dim=0))\n",
    "X += [(test.data.float() / 255).reshape(test_cnt, -1)]\n",
    "y += [test.targets]\n",
    "\n",
    "for X_i, y_i in zip(X, y):\n",
    "    print(X_i.size(), y_i.size())"
   ]
  },
  {
   "cell_type": "code",
   "execution_count": 1,
   "metadata": {},
   "outputs": [],
   "source": [
    "import torch\n",
    "import torch.nn as nn\n",
    "import torch.nn.functional as F\n",
    "import torch.optim as optim\n",
    "import numpy as np\n",
    "import pandas as pd\n",
    "import matplotlib.pyplot as plt\n",
    "import seaborn as sns\n",
    "from copy import deepcopy"
   ]
  },
  {
   "cell_type": "code",
   "execution_count": 2,
   "metadata": {},
   "outputs": [],
   "source": [
    "from sklearn.preprocessing import StandardScaler\n",
    "from sklearn.metrics import roc_auc_score\n",
    "from sklearn.metrics import confusion_matrix"
   ]
  },
  {
   "cell_type": "code",
   "execution_count": 3,
   "metadata": {},
   "outputs": [],
   "source": [
    "from sklearn.datasets import load_breast_cancer\n",
    "from torchvision import datasets, transforms"
   ]
  },
  {
   "cell_type": "code",
   "execution_count": 4,
   "metadata": {},
   "outputs": [],
   "source": [
    "train = datasets.MNIST('../data', train=True, transform=transforms.Compose([transforms.ToTensor()]))\n",
    "test = datasets.MNIST('../data', train=False, transform=transforms.Compose([transforms.ToTensor()]))"
   ]
  },
  {
   "cell_type": "code",
   "execution_count": 5,
   "metadata": {},
   "outputs": [
    {
     "data": {
      "text/plain": [
       "(torch.Size([60000, 784]), torch.Size([60000]))"
      ]
     },
     "execution_count": 5,
     "metadata": {},
     "output_type": "execute_result"
    }
   ],
   "source": [
    "X = train.data.float() / 255\n",
    "y = train.targets\n",
    "X = X.reshape(X.size(0), -1)\n",
    "X.shape, y.shape"
   ]
  },
  {
   "cell_type": "code",
   "execution_count": 6,
   "metadata": {},
   "outputs": [],
   "source": [
    "input_size = X.size(-1)\n",
    "output_size = int(max(y)) + 1"
   ]
  },
  {
   "cell_type": "code",
   "execution_count": 7,
   "metadata": {},
   "outputs": [],
   "source": [
    "ratios = [0.8, 0.2]\n",
    "train_cnt = int(X.size(0) * ratios[0])\n",
    "valid_cnt = X.size(0) - train_cnt\n",
    "test_cnt = len(test.data)\n",
    "cnts = [train_cnt, valid_cnt]"
   ]
  },
  {
   "cell_type": "code",
   "execution_count": 8,
   "metadata": {},
   "outputs": [
    {
     "name": "stdout",
     "output_type": "stream",
     "text": [
      "torch.Size([48000, 784]) torch.Size([48000])\n",
      "torch.Size([12000, 784]) torch.Size([12000])\n",
      "torch.Size([10000, 784]) torch.Size([10000])\n"
     ]
    }
   ],
   "source": [
    "indices = torch.randperm(X.size(0))\n",
    "X = torch.index_select(X, dim=0, index=indices)\n",
    "y = torch.index_select(y, dim=0, index=indices)\n",
    "X = list(X.split(cnts, dim=0))\n",
    "y = list(y.split(cnts, dim=0))\n",
    "X += [(test.data.float() / 255).reshape(test_cnt, -1)]\n",
    "y += [test.targets]\n",
    "\n",
    "for X_i, y_i in zip(X, y):\n",
    "    print(X_i.size(), y_i.size())"
   ]
  },
  {
   "cell_type": "code",
   "execution_count": 9,
   "metadata": {},
   "outputs": [],
   "source": [
    "class Block(nn.Module):\n",
    "    def __init__(self, input_size, output_size, use_batch_norm=True, dropout_p=0.4):\n",
    "        self.input_size = input_size\n",
    "        self.output_size = output_size\n",
    "        self.use_batch_norm = use_batch_norm\n",
    "        self.dropout_p = dropout_p\n",
    "\n",
    "        super().__init__()\n",
    "\n",
    "        def get_regularizer(use_batch_norm, size):\n",
    "            return nn.BatchNorm1d(size) if use_batch_norm else nn.Dropout(dropout_p)\n",
    "        \n",
    "        self.block = nn.Sequential(nn.Linear(input_size, output_size), nn.LeakyReLU(), get_regularizer(use_batch_norm, output_size))\n",
    "\n",
    "    def forward(self, X):\n",
    "        y = self.block(X)\n",
    "        return y"
   ]
  },
  {
   "cell_type": "code",
   "execution_count": 10,
   "metadata": {},
   "outputs": [],
   "source": [
    "class MyModel(nn.Module):\n",
    "    def __init__(self, input_size, output_size, use_batch_norm=True, dropout_p=0.4):\n",
    "        super().__init__()\n",
    "\n",
    "        self.layers = nn.Sequential(\n",
    "            Block(input_size, 500, use_batch_norm, dropout_p),\n",
    "            Block(500, 400, use_batch_norm, dropout_p),\n",
    "            Block(400, 300, use_batch_norm, dropout_p),\n",
    "            Block(300, 200, use_batch_norm, dropout_p),\n",
    "            Block(200, 100, use_batch_norm, dropout_p),\n",
    "            Block(100, 50, use_batch_norm, dropout_p),\n",
    "            nn.Linear(50, output_size),\n",
    "            nn.LogSoftmax(dim=-1)\n",
    "        )\n",
    "\n",
    "    def forward(self, X):\n",
    "        y = self.layers(X)\n",
    "        return y"
   ]
  },
  {
   "cell_type": "code",
   "execution_count": 12,
   "metadata": {},
   "outputs": [],
   "source": [
    "model = MyModel(input_size, output_size, use_batch_norm=True)\n",
    "optimizer = optim.Adam(model.parameters())\n",
    "crit = nn.NLLLoss()"
   ]
  },
  {
   "cell_type": "code",
   "execution_count": 13,
   "metadata": {},
   "outputs": [],
   "source": [
    "n_epochs = 1000\n",
    "batch_size = 256\n",
    "print_interval = 10\n",
    "early_stop = 50\n",
    "lowest_loss = np.inf\n",
    "best_model = None\n",
    "lowest_epoch = np.inf"
   ]
  },
  {
   "cell_type": "code",
   "execution_count": 14,
   "metadata": {},
   "outputs": [
    {
     "name": "stdout",
     "output_type": "stream",
     "text": [
      "Epoch 10: train loss=2.4000e-02, valid loss=8.0613e-02, lowest loss=7.9320e-02\n",
      "Epoch 20: train loss=1.1618e-02, valid loss=9.9163e-02, lowest loss=7.9320e-02\n",
      "Epoch 30: train loss=1.2915e-02, valid loss=9.0637e-02, lowest loss=7.9320e-02\n",
      "Epoch 40: train loss=9.9450e-03, valid loss=8.6426e-02, lowest loss=7.6102e-02\n",
      "Epoch 50: train loss=3.5601e-03, valid loss=1.0302e-01, lowest loss=7.6102e-02\n",
      "Epoch 60: train loss=2.9003e-03, valid loss=8.8176e-02, lowest loss=7.6102e-02\n",
      "Epoch 70: train loss=5.3878e-03, valid loss=9.8438e-02, lowest loss=7.6102e-02\n",
      "Epoch 80: train loss=1.7607e-03, valid loss=9.7714e-02, lowest loss=7.6102e-02\n",
      "There is no improvement during last 50 epochs.\n",
      "The best validation loss from epoch 32: 7.6102e-02\n"
     ]
    },
    {
     "data": {
      "text/plain": [
       "<All keys matched successfully>"
      ]
     },
     "execution_count": 14,
     "metadata": {},
     "output_type": "execute_result"
    }
   ],
   "source": [
    "train_history, valid_history = ([], [])\n",
    "\n",
    "for i in range(n_epochs):\n",
    "    model.train()\n",
    "\n",
    "    indices = torch.randperm(X[0].size(0))\n",
    "    X_ = torch.index_select(X[0], dim=0, index=indices)\n",
    "    y_ = torch.index_select(y[0], dim=0, index=indices)\n",
    "    X_ = X_.split(batch_size, dim=0)\n",
    "    y_ = y_.split(batch_size, dim=0)\n",
    "\n",
    "    train_loss, valid_loss = 0, 0\n",
    "    y_hat = []\n",
    "\n",
    "    for X_i, y_i in zip(X_, y_):\n",
    "        y_hat_i = model(X_i)\n",
    "        loss = crit(y_hat_i, y_i.squeeze())\n",
    "\n",
    "        optimizer.zero_grad()\n",
    "        loss.backward()\n",
    "        optimizer.step()\n",
    "        train_loss += float(loss)\n",
    "    \n",
    "    train_loss = train_loss / len(X_)\n",
    "\n",
    "    model.eval()\n",
    "    with torch.no_grad():\n",
    "        X_ = X[1].split(batch_size, dim=0)\n",
    "        y_ = y[1].split(batch_size, dim=0)\n",
    "\n",
    "        valid_loss = 0\n",
    "\n",
    "        for X_i, y_i in zip(X_, y_):\n",
    "            y_hat_i = model(X_i)\n",
    "            loss = crit(y_hat_i, y_i.squeeze())\n",
    "\n",
    "            valid_loss += float(loss)\n",
    "            y_hat += [y_hat_i]\n",
    "\n",
    "    valid_loss = valid_loss / len(X_)\n",
    "\n",
    "    train_history += [train_loss]\n",
    "    valid_history += [valid_loss]\n",
    "\n",
    "    if (i + 1) % print_interval == 0:\n",
    "        print(f'Epoch {i + 1}: train loss={train_loss:.4e}, valid loss={valid_loss:.4e}, lowest loss={lowest_loss:.4e}')\n",
    "    \n",
    "    if valid_loss < lowest_loss:\n",
    "        lowest_loss = valid_loss\n",
    "        lowest_epoch = i\n",
    "        best_model = deepcopy(model.state_dict())\n",
    "    else:\n",
    "        if early_stop > 0 and lowest_epoch + early_stop < i + 1:\n",
    "            print(f'There is no improvement during last {early_stop} epochs.')\n",
    "            break\n",
    "\n",
    "print(f'The best validation loss from epoch {lowest_epoch + 1}: {lowest_loss:.4e}')\n",
    "\n",
    "model.load_state_dict(best_model)"
   ]
  },
  {
   "cell_type": "code",
   "execution_count": 15,
   "metadata": {},
   "outputs": [
    {
     "data": {
      "image/png": "[encoded data removed]",
      "text/plain": [
       "<Figure size 1440x288 with 1 Axes>"
      ]
     },
     "metadata": {
      "needs_background": "light"
     },
     "output_type": "display_data"
    }
   ],
   "source": [
    "plot_from = 0\n",
    "\n",
    "fig, ax = plt.subplots(1, 1, figsize=(20, 4))\n",
    "plt.title('Train / Valid Loss History')\n",
    "ax.plot(range(plot_from, len(train_history)), train_history[plot_from:],\n",
    "         range(plot_from, len(valid_history)), valid_history[plot_from:])\n",
    "plt.grid(True)\n",
    "plt.yscale('log')\n",
    "plt.legend(['Train', 'Valid'])\n",
    "plt.show()"
   ]
  },
  {
   "cell_type": "code",
   "execution_count": 16,
   "metadata": {},
   "outputs": [
    {
     "name": "stdout",
     "output_type": "stream",
     "text": [
      "Train loss: 6.5998e-03\n",
      "Valid loss: 7.6102e-02\n",
      "Test loss: 7.0264e-02\n"
     ]
    }
   ],
   "source": [
    "test_loss = 0\n",
    "y_hat = []\n",
    "\n",
    "model.eval()\n",
    "with torch.no_grad():\n",
    "    X_ = X[2].split(batch_size, dim=0)\n",
    "    y_ = y[2].split(batch_size, dim=0)\n",
    "\n",
    "    for X_i, y_i in zip(X_, y_):\n",
    "        y_hat_i = model(X_i)\n",
    "        loss = crit(y_hat_i, y_i.squeeze())\n",
    "\n",
    "        test_loss += float(loss)\n",
    "        y_hat += [y_hat_i]\n",
    "\n",
    "test_loss = test_loss / len(X_)\n",
    "y_hat = torch.concat(y_hat, dim=0)\n",
    "\n",
    "sorted_history = sorted(zip(train_history, valid_history), key=lambda x: x[1])\n",
    "\n",
    "print(f'Train loss: {sorted_history[0][0]:.4e}')\n",
    "print(f'Valid loss: {sorted_history[0][1]:.4e}')\n",
    "print(f'Test loss: {test_loss:.4e}')"
   ]
  },
  {
   "cell_type": "code",
   "execution_count": 17,
   "metadata": {},
   "outputs": [
    {
     "name": "stdout",
     "output_type": "stream",
     "text": [
      "Test Accuracy: 0.9832\n"
     ]
    }
   ],
   "source": [
    "correct_cnt = (y[2].squeeze() == torch.argmax(y_hat, dim=-1)).sum()\n",
    "total_cnt = int(y[2].size(0))\n",
    "print(f'Test Accuracy: {correct_cnt / total_cnt:.4f}')"
   ]
  },
  {
   "cell_type": "code",
   "execution_count": 18,
   "metadata": {},
   "outputs": [
    {
     "data": {
      "text/html": [
       "<div>\n",
       "<style scoped>\n",
       "    .dataframe tbody tr th:only-of-type {\n",
       "        vertical-align: middle;\n",
       "    }\n",
       "\n",
       "    .dataframe tbody tr th {\n",
       "        vertical-align: top;\n",
       "    }\n",
       "\n",
       "    .dataframe thead th {\n",
       "        text-align: right;\n",
       "    }\n",
       "</style>\n",
       "<table border=\"1\" class=\"dataframe\">\n",
       "  <thead>\n",
       "    <tr style=\"text-align: right;\">\n",
       "      <th></th>\n",
       "      <th>Pred_0</th>\n",
       "      <th>Pred_1</th>\n",
       "      <th>Pred_2</th>\n",
       "      <th>Pred_3</th>\n",
       "      <th>Pred_4</th>\n",
       "      <th>Pred_5</th>\n",
       "      <th>Pred_6</th>\n",
       "      <th>Pred_7</th>\n",
       "      <th>Pred_8</th>\n",
       "      <th>Pred_9</th>\n",
       "    </tr>\n",
       "  </thead>\n",
       "  <tbody>\n",
       "    <tr>\n",
       "      <th>True_0</th>\n",
       "      <td>970</td>\n",
       "      <td>1</td>\n",
       "      <td>0</td>\n",
       "      <td>2</td>\n",
       "      <td>1</td>\n",
       "      <td>0</td>\n",
       "      <td>1</td>\n",
       "      <td>1</td>\n",
       "      <td>3</td>\n",
       "      <td>1</td>\n",
       "    </tr>\n",
       "    <tr>\n",
       "      <th>True_1</th>\n",
       "      <td>0</td>\n",
       "      <td>1125</td>\n",
       "      <td>2</td>\n",
       "      <td>0</td>\n",
       "      <td>0</td>\n",
       "      <td>1</td>\n",
       "      <td>1</td>\n",
       "      <td>1</td>\n",
       "      <td>5</td>\n",
       "      <td>0</td>\n",
       "    </tr>\n",
       "    <tr>\n",
       "      <th>True_2</th>\n",
       "      <td>2</td>\n",
       "      <td>1</td>\n",
       "      <td>1016</td>\n",
       "      <td>3</td>\n",
       "      <td>1</td>\n",
       "      <td>1</td>\n",
       "      <td>0</td>\n",
       "      <td>4</td>\n",
       "      <td>4</td>\n",
       "      <td>0</td>\n",
       "    </tr>\n",
       "    <tr>\n",
       "      <th>True_3</th>\n",
       "      <td>1</td>\n",
       "      <td>0</td>\n",
       "      <td>5</td>\n",
       "      <td>989</td>\n",
       "      <td>0</td>\n",
       "      <td>3</td>\n",
       "      <td>0</td>\n",
       "      <td>5</td>\n",
       "      <td>2</td>\n",
       "      <td>5</td>\n",
       "    </tr>\n",
       "    <tr>\n",
       "      <th>True_4</th>\n",
       "      <td>0</td>\n",
       "      <td>0</td>\n",
       "      <td>2</td>\n",
       "      <td>0</td>\n",
       "      <td>969</td>\n",
       "      <td>0</td>\n",
       "      <td>3</td>\n",
       "      <td>3</td>\n",
       "      <td>0</td>\n",
       "      <td>5</td>\n",
       "    </tr>\n",
       "    <tr>\n",
       "      <th>True_5</th>\n",
       "      <td>3</td>\n",
       "      <td>0</td>\n",
       "      <td>0</td>\n",
       "      <td>4</td>\n",
       "      <td>1</td>\n",
       "      <td>874</td>\n",
       "      <td>6</td>\n",
       "      <td>1</td>\n",
       "      <td>2</td>\n",
       "      <td>1</td>\n",
       "    </tr>\n",
       "    <tr>\n",
       "      <th>True_6</th>\n",
       "      <td>1</td>\n",
       "      <td>2</td>\n",
       "      <td>0</td>\n",
       "      <td>1</td>\n",
       "      <td>1</td>\n",
       "      <td>3</td>\n",
       "      <td>946</td>\n",
       "      <td>1</td>\n",
       "      <td>3</td>\n",
       "      <td>0</td>\n",
       "    </tr>\n",
       "    <tr>\n",
       "      <th>True_7</th>\n",
       "      <td>0</td>\n",
       "      <td>2</td>\n",
       "      <td>6</td>\n",
       "      <td>0</td>\n",
       "      <td>0</td>\n",
       "      <td>0</td>\n",
       "      <td>0</td>\n",
       "      <td>1010</td>\n",
       "      <td>3</td>\n",
       "      <td>7</td>\n",
       "    </tr>\n",
       "    <tr>\n",
       "      <th>True_8</th>\n",
       "      <td>0</td>\n",
       "      <td>0</td>\n",
       "      <td>1</td>\n",
       "      <td>4</td>\n",
       "      <td>1</td>\n",
       "      <td>4</td>\n",
       "      <td>0</td>\n",
       "      <td>2</td>\n",
       "      <td>959</td>\n",
       "      <td>3</td>\n",
       "    </tr>\n",
       "    <tr>\n",
       "      <th>True_9</th>\n",
       "      <td>2</td>\n",
       "      <td>2</td>\n",
       "      <td>1</td>\n",
       "      <td>6</td>\n",
       "      <td>11</td>\n",
       "      <td>6</td>\n",
       "      <td>0</td>\n",
       "      <td>2</td>\n",
       "      <td>5</td>\n",
       "      <td>974</td>\n",
       "    </tr>\n",
       "  </tbody>\n",
       "</table>\n",
       "</div>"
      ],
      "text/plain": [
       "        Pred_0  Pred_1  Pred_2  Pred_3  Pred_4  Pred_5  Pred_6  Pred_7  \\\n",
       "True_0     970       1       0       2       1       0       1       1   \n",
       "True_1       0    1125       2       0       0       1       1       1   \n",
       "True_2       2       1    1016       3       1       1       0       4   \n",
       "True_3       1       0       5     989       0       3       0       5   \n",
       "True_4       0       0       2       0     969       0       3       3   \n",
       "True_5       3       0       0       4       1     874       6       1   \n",
       "True_6       1       2       0       1       1       3     946       1   \n",
       "True_7       0       2       6       0       0       0       0    1010   \n",
       "True_8       0       0       1       4       1       4       0       2   \n",
       "True_9       2       2       1       6      11       6       0       2   \n",
       "\n",
       "        Pred_8  Pred_9  \n",
       "True_0       3       1  \n",
       "True_1       5       0  \n",
       "True_2       4       0  \n",
       "True_3       2       5  \n",
       "True_4       0       5  \n",
       "True_5       2       1  \n",
       "True_6       3       0  \n",
       "True_7       3       7  \n",
       "True_8     959       3  \n",
       "True_9       5     974  "
      ]
     },
     "execution_count": 18,
     "metadata": {},
     "output_type": "execute_result"
    }
   ],
   "source": [
    "pd.DataFrame(confusion_matrix(y[2], torch.argmax(y_hat, dim=-1)), index=[f'True_{i}' for i in range(10)], columns=[f'Pred_{i}' for i in range(10)])"
   ]
  },
  {
   "cell_type": "code",
   "execution_count": null,
   "metadata": {},
   "outputs": [],
   "source": []
  }
 ],
 "metadata": {
  "kernelspec": {
   "display_name": "base",
   "language": "python",
   "name": "python3"
  },
  "language_info": {
   "codemirror_mode": {
    "name": "ipython",
    "version": 3
   },
   "file_extension": ".py",
   "mimetype": "text/x-python",
   "name": "python",
   "nbconvert_exporter": "python",
   "pygments_lexer": "ipython3",
   "version": "3.10.9"
  },
  "orig_nbformat": 4
 },
 "nbformat": 4,
 "nbformat_minor": 2
}
