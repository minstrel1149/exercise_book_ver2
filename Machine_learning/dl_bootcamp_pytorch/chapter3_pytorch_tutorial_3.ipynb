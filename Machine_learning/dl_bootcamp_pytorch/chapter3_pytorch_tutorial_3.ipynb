{
 "cells": [
  {
   "cell_type": "code",
   "execution_count": 1,
   "metadata": {},
   "outputs": [],
   "source": [
    "import torch\n",
    "import numpy as np"
   ]
  },
  {
   "cell_type": "code",
   "execution_count": 2,
   "metadata": {},
   "outputs": [
    {
     "data": {
      "text/plain": [
       "tensor([[1., 2.],\n",
       "        [3., 4.]])"
      ]
     },
     "execution_count": 2,
     "metadata": {},
     "output_type": "execute_result"
    }
   ],
   "source": [
    "ft = torch.FloatTensor([[1, 2],\n",
    "                        [3, 4]])\n",
    "ft"
   ]
  },
  {
   "cell_type": "code",
   "execution_count": 5,
   "metadata": {},
   "outputs": [
    {
     "data": {
      "text/plain": [
       "tensor([[1, 2],\n",
       "        [3, 4]])"
      ]
     },
     "execution_count": 5,
     "metadata": {},
     "output_type": "execute_result"
    }
   ],
   "source": [
    "lt = torch.LongTensor([[1, 2],\n",
    "                       [3, 4]])\n",
    "lt"
   ]
  },
  {
   "cell_type": "code",
   "execution_count": 7,
   "metadata": {},
   "outputs": [
    {
     "data": {
      "text/plain": [
       "tensor([[1, 2],\n",
       "        [3, 4]], dtype=torch.uint8)"
      ]
     },
     "execution_count": 7,
     "metadata": {},
     "output_type": "execute_result"
    }
   ],
   "source": [
    "bt = torch.ByteTensor([[1, 2],\n",
    "                       [3, 4]])\n",
    "bt"
   ]
  },
  {
   "cell_type": "code",
   "execution_count": 8,
   "metadata": {},
   "outputs": [
    {
     "data": {
      "text/plain": [
       "tensor([[0.0000e+00, 7.7071e-44],\n",
       "        [1.7585e-04, 4.4161e-05],\n",
       "        [1.0675e-08, 8.3961e-07]])"
      ]
     },
     "execution_count": 8,
     "metadata": {},
     "output_type": "execute_result"
    }
   ],
   "source": [
    "x = torch.FloatTensor(3, 2)\n",
    "x"
   ]
  },
  {
   "cell_type": "code",
   "execution_count": 10,
   "metadata": {},
   "outputs": [
    {
     "data": {
      "text/plain": [
       "array([[1, 2],\n",
       "       [3, 4]])"
      ]
     },
     "execution_count": 10,
     "metadata": {},
     "output_type": "execute_result"
    }
   ],
   "source": [
    "xnp = np.array([[1, 2],\n",
    "                [3, 4]])\n",
    "xnp"
   ]
  },
  {
   "cell_type": "code",
   "execution_count": 11,
   "metadata": {},
   "outputs": [
    {
     "data": {
      "text/plain": [
       "tensor([[1, 2],\n",
       "        [3, 4]], dtype=torch.int32)"
      ]
     },
     "execution_count": 11,
     "metadata": {},
     "output_type": "execute_result"
    }
   ],
   "source": [
    "x = torch.from_numpy(xnp)\n",
    "x"
   ]
  },
  {
   "cell_type": "code",
   "execution_count": 12,
   "metadata": {},
   "outputs": [
    {
     "data": {
      "text/plain": [
       "array([[1, 2],\n",
       "       [3, 4]])"
      ]
     },
     "execution_count": 12,
     "metadata": {},
     "output_type": "execute_result"
    }
   ],
   "source": [
    "x.numpy()"
   ]
  },
  {
   "cell_type": "code",
   "execution_count": 14,
   "metadata": {},
   "outputs": [
    {
     "data": {
      "text/plain": [
       "(tensor([[1, 2],\n",
       "         [3, 4]]),\n",
       " tensor([[1., 2.],\n",
       "         [3., 4.]]))"
      ]
     },
     "execution_count": 14,
     "metadata": {},
     "output_type": "execute_result"
    }
   ],
   "source": [
    "x.long(), x.float()"
   ]
  },
  {
   "cell_type": "code",
   "execution_count": 15,
   "metadata": {},
   "outputs": [
    {
     "data": {
      "text/plain": [
       "(torch.Size([3, 2, 2]), torch.Size([3, 2, 2]), 3)"
      ]
     },
     "execution_count": 15,
     "metadata": {},
     "output_type": "execute_result"
    }
   ],
   "source": [
    "x = torch.FloatTensor([[[1, 2],\n",
    "                        [3, 4]],\n",
    "                       [[5, 6],\n",
    "                        [7, 8]],\n",
    "                       [[9, 10],\n",
    "                        [11, 12]]])\n",
    "x.size(), x.shape, x.dim()"
   ]
  },
  {
   "cell_type": "code",
   "execution_count": 17,
   "metadata": {},
   "outputs": [
    {
     "data": {
      "text/plain": [
       "(2, 2)"
      ]
     },
     "execution_count": 17,
     "metadata": {},
     "output_type": "execute_result"
    }
   ],
   "source": [
    "x.size(1), x.shape[2]"
   ]
  },
  {
   "cell_type": "code",
   "execution_count": 20,
   "metadata": {},
   "outputs": [
    {
     "data": {
      "text/plain": [
       "(tensor([[3., 4.],\n",
       "         [6., 7.]]),\n",
       " tensor([[ 2.,  4.],\n",
       "         [ 9., 12.]]),\n",
       " tensor([[ 1.,  4.],\n",
       "         [27., 64.]]),\n",
       " tensor([[False,  True],\n",
       "         [ True, False]]))"
      ]
     },
     "execution_count": 20,
     "metadata": {},
     "output_type": "execute_result"
    }
   ],
   "source": [
    "a = torch.FloatTensor(np.array([[1, 2],\n",
    "                                [3, 4]]))\n",
    "b = torch.FloatTensor(np.array([[2, 2],\n",
    "                                [3, 3]]))\n",
    "a + b, a * b, a ** b, a == b"
   ]
  },
  {
   "cell_type": "code",
   "execution_count": 22,
   "metadata": {},
   "outputs": [
    {
     "data": {
      "text/plain": [
       "(tensor(10.), tensor(2.5000), tensor([4., 6.]), tensor([3., 7.]))"
      ]
     },
     "execution_count": 22,
     "metadata": {},
     "output_type": "execute_result"
    }
   ],
   "source": [
    "a.sum(), a.mean(), a.sum(dim=0), a.sum(dim=1)"
   ]
  },
  {
   "cell_type": "code",
   "execution_count": 23,
   "metadata": {},
   "outputs": [
    {
     "data": {
      "text/plain": [
       "tensor([[ 8.,  8.],\n",
       "        [18., 18.]])"
      ]
     },
     "execution_count": 23,
     "metadata": {},
     "output_type": "execute_result"
    }
   ],
   "source": [
    "torch.from_numpy(np.dot(a, b))"
   ]
  },
  {
   "cell_type": "code",
   "execution_count": 26,
   "metadata": {},
   "outputs": [
    {
     "data": {
      "text/plain": [
       "(tensor([[ 4.,  7.],\n",
       "         [ 7., 13.]]),\n",
       " tensor([[ 4.,  5.],\n",
       "         [ 9., 13.]]))"
      ]
     },
     "execution_count": 26,
     "metadata": {},
     "output_type": "execute_result"
    }
   ],
   "source": [
    "x = torch.FloatTensor([[1, 2],\n",
    "                       [4, 8]])\n",
    "y = torch.FloatTensor([3, 5])\n",
    "x + y, x + y.reshape(-1, 1)"
   ]
  },
  {
   "cell_type": "code",
   "execution_count": 27,
   "metadata": {},
   "outputs": [
    {
     "data": {
      "text/plain": [
       "torch.Size([3, 2, 2])"
      ]
     },
     "execution_count": 27,
     "metadata": {},
     "output_type": "execute_result"
    }
   ],
   "source": [
    "x = torch.FloatTensor([[[1, 2],\n",
    "                        [3, 4]],\n",
    "                        [[5, 6],\n",
    "                         [7, 8]],\n",
    "                         [[9, 10],\n",
    "                          [11, 12]]])\n",
    "x.shape"
   ]
  },
  {
   "cell_type": "code",
   "execution_count": 28,
   "metadata": {},
   "outputs": [
    {
     "data": {
      "text/plain": [
       "(tensor([[[ 1.,  2.,  3.,  4.]],\n",
       " \n",
       "         [[ 5.,  6.,  7.,  8.]],\n",
       " \n",
       "         [[ 9., 10., 11., 12.]]]),\n",
       " torch.Size([3, 1, 4]))"
      ]
     },
     "execution_count": 28,
     "metadata": {},
     "output_type": "execute_result"
    }
   ],
   "source": [
    "y = x.reshape(-1, 1, 4)\n",
    "y, y.shape"
   ]
  },
  {
   "cell_type": "code",
   "execution_count": 30,
   "metadata": {},
   "outputs": [
    {
     "data": {
      "text/plain": [
       "(tensor([[ 1.,  2.,  3.,  4.],\n",
       "         [ 5.,  6.,  7.,  8.],\n",
       "         [ 9., 10., 11., 12.]]),\n",
       " torch.Size([3, 4]))"
      ]
     },
     "execution_count": 30,
     "metadata": {},
     "output_type": "execute_result"
    }
   ],
   "source": [
    "y.squeeze(), y.squeeze().size()"
   ]
  },
  {
   "cell_type": "code",
   "execution_count": 32,
   "metadata": {},
   "outputs": [
    {
     "data": {
      "text/plain": [
       "(tensor([[[1., 2.]],\n",
       " \n",
       "         [[3., 4.]]]),\n",
       " torch.Size([2, 1, 2]))"
      ]
     },
     "execution_count": 32,
     "metadata": {},
     "output_type": "execute_result"
    }
   ],
   "source": [
    "a.unsqueeze(1), a.unsqueeze(1).size()"
   ]
  },
  {
   "cell_type": "code",
   "execution_count": 37,
   "metadata": {},
   "outputs": [
    {
     "data": {
      "text/plain": [
       "(tensor([[1., 2.],\n",
       "         [3., 4.]]),\n",
       " tensor([[ 1.,  2.],\n",
       "         [ 5.,  6.],\n",
       "         [ 9., 10.]]),\n",
       " torch.Size([3, 1, 2]))"
      ]
     },
     "execution_count": 37,
     "metadata": {},
     "output_type": "execute_result"
    }
   ],
   "source": [
    "x[0], x[:, 0], x[:, 1:2].size()"
   ]
  },
  {
   "cell_type": "code",
   "execution_count": 38,
   "metadata": {},
   "outputs": [
    {
     "data": {
      "text/plain": [
       "(tensor([[-9.7847e+14,  6.1097e-43, -9.7847e+14,  6.1097e-43],\n",
       "         [-9.7846e+14,  6.1097e-43, -9.7846e+14,  6.1097e-43],\n",
       "         [-9.7845e+14,  6.1097e-43, -9.7845e+14,  6.1097e-43],\n",
       "         [-9.7845e+14,  6.1097e-43, -9.7844e+14,  6.1097e-43]]),\n",
       " tensor([[-9.7844e+14,  6.1097e-43, -9.7843e+14,  6.1097e-43],\n",
       "         [-9.7843e+14,  6.1097e-43, -9.7842e+14,  6.1097e-43],\n",
       "         [-9.7829e+14,  6.1097e-43, -9.7841e+14,  6.1097e-43],\n",
       "         [-9.7819e+14,  6.1097e-43, -9.7835e+14,  6.1097e-43]]),\n",
       " tensor([[-9.7838e+14,  6.1097e-43, -9.7841e+14,  6.1097e-43],\n",
       "         [-9.7831e+14,  6.1097e-43, -9.7840e+14,  6.1097e-43]]))"
      ]
     },
     "execution_count": 38,
     "metadata": {},
     "output_type": "execute_result"
    }
   ],
   "source": [
    "x = torch.FloatTensor(10, 4)\n",
    "x.split(4, dim=0)"
   ]
  },
  {
   "cell_type": "code",
   "execution_count": 39,
   "metadata": {},
   "outputs": [
    {
     "data": {
      "text/plain": [
       "(tensor([[-9.7847e+14,  6.1097e-43, -9.7847e+14,  6.1097e-43],\n",
       "         [-9.7846e+14,  6.1097e-43, -9.7846e+14,  6.1097e-43],\n",
       "         [-9.7845e+14,  6.1097e-43, -9.7845e+14,  6.1097e-43],\n",
       "         [-9.7845e+14,  6.1097e-43, -9.7844e+14,  6.1097e-43]]),\n",
       " tensor([[-9.7844e+14,  6.1097e-43, -9.7843e+14,  6.1097e-43],\n",
       "         [-9.7843e+14,  6.1097e-43, -9.7842e+14,  6.1097e-43],\n",
       "         [-9.7829e+14,  6.1097e-43, -9.7841e+14,  6.1097e-43],\n",
       "         [-9.7819e+14,  6.1097e-43, -9.7835e+14,  6.1097e-43]]),\n",
       " tensor([[-9.7838e+14,  6.1097e-43, -9.7841e+14,  6.1097e-43],\n",
       "         [-9.7831e+14,  6.1097e-43, -9.7840e+14,  6.1097e-43]]))"
      ]
     },
     "execution_count": 39,
     "metadata": {},
     "output_type": "execute_result"
    }
   ],
   "source": [
    "x.chunk(3, dim=0)"
   ]
  },
  {
   "cell_type": "code",
   "execution_count": 40,
   "metadata": {},
   "outputs": [
    {
     "data": {
      "text/plain": [
       "torch.Size([3, 2, 2])"
      ]
     },
     "execution_count": 40,
     "metadata": {},
     "output_type": "execute_result"
    }
   ],
   "source": [
    "x = torch.FloatTensor([[[1, 2],\n",
    "                        [3, 4]],\n",
    "                        [[5, 6],\n",
    "                         [7, 8]],\n",
    "                         [[9, 10],\n",
    "                          [11, 12]]])\n",
    "indice = torch.LongTensor([2, 1])\n",
    "x.shape"
   ]
  },
  {
   "cell_type": "code",
   "execution_count": 44,
   "metadata": {},
   "outputs": [
    {
     "data": {
      "text/plain": [
       "(tensor([[[ 9., 10.],\n",
       "          [11., 12.]],\n",
       " \n",
       "         [[ 5.,  6.],\n",
       "          [ 7.,  8.]]]),\n",
       " tensor([[[ 3.,  4.],\n",
       "          [ 1.,  2.]],\n",
       " \n",
       "         [[ 7.,  8.],\n",
       "          [ 5.,  6.]],\n",
       " \n",
       "         [[11., 12.],\n",
       "          [ 9., 10.]]]))"
      ]
     },
     "execution_count": 44,
     "metadata": {},
     "output_type": "execute_result"
    }
   ],
   "source": [
    "x.index_select(index=indice, dim=0), x.index_select(index=torch.LongTensor([1, 0]), dim=1)"
   ]
  },
  {
   "cell_type": "code",
   "execution_count": 45,
   "metadata": {},
   "outputs": [
    {
     "data": {
      "text/plain": [
       "(torch.Size([3, 3]), torch.Size([3, 3]))"
      ]
     },
     "execution_count": 45,
     "metadata": {},
     "output_type": "execute_result"
    }
   ],
   "source": [
    "x = torch.FloatTensor([[1, 2, 3], [4, 5, 6], [7, 8, 9]])\n",
    "y = torch.FloatTensor([[10, 11, 12], [13, 14, 15], [16, 17, 18]])\n",
    "x.shape, y.shape"
   ]
  },
  {
   "cell_type": "code",
   "execution_count": 47,
   "metadata": {},
   "outputs": [
    {
     "data": {
      "text/plain": [
       "tensor([[ 1.,  2.,  3., 10., 11., 12.],\n",
       "        [ 4.,  5.,  6., 13., 14., 15.],\n",
       "        [ 7.,  8.,  9., 16., 17., 18.]])"
      ]
     },
     "execution_count": 47,
     "metadata": {},
     "output_type": "execute_result"
    }
   ],
   "source": [
    "torch.concat([x, y], dim=-1)"
   ]
  },
  {
   "cell_type": "code",
   "execution_count": 48,
   "metadata": {},
   "outputs": [
    {
     "data": {
      "text/plain": [
       "tensor([[ 1.,  2.,  3.],\n",
       "        [ 4.,  5.,  6.],\n",
       "        [ 7.,  8.,  9.],\n",
       "        [10., 11., 12.],\n",
       "        [13., 14., 15.]])"
      ]
     },
     "execution_count": 48,
     "metadata": {},
     "output_type": "execute_result"
    }
   ],
   "source": [
    "torch.concat([x, y[0:2, :]], dim=0)"
   ]
  },
  {
   "cell_type": "code",
   "execution_count": 50,
   "metadata": {},
   "outputs": [
    {
     "data": {
      "text/plain": [
       "(tensor([[[ 1.,  2.,  3.],\n",
       "          [ 4.,  5.,  6.],\n",
       "          [ 7.,  8.,  9.]],\n",
       " \n",
       "         [[10., 11., 12.],\n",
       "          [13., 14., 15.],\n",
       "          [16., 17., 18.]]]),\n",
       " tensor([[[ 1., 10.],\n",
       "          [ 2., 11.],\n",
       "          [ 3., 12.]],\n",
       " \n",
       "         [[ 4., 13.],\n",
       "          [ 5., 14.],\n",
       "          [ 6., 15.]],\n",
       " \n",
       "         [[ 7., 16.],\n",
       "          [ 8., 17.],\n",
       "          [ 9., 18.]]]))"
      ]
     },
     "execution_count": 50,
     "metadata": {},
     "output_type": "execute_result"
    }
   ],
   "source": [
    "torch.stack([x, y]), torch.stack([x, y], dim=-1)"
   ]
  },
  {
   "cell_type": "code",
   "execution_count": 51,
   "metadata": {},
   "outputs": [
    {
     "data": {
      "text/plain": [
       "tensor([[[1., 2.],\n",
       "         [1., 2.],\n",
       "         [1., 2.]],\n",
       "\n",
       "        [[3., 4.],\n",
       "         [3., 4.],\n",
       "         [3., 4.]]])"
      ]
     },
     "execution_count": 51,
     "metadata": {},
     "output_type": "execute_result"
    }
   ],
   "source": [
    "a = torch.FloatTensor(np.array([[1, 2],\n",
    "                                [3, 4]]))\n",
    "a.reshape(2, 1, 2).expand(2, 3, 2)"
   ]
  },
  {
   "cell_type": "code",
   "execution_count": 52,
   "metadata": {},
   "outputs": [
    {
     "data": {
      "text/plain": [
       "tensor([[[1., 2.]],\n",
       "\n",
       "        [[3., 4.]]])"
      ]
     },
     "execution_count": 52,
     "metadata": {},
     "output_type": "execute_result"
    }
   ],
   "source": [
    "a.reshape(2, 1, 2)"
   ]
  },
  {
   "cell_type": "code",
   "execution_count": 53,
   "metadata": {},
   "outputs": [
    {
     "data": {
      "text/plain": [
       "tensor([6, 9, 0, 2, 5, 3, 7, 1, 4, 8])"
      ]
     },
     "execution_count": 53,
     "metadata": {},
     "output_type": "execute_result"
    }
   ],
   "source": [
    "x = torch.randperm(10)\n",
    "x"
   ]
  },
  {
   "cell_type": "code",
   "execution_count": 54,
   "metadata": {},
   "outputs": [
    {
     "data": {
      "text/plain": [
       "tensor([[[12, 26,  7],\n",
       "         [ 0, 10, 20],\n",
       "         [ 6, 23,  1]],\n",
       "\n",
       "        [[21, 19, 14],\n",
       "         [ 9, 24, 18],\n",
       "         [17, 15,  8]],\n",
       "\n",
       "        [[ 4, 13, 11],\n",
       "         [22,  5,  2],\n",
       "         [25,  3, 16]]])"
      ]
     },
     "execution_count": 54,
     "metadata": {},
     "output_type": "execute_result"
    }
   ],
   "source": [
    "x = torch.randperm(3 ** 3).reshape(3, 3, -1)\n",
    "x"
   ]
  },
  {
   "cell_type": "code",
   "execution_count": 55,
   "metadata": {},
   "outputs": [
    {
     "data": {
      "text/plain": [
       "(tensor([[1, 0, 1],\n",
       "         [2, 1, 0],\n",
       "         [2, 0, 2]]),\n",
       " tensor([[0, 0, 1],\n",
       "         [0, 1, 1],\n",
       "         [2, 0, 2]]),\n",
       " tensor([[1, 2, 1],\n",
       "         [0, 1, 0],\n",
       "         [1, 0, 0]]))"
      ]
     },
     "execution_count": 55,
     "metadata": {},
     "output_type": "execute_result"
    }
   ],
   "source": [
    "x.argmax(dim=0), x.argmax(dim=1), x.argmax(dim=-1)"
   ]
  },
  {
   "cell_type": "code",
   "execution_count": 58,
   "metadata": {},
   "outputs": [
    {
     "data": {
      "text/plain": [
       "torch.return_types.sort(\n",
       "values=tensor([[[21, 26, 14],\n",
       "         [22, 24, 20],\n",
       "         [25, 23, 16]],\n",
       "\n",
       "        [[12, 19, 11],\n",
       "         [ 9, 10, 18],\n",
       "         [17, 15,  8]],\n",
       "\n",
       "        [[ 4, 13,  7],\n",
       "         [ 0,  5,  2],\n",
       "         [ 6,  3,  1]]]),\n",
       "indices=tensor([[[1, 0, 1],\n",
       "         [2, 1, 0],\n",
       "         [2, 0, 2]],\n",
       "\n",
       "        [[0, 1, 2],\n",
       "         [1, 0, 1],\n",
       "         [1, 1, 1]],\n",
       "\n",
       "        [[2, 2, 0],\n",
       "         [0, 2, 2],\n",
       "         [0, 2, 0]]]))"
      ]
     },
     "execution_count": 58,
     "metadata": {},
     "output_type": "execute_result"
    }
   ],
   "source": [
    "torch.sort(x, dim=0, descending=True)"
   ]
  },
  {
   "cell_type": "code",
   "execution_count": 59,
   "metadata": {},
   "outputs": [
    {
     "data": {
      "text/plain": [
       "tensor([[[21, 26, 14],\n",
       "         [22, 24, 20],\n",
       "         [25, 23, 16]],\n",
       "\n",
       "        [[12, 19, 11],\n",
       "         [ 9, 10, 18],\n",
       "         [17, 15,  8]],\n",
       "\n",
       "        [[ 4, 13,  7],\n",
       "         [ 0,  5,  2],\n",
       "         [ 6,  3,  1]]])"
      ]
     },
     "execution_count": 59,
     "metadata": {},
     "output_type": "execute_result"
    }
   ],
   "source": [
    "torch.sort(x, dim=0, descending=True).values"
   ]
  },
  {
   "cell_type": "code",
   "execution_count": 61,
   "metadata": {},
   "outputs": [
    {
     "data": {
      "text/plain": [
       "(tensor([[[12, 26,  7],\n",
       "          [ 0, 10, 20],\n",
       "          [ 6, 23,  1]],\n",
       " \n",
       "         [[21, 19, 14],\n",
       "          [ 9, 24, 18],\n",
       "          [17, 15,  8]],\n",
       " \n",
       "         [[ 4, 13, 11],\n",
       "          [22,  5,  2],\n",
       "          [25,  3, 16]]]),\n",
       " tensor([[[12, 26, 20],\n",
       "          [ 6, 23,  7],\n",
       "          [ 0, 10,  1]],\n",
       " \n",
       "         [[21, 24, 18],\n",
       "          [17, 19, 14],\n",
       "          [ 9, 15,  8]],\n",
       " \n",
       "         [[25, 13, 16],\n",
       "          [22,  5, 11],\n",
       "          [ 4,  3,  2]]]))"
      ]
     },
     "execution_count": 61,
     "metadata": {},
     "output_type": "execute_result"
    }
   ],
   "source": [
    "x, torch.sort(x, dim=1, descending=True).values"
   ]
  },
  {
   "cell_type": "code",
   "execution_count": 62,
   "metadata": {},
   "outputs": [],
   "source": [
    "x = torch.FloatTensor([i for i in range(3 ** 2)]).reshape(3, -1)\n",
    "mask = x > 4"
   ]
  },
  {
   "cell_type": "code",
   "execution_count": 64,
   "metadata": {},
   "outputs": [
    {
     "data": {
      "text/plain": [
       "(tensor([[0., 1., 2.],\n",
       "         [3., 4., 5.],\n",
       "         [6., 7., 8.]]),\n",
       " tensor([[False, False, False],\n",
       "         [False, False,  True],\n",
       "         [ True,  True,  True]]))"
      ]
     },
     "execution_count": 64,
     "metadata": {},
     "output_type": "execute_result"
    }
   ],
   "source": [
    "x, mask"
   ]
  },
  {
   "cell_type": "code",
   "execution_count": 65,
   "metadata": {},
   "outputs": [
    {
     "data": {
      "text/plain": [
       "tensor([[ 0.,  1.,  2.],\n",
       "        [ 3.,  4., -1.],\n",
       "        [-1., -1., -1.]])"
      ]
     },
     "execution_count": 65,
     "metadata": {},
     "output_type": "execute_result"
    }
   ],
   "source": [
    "x.masked_fill(mask, value=-1)"
   ]
  },
  {
   "cell_type": "code",
   "execution_count": 67,
   "metadata": {},
   "outputs": [
    {
     "data": {
      "text/plain": [
       "tensor([[1., 1., 1.],\n",
       "        [1., 1., 1.]])"
      ]
     },
     "execution_count": 67,
     "metadata": {},
     "output_type": "execute_result"
    }
   ],
   "source": [
    "x = torch.ones(2, 3)\n",
    "x"
   ]
  },
  {
   "cell_type": "code",
   "execution_count": 68,
   "metadata": {},
   "outputs": [
    {
     "data": {
      "text/plain": [
       "tensor([[0., 0., 0.],\n",
       "        [0., 0., 0.]])"
      ]
     },
     "execution_count": 68,
     "metadata": {},
     "output_type": "execute_result"
    }
   ],
   "source": [
    "torch.zeros_like(x)"
   ]
  },
  {
   "cell_type": "code",
   "execution_count": null,
   "metadata": {},
   "outputs": [],
   "source": []
  }
 ],
 "metadata": {
  "kernelspec": {
   "display_name": "base",
   "language": "python",
   "name": "python3"
  },
  "language_info": {
   "codemirror_mode": {
    "name": "ipython",
    "version": 3
   },
   "file_extension": ".py",
   "mimetype": "text/x-python",
   "name": "python",
   "nbconvert_exporter": "python",
   "pygments_lexer": "ipython3",
   "version": "3.10.9"
  }
 },
 "nbformat": 4,
 "nbformat_minor": 2
}
