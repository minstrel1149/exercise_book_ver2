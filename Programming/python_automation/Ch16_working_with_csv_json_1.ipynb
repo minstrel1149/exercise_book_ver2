{
 "cells": [
  {
   "cell_type": "code",
   "execution_count": 1,
   "metadata": {},
   "outputs": [],
   "source": [
    "# csv → comma-separated values\n",
    "import csv\n",
    "# json → javascript object notation\n",
    "import json\n",
    "from pathlib import Path"
   ]
  },
  {
   "cell_type": "code",
   "execution_count": 2,
   "metadata": {},
   "outputs": [],
   "source": [
    "p1 = Path.cwd() / 'attachments'\n",
    "p2 = Path.cwd() / 'result_attachments' / 'walnut2'"
   ]
  },
  {
   "cell_type": "code",
   "execution_count": 3,
   "metadata": {},
   "outputs": [
    {
     "data": {
      "text/plain": [
       "[['4/5/2014 13:34', 'Apples', '73'],\n",
       " ['4/5/2014 3:41', 'Cherries', '85'],\n",
       " ['4/6/2014 12:46', 'Pears', '14'],\n",
       " ['4/8/2014 8:59', 'Oranges', '52'],\n",
       " ['4/10/2014 2:07', 'Apples', '152'],\n",
       " ['4/10/2014 18:10', 'Bananas', '23'],\n",
       " ['4/10/2014 2:40', 'Strawberries', '98']]"
      ]
     },
     "execution_count": 3,
     "metadata": {},
     "output_type": "execute_result"
    }
   ],
   "source": [
    "# csv파일은 이진 형식이 아니라 텍스트 형식이므로 읽기 전용 모드로 활용\n",
    "exampleFile = open(p1 / 'example.csv')\n",
    "# csv.reader()를 통해 csv읽기 객체 생성\n",
    "exampleReader = csv.reader(exampleFile)\n",
    "# 리스트를 활용하여 일반 파이썬 중첩 리스트 형식의 데이터로 추출\n",
    "exampleData = list(exampleReader)\n",
    "exampleData"
   ]
  },
  {
   "cell_type": "code",
   "execution_count": 5,
   "metadata": {},
   "outputs": [
    {
     "data": {
      "text/plain": [
       "[]"
      ]
     },
     "execution_count": 5,
     "metadata": {},
     "output_type": "execute_result"
    }
   ],
   "source": [
    "# csv파일은 한 번 돌리면 커서가 끝까지 가는듯?\n",
    "list(exampleReader)"
   ]
  },
  {
   "cell_type": "code",
   "execution_count": 6,
   "metadata": {},
   "outputs": [],
   "source": [
    "exampleFile.close()"
   ]
  },
  {
   "cell_type": "code",
   "execution_count": 9,
   "metadata": {},
   "outputs": [
    {
     "name": "stdout",
     "output_type": "stream",
     "text": [
      "Row #1 ['4/5/2014 13:34', 'Apples', '73']\n",
      "Row #2 ['4/5/2014 3:41', 'Cherries', '85']\n",
      "Row #3 ['4/6/2014 12:46', 'Pears', '14']\n",
      "Row #4 ['4/8/2014 8:59', 'Oranges', '52']\n",
      "Row #5 ['4/10/2014 2:07', 'Apples', '152']\n",
      "Row #6 ['4/10/2014 18:10', 'Bananas', '23']\n",
      "Row #7 ['4/10/2014 2:40', 'Strawberries', '98']\n"
     ]
    }
   ],
   "source": [
    "with open(p1 / 'example.csv') as exampleFile:\n",
    "    exampleReader = csv.reader(exampleFile)\n",
    "    for row in exampleReader:\n",
    "        # line_num 속성을 통해 현재 행의 번호 출력 가능\n",
    "        # 한번 읽어들여서 Data로 추출하고 나면 현재 행이 마지막 행으로 전환 → 순환문을 위해서는 다시 읽어야\n",
    "        print(f'Row #{exampleReader.line_num} {str(row)}')"
   ]
  },
  {
   "cell_type": "code",
   "execution_count": 10,
   "metadata": {},
   "outputs": [],
   "source": [
    "# csv.writer() 함수를 통해 csv쓰기 객체 생성 가능\n",
    "# 파일 생성 시 newline='' 인자를 전달해야 한 줄씩 띄어지는 현상 방지\n",
    "with open(p2 / 'output.csv', mode='w', newline='') as outputFile:\n",
    "    outputWriter = csv.writer(outputFile)\n",
    "    # writerow() 메서드를 통해 내용 추가 가능(한 줄)\n",
    "    outputWriter.writerow(['spam', 'egg', 'bacon', 'ham'])\n",
    "    # writerows() 메서드로 여러 줄도 내용 추가 가능\n",
    "    outputWriter.writerows([['kim', 'lee', 'park', 'choi'], [1, 3, 5, 7]])"
   ]
  },
  {
   "cell_type": "code",
   "execution_count": 11,
   "metadata": {},
   "outputs": [],
   "source": [
    "# csv.writer() 활용 시 delimiter와 lineterminator를 통해 셀 구분 및 줄 간격 조절 가능\n",
    "# delimiter를 탭으로 지정했기 때문에 확장자가 tsv(tab-separated values)\n",
    "with open(p2 / 'example.tsv', mode='w', newline='') as outputFile:\n",
    "    csvWriter = csv.writer(outputFile, delimiter='\\t', lineterminator='\\n\\n')\n",
    "    csvWriter.writerows([['spam', 'egg', 'bacon', 'ham'], ['kim', 'lee', 'park', 'choi'], [1, 3, 5, 7]])"
   ]
  },
  {
   "cell_type": "code",
   "execution_count": 12,
   "metadata": {},
   "outputs": [
    {
     "name": "stdout",
     "output_type": "stream",
     "text": [
      "4/5/2014 13:34 Apples 73\n",
      "4/5/2014 3:41 Cherries 85\n",
      "4/6/2014 12:46 Pears 14\n",
      "4/8/2014 8:59 Oranges 52\n",
      "4/10/2014 2:07 Apples 152\n",
      "4/10/2014 18:10 Bananas 23\n",
      "4/10/2014 2:40 Strawberries 98\n"
     ]
    }
   ],
   "source": [
    "# 헤더 행이 있는 csv 파일의 경우 DictReader 혹은 DictWriter 객체 사용 가능 → 내부 값이 리스트가 아닌 딕셔너리로 출력\n",
    "# 전체 값은 리스트로 출력해야\n",
    "with open(p1 / 'exampleWithHeader.csv') as exampleFile:\n",
    "    exampleDictReader = csv.DictReader(exampleFile)\n",
    "    for row in exampleDictReader:\n",
    "        print(row['Timestamp'], row['Fruit'], row['Quantity'])"
   ]
  },
  {
   "cell_type": "code",
   "execution_count": 16,
   "metadata": {},
   "outputs": [
    {
     "name": "stdout",
     "output_type": "stream",
     "text": [
      "[{'Timestamp': '4/5/2014 13:34', 'Fruit': 'Apples', 'Quantity': '73'}, {'Timestamp': '4/5/2014 3:41', 'Fruit': 'Cherries', 'Quantity': '85'}, {'Timestamp': '4/6/2014 12:46', 'Fruit': 'Pears', 'Quantity': '14'}, {'Timestamp': '4/8/2014 8:59', 'Fruit': 'Oranges', 'Quantity': '52'}, {'Timestamp': '4/10/2014 2:07', 'Fruit': 'Apples', 'Quantity': '152'}, {'Timestamp': '4/10/2014 18:10', 'Fruit': 'Bananas', 'Quantity': '23'}, {'Timestamp': '4/10/2014 2:40', 'Fruit': 'Strawberries', 'Quantity': '98'}]\n"
     ]
    }
   ],
   "source": [
    "with open(p1 / 'exampleWithHeader.csv') as exampleFile:\n",
    "    exampleDictReader = csv.DictReader(exampleFile)\n",
    "    print(list(exampleDictReader))"
   ]
  },
  {
   "cell_type": "code",
   "execution_count": 17,
   "metadata": {},
   "outputs": [
    {
     "name": "stdout",
     "output_type": "stream",
     "text": [
      "4/5/2014 13:34 Apples 73\n",
      "4/5/2014 3:41 Cherries 85\n",
      "4/6/2014 12:46 Pears 14\n",
      "4/8/2014 8:59 Oranges 52\n",
      "4/10/2014 2:07 Apples 152\n",
      "4/10/2014 18:10 Bananas 23\n",
      "4/10/2014 2:40 Strawberries 98\n"
     ]
    }
   ],
   "source": [
    "# 헤더 정보가 없는 경우에는 DictReader 객체를 사용할 경우 첫 행을 딕셔너리 키로 사용\n",
    "with open(p1 / 'example.csv') as exampleFile:\n",
    "    # DictReader() 함수에 두 번째 인자로 헤더 이름 전달 가능 → 위치 전달인자로 사용해야\n",
    "    exampleDictReader = csv.DictReader(exampleFile, ['Timestamp', 'Fruit', 'Quantity'])\n",
    "    for row in exampleDictReader:\n",
    "        print(row['Timestamp'], row['Fruit'], row['Quantity'])"
   ]
  },
  {
   "cell_type": "code",
   "execution_count": 18,
   "metadata": {},
   "outputs": [],
   "source": [
    "# DictWriter 객체는 csv파일을 생성하기 위해 딕셔너리 사용\n",
    "header = ['Name', 'Pet', 'Phone']\n",
    "with open(p2 / 'output2.csv', mode='w', newline='') as outputFile:\n",
    "    # 두 번째 인자에 위치 전달인자로 헤더 행 지정\n",
    "    outputWriter = csv.DictWriter(outputFile, header)\n",
    "    # writeheader() 메서드를 통해 헤더 행 삽입\n",
    "    outputWriter.writeheader()\n",
    "    # writerow() 메서드에 딕셔너리 삽입 또는 writerows() 메서드에 딕셔너리들의 리스트 삽입\n",
    "    outputWriter.writerow(dict(zip(header, ['Alice', 'cat', '555-1234'])))\n",
    "    outputWriter.writerow(dict(zip(header, ['Bob', 'dog', '555-9999'])))"
   ]
  },
  {
   "cell_type": "code",
   "execution_count": 19,
   "metadata": {},
   "outputs": [
    {
     "data": {
      "text/plain": [
       "{'name': 'Zophie', 'isCat': True, 'miceCaught': 0, 'felineIQ': None}"
      ]
     },
     "execution_count": 19,
     "metadata": {},
     "output_type": "execute_result"
    }
   ],
   "source": [
    "# API가 반환하는 값은 json 등의 형식으로 되어 있음 → API를 사용하여 원시 데이터 스크랩, 데이터 가져오기 등 가능\n",
    "# json.loads(), json.dumps() 함수로 json 데이터와 파이썬 값을 서로 변환\n",
    "stringOfJsonData = '{\"name\": \"Zophie\", \"isCat\": true, \"miceCaught\": 0, \"felineIQ\": null}'\n",
    "jsonToPython = json.loads(stringOfJsonData)\n",
    "# json.loads()는 null 값을 None으로 반환\n",
    "jsonToPython"
   ]
  },
  {
   "cell_type": "code",
   "execution_count": 20,
   "metadata": {},
   "outputs": [
    {
     "data": {
      "text/plain": [
       "'{\"isCat\": true, \"miceCaught\": 0, \"name\": \"Zophie\", \"felineIQ\": null}'"
      ]
     },
     "execution_count": 20,
     "metadata": {},
     "output_type": "execute_result"
    }
   ],
   "source": [
    "# json.dumps()는 문자열을 넘기다(dump string)의 의미\n",
    "# 딕셔너리, 리스트, 정수, 부동소수점수, 문자열, 불린, None 중 하나여야\n",
    "pythonValue = {'isCat': True, 'miceCaught': 0, 'name': 'Zophie', 'felineIQ': None}\n",
    "pythonToJson = json.dumps(pythonValue)\n",
    "# json.dumps()는 파이썬의 None 값을 null로 반환\n",
    "pythonToJson"
   ]
  },
  {
   "cell_type": "code",
   "execution_count": null,
   "metadata": {},
   "outputs": [],
   "source": []
  }
 ],
 "metadata": {
  "kernelspec": {
   "display_name": "base",
   "language": "python",
   "name": "python3"
  },
  "language_info": {
   "codemirror_mode": {
    "name": "ipython",
    "version": 3
   },
   "file_extension": ".py",
   "mimetype": "text/x-python",
   "name": "python",
   "nbconvert_exporter": "python",
   "pygments_lexer": "ipython3",
   "version": "3.10.9"
  }
 },
 "nbformat": 4,
 "nbformat_minor": 2
}
