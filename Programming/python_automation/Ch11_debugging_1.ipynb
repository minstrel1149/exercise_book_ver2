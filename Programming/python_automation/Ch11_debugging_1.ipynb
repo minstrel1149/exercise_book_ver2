{
 "cells": [
  {
   "cell_type": "code",
   "execution_count": 1,
   "metadata": {},
   "outputs": [],
   "source": [
    "# logging 모듈을 사용해 로그 메시지 출력\n",
    "import logging"
   ]
  },
  {
   "cell_type": "code",
   "execution_count": 2,
   "metadata": {},
   "outputs": [],
   "source": [
    "# 예외를 일으키는 건 raise문으로 → 보통 코드가 완성이 안되었을 때 알려주기 위해 필요할듯?\n",
    "# raise Exception()"
   ]
  },
  {
   "cell_type": "code",
   "execution_count": 3,
   "metadata": {},
   "outputs": [
    {
     "name": "stdout",
     "output_type": "stream",
     "text": [
      "****\n",
      "*  *\n",
      "*  *\n",
      "****\n",
      "Error! Width must be greater than 2.\n",
      "Error! Symbol must be a single character string.\n"
     ]
    }
   ],
   "source": [
    "def boxPrint(symbol, width, height):\n",
    "    if len(symbol) != 1:\n",
    "      raise Exception('Symbol must be a single character string.')\n",
    "    if width <= 2:\n",
    "      raise Exception('Width must be greater than 2.')\n",
    "    if height <= 2:\n",
    "      raise Exception('Height must be greater than 2.')\n",
    "    print(symbol * width)\n",
    "    for _ in range(height - 2):\n",
    "        print(symbol + (' ' * (width - 2)) + symbol)\n",
    "    print(symbol * width)\n",
    "\n",
    "for sym, w, h in (('*', 4, 4), ('0', 1, 3), ('ZZ', 3, 3)):\n",
    "    try:\n",
    "        boxPrint(sym, w, h)\n",
    "    # err를 받아와서 출력해주는 형태\n",
    "    except Exception as err:\n",
    "        print(f'Error! {err}')"
   ]
  },
  {
   "cell_type": "code",
   "execution_count": 7,
   "metadata": {},
   "outputs": [],
   "source": [
    "# 단언 : assert문으로 진행 → 통과하지 못하면 AssertionError\n",
    "# assert문은 try, except와 같이 사용 금지. 왜냐면 assert 자체가 에러로 인해 중지시키기 위한 조치이므로\n",
    "# 완성된 프로그램에서 단언 오류를 보는 일은 없어야 → 그런 경우에는 예외를 일으켜야\n",
    "ages = [26, 57, 92, 54, 22, 15, 17, 80, 47, 73]\n",
    "ages.sort()\n",
    "assert ages[0] <= ages[1], 'Error'"
   ]
  },
  {
   "cell_type": "code",
   "execution_count": 5,
   "metadata": {},
   "outputs": [
    {
     "name": "stderr",
     "output_type": "stream",
     "text": [
      "DEBUG:root:Start Factorial\n",
      "DEBUG:root:i: 1, total: 1\n",
      "DEBUG:root:i: 2, total: 2\n",
      "DEBUG:root:i: 3, total: 6\n",
      "DEBUG:root:i: 4, total: 24\n",
      "DEBUG:root:i: 5, total: 120\n",
      "DEBUG:root:End Factorial\n"
     ]
    },
    {
     "name": "stdout",
     "output_type": "stream",
     "text": [
      "120\n"
     ]
    }
   ],
   "source": [
    "# 파이썬은 이벤트에 관한 정보를 기록하는 LogRecord 객체를 생성\n",
    "# 로깅 수준 : DEBUG - INFO - WARNING - ERROR - CRITICAL\n",
    "# logging.basicConfig()에 filename인자를 넣어 텍스트파일에 작성도 가능\n",
    "logging.basicConfig(level=logging.DEBUG)\n",
    "def factorialError(n):\n",
    "    logging.debug('Start Factorial')\n",
    "    total = 1\n",
    "    for i in range(1, n + 1):\n",
    "        total *= i\n",
    "        logging.debug(f'i: {i}, total: {total}')\n",
    "    logging.debug('End Factorial')\n",
    "    return total\n",
    "#logging.disable()\n",
    "print(factorialError(5))"
   ]
  },
  {
   "cell_type": "code",
   "execution_count": 6,
   "metadata": {},
   "outputs": [
    {
     "name": "stdout",
     "output_type": "stream",
     "text": [
      "120\n"
     ]
    }
   ],
   "source": [
    "# 파이썬은 이벤트에 관한 정보를 기록하는 LogRecord 객체를 생성\n",
    "# 로깅 수준 : DEBUG - INFO - WARNING - ERROR - CRITICAL\n",
    "# logging.basicConfig()에 filename인자를 넣어 텍스트파일에 작성도 가능\n",
    "logging.basicConfig(level=logging.DEBUG)\n",
    "def factorialError(n):\n",
    "    logging.debug('Start Factorial')\n",
    "    total = 1\n",
    "    for i in range(1, n + 1):\n",
    "        total *= i\n",
    "        logging.debug(f'i: {i}, total: {total}')\n",
    "    logging.debug('End Factorial')\n",
    "    return total\n",
    "logging.disable(level=logging.DEBUG)\n",
    "print(factorialError(5))"
   ]
  },
  {
   "cell_type": "code",
   "execution_count": null,
   "metadata": {},
   "outputs": [],
   "source": []
  }
 ],
 "metadata": {
  "kernelspec": {
   "display_name": "base",
   "language": "python",
   "name": "python3"
  },
  "language_info": {
   "codemirror_mode": {
    "name": "ipython",
    "version": 3
   },
   "file_extension": ".py",
   "mimetype": "text/x-python",
   "name": "python",
   "nbconvert_exporter": "python",
   "pygments_lexer": "ipython3",
   "version": "3.10.9"
  }
 },
 "nbformat": 4,
 "nbformat_minor": 2
}
