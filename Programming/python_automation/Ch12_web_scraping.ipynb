{
 "cells": [
  {
   "cell_type": "code",
   "execution_count": 1,
   "metadata": {},
   "outputs": [],
   "source": [
    "# webbrowser : 브라우저로 특정 페이지를 여는 모듈\n",
    "import webbrowser\n",
    "# requests : 인터넷에서 파일과 웹 페이지를 다운로드 하는 모듈\n",
    "import requests\n",
    "# bs4 : HTML을 구문분석(parsing)하는 라이브러리\n",
    "from bs4 import BeautifulSoup as BS\n",
    "# selenium.webdriver : 웹 브라우저를 띄우고 제어하는 라이브러리\n",
    "from selenium import webdriver\n",
    "from selenium.webdriver.chrome.service import Service\n",
    "from webdriver_manager.chrome import ChromeDriverManager\n",
    "from selenium.webdriver.common.by import By\n",
    "from selenium.webdriver.common.keys import Keys\n",
    "from selenium.webdriver.chrome.options import Options\n",
    "# urlopen으로 직접 열 수도 있는데.. requests로 다운받아놓는게 더 안전\n",
    "from urllib.request import urlopen\n",
    "import pyinputplus as pyip\n",
    "from pathlib import Path"
   ]
  },
  {
   "cell_type": "code",
   "execution_count": 2,
   "metadata": {},
   "outputs": [
    {
     "name": "stdout",
     "output_type": "stream",
     "text": [
      "찾는 주소를 입력해주세요."
     ]
    },
    {
     "data": {
      "text/plain": [
       "True"
      ]
     },
     "execution_count": 2,
     "metadata": {},
     "output_type": "execute_result"
    }
   ],
   "source": [
    "# webbroswer.open()함수 활용\n",
    "# 주소의 법칙을 알면 pyinputplus 및 git bash(sys.argv[])와 연계 가능\n",
    "findAddress = pyip.inputStr(prompt='찾는 주소를 입력해주세요.')\n",
    "webbrowser.open(f'https://map.naver.com/p/search/{findAddress}?c=13.00,0,0,0,dh')"
   ]
  },
  {
   "cell_type": "code",
   "execution_count": 3,
   "metadata": {},
   "outputs": [
    {
     "name": "stdout",
     "output_type": "stream",
     "text": [
      "The Project Gutenberg EBook of Romeo and Juliet, by William Shakespeare\n",
      "\n",
      "This eBook is for the use of anyone anywhere at no cost and with\n",
      "almost no restrictions whatsoever.  You may copy it, give it away or\n",
      "re-use it under the terms of the Projec\n"
     ]
    }
   ],
   "source": [
    "# request.get()함수는 다운로드할 url 문자열 → Response객체로 반환\n",
    "res = requests.get('https://automatetheboringstuff.com/files/rj.txt')\n",
    "# 다운로드 성공 여부 확인을 위해 res.raise_for_status() 메서드 활용\n",
    "res.raise_for_status()\n",
    "print(res.text[:250])"
   ]
  },
  {
   "cell_type": "code",
   "execution_count": 4,
   "metadata": {},
   "outputs": [],
   "source": [
    "path = Path.cwd() / 'result_attachments' / 'walnut2'\n",
    "# 이진파일 쓰기 모드로 열어야 → mode='wb'\n",
    "with open(path / 'Romeo and Juliet.txt', mode='wb') as playFile:\n",
    "    # res.iter_content() 메서드 이용하여 반복문을 돌 때 마다 chunk를 반환 → 각 chunk는 바이트 자료형\n",
    "    for chunk in res.iter_content(100000):\n",
    "        playFile.write(chunk)"
   ]
  },
  {
   "cell_type": "code",
   "execution_count": 5,
   "metadata": {},
   "outputs": [
    {
     "data": {
      "text/plain": [
       "bs4.BeautifulSoup"
      ]
     },
     "execution_count": 5,
     "metadata": {},
     "output_type": "execute_result"
    }
   ],
   "source": [
    "res = requests.get('https://nostarch.com')\n",
    "res.raise_for_status()\n",
    "# html = urlopen(url)을 통해 res.text 대신 html 집어넣는 것도 가능하긴 한데..\n",
    "# requests 모듈을 통해 Response 객체를 받은 후 text 속성을 이용하는 아래 방법이 더 좋은듯\n",
    "bsObj = BS(res.text, 'html.parser')\n",
    "type(bsObj)"
   ]
  },
  {
   "cell_type": "code",
   "execution_count": 6,
   "metadata": {},
   "outputs": [],
   "source": [
    "# BeautifulSoup 객체에서의 메서드들 → find, find_all, select(선택자 패턴) 등\n",
    "# bsObj.select('div') → 이름이 div인 모든 요소\n",
    "# bsObj.select('#author') → id 속성이 author인 요소\n",
    "# bsObj.select('.notice') → CSS class 속성의 이름이 notice인 요소\n",
    "# bsObj.select('div span') → <div> 요소 내 존재하는 요소 중 이름이 <span>인 모든 요소\n",
    "# bsObj.select('input[name]') → 이름이 <input>인 요소 중 name 속성 값이 있는 모든 요소\n",
    "# bsObj.select('input[type=\"button\"]') → 이름이 <input>인 요소 중 type 속성 값이 button인 경우\n",
    "# 다양한 선택자 패턴 결합 가능"
   ]
  },
  {
   "cell_type": "code",
   "execution_count": 7,
   "metadata": {},
   "outputs": [
    {
     "data": {
      "text/plain": [
       "(340, bs4.element.Tag)"
      ]
     },
     "execution_count": 7,
     "metadata": {},
     "output_type": "execute_result"
    }
   ],
   "source": [
    "len(bsObj.select('div')), type(bsObj.select('input[type=\"text\"]')[0])"
   ]
  },
  {
   "cell_type": "code",
   "execution_count": 8,
   "metadata": {},
   "outputs": [
    {
     "data": {
      "text/plain": [
       "[<input class=\"form-control form-text\" id=\"edit-keys-2\" maxlength=\"128\" name=\"keys_2\" placeholder=\"Search\" size=\"15\" type=\"text\" value=\"\"/>,\n",
       " <input class=\"form-control form-text\" id=\"edit-keys-2\" maxlength=\"128\" name=\"keys_2\" placeholder=\"Search\" size=\"15\" type=\"text\" value=\"\"/>]"
      ]
     },
     "execution_count": 8,
     "metadata": {},
     "output_type": "execute_result"
    }
   ],
   "source": [
    "bsObj.select('input[type=\"text\"]')"
   ]
  },
  {
   "cell_type": "code",
   "execution_count": 9,
   "metadata": {},
   "outputs": [
    {
     "data": {
      "text/plain": [
       "({'placeholder': 'Search',\n",
       "  'class': ['form-control', 'form-text'],\n",
       "  'type': 'text',\n",
       "  'id': 'edit-keys-2',\n",
       "  'name': 'keys_2',\n",
       "  'value': '',\n",
       "  'size': '15',\n",
       "  'maxlength': '128'},\n",
       " '')"
      ]
     },
     "execution_count": 9,
     "metadata": {},
     "output_type": "execute_result"
    }
   ],
   "source": [
    "bsObj.select('input[type=\"text\"]')[0].attrs, bsObj.select('input[type=\"text\"]')[0].getText()"
   ]
  },
  {
   "cell_type": "code",
   "execution_count": 10,
   "metadata": {},
   "outputs": [
    {
     "data": {
      "text/plain": [
       "(<a class=\"element-invisible element-focusable\" href=\"#main-content\">Skip to main content</a>,\n",
       " 'Skip to main content',\n",
       " 'Skip to main content')"
      ]
     },
     "execution_count": 10,
     "metadata": {},
     "output_type": "execute_result"
    }
   ],
   "source": [
    "# 선택자 패턴으로 div 추출, text 메서드 활용\n",
    "bsObj.select('div a')[0], bsObj.select('div a')[0].text.strip(), bsObj.select('div a')[0].getText().strip()"
   ]
  },
  {
   "cell_type": "code",
   "execution_count": 11,
   "metadata": {},
   "outputs": [
    {
     "data": {
      "text/plain": [
       "(<div id=\"skip-link\">\n",
       " <a class=\"element-invisible element-focusable\" href=\"#main-content\">Skip to main content</a>\n",
       " </div>,\n",
       " 'skip-link',\n",
       " {'id': 'skip-link'})"
      ]
     },
     "execution_count": 11,
     "metadata": {},
     "output_type": "execute_result"
    }
   ],
   "source": [
    "# get() 메서드를 활용하여 해당 속성 값을 반환\n",
    "bsObj.select('#skip-link')[0], bsObj.select('#skip-link')[0].get('id'), bsObj.select('#skip-link')[0].attrs"
   ]
  },
  {
   "cell_type": "code",
   "execution_count": 12,
   "metadata": {},
   "outputs": [
    {
     "data": {
      "text/plain": [
       "('skip-link', {'id': 'skip-link'})"
      ]
     },
     "execution_count": 12,
     "metadata": {},
     "output_type": "execute_result"
    }
   ],
   "source": [
    "# attrs 속성을 활용할 경우 키-값 형태의 딕셔너리로 속성 값 반환\n",
    "bsObj.select('div')[0].get('id'), bsObj.select('div')[0].attrs"
   ]
  },
  {
   "cell_type": "code",
   "execution_count": 13,
   "metadata": {},
   "outputs": [
    {
     "data": {
      "text/plain": [
       "['Evading EDR cover',\n",
       " 'Automate the Boring Stuff with Python, 2nd Edition',\n",
       " 'How AI Works Cover',\n",
       " 'Open Circuits Cover',\n",
       " 'PowerShell for Sysadmins',\n",
       " 'Engineering in Plain Sight Cover',\n",
       " 'Evading EDR cover',\n",
       " 'The Art of Machine Learning Cover',\n",
       " 'Practical Julia Cover',\n",
       " 'Arduino for Arduinians Cover',\n",
       " 'How AI Works Cover',\n",
       " 'The Android Malware Handbook cover',\n",
       " 'Getting Started With FPGAs Cover',\n",
       " 'Python Playground, 2nd Edition Cover',\n",
       " 'The C# Type System cover',\n",
       " 'Codebreaking cover',\n",
       " 'Math for Security Cover',\n",
       " 'The LEGO Lighting Book cover',\n",
       " 'Hacks, Leaks, and Revelations cover',\n",
       " 'Algorithmic Thinking, 2nd Edition',\n",
       " 'JavaScript Crash Course Cover',\n",
       " 'The Art of Randomness cover',\n",
       " 'Modern Full Stack Development placeholder cover',\n",
       " 'Locksport Cover',\n",
       " 'Windows Security Internals with PowerShell cover',\n",
       " 'Machine Learning and AI Beyond the Basics placeholder cover',\n",
       " 'R Without Statistics placeholder cover',\n",
       " 'PHP Crash Course Cover',\n",
       " 'Writing a C Compiler Cover',\n",
       " 'C++ Crash Course, 2nd edition cover']"
      ]
     },
     "execution_count": 13,
     "metadata": {},
     "output_type": "execute_result"
    }
   ],
   "source": [
    "# find_all()을 활용하여 해당 사이트의 책 이미지들 가져오기\n",
    "# list comprehension과 간편 조건문 이용하여 책 제목들 추출\n",
    "[x.get('title') for x in bsObj.find_all('img', {'class':'img-responsive'}) if x.get('title') is not None]"
   ]
  },
  {
   "cell_type": "code",
   "execution_count": 14,
   "metadata": {},
   "outputs": [
    {
     "data": {
      "text/plain": [
       "True"
      ]
     },
     "execution_count": 14,
     "metadata": {},
     "output_type": "execute_result"
    }
   ],
   "source": [
    "bsObj.find_all('img', {'class':'img-responsive'}) == bsObj.select('img[class=\"img-responsive\"]')"
   ]
  },
  {
   "cell_type": "code",
   "execution_count": 17,
   "metadata": {},
   "outputs": [],
   "source": [
    "# Options() 및 add_argument() 활용하여 여러 옵션 추가 가능(by 업무 자동화 - bhban)\n",
    "options = Options()\n",
    "# add_argument 안에 'headless' 넣으면 헤드리스 자동화 가능\n",
    "options.add_argument('--window-size=1600,900')\n",
    "# 책 대신 원래 쓰던 방식 활용 → ChromeDriverManager().install()을 통해 직접 설치\n",
    "driver = webdriver.Chrome(options=options)"
   ]
  },
  {
   "cell_type": "code",
   "execution_count": 18,
   "metadata": {},
   "outputs": [],
   "source": [
    "# get() 메서드에 링크 주소 전달하여 컨트롤\n",
    "driver.get('https://inventwithpython.com')\n",
    "# page_source 속성으로 selenium 드라이버에서 page객체 생성 가능 → 이걸 통해 BeautifulSoup에서 활용 가능\n",
    "page = driver.page_source\n",
    "bsObj = BS(page, 'html.parser')"
   ]
  },
  {
   "cell_type": "code",
   "execution_count": 21,
   "metadata": {},
   "outputs": [
    {
     "data": {
      "text/plain": [
       "bs4.BeautifulSoup"
      ]
     },
     "execution_count": 21,
     "metadata": {},
     "output_type": "execute_result"
    }
   ],
   "source": [
    "type(bsObj)"
   ]
  },
  {
   "cell_type": "code",
   "execution_count": 23,
   "metadata": {},
   "outputs": [
    {
     "data": {
      "text/plain": [
       "'navbarDropdownReadMenuLink'"
      ]
     },
     "execution_count": 23,
     "metadata": {},
     "output_type": "execute_result"
    }
   ],
   "source": [
    "bsObj.select('div a')[0].get('id')"
   ]
  },
  {
   "cell_type": "code",
   "execution_count": 24,
   "metadata": {},
   "outputs": [
    {
     "name": "stdout",
     "output_type": "stream",
     "text": [
      "img\n"
     ]
    }
   ],
   "source": [
    "# 페이지에서 요소를 찾는 메서드로 driver.find_element 활용 가능\n",
    "# By.CLASS_NAME, By.ID, By.CSS_SELECTOR, By.LINK_TEXT, By.NAME, By.TAG_NAME, By.XPATH 등\n",
    "try:\n",
    "    elems = driver.find_elements(By.CLASS_NAME, 'cover-thumb')\n",
    "    print(elems[0].tag_name)\n",
    "except:\n",
    "    print('There is no elements.')"
   ]
  },
  {
   "cell_type": "code",
   "execution_count": 26,
   "metadata": {},
   "outputs": [
    {
     "name": "stdout",
     "output_type": "stream",
     "text": [
      "a\n",
      "Read for Free\n"
     ]
    }
   ],
   "source": [
    "try:\n",
    "    elems = driver.find_elements(By.CLASS_NAME, 'dropdown-toggle')\n",
    "    print(elems[0].tag_name, elems[0].text, sep='\\n')\n",
    "except:\n",
    "    print('There is no elements.')"
   ]
  },
  {
   "cell_type": "code",
   "execution_count": 28,
   "metadata": {},
   "outputs": [
    {
     "name": "stdout",
     "output_type": "stream",
     "text": [
      "Read for Free\n",
      "Buy Books\n",
      "Udemy Courses\n"
     ]
    }
   ],
   "source": [
    "for elem in elems:\n",
    "    print(elem.text)"
   ]
  },
  {
   "cell_type": "code",
   "execution_count": 29,
   "metadata": {},
   "outputs": [
    {
     "name": "stdout",
     "output_type": "stream",
     "text": [
      "a\n",
      "Read for Free\n"
     ]
    }
   ],
   "source": [
    "try:\n",
    "    elems = driver.find_elements(By.CLASS_NAME, 'nav-link')\n",
    "    print(elems[0].tag_name, elems[0].text, sep='\\n')\n",
    "except:\n",
    "    print('There is no elements.')"
   ]
  },
  {
   "cell_type": "code",
   "execution_count": 30,
   "metadata": {},
   "outputs": [
    {
     "name": "stdout",
     "output_type": "stream",
     "text": [
      "Read for Free\n",
      "Buy Books\n",
      "Udemy Courses\n",
      "YouTube\n",
      "Subreddit\n",
      "Blog\n",
      "Donate\n"
     ]
    }
   ],
   "source": [
    "for elem in elems:\n",
    "    print(elem.text)"
   ]
  },
  {
   "cell_type": "code",
   "execution_count": 31,
   "metadata": {},
   "outputs": [
    {
     "data": {
      "text/plain": [
       "'Cover of Python Programming Exercises, Gently Explained'"
      ]
     },
     "execution_count": 31,
     "metadata": {},
     "output_type": "execute_result"
    }
   ],
   "source": [
    "elems = driver.find_elements(By.CLASS_NAME, 'cover-thumb')\n",
    "# get_attribute() 메서드 이용하여 name 속성에 해당하는 값 추출\n",
    "elems[1].get_attribute('alt')"
   ]
  },
  {
   "cell_type": "code",
   "execution_count": 34,
   "metadata": {},
   "outputs": [
    {
     "name": "stdout",
     "output_type": "stream",
     "text": [
      "Cover of Automate the Boring Stuff with Python\n",
      "Cover of Python Programming Exercises, Gently Explained\n",
      "Cover of The Recursive Book of Recusrion\n",
      "Cover of The Big Book of Small Python Projects\n",
      "Cover of Beyond the Basic Stuff with Python\n",
      "Cover of Coding with Minecraft\n",
      "Cover of Cracking Codes with Python\n",
      "Cover of Invent Your Own Computer Games with Python\n",
      "Cover of Scratch 3 Programming Playground\n",
      "Cover of Making Games with Python & Pygame\n",
      "Cover of Automate the Boring Stuff with Python\n",
      "Cover of The Recursive Book of Recursion\n",
      "Cover of Python Programming Exercises, Gently Explained\n",
      "Cover of The Big Book of Small Python Projects\n",
      "Cover of Beyond the Basic Stuff with Python\n",
      "Cover of Coding with Minecraft\n",
      "Cover of Cracking Codes with Python\n",
      "Cover of Invent Your Own Computer Games with Python\n",
      "Cover of Scratch 3 Programming Playground\n",
      "Cover of Making Games with Python & Pygame\n"
     ]
    }
   ],
   "source": [
    "for elem in elems:\n",
    "    print(elem.get_attribute('alt'))"
   ]
  },
  {
   "cell_type": "code",
   "execution_count": 35,
   "metadata": {},
   "outputs": [
    {
     "data": {
      "text/plain": [
       "<selenium.webdriver.remote.webelement.WebElement (session=\"49043cf80c45f2c20aa8db45429b9113\", element=\"CDB940DF246719E2DCDF194E85DFB5AB_element_305\")>"
      ]
     },
     "execution_count": 35,
     "metadata": {},
     "output_type": "execute_result"
    }
   ],
   "source": [
    "driver.find_element(By.LINK_TEXT, 'Read Online for Free')"
   ]
  },
  {
   "cell_type": "code",
   "execution_count": 43,
   "metadata": {},
   "outputs": [],
   "source": [
    "try:\n",
    "    # By.LINK_TEXT 활용하여 해당 텍스트가 있는 곳을 찾을 수가 있으며,\n",
    "    linkElem = driver.find_elements(By.LINK_TEXT, 'Read Online for Free')\n",
    "    # click() 메서드를 통해 클릭 가능\n",
    "    linkElem[0].click()\n",
    "except:\n",
    "    print('There is no elements.')"
   ]
  },
  {
   "cell_type": "code",
   "execution_count": 44,
   "metadata": {},
   "outputs": [
    {
     "data": {
      "text/plain": [
       "[<selenium.webdriver.remote.webelement.WebElement (session=\"49043cf80c45f2c20aa8db45429b9113\", element=\"CDB940DF246719E2DCDF194E85DFB5AB_element_305\")>,\n",
       " <selenium.webdriver.remote.webelement.WebElement (session=\"49043cf80c45f2c20aa8db45429b9113\", element=\"CDB940DF246719E2DCDF194E85DFB5AB_element_322\")>,\n",
       " <selenium.webdriver.remote.webelement.WebElement (session=\"49043cf80c45f2c20aa8db45429b9113\", element=\"CDB940DF246719E2DCDF194E85DFB5AB_element_425\")>,\n",
       " <selenium.webdriver.remote.webelement.WebElement (session=\"49043cf80c45f2c20aa8db45429b9113\", element=\"CDB940DF246719E2DCDF194E85DFB5AB_element_426\")>,\n",
       " <selenium.webdriver.remote.webelement.WebElement (session=\"49043cf80c45f2c20aa8db45429b9113\", element=\"CDB940DF246719E2DCDF194E85DFB5AB_element_427\")>,\n",
       " <selenium.webdriver.remote.webelement.WebElement (session=\"49043cf80c45f2c20aa8db45429b9113\", element=\"CDB940DF246719E2DCDF194E85DFB5AB_element_428\")>,\n",
       " <selenium.webdriver.remote.webelement.WebElement (session=\"49043cf80c45f2c20aa8db45429b9113\", element=\"CDB940DF246719E2DCDF194E85DFB5AB_element_429\")>,\n",
       " <selenium.webdriver.remote.webelement.WebElement (session=\"49043cf80c45f2c20aa8db45429b9113\", element=\"CDB940DF246719E2DCDF194E85DFB5AB_element_430\")>,\n",
       " <selenium.webdriver.remote.webelement.WebElement (session=\"49043cf80c45f2c20aa8db45429b9113\", element=\"CDB940DF246719E2DCDF194E85DFB5AB_element_431\")>,\n",
       " <selenium.webdriver.remote.webelement.WebElement (session=\"49043cf80c45f2c20aa8db45429b9113\", element=\"CDB940DF246719E2DCDF194E85DFB5AB_element_432\")>]"
      ]
     },
     "execution_count": 44,
     "metadata": {},
     "output_type": "execute_result"
    }
   ],
   "source": [
    "linkElem"
   ]
  },
  {
   "cell_type": "code",
   "execution_count": 41,
   "metadata": {},
   "outputs": [],
   "source": [
    "try:\n",
    "    # By.PARTIAL_LINK_TEXT도 활용 가능\n",
    "    linkElem = driver.find_elements(By.PARTIAL_LINK_TEXT, 'Free to read')\n",
    "    linkElem[0].click()\n",
    "except:\n",
    "    print('There is no elements.')"
   ]
  },
  {
   "cell_type": "code",
   "execution_count": 42,
   "metadata": {},
   "outputs": [
    {
     "data": {
      "text/plain": [
       "[<selenium.webdriver.remote.webelement.WebElement (session=\"49043cf80c45f2c20aa8db45429b9113\", element=\"C1469E3FB27B63F9C825266A66AA3BA9_element_33\")>]"
      ]
     },
     "execution_count": 42,
     "metadata": {},
     "output_type": "execute_result"
    }
   ],
   "source": [
    "linkElem"
   ]
  },
  {
   "cell_type": "code",
   "execution_count": 45,
   "metadata": {},
   "outputs": [],
   "source": [
    "driver.get('https://login.metafilter.com')\n",
    "# By.ID를 통해 id가 'user_name'인 것을 찾고\n",
    "userElem = driver.find_element(By.ID, 'user_name')\n",
    "# send_keys() 메서드를 통해 내용 입력\n",
    "# id 등을 지울 때는 clear() 메서드를 활용하면 될듯\n",
    "userElem.send_keys('id12345')\n",
    "pwElem = driver.find_element(By.ID, 'user_pass')\n",
    "pwElem.send_keys('password12345')\n",
    "# submit() 메서드를 통해 로그인을 진행(로그인 버튼을 찾아서 클릭하는 걸 간단히 하는 개념)\n",
    "pwElem.submit()"
   ]
  },
  {
   "cell_type": "code",
   "execution_count": 46,
   "metadata": {},
   "outputs": [],
   "source": [
    "driver.get('https://login.metafilter.com')\n",
    "# By.ID를 통해 id가 'user_name'인 것을 찾고\n",
    "userElem = driver.find_element(By.NAME, 'user_name')\n",
    "# send_keys() 메서드를 통해 내용 입력\n",
    "# id 등을 지울 때는 clear() 메서드를 활용하면 될듯\n",
    "userElem.send_keys('id12345')\n",
    "pwElem = driver.find_element(By.NAME, 'user_pass')\n",
    "pwElem.send_keys('password12345')\n",
    "# submit() 메서드를 통해 로그인을 진행(로그인 버튼을 찾아서 클릭하는 걸 간단히 하는 개념)\n",
    "pwElem.submit()"
   ]
  },
  {
   "cell_type": "code",
   "execution_count": 49,
   "metadata": {},
   "outputs": [],
   "source": [
    "driver.back()"
   ]
  },
  {
   "cell_type": "code",
   "execution_count": 50,
   "metadata": {},
   "outputs": [],
   "source": [
    "driver.get('https://nostarch.com')\n",
    "# By.TAG_NAME을 'html'로 설정하여 사이트 자체를 컨트롤할 수 있게 만들고\n",
    "elem = driver.find_element(By.TAG_NAME, 'html')\n",
    "# 'Keys.'를 활용한 특수 키를 지정하여 원하는 방법으로 진행\n",
    "# Keys.DOWN, Keys.UP, Keys.LEFT, Keys.RIGHT, Keys.ENTER, Keys.RETURN, Keys.HOME, Keys.END, Keys.PAGE_DOWN, Keys.PAGE_UP\n",
    "# Keys.ESCAPE(ESC키), Keys.BACK_SPACE, Keys.DELETE, Keys.TAB 등\n",
    "elem.send_keys(Keys.END)"
   ]
  },
  {
   "cell_type": "code",
   "execution_count": 51,
   "metadata": {},
   "outputs": [],
   "source": [
    "driver.quit()"
   ]
  },
  {
   "cell_type": "code",
   "execution_count": null,
   "metadata": {},
   "outputs": [],
   "source": []
  }
 ],
 "metadata": {
  "kernelspec": {
   "display_name": "base",
   "language": "python",
   "name": "python3"
  },
  "language_info": {
   "codemirror_mode": {
    "name": "ipython",
    "version": 3
   },
   "file_extension": ".py",
   "mimetype": "text/x-python",
   "name": "python",
   "nbconvert_exporter": "python",
   "pygments_lexer": "ipython3",
   "version": "3.10.9"
  }
 },
 "nbformat": 4,
 "nbformat_minor": 2
}
