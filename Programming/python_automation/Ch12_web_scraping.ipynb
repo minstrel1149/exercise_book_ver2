{
 "cells": [
  {
   "cell_type": "code",
   "execution_count": 1,
   "metadata": {},
   "outputs": [],
   "source": [
    "# webbrowser : 브라우저로 특정 페이지를 여는 모듈\n",
    "import webbrowser\n",
    "# requests : 인터넷에서 파일과 웹 페이지를 다운로드 하는 모듈\n",
    "import requests\n",
    "# bs4 : HTML을 구문분석(parsing)하는 라이브러리\n",
    "from bs4 import BeautifulSoup as BS\n",
    "# selenium.webdriver : 웹 브라우저를 띄우고 제어하는 라이브러리\n",
    "from selenium import webdriver\n",
    "from selenium.webdriver.chrome.service import Service\n",
    "from webdriver_manager.chrome import ChromeDriverManager\n",
    "from selenium.webdriver.common.by import By\n",
    "from selenium.webdriver.common.keys import Keys\n",
    "from selenium.webdriver.chrome.options import Options\n",
    "# urlopen으로 직접 열 수도 있는데.. requests로 다운받아놓는게 더 안전\n",
    "from urllib.request import urlopen\n",
    "import pyinputplus as pyip\n",
    "from pathlib import Path"
   ]
  },
  {
   "cell_type": "code",
   "execution_count": 2,
   "metadata": {},
   "outputs": [
    {
     "name": "stdout",
     "output_type": "stream",
     "text": [
      "찾는 주소를 입력해주세요."
     ]
    },
    {
     "data": {
      "text/plain": [
       "True"
      ]
     },
     "execution_count": 2,
     "metadata": {},
     "output_type": "execute_result"
    }
   ],
   "source": [
    "# webbroswer.open()함수 활용\n",
    "# 주소의 법칙을 알면 pyinputplus 및 git bash(sys.argv[])와 연계 가능\n",
    "findAddress = pyip.inputStr(prompt='찾는 주소를 입력해주세요.')\n",
    "webbrowser.open(f'https://map.naver.com/p/search/{findAddress}?c=13.00,0,0,0,dh')"
   ]
  },
  {
   "cell_type": "code",
   "execution_count": 3,
   "metadata": {},
   "outputs": [
    {
     "name": "stdout",
     "output_type": "stream",
     "text": [
      "The Project Gutenberg EBook of Romeo and Juliet, by William Shakespeare\n",
      "\n",
      "This eBook is for the use of anyone anywhere at no cost and with\n",
      "almost no restrictions whatsoever.  You may copy it, give it away or\n",
      "re-use it under the terms of the Projec\n"
     ]
    }
   ],
   "source": [
    "# request.get()함수는 다운로드할 url 문자열 → Response객체로 반환\n",
    "res = requests.get('https://automatetheboringstuff.com/files/rj.txt')\n",
    "# 다운로드 성공 여부 확인을 위해 res.raise_for_status() 메서드 활용\n",
    "res.raise_for_status()\n",
    "print(res.text[:250])"
   ]
  },
  {
   "cell_type": "code",
   "execution_count": 4,
   "metadata": {},
   "outputs": [],
   "source": [
    "path = Path.cwd() / 'result_attachments' / 'walnut2'\n",
    "# 이진파일 쓰기 모드로 열어야 → mode='wb'\n",
    "with open(path / 'Romeo and Juliet.txt', mode='wb') as playFile:\n",
    "    # res.iter_content() 메서드 이용하여 반복문을 돌 때 마다 chunk를 반환 → 각 chunk는 바이트 자료형\n",
    "    for chunk in res.iter_content(100000):\n",
    "        playFile.write(chunk)"
   ]
  },
  {
   "cell_type": "code",
   "execution_count": 5,
   "metadata": {},
   "outputs": [
    {
     "data": {
      "text/plain": [
       "bs4.BeautifulSoup"
      ]
     },
     "execution_count": 5,
     "metadata": {},
     "output_type": "execute_result"
    }
   ],
   "source": [
    "res = requests.get('https://nostarch.com')\n",
    "res.raise_for_status()\n",
    "# html = urlopen(url)을 통해 res.text 대신 html 집어넣는 것도 가능하긴 한데..\n",
    "# requests 모듈을 통해 Response 객체를 받은 후 text 속성을 이용하는 아래 방법이 더 좋은듯\n",
    "bsObj = BS(res.text, 'html.parser')\n",
    "type(bsObj)"
   ]
  },
  {
   "cell_type": "code",
   "execution_count": 6,
   "metadata": {},
   "outputs": [],
   "source": [
    "# BeautifulSoup 객체에서의 메서드들 → find, find_all, select(선택자 패턴) 등\n",
    "# bsObj.select('div') → 이름이 div인 모든 요소\n",
    "# bsObj.select('#author') → id 속성이 author인 요소\n",
    "# bsObj.select('.notice') → CSS class 속성의 이름이 notice인 요소\n",
    "# bsObj.select('div span') → <div> 요소 내 존재하는 요소 중 이름이 <span>인 모든 요소\n",
    "# bsObj.select('input[name]') → 이름이 <input>인 요소 중 name 속성 값이 있는 모든 요소\n",
    "# bsObj.select('input[type=\"button\"]') → 이름이 <input>인 요소 중 type 속성 값이 button인 경우\n",
    "# 다양한 선택자 패턴 결합 가능"
   ]
  },
  {
   "cell_type": "code",
   "execution_count": 7,
   "metadata": {},
   "outputs": [
    {
     "data": {
      "text/plain": [
       "(340, bs4.element.Tag)"
      ]
     },
     "execution_count": 7,
     "metadata": {},
     "output_type": "execute_result"
    }
   ],
   "source": [
    "len(bsObj.select('div')), type(bsObj.select('input[type=\"text\"]')[0])"
   ]
  },
  {
   "cell_type": "code",
   "execution_count": 8,
   "metadata": {},
   "outputs": [
    {
     "data": {
      "text/plain": [
       "[<input class=\"form-control form-text\" id=\"edit-keys-2\" maxlength=\"128\" name=\"keys_2\" placeholder=\"Search\" size=\"15\" type=\"text\" value=\"\"/>,\n",
       " <input class=\"form-control form-text\" id=\"edit-keys-2\" maxlength=\"128\" name=\"keys_2\" placeholder=\"Search\" size=\"15\" type=\"text\" value=\"\"/>]"
      ]
     },
     "execution_count": 8,
     "metadata": {},
     "output_type": "execute_result"
    }
   ],
   "source": [
    "bsObj.select('input[type=\"text\"]')"
   ]
  },
  {
   "cell_type": "code",
   "execution_count": 9,
   "metadata": {},
   "outputs": [
    {
     "data": {
      "text/plain": [
       "({'placeholder': 'Search',\n",
       "  'class': ['form-control', 'form-text'],\n",
       "  'type': 'text',\n",
       "  'id': 'edit-keys-2',\n",
       "  'name': 'keys_2',\n",
       "  'value': '',\n",
       "  'size': '15',\n",
       "  'maxlength': '128'},\n",
       " '')"
      ]
     },
     "execution_count": 9,
     "metadata": {},
     "output_type": "execute_result"
    }
   ],
   "source": [
    "bsObj.select('input[type=\"text\"]')[0].attrs, bsObj.select('input[type=\"text\"]')[0].getText()"
   ]
  },
  {
   "cell_type": "code",
   "execution_count": 10,
   "metadata": {},
   "outputs": [
    {
     "data": {
      "text/plain": [
       "(<a class=\"element-invisible element-focusable\" href=\"#main-content\">Skip to main content</a>,\n",
       " 'Skip to main content',\n",
       " 'Skip to main content')"
      ]
     },
     "execution_count": 10,
     "metadata": {},
     "output_type": "execute_result"
    }
   ],
   "source": [
    "# 선택자 패턴으로 div 추출, text 메서드 활용\n",
    "bsObj.select('div a')[0], bsObj.select('div a')[0].text.strip(), bsObj.select('div a')[0].getText().strip()"
   ]
  },
  {
   "cell_type": "code",
   "execution_count": 11,
   "metadata": {},
   "outputs": [
    {
     "data": {
      "text/plain": [
       "(<div id=\"skip-link\">\n",
       " <a class=\"element-invisible element-focusable\" href=\"#main-content\">Skip to main content</a>\n",
       " </div>,\n",
       " 'skip-link',\n",
       " {'id': 'skip-link'})"
      ]
     },
     "execution_count": 11,
     "metadata": {},
     "output_type": "execute_result"
    }
   ],
   "source": [
    "# get() 메서드를 활용하여 해당 속성 값을 반환\n",
    "bsObj.select('#skip-link')[0], bsObj.select('#skip-link')[0].get('id'), bsObj.select('#skip-link')[0].attrs"
   ]
  },
  {
   "cell_type": "code",
   "execution_count": 12,
   "metadata": {},
   "outputs": [
    {
     "data": {
      "text/plain": [
       "('skip-link', {'id': 'skip-link'})"
      ]
     },
     "execution_count": 12,
     "metadata": {},
     "output_type": "execute_result"
    }
   ],
   "source": [
    "# attrs 속성을 활용할 경우 키-값 형태의 딕셔너리로 속성 값 반환\n",
    "bsObj.select('div')[0].get('id'), bsObj.select('div')[0].attrs"
   ]
  },
  {
   "cell_type": "code",
   "execution_count": 13,
   "metadata": {},
   "outputs": [
    {
     "data": {
      "text/plain": [
       "['Evading EDR cover',\n",
       " 'Automate the Boring Stuff with Python, 2nd Edition',\n",
       " 'How AI Works Cover',\n",
       " 'Open Circuits Cover',\n",
       " 'PowerShell for Sysadmins',\n",
       " 'Engineering in Plain Sight Cover',\n",
       " 'Evading EDR cover',\n",
       " 'The Art of Machine Learning Cover',\n",
       " 'Practical Julia Cover',\n",
       " 'Arduino for Arduinians Cover',\n",
       " 'How AI Works Cover',\n",
       " 'The Android Malware Handbook cover',\n",
       " 'Getting Started With FPGAs Cover',\n",
       " 'Python Playground, 2nd Edition Cover',\n",
       " 'The C# Type System cover',\n",
       " 'Codebreaking cover',\n",
       " 'Math for Security Cover',\n",
       " 'The LEGO Lighting Book cover',\n",
       " 'Hacks, Leaks, and Revelations cover',\n",
       " 'Algorithmic Thinking, 2nd Edition',\n",
       " 'JavaScript Crash Course Cover',\n",
       " 'The Art of Randomness cover',\n",
       " 'Modern Full Stack Development placeholder cover',\n",
       " 'Locksport Cover',\n",
       " 'Windows Security Internals with PowerShell cover',\n",
       " 'Machine Learning and AI Beyond the Basics placeholder cover',\n",
       " 'R Without Statistics placeholder cover',\n",
       " 'PHP Crash Course Cover',\n",
       " 'Writing a C Compiler Cover',\n",
       " 'C++ Crash Course, 2nd edition cover']"
      ]
     },
     "execution_count": 13,
     "metadata": {},
     "output_type": "execute_result"
    }
   ],
   "source": [
    "# find_all()을 활용하여 해당 사이트의 책 이미지들 가져오기\n",
    "# list comprehension과 간편 조건문 이용하여 책 제목들 추출\n",
    "[x.get('title') for x in bsObj.find_all('img', {'class':'img-responsive'}) if x.get('title') is not None]"
   ]
  },
  {
   "cell_type": "code",
   "execution_count": 14,
   "metadata": {},
   "outputs": [
    {
     "data": {
      "text/plain": [
       "True"
      ]
     },
     "execution_count": 14,
     "metadata": {},
     "output_type": "execute_result"
    }
   ],
   "source": [
    "bsObj.find_all('img', {'class':'img-responsive'}) == bsObj.select('img[class=\"img-responsive\"]')"
   ]
  },
  {
   "cell_type": "code",
   "execution_count": 16,
   "metadata": {},
   "outputs": [],
   "source": [
    "# Options() 및 add_argument() 활용하여 여러 옵션 추가 가능(by 업무 자동화 - bhban)\n",
    "options = Options()\n",
    "# add_argument 안에 'headless' 넣으면 헤드리스 자동화 가능\n",
    "options.add_argument('--window-size=1600,900')\n",
    "# 책 대신 원래 쓰던 방식 활용 → ChromeDriverManager().install()을 통해 직접 설치\n",
    "driver = webdriver.Chrome(options=options)"
   ]
  },
  {
   "cell_type": "code",
   "execution_count": null,
   "metadata": {},
   "outputs": [],
   "source": []
  }
 ],
 "metadata": {
  "kernelspec": {
   "display_name": "base",
   "language": "python",
   "name": "python3"
  },
  "language_info": {
   "codemirror_mode": {
    "name": "ipython",
    "version": 3
   },
   "file_extension": ".py",
   "mimetype": "text/x-python",
   "name": "python",
   "nbconvert_exporter": "python",
   "pygments_lexer": "ipython3",
   "version": "3.10.9"
  }
 },
 "nbformat": 4,
 "nbformat_minor": 2
}
