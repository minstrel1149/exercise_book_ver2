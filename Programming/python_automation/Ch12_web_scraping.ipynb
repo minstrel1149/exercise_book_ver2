{
 "cells": [
  {
   "cell_type": "code",
   "execution_count": 1,
   "metadata": {},
   "outputs": [],
   "source": [
    "# webbrowser : 브라우저로 특정 페이지를 여는 모듈\n",
    "import webbrowser\n",
    "# requests : 인터넷에서 파일과 웹 페이지를 다운로드 하는 모듈\n",
    "import requests\n",
    "# bs4 : HTML을 구문분석(parsing)하는 라이브러리\n",
    "from bs4 import BeautifulSoup as BS\n",
    "# selenium.webdriver : 웹 브라우저를 띄우고 제어하는 라이브러리\n",
    "from selenium import webdriver\n",
    "from selenium.webdriver.chrome.service import Service\n",
    "from webdriver_manager.chrome import ChromeDriverManager\n",
    "from selenium.webdriver.common.by import By\n",
    "from selenium.webdriver.common.keys import Keys\n",
    "from selenium.webdriver.chrome.options import Options\n",
    "# urlopen으로 직접 열 수도 있는데.. requests로 다운받아놓는게 더 안전\n",
    "from urllib.request import urlopen\n",
    "import pyinputplus as pyip\n",
    "from pathlib import Path"
   ]
  },
  {
   "cell_type": "code",
   "execution_count": 5,
   "metadata": {},
   "outputs": [
    {
     "name": "stdout",
     "output_type": "stream",
     "text": [
      "찾는 주소를 입력해주세요."
     ]
    },
    {
     "data": {
      "text/plain": [
       "True"
      ]
     },
     "execution_count": 5,
     "metadata": {},
     "output_type": "execute_result"
    }
   ],
   "source": [
    "# webbroswer.open()함수 활용\n",
    "# 주소의 법칙을 알면 pyinputplus 및 git bash(sys.argv[])와 연계 가능\n",
    "findAddress = pyip.inputStr(prompt='찾는 주소를 입력해주세요.')\n",
    "webbrowser.open(f'https://map.naver.com/p/search/{findAddress}?c=13.00,0,0,0,dh')"
   ]
  },
  {
   "cell_type": "code",
   "execution_count": null,
   "metadata": {},
   "outputs": [],
   "source": []
  }
 ],
 "metadata": {
  "kernelspec": {
   "display_name": "base",
   "language": "python",
   "name": "python3"
  },
  "language_info": {
   "codemirror_mode": {
    "name": "ipython",
    "version": 3
   },
   "file_extension": ".py",
   "mimetype": "text/x-python",
   "name": "python",
   "nbconvert_exporter": "python",
   "pygments_lexer": "ipython3",
   "version": "3.10.9"
  }
 },
 "nbformat": 4,
 "nbformat_minor": 2
}
