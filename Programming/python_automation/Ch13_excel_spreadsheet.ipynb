{
 "cells": [
  {
   "cell_type": "code",
   "execution_count": 1,
   "metadata": {},
   "outputs": [],
   "source": [
    "# pandas의 활용이 가능한 경우에는 가급적 pandas를 연계하여 사용\n",
    "import openpyxl\n",
    "from openpyxl.utils import get_column_letter, column_index_from_string\n",
    "from openpyxl.styles import Font\n",
    "from openpyxl.styles import Alignment\n",
    "from pathlib import Path\n",
    "import random\n",
    "import numpy as np\n",
    "import win32com.client"
   ]
  },
  {
   "cell_type": "code",
   "execution_count": 2,
   "metadata": {},
   "outputs": [],
   "source": [
    "p1 = Path.cwd() / 'attachments'\n",
    "p2 = Path.cwd() / 'result_attachments'"
   ]
  },
  {
   "cell_type": "code",
   "execution_count": 3,
   "metadata": {},
   "outputs": [
    {
     "data": {
      "text/plain": [
       "['Sheet1', 'Sheet2', 'Sheet3']"
      ]
     },
     "execution_count": 3,
     "metadata": {},
     "output_type": "execute_result"
    }
   ],
   "source": [
    "# load_workbook으로 불러오기\n",
    "# gspread의 경우 ss = gc.open('') 형태로 활용\n",
    "wb = openpyxl.load_workbook(p1 / 'example.xlsx')\n",
    "# sheetnames 메서드를 통해 시트들 확인 → 단순 문자열에 대한 리스트로 반환\n",
    "# gspread의 경우 ss.worksheets() 형태로 활용 → worksheet 객체에 대한 리스트로 반환\n",
    "wb.sheetnames"
   ]
  },
  {
   "cell_type": "code",
   "execution_count": 4,
   "metadata": {},
   "outputs": [
    {
     "data": {
      "text/plain": [
       "'Sheet1'"
      ]
     },
     "execution_count": 4,
     "metadata": {},
     "output_type": "execute_result"
    }
   ],
   "source": [
    "# active 메서드를 통해 활성 시트를 객체로 지정 가능\n",
    "# 혹은 sheet = wb['Sheet1'] 형태로도 지정 가능\n",
    "# gspread의 경우 ss.get_worksheet(0) 혹은 ss.worksheet('') 형태로 활용\n",
    "sheet = wb['Sheet1']\n",
    "# 현재 sheet의 제목 확인 가능\n",
    "sheet.title"
   ]
  },
  {
   "cell_type": "code",
   "execution_count": 6,
   "metadata": {},
   "outputs": [
    {
     "data": {
      "text/plain": [
       "(datetime.datetime(2015, 4, 5, 13, 34, 2),\n",
       " datetime.datetime(2015, 4, 5, 13, 34, 2),\n",
       " 1,\n",
       " 1,\n",
       " 'A1')"
      ]
     },
     "execution_count": 6,
     "metadata": {},
     "output_type": "execute_result"
    }
   ],
   "source": [
    "# 직접 접근하거나, cell(i, j).value를 이용하여 해당 셀 값 확인 가능\n",
    "# gspread의 경우 acell('A1').value 혹은 cell(i, j).value 형태로 활용\n",
    "# 셀 객체는 row, column, coordinate의 속성을 가짐 → sheet['A1'].coordinate('A1' 반환)\n",
    "sheet.cell(1, 1).value, sheet['A1'].value, sheet['A1'].row, sheet['A1'].column, sheet['A1'].coordinate"
   ]
  },
  {
   "cell_type": "code",
   "execution_count": 8,
   "metadata": {},
   "outputs": [
    {
     "data": {
      "text/plain": [
       "(9, 7)"
      ]
     },
     "execution_count": 8,
     "metadata": {},
     "output_type": "execute_result"
    }
   ],
   "source": [
    "# 열과 행의 최대 값이 어디인지 확인 가능 → 순환문에서 range의 끝으로 활용 등 다양한 용례\n",
    "sheet.max_column, sheet.max_row"
   ]
  },
  {
   "cell_type": "code",
   "execution_count": 12,
   "metadata": {},
   "outputs": [
    {
     "data": {
      "text/plain": [
       "('A', 2, 'I')"
      ]
     },
     "execution_count": 12,
     "metadata": {},
     "output_type": "execute_result"
    }
   ],
   "source": [
    "# 열의 글자 이름과 숫자 이름의 변환을 위해 column_index_from_string() 및 get_column_letter() 사용\n",
    "get_column_letter(1), column_index_from_string('B'), get_column_letter(sheet.max_column)"
   ]
  },
  {
   "cell_type": "code",
   "execution_count": 14,
   "metadata": {},
   "outputs": [
    {
     "data": {
      "text/plain": [
       "((<Cell 'Sheet1'.A1>, <Cell 'Sheet1'.B1>, <Cell 'Sheet1'.C1>),\n",
       " (<Cell 'Sheet1'.A2>, <Cell 'Sheet1'.B2>, <Cell 'Sheet1'.C2>),\n",
       " (<Cell 'Sheet1'.A3>, <Cell 'Sheet1'.B3>, <Cell 'Sheet1'.C3>))"
      ]
     },
     "execution_count": 14,
     "metadata": {},
     "output_type": "execute_result"
    }
   ],
   "source": [
    "# sheet['A1':'C3'] 형태로 시트에서 다수의 셀 객체 얻기 → 값이 아니라 각 셀 객체를 반환\n",
    "# 순환문 활용해서 값들의 리스트 형식으로 가능(numpy의 array 형태와 유사하게 출력)\n",
    "# gspread의 경우 sheet.get('A1:C3') 형태로 작성하면 그대로 값의 리스트 형식으로 출력\n",
    "sheet['A1':'C3']"
   ]
  },
  {
   "cell_type": "code",
   "execution_count": 17,
   "metadata": {},
   "outputs": [
    {
     "name": "stdout",
     "output_type": "stream",
     "text": [
      "A1 : 2015-04-05 13:34:02\n",
      "B1 : Apples\n",
      "C1 : 73\n",
      "--------------\n",
      "A2 : 2015-04-05 03:41:23\n",
      "B2 : Cherries\n",
      "C2 : 85\n",
      "--------------\n",
      "A3 : 2015-04-06 12:46:51\n",
      "B3 : Pears\n",
      "C3 : 14\n",
      "--------------\n"
     ]
    }
   ],
   "source": [
    "for rowOfCellObj in sheet['A1':'C3']:\n",
    "    for cellObj in rowOfCellObj:\n",
    "        print(cellObj.coordinate, ':', cellObj.value)\n",
    "    print('--------------')"
   ]
  },
  {
   "cell_type": "code",
   "execution_count": 21,
   "metadata": {},
   "outputs": [
    {
     "data": {
      "text/plain": [
       "array([[datetime.datetime(2015, 4, 5, 13, 34, 2), 'Apples', 73],\n",
       "       [datetime.datetime(2015, 4, 5, 3, 41, 23), 'Cherries', 85],\n",
       "       [datetime.datetime(2015, 4, 6, 12, 46, 51), 'Pears', 14],\n",
       "       [datetime.datetime(2015, 4, 8, 8, 59, 43), 'Oranges', 52]],\n",
       "      dtype=object)"
      ]
     },
     "execution_count": 21,
     "metadata": {},
     "output_type": "execute_result"
    }
   ],
   "source": [
    "cell_values = []\n",
    "for rowOfCellObjects in sheet['A1':'C4']:\n",
    "    for cellObj in rowOfCellObjects:\n",
    "        cell_values.append(cellObj.value)\n",
    "np.array(cell_values).reshape(-1, 3)"
   ]
  },
  {
   "cell_type": "code",
   "execution_count": 27,
   "metadata": {},
   "outputs": [
    {
     "data": {
      "text/plain": [
       "['Apples', 'Cherries', 'Pears', 'Oranges', 'Apples', 'Bananas', 'Strawberries']"
      ]
     },
     "execution_count": 27,
     "metadata": {},
     "output_type": "execute_result"
    }
   ],
   "source": [
    "# rows 및 columns 속성을 사용하여 특정 행이나 열에 존재하는 셀 객체 접근\n",
    "# list comprehension(여러 열의 경우 중첩 순환문) 활용하여 값의 리스트 형식 출력\n",
    "# gspread의 경우 sheet.col_values(2), sheet.row_values(2)를 통해 작성하면 그대로 값의 리스트 형식으로 출력(B열과 2행 예시)\n",
    "b_list = []\n",
    "for cellObj in list(sheet.columns)[1]:\n",
    "    b_list.append(cellObj.value)\n",
    "b_list"
   ]
  },
  {
   "cell_type": "code",
   "execution_count": 26,
   "metadata": {},
   "outputs": [
    {
     "data": {
      "text/plain": [
       "((<Cell 'Sheet1'.A1>,\n",
       "  <Cell 'Sheet1'.A2>,\n",
       "  <Cell 'Sheet1'.A3>,\n",
       "  <Cell 'Sheet1'.A4>,\n",
       "  <Cell 'Sheet1'.A5>,\n",
       "  <Cell 'Sheet1'.A6>,\n",
       "  <Cell 'Sheet1'.A7>),\n",
       " (<Cell 'Sheet1'.B1>,\n",
       "  <Cell 'Sheet1'.B2>,\n",
       "  <Cell 'Sheet1'.B3>,\n",
       "  <Cell 'Sheet1'.B4>,\n",
       "  <Cell 'Sheet1'.B5>,\n",
       "  <Cell 'Sheet1'.B6>,\n",
       "  <Cell 'Sheet1'.B7>))"
      ]
     },
     "execution_count": 26,
     "metadata": {},
     "output_type": "execute_result"
    }
   ],
   "source": [
    "list(sheet.columns)[0], list(sheet.columns)[1]"
   ]
  },
  {
   "cell_type": "code",
   "execution_count": 28,
   "metadata": {},
   "outputs": [],
   "source": [
    "wb.close()"
   ]
  },
  {
   "cell_type": "code",
   "execution_count": 29,
   "metadata": {},
   "outputs": [
    {
     "data": {
      "text/plain": [
       "['Sheet']"
      ]
     },
     "execution_count": 29,
     "metadata": {},
     "output_type": "execute_result"
    }
   ],
   "source": [
    "# 엑셀 문서 쓰기 : openpyxl.Workbook() 활용 → 괄호 안에는 아무것도 안들어가야(저장은 나중에 따로 경로 지정)\n",
    "wb = openpyxl.Workbook()\n",
    "# 하나의 시트에서 시작('Sheet')\n",
    "wb.sheetnames"
   ]
  },
  {
   "cell_type": "code",
   "execution_count": 30,
   "metadata": {},
   "outputs": [
    {
     "data": {
      "text/plain": [
       "['Food Sheet']"
      ]
     },
     "execution_count": 30,
     "metadata": {},
     "output_type": "execute_result"
    }
   ],
   "source": [
    "sheet = wb.active\n",
    "# sheet.title에 새로 지정을 하여 시트 이름 변경 가능\n",
    "# gspread의 경우 따로 없는듯? 추후 조사 필요. ss.worksheet('name') 형태인가?\n",
    "sheet.title = 'Food Sheet'\n",
    "wb.sheetnames"
   ]
  },
  {
   "cell_type": "code",
   "execution_count": 31,
   "metadata": {},
   "outputs": [
    {
     "data": {
      "text/plain": [
       "(['Sheet0', 'Food Sheet'], <Worksheet \"Sheet0\">)"
      ]
     },
     "execution_count": 31,
     "metadata": {},
     "output_type": "execute_result"
    }
   ],
   "source": [
    "# create_sheet 활용하여 새로운 시트 생성 → index, title 인자 활용\n",
    "# gspread의 경우 ss.add_worksheet(title='') 활용\n",
    "wb.create_sheet(index=0, title='Sheet0')\n",
    "wb.sheetnames, wb.active"
   ]
  },
  {
   "cell_type": "code",
   "execution_count": 33,
   "metadata": {},
   "outputs": [
    {
     "name": "stdout",
     "output_type": "stream",
     "text": [
      "없는 시트입니다.\n"
     ]
    },
    {
     "data": {
      "text/plain": [
       "(['Sheet0'], <Worksheet \"Sheet0\">)"
      ]
     },
     "execution_count": 33,
     "metadata": {},
     "output_type": "execute_result"
    }
   ],
   "source": [
    "# del wb['Sheet0']의 형태로 시트 삭제 가능\n",
    "# gspread의 경우 ss.del_worksheet(sheet) 활용 → sheet에는 sheet객체가 들어가야\n",
    "try:\n",
    "    del wb['Food Sheet']\n",
    "except:\n",
    "    print('없는 시트입니다.')\n",
    "wb.sheetnames, wb.active"
   ]
  },
  {
   "cell_type": "code",
   "execution_count": 34,
   "metadata": {},
   "outputs": [],
   "source": [
    "sheet['A1'] = 'Hello'\n",
    "sheet.cell(2, 1).value = 'World'"
   ]
  },
  {
   "cell_type": "code",
   "execution_count": 35,
   "metadata": {},
   "outputs": [
    {
     "data": {
      "text/plain": [
       "'Hello'"
      ]
     },
     "execution_count": 35,
     "metadata": {},
     "output_type": "execute_result"
    }
   ],
   "source": [
    "# openpyxl.styles의 Font() 함수를 활용하여 폰트 지정 → 셀 객체에 font 속성으로 활용\n",
    "# Font() → name, size, italic, bold 인자 전달 가능\n",
    "italicBoldFont = Font(italic=True, bold=True)\n",
    "sheet = wb.active\n",
    "sheet.cell(1, 1).value = 'Hello'\n",
    "sheet.cell(1, 1).font = italicBoldFont\n",
    "sheet.cell(1, 1).value"
   ]
  },
  {
   "cell_type": "code",
   "execution_count": 38,
   "metadata": {},
   "outputs": [
    {
     "data": {
      "text/plain": [
       "'World'"
      ]
     },
     "execution_count": 38,
     "metadata": {},
     "output_type": "execute_result"
    }
   ],
   "source": [
    "italicBoldFont = Font(italic=False, bold=True)\n",
    "sheet = wb.active\n",
    "sheet.cell(2, 1).value = 'World'\n",
    "sheet.cell(2, 1).font = italicBoldFont\n",
    "sheet.cell(2, 1).value"
   ]
  },
  {
   "cell_type": "code",
   "execution_count": 42,
   "metadata": {},
   "outputs": [
    {
     "data": {
      "text/plain": [
       "'=sum(B1:B8)'"
      ]
     },
     "execution_count": 42,
     "metadata": {},
     "output_type": "execute_result"
    }
   ],
   "source": [
    "# random.sample은 중복 없음 / random.choices는 중복 있음\n",
    "# random.choices는 'k'라는 키워드 전달인자 필수 사용\n",
    "randomNum = random.choices(range(10, 100), k=8)\n",
    "for i, num in enumerate(randomNum):\n",
    "    sheet.cell(i + 1, 2).value = num\n",
    "# 엑셀의 수식 계산 함수(식)을 활용하여 openpyxl에서 셀에 수식 추가\n",
    "sheet.cell(9, 2).value = '=sum(B1:B8)'\n",
    "sheet['B9'].value"
   ]
  },
  {
   "cell_type": "code",
   "execution_count": 43,
   "metadata": {},
   "outputs": [],
   "source": [
    "wb.save(p2 / 'sample_excel.xls')"
   ]
  },
  {
   "cell_type": "code",
   "execution_count": 45,
   "metadata": {},
   "outputs": [],
   "source": [
    "sheet['C1'].value = 'Tall row'\n",
    "sheet['A2'].value = 'Wide column'\n",
    "# row_dimensions[]와 column_dimensions[] 활용 -> height와 width 통해 행 높이, 열 너비(문자열) 조정 가능\n",
    "sheet.row_dimensions[1].height = 70\n",
    "sheet.column_dimensions['B'].width = 20"
   ]
  },
  {
   "cell_type": "code",
   "execution_count": 46,
   "metadata": {},
   "outputs": [],
   "source": [
    "wb.save(p2 / 'sample_excel.xls')"
   ]
  },
  {
   "cell_type": "code",
   "execution_count": 47,
   "metadata": {},
   "outputs": [],
   "source": [
    "# merge_cells 활용하여 셀 병합 + unmerge_cells를 활용하여 셀 병합 해제\n",
    "sheet.merge_cells('E3:E5')"
   ]
  },
  {
   "cell_type": "code",
   "execution_count": 48,
   "metadata": {},
   "outputs": [],
   "source": [
    "sheet.unmerge_cells('E3:E5')"
   ]
  },
  {
   "cell_type": "code",
   "execution_count": 49,
   "metadata": {},
   "outputs": [],
   "source": [
    "# freeze_panes 활용하여 틀 고정 → 지정한 셀의 바로 앞에서 틀 고정(B열이면 A열 고정, 2행이면 1행 고정)\n",
    "# freeze_panes = 'A1' 혹은 freeze_panes = None이면 틀 고정 해제\n",
    "sheet.freeze_panes = 'B1'\n",
    "sheet.freeze_panes = None\n",
    "sheet.freeze_panes = 'B1'"
   ]
  },
  {
   "cell_type": "code",
   "execution_count": 51,
   "metadata": {},
   "outputs": [],
   "source": [
    "wb.save(p2 / 'sample_excel.xls')\n",
    "wb.close()"
   ]
  },
  {
   "cell_type": "code",
   "execution_count": 52,
   "metadata": {},
   "outputs": [],
   "source": [
    "# 엑셀 차트 만들기\n",
    "# 1. Reference 객체 생성(openpyxl.chart.Reference(sheet, min_col, min_row, max_col, max_row))\n",
    "# 2. Reference 객체를 전달하여 Series 객체 생성(openpyxl.chart.Series(refObj, title=''))\n",
    "# 3. Chart 객체 생성(openpyxl.chart.BarChart())\n",
    "# 4. Chart 객체에 Series 객체 추가(chartObj.append(seriesObj))\n",
    "# 5. sheet 객체에 Chart 객체 추가 → 차트의 좌측 상단 지점이 어느 셀에 위치할 지 지정(sheet.add_chart(chartObj, C5))\n",
    "wb = openpyxl.Workbook()\n",
    "sheet = wb.active\n",
    "for i in range(1, 11):\n",
    "    sheet.cell(i, 1).value = i\n",
    "refObj = openpyxl.chart.Reference(sheet, min_row=1, min_col=1, max_row=10, max_col=1)\n",
    "seriesObj = openpyxl.chart.Series(refObj, title='First Series')\n",
    "chartObj = openpyxl.chart.BarChart()\n",
    "chartObj.title = 'My Chart'\n",
    "chartObj.append(seriesObj)\n",
    "sheet.add_chart(chartObj, 'C5')\n",
    "wb.save(p2 / 'sample_excel_chart.xls')\n",
    "wb.close()"
   ]
  },
  {
   "cell_type": "code",
   "execution_count": 53,
   "metadata": {},
   "outputs": [],
   "source": [
    "# win32com.client 모듈을 활용한 엑셀 컨트롤 → win32com.client.Dispatch('Excel.Application')\n",
    "# win32com.client 모듈은 PascalCase 활용\n",
    "excel = win32com.client.Dispatch('Excel.Application')\n",
    "# excel.Visible = True 이용하여 엑셀을 보면서 컨트롤 가능\n",
    "excel.Visible = True"
   ]
  },
  {
   "cell_type": "code",
   "execution_count": 65,
   "metadata": {},
   "outputs": [],
   "source": [
    "# excel.Workbooks.Add() 혹은 excel.Workbooks.Open(경로)를 통해 엑셀 오픈\n",
    "wb = excel.Workbooks.Add()\n",
    "wb = excel.Workbooks.Open(p1 / 'example.xlsx')\n",
    "# Worksheets(이름) 메서드 이용하여 시트 호출\n",
    "ws = wb.Worksheets('Sheet1')"
   ]
  },
  {
   "cell_type": "code",
   "execution_count": 66,
   "metadata": {},
   "outputs": [
    {
     "data": {
      "text/plain": [
       "True"
      ]
     },
     "execution_count": 66,
     "metadata": {},
     "output_type": "execute_result"
    }
   ],
   "source": [
    "# ws.Rows(n).EntireRow.Insert()/Delete() 이용하여 행열 추가/삭제\n",
    "ws.Rows(2).EntireRow.Insert()"
   ]
  },
  {
   "cell_type": "code",
   "execution_count": 67,
   "metadata": {},
   "outputs": [
    {
     "data": {
      "text/plain": [
       "True"
      ]
     },
     "execution_count": 67,
     "metadata": {},
     "output_type": "execute_result"
    }
   ],
   "source": [
    "ws.Rows(2).EntireRow.Delete()"
   ]
  },
  {
   "cell_type": "code",
   "execution_count": 68,
   "metadata": {},
   "outputs": [
    {
     "data": {
      "text/plain": [
       "True"
      ]
     },
     "execution_count": 68,
     "metadata": {},
     "output_type": "execute_result"
    }
   ],
   "source": [
    "ws.Columns(3).EntireColumn.Insert()"
   ]
  },
  {
   "cell_type": "code",
   "execution_count": 69,
   "metadata": {},
   "outputs": [
    {
     "data": {
      "text/plain": [
       "True"
      ]
     },
     "execution_count": 69,
     "metadata": {},
     "output_type": "execute_result"
    }
   ],
   "source": [
    "ws.Columns(3).EntireColumn.Delete()"
   ]
  },
  {
   "cell_type": "code",
   "execution_count": 70,
   "metadata": {},
   "outputs": [
    {
     "data": {
      "text/plain": [
       "True"
      ]
     },
     "execution_count": 70,
     "metadata": {},
     "output_type": "execute_result"
    }
   ],
   "source": [
    "# ws.Range(범위).Copy() 이후 ws.Range(범위).Select()로 옮길 범위 지정 후 ws.Paste()로 복사-붙여넣기\n",
    "ws.Range('A1:C7').Copy()\n",
    "ws.Range('G1:I7').Select()\n",
    "# ws.Range(범위).PasteSpecial(n) 형태로 선택하여 붙여넣기\n",
    "# -4122 : 서식 붙여넣기, -4123 : 수식 붙여넣기, -4163 : 값 붙여넣기, 11 : 수식과 표시 형식 붙여넣기, 12 : 값과 표시 형식 붙여넣기\n",
    "ws.Range('G1:I7').PasteSpecial(-4163)"
   ]
  },
  {
   "cell_type": "code",
   "execution_count": 71,
   "metadata": {},
   "outputs": [
    {
     "data": {
      "text/plain": [
       "True"
      ]
     },
     "execution_count": 71,
     "metadata": {},
     "output_type": "execute_result"
    }
   ],
   "source": [
    "# ws.Range(범위).ClearContents()로 내용 삭제 가능\n",
    "ws.Range('G1:I7').ClearContents()"
   ]
  },
  {
   "cell_type": "code",
   "execution_count": 72,
   "metadata": {},
   "outputs": [
    {
     "data": {
      "text/plain": [
       "True"
      ]
     },
     "execution_count": 72,
     "metadata": {},
     "output_type": "execute_result"
    }
   ],
   "source": [
    "ws.Range('A1:C7').Copy()\n",
    "ws.Range('G1').Select()\n",
    "ws.Range('G1').PasteSpecial(-4163)"
   ]
  },
  {
   "cell_type": "code",
   "execution_count": 73,
   "metadata": {},
   "outputs": [
    {
     "data": {
      "text/plain": [
       "True"
      ]
     },
     "execution_count": 73,
     "metadata": {},
     "output_type": "execute_result"
    }
   ],
   "source": [
    "ws.Range('G1:I7').ClearContents()"
   ]
  },
  {
   "cell_type": "code",
   "execution_count": 74,
   "metadata": {},
   "outputs": [],
   "source": [
    "ws.Range('E1:F1').Value = 1\n",
    "ws.Range('E2:F2').Value = 2"
   ]
  },
  {
   "cell_type": "code",
   "execution_count": 75,
   "metadata": {},
   "outputs": [
    {
     "data": {
      "text/plain": [
       "True"
      ]
     },
     "execution_count": 75,
     "metadata": {},
     "output_type": "execute_result"
    }
   ],
   "source": [
    "# ws.Range('F1:F2').AutoFill(ws.Range('F1:F7')) 형태로 값 및 수식 자동 채우기\n",
    "ws.Range('E1').AutoFill(ws.Range('E1:E7'))\n",
    "ws.Range('F1:F2').AutoFill(ws.Range('F1:F7'))"
   ]
  },
  {
   "cell_type": "code",
   "execution_count": 76,
   "metadata": {},
   "outputs": [],
   "source": [
    "# Save() 및 Close() 메서드를 활용하여 저장 및 종료\n",
    "wb.Save()\n",
    "wb.Close()\n",
    "# excel.Quit() 이용하여 엑셀파일 종료\n",
    "excel.Quit()"
   ]
  },
  {
   "cell_type": "code",
   "execution_count": null,
   "metadata": {},
   "outputs": [],
   "source": []
  }
 ],
 "metadata": {
  "kernelspec": {
   "display_name": "base",
   "language": "python",
   "name": "python3"
  },
  "language_info": {
   "codemirror_mode": {
    "name": "ipython",
    "version": 3
   },
   "file_extension": ".py",
   "mimetype": "text/x-python",
   "name": "python",
   "nbconvert_exporter": "python",
   "pygments_lexer": "ipython3",
   "version": "3.10.9"
  }
 },
 "nbformat": 4,
 "nbformat_minor": 2
}
