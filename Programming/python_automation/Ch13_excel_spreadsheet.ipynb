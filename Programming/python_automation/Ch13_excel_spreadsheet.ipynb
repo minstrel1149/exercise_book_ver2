{
 "cells": [
  {
   "cell_type": "code",
   "execution_count": 1,
   "metadata": {},
   "outputs": [],
   "source": [
    "# pandas의 활용이 가능한 경우에는 가급적 pandas를 연계하여 사용\n",
    "import openpyxl\n",
    "from openpyxl.utils import get_column_letter, column_index_from_string\n",
    "from openpyxl.styles import Font\n",
    "from openpyxl.styles import Alignment\n",
    "from pathlib import Path\n",
    "import random\n",
    "import numpy as np\n",
    "import win32com.client"
   ]
  },
  {
   "cell_type": "code",
   "execution_count": 2,
   "metadata": {},
   "outputs": [],
   "source": [
    "p1 = Path.cwd() / 'attachments'\n",
    "p2 = Path.cwd() / 'result_attachments'"
   ]
  },
  {
   "cell_type": "code",
   "execution_count": 3,
   "metadata": {},
   "outputs": [
    {
     "data": {
      "text/plain": [
       "['Sheet1', 'Sheet2', 'Sheet3']"
      ]
     },
     "execution_count": 3,
     "metadata": {},
     "output_type": "execute_result"
    }
   ],
   "source": [
    "# load_workbook으로 불러오기\n",
    "# gspread의 경우 ss = gc.open('') 형태로 활용\n",
    "wb = openpyxl.load_workbook(p1 / 'example.xlsx')\n",
    "# sheetnames 메서드를 통해 시트들 확인 → 단순 문자열에 대한 리스트로 반환\n",
    "# gspread의 경우 ss.worksheets() 형태로 활용 → worksheet 객체에 대한 리스트로 반환\n",
    "wb.sheetnames"
   ]
  },
  {
   "cell_type": "code",
   "execution_count": 4,
   "metadata": {},
   "outputs": [
    {
     "data": {
      "text/plain": [
       "'Sheet1'"
      ]
     },
     "execution_count": 4,
     "metadata": {},
     "output_type": "execute_result"
    }
   ],
   "source": [
    "# active 메서드를 통해 활성 시트를 객체로 지정 가능\n",
    "# 혹은 sheet = wb['Sheet1'] 형태로도 지정 가능\n",
    "# gspread의 경우 ss.get_worksheet(0) 혹은 ss.worksheet('') 형태로 활용\n",
    "sheet = wb['Sheet1']\n",
    "# 현재 sheet의 제목 확인 가능\n",
    "sheet.title"
   ]
  },
  {
   "cell_type": "code",
   "execution_count": null,
   "metadata": {},
   "outputs": [],
   "source": []
  }
 ],
 "metadata": {
  "kernelspec": {
   "display_name": "base",
   "language": "python",
   "name": "python3"
  },
  "language_info": {
   "codemirror_mode": {
    "name": "ipython",
    "version": 3
   },
   "file_extension": ".py",
   "mimetype": "text/x-python",
   "name": "python",
   "nbconvert_exporter": "python",
   "pygments_lexer": "ipython3",
   "version": "3.10.9"
  }
 },
 "nbformat": 4,
 "nbformat_minor": 2
}
