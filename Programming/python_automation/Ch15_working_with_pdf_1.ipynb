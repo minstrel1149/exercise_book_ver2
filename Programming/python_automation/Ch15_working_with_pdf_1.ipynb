{
 "cells": [
  {
   "cell_type": "code",
   "execution_count": 1,
   "metadata": {},
   "outputs": [],
   "source": [
    "# PyPDF2 활용하여 pdf 파일 컨트롤, 1.26.0버전\n",
    "import PyPDF2\n",
    "from pathlib import Path"
   ]
  },
  {
   "cell_type": "code",
   "execution_count": 2,
   "metadata": {},
   "outputs": [],
   "source": [
    "p1 = Path.cwd() / 'attachments'\n",
    "p2 = Path.cwd() / 'result_attachments' / 'walnut2'"
   ]
  },
  {
   "cell_type": "code",
   "execution_count": 3,
   "metadata": {},
   "outputs": [],
   "source": [
    "# pdf파일을 이진 읽기 형식으로 오픈\n",
    "pdfFileObj = open(p1 / 'meetingminutes.pdf', mode='rb')\n",
    "# 이진 형식의 파일객체를 PdfFileReader객체로 추가 오픈\n",
    "pdfReader = PyPDF2.PdfFileReader(pdfFileObj)"
   ]
  },
  {
   "cell_type": "code",
   "execution_count": 4,
   "metadata": {},
   "outputs": [
    {
     "data": {
      "text/plain": [
       "19"
      ]
     },
     "execution_count": 4,
     "metadata": {},
     "output_type": "execute_result"
    }
   ],
   "source": [
    "# 해당 pdf파일의 전체 페이지 수를 확인 → 순환문 등에서 활용 가능\n",
    "pdfReader.numPages"
   ]
  },
  {
   "cell_type": "code",
   "execution_count": 9,
   "metadata": {},
   "outputs": [
    {
     "name": "stdout",
     "output_type": "stream",
     "text": [
      "OOFFFFIICCIIAALL  BBOOAARRDD  MMIINNUUTTEESS  \n",
      " \n",
      "Meeting of March 7, 2014 \n",
      " \n",
      " \n",
      " \n",
      "         \n",
      "The Board of Elementary and Secondary Education shall provide leadership and \n",
      "create policies for education that expand opportunities for children, empower \n",
      "families and communities, and advance Louisiana in an increasingly \n",
      "competitive global market. BOARD  \n",
      "of ELEMENTARY and  SECONDARY \n",
      "EDUCATION  \n",
      " \n"
     ]
    }
   ],
   "source": [
    "# getPage() 메서드 이용하여 pdf파일의 첫 페이지를 페이지 객체로 불러오기\n",
    "pageObj = pdfReader.getPage(0)\n",
    "# extractText() 메서드 활용하여 텍스트 추출 → 완벽한 텍스트 추출은 아니지만 활용 가능\n",
    "print(pageObj.extractText())"
   ]
  },
  {
   "cell_type": "code",
   "execution_count": 10,
   "metadata": {},
   "outputs": [],
   "source": [
    "pdfFileObj.close()"
   ]
  },
  {
   "cell_type": "code",
   "execution_count": 11,
   "metadata": {},
   "outputs": [
    {
     "data": {
      "text/plain": [
       "True"
      ]
     },
     "execution_count": 11,
     "metadata": {},
     "output_type": "execute_result"
    }
   ],
   "source": [
    "pdfFileObj = open(p1 / 'encrypted.pdf', mode='rb')\n",
    "pdfReader = PyPDF2.PdfFileReader(pdfFileObj)\n",
    "# pdf읽기 객체에 암호가 있는지 확인\n",
    "pdfReader.isEncrypted"
   ]
  },
  {
   "cell_type": "code",
   "execution_count": 12,
   "metadata": {},
   "outputs": [
    {
     "data": {
      "text/plain": [
       "'OOFFFFIICCIIAALL  BBOOAARRDD  MMIINNUUTTEESS  \\n \\nMeeting of March 7, 2014 \\n \\n \\n \\n         \\nThe Board of Elementary and Secondary Education shall provide leadership and \\ncreate policies for education that expand opportunities for children, empower \\nfamilies and communities, and advance Louisiana in an increasingly \\ncompetitive global market. BOARD  \\nof ELEMENTARY and  SECONDARY \\nEDUCATION  \\n '"
      ]
     },
     "execution_count": 12,
     "metadata": {},
     "output_type": "execute_result"
    }
   ],
   "source": [
    "# decrypt() 메서드 통해 암호를 입력\n",
    "# PdfFileWriter에서는 encrypt() 메서드를 통해 암호 설정도 가능\n",
    "pdfReader.decrypt('rosebud')\n",
    "pageObj = pdfReader.getPage(0)\n",
    "pageObj.extractText()"
   ]
  },
  {
   "cell_type": "code",
   "execution_count": 13,
   "metadata": {},
   "outputs": [],
   "source": [
    "pdfFileObj.close()"
   ]
  },
  {
   "cell_type": "code",
   "execution_count": 14,
   "metadata": {},
   "outputs": [],
   "source": [
    "# PdfFileWriter의 경우 직접 편집은 불가능 → 새로운 PDF를 만들고 기존 문서에서 내용을 복사해야\n",
    "# 단, PyPDF2의 쓰기 기능으로 페이지 복사, 회전, 덮어쓰기, 파일 암호화는 가능\n",
    "pdf1File = open(p1 / 'meetingminutes.pdf', mode='rb')\n",
    "pdf2File = open(p1 / 'meetingminutes2.pdf', mode='rb')\n",
    "pdf1Reader = PyPDF2.PdfFileReader(pdf1File)\n",
    "pdf2Reader = PyPDF2.PdfFileReader(pdf2File)"
   ]
  },
  {
   "cell_type": "code",
   "execution_count": 15,
   "metadata": {},
   "outputs": [],
   "source": [
    "# PdfFileWriter 객체 생성 → 괄호 안에는 빈칸으로\n",
    "pdfWriter = PyPDF2.PdfFileWriter()"
   ]
  },
  {
   "cell_type": "code",
   "execution_count": 16,
   "metadata": {},
   "outputs": [],
   "source": [
    "for page in range(pdf1Reader.numPages):\n",
    "    pageObj = pdf1Reader.getPage(page)\n",
    "    # addPage() 메서드 활용하여 추출한 page객체 추가\n",
    "    pdfWriter.addPage(pageObj)\n",
    "for page in range(pdf2Reader.numPages):\n",
    "    pageObj = pdf2Reader.getPage(page)\n",
    "    # addPage() 메서드는 제일 끝 부분에 페이지를 추가\n",
    "    pdfWriter.addPage(pageObj)"
   ]
  },
  {
   "cell_type": "code",
   "execution_count": 17,
   "metadata": {},
   "outputs": [],
   "source": [
    "# 이진 쓰기 전용으로 파일 객체 생성\n",
    "pdfOutputFile = open(p2 / 'combineminutes.pdf', mode='wb')\n",
    "# PdfFileWriter의 write() 메서드 활용하여 쓰기 전용 파일에 삽입\n",
    "pdfWriter.write(pdfOutputFile)"
   ]
  },
  {
   "cell_type": "code",
   "execution_count": 18,
   "metadata": {},
   "outputs": [],
   "source": [
    "pdfOutputFile.close()\n",
    "pdf1File.close()\n",
    "pdf2File.close()"
   ]
  },
  {
   "cell_type": "code",
   "execution_count": 19,
   "metadata": {},
   "outputs": [],
   "source": [
    "fileObj = open(p1 / 'meetingminutes.pdf', mode='rb')\n",
    "pdfReader = PyPDF2.PdfFileReader(fileObj)\n",
    "pdfWriter = PyPDF2.PdfFileWriter()\n",
    "\n",
    "for pageNum in range(pdfReader.numPages):\n",
    "    pageObj = pdfReader.getPage(pageNum)\n",
    "    # rotateClockwise() 메서드를 통해 페이지 회전(괄호 안 숫자는 회전 각)\n",
    "    # 반시계방향 회전은 rotateCounterClosewise() 활용\n",
    "    # rotateClockwise를 활용하면 그 자체로 pageObj가 변한다는 것 확인(ex. 파이썬의 sort() 메서드 등)\n",
    "    pageObj.rotateClockwise(90)\n",
    "    pdfWriter.addPage(pageObj)\n",
    "\n",
    "outputFileObj = open(p2 / 'rotateminutes.pdf', mode='wb')\n",
    "pdfWriter.write(outputFileObj)\n",
    "\n",
    "fileObj.close()\n",
    "outputFileObj.close()"
   ]
  },
  {
   "cell_type": "code",
   "execution_count": 20,
   "metadata": {},
   "outputs": [],
   "source": [
    "fileObj1 = open(p1 / 'meetingminutes.pdf', mode='rb')\n",
    "fileObj2 = open(p1 / 'watermark.pdf', mode='rb')\n",
    "pdfReader1 = PyPDF2.PdfFileReader(fileObj1)\n",
    "pdfReader2 = PyPDF2.PdfFileReader(fileObj2)\n",
    "pdfWriter = PyPDF2.PdfFileWriter()\n",
    "\n",
    "for pageNum in range(pdfReader1.numPages):\n",
    "    pageObj = pdfReader1.getPage(pageNum)\n",
    "    # mergePage 메서드를 통해 페이지 내용 위 덧입히기 가능 → 로고, 타임스탬프, 워터마크 등 추가 시 용이\n",
    "    # mergePage를 활용하면 그 자체로 pageObj가 변한다는 것 확인(ex. 파이썬의 sort() 메서드 등)\n",
    "    pageObj.mergePage(pdfReader2.getPage(0))\n",
    "    pdfWriter.addPage(pageObj)\n",
    "\n",
    "outputFileObj = open(p2 / 'watermarkcombined.pdf', mode='wb')\n",
    "pdfWriter.write(outputFileObj)\n",
    "\n",
    "fileObj1.close()\n",
    "fileObj2.close()\n",
    "outputFileObj.close()"
   ]
  },
  {
   "cell_type": "code",
   "execution_count": null,
   "metadata": {},
   "outputs": [],
   "source": []
  }
 ],
 "metadata": {
  "kernelspec": {
   "display_name": "base",
   "language": "python",
   "name": "python3"
  },
  "language_info": {
   "codemirror_mode": {
    "name": "ipython",
    "version": 3
   },
   "file_extension": ".py",
   "mimetype": "text/x-python",
   "name": "python",
   "nbconvert_exporter": "python",
   "pygments_lexer": "ipython3",
   "version": "3.10.9"
  }
 },
 "nbformat": 4,
 "nbformat_minor": 2
}
