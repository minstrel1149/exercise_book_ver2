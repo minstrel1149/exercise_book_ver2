{
 "cells": [
  {
   "cell_type": "code",
   "execution_count": 2,
   "metadata": {},
   "outputs": [],
   "source": [
    "import re"
   ]
  },
  {
   "cell_type": "code",
   "execution_count": 5,
   "metadata": {},
   "outputs": [
    {
     "data": {
      "text/plain": [
       "'415-555-4242'"
      ]
     },
     "execution_count": 5,
     "metadata": {},
     "output_type": "execute_result"
    }
   ],
   "source": [
    "phoneNumRegex = re.compile(r'\\d{3}-\\d{3,4}-\\d{4}')\n",
    "mo = phoneNumRegex.search('My number is 415-555-4242.')\n",
    "mo.group()"
   ]
  },
  {
   "cell_type": "code",
   "execution_count": 7,
   "metadata": {},
   "outputs": [
    {
     "data": {
      "text/plain": [
       "('415-555-4242', '415', '555', '4242', ('415', '555', '4242'))"
      ]
     },
     "execution_count": 7,
     "metadata": {},
     "output_type": "execute_result"
    }
   ],
   "source": [
    "phoneNumRegex = re.compile(r'(\\d{3})-(\\d{3,4})-(\\d{4})')\n",
    "mo = phoneNumRegex.search('My number is 415-555-4242.')\n",
    "mo.group(), mo.group(1), mo.group(2), mo.group(3), mo.groups()"
   ]
  },
  {
   "cell_type": "code",
   "execution_count": 9,
   "metadata": {},
   "outputs": [
    {
     "data": {
      "text/plain": [
       "('(415)-555-4242', '(415)', '555', '4242', ('(415)', '555', '4242'))"
      ]
     },
     "execution_count": 9,
     "metadata": {},
     "output_type": "execute_result"
    }
   ],
   "source": [
    "phoneNumRegex = re.compile(r'(\\(\\d{3}\\))-(\\d{3,4})-(\\d{4})')\n",
    "mo = phoneNumRegex.search('My number is (415)-555-4242.')\n",
    "mo.group(), mo.group(1), mo.group(2), mo.group(3), mo.groups()"
   ]
  },
  {
   "cell_type": "code",
   "execution_count": 10,
   "metadata": {},
   "outputs": [
    {
     "data": {
      "text/plain": [
       "'Batman'"
      ]
     },
     "execution_count": 10,
     "metadata": {},
     "output_type": "execute_result"
    }
   ],
   "source": [
    "heroRegex = re.compile(r'Batman|Tina Fey')\n",
    "mo = heroRegex.search('Batman and Tina Fey')\n",
    "mo.group()"
   ]
  },
  {
   "cell_type": "code",
   "execution_count": 12,
   "metadata": {},
   "outputs": [
    {
     "data": {
      "text/plain": [
       "['Batman', 'Tina Fey']"
      ]
     },
     "execution_count": 12,
     "metadata": {},
     "output_type": "execute_result"
    }
   ],
   "source": [
    "mo = heroRegex.findall('Batman and Tina Fey')\n",
    "mo"
   ]
  },
  {
   "cell_type": "code",
   "execution_count": 14,
   "metadata": {},
   "outputs": [
    {
     "data": {
      "text/plain": [
       "('Batmobile', 'mobile')"
      ]
     },
     "execution_count": 14,
     "metadata": {},
     "output_type": "execute_result"
    }
   ],
   "source": [
    "batRegex = re.compile(r'Bat(man|mobile|copter|bat)')\n",
    "mo = batRegex.search('Batmobile lost a wheel')\n",
    "mo.group(), mo.group(1)"
   ]
  },
  {
   "cell_type": "code",
   "execution_count": 18,
   "metadata": {},
   "outputs": [
    {
     "data": {
      "text/plain": [
       "('Batman', 'Batwoman', None, 'wo')"
      ]
     },
     "execution_count": 18,
     "metadata": {},
     "output_type": "execute_result"
    }
   ],
   "source": [
    "batRegex = re.compile(r'Bat(wo)?man')\n",
    "mo1 = batRegex.search('The Adventure of Batman')\n",
    "mo2 = batRegex.search('The Adventure of Batwoman')\n",
    "mo1.group(), mo2.group(), mo1.group(1), mo2.group(1)"
   ]
  },
  {
   "cell_type": "code",
   "execution_count": 19,
   "metadata": {},
   "outputs": [
    {
     "data": {
      "text/plain": [
       "('415-555-4242', '415', '-', '555', '4242', ('415', '-', '555', '4242'))"
      ]
     },
     "execution_count": 19,
     "metadata": {},
     "output_type": "execute_result"
    }
   ],
   "source": [
    "phoneNumRegex = re.compile(r'(\\d{3})?(-)?(\\d{3,4})-(\\d{4})')\n",
    "mo = phoneNumRegex.search('My number is 415-555-4242.')\n",
    "mo.group(), mo.group(1), mo.group(2), mo.group(3), mo.group(4), mo.groups()"
   ]
  },
  {
   "cell_type": "code",
   "execution_count": 21,
   "metadata": {},
   "outputs": [
    {
     "data": {
      "text/plain": [
       "('555-4242', (None, None, '555', '4242'))"
      ]
     },
     "execution_count": 21,
     "metadata": {},
     "output_type": "execute_result"
    }
   ],
   "source": [
    "phoneNumRegex = re.compile(r'(\\d{3})?(-)?(\\d{3,4})-(\\d{4})')\n",
    "mo = phoneNumRegex.search('My number is 555-4242.')\n",
    "mo.group(), mo.groups()"
   ]
  },
  {
   "cell_type": "code",
   "execution_count": 23,
   "metadata": {},
   "outputs": [
    {
     "data": {
      "text/plain": [
       "('Batman', 'Batwowowoman', None, 'wo')"
      ]
     },
     "execution_count": 23,
     "metadata": {},
     "output_type": "execute_result"
    }
   ],
   "source": [
    "batRegex = re.compile(r'Bat(wo)*man')\n",
    "mo1 = batRegex.search('The Adventure of Batman')\n",
    "mo2 = batRegex.search('The Adventure of Batwowowoman')\n",
    "mo1.group(), mo2.group(), mo1.group(1), mo2.group(1)"
   ]
  },
  {
   "cell_type": "code",
   "execution_count": 25,
   "metadata": {},
   "outputs": [
    {
     "data": {
      "text/plain": [
       "(None, 'Batwowowoman', None, 'wo')"
      ]
     },
     "execution_count": 25,
     "metadata": {},
     "output_type": "execute_result"
    }
   ],
   "source": [
    "batRegex = re.compile(r'Bat(wo)+man')\n",
    "mo1 = batRegex.search('The Adventure of Batman')\n",
    "mo2 = batRegex.search('The Adventure of Batwowowoman')\n",
    "mo1, mo2.group(), mo1, mo2.group(1)"
   ]
  },
  {
   "cell_type": "code",
   "execution_count": 26,
   "metadata": {},
   "outputs": [
    {
     "data": {
      "text/plain": [
       "('HaHaHaHaHa', 'HaHaHa')"
      ]
     },
     "execution_count": 26,
     "metadata": {},
     "output_type": "execute_result"
    }
   ],
   "source": [
    "greedyHaRegex = re.compile(r'(Ha){3,5}')\n",
    "nongreedyHaRegex = re.compile(r'(Ha){3,5}?')\n",
    "mo1 = greedyHaRegex.search('HaHaHaHaHa')\n",
    "mo2 = nongreedyHaRegex.search('HaHaHaHaHa')\n",
    "mo1.group(), mo2.group()"
   ]
  },
  {
   "cell_type": "code",
   "execution_count": 29,
   "metadata": {},
   "outputs": [
    {
     "name": "stdout",
     "output_type": "stream",
     "text": [
      "010-0000-0000\n",
      "070-0000-0000\n"
     ]
    }
   ],
   "source": [
    "phoneNumRegex = re.compile(r'(\\d{3})-(\\d{3,4})-(\\d{4})')\n",
    "mo = phoneNumRegex.findall('Cell: 010-0000-0000, Work: 070-0000-0000')\n",
    "for i in range(len(mo)):\n",
    "    print(f'{mo[i][0]}-{mo[i][1]}-{mo[i][2]}')"
   ]
  },
  {
   "cell_type": "code",
   "execution_count": 30,
   "metadata": {},
   "outputs": [
    {
     "data": {
      "text/plain": [
       "['12 drummers',\n",
       " '11 pipers',\n",
       " '10 lords',\n",
       " '9 ladies',\n",
       " '8 maids',\n",
       " '7 swans',\n",
       " '6 geese',\n",
       " '5 rings',\n",
       " '4 birds',\n",
       " '3 hens',\n",
       " '2 doves']"
      ]
     },
     "execution_count": 30,
     "metadata": {},
     "output_type": "execute_result"
    }
   ],
   "source": [
    "xmasRegex = re.compile(r'\\d+\\s\\w+')\n",
    "mo = xmasRegex.findall('12 drummers, 11 pipers, 10 lords, 9 ladies, 8 maids, 7 swans, 6 geese, 5 rings, 4 birds, 3 hens, 2 doves')\n",
    "mo"
   ]
  },
  {
   "cell_type": "code",
   "execution_count": null,
   "metadata": {},
   "outputs": [],
   "source": []
  }
 ],
 "metadata": {
  "kernelspec": {
   "display_name": "base",
   "language": "python",
   "name": "python3"
  },
  "language_info": {
   "codemirror_mode": {
    "name": "ipython",
    "version": 3
   },
   "file_extension": ".py",
   "mimetype": "text/x-python",
   "name": "python",
   "nbconvert_exporter": "python",
   "pygments_lexer": "ipython3",
   "version": "3.10.9"
  }
 },
 "nbformat": 4,
 "nbformat_minor": 2
}
