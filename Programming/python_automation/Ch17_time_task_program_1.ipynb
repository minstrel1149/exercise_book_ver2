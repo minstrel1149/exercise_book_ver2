{
 "cells": [
  {
   "cell_type": "code",
   "execution_count": 1,
   "metadata": {},
   "outputs": [],
   "source": [
    "import time\n",
    "# datetime을 먼저 import 하고\n",
    "import datetime\n",
    "# 그 후 from datetime import -- 활용하면 간편하게 이용 가능\n",
    "from datetime import datetime, timedelta, date\n",
    "import subprocess\n",
    "# 멀티스레딩을 활용하기 위한 모듈\n",
    "import threading\n",
    "from pathlib import Path"
   ]
  },
  {
   "cell_type": "code",
   "execution_count": 2,
   "metadata": {},
   "outputs": [
    {
     "data": {
      "text/plain": [
       "(1699847239.435069, 'Mon Nov 13 12:47:19 2023')"
      ]
     },
     "execution_count": 2,
     "metadata": {},
     "output_type": "execute_result"
    }
   ],
   "source": [
    "# 유닉스 시간(unix epoch) : 1970년 1월 1일 오전 12시 기준 → time.time()은 해당 시점에서 경과한 시간을 초로\n",
    "# time.ctime()은 현재 시각을 문자열 형식으로 반환\n",
    "time.time(), time.ctime()"
   ]
  },
  {
   "cell_type": "code",
   "execution_count": 4,
   "metadata": {},
   "outputs": [
    {
     "name": "stdout",
     "output_type": "stream",
     "text": [
      "Tick\tTock\n",
      "Tick\tTock\n",
      "Tick\tTock\n"
     ]
    }
   ],
   "source": [
    "# time.sleep()을 통해 프로그램 잠시 중지 가능\n",
    "for i in range(3):\n",
    "    print('Tick', end='\\t')\n",
    "    time.sleep(0.5)\n",
    "    print('Tock')\n",
    "    time.sleep(0.5)"
   ]
  },
  {
   "cell_type": "code",
   "execution_count": 5,
   "metadata": {},
   "outputs": [
    {
     "data": {
      "text/plain": [
       "(datetime.datetime(2023, 11, 13, 12, 49, 26, 988763),\n",
       " datetime.datetime(2023, 11, 13, 12, 49, 26, 988764))"
      ]
     },
     "execution_count": 5,
     "metadata": {},
     "output_type": "execute_result"
    }
   ],
   "source": [
    "# datetime 모듈은 고유의 datetime 자료형\n",
    "# 더 나중 시점의 datetime 객체는 더 큰 값 → 비교 가능\n",
    "datetime.now(), datetime.fromtimestamp(time.time())"
   ]
  },
  {
   "cell_type": "code",
   "execution_count": 6,
   "metadata": {},
   "outputs": [
    {
     "data": {
      "text/plain": [
       "datetime.datetime(2023, 10, 11, 4, 31, 59)"
      ]
     },
     "execution_count": 6,
     "metadata": {},
     "output_type": "execute_result"
    }
   ],
   "source": [
    "# year, month, day, hour, minute, second 등 인자 전달 가능\n",
    "datetime(year=2023, month=10, day=11, hour=4, minute=31, second=59)"
   ]
  },
  {
   "cell_type": "code",
   "execution_count": 7,
   "metadata": {},
   "outputs": [
    {
     "data": {
      "text/plain": [
       "(11, 36548, 0, 986948.0)"
      ]
     },
     "execution_count": 7,
     "metadata": {},
     "output_type": "execute_result"
    }
   ],
   "source": [
    "# timedelta는 시점에 대한 시각이 아닌 기간에 대한 시간\n",
    "# month나 year의 경우 특정 달이나 해에 따라 달라질 수 있으므로 미존재\n",
    "delta = timedelta(days=11, hours=10, minutes=9, seconds=8)\n",
    "# total_seconds() 메서드를 통해 초 단위로 전체 기간 반환\n",
    "delta.days, delta.seconds, delta.microseconds, delta.total_seconds()"
   ]
  },
  {
   "cell_type": "code",
   "execution_count": 8,
   "metadata": {},
   "outputs": [
    {
     "data": {
      "text/plain": [
       "datetime.datetime(2083, 10, 6, 16, 29)"
      ]
     },
     "execution_count": 8,
     "metadata": {},
     "output_type": "execute_result"
    }
   ],
   "source": [
    "# timedelta 객체는 산술 연산자 사용하여 더하기, 빼기, 곱하기, 나누기 가능\n",
    "oct21st = datetime(2023, 10, 21, 16, 29, 0)\n",
    "aboutThirtyYears = timedelta(days=365 * 30)\n",
    "oct21st + (2 * aboutThirtyYears)"
   ]
  },
  {
   "cell_type": "code",
   "execution_count": 15,
   "metadata": {},
   "outputs": [
    {
     "data": {
      "text/plain": [
       "('2023-11-13, 12:57:45', datetime.datetime(2019, 10, 21, 0, 0))"
      ]
     },
     "execution_count": 15,
     "metadata": {},
     "output_type": "execute_result"
    }
   ],
   "source": [
    "# strftime() 메서드와 strptime() 함수를 통해 문자열과 datetime 객체 상호 전환\n",
    "# %F(2020-01-01) %D(10/21/22) %Y(2022) %y(22) %m(03) %B(October) %b(Oct) %d(28) %A(Monday) %a(Mon) %H %M %S 등 활용\n",
    "# 단, %F의 경우 strptime에서는 미작동\n",
    "datetime.now().strftime('%F, %H:%M:%S'), datetime.strptime('October 21, 2019', '%B %d, %Y')"
   ]
  },
  {
   "cell_type": "code",
   "execution_count": 18,
   "metadata": {},
   "outputs": [
    {
     "name": "stdout",
     "output_type": "stream",
     "text": [
      "Start of program\n",
      "End of Program\n"
     ]
    },
    {
     "name": "stdout",
     "output_type": "stream",
     "text": [
      "Wake Up!\n"
     ]
    }
   ],
   "source": [
    "# 지연 또는 예약 실행을 하려는 코드를 threading 모듈을 사용해 별도의 스레드에서 실행\n",
    "# threading.Thread(target=func)를 사용하여 Thread 객체 생성\n",
    "print('Start of program')\n",
    "\n",
    "def takeANap():\n",
    "    time.sleep(3)\n",
    "    print('Wake Up!')\n",
    "# threading.Thread()에 args, kwargs 인자 전달 가능\n",
    "threadObj = threading.Thread(target=takeANap)\n",
    "# start() 메서드를 통해 Thread 객체 시작\n",
    "threadObj.start()\n",
    "\n",
    "time.sleep(1)\n",
    "print('End of Program')"
   ]
  },
  {
   "cell_type": "code",
   "execution_count": 23,
   "metadata": {},
   "outputs": [
    {
     "name": "stdout",
     "output_type": "stream",
     "text": [
      "Start of program\n",
      "End of Program\n"
     ]
    },
    {
     "name": "stdout",
     "output_type": "stream",
     "text": [
      "Wake Up!\n"
     ]
    }
   ],
   "source": [
    "# threading.Thread()에서의 args, kwargs 인자 사용 관련\n",
    "print('Start of program')\n",
    "\n",
    "def takeANap(sec=3):\n",
    "    time.sleep(sec)\n",
    "    print('Wake Up!')\n",
    "# threading.Thread()에 args, kwargs 인자 전달 가능\n",
    "threadObj = threading.Thread(target=takeANap, kwargs={'sec':5})\n",
    "# start() 메서드를 통해 Thread 객체 시작\n",
    "threadObj.start()\n",
    "\n",
    "time.sleep(1)\n",
    "print('End of Program')"
   ]
  },
  {
   "cell_type": "code",
   "execution_count": 25,
   "metadata": {},
   "outputs": [
    {
     "data": {
      "text/plain": [
       "True"
      ]
     },
     "execution_count": 25,
     "metadata": {},
     "output_type": "execute_result"
    }
   ],
   "source": [
    "# subprocess.Popen() 함수를 이용하여 컴퓨터 내 다른 프로그램 실행(P는 process를 의미)\n",
    "paintProc = subprocess.Popen(Path('C:/') / 'Windows' / 'System32' / 'mspaint.exe')\n",
    "paintProc.poll() == None"
   ]
  },
  {
   "cell_type": "code",
   "execution_count": 26,
   "metadata": {},
   "outputs": [
    {
     "name": "stdout",
     "output_type": "stream",
     "text": [
      "종료되었습니다.\n"
     ]
    }
   ],
   "source": [
    "# Popen() 함수에 명령 행 인자를 전달하기 위해서는 단일 인자로 리스트를 전달해야\n",
    "# 결과적으로 이 리스트는 실행하는 프로그램의 sys.argv 값 형태\n",
    "csvProc = subprocess.Popen([Path('C:/') / 'Windows' / 'notepad.exe', Path.cwd() / 'result_attachments' / 'output.csv'])\n",
    "csvProc.wait()\n",
    "print('종료되었습니다.')"
   ]
  },
  {
   "cell_type": "code",
   "execution_count": 27,
   "metadata": {},
   "outputs": [
    {
     "name": "stdout",
     "output_type": "stream",
     "text": [
      "종료되었습니다.\n"
     ]
    }
   ],
   "source": [
    "# 기본 연결 프로그램으로 열기 → 'start'와 shell=True 활용\n",
    "csvProc = subprocess.Popen(['start', Path.cwd() / 'result_attachments' / 'output.csv'], shell=True)\n",
    "# wait() 메서드는 프로그램이 종료될 때까지 실행을 멈추는 용도 → 단 계산기 앱은 실행하자마자 스스로 종료\n",
    "# 엑셀 앱도 실행하자마자 스스로 종료\n",
    "csvProc.wait()\n",
    "print('종료되었습니다.')"
   ]
  },
  {
   "cell_type": "code",
   "execution_count": null,
   "metadata": {},
   "outputs": [],
   "source": []
  }
 ],
 "metadata": {
  "kernelspec": {
   "display_name": "base",
   "language": "python",
   "name": "python3"
  },
  "language_info": {
   "codemirror_mode": {
    "name": "ipython",
    "version": 3
   },
   "file_extension": ".py",
   "mimetype": "text/x-python",
   "name": "python",
   "nbconvert_exporter": "python",
   "pygments_lexer": "ipython3",
   "version": "3.10.9"
  }
 },
 "nbformat": 4,
 "nbformat_minor": 2
}
