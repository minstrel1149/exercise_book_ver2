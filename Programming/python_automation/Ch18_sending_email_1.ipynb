{
 "cells": [
  {
   "cell_type": "code",
   "execution_count": 1,
   "metadata": {},
   "outputs": [],
   "source": [
    "import smtplib\n",
    "import email\n",
    "from email.mime.text import MIMEText\n",
    "from email.mime.multipart import MIMEMultipart\n",
    "import imaplib\n",
    "from pathlib import Path\n",
    "import pyinputplus as pyip"
   ]
  },
  {
   "cell_type": "code",
   "execution_count": 2,
   "metadata": {},
   "outputs": [
    {
     "data": {
      "text/plain": [
       "(220, b'2.0.0 Ready to start TLS')"
      ]
     },
     "execution_count": 2,
     "metadata": {},
     "output_type": "execute_result"
    }
   ],
   "source": [
    "smtp_obj = smtplib.SMTP('smtp.gmail.com', 587)\n",
    "smtp_obj.ehlo()\n",
    "smtp_obj.starttls()"
   ]
  },
  {
   "cell_type": "code",
   "execution_count": 3,
   "metadata": {},
   "outputs": [
    {
     "name": "stdout",
     "output_type": "stream",
     "text": [
      "비밀번호 입력"
     ]
    }
   ],
   "source": [
    "password = pyip.inputStr(prompt='비밀번호 입력')\n",
    "smtp_obj.login('kth1149@gmail.com', password)\n",
    "password = None"
   ]
  },
  {
   "cell_type": "code",
   "execution_count": 4,
   "metadata": {},
   "outputs": [],
   "source": [
    "name = '김태화'\n",
    "email_address = 'minstrel1149@naver.com'"
   ]
  },
  {
   "cell_type": "code",
   "execution_count": 5,
   "metadata": {},
   "outputs": [],
   "source": [
    "msg = MIMEMultipart()\n",
    "msg['subject'] = f\"아이포트폴리오 Global PM 포지션 지원 제안_{name}님\"\n",
    "msg['to'] = email_address\n",
    "msg['from'] = 'kth1149@gmail.com'\n",
    "msg['cc'] = 'kth1149@gmail.com'\n",
    "body = f'''안녕하세요? {name}님, \n",
    "저는 아이포트폴리오 채용 지원 담당자 입니다. \n",
    "\n",
    "{name}님께 아이포트폴리오 Global PM 포지션을 소개해 드리게되어 기쁘게 생각합니다. \n",
    "\n",
    "대충 소개 내용\n",
    "\n",
    "    1. About company : 대충 회사 소개\n",
    "\n",
    "    2. 채용 부문\n",
    "      -  직 무 : 대충 직무 소개\n",
    "      -  조 건 : 정규직\n",
    "      -  근무지: 대충 위치 소개\n",
    "\n",
    "    3. 담당 업무\n",
    "      - 대충 담당업무 소개\n",
    "\n",
    "    4. 자격 요건 \n",
    "      - 대충 자격요건 소개\n",
    "\n",
    "    5. 전형방법 및 일정\n",
    "      - 대충 소개\n",
    "\n",
    "긍정적으로 검토 부탁드리며, 조금이라도 궁금하신 점이 있으신 경우 언제든지 전화(010-0000-0000) 혹은 회신 메일 부탁드립니다.\n",
    "\n",
    "감사합니다. 좋은 하루 되세요 :)                        \n",
    "아이포트폴리오 담당자 드림'''\n",
    "msg.attach(MIMEText(body))"
   ]
  },
  {
   "cell_type": "code",
   "execution_count": 6,
   "metadata": {},
   "outputs": [
    {
     "data": {
      "text/plain": [
       "{}"
      ]
     },
     "execution_count": 6,
     "metadata": {},
     "output_type": "execute_result"
    }
   ],
   "source": [
    "smtp_obj.sendmail(msg['from'], msg['to'], msg.as_string())"
   ]
  },
  {
   "cell_type": "code",
   "execution_count": 7,
   "metadata": {},
   "outputs": [
    {
     "data": {
      "text/plain": [
       "(221,\n",
       " b'2.0.0 closing connection u2-20020a170902e80200b001c72f4334afsm758913plg.20 - gsmtp')"
      ]
     },
     "execution_count": 7,
     "metadata": {},
     "output_type": "execute_result"
    }
   ],
   "source": [
    "smtp_obj.quit()"
   ]
  },
  {
   "cell_type": "code",
   "execution_count": null,
   "metadata": {},
   "outputs": [],
   "source": []
  }
 ],
 "metadata": {
  "kernelspec": {
   "display_name": "base",
   "language": "python",
   "name": "python3"
  },
  "language_info": {
   "codemirror_mode": {
    "name": "ipython",
    "version": 3
   },
   "file_extension": ".py",
   "mimetype": "text/x-python",
   "name": "python",
   "nbconvert_exporter": "python",
   "pygments_lexer": "ipython3",
   "version": "3.10.9"
  }
 },
 "nbformat": 4,
 "nbformat_minor": 2
}
