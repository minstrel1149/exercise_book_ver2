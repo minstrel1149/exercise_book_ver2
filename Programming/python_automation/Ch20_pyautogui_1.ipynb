{
 "cells": [
  {
   "cell_type": "code",
   "execution_count": 1,
   "metadata": {},
   "outputs": [],
   "source": [
    "import pyautogui as pag\n",
    "from pathlib import Path\n",
    "import subprocess\n",
    "import time\n",
    "import pyperclip"
   ]
  },
  {
   "cell_type": "code",
   "execution_count": 4,
   "metadata": {},
   "outputs": [
    {
     "data": {
      "text/plain": [
       "(1920, 1080, 1920, 1080, Size(width=1920, height=1080))"
      ]
     },
     "execution_count": 4,
     "metadata": {},
     "output_type": "execute_result"
    }
   ],
   "source": [
    "# pyautogui의 안전장치 기능 → 마우스 커서를 모퉁이로 갖다 놓으면 FailSafeException 예외 발생\n",
    "# pyautogui 마우스 기능은 x, y 좌표 사용 → 원점(화면 좌상단)이 (0, 0)\n",
    "# pag.size()를 통해 전체 크기 파악 → 네임드 튜플 반환\n",
    "wh = pag.size()\n",
    "wh[0], wh[1], wh.width, wh.height, wh"
   ]
  },
  {
   "cell_type": "code",
   "execution_count": 6,
   "metadata": {},
   "outputs": [],
   "source": [
    "# moveTo(x, y, duration='') 함수를 통해 마우스 움직이기 → 절대 위치\n",
    "for i in range(5):\n",
    "    pag.moveTo(500, 500, duration=0.1)\n",
    "    pag.moveTo(500, 700, duration=0.1)\n",
    "    pag.moveTo(700, 700, duration=0.1)\n",
    "    pag.moveTo(700, 500, duration=0.1)"
   ]
  },
  {
   "cell_type": "code",
   "execution_count": 7,
   "metadata": {},
   "outputs": [],
   "source": [
    "# move(x, y, duration='') 함수를 통해 마우스 움직이기 → 현재 위치 대비 상대 위치\n",
    "for i in range(5):\n",
    "    pag.move(200, 0, duration=0.1)\n",
    "    pag.move(0, 200, duration=0.1)\n",
    "    pag.move(-200, 0, duration=0.1)\n",
    "    pag.move(0, -200, duration=0.1)"
   ]
  },
  {
   "cell_type": "code",
   "execution_count": 9,
   "metadata": {},
   "outputs": [
    {
     "data": {
      "text/plain": [
       "(651, 297, 651, 297, Point(x=651, y=297))"
      ]
     },
     "execution_count": 9,
     "metadata": {},
     "output_type": "execute_result"
    }
   ],
   "source": [
    "# position() 함수를 통해 마우스 현재 위치 파악 → 네임드 튜플 반환\n",
    "p = pag.position()\n",
    "p[0], p[1], p.x, p.y, p"
   ]
  },
  {
   "cell_type": "code",
   "execution_count": 17,
   "metadata": {},
   "outputs": [],
   "source": [
    "# click(x, y, button='') 함수를 통해 마우스 클릭 가능\n",
    "# doubleClick() 함수 사용 가능\n",
    "# click은 mouseUp()과 mouseDown()의 결합\n",
    "p = pag.position()\n",
    "pag.click(p, button='left', duration=0.2)"
   ]
  },
  {
   "cell_type": "code",
   "execution_count": 18,
   "metadata": {},
   "outputs": [
    {
     "data": {
      "text/plain": [
       "0"
      ]
     },
     "execution_count": 18,
     "metadata": {},
     "output_type": "execute_result"
    }
   ],
   "source": [
    "# dragTo(x, y, duration='') 함수를 통해 마우스 드래그 → 절대 위치\n",
    "# drag(x, y, duration='') 함수를 통해 마우스 움직이기 → 현재 위치 대비 상대 위치\n",
    "paintProc = subprocess.Popen(Path('C:/') / 'Windows' / 'System32' / 'mspaint.exe')\n",
    "time.sleep(2)\n",
    "distance = 300\n",
    "change = 20\n",
    "while distance > 0:\n",
    "    pag.drag(distance, 0, duration=0.1)\n",
    "    distance -= change\n",
    "    pag.drag(0, distance, duration=0.1)\n",
    "    pag.drag(-distance, 0, duration=0.1)\n",
    "    distance -= change\n",
    "    pag.drag(0, -distance, duration=0.1)\n",
    "paintProc.wait()"
   ]
  },
  {
   "cell_type": "code",
   "execution_count": 22,
   "metadata": {},
   "outputs": [],
   "source": [
    "# scroll() 함수를 통해 마우스 상하 스크롤 → 양수는 위로, 음수는 아래로\n",
    "# 안되는 경우가 있는데 어떻게 해결..?"
   ]
  },
  {
   "cell_type": "code",
   "execution_count": 23,
   "metadata": {},
   "outputs": [],
   "source": [
    "# mouseInfo() 함수를 이용하여 마우스 인포 창 호출 가능\n",
    "pag.mouseInfo()"
   ]
  },
  {
   "cell_type": "code",
   "execution_count": 24,
   "metadata": {},
   "outputs": [],
   "source": [
    "# click 메서드 안에 튜플을 넣으면 moveTo를 같이 이용하는 형태인듯\n",
    "pag.click((1209, 198), duration=0.2)"
   ]
  },
  {
   "cell_type": "code",
   "execution_count": 26,
   "metadata": {},
   "outputs": [
    {
     "data": {
      "text/plain": [
       "((31, 31, 31), False)"
      ]
     },
     "execution_count": 26,
     "metadata": {},
     "output_type": "execute_result"
    }
   ],
   "source": [
    "# screenshot() 함수를 통해 스크린샷 가능\n",
    "# pixel() 함수를 통해 RGB 파악 가능 → 인자 두개(x, y)를 넣어야\n",
    "# pixelMatchesColor() 함수를 통해 일치 여부 확인 → 인자 세개(x, y, (R, G, B))\n",
    "p = pag.position()\n",
    "pag.pixel(p[0], p[1]), pag.pixelMatchesColor(p[0], p[1], (30, 30, 30))"
   ]
  },
  {
   "cell_type": "code",
   "execution_count": 28,
   "metadata": {},
   "outputs": [
    {
     "data": {
      "text/plain": [
       "True"
      ]
     },
     "execution_count": 28,
     "metadata": {},
     "output_type": "execute_result"
    }
   ],
   "source": [
    "# 이미지 인식: locateOnScreen() 함수를 통해 이미지를 찾아낸 좌표를 반환\n",
    "# locateAllOnScreen() 함수를 통해 튜플들이 들어 있는 리스트도 반환 가능\n",
    "# 단, locateOnScreen()은 Path 객체 활용 불가능\n",
    "# 왼쪽 모서리 x좌표, 위쪽 모서리 y좌표, 너비, 높이 반환\n",
    "p1 = Path.cwd() / 'attachments' / 'submit2.png'\n",
    "locate = pag.locateOnScreen(str(p1))\n",
    "locate == None\n",
    "# click() 함수에 이미지 파일 직접 전달도 가능 + moveTo(), dragTo()도 가능\n",
    "# 단, 이미지와 일치하는게 없으면 오류 발생 → 예외처리 필요"
   ]
  },
  {
   "cell_type": "code",
   "execution_count": null,
   "metadata": {},
   "outputs": [],
   "source": []
  }
 ],
 "metadata": {
  "kernelspec": {
   "display_name": "base",
   "language": "python",
   "name": "python3"
  },
  "language_info": {
   "codemirror_mode": {
    "name": "ipython",
    "version": 3
   },
   "file_extension": ".py",
   "mimetype": "text/x-python",
   "name": "python",
   "nbconvert_exporter": "python",
   "pygments_lexer": "ipython3",
   "version": "3.10.9"
  }
 },
 "nbformat": 4,
 "nbformat_minor": 2
}
