{
 "cells": [
  {
   "cell_type": "code",
   "execution_count": 1,
   "metadata": {},
   "outputs": [],
   "source": [
    "import pyautogui as pag\n",
    "from pathlib import Path\n",
    "import subprocess\n",
    "import time\n",
    "import pyperclip"
   ]
  },
  {
   "cell_type": "code",
   "execution_count": 4,
   "metadata": {},
   "outputs": [
    {
     "data": {
      "text/plain": [
       "(1920, 1080, 1920, 1080, Size(width=1920, height=1080))"
      ]
     },
     "execution_count": 4,
     "metadata": {},
     "output_type": "execute_result"
    }
   ],
   "source": [
    "# pyautogui의 안전장치 기능 → 마우스 커서를 모퉁이로 갖다 놓으면 FailSafeException 예외 발생\n",
    "# pyautogui 마우스 기능은 x, y 좌표 사용 → 원점(화면 좌상단)이 (0, 0)\n",
    "# pag.size()를 통해 전체 크기 파악 → 네임드 튜플 반환\n",
    "wh = pag.size()\n",
    "wh[0], wh[1], wh.width, wh.height, wh"
   ]
  },
  {
   "cell_type": "code",
   "execution_count": 6,
   "metadata": {},
   "outputs": [],
   "source": [
    "# moveTo(x, y, duration='') 함수를 통해 마우스 움직이기 → 절대 위치\n",
    "for i in range(5):\n",
    "    pag.moveTo(500, 500, duration=0.1)\n",
    "    pag.moveTo(500, 700, duration=0.1)\n",
    "    pag.moveTo(700, 700, duration=0.1)\n",
    "    pag.moveTo(700, 500, duration=0.1)"
   ]
  },
  {
   "cell_type": "code",
   "execution_count": 7,
   "metadata": {},
   "outputs": [],
   "source": [
    "# move(x, y, duration='') 함수를 통해 마우스 움직이기 → 현재 위치 대비 상대 위치\n",
    "for i in range(5):\n",
    "    pag.move(200, 0, duration=0.1)\n",
    "    pag.move(0, 200, duration=0.1)\n",
    "    pag.move(-200, 0, duration=0.1)\n",
    "    pag.move(0, -200, duration=0.1)"
   ]
  },
  {
   "cell_type": "code",
   "execution_count": 9,
   "metadata": {},
   "outputs": [
    {
     "data": {
      "text/plain": [
       "(651, 297, 651, 297, Point(x=651, y=297))"
      ]
     },
     "execution_count": 9,
     "metadata": {},
     "output_type": "execute_result"
    }
   ],
   "source": [
    "# position() 함수를 통해 마우스 현재 위치 파악 → 네임드 튜플 반환\n",
    "p = pag.position()\n",
    "p[0], p[1], p.x, p.y, p"
   ]
  },
  {
   "cell_type": "code",
   "execution_count": 17,
   "metadata": {},
   "outputs": [],
   "source": [
    "# click(x, y, button='') 함수를 통해 마우스 클릭 가능\n",
    "# doubleClick() 함수 사용 가능\n",
    "# click은 mouseUp()과 mouseDown()의 결합\n",
    "p = pag.position()\n",
    "pag.click(p, button='left', duration=0.2)"
   ]
  },
  {
   "cell_type": "code",
   "execution_count": 18,
   "metadata": {},
   "outputs": [
    {
     "data": {
      "text/plain": [
       "0"
      ]
     },
     "execution_count": 18,
     "metadata": {},
     "output_type": "execute_result"
    }
   ],
   "source": [
    "# dragTo(x, y, duration='') 함수를 통해 마우스 드래그 → 절대 위치\n",
    "# drag(x, y, duration='') 함수를 통해 마우스 움직이기 → 현재 위치 대비 상대 위치\n",
    "paintProc = subprocess.Popen(Path('C:/') / 'Windows' / 'System32' / 'mspaint.exe')\n",
    "time.sleep(2)\n",
    "distance = 300\n",
    "change = 20\n",
    "while distance > 0:\n",
    "    pag.drag(distance, 0, duration=0.1)\n",
    "    distance -= change\n",
    "    pag.drag(0, distance, duration=0.1)\n",
    "    pag.drag(-distance, 0, duration=0.1)\n",
    "    distance -= change\n",
    "    pag.drag(0, -distance, duration=0.1)\n",
    "paintProc.wait()"
   ]
  },
  {
   "cell_type": "code",
   "execution_count": 22,
   "metadata": {},
   "outputs": [],
   "source": [
    "# scroll() 함수를 통해 마우스 상하 스크롤 → 양수는 위로, 음수는 아래로\n",
    "# 안되는 경우가 있는데 어떻게 해결..?"
   ]
  },
  {
   "cell_type": "code",
   "execution_count": 23,
   "metadata": {},
   "outputs": [],
   "source": [
    "# mouseInfo() 함수를 이용하여 마우스 인포 창 호출 가능\n",
    "pag.mouseInfo()"
   ]
  },
  {
   "cell_type": "code",
   "execution_count": 24,
   "metadata": {},
   "outputs": [],
   "source": [
    "# click 메서드 안에 튜플을 넣으면 moveTo를 같이 이용하는 형태인듯\n",
    "pag.click((1209, 198), duration=0.2)"
   ]
  },
  {
   "cell_type": "code",
   "execution_count": 26,
   "metadata": {},
   "outputs": [
    {
     "data": {
      "text/plain": [
       "((31, 31, 31), False)"
      ]
     },
     "execution_count": 26,
     "metadata": {},
     "output_type": "execute_result"
    }
   ],
   "source": [
    "# screenshot() 함수를 통해 스크린샷 가능\n",
    "# pixel() 함수를 통해 RGB 파악 가능 → 인자 두개(x, y)를 넣어야\n",
    "# pixelMatchesColor() 함수를 통해 일치 여부 확인 → 인자 세개(x, y, (R, G, B))\n",
    "p = pag.position()\n",
    "pag.pixel(p[0], p[1]), pag.pixelMatchesColor(p[0], p[1], (30, 30, 30))"
   ]
  },
  {
   "cell_type": "code",
   "execution_count": 28,
   "metadata": {},
   "outputs": [
    {
     "data": {
      "text/plain": [
       "True"
      ]
     },
     "execution_count": 28,
     "metadata": {},
     "output_type": "execute_result"
    }
   ],
   "source": [
    "# 이미지 인식: locateOnScreen() 함수를 통해 이미지를 찾아낸 좌표를 반환\n",
    "# locateAllOnScreen() 함수를 통해 튜플들이 들어 있는 리스트도 반환 가능\n",
    "# 단, locateOnScreen()은 Path 객체 활용 불가능\n",
    "# 왼쪽 모서리 x좌표, 위쪽 모서리 y좌표, 너비, 높이 반환\n",
    "p1 = Path.cwd() / 'attachments' / 'submit2.png'\n",
    "locate = pag.locateOnScreen(str(p1))\n",
    "locate == None\n",
    "# click() 함수에 이미지 파일 직접 전달도 가능 + moveTo(), dragTo()도 가능\n",
    "# 단, 이미지와 일치하는게 없으면 오류 발생 → 예외처리 필요"
   ]
  },
  {
   "cell_type": "code",
   "execution_count": 33,
   "metadata": {},
   "outputs": [
    {
     "data": {
      "text/plain": [
       "(Win32Window(hWnd=67858),\n",
       " '● Ch20_pyautogui_1.ipynb - exercise_book - Visual Studio Code',\n",
       " [Win32Window(hWnd=65692),\n",
       "  Win32Window(hWnd=134040),\n",
       "  Win32Window(hWnd=67858),\n",
       "  Win32Window(hWnd=131216),\n",
       "  Win32Window(hWnd=1444036),\n",
       "  Win32Window(hWnd=16255188),\n",
       "  Win32Window(hWnd=131110),\n",
       "  Win32Window(hWnd=131732),\n",
       "  Win32Window(hWnd=197322),\n",
       "  Win32Window(hWnd=66714),\n",
       "  Win32Window(hWnd=65914),\n",
       "  Win32Window(hWnd=65922),\n",
       "  Win32Window(hWnd=65886),\n",
       "  Win32Window(hWnd=65884),\n",
       "  Win32Window(hWnd=134016),\n",
       "  Win32Window(hWnd=132832),\n",
       "  Win32Window(hWnd=196728)],\n",
       " ['',\n",
       "  'BBC-MOTD2-2023.11.12.mp4 - 곰플레이어',\n",
       "  '● Ch20_pyautogui_1.ipynb - exercise_book - Visual Studio Code',\n",
       "  'automation_practice-sweigart1/Python_automate_2_chapter20.ipynb at master · minstrel1149/automation_practice-sweigart1 - Chrome',\n",
       "  '',\n",
       "  'TMLI_2_3_속도',\n",
       "  '미디어 플레이어',\n",
       "  '미디어 플레이어',\n",
       "  '',\n",
       "  'Microsoft Text Input Application',\n",
       "  '',\n",
       "  '',\n",
       "  '',\n",
       "  '',\n",
       "  '',\n",
       "  '검색 창',\n",
       "  'Program Manager'])"
      ]
     },
     "execution_count": 33,
     "metadata": {},
     "output_type": "execute_result"
    }
   ],
   "source": [
    "# 활성화된 Window 객체 생성 가능 → getActiveWindow() 함수\n",
    "# 모든 Window 객체를 리스트로 생성 가능 → getAllWindows() 함수\n",
    "window = pag.getActiveWindow()\n",
    "window, pag.getActiveWindowTitle(), pag.getAllWindows(), pag.getAllTitles()"
   ]
  },
  {
   "cell_type": "code",
   "execution_count": 35,
   "metadata": {},
   "outputs": [
    {
     "data": {
      "text/plain": [
       "(-8,\n",
       " -8,\n",
       " 1048,\n",
       " Size(width=1936, height=1056),\n",
       " 2044416,\n",
       " Point(x=960, y=520),\n",
       " Box(left=-8, top=-8, width=1936, height=1056),\n",
       " '● Ch20_pyautogui_1.ipynb - exercise_book - Visual Studio Code')"
      ]
     },
     "execution_count": 35,
     "metadata": {},
     "output_type": "execute_result"
    }
   ],
   "source": [
    "# Window 객체에 대한 여러가지 속성 출력 가능\n",
    "window.top, window.left, window.bottom, window.size, window.area, window.center, window.box, window.title"
   ]
  },
  {
   "cell_type": "code",
   "execution_count": 36,
   "metadata": {},
   "outputs": [
    {
     "name": "stdout",
     "output_type": "stream",
     "text": [
      "\n",
      "BBC-MOTD2-2023.11.12.mp4 - 곰플레이어\n",
      "● Ch20_pyautogui_1.ipynb - exercise_book - Visual Studio Code\n",
      "automation_practice-sweigart1/Python_automate_2_chapter20.ipynb at master · minstrel1149/automation_practice-sweigart1 - Chrome\n",
      "계산기\n",
      "계산기\n",
      "TMLI_2_3_속도\n",
      "미디어 플레이어\n",
      "미디어 플레이어\n",
      "\n",
      "Microsoft Text Input Application\n",
      "\n",
      "\n",
      "\n",
      "\n",
      "\n",
      "검색 창\n",
      "Program Manager\n"
     ]
    }
   ],
   "source": [
    "windows = pag.getAllWindows()\n",
    "for window in windows:\n",
    "    print(window.title)"
   ]
  },
  {
   "cell_type": "code",
   "execution_count": 38,
   "metadata": {},
   "outputs": [
    {
     "data": {
      "text/plain": [
       "'automation_practice-sweigart1/Python_automate_2_chapter20.ipynb at master · minstrel1149/automation_practice-sweigart1 - Chrome'"
      ]
     },
     "execution_count": 38,
     "metadata": {},
     "output_type": "execute_result"
    }
   ],
   "source": [
    "# getWindowsWithTitle() 함수를 통해 title 문자열 일부를 지정하여 해당 Window 객체들을 리스트로 생성\n",
    "# getAllTitles() 함수로 getAllWindows()에 해당하는 title 확인 가능 → zip() 함수를 통해 연계\n",
    "pag.getWindowsWithTitle('Python')[0].title"
   ]
  },
  {
   "cell_type": "code",
   "execution_count": 39,
   "metadata": {},
   "outputs": [
    {
     "data": {
      "text/plain": [
       "(Win32Window(hWnd=67858),\n",
       " '● Ch20_pyautogui_1.ipynb - exercise_book - Visual Studio Code')"
      ]
     },
     "execution_count": 39,
     "metadata": {},
     "output_type": "execute_result"
    }
   ],
   "source": [
    "fw = pag.getActiveWindow()\n",
    "fw, pag.getActiveWindowTitle()"
   ]
  },
  {
   "cell_type": "code",
   "execution_count": 41,
   "metadata": {},
   "outputs": [
    {
     "data": {
      "text/plain": [
       "(True, False, True)"
      ]
     },
     "execution_count": 41,
     "metadata": {},
     "output_type": "execute_result"
    }
   ],
   "source": [
    "# Window 객체의 최대화, 최소화, 활성화 여부 속성 확인 가능\n",
    "fw.isMaximized, fw.isMinimized, fw.isActive"
   ]
  },
  {
   "cell_type": "code",
   "execution_count": 43,
   "metadata": {},
   "outputs": [],
   "source": [
    "paintProc = subprocess.Popen(Path('C:/') / 'Windows' / 'System32' / 'mspaint.exe')\n",
    "time.sleep(3)\n",
    "fw = pag.getWindowsWithTitle('그림판')[0]\n",
    "# width, topleft 메서드를 통해 너비, 위치 등 확인 가능\n",
    "fw.width, fw.topleft\n",
    "# topleft 메서드를 수정하면서 위치 이동 가능\n",
    "fw.topleft = (200, 200)\n",
    "fw.isActive\n",
    "fw.activate()\n",
    "time.sleep(3)\n",
    "# minimize() 메서드를 통해 최소화 가능 + maximize(), restore()(최대/최소화 동작을 실행 취소), close() 등 활용 가능\n",
    "fw.close()"
   ]
  },
  {
   "cell_type": "code",
   "execution_count": 45,
   "metadata": {},
   "outputs": [],
   "source": [
    "textProc = subprocess.Popen(Path('C:/') / 'Windows' / 'notepad.exe')\n",
    "time.sleep(2)\n",
    "fw = pag.getWindowsWithTitle('메모장')[0]\n",
    "fw.activate()\n",
    "pag.write('Hello world!', 0.1)\n",
    "time.sleep(0.5)\n",
    "pag.write(['enter'])\n",
    "time.sleep(0.5)\n",
    "# press() 함수를 통해 키보드 누르기 가능 → keyDown()과 keyUp() 함수의 결합\n",
    "# hotkey() 함수로 단축키 형태로 사용 가능 → pyperclip과도 연계 가능\n",
    "pag.hotkey('ctrl', 'a')\n",
    "time.sleep(1)\n",
    "pag.hotkey('ctrl', 'c')\n",
    "time.sleep(1)\n",
    "fw.close()\n",
    "time.sleep(1)\n",
    "# 메모장을 저장하지 않고 종료하기 위해 옆으로 이동 후 엔터 -> 리스트 안에 단어를 넣는 형식으로 가능\n",
    "# 'enter', 'esc', 'shift', 'ctrl', 'tab', 'backspace', 'delete', 'pageup', 'home', 'end', 'left', 'capslock', 'volumedown', 'insert', 'printscreen' 등\n",
    "pag.write(['right', 'enter'])"
   ]
  },
  {
   "cell_type": "code",
   "execution_count": 47,
   "metadata": {},
   "outputs": [
    {
     "data": {
      "text/plain": [
       "'Hello world!\\r\\n'"
      ]
     },
     "execution_count": 47,
     "metadata": {},
     "output_type": "execute_result"
    }
   ],
   "source": [
    "pyperclip.paste()"
   ]
  },
  {
   "cell_type": "code",
   "execution_count": 48,
   "metadata": {},
   "outputs": [
    {
     "data": {
      "text/plain": [
       "'Hello, world'"
      ]
     },
     "execution_count": 48,
     "metadata": {},
     "output_type": "execute_result"
    }
   ],
   "source": [
    "# pyperclip.copy 함수를 통해 클립보드에 복사 가능\n",
    "pyperclip.copy('Hello, world')\n",
    "# pyperclip.paste 함수를 통해 클립보드에 복사된 내용을 붙여넣기 → 변수에 할당도 가능\n",
    "pyperclip.paste()"
   ]
  },
  {
   "cell_type": "code",
   "execution_count": null,
   "metadata": {},
   "outputs": [],
   "source": []
  }
 ],
 "metadata": {
  "kernelspec": {
   "display_name": "base",
   "language": "python",
   "name": "python3"
  },
  "language_info": {
   "codemirror_mode": {
    "name": "ipython",
    "version": 3
   },
   "file_extension": ".py",
   "mimetype": "text/x-python",
   "name": "python",
   "nbconvert_exporter": "python",
   "pygments_lexer": "ipython3",
   "version": "3.10.9"
  }
 },
 "nbformat": 4,
 "nbformat_minor": 2
}
