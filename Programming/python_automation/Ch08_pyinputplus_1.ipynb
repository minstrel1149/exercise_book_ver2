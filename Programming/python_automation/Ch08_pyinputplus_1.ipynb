{
 "cells": [
  {
   "cell_type": "code",
   "execution_count": 1,
   "metadata": {},
   "outputs": [],
   "source": [
    "import pyinputplus as pyip\n",
    "\n",
    "# inputStr()\n",
    "# inputNum()\n",
    "# inputChoice() - 제공한 선택사항 중 하나만 입력\n",
    "# inputMenu() - inputChoice()와 비슷하나, 각 메뉴에는 번호나 글자가 붙음(lettered, numbered 인자 활용)\n",
    "# inputYesNo()\n",
    "# inputBool() - inputYesNo()와 비슷하나, True or False를 받아 Bool 값을 반환\n",
    "# inputEmail()\n",
    "# inputFilepath()\n",
    "# 등등.."
   ]
  },
  {
   "cell_type": "code",
   "execution_count": 3,
   "metadata": {},
   "outputs": [
    {
     "name": "stdout",
     "output_type": "stream",
     "text": [
      "Enter num: "
     ]
    },
    {
     "data": {
      "text/plain": [
       "5"
      ]
     },
     "execution_count": 3,
     "metadata": {},
     "output_type": "execute_result"
    }
   ],
   "source": [
    "# prompt인자 -> 프롬프트 출력\n",
    "# min, max, greaterThan, lessThan 인자 -> 이상, 이하, 초과, 미만\n",
    "# blank 인자(True / False) -> 빈칸 허용\n",
    "# limit, timeout 인자 -> 입력의 최대한도 및 시간제한(초과할 경우 오류 발생)\n",
    "# default 인자 -> limit, timeout 오류에 대한 예외처리\n",
    "response = pyip.inputNum(prompt='Enter num: ', min=4, lessThan=7, blank=True, limit=2, timeout=5, default='#N/A')\n",
    "response"
   ]
  },
  {
   "cell_type": "code",
   "execution_count": 6,
   "metadata": {},
   "outputs": [
    {
     "data": {
      "text/plain": [
       "'2a'"
      ]
     },
     "execution_count": 6,
     "metadata": {},
     "output_type": "execute_result"
    }
   ],
   "source": [
    "# allowRegexes, blockRegexes 인자(대괄호로 지정) -> 정규표현식을 사용하여 입력값의 허용여부 특정\n",
    "# 허용하는 리스트가 차단하는 리스트보다 우선순위가 높음\n",
    "response = pyip.inputNum(allowRegexes=[r'[12345]$', r'^[12345]'], blockRegexes=[r'[02468]$'])\n",
    "response"
   ]
  },
  {
   "cell_type": "code",
   "execution_count": 9,
   "metadata": {},
   "outputs": [
    {
     "data": {
      "text/plain": [
       "1234"
      ]
     },
     "execution_count": 9,
     "metadata": {},
     "output_type": "execute_result"
    }
   ],
   "source": [
    "# inputCustom() 활용하여 사용자 정의 검증 함수 전달 가능\n",
    "# inputCustom() 함수도 pyinputplus의 일반적인 기능 모두 지원\n",
    "def addsUpToTen(numbers):\n",
    "    numbersList = [int(x) for x in str(numbers)]\n",
    "    if sum(numbersList) != 10:\n",
    "        raise Exception('The digits must add up to 10.')\n",
    "    return int(numbers)\n",
    "response = pyip.inputCustom(addsUpToTen)\n",
    "response"
   ]
  },
  {
   "cell_type": "code",
   "execution_count": 10,
   "metadata": {},
   "outputs": [
    {
     "name": "stdout",
     "output_type": "stream",
     "text": [
      "Please select one of the following:\n",
      "1. a\n",
      "2. b\n",
      "3. c\n",
      "4. d\n",
      "5. e\n"
     ]
    },
    {
     "data": {
      "text/plain": [
       "'d'"
      ]
     },
     "execution_count": 10,
     "metadata": {},
     "output_type": "execute_result"
    }
   ],
   "source": [
    "# inputMenu()의 경우 입력은 값을 지정해도 되고, 메뉴(numbered 혹은 lettered)를 지정하는 것도 가능\n",
    "response = pyip.inputMenu('abcde', numbered=(1, 2, 3, 4, 5))\n",
    "response"
   ]
  },
  {
   "cell_type": "code",
   "execution_count": null,
   "metadata": {},
   "outputs": [],
   "source": []
  }
 ],
 "metadata": {
  "kernelspec": {
   "display_name": "base",
   "language": "python",
   "name": "python3"
  },
  "language_info": {
   "codemirror_mode": {
    "name": "ipython",
    "version": 3
   },
   "file_extension": ".py",
   "mimetype": "text/x-python",
   "name": "python",
   "nbconvert_exporter": "python",
   "pygments_lexer": "ipython3",
   "version": "3.10.9"
  }
 },
 "nbformat": 4,
 "nbformat_minor": 2
}
