{
 "cells": [
  {
   "cell_type": "code",
   "execution_count": 6,
   "metadata": {},
   "outputs": [],
   "source": [
    "import pandas as pd\n",
    "import numpy as np\n",
    "from pathlib import Path\n",
    "import zipfile\n",
    "import matplotlib.pyplot as plt\n",
    "import seaborn as sns\n",
    "import glob\n",
    "import time\n",
    "import datetime as dt\n",
    "from datetime import date, datetime, timedelta"
   ]
  },
  {
   "cell_type": "code",
   "execution_count": 2,
   "metadata": {},
   "outputs": [],
   "source": [
    "p1 = Path.cwd() / 'data'"
   ]
  },
  {
   "cell_type": "code",
   "execution_count": 3,
   "metadata": {},
   "outputs": [
    {
     "data": {
      "text/plain": [
       "0   1970-01-11\n",
       "1   1970-04-11\n",
       "2   1972-09-27\n",
       "3   1997-05-19\n",
       "dtype: datetime64[ns]"
      ]
     },
     "execution_count": 3,
     "metadata": {},
     "output_type": "execute_result"
    }
   ],
   "source": [
    "pd.to_datetime(pd.Series([10, 100, 1000, 10000]), unit='D')"
   ]
  },
  {
   "cell_type": "code",
   "execution_count": 7,
   "metadata": {},
   "outputs": [],
   "source": [
    "date = date(year=2013, month=6, day=7)\n",
    "time = dt.time(hour=12, minute=30, second=19, microsecond=463198)"
   ]
  },
  {
   "cell_type": "code",
   "execution_count": 8,
   "metadata": {},
   "outputs": [
    {
     "data": {
      "text/plain": [
       "datetime.timedelta(days=19, seconds=37207)"
      ]
     },
     "execution_count": 8,
     "metadata": {},
     "output_type": "execute_result"
    }
   ],
   "source": [
    "td = timedelta(weeks=2, days=5, hours=10, minutes=20, seconds=7)\n",
    "td"
   ]
  },
  {
   "cell_type": "code",
   "execution_count": 9,
   "metadata": {},
   "outputs": [
    {
     "data": {
      "text/plain": [
       "datetime.date(2013, 6, 26)"
      ]
     },
     "execution_count": 9,
     "metadata": {},
     "output_type": "execute_result"
    }
   ],
   "source": [
    "date + td"
   ]
  },
  {
   "cell_type": "code",
   "execution_count": 10,
   "metadata": {},
   "outputs": [
    {
     "data": {
      "text/plain": [
       "Timestamp('2016-01-10 00:00:00')"
      ]
     },
     "execution_count": 10,
     "metadata": {},
     "output_type": "execute_result"
    }
   ],
   "source": [
    "pd.Timestamp('2016-01-10')"
   ]
  },
  {
   "cell_type": "code",
   "execution_count": 11,
   "metadata": {},
   "outputs": [
    {
     "data": {
      "text/plain": [
       "Timestamp('2015-05-13 00:00:00')"
      ]
     },
     "execution_count": 11,
     "metadata": {},
     "output_type": "execute_result"
    }
   ],
   "source": [
    "pd.to_datetime('2015-05-13')"
   ]
  },
  {
   "cell_type": "code",
   "execution_count": 12,
   "metadata": {},
   "outputs": [
    {
     "data": {
      "text/plain": [
       "Timestamp('2013-04-11 00:00:00')"
      ]
     },
     "execution_count": 12,
     "metadata": {},
     "output_type": "execute_result"
    }
   ],
   "source": [
    "pd.to_datetime(100, unit='D', origin='2013-01-01')"
   ]
  },
  {
   "cell_type": "code",
   "execution_count": 13,
   "metadata": {},
   "outputs": [
    {
     "data": {
      "text/plain": [
       "0   1970-01-11\n",
       "1   1970-04-11\n",
       "2   1972-09-27\n",
       "3   1997-05-19\n",
       "dtype: datetime64[ns]"
      ]
     },
     "execution_count": 13,
     "metadata": {},
     "output_type": "execute_result"
    }
   ],
   "source": [
    "pd.to_datetime(pd.Series([10, 100, 1000, 10000]), unit='D')"
   ]
  },
  {
   "cell_type": "code",
   "execution_count": 20,
   "metadata": {},
   "outputs": [
    {
     "data": {
      "text/plain": [
       "0   2015-05-12\n",
       "1   2013-01-14\n",
       "2   2017-12-20\n",
       "3          NaT\n",
       "dtype: datetime64[ns]"
      ]
     },
     "execution_count": 20,
     "metadata": {},
     "output_type": "execute_result"
    }
   ],
   "source": [
    "pd.to_datetime(pd.Series(['12-5-2015', '14-1-2013', '20-12-2017', '40-23-2017']), dayfirst=True, errors='coerce')"
   ]
  },
  {
   "cell_type": "code",
   "execution_count": 21,
   "metadata": {},
   "outputs": [
    {
     "data": {
      "text/plain": [
       "<DateOffset: days=3, hours=12, minutes=6, months=5, years=6>"
      ]
     },
     "execution_count": 21,
     "metadata": {},
     "output_type": "execute_result"
    }
   ],
   "source": [
    "pd.DateOffset(years=6, months=5, days=3, hours=12, minutes=6)"
   ]
  },
  {
   "cell_type": "code",
   "execution_count": 23,
   "metadata": {},
   "outputs": [
    {
     "data": {
      "text/plain": [
       "(Timestamp('2016-10-01 05:00:00'),\n",
       " Timestamp('2016-10-01 12:00:00'),\n",
       " Timestamp('2016-10-01 00:00:00'),\n",
       " Timestamp('2016-10-01 04:23:00'))"
      ]
     },
     "execution_count": 23,
     "metadata": {},
     "output_type": "execute_result"
    }
   ],
   "source": [
    "ts = pd.to_datetime('2016-10-1 04:23:23')\n",
    "ts.ceil('h'), ts.ceil('12h'), ts.floor('12h'), ts.floor('min')"
   ]
  },
  {
   "cell_type": "code",
   "execution_count": 24,
   "metadata": {},
   "outputs": [
    {
     "data": {
      "text/plain": [
       "(2016, 10, 1, 4, 23, 23)"
      ]
     },
     "execution_count": 24,
     "metadata": {},
     "output_type": "execute_result"
    }
   ],
   "source": [
    "ts.year, ts.month, ts.day, ts.hour, ts.minute, ts.second"
   ]
  },
  {
   "cell_type": "code",
   "execution_count": 25,
   "metadata": {},
   "outputs": [
    {
     "data": {
      "text/plain": [
       "(5, 275, 31)"
      ]
     },
     "execution_count": 25,
     "metadata": {},
     "output_type": "execute_result"
    }
   ],
   "source": [
    "ts.dayofweek, ts.dayofyear, ts.daysinmonth"
   ]
  },
  {
   "cell_type": "code",
   "execution_count": 26,
   "metadata": {},
   "outputs": [
    {
     "data": {
      "text/plain": [
       "datetime.datetime(2016, 10, 1, 4, 23, 23)"
      ]
     },
     "execution_count": 26,
     "metadata": {},
     "output_type": "execute_result"
    }
   ],
   "source": [
    "ts.to_pydatetime()"
   ]
  },
  {
   "cell_type": "code",
   "execution_count": 27,
   "metadata": {},
   "outputs": [
    {
     "data": {
      "text/plain": [
       "1678807.0"
      ]
     },
     "execution_count": 27,
     "metadata": {},
     "output_type": "execute_result"
    }
   ],
   "source": [
    "td.total_seconds()"
   ]
  },
  {
   "cell_type": "code",
   "execution_count": 29,
   "metadata": {},
   "outputs": [
    {
     "data": {
      "text/html": [
       "<div>\n",
       "<style scoped>\n",
       "    .dataframe tbody tr th:only-of-type {\n",
       "        vertical-align: middle;\n",
       "    }\n",
       "\n",
       "    .dataframe tbody tr th {\n",
       "        vertical-align: top;\n",
       "    }\n",
       "\n",
       "    .dataframe thead th {\n",
       "        text-align: right;\n",
       "    }\n",
       "</style>\n",
       "<table border=\"1\" class=\"dataframe\">\n",
       "  <thead>\n",
       "    <tr style=\"text-align: right;\">\n",
       "      <th></th>\n",
       "      <th>OFFENSE_TYPE_ID</th>\n",
       "      <th>OFFENSE_CATEGORY_ID</th>\n",
       "      <th>GEO_LON</th>\n",
       "      <th>GEO_LAT</th>\n",
       "      <th>NEIGHBORHOOD_ID</th>\n",
       "      <th>IS_CRIME</th>\n",
       "      <th>IS_TRAFFIC</th>\n",
       "    </tr>\n",
       "    <tr>\n",
       "      <th>REPORTED_DATE</th>\n",
       "      <th></th>\n",
       "      <th></th>\n",
       "      <th></th>\n",
       "      <th></th>\n",
       "      <th></th>\n",
       "      <th></th>\n",
       "      <th></th>\n",
       "    </tr>\n",
       "  </thead>\n",
       "  <tbody>\n",
       "    <tr>\n",
       "      <th>2014-06-29 02:01:00</th>\n",
       "      <td>traffic-accident-dui-duid</td>\n",
       "      <td>traffic-accident</td>\n",
       "      <td>-105.000149</td>\n",
       "      <td>39.745753</td>\n",
       "      <td>cbd</td>\n",
       "      <td>0</td>\n",
       "      <td>1</td>\n",
       "    </tr>\n",
       "    <tr>\n",
       "      <th>2014-06-29 01:54:00</th>\n",
       "      <td>vehicular-eluding-no-chase</td>\n",
       "      <td>all-other-crimes</td>\n",
       "      <td>-104.884660</td>\n",
       "      <td>39.738702</td>\n",
       "      <td>east-colfax</td>\n",
       "      <td>1</td>\n",
       "      <td>0</td>\n",
       "    </tr>\n",
       "    <tr>\n",
       "      <th>2014-06-29 02:00:00</th>\n",
       "      <td>disturbing-the-peace</td>\n",
       "      <td>public-disorder</td>\n",
       "      <td>-105.020719</td>\n",
       "      <td>39.706674</td>\n",
       "      <td>athmar-park</td>\n",
       "      <td>1</td>\n",
       "      <td>0</td>\n",
       "    </tr>\n",
       "    <tr>\n",
       "      <th>2014-06-29 02:18:00</th>\n",
       "      <td>curfew</td>\n",
       "      <td>public-disorder</td>\n",
       "      <td>-105.001552</td>\n",
       "      <td>39.769505</td>\n",
       "      <td>sunnyside</td>\n",
       "      <td>1</td>\n",
       "      <td>0</td>\n",
       "    </tr>\n",
       "    <tr>\n",
       "      <th>2014-06-29 04:17:00</th>\n",
       "      <td>aggravated-assault</td>\n",
       "      <td>aggravated-assault</td>\n",
       "      <td>-105.018557</td>\n",
       "      <td>39.679229</td>\n",
       "      <td>college-view-south-platte</td>\n",
       "      <td>1</td>\n",
       "      <td>0</td>\n",
       "    </tr>\n",
       "  </tbody>\n",
       "</table>\n",
       "</div>"
      ],
      "text/plain": [
       "                                OFFENSE_TYPE_ID OFFENSE_CATEGORY_ID  \\\n",
       "REPORTED_DATE                                                         \n",
       "2014-06-29 02:01:00   traffic-accident-dui-duid    traffic-accident   \n",
       "2014-06-29 01:54:00  vehicular-eluding-no-chase    all-other-crimes   \n",
       "2014-06-29 02:00:00        disturbing-the-peace     public-disorder   \n",
       "2014-06-29 02:18:00                      curfew     public-disorder   \n",
       "2014-06-29 04:17:00          aggravated-assault  aggravated-assault   \n",
       "\n",
       "                        GEO_LON    GEO_LAT            NEIGHBORHOOD_ID  \\\n",
       "REPORTED_DATE                                                           \n",
       "2014-06-29 02:01:00 -105.000149  39.745753                        cbd   \n",
       "2014-06-29 01:54:00 -104.884660  39.738702                east-colfax   \n",
       "2014-06-29 02:00:00 -105.020719  39.706674                athmar-park   \n",
       "2014-06-29 02:18:00 -105.001552  39.769505                  sunnyside   \n",
       "2014-06-29 04:17:00 -105.018557  39.679229  college-view-south-platte   \n",
       "\n",
       "                     IS_CRIME  IS_TRAFFIC  \n",
       "REPORTED_DATE                              \n",
       "2014-06-29 02:01:00         0           1  \n",
       "2014-06-29 01:54:00         1           0  \n",
       "2014-06-29 02:00:00         1           0  \n",
       "2014-06-29 02:18:00         1           0  \n",
       "2014-06-29 04:17:00         1           0  "
      ]
     },
     "execution_count": 29,
     "metadata": {},
     "output_type": "execute_result"
    }
   ],
   "source": [
    "crime = pd.read_hdf(p1 / 'crime.h5', 'crime')\n",
    "crime = crime.set_index('REPORTED_DATE')\n",
    "crime.head()"
   ]
  },
  {
   "cell_type": "code",
   "execution_count": 31,
   "metadata": {},
   "outputs": [
    {
     "data": {
      "text/plain": [
       "(243, 7)"
      ]
     },
     "execution_count": 31,
     "metadata": {},
     "output_type": "execute_result"
    }
   ],
   "source": [
    "crime.loc['2016-05-12'].shape"
   ]
  },
  {
   "cell_type": "code",
   "execution_count": 33,
   "metadata": {},
   "outputs": [
    {
     "data": {
      "text/html": [
       "<div>\n",
       "<style scoped>\n",
       "    .dataframe tbody tr th:only-of-type {\n",
       "        vertical-align: middle;\n",
       "    }\n",
       "\n",
       "    .dataframe tbody tr th {\n",
       "        vertical-align: top;\n",
       "    }\n",
       "\n",
       "    .dataframe thead th {\n",
       "        text-align: right;\n",
       "    }\n",
       "</style>\n",
       "<table border=\"1\" class=\"dataframe\">\n",
       "  <thead>\n",
       "    <tr style=\"text-align: right;\">\n",
       "      <th></th>\n",
       "      <th>OFFENSE_TYPE_ID</th>\n",
       "      <th>OFFENSE_CATEGORY_ID</th>\n",
       "      <th>GEO_LON</th>\n",
       "      <th>GEO_LAT</th>\n",
       "      <th>NEIGHBORHOOD_ID</th>\n",
       "      <th>IS_CRIME</th>\n",
       "      <th>IS_TRAFFIC</th>\n",
       "    </tr>\n",
       "    <tr>\n",
       "      <th>REPORTED_DATE</th>\n",
       "      <th></th>\n",
       "      <th></th>\n",
       "      <th></th>\n",
       "      <th></th>\n",
       "      <th></th>\n",
       "      <th></th>\n",
       "      <th></th>\n",
       "    </tr>\n",
       "  </thead>\n",
       "  <tbody>\n",
       "    <tr>\n",
       "      <th>2015-03-04 00:11:00</th>\n",
       "      <td>assault-dv</td>\n",
       "      <td>other-crimes-against-persons</td>\n",
       "      <td>-105.021966</td>\n",
       "      <td>39.770883</td>\n",
       "      <td>sunnyside</td>\n",
       "      <td>1</td>\n",
       "      <td>0</td>\n",
       "    </tr>\n",
       "    <tr>\n",
       "      <th>2015-03-04 00:19:00</th>\n",
       "      <td>assault-dv</td>\n",
       "      <td>other-crimes-against-persons</td>\n",
       "      <td>-104.978988</td>\n",
       "      <td>39.748799</td>\n",
       "      <td>five-points</td>\n",
       "      <td>1</td>\n",
       "      <td>0</td>\n",
       "    </tr>\n",
       "    <tr>\n",
       "      <th>2015-03-04 00:27:00</th>\n",
       "      <td>theft-of-services</td>\n",
       "      <td>larceny</td>\n",
       "      <td>-105.055082</td>\n",
       "      <td>39.790564</td>\n",
       "      <td>regis</td>\n",
       "      <td>1</td>\n",
       "      <td>0</td>\n",
       "    </tr>\n",
       "    <tr>\n",
       "      <th>2015-03-04 00:49:00</th>\n",
       "      <td>traffic-accident-hit-and-run</td>\n",
       "      <td>traffic-accident</td>\n",
       "      <td>-104.987454</td>\n",
       "      <td>39.701378</td>\n",
       "      <td>washington-park-west</td>\n",
       "      <td>0</td>\n",
       "      <td>1</td>\n",
       "    </tr>\n",
       "    <tr>\n",
       "      <th>2015-03-04 01:07:00</th>\n",
       "      <td>burglary-business-no-force</td>\n",
       "      <td>burglary</td>\n",
       "      <td>-105.010843</td>\n",
       "      <td>39.762538</td>\n",
       "      <td>highland</td>\n",
       "      <td>1</td>\n",
       "      <td>0</td>\n",
       "    </tr>\n",
       "    <tr>\n",
       "      <th>...</th>\n",
       "      <td>...</td>\n",
       "      <td>...</td>\n",
       "      <td>...</td>\n",
       "      <td>...</td>\n",
       "      <td>...</td>\n",
       "      <td>...</td>\n",
       "      <td>...</td>\n",
       "    </tr>\n",
       "    <tr>\n",
       "      <th>2015-12-31 23:35:00</th>\n",
       "      <td>drug-cocaine-possess</td>\n",
       "      <td>drug-alcohol</td>\n",
       "      <td>-104.988019</td>\n",
       "      <td>39.753420</td>\n",
       "      <td>five-points</td>\n",
       "      <td>1</td>\n",
       "      <td>0</td>\n",
       "    </tr>\n",
       "    <tr>\n",
       "      <th>2015-12-31 23:40:00</th>\n",
       "      <td>traffic-accident</td>\n",
       "      <td>traffic-accident</td>\n",
       "      <td>-104.945076</td>\n",
       "      <td>39.736768</td>\n",
       "      <td>congress-park</td>\n",
       "      <td>0</td>\n",
       "      <td>1</td>\n",
       "    </tr>\n",
       "    <tr>\n",
       "      <th>2015-12-31 23:44:00</th>\n",
       "      <td>drug-cocaine-possess</td>\n",
       "      <td>drug-alcohol</td>\n",
       "      <td>-104.966814</td>\n",
       "      <td>39.746460</td>\n",
       "      <td>city-park-west</td>\n",
       "      <td>1</td>\n",
       "      <td>0</td>\n",
       "    </tr>\n",
       "    <tr>\n",
       "      <th>2015-12-31 23:45:00</th>\n",
       "      <td>violation-of-restraining-order</td>\n",
       "      <td>all-other-crimes</td>\n",
       "      <td>-105.034887</td>\n",
       "      <td>39.741827</td>\n",
       "      <td>west-colfax</td>\n",
       "      <td>1</td>\n",
       "      <td>0</td>\n",
       "    </tr>\n",
       "    <tr>\n",
       "      <th>2015-12-31 23:50:00</th>\n",
       "      <td>weapon-poss-illegal-dangerous</td>\n",
       "      <td>all-other-crimes</td>\n",
       "      <td>-105.032769</td>\n",
       "      <td>39.709188</td>\n",
       "      <td>westwood</td>\n",
       "      <td>1</td>\n",
       "      <td>0</td>\n",
       "    </tr>\n",
       "  </tbody>\n",
       "</table>\n",
       "<p>75213 rows × 7 columns</p>\n",
       "</div>"
      ],
      "text/plain": [
       "                                    OFFENSE_TYPE_ID  \\\n",
       "REPORTED_DATE                                         \n",
       "2015-03-04 00:11:00                      assault-dv   \n",
       "2015-03-04 00:19:00                      assault-dv   \n",
       "2015-03-04 00:27:00               theft-of-services   \n",
       "2015-03-04 00:49:00    traffic-accident-hit-and-run   \n",
       "2015-03-04 01:07:00      burglary-business-no-force   \n",
       "...                                             ...   \n",
       "2015-12-31 23:35:00            drug-cocaine-possess   \n",
       "2015-12-31 23:40:00                traffic-accident   \n",
       "2015-12-31 23:44:00            drug-cocaine-possess   \n",
       "2015-12-31 23:45:00  violation-of-restraining-order   \n",
       "2015-12-31 23:50:00   weapon-poss-illegal-dangerous   \n",
       "\n",
       "                              OFFENSE_CATEGORY_ID     GEO_LON    GEO_LAT  \\\n",
       "REPORTED_DATE                                                              \n",
       "2015-03-04 00:11:00  other-crimes-against-persons -105.021966  39.770883   \n",
       "2015-03-04 00:19:00  other-crimes-against-persons -104.978988  39.748799   \n",
       "2015-03-04 00:27:00                       larceny -105.055082  39.790564   \n",
       "2015-03-04 00:49:00              traffic-accident -104.987454  39.701378   \n",
       "2015-03-04 01:07:00                      burglary -105.010843  39.762538   \n",
       "...                                           ...         ...        ...   \n",
       "2015-12-31 23:35:00                  drug-alcohol -104.988019  39.753420   \n",
       "2015-12-31 23:40:00              traffic-accident -104.945076  39.736768   \n",
       "2015-12-31 23:44:00                  drug-alcohol -104.966814  39.746460   \n",
       "2015-12-31 23:45:00              all-other-crimes -105.034887  39.741827   \n",
       "2015-12-31 23:50:00              all-other-crimes -105.032769  39.709188   \n",
       "\n",
       "                          NEIGHBORHOOD_ID  IS_CRIME  IS_TRAFFIC  \n",
       "REPORTED_DATE                                                    \n",
       "2015-03-04 00:11:00             sunnyside         1           0  \n",
       "2015-03-04 00:19:00           five-points         1           0  \n",
       "2015-03-04 00:27:00                 regis         1           0  \n",
       "2015-03-04 00:49:00  washington-park-west         0           1  \n",
       "2015-03-04 01:07:00              highland         1           0  \n",
       "...                                   ...       ...         ...  \n",
       "2015-12-31 23:35:00           five-points         1           0  \n",
       "2015-12-31 23:40:00         congress-park         0           1  \n",
       "2015-12-31 23:44:00        city-park-west         1           0  \n",
       "2015-12-31 23:45:00           west-colfax         1           0  \n",
       "2015-12-31 23:50:00              westwood         1           0  \n",
       "\n",
       "[75213 rows x 7 columns]"
      ]
     },
     "execution_count": 33,
     "metadata": {},
     "output_type": "execute_result"
    }
   ],
   "source": [
    "crime.sort_index().loc['2015-03-04':'2015-12-31']"
   ]
  },
  {
   "cell_type": "code",
   "execution_count": 35,
   "metadata": {},
   "outputs": [
    {
     "data": {
      "text/plain": [
       "(dtype('<M8[ns]'),\n",
       " DatetimeIndex(['2014-06-29 02:01:00', '2014-06-29 01:54:00'], dtype='datetime64[ns]', name='REPORTED_DATE', freq=None))"
      ]
     },
     "execution_count": 35,
     "metadata": {},
     "output_type": "execute_result"
    }
   ],
   "source": [
    "crime.index.dtype, crime.index[:2]"
   ]
  },
  {
   "cell_type": "code",
   "execution_count": 37,
   "metadata": {},
   "outputs": [
    {
     "data": {
      "text/html": [
       "<div>\n",
       "<style scoped>\n",
       "    .dataframe tbody tr th:only-of-type {\n",
       "        vertical-align: middle;\n",
       "    }\n",
       "\n",
       "    .dataframe tbody tr th {\n",
       "        vertical-align: top;\n",
       "    }\n",
       "\n",
       "    .dataframe thead th {\n",
       "        text-align: right;\n",
       "    }\n",
       "</style>\n",
       "<table border=\"1\" class=\"dataframe\">\n",
       "  <thead>\n",
       "    <tr style=\"text-align: right;\">\n",
       "      <th></th>\n",
       "      <th>OFFENSE_TYPE_ID</th>\n",
       "      <th>OFFENSE_CATEGORY_ID</th>\n",
       "      <th>REPORTED_DATE</th>\n",
       "      <th>GEO_LON</th>\n",
       "      <th>GEO_LAT</th>\n",
       "      <th>NEIGHBORHOOD_ID</th>\n",
       "      <th>IS_CRIME</th>\n",
       "      <th>IS_TRAFFIC</th>\n",
       "    </tr>\n",
       "  </thead>\n",
       "  <tbody>\n",
       "    <tr>\n",
       "      <th>0</th>\n",
       "      <td>traffic-accident-dui-duid</td>\n",
       "      <td>traffic-accident</td>\n",
       "      <td>2014-06-29 02:01:00</td>\n",
       "      <td>-105.000149</td>\n",
       "      <td>39.745753</td>\n",
       "      <td>cbd</td>\n",
       "      <td>0</td>\n",
       "      <td>1</td>\n",
       "    </tr>\n",
       "    <tr>\n",
       "      <th>1</th>\n",
       "      <td>vehicular-eluding-no-chase</td>\n",
       "      <td>all-other-crimes</td>\n",
       "      <td>2014-06-29 01:54:00</td>\n",
       "      <td>-104.884660</td>\n",
       "      <td>39.738702</td>\n",
       "      <td>east-colfax</td>\n",
       "      <td>1</td>\n",
       "      <td>0</td>\n",
       "    </tr>\n",
       "    <tr>\n",
       "      <th>2</th>\n",
       "      <td>disturbing-the-peace</td>\n",
       "      <td>public-disorder</td>\n",
       "      <td>2014-06-29 02:00:00</td>\n",
       "      <td>-105.020719</td>\n",
       "      <td>39.706674</td>\n",
       "      <td>athmar-park</td>\n",
       "      <td>1</td>\n",
       "      <td>0</td>\n",
       "    </tr>\n",
       "    <tr>\n",
       "      <th>3</th>\n",
       "      <td>curfew</td>\n",
       "      <td>public-disorder</td>\n",
       "      <td>2014-06-29 02:18:00</td>\n",
       "      <td>-105.001552</td>\n",
       "      <td>39.769505</td>\n",
       "      <td>sunnyside</td>\n",
       "      <td>1</td>\n",
       "      <td>0</td>\n",
       "    </tr>\n",
       "    <tr>\n",
       "      <th>4</th>\n",
       "      <td>aggravated-assault</td>\n",
       "      <td>aggravated-assault</td>\n",
       "      <td>2014-06-29 04:17:00</td>\n",
       "      <td>-105.018557</td>\n",
       "      <td>39.679229</td>\n",
       "      <td>college-view-south-platte</td>\n",
       "      <td>1</td>\n",
       "      <td>0</td>\n",
       "    </tr>\n",
       "  </tbody>\n",
       "</table>\n",
       "</div>"
      ],
      "text/plain": [
       "              OFFENSE_TYPE_ID OFFENSE_CATEGORY_ID       REPORTED_DATE  \\\n",
       "0   traffic-accident-dui-duid    traffic-accident 2014-06-29 02:01:00   \n",
       "1  vehicular-eluding-no-chase    all-other-crimes 2014-06-29 01:54:00   \n",
       "2        disturbing-the-peace     public-disorder 2014-06-29 02:00:00   \n",
       "3                      curfew     public-disorder 2014-06-29 02:18:00   \n",
       "4          aggravated-assault  aggravated-assault 2014-06-29 04:17:00   \n",
       "\n",
       "      GEO_LON    GEO_LAT            NEIGHBORHOOD_ID  IS_CRIME  IS_TRAFFIC  \n",
       "0 -105.000149  39.745753                        cbd         0           1  \n",
       "1 -104.884660  39.738702                east-colfax         1           0  \n",
       "2 -105.020719  39.706674                athmar-park         1           0  \n",
       "3 -105.001552  39.769505                  sunnyside         1           0  \n",
       "4 -105.018557  39.679229  college-view-south-platte         1           0  "
      ]
     },
     "execution_count": 37,
     "metadata": {},
     "output_type": "execute_result"
    }
   ],
   "source": [
    "crime = pd.read_hdf(p1 / 'crime.h5', 'crime')\n",
    "crime.head()"
   ]
  },
  {
   "cell_type": "code",
   "execution_count": 38,
   "metadata": {},
   "outputs": [
    {
     "data": {
      "text/html": [
       "<div>\n",
       "<style scoped>\n",
       "    .dataframe tbody tr th:only-of-type {\n",
       "        vertical-align: middle;\n",
       "    }\n",
       "\n",
       "    .dataframe tbody tr th {\n",
       "        vertical-align: top;\n",
       "    }\n",
       "\n",
       "    .dataframe thead th {\n",
       "        text-align: right;\n",
       "    }\n",
       "</style>\n",
       "<table border=\"1\" class=\"dataframe\">\n",
       "  <thead>\n",
       "    <tr style=\"text-align: right;\">\n",
       "      <th></th>\n",
       "      <th>OFFENSE_TYPE_ID</th>\n",
       "      <th>OFFENSE_CATEGORY_ID</th>\n",
       "      <th>REPORTED_DATE</th>\n",
       "      <th>GEO_LON</th>\n",
       "      <th>GEO_LAT</th>\n",
       "      <th>NEIGHBORHOOD_ID</th>\n",
       "      <th>IS_CRIME</th>\n",
       "      <th>IS_TRAFFIC</th>\n",
       "    </tr>\n",
       "  </thead>\n",
       "  <tbody>\n",
       "    <tr>\n",
       "      <th>300905</th>\n",
       "      <td>traffic-accident</td>\n",
       "      <td>traffic-accident</td>\n",
       "      <td>2016-05-12 16:45:00</td>\n",
       "      <td>-104.847024</td>\n",
       "      <td>39.779596</td>\n",
       "      <td>montbello</td>\n",
       "      <td>0</td>\n",
       "      <td>1</td>\n",
       "    </tr>\n",
       "    <tr>\n",
       "      <th>302354</th>\n",
       "      <td>traffic-accident</td>\n",
       "      <td>traffic-accident</td>\n",
       "      <td>2016-05-12 16:45:00</td>\n",
       "      <td>-105.049180</td>\n",
       "      <td>39.769296</td>\n",
       "      <td>west-highland</td>\n",
       "      <td>0</td>\n",
       "      <td>1</td>\n",
       "    </tr>\n",
       "    <tr>\n",
       "      <th>302373</th>\n",
       "      <td>fraud-identity-theft</td>\n",
       "      <td>white-collar-crime</td>\n",
       "      <td>2016-05-12 16:45:00</td>\n",
       "      <td>-104.931971</td>\n",
       "      <td>39.717359</td>\n",
       "      <td>hilltop</td>\n",
       "      <td>1</td>\n",
       "      <td>0</td>\n",
       "    </tr>\n",
       "  </tbody>\n",
       "</table>\n",
       "</div>"
      ],
      "text/plain": [
       "             OFFENSE_TYPE_ID OFFENSE_CATEGORY_ID       REPORTED_DATE  \\\n",
       "300905      traffic-accident    traffic-accident 2016-05-12 16:45:00   \n",
       "302354      traffic-accident    traffic-accident 2016-05-12 16:45:00   \n",
       "302373  fraud-identity-theft  white-collar-crime 2016-05-12 16:45:00   \n",
       "\n",
       "           GEO_LON    GEO_LAT NEIGHBORHOOD_ID  IS_CRIME  IS_TRAFFIC  \n",
       "300905 -104.847024  39.779596       montbello         0           1  \n",
       "302354 -105.049180  39.769296   west-highland         0           1  \n",
       "302373 -104.931971  39.717359         hilltop         1           0  "
      ]
     },
     "execution_count": 38,
     "metadata": {},
     "output_type": "execute_result"
    }
   ],
   "source": [
    "crime[crime['REPORTED_DATE'] == '2016-05-12 16:45:00']"
   ]
  },
  {
   "cell_type": "code",
   "execution_count": 40,
   "metadata": {},
   "outputs": [
    {
     "data": {
      "text/html": [
       "<div>\n",
       "<style scoped>\n",
       "    .dataframe tbody tr th:only-of-type {\n",
       "        vertical-align: middle;\n",
       "    }\n",
       "\n",
       "    .dataframe tbody tr th {\n",
       "        vertical-align: top;\n",
       "    }\n",
       "\n",
       "    .dataframe thead th {\n",
       "        text-align: right;\n",
       "    }\n",
       "</style>\n",
       "<table border=\"1\" class=\"dataframe\">\n",
       "  <thead>\n",
       "    <tr style=\"text-align: right;\">\n",
       "      <th></th>\n",
       "      <th>OFFENSE_TYPE_ID</th>\n",
       "      <th>OFFENSE_CATEGORY_ID</th>\n",
       "      <th>REPORTED_DATE</th>\n",
       "      <th>GEO_LON</th>\n",
       "      <th>GEO_LAT</th>\n",
       "      <th>NEIGHBORHOOD_ID</th>\n",
       "      <th>IS_CRIME</th>\n",
       "      <th>IS_TRAFFIC</th>\n",
       "    </tr>\n",
       "  </thead>\n",
       "  <tbody>\n",
       "    <tr>\n",
       "      <th>310555</th>\n",
       "      <td>public-order-crimes-other</td>\n",
       "      <td>all-other-crimes</td>\n",
       "      <td>2016-05-12 00:05:00</td>\n",
       "      <td>-104.987417</td>\n",
       "      <td>39.727275</td>\n",
       "      <td>civic-center</td>\n",
       "      <td>1</td>\n",
       "      <td>0</td>\n",
       "    </tr>\n",
       "    <tr>\n",
       "      <th>315074</th>\n",
       "      <td>curfew</td>\n",
       "      <td>public-disorder</td>\n",
       "      <td>2016-05-12 00:07:00</td>\n",
       "      <td>-104.987432</td>\n",
       "      <td>39.726668</td>\n",
       "      <td>lincoln-park</td>\n",
       "      <td>1</td>\n",
       "      <td>0</td>\n",
       "    </tr>\n",
       "    <tr>\n",
       "      <th>312836</th>\n",
       "      <td>traf-other</td>\n",
       "      <td>all-other-crimes</td>\n",
       "      <td>2016-05-12 00:13:00</td>\n",
       "      <td>-105.053191</td>\n",
       "      <td>39.719419</td>\n",
       "      <td>barnum-west</td>\n",
       "      <td>1</td>\n",
       "      <td>0</td>\n",
       "    </tr>\n",
       "    <tr>\n",
       "      <th>310538</th>\n",
       "      <td>police-false-information</td>\n",
       "      <td>all-other-crimes</td>\n",
       "      <td>2016-05-12 00:33:00</td>\n",
       "      <td>-104.965948</td>\n",
       "      <td>39.764498</td>\n",
       "      <td>cole</td>\n",
       "      <td>1</td>\n",
       "      <td>0</td>\n",
       "    </tr>\n",
       "    <tr>\n",
       "      <th>311301</th>\n",
       "      <td>traf-habitual-offender</td>\n",
       "      <td>all-other-crimes</td>\n",
       "      <td>2016-05-12 01:01:00</td>\n",
       "      <td>-104.902327</td>\n",
       "      <td>39.771602</td>\n",
       "      <td>stapleton</td>\n",
       "      <td>1</td>\n",
       "      <td>0</td>\n",
       "    </tr>\n",
       "    <tr>\n",
       "      <th>...</th>\n",
       "      <td>...</td>\n",
       "      <td>...</td>\n",
       "      <td>...</td>\n",
       "      <td>...</td>\n",
       "      <td>...</td>\n",
       "      <td>...</td>\n",
       "      <td>...</td>\n",
       "      <td>...</td>\n",
       "    </tr>\n",
       "    <tr>\n",
       "      <th>299407</th>\n",
       "      <td>traf-other</td>\n",
       "      <td>all-other-crimes</td>\n",
       "      <td>2016-05-12 23:50:00</td>\n",
       "      <td>-104.940571</td>\n",
       "      <td>39.764474</td>\n",
       "      <td>clayton</td>\n",
       "      <td>1</td>\n",
       "      <td>0</td>\n",
       "    </tr>\n",
       "    <tr>\n",
       "      <th>304599</th>\n",
       "      <td>violation-of-restraining-order</td>\n",
       "      <td>all-other-crimes</td>\n",
       "      <td>2016-05-12 23:51:00</td>\n",
       "      <td>-105.017241</td>\n",
       "      <td>39.705845</td>\n",
       "      <td>athmar-park</td>\n",
       "      <td>1</td>\n",
       "      <td>0</td>\n",
       "    </tr>\n",
       "    <tr>\n",
       "      <th>315139</th>\n",
       "      <td>criminal-trespassing</td>\n",
       "      <td>all-other-crimes</td>\n",
       "      <td>2016-05-12 23:51:00</td>\n",
       "      <td>-105.017241</td>\n",
       "      <td>39.705845</td>\n",
       "      <td>athmar-park</td>\n",
       "      <td>1</td>\n",
       "      <td>0</td>\n",
       "    </tr>\n",
       "    <tr>\n",
       "      <th>295715</th>\n",
       "      <td>criminal-mischief-other</td>\n",
       "      <td>public-disorder</td>\n",
       "      <td>2016-05-12 23:51:00</td>\n",
       "      <td>-105.017241</td>\n",
       "      <td>39.705845</td>\n",
       "      <td>athmar-park</td>\n",
       "      <td>1</td>\n",
       "      <td>0</td>\n",
       "    </tr>\n",
       "    <tr>\n",
       "      <th>302355</th>\n",
       "      <td>traf-other</td>\n",
       "      <td>all-other-crimes</td>\n",
       "      <td>2016-05-12 23:55:00</td>\n",
       "      <td>-105.034518</td>\n",
       "      <td>39.748189</td>\n",
       "      <td>sloan-lake</td>\n",
       "      <td>1</td>\n",
       "      <td>0</td>\n",
       "    </tr>\n",
       "  </tbody>\n",
       "</table>\n",
       "<p>243 rows × 8 columns</p>\n",
       "</div>"
      ],
      "text/plain": [
       "                       OFFENSE_TYPE_ID OFFENSE_CATEGORY_ID  \\\n",
       "310555       public-order-crimes-other    all-other-crimes   \n",
       "315074                          curfew     public-disorder   \n",
       "312836                      traf-other    all-other-crimes   \n",
       "310538        police-false-information    all-other-crimes   \n",
       "311301          traf-habitual-offender    all-other-crimes   \n",
       "...                                ...                 ...   \n",
       "299407                      traf-other    all-other-crimes   \n",
       "304599  violation-of-restraining-order    all-other-crimes   \n",
       "315139            criminal-trespassing    all-other-crimes   \n",
       "295715         criminal-mischief-other     public-disorder   \n",
       "302355                      traf-other    all-other-crimes   \n",
       "\n",
       "             REPORTED_DATE     GEO_LON    GEO_LAT NEIGHBORHOOD_ID  IS_CRIME  \\\n",
       "310555 2016-05-12 00:05:00 -104.987417  39.727275    civic-center         1   \n",
       "315074 2016-05-12 00:07:00 -104.987432  39.726668    lincoln-park         1   \n",
       "312836 2016-05-12 00:13:00 -105.053191  39.719419     barnum-west         1   \n",
       "310538 2016-05-12 00:33:00 -104.965948  39.764498            cole         1   \n",
       "311301 2016-05-12 01:01:00 -104.902327  39.771602       stapleton         1   \n",
       "...                    ...         ...        ...             ...       ...   \n",
       "299407 2016-05-12 23:50:00 -104.940571  39.764474         clayton         1   \n",
       "304599 2016-05-12 23:51:00 -105.017241  39.705845     athmar-park         1   \n",
       "315139 2016-05-12 23:51:00 -105.017241  39.705845     athmar-park         1   \n",
       "295715 2016-05-12 23:51:00 -105.017241  39.705845     athmar-park         1   \n",
       "302355 2016-05-12 23:55:00 -105.034518  39.748189      sloan-lake         1   \n",
       "\n",
       "        IS_TRAFFIC  \n",
       "310555           0  \n",
       "315074           0  \n",
       "312836           0  \n",
       "310538           0  \n",
       "311301           0  \n",
       "...            ...  \n",
       "299407           0  \n",
       "304599           0  \n",
       "315139           0  \n",
       "295715           0  \n",
       "302355           0  \n",
       "\n",
       "[243 rows x 8 columns]"
      ]
     },
     "execution_count": 40,
     "metadata": {},
     "output_type": "execute_result"
    }
   ],
   "source": [
    "crime[crime['REPORTED_DATE'].between('2016-05-12', '2016-05-13', inclusive='both')].sort_values(by='REPORTED_DATE')"
   ]
  },
  {
   "cell_type": "code",
   "execution_count": 42,
   "metadata": {},
   "outputs": [
    {
     "data": {
      "text/html": [
       "<div>\n",
       "<style scoped>\n",
       "    .dataframe tbody tr th:only-of-type {\n",
       "        vertical-align: middle;\n",
       "    }\n",
       "\n",
       "    .dataframe tbody tr th {\n",
       "        vertical-align: top;\n",
       "    }\n",
       "\n",
       "    .dataframe thead th {\n",
       "        text-align: right;\n",
       "    }\n",
       "</style>\n",
       "<table border=\"1\" class=\"dataframe\">\n",
       "  <thead>\n",
       "    <tr style=\"text-align: right;\">\n",
       "      <th></th>\n",
       "      <th>OFFENSE_TYPE_ID</th>\n",
       "      <th>OFFENSE_CATEGORY_ID</th>\n",
       "      <th>REPORTED_DATE</th>\n",
       "      <th>GEO_LON</th>\n",
       "      <th>GEO_LAT</th>\n",
       "      <th>NEIGHBORHOOD_ID</th>\n",
       "      <th>IS_CRIME</th>\n",
       "      <th>IS_TRAFFIC</th>\n",
       "    </tr>\n",
       "  </thead>\n",
       "  <tbody>\n",
       "    <tr>\n",
       "      <th>289289</th>\n",
       "      <td>theft-other</td>\n",
       "      <td>larceny</td>\n",
       "      <td>2016-05-01 00:03:00</td>\n",
       "      <td>-104.948370</td>\n",
       "      <td>39.740322</td>\n",
       "      <td>city-park</td>\n",
       "      <td>1</td>\n",
       "      <td>0</td>\n",
       "    </tr>\n",
       "    <tr>\n",
       "      <th>283336</th>\n",
       "      <td>criminal-mischief-other</td>\n",
       "      <td>public-disorder</td>\n",
       "      <td>2016-05-01 00:09:00</td>\n",
       "      <td>-104.963126</td>\n",
       "      <td>39.738641</td>\n",
       "      <td>cheesman-park</td>\n",
       "      <td>1</td>\n",
       "      <td>0</td>\n",
       "    </tr>\n",
       "    <tr>\n",
       "      <th>283335</th>\n",
       "      <td>threats-to-injure</td>\n",
       "      <td>public-disorder</td>\n",
       "      <td>2016-05-01 00:09:00</td>\n",
       "      <td>-104.963126</td>\n",
       "      <td>39.738641</td>\n",
       "      <td>cheesman-park</td>\n",
       "      <td>1</td>\n",
       "      <td>0</td>\n",
       "    </tr>\n",
       "    <tr>\n",
       "      <th>289275</th>\n",
       "      <td>disturbing-the-peace</td>\n",
       "      <td>public-disorder</td>\n",
       "      <td>2016-05-01 00:09:00</td>\n",
       "      <td>-104.963126</td>\n",
       "      <td>39.738641</td>\n",
       "      <td>cheesman-park</td>\n",
       "      <td>1</td>\n",
       "      <td>0</td>\n",
       "    </tr>\n",
       "    <tr>\n",
       "      <th>165247</th>\n",
       "      <td>vehicular-eluding-no-chase</td>\n",
       "      <td>all-other-crimes</td>\n",
       "      <td>2016-05-01 00:27:00</td>\n",
       "      <td>-105.022877</td>\n",
       "      <td>39.692959</td>\n",
       "      <td>ruby-hill</td>\n",
       "      <td>1</td>\n",
       "      <td>0</td>\n",
       "    </tr>\n",
       "    <tr>\n",
       "      <th>...</th>\n",
       "      <td>...</td>\n",
       "      <td>...</td>\n",
       "      <td>...</td>\n",
       "      <td>...</td>\n",
       "      <td>...</td>\n",
       "      <td>...</td>\n",
       "      <td>...</td>\n",
       "      <td>...</td>\n",
       "    </tr>\n",
       "    <tr>\n",
       "      <th>316279</th>\n",
       "      <td>traf-habitual-offender</td>\n",
       "      <td>all-other-crimes</td>\n",
       "      <td>2016-05-31 23:31:00</td>\n",
       "      <td>-104.903518</td>\n",
       "      <td>39.683885</td>\n",
       "      <td>indian-creek</td>\n",
       "      <td>1</td>\n",
       "      <td>0</td>\n",
       "    </tr>\n",
       "    <tr>\n",
       "      <th>317825</th>\n",
       "      <td>public-order-crimes-other</td>\n",
       "      <td>all-other-crimes</td>\n",
       "      <td>2016-05-31 23:31:00</td>\n",
       "      <td>-104.903518</td>\n",
       "      <td>39.683885</td>\n",
       "      <td>indian-creek</td>\n",
       "      <td>1</td>\n",
       "      <td>0</td>\n",
       "    </tr>\n",
       "    <tr>\n",
       "      <th>311934</th>\n",
       "      <td>burglary-residence-no-force</td>\n",
       "      <td>burglary</td>\n",
       "      <td>2016-05-31 23:34:00</td>\n",
       "      <td>-104.886163</td>\n",
       "      <td>39.741763</td>\n",
       "      <td>east-colfax</td>\n",
       "      <td>1</td>\n",
       "      <td>0</td>\n",
       "    </tr>\n",
       "    <tr>\n",
       "      <th>314189</th>\n",
       "      <td>assault-dv</td>\n",
       "      <td>other-crimes-against-persons</td>\n",
       "      <td>2016-05-31 23:34:00</td>\n",
       "      <td>-104.886163</td>\n",
       "      <td>39.741763</td>\n",
       "      <td>east-colfax</td>\n",
       "      <td>1</td>\n",
       "      <td>0</td>\n",
       "    </tr>\n",
       "    <tr>\n",
       "      <th>309627</th>\n",
       "      <td>theft-other</td>\n",
       "      <td>larceny</td>\n",
       "      <td>2016-05-31 23:53:00</td>\n",
       "      <td>-104.963061</td>\n",
       "      <td>39.740170</td>\n",
       "      <td>city-park-west</td>\n",
       "      <td>1</td>\n",
       "      <td>0</td>\n",
       "    </tr>\n",
       "  </tbody>\n",
       "</table>\n",
       "<p>8012 rows × 8 columns</p>\n",
       "</div>"
      ],
      "text/plain": [
       "                    OFFENSE_TYPE_ID           OFFENSE_CATEGORY_ID  \\\n",
       "289289                  theft-other                       larceny   \n",
       "283336      criminal-mischief-other               public-disorder   \n",
       "283335            threats-to-injure               public-disorder   \n",
       "289275         disturbing-the-peace               public-disorder   \n",
       "165247   vehicular-eluding-no-chase              all-other-crimes   \n",
       "...                             ...                           ...   \n",
       "316279       traf-habitual-offender              all-other-crimes   \n",
       "317825    public-order-crimes-other              all-other-crimes   \n",
       "311934  burglary-residence-no-force                      burglary   \n",
       "314189                   assault-dv  other-crimes-against-persons   \n",
       "309627                  theft-other                       larceny   \n",
       "\n",
       "             REPORTED_DATE     GEO_LON    GEO_LAT NEIGHBORHOOD_ID  IS_CRIME  \\\n",
       "289289 2016-05-01 00:03:00 -104.948370  39.740322       city-park         1   \n",
       "283336 2016-05-01 00:09:00 -104.963126  39.738641   cheesman-park         1   \n",
       "283335 2016-05-01 00:09:00 -104.963126  39.738641   cheesman-park         1   \n",
       "289275 2016-05-01 00:09:00 -104.963126  39.738641   cheesman-park         1   \n",
       "165247 2016-05-01 00:27:00 -105.022877  39.692959       ruby-hill         1   \n",
       "...                    ...         ...        ...             ...       ...   \n",
       "316279 2016-05-31 23:31:00 -104.903518  39.683885    indian-creek         1   \n",
       "317825 2016-05-31 23:31:00 -104.903518  39.683885    indian-creek         1   \n",
       "311934 2016-05-31 23:34:00 -104.886163  39.741763     east-colfax         1   \n",
       "314189 2016-05-31 23:34:00 -104.886163  39.741763     east-colfax         1   \n",
       "309627 2016-05-31 23:53:00 -104.963061  39.740170  city-park-west         1   \n",
       "\n",
       "        IS_TRAFFIC  \n",
       "289289           0  \n",
       "283336           0  \n",
       "283335           0  \n",
       "289275           0  \n",
       "165247           0  \n",
       "...            ...  \n",
       "316279           0  \n",
       "317825           0  \n",
       "311934           0  \n",
       "314189           0  \n",
       "309627           0  \n",
       "\n",
       "[8012 rows x 8 columns]"
      ]
     },
     "execution_count": 42,
     "metadata": {},
     "output_type": "execute_result"
    }
   ],
   "source": [
    "crime[crime['REPORTED_DATE'].between('2016-05', '2016-05-31 23:59:59', inclusive='both')].sort_values(by='REPORTED_DATE')"
   ]
  },
  {
   "cell_type": "code",
   "execution_count": null,
   "metadata": {},
   "outputs": [],
   "source": []
  }
 ],
 "metadata": {
  "kernelspec": {
   "display_name": "base",
   "language": "python",
   "name": "python3"
  },
  "language_info": {
   "codemirror_mode": {
    "name": "ipython",
    "version": 3
   },
   "file_extension": ".py",
   "mimetype": "text/x-python",
   "name": "python",
   "nbconvert_exporter": "python",
   "pygments_lexer": "ipython3",
   "version": "3.10.9"
  }
 },
 "nbformat": 4,
 "nbformat_minor": 2
}
