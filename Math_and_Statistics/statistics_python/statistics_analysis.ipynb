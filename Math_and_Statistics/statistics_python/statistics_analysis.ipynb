{
 "cells": [
  {
   "cell_type": "code",
   "execution_count": 9,
   "metadata": {},
   "outputs": [],
   "source": [
    "import pandas as pd\n",
    "import numpy as np\n",
    "import scipy.stats as ss\n",
    "from pathlib import Path\n",
    "import pingouin as pg\n",
    "import matplotlib.pyplot as plt"
   ]
  },
  {
   "cell_type": "code",
   "execution_count": 3,
   "metadata": {},
   "outputs": [
    {
     "data": {
      "text/html": [
       "<div>\n",
       "<style scoped>\n",
       "    .dataframe tbody tr th:only-of-type {\n",
       "        vertical-align: middle;\n",
       "    }\n",
       "\n",
       "    .dataframe tbody tr th {\n",
       "        vertical-align: top;\n",
       "    }\n",
       "\n",
       "    .dataframe thead th {\n",
       "        text-align: right;\n",
       "    }\n",
       "</style>\n",
       "<table border=\"1\" class=\"dataframe\">\n",
       "  <thead>\n",
       "    <tr style=\"text-align: right;\">\n",
       "      <th></th>\n",
       "      <th>Sex</th>\n",
       "      <th>Bwt</th>\n",
       "      <th>Hwt</th>\n",
       "    </tr>\n",
       "  </thead>\n",
       "  <tbody>\n",
       "    <tr>\n",
       "      <th>0</th>\n",
       "      <td>F</td>\n",
       "      <td>2.0</td>\n",
       "      <td>7.0</td>\n",
       "    </tr>\n",
       "    <tr>\n",
       "      <th>1</th>\n",
       "      <td>F</td>\n",
       "      <td>2.0</td>\n",
       "      <td>7.4</td>\n",
       "    </tr>\n",
       "    <tr>\n",
       "      <th>2</th>\n",
       "      <td>F</td>\n",
       "      <td>2.0</td>\n",
       "      <td>9.5</td>\n",
       "    </tr>\n",
       "    <tr>\n",
       "      <th>3</th>\n",
       "      <td>F</td>\n",
       "      <td>2.1</td>\n",
       "      <td>7.2</td>\n",
       "    </tr>\n",
       "    <tr>\n",
       "      <th>4</th>\n",
       "      <td>F</td>\n",
       "      <td>2.1</td>\n",
       "      <td>7.3</td>\n",
       "    </tr>\n",
       "  </tbody>\n",
       "</table>\n",
       "</div>"
      ],
      "text/plain": [
       "  Sex  Bwt  Hwt\n",
       "0   F  2.0  7.0\n",
       "1   F  2.0  7.4\n",
       "2   F  2.0  9.5\n",
       "3   F  2.1  7.2\n",
       "4   F  2.1  7.3"
      ]
     },
     "execution_count": 3,
     "metadata": {},
     "output_type": "execute_result"
    }
   ],
   "source": [
    "cats = pd.read_csv(Path.cwd() / 'data' / 'cats.csv')\n",
    "cats.head()"
   ]
  },
  {
   "cell_type": "code",
   "execution_count": 4,
   "metadata": {},
   "outputs": [
    {
     "data": {
      "text/plain": [
       "ShapiroResult(statistic=0.9518786668777466, pvalue=6.730248423991725e-05)"
      ]
     },
     "execution_count": 4,
     "metadata": {},
     "output_type": "execute_result"
    }
   ],
   "source": [
    "# null hypo → following to normal distributions\n",
    "ss.shapiro(cats['Bwt'])"
   ]
  },
  {
   "cell_type": "code",
   "execution_count": 5,
   "metadata": {},
   "outputs": [
    {
     "data": {
      "text/plain": [
       "WilcoxonResult(statistic=3573.0, pvalue=0.02524520294814093)"
      ]
     },
     "execution_count": 5,
     "metadata": {},
     "output_type": "execute_result"
    }
   ],
   "source": [
    "mu = 2.6\n",
    "# null hypo → following mu\n",
    "ss.wilcoxon(cats['Bwt'] - mu, alternative='two-sided')"
   ]
  },
  {
   "cell_type": "code",
   "execution_count": 8,
   "metadata": {},
   "outputs": [
    {
     "data": {
      "text/plain": [
       "Ttest_1sampResult(statistic=3.0564867998078107, pvalue=0.0026730362561723617)"
      ]
     },
     "execution_count": 8,
     "metadata": {},
     "output_type": "execute_result"
    }
   ],
   "source": [
    "ss.ttest_1samp(cats['Bwt'], popmean=mu, alternative='two-sided')"
   ]
  },
  {
   "cell_type": "code",
   "execution_count": 11,
   "metadata": {},
   "outputs": [
    {
     "data": {
      "image/png": "[encoded data removed]",
      "text/plain": [
       "<Figure size 432x288 with 1 Axes>"
      ]
     },
     "metadata": {
      "needs_background": "light"
     },
     "output_type": "display_data"
    }
   ],
   "source": [
    "plt.hist(cats['Bwt'])\n",
    "plt.show()"
   ]
  },
  {
   "cell_type": "code",
   "execution_count": 17,
   "metadata": {},
   "outputs": [
    {
     "data": {
      "text/plain": [
       "Ttest_1sampResult(statistic=-16.832690616041912, pvalue=8.304561322217225e-31)"
      ]
     },
     "execution_count": 17,
     "metadata": {},
     "output_type": "execute_result"
    }
   ],
   "source": [
    "ss.ttest_1samp(ss.uniform(-1, 1).rvs(100), popmean=0, alternative='two-sided')"
   ]
  },
  {
   "cell_type": "code",
   "execution_count": 27,
   "metadata": {},
   "outputs": [
    {
     "data": {
      "text/plain": [
       "array([0.529, 0.513, 0.493, 0.535, 0.524, 0.475, 0.541, 0.492, 0.55 ,\n",
       "       0.477, 0.514, 0.498, 0.445, 0.553, 0.519, 0.53 , 0.483, 0.515,\n",
       "       0.518, 0.567, 0.516, 0.493, 0.494, 0.516, 0.502, 0.5  , 0.534,\n",
       "       0.532, 0.512, 0.526, 0.514, 0.491, 0.497, 0.515, 0.514, 0.48 ,\n",
       "       0.443, 0.508, 0.528, 0.5  , 0.476, 0.524, 0.546, 0.52 , 0.47 ,\n",
       "       0.456, 0.517, 0.458, 0.547, 0.5  , 0.524, 0.527, 0.488, 0.531,\n",
       "       0.516, 0.504, 0.424, 0.523, 0.512, 0.548, 0.495, 0.463, 0.537,\n",
       "       0.512, 0.449, 0.551, 0.509, 0.513, 0.479, 0.495, 0.509, 0.528,\n",
       "       0.461, 0.477, 0.469, 0.471, 0.494, 0.521, 0.556, 0.474, 0.51 ,\n",
       "       0.466, 0.523, 0.509, 0.519, 0.504, 0.517, 0.479, 0.48 , 0.48 ,\n",
       "       0.511, 0.447, 0.492, 0.485, 0.49 , 0.502, 0.506, 0.52 , 0.521,\n",
       "       0.495, 0.48 , 0.519, 0.545, 0.51 , 0.518, 0.527, 0.5  , 0.472,\n",
       "       0.493, 0.539, 0.5  , 0.498, 0.511, 0.475, 0.486, 0.52 , 0.49 ,\n",
       "       0.529, 0.528, 0.546, 0.525, 0.514, 0.553, 0.481, 0.532, 0.489,\n",
       "       0.51 , 0.55 , 0.457, 0.535, 0.44 , 0.507, 0.532, 0.483, 0.506,\n",
       "       0.461, 0.519, 0.469, 0.476, 0.539, 0.464, 0.463, 0.489, 0.466,\n",
       "       0.55 , 0.476, 0.489, 0.482, 0.459, 0.498, 0.522, 0.445, 0.471,\n",
       "       0.498, 0.488, 0.488, 0.504, 0.513, 0.488, 0.457, 0.514, 0.498,\n",
       "       0.499, 0.519, 0.504, 0.5  , 0.513, 0.534, 0.537, 0.473, 0.466,\n",
       "       0.52 , 0.448, 0.515, 0.523, 0.482, 0.527, 0.537, 0.527, 0.518,\n",
       "       0.491, 0.493, 0.492, 0.466, 0.494, 0.505, 0.517, 0.529, 0.505,\n",
       "       0.477, 0.486, 0.503, 0.531, 0.502, 0.52 , 0.466, 0.525, 0.513,\n",
       "       0.468, 0.517, 0.517, 0.443, 0.502, 0.529, 0.491, 0.469, 0.496,\n",
       "       0.509, 0.487, 0.505, 0.481, 0.477, 0.521, 0.483, 0.49 , 0.533,\n",
       "       0.527, 0.484, 0.466, 0.514, 0.57 , 0.487, 0.493, 0.538, 0.506,\n",
       "       0.517, 0.495, 0.497, 0.439, 0.481, 0.476, 0.514, 0.513, 0.519,\n",
       "       0.565, 0.449, 0.505, 0.516, 0.547, 0.504, 0.505, 0.507, 0.532,\n",
       "       0.486, 0.525, 0.496, 0.515, 0.548, 0.519, 0.463, 0.461, 0.514,\n",
       "       0.478, 0.447, 0.511, 0.48 , 0.477, 0.528, 0.505, 0.461, 0.509,\n",
       "       0.496, 0.48 , 0.518, 0.496, 0.46 , 0.53 , 0.494, 0.493, 0.463,\n",
       "       0.501, 0.512, 0.54 , 0.544, 0.474, 0.448, 0.545, 0.437, 0.499,\n",
       "       0.438, 0.478, 0.482, 0.524, 0.495, 0.475, 0.466, 0.467, 0.502,\n",
       "       0.538, 0.49 , 0.528, 0.474, 0.518, 0.478, 0.484, 0.501, 0.495,\n",
       "       0.55 , 0.475, 0.515, 0.495, 0.511, 0.45 , 0.516, 0.464, 0.516,\n",
       "       0.474, 0.519, 0.447, 0.501, 0.507, 0.505, 0.464, 0.437, 0.471,\n",
       "       0.46 , 0.518, 0.504, 0.542, 0.503, 0.501, 0.509, 0.464, 0.486,\n",
       "       0.523, 0.49 , 0.49 , 0.49 , 0.452, 0.511, 0.545, 0.493, 0.451,\n",
       "       0.53 , 0.467, 0.522, 0.511, 0.542, 0.489, 0.446, 0.49 , 0.495,\n",
       "       0.496, 0.465, 0.523, 0.487, 0.518, 0.485, 0.457, 0.543, 0.554,\n",
       "       0.499, 0.502, 0.498, 0.5  , 0.529, 0.484, 0.548, 0.473, 0.495,\n",
       "       0.481, 0.442, 0.528, 0.501, 0.502, 0.476, 0.481, 0.532, 0.486,\n",
       "       0.508, 0.504, 0.553, 0.539, 0.527, 0.496, 0.515, 0.51 , 0.54 ,\n",
       "       0.52 , 0.529, 0.47 , 0.464, 0.472, 0.504, 0.465, 0.527, 0.446,\n",
       "       0.495, 0.469, 0.519, 0.512, 0.511, 0.529, 0.494, 0.513, 0.448,\n",
       "       0.466, 0.462, 0.518, 0.49 , 0.483, 0.539, 0.487, 0.539, 0.467,\n",
       "       0.469, 0.504, 0.518, 0.434, 0.513, 0.496, 0.536, 0.504, 0.493,\n",
       "       0.481, 0.576, 0.511, 0.484, 0.545, 0.483, 0.543, 0.488, 0.492,\n",
       "       0.525, 0.495, 0.508, 0.503, 0.505, 0.504, 0.48 , 0.474, 0.468,\n",
       "       0.525, 0.549, 0.516, 0.533, 0.491, 0.519, 0.55 , 0.476, 0.514,\n",
       "       0.495, 0.553, 0.492, 0.438, 0.536, 0.49 , 0.494, 0.526, 0.535,\n",
       "       0.491, 0.491, 0.505, 0.475, 0.496, 0.547, 0.512, 0.552, 0.486,\n",
       "       0.529, 0.515, 0.515, 0.479, 0.495, 0.502, 0.473, 0.501, 0.494,\n",
       "       0.532, 0.516, 0.525, 0.459, 0.486, 0.512, 0.502, 0.518, 0.534,\n",
       "       0.512, 0.532, 0.503, 0.483, 0.481, 0.51 , 0.531, 0.512, 0.481,\n",
       "       0.471, 0.542, 0.513, 0.54 , 0.516, 0.442, 0.529, 0.513, 0.495,\n",
       "       0.517, 0.561, 0.467, 0.508, 0.5  , 0.514, 0.515, 0.518, 0.514,\n",
       "       0.446, 0.533, 0.464, 0.537, 0.517, 0.459, 0.483, 0.457, 0.517,\n",
       "       0.449, 0.451, 0.488, 0.534, 0.479, 0.498, 0.516, 0.512, 0.511,\n",
       "       0.459, 0.538, 0.487, 0.515, 0.537, 0.519, 0.515, 0.529, 0.547,\n",
       "       0.468, 0.562, 0.485, 0.433, 0.467, 0.459, 0.454, 0.504, 0.468,\n",
       "       0.505, 0.542, 0.513, 0.486, 0.475, 0.529, 0.461, 0.479, 0.528,\n",
       "       0.532, 0.525, 0.506, 0.485, 0.566, 0.442, 0.539, 0.482, 0.499,\n",
       "       0.458, 0.54 , 0.517, 0.519, 0.499, 0.519, 0.486, 0.538, 0.508,\n",
       "       0.522, 0.505, 0.498, 0.479, 0.493, 0.471, 0.458, 0.465, 0.541,\n",
       "       0.528, 0.421, 0.472, 0.495, 0.52 , 0.487, 0.515, 0.482, 0.512,\n",
       "       0.501, 0.533, 0.531, 0.505, 0.5  , 0.471, 0.504, 0.521, 0.481,\n",
       "       0.476, 0.462, 0.49 , 0.504, 0.495, 0.523, 0.539, 0.528, 0.499,\n",
       "       0.5  , 0.51 , 0.503, 0.49 , 0.461, 0.534, 0.49 , 0.463, 0.45 ,\n",
       "       0.54 , 0.456, 0.463, 0.501, 0.452, 0.498, 0.459, 0.543, 0.466,\n",
       "       0.529, 0.461, 0.484, 0.521, 0.494, 0.514, 0.505, 0.48 , 0.484,\n",
       "       0.488, 0.479, 0.5  , 0.513, 0.463, 0.501, 0.51 , 0.559, 0.527,\n",
       "       0.526, 0.455, 0.486, 0.513, 0.485, 0.491, 0.468, 0.485, 0.57 ,\n",
       "       0.503, 0.556, 0.512, 0.435, 0.469, 0.51 , 0.527, 0.466, 0.544,\n",
       "       0.495, 0.501, 0.539, 0.456, 0.5  , 0.532, 0.522, 0.463, 0.49 ,\n",
       "       0.489, 0.537, 0.501, 0.532, 0.563, 0.515, 0.511, 0.479, 0.477,\n",
       "       0.436, 0.476, 0.521, 0.542, 0.503, 0.552, 0.527, 0.448, 0.556,\n",
       "       0.505, 0.52 , 0.502, 0.475, 0.451, 0.492, 0.479, 0.518, 0.451,\n",
       "       0.5  , 0.53 , 0.499, 0.497, 0.519, 0.545, 0.504, 0.509, 0.474,\n",
       "       0.535, 0.513, 0.49 , 0.519, 0.479, 0.534, 0.534, 0.497, 0.472,\n",
       "       0.44 , 0.499, 0.498, 0.522, 0.534, 0.486, 0.486, 0.458, 0.453,\n",
       "       0.524, 0.507, 0.508, 0.54 , 0.513, 0.474, 0.478, 0.499, 0.453,\n",
       "       0.465, 0.475, 0.449, 0.448, 0.472, 0.529, 0.498, 0.555, 0.481,\n",
       "       0.527, 0.536, 0.521, 0.457, 0.488, 0.473, 0.466, 0.499, 0.494,\n",
       "       0.523, 0.485, 0.505, 0.544, 0.523, 0.498, 0.448, 0.509, 0.474,\n",
       "       0.494, 0.411, 0.465, 0.524, 0.542, 0.523, 0.532, 0.522, 0.517,\n",
       "       0.476, 0.466, 0.5  , 0.475, 0.511, 0.502, 0.459, 0.496, 0.474,\n",
       "       0.498, 0.51 , 0.525, 0.504, 0.476, 0.473, 0.479, 0.503, 0.497,\n",
       "       0.518, 0.453, 0.483, 0.538, 0.517, 0.497, 0.473, 0.469, 0.465,\n",
       "       0.499, 0.533, 0.504, 0.453, 0.484, 0.476, 0.517, 0.515, 0.486,\n",
       "       0.512, 0.533, 0.528, 0.514, 0.544, 0.525, 0.539, 0.487, 0.531,\n",
       "       0.504, 0.479, 0.55 , 0.546, 0.491, 0.466, 0.519, 0.575, 0.507,\n",
       "       0.502, 0.515, 0.467, 0.468, 0.533, 0.474, 0.476, 0.541, 0.518,\n",
       "       0.457, 0.53 , 0.489, 0.501, 0.522, 0.467, 0.482, 0.507, 0.476,\n",
       "       0.483, 0.45 , 0.548, 0.442, 0.515, 0.488, 0.501, 0.555, 0.509,\n",
       "       0.527, 0.437, 0.509, 0.495, 0.503, 0.495, 0.47 , 0.498, 0.558,\n",
       "       0.489, 0.517, 0.514, 0.49 , 0.462, 0.542, 0.481, 0.477, 0.518,\n",
       "       0.498, 0.469, 0.537, 0.464, 0.524, 0.439, 0.535, 0.548, 0.482,\n",
       "       0.532, 0.488, 0.493, 0.521, 0.496, 0.506, 0.512, 0.499, 0.441,\n",
       "       0.534, 0.555, 0.485, 0.493, 0.486, 0.498, 0.534, 0.502, 0.497,\n",
       "       0.49 , 0.522, 0.528, 0.495, 0.529, 0.483, 0.506, 0.521, 0.443,\n",
       "       0.471, 0.504, 0.503, 0.465, 0.545, 0.489, 0.534, 0.488, 0.507,\n",
       "       0.478, 0.531, 0.492, 0.52 , 0.51 , 0.486, 0.519, 0.549, 0.495,\n",
       "       0.508, 0.507, 0.507, 0.486, 0.505, 0.445, 0.533, 0.467, 0.499,\n",
       "       0.515, 0.485, 0.523, 0.502, 0.534, 0.516, 0.525, 0.501, 0.535,\n",
       "       0.531, 0.447, 0.494, 0.51 , 0.487, 0.505, 0.473, 0.508, 0.511,\n",
       "       0.456, 0.513, 0.481, 0.433, 0.49 , 0.439, 0.542, 0.501, 0.511,\n",
       "       0.455, 0.496, 0.498, 0.479, 0.48 , 0.442, 0.493, 0.513, 0.491,\n",
       "       0.501, 0.469, 0.487, 0.473, 0.524, 0.516, 0.535, 0.463, 0.483,\n",
       "       0.502, 0.474, 0.493, 0.525, 0.432, 0.452, 0.487, 0.482, 0.479,\n",
       "       0.513, 0.493, 0.49 , 0.473, 0.481, 0.526, 0.52 , 0.462, 0.524,\n",
       "       0.539, 0.496, 0.524, 0.521, 0.537, 0.569, 0.527, 0.543, 0.559,\n",
       "       0.523])"
      ]
     },
     "execution_count": 27,
     "metadata": {},
     "output_type": "execute_result"
    }
   ],
   "source": [
    "uni_list = [ss.uniform(0, 1).rvs(100).mean().round(3) for _ in range(1000)]\n",
    "np.array(uni_list)"
   ]
  },
  {
   "cell_type": "code",
   "execution_count": 28,
   "metadata": {},
   "outputs": [
    {
     "data": {
      "text/plain": [
       "(array([ 1.,  1.,  1.,  1., 10., 14., 20., 15., 25., 34., 46., 47., 56.,\n",
       "        53., 68., 68., 87., 50., 87., 68., 54., 50., 50., 32., 26., 15.,\n",
       "        10.,  3.,  6.,  2.]),\n",
       " array([0.411 , 0.4165, 0.422 , 0.4275, 0.433 , 0.4385, 0.444 , 0.4495,\n",
       "        0.455 , 0.4605, 0.466 , 0.4715, 0.477 , 0.4825, 0.488 , 0.4935,\n",
       "        0.499 , 0.5045, 0.51  , 0.5155, 0.521 , 0.5265, 0.532 , 0.5375,\n",
       "        0.543 , 0.5485, 0.554 , 0.5595, 0.565 , 0.5705, 0.576 ]),\n",
       " <BarContainer object of 30 artists>)"
      ]
     },
     "execution_count": 28,
     "metadata": {},
     "output_type": "execute_result"
    },
    {
     "data": {
      "image/png": "[encoded data removed]",
      "text/plain": [
       "<Figure size 432x288 with 1 Axes>"
      ]
     },
     "metadata": {
      "needs_background": "light"
     },
     "output_type": "display_data"
    }
   ],
   "source": [
    "plt.hist(np.array(uni_list), bins=30)"
   ]
  },
  {
   "cell_type": "code",
   "execution_count": 30,
   "metadata": {},
   "outputs": [
    {
     "data": {
      "text/plain": [
       "0.500347"
      ]
     },
     "execution_count": 30,
     "metadata": {},
     "output_type": "execute_result"
    }
   ],
   "source": [
    "uni_list_mean = np.array(uni_list).mean()\n",
    "uni_list_mean"
   ]
  },
  {
   "cell_type": "code",
   "execution_count": 32,
   "metadata": {},
   "outputs": [
    {
     "data": {
      "text/plain": [
       "Ttest_1sampResult(statistic=0.3850252457378232, pvalue=0.700300668294232)"
      ]
     },
     "execution_count": 32,
     "metadata": {},
     "output_type": "execute_result"
    }
   ],
   "source": [
    "ss.ttest_1samp(uni_list, popmean=0.5, alternative='two-sided')"
   ]
  },
  {
   "cell_type": "code",
   "execution_count": null,
   "metadata": {},
   "outputs": [],
   "source": []
  }
 ],
 "metadata": {
  "kernelspec": {
   "display_name": "base",
   "language": "python",
   "name": "python3"
  },
  "language_info": {
   "codemirror_mode": {
    "name": "ipython",
    "version": 3
   },
   "file_extension": ".py",
   "mimetype": "text/x-python",
   "name": "python",
   "nbconvert_exporter": "python",
   "pygments_lexer": "ipython3",
   "version": "3.10.9"
  },
  "orig_nbformat": 4
 },
 "nbformat": 4,
 "nbformat_minor": 2
}
