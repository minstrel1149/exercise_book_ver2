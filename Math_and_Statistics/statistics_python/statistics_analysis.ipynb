{
 "cells": [
  {
   "cell_type": "code",
   "execution_count": 82,
   "metadata": {},
   "outputs": [],
   "source": [
    "import pandas as pd\n",
    "import numpy as np\n",
    "import scipy.stats as ss\n",
    "from pathlib import Path\n",
    "import pingouin as pg\n",
    "import matplotlib.pyplot as plt\n",
    "import seaborn as sns\n",
    "from statsmodels.stats.multicomp import pairwise_tukeyhsd, MultiComparison\n",
    "import statsmodels.formula.api as smfa\n",
    "from statsmodels.stats.anova import anova_lm\n",
    "from statsmodels.graphics.factorplots import interaction_plot"
   ]
  },
  {
   "cell_type": "code",
   "execution_count": null,
   "metadata": {},
   "outputs": [],
   "source": [
    "# T-Test"
   ]
  },
  {
   "cell_type": "code",
   "execution_count": 3,
   "metadata": {},
   "outputs": [
    {
     "data": {
      "text/html": [
       "<div>\n",
       "<style scoped>\n",
       "    .dataframe tbody tr th:only-of-type {\n",
       "        vertical-align: middle;\n",
       "    }\n",
       "\n",
       "    .dataframe tbody tr th {\n",
       "        vertical-align: top;\n",
       "    }\n",
       "\n",
       "    .dataframe thead th {\n",
       "        text-align: right;\n",
       "    }\n",
       "</style>\n",
       "<table border=\"1\" class=\"dataframe\">\n",
       "  <thead>\n",
       "    <tr style=\"text-align: right;\">\n",
       "      <th></th>\n",
       "      <th>Sex</th>\n",
       "      <th>Bwt</th>\n",
       "      <th>Hwt</th>\n",
       "    </tr>\n",
       "  </thead>\n",
       "  <tbody>\n",
       "    <tr>\n",
       "      <th>0</th>\n",
       "      <td>F</td>\n",
       "      <td>2.0</td>\n",
       "      <td>7.0</td>\n",
       "    </tr>\n",
       "    <tr>\n",
       "      <th>1</th>\n",
       "      <td>F</td>\n",
       "      <td>2.0</td>\n",
       "      <td>7.4</td>\n",
       "    </tr>\n",
       "    <tr>\n",
       "      <th>2</th>\n",
       "      <td>F</td>\n",
       "      <td>2.0</td>\n",
       "      <td>9.5</td>\n",
       "    </tr>\n",
       "    <tr>\n",
       "      <th>3</th>\n",
       "      <td>F</td>\n",
       "      <td>2.1</td>\n",
       "      <td>7.2</td>\n",
       "    </tr>\n",
       "    <tr>\n",
       "      <th>4</th>\n",
       "      <td>F</td>\n",
       "      <td>2.1</td>\n",
       "      <td>7.3</td>\n",
       "    </tr>\n",
       "  </tbody>\n",
       "</table>\n",
       "</div>"
      ],
      "text/plain": [
       "  Sex  Bwt  Hwt\n",
       "0   F  2.0  7.0\n",
       "1   F  2.0  7.4\n",
       "2   F  2.0  9.5\n",
       "3   F  2.1  7.2\n",
       "4   F  2.1  7.3"
      ]
     },
     "execution_count": 3,
     "metadata": {},
     "output_type": "execute_result"
    }
   ],
   "source": [
    "cats = pd.read_csv(Path.cwd() / 'data' / 'cats.csv')\n",
    "cats.head()"
   ]
  },
  {
   "cell_type": "code",
   "execution_count": 4,
   "metadata": {},
   "outputs": [
    {
     "data": {
      "text/plain": [
       "ShapiroResult(statistic=0.9518786668777466, pvalue=6.730248423991725e-05)"
      ]
     },
     "execution_count": 4,
     "metadata": {},
     "output_type": "execute_result"
    }
   ],
   "source": [
    "# null hypo → following to normal distributions\n",
    "ss.shapiro(cats['Bwt'])"
   ]
  },
  {
   "cell_type": "code",
   "execution_count": 5,
   "metadata": {},
   "outputs": [
    {
     "data": {
      "text/plain": [
       "WilcoxonResult(statistic=3573.0, pvalue=0.02524520294814093)"
      ]
     },
     "execution_count": 5,
     "metadata": {},
     "output_type": "execute_result"
    }
   ],
   "source": [
    "mu = 2.6\n",
    "# null hypo → following mu\n",
    "ss.wilcoxon(cats['Bwt'] - mu, alternative='two-sided')"
   ]
  },
  {
   "cell_type": "code",
   "execution_count": 8,
   "metadata": {},
   "outputs": [
    {
     "data": {
      "text/plain": [
       "Ttest_1sampResult(statistic=3.0564867998078107, pvalue=0.0026730362561723617)"
      ]
     },
     "execution_count": 8,
     "metadata": {},
     "output_type": "execute_result"
    }
   ],
   "source": [
    "ss.ttest_1samp(cats['Bwt'], popmean=mu, alternative='two-sided')"
   ]
  },
  {
   "cell_type": "code",
   "execution_count": 11,
   "metadata": {},
   "outputs": [
    {
     "data": {
      "image/png": "[encoded data removed]",
      "text/plain": [
       "<Figure size 432x288 with 1 Axes>"
      ]
     },
     "metadata": {
      "needs_background": "light"
     },
     "output_type": "display_data"
    }
   ],
   "source": [
    "plt.hist(cats['Bwt'])\n",
    "plt.show()"
   ]
  },
  {
   "cell_type": "code",
   "execution_count": 17,
   "metadata": {},
   "outputs": [
    {
     "data": {
      "text/plain": [
       "Ttest_1sampResult(statistic=-16.832690616041912, pvalue=8.304561322217225e-31)"
      ]
     },
     "execution_count": 17,
     "metadata": {},
     "output_type": "execute_result"
    }
   ],
   "source": [
    "ss.ttest_1samp(ss.uniform(-1, 1).rvs(100), popmean=0, alternative='two-sided')"
   ]
  },
  {
   "cell_type": "code",
   "execution_count": 27,
   "metadata": {},
   "outputs": [
    {
     "data": {
      "text/plain": [
       "array([0.529, 0.513, 0.493, 0.535, 0.524, 0.475, 0.541, 0.492, 0.55 ,\n",
       "       0.477, 0.514, 0.498, 0.445, 0.553, 0.519, 0.53 , 0.483, 0.515,\n",
       "       0.518, 0.567, 0.516, 0.493, 0.494, 0.516, 0.502, 0.5  , 0.534,\n",
       "       0.532, 0.512, 0.526, 0.514, 0.491, 0.497, 0.515, 0.514, 0.48 ,\n",
       "       0.443, 0.508, 0.528, 0.5  , 0.476, 0.524, 0.546, 0.52 , 0.47 ,\n",
       "       0.456, 0.517, 0.458, 0.547, 0.5  , 0.524, 0.527, 0.488, 0.531,\n",
       "       0.516, 0.504, 0.424, 0.523, 0.512, 0.548, 0.495, 0.463, 0.537,\n",
       "       0.512, 0.449, 0.551, 0.509, 0.513, 0.479, 0.495, 0.509, 0.528,\n",
       "       0.461, 0.477, 0.469, 0.471, 0.494, 0.521, 0.556, 0.474, 0.51 ,\n",
       "       0.466, 0.523, 0.509, 0.519, 0.504, 0.517, 0.479, 0.48 , 0.48 ,\n",
       "       0.511, 0.447, 0.492, 0.485, 0.49 , 0.502, 0.506, 0.52 , 0.521,\n",
       "       0.495, 0.48 , 0.519, 0.545, 0.51 , 0.518, 0.527, 0.5  , 0.472,\n",
       "       0.493, 0.539, 0.5  , 0.498, 0.511, 0.475, 0.486, 0.52 , 0.49 ,\n",
       "       0.529, 0.528, 0.546, 0.525, 0.514, 0.553, 0.481, 0.532, 0.489,\n",
       "       0.51 , 0.55 , 0.457, 0.535, 0.44 , 0.507, 0.532, 0.483, 0.506,\n",
       "       0.461, 0.519, 0.469, 0.476, 0.539, 0.464, 0.463, 0.489, 0.466,\n",
       "       0.55 , 0.476, 0.489, 0.482, 0.459, 0.498, 0.522, 0.445, 0.471,\n",
       "       0.498, 0.488, 0.488, 0.504, 0.513, 0.488, 0.457, 0.514, 0.498,\n",
       "       0.499, 0.519, 0.504, 0.5  , 0.513, 0.534, 0.537, 0.473, 0.466,\n",
       "       0.52 , 0.448, 0.515, 0.523, 0.482, 0.527, 0.537, 0.527, 0.518,\n",
       "       0.491, 0.493, 0.492, 0.466, 0.494, 0.505, 0.517, 0.529, 0.505,\n",
       "       0.477, 0.486, 0.503, 0.531, 0.502, 0.52 , 0.466, 0.525, 0.513,\n",
       "       0.468, 0.517, 0.517, 0.443, 0.502, 0.529, 0.491, 0.469, 0.496,\n",
       "       0.509, 0.487, 0.505, 0.481, 0.477, 0.521, 0.483, 0.49 , 0.533,\n",
       "       0.527, 0.484, 0.466, 0.514, 0.57 , 0.487, 0.493, 0.538, 0.506,\n",
       "       0.517, 0.495, 0.497, 0.439, 0.481, 0.476, 0.514, 0.513, 0.519,\n",
       "       0.565, 0.449, 0.505, 0.516, 0.547, 0.504, 0.505, 0.507, 0.532,\n",
       "       0.486, 0.525, 0.496, 0.515, 0.548, 0.519, 0.463, 0.461, 0.514,\n",
       "       0.478, 0.447, 0.511, 0.48 , 0.477, 0.528, 0.505, 0.461, 0.509,\n",
       "       0.496, 0.48 , 0.518, 0.496, 0.46 , 0.53 , 0.494, 0.493, 0.463,\n",
       "       0.501, 0.512, 0.54 , 0.544, 0.474, 0.448, 0.545, 0.437, 0.499,\n",
       "       0.438, 0.478, 0.482, 0.524, 0.495, 0.475, 0.466, 0.467, 0.502,\n",
       "       0.538, 0.49 , 0.528, 0.474, 0.518, 0.478, 0.484, 0.501, 0.495,\n",
       "       0.55 , 0.475, 0.515, 0.495, 0.511, 0.45 , 0.516, 0.464, 0.516,\n",
       "       0.474, 0.519, 0.447, 0.501, 0.507, 0.505, 0.464, 0.437, 0.471,\n",
       "       0.46 , 0.518, 0.504, 0.542, 0.503, 0.501, 0.509, 0.464, 0.486,\n",
       "       0.523, 0.49 , 0.49 , 0.49 , 0.452, 0.511, 0.545, 0.493, 0.451,\n",
       "       0.53 , 0.467, 0.522, 0.511, 0.542, 0.489, 0.446, 0.49 , 0.495,\n",
       "       0.496, 0.465, 0.523, 0.487, 0.518, 0.485, 0.457, 0.543, 0.554,\n",
       "       0.499, 0.502, 0.498, 0.5  , 0.529, 0.484, 0.548, 0.473, 0.495,\n",
       "       0.481, 0.442, 0.528, 0.501, 0.502, 0.476, 0.481, 0.532, 0.486,\n",
       "       0.508, 0.504, 0.553, 0.539, 0.527, 0.496, 0.515, 0.51 , 0.54 ,\n",
       "       0.52 , 0.529, 0.47 , 0.464, 0.472, 0.504, 0.465, 0.527, 0.446,\n",
       "       0.495, 0.469, 0.519, 0.512, 0.511, 0.529, 0.494, 0.513, 0.448,\n",
       "       0.466, 0.462, 0.518, 0.49 , 0.483, 0.539, 0.487, 0.539, 0.467,\n",
       "       0.469, 0.504, 0.518, 0.434, 0.513, 0.496, 0.536, 0.504, 0.493,\n",
       "       0.481, 0.576, 0.511, 0.484, 0.545, 0.483, 0.543, 0.488, 0.492,\n",
       "       0.525, 0.495, 0.508, 0.503, 0.505, 0.504, 0.48 , 0.474, 0.468,\n",
       "       0.525, 0.549, 0.516, 0.533, 0.491, 0.519, 0.55 , 0.476, 0.514,\n",
       "       0.495, 0.553, 0.492, 0.438, 0.536, 0.49 , 0.494, 0.526, 0.535,\n",
       "       0.491, 0.491, 0.505, 0.475, 0.496, 0.547, 0.512, 0.552, 0.486,\n",
       "       0.529, 0.515, 0.515, 0.479, 0.495, 0.502, 0.473, 0.501, 0.494,\n",
       "       0.532, 0.516, 0.525, 0.459, 0.486, 0.512, 0.502, 0.518, 0.534,\n",
       "       0.512, 0.532, 0.503, 0.483, 0.481, 0.51 , 0.531, 0.512, 0.481,\n",
       "       0.471, 0.542, 0.513, 0.54 , 0.516, 0.442, 0.529, 0.513, 0.495,\n",
       "       0.517, 0.561, 0.467, 0.508, 0.5  , 0.514, 0.515, 0.518, 0.514,\n",
       "       0.446, 0.533, 0.464, 0.537, 0.517, 0.459, 0.483, 0.457, 0.517,\n",
       "       0.449, 0.451, 0.488, 0.534, 0.479, 0.498, 0.516, 0.512, 0.511,\n",
       "       0.459, 0.538, 0.487, 0.515, 0.537, 0.519, 0.515, 0.529, 0.547,\n",
       "       0.468, 0.562, 0.485, 0.433, 0.467, 0.459, 0.454, 0.504, 0.468,\n",
       "       0.505, 0.542, 0.513, 0.486, 0.475, 0.529, 0.461, 0.479, 0.528,\n",
       "       0.532, 0.525, 0.506, 0.485, 0.566, 0.442, 0.539, 0.482, 0.499,\n",
       "       0.458, 0.54 , 0.517, 0.519, 0.499, 0.519, 0.486, 0.538, 0.508,\n",
       "       0.522, 0.505, 0.498, 0.479, 0.493, 0.471, 0.458, 0.465, 0.541,\n",
       "       0.528, 0.421, 0.472, 0.495, 0.52 , 0.487, 0.515, 0.482, 0.512,\n",
       "       0.501, 0.533, 0.531, 0.505, 0.5  , 0.471, 0.504, 0.521, 0.481,\n",
       "       0.476, 0.462, 0.49 , 0.504, 0.495, 0.523, 0.539, 0.528, 0.499,\n",
       "       0.5  , 0.51 , 0.503, 0.49 , 0.461, 0.534, 0.49 , 0.463, 0.45 ,\n",
       "       0.54 , 0.456, 0.463, 0.501, 0.452, 0.498, 0.459, 0.543, 0.466,\n",
       "       0.529, 0.461, 0.484, 0.521, 0.494, 0.514, 0.505, 0.48 , 0.484,\n",
       "       0.488, 0.479, 0.5  , 0.513, 0.463, 0.501, 0.51 , 0.559, 0.527,\n",
       "       0.526, 0.455, 0.486, 0.513, 0.485, 0.491, 0.468, 0.485, 0.57 ,\n",
       "       0.503, 0.556, 0.512, 0.435, 0.469, 0.51 , 0.527, 0.466, 0.544,\n",
       "       0.495, 0.501, 0.539, 0.456, 0.5  , 0.532, 0.522, 0.463, 0.49 ,\n",
       "       0.489, 0.537, 0.501, 0.532, 0.563, 0.515, 0.511, 0.479, 0.477,\n",
       "       0.436, 0.476, 0.521, 0.542, 0.503, 0.552, 0.527, 0.448, 0.556,\n",
       "       0.505, 0.52 , 0.502, 0.475, 0.451, 0.492, 0.479, 0.518, 0.451,\n",
       "       0.5  , 0.53 , 0.499, 0.497, 0.519, 0.545, 0.504, 0.509, 0.474,\n",
       "       0.535, 0.513, 0.49 , 0.519, 0.479, 0.534, 0.534, 0.497, 0.472,\n",
       "       0.44 , 0.499, 0.498, 0.522, 0.534, 0.486, 0.486, 0.458, 0.453,\n",
       "       0.524, 0.507, 0.508, 0.54 , 0.513, 0.474, 0.478, 0.499, 0.453,\n",
       "       0.465, 0.475, 0.449, 0.448, 0.472, 0.529, 0.498, 0.555, 0.481,\n",
       "       0.527, 0.536, 0.521, 0.457, 0.488, 0.473, 0.466, 0.499, 0.494,\n",
       "       0.523, 0.485, 0.505, 0.544, 0.523, 0.498, 0.448, 0.509, 0.474,\n",
       "       0.494, 0.411, 0.465, 0.524, 0.542, 0.523, 0.532, 0.522, 0.517,\n",
       "       0.476, 0.466, 0.5  , 0.475, 0.511, 0.502, 0.459, 0.496, 0.474,\n",
       "       0.498, 0.51 , 0.525, 0.504, 0.476, 0.473, 0.479, 0.503, 0.497,\n",
       "       0.518, 0.453, 0.483, 0.538, 0.517, 0.497, 0.473, 0.469, 0.465,\n",
       "       0.499, 0.533, 0.504, 0.453, 0.484, 0.476, 0.517, 0.515, 0.486,\n",
       "       0.512, 0.533, 0.528, 0.514, 0.544, 0.525, 0.539, 0.487, 0.531,\n",
       "       0.504, 0.479, 0.55 , 0.546, 0.491, 0.466, 0.519, 0.575, 0.507,\n",
       "       0.502, 0.515, 0.467, 0.468, 0.533, 0.474, 0.476, 0.541, 0.518,\n",
       "       0.457, 0.53 , 0.489, 0.501, 0.522, 0.467, 0.482, 0.507, 0.476,\n",
       "       0.483, 0.45 , 0.548, 0.442, 0.515, 0.488, 0.501, 0.555, 0.509,\n",
       "       0.527, 0.437, 0.509, 0.495, 0.503, 0.495, 0.47 , 0.498, 0.558,\n",
       "       0.489, 0.517, 0.514, 0.49 , 0.462, 0.542, 0.481, 0.477, 0.518,\n",
       "       0.498, 0.469, 0.537, 0.464, 0.524, 0.439, 0.535, 0.548, 0.482,\n",
       "       0.532, 0.488, 0.493, 0.521, 0.496, 0.506, 0.512, 0.499, 0.441,\n",
       "       0.534, 0.555, 0.485, 0.493, 0.486, 0.498, 0.534, 0.502, 0.497,\n",
       "       0.49 , 0.522, 0.528, 0.495, 0.529, 0.483, 0.506, 0.521, 0.443,\n",
       "       0.471, 0.504, 0.503, 0.465, 0.545, 0.489, 0.534, 0.488, 0.507,\n",
       "       0.478, 0.531, 0.492, 0.52 , 0.51 , 0.486, 0.519, 0.549, 0.495,\n",
       "       0.508, 0.507, 0.507, 0.486, 0.505, 0.445, 0.533, 0.467, 0.499,\n",
       "       0.515, 0.485, 0.523, 0.502, 0.534, 0.516, 0.525, 0.501, 0.535,\n",
       "       0.531, 0.447, 0.494, 0.51 , 0.487, 0.505, 0.473, 0.508, 0.511,\n",
       "       0.456, 0.513, 0.481, 0.433, 0.49 , 0.439, 0.542, 0.501, 0.511,\n",
       "       0.455, 0.496, 0.498, 0.479, 0.48 , 0.442, 0.493, 0.513, 0.491,\n",
       "       0.501, 0.469, 0.487, 0.473, 0.524, 0.516, 0.535, 0.463, 0.483,\n",
       "       0.502, 0.474, 0.493, 0.525, 0.432, 0.452, 0.487, 0.482, 0.479,\n",
       "       0.513, 0.493, 0.49 , 0.473, 0.481, 0.526, 0.52 , 0.462, 0.524,\n",
       "       0.539, 0.496, 0.524, 0.521, 0.537, 0.569, 0.527, 0.543, 0.559,\n",
       "       0.523])"
      ]
     },
     "execution_count": 27,
     "metadata": {},
     "output_type": "execute_result"
    }
   ],
   "source": [
    "uni_list = [ss.uniform(0, 1).rvs(100).mean().round(3) for _ in range(1000)]\n",
    "np.array(uni_list)"
   ]
  },
  {
   "cell_type": "code",
   "execution_count": 28,
   "metadata": {},
   "outputs": [
    {
     "data": {
      "text/plain": [
       "(array([ 1.,  1.,  1.,  1., 10., 14., 20., 15., 25., 34., 46., 47., 56.,\n",
       "        53., 68., 68., 87., 50., 87., 68., 54., 50., 50., 32., 26., 15.,\n",
       "        10.,  3.,  6.,  2.]),\n",
       " array([0.411 , 0.4165, 0.422 , 0.4275, 0.433 , 0.4385, 0.444 , 0.4495,\n",
       "        0.455 , 0.4605, 0.466 , 0.4715, 0.477 , 0.4825, 0.488 , 0.4935,\n",
       "        0.499 , 0.5045, 0.51  , 0.5155, 0.521 , 0.5265, 0.532 , 0.5375,\n",
       "        0.543 , 0.5485, 0.554 , 0.5595, 0.565 , 0.5705, 0.576 ]),\n",
       " <BarContainer object of 30 artists>)"
      ]
     },
     "execution_count": 28,
     "metadata": {},
     "output_type": "execute_result"
    },
    {
     "data": {
      "image/png": "[encoded data removed]",
      "text/plain": [
       "<Figure size 432x288 with 1 Axes>"
      ]
     },
     "metadata": {
      "needs_background": "light"
     },
     "output_type": "display_data"
    }
   ],
   "source": [
    "plt.hist(np.array(uni_list), bins=30)"
   ]
  },
  {
   "cell_type": "code",
   "execution_count": 30,
   "metadata": {},
   "outputs": [
    {
     "data": {
      "text/plain": [
       "0.500347"
      ]
     },
     "execution_count": 30,
     "metadata": {},
     "output_type": "execute_result"
    }
   ],
   "source": [
    "uni_list_mean = np.array(uni_list).mean()\n",
    "uni_list_mean"
   ]
  },
  {
   "cell_type": "code",
   "execution_count": 32,
   "metadata": {},
   "outputs": [
    {
     "data": {
      "text/plain": [
       "Ttest_1sampResult(statistic=0.3850252457378232, pvalue=0.700300668294232)"
      ]
     },
     "execution_count": 32,
     "metadata": {},
     "output_type": "execute_result"
    }
   ],
   "source": [
    "ss.ttest_1samp(uni_list, popmean=0.5, alternative='two-sided')"
   ]
  },
  {
   "cell_type": "code",
   "execution_count": 33,
   "metadata": {},
   "outputs": [
    {
     "data": {
      "text/html": [
       "<div>\n",
       "<style scoped>\n",
       "    .dataframe tbody tr th:only-of-type {\n",
       "        vertical-align: middle;\n",
       "    }\n",
       "\n",
       "    .dataframe tbody tr th {\n",
       "        vertical-align: top;\n",
       "    }\n",
       "\n",
       "    .dataframe thead th {\n",
       "        text-align: right;\n",
       "    }\n",
       "</style>\n",
       "<table border=\"1\" class=\"dataframe\">\n",
       "  <thead>\n",
       "    <tr style=\"text-align: right;\">\n",
       "      <th></th>\n",
       "      <th>before</th>\n",
       "      <th>after</th>\n",
       "    </tr>\n",
       "  </thead>\n",
       "  <tbody>\n",
       "    <tr>\n",
       "      <th>0</th>\n",
       "      <td>7</td>\n",
       "      <td>8</td>\n",
       "    </tr>\n",
       "    <tr>\n",
       "      <th>1</th>\n",
       "      <td>3</td>\n",
       "      <td>4</td>\n",
       "    </tr>\n",
       "    <tr>\n",
       "      <th>2</th>\n",
       "      <td>4</td>\n",
       "      <td>5</td>\n",
       "    </tr>\n",
       "    <tr>\n",
       "      <th>3</th>\n",
       "      <td>5</td>\n",
       "      <td>6</td>\n",
       "    </tr>\n",
       "    <tr>\n",
       "      <th>4</th>\n",
       "      <td>2</td>\n",
       "      <td>2</td>\n",
       "    </tr>\n",
       "  </tbody>\n",
       "</table>\n",
       "</div>"
      ],
      "text/plain": [
       "   before  after\n",
       "0       7      8\n",
       "1       3      4\n",
       "2       4      5\n",
       "3       5      6\n",
       "4       2      2"
      ]
     },
     "execution_count": 33,
     "metadata": {},
     "output_type": "execute_result"
    }
   ],
   "source": [
    "data = {'before':[7,3,4,5,2,1,6,6,5,4],\n",
    "       'after':[8,4,5,6,2,3,6,8,6,5]}\n",
    "data = pd.DataFrame(data)\n",
    "data.head()"
   ]
  },
  {
   "cell_type": "code",
   "execution_count": 36,
   "metadata": {},
   "outputs": [
    {
     "data": {
      "text/plain": [
       "ShapiroResult(statistic=0.9644595384597778, pvalue=0.8352707624435425)"
      ]
     },
     "execution_count": 36,
     "metadata": {},
     "output_type": "execute_result"
    }
   ],
   "source": [
    "ss.shapiro(data['before'])"
   ]
  },
  {
   "cell_type": "code",
   "execution_count": 39,
   "metadata": {},
   "outputs": [
    {
     "data": {
      "text/plain": [
       "Ttest_relResult(statistic=4.743416490252569, pvalue=0.0005269356285082765)"
      ]
     },
     "execution_count": 39,
     "metadata": {},
     "output_type": "execute_result"
    }
   ],
   "source": [
    "ss.ttest_rel(data['after'], data['before'], alternative='greater')"
   ]
  },
  {
   "cell_type": "code",
   "execution_count": 41,
   "metadata": {},
   "outputs": [
    {
     "data": {
      "text/plain": [
       "((47,), (97,))"
      ]
     },
     "execution_count": 41,
     "metadata": {},
     "output_type": "execute_result"
    }
   ],
   "source": [
    "female = cats.loc[cats['Sex'] == 'F', 'Bwt']\n",
    "male = cats.loc[cats['Sex'] == 'M', 'Bwt']\n",
    "female.shape, male.shape"
   ]
  },
  {
   "cell_type": "code",
   "execution_count": 42,
   "metadata": {},
   "outputs": [
    {
     "data": {
      "text/plain": [
       "LeveneResult(statistic=19.43101190877999, pvalue=2.0435285255189404e-05)"
      ]
     },
     "execution_count": 42,
     "metadata": {},
     "output_type": "execute_result"
    }
   ],
   "source": [
    "# null hypo → equal variance\n",
    "ss.levene(female, male)"
   ]
  },
  {
   "cell_type": "code",
   "execution_count": 43,
   "metadata": {},
   "outputs": [
    {
     "data": {
      "text/plain": [
       "Ttest_indResult(statistic=-8.70948849909559, pvalue=8.831034455859356e-15)"
      ]
     },
     "execution_count": 43,
     "metadata": {},
     "output_type": "execute_result"
    }
   ],
   "source": [
    "ss.ttest_ind(female, male, equal_var=False, alternative='two-sided')"
   ]
  },
  {
   "cell_type": "code",
   "execution_count": 44,
   "metadata": {},
   "outputs": [],
   "source": [
    "# ANOVA"
   ]
  },
  {
   "cell_type": "code",
   "execution_count": 46,
   "metadata": {},
   "outputs": [
    {
     "data": {
      "text/html": [
       "<div>\n",
       "<style scoped>\n",
       "    .dataframe tbody tr th:only-of-type {\n",
       "        vertical-align: middle;\n",
       "    }\n",
       "\n",
       "    .dataframe tbody tr th {\n",
       "        vertical-align: top;\n",
       "    }\n",
       "\n",
       "    .dataframe thead th {\n",
       "        text-align: right;\n",
       "    }\n",
       "</style>\n",
       "<table border=\"1\" class=\"dataframe\">\n",
       "  <thead>\n",
       "    <tr style=\"text-align: right;\">\n",
       "      <th></th>\n",
       "      <th>sepal length</th>\n",
       "      <th>sepal width</th>\n",
       "      <th>petal length</th>\n",
       "      <th>petal width</th>\n",
       "      <th>target</th>\n",
       "    </tr>\n",
       "  </thead>\n",
       "  <tbody>\n",
       "    <tr>\n",
       "      <th>0</th>\n",
       "      <td>5.1</td>\n",
       "      <td>3.5</td>\n",
       "      <td>1.4</td>\n",
       "      <td>0.2</td>\n",
       "      <td>Iris-setosa</td>\n",
       "    </tr>\n",
       "    <tr>\n",
       "      <th>1</th>\n",
       "      <td>4.9</td>\n",
       "      <td>3.0</td>\n",
       "      <td>1.4</td>\n",
       "      <td>0.2</td>\n",
       "      <td>Iris-setosa</td>\n",
       "    </tr>\n",
       "    <tr>\n",
       "      <th>2</th>\n",
       "      <td>4.7</td>\n",
       "      <td>3.2</td>\n",
       "      <td>1.3</td>\n",
       "      <td>0.2</td>\n",
       "      <td>Iris-setosa</td>\n",
       "    </tr>\n",
       "    <tr>\n",
       "      <th>3</th>\n",
       "      <td>4.6</td>\n",
       "      <td>3.1</td>\n",
       "      <td>1.5</td>\n",
       "      <td>0.2</td>\n",
       "      <td>Iris-setosa</td>\n",
       "    </tr>\n",
       "    <tr>\n",
       "      <th>4</th>\n",
       "      <td>5.0</td>\n",
       "      <td>3.6</td>\n",
       "      <td>1.4</td>\n",
       "      <td>0.2</td>\n",
       "      <td>Iris-setosa</td>\n",
       "    </tr>\n",
       "  </tbody>\n",
       "</table>\n",
       "</div>"
      ],
      "text/plain": [
       "   sepal length  sepal width  petal length  petal width       target\n",
       "0           5.1          3.5           1.4          0.2  Iris-setosa\n",
       "1           4.9          3.0           1.4          0.2  Iris-setosa\n",
       "2           4.7          3.2           1.3          0.2  Iris-setosa\n",
       "3           4.6          3.1           1.5          0.2  Iris-setosa\n",
       "4           5.0          3.6           1.4          0.2  Iris-setosa"
      ]
     },
     "execution_count": 46,
     "metadata": {},
     "output_type": "execute_result"
    }
   ],
   "source": [
    "iris = pd.read_csv(Path.cwd() / 'data' / 'iris.csv')\n",
    "iris.head()"
   ]
  },
  {
   "cell_type": "code",
   "execution_count": 55,
   "metadata": {},
   "outputs": [],
   "source": [
    "target_list = iris['target'].unique()\n",
    "setosa = iris.loc[iris['target'] == target_list[0], 'sepal width']\n",
    "versicolor = iris.loc[iris['target'] == target_list[1], 'sepal width']\n",
    "virginica = iris.loc[iris['target'] == target_list[2], 'sepal width']\n",
    "iris_kind = setosa, versicolor, virginica"
   ]
  },
  {
   "cell_type": "code",
   "execution_count": 51,
   "metadata": {},
   "outputs": [
    {
     "data": {
      "text/plain": [
       "<AxesSubplot:xlabel='target', ylabel='sepal width'>"
      ]
     },
     "execution_count": 51,
     "metadata": {},
     "output_type": "execute_result"
    },
    {
     "data": {
      "image/png": "[encoded data removed]",
      "text/plain": [
       "<Figure size 432x288 with 1 Axes>"
      ]
     },
     "metadata": {
      "needs_background": "light"
     },
     "output_type": "display_data"
    }
   ],
   "source": [
    "sns.scatterplot(data=iris, x='target', y='sepal width', hue='target')"
   ]
  },
  {
   "cell_type": "code",
   "execution_count": 56,
   "metadata": {},
   "outputs": [
    {
     "name": "stdout",
     "output_type": "stream",
     "text": [
      "ShapiroResult(statistic=0.968691885471344, pvalue=0.20465604960918427)\n",
      "ShapiroResult(statistic=0.9741330742835999, pvalue=0.33798879384994507)\n",
      "ShapiroResult(statistic=0.9673910140991211, pvalue=0.1809043288230896)\n"
     ]
    }
   ],
   "source": [
    "for kind in iris_kind:\n",
    "    print(ss.shapiro(kind))"
   ]
  },
  {
   "cell_type": "code",
   "execution_count": 57,
   "metadata": {},
   "outputs": [
    {
     "data": {
      "text/plain": [
       "LeveneResult(statistic=0.6475222363405327, pvalue=0.5248269975064537)"
      ]
     },
     "execution_count": 57,
     "metadata": {},
     "output_type": "execute_result"
    }
   ],
   "source": [
    "ss.levene(setosa, versicolor, virginica)"
   ]
  },
  {
   "cell_type": "code",
   "execution_count": 58,
   "metadata": {},
   "outputs": [
    {
     "data": {
      "text/plain": [
       "F_onewayResult(statistic=47.36446140299382, pvalue=1.3279165184572242e-16)"
      ]
     },
     "execution_count": 58,
     "metadata": {},
     "output_type": "execute_result"
    }
   ],
   "source": [
    "ss.f_oneway(setosa, versicolor, virginica)"
   ]
  },
  {
   "cell_type": "code",
   "execution_count": 61,
   "metadata": {},
   "outputs": [
    {
     "data": {
      "text/plain": [
       "<statsmodels.sandbox.stats.multicomp.TukeyHSDResults at 0x2b08008b6a0>"
      ]
     },
     "execution_count": 61,
     "metadata": {},
     "output_type": "execute_result"
    }
   ],
   "source": [
    "mc = MultiComparison(data=iris['sepal width'], groups=iris['target'])\n",
    "tukey_hsd = mc.tukeyhsd(alpha=0.05)\n",
    "tukey_hsd"
   ]
  },
  {
   "cell_type": "code",
   "execution_count": 68,
   "metadata": {},
   "outputs": [
    {
     "data": {
      "image/png": "[encoded data removed]",
      "text/plain": [
       "<Figure size 720x432 with 1 Axes>"
      ]
     },
     "metadata": {
      "needs_background": "light"
     },
     "output_type": "display_data"
    }
   ],
   "source": [
    "fig = tukey_hsd.plot_simultaneous()"
   ]
  },
  {
   "cell_type": "code",
   "execution_count": 69,
   "metadata": {},
   "outputs": [
    {
     "data": {
      "text/html": [
       "<table class=\"simpletable\">\n",
       "<caption>Multiple Comparison of Means - Tukey HSD, FWER=0.05</caption>\n",
       "<tr>\n",
       "      <th>group1</th>          <th>group2</th>      <th>meandiff</th> <th>p-adj</th>  <th>lower</th>   <th>upper</th>  <th>reject</th>\n",
       "</tr>\n",
       "<tr>\n",
       "    <td>Iris-setosa</td>   <td>Iris-versicolor</td>  <td>-0.648</td>   <td>0.0</td>  <td>-0.8092</td> <td>-0.4868</td>  <td>True</td> \n",
       "</tr>\n",
       "<tr>\n",
       "    <td>Iris-setosa</td>   <td>Iris-virginica</td>   <td>-0.444</td>   <td>0.0</td>  <td>-0.6052</td> <td>-0.2828</td>  <td>True</td> \n",
       "</tr>\n",
       "<tr>\n",
       "  <td>Iris-versicolor</td> <td>Iris-virginica</td>    <td>0.204</td>  <td>0.009</td> <td>0.0428</td>  <td>0.3652</td>   <td>True</td> \n",
       "</tr>\n",
       "</table>"
      ],
      "text/plain": [
       "<class 'statsmodels.iolib.table.SimpleTable'>"
      ]
     },
     "execution_count": 69,
     "metadata": {},
     "output_type": "execute_result"
    }
   ],
   "source": [
    "tukey_hsd.summary()"
   ]
  },
  {
   "cell_type": "code",
   "execution_count": 73,
   "metadata": {},
   "outputs": [
    {
     "data": {
      "text/plain": [
       "KruskalResult(statistic=62.49463010053111, pvalue=2.6882119006774528e-14)"
      ]
     },
     "execution_count": 73,
     "metadata": {},
     "output_type": "execute_result"
    }
   ],
   "source": [
    "ss.kruskal(setosa, versicolor, virginica)"
   ]
  },
  {
   "cell_type": "code",
   "execution_count": 74,
   "metadata": {},
   "outputs": [
    {
     "data": {
      "text/html": [
       "<div>\n",
       "<style scoped>\n",
       "    .dataframe tbody tr th:only-of-type {\n",
       "        vertical-align: middle;\n",
       "    }\n",
       "\n",
       "    .dataframe tbody tr th {\n",
       "        vertical-align: top;\n",
       "    }\n",
       "\n",
       "    .dataframe thead th {\n",
       "        text-align: right;\n",
       "    }\n",
       "</style>\n",
       "<table border=\"1\" class=\"dataframe\">\n",
       "  <thead>\n",
       "    <tr style=\"text-align: right;\">\n",
       "      <th></th>\n",
       "      <th>Source</th>\n",
       "      <th>ddof1</th>\n",
       "      <th>ddof2</th>\n",
       "      <th>F</th>\n",
       "      <th>p-unc</th>\n",
       "      <th>np2</th>\n",
       "    </tr>\n",
       "  </thead>\n",
       "  <tbody>\n",
       "    <tr>\n",
       "      <th>0</th>\n",
       "      <td>target</td>\n",
       "      <td>2</td>\n",
       "      <td>97.369597</td>\n",
       "      <td>43.303381</td>\n",
       "      <td>3.519723e-14</td>\n",
       "      <td>0.391881</td>\n",
       "    </tr>\n",
       "  </tbody>\n",
       "</table>\n",
       "</div>"
      ],
      "text/plain": [
       "   Source  ddof1      ddof2          F         p-unc       np2\n",
       "0  target      2  97.369597  43.303381  3.519723e-14  0.391881"
      ]
     },
     "execution_count": 74,
     "metadata": {},
     "output_type": "execute_result"
    }
   ],
   "source": [
    "pg.welch_anova(data=iris, dv='sepal width', between='target')"
   ]
  },
  {
   "cell_type": "code",
   "execution_count": 76,
   "metadata": {},
   "outputs": [
    {
     "data": {
      "text/html": [
       "<div>\n",
       "<style scoped>\n",
       "    .dataframe tbody tr th:only-of-type {\n",
       "        vertical-align: middle;\n",
       "    }\n",
       "\n",
       "    .dataframe tbody tr th {\n",
       "        vertical-align: top;\n",
       "    }\n",
       "\n",
       "    .dataframe thead th {\n",
       "        text-align: right;\n",
       "    }\n",
       "</style>\n",
       "<table border=\"1\" class=\"dataframe\">\n",
       "  <thead>\n",
       "    <tr style=\"text-align: right;\">\n",
       "      <th></th>\n",
       "      <th>mpg</th>\n",
       "      <th>am</th>\n",
       "      <th>cyl</th>\n",
       "    </tr>\n",
       "  </thead>\n",
       "  <tbody>\n",
       "    <tr>\n",
       "      <th>0</th>\n",
       "      <td>21.0</td>\n",
       "      <td>1</td>\n",
       "      <td>6</td>\n",
       "    </tr>\n",
       "    <tr>\n",
       "      <th>1</th>\n",
       "      <td>21.0</td>\n",
       "      <td>1</td>\n",
       "      <td>6</td>\n",
       "    </tr>\n",
       "    <tr>\n",
       "      <th>2</th>\n",
       "      <td>22.8</td>\n",
       "      <td>1</td>\n",
       "      <td>4</td>\n",
       "    </tr>\n",
       "    <tr>\n",
       "      <th>3</th>\n",
       "      <td>21.4</td>\n",
       "      <td>0</td>\n",
       "      <td>6</td>\n",
       "    </tr>\n",
       "    <tr>\n",
       "      <th>4</th>\n",
       "      <td>18.7</td>\n",
       "      <td>0</td>\n",
       "      <td>8</td>\n",
       "    </tr>\n",
       "  </tbody>\n",
       "</table>\n",
       "</div>"
      ],
      "text/plain": [
       "    mpg  am  cyl\n",
       "0  21.0   1    6\n",
       "1  21.0   1    6\n",
       "2  22.8   1    4\n",
       "3  21.4   0    6\n",
       "4  18.7   0    8"
      ]
     },
     "execution_count": 76,
     "metadata": {},
     "output_type": "execute_result"
    }
   ],
   "source": [
    "mtcars = pd.read_csv(Path.cwd() / 'data' / 'mtcars.csv').loc[:, ['mpg', 'am', 'cyl']]\n",
    "mtcars.head()"
   ]
  },
  {
   "cell_type": "code",
   "execution_count": 78,
   "metadata": {},
   "outputs": [
    {
     "data": {
      "text/html": [
       "<table class=\"simpletable\">\n",
       "<caption>OLS Regression Results</caption>\n",
       "<tr>\n",
       "  <th>Dep. Variable:</th>           <td>mpg</td>       <th>  R-squared:         </th> <td>   0.788</td>\n",
       "</tr>\n",
       "<tr>\n",
       "  <th>Model:</th>                   <td>OLS</td>       <th>  Adj. R-squared:    </th> <td>   0.747</td>\n",
       "</tr>\n",
       "<tr>\n",
       "  <th>Method:</th>             <td>Least Squares</td>  <th>  F-statistic:       </th> <td>   19.29</td>\n",
       "</tr>\n",
       "<tr>\n",
       "  <th>Date:</th>             <td>Thu, 20 Jul 2023</td> <th>  Prob (F-statistic):</th> <td>5.18e-08</td>\n",
       "</tr>\n",
       "<tr>\n",
       "  <th>Time:</th>                 <td>18:07:10</td>     <th>  Log-Likelihood:    </th> <td> -77.582</td>\n",
       "</tr>\n",
       "<tr>\n",
       "  <th>No. Observations:</th>      <td>    32</td>      <th>  AIC:               </th> <td>   167.2</td>\n",
       "</tr>\n",
       "<tr>\n",
       "  <th>Df Residuals:</th>          <td>    26</td>      <th>  BIC:               </th> <td>   176.0</td>\n",
       "</tr>\n",
       "<tr>\n",
       "  <th>Df Model:</th>              <td>     5</td>      <th>                     </th>     <td> </td>   \n",
       "</tr>\n",
       "<tr>\n",
       "  <th>Covariance Type:</th>      <td>nonrobust</td>    <th>                     </th>     <td> </td>   \n",
       "</tr>\n",
       "</table>\n",
       "<table class=\"simpletable\">\n",
       "<tr>\n",
       "             <td></td>               <th>coef</th>     <th>std err</th>      <th>t</th>      <th>P>|t|</th>  <th>[0.025</th>    <th>0.975]</th>  \n",
       "</tr>\n",
       "<tr>\n",
       "  <th>Intercept</th>              <td>   22.9000</td> <td>    1.751</td> <td>   13.081</td> <td> 0.000</td> <td>   19.301</td> <td>   26.499</td>\n",
       "</tr>\n",
       "<tr>\n",
       "  <th>C(am)[T.1]</th>             <td>    5.1750</td> <td>    2.053</td> <td>    2.521</td> <td> 0.018</td> <td>    0.955</td> <td>    9.395</td>\n",
       "</tr>\n",
       "<tr>\n",
       "  <th>C(cyl)[T.6]</th>            <td>   -3.7750</td> <td>    2.316</td> <td>   -1.630</td> <td> 0.115</td> <td>   -8.535</td> <td>    0.985</td>\n",
       "</tr>\n",
       "<tr>\n",
       "  <th>C(cyl)[T.8]</th>            <td>   -7.8500</td> <td>    1.957</td> <td>   -4.011</td> <td> 0.000</td> <td>  -11.873</td> <td>   -3.827</td>\n",
       "</tr>\n",
       "<tr>\n",
       "  <th>C(am)[T.1]:C(cyl)[T.6]</th> <td>   -3.7333</td> <td>    3.095</td> <td>   -1.206</td> <td> 0.239</td> <td>  -10.095</td> <td>    2.628</td>\n",
       "</tr>\n",
       "<tr>\n",
       "  <th>C(am)[T.1]:C(cyl)[T.8]</th> <td>   -4.8250</td> <td>    3.095</td> <td>   -1.559</td> <td> 0.131</td> <td>  -11.186</td> <td>    1.536</td>\n",
       "</tr>\n",
       "</table>\n",
       "<table class=\"simpletable\">\n",
       "<tr>\n",
       "  <th>Omnibus:</th>       <td> 1.456</td> <th>  Durbin-Watson:     </th> <td>   1.671</td>\n",
       "</tr>\n",
       "<tr>\n",
       "  <th>Prob(Omnibus):</th> <td> 0.483</td> <th>  Jarque-Bera (JB):  </th> <td>   0.665</td>\n",
       "</tr>\n",
       "<tr>\n",
       "  <th>Skew:</th>          <td>-0.328</td> <th>  Prob(JB):          </th> <td>   0.717</td>\n",
       "</tr>\n",
       "<tr>\n",
       "  <th>Kurtosis:</th>      <td> 3.262</td> <th>  Cond. No.          </th> <td>    11.1</td>\n",
       "</tr>\n",
       "</table><br/><br/>Notes:<br/>[1] Standard Errors assume that the covariance matrix of the errors is correctly specified."
      ],
      "text/plain": [
       "<class 'statsmodels.iolib.summary.Summary'>\n",
       "\"\"\"\n",
       "                            OLS Regression Results                            \n",
       "==============================================================================\n",
       "Dep. Variable:                    mpg   R-squared:                       0.788\n",
       "Model:                            OLS   Adj. R-squared:                  0.747\n",
       "Method:                 Least Squares   F-statistic:                     19.29\n",
       "Date:                Thu, 20 Jul 2023   Prob (F-statistic):           5.18e-08\n",
       "Time:                        18:07:10   Log-Likelihood:                -77.582\n",
       "No. Observations:                  32   AIC:                             167.2\n",
       "Df Residuals:                      26   BIC:                             176.0\n",
       "Df Model:                           5                                         \n",
       "Covariance Type:            nonrobust                                         \n",
       "==========================================================================================\n",
       "                             coef    std err          t      P>|t|      [0.025      0.975]\n",
       "------------------------------------------------------------------------------------------\n",
       "Intercept                 22.9000      1.751     13.081      0.000      19.301      26.499\n",
       "C(am)[T.1]                 5.1750      2.053      2.521      0.018       0.955       9.395\n",
       "C(cyl)[T.6]               -3.7750      2.316     -1.630      0.115      -8.535       0.985\n",
       "C(cyl)[T.8]               -7.8500      1.957     -4.011      0.000     -11.873      -3.827\n",
       "C(am)[T.1]:C(cyl)[T.6]    -3.7333      3.095     -1.206      0.239     -10.095       2.628\n",
       "C(am)[T.1]:C(cyl)[T.8]    -4.8250      3.095     -1.559      0.131     -11.186       1.536\n",
       "==============================================================================\n",
       "Omnibus:                        1.456   Durbin-Watson:                   1.671\n",
       "Prob(Omnibus):                  0.483   Jarque-Bera (JB):                0.665\n",
       "Skew:                          -0.328   Prob(JB):                        0.717\n",
       "Kurtosis:                       3.262   Cond. No.                         11.1\n",
       "==============================================================================\n",
       "\n",
       "Notes:\n",
       "[1] Standard Errors assume that the covariance matrix of the errors is correctly specified.\n",
       "\"\"\""
      ]
     },
     "execution_count": 78,
     "metadata": {},
     "output_type": "execute_result"
    }
   ],
   "source": [
    "formula = 'mpg ~ C(am) + C(cyl) + C(am):C(cyl)'\n",
    "model = smfa.ols(formula, data=mtcars).fit()\n",
    "model.summary()"
   ]
  },
  {
   "cell_type": "code",
   "execution_count": 81,
   "metadata": {},
   "outputs": [
    {
     "data": {
      "text/html": [
       "<div>\n",
       "<style scoped>\n",
       "    .dataframe tbody tr th:only-of-type {\n",
       "        vertical-align: middle;\n",
       "    }\n",
       "\n",
       "    .dataframe tbody tr th {\n",
       "        vertical-align: top;\n",
       "    }\n",
       "\n",
       "    .dataframe thead th {\n",
       "        text-align: right;\n",
       "    }\n",
       "</style>\n",
       "<table border=\"1\" class=\"dataframe\">\n",
       "  <thead>\n",
       "    <tr style=\"text-align: right;\">\n",
       "      <th></th>\n",
       "      <th>sum_sq</th>\n",
       "      <th>df</th>\n",
       "      <th>F</th>\n",
       "      <th>PR(&gt;F)</th>\n",
       "    </tr>\n",
       "  </thead>\n",
       "  <tbody>\n",
       "    <tr>\n",
       "      <th>C(am)</th>\n",
       "      <td>36.766919</td>\n",
       "      <td>1.0</td>\n",
       "      <td>3.998759</td>\n",
       "      <td>5.608373e-02</td>\n",
       "    </tr>\n",
       "    <tr>\n",
       "      <th>C(cyl)</th>\n",
       "      <td>456.400921</td>\n",
       "      <td>2.0</td>\n",
       "      <td>24.819011</td>\n",
       "      <td>9.354735e-07</td>\n",
       "    </tr>\n",
       "    <tr>\n",
       "      <th>C(am):C(cyl)</th>\n",
       "      <td>25.436511</td>\n",
       "      <td>2.0</td>\n",
       "      <td>1.383233</td>\n",
       "      <td>2.686140e-01</td>\n",
       "    </tr>\n",
       "    <tr>\n",
       "      <th>Residual</th>\n",
       "      <td>239.059167</td>\n",
       "      <td>26.0</td>\n",
       "      <td>NaN</td>\n",
       "      <td>NaN</td>\n",
       "    </tr>\n",
       "  </tbody>\n",
       "</table>\n",
       "</div>"
      ],
      "text/plain": [
       "                  sum_sq    df          F        PR(>F)\n",
       "C(am)          36.766919   1.0   3.998759  5.608373e-02\n",
       "C(cyl)        456.400921   2.0  24.819011  9.354735e-07\n",
       "C(am):C(cyl)   25.436511   2.0   1.383233  2.686140e-01\n",
       "Residual      239.059167  26.0        NaN           NaN"
      ]
     },
     "execution_count": 81,
     "metadata": {},
     "output_type": "execute_result"
    }
   ],
   "source": [
    "# null hypo → no difference btw dependent, no interaction\n",
    "# when no interaction, difference btw dependent has meaning\n",
    "aov_table = anova_lm(model, typ=2)\n",
    "aov_table"
   ]
  },
  {
   "cell_type": "code",
   "execution_count": 84,
   "metadata": {},
   "outputs": [
    {
     "data": {
      "image/png": "[encoded data removed]",
      "text/plain": [
       "<Figure size 432x288 with 1 Axes>"
      ]
     },
     "metadata": {
      "needs_background": "light"
     },
     "output_type": "display_data"
    }
   ],
   "source": [
    "cyl = mtcars['cyl']\n",
    "am = mtcars['am']\n",
    "mpg = mtcars['mpg']\n",
    "# parameter_order = x1, x2, y\n",
    "fig = interaction_plot(cyl, am, mpg)"
   ]
  },
  {
   "cell_type": "code",
   "execution_count": 85,
   "metadata": {},
   "outputs": [
    {
     "data": {
      "text/html": [
       "<div>\n",
       "<style scoped>\n",
       "    .dataframe tbody tr th:only-of-type {\n",
       "        vertical-align: middle;\n",
       "    }\n",
       "\n",
       "    .dataframe tbody tr th {\n",
       "        vertical-align: top;\n",
       "    }\n",
       "\n",
       "    .dataframe thead th {\n",
       "        text-align: right;\n",
       "    }\n",
       "</style>\n",
       "<table border=\"1\" class=\"dataframe\">\n",
       "  <thead>\n",
       "    <tr style=\"text-align: right;\">\n",
       "      <th></th>\n",
       "      <th>survived</th>\n",
       "      <th>pclass</th>\n",
       "      <th>sex</th>\n",
       "      <th>age</th>\n",
       "      <th>sibsp</th>\n",
       "      <th>parch</th>\n",
       "      <th>fare</th>\n",
       "      <th>embarked</th>\n",
       "      <th>class</th>\n",
       "      <th>adult_male</th>\n",
       "      <th>embark_town</th>\n",
       "    </tr>\n",
       "  </thead>\n",
       "  <tbody>\n",
       "    <tr>\n",
       "      <th>0</th>\n",
       "      <td>0</td>\n",
       "      <td>3</td>\n",
       "      <td>male</td>\n",
       "      <td>22.0</td>\n",
       "      <td>1</td>\n",
       "      <td>0</td>\n",
       "      <td>7.2500</td>\n",
       "      <td>S</td>\n",
       "      <td>Third</td>\n",
       "      <td>True</td>\n",
       "      <td>Southampton</td>\n",
       "    </tr>\n",
       "    <tr>\n",
       "      <th>1</th>\n",
       "      <td>1</td>\n",
       "      <td>1</td>\n",
       "      <td>female</td>\n",
       "      <td>38.0</td>\n",
       "      <td>1</td>\n",
       "      <td>0</td>\n",
       "      <td>71.2833</td>\n",
       "      <td>C</td>\n",
       "      <td>First</td>\n",
       "      <td>False</td>\n",
       "      <td>Cherbourg</td>\n",
       "    </tr>\n",
       "    <tr>\n",
       "      <th>2</th>\n",
       "      <td>1</td>\n",
       "      <td>3</td>\n",
       "      <td>female</td>\n",
       "      <td>26.0</td>\n",
       "      <td>0</td>\n",
       "      <td>0</td>\n",
       "      <td>7.9250</td>\n",
       "      <td>S</td>\n",
       "      <td>Third</td>\n",
       "      <td>False</td>\n",
       "      <td>Southampton</td>\n",
       "    </tr>\n",
       "    <tr>\n",
       "      <th>3</th>\n",
       "      <td>1</td>\n",
       "      <td>1</td>\n",
       "      <td>female</td>\n",
       "      <td>35.0</td>\n",
       "      <td>1</td>\n",
       "      <td>0</td>\n",
       "      <td>53.1000</td>\n",
       "      <td>S</td>\n",
       "      <td>First</td>\n",
       "      <td>False</td>\n",
       "      <td>Southampton</td>\n",
       "    </tr>\n",
       "    <tr>\n",
       "      <th>4</th>\n",
       "      <td>0</td>\n",
       "      <td>3</td>\n",
       "      <td>male</td>\n",
       "      <td>35.0</td>\n",
       "      <td>0</td>\n",
       "      <td>0</td>\n",
       "      <td>8.0500</td>\n",
       "      <td>S</td>\n",
       "      <td>Third</td>\n",
       "      <td>True</td>\n",
       "      <td>Southampton</td>\n",
       "    </tr>\n",
       "  </tbody>\n",
       "</table>\n",
       "</div>"
      ],
      "text/plain": [
       "   survived  pclass     sex   age  sibsp  parch     fare embarked  class  \\\n",
       "0         0       3    male  22.0      1      0   7.2500        S  Third   \n",
       "1         1       1  female  38.0      1      0  71.2833        C  First   \n",
       "2         1       3  female  26.0      0      0   7.9250        S  Third   \n",
       "3         1       1  female  35.0      1      0  53.1000        S  First   \n",
       "4         0       3    male  35.0      0      0   8.0500        S  Third   \n",
       "\n",
       "   adult_male  embark_town  \n",
       "0        True  Southampton  \n",
       "1       False    Cherbourg  \n",
       "2       False  Southampton  \n",
       "3       False  Southampton  \n",
       "4        True  Southampton  "
      ]
     },
     "execution_count": 85,
     "metadata": {},
     "output_type": "execute_result"
    }
   ],
   "source": [
    "tit_df = pd.read_csv(Path.cwd() / 'data' / 'titanic.csv')\n",
    "tit_df.head()"
   ]
  },
  {
   "cell_type": "code",
   "execution_count": 88,
   "metadata": {},
   "outputs": [],
   "source": [
    "sex = ['female', 'male']"
   ]
  },
  {
   "cell_type": "code",
   "execution_count": 91,
   "metadata": {},
   "outputs": [
    {
     "data": {
      "text/plain": [
       "female    0.352413\n",
       "male      0.647587\n",
       "Name: sex, dtype: float64"
      ]
     },
     "execution_count": 91,
     "metadata": {},
     "output_type": "execute_result"
    }
   ],
   "source": [
    "tit_df.loc[:, 'sex'].value_counts(normalize=True, sort=False).reindex(sex)"
   ]
  },
  {
   "cell_type": "code",
   "execution_count": 94,
   "metadata": {},
   "outputs": [
    {
     "data": {
      "text/plain": [
       "342"
      ]
     },
     "execution_count": 94,
     "metadata": {},
     "output_type": "execute_result"
    }
   ],
   "source": [
    "tit_df.loc[tit_df['survived'] == 1, :].shape[0]"
   ]
  },
  {
   "cell_type": "code",
   "execution_count": 95,
   "metadata": {},
   "outputs": [],
   "source": [
    "exp = (tit_df.loc[:, 'sex'].value_counts(normalize=True, sort=False).reindex(sex) * tit_df.loc[tit_df['survived'] == 1, :].shape[0]).round(0)\n",
    "obs = tit_df.loc[tit_df['survived'] == 1, 'sex'].value_counts(sort=False).reindex(sex)"
   ]
  },
  {
   "cell_type": "code",
   "execution_count": 99,
   "metadata": {},
   "outputs": [
    {
     "data": {
      "text/plain": [
       "Power_divergenceResult(statistic=160.4296024830784, pvalue=9.115618306375346e-37)"
      ]
     },
     "execution_count": 99,
     "metadata": {},
     "output_type": "execute_result"
    }
   ],
   "source": [
    "ss.chisquare(obs, exp)"
   ]
  },
  {
   "cell_type": "code",
   "execution_count": 100,
   "metadata": {},
   "outputs": [
    {
     "data": {
      "text/html": [
       "<div>\n",
       "<style scoped>\n",
       "    .dataframe tbody tr th:only-of-type {\n",
       "        vertical-align: middle;\n",
       "    }\n",
       "\n",
       "    .dataframe tbody tr th {\n",
       "        vertical-align: top;\n",
       "    }\n",
       "\n",
       "    .dataframe thead th {\n",
       "        text-align: right;\n",
       "    }\n",
       "</style>\n",
       "<table border=\"1\" class=\"dataframe\">\n",
       "  <thead>\n",
       "    <tr style=\"text-align: right;\">\n",
       "      <th>survived</th>\n",
       "      <th>0</th>\n",
       "      <th>1</th>\n",
       "    </tr>\n",
       "    <tr>\n",
       "      <th>class</th>\n",
       "      <th></th>\n",
       "      <th></th>\n",
       "    </tr>\n",
       "  </thead>\n",
       "  <tbody>\n",
       "    <tr>\n",
       "      <th>First</th>\n",
       "      <td>80</td>\n",
       "      <td>136</td>\n",
       "    </tr>\n",
       "    <tr>\n",
       "      <th>Second</th>\n",
       "      <td>97</td>\n",
       "      <td>87</td>\n",
       "    </tr>\n",
       "    <tr>\n",
       "      <th>Third</th>\n",
       "      <td>372</td>\n",
       "      <td>119</td>\n",
       "    </tr>\n",
       "  </tbody>\n",
       "</table>\n",
       "</div>"
      ],
      "text/plain": [
       "survived    0    1\n",
       "class             \n",
       "First      80  136\n",
       "Second     97   87\n",
       "Third     372  119"
      ]
     },
     "execution_count": 100,
     "metadata": {},
     "output_type": "execute_result"
    }
   ],
   "source": [
    "table = pd.crosstab(tit_df['class'], tit_df['survived'])\n",
    "table"
   ]
  },
  {
   "cell_type": "code",
   "execution_count": 101,
   "metadata": {},
   "outputs": [
    {
     "data": {
      "text/plain": [
       "(102.88898875696056,\n",
       " 4.549251711298793e-23,\n",
       " 2,\n",
       " array([[133.09090909,  82.90909091],\n",
       "        [113.37373737,  70.62626263],\n",
       "        [302.53535354, 188.46464646]]))"
      ]
     },
     "execution_count": 101,
     "metadata": {},
     "output_type": "execute_result"
    }
   ],
   "source": [
    "chi2, p, ddof, expected = ss.chi2_contingency(table)\n",
    "chi2, p, ddof, expected"
   ]
  },
  {
   "cell_type": "code",
   "execution_count": 102,
   "metadata": {},
   "outputs": [
    {
     "data": {
      "text/html": [
       "<div>\n",
       "<style scoped>\n",
       "    .dataframe tbody tr th:only-of-type {\n",
       "        vertical-align: middle;\n",
       "    }\n",
       "\n",
       "    .dataframe tbody tr th {\n",
       "        vertical-align: top;\n",
       "    }\n",
       "\n",
       "    .dataframe thead th {\n",
       "        text-align: right;\n",
       "    }\n",
       "</style>\n",
       "<table border=\"1\" class=\"dataframe\">\n",
       "  <thead>\n",
       "    <tr style=\"text-align: right;\">\n",
       "      <th></th>\n",
       "      <th>id</th>\n",
       "      <th>date</th>\n",
       "      <th>price</th>\n",
       "      <th>bedrooms</th>\n",
       "      <th>bathrooms</th>\n",
       "      <th>sqft_living</th>\n",
       "      <th>sqft_lot</th>\n",
       "      <th>floors</th>\n",
       "      <th>waterfront</th>\n",
       "      <th>view</th>\n",
       "      <th>condition</th>\n",
       "      <th>grade</th>\n",
       "      <th>sqft_above</th>\n",
       "      <th>sqft_basement</th>\n",
       "      <th>yr_built</th>\n",
       "      <th>yr_renovated</th>\n",
       "      <th>sqft_living15</th>\n",
       "      <th>sqft_lot15</th>\n",
       "    </tr>\n",
       "  </thead>\n",
       "  <tbody>\n",
       "    <tr>\n",
       "      <th>0</th>\n",
       "      <td>7129300520</td>\n",
       "      <td>20141013T000000</td>\n",
       "      <td>221900.0</td>\n",
       "      <td>3</td>\n",
       "      <td>1.00</td>\n",
       "      <td>1180</td>\n",
       "      <td>5650</td>\n",
       "      <td>1.0</td>\n",
       "      <td>standard</td>\n",
       "      <td>0</td>\n",
       "      <td>3</td>\n",
       "      <td>7</td>\n",
       "      <td>1180</td>\n",
       "      <td>0</td>\n",
       "      <td>1955</td>\n",
       "      <td>0</td>\n",
       "      <td>1340</td>\n",
       "      <td>5650</td>\n",
       "    </tr>\n",
       "    <tr>\n",
       "      <th>1</th>\n",
       "      <td>6414100192</td>\n",
       "      <td>20141209T000000</td>\n",
       "      <td>538000.0</td>\n",
       "      <td>3</td>\n",
       "      <td>2.25</td>\n",
       "      <td>2570</td>\n",
       "      <td>7242</td>\n",
       "      <td>2.0</td>\n",
       "      <td>standard</td>\n",
       "      <td>0</td>\n",
       "      <td>3</td>\n",
       "      <td>7</td>\n",
       "      <td>2170</td>\n",
       "      <td>400</td>\n",
       "      <td>1951</td>\n",
       "      <td>1991</td>\n",
       "      <td>1690</td>\n",
       "      <td>7639</td>\n",
       "    </tr>\n",
       "    <tr>\n",
       "      <th>2</th>\n",
       "      <td>5631500400</td>\n",
       "      <td>20150225T000000</td>\n",
       "      <td>180000.0</td>\n",
       "      <td>2</td>\n",
       "      <td>1.00</td>\n",
       "      <td>770</td>\n",
       "      <td>10000</td>\n",
       "      <td>1.0</td>\n",
       "      <td>standard</td>\n",
       "      <td>0</td>\n",
       "      <td>3</td>\n",
       "      <td>6</td>\n",
       "      <td>770</td>\n",
       "      <td>0</td>\n",
       "      <td>1933</td>\n",
       "      <td>0</td>\n",
       "      <td>2720</td>\n",
       "      <td>8062</td>\n",
       "    </tr>\n",
       "    <tr>\n",
       "      <th>3</th>\n",
       "      <td>2487200875</td>\n",
       "      <td>20141209T000000</td>\n",
       "      <td>604000.0</td>\n",
       "      <td>4</td>\n",
       "      <td>3.00</td>\n",
       "      <td>1960</td>\n",
       "      <td>5000</td>\n",
       "      <td>1.0</td>\n",
       "      <td>standard</td>\n",
       "      <td>0</td>\n",
       "      <td>5</td>\n",
       "      <td>7</td>\n",
       "      <td>1050</td>\n",
       "      <td>910</td>\n",
       "      <td>1965</td>\n",
       "      <td>0</td>\n",
       "      <td>1360</td>\n",
       "      <td>5000</td>\n",
       "    </tr>\n",
       "    <tr>\n",
       "      <th>4</th>\n",
       "      <td>1954400510</td>\n",
       "      <td>20150218T000000</td>\n",
       "      <td>510000.0</td>\n",
       "      <td>3</td>\n",
       "      <td>2.00</td>\n",
       "      <td>1680</td>\n",
       "      <td>8080</td>\n",
       "      <td>1.0</td>\n",
       "      <td>standard</td>\n",
       "      <td>0</td>\n",
       "      <td>3</td>\n",
       "      <td>8</td>\n",
       "      <td>1680</td>\n",
       "      <td>0</td>\n",
       "      <td>1987</td>\n",
       "      <td>0</td>\n",
       "      <td>1800</td>\n",
       "      <td>7503</td>\n",
       "    </tr>\n",
       "  </tbody>\n",
       "</table>\n",
       "</div>"
      ],
      "text/plain": [
       "           id             date     price  bedrooms  bathrooms  sqft_living  \\\n",
       "0  7129300520  20141013T000000  221900.0         3       1.00         1180   \n",
       "1  6414100192  20141209T000000  538000.0         3       2.25         2570   \n",
       "2  5631500400  20150225T000000  180000.0         2       1.00          770   \n",
       "3  2487200875  20141209T000000  604000.0         4       3.00         1960   \n",
       "4  1954400510  20150218T000000  510000.0         3       2.00         1680   \n",
       "\n",
       "   sqft_lot  floors waterfront  view  condition  grade  sqft_above  \\\n",
       "0      5650     1.0   standard     0          3      7        1180   \n",
       "1      7242     2.0   standard     0          3      7        2170   \n",
       "2     10000     1.0   standard     0          3      6         770   \n",
       "3      5000     1.0   standard     0          5      7        1050   \n",
       "4      8080     1.0   standard     0          3      8        1680   \n",
       "\n",
       "   sqft_basement  yr_built  yr_renovated  sqft_living15  sqft_lot15  \n",
       "0              0      1955             0           1340        5650  \n",
       "1            400      1951          1991           1690        7639  \n",
       "2              0      1933             0           2720        8062  \n",
       "3            910      1965             0           1360        5000  \n",
       "4              0      1987             0           1800        7503  "
      ]
     },
     "execution_count": 102,
     "metadata": {},
     "output_type": "execute_result"
    }
   ],
   "source": [
    "house_df = pd.read_csv(Path.cwd() / 'data' / 'kc_house_data.csv')\n",
    "house_df.head()"
   ]
  },
  {
   "cell_type": "code",
   "execution_count": 104,
   "metadata": {},
   "outputs": [
    {
     "data": {
      "text/html": [
       "<div>\n",
       "<style scoped>\n",
       "    .dataframe tbody tr th:only-of-type {\n",
       "        vertical-align: middle;\n",
       "    }\n",
       "\n",
       "    .dataframe tbody tr th {\n",
       "        vertical-align: top;\n",
       "    }\n",
       "\n",
       "    .dataframe thead th {\n",
       "        text-align: right;\n",
       "    }\n",
       "</style>\n",
       "<table border=\"1\" class=\"dataframe\">\n",
       "  <thead>\n",
       "    <tr style=\"text-align: right;\">\n",
       "      <th></th>\n",
       "      <th>price</th>\n",
       "      <th>sqft_living</th>\n",
       "    </tr>\n",
       "  </thead>\n",
       "  <tbody>\n",
       "    <tr>\n",
       "      <th>0</th>\n",
       "      <td>221900.0</td>\n",
       "      <td>1180</td>\n",
       "    </tr>\n",
       "    <tr>\n",
       "      <th>1</th>\n",
       "      <td>538000.0</td>\n",
       "      <td>2570</td>\n",
       "    </tr>\n",
       "    <tr>\n",
       "      <th>2</th>\n",
       "      <td>180000.0</td>\n",
       "      <td>770</td>\n",
       "    </tr>\n",
       "    <tr>\n",
       "      <th>3</th>\n",
       "      <td>604000.0</td>\n",
       "      <td>1960</td>\n",
       "    </tr>\n",
       "    <tr>\n",
       "      <th>4</th>\n",
       "      <td>510000.0</td>\n",
       "      <td>1680</td>\n",
       "    </tr>\n",
       "  </tbody>\n",
       "</table>\n",
       "</div>"
      ],
      "text/plain": [
       "      price  sqft_living\n",
       "0  221900.0         1180\n",
       "1  538000.0         2570\n",
       "2  180000.0          770\n",
       "3  604000.0         1960\n",
       "4  510000.0         1680"
      ]
     },
     "execution_count": 104,
     "metadata": {},
     "output_type": "execute_result"
    }
   ],
   "source": [
    "house = house_df[['price', 'sqft_living']]\n",
    "house.head()"
   ]
  },
  {
   "cell_type": "code",
   "execution_count": 105,
   "metadata": {},
   "outputs": [
    {
     "data": {
      "text/html": [
       "<table class=\"simpletable\">\n",
       "<caption>OLS Regression Results</caption>\n",
       "<tr>\n",
       "  <th>Dep. Variable:</th>          <td>price</td>      <th>  R-squared:         </th>  <td>   0.493</td>  \n",
       "</tr>\n",
       "<tr>\n",
       "  <th>Model:</th>                   <td>OLS</td>       <th>  Adj. R-squared:    </th>  <td>   0.493</td>  \n",
       "</tr>\n",
       "<tr>\n",
       "  <th>Method:</th>             <td>Least Squares</td>  <th>  F-statistic:       </th>  <td>2.100e+04</td> \n",
       "</tr>\n",
       "<tr>\n",
       "  <th>Date:</th>             <td>Thu, 20 Jul 2023</td> <th>  Prob (F-statistic):</th>   <td>  0.00</td>   \n",
       "</tr>\n",
       "<tr>\n",
       "  <th>Time:</th>                 <td>21:17:43</td>     <th>  Log-Likelihood:    </th> <td>-3.0027e+05</td>\n",
       "</tr>\n",
       "<tr>\n",
       "  <th>No. Observations:</th>      <td> 21613</td>      <th>  AIC:               </th>  <td>6.005e+05</td> \n",
       "</tr>\n",
       "<tr>\n",
       "  <th>Df Residuals:</th>          <td> 21611</td>      <th>  BIC:               </th>  <td>6.006e+05</td> \n",
       "</tr>\n",
       "<tr>\n",
       "  <th>Df Model:</th>              <td>     1</td>      <th>                     </th>      <td> </td>     \n",
       "</tr>\n",
       "<tr>\n",
       "  <th>Covariance Type:</th>      <td>nonrobust</td>    <th>                     </th>      <td> </td>     \n",
       "</tr>\n",
       "</table>\n",
       "<table class=\"simpletable\">\n",
       "<tr>\n",
       "       <td></td>          <th>coef</th>     <th>std err</th>      <th>t</th>      <th>P>|t|</th>  <th>[0.025</th>    <th>0.975]</th>  \n",
       "</tr>\n",
       "<tr>\n",
       "  <th>Intercept</th>   <td>-4.358e+04</td> <td> 4402.690</td> <td>   -9.899</td> <td> 0.000</td> <td>-5.22e+04</td> <td> -3.5e+04</td>\n",
       "</tr>\n",
       "<tr>\n",
       "  <th>sqft_living</th> <td>  280.6236</td> <td>    1.936</td> <td>  144.920</td> <td> 0.000</td> <td>  276.828</td> <td>  284.419</td>\n",
       "</tr>\n",
       "</table>\n",
       "<table class=\"simpletable\">\n",
       "<tr>\n",
       "  <th>Omnibus:</th>       <td>14832.490</td> <th>  Durbin-Watson:     </th>  <td>   1.983</td> \n",
       "</tr>\n",
       "<tr>\n",
       "  <th>Prob(Omnibus):</th>  <td> 0.000</td>   <th>  Jarque-Bera (JB):  </th> <td>546444.713</td>\n",
       "</tr>\n",
       "<tr>\n",
       "  <th>Skew:</th>           <td> 2.824</td>   <th>  Prob(JB):          </th>  <td>    0.00</td> \n",
       "</tr>\n",
       "<tr>\n",
       "  <th>Kurtosis:</th>       <td>26.977</td>   <th>  Cond. No.          </th>  <td>5.63e+03</td> \n",
       "</tr>\n",
       "</table><br/><br/>Notes:<br/>[1] Standard Errors assume that the covariance matrix of the errors is correctly specified.<br/>[2] The condition number is large, 5.63e+03. This might indicate that there are<br/>strong multicollinearity or other numerical problems."
      ],
      "text/plain": [
       "<class 'statsmodels.iolib.summary.Summary'>\n",
       "\"\"\"\n",
       "                            OLS Regression Results                            \n",
       "==============================================================================\n",
       "Dep. Variable:                  price   R-squared:                       0.493\n",
       "Model:                            OLS   Adj. R-squared:                  0.493\n",
       "Method:                 Least Squares   F-statistic:                 2.100e+04\n",
       "Date:                Thu, 20 Jul 2023   Prob (F-statistic):               0.00\n",
       "Time:                        21:17:43   Log-Likelihood:            -3.0027e+05\n",
       "No. Observations:               21613   AIC:                         6.005e+05\n",
       "Df Residuals:                   21611   BIC:                         6.006e+05\n",
       "Df Model:                           1                                         \n",
       "Covariance Type:            nonrobust                                         \n",
       "===============================================================================\n",
       "                  coef    std err          t      P>|t|      [0.025      0.975]\n",
       "-------------------------------------------------------------------------------\n",
       "Intercept   -4.358e+04   4402.690     -9.899      0.000   -5.22e+04    -3.5e+04\n",
       "sqft_living   280.6236      1.936    144.920      0.000     276.828     284.419\n",
       "==============================================================================\n",
       "Omnibus:                    14832.490   Durbin-Watson:                   1.983\n",
       "Prob(Omnibus):                  0.000   Jarque-Bera (JB):           546444.713\n",
       "Skew:                           2.824   Prob(JB):                         0.00\n",
       "Kurtosis:                      26.977   Cond. No.                     5.63e+03\n",
       "==============================================================================\n",
       "\n",
       "Notes:\n",
       "[1] Standard Errors assume that the covariance matrix of the errors is correctly specified.\n",
       "[2] The condition number is large, 5.63e+03. This might indicate that there are\n",
       "strong multicollinearity or other numerical problems.\n",
       "\"\"\""
      ]
     },
     "execution_count": 105,
     "metadata": {},
     "output_type": "execute_result"
    }
   ],
   "source": [
    "formula = 'price ~ sqft_living'\n",
    "model = smfa.ols(formula, data=house).fit()\n",
    "model.summary()"
   ]
  },
  {
   "cell_type": "code",
   "execution_count": 106,
   "metadata": {},
   "outputs": [
    {
     "data": {
      "text/plain": [
       "Intercept     -43580.743094\n",
       "sqft_living      280.623568\n",
       "dtype: float64"
      ]
     },
     "execution_count": 106,
     "metadata": {},
     "output_type": "execute_result"
    }
   ],
   "source": [
    "model.params"
   ]
  },
  {
   "cell_type": "code",
   "execution_count": 108,
   "metadata": {},
   "outputs": [
    {
     "data": {
      "text/plain": [
       "<AxesSubplot:xlabel='sqft_living', ylabel='price'>"
      ]
     },
     "execution_count": 108,
     "metadata": {},
     "output_type": "execute_result"
    },
    {
     "data": {
      "image/png": "[encoded data removed]",
      "text/plain": [
       "<Figure size 432x288 with 1 Axes>"
      ]
     },
     "metadata": {
      "needs_background": "light"
     },
     "output_type": "display_data"
    }
   ],
   "source": [
    "# heteroscedasticity를 어떻게 처리?\n",
    "sns.residplot(house, x='sqft_living', y='price')"
   ]
  },
  {
   "cell_type": "code",
   "execution_count": 110,
   "metadata": {},
   "outputs": [
    {
     "data": {
      "text/plain": [
       "(<class 'statsmodels.iolib.summary.Summary'>\n",
       " \"\"\"\n",
       "                             GLS Regression Results                            \n",
       " ==============================================================================\n",
       " Dep. Variable:                  price   R-squared:                       0.493\n",
       " Model:                            GLS   Adj. R-squared:                  0.493\n",
       " Method:                 Least Squares   F-statistic:                 2.100e+04\n",
       " Date:                Thu, 20 Jul 2023   Prob (F-statistic):               0.00\n",
       " Time:                        21:22:00   Log-Likelihood:            -3.0027e+05\n",
       " No. Observations:               21613   AIC:                         6.005e+05\n",
       " Df Residuals:                   21611   BIC:                         6.006e+05\n",
       " Df Model:                           1                                         \n",
       " Covariance Type:            nonrobust                                         \n",
       " ===============================================================================\n",
       "                   coef    std err          t      P>|t|      [0.025      0.975]\n",
       " -------------------------------------------------------------------------------\n",
       " Intercept   -4.358e+04   4402.690     -9.899      0.000   -5.22e+04    -3.5e+04\n",
       " sqft_living   280.6236      1.936    144.920      0.000     276.828     284.419\n",
       " ==============================================================================\n",
       " Omnibus:                    14832.490   Durbin-Watson:                   1.983\n",
       " Prob(Omnibus):                  0.000   Jarque-Bera (JB):           546444.713\n",
       " Skew:                           2.824   Prob(JB):                         0.00\n",
       " Kurtosis:                      26.977   Cond. No.                     5.63e+03\n",
       " ==============================================================================\n",
       " \n",
       " Notes:\n",
       " [1] Standard Errors assume that the covariance matrix of the errors is correctly specified.\n",
       " [2] The condition number is large, 5.63e+03. This might indicate that there are\n",
       " strong multicollinearity or other numerical problems.\n",
       " \"\"\",\n",
       " Intercept     -43580.743094\n",
       " sqft_living      280.623568\n",
       " dtype: float64)"
      ]
     },
     "execution_count": 110,
     "metadata": {},
     "output_type": "execute_result"
    }
   ],
   "source": [
    "formula = 'price ~ sqft_living'\n",
    "model = smfa.gls(formula, data=house).fit()\n",
    "model.summary(), model.params"
   ]
  },
  {
   "cell_type": "code",
   "execution_count": 111,
   "metadata": {},
   "outputs": [
    {
     "name": "stderr",
     "output_type": "stream",
     "text": [
      "C:\\Users\\admin\\AppData\\Roaming\\Python\\Python310\\site-packages\\scipy\\stats\\morestats.py:1760: UserWarning: p-value may not be accurate for N > 5000.\n",
      "  warnings.warn(\"p-value may not be accurate for N > 5000.\")\n"
     ]
    },
    {
     "data": {
      "text/plain": [
       "ShapiroResult(statistic=0.7120139598846436, pvalue=0.0)"
      ]
     },
     "execution_count": 111,
     "metadata": {},
     "output_type": "execute_result"
    }
   ],
   "source": [
    "ss.shapiro(house['price'])"
   ]
  },
  {
   "cell_type": "code",
   "execution_count": null,
   "metadata": {},
   "outputs": [],
   "source": []
  }
 ],
 "metadata": {
  "kernelspec": {
   "display_name": "base",
   "language": "python",
   "name": "python3"
  },
  "language_info": {
   "codemirror_mode": {
    "name": "ipython",
    "version": 3
   },
   "file_extension": ".py",
   "mimetype": "text/x-python",
   "name": "python",
   "nbconvert_exporter": "python",
   "pygments_lexer": "ipython3",
   "version": "3.10.9"
  },
  "orig_nbformat": 4
 },
 "nbformat": 4,
 "nbformat_minor": 2
}
