{
 "cells": [
  {
   "cell_type": "code",
   "execution_count": 1,
   "metadata": {},
   "outputs": [
    {
     "name": "stdout",
     "output_type": "stream",
     "text": [
      "WARN: Could not locate executable g77\n",
      "WARN: Could not locate executable f77\n",
      "WARN: Could not locate executable ifort\n",
      "WARN: Could not locate executable ifl\n",
      "WARN: Could not locate executable f90\n",
      "WARN: Could not locate executable DF\n",
      "WARN: Could not locate executable efl\n",
      "WARN: Could not locate executable gfortran\n",
      "WARN: Could not locate executable f95\n",
      "WARN: Could not locate executable g95\n",
      "WARN: Could not locate executable efort\n",
      "WARN: Could not locate executable efc\n",
      "WARN: Could not locate executable flang\n",
      "WARN: don't know how to compile Fortran code on platform 'nt'\n"
     ]
    },
    {
     "name": "stderr",
     "output_type": "stream",
     "text": [
      "WARNING (theano.configdefaults): g++ not available, if using conda: `conda install m2w64-toolchain`\n",
      "WARNING (theano.configdefaults): g++ not detected ! Theano will be unable to execute optimized C-implementations (for both CPU and GPU) and will default to Python implementations. Performance will be severely degraded. To remove this warning, set Theano flags cxx to an empty string.\n",
      "WARNING (theano.tensor.blas): Using NumPy C-API based implementation for BLAS functions.\n"
     ]
    }
   ],
   "source": [
    "from pathlib import Path\n",
    "import pandas as pd\n",
    "import numpy as np\n",
    "import scipy.stats as ss\n",
    "from scipy.interpolate import interp1d\n",
    "from scipy.special import expit\n",
    "from fractions import Fraction\n",
    "from empiricaldist import Pmf, Cdf\n",
    "import matplotlib.pyplot as plt\n",
    "from collections import Counter\n",
    "import statsmodels.formula.api as smfa\n",
    "import pymc3 as pm\n",
    "import arviz as az"
   ]
  },
  {
   "cell_type": "code",
   "execution_count": 2,
   "metadata": {},
   "outputs": [],
   "source": [
    "from data.utils import pmf_from_dist, plot_cdf, plot_pred"
   ]
  },
  {
   "cell_type": "code",
   "execution_count": 3,
   "metadata": {},
   "outputs": [],
   "source": [
    "alpha = 1.4\n",
    "beta = 1\n",
    "prior_dist = ss.gamma(alpha, scale=1/beta)"
   ]
  },
  {
   "cell_type": "code",
   "execution_count": 4,
   "metadata": {},
   "outputs": [
    {
     "data": {
      "text/plain": [
       "array([0.72967269, 0.85536725, 4.58163742, 1.07839088, 0.88862547,\n",
       "       0.01939092, 0.79125231, 0.24867703, 0.77631926, 1.36685422,\n",
       "       1.91608813, 1.22167942, 1.73705872, 2.74430662, 1.73789747,\n",
       "       0.85530625, 0.84652955, 0.97260508, 2.84722228, 2.4226558 ,\n",
       "       0.65779137, 1.74986291, 1.87392658, 4.12176738, 1.53680422,\n",
       "       0.79074888, 0.25198803, 1.50669782, 1.63286347, 1.92865536,\n",
       "       1.32682834, 1.61200725, 0.36673512, 0.97952936, 3.89603888,\n",
       "       4.35714094, 2.55669844, 0.88461643, 2.80973579, 2.38144719,\n",
       "       0.81451408, 0.6938657 , 2.3287684 , 4.70249989, 0.32592547,\n",
       "       0.59429347, 0.46110451, 0.37953524, 0.40263795, 0.83290933,\n",
       "       1.94033488, 2.8711983 , 1.48165286, 1.02494857, 0.31161646,\n",
       "       1.31214356, 1.96171365, 2.14967796, 3.0623017 , 1.10086306,\n",
       "       0.45243132, 2.30085667, 0.8174642 , 4.68628932, 1.92935948,\n",
       "       3.50253875, 0.42360225, 0.58605271, 1.05483228, 1.2630059 ,\n",
       "       4.49820693, 1.68631515, 0.08042457, 5.29647421, 1.94713453,\n",
       "       0.57957774, 0.09160573, 0.36934092, 0.33800395, 0.25986144,\n",
       "       1.35689011, 0.87010277, 0.81406199, 0.40133262, 1.19463986,\n",
       "       1.14311101, 0.20918023, 0.37731595, 1.30770077, 0.43519938,\n",
       "       0.08648615, 2.20907486, 0.90589726, 3.20772936, 0.3894724 ,\n",
       "       6.08074928, 0.97845536, 1.24098312, 2.45438721, 0.62201484,\n",
       "       0.3403802 , 0.93022473, 2.51873239, 1.45787869, 4.20526537,\n",
       "       1.23509369, 2.05360904, 0.41211018, 0.80144131, 3.38272545,\n",
       "       0.44680537, 1.1995028 , 0.4225317 , 0.86750689, 3.12870208,\n",
       "       0.75512424, 1.46012249, 0.61511565, 3.67340627, 1.05770139,\n",
       "       3.4535445 , 0.63906595, 0.49874514, 0.67643396, 0.14192368,\n",
       "       7.68721968, 3.72096301, 0.21590274, 3.18249747, 2.86937689,\n",
       "       0.97367002, 0.1380012 , 1.56964736, 1.12705542, 2.88980118,\n",
       "       2.0968216 , 0.90303219, 2.41167817, 0.46918622, 0.1276873 ,\n",
       "       0.40757668, 1.45416327, 0.60227365, 0.76537913, 1.76899498,\n",
       "       1.19379126, 1.1917599 , 0.52375525, 2.39154543, 0.76263707,\n",
       "       0.11568442, 1.02055695, 0.03314514, 1.01757272, 0.35972293,\n",
       "       1.16779308, 1.57732489, 0.83472046, 2.56389489, 2.05087422,\n",
       "       0.53948479, 4.16456154, 1.40364631, 1.22932596, 1.23904675,\n",
       "       1.00807499, 0.72106239, 1.1876848 , 0.43630751, 0.09260587,\n",
       "       0.25841729, 1.20578689, 2.68646706, 0.33938459, 1.89619687,\n",
       "       1.95776639, 2.52327878, 0.20720383, 0.27288515, 0.78169715,\n",
       "       5.25396178, 0.32276588, 2.61688254, 0.24910246, 0.49409262,\n",
       "       1.60244576, 2.83656667, 1.21615088, 0.48634724, 0.27434835,\n",
       "       0.4603113 , 2.06711532, 0.73748167, 1.29163682, 2.8834168 ,\n",
       "       0.18153294, 0.07831135, 1.063857  , 0.87975209, 1.01269768,\n",
       "       1.92111007, 1.6155291 , 0.70709941, 2.47762397, 1.1936671 ,\n",
       "       1.32281409, 2.19287137, 1.24627806, 1.37707497, 2.90405828,\n",
       "       0.13888843, 3.31247927, 1.85270085, 1.64407009, 4.39010017,\n",
       "       0.42446135, 3.55822721, 0.3876633 , 0.32547261, 0.83874573,\n",
       "       1.04599182, 0.13801044, 0.70936208, 3.41045274, 1.49725948,\n",
       "       1.28574534, 1.00929879, 0.30827623, 0.09843232, 0.55813454,\n",
       "       0.49774953, 2.73517567, 2.17442511, 0.30165843, 0.91545196,\n",
       "       1.39606624, 0.33677603, 1.34418315, 0.94720167, 0.73580846,\n",
       "       1.11821142, 2.03045105, 0.81594034, 0.87080341, 0.9790141 ,\n",
       "       2.0376246 , 2.2296318 , 0.92555702, 2.48188729, 0.44985658,\n",
       "       1.61424287, 1.39983441, 2.36671852, 0.46981452, 2.34385123,\n",
       "       0.65552073, 0.24132547, 1.72544923, 1.85223304, 2.66701755,\n",
       "       0.60145779, 3.4836504 , 1.65984588, 0.76102246, 1.02168495,\n",
       "       0.31788627, 1.28332592, 0.24807358, 2.90631623, 0.63134226,\n",
       "       1.34267631, 0.82373812, 0.20934909, 1.51583433, 2.03895859,\n",
       "       1.63016225, 0.50368865, 2.05941529, 0.26354935, 1.84177415,\n",
       "       1.19768512, 0.14931918, 2.35532557, 1.30196004, 1.40836346,\n",
       "       1.90694305, 4.46446705, 2.09765407, 2.38144313, 2.1608432 ,\n",
       "       2.90119532, 0.4538968 , 0.49222261, 0.50941539, 0.96937703,\n",
       "       0.69829809, 1.76941601, 0.35995269, 0.55959468, 1.74448874,\n",
       "       0.31031244, 1.45228091, 1.07878871, 3.00708105, 3.315684  ,\n",
       "       0.15522839, 4.00536034, 0.64506082, 0.33954038, 0.5583364 ,\n",
       "       0.72584301, 2.28503606, 1.59396873, 0.3997761 , 1.5589254 ,\n",
       "       4.94327692, 1.99786508, 1.99506318, 0.16258221, 1.13596757,\n",
       "       0.50793447, 1.22817448, 0.61489301, 1.67028089, 1.5771249 ,\n",
       "       0.15469128, 0.30362956, 1.8421434 , 1.83166665, 3.01129363,\n",
       "       0.80121103, 0.22273526, 1.79744499, 1.21108874, 1.23346049,\n",
       "       1.23067441, 1.91873234, 2.09381444, 5.09719601, 0.56319723,\n",
       "       1.12230468, 2.51921499, 1.80598495, 2.58531241, 0.96247689,\n",
       "       1.57682812, 0.88072945, 1.34335864, 0.31001859, 0.21432489,\n",
       "       2.93413206, 1.6812799 , 0.36127602, 0.98670184, 1.76168091,\n",
       "       1.08670164, 2.1584416 , 1.6822889 , 1.55817583, 1.21723309,\n",
       "       3.76702117, 0.1266646 , 0.10157416, 1.43923275, 2.49575977,\n",
       "       2.33785372, 0.66882438, 1.12896406, 1.30681478, 1.79006946,\n",
       "       3.29792809, 2.87866277, 0.90750287, 0.71101318, 1.36770346,\n",
       "       2.62656425, 3.72957607, 1.22437085, 1.81776121, 0.6136868 ,\n",
       "       1.45431155, 7.18729759, 0.58631072, 0.92540506, 0.61159681,\n",
       "       1.39347503, 0.98233386, 1.67427237, 2.61155784, 2.21555024,\n",
       "       0.23719959, 5.8830453 , 1.47790996, 2.54809177, 0.90239964,\n",
       "       1.63807638, 2.20988767, 1.77956043, 1.85321023, 1.36614442,\n",
       "       0.82150598, 2.45531359, 0.19386597, 2.01159471, 3.83272915,\n",
       "       1.01090887, 1.72252275, 0.28629929, 1.66054185, 3.01460968,\n",
       "       0.39015996, 0.55692362, 2.46860163, 2.13079469, 2.75769645,\n",
       "       0.62169486, 0.10235964, 1.49423454, 0.2227814 , 0.77184079,\n",
       "       4.29566152, 1.26226697, 2.24978856, 3.51296045, 0.34300339,\n",
       "       0.08710921, 0.92609471, 0.82622793, 1.22897092, 0.6952547 ,\n",
       "       0.53403181, 0.87607804, 1.62205837, 0.81721227, 0.95578583,\n",
       "       1.74095751, 0.78810995, 0.27456176, 1.40601264, 1.63095029,\n",
       "       1.62009954, 1.10584677, 0.63086776, 0.68322918, 1.89908175,\n",
       "       1.00103645, 0.04896203, 1.74298449, 0.75841623, 0.50109412,\n",
       "       0.70071607, 0.8261115 , 2.89274741, 2.07609303, 3.75360558,\n",
       "       0.41757336, 0.24489823, 3.49105863, 1.25877161, 0.16666048,\n",
       "       1.64676662, 0.96294715, 0.17259404, 4.08395867, 1.22584812,\n",
       "       0.29418749, 4.84571624, 1.75358962, 0.2462367 , 0.01356181,\n",
       "       0.20594897, 1.53315654, 1.00126412, 0.39578802, 1.43592693,\n",
       "       1.34034485, 2.01145064, 0.4351914 , 1.54556991, 0.793456  ,\n",
       "       2.20426798, 0.44221253, 3.14441887, 0.6266921 , 3.40140111,\n",
       "       2.41728995, 2.00105151, 1.12215807, 0.70250062, 1.04575789,\n",
       "       4.06118742, 2.39111755, 0.40903666, 2.30380568, 0.94962541,\n",
       "       0.31747859, 0.38528301, 0.52673243, 0.46764598, 1.70239034,\n",
       "       3.21652038, 0.39853773, 0.8801733 , 0.82016948, 2.42636343,\n",
       "       1.17870627, 2.52035663, 0.24650566, 0.6658772 , 4.88921459,\n",
       "       1.10090124, 2.47309859, 0.27681458, 1.9884966 , 1.30931985,\n",
       "       0.51204122, 0.66181867, 0.71876784, 1.06787986, 1.46360188,\n",
       "       2.19959295, 0.53398619, 0.34571189, 0.96223704, 0.270231  ,\n",
       "       2.15073315, 1.00327616, 3.72765247, 1.78561399, 0.75829963,\n",
       "       1.8606926 , 1.04237972, 0.68566328, 1.37310885, 1.07285203,\n",
       "       0.51671783, 0.2663326 , 0.36013683, 1.31110027, 1.11484227,\n",
       "       1.30030665, 1.52763065, 0.41796332, 3.29240819, 0.64248213,\n",
       "       1.43675166, 2.77686684, 1.65366762, 2.58568622, 0.96011785,\n",
       "       0.82913256, 1.93370087, 0.92886483, 0.68907698, 2.98936128,\n",
       "       1.891054  , 1.4493221 , 1.12170209, 2.11547728, 1.62956441,\n",
       "       1.23683185, 1.30604359, 0.70387199, 0.54021615, 2.9876263 ,\n",
       "       0.46610793, 1.01662237, 0.00813025, 5.43160219, 0.74970252,\n",
       "       0.34955176, 1.73837724, 1.78442863, 4.38025926, 3.36837966,\n",
       "       0.4435361 , 2.26200309, 1.08083872, 0.21327382, 2.1039815 ,\n",
       "       0.68970653, 4.34246801, 2.62686216, 1.712008  , 3.18063812,\n",
       "       2.30592735, 0.18495461, 1.65458082, 1.56276487, 1.25965394,\n",
       "       3.81418426, 0.83381828, 1.90520735, 0.48435231, 1.61096974,\n",
       "       0.02592768, 3.23546087, 2.21367921, 0.85440119, 0.36867106,\n",
       "       3.65219721, 0.43587176, 0.26579246, 0.38045951, 0.17290596,\n",
       "       1.19817242, 4.09857751, 3.63621167, 1.89482983, 0.95344435,\n",
       "       0.53918522, 0.09670375, 0.57829209, 0.40414176, 0.43994976,\n",
       "       4.73131545, 1.73141582, 1.29469204, 0.98567549, 1.59469105,\n",
       "       1.44822236, 0.62023591, 2.0355027 , 0.46877308, 1.94641507,\n",
       "       0.42707102, 1.75506568, 0.18605703, 0.84045245, 0.48762865,\n",
       "       0.66280221, 1.07521777, 1.95235131, 1.75468372, 4.76536661,\n",
       "       0.53396475, 1.08642196, 0.52830572, 0.72073444, 0.51662325,\n",
       "       0.18624765, 1.31781397, 0.21631928, 0.40818666, 2.02923823,\n",
       "       4.50147411, 0.79517396, 1.66514206, 0.29944248, 1.02868291,\n",
       "       0.65181537, 0.57060976, 0.75937024, 1.91270577, 2.55762847,\n",
       "       0.95921709, 5.78202575, 3.46707816, 0.38122333, 2.49590786,\n",
       "       0.14296262, 0.40612052, 0.87824298, 1.34761775, 1.50283392,\n",
       "       2.05476869, 0.46456312, 0.78143323, 1.46292929, 3.0222462 ,\n",
       "       2.31820659, 2.24141366, 1.5767505 , 1.995378  , 0.98272646,\n",
       "       2.26544152, 1.40021712, 0.80235662, 1.84784219, 0.20878092,\n",
       "       0.31466334, 0.8861576 , 0.84698317, 0.99861337, 0.05352517,\n",
       "       1.75150404, 2.94931254, 0.35874289, 2.21106514, 2.52401085,\n",
       "       2.10041717, 2.02356649, 2.18025464, 0.45027337, 0.33542637,\n",
       "       1.306586  , 1.61694403, 0.83246225, 2.52347627, 1.05286463,\n",
       "       0.51079139, 0.59466576, 3.35083525, 0.38735194, 1.57755121,\n",
       "       2.43517557, 0.85264896, 1.87452231, 4.30436098, 0.3367203 ,\n",
       "       0.28096395, 0.41076695, 2.77134854, 1.98686867, 0.30250588,\n",
       "       1.0902926 , 0.49417261, 0.40737663, 0.36085533, 4.94928977,\n",
       "       0.23563663, 0.52362769, 0.65763207, 0.77697417, 1.78178295,\n",
       "       1.2647544 , 3.20830696, 1.40791626, 0.88715968, 2.64056116,\n",
       "       2.14666286, 0.9904376 , 3.38012851, 0.77747934, 1.01562949,\n",
       "       1.76787705, 1.64674574, 3.84750231, 0.3066504 , 1.3812736 ,\n",
       "       3.99549663, 0.39883078, 0.28061953, 0.35853996, 4.0471394 ,\n",
       "       1.79637652, 0.56327038, 2.13737843, 1.79908468, 0.66498839,\n",
       "       0.55965436, 2.370892  , 0.08782914, 2.39318041, 0.66720788,\n",
       "       2.57154655, 0.87828871, 0.44786661, 1.25491555, 0.80611535,\n",
       "       0.60591615, 2.27429286, 2.83603137, 0.40112391, 0.92538517,\n",
       "       1.24652019, 2.07342646, 0.82425173, 0.73097757, 0.21819341,\n",
       "       1.82882848, 0.57774591, 2.1658731 , 0.68317722, 2.91240719,\n",
       "       0.51092805, 0.11877067, 0.47719055, 1.68671967, 3.12936765,\n",
       "       0.3367511 , 1.31110598, 1.00680344, 0.45179621, 0.3451927 ,\n",
       "       0.14903056, 1.19130997, 4.99117848, 0.26100707, 0.26158095,\n",
       "       1.00621994, 5.34945747, 0.20763271, 0.30339455, 0.69563388,\n",
       "       1.76360691, 1.92992794, 3.10600801, 0.75695749, 1.24509647,\n",
       "       0.82807657, 1.62794201, 0.10497134, 0.18946775, 0.22720574,\n",
       "       0.96944917, 1.12074546, 0.78940006, 3.93305718, 1.02009826,\n",
       "       2.20639113, 0.77558372, 1.66152444, 3.65106128, 0.12204741,\n",
       "       0.12853531, 2.43280945, 0.34841155, 1.50884375, 2.24075419,\n",
       "       0.1500933 , 1.71535351, 1.0202539 , 1.44983331, 1.37119707,\n",
       "       0.12367734, 2.13228938, 2.4997976 , 4.04416089, 0.53741985,\n",
       "       0.67519469, 1.23965582, 3.05472171, 1.24504251, 0.2971937 ,\n",
       "       2.30927628, 0.32363696, 0.66617347, 1.29873864, 0.94648684,\n",
       "       0.39110874, 0.56246513, 1.59276795, 0.74999781, 0.29026468,\n",
       "       0.57054727, 1.28787955, 3.06548916, 0.29442313, 3.88222098,\n",
       "       2.01437238, 0.07241215, 0.47993222, 1.96986311, 3.04780263,\n",
       "       2.24684191, 0.844097  , 1.00269089, 0.36722096, 3.2098085 ,\n",
       "       2.37277716, 1.08224121, 1.30835948, 1.64179469, 1.36948488,\n",
       "       1.68901434, 0.63435472, 1.93308159, 0.17451436, 0.65909852,\n",
       "       2.74206468, 4.02883953, 0.47412974, 0.45157087, 2.16274448,\n",
       "       2.03079053, 2.79627445, 0.25235022, 1.04401117, 0.52664711,\n",
       "       0.68498251, 0.82284536, 0.50529327, 2.81602768, 2.38101654,\n",
       "       1.84130204, 1.25683543, 0.44781902, 0.34254937, 1.1627957 ,\n",
       "       0.14984522, 2.10618291, 0.21733056, 0.26433952, 0.47015353,\n",
       "       2.95977855, 0.25742751, 4.38021878, 0.1076275 , 1.16283075,\n",
       "       1.25216481, 2.0050969 , 0.96410462, 1.99129049, 0.66627062,\n",
       "       0.12366183, 2.47418021, 0.13461838, 1.56386021, 0.58622012,\n",
       "       1.21130299, 1.21110636, 4.02572766, 0.16968325, 0.95973325,\n",
       "       1.73178266, 2.07855025, 0.24957195, 1.30055023, 2.12013787,\n",
       "       1.14206922, 2.12490311, 0.55490411, 1.20405624, 1.345483  ,\n",
       "       0.6487926 , 0.48123938, 0.4065281 , 0.46639464, 4.18350557,\n",
       "       0.34243592, 1.44518392, 2.14774658, 0.09194645, 2.96340083,\n",
       "       0.2193342 , 0.10534604, 0.04670572, 1.37080947, 0.38506269,\n",
       "       0.28481024, 0.81317754, 1.55770724, 0.27384975, 2.03374465,\n",
       "       1.17404165, 4.30566622, 0.1803458 , 0.49264278, 0.4353152 ,\n",
       "       1.47562604, 1.27957344, 1.92933799, 0.61016927, 0.73883184,\n",
       "       0.17084321, 5.92859292, 1.44918255, 1.6254474 , 0.7557188 ,\n",
       "       2.31001162, 2.55347172, 0.83825638, 3.42896222, 0.61764837,\n",
       "       0.52797069, 0.32598063, 1.10980587, 1.12121454, 0.19107735,\n",
       "       1.21789855, 0.55849752, 0.50366416, 1.30853508, 1.36011892,\n",
       "       2.83715058, 3.42721676, 0.93666708, 0.29340905, 0.80310646,\n",
       "       0.90834019, 3.02935182, 3.4740651 , 0.1630778 , 3.01313751,\n",
       "       1.52528952, 0.80848233, 1.29543731, 1.90508605, 0.60218622,\n",
       "       2.54088936, 5.69613423, 0.51489431, 1.06227879, 0.655686  ,\n",
       "       1.4623718 , 2.61856985, 0.54537144, 1.36907889, 2.15051267])"
      ]
     },
     "execution_count": 4,
     "metadata": {},
     "output_type": "execute_result"
    }
   ],
   "source": [
    "sample_prior = prior_dist.rvs(1000)\n",
    "sample_prior"
   ]
  },
  {
   "cell_type": "code",
   "execution_count": 5,
   "metadata": {},
   "outputs": [
    {
     "data": {
      "text/plain": [
       "array([ 0,  1,  4,  2,  1,  0,  0,  0,  4,  1,  0,  0,  1,  4,  1,  2,  2,\n",
       "        2,  4,  3,  2,  3,  1,  3,  5,  0,  0,  1,  2,  0,  0,  3,  0,  0,\n",
       "        5,  2,  2,  0,  0,  3,  2,  0,  2,  5,  2,  0,  0,  0,  0,  0,  3,\n",
       "        4,  1,  0,  0,  1,  1,  1,  8,  0,  0,  2,  3,  4,  0,  3,  0,  0,\n",
       "        0,  0,  4,  1,  0,  9,  2,  0,  0,  0,  1,  0,  2,  0,  0,  0,  2,\n",
       "        1,  0,  0,  2,  0,  0,  1,  2,  6,  0,  9,  2,  2,  2,  1,  0,  2,\n",
       "        3,  4,  6,  4,  2,  0,  2,  6,  1,  0,  2,  0,  3,  0,  1,  0,  1,\n",
       "        0,  3,  0,  2,  1,  0,  1,  1,  0,  3,  1,  0,  0,  1,  4,  0,  3,\n",
       "        0,  3,  3,  0,  0,  3,  2,  2,  2,  0,  2,  2,  1,  0,  0,  3,  0,\n",
       "        1,  0,  1,  3,  0,  4,  0,  1,  7,  3,  1,  2,  0,  1,  2,  0,  2,\n",
       "        0,  2,  6,  0,  1,  0,  2,  0,  2,  0,  8,  0,  2,  0,  1,  1,  2,\n",
       "        0,  0,  0,  1,  2,  1,  1,  1,  0,  0,  1,  0,  0,  2,  1,  0,  2,\n",
       "        1,  1,  3,  2,  2,  3,  0,  3,  0,  4,  3,  1,  3,  0,  0,  0,  2,\n",
       "        0,  1,  2,  1,  2,  0,  0,  0,  0,  0,  5,  1,  0,  0,  1,  0,  3,\n",
       "        2,  2,  0,  2,  1,  1,  0,  1,  3,  0,  1,  1,  3,  5,  0,  0,  0,\n",
       "        0,  0,  1,  0,  3,  0,  1,  1,  1,  3,  0,  1,  0,  1,  1,  2,  0,\n",
       "        1,  2,  2,  1,  0,  3,  0,  0,  1,  0,  4,  2,  0,  3,  4,  2,  1,\n",
       "        2,  5,  0,  1,  0,  2,  1,  0,  0,  1,  5,  0,  1,  0,  5,  3,  1,\n",
       "        3,  0,  0,  3,  1,  3,  4,  3,  0,  8,  2,  1,  0,  1,  0,  0,  2,\n",
       "        0,  2,  0,  0,  4,  4,  4,  1,  0,  2,  3,  0,  0,  0,  1,  6,  0,\n",
       "        1,  1,  1,  2,  2,  1,  1,  0,  0,  1,  3,  2,  0,  2,  2,  1,  2,\n",
       "        1,  2,  1,  6,  0,  0,  3,  0,  7,  0,  2,  2,  3,  1,  1,  0,  1,\n",
       "        0,  3,  1,  0,  2,  2,  1,  6,  0,  0,  0,  0,  1,  1,  3,  5,  0,\n",
       "       10,  1,  5,  1,  1,  2,  1,  2,  0,  1,  1,  0,  1,  3,  0,  2,  0,\n",
       "        2,  2,  0,  0,  7,  3,  0,  0,  0,  1,  0,  0,  2,  1,  3,  5,  0,\n",
       "        1,  0,  1,  2,  2,  1,  1,  2,  0,  0,  3,  0,  0,  1,  3,  1,  3,\n",
       "        0,  0,  1,  0,  0,  1,  3,  0,  1,  0,  1,  2,  3,  0,  0,  2,  0,\n",
       "        0,  0,  0,  0,  3,  0,  0,  6,  1,  0,  0,  0,  1,  4,  0,  2,  2,\n",
       "        3,  1,  4,  0,  1,  1,  3,  0,  6,  3,  3,  0,  0,  2,  1,  4,  1,\n",
       "        3,  0,  0,  0,  1,  0,  0,  5,  1,  0,  3,  3,  0,  3,  0,  0,  8,\n",
       "        0,  3,  0,  4,  4,  0,  0,  2,  2,  1,  1,  0,  0,  2,  0,  3,  0,\n",
       "        3,  0,  1,  3,  3,  1,  1,  2,  1,  0,  1,  2,  3,  0,  1,  0,  1,\n",
       "        1,  1,  2,  4,  1,  2,  2,  1,  1,  0,  2,  1,  3,  0,  1,  1,  1,\n",
       "        1,  1,  0,  2,  1,  0,  0,  4,  0,  0,  4,  0,  2,  2,  1,  4,  1,\n",
       "        0,  1,  0,  8,  2,  2,  6,  2,  1,  1,  1,  2,  5,  0,  2,  0,  3,\n",
       "        0,  5,  2,  0,  0,  3,  0,  0,  0,  0,  1,  8,  4,  1,  0,  0,  0,\n",
       "        2,  1,  0,  6,  3,  1,  0,  1,  3,  0,  2,  0,  2,  0,  1,  0,  0,\n",
       "        0,  1,  2,  3,  1,  2,  0,  0,  0,  1,  0,  0,  2,  0,  0,  3,  2,\n",
       "        1,  3,  0,  0,  1,  0,  0,  2,  0,  0,  4,  2,  0,  4,  0,  0,  0,\n",
       "        1,  2,  2,  0,  1,  1,  2,  1,  1,  3,  3,  1,  4,  3,  1,  1,  0,\n",
       "        0,  2,  0,  1,  0,  1,  2,  0,  3,  1,  2,  2,  2,  0,  0,  1,  3,\n",
       "        0,  4,  0,  1,  0,  0,  1,  0,  2,  1,  2,  6,  1,  0,  0,  7,  1,\n",
       "        1,  3,  1,  1,  0,  4,  0,  0,  0,  2,  1,  0,  4,  2,  0,  1,  3,\n",
       "        0,  1,  1,  1,  4,  3,  1,  1,  2,  6,  1,  1,  0,  3,  0,  0,  1,\n",
       "        2,  0,  1,  2,  0,  5,  0,  2,  0,  0,  0,  1,  0,  5,  3,  0,  1,\n",
       "        1,  1,  1,  0,  0,  0,  2,  3,  1,  3,  0,  0,  0,  2,  5,  1,  2,\n",
       "        1,  0,  1,  1,  2,  3,  0,  0,  1,  2,  1,  0,  1,  0,  0,  0,  1,\n",
       "        2,  1,  0,  1,  0,  0,  1,  1,  0,  6,  0,  2,  0,  1,  3,  0,  0,\n",
       "        4,  1,  1,  5,  0,  1,  0,  0,  1,  0,  2,  2,  2,  0,  0,  1,  3,\n",
       "        1,  1,  4,  1,  0,  1,  0,  0,  0,  2,  1,  0,  0,  1,  4,  0,  5,\n",
       "        1,  0,  0,  2,  4,  3,  1,  0,  0,  6,  4,  0,  0,  3,  2,  1,  0,\n",
       "        3,  0,  1,  2,  4,  1,  0,  4,  0,  2,  0,  0,  1,  0,  1,  0,  5,\n",
       "        1,  2,  4,  1,  0,  2,  0,  1,  0,  2,  0,  3,  1,  2,  0,  0,  2,\n",
       "        2,  0,  2,  1,  1,  1,  0,  3,  1,  2,  2,  8,  0,  0,  0,  2,  0,\n",
       "        1,  2,  0,  7,  1,  1,  2,  0,  0,  0,  0,  4,  0,  1,  1,  0,  3,\n",
       "        0,  0,  0,  1,  0,  0,  0,  1,  0,  2,  0,  4,  0,  0,  1,  1,  3,\n",
       "        1,  2,  1,  0,  6,  2,  1,  0,  0,  2,  0,  9,  1,  0,  1,  4,  1,\n",
       "        0,  1,  1,  1,  1,  1,  5,  3,  1,  0,  2,  1,  4,  5,  1,  3,  2,\n",
       "        2,  1,  2,  1,  3,  6,  0,  1,  0,  1,  3,  0,  1,  3])"
      ]
     },
     "execution_count": 5,
     "metadata": {},
     "output_type": "execute_result"
    }
   ],
   "source": [
    "sample_prior_pred = ss.poisson.rvs(sample_prior)\n",
    "sample_prior_pred"
   ]
  },
  {
   "cell_type": "code",
   "execution_count": 6,
   "metadata": {},
   "outputs": [
    {
     "data": {
      "text/plain": [
       "<AxesSubplot:>"
      ]
     },
     "execution_count": 6,
     "metadata": {},
     "output_type": "execute_result"
    },
    {
     "data": {
      "image/png": "[encoded data removed]",
      "text/plain": [
       "<Figure size 432x288 with 1 Axes>"
      ]
     },
     "metadata": {
      "needs_background": "light"
     },
     "output_type": "display_data"
    }
   ],
   "source": [
    "pmf_prior_pred = Pmf.from_seq(sample_prior_pred)\n",
    "pmf_prior_pred.plot.bar()"
   ]
  },
  {
   "cell_type": "code",
   "execution_count": 7,
   "metadata": {},
   "outputs": [],
   "source": [
    "with pm.Model() as model:\n",
    "    lam = pm.Gamma('lam', alpha=1.4, beta=1.0)\n",
    "    goals = pm.Poisson('goals', lam)"
   ]
  },
  {
   "cell_type": "code",
   "execution_count": 8,
   "metadata": {},
   "outputs": [
    {
     "data": {
      "text/latex": [
       "$\\text{goals} \\sim \\text{Poisson}(\\mathit{mu}=\\text{lam})$"
      ],
      "text/plain": [
       "goals ~ Poisson"
      ]
     },
     "execution_count": 8,
     "metadata": {},
     "output_type": "execute_result"
    }
   ],
   "source": [
    "goals"
   ]
  },
  {
   "cell_type": "code",
   "execution_count": 14,
   "metadata": {},
   "outputs": [],
   "source": [
    "with model:\n",
    "    trace = pm.sample_prior_predictive(100)"
   ]
  },
  {
   "cell_type": "code",
   "execution_count": 15,
   "metadata": {},
   "outputs": [
    {
     "data": {
      "text/plain": [
       "{'lam': array([1.00638343, 1.98226017, 0.96169243, 2.65531166, 1.92563169,\n",
       "        0.14912252, 0.63875037, 1.15989718, 0.87443582, 0.42316179,\n",
       "        0.27964343, 1.90742395, 1.30581237, 1.61434133, 2.11104657,\n",
       "        4.48733737, 1.73220172, 2.36382084, 0.56096895, 2.03650478,\n",
       "        1.23956503, 2.07363401, 1.98386486, 3.29425053, 0.48857362,\n",
       "        2.222374  , 0.59137498, 1.40564477, 0.57302926, 1.60245556,\n",
       "        1.36405046, 0.21381644, 0.27232718, 0.38229973, 1.00107527,\n",
       "        0.56852425, 0.92932824, 0.15557406, 1.5199156 , 0.412503  ,\n",
       "        0.27978666, 3.05957955, 1.35228815, 1.97510241, 2.22261168,\n",
       "        0.71090383, 0.74772439, 1.70281734, 0.5471647 , 1.64012833,\n",
       "        1.85343014, 3.98571839, 1.00554053, 0.27925813, 2.33035142,\n",
       "        8.0644338 , 2.01249434, 0.58475486, 1.49788388, 0.18966158,\n",
       "        1.45781202, 1.25681771, 0.35575425, 1.08112447, 0.96667824,\n",
       "        1.08163214, 0.36488542, 1.39240382, 2.04448391, 1.16147384,\n",
       "        0.05229304, 0.43146526, 2.39723597, 0.03505648, 0.92895515,\n",
       "        0.76204546, 1.69755293, 0.64532123, 0.45673654, 0.15151312,\n",
       "        0.54811248, 0.43971709, 1.27288168, 0.75656471, 1.761111  ,\n",
       "        0.39493172, 0.66370265, 1.17988684, 0.65542806, 1.08095774,\n",
       "        4.39392487, 2.41163108, 0.71962248, 0.91958617, 0.09171254,\n",
       "        0.39071127, 1.74055084, 0.49409792, 1.02928582, 1.38956549]),\n",
       " 'goals': array([ 1,  5,  2,  2,  3,  1,  0,  2,  2,  3,  0,  0,  1,  3,  3,  4,  3,\n",
       "         3,  1,  1,  3,  0,  3,  1,  0,  0,  0,  1,  0,  0,  2,  0,  0,  0,\n",
       "         0,  1,  0,  0,  1,  0,  1,  1,  2,  4,  1,  2,  1,  2,  0,  2,  2,\n",
       "         3,  0,  1,  2, 10,  1,  0,  1,  1,  3,  1,  0,  0,  2,  1,  1,  1,\n",
       "         1,  0,  0,  1,  2,  1,  0,  1,  0,  0,  0,  0,  0,  0,  2,  2,  0,\n",
       "         0,  0,  1,  1,  1,  6,  3,  1,  1,  0,  0,  1,  1,  2,  2]),\n",
       " 'lam_log__': array([ 6.36314715e-03,  6.84237693e-01, -3.90605988e-02,  9.76562033e-01,\n",
       "         6.55254066e-01, -1.90298702e+00, -4.48241559e-01,  1.48331362e-01,\n",
       "        -1.34176380e-01, -8.60000700e-01, -1.27423995e+00,  6.45753616e-01,\n",
       "         2.66825352e-01,  4.78927031e-01,  7.47183828e-01,  1.50125951e+00,\n",
       "         5.49393269e-01,  8.60279310e-01, -5.78089714e-01,  7.11234994e-01,\n",
       "         2.14760533e-01,  7.29302630e-01,  6.85046890e-01,  1.19217869e+00,\n",
       "        -7.16265121e-01,  7.98575994e-01, -5.25304972e-01,  3.40496110e-01,\n",
       "        -5.56818502e-01,  4.71537179e-01,  3.10458552e-01, -1.54263737e+00,\n",
       "        -1.30075108e+00, -9.61550341e-01,  1.07469315e-03, -5.64711310e-01,\n",
       "        -7.32932785e-02, -1.86063337e+00,  4.18654806e-01, -8.85511800e-01,\n",
       "        -1.27372790e+00,  1.11827750e+00,  3.01798086e-01,  6.80620248e-01,\n",
       "         7.98682937e-01, -3.41218121e-01, -2.90720834e-01,  5.32284138e-01,\n",
       "        -6.03005419e-01,  4.94774489e-01,  6.17038054e-01,  1.38271757e+00,\n",
       "         5.52523648e-03, -1.27561872e+00,  8.46019081e-01,  2.08746350e+00,\n",
       "         6.99374918e-01, -5.36562571e-01,  4.04053363e-01, -1.66251393e+00,\n",
       "         3.76936695e-01,  2.28582896e-01, -1.03351509e+00,  7.80016748e-02,\n",
       "        -3.38895829e-02,  7.84711376e-02, -1.00817189e+00,  3.31031622e-01,\n",
       "         7.15145393e-01,  1.49689751e-01, -2.95089201e+00, -8.40568272e-01,\n",
       "         8.74316396e-01, -3.35079470e+00, -7.36948197e-02, -2.71749068e-01,\n",
       "         5.29187760e-01, -4.38007052e-01, -7.83648563e-01, -1.88708304e+00,\n",
       "        -6.01274756e-01, -8.21623744e-01,  2.41283367e-01, -2.78967212e-01,\n",
       "         5.65944863e-01, -9.29042395e-01, -4.09921041e-01,  1.65418537e-01,\n",
       "        -4.22466736e-01,  7.78474437e-02,  1.48022288e+00,  8.80303314e-01,\n",
       "        -3.29028543e-01, -8.38315228e-02, -2.38909618e+00, -9.39786436e-01,\n",
       "         5.54201636e-01, -7.05021559e-01,  2.88651841e-02,  3.28991099e-01])}"
      ]
     },
     "execution_count": 15,
     "metadata": {},
     "output_type": "execute_result"
    }
   ],
   "source": [
    "trace"
   ]
  },
  {
   "cell_type": "code",
   "execution_count": 17,
   "metadata": {},
   "outputs": [
    {
     "data": {
      "image/png": "[encoded data removed]",
      "text/plain": [
       "<Figure size 432x288 with 1 Axes>"
      ]
     },
     "metadata": {
      "needs_background": "light"
     },
     "output_type": "display_data"
    }
   ],
   "source": [
    "sample_prior_pymc = trace['lam']\n",
    "plot_cdf(sample_prior, label='SciPy sample', color='C5')\n",
    "plot_cdf(sample_prior_pymc, label='PyMC3 sample', color='C0')"
   ]
  },
  {
   "cell_type": "code",
   "execution_count": 18,
   "metadata": {},
   "outputs": [
    {
     "data": {
      "image/png": "[encoded data removed]",
      "text/plain": [
       "<Figure size 432x288 with 1 Axes>"
      ]
     },
     "metadata": {
      "needs_background": "light"
     },
     "output_type": "display_data"
    }
   ],
   "source": [
    "sample_prior_pred_pymc = trace['goals']\n",
    "plot_pred(sample_prior_pred, label='SciPy sample', color='C5')\n",
    "plot_pred(sample_prior_pred_pymc, label='PyMC3 sample', color='C13')"
   ]
  },
  {
   "cell_type": "code",
   "execution_count": 19,
   "metadata": {},
   "outputs": [],
   "source": [
    "with pm.Model() as model2:\n",
    "    lam = pm.Gamma('lam', alpha=1.4, beta=1.0)\n",
    "    goals = pm.Poisson('goals', lam, observed=4)"
   ]
  },
  {
   "cell_type": "code",
   "execution_count": 20,
   "metadata": {},
   "outputs": [
    {
     "name": "stderr",
     "output_type": "stream",
     "text": [
      "Only 50 samples in chain.\n",
      "Auto-assigning NUTS sampler...\n",
      "Initializing NUTS using jitter+adapt_diag...\n",
      "Multiprocess sampling (4 chains in 4 jobs)\n",
      "NUTS: [lam]\n"
     ]
    },
    {
     "data": {
      "text/html": [
       "\n",
       "<style>\n",
       "    /* Turns off some styling */\n",
       "    progress {\n",
       "        /* gets rid of default border in Firefox and Opera. */\n",
       "        border: none;\n",
       "        /* Needs to be in here for Safari polyfill so background images work as expected. */\n",
       "        background-size: auto;\n",
       "    }\n",
       "    progress:not([value]), progress:not([value])::-webkit-progress-bar {\n",
       "        background: repeating-linear-gradient(45deg, #7e7e7e, #7e7e7e 10px, #5c5c5c 10px, #5c5c5c 20px);\n",
       "    }\n",
       "    .progress-bar-interrupted, .progress-bar-interrupted::-webkit-progress-bar {\n",
       "        background: #F44336;\n",
       "    }\n",
       "</style>\n"
      ],
      "text/plain": [
       "<IPython.core.display.HTML object>"
      ]
     },
     "metadata": {},
     "output_type": "display_data"
    },
    {
     "data": {
      "text/html": [
       "\n",
       "    <div>\n",
       "      <progress value='4200' class='' max='4200' style='width:300px; height:20px; vertical-align: middle;'></progress>\n",
       "      100.00% [4200/4200 00:03&lt;00:00 Sampling 4 chains, 0 divergences]\n",
       "    </div>\n",
       "    "
      ],
      "text/plain": [
       "<IPython.core.display.HTML object>"
      ]
     },
     "metadata": {},
     "output_type": "display_data"
    },
    {
     "name": "stderr",
     "output_type": "stream",
     "text": [
      "Sampling 4 chains for 1_000 tune and 50 draw iterations (4_000 + 200 draws total) took 21 seconds.\n",
      "C:\\Users\\admin\\AppData\\Roaming\\Python\\Python310\\site-packages\\pymc3\\sampling.py:659: UserWarning: The number of samples is too small to check convergence reliably.\n",
      "  warnings.warn(\"The number of samples is too small to check convergence reliably.\")\n",
      "The acceptance probability does not match the target. It is 0.9134291487441155, but should be close to 0.8. Try to increase the number of tuning steps.\n"
     ]
    }
   ],
   "source": [
    "options = dict(return_inferencedata=False)\n",
    "with model2:\n",
    "    trace2 = pm.sample(50, **options)"
   ]
  },
  {
   "cell_type": "code",
   "execution_count": 22,
   "metadata": {},
   "outputs": [
    {
     "data": {
      "text/plain": [
       "(200,)"
      ]
     },
     "execution_count": 22,
     "metadata": {},
     "output_type": "execute_result"
    }
   ],
   "source": [
    "sample_post_pymc = trace2['lam']\n",
    "sample_post_pymc.shape"
   ]
  },
  {
   "cell_type": "code",
   "execution_count": 24,
   "metadata": {},
   "outputs": [
    {
     "data": {
      "image/png": "[encoded data removed]",
      "text/plain": [
       "<Figure size 432x288 with 1 Axes>"
      ]
     },
     "metadata": {
      "needs_background": "light"
     },
     "output_type": "display_data"
    }
   ],
   "source": [
    "plot_cdf(sample_prior_pymc, label='PyMC3 sample', color='C0')\n",
    "plot_cdf(sample_post_pymc, label='PyMC3 sample', color='C4')\n"
   ]
  },
  {
   "cell_type": "code",
   "execution_count": 25,
   "metadata": {},
   "outputs": [
    {
     "data": {
      "text/html": [
       "\n",
       "<style>\n",
       "    /* Turns off some styling */\n",
       "    progress {\n",
       "        /* gets rid of default border in Firefox and Opera. */\n",
       "        border: none;\n",
       "        /* Needs to be in here for Safari polyfill so background images work as expected. */\n",
       "        background-size: auto;\n",
       "    }\n",
       "    progress:not([value]), progress:not([value])::-webkit-progress-bar {\n",
       "        background: repeating-linear-gradient(45deg, #7e7e7e, #7e7e7e 10px, #5c5c5c 10px, #5c5c5c 20px);\n",
       "    }\n",
       "    .progress-bar-interrupted, .progress-bar-interrupted::-webkit-progress-bar {\n",
       "        background: #F44336;\n",
       "    }\n",
       "</style>\n"
      ],
      "text/plain": [
       "<IPython.core.display.HTML object>"
      ]
     },
     "metadata": {},
     "output_type": "display_data"
    },
    {
     "data": {
      "text/html": [
       "\n",
       "    <div>\n",
       "      <progress value='200' class='' max='200' style='width:300px; height:20px; vertical-align: middle;'></progress>\n",
       "      100.00% [200/200 00:00&lt;00:00]\n",
       "    </div>\n",
       "    "
      ],
      "text/plain": [
       "<IPython.core.display.HTML object>"
      ]
     },
     "metadata": {},
     "output_type": "display_data"
    }
   ],
   "source": [
    "with model2:\n",
    "    post_pred = pm.sample_posterior_predictive(trace2)"
   ]
  },
  {
   "cell_type": "code",
   "execution_count": 26,
   "metadata": {},
   "outputs": [
    {
     "data": {
      "text/plain": [
       "(200,)"
      ]
     },
     "execution_count": 26,
     "metadata": {},
     "output_type": "execute_result"
    }
   ],
   "source": [
    "sample_post_pred_pymc = post_pred['goals']\n",
    "sample_post_pred_pymc.shape"
   ]
  },
  {
   "cell_type": "code",
   "execution_count": 28,
   "metadata": {},
   "outputs": [
    {
     "data": {
      "image/png": "[encoded data removed]",
      "text/plain": [
       "<Figure size 432x288 with 1 Axes>"
      ]
     },
     "metadata": {
      "needs_background": "light"
     },
     "output_type": "display_data"
    }
   ],
   "source": [
    "plot_pred(sample_prior_pred_pymc, label='PyMC3 sample', color='C13')\n",
    "plot_pred(sample_post_pred_pymc, label='PyMC3 sample', color='C1')"
   ]
  },
  {
   "cell_type": "code",
   "execution_count": 29,
   "metadata": {},
   "outputs": [],
   "source": [
    "filename = 'WHR20_DataForFigure2.1.xlsx'\n",
    "df = pd.read_excel(Path.cwd() / 'data' / filename)"
   ]
  },
  {
   "cell_type": "code",
   "execution_count": 30,
   "metadata": {},
   "outputs": [],
   "source": [
    "score = df['Ladder score']\n",
    "log_gdp = df['Logged GDP per capita']"
   ]
  },
  {
   "cell_type": "code",
   "execution_count": 31,
   "metadata": {},
   "outputs": [
    {
     "data": {
      "text/plain": [
       "<matplotlib.collections.PathCollection at 0x1da4df04100>"
      ]
     },
     "execution_count": 31,
     "metadata": {},
     "output_type": "execute_result"
    },
    {
     "data": {
      "image/png": "[encoded data removed]",
      "text/plain": [
       "<Figure size 432x288 with 1 Axes>"
      ]
     },
     "metadata": {
      "needs_background": "light"
     },
     "output_type": "display_data"
    }
   ],
   "source": [
    "plt.scatter(x=log_gdp, y=score)"
   ]
  },
  {
   "cell_type": "code",
   "execution_count": 34,
   "metadata": {},
   "outputs": [
    {
     "data": {
      "text/plain": [
       "LinregressResult(slope=0.7177384956304518, intercept=-1.1986460618088826, rvalue=0.7753744007429199, pvalue=5.983050807797873e-32, stderr=0.047570849726545406, intercept_stderr=0.4458597364176077)"
      ]
     },
     "execution_count": 34,
     "metadata": {},
     "output_type": "execute_result"
    }
   ],
   "source": [
    "results = ss.linregress(log_gdp, score)\n",
    "results"
   ]
  },
  {
   "cell_type": "code",
   "execution_count": 35,
   "metadata": {},
   "outputs": [],
   "source": [
    "x_data = log_gdp\n",
    "y_data = score"
   ]
  },
  {
   "cell_type": "code",
   "execution_count": 36,
   "metadata": {},
   "outputs": [],
   "source": [
    "with pm.Model() as model3:\n",
    "    inter = pm.Uniform('inter', -3, 1)\n",
    "    slope = pm.Uniform('slope', 0, 2)\n",
    "    sigma = pm.Uniform('sigma', 0, 2)\n",
    "\n",
    "    y_hat = inter + slope * x_data\n",
    "    y = pm.Normal('y', mu=y_hat, sd=sigma, observed=y_data)"
   ]
  },
  {
   "cell_type": "code",
   "execution_count": 38,
   "metadata": {},
   "outputs": [
    {
     "name": "stderr",
     "output_type": "stream",
     "text": [
      "Only 50 samples in chain.\n",
      "Auto-assigning NUTS sampler...\n",
      "Initializing NUTS using jitter+adapt_diag...\n",
      "C:\\Users\\admin\\AppData\\Roaming\\Python\\Python310\\site-packages\\theano\\tensor\\elemwise.py:826: RuntimeWarning: invalid value encountered in log\n",
      "  variables = ufunc(*ufunc_args, **ufunc_kwargs)\n",
      "Multiprocess sampling (4 chains in 4 jobs)\n",
      "NUTS: [sigma, slope, inter]\n"
     ]
    },
    {
     "data": {
      "text/html": [
       "\n",
       "<style>\n",
       "    /* Turns off some styling */\n",
       "    progress {\n",
       "        /* gets rid of default border in Firefox and Opera. */\n",
       "        border: none;\n",
       "        /* Needs to be in here for Safari polyfill so background images work as expected. */\n",
       "        background-size: auto;\n",
       "    }\n",
       "    progress:not([value]), progress:not([value])::-webkit-progress-bar {\n",
       "        background: repeating-linear-gradient(45deg, #7e7e7e, #7e7e7e 10px, #5c5c5c 10px, #5c5c5c 20px);\n",
       "    }\n",
       "    .progress-bar-interrupted, .progress-bar-interrupted::-webkit-progress-bar {\n",
       "        background: #F44336;\n",
       "    }\n",
       "</style>\n"
      ],
      "text/plain": [
       "<IPython.core.display.HTML object>"
      ]
     },
     "metadata": {},
     "output_type": "display_data"
    },
    {
     "data": {
      "text/html": [
       "\n",
       "    <div>\n",
       "      <progress value='4200' class='' max='4200' style='width:300px; height:20px; vertical-align: middle;'></progress>\n",
       "      100.00% [4200/4200 06:57&lt;00:00 Sampling 4 chains, 0 divergences]\n",
       "    </div>\n",
       "    "
      ],
      "text/plain": [
       "<IPython.core.display.HTML object>"
      ]
     },
     "metadata": {},
     "output_type": "display_data"
    },
    {
     "name": "stderr",
     "output_type": "stream",
     "text": [
      "Sampling 4 chains for 1_000 tune and 50 draw iterations (4_000 + 200 draws total) took 436 seconds.\n",
      "C:\\Users\\admin\\AppData\\Roaming\\Python\\Python310\\site-packages\\pymc3\\sampling.py:659: UserWarning: The number of samples is too small to check convergence reliably.\n",
      "  warnings.warn(\"The number of samples is too small to check convergence reliably.\")\n"
     ]
    }
   ],
   "source": [
    "options = dict(return_inferencedata=False)\n",
    "with model3:\n",
    "    trace3 = pm.sample(50, **options)"
   ]
  },
  {
   "cell_type": "code",
   "execution_count": 39,
   "metadata": {},
   "outputs": [
    {
     "data": {
      "image/png": "[encoded data removed]",
      "text/plain": [
       "<Figure size 993.6x331.2 with 2 Axes>"
      ]
     },
     "metadata": {
      "needs_background": "light"
     },
     "output_type": "display_data"
    }
   ],
   "source": [
    "with model3:\n",
    "    az.plot_posterior(trace3, var_names=['slope', 'inter'])"
   ]
  },
  {
   "cell_type": "code",
   "execution_count": 40,
   "metadata": {},
   "outputs": [],
   "source": [
    "columns = ['Ladder score',\n",
    "           'Logged GDP per capita',\n",
    "           'Social support',\n",
    "           'Healthy life expectancy',\n",
    "           'Freedom to make life choices',\n",
    "           'Generosity',\n",
    "           'Perceptions of corruption']\n",
    "subset = df[columns]"
   ]
  },
  {
   "cell_type": "code",
   "execution_count": 41,
   "metadata": {},
   "outputs": [],
   "source": [
    "standardized = (subset - subset.mean()) / subset.std()"
   ]
  },
  {
   "cell_type": "code",
   "execution_count": 42,
   "metadata": {},
   "outputs": [],
   "source": [
    "y_data = standardized['Ladder score']\n",
    "x1 = standardized[columns[1]]\n",
    "x2 = standardized[columns[2]]\n",
    "x3 = standardized[columns[3]]\n",
    "x4 = standardized[columns[4]]\n",
    "x5 = standardized[columns[5]]\n",
    "x6 = standardized[columns[6]]"
   ]
  },
  {
   "cell_type": "code",
   "execution_count": 43,
   "metadata": {},
   "outputs": [],
   "source": [
    "with pm.Model() as model4:\n",
    "    b0 = pm.Uniform('inter', -4, 4)\n",
    "    b1 = pm.Uniform('b1', -4, 4)\n",
    "    b2 = pm.Uniform('b2', -4, 4)\n",
    "    b3 = pm.Uniform('b3', -4, 4)\n",
    "    b4 = pm.Uniform('b4', -4, 4)\n",
    "    b5 = pm.Uniform('b5', -4, 4)\n",
    "    b6 = pm.Uniform('b6', -4, 4)\n",
    "    sigma = pm.Uniform('sigma', 0, 2)\n",
    "\n",
    "    y_hat = b0 + b1*x1 + b2*x2 + b3*x3 + b4*x4 + b5*x5 + b6*x6\n",
    "    y = pm.Normal('y', mu=y_hat, sd=sigma, observed=y_data)"
   ]
  },
  {
   "cell_type": "code",
   "execution_count": 44,
   "metadata": {},
   "outputs": [
    {
     "name": "stderr",
     "output_type": "stream",
     "text": [
      "Only 50 samples in chain.\n",
      "Auto-assigning NUTS sampler...\n",
      "Initializing NUTS using jitter+adapt_diag...\n",
      "C:\\Users\\admin\\AppData\\Roaming\\Python\\Python310\\site-packages\\theano\\tensor\\elemwise.py:826: RuntimeWarning: invalid value encountered in log\n",
      "  variables = ufunc(*ufunc_args, **ufunc_kwargs)\n",
      "Multiprocess sampling (4 chains in 4 jobs)\n",
      "NUTS: [sigma, b6, b5, b4, b3, b2, b1, inter]\n"
     ]
    },
    {
     "data": {
      "text/html": [
       "\n",
       "<style>\n",
       "    /* Turns off some styling */\n",
       "    progress {\n",
       "        /* gets rid of default border in Firefox and Opera. */\n",
       "        border: none;\n",
       "        /* Needs to be in here for Safari polyfill so background images work as expected. */\n",
       "        background-size: auto;\n",
       "    }\n",
       "    progress:not([value]), progress:not([value])::-webkit-progress-bar {\n",
       "        background: repeating-linear-gradient(45deg, #7e7e7e, #7e7e7e 10px, #5c5c5c 10px, #5c5c5c 20px);\n",
       "    }\n",
       "    .progress-bar-interrupted, .progress-bar-interrupted::-webkit-progress-bar {\n",
       "        background: #F44336;\n",
       "    }\n",
       "</style>\n"
      ],
      "text/plain": [
       "<IPython.core.display.HTML object>"
      ]
     },
     "metadata": {},
     "output_type": "display_data"
    },
    {
     "data": {
      "text/html": [
       "\n",
       "    <div>\n",
       "      <progress value='4200' class='' max='4200' style='width:300px; height:20px; vertical-align: middle;'></progress>\n",
       "      100.00% [4200/4200 19:09&lt;00:00 Sampling 4 chains, 0 divergences]\n",
       "    </div>\n",
       "    "
      ],
      "text/plain": [
       "<IPython.core.display.HTML object>"
      ]
     },
     "metadata": {},
     "output_type": "display_data"
    },
    {
     "name": "stderr",
     "output_type": "stream",
     "text": [
      "Sampling 4 chains for 1_000 tune and 50 draw iterations (4_000 + 200 draws total) took 1168 seconds.\n",
      "C:\\Users\\admin\\AppData\\Roaming\\Python\\Python310\\site-packages\\pymc3\\sampling.py:659: UserWarning: The number of samples is too small to check convergence reliably.\n",
      "  warnings.warn(\"The number of samples is too small to check convergence reliably.\")\n"
     ]
    }
   ],
   "source": [
    "options = dict(return_inferencedata=False)\n",
    "with model4:\n",
    "    trace4 = pm.sample(50, **options)"
   ]
  },
  {
   "cell_type": "code",
   "execution_count": 45,
   "metadata": {},
   "outputs": [
    {
     "data": {
      "text/plain": [
       "[0.25878240893551835,\n",
       " 0.29646771088713236,\n",
       " 0.21882299290218105,\n",
       " 0.18252283541990547,\n",
       " 0.05899557347548323,\n",
       " -0.09791575053334682]"
      ]
     },
     "execution_count": 45,
     "metadata": {},
     "output_type": "execute_result"
    }
   ],
   "source": [
    "param_names = ['b1', 'b2', 'b3', 'b4', 'b5', 'b6']\n",
    "means = [trace4[name].mean() for name in param_names]\n",
    "means"
   ]
  },
  {
   "cell_type": "code",
   "execution_count": 46,
   "metadata": {},
   "outputs": [
    {
     "data": {
      "text/plain": [
       "[array([0.09 , 0.418]),\n",
       " array([0.163, 0.427]),\n",
       " array([0.07 , 0.387]),\n",
       " array([0.077, 0.29 ]),\n",
       " array([-0.023,  0.163]),\n",
       " array([-0.197, -0.001])]"
      ]
     },
     "execution_count": 46,
     "metadata": {},
     "output_type": "execute_result"
    }
   ],
   "source": [
    "def credible_interval(sample):\n",
    "    ci = np.percentile(sample, [3, 97])\n",
    "    return np.round(ci, 3)\n",
    "\n",
    "cis = [credible_interval(trace4[name]) for name in param_names]\n",
    "cis"
   ]
  },
  {
   "cell_type": "code",
   "execution_count": null,
   "metadata": {},
   "outputs": [],
   "source": []
  }
 ],
 "metadata": {
  "kernelspec": {
   "display_name": "base",
   "language": "python",
   "name": "python3"
  },
  "language_info": {
   "codemirror_mode": {
    "name": "ipython",
    "version": 3
   },
   "file_extension": ".py",
   "mimetype": "text/x-python",
   "name": "python",
   "nbconvert_exporter": "python",
   "pygments_lexer": "ipython3",
   "version": "3.10.9"
  },
  "orig_nbformat": 4
 },
 "nbformat": 4,
 "nbformat_minor": 2
}
