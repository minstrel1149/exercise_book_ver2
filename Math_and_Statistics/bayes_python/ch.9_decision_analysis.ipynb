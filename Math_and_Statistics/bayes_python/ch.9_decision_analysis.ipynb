{
 "cells": [
  {
   "cell_type": "code",
   "execution_count": 1,
   "metadata": {},
   "outputs": [],
   "source": [
    "from pathlib import Path\n",
    "import pandas as pd\n",
    "import numpy as np\n",
    "import scipy.stats as ss\n",
    "from scipy.interpolate import interp1d\n",
    "from fractions import Fraction\n",
    "from empiricaldist import Pmf, Cdf\n",
    "import matplotlib.pyplot as plt"
   ]
  },
  {
   "cell_type": "code",
   "execution_count": 2,
   "metadata": {},
   "outputs": [],
   "source": [
    "def read_data(filename):\n",
    "    df = pd.read_csv(Path.cwd() / 'data' / filename, index_col=0, skiprows=[1])\n",
    "    return df.dropna().T"
   ]
  },
  {
   "cell_type": "code",
   "execution_count": 3,
   "metadata": {},
   "outputs": [],
   "source": [
    "df2011 = read_data('showcases.2011.csv')\n",
    "df2012 = read_data('showcases.2012.csv')"
   ]
  },
  {
   "cell_type": "code",
   "execution_count": 4,
   "metadata": {},
   "outputs": [
    {
     "data": {
      "text/html": [
       "<div>\n",
       "<style scoped>\n",
       "    .dataframe tbody tr th:only-of-type {\n",
       "        vertical-align: middle;\n",
       "    }\n",
       "\n",
       "    .dataframe tbody tr th {\n",
       "        vertical-align: top;\n",
       "    }\n",
       "\n",
       "    .dataframe thead th {\n",
       "        text-align: right;\n",
       "    }\n",
       "</style>\n",
       "<table border=\"1\" class=\"dataframe\">\n",
       "  <thead>\n",
       "    <tr style=\"text-align: right;\">\n",
       "      <th></th>\n",
       "      <th>Showcase 1</th>\n",
       "      <th>Showcase 2</th>\n",
       "      <th>Bid 1</th>\n",
       "      <th>Bid 2</th>\n",
       "      <th>Difference 1</th>\n",
       "      <th>Difference 2</th>\n",
       "    </tr>\n",
       "  </thead>\n",
       "  <tbody>\n",
       "    <tr>\n",
       "      <th>0</th>\n",
       "      <td>50969.0</td>\n",
       "      <td>45429.0</td>\n",
       "      <td>42000.0</td>\n",
       "      <td>34000.0</td>\n",
       "      <td>8969.0</td>\n",
       "      <td>11429.0</td>\n",
       "    </tr>\n",
       "    <tr>\n",
       "      <th>1</th>\n",
       "      <td>21901.0</td>\n",
       "      <td>34061.0</td>\n",
       "      <td>14000.0</td>\n",
       "      <td>59900.0</td>\n",
       "      <td>7901.0</td>\n",
       "      <td>-25839.0</td>\n",
       "    </tr>\n",
       "    <tr>\n",
       "      <th>2</th>\n",
       "      <td>32815.0</td>\n",
       "      <td>53186.0</td>\n",
       "      <td>32000.0</td>\n",
       "      <td>45000.0</td>\n",
       "      <td>815.0</td>\n",
       "      <td>8186.0</td>\n",
       "    </tr>\n",
       "    <tr>\n",
       "      <th>3</th>\n",
       "      <td>44432.0</td>\n",
       "      <td>31428.0</td>\n",
       "      <td>27000.0</td>\n",
       "      <td>38000.0</td>\n",
       "      <td>17432.0</td>\n",
       "      <td>-6572.0</td>\n",
       "    </tr>\n",
       "    <tr>\n",
       "      <th>4</th>\n",
       "      <td>24273.0</td>\n",
       "      <td>22320.0</td>\n",
       "      <td>18750.0</td>\n",
       "      <td>23000.0</td>\n",
       "      <td>5523.0</td>\n",
       "      <td>-680.0</td>\n",
       "    </tr>\n",
       "  </tbody>\n",
       "</table>\n",
       "</div>"
      ],
      "text/plain": [
       "   Showcase 1  Showcase 2    Bid 1    Bid 2  Difference 1  Difference 2\n",
       "0     50969.0     45429.0  42000.0  34000.0        8969.0       11429.0\n",
       "1     21901.0     34061.0  14000.0  59900.0        7901.0      -25839.0\n",
       "2     32815.0     53186.0  32000.0  45000.0         815.0        8186.0\n",
       "3     44432.0     31428.0  27000.0  38000.0       17432.0       -6572.0\n",
       "4     24273.0     22320.0  18750.0  23000.0        5523.0        -680.0"
      ]
     },
     "execution_count": 4,
     "metadata": {},
     "output_type": "execute_result"
    }
   ],
   "source": [
    "df = pd.concat([df2011, df2012], ignore_index=True)\n",
    "df.head()"
   ]
  },
  {
   "cell_type": "code",
   "execution_count": 5,
   "metadata": {},
   "outputs": [
    {
     "data": {
      "text/plain": [
       "(313, 6)"
      ]
     },
     "execution_count": 5,
     "metadata": {},
     "output_type": "execute_result"
    }
   ],
   "source": [
    "df.shape"
   ]
  },
  {
   "cell_type": "code",
   "execution_count": 6,
   "metadata": {},
   "outputs": [],
   "source": [
    "def kde_from_sample(sample, qs):\n",
    "    kde = ss.gaussian_kde(sample)\n",
    "    ps = kde(qs)\n",
    "    pmf = Pmf(ps, qs)\n",
    "    pmf.normalize()\n",
    "    return pmf"
   ]
  },
  {
   "cell_type": "code",
   "execution_count": 32,
   "metadata": {},
   "outputs": [
    {
     "data": {
      "text/html": [
       "<div>\n",
       "<style scoped>\n",
       "    .dataframe tbody tr th:only-of-type {\n",
       "        vertical-align: middle;\n",
       "    }\n",
       "\n",
       "    .dataframe tbody tr th {\n",
       "        vertical-align: top;\n",
       "    }\n",
       "\n",
       "    .dataframe thead th {\n",
       "        text-align: right;\n",
       "    }\n",
       "</style>\n",
       "<table border=\"1\" class=\"dataframe\">\n",
       "  <thead>\n",
       "    <tr style=\"text-align: right;\">\n",
       "      <th></th>\n",
       "      <th>probs</th>\n",
       "    </tr>\n",
       "  </thead>\n",
       "  <tbody>\n",
       "    <tr>\n",
       "      <th>0.0</th>\n",
       "      <td>7.084244e-20</td>\n",
       "    </tr>\n",
       "    <tr>\n",
       "      <th>1000.0</th>\n",
       "      <td>2.993201e-18</td>\n",
       "    </tr>\n",
       "    <tr>\n",
       "      <th>2000.0</th>\n",
       "      <td>1.045021e-16</td>\n",
       "    </tr>\n",
       "    <tr>\n",
       "      <th>3000.0</th>\n",
       "      <td>3.017285e-15</td>\n",
       "    </tr>\n",
       "    <tr>\n",
       "      <th>4000.0</th>\n",
       "      <td>7.211458e-14</td>\n",
       "    </tr>\n",
       "    <tr>\n",
       "      <th>...</th>\n",
       "      <td>...</td>\n",
       "    </tr>\n",
       "    <tr>\n",
       "      <th>76000.0</th>\n",
       "      <td>3.504494e-17</td>\n",
       "    </tr>\n",
       "    <tr>\n",
       "      <th>77000.0</th>\n",
       "      <td>1.015177e-18</td>\n",
       "    </tr>\n",
       "    <tr>\n",
       "      <th>78000.0</th>\n",
       "      <td>2.419653e-20</td>\n",
       "    </tr>\n",
       "    <tr>\n",
       "      <th>79000.0</th>\n",
       "      <td>4.745246e-22</td>\n",
       "    </tr>\n",
       "    <tr>\n",
       "      <th>80000.0</th>\n",
       "      <td>7.657003e-24</td>\n",
       "    </tr>\n",
       "  </tbody>\n",
       "</table>\n",
       "<p>81 rows × 1 columns</p>\n",
       "</div>"
      ],
      "text/plain": [
       "0.0        7.084244e-20\n",
       "1000.0     2.993201e-18\n",
       "2000.0     1.045021e-16\n",
       "3000.0     3.017285e-15\n",
       "4000.0     7.211458e-14\n",
       "               ...     \n",
       "76000.0    3.504494e-17\n",
       "77000.0    1.015177e-18\n",
       "78000.0    2.419653e-20\n",
       "79000.0    4.745246e-22\n",
       "80000.0    7.657003e-24\n",
       "Name: , Length: 81, dtype: float64"
      ]
     },
     "execution_count": 32,
     "metadata": {},
     "output_type": "execute_result"
    }
   ],
   "source": [
    "qs = np.linspace(0, 80000, 81)\n",
    "prior1 = kde_from_sample(df['Showcase 1'], qs)\n",
    "prior2 = kde_from_sample(df['Showcase 2'], qs)\n",
    "prior1"
   ]
  },
  {
   "cell_type": "code",
   "execution_count": 17,
   "metadata": {},
   "outputs": [],
   "source": [
    "sample_diff1 = df['Bid 1'] - df['Showcase 1']\n",
    "sample_diff2 = df['Bid 2'] - df['Showcase 2']"
   ]
  },
  {
   "cell_type": "code",
   "execution_count": 18,
   "metadata": {},
   "outputs": [],
   "source": [
    "qs = np.linspace(-40000, 20000, 61)\n",
    "kde_diff1 = kde_from_sample(sample_diff1, qs)\n",
    "kde_diff2 = kde_from_sample(sample_diff2, qs)"
   ]
  },
  {
   "cell_type": "code",
   "execution_count": 19,
   "metadata": {},
   "outputs": [],
   "source": [
    "mean_diff1 = sample_diff1.mean()\n",
    "std_diff1 = sample_diff1.std()\n",
    "mean_diff2 = sample_diff2.mean()\n",
    "std_diff2 = sample_diff2.std()"
   ]
  },
  {
   "cell_type": "code",
   "execution_count": 33,
   "metadata": {},
   "outputs": [
    {
     "data": {
      "text/plain": [
       "0.49421835464466"
      ]
     },
     "execution_count": 33,
     "metadata": {},
     "output_type": "execute_result"
    }
   ],
   "source": [
    "error_dist1 = ss.norm(0, std_diff1)\n",
    "error_dist2 = ss.norm(0, std_diff2)\n",
    "error_dist1.cdf(-100)"
   ]
  },
  {
   "cell_type": "code",
   "execution_count": 34,
   "metadata": {},
   "outputs": [],
   "source": [
    "guess1 = 23000\n",
    "guess2 = 38000\n",
    "error1 = guess1 - prior1.qs\n",
    "error2 = guess2 - prior2.qs"
   ]
  },
  {
   "cell_type": "code",
   "execution_count": 35,
   "metadata": {},
   "outputs": [],
   "source": [
    "likelihood1 = error_dist1.pdf(error1)\n",
    "likelihood2 = error_dist2.pdf(error2)"
   ]
  },
  {
   "cell_type": "code",
   "execution_count": 31,
   "metadata": {},
   "outputs": [
    {
     "data": {
      "text/html": [
       "<div>\n",
       "<style scoped>\n",
       "    .dataframe tbody tr th:only-of-type {\n",
       "        vertical-align: middle;\n",
       "    }\n",
       "\n",
       "    .dataframe tbody tr th {\n",
       "        vertical-align: top;\n",
       "    }\n",
       "\n",
       "    .dataframe thead th {\n",
       "        text-align: right;\n",
       "    }\n",
       "</style>\n",
       "<table border=\"1\" class=\"dataframe\">\n",
       "  <thead>\n",
       "    <tr style=\"text-align: right;\">\n",
       "      <th></th>\n",
       "      <th>probs</th>\n",
       "    </tr>\n",
       "  </thead>\n",
       "  <tbody>\n",
       "    <tr>\n",
       "      <th>0.0</th>\n",
       "      <td>4.671763e-22</td>\n",
       "    </tr>\n",
       "    <tr>\n",
       "      <th>1000.0</th>\n",
       "      <td>3.166443e-20</td>\n",
       "    </tr>\n",
       "    <tr>\n",
       "      <th>2000.0</th>\n",
       "      <td>1.736550e-18</td>\n",
       "    </tr>\n",
       "  </tbody>\n",
       "</table>\n",
       "</div>"
      ],
      "text/plain": [
       "0.0       4.671763e-22\n",
       "1000.0    3.166443e-20\n",
       "2000.0    1.736550e-18\n",
       "Name: , dtype: float64"
      ]
     },
     "execution_count": 31,
     "metadata": {},
     "output_type": "execute_result"
    }
   ],
   "source": [
    "posterior1 = prior1 * likelihood1\n",
    "posterior1.normalize()\n",
    "posterior1.head()"
   ]
  },
  {
   "cell_type": "code",
   "execution_count": 36,
   "metadata": {},
   "outputs": [
    {
     "data": {
      "text/html": [
       "<div>\n",
       "<style scoped>\n",
       "    .dataframe tbody tr th:only-of-type {\n",
       "        vertical-align: middle;\n",
       "    }\n",
       "\n",
       "    .dataframe tbody tr th {\n",
       "        vertical-align: top;\n",
       "    }\n",
       "\n",
       "    .dataframe thead th {\n",
       "        text-align: right;\n",
       "    }\n",
       "</style>\n",
       "<table border=\"1\" class=\"dataframe\">\n",
       "  <thead>\n",
       "    <tr style=\"text-align: right;\">\n",
       "      <th></th>\n",
       "      <th>probs</th>\n",
       "    </tr>\n",
       "  </thead>\n",
       "  <tbody>\n",
       "    <tr>\n",
       "      <th>0.0</th>\n",
       "      <td>8.205771e-21</td>\n",
       "    </tr>\n",
       "    <tr>\n",
       "      <th>1000.0</th>\n",
       "      <td>2.499936e-19</td>\n",
       "    </tr>\n",
       "    <tr>\n",
       "      <th>2000.0</th>\n",
       "      <td>6.499952e-18</td>\n",
       "    </tr>\n",
       "  </tbody>\n",
       "</table>\n",
       "</div>"
      ],
      "text/plain": [
       "0.0       8.205771e-21\n",
       "1000.0    2.499936e-19\n",
       "2000.0    6.499952e-18\n",
       "Name: , dtype: float64"
      ]
     },
     "execution_count": 36,
     "metadata": {},
     "output_type": "execute_result"
    }
   ],
   "source": [
    "posterior2 = prior2 * likelihood2\n",
    "posterior2.normalize()\n",
    "posterior2.head()"
   ]
  },
  {
   "cell_type": "code",
   "execution_count": 37,
   "metadata": {},
   "outputs": [],
   "source": [
    "def prob_overbid(sample_diff):\n",
    "    return np.mean(sample_diff > 0)"
   ]
  },
  {
   "cell_type": "code",
   "execution_count": 39,
   "metadata": {},
   "outputs": [],
   "source": [
    "def prob_worse_than(diff, sample_diff):\n",
    "    return np.mean(sample_diff < diff)"
   ]
  },
  {
   "cell_type": "code",
   "execution_count": 40,
   "metadata": {},
   "outputs": [],
   "source": [
    "def compute_prob_win(diff, sample_diff):\n",
    "    if diff > 0:\n",
    "        return 0\n",
    "    \n",
    "    p1 = prob_overbid(sample_diff)\n",
    "    p2 = prob_worse_than(diff, sample_diff)\n",
    "\n",
    "    return p1 + p2"
   ]
  },
  {
   "cell_type": "code",
   "execution_count": 41,
   "metadata": {},
   "outputs": [],
   "source": [
    "xs = np.linspace(-30000, 5000, 121)\n",
    "ys = [compute_prob_win(x, sample_diff2) for x in xs]"
   ]
  },
  {
   "cell_type": "code",
   "execution_count": 42,
   "metadata": {},
   "outputs": [],
   "source": [
    "def total_prob_win(bid, posterior, sample_diff):\n",
    "    total = 0\n",
    "    for price, prob in posterior.items():\n",
    "        diff = bid - price\n",
    "        total += prob * compute_prob_win(diff, sample_diff)\n",
    "    return total"
   ]
  },
  {
   "cell_type": "code",
   "execution_count": 43,
   "metadata": {},
   "outputs": [
    {
     "data": {
      "text/plain": [
       "0.0        2.971297e-01\n",
       "1000.0     2.983131e-01\n",
       "2000.0     2.998251e-01\n",
       "3000.0     3.017554e-01\n",
       "4000.0     3.042448e-01\n",
       "               ...     \n",
       "76000.0    9.298362e-30\n",
       "77000.0    8.740531e-32\n",
       "78000.0    6.621979e-34\n",
       "79000.0    4.043155e-36\n",
       "80000.0    1.982049e-38\n",
       "Length: 81, dtype: float64"
      ]
     },
     "execution_count": 43,
     "metadata": {},
     "output_type": "execute_result"
    }
   ],
   "source": [
    "bids = posterior1.qs\n",
    "probs = [total_prob_win(bid, posterior1, sample_diff2) for bid in bids]\n",
    "prob_win_series = pd.Series(probs, index=bids)\n",
    "prob_win_series"
   ]
  },
  {
   "cell_type": "code",
   "execution_count": 44,
   "metadata": {},
   "outputs": [],
   "source": [
    "def compute_gain(bid, price, sample_diff):\n",
    "    diff = bid - price\n",
    "    prob = compute_prob_win(diff, sample_diff)\n",
    "\n",
    "    if -250 <= diff <= 0:\n",
    "        return 2 * price * prob\n",
    "    else:\n",
    "        return price * prob"
   ]
  },
  {
   "cell_type": "code",
   "execution_count": 45,
   "metadata": {},
   "outputs": [],
   "source": [
    "def expected_gain(bid, posterior, sample_diff):\n",
    "    total = 0\n",
    "    for price, prob in posterior.items():\n",
    "        total += prob * compute_gain(bid, price, sample_diff)\n",
    "    return total"
   ]
  },
  {
   "cell_type": "code",
   "execution_count": null,
   "metadata": {},
   "outputs": [],
   "source": []
  }
 ],
 "metadata": {
  "kernelspec": {
   "display_name": "base",
   "language": "python",
   "name": "python3"
  },
  "language_info": {
   "codemirror_mode": {
    "name": "ipython",
    "version": 3
   },
   "file_extension": ".py",
   "mimetype": "text/x-python",
   "name": "python",
   "nbconvert_exporter": "python",
   "pygments_lexer": "ipython3",
   "version": "3.10.9"
  },
  "orig_nbformat": 4
 },
 "nbformat": 4,
 "nbformat_minor": 2
}
