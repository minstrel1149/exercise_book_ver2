{
 "cells": [
  {
   "cell_type": "code",
   "execution_count": 1,
   "metadata": {},
   "outputs": [],
   "source": [
    "from pathlib import Path\n",
    "import pandas as pd\n",
    "import numpy as np\n",
    "import scipy.stats as ss\n",
    "from scipy.interpolate import interp1d\n",
    "from scipy.special import expit\n",
    "from fractions import Fraction\n",
    "from empiricaldist import Pmf, Cdf\n",
    "import matplotlib.pyplot as plt\n",
    "from collections import Counter\n",
    "import statsmodels.formula.api as smfa"
   ]
  },
  {
   "cell_type": "code",
   "execution_count": 2,
   "metadata": {},
   "outputs": [],
   "source": [
    "from data.utils import make_uniform, make_joint, plot_contour, transform"
   ]
  },
  {
   "cell_type": "code",
   "execution_count": 3,
   "metadata": {},
   "outputs": [
    {
     "data": {
      "text/plain": [
       "(        Date  Temperature  Damage\n",
       " 0 1981-04-12           66       0\n",
       " 1 1981-11-12           70       1\n",
       " 2 1982-03-22           69       0\n",
       " 4 1982-01-11           68       0\n",
       " 5 1983-04-04           67       0,\n",
       " (23, 3))"
      ]
     },
     "execution_count": 3,
     "metadata": {},
     "output_type": "execute_result"
    }
   ],
   "source": [
    "link = 'https://raw.githubusercontent.com/CamDavidsonPilon/Probabilistic-Programming-and-Bayesian-Methods-for-Hackers/master/Chapter2_MorePyMC/data/challenger_data.csv'\n",
    "data = pd.read_csv(link, parse_dates=['Date'])\n",
    "data.rename(columns={'Damage Incident': 'Damage'}, inplace=True)\n",
    "data.drop(labels=[3, 24], inplace=True)\n",
    "data['Damage'] = data['Damage'].astype(int)\n",
    "data.head(), data.shape"
   ]
  },
  {
   "cell_type": "code",
   "execution_count": 4,
   "metadata": {},
   "outputs": [],
   "source": [
    "offset = round(data['Temperature'].mean(), 1)\n",
    "data['x'] = data['Temperature'] - offset\n",
    "data['y'] = data['Damage']"
   ]
  },
  {
   "cell_type": "code",
   "execution_count": 5,
   "metadata": {},
   "outputs": [
    {
     "data": {
      "text/plain": [
       "Intercept   -1.115625\n",
       "x           -0.232163\n",
       "dtype: float64"
      ]
     },
     "execution_count": 5,
     "metadata": {},
     "output_type": "execute_result"
    }
   ],
   "source": [
    "formula = 'y ~ x'\n",
    "results = smfa.logit(formula, data=data).fit(disp=False)\n",
    "results.params"
   ]
  },
  {
   "cell_type": "code",
   "execution_count": 6,
   "metadata": {},
   "outputs": [],
   "source": [
    "inter = results.params['Intercept']\n",
    "slope = results.params['x']\n",
    "xs = np.arange(53, 83) - offset\n",
    "log_odds = inter + slope * xs\n",
    "#odds = np.exp(log_odds)\n",
    "#ps = odds / (odds + 1)\n",
    "ps = expit(log_odds)"
   ]
  },
  {
   "cell_type": "code",
   "execution_count": 7,
   "metadata": {},
   "outputs": [
    {
     "data": {
      "text/plain": [
       "(array([ 2.7382762 ,  2.50611346,  2.27395072,  2.04178797,  1.80962523,\n",
       "         1.57746248,  1.34529974,  1.11313699,  0.88097425,  0.64881151,\n",
       "         0.41664876,  0.18448602, -0.04767673, -0.27983947, -0.51200221,\n",
       "        -0.74416496, -0.9763277 , -1.20849045, -1.44065319, -1.67281594,\n",
       "        -1.90497868, -2.13714142, -2.36930417, -2.60146691, -2.83362966,\n",
       "        -3.0657924 , -3.29795515, -3.53011789, -3.76228063, -3.99444338]),\n",
       " array([0.93924781, 0.92456929, 0.90669655, 0.88511521, 0.85931657,\n",
       "        0.82884484, 0.79336013, 0.75271348, 0.70702407, 0.65674259,\n",
       "        0.60268105, 0.54599114, 0.48808308, 0.43049313, 0.37472428,\n",
       "        0.32209405, 0.27362105, 0.22996826, 0.19144422, 0.1580491 ,\n",
       "        0.12954602, 0.10553894, 0.08554356, 0.06904407, 0.05553372,\n",
       "        0.04454055, 0.03564141, 0.02846733, 0.02270329, 0.01808462]))"
      ]
     },
     "execution_count": 7,
     "metadata": {},
     "output_type": "execute_result"
    }
   ],
   "source": [
    "log_odds, ps"
   ]
  },
  {
   "cell_type": "code",
   "execution_count": 8,
   "metadata": {},
   "outputs": [
    {
     "data": {
      "text/html": [
       "<div>\n",
       "<style scoped>\n",
       "    .dataframe tbody tr th:only-of-type {\n",
       "        vertical-align: middle;\n",
       "    }\n",
       "\n",
       "    .dataframe tbody tr th {\n",
       "        vertical-align: top;\n",
       "    }\n",
       "\n",
       "    .dataframe thead th {\n",
       "        text-align: right;\n",
       "    }\n",
       "</style>\n",
       "<table border=\"1\" class=\"dataframe\">\n",
       "  <thead>\n",
       "    <tr style=\"text-align: right;\">\n",
       "      <th></th>\n",
       "      <th></th>\n",
       "      <th>probs</th>\n",
       "    </tr>\n",
       "  </thead>\n",
       "  <tbody>\n",
       "    <tr>\n",
       "      <th rowspan=\"5\" valign=\"top\">-0.8</th>\n",
       "      <th>-5.00</th>\n",
       "      <td>0.000098</td>\n",
       "    </tr>\n",
       "    <tr>\n",
       "      <th>-4.94</th>\n",
       "      <td>0.000098</td>\n",
       "    </tr>\n",
       "    <tr>\n",
       "      <th>-4.88</th>\n",
       "      <td>0.000098</td>\n",
       "    </tr>\n",
       "    <tr>\n",
       "      <th>-4.82</th>\n",
       "      <td>0.000098</td>\n",
       "    </tr>\n",
       "    <tr>\n",
       "      <th>-4.76</th>\n",
       "      <td>0.000098</td>\n",
       "    </tr>\n",
       "    <tr>\n",
       "      <th>...</th>\n",
       "      <th>...</th>\n",
       "      <td>...</td>\n",
       "    </tr>\n",
       "    <tr>\n",
       "      <th rowspan=\"5\" valign=\"top\">0.1</th>\n",
       "      <th>0.76</th>\n",
       "      <td>0.000098</td>\n",
       "    </tr>\n",
       "    <tr>\n",
       "      <th>0.82</th>\n",
       "      <td>0.000098</td>\n",
       "    </tr>\n",
       "    <tr>\n",
       "      <th>0.88</th>\n",
       "      <td>0.000098</td>\n",
       "    </tr>\n",
       "    <tr>\n",
       "      <th>0.94</th>\n",
       "      <td>0.000098</td>\n",
       "    </tr>\n",
       "    <tr>\n",
       "      <th>1.00</th>\n",
       "      <td>0.000098</td>\n",
       "    </tr>\n",
       "  </tbody>\n",
       "</table>\n",
       "<p>10201 rows × 1 columns</p>\n",
       "</div>"
      ],
      "text/plain": [
       "-0.8  -5.00    0.000098\n",
       "      -4.94    0.000098\n",
       "      -4.88    0.000098\n",
       "      -4.82    0.000098\n",
       "      -4.76    0.000098\n",
       "                 ...   \n",
       " 0.1   0.76    0.000098\n",
       "       0.82    0.000098\n",
       "       0.88    0.000098\n",
       "       0.94    0.000098\n",
       "       1.00    0.000098\n",
       "Name: , Length: 10201, dtype: float64"
      ]
     },
     "execution_count": 8,
     "metadata": {},
     "output_type": "execute_result"
    }
   ],
   "source": [
    "qs_inter = np.linspace(-5, 1, 101)\n",
    "qs_slope = np.linspace(-0.8, 0.1, 101)\n",
    "prior_inter = make_uniform(qs_inter, name='Intercept')\n",
    "prior_slope = make_uniform(qs_slope, name='Slope')\n",
    "joint_pmf = Pmf(make_joint(prior_inter, prior_slope).stack())\n",
    "joint_pmf"
   ]
  },
  {
   "cell_type": "code",
   "execution_count": 9,
   "metadata": {},
   "outputs": [
    {
     "data": {
      "text/html": [
       "<div>\n",
       "<style scoped>\n",
       "    .dataframe tbody tr th:only-of-type {\n",
       "        vertical-align: middle;\n",
       "    }\n",
       "\n",
       "    .dataframe tbody tr th {\n",
       "        vertical-align: top;\n",
       "    }\n",
       "\n",
       "    .dataframe thead th {\n",
       "        text-align: right;\n",
       "    }\n",
       "</style>\n",
       "<table border=\"1\" class=\"dataframe\">\n",
       "  <thead>\n",
       "    <tr style=\"text-align: right;\">\n",
       "      <th></th>\n",
       "      <th>count</th>\n",
       "      <th>sum</th>\n",
       "    </tr>\n",
       "    <tr>\n",
       "      <th>x</th>\n",
       "      <th></th>\n",
       "      <th></th>\n",
       "    </tr>\n",
       "  </thead>\n",
       "  <tbody>\n",
       "    <tr>\n",
       "      <th>-16.6</th>\n",
       "      <td>1</td>\n",
       "      <td>1</td>\n",
       "    </tr>\n",
       "    <tr>\n",
       "      <th>-12.6</th>\n",
       "      <td>1</td>\n",
       "      <td>1</td>\n",
       "    </tr>\n",
       "    <tr>\n",
       "      <th>-11.6</th>\n",
       "      <td>1</td>\n",
       "      <td>1</td>\n",
       "    </tr>\n",
       "    <tr>\n",
       "      <th>-6.6</th>\n",
       "      <td>1</td>\n",
       "      <td>1</td>\n",
       "    </tr>\n",
       "    <tr>\n",
       "      <th>-3.6</th>\n",
       "      <td>1</td>\n",
       "      <td>0</td>\n",
       "    </tr>\n",
       "    <tr>\n",
       "      <th>-2.6</th>\n",
       "      <td>3</td>\n",
       "      <td>0</td>\n",
       "    </tr>\n",
       "    <tr>\n",
       "      <th>-1.6</th>\n",
       "      <td>1</td>\n",
       "      <td>0</td>\n",
       "    </tr>\n",
       "    <tr>\n",
       "      <th>-0.6</th>\n",
       "      <td>1</td>\n",
       "      <td>0</td>\n",
       "    </tr>\n",
       "    <tr>\n",
       "      <th>0.4</th>\n",
       "      <td>4</td>\n",
       "      <td>2</td>\n",
       "    </tr>\n",
       "    <tr>\n",
       "      <th>2.4</th>\n",
       "      <td>1</td>\n",
       "      <td>0</td>\n",
       "    </tr>\n",
       "    <tr>\n",
       "      <th>3.4</th>\n",
       "      <td>1</td>\n",
       "      <td>0</td>\n",
       "    </tr>\n",
       "    <tr>\n",
       "      <th>5.4</th>\n",
       "      <td>2</td>\n",
       "      <td>1</td>\n",
       "    </tr>\n",
       "    <tr>\n",
       "      <th>6.4</th>\n",
       "      <td>2</td>\n",
       "      <td>0</td>\n",
       "    </tr>\n",
       "    <tr>\n",
       "      <th>8.4</th>\n",
       "      <td>1</td>\n",
       "      <td>0</td>\n",
       "    </tr>\n",
       "    <tr>\n",
       "      <th>9.4</th>\n",
       "      <td>1</td>\n",
       "      <td>0</td>\n",
       "    </tr>\n",
       "    <tr>\n",
       "      <th>11.4</th>\n",
       "      <td>1</td>\n",
       "      <td>0</td>\n",
       "    </tr>\n",
       "  </tbody>\n",
       "</table>\n",
       "</div>"
      ],
      "text/plain": [
       "       count  sum\n",
       "x                \n",
       "-16.6      1    1\n",
       "-12.6      1    1\n",
       "-11.6      1    1\n",
       "-6.6       1    1\n",
       "-3.6       1    0\n",
       "-2.6       3    0\n",
       "-1.6       1    0\n",
       "-0.6       1    0\n",
       " 0.4       4    2\n",
       " 2.4       1    0\n",
       " 3.4       1    0\n",
       " 5.4       2    1\n",
       " 6.4       2    0\n",
       " 8.4       1    0\n",
       " 9.4       1    0\n",
       " 11.4      1    0"
      ]
     },
     "execution_count": 9,
     "metadata": {},
     "output_type": "execute_result"
    }
   ],
   "source": [
    "grouped = data.groupby('x')['y'].agg(['count', 'sum'])\n",
    "grouped"
   ]
  },
  {
   "cell_type": "code",
   "execution_count": 10,
   "metadata": {},
   "outputs": [],
   "source": [
    "ns = grouped['count']\n",
    "xs = grouped.index\n",
    "ps = expit(inter + slope * xs)\n",
    "ks = grouped['sum']"
   ]
  },
  {
   "cell_type": "code",
   "execution_count": 11,
   "metadata": {},
   "outputs": [
    {
     "data": {
      "text/plain": [
       "0.0004653644508250071"
      ]
     },
     "execution_count": 11,
     "metadata": {},
     "output_type": "execute_result"
    }
   ],
   "source": [
    "likes = ss.binom(ns, ps).pmf(ks)\n",
    "likes.prod()"
   ]
  },
  {
   "cell_type": "code",
   "execution_count": 12,
   "metadata": {},
   "outputs": [],
   "source": [
    "likelihood = joint_pmf.copy()\n",
    "for slope, inter in joint_pmf.index:\n",
    "    ps = expit(inter + slope * xs)\n",
    "    likes = ss.binom(ns, ps).pmf(ks)\n",
    "    likelihood[slope, inter] = likes.prod()"
   ]
  },
  {
   "cell_type": "code",
   "execution_count": 13,
   "metadata": {},
   "outputs": [
    {
     "data": {
      "image/png": "[encoded data removed]",
      "text/plain": [
       "<Figure size 432x288 with 1 Axes>"
      ]
     },
     "metadata": {
      "needs_background": "light"
     },
     "output_type": "display_data"
    }
   ],
   "source": [
    "posterior_pmf = joint_pmf * likelihood\n",
    "posterior_pmf.normalize()\n",
    "plot_contour(posterior_pmf.unstack())"
   ]
  },
  {
   "cell_type": "code",
   "execution_count": 24,
   "metadata": {},
   "outputs": [
    {
     "data": {
      "text/plain": [
       "<AxesSubplot:>"
      ]
     },
     "execution_count": 24,
     "metadata": {},
     "output_type": "execute_result"
    },
    {
     "data": {
      "image/png": "[encoded data removed]",
      "text/plain": [
       "<Figure size 432x288 with 1 Axes>"
      ]
     },
     "metadata": {
      "needs_background": "light"
     },
     "output_type": "display_data"
    }
   ],
   "source": [
    "marginal_inter = posterior_pmf.marginal(1)\n",
    "marginal_inter.plot()"
   ]
  },
  {
   "cell_type": "code",
   "execution_count": 25,
   "metadata": {},
   "outputs": [
    {
     "data": {
      "text/plain": [
       "<AxesSubplot:>"
      ]
     },
     "execution_count": 25,
     "metadata": {},
     "output_type": "execute_result"
    },
    {
     "data": {
      "image/png": "[encoded data removed]",
      "text/plain": [
       "<Figure size 432x288 with 1 Axes>"
      ]
     },
     "metadata": {
      "needs_background": "light"
     },
     "output_type": "display_data"
    }
   ],
   "source": [
    "marginal_slope = posterior_pmf.marginal(0)\n",
    "marginal_slope.plot()"
   ]
  },
  {
   "cell_type": "code",
   "execution_count": 26,
   "metadata": {},
   "outputs": [
    {
     "data": {
      "text/plain": [
       "(array([-5.  , -4.94, -4.88, -4.82, -4.76, -4.7 , -4.64, -4.58, -4.52,\n",
       "        -4.46, -4.4 , -4.34, -4.28, -4.22, -4.16, -4.1 , -4.04, -3.98,\n",
       "        -3.92, -3.86, -3.8 , -3.74, -3.68, -3.62, -3.56, -3.5 , -3.44,\n",
       "        -3.38, -3.32, -3.26, -3.2 , -3.14, -3.08, -3.02, -2.96, -2.9 ,\n",
       "        -2.84, -2.78, -2.72, -2.66, -2.6 , -2.54, -2.48, -2.42, -2.36,\n",
       "        -2.3 , -2.24, -2.18, -2.12, -2.06, -2.  , -1.94, -1.88, -1.82,\n",
       "        -1.76, -1.7 , -1.64, -1.58, -1.52, -1.46, -1.4 , -1.34, -1.28,\n",
       "        -1.22, -1.16, -1.1 , -1.04, -0.98, -0.92, -0.86, -0.8 , -0.74,\n",
       "        -0.68, -0.62, -0.56, -0.5 , -0.44, -0.38, -0.32, -0.26, -0.2 ,\n",
       "        -0.14, -0.08, -0.02,  0.04,  0.1 ,  0.16,  0.22,  0.28,  0.34,\n",
       "         0.4 ,  0.46,  0.52,  0.58,  0.64,  0.7 ,  0.76,  0.82,  0.88,\n",
       "         0.94,  1.  ]),\n",
       " array([0.00669285, 0.00710377, 0.00753973, 0.00800223, 0.00849286,\n",
       "        0.0090133 , 0.00956532, 0.0101508 , 0.01077173, 0.0114302 ,\n",
       "        0.01212843, 0.01286876, 0.01365366, 0.01448572, 0.01536771,\n",
       "        0.0163025 , 0.01729316, 0.01834289, 0.01945508, 0.0206333 ,\n",
       "        0.02188127, 0.02320294, 0.02460243, 0.02608408, 0.02765242,\n",
       "        0.02931223, 0.03106848, 0.03292639, 0.03489141, 0.03696921,\n",
       "        0.03916572, 0.04148712, 0.04393982, 0.04653047, 0.04926601,\n",
       "        0.05215356, 0.05520054, 0.05841456, 0.06180347, 0.06537533,\n",
       "        0.06913842, 0.07310117, 0.0772722 , 0.08166026, 0.08627419,\n",
       "        0.09112296, 0.09621554, 0.10156093, 0.10716807, 0.11304583,\n",
       "        0.11920292, 0.12564786, 0.13238887, 0.13943387, 0.14679034,\n",
       "        0.15446527, 0.16246506, 0.17079548, 0.17946152, 0.18846733,\n",
       "        0.19781611, 0.20751006, 0.21755022, 0.22793645, 0.23866729,\n",
       "        0.24973989, 0.26114999, 0.27289178, 0.28495789, 0.29733935,\n",
       "        0.31002552, 0.32300414, 0.3362613 , 0.34978145, 0.36354746,\n",
       "        0.37754067, 0.39174097, 0.4061269 , 0.42067575, 0.43536371,\n",
       "        0.450166  , 0.46505705, 0.48001066, 0.49500017, 0.50999867,\n",
       "        0.52497919, 0.53991488, 0.55477924, 0.56954622, 0.58419052,\n",
       "        0.59868766, 0.61301418, 0.62714777, 0.64106741, 0.65475346,\n",
       "        0.66818777, 0.68135373, 0.69423634, 0.70682222, 0.71909966,\n",
       "        0.73105858]))"
      ]
     },
     "execution_count": 26,
     "metadata": {},
     "output_type": "execute_result"
    }
   ],
   "source": [
    "marginal_inter.qs, expit(marginal_inter.qs)"
   ]
  },
  {
   "cell_type": "code",
   "execution_count": 29,
   "metadata": {},
   "outputs": [
    {
     "data": {
      "text/plain": [
       "array([0.08627419, 0.43536371])"
      ]
     },
     "execution_count": 29,
     "metadata": {},
     "output_type": "execute_result"
    },
    {
     "data": {
      "image/png": "[encoded data removed]",
      "text/plain": [
       "<Figure size 432x288 with 1 Axes>"
      ]
     },
     "metadata": {
      "needs_background": "light"
     },
     "output_type": "display_data"
    }
   ],
   "source": [
    "marginal_probs = marginal_inter.transform(expit)\n",
    "marginal_probs.plot()\n",
    "marginal_probs.credible_interval(0.9)"
   ]
  },
  {
   "cell_type": "code",
   "execution_count": 30,
   "metadata": {},
   "outputs": [
    {
     "data": {
      "text/plain": [
       "array([0.59392632, 0.89852567])"
      ]
     },
     "execution_count": 30,
     "metadata": {},
     "output_type": "execute_result"
    },
    {
     "data": {
      "image/png": "[encoded data removed]",
      "text/plain": [
       "<Figure size 432x288 with 1 Axes>"
      ]
     },
     "metadata": {
      "needs_background": "light"
     },
     "output_type": "display_data"
    }
   ],
   "source": [
    "marginal_lr = marginal_slope.transform(np.exp)\n",
    "marginal_lr.plot()\n",
    "marginal_lr.credible_interval(0.9)"
   ]
  },
  {
   "cell_type": "code",
   "execution_count": 32,
   "metadata": {},
   "outputs": [],
   "source": [
    "sample = posterior_pmf.choice(101)"
   ]
  },
  {
   "cell_type": "code",
   "execution_count": 33,
   "metadata": {},
   "outputs": [
    {
     "data": {
      "text/plain": [
       "array([-38.6, -37.6, -36.6, -35.6, -34.6, -33.6, -32.6, -31.6, -30.6,\n",
       "       -29.6, -28.6, -27.6, -26.6, -25.6, -24.6, -23.6, -22.6, -21.6,\n",
       "       -20.6, -19.6, -18.6, -17.6, -16.6, -15.6, -14.6, -13.6, -12.6,\n",
       "       -11.6, -10.6,  -9.6,  -8.6,  -7.6,  -6.6,  -5.6,  -4.6,  -3.6,\n",
       "        -2.6,  -1.6,  -0.6,   0.4,   1.4,   2.4,   3.4,   4.4,   5.4,\n",
       "         6.4,   7.4,   8.4,   9.4,  10.4,  11.4,  12.4])"
      ]
     },
     "execution_count": 33,
     "metadata": {},
     "output_type": "execute_result"
    }
   ],
   "source": [
    "temps = np.arange(31, 83)\n",
    "xs = temps - offset\n",
    "xs"
   ]
  },
  {
   "cell_type": "code",
   "execution_count": 37,
   "metadata": {},
   "outputs": [],
   "source": [
    "pred = np.empty((len(sample), len(xs)))\n",
    "for i, (slope, inter) in enumerate(sample):\n",
    "    pred[i] = expit(inter + slope * xs)"
   ]
  },
  {
   "cell_type": "code",
   "execution_count": 39,
   "metadata": {},
   "outputs": [
    {
     "data": {
      "text/plain": [
       "array([[0.99999935, 0.99999901, 0.99999851, ..., 0.00248449, 0.00164528,\n",
       "        0.00108922],\n",
       "       [0.99998799, 0.99998296, 0.99997582, ..., 0.00295882, 0.00208687,\n",
       "        0.0014715 ],\n",
       "       [0.99958483, 0.99948064, 0.99935033, ..., 0.03955897, 0.03187312,\n",
       "        0.02564068],\n",
       "       ...,\n",
       "       [0.99906273, 0.99884857, 0.99858555, ..., 0.04219268, 0.03460965,\n",
       "        0.02834914],\n",
       "       [0.99725329, 0.99677503, 0.9962138 , ..., 0.11979214, 0.10382769,\n",
       "        0.0897738 ],\n",
       "       [0.9706194 , 0.96712451, 0.96322965, ..., 0.10097844, 0.09092439,\n",
       "        0.08178032]])"
      ]
     },
     "execution_count": 39,
     "metadata": {},
     "output_type": "execute_result"
    }
   ],
   "source": [
    "pred"
   ]
  },
  {
   "cell_type": "code",
   "execution_count": 42,
   "metadata": {},
   "outputs": [
    {
     "data": {
      "text/plain": [
       "array([9.82450078e-01, 9.79639741e-01, 9.76167872e-01, 9.72120822e-01,\n",
       "       9.67860433e-01, 9.63736284e-01, 9.59105284e-01, 9.53911173e-01,\n",
       "       9.48093052e-01, 9.41585444e-01, 9.34318495e-01, 9.26218353e-01,\n",
       "       9.17207785e-01, 9.07207047e-01, 8.96135084e-01, 8.83911078e-01,\n",
       "       8.70456381e-01, 8.55696866e-01, 8.39565670e-01, 8.19889644e-01,\n",
       "       7.94880654e-01, 7.67384303e-01, 7.43759257e-01, 7.09550099e-01,\n",
       "       6.71196140e-01, 6.45107032e-01, 6.18125620e-01, 5.90395357e-01,\n",
       "       5.54532222e-01, 5.00999999e-01, 4.61426798e-01, 4.19993518e-01,\n",
       "       3.72899002e-01, 3.28098034e-01, 2.87942061e-01, 2.47721774e-01,\n",
       "       2.10153568e-01, 1.61921517e-01, 1.26573590e-01, 9.45930933e-02,\n",
       "       7.01230963e-02, 4.93785410e-02, 3.20898339e-02, 2.14656901e-02,\n",
       "       1.35891670e-02, 8.54692543e-03, 5.47213101e-03, 3.43738830e-03,\n",
       "       2.10024253e-03, 1.28257770e-03, 7.82995740e-04, 4.77914826e-04])"
      ]
     },
     "execution_count": 42,
     "metadata": {},
     "output_type": "execute_result"
    }
   ],
   "source": [
    "low, median, high = np.percentile(pred, [5, 50, 95], axis=0)\n",
    "low"
   ]
  },
  {
   "cell_type": "code",
   "execution_count": 43,
   "metadata": {},
   "outputs": [
    {
     "data": {
      "text/plain": [
       "[<matplotlib.lines.Line2D at 0x27e63b17910>]"
      ]
     },
     "execution_count": 43,
     "metadata": {},
     "output_type": "execute_result"
    },
    {
     "data": {
      "image/png": "[encoded data removed]",
      "text/plain": [
       "<Figure size 432x288 with 1 Axes>"
      ]
     },
     "metadata": {
      "needs_background": "light"
     },
     "output_type": "display_data"
    }
   ],
   "source": [
    "plt.fill_between(temps, low, high, color='C1', alpha=0.2)\n",
    "plt.plot(temps, median, color='C1', label='logistic model')"
   ]
  },
  {
   "cell_type": "code",
   "execution_count": null,
   "metadata": {},
   "outputs": [],
   "source": []
  }
 ],
 "metadata": {
  "kernelspec": {
   "display_name": "base",
   "language": "python",
   "name": "python3"
  },
  "language_info": {
   "codemirror_mode": {
    "name": "ipython",
    "version": 3
   },
   "file_extension": ".py",
   "mimetype": "text/x-python",
   "name": "python",
   "nbconvert_exporter": "python",
   "pygments_lexer": "ipython3",
   "version": "3.10.9"
  },
  "orig_nbformat": 4
 },
 "nbformat": 4,
 "nbformat_minor": 2
}
