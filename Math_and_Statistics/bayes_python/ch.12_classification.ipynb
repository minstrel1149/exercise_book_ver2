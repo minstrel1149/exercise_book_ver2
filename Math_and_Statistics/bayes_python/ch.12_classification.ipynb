{
 "cells": [
  {
   "cell_type": "code",
   "execution_count": 1,
   "metadata": {},
   "outputs": [],
   "source": [
    "from pathlib import Path\n",
    "import pandas as pd\n",
    "import numpy as np\n",
    "import scipy.stats as ss\n",
    "from scipy.interpolate import interp1d\n",
    "from fractions import Fraction\n",
    "from empiricaldist import Pmf, Cdf\n",
    "import matplotlib.pyplot as plt\n",
    "from collections import Counter"
   ]
  },
  {
   "cell_type": "code",
   "execution_count": 3,
   "metadata": {},
   "outputs": [
    {
     "data": {
      "text/plain": [
       "(344, 17)"
      ]
     },
     "execution_count": 3,
     "metadata": {},
     "output_type": "execute_result"
    }
   ],
   "source": [
    "df = pd.read_csv(Path.cwd() / 'data' / 'penguins_raw.csv')\n",
    "df.shape"
   ]
  },
  {
   "cell_type": "code",
   "execution_count": 17,
   "metadata": {},
   "outputs": [],
   "source": [
    "def make_cdf_map(df, colname, by='Species'):\n",
    "    fig, ax = plt.subplots(1, 1, figsize=(12, 3))\n",
    "    cdf_map = {}\n",
    "    grouped = df.groupby(by)[colname]\n",
    "    for species, group in grouped:\n",
    "        cdf_map[species] = Cdf.from_seq(group, name=species)\n",
    "        ax.plot(cdf_map[species], label=species)\n",
    "    plt.legend()\n",
    "    return cdf_map"
   ]
  },
  {
   "cell_type": "code",
   "execution_count": 18,
   "metadata": {},
   "outputs": [
    {
     "data": {
      "text/plain": [
       "{'Adelie Penguin (Pygoscelis adeliae)': 32.1    0.006623\n",
       " 33.1    0.013245\n",
       " 33.5    0.019868\n",
       " 34.0    0.026490\n",
       " 34.1    0.033113\n",
       "           ...   \n",
       " 43.2    0.966887\n",
       " 44.1    0.980132\n",
       " 45.6    0.986755\n",
       " 45.8    0.993377\n",
       " 46.0    1.000000\n",
       " Name: , Length: 78, dtype: float64,\n",
       " 'Chinstrap penguin (Pygoscelis antarctica)': 40.9    0.014706\n",
       " 42.4    0.029412\n",
       " 42.5    0.058824\n",
       " 43.2    0.073529\n",
       " 43.5    0.088235\n",
       " 45.2    0.117647\n",
       " 45.4    0.132353\n",
       " 45.5    0.147059\n",
       " 45.6    0.161765\n",
       " 45.7    0.191176\n",
       " 45.9    0.205882\n",
       " 46.0    0.220588\n",
       " 46.1    0.235294\n",
       " 46.2    0.250000\n",
       " 46.4    0.279412\n",
       " 46.5    0.294118\n",
       " 46.6    0.308824\n",
       " 46.7    0.323529\n",
       " 46.8    0.338235\n",
       " 46.9    0.352941\n",
       " 47.0    0.367647\n",
       " 47.5    0.382353\n",
       " 47.6    0.397059\n",
       " 48.1    0.411765\n",
       " 48.5    0.426471\n",
       " 49.0    0.455882\n",
       " 49.2    0.470588\n",
       " 49.3    0.485294\n",
       " 49.5    0.500000\n",
       " 49.6    0.514706\n",
       " 49.7    0.529412\n",
       " 49.8    0.544118\n",
       " 50.0    0.558824\n",
       " 50.1    0.573529\n",
       " 50.2    0.602941\n",
       " 50.3    0.617647\n",
       " 50.5    0.647059\n",
       " 50.6    0.661765\n",
       " 50.7    0.676471\n",
       " 50.8    0.705882\n",
       " 50.9    0.735294\n",
       " 51.0    0.750000\n",
       " 51.3    0.794118\n",
       " 51.4    0.808824\n",
       " 51.5    0.823529\n",
       " 51.7    0.838235\n",
       " 51.9    0.852941\n",
       " 52.0    0.897059\n",
       " 52.2    0.911765\n",
       " 52.7    0.926471\n",
       " 52.8    0.941176\n",
       " 53.5    0.955882\n",
       " 54.2    0.970588\n",
       " 55.8    0.985294\n",
       " 58.0    1.000000\n",
       " Name: , dtype: float64,\n",
       " 'Gentoo penguin (Pygoscelis papua)': 40.9    0.00813\n",
       " 41.7    0.01626\n",
       " 42.0    0.02439\n",
       " 42.6    0.03252\n",
       " 42.7    0.04065\n",
       "          ...   \n",
       " 53.4    0.96748\n",
       " 54.3    0.97561\n",
       " 55.1    0.98374\n",
       " 55.9    0.99187\n",
       " 59.6    1.00000\n",
       " Name: , Length: 75, dtype: float64}"
      ]
     },
     "execution_count": 18,
     "metadata": {},
     "output_type": "execute_result"
    },
    {
     "data": {
      "image/png": "[encoded data removed]",
      "text/plain": [
       "<Figure size 864x216 with 1 Axes>"
      ]
     },
     "metadata": {
      "needs_background": "light"
     },
     "output_type": "display_data"
    }
   ],
   "source": [
    "make_cdf_map(df, 'Culmen Length (mm)')"
   ]
  },
  {
   "cell_type": "code",
   "execution_count": 19,
   "metadata": {},
   "outputs": [],
   "source": [
    "def make_norm_map(df, colname, by='Species'):\n",
    "    norm_map = {}\n",
    "    grouped = df.groupby(by)[colname]\n",
    "    for species, group in grouped:\n",
    "        mean = group.mean()\n",
    "        std = group.std()\n",
    "        norm_map[species] = ss.norm(mean, std)\n",
    "    return norm_map"
   ]
  },
  {
   "cell_type": "code",
   "execution_count": 21,
   "metadata": {},
   "outputs": [
    {
     "data": {
      "text/plain": [
       "{'Adelie Penguin (Pygoscelis adeliae)': <scipy.stats._distn_infrastructure.rv_continuous_frozen at 0x18f0aa37e20>,\n",
       " 'Chinstrap penguin (Pygoscelis antarctica)': <scipy.stats._distn_infrastructure.rv_continuous_frozen at 0x18f0a931060>,\n",
       " 'Gentoo penguin (Pygoscelis papua)': <scipy.stats._distn_infrastructure.rv_continuous_frozen at 0x18f68bd8ca0>}"
      ]
     },
     "execution_count": 21,
     "metadata": {},
     "output_type": "execute_result"
    }
   ],
   "source": [
    "flipper_map = make_norm_map(df, 'Flipper Length (mm)')\n",
    "flipper_map"
   ]
  },
  {
   "cell_type": "code",
   "execution_count": 22,
   "metadata": {},
   "outputs": [
    {
     "data": {
      "text/plain": [
       "[0.054732511875530694, 0.051721356158881626, 5.866045366199098e-05]"
      ]
     },
     "execution_count": 22,
     "metadata": {},
     "output_type": "execute_result"
    }
   ],
   "source": [
    "data = 193\n",
    "hypos = flipper_map.keys()\n",
    "likelihood = [flipper_map[hypo].pdf(data) for hypo in hypos]\n",
    "likelihood"
   ]
  },
  {
   "cell_type": "code",
   "execution_count": 23,
   "metadata": {},
   "outputs": [
    {
     "data": {
      "text/html": [
       "<div>\n",
       "<style scoped>\n",
       "    .dataframe tbody tr th:only-of-type {\n",
       "        vertical-align: middle;\n",
       "    }\n",
       "\n",
       "    .dataframe tbody tr th {\n",
       "        vertical-align: top;\n",
       "    }\n",
       "\n",
       "    .dataframe thead th {\n",
       "        text-align: right;\n",
       "    }\n",
       "</style>\n",
       "<table border=\"1\" class=\"dataframe\">\n",
       "  <thead>\n",
       "    <tr style=\"text-align: right;\">\n",
       "      <th></th>\n",
       "      <th>probs</th>\n",
       "    </tr>\n",
       "  </thead>\n",
       "  <tbody>\n",
       "    <tr>\n",
       "      <th>Adelie Penguin (Pygoscelis adeliae)</th>\n",
       "      <td>0.513860</td>\n",
       "    </tr>\n",
       "    <tr>\n",
       "      <th>Chinstrap penguin (Pygoscelis antarctica)</th>\n",
       "      <td>0.485589</td>\n",
       "    </tr>\n",
       "    <tr>\n",
       "      <th>Gentoo penguin (Pygoscelis papua)</th>\n",
       "      <td>0.000551</td>\n",
       "    </tr>\n",
       "  </tbody>\n",
       "</table>\n",
       "</div>"
      ],
      "text/plain": [
       "Adelie Penguin (Pygoscelis adeliae)          0.513860\n",
       "Chinstrap penguin (Pygoscelis antarctica)    0.485589\n",
       "Gentoo penguin (Pygoscelis papua)            0.000551\n",
       "Name: , dtype: float64"
      ]
     },
     "execution_count": 23,
     "metadata": {},
     "output_type": "execute_result"
    }
   ],
   "source": [
    "prior = Pmf(1/3, hypos)\n",
    "posterior = prior * likelihood\n",
    "posterior.normalize()\n",
    "posterior"
   ]
  },
  {
   "cell_type": "code",
   "execution_count": 24,
   "metadata": {},
   "outputs": [],
   "source": [
    "def update_penguin(prior, data, norm_map):\n",
    "    hypos = prior.qs\n",
    "    likelihood = [norm_map[hypo].pdf(data) for hypo in hypos]\n",
    "    posterior = prior * likelihood\n",
    "    posterior.normalize()\n",
    "    return posterior"
   ]
  },
  {
   "cell_type": "code",
   "execution_count": 26,
   "metadata": {},
   "outputs": [],
   "source": [
    "culmen_map = make_norm_map(df, 'Culmen Length (mm)')"
   ]
  },
  {
   "cell_type": "code",
   "execution_count": 27,
   "metadata": {},
   "outputs": [
    {
     "data": {
      "text/html": [
       "<div>\n",
       "<style scoped>\n",
       "    .dataframe tbody tr th:only-of-type {\n",
       "        vertical-align: middle;\n",
       "    }\n",
       "\n",
       "    .dataframe tbody tr th {\n",
       "        vertical-align: top;\n",
       "    }\n",
       "\n",
       "    .dataframe thead th {\n",
       "        text-align: right;\n",
       "    }\n",
       "</style>\n",
       "<table border=\"1\" class=\"dataframe\">\n",
       "  <thead>\n",
       "    <tr style=\"text-align: right;\">\n",
       "      <th></th>\n",
       "      <th>probs</th>\n",
       "    </tr>\n",
       "  </thead>\n",
       "  <tbody>\n",
       "    <tr>\n",
       "      <th>Adelie Penguin (Pygoscelis adeliae)</th>\n",
       "      <td>0.003455</td>\n",
       "    </tr>\n",
       "    <tr>\n",
       "      <th>Chinstrap penguin (Pygoscelis antarctica)</th>\n",
       "      <td>0.995299</td>\n",
       "    </tr>\n",
       "    <tr>\n",
       "      <th>Gentoo penguin (Pygoscelis papua)</th>\n",
       "      <td>0.001246</td>\n",
       "    </tr>\n",
       "  </tbody>\n",
       "</table>\n",
       "</div>"
      ],
      "text/plain": [
       "Adelie Penguin (Pygoscelis adeliae)          0.003455\n",
       "Chinstrap penguin (Pygoscelis antarctica)    0.995299\n",
       "Gentoo penguin (Pygoscelis papua)            0.001246\n",
       "Name: , dtype: float64"
      ]
     },
     "execution_count": 27,
     "metadata": {},
     "output_type": "execute_result"
    }
   ],
   "source": [
    "posterior1 = update_penguin(prior, 193, flipper_map)\n",
    "posterior2 = update_penguin(posterior1, 48, culmen_map)\n",
    "posterior2"
   ]
  },
  {
   "cell_type": "code",
   "execution_count": null,
   "metadata": {},
   "outputs": [],
   "source": []
  }
 ],
 "metadata": {
  "kernelspec": {
   "display_name": "base",
   "language": "python",
   "name": "python3"
  },
  "language_info": {
   "codemirror_mode": {
    "name": "ipython",
    "version": 3
   },
   "file_extension": ".py",
   "mimetype": "text/x-python",
   "name": "python",
   "nbconvert_exporter": "python",
   "pygments_lexer": "ipython3",
   "version": "3.10.9"
  },
  "orig_nbformat": 4
 },
 "nbformat": 4,
 "nbformat_minor": 2
}
