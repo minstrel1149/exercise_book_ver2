{
 "cells": [
  {
   "cell_type": "code",
   "execution_count": 1,
   "metadata": {},
   "outputs": [],
   "source": [
    "from pathlib import Path\n",
    "import pandas as pd\n",
    "import numpy as np\n",
    "import scipy.stats as ss\n",
    "from scipy.interpolate import interp1d\n",
    "from fractions import Fraction\n",
    "from empiricaldist import Pmf, Cdf\n",
    "import matplotlib.pyplot as plt"
   ]
  },
  {
   "cell_type": "code",
   "execution_count": 2,
   "metadata": {},
   "outputs": [
    {
     "data": {
      "text/plain": [
       "scipy.stats._distn_infrastructure.rv_discrete_frozen"
      ]
     },
     "execution_count": 2,
     "metadata": {},
     "output_type": "execute_result"
    }
   ],
   "source": [
    "lam = 1.4\n",
    "dist = ss.poisson(lam)\n",
    "type(dist)"
   ]
  },
  {
   "cell_type": "code",
   "execution_count": 3,
   "metadata": {},
   "outputs": [
    {
     "data": {
      "text/plain": [
       "0.039471954028253146"
      ]
     },
     "execution_count": 3,
     "metadata": {},
     "output_type": "execute_result"
    }
   ],
   "source": [
    "k = 4\n",
    "dist.pmf(k)"
   ]
  },
  {
   "cell_type": "code",
   "execution_count": 4,
   "metadata": {},
   "outputs": [],
   "source": [
    "def make_poisson_pmf(lam, qs):\n",
    "    ps = ss.poisson(lam).pmf(qs)\n",
    "    pmf = Pmf(ps, qs)\n",
    "    pmf.normalize()\n",
    "    return pmf"
   ]
  },
  {
   "cell_type": "code",
   "execution_count": 5,
   "metadata": {},
   "outputs": [
    {
     "data": {
      "text/html": [
       "<div>\n",
       "<style scoped>\n",
       "    .dataframe tbody tr th:only-of-type {\n",
       "        vertical-align: middle;\n",
       "    }\n",
       "\n",
       "    .dataframe tbody tr th {\n",
       "        vertical-align: top;\n",
       "    }\n",
       "\n",
       "    .dataframe thead th {\n",
       "        text-align: right;\n",
       "    }\n",
       "</style>\n",
       "<table border=\"1\" class=\"dataframe\">\n",
       "  <thead>\n",
       "    <tr style=\"text-align: right;\">\n",
       "      <th></th>\n",
       "      <th>probs</th>\n",
       "    </tr>\n",
       "  </thead>\n",
       "  <tbody>\n",
       "    <tr>\n",
       "      <th>0</th>\n",
       "      <td>0.246598</td>\n",
       "    </tr>\n",
       "    <tr>\n",
       "      <th>1</th>\n",
       "      <td>0.345237</td>\n",
       "    </tr>\n",
       "    <tr>\n",
       "      <th>2</th>\n",
       "      <td>0.241666</td>\n",
       "    </tr>\n",
       "    <tr>\n",
       "      <th>3</th>\n",
       "      <td>0.112777</td>\n",
       "    </tr>\n",
       "    <tr>\n",
       "      <th>4</th>\n",
       "      <td>0.039472</td>\n",
       "    </tr>\n",
       "    <tr>\n",
       "      <th>5</th>\n",
       "      <td>0.011052</td>\n",
       "    </tr>\n",
       "    <tr>\n",
       "      <th>6</th>\n",
       "      <td>0.002579</td>\n",
       "    </tr>\n",
       "    <tr>\n",
       "      <th>7</th>\n",
       "      <td>0.000516</td>\n",
       "    </tr>\n",
       "    <tr>\n",
       "      <th>8</th>\n",
       "      <td>0.000090</td>\n",
       "    </tr>\n",
       "    <tr>\n",
       "      <th>9</th>\n",
       "      <td>0.000014</td>\n",
       "    </tr>\n",
       "  </tbody>\n",
       "</table>\n",
       "</div>"
      ],
      "text/plain": [
       "0    0.246598\n",
       "1    0.345237\n",
       "2    0.241666\n",
       "3    0.112777\n",
       "4    0.039472\n",
       "5    0.011052\n",
       "6    0.002579\n",
       "7    0.000516\n",
       "8    0.000090\n",
       "9    0.000014\n",
       "Name: , dtype: float64"
      ]
     },
     "execution_count": 5,
     "metadata": {},
     "output_type": "execute_result"
    }
   ],
   "source": [
    "lam = 1.4\n",
    "goals = np.arange(10)\n",
    "pmf_goals = make_poisson_pmf(lam, goals)\n",
    "pmf_goals"
   ]
  },
  {
   "cell_type": "code",
   "execution_count": 6,
   "metadata": {},
   "outputs": [],
   "source": [
    "alpha = 1.4\n",
    "qs = np.linspace(0, 10, 101)\n",
    "ps = ss.gamma(alpha).pdf(qs)"
   ]
  },
  {
   "cell_type": "code",
   "execution_count": 7,
   "metadata": {},
   "outputs": [
    {
     "data": {
      "text/html": [
       "<div>\n",
       "<style scoped>\n",
       "    .dataframe tbody tr th:only-of-type {\n",
       "        vertical-align: middle;\n",
       "    }\n",
       "\n",
       "    .dataframe tbody tr th {\n",
       "        vertical-align: top;\n",
       "    }\n",
       "\n",
       "    .dataframe thead th {\n",
       "        text-align: right;\n",
       "    }\n",
       "</style>\n",
       "<table border=\"1\" class=\"dataframe\">\n",
       "  <thead>\n",
       "    <tr style=\"text-align: right;\">\n",
       "      <th></th>\n",
       "      <th>probs</th>\n",
       "    </tr>\n",
       "  </thead>\n",
       "  <tbody>\n",
       "    <tr>\n",
       "      <th>0.0</th>\n",
       "      <td>0.000000</td>\n",
       "    </tr>\n",
       "    <tr>\n",
       "      <th>0.1</th>\n",
       "      <td>0.041053</td>\n",
       "    </tr>\n",
       "    <tr>\n",
       "      <th>0.2</th>\n",
       "      <td>0.049015</td>\n",
       "    </tr>\n",
       "    <tr>\n",
       "      <th>0.3</th>\n",
       "      <td>0.052160</td>\n",
       "    </tr>\n",
       "    <tr>\n",
       "      <th>0.4</th>\n",
       "      <td>0.052952</td>\n",
       "    </tr>\n",
       "    <tr>\n",
       "      <th>...</th>\n",
       "      <td>...</td>\n",
       "    </tr>\n",
       "    <tr>\n",
       "      <th>9.6</th>\n",
       "      <td>0.000019</td>\n",
       "    </tr>\n",
       "    <tr>\n",
       "      <th>9.7</th>\n",
       "      <td>0.000017</td>\n",
       "    </tr>\n",
       "    <tr>\n",
       "      <th>9.8</th>\n",
       "      <td>0.000016</td>\n",
       "    </tr>\n",
       "    <tr>\n",
       "      <th>9.9</th>\n",
       "      <td>0.000014</td>\n",
       "    </tr>\n",
       "    <tr>\n",
       "      <th>10.0</th>\n",
       "      <td>0.000013</td>\n",
       "    </tr>\n",
       "  </tbody>\n",
       "</table>\n",
       "<p>101 rows × 1 columns</p>\n",
       "</div>"
      ],
      "text/plain": [
       "0.0     0.000000\n",
       "0.1     0.041053\n",
       "0.2     0.049015\n",
       "0.3     0.052160\n",
       "0.4     0.052952\n",
       "          ...   \n",
       "9.6     0.000019\n",
       "9.7     0.000017\n",
       "9.8     0.000016\n",
       "9.9     0.000014\n",
       "10.0    0.000013\n",
       "Name: , Length: 101, dtype: float64"
      ]
     },
     "execution_count": 7,
     "metadata": {},
     "output_type": "execute_result"
    }
   ],
   "source": [
    "prior = Pmf(ps, qs)\n",
    "prior.normalize()\n",
    "prior"
   ]
  },
  {
   "cell_type": "code",
   "execution_count": 8,
   "metadata": {},
   "outputs": [],
   "source": [
    "lams = prior.qs\n",
    "k = 4\n",
    "likelihood = ss.poisson(lams).pmf(k)"
   ]
  },
  {
   "cell_type": "code",
   "execution_count": 9,
   "metadata": {},
   "outputs": [],
   "source": [
    "def update_poisson(pmf, data):\n",
    "    k = data\n",
    "    lams = pmf.qs\n",
    "    likelihood = ss.poisson(lams).pmf(k)\n",
    "    pmf *= likelihood\n",
    "    pmf.normalize()"
   ]
  },
  {
   "cell_type": "code",
   "execution_count": 10,
   "metadata": {},
   "outputs": [],
   "source": [
    "france = prior.copy()\n",
    "update_poisson(france, 4)"
   ]
  },
  {
   "cell_type": "code",
   "execution_count": 11,
   "metadata": {},
   "outputs": [],
   "source": [
    "croatia = prior.copy()\n",
    "update_poisson(croatia, 2)"
   ]
  },
  {
   "cell_type": "code",
   "execution_count": 12,
   "metadata": {},
   "outputs": [
    {
     "data": {
      "text/plain": [
       "0.7499366290930174"
      ]
     },
     "execution_count": 12,
     "metadata": {},
     "output_type": "execute_result"
    }
   ],
   "source": [
    "Pmf.prob_gt(france, croatia)"
   ]
  },
  {
   "cell_type": "code",
   "execution_count": 13,
   "metadata": {},
   "outputs": [
    {
     "data": {
      "text/html": [
       "<div>\n",
       "<style scoped>\n",
       "    .dataframe tbody tr th:only-of-type {\n",
       "        vertical-align: middle;\n",
       "    }\n",
       "\n",
       "    .dataframe tbody tr th {\n",
       "        vertical-align: top;\n",
       "    }\n",
       "\n",
       "    .dataframe thead th {\n",
       "        text-align: right;\n",
       "    }\n",
       "</style>\n",
       "<table border=\"1\" class=\"dataframe\">\n",
       "  <thead>\n",
       "    <tr style=\"text-align: right;\">\n",
       "      <th></th>\n",
       "      <th>0</th>\n",
       "      <th>1</th>\n",
       "      <th>2</th>\n",
       "      <th>3</th>\n",
       "      <th>4</th>\n",
       "      <th>5</th>\n",
       "      <th>6</th>\n",
       "      <th>7</th>\n",
       "      <th>8</th>\n",
       "      <th>9</th>\n",
       "    </tr>\n",
       "  </thead>\n",
       "  <tbody>\n",
       "    <tr>\n",
       "      <th></th>\n",
       "      <td>1.000000</td>\n",
       "      <td>0.000000</td>\n",
       "      <td>0.000000</td>\n",
       "      <td>0.000000</td>\n",
       "      <td>0.000000</td>\n",
       "      <td>0.000000e+00</td>\n",
       "      <td>0.000000e+00</td>\n",
       "      <td>0.000000e+00</td>\n",
       "      <td>0.000000e+00</td>\n",
       "      <td>0.000000e+00</td>\n",
       "    </tr>\n",
       "    <tr>\n",
       "      <th></th>\n",
       "      <td>0.904837</td>\n",
       "      <td>0.090484</td>\n",
       "      <td>0.004524</td>\n",
       "      <td>0.000151</td>\n",
       "      <td>0.000004</td>\n",
       "      <td>7.540312e-08</td>\n",
       "      <td>1.256719e-09</td>\n",
       "      <td>1.795312e-11</td>\n",
       "      <td>2.244140e-13</td>\n",
       "      <td>2.493489e-15</td>\n",
       "    </tr>\n",
       "    <tr>\n",
       "      <th></th>\n",
       "      <td>0.818731</td>\n",
       "      <td>0.163746</td>\n",
       "      <td>0.016375</td>\n",
       "      <td>0.001092</td>\n",
       "      <td>0.000055</td>\n",
       "      <td>2.183282e-06</td>\n",
       "      <td>7.277607e-08</td>\n",
       "      <td>2.079316e-09</td>\n",
       "      <td>5.198290e-11</td>\n",
       "      <td>1.155176e-12</td>\n",
       "    </tr>\n",
       "    <tr>\n",
       "      <th></th>\n",
       "      <td>0.740818</td>\n",
       "      <td>0.222245</td>\n",
       "      <td>0.033337</td>\n",
       "      <td>0.003334</td>\n",
       "      <td>0.000250</td>\n",
       "      <td>1.500157e-05</td>\n",
       "      <td>7.500784e-07</td>\n",
       "      <td>3.214622e-08</td>\n",
       "      <td>1.205483e-09</td>\n",
       "      <td>4.018277e-11</td>\n",
       "    </tr>\n",
       "    <tr>\n",
       "      <th></th>\n",
       "      <td>0.670320</td>\n",
       "      <td>0.268128</td>\n",
       "      <td>0.053626</td>\n",
       "      <td>0.007150</td>\n",
       "      <td>0.000715</td>\n",
       "      <td>5.720064e-05</td>\n",
       "      <td>3.813376e-06</td>\n",
       "      <td>2.179072e-07</td>\n",
       "      <td>1.089536e-08</td>\n",
       "      <td>4.842383e-10</td>\n",
       "    </tr>\n",
       "    <tr>\n",
       "      <th>...</th>\n",
       "      <td>...</td>\n",
       "      <td>...</td>\n",
       "      <td>...</td>\n",
       "      <td>...</td>\n",
       "      <td>...</td>\n",
       "      <td>...</td>\n",
       "      <td>...</td>\n",
       "      <td>...</td>\n",
       "      <td>...</td>\n",
       "      <td>...</td>\n",
       "    </tr>\n",
       "    <tr>\n",
       "      <th></th>\n",
       "      <td>0.000133</td>\n",
       "      <td>0.001278</td>\n",
       "      <td>0.006133</td>\n",
       "      <td>0.019626</td>\n",
       "      <td>0.047103</td>\n",
       "      <td>9.043735e-02</td>\n",
       "      <td>1.446998e-01</td>\n",
       "      <td>1.984454e-01</td>\n",
       "      <td>2.381345e-01</td>\n",
       "      <td>2.540101e-01</td>\n",
       "    </tr>\n",
       "    <tr>\n",
       "      <th></th>\n",
       "      <td>0.000124</td>\n",
       "      <td>0.001199</td>\n",
       "      <td>0.005813</td>\n",
       "      <td>0.018795</td>\n",
       "      <td>0.045578</td>\n",
       "      <td>8.842148e-02</td>\n",
       "      <td>1.429481e-01</td>\n",
       "      <td>1.980852e-01</td>\n",
       "      <td>2.401783e-01</td>\n",
       "      <td>2.588588e-01</td>\n",
       "    </tr>\n",
       "    <tr>\n",
       "      <th></th>\n",
       "      <td>0.000115</td>\n",
       "      <td>0.001125</td>\n",
       "      <td>0.005511</td>\n",
       "      <td>0.018002</td>\n",
       "      <td>0.044105</td>\n",
       "      <td>8.644639e-02</td>\n",
       "      <td>1.411958e-01</td>\n",
       "      <td>1.976741e-01</td>\n",
       "      <td>2.421507e-01</td>\n",
       "      <td>2.636753e-01</td>\n",
       "    </tr>\n",
       "    <tr>\n",
       "      <th></th>\n",
       "      <td>0.000107</td>\n",
       "      <td>0.001056</td>\n",
       "      <td>0.005226</td>\n",
       "      <td>0.017246</td>\n",
       "      <td>0.042683</td>\n",
       "      <td>8.451198e-02</td>\n",
       "      <td>1.394448e-01</td>\n",
       "      <td>1.972147e-01</td>\n",
       "      <td>2.440532e-01</td>\n",
       "      <td>2.684586e-01</td>\n",
       "    </tr>\n",
       "    <tr>\n",
       "      <th></th>\n",
       "      <td>0.000099</td>\n",
       "      <td>0.000991</td>\n",
       "      <td>0.004957</td>\n",
       "      <td>0.016524</td>\n",
       "      <td>0.041309</td>\n",
       "      <td>8.261808e-02</td>\n",
       "      <td>1.376968e-01</td>\n",
       "      <td>1.967097e-01</td>\n",
       "      <td>2.458871e-01</td>\n",
       "      <td>2.732079e-01</td>\n",
       "    </tr>\n",
       "  </tbody>\n",
       "</table>\n",
       "<p>101 rows × 10 columns</p>\n",
       "</div>"
      ],
      "text/plain": [
       "           0         1         2         3         4             5  \\\n",
       "    1.000000  0.000000  0.000000  0.000000  0.000000  0.000000e+00   \n",
       "    0.904837  0.090484  0.004524  0.000151  0.000004  7.540312e-08   \n",
       "    0.818731  0.163746  0.016375  0.001092  0.000055  2.183282e-06   \n",
       "    0.740818  0.222245  0.033337  0.003334  0.000250  1.500157e-05   \n",
       "    0.670320  0.268128  0.053626  0.007150  0.000715  5.720064e-05   \n",
       "..       ...       ...       ...       ...       ...           ...   \n",
       "    0.000133  0.001278  0.006133  0.019626  0.047103  9.043735e-02   \n",
       "    0.000124  0.001199  0.005813  0.018795  0.045578  8.842148e-02   \n",
       "    0.000115  0.001125  0.005511  0.018002  0.044105  8.644639e-02   \n",
       "    0.000107  0.001056  0.005226  0.017246  0.042683  8.451198e-02   \n",
       "    0.000099  0.000991  0.004957  0.016524  0.041309  8.261808e-02   \n",
       "\n",
       "               6             7             8             9  \n",
       "    0.000000e+00  0.000000e+00  0.000000e+00  0.000000e+00  \n",
       "    1.256719e-09  1.795312e-11  2.244140e-13  2.493489e-15  \n",
       "    7.277607e-08  2.079316e-09  5.198290e-11  1.155176e-12  \n",
       "    7.500784e-07  3.214622e-08  1.205483e-09  4.018277e-11  \n",
       "    3.813376e-06  2.179072e-07  1.089536e-08  4.842383e-10  \n",
       "..           ...           ...           ...           ...  \n",
       "    1.446998e-01  1.984454e-01  2.381345e-01  2.540101e-01  \n",
       "    1.429481e-01  1.980852e-01  2.401783e-01  2.588588e-01  \n",
       "    1.411958e-01  1.976741e-01  2.421507e-01  2.636753e-01  \n",
       "    1.394448e-01  1.972147e-01  2.440532e-01  2.684586e-01  \n",
       "    1.376968e-01  1.967097e-01  2.458871e-01  2.732079e-01  \n",
       "\n",
       "[101 rows x 10 columns]"
      ]
     },
     "execution_count": 13,
     "metadata": {},
     "output_type": "execute_result"
    }
   ],
   "source": [
    "pmf_seq = [make_poisson_pmf(lam, goals) for lam in prior.qs]\n",
    "pd.DataFrame(pmf_seq)"
   ]
  },
  {
   "cell_type": "code",
   "execution_count": 14,
   "metadata": {},
   "outputs": [],
   "source": [
    "def make_mixture(pmf, pmf_seq):\n",
    "    df = pd.DataFrame(pmf_seq).fillna(0).T\n",
    "    df *= np.array(pmf)\n",
    "    total = df.sum(axis=1)\n",
    "    return Pmf(total)"
   ]
  },
  {
   "cell_type": "code",
   "execution_count": 15,
   "metadata": {},
   "outputs": [],
   "source": [
    "pred_france = make_mixture(france, pmf_seq)\n",
    "pred_croatia = make_mixture(croatia, pmf_seq)"
   ]
  },
  {
   "cell_type": "code",
   "execution_count": 16,
   "metadata": {},
   "outputs": [
    {
     "data": {
      "text/plain": [
       "(0.5703522415934519, 0.26443376257235873, 0.16521399583418947)"
      ]
     },
     "execution_count": 16,
     "metadata": {},
     "output_type": "execute_result"
    }
   ],
   "source": [
    "Pmf.prob_gt(pred_france, pred_croatia), Pmf.prob_lt(pred_france, pred_croatia), Pmf.prob_eq(pred_france, pred_croatia)"
   ]
  },
  {
   "cell_type": "code",
   "execution_count": 17,
   "metadata": {},
   "outputs": [],
   "source": [
    "def exp_pdf(t, lam):\n",
    "    return lam * np.exp(-lam * t)"
   ]
  },
  {
   "cell_type": "code",
   "execution_count": 18,
   "metadata": {},
   "outputs": [
    {
     "data": {
      "text/plain": [
       "10.716328000266484"
      ]
     },
     "execution_count": 18,
     "metadata": {},
     "output_type": "execute_result"
    }
   ],
   "source": [
    "lam = 1.4\n",
    "qs = np.linspace(0, 90, 901)\n",
    "ps = exp_pdf(qs, lam)\n",
    "pmf_time = Pmf(ps, qs)\n",
    "pmf_time.normalize()"
   ]
  },
  {
   "cell_type": "code",
   "execution_count": 19,
   "metadata": {},
   "outputs": [
    {
     "data": {
      "text/plain": [
       "[<matplotlib.lines.Line2D at 0x1ac334760e0>]"
      ]
     },
     "execution_count": 19,
     "metadata": {},
     "output_type": "execute_result"
    },
    {
     "data": {
      "image/png": "[encoded data removed]",
      "text/plain": [
       "<Figure size 864x216 with 1 Axes>"
      ]
     },
     "metadata": {
      "needs_background": "light"
     },
     "output_type": "display_data"
    }
   ],
   "source": [
    "fig, ax = plt.subplots(1, 1, figsize=(12, 3))\n",
    "ax.plot(pmf_time)"
   ]
  },
  {
   "cell_type": "code",
   "execution_count": null,
   "metadata": {},
   "outputs": [],
   "source": []
  }
 ],
 "metadata": {
  "kernelspec": {
   "display_name": "base",
   "language": "python",
   "name": "python3"
  },
  "language_info": {
   "codemirror_mode": {
    "name": "ipython",
    "version": 3
   },
   "file_extension": ".py",
   "mimetype": "text/x-python",
   "name": "python",
   "nbconvert_exporter": "python",
   "pygments_lexer": "ipython3",
   "version": "3.10.9"
  },
  "orig_nbformat": 4
 },
 "nbformat": 4,
 "nbformat_minor": 2
}
