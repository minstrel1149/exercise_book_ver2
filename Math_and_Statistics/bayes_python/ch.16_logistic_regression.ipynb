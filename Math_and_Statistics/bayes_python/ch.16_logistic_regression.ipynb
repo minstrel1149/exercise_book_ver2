{
 "cells": [
  {
   "cell_type": "code",
   "execution_count": 18,
   "metadata": {},
   "outputs": [],
   "source": [
    "from pathlib import Path\n",
    "import pandas as pd\n",
    "import numpy as np\n",
    "import scipy.stats as ss\n",
    "from scipy.interpolate import interp1d\n",
    "from scipy.special import expit\n",
    "from fractions import Fraction\n",
    "from empiricaldist import Pmf, Cdf\n",
    "import matplotlib.pyplot as plt\n",
    "from collections import Counter\n",
    "import statsmodels.formula.api as smfa"
   ]
  },
  {
   "cell_type": "code",
   "execution_count": 3,
   "metadata": {},
   "outputs": [],
   "source": [
    "def prob(o):\n",
    "    return o / (o+1)\n",
    "\n",
    "def odds(p):\n",
    "    return p / (1 - p)"
   ]
  },
  {
   "cell_type": "code",
   "execution_count": 4,
   "metadata": {},
   "outputs": [],
   "source": [
    "link = 'https://raw.githubusercontent.com/CamDavidsonPilon/Probabilistic-Programming-and-Bayesian-Methods-for-Hackers/master/Chapter2_MorePyMC/data/challenger_data.csv'"
   ]
  },
  {
   "cell_type": "code",
   "execution_count": 11,
   "metadata": {},
   "outputs": [
    {
     "data": {
      "text/plain": [
       "(        Date  Temperature  Damage\n",
       " 0 1981-04-12           66       0\n",
       " 1 1981-11-12           70       1\n",
       " 2 1982-03-22           69       0\n",
       " 4 1982-01-11           68       0\n",
       " 5 1983-04-04           67       0,\n",
       " (23, 3))"
      ]
     },
     "execution_count": 11,
     "metadata": {},
     "output_type": "execute_result"
    }
   ],
   "source": [
    "data = pd.read_csv(link, parse_dates=['Date'])\n",
    "data.rename(columns={'Damage Incident': 'Damage'}, inplace=True)\n",
    "data.drop(labels=[3, 24], inplace=True)\n",
    "data['Damage'] = data['Damage'].astype(int)\n",
    "data.head(), data.shape"
   ]
  },
  {
   "cell_type": "code",
   "execution_count": 10,
   "metadata": {},
   "outputs": [
    {
     "data": {
      "text/plain": [
       "69.6"
      ]
     },
     "execution_count": 10,
     "metadata": {},
     "output_type": "execute_result"
    }
   ],
   "source": [
    "offset = round(data['Temperature'].mean(), 1)\n",
    "offset"
   ]
  },
  {
   "cell_type": "code",
   "execution_count": 12,
   "metadata": {},
   "outputs": [],
   "source": [
    "data['x'] = data['Temperature'] - offset\n",
    "data['y'] = data['Damage']"
   ]
  },
  {
   "cell_type": "code",
   "execution_count": 14,
   "metadata": {},
   "outputs": [
    {
     "data": {
      "text/plain": [
       "Intercept   -1.115625\n",
       "x           -0.232163\n",
       "dtype: float64"
      ]
     },
     "execution_count": 14,
     "metadata": {},
     "output_type": "execute_result"
    }
   ],
   "source": [
    "formula = 'y ~ x'\n",
    "results = smfa.logit(formula, data=data).fit(disp=False)\n",
    "results.params"
   ]
  },
  {
   "cell_type": "code",
   "execution_count": 15,
   "metadata": {},
   "outputs": [],
   "source": [
    "inter = results.params['Intercept']\n",
    "slope = results.params['x']\n",
    "xs = np.arange(53, 83) - offset"
   ]
  },
  {
   "cell_type": "code",
   "execution_count": 16,
   "metadata": {},
   "outputs": [
    {
     "data": {
      "text/plain": [
       "array([ 2.7382762 ,  2.50611346,  2.27395072,  2.04178797,  1.80962523,\n",
       "        1.57746248,  1.34529974,  1.11313699,  0.88097425,  0.64881151,\n",
       "        0.41664876,  0.18448602, -0.04767673, -0.27983947, -0.51200221,\n",
       "       -0.74416496, -0.9763277 , -1.20849045, -1.44065319, -1.67281594,\n",
       "       -1.90497868, -2.13714142, -2.36930417, -2.60146691, -2.83362966,\n",
       "       -3.0657924 , -3.29795515, -3.53011789, -3.76228063, -3.99444338])"
      ]
     },
     "execution_count": 16,
     "metadata": {},
     "output_type": "execute_result"
    }
   ],
   "source": [
    "log_odds = inter + slope * xs\n",
    "log_odds"
   ]
  },
  {
   "cell_type": "code",
   "execution_count": 17,
   "metadata": {},
   "outputs": [
    {
     "data": {
      "text/plain": [
       "array([0.93924781, 0.92456929, 0.90669655, 0.88511521, 0.85931657,\n",
       "       0.82884484, 0.79336013, 0.75271348, 0.70702407, 0.65674259,\n",
       "       0.60268105, 0.54599114, 0.48808308, 0.43049313, 0.37472428,\n",
       "       0.32209405, 0.27362105, 0.22996826, 0.19144422, 0.1580491 ,\n",
       "       0.12954602, 0.10553894, 0.08554356, 0.06904407, 0.05553372,\n",
       "       0.04454055, 0.03564141, 0.02846733, 0.02270329, 0.01808462])"
      ]
     },
     "execution_count": 17,
     "metadata": {},
     "output_type": "execute_result"
    }
   ],
   "source": [
    "odds = np.exp(log_odds)\n",
    "ps = prob(odds)\n",
    "ps"
   ]
  },
  {
   "cell_type": "code",
   "execution_count": 20,
   "metadata": {},
   "outputs": [
    {
     "data": {
      "text/plain": [
       "array([0.93924781, 0.92456929, 0.90669655, 0.88511521, 0.85931657,\n",
       "       0.82884484, 0.79336013, 0.75271348, 0.70702407, 0.65674259,\n",
       "       0.60268105, 0.54599114, 0.48808308, 0.43049313, 0.37472428,\n",
       "       0.32209405, 0.27362105, 0.22996826, 0.19144422, 0.1580491 ,\n",
       "       0.12954602, 0.10553894, 0.08554356, 0.06904407, 0.05553372,\n",
       "       0.04454055, 0.03564141, 0.02846733, 0.02270329, 0.01808462])"
      ]
     },
     "execution_count": 20,
     "metadata": {},
     "output_type": "execute_result"
    }
   ],
   "source": [
    "ps = expit(inter + slope * xs)\n",
    "ps"
   ]
  },
  {
   "cell_type": "code",
   "execution_count": null,
   "metadata": {},
   "outputs": [],
   "source": []
  }
 ],
 "metadata": {
  "kernelspec": {
   "display_name": "base",
   "language": "python",
   "name": "python3"
  },
  "language_info": {
   "codemirror_mode": {
    "name": "ipython",
    "version": 3
   },
   "file_extension": ".py",
   "mimetype": "text/x-python",
   "name": "python",
   "nbconvert_exporter": "python",
   "pygments_lexer": "ipython3",
   "version": "3.10.9"
  },
  "orig_nbformat": 4
 },
 "nbformat": 4,
 "nbformat_minor": 2
}
