{
 "cells": [
  {
   "cell_type": "code",
   "execution_count": 18,
   "metadata": {},
   "outputs": [],
   "source": [
    "from pathlib import Path\n",
    "import pandas as pd\n",
    "import numpy as np\n",
    "import scipy.stats as ss\n",
    "from scipy.interpolate import interp1d\n",
    "from scipy.special import expit\n",
    "from fractions import Fraction\n",
    "from empiricaldist import Pmf, Cdf\n",
    "import matplotlib.pyplot as plt\n",
    "from collections import Counter\n",
    "import statsmodels.formula.api as smfa"
   ]
  },
  {
   "cell_type": "code",
   "execution_count": 3,
   "metadata": {},
   "outputs": [],
   "source": [
    "def prob(o):\n",
    "    return o / (o+1)\n",
    "\n",
    "def odds(p):\n",
    "    return p / (1 - p)"
   ]
  },
  {
   "cell_type": "code",
   "execution_count": 4,
   "metadata": {},
   "outputs": [],
   "source": [
    "link = 'https://raw.githubusercontent.com/CamDavidsonPilon/Probabilistic-Programming-and-Bayesian-Methods-for-Hackers/master/Chapter2_MorePyMC/data/challenger_data.csv'"
   ]
  },
  {
   "cell_type": "code",
   "execution_count": 11,
   "metadata": {},
   "outputs": [
    {
     "data": {
      "text/plain": [
       "(        Date  Temperature  Damage\n",
       " 0 1981-04-12           66       0\n",
       " 1 1981-11-12           70       1\n",
       " 2 1982-03-22           69       0\n",
       " 4 1982-01-11           68       0\n",
       " 5 1983-04-04           67       0,\n",
       " (23, 3))"
      ]
     },
     "execution_count": 11,
     "metadata": {},
     "output_type": "execute_result"
    }
   ],
   "source": [
    "data = pd.read_csv(link, parse_dates=['Date'])\n",
    "data.rename(columns={'Damage Incident': 'Damage'}, inplace=True)\n",
    "data.drop(labels=[3, 24], inplace=True)\n",
    "data['Damage'] = data['Damage'].astype(int)\n",
    "data.head(), data.shape"
   ]
  },
  {
   "cell_type": "code",
   "execution_count": 10,
   "metadata": {},
   "outputs": [
    {
     "data": {
      "text/plain": [
       "69.6"
      ]
     },
     "execution_count": 10,
     "metadata": {},
     "output_type": "execute_result"
    }
   ],
   "source": [
    "offset = round(data['Temperature'].mean(), 1)\n",
    "offset"
   ]
  },
  {
   "cell_type": "code",
   "execution_count": 12,
   "metadata": {},
   "outputs": [],
   "source": [
    "data['x'] = data['Temperature'] - offset\n",
    "data['y'] = data['Damage']"
   ]
  },
  {
   "cell_type": "code",
   "execution_count": 14,
   "metadata": {},
   "outputs": [
    {
     "data": {
      "text/plain": [
       "Intercept   -1.115625\n",
       "x           -0.232163\n",
       "dtype: float64"
      ]
     },
     "execution_count": 14,
     "metadata": {},
     "output_type": "execute_result"
    }
   ],
   "source": [
    "formula = 'y ~ x'\n",
    "results = smfa.logit(formula, data=data).fit(disp=False)\n",
    "results.params"
   ]
  },
  {
   "cell_type": "code",
   "execution_count": 15,
   "metadata": {},
   "outputs": [],
   "source": [
    "inter = results.params['Intercept']\n",
    "slope = results.params['x']\n",
    "xs = np.arange(53, 83) - offset"
   ]
  },
  {
   "cell_type": "code",
   "execution_count": 16,
   "metadata": {},
   "outputs": [
    {
     "data": {
      "text/plain": [
       "array([ 2.7382762 ,  2.50611346,  2.27395072,  2.04178797,  1.80962523,\n",
       "        1.57746248,  1.34529974,  1.11313699,  0.88097425,  0.64881151,\n",
       "        0.41664876,  0.18448602, -0.04767673, -0.27983947, -0.51200221,\n",
       "       -0.74416496, -0.9763277 , -1.20849045, -1.44065319, -1.67281594,\n",
       "       -1.90497868, -2.13714142, -2.36930417, -2.60146691, -2.83362966,\n",
       "       -3.0657924 , -3.29795515, -3.53011789, -3.76228063, -3.99444338])"
      ]
     },
     "execution_count": 16,
     "metadata": {},
     "output_type": "execute_result"
    }
   ],
   "source": [
    "log_odds = inter + slope * xs\n",
    "log_odds"
   ]
  },
  {
   "cell_type": "code",
   "execution_count": 17,
   "metadata": {},
   "outputs": [
    {
     "data": {
      "text/plain": [
       "array([0.93924781, 0.92456929, 0.90669655, 0.88511521, 0.85931657,\n",
       "       0.82884484, 0.79336013, 0.75271348, 0.70702407, 0.65674259,\n",
       "       0.60268105, 0.54599114, 0.48808308, 0.43049313, 0.37472428,\n",
       "       0.32209405, 0.27362105, 0.22996826, 0.19144422, 0.1580491 ,\n",
       "       0.12954602, 0.10553894, 0.08554356, 0.06904407, 0.05553372,\n",
       "       0.04454055, 0.03564141, 0.02846733, 0.02270329, 0.01808462])"
      ]
     },
     "execution_count": 17,
     "metadata": {},
     "output_type": "execute_result"
    }
   ],
   "source": [
    "odds = np.exp(log_odds)\n",
    "ps = prob(odds)\n",
    "ps"
   ]
  },
  {
   "cell_type": "code",
   "execution_count": 20,
   "metadata": {},
   "outputs": [
    {
     "data": {
      "text/plain": [
       "array([0.93924781, 0.92456929, 0.90669655, 0.88511521, 0.85931657,\n",
       "       0.82884484, 0.79336013, 0.75271348, 0.70702407, 0.65674259,\n",
       "       0.60268105, 0.54599114, 0.48808308, 0.43049313, 0.37472428,\n",
       "       0.32209405, 0.27362105, 0.22996826, 0.19144422, 0.1580491 ,\n",
       "       0.12954602, 0.10553894, 0.08554356, 0.06904407, 0.05553372,\n",
       "       0.04454055, 0.03564141, 0.02846733, 0.02270329, 0.01808462])"
      ]
     },
     "execution_count": 20,
     "metadata": {},
     "output_type": "execute_result"
    }
   ],
   "source": [
    "ps = expit(inter + slope * xs)\n",
    "ps"
   ]
  },
  {
   "cell_type": "code",
   "execution_count": 21,
   "metadata": {},
   "outputs": [],
   "source": [
    "def make_uniform(qs, name=None, **options):\n",
    "    pmf = Pmf(1.0, qs, **options)\n",
    "    pmf.normalize()\n",
    "    if name:\n",
    "        pmf.index.name = name\n",
    "    return pmf"
   ]
  },
  {
   "cell_type": "code",
   "execution_count": 22,
   "metadata": {},
   "outputs": [],
   "source": [
    "qs_inter = np.linspace(-5, 1, 101)\n",
    "prior_inter = make_uniform(qs_inter, name='Intercept')\n",
    "qs_slope = np.linspace(-0.8, 0.1, 101)\n",
    "prior_slope = make_uniform(qs_slope, name='Slope')"
   ]
  },
  {
   "cell_type": "code",
   "execution_count": 23,
   "metadata": {},
   "outputs": [],
   "source": [
    "def make_joint(pmf1, pmf2):\n",
    "    X, Y = np.meshgrid(pmf1, pmf2)\n",
    "    return pd.DataFrame(X * Y, columns=pmf1.qs, index=pmf2.qs)"
   ]
  },
  {
   "cell_type": "code",
   "execution_count": 24,
   "metadata": {},
   "outputs": [],
   "source": [
    "joint = make_joint(prior_inter, prior_slope)"
   ]
  },
  {
   "cell_type": "code",
   "execution_count": 25,
   "metadata": {},
   "outputs": [],
   "source": [
    "joint_pmf = Pmf(joint.stack())"
   ]
  },
  {
   "cell_type": "code",
   "execution_count": 26,
   "metadata": {},
   "outputs": [],
   "source": [
    "grouped = data.groupby('x')['y'].agg(['count', 'sum'])"
   ]
  },
  {
   "cell_type": "code",
   "execution_count": 27,
   "metadata": {},
   "outputs": [],
   "source": [
    "ns = grouped['count']\n",
    "ks = grouped['sum']"
   ]
  },
  {
   "cell_type": "code",
   "execution_count": 28,
   "metadata": {},
   "outputs": [],
   "source": [
    "xs = grouped.index\n",
    "ps = expit(inter + slope * xs)"
   ]
  },
  {
   "cell_type": "code",
   "execution_count": 29,
   "metadata": {},
   "outputs": [],
   "source": [
    "likes = ss.binom.pmf(ks, ns, ps)"
   ]
  },
  {
   "cell_type": "code",
   "execution_count": 30,
   "metadata": {},
   "outputs": [],
   "source": [
    "likelihood = joint_pmf.copy()\n",
    "for slope, inter in joint_pmf.index:\n",
    "    ps = expit(inter + slope * xs)\n",
    "    likes = ss.binom.pmf(ks, ns, ps)\n",
    "    likelihood[slope, inter] = likes.prod()"
   ]
  },
  {
   "cell_type": "code",
   "execution_count": 31,
   "metadata": {},
   "outputs": [
    {
     "data": {
      "text/html": [
       "<div>\n",
       "<style scoped>\n",
       "    .dataframe tbody tr th:only-of-type {\n",
       "        vertical-align: middle;\n",
       "    }\n",
       "\n",
       "    .dataframe tbody tr th {\n",
       "        vertical-align: top;\n",
       "    }\n",
       "\n",
       "    .dataframe thead th {\n",
       "        text-align: right;\n",
       "    }\n",
       "</style>\n",
       "<table border=\"1\" class=\"dataframe\">\n",
       "  <thead>\n",
       "    <tr style=\"text-align: right;\">\n",
       "      <th></th>\n",
       "      <th></th>\n",
       "      <th>probs</th>\n",
       "    </tr>\n",
       "  </thead>\n",
       "  <tbody>\n",
       "    <tr>\n",
       "      <th rowspan=\"5\" valign=\"top\">-0.8</th>\n",
       "      <th>-5.00</th>\n",
       "      <td>1.036161e-08</td>\n",
       "    </tr>\n",
       "    <tr>\n",
       "      <th>-4.94</th>\n",
       "      <td>1.249270e-08</td>\n",
       "    </tr>\n",
       "    <tr>\n",
       "      <th>-4.88</th>\n",
       "      <td>1.503102e-08</td>\n",
       "    </tr>\n",
       "    <tr>\n",
       "      <th>-4.82</th>\n",
       "      <td>1.804693e-08</td>\n",
       "    </tr>\n",
       "    <tr>\n",
       "      <th>-4.76</th>\n",
       "      <td>2.162121e-08</td>\n",
       "    </tr>\n",
       "    <tr>\n",
       "      <th>...</th>\n",
       "      <th>...</th>\n",
       "      <td>...</td>\n",
       "    </tr>\n",
       "    <tr>\n",
       "      <th rowspan=\"5\" valign=\"top\">0.1</th>\n",
       "      <th>0.76</th>\n",
       "      <td>4.786765e-11</td>\n",
       "    </tr>\n",
       "    <tr>\n",
       "      <th>0.82</th>\n",
       "      <td>2.878786e-11</td>\n",
       "    </tr>\n",
       "    <tr>\n",
       "      <th>0.88</th>\n",
       "      <td>1.703372e-11</td>\n",
       "    </tr>\n",
       "    <tr>\n",
       "      <th>0.94</th>\n",
       "      <td>9.919219e-12</td>\n",
       "    </tr>\n",
       "    <tr>\n",
       "      <th>1.00</th>\n",
       "      <td>5.686606e-12</td>\n",
       "    </tr>\n",
       "  </tbody>\n",
       "</table>\n",
       "<p>10201 rows × 1 columns</p>\n",
       "</div>"
      ],
      "text/plain": [
       "-0.8  -5.00    1.036161e-08\n",
       "      -4.94    1.249270e-08\n",
       "      -4.88    1.503102e-08\n",
       "      -4.82    1.804693e-08\n",
       "      -4.76    2.162121e-08\n",
       "                   ...     \n",
       " 0.1   0.76    4.786765e-11\n",
       "       0.82    2.878786e-11\n",
       "       0.88    1.703372e-11\n",
       "       0.94    9.919219e-12\n",
       "       1.00    5.686606e-12\n",
       "Name: , Length: 10201, dtype: float64"
      ]
     },
     "execution_count": 31,
     "metadata": {},
     "output_type": "execute_result"
    }
   ],
   "source": [
    "likelihood"
   ]
  },
  {
   "cell_type": "code",
   "execution_count": 32,
   "metadata": {},
   "outputs": [
    {
     "data": {
      "text/plain": [
       "3.5089887132383696e-05"
      ]
     },
     "execution_count": 32,
     "metadata": {},
     "output_type": "execute_result"
    }
   ],
   "source": [
    "posterior_pmf = joint_pmf * likelihood\n",
    "posterior_pmf.normalize()"
   ]
  },
  {
   "cell_type": "code",
   "execution_count": 34,
   "metadata": {},
   "outputs": [
    {
     "data": {
      "text/html": [
       "<div>\n",
       "<style scoped>\n",
       "    .dataframe tbody tr th:only-of-type {\n",
       "        vertical-align: middle;\n",
       "    }\n",
       "\n",
       "    .dataframe tbody tr th {\n",
       "        vertical-align: top;\n",
       "    }\n",
       "\n",
       "    .dataframe thead th {\n",
       "        text-align: right;\n",
       "    }\n",
       "</style>\n",
       "<table border=\"1\" class=\"dataframe\">\n",
       "  <thead>\n",
       "    <tr style=\"text-align: right;\">\n",
       "      <th></th>\n",
       "      <th>-5.00</th>\n",
       "      <th>-4.94</th>\n",
       "      <th>-4.88</th>\n",
       "      <th>-4.82</th>\n",
       "      <th>-4.76</th>\n",
       "      <th>-4.70</th>\n",
       "      <th>-4.64</th>\n",
       "      <th>-4.58</th>\n",
       "      <th>-4.52</th>\n",
       "      <th>-4.46</th>\n",
       "      <th>...</th>\n",
       "      <th>0.46</th>\n",
       "      <th>0.52</th>\n",
       "      <th>0.58</th>\n",
       "      <th>0.64</th>\n",
       "      <th>0.70</th>\n",
       "      <th>0.76</th>\n",
       "      <th>0.82</th>\n",
       "      <th>0.88</th>\n",
       "      <th>0.94</th>\n",
       "      <th>1.00</th>\n",
       "    </tr>\n",
       "  </thead>\n",
       "  <tbody>\n",
       "    <tr>\n",
       "      <th>-0.800</th>\n",
       "      <td>2.894694e-08</td>\n",
       "      <td>3.490051e-08</td>\n",
       "      <td>4.199173e-08</td>\n",
       "      <td>5.041718e-08</td>\n",
       "      <td>6.040255e-08</td>\n",
       "      <td>7.220584e-08</td>\n",
       "      <td>8.612070e-08</td>\n",
       "      <td>1.024797e-07</td>\n",
       "      <td>1.216575e-07</td>\n",
       "      <td>1.440743e-07</td>\n",
       "      <td>...</td>\n",
       "      <td>1.684845e-08</td>\n",
       "      <td>1.259112e-08</td>\n",
       "      <td>9.347097e-09</td>\n",
       "      <td>6.893193e-09</td>\n",
       "      <td>5.050334e-09</td>\n",
       "      <td>3.676222e-09</td>\n",
       "      <td>2.658839e-09</td>\n",
       "      <td>1.910814e-09</td>\n",
       "      <td>1.364614e-09</td>\n",
       "      <td>9.684889e-10</td>\n",
       "    </tr>\n",
       "    <tr>\n",
       "      <th>-0.791</th>\n",
       "      <td>2.997096e-08</td>\n",
       "      <td>3.618641e-08</td>\n",
       "      <td>4.360092e-08</td>\n",
       "      <td>5.242412e-08</td>\n",
       "      <td>6.289716e-08</td>\n",
       "      <td>7.529631e-08</td>\n",
       "      <td>8.993670e-08</td>\n",
       "      <td>1.071760e-07</td>\n",
       "      <td>1.274184e-07</td>\n",
       "      <td>1.511177e-07</td>\n",
       "      <td>...</td>\n",
       "      <td>1.957195e-08</td>\n",
       "      <td>1.462265e-08</td>\n",
       "      <td>1.085185e-08</td>\n",
       "      <td>8.000014e-09</td>\n",
       "      <td>5.858842e-09</td>\n",
       "      <td>4.262778e-09</td>\n",
       "      <td>3.081488e-09</td>\n",
       "      <td>2.213313e-09</td>\n",
       "      <td>1.579676e-09</td>\n",
       "      <td>1.120380e-09</td>\n",
       "    </tr>\n",
       "    <tr>\n",
       "      <th>-0.782</th>\n",
       "      <td>3.099052e-08</td>\n",
       "      <td>3.747093e-08</td>\n",
       "      <td>4.521350e-08</td>\n",
       "      <td>5.444144e-08</td>\n",
       "      <td>6.541209e-08</td>\n",
       "      <td>7.842088e-08</td>\n",
       "      <td>9.380555e-08</td>\n",
       "      <td>1.119503e-07</td>\n",
       "      <td>1.332903e-07</td>\n",
       "      <td>1.583154e-07</td>\n",
       "      <td>...</td>\n",
       "      <td>2.272323e-08</td>\n",
       "      <td>1.697252e-08</td>\n",
       "      <td>1.259173e-08</td>\n",
       "      <td>9.279210e-09</td>\n",
       "      <td>6.792791e-09</td>\n",
       "      <td>4.939955e-09</td>\n",
       "      <td>3.569129e-09</td>\n",
       "      <td>2.562086e-09</td>\n",
       "      <td>1.827451e-09</td>\n",
       "      <td>1.295232e-09</td>\n",
       "    </tr>\n",
       "    <tr>\n",
       "      <th>-0.773</th>\n",
       "      <td>3.200181e-08</td>\n",
       "      <td>3.874949e-08</td>\n",
       "      <td>4.682399e-08</td>\n",
       "      <td>5.646265e-08</td>\n",
       "      <td>6.793971e-08</td>\n",
       "      <td>8.157067e-08</td>\n",
       "      <td>9.771699e-08</td>\n",
       "      <td>1.167908e-07</td>\n",
       "      <td>1.392600e-07</td>\n",
       "      <td>1.656525e-07</td>\n",
       "      <td>...</td>\n",
       "      <td>2.636699e-08</td>\n",
       "      <td>1.968870e-08</td>\n",
       "      <td>1.460203e-08</td>\n",
       "      <td>1.075654e-08</td>\n",
       "      <td>7.870837e-09</td>\n",
       "      <td>5.721154e-09</td>\n",
       "      <td>4.131311e-09</td>\n",
       "      <td>2.963886e-09</td>\n",
       "      <td>2.112676e-09</td>\n",
       "      <td>1.496343e-09</td>\n",
       "    </tr>\n",
       "    <tr>\n",
       "      <th>-0.764</th>\n",
       "      <td>3.300075e-08</td>\n",
       "      <td>4.001720e-08</td>\n",
       "      <td>4.842651e-08</td>\n",
       "      <td>5.848076e-08</td>\n",
       "      <td>7.047174e-08</td>\n",
       "      <td>8.473594e-08</td>\n",
       "      <td>1.016597e-07</td>\n",
       "      <td>1.216844e-07</td>\n",
       "      <td>1.453124e-07</td>\n",
       "      <td>1.731121e-07</td>\n",
       "      <td>...</td>\n",
       "      <td>3.057717e-08</td>\n",
       "      <td>2.282601e-08</td>\n",
       "      <td>1.692306e-08</td>\n",
       "      <td>1.246142e-08</td>\n",
       "      <td>9.114248e-09</td>\n",
       "      <td>6.621637e-09</td>\n",
       "      <td>4.778900e-09</td>\n",
       "      <td>3.426387e-09</td>\n",
       "      <td>2.440727e-09</td>\n",
       "      <td>1.727450e-09</td>\n",
       "    </tr>\n",
       "  </tbody>\n",
       "</table>\n",
       "<p>5 rows × 101 columns</p>\n",
       "</div>"
      ],
      "text/plain": [
       "               -5.00         -4.94         -4.88         -4.82         -4.76  \\\n",
       "-0.800  2.894694e-08  3.490051e-08  4.199173e-08  5.041718e-08  6.040255e-08   \n",
       "-0.791  2.997096e-08  3.618641e-08  4.360092e-08  5.242412e-08  6.289716e-08   \n",
       "-0.782  3.099052e-08  3.747093e-08  4.521350e-08  5.444144e-08  6.541209e-08   \n",
       "-0.773  3.200181e-08  3.874949e-08  4.682399e-08  5.646265e-08  6.793971e-08   \n",
       "-0.764  3.300075e-08  4.001720e-08  4.842651e-08  5.848076e-08  7.047174e-08   \n",
       "\n",
       "               -4.70         -4.64         -4.58         -4.52         -4.46  \\\n",
       "-0.800  7.220584e-08  8.612070e-08  1.024797e-07  1.216575e-07  1.440743e-07   \n",
       "-0.791  7.529631e-08  8.993670e-08  1.071760e-07  1.274184e-07  1.511177e-07   \n",
       "-0.782  7.842088e-08  9.380555e-08  1.119503e-07  1.332903e-07  1.583154e-07   \n",
       "-0.773  8.157067e-08  9.771699e-08  1.167908e-07  1.392600e-07  1.656525e-07   \n",
       "-0.764  8.473594e-08  1.016597e-07  1.216844e-07  1.453124e-07  1.731121e-07   \n",
       "\n",
       "        ...          0.46          0.52          0.58          0.64  \\\n",
       "-0.800  ...  1.684845e-08  1.259112e-08  9.347097e-09  6.893193e-09   \n",
       "-0.791  ...  1.957195e-08  1.462265e-08  1.085185e-08  8.000014e-09   \n",
       "-0.782  ...  2.272323e-08  1.697252e-08  1.259173e-08  9.279210e-09   \n",
       "-0.773  ...  2.636699e-08  1.968870e-08  1.460203e-08  1.075654e-08   \n",
       "-0.764  ...  3.057717e-08  2.282601e-08  1.692306e-08  1.246142e-08   \n",
       "\n",
       "                0.70          0.76          0.82          0.88          0.94  \\\n",
       "-0.800  5.050334e-09  3.676222e-09  2.658839e-09  1.910814e-09  1.364614e-09   \n",
       "-0.791  5.858842e-09  4.262778e-09  3.081488e-09  2.213313e-09  1.579676e-09   \n",
       "-0.782  6.792791e-09  4.939955e-09  3.569129e-09  2.562086e-09  1.827451e-09   \n",
       "-0.773  7.870837e-09  5.721154e-09  4.131311e-09  2.963886e-09  2.112676e-09   \n",
       "-0.764  9.114248e-09  6.621637e-09  4.778900e-09  3.426387e-09  2.440727e-09   \n",
       "\n",
       "                1.00  \n",
       "-0.800  9.684889e-10  \n",
       "-0.791  1.120380e-09  \n",
       "-0.782  1.295232e-09  \n",
       "-0.773  1.496343e-09  \n",
       "-0.764  1.727450e-09  \n",
       "\n",
       "[5 rows x 101 columns]"
      ]
     },
     "execution_count": 34,
     "metadata": {},
     "output_type": "execute_result"
    }
   ],
   "source": [
    "joint_posterior = posterior_pmf.unstack()\n",
    "joint_posterior.head()"
   ]
  },
  {
   "cell_type": "code",
   "execution_count": 36,
   "metadata": {},
   "outputs": [],
   "source": [
    "def transform(pmf, func):\n",
    "    ps = pmf.ps\n",
    "    qs = func(pmf.qs)\n",
    "    return Pmf(ps, qs, copy=True)"
   ]
  },
  {
   "cell_type": "code",
   "execution_count": 41,
   "metadata": {},
   "outputs": [],
   "source": [
    "sample = posterior_pmf.choice(101)"
   ]
  },
  {
   "cell_type": "code",
   "execution_count": 42,
   "metadata": {},
   "outputs": [],
   "source": [
    "temps = np.arange(31, 83)\n",
    "xs = temps - offset"
   ]
  },
  {
   "cell_type": "code",
   "execution_count": 44,
   "metadata": {},
   "outputs": [],
   "source": [
    "pred = np.empty((len(sample), len(xs)))\n",
    "for i, (slope, inter) in enumerate(sample):\n",
    "    pred[i] = expit(inter + slope * xs)"
   ]
  },
  {
   "cell_type": "code",
   "execution_count": 45,
   "metadata": {},
   "outputs": [],
   "source": [
    "low, median, high = np.percentile(pred, [5, 50, 95], axis=0)"
   ]
  },
  {
   "cell_type": "code",
   "execution_count": null,
   "metadata": {},
   "outputs": [],
   "source": []
  }
 ],
 "metadata": {
  "kernelspec": {
   "display_name": "base",
   "language": "python",
   "name": "python3"
  },
  "language_info": {
   "codemirror_mode": {
    "name": "ipython",
    "version": 3
   },
   "file_extension": ".py",
   "mimetype": "text/x-python",
   "name": "python",
   "nbconvert_exporter": "python",
   "pygments_lexer": "ipython3",
   "version": "3.10.9"
  },
  "orig_nbformat": 4
 },
 "nbformat": 4,
 "nbformat_minor": 2
}
