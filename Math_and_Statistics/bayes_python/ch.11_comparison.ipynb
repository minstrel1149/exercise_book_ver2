{
 "cells": [
  {
   "cell_type": "code",
   "execution_count": 1,
   "metadata": {},
   "outputs": [],
   "source": [
    "from pathlib import Path\n",
    "import pandas as pd\n",
    "import numpy as np\n",
    "import scipy.stats as ss\n",
    "from scipy.interpolate import interp1d\n",
    "from fractions import Fraction\n",
    "from empiricaldist import Pmf, Cdf\n",
    "import matplotlib.pyplot as plt\n",
    "from collections import Counter"
   ]
  },
  {
   "cell_type": "code",
   "execution_count": 3,
   "metadata": {},
   "outputs": [],
   "source": [
    "x = [1, 3, 5]\n",
    "y = [2, 4]"
   ]
  },
  {
   "cell_type": "code",
   "execution_count": 22,
   "metadata": {},
   "outputs": [
    {
     "data": {
      "text/plain": [
       "array([[ 2,  4],\n",
       "       [ 6, 12],\n",
       "       [10, 20]])"
      ]
     },
     "execution_count": 22,
     "metadata": {},
     "output_type": "execute_result"
    }
   ],
   "source": [
    "np.dot(np.array(x).reshape(3, 1), np.array(y).reshape(1, 2))"
   ]
  },
  {
   "cell_type": "code",
   "execution_count": 4,
   "metadata": {},
   "outputs": [],
   "source": [
    "X, Y = np.meshgrid(x, y)"
   ]
  },
  {
   "cell_type": "code",
   "execution_count": 7,
   "metadata": {},
   "outputs": [
    {
     "data": {
      "text/html": [
       "<div>\n",
       "<style scoped>\n",
       "    .dataframe tbody tr th:only-of-type {\n",
       "        vertical-align: middle;\n",
       "    }\n",
       "\n",
       "    .dataframe tbody tr th {\n",
       "        vertical-align: top;\n",
       "    }\n",
       "\n",
       "    .dataframe thead th {\n",
       "        text-align: right;\n",
       "    }\n",
       "</style>\n",
       "<table border=\"1\" class=\"dataframe\">\n",
       "  <thead>\n",
       "    <tr style=\"text-align: right;\">\n",
       "      <th></th>\n",
       "      <th>1</th>\n",
       "      <th>3</th>\n",
       "      <th>5</th>\n",
       "    </tr>\n",
       "  </thead>\n",
       "  <tbody>\n",
       "    <tr>\n",
       "      <th>2</th>\n",
       "      <td>2</td>\n",
       "      <td>6</td>\n",
       "      <td>10</td>\n",
       "    </tr>\n",
       "    <tr>\n",
       "      <th>4</th>\n",
       "      <td>4</td>\n",
       "      <td>12</td>\n",
       "      <td>20</td>\n",
       "    </tr>\n",
       "  </tbody>\n",
       "</table>\n",
       "</div>"
      ],
      "text/plain": [
       "   1   3   5\n",
       "2  2   6  10\n",
       "4  4  12  20"
      ]
     },
     "execution_count": 7,
     "metadata": {},
     "output_type": "execute_result"
    }
   ],
   "source": [
    "df = pd.DataFrame(X * Y, columns=x, index=y)\n",
    "df"
   ]
  },
  {
   "cell_type": "code",
   "execution_count": 8,
   "metadata": {},
   "outputs": [
    {
     "data": {
      "text/plain": [
       "array([154. , 154.5, 155. , 155.5, 156. , 156.5, 157. , 157.5, 158. ,\n",
       "       158.5, 159. , 159.5, 160. , 160.5, 161. , 161.5, 162. , 162.5,\n",
       "       163. , 163.5, 164. , 164.5, 165. , 165.5, 166. , 166.5, 167. ,\n",
       "       167.5, 168. , 168.5, 169. , 169.5, 170. , 170.5, 171. , 171.5,\n",
       "       172. , 172.5, 173. , 173.5, 174. , 174.5, 175. , 175.5, 176. ,\n",
       "       176.5, 177. , 177.5, 178. , 178.5, 179. , 179.5, 180. , 180.5,\n",
       "       181. , 181.5, 182. , 182.5, 183. , 183.5, 184. , 184.5, 185. ,\n",
       "       185.5, 186. , 186.5, 187. , 187.5, 188. , 188.5, 189. , 189.5,\n",
       "       190. , 190.5, 191. , 191.5, 192. , 192.5, 193. , 193.5, 194. ,\n",
       "       194.5, 195. , 195.5, 196. , 196.5, 197. , 197.5, 198. , 198.5,\n",
       "       199. , 199.5, 200. , 200.5, 201. , 201.5])"
      ]
     },
     "execution_count": 8,
     "metadata": {},
     "output_type": "execute_result"
    }
   ],
   "source": [
    "mean = 178\n",
    "qs = np.arange(mean - 24, mean + 24, 0.5)\n",
    "qs"
   ]
  },
  {
   "cell_type": "code",
   "execution_count": 9,
   "metadata": {},
   "outputs": [
    {
     "data": {
      "text/plain": [
       "array([0.00040257, 0.00049184, 0.00059838, 0.00072494, 0.00087456,\n",
       "       0.00105062, 0.00125682, 0.00149717, 0.00177597, 0.00209782,\n",
       "       0.00246758, 0.0028903 , 0.00337118, 0.00391553, 0.00452865,\n",
       "       0.00521572, 0.00598177, 0.00683146, 0.00776901, 0.00879807,\n",
       "       0.0099215 , 0.0111413 , 0.01245844, 0.01387267, 0.01538244,\n",
       "       0.01698475, 0.01867505, 0.02044717, 0.02229325, 0.02420373,\n",
       "       0.02616737, 0.02817128, 0.03020104, 0.03224081, 0.03427353,\n",
       "       0.0362811 , 0.03824466, 0.04014486, 0.04196216, 0.04367717,\n",
       "       0.04527099, 0.04672553, 0.04802388, 0.04915062, 0.05009213,\n",
       "       0.05083687, 0.0513756 , 0.05170157, 0.05181069, 0.05170157,\n",
       "       0.0513756 , 0.05083687, 0.05009213, 0.04915062, 0.04802388,\n",
       "       0.04672553, 0.04527099, 0.04367717, 0.04196216, 0.04014486,\n",
       "       0.03824466, 0.0362811 , 0.03427353, 0.03224081, 0.03020104,\n",
       "       0.02817128, 0.02616737, 0.02420373, 0.02229325, 0.02044717,\n",
       "       0.01867505, 0.01698475, 0.01538244, 0.01387267, 0.01245844,\n",
       "       0.0111413 , 0.0099215 , 0.00879807, 0.00776901, 0.00683146,\n",
       "       0.00598177, 0.00521572, 0.00452865, 0.00391553, 0.00337118,\n",
       "       0.0028903 , 0.00246758, 0.00209782, 0.00177597, 0.00149717,\n",
       "       0.00125682, 0.00105062, 0.00087456, 0.00072494, 0.00059838,\n",
       "       0.00049184])"
      ]
     },
     "execution_count": 9,
     "metadata": {},
     "output_type": "execute_result"
    }
   ],
   "source": [
    "std = 7.7\n",
    "ps = ss.norm(mean, std).pdf(qs)\n",
    "ps"
   ]
  },
  {
   "cell_type": "code",
   "execution_count": 10,
   "metadata": {},
   "outputs": [
    {
     "data": {
      "text/plain": [
       "1.9963309462450582"
      ]
     },
     "execution_count": 10,
     "metadata": {},
     "output_type": "execute_result"
    }
   ],
   "source": [
    "prior = Pmf(ps, qs)\n",
    "prior.normalize()"
   ]
  },
  {
   "cell_type": "code",
   "execution_count": 23,
   "metadata": {},
   "outputs": [],
   "source": [
    "def make_joint(pmf1, pmf2):\n",
    "    X, Y = np.meshgrid(pmf1, pmf2)\n",
    "    return pd.DataFrame(X * Y, columns=pmf1.qs, index=pmf2.qs)"
   ]
  },
  {
   "cell_type": "code",
   "execution_count": 24,
   "metadata": {},
   "outputs": [],
   "source": [
    "joint = make_joint(prior, prior)"
   ]
  },
  {
   "cell_type": "code",
   "execution_count": 26,
   "metadata": {},
   "outputs": [
    {
     "data": {
      "text/plain": [
       "1.0"
      ]
     },
     "execution_count": 26,
     "metadata": {},
     "output_type": "execute_result"
    }
   ],
   "source": [
    "joint.sum().sum()"
   ]
  },
  {
   "cell_type": "code",
   "execution_count": 33,
   "metadata": {},
   "outputs": [],
   "source": [
    "def plot_joint(joint, cmap='Blues'):\n",
    "    vmax = joint.to_numpy().max() * 1.1\n",
    "    plt.pcolormesh(joint.columns, joint.index, joint, cmap=cmap, vmax=vmax, shading='nearest')\n",
    "    plt.colorbar()\n",
    "    plt.xlabel('A height')\n",
    "    plt.ylabel('B height')"
   ]
  },
  {
   "cell_type": "code",
   "execution_count": 34,
   "metadata": {},
   "outputs": [
    {
     "data": {
      "image/png": "[encoded data removed]",
      "text/plain": [
       "<Figure size 432x288 with 2 Axes>"
      ]
     },
     "metadata": {
      "needs_background": "light"
     },
     "output_type": "display_data"
    }
   ],
   "source": [
    "plot_joint(joint)"
   ]
  },
  {
   "cell_type": "code",
   "execution_count": 35,
   "metadata": {},
   "outputs": [],
   "source": [
    "x = joint.columns\n",
    "y = joint.index\n",
    "X, Y = np.meshgrid(x, y)"
   ]
  },
  {
   "cell_type": "code",
   "execution_count": 39,
   "metadata": {},
   "outputs": [
    {
     "data": {
      "text/plain": [
       "(array([[154. , 154.5, 155. , ..., 200.5, 201. , 201.5],\n",
       "        [154. , 154.5, 155. , ..., 200.5, 201. , 201.5],\n",
       "        [154. , 154.5, 155. , ..., 200.5, 201. , 201.5],\n",
       "        ...,\n",
       "        [154. , 154.5, 155. , ..., 200.5, 201. , 201.5],\n",
       "        [154. , 154.5, 155. , ..., 200.5, 201. , 201.5],\n",
       "        [154. , 154.5, 155. , ..., 200.5, 201. , 201.5]]),\n",
       " array([[154. , 154. , 154. , ..., 154. , 154. , 154. ],\n",
       "        [154.5, 154.5, 154.5, ..., 154.5, 154.5, 154.5],\n",
       "        [155. , 155. , 155. , ..., 155. , 155. , 155. ],\n",
       "        ...,\n",
       "        [200.5, 200.5, 200.5, ..., 200.5, 200.5, 200.5],\n",
       "        [201. , 201. , 201. , ..., 201. , 201. , 201. ],\n",
       "        [201.5, 201.5, 201.5, ..., 201.5, 201.5, 201.5]]))"
      ]
     },
     "execution_count": 39,
     "metadata": {},
     "output_type": "execute_result"
    }
   ],
   "source": [
    "X, Y"
   ]
  },
  {
   "cell_type": "code",
   "execution_count": 41,
   "metadata": {},
   "outputs": [
    {
     "data": {
      "text/plain": [
       "array([[False,  True,  True, ...,  True,  True,  True],\n",
       "       [False, False,  True, ...,  True,  True,  True],\n",
       "       [False, False, False, ...,  True,  True,  True],\n",
       "       ...,\n",
       "       [False, False, False, ..., False,  True,  True],\n",
       "       [False, False, False, ..., False, False,  True],\n",
       "       [False, False, False, ..., False, False, False]])"
      ]
     },
     "execution_count": 41,
     "metadata": {},
     "output_type": "execute_result"
    }
   ],
   "source": [
    "A_taller = (X > Y)\n",
    "A_taller"
   ]
  },
  {
   "cell_type": "code",
   "execution_count": 42,
   "metadata": {},
   "outputs": [
    {
     "data": {
      "text/plain": [
       "array([[0, 1, 1, ..., 1, 1, 1],\n",
       "       [0, 0, 1, ..., 1, 1, 1],\n",
       "       [0, 0, 0, ..., 1, 1, 1],\n",
       "       ...,\n",
       "       [0, 0, 0, ..., 0, 1, 1],\n",
       "       [0, 0, 0, ..., 0, 0, 1],\n",
       "       [0, 0, 0, ..., 0, 0, 0]])"
      ]
     },
     "execution_count": 42,
     "metadata": {},
     "output_type": "execute_result"
    }
   ],
   "source": [
    "a = np.where(A_taller, 1, 0)\n",
    "a"
   ]
  },
  {
   "cell_type": "code",
   "execution_count": 43,
   "metadata": {},
   "outputs": [],
   "source": [
    "likelihood = pd.DataFrame(a, index=x, columns=y)"
   ]
  },
  {
   "cell_type": "code",
   "execution_count": 46,
   "metadata": {},
   "outputs": [
    {
     "data": {
      "text/plain": [
       "0.4908074782152697"
      ]
     },
     "execution_count": 46,
     "metadata": {},
     "output_type": "execute_result"
    }
   ],
   "source": [
    "posterior = joint * likelihood\n",
    "posterior.sum().sum()"
   ]
  },
  {
   "cell_type": "code",
   "execution_count": 47,
   "metadata": {},
   "outputs": [
    {
     "data": {
      "text/plain": [
       "1.0"
      ]
     },
     "execution_count": 47,
     "metadata": {},
     "output_type": "execute_result"
    }
   ],
   "source": [
    "joint.to_numpy().sum()"
   ]
  },
  {
   "cell_type": "code",
   "execution_count": 48,
   "metadata": {},
   "outputs": [],
   "source": [
    "def normalize(joint):\n",
    "    prob_data = joint.to_numpy().sum()\n",
    "    joint /= prob_data\n",
    "    return prob_data"
   ]
  },
  {
   "cell_type": "code",
   "execution_count": 49,
   "metadata": {},
   "outputs": [
    {
     "data": {
      "text/plain": [
       "0.49080747821526977"
      ]
     },
     "execution_count": 49,
     "metadata": {},
     "output_type": "execute_result"
    }
   ],
   "source": [
    "normalize(posterior)"
   ]
  },
  {
   "cell_type": "code",
   "execution_count": 50,
   "metadata": {},
   "outputs": [
    {
     "data": {
      "text/plain": [
       "154.0    0.000000e+00\n",
       "154.5    1.012260e-07\n",
       "155.0    2.736152e-07\n",
       "155.5    5.532519e-07\n",
       "156.0    9.915650e-07\n",
       "             ...     \n",
       "199.5    1.070260e-03\n",
       "200.0    8.913732e-04\n",
       "200.5    7.391972e-04\n",
       "201.0    6.103756e-04\n",
       "201.5    5.018515e-04\n",
       "Length: 96, dtype: float64"
      ]
     },
     "execution_count": 50,
     "metadata": {},
     "output_type": "execute_result"
    }
   ],
   "source": [
    "columns_sums = posterior.sum(axis=0)\n",
    "columns_sums"
   ]
  },
  {
   "cell_type": "code",
   "execution_count": 55,
   "metadata": {},
   "outputs": [
    {
     "data": {
      "text/html": [
       "<div>\n",
       "<style scoped>\n",
       "    .dataframe tbody tr th:only-of-type {\n",
       "        vertical-align: middle;\n",
       "    }\n",
       "\n",
       "    .dataframe tbody tr th {\n",
       "        vertical-align: top;\n",
       "    }\n",
       "\n",
       "    .dataframe thead th {\n",
       "        text-align: right;\n",
       "    }\n",
       "</style>\n",
       "<table border=\"1\" class=\"dataframe\">\n",
       "  <thead>\n",
       "    <tr style=\"text-align: right;\">\n",
       "      <th></th>\n",
       "      <th>probs</th>\n",
       "    </tr>\n",
       "  </thead>\n",
       "  <tbody>\n",
       "    <tr>\n",
       "      <th>154.0</th>\n",
       "      <td>0.000000e+00</td>\n",
       "    </tr>\n",
       "    <tr>\n",
       "      <th>154.5</th>\n",
       "      <td>1.012260e-07</td>\n",
       "    </tr>\n",
       "    <tr>\n",
       "      <th>155.0</th>\n",
       "      <td>2.736152e-07</td>\n",
       "    </tr>\n",
       "    <tr>\n",
       "      <th>155.5</th>\n",
       "      <td>5.532519e-07</td>\n",
       "    </tr>\n",
       "    <tr>\n",
       "      <th>156.0</th>\n",
       "      <td>9.915650e-07</td>\n",
       "    </tr>\n",
       "    <tr>\n",
       "      <th>...</th>\n",
       "      <td>...</td>\n",
       "    </tr>\n",
       "    <tr>\n",
       "      <th>199.5</th>\n",
       "      <td>1.070260e-03</td>\n",
       "    </tr>\n",
       "    <tr>\n",
       "      <th>200.0</th>\n",
       "      <td>8.913732e-04</td>\n",
       "    </tr>\n",
       "    <tr>\n",
       "      <th>200.5</th>\n",
       "      <td>7.391972e-04</td>\n",
       "    </tr>\n",
       "    <tr>\n",
       "      <th>201.0</th>\n",
       "      <td>6.103756e-04</td>\n",
       "    </tr>\n",
       "    <tr>\n",
       "      <th>201.5</th>\n",
       "      <td>5.018515e-04</td>\n",
       "    </tr>\n",
       "  </tbody>\n",
       "</table>\n",
       "<p>96 rows × 1 columns</p>\n",
       "</div>"
      ],
      "text/plain": [
       "154.0    0.000000e+00\n",
       "154.5    1.012260e-07\n",
       "155.0    2.736152e-07\n",
       "155.5    5.532519e-07\n",
       "156.0    9.915650e-07\n",
       "             ...     \n",
       "199.5    1.070260e-03\n",
       "200.0    8.913732e-04\n",
       "200.5    7.391972e-04\n",
       "201.0    6.103756e-04\n",
       "201.5    5.018515e-04\n",
       "Name: , Length: 96, dtype: float64"
      ]
     },
     "execution_count": 55,
     "metadata": {},
     "output_type": "execute_result"
    }
   ],
   "source": [
    "marginal_A = Pmf(columns_sums)\n",
    "marginal_A"
   ]
  },
  {
   "cell_type": "code",
   "execution_count": 56,
   "metadata": {},
   "outputs": [],
   "source": [
    "row_sums = posterior.sum(axis=1)\n",
    "marginal_B = Pmf(row_sums)"
   ]
  },
  {
   "cell_type": "code",
   "execution_count": 57,
   "metadata": {},
   "outputs": [],
   "source": [
    "def marginal(joint, axis):\n",
    "    return Pmf(joint.sum(axis=axis))"
   ]
  },
  {
   "cell_type": "code",
   "execution_count": 58,
   "metadata": {},
   "outputs": [
    {
     "data": {
      "text/plain": [
       "154.0    0.000006\n",
       "154.5    0.000008\n",
       "155.0    0.000009\n",
       "155.5    0.000011\n",
       "156.0    0.000014\n",
       "           ...   \n",
       "199.5    0.000000\n",
       "200.0    0.000000\n",
       "200.5    0.000000\n",
       "201.0    0.000000\n",
       "201.5    0.000000\n",
       "Name: 170.0, Length: 96, dtype: float64"
      ]
     },
     "execution_count": 58,
     "metadata": {},
     "output_type": "execute_result"
    }
   ],
   "source": [
    "column_170 = posterior[170]\n",
    "column_170"
   ]
  },
  {
   "cell_type": "code",
   "execution_count": 59,
   "metadata": {},
   "outputs": [
    {
     "data": {
      "text/plain": [
       "0.004358061205454471"
      ]
     },
     "execution_count": 59,
     "metadata": {},
     "output_type": "execute_result"
    }
   ],
   "source": [
    "cond_B = Pmf(column_170)\n",
    "cond_B.normalize()"
   ]
  },
  {
   "cell_type": "code",
   "execution_count": null,
   "metadata": {},
   "outputs": [],
   "source": []
  }
 ],
 "metadata": {
  "kernelspec": {
   "display_name": "base",
   "language": "python",
   "name": "python3"
  },
  "language_info": {
   "codemirror_mode": {
    "name": "ipython",
    "version": 3
   },
   "file_extension": ".py",
   "mimetype": "text/x-python",
   "name": "python",
   "nbconvert_exporter": "python",
   "pygments_lexer": "ipython3",
   "version": "3.10.9"
  },
  "orig_nbformat": 4
 },
 "nbformat": 4,
 "nbformat_minor": 2
}
