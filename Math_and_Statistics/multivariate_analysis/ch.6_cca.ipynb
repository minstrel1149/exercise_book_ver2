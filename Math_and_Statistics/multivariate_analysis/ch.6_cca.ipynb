{
 "cells": [
  {
   "cell_type": "code",
   "execution_count": 1,
   "metadata": {},
   "outputs": [],
   "source": [
    "import pandas as pd\n",
    "import numpy as np\n",
    "import matplotlib.pyplot as plt\n",
    "import seaborn as sns\n",
    "from pathlib import Path\n",
    "import scipy.stats as ss\n",
    "import pingouin as pg"
   ]
  },
  {
   "cell_type": "code",
   "execution_count": 2,
   "metadata": {},
   "outputs": [],
   "source": [
    "from sklearn.preprocessing import StandardScaler\n",
    "from sklearn.cross_decomposition import CCA"
   ]
  },
  {
   "cell_type": "code",
   "execution_count": 3,
   "metadata": {},
   "outputs": [
    {
     "data": {
      "text/plain": [
       "(    X1  X2  X3  X4     Y1     Y2     Y3\n",
       " ID                                     \n",
       " 1    9  12   9  20   93.0   96.0   97.8\n",
       " 2    7  10  10  15   88.8   91.8   96.8\n",
       " 3    8  12   9  26   95.0  100.3   99.0\n",
       " 4   12  14  12  29  101.3  103.8  106.8\n",
       " 5   10  15  12  32  102.0  107.8  103.0,\n",
       " (50, 7))"
      ]
     },
     "execution_count": 3,
     "metadata": {},
     "output_type": "execute_result"
    }
   ],
   "source": [
    "sales = pd.read_csv(Path.cwd() / 'data' / 'sales.csv', index_col=['ID'])\n",
    "sales.head(), sales.shape"
   ]
  },
  {
   "cell_type": "code",
   "execution_count": 4,
   "metadata": {},
   "outputs": [],
   "source": [
    "xlist = ['X1', 'X2', 'X3', 'X4']\n",
    "ylist = ['Y1', 'Y2', 'Y3']"
   ]
  },
  {
   "cell_type": "code",
   "execution_count": 5,
   "metadata": {},
   "outputs": [],
   "source": [
    "exam = sales[xlist]\n",
    "perform = sales[ylist]"
   ]
  },
  {
   "cell_type": "code",
   "execution_count": 6,
   "metadata": {},
   "outputs": [],
   "source": [
    "scaler = StandardScaler()\n",
    "zexam = scaler.fit_transform(exam)\n",
    "zperform = scaler.fit_transform(perform)"
   ]
  },
  {
   "cell_type": "code",
   "execution_count": 7,
   "metadata": {},
   "outputs": [
    {
     "data": {
      "text/plain": [
       "((50, 3), (50, 3))"
      ]
     },
     "execution_count": 7,
     "metadata": {},
     "output_type": "execute_result"
    }
   ],
   "source": [
    "ca = CCA(n_components=3).fit(exam, perform)\n",
    "exam_ca, perform_ca = ca.transform(exam, perform)\n",
    "exam_ca.shape, perform_ca.shape"
   ]
  },
  {
   "cell_type": "code",
   "execution_count": 8,
   "metadata": {},
   "outputs": [
    {
     "data": {
      "text/plain": [
       "0.715702512842161"
      ]
     },
     "execution_count": 8,
     "metadata": {},
     "output_type": "execute_result"
    }
   ],
   "source": [
    "ca.score(exam, perform)"
   ]
  },
  {
   "cell_type": "code",
   "execution_count": 9,
   "metadata": {},
   "outputs": [],
   "source": [
    "cc_res = pd.DataFrame({'CCX_1':exam_ca[:,0], 'CCY_1':perform_ca[:,0],\n",
    "                       'CCX_2':exam_ca[:,1], 'CCY_2':perform_ca[:,1],\n",
    "                       'CCX_3':exam_ca[:,2], 'CCY_3':perform_ca[:,2]})"
   ]
  },
  {
   "cell_type": "code",
   "execution_count": 10,
   "metadata": {},
   "outputs": [
    {
     "data": {
      "text/html": [
       "<div>\n",
       "<style scoped>\n",
       "    .dataframe tbody tr th:only-of-type {\n",
       "        vertical-align: middle;\n",
       "    }\n",
       "\n",
       "    .dataframe tbody tr th {\n",
       "        vertical-align: top;\n",
       "    }\n",
       "\n",
       "    .dataframe thead th {\n",
       "        text-align: right;\n",
       "    }\n",
       "</style>\n",
       "<table border=\"1\" class=\"dataframe\">\n",
       "  <thead>\n",
       "    <tr style=\"text-align: right;\">\n",
       "      <th></th>\n",
       "      <th>CCX_1</th>\n",
       "      <th>CCY_1</th>\n",
       "      <th>CCX_2</th>\n",
       "      <th>CCY_2</th>\n",
       "      <th>CCX_3</th>\n",
       "      <th>CCY_3</th>\n",
       "    </tr>\n",
       "  </thead>\n",
       "  <tbody>\n",
       "    <tr>\n",
       "      <th>0</th>\n",
       "      <td>-1.296365</td>\n",
       "      <td>-1.586000</td>\n",
       "      <td>-0.062160</td>\n",
       "      <td>0.122380</td>\n",
       "      <td>-0.074753</td>\n",
       "      <td>0.258465</td>\n",
       "    </tr>\n",
       "    <tr>\n",
       "      <th>1</th>\n",
       "      <td>-1.871090</td>\n",
       "      <td>-2.280234</td>\n",
       "      <td>0.465646</td>\n",
       "      <td>0.135849</td>\n",
       "      <td>0.371038</td>\n",
       "      <td>0.016694</td>\n",
       "    </tr>\n",
       "    <tr>\n",
       "      <th>2</th>\n",
       "      <td>-0.880385</td>\n",
       "      <td>-1.080877</td>\n",
       "      <td>-0.430363</td>\n",
       "      <td>-0.016271</td>\n",
       "      <td>0.080729</td>\n",
       "      <td>0.211404</td>\n",
       "    </tr>\n",
       "    <tr>\n",
       "      <th>3</th>\n",
       "      <td>0.165755</td>\n",
       "      <td>0.624818</td>\n",
       "      <td>0.590930</td>\n",
       "      <td>0.707007</td>\n",
       "      <td>0.146007</td>\n",
       "      <td>-0.101087</td>\n",
       "    </tr>\n",
       "    <tr>\n",
       "      <th>4</th>\n",
       "      <td>0.281532</td>\n",
       "      <td>0.379810</td>\n",
       "      <td>0.107278</td>\n",
       "      <td>0.109038</td>\n",
       "      <td>0.656132</td>\n",
       "      <td>0.314689</td>\n",
       "    </tr>\n",
       "  </tbody>\n",
       "</table>\n",
       "</div>"
      ],
      "text/plain": [
       "      CCX_1     CCY_1     CCX_2     CCY_2     CCX_3     CCY_3\n",
       "0 -1.296365 -1.586000 -0.062160  0.122380 -0.074753  0.258465\n",
       "1 -1.871090 -2.280234  0.465646  0.135849  0.371038  0.016694\n",
       "2 -0.880385 -1.080877 -0.430363 -0.016271  0.080729  0.211404\n",
       "3  0.165755  0.624818  0.590930  0.707007  0.146007 -0.101087\n",
       "4  0.281532  0.379810  0.107278  0.109038  0.656132  0.314689"
      ]
     },
     "execution_count": 10,
     "metadata": {},
     "output_type": "execute_result"
    }
   ],
   "source": [
    "cc_res.head()"
   ]
  },
  {
   "cell_type": "code",
   "execution_count": 11,
   "metadata": {},
   "outputs": [
    {
     "data": {
      "text/html": [
       "<div>\n",
       "<style scoped>\n",
       "    .dataframe tbody tr th:only-of-type {\n",
       "        vertical-align: middle;\n",
       "    }\n",
       "\n",
       "    .dataframe tbody tr th {\n",
       "        vertical-align: top;\n",
       "    }\n",
       "\n",
       "    .dataframe thead th {\n",
       "        text-align: right;\n",
       "    }\n",
       "</style>\n",
       "<table border=\"1\" class=\"dataframe\">\n",
       "  <thead>\n",
       "    <tr style=\"text-align: right;\">\n",
       "      <th></th>\n",
       "      <th>CCX_1</th>\n",
       "      <th>CCY_1</th>\n",
       "      <th>CCX_2</th>\n",
       "      <th>CCY_2</th>\n",
       "      <th>CCX_3</th>\n",
       "      <th>CCY_3</th>\n",
       "    </tr>\n",
       "  </thead>\n",
       "  <tbody>\n",
       "    <tr>\n",
       "      <th>CCX_1</th>\n",
       "      <td>1.000</td>\n",
       "      <td>0.994</td>\n",
       "      <td>-0.000</td>\n",
       "      <td>-0.000</td>\n",
       "      <td>-0.000</td>\n",
       "      <td>-0.000</td>\n",
       "    </tr>\n",
       "    <tr>\n",
       "      <th>CCY_1</th>\n",
       "      <td>0.994</td>\n",
       "      <td>1.000</td>\n",
       "      <td>-0.000</td>\n",
       "      <td>-0.000</td>\n",
       "      <td>0.000</td>\n",
       "      <td>-0.000</td>\n",
       "    </tr>\n",
       "    <tr>\n",
       "      <th>CCX_2</th>\n",
       "      <td>-0.000</td>\n",
       "      <td>-0.000</td>\n",
       "      <td>1.000</td>\n",
       "      <td>0.874</td>\n",
       "      <td>-0.000</td>\n",
       "      <td>0.000</td>\n",
       "    </tr>\n",
       "    <tr>\n",
       "      <th>CCY_2</th>\n",
       "      <td>-0.000</td>\n",
       "      <td>-0.000</td>\n",
       "      <td>0.874</td>\n",
       "      <td>1.000</td>\n",
       "      <td>-0.000</td>\n",
       "      <td>0.000</td>\n",
       "    </tr>\n",
       "    <tr>\n",
       "      <th>CCX_3</th>\n",
       "      <td>-0.000</td>\n",
       "      <td>0.000</td>\n",
       "      <td>-0.000</td>\n",
       "      <td>-0.000</td>\n",
       "      <td>1.000</td>\n",
       "      <td>0.382</td>\n",
       "    </tr>\n",
       "    <tr>\n",
       "      <th>CCY_3</th>\n",
       "      <td>-0.000</td>\n",
       "      <td>-0.000</td>\n",
       "      <td>0.000</td>\n",
       "      <td>0.000</td>\n",
       "      <td>0.382</td>\n",
       "      <td>1.000</td>\n",
       "    </tr>\n",
       "  </tbody>\n",
       "</table>\n",
       "</div>"
      ],
      "text/plain": [
       "       CCX_1  CCY_1  CCX_2  CCY_2  CCX_3  CCY_3\n",
       "CCX_1  1.000  0.994 -0.000 -0.000 -0.000 -0.000\n",
       "CCY_1  0.994  1.000 -0.000 -0.000  0.000 -0.000\n",
       "CCX_2 -0.000 -0.000  1.000  0.874 -0.000  0.000\n",
       "CCY_2 -0.000 -0.000  0.874  1.000 -0.000  0.000\n",
       "CCX_3 -0.000  0.000 -0.000 -0.000  1.000  0.382\n",
       "CCY_3 -0.000 -0.000  0.000  0.000  0.382  1.000"
      ]
     },
     "execution_count": 11,
     "metadata": {},
     "output_type": "execute_result"
    }
   ],
   "source": [
    "cc_res.corr().round(3)"
   ]
  },
  {
   "cell_type": "code",
   "execution_count": 12,
   "metadata": {},
   "outputs": [
    {
     "data": {
      "text/plain": [
       "<AxesSubplot:xlabel='CCX_1', ylabel='CCY_1'>"
      ]
     },
     "execution_count": 12,
     "metadata": {},
     "output_type": "execute_result"
    },
    {
     "data": {
      "image/png": "[encoded data removed]",
      "text/plain": [
       "<Figure size 432x288 with 1 Axes>"
      ]
     },
     "metadata": {
      "needs_background": "light"
     },
     "output_type": "display_data"
    }
   ],
   "source": [
    "sns.scatterplot(data=cc_res, x='CCX_1', y='CCY_1')"
   ]
  },
  {
   "cell_type": "code",
   "execution_count": 13,
   "metadata": {},
   "outputs": [
    {
     "data": {
      "text/plain": [
       "(array([[ 0.35650258,  0.50840944, -0.64164549],\n",
       "        [ 0.14687268, -0.39859481,  0.35125097],\n",
       "        [ 0.24573596,  0.68906894,  0.68175998],\n",
       "        [ 0.88935267, -0.32836873,  0.01082378]]),\n",
       " array([[ 0.72465084,  0.28244397,  0.62857503],\n",
       "        [ 0.3792581 , -0.92503949, -0.02156922],\n",
       "        [ 0.57536463,  0.25402232, -0.77744981]]))"
      ]
     },
     "execution_count": 13,
     "metadata": {},
     "output_type": "execute_result"
    }
   ],
   "source": [
    "ca.x_weights_, ca.y_weights_"
   ]
  },
  {
   "cell_type": "code",
   "execution_count": 14,
   "metadata": {},
   "outputs": [
    {
     "data": {
      "text/plain": [
       "array([[-1.31, -0.23, -0.38],\n",
       "       [-1.89,  0.23,  0.06],\n",
       "       [-0.89, -0.55, -0.21],\n",
       "       [ 0.17,  0.62,  0.31],\n",
       "       [ 0.28,  0.14,  0.75],\n",
       "       [-0.81,  0.28,  0.31],\n",
       "       [-0.88, -0.38, -0.37],\n",
       "       [ 3.2 ,  0.97,  0.94],\n",
       "       [ 0.4 ,  0.26,  1.28],\n",
       "       [ 1.26, -0.24,  0.09],\n",
       "       [ 0.55,  0.17,  0.63],\n",
       "       [-0.13, -1.48, -0.23],\n",
       "       [ 0.97,  0.3 , -0.35],\n",
       "       [-0.06,  0.09,  0.23],\n",
       "       [ 0.05, -0.23, -1.55],\n",
       "       [-2.43, -1.31, -1.66],\n",
       "       [ 0.13,  0.31, -0.05],\n",
       "       [ 0.47, -0.03,  0.16],\n",
       "       [-0.27,  0.  ,  1.79],\n",
       "       [ 0.47,  0.65, -0.52],\n",
       "       [-1.88, -0.59, -1.19],\n",
       "       [ 0.39, -0.67,  0.84],\n",
       "       [-2.01, -0.4 , -1.34],\n",
       "       [ 0.89,  0.25,  0.43],\n",
       "       [ 1.6 ,  0.23,  0.19],\n",
       "       [-1.06, -1.2 , -0.87],\n",
       "       [ 1.29,  0.33,  0.2 ],\n",
       "       [ 1.66, -0.84,  0.55],\n",
       "       [-1.28,  1.28,  0.86],\n",
       "       [ 1.19, -0.93,  0.81],\n",
       "       [ 1.72,  0.19, -1.2 ],\n",
       "       [-1.96,  0.4 , -1.47],\n",
       "       [-0.53, -0.41,  0.92],\n",
       "       [-1.07,  0.58,  0.1 ],\n",
       "       [ 1.72, -0.02, -0.99],\n",
       "       [ 1.52,  0.3 ,  1.53],\n",
       "       [-0.6 ,  0.21, -1.76],\n",
       "       [ 0.32,  1.67,  0.58],\n",
       "       [ 1.68,  0.04,  0.36],\n",
       "       [ 1.3 , -0.09,  0.62],\n",
       "       [ 0.4 ,  0.1 ,  1.44],\n",
       "       [-0.91, -1.13, -1.68],\n",
       "       [ 0.91, -0.19, -0.52],\n",
       "       [-2.77, -0.28,  0.2 ],\n",
       "       [-0.74, -0.44,  1.02],\n",
       "       [ 1.35,  1.27, -0.77],\n",
       "       [-1.64, -0.01,  0.9 ],\n",
       "       [-2.63,  0.14, -0.97],\n",
       "       [ 0.86,  0.9 , -0.22],\n",
       "       [ 0.99, -0.26,  0.21]])"
      ]
     },
     "execution_count": 14,
     "metadata": {},
     "output_type": "execute_result"
    }
   ],
   "source": [
    "np.dot(zexam, ca.x_weights_).round(2)"
   ]
  },
  {
   "cell_type": "code",
   "execution_count": 15,
   "metadata": {},
   "outputs": [
    {
     "data": {
      "text/plain": [
       "array([[-1.3 , -0.06, -0.07],\n",
       "       [-1.87,  0.47,  0.37],\n",
       "       [-0.88, -0.43,  0.08],\n",
       "       [ 0.17,  0.59,  0.15],\n",
       "       [ 0.28,  0.11,  0.66],\n",
       "       [-0.81,  0.38,  0.4 ],\n",
       "       [-0.87, -0.27, -0.12],\n",
       "       [ 3.17,  0.56,  0.11],\n",
       "       [ 0.4 ,  0.21,  1.13],\n",
       "       [ 1.25, -0.39, -0.1 ],\n",
       "       [ 0.55,  0.1 ,  0.48],\n",
       "       [-0.13, -1.45,  0.12],\n",
       "       [ 0.96,  0.18, -0.6 ],\n",
       "       [-0.06,  0.1 ,  0.22],\n",
       "       [ 0.05, -0.24, -1.5 ],\n",
       "       [-2.4 , -0.99, -0.89],\n",
       "       [ 0.13,  0.29, -0.14],\n",
       "       [ 0.47, -0.08,  0.07],\n",
       "       [-0.27,  0.03,  1.82],\n",
       "       [ 0.46,  0.58, -0.74],\n",
       "       [-1.86, -0.35, -0.69],\n",
       "       [ 0.39, -0.71,  0.9 ],\n",
       "       [-1.99, -0.14, -0.86],\n",
       "       [ 0.88,  0.13,  0.2 ],\n",
       "       [ 1.59,  0.03, -0.17],\n",
       "       [-1.05, -1.05, -0.4 ],\n",
       "       [ 1.28,  0.16, -0.12],\n",
       "       [ 1.64, -1.03,  0.4 ],\n",
       "       [-1.27,  1.42,  0.83],\n",
       "       [ 1.18, -1.07,  0.77],\n",
       "       [ 1.7 , -0.03, -1.56],\n",
       "       [-1.94,  0.64, -1.17],\n",
       "       [-0.53, -0.34,  1.1 ],\n",
       "       [-1.06,  0.71,  0.18],\n",
       "       [ 1.71, -0.23, -1.31],\n",
       "       [ 1.51,  0.11,  1.15],\n",
       "       [-0.59,  0.28, -1.67],\n",
       "       [ 0.31,  1.61,  0.16],\n",
       "       [ 1.67, -0.17,  0.02],\n",
       "       [ 1.28, -0.25,  0.38],\n",
       "       [ 0.39,  0.05,  1.33],\n",
       "       [-0.9 , -1.01, -1.25],\n",
       "       [ 0.9 , -0.3 , -0.65],\n",
       "       [-2.75,  0.07,  0.79],\n",
       "       [-0.74, -0.34,  1.24],\n",
       "       [ 1.34,  1.09, -1.29],\n",
       "       [-1.62,  0.2 ,  1.21],\n",
       "       [-2.6 ,  0.47, -0.48],\n",
       "       [ 0.85,  0.78, -0.57],\n",
       "       [ 0.98, -0.38,  0.07]])"
      ]
     },
     "execution_count": 15,
     "metadata": {},
     "output_type": "execute_result"
    }
   ],
   "source": [
    "cc_res[['CCX_1', 'CCX_2', 'CCX_3']].values.round(2)"
   ]
  },
  {
   "cell_type": "code",
   "execution_count": 16,
   "metadata": {},
   "outputs": [
    {
     "data": {
      "text/plain": [
       "array([[-0.56354707, -0.65059846, -0.73650484, -0.93560098],\n",
       "       [-1.07586259, -1.24747777, -0.26438635, -1.41490476],\n",
       "       [-0.81970483, -0.65059846, -0.73650484, -0.36043644],\n",
       "       [ 0.20492621, -0.05371914,  0.67985062, -0.07285417],\n",
       "       [-0.30738931,  0.24472052,  0.67985062,  0.21472809],\n",
       "       [-0.30738931, -0.05371914,  0.20773213, -0.83974022],\n",
       "       [-0.56354707, -0.65059846, -0.73650484, -0.4562972 ],\n",
       "       [ 1.74187277,  1.73691881,  2.09620607,  2.03608246],\n",
       "       [-0.30738931,  0.84159984,  1.1519691 ,  0.11886734],\n",
       "       [ 0.71724173,  1.14003949,  0.20773213,  0.88575339],\n",
       "       [ 0.20492621,  0.84159984,  0.67985062,  0.21472809],\n",
       "       [-0.30738931,  1.14003949, -1.20862332,  0.11886734],\n",
       "       [ 1.22955725,  0.84159984,  0.20773213,  0.40644961],\n",
       "       [-0.81970483, -1.24747777,  0.20773213,  0.40644961],\n",
       "       [ 0.46108397, -1.24747777, -1.20862332,  0.40644961],\n",
       "       [-1.07586259, -1.54591743, -2.62497877, -1.319044  ],\n",
       "       [-0.05123155, -0.65059846,  0.20773213,  0.21472809],\n",
       "       [-0.05123155, -0.05371914,  0.20773213,  0.50231036],\n",
       "       [-1.58817811, -0.05371914,  1.1519691 ,  0.02300658],\n",
       "       [ 1.48571501,  0.84159984,  0.20773213, -0.26457569],\n",
       "       [-0.30738931, -0.65059846, -1.6807418 , -1.41490476],\n",
       "       [-1.58817811, -0.94903811,  0.20773213,  1.17333565],\n",
       "       [-0.56354707, -1.54591743, -1.6807418 , -1.319044  ],\n",
       "       [ 0.20492621,  0.24472052,  0.67985062,  0.69403187],\n",
       "       [ 1.22955725,  1.43847915,  0.67985062,  0.88575339],\n",
       "       [-0.30738931,  0.24472052, -1.6807418 , -0.64801871],\n",
       "       [ 0.71724173,  0.54316018,  0.67985062,  0.88575339],\n",
       "       [-0.30738931,  0.54316018,  0.20773213,  1.84436095],\n",
       "       [-0.81970483, -1.24747777,  1.1519691 , -1.22318325],\n",
       "       [-0.56354707,  0.84159984,  0.20773213,  1.36505717],\n",
       "       [ 1.74187277,  0.24472052, -0.26438635,  1.26919641],\n",
       "       [ 0.46108397, -0.94903811, -1.20862332, -1.89420854],\n",
       "       [-1.07586259,  0.24472052,  0.20773213, -0.26457569],\n",
       "       [-0.30738931, -0.65059846,  0.20773213, -1.03146174],\n",
       "       [ 1.74187277,  0.84159984, -0.26438635,  1.17333565],\n",
       "       [-0.81970483, -0.3521588 ,  1.62408759,  1.65263944],\n",
       "       [ 1.74187277,  0.54316018, -1.20862332, -1.12732249],\n",
       "       [ 0.46108397, -0.65059846,  1.62408759, -0.16871493],\n",
       "       [ 0.97339949,  1.43847915,  0.67985062,  1.0774749 ],\n",
       "       [ 0.71724173,  1.73691881,  0.67985062,  0.69403187],\n",
       "       [-0.56354707,  0.84159984,  1.1519691 ,  0.21472809],\n",
       "       [ 0.46108397,  0.24472052, -2.15286029, -0.64801871],\n",
       "       [ 1.48571501,  1.73691881, -0.26438635,  0.21472809],\n",
       "       [-2.61280915, -2.73967606, -0.73650484, -1.41490476],\n",
       "       [-1.07586259,  0.54316018,  0.20773213, -0.55215796],\n",
       "       [ 1.74187277, -0.3521588 ,  0.67985062,  0.69403187],\n",
       "       [-1.07586259,  0.24472052,  0.20773213, -1.51076552],\n",
       "       [-0.81970483, -1.84435709, -1.20862332, -1.9900693 ],\n",
       "       [ 0.71724173, -0.65059846,  0.67985062,  0.59817112],\n",
       "       [ 0.20492621,  0.54316018,  0.20773213,  0.88575339]])"
      ]
     },
     "execution_count": 16,
     "metadata": {},
     "output_type": "execute_result"
    }
   ],
   "source": [
    "zexam"
   ]
  },
  {
   "cell_type": "code",
   "execution_count": 17,
   "metadata": {},
   "outputs": [
    {
     "data": {
      "text/plain": [
       "(array([[ 0.47700412,  0.3428337 , -0.78658428],\n",
       "        [ 0.54294989, -0.37578659,  0.08265564],\n",
       "        [ 0.48300563,  0.83504116,  0.68210777],\n",
       "        [ 0.71007877, -0.30609674,  0.11318464]]),\n",
       " array([[ 0.60618733,  0.02913713,  0.62857503],\n",
       "        [ 0.58728876, -0.9163474 , -0.02156922],\n",
       "        [ 0.58743935,  0.56732359, -0.77744981]]))"
      ]
     },
     "execution_count": 17,
     "metadata": {},
     "output_type": "execute_result"
    }
   ],
   "source": [
    "ca.x_loadings_, ca.y_loadings_"
   ]
  },
  {
   "cell_type": "code",
   "execution_count": 18,
   "metadata": {},
   "outputs": [
    {
     "name": "stderr",
     "output_type": "stream",
     "text": [
      "c:\\Users\\admin\\anaconda3\\lib\\site-packages\\sklearn\\cross_decomposition\\_pls.py:503: FutureWarning: The attribute `coef_` will be transposed in version 1.3 to be consistent with other linear models in scikit-learn. Currently, `coef_` has a shape of (n_features, n_targets) and in the future it will have a shape of (n_targets, n_features).\n",
      "  warnings.warn(\n"
     ]
    },
    {
     "data": {
      "text/plain": [
       "(array([[-2.09651868, -2.0020312 ,  5.22974756],\n",
       "        [ 2.44562458,  4.65347229, -2.20295188],\n",
       "        [ 3.4772087 , -4.75117697,  0.65765107],\n",
       "        [ 3.43692981,  9.3920797 ,  1.62231936]]),\n",
       " array([ 98.836, 106.622, 102.81 ]))"
      ]
     },
     "execution_count": 18,
     "metadata": {},
     "output_type": "execute_result"
    }
   ],
   "source": [
    "# as Y = X @ coef_.T + intercept_\n",
    "ca.coef_, ca.intercept_"
   ]
  },
  {
   "cell_type": "code",
   "execution_count": 19,
   "metadata": {},
   "outputs": [
    {
     "data": {
      "text/plain": [
       "0    -1.296365\n",
       "1    -1.871090\n",
       "2    -0.880385\n",
       "3     0.165755\n",
       "4     0.281532\n",
       "5    -0.805079\n",
       "6    -0.874379\n",
       "7     3.169815\n",
       "8     0.398770\n",
       "9     1.249250\n",
       "10    0.549122\n",
       "11   -0.132091\n",
       "12    0.964679\n",
       "13   -0.062291\n",
       "14    0.045173\n",
       "15   -2.404338\n",
       "16    0.126908\n",
       "17    0.466884\n",
       "18   -0.267819\n",
       "19    0.464302\n",
       "20   -1.857648\n",
       "21    0.385070\n",
       "22   -1.993831\n",
       "23    0.884324\n",
       "24    1.588299\n",
       "25   -1.052295\n",
       "26    1.277317\n",
       "27    1.644826\n",
       "28   -1.267342\n",
       "29    1.175829\n",
       "30    1.703425\n",
       "31   -1.936967\n",
       "32   -0.526513\n",
       "33   -1.060658\n",
       "34    1.705812\n",
       "35    1.509600\n",
       "36   -0.592813\n",
       "37    0.314677\n",
       "38    1.666690\n",
       "39    1.282091\n",
       "40    0.392764\n",
       "41   -0.895936\n",
       "42    0.901613\n",
       "43   -2.745320\n",
       "44   -0.736313\n",
       "45    1.339958\n",
       "46   -1.623677\n",
       "47   -2.603555\n",
       "48    0.850557\n",
       "49    0.981660\n",
       "Name: CCX_1, dtype: float64"
      ]
     },
     "execution_count": 19,
     "metadata": {},
     "output_type": "execute_result"
    }
   ],
   "source": [
    "cc_res['CCX_1']"
   ]
  },
  {
   "cell_type": "code",
   "execution_count": 20,
   "metadata": {},
   "outputs": [
    {
     "data": {
      "text/plain": [
       "((50, 4), (50, 3))"
      ]
     },
     "execution_count": 20,
     "metadata": {},
     "output_type": "execute_result"
    }
   ],
   "source": [
    "exam.shape, perform.shape"
   ]
  },
  {
   "cell_type": "code",
   "execution_count": 21,
   "metadata": {},
   "outputs": [],
   "source": [
    "scaler = StandardScaler()\n",
    "zexam = scaler.fit_transform(exam)\n",
    "zperform = scaler.fit_transform(perform)"
   ]
  },
  {
   "cell_type": "code",
   "execution_count": 22,
   "metadata": {},
   "outputs": [
    {
     "data": {
      "text/plain": [
       "(array([[0.47700412],\n",
       "        [0.54294989],\n",
       "        [0.48300563],\n",
       "        [0.71007877]]),\n",
       " array([[0.60618733],\n",
       "        [0.58728876],\n",
       "        [0.58743935]]))"
      ]
     },
     "execution_count": 22,
     "metadata": {},
     "output_type": "execute_result"
    }
   ],
   "source": [
    "ca = CCA(n_components=1).fit(exam, perform)\n",
    "ca.x_loadings_, ca.y_loadings_"
   ]
  },
  {
   "cell_type": "code",
   "execution_count": 23,
   "metadata": {},
   "outputs": [
    {
     "name": "stderr",
     "output_type": "stream",
     "text": [
      "c:\\Users\\admin\\anaconda3\\lib\\site-packages\\sklearn\\cross_decomposition\\_pls.py:503: FutureWarning: The attribute `coef_` will be transposed in version 1.3 to be consistent with other linear models in scikit-learn. Currently, `coef_` has a shape of (n_features, n_targets) and in the future it will have a shape of (n_targets, n_features).\n",
      "  warnings.warn(\n"
     ]
    },
    {
     "data": {
      "text/plain": [
       "(array([[1.58565425, 2.11972737, 0.98684989],\n",
       "        [0.65326114, 0.8732897 , 0.40656448],\n",
       "        [1.09298582, 1.46112052, 0.68023211],\n",
       "        [3.95566796, 5.28799872, 2.46185479]]),\n",
       " array([ 98.836, 106.622, 102.81 ]))"
      ]
     },
     "execution_count": 23,
     "metadata": {},
     "output_type": "execute_result"
    }
   ],
   "source": [
    "ca.coef_, ca.intercept_"
   ]
  },
  {
   "cell_type": "code",
   "execution_count": 24,
   "metadata": {},
   "outputs": [
    {
     "data": {
      "text/plain": [
       "array(['cca0'], dtype=object)"
      ]
     },
     "execution_count": 24,
     "metadata": {},
     "output_type": "execute_result"
    }
   ],
   "source": [
    "ca.get_feature_names_out()"
   ]
  },
  {
   "cell_type": "code",
   "execution_count": 25,
   "metadata": {},
   "outputs": [
    {
     "data": {
      "text/plain": [
       "array([[ 93.07002169,  98.91395013,  99.22147805],\n",
       "       [ 90.51375318,  95.49669045,  97.63055536],\n",
       "       [ 94.92021976, 101.38732381, 100.37296979],\n",
       "       [ 99.57324474, 107.60756028, 103.26883262],\n",
       "       [100.08820034, 108.29596098, 103.58932108],\n",
       "       [ 95.25516358, 101.83508195, 100.58142587],\n",
       "       [ 94.94693288, 101.42303432, 100.389595  ],\n",
       "       [112.93472129, 125.46939085, 111.58449899],\n",
       "       [100.60964985, 108.99304283, 103.91385109],\n",
       "       [104.39242363, 114.0499139 , 106.26810322],\n",
       "       [101.27839023, 109.88702541, 104.33004924],\n",
       "       [ 98.24848666, 105.83660299, 102.44435441],\n",
       "       [103.12670355, 112.35787952, 105.48036798],\n",
       "       [ 98.55894358, 106.25162665, 102.6375708 ],\n",
       "       [ 99.03692266, 106.89059655, 102.93504649],\n",
       "       [ 88.14197303,  92.3260577 ,  96.15445111],\n",
       "       [ 99.40046435, 107.37658476, 103.16130078],\n",
       "       [100.91261025, 109.39804502, 104.10240192],\n",
       "       [ 97.64479208, 105.02957465, 102.06863825],\n",
       "       [100.90112324, 109.382689  , 104.09525285],\n",
       "       [ 90.57354074,  95.5766154 ,  97.66776483],\n",
       "       [100.54871502, 108.9115842 , 103.87592761],\n",
       "       [ 89.96782884,  94.76689027,  97.29079317],\n",
       "       [102.76930223, 111.88009985, 105.25793522],\n",
       "       [105.90044648, 116.0658624 , 107.20663833],\n",
       "       [ 94.15559742, 100.36516472,  99.89709841],\n",
       "       [104.51725699, 114.21679309, 106.34579468],\n",
       "       [106.15186541, 116.40196315, 107.36311175],\n",
       "       [ 93.19911067,  99.0865183 ,  99.30181804],\n",
       "       [104.06585847, 113.61335649, 106.06486169],\n",
       "       [106.41250263, 116.75038706, 107.52532228],\n",
       "       [ 90.22074857,  95.10499731,  97.44820063],\n",
       "       [ 96.49417055, 103.49140581, 101.3525359 ],\n",
       "       [ 94.11839992, 100.31543852,  99.87394812],\n",
       "       [106.42311958, 116.76457997, 107.53192986],\n",
       "       [105.55040912, 115.59792699, 106.98878862],\n",
       "       [ 96.19928119, 103.0971931 , 101.16900816],\n",
       "       [100.23562377, 108.49303892, 103.68107172],\n",
       "       [106.2491156 , 116.53196873, 107.42363652],\n",
       "       [104.5384909 , 114.24517891, 106.35900984],\n",
       "       [100.58293674, 108.95733232, 103.89722588],\n",
       "       [ 94.85105091, 101.29485781, 100.32992177],\n",
       "       [102.84620065, 111.98289887, 105.30579383],\n",
       "       [ 86.62535054,  90.29861307,  95.21056392],\n",
       "       [ 95.56102344, 102.24396017, 100.77178122],\n",
       "       [104.79587513, 114.58925417, 106.51919584],\n",
       "       [ 91.61420147,  96.96778692,  98.31543184],\n",
       "       [ 87.2558908 ,  91.14152913,  95.60298779],\n",
       "       [102.6191119 , 111.67932308, 105.16446257],\n",
       "       [103.20223374, 112.45884946, 105.52737505]])"
      ]
     },
     "execution_count": 25,
     "metadata": {},
     "output_type": "execute_result"
    }
   ],
   "source": [
    "# exam에 cca를 적용하여 perform 스타일로 변형된 형태라고 보면 되는듯\n",
    "ca.predict(exam)"
   ]
  },
  {
   "cell_type": "code",
   "execution_count": 26,
   "metadata": {},
   "outputs": [
    {
     "data": {
      "text/plain": [
       "0.8839526913506086"
      ]
     },
     "execution_count": 26,
     "metadata": {},
     "output_type": "execute_result"
    }
   ],
   "source": [
    "ca.score(exam, perform)"
   ]
  },
  {
   "cell_type": "code",
   "execution_count": 27,
   "metadata": {},
   "outputs": [
    {
     "data": {
      "text/html": [
       "<div>\n",
       "<style scoped>\n",
       "    .dataframe tbody tr th:only-of-type {\n",
       "        vertical-align: middle;\n",
       "    }\n",
       "\n",
       "    .dataframe tbody tr th {\n",
       "        vertical-align: top;\n",
       "    }\n",
       "\n",
       "    .dataframe thead th {\n",
       "        text-align: right;\n",
       "    }\n",
       "</style>\n",
       "<table border=\"1\" class=\"dataframe\">\n",
       "  <thead>\n",
       "    <tr style=\"text-align: right;\">\n",
       "      <th></th>\n",
       "      <th>Y1</th>\n",
       "      <th>Y2</th>\n",
       "      <th>Y3</th>\n",
       "    </tr>\n",
       "    <tr>\n",
       "      <th>ID</th>\n",
       "      <th></th>\n",
       "      <th></th>\n",
       "      <th></th>\n",
       "    </tr>\n",
       "  </thead>\n",
       "  <tbody>\n",
       "    <tr>\n",
       "      <th>1</th>\n",
       "      <td>93.0</td>\n",
       "      <td>96.0</td>\n",
       "      <td>97.8</td>\n",
       "    </tr>\n",
       "    <tr>\n",
       "      <th>2</th>\n",
       "      <td>88.8</td>\n",
       "      <td>91.8</td>\n",
       "      <td>96.8</td>\n",
       "    </tr>\n",
       "    <tr>\n",
       "      <th>3</th>\n",
       "      <td>95.0</td>\n",
       "      <td>100.3</td>\n",
       "      <td>99.0</td>\n",
       "    </tr>\n",
       "    <tr>\n",
       "      <th>4</th>\n",
       "      <td>101.3</td>\n",
       "      <td>103.8</td>\n",
       "      <td>106.8</td>\n",
       "    </tr>\n",
       "    <tr>\n",
       "      <th>5</th>\n",
       "      <td>102.0</td>\n",
       "      <td>107.8</td>\n",
       "      <td>103.0</td>\n",
       "    </tr>\n",
       "    <tr>\n",
       "      <th>6</th>\n",
       "      <td>95.8</td>\n",
       "      <td>97.5</td>\n",
       "      <td>99.3</td>\n",
       "    </tr>\n",
       "    <tr>\n",
       "      <th>7</th>\n",
       "      <td>95.5</td>\n",
       "      <td>99.5</td>\n",
       "      <td>99.0</td>\n",
       "    </tr>\n",
       "    <tr>\n",
       "      <th>8</th>\n",
       "      <td>110.8</td>\n",
       "      <td>122.0</td>\n",
       "      <td>115.3</td>\n",
       "    </tr>\n",
       "    <tr>\n",
       "      <th>9</th>\n",
       "      <td>102.8</td>\n",
       "      <td>108.3</td>\n",
       "      <td>103.8</td>\n",
       "    </tr>\n",
       "    <tr>\n",
       "      <th>10</th>\n",
       "      <td>106.8</td>\n",
       "      <td>120.5</td>\n",
       "      <td>102.0</td>\n",
       "    </tr>\n",
       "    <tr>\n",
       "      <th>11</th>\n",
       "      <td>103.3</td>\n",
       "      <td>109.8</td>\n",
       "      <td>104.0</td>\n",
       "    </tr>\n",
       "    <tr>\n",
       "      <th>12</th>\n",
       "      <td>99.5</td>\n",
       "      <td>111.8</td>\n",
       "      <td>100.3</td>\n",
       "    </tr>\n",
       "    <tr>\n",
       "      <th>13</th>\n",
       "      <td>103.5</td>\n",
       "      <td>112.5</td>\n",
       "      <td>107.0</td>\n",
       "    </tr>\n",
       "    <tr>\n",
       "      <th>14</th>\n",
       "      <td>99.5</td>\n",
       "      <td>105.5</td>\n",
       "      <td>102.3</td>\n",
       "    </tr>\n",
       "    <tr>\n",
       "      <th>15</th>\n",
       "      <td>100.0</td>\n",
       "      <td>107.0</td>\n",
       "      <td>102.8</td>\n",
       "    </tr>\n",
       "    <tr>\n",
       "      <th>16</th>\n",
       "      <td>81.5</td>\n",
       "      <td>93.5</td>\n",
       "      <td>95.0</td>\n",
       "    </tr>\n",
       "    <tr>\n",
       "      <th>17</th>\n",
       "      <td>101.3</td>\n",
       "      <td>105.3</td>\n",
       "      <td>102.8</td>\n",
       "    </tr>\n",
       "    <tr>\n",
       "      <th>18</th>\n",
       "      <td>103.3</td>\n",
       "      <td>110.8</td>\n",
       "      <td>103.5</td>\n",
       "    </tr>\n",
       "    <tr>\n",
       "      <th>19</th>\n",
       "      <td>95.3</td>\n",
       "      <td>104.3</td>\n",
       "      <td>103.0</td>\n",
       "    </tr>\n",
       "    <tr>\n",
       "      <th>20</th>\n",
       "      <td>99.5</td>\n",
       "      <td>105.3</td>\n",
       "      <td>106.3</td>\n",
       "    </tr>\n",
       "    <tr>\n",
       "      <th>21</th>\n",
       "      <td>88.5</td>\n",
       "      <td>95.3</td>\n",
       "      <td>95.8</td>\n",
       "    </tr>\n",
       "    <tr>\n",
       "      <th>22</th>\n",
       "      <td>99.3</td>\n",
       "      <td>115.0</td>\n",
       "      <td>104.3</td>\n",
       "    </tr>\n",
       "    <tr>\n",
       "      <th>23</th>\n",
       "      <td>87.5</td>\n",
       "      <td>92.5</td>\n",
       "      <td>95.8</td>\n",
       "    </tr>\n",
       "    <tr>\n",
       "      <th>24</th>\n",
       "      <td>105.3</td>\n",
       "      <td>114.0</td>\n",
       "      <td>105.3</td>\n",
       "    </tr>\n",
       "    <tr>\n",
       "      <th>25</th>\n",
       "      <td>107.0</td>\n",
       "      <td>121.0</td>\n",
       "      <td>109.0</td>\n",
       "    </tr>\n",
       "    <tr>\n",
       "      <th>26</th>\n",
       "      <td>93.3</td>\n",
       "      <td>102.0</td>\n",
       "      <td>97.8</td>\n",
       "    </tr>\n",
       "    <tr>\n",
       "      <th>27</th>\n",
       "      <td>106.8</td>\n",
       "      <td>118.0</td>\n",
       "      <td>107.3</td>\n",
       "    </tr>\n",
       "    <tr>\n",
       "      <th>28</th>\n",
       "      <td>106.8</td>\n",
       "      <td>120.0</td>\n",
       "      <td>104.8</td>\n",
       "    </tr>\n",
       "    <tr>\n",
       "      <th>29</th>\n",
       "      <td>92.3</td>\n",
       "      <td>90.8</td>\n",
       "      <td>99.8</td>\n",
       "    </tr>\n",
       "    <tr>\n",
       "      <th>30</th>\n",
       "      <td>106.3</td>\n",
       "      <td>121.0</td>\n",
       "      <td>104.5</td>\n",
       "    </tr>\n",
       "    <tr>\n",
       "      <th>31</th>\n",
       "      <td>106.0</td>\n",
       "      <td>119.5</td>\n",
       "      <td>110.5</td>\n",
       "    </tr>\n",
       "    <tr>\n",
       "      <th>32</th>\n",
       "      <td>88.3</td>\n",
       "      <td>92.8</td>\n",
       "      <td>96.8</td>\n",
       "    </tr>\n",
       "    <tr>\n",
       "      <th>33</th>\n",
       "      <td>96.0</td>\n",
       "      <td>103.3</td>\n",
       "      <td>100.5</td>\n",
       "    </tr>\n",
       "    <tr>\n",
       "      <th>34</th>\n",
       "      <td>94.3</td>\n",
       "      <td>94.5</td>\n",
       "      <td>99.0</td>\n",
       "    </tr>\n",
       "    <tr>\n",
       "      <th>35</th>\n",
       "      <td>106.5</td>\n",
       "      <td>121.5</td>\n",
       "      <td>110.5</td>\n",
       "    </tr>\n",
       "    <tr>\n",
       "      <th>36</th>\n",
       "      <td>106.5</td>\n",
       "      <td>115.5</td>\n",
       "      <td>107.0</td>\n",
       "    </tr>\n",
       "    <tr>\n",
       "      <th>37</th>\n",
       "      <td>92.0</td>\n",
       "      <td>99.5</td>\n",
       "      <td>103.5</td>\n",
       "    </tr>\n",
       "    <tr>\n",
       "      <th>38</th>\n",
       "      <td>102.0</td>\n",
       "      <td>99.8</td>\n",
       "      <td>103.3</td>\n",
       "    </tr>\n",
       "    <tr>\n",
       "      <th>39</th>\n",
       "      <td>108.3</td>\n",
       "      <td>122.3</td>\n",
       "      <td>108.5</td>\n",
       "    </tr>\n",
       "    <tr>\n",
       "      <th>40</th>\n",
       "      <td>106.8</td>\n",
       "      <td>119.0</td>\n",
       "      <td>106.8</td>\n",
       "    </tr>\n",
       "    <tr>\n",
       "      <th>41</th>\n",
       "      <td>102.5</td>\n",
       "      <td>109.3</td>\n",
       "      <td>103.8</td>\n",
       "    </tr>\n",
       "    <tr>\n",
       "      <th>42</th>\n",
       "      <td>92.5</td>\n",
       "      <td>102.5</td>\n",
       "      <td>99.3</td>\n",
       "    </tr>\n",
       "    <tr>\n",
       "      <th>43</th>\n",
       "      <td>102.8</td>\n",
       "      <td>113.8</td>\n",
       "      <td>106.8</td>\n",
       "    </tr>\n",
       "    <tr>\n",
       "      <th>44</th>\n",
       "      <td>83.3</td>\n",
       "      <td>87.3</td>\n",
       "      <td>96.3</td>\n",
       "    </tr>\n",
       "    <tr>\n",
       "      <th>45</th>\n",
       "      <td>94.8</td>\n",
       "      <td>101.8</td>\n",
       "      <td>99.8</td>\n",
       "    </tr>\n",
       "    <tr>\n",
       "      <th>46</th>\n",
       "      <td>103.5</td>\n",
       "      <td>112.0</td>\n",
       "      <td>110.8</td>\n",
       "    </tr>\n",
       "    <tr>\n",
       "      <th>47</th>\n",
       "      <td>89.5</td>\n",
       "      <td>96.0</td>\n",
       "      <td>97.3</td>\n",
       "    </tr>\n",
       "    <tr>\n",
       "      <th>48</th>\n",
       "      <td>84.3</td>\n",
       "      <td>89.8</td>\n",
       "      <td>94.3</td>\n",
       "    </tr>\n",
       "    <tr>\n",
       "      <th>49</th>\n",
       "      <td>104.3</td>\n",
       "      <td>109.5</td>\n",
       "      <td>106.5</td>\n",
       "    </tr>\n",
       "    <tr>\n",
       "      <th>50</th>\n",
       "      <td>106.0</td>\n",
       "      <td>118.5</td>\n",
       "      <td>105.0</td>\n",
       "    </tr>\n",
       "  </tbody>\n",
       "</table>\n",
       "</div>"
      ],
      "text/plain": [
       "       Y1     Y2     Y3\n",
       "ID                     \n",
       "1    93.0   96.0   97.8\n",
       "2    88.8   91.8   96.8\n",
       "3    95.0  100.3   99.0\n",
       "4   101.3  103.8  106.8\n",
       "5   102.0  107.8  103.0\n",
       "6    95.8   97.5   99.3\n",
       "7    95.5   99.5   99.0\n",
       "8   110.8  122.0  115.3\n",
       "9   102.8  108.3  103.8\n",
       "10  106.8  120.5  102.0\n",
       "11  103.3  109.8  104.0\n",
       "12   99.5  111.8  100.3\n",
       "13  103.5  112.5  107.0\n",
       "14   99.5  105.5  102.3\n",
       "15  100.0  107.0  102.8\n",
       "16   81.5   93.5   95.0\n",
       "17  101.3  105.3  102.8\n",
       "18  103.3  110.8  103.5\n",
       "19   95.3  104.3  103.0\n",
       "20   99.5  105.3  106.3\n",
       "21   88.5   95.3   95.8\n",
       "22   99.3  115.0  104.3\n",
       "23   87.5   92.5   95.8\n",
       "24  105.3  114.0  105.3\n",
       "25  107.0  121.0  109.0\n",
       "26   93.3  102.0   97.8\n",
       "27  106.8  118.0  107.3\n",
       "28  106.8  120.0  104.8\n",
       "29   92.3   90.8   99.8\n",
       "30  106.3  121.0  104.5\n",
       "31  106.0  119.5  110.5\n",
       "32   88.3   92.8   96.8\n",
       "33   96.0  103.3  100.5\n",
       "34   94.3   94.5   99.0\n",
       "35  106.5  121.5  110.5\n",
       "36  106.5  115.5  107.0\n",
       "37   92.0   99.5  103.5\n",
       "38  102.0   99.8  103.3\n",
       "39  108.3  122.3  108.5\n",
       "40  106.8  119.0  106.8\n",
       "41  102.5  109.3  103.8\n",
       "42   92.5  102.5   99.3\n",
       "43  102.8  113.8  106.8\n",
       "44   83.3   87.3   96.3\n",
       "45   94.8  101.8   99.8\n",
       "46  103.5  112.0  110.8\n",
       "47   89.5   96.0   97.3\n",
       "48   84.3   89.8   94.3\n",
       "49  104.3  109.5  106.5\n",
       "50  106.0  118.5  105.0"
      ]
     },
     "execution_count": 27,
     "metadata": {},
     "output_type": "execute_result"
    }
   ],
   "source": [
    "perform"
   ]
  },
  {
   "cell_type": "code",
   "execution_count": 30,
   "metadata": {},
   "outputs": [
    {
     "data": {
      "text/plain": [
       "(array([[0.47700412],\n",
       "        [0.54294989],\n",
       "        [0.48300563],\n",
       "        [0.71007877]]),\n",
       " array([[0.60618733],\n",
       "        [0.58728876],\n",
       "        [0.58743935]]))"
      ]
     },
     "execution_count": 30,
     "metadata": {},
     "output_type": "execute_result"
    }
   ],
   "source": [
    "# 표준화 하나 안하나 결과는 동일\n",
    "ca = CCA(n_components=1).fit(exam, perform)\n",
    "ca.x_loadings_, ca.y_loadings_"
   ]
  },
  {
   "cell_type": "code",
   "execution_count": 31,
   "metadata": {},
   "outputs": [
    {
     "data": {
      "text/plain": [
       "(array([[0.35650258],\n",
       "        [0.14687268],\n",
       "        [0.24573596],\n",
       "        [0.88935267]]),\n",
       " array([[0.72465084],\n",
       "        [0.3792581 ],\n",
       "        [0.57536463]]))"
      ]
     },
     "execution_count": 31,
     "metadata": {},
     "output_type": "execute_result"
    }
   ],
   "source": [
    "ca.x_weights_, ca.y_weights_"
   ]
  },
  {
   "cell_type": "code",
   "execution_count": 34,
   "metadata": {},
   "outputs": [
    {
     "data": {
      "text/plain": [
       "array([[-1.29636467],\n",
       "       [-1.87109041],\n",
       "       [-0.88038471],\n",
       "       [ 0.1657547 ],\n",
       "       [ 0.28153215],\n",
       "       [-0.80507931],\n",
       "       [-0.8743788 ],\n",
       "       [ 3.16981493],\n",
       "       [ 0.39876962],\n",
       "       [ 1.2492505 ],\n",
       "       [ 0.5491225 ],\n",
       "       [-0.1320906 ],\n",
       "       [ 0.9646787 ],\n",
       "       [-0.06229058],\n",
       "       [ 0.04517343],\n",
       "       [-2.40433765],\n",
       "       [ 0.1269085 ],\n",
       "       [ 0.4668842 ],\n",
       "       [-0.26781923],\n",
       "       [ 0.46430157],\n",
       "       [-1.85764838],\n",
       "       [ 0.38506965],\n",
       "       [-1.99383056],\n",
       "       [ 0.88432418],\n",
       "       [ 1.58829921],\n",
       "       [-1.05229472],\n",
       "       [ 1.27731678],\n",
       "       [ 1.64482572],\n",
       "       [-1.2673416 ],\n",
       "       [ 1.17582887],\n",
       "       [ 1.70342478],\n",
       "       [-1.93696663],\n",
       "       [-0.52651342],\n",
       "       [-1.06065783],\n",
       "       [ 1.70581179],\n",
       "       [ 1.50960033],\n",
       "       [-0.59281338],\n",
       "       [ 0.31467736],\n",
       "       [ 1.66669048],\n",
       "       [ 1.2820908 ],\n",
       "       [ 0.39276372],\n",
       "       [-0.89593594],\n",
       "       [ 0.90161325],\n",
       "       [-2.74531982],\n",
       "       [-0.73631285],\n",
       "       [ 1.33995848],\n",
       "       [-1.62367667],\n",
       "       [-2.60355548],\n",
       "       [ 0.8505569 ],\n",
       "       [ 0.98166015]])"
      ]
     },
     "execution_count": 34,
     "metadata": {},
     "output_type": "execute_result"
    }
   ],
   "source": [
    "X_c, y_c = ca.transform(exam, perform)\n",
    "X_c"
   ]
  },
  {
   "cell_type": "code",
   "execution_count": 38,
   "metadata": {},
   "outputs": [
    {
     "data": {
      "text/plain": [
       "array([[29.35706183],\n",
       "       [24.2497656 ],\n",
       "       [33.14053031],\n",
       "       [39.71369978],\n",
       "       [41.43287772],\n",
       "       [32.59605577],\n",
       "       [32.90745566],\n",
       "       [62.90417362],\n",
       "       [42.29170438],\n",
       "       [49.45728963],\n",
       "       [43.47278576],\n",
       "       [40.41962612],\n",
       "       [46.31795415],\n",
       "       [38.7012719 ],\n",
       "       [39.63727563],\n",
       "       [22.00186632],\n",
       "       [39.79802653],\n",
       "       [43.01416262],\n",
       "       [37.56775531],\n",
       "       [41.82440691],\n",
       "       [25.31766087],\n",
       "       [43.49383956],\n",
       "       [23.92188583],\n",
       "       [45.9372798 ],\n",
       "       [51.4372534 ],\n",
       "       [32.62714068],\n",
       "       [48.85439547],\n",
       "       [53.56416101],\n",
       "       [27.59594415],\n",
       "       [50.07971295],\n",
       "       [52.09376587],\n",
       "       [23.13833514],\n",
       "       [35.96846589],\n",
       "       [30.08999845],\n",
       "       [52.46958689],\n",
       "       [51.01016244],\n",
       "       [33.91873536],\n",
       "       [39.3607366 ],\n",
       "       [52.38040681],\n",
       "       [49.60603752],\n",
       "       [42.52477902],\n",
       "       [33.57514742],\n",
       "       [46.52064479],\n",
       "       [18.18998576],\n",
       "       [34.38117949],\n",
       "       [47.71340475],\n",
       "       [26.73744194],\n",
       "       [18.41438608],\n",
       "       [44.55235959],\n",
       "       [47.41738159]])"
      ]
     },
     "execution_count": 38,
     "metadata": {},
     "output_type": "execute_result"
    }
   ],
   "source": [
    "np.dot(exam, ca.x_loadings_)"
   ]
  },
  {
   "cell_type": "code",
   "execution_count": 39,
   "metadata": {},
   "outputs": [
    {
     "data": {
      "text/plain": [
       "array([[170.20671091],\n",
       "       [164.60667198],\n",
       "       [174.64935446],\n",
       "       [185.10587222],\n",
       "       [185.64708886],\n",
       "       [173.66612761],\n",
       "       [174.48261712],\n",
       "       [206.54654173],\n",
       "       [186.89563459],\n",
       "       [195.42791594],\n",
       "       [188.19714926],\n",
       "       [184.89468932],\n",
       "       [191.66638441],\n",
       "       [182.36964884],\n",
       "       [183.84739532],\n",
       "       [160.12250451],\n",
       "       [183.63704797],\n",
       "       [188.49071834],\n",
       "       [179.53012308],\n",
       "       [184.60194848],\n",
       "       [165.89288709],\n",
       "       [189.00253327],\n",
       "       [163.64229123],\n",
       "       [192.63980786],\n",
       "       [199.95487322],\n",
       "       [173.91229966],\n",
       "       [197.07312259],\n",
       "       [196.77910174],\n",
       "       [167.90335693],\n",
       "       [196.88706502],\n",
       "       [199.34891177],\n",
       "       [164.89086707],\n",
       "       [177.89856708],\n",
       "       [170.81874853],\n",
       "       [200.82658295],\n",
       "       [195.24681269],\n",
       "       [175.00443851],\n",
       "       [181.12501061],\n",
       "       [201.21267246],\n",
       "       [197.36669167],\n",
       "       [187.30106715],\n",
       "       [174.60215319],\n",
       "       [191.8880408 ],\n",
       "       [158.33612256],\n",
       "       [175.8790016 ],\n",
       "       [193.60500955],\n",
       "       [167.79133557],\n",
       "       [159.2356531 ],\n",
       "       [190.09574833],\n",
       "       [195.5307066 ]])"
      ]
     },
     "execution_count": 39,
     "metadata": {},
     "output_type": "execute_result"
    }
   ],
   "source": [
    "np.dot(perform, ca.y_loadings_)"
   ]
  },
  {
   "cell_type": "code",
   "execution_count": 41,
   "metadata": {},
   "outputs": [
    {
     "data": {
      "text/plain": [
       "(array([[1.58565425, 2.11972737, 0.98684989],\n",
       "        [0.65326114, 0.8732897 , 0.40656448],\n",
       "        [1.09298582, 1.46112052, 0.68023211],\n",
       "        [3.95566796, 5.28799872, 2.46185479]]),\n",
       " array([ 98.836, 106.622, 102.81 ]))"
      ]
     },
     "execution_count": 41,
     "metadata": {},
     "output_type": "execute_result"
    }
   ],
   "source": [
    "ca.coef_, ca.intercept_"
   ]
  },
  {
   "cell_type": "code",
   "execution_count": 46,
   "metadata": {},
   "outputs": [
    {
     "data": {
      "text/plain": [
       "array([[111.06025358, 148.46708178,  69.11960757],\n",
       "       [ 87.8970688 , 117.50217456,  54.703737  ],\n",
       "       [133.2086071 , 178.07534674,  82.90388642],\n",
       "       [156.00370773, 208.54819333,  97.09067565],\n",
       "       [165.35266426, 221.04602445, 102.90910471],\n",
       "       [120.09406972, 160.54362831,  74.74190543],\n",
       "       [130.83859339, 174.90707539,  81.42888152],\n",
       "       [259.74085271, 347.22562915, 161.65266359],\n",
       "       [163.7965044 , 218.96572564, 101.94061099],\n",
       "       [200.2517546 , 267.69967356, 124.62894913],\n",
       "       [169.83049505, 227.03205859, 105.69593345],\n",
       "       [158.98483645, 212.53341276,  98.9460149 ],\n",
       "       [182.99146215, 244.62584499, 113.8868105 ],\n",
       "       [165.73340015, 221.55499813, 103.14606001],\n",
       "       [170.38271394, 227.77027344, 106.03961314],\n",
       "       [ 85.73454653, 114.611281  ,  53.35786675],\n",
       "       [163.88554926, 219.0847622 , 101.99602906],\n",
       "       [177.05907544, 236.69533776, 110.19472238],\n",
       "       [149.95278176, 200.45922098,  93.3248133 ],\n",
       "       [156.88744067, 209.72958132,  97.64067686],\n",
       "       [ 90.68159638, 121.22457452,  56.43671929],\n",
       "       [193.27504224, 258.37309549, 120.28691312],\n",
       "       [ 91.09182666, 121.77297677,  56.69203076],\n",
       "       [188.30231257, 251.72547279, 117.19207845],\n",
       "       [205.16931007, 274.27353851, 127.68944551],\n",
       "       [124.28672351, 166.14843338,  77.35125104],\n",
       "       [200.03821814, 267.41421467, 124.49605229],\n",
       "       [232.15929494, 310.35417188, 144.4869685 ],\n",
       "       [100.67301644, 134.58126092,  62.65499281],\n",
       "       [211.44856202, 282.66774061, 131.59740913],\n",
       "       [219.36427421, 293.2495883 , 136.52384233],\n",
       "       [ 76.099944  , 101.73159384,  47.36166266],\n",
       "       [139.72437588, 186.78572822,  86.95904897],\n",
       "       [110.87621151, 148.22105147,  69.0050669 ],\n",
       "       [216.71512853, 289.70816898, 134.87511649],\n",
       "       [222.39582455, 297.30221215, 138.41056204],\n",
       "       [118.93986466, 159.00066895,  74.02357283],\n",
       "       [154.51314337, 206.55558361,  96.16300603],\n",
       "       [211.49499174, 282.72980858, 131.62630519],\n",
       "       [194.73992679, 260.33137603, 121.19860062],\n",
       "       [166.16651812, 222.133997  , 103.41561588],\n",
       "       [127.95070044, 171.04649498,  79.63156861],\n",
       "       [177.53257809, 237.3283235 , 110.48941213],\n",
       "       [ 74.02385177,  98.95624132,  46.06958314],\n",
       "       [128.51063314, 171.79502176,  79.98004907],\n",
       "       [196.50971579, 262.69725761, 122.30004886],\n",
       "       [ 88.30069238, 118.04174485,  54.9549367 ],\n",
       "       [ 62.25622136,  83.22508917,  38.74586497],\n",
       "       [185.55816968, 248.05705971, 115.48423002],\n",
       "       [195.77392382, 261.71363942, 121.84212039]])"
      ]
     },
     "execution_count": 46,
     "metadata": {},
     "output_type": "execute_result"
    }
   ],
   "source": [
    "np.dot(exam, ca.coef_)"
   ]
  },
  {
   "cell_type": "code",
   "execution_count": 52,
   "metadata": {},
   "outputs": [
    {
     "data": {
      "text/plain": [
       "array([[1.       , 0.9941526],\n",
       "       [0.9941526, 1.       ]])"
      ]
     },
     "execution_count": 52,
     "metadata": {},
     "output_type": "execute_result"
    }
   ],
   "source": [
    "np.corrcoef(X_c.reshape(1, -1), y_c.reshape(1, -1))"
   ]
  },
  {
   "cell_type": "code",
   "execution_count": null,
   "metadata": {},
   "outputs": [],
   "source": []
  }
 ],
 "metadata": {
  "kernelspec": {
   "display_name": "base",
   "language": "python",
   "name": "python3"
  },
  "language_info": {
   "codemirror_mode": {
    "name": "ipython",
    "version": 3
   },
   "file_extension": ".py",
   "mimetype": "text/x-python",
   "name": "python",
   "nbconvert_exporter": "python",
   "pygments_lexer": "ipython3",
   "version": "3.10.9"
  },
  "orig_nbformat": 4
 },
 "nbformat": 4,
 "nbformat_minor": 2
}
