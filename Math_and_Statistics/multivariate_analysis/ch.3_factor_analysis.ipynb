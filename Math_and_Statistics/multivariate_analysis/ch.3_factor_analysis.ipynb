{
 "cells": [
  {
   "cell_type": "code",
   "execution_count": 1,
   "metadata": {},
   "outputs": [],
   "source": [
    "import pandas as pd\n",
    "import numpy as np\n",
    "import matplotlib.pyplot as plt\n",
    "import seaborn as sns\n",
    "from pathlib import Path\n",
    "import scipy.stats as ss\n",
    "import pingouin as pg"
   ]
  },
  {
   "cell_type": "code",
   "execution_count": 2,
   "metadata": {},
   "outputs": [],
   "source": [
    "from factor_analyzer import FactorAnalyzer"
   ]
  },
  {
   "cell_type": "code",
   "execution_count": 3,
   "metadata": {},
   "outputs": [
    {
     "data": {
      "text/html": [
       "<div>\n",
       "<style scoped>\n",
       "    .dataframe tbody tr th:only-of-type {\n",
       "        vertical-align: middle;\n",
       "    }\n",
       "\n",
       "    .dataframe tbody tr th {\n",
       "        vertical-align: top;\n",
       "    }\n",
       "\n",
       "    .dataframe thead th {\n",
       "        text-align: right;\n",
       "    }\n",
       "</style>\n",
       "<table border=\"1\" class=\"dataframe\">\n",
       "  <thead>\n",
       "    <tr style=\"text-align: right;\">\n",
       "      <th></th>\n",
       "      <th>lung</th>\n",
       "      <th>muscle</th>\n",
       "      <th>liver</th>\n",
       "      <th>skeleton</th>\n",
       "      <th>kidneys</th>\n",
       "      <th>heart</th>\n",
       "      <th>step</th>\n",
       "      <th>stamina</th>\n",
       "      <th>stretch</th>\n",
       "      <th>blow</th>\n",
       "      <th>urine</th>\n",
       "    </tr>\n",
       "  </thead>\n",
       "  <tbody>\n",
       "    <tr>\n",
       "      <th>0</th>\n",
       "      <td>20</td>\n",
       "      <td>16</td>\n",
       "      <td>52</td>\n",
       "      <td>10</td>\n",
       "      <td>24</td>\n",
       "      <td>23</td>\n",
       "      <td>19</td>\n",
       "      <td>20</td>\n",
       "      <td>23</td>\n",
       "      <td>29</td>\n",
       "      <td>67</td>\n",
       "    </tr>\n",
       "    <tr>\n",
       "      <th>1</th>\n",
       "      <td>24</td>\n",
       "      <td>16</td>\n",
       "      <td>52</td>\n",
       "      <td>7</td>\n",
       "      <td>27</td>\n",
       "      <td>16</td>\n",
       "      <td>16</td>\n",
       "      <td>15</td>\n",
       "      <td>31</td>\n",
       "      <td>33</td>\n",
       "      <td>59</td>\n",
       "    </tr>\n",
       "    <tr>\n",
       "      <th>2</th>\n",
       "      <td>19</td>\n",
       "      <td>21</td>\n",
       "      <td>57</td>\n",
       "      <td>18</td>\n",
       "      <td>22</td>\n",
       "      <td>23</td>\n",
       "      <td>16</td>\n",
       "      <td>19</td>\n",
       "      <td>42</td>\n",
       "      <td>40</td>\n",
       "      <td>61</td>\n",
       "    </tr>\n",
       "    <tr>\n",
       "      <th>3</th>\n",
       "      <td>24</td>\n",
       "      <td>21</td>\n",
       "      <td>62</td>\n",
       "      <td>12</td>\n",
       "      <td>31</td>\n",
       "      <td>25</td>\n",
       "      <td>17</td>\n",
       "      <td>17</td>\n",
       "      <td>36</td>\n",
       "      <td>36</td>\n",
       "      <td>77</td>\n",
       "    </tr>\n",
       "    <tr>\n",
       "      <th>4</th>\n",
       "      <td>29</td>\n",
       "      <td>18</td>\n",
       "      <td>62</td>\n",
       "      <td>14</td>\n",
       "      <td>26</td>\n",
       "      <td>27</td>\n",
       "      <td>15</td>\n",
       "      <td>20</td>\n",
       "      <td>33</td>\n",
       "      <td>29</td>\n",
       "      <td>88</td>\n",
       "    </tr>\n",
       "  </tbody>\n",
       "</table>\n",
       "</div>"
      ],
      "text/plain": [
       "   lung  muscle  liver  skeleton  kidneys  heart  step  stamina  stretch  \\\n",
       "0    20      16     52        10       24     23    19       20       23   \n",
       "1    24      16     52         7       27     16    16       15       31   \n",
       "2    19      21     57        18       22     23    16       19       42   \n",
       "3    24      21     62        12       31     25    17       17       36   \n",
       "4    29      18     62        14       26     27    15       20       33   \n",
       "\n",
       "   blow  urine  \n",
       "0    29     67  \n",
       "1    33     59  \n",
       "2    40     61  \n",
       "3    36     77  \n",
       "4    29     88  "
      ]
     },
     "execution_count": 3,
     "metadata": {},
     "output_type": "execute_result"
    }
   ],
   "source": [
    "med = pd.read_csv(Path.cwd() / 'data' / 'medFactor.csv')\n",
    "med.head()"
   ]
  },
  {
   "cell_type": "code",
   "execution_count": 5,
   "metadata": {},
   "outputs": [
    {
     "data": {
      "text/plain": [
       "HZResults(hz=124.8479134609871, pval=0.0, normal=False)"
      ]
     },
     "execution_count": 5,
     "metadata": {},
     "output_type": "execute_result"
    }
   ],
   "source": [
    "pg.multivariate_normality(med, alpha=0.1)"
   ]
  },
  {
   "cell_type": "code",
   "execution_count": 6,
   "metadata": {},
   "outputs": [
    {
     "data": {
      "text/plain": [
       "ShapiroResult(statistic=0.9579742550849915, pvalue=0.0005490659968927503)"
      ]
     },
     "execution_count": 6,
     "metadata": {},
     "output_type": "execute_result"
    }
   ],
   "source": [
    "ss.shapiro(med['lung'])"
   ]
  },
  {
   "cell_type": "code",
   "execution_count": 11,
   "metadata": {},
   "outputs": [
    {
     "data": {
      "text/html": [
       "<div>\n",
       "<style scoped>\n",
       "    .dataframe tbody tr th:only-of-type {\n",
       "        vertical-align: middle;\n",
       "    }\n",
       "\n",
       "    .dataframe tbody tr th {\n",
       "        vertical-align: top;\n",
       "    }\n",
       "\n",
       "    .dataframe thead th {\n",
       "        text-align: right;\n",
       "    }\n",
       "</style>\n",
       "<table border=\"1\" class=\"dataframe\">\n",
       "  <thead>\n",
       "    <tr style=\"text-align: right;\">\n",
       "      <th></th>\n",
       "      <th>lung</th>\n",
       "      <th>muscle</th>\n",
       "      <th>liver</th>\n",
       "      <th>skeleton</th>\n",
       "      <th>kidneys</th>\n",
       "      <th>heart</th>\n",
       "      <th>step</th>\n",
       "      <th>stamina</th>\n",
       "      <th>stretch</th>\n",
       "      <th>blow</th>\n",
       "      <th>urine</th>\n",
       "    </tr>\n",
       "  </thead>\n",
       "  <tbody>\n",
       "    <tr>\n",
       "      <th>count</th>\n",
       "      <td>128.000000</td>\n",
       "      <td>128.000000</td>\n",
       "      <td>128.000000</td>\n",
       "      <td>128.000000</td>\n",
       "      <td>128.000000</td>\n",
       "      <td>128.000000</td>\n",
       "      <td>128.000000</td>\n",
       "      <td>128.000000</td>\n",
       "      <td>128.000000</td>\n",
       "      <td>128.000000</td>\n",
       "      <td>128.000000</td>\n",
       "    </tr>\n",
       "    <tr>\n",
       "      <th>mean</th>\n",
       "      <td>19.960938</td>\n",
       "      <td>18.820312</td>\n",
       "      <td>54.695312</td>\n",
       "      <td>12.867188</td>\n",
       "      <td>25.640625</td>\n",
       "      <td>23.179688</td>\n",
       "      <td>16.171875</td>\n",
       "      <td>15.867188</td>\n",
       "      <td>38.812500</td>\n",
       "      <td>33.539062</td>\n",
       "      <td>66.906250</td>\n",
       "    </tr>\n",
       "    <tr>\n",
       "      <th>std</th>\n",
       "      <td>4.464034</td>\n",
       "      <td>4.088458</td>\n",
       "      <td>7.428990</td>\n",
       "      <td>2.986508</td>\n",
       "      <td>3.805786</td>\n",
       "      <td>4.159106</td>\n",
       "      <td>2.478599</td>\n",
       "      <td>2.651314</td>\n",
       "      <td>7.798395</td>\n",
       "      <td>4.097055</td>\n",
       "      <td>12.565067</td>\n",
       "    </tr>\n",
       "    <tr>\n",
       "      <th>min</th>\n",
       "      <td>4.000000</td>\n",
       "      <td>9.000000</td>\n",
       "      <td>26.000000</td>\n",
       "      <td>3.000000</td>\n",
       "      <td>16.000000</td>\n",
       "      <td>11.000000</td>\n",
       "      <td>4.000000</td>\n",
       "      <td>7.000000</td>\n",
       "      <td>16.000000</td>\n",
       "      <td>17.000000</td>\n",
       "      <td>9.000000</td>\n",
       "    </tr>\n",
       "    <tr>\n",
       "      <th>25%</th>\n",
       "      <td>17.000000</td>\n",
       "      <td>16.000000</td>\n",
       "      <td>50.750000</td>\n",
       "      <td>11.000000</td>\n",
       "      <td>23.000000</td>\n",
       "      <td>22.000000</td>\n",
       "      <td>15.000000</td>\n",
       "      <td>14.000000</td>\n",
       "      <td>34.000000</td>\n",
       "      <td>32.000000</td>\n",
       "      <td>59.000000</td>\n",
       "    </tr>\n",
       "    <tr>\n",
       "      <th>50%</th>\n",
       "      <td>20.000000</td>\n",
       "      <td>19.000000</td>\n",
       "      <td>55.000000</td>\n",
       "      <td>13.000000</td>\n",
       "      <td>26.000000</td>\n",
       "      <td>23.000000</td>\n",
       "      <td>17.000000</td>\n",
       "      <td>16.000000</td>\n",
       "      <td>40.000000</td>\n",
       "      <td>34.000000</td>\n",
       "      <td>67.000000</td>\n",
       "    </tr>\n",
       "    <tr>\n",
       "      <th>75%</th>\n",
       "      <td>23.000000</td>\n",
       "      <td>22.000000</td>\n",
       "      <td>60.250000</td>\n",
       "      <td>15.000000</td>\n",
       "      <td>29.000000</td>\n",
       "      <td>25.000000</td>\n",
       "      <td>18.000000</td>\n",
       "      <td>18.000000</td>\n",
       "      <td>45.000000</td>\n",
       "      <td>36.000000</td>\n",
       "      <td>76.000000</td>\n",
       "    </tr>\n",
       "    <tr>\n",
       "      <th>max</th>\n",
       "      <td>29.000000</td>\n",
       "      <td>28.000000</td>\n",
       "      <td>69.000000</td>\n",
       "      <td>19.000000</td>\n",
       "      <td>32.000000</td>\n",
       "      <td>56.000000</td>\n",
       "      <td>20.000000</td>\n",
       "      <td>20.000000</td>\n",
       "      <td>51.000000</td>\n",
       "      <td>41.000000</td>\n",
       "      <td>93.000000</td>\n",
       "    </tr>\n",
       "  </tbody>\n",
       "</table>\n",
       "</div>"
      ],
      "text/plain": [
       "             lung      muscle       liver    skeleton     kidneys       heart  \\\n",
       "count  128.000000  128.000000  128.000000  128.000000  128.000000  128.000000   \n",
       "mean    19.960938   18.820312   54.695312   12.867188   25.640625   23.179688   \n",
       "std      4.464034    4.088458    7.428990    2.986508    3.805786    4.159106   \n",
       "min      4.000000    9.000000   26.000000    3.000000   16.000000   11.000000   \n",
       "25%     17.000000   16.000000   50.750000   11.000000   23.000000   22.000000   \n",
       "50%     20.000000   19.000000   55.000000   13.000000   26.000000   23.000000   \n",
       "75%     23.000000   22.000000   60.250000   15.000000   29.000000   25.000000   \n",
       "max     29.000000   28.000000   69.000000   19.000000   32.000000   56.000000   \n",
       "\n",
       "             step     stamina     stretch        blow       urine  \n",
       "count  128.000000  128.000000  128.000000  128.000000  128.000000  \n",
       "mean    16.171875   15.867188   38.812500   33.539062   66.906250  \n",
       "std      2.478599    2.651314    7.798395    4.097055   12.565067  \n",
       "min      4.000000    7.000000   16.000000   17.000000    9.000000  \n",
       "25%     15.000000   14.000000   34.000000   32.000000   59.000000  \n",
       "50%     17.000000   16.000000   40.000000   34.000000   67.000000  \n",
       "75%     18.000000   18.000000   45.000000   36.000000   76.000000  \n",
       "max     20.000000   20.000000   51.000000   41.000000   93.000000  "
      ]
     },
     "execution_count": 11,
     "metadata": {},
     "output_type": "execute_result"
    }
   ],
   "source": [
    "med.describe()"
   ]
  },
  {
   "cell_type": "code",
   "execution_count": 12,
   "metadata": {},
   "outputs": [
    {
     "data": {
      "text/plain": [
       "(array([3.37918137, 1.48277065, 1.25063015, 0.98047706, 0.7688022 ,\n",
       "        0.73305114, 0.64039936, 0.62219335, 0.52837181, 0.35193006,\n",
       "        0.26219284]),\n",
       " array([ 2.87429658,  0.92121209,  0.82708599,  0.32961252,  0.14798142,\n",
       "         0.11630939,  0.03260218, -0.078728  , -0.09010899, -0.16583141,\n",
       "        -0.29405096]))"
      ]
     },
     "execution_count": 12,
     "metadata": {},
     "output_type": "execute_result"
    }
   ],
   "source": [
    "fa = FactorAnalyzer(rotation=None).fit(med)\n",
    "ev, v = fa.get_eigenvalues()\n",
    "ev, v"
   ]
  },
  {
   "cell_type": "code",
   "execution_count": 15,
   "metadata": {},
   "outputs": [
    {
     "data": {
      "image/png": "[encoded data removed]",
      "text/plain": [
       "<Figure size 432x288 with 1 Axes>"
      ]
     },
     "metadata": {
      "needs_background": "light"
     },
     "output_type": "display_data"
    }
   ],
   "source": [
    "plt.plot(ev, marker='o')\n",
    "plt.xticks(ticks=np.arange(11), labels=np.arange(1, 12))\n",
    "plt.show()"
   ]
  },
  {
   "cell_type": "code",
   "execution_count": 20,
   "metadata": {},
   "outputs": [
    {
     "data": {
      "text/plain": [
       "array([[ 0.82808075, -0.01127504,  0.08628291,  0.04859413],\n",
       "       [ 0.01442068, -0.11105114,  0.79811225,  0.17111399],\n",
       "       [ 0.7863582 ,  0.04631129,  0.12820724,  0.28811684],\n",
       "       [ 0.23753121,  0.20612517,  0.77433075,  0.02258082],\n",
       "       [ 0.46421471,  0.28567006, -0.10031512,  0.57747284],\n",
       "       [ 0.12372203,  0.027651  ,  0.25408005,  0.85274757],\n",
       "       [ 0.44383384,  0.46051392,  0.12988849,  0.22842996],\n",
       "       [ 0.03123887,  0.61165478,  0.35338127, -0.00875328],\n",
       "       [ 0.5247712 ,  0.49466448,  0.31331989, -0.33315929],\n",
       "       [ 0.23509342,  0.71035045,  0.02228321,  0.12646836],\n",
       "       [-0.12724924,  0.71674351, -0.19021636,  0.03657157]])"
      ]
     },
     "execution_count": 20,
     "metadata": {},
     "output_type": "execute_result"
    }
   ],
   "source": [
    "fa_varimax = FactorAnalyzer(n_factors=4, rotation='varimax', method='principal').fit(med)\n",
    "fa_varimax.loadings_"
   ]
  },
  {
   "cell_type": "code",
   "execution_count": 21,
   "metadata": {},
   "outputs": [
    {
     "data": {
      "text/plain": [
       "(array([0.69565099, 0.67880347, 0.71995236, 0.69900667, 0.6406407 ,\n",
       "        0.80780681, 0.47811281, 0.50005238, 0.72924223, 0.57635746,\n",
       "        0.56743336]),\n",
       " array([0.30434901, 0.32119653, 0.28004764, 0.30099333, 0.3593593 ,\n",
       "        0.19219319, 0.52188719, 0.49994762, 0.27075777, 0.42364254,\n",
       "        0.43256664]))"
      ]
     },
     "execution_count": 21,
     "metadata": {},
     "output_type": "execute_result"
    }
   ],
   "source": [
    "# communality와 인자고유분산(uniqueness)\n",
    "fa_varimax.get_communalities(), fa_varimax.get_uniquenesses()"
   ]
  },
  {
   "cell_type": "code",
   "execution_count": 23,
   "metadata": {},
   "outputs": [
    {
     "data": {
      "text/html": [
       "<div>\n",
       "<style scoped>\n",
       "    .dataframe tbody tr th:only-of-type {\n",
       "        vertical-align: middle;\n",
       "    }\n",
       "\n",
       "    .dataframe tbody tr th {\n",
       "        vertical-align: top;\n",
       "    }\n",
       "\n",
       "    .dataframe thead th {\n",
       "        text-align: right;\n",
       "    }\n",
       "</style>\n",
       "<table border=\"1\" class=\"dataframe\">\n",
       "  <thead>\n",
       "    <tr style=\"text-align: right;\">\n",
       "      <th></th>\n",
       "      <th>F1</th>\n",
       "      <th>F2</th>\n",
       "      <th>F3</th>\n",
       "      <th>F4</th>\n",
       "    </tr>\n",
       "  </thead>\n",
       "  <tbody>\n",
       "    <tr>\n",
       "      <th>lung</th>\n",
       "      <td>0.828081</td>\n",
       "      <td>-0.011275</td>\n",
       "      <td>0.086283</td>\n",
       "      <td>0.048594</td>\n",
       "    </tr>\n",
       "    <tr>\n",
       "      <th>muscle</th>\n",
       "      <td>0.014421</td>\n",
       "      <td>-0.111051</td>\n",
       "      <td>0.798112</td>\n",
       "      <td>0.171114</td>\n",
       "    </tr>\n",
       "    <tr>\n",
       "      <th>liver</th>\n",
       "      <td>0.786358</td>\n",
       "      <td>0.046311</td>\n",
       "      <td>0.128207</td>\n",
       "      <td>0.288117</td>\n",
       "    </tr>\n",
       "    <tr>\n",
       "      <th>skeleton</th>\n",
       "      <td>0.237531</td>\n",
       "      <td>0.206125</td>\n",
       "      <td>0.774331</td>\n",
       "      <td>0.022581</td>\n",
       "    </tr>\n",
       "    <tr>\n",
       "      <th>kidneys</th>\n",
       "      <td>0.464215</td>\n",
       "      <td>0.285670</td>\n",
       "      <td>-0.100315</td>\n",
       "      <td>0.577473</td>\n",
       "    </tr>\n",
       "    <tr>\n",
       "      <th>heart</th>\n",
       "      <td>0.123722</td>\n",
       "      <td>0.027651</td>\n",
       "      <td>0.254080</td>\n",
       "      <td>0.852748</td>\n",
       "    </tr>\n",
       "    <tr>\n",
       "      <th>step</th>\n",
       "      <td>0.443834</td>\n",
       "      <td>0.460514</td>\n",
       "      <td>0.129888</td>\n",
       "      <td>0.228430</td>\n",
       "    </tr>\n",
       "    <tr>\n",
       "      <th>stamina</th>\n",
       "      <td>0.031239</td>\n",
       "      <td>0.611655</td>\n",
       "      <td>0.353381</td>\n",
       "      <td>-0.008753</td>\n",
       "    </tr>\n",
       "    <tr>\n",
       "      <th>stretch</th>\n",
       "      <td>0.524771</td>\n",
       "      <td>0.494664</td>\n",
       "      <td>0.313320</td>\n",
       "      <td>-0.333159</td>\n",
       "    </tr>\n",
       "    <tr>\n",
       "      <th>blow</th>\n",
       "      <td>0.235093</td>\n",
       "      <td>0.710350</td>\n",
       "      <td>0.022283</td>\n",
       "      <td>0.126468</td>\n",
       "    </tr>\n",
       "    <tr>\n",
       "      <th>urine</th>\n",
       "      <td>-0.127249</td>\n",
       "      <td>0.716744</td>\n",
       "      <td>-0.190216</td>\n",
       "      <td>0.036572</td>\n",
       "    </tr>\n",
       "  </tbody>\n",
       "</table>\n",
       "</div>"
      ],
      "text/plain": [
       "                F1        F2        F3        F4\n",
       "lung      0.828081 -0.011275  0.086283  0.048594\n",
       "muscle    0.014421 -0.111051  0.798112  0.171114\n",
       "liver     0.786358  0.046311  0.128207  0.288117\n",
       "skeleton  0.237531  0.206125  0.774331  0.022581\n",
       "kidneys   0.464215  0.285670 -0.100315  0.577473\n",
       "heart     0.123722  0.027651  0.254080  0.852748\n",
       "step      0.443834  0.460514  0.129888  0.228430\n",
       "stamina   0.031239  0.611655  0.353381 -0.008753\n",
       "stretch   0.524771  0.494664  0.313320 -0.333159\n",
       "blow      0.235093  0.710350  0.022283  0.126468\n",
       "urine    -0.127249  0.716744 -0.190216  0.036572"
      ]
     },
     "execution_count": 23,
     "metadata": {},
     "output_type": "execute_result"
    }
   ],
   "source": [
    "fa_df = pd.DataFrame(fa_varimax.loadings_, index=med.columns, columns=['F1', 'F2', 'F3', 'F4'])\n",
    "fa_df"
   ]
  },
  {
   "cell_type": "code",
   "execution_count": 24,
   "metadata": {},
   "outputs": [
    {
     "data": {
      "text/plain": [
       "lung        F1\n",
       "muscle      F3\n",
       "liver       F1\n",
       "skeleton    F3\n",
       "kidneys     F4\n",
       "heart       F4\n",
       "step        F2\n",
       "stamina     F2\n",
       "stretch     F1\n",
       "blow        F2\n",
       "urine       F2\n",
       "dtype: object"
      ]
     },
     "execution_count": 24,
     "metadata": {},
     "output_type": "execute_result"
    }
   ],
   "source": [
    "fa_df.idxmax(axis=1)"
   ]
  },
  {
   "cell_type": "code",
   "execution_count": 51,
   "metadata": {},
   "outputs": [
    {
     "data": {
      "text/plain": [
       "array([[ 0.945, -0.232, -0.049, -0.071],\n",
       "       [-0.108, -0.181,  0.859,  0.221],\n",
       "       [ 0.838, -0.152,  0.013,  0.183],\n",
       "       [ 0.101,  0.106,  0.76 ,  0.023],\n",
       "       [ 0.395,  0.223, -0.174,  0.51 ],\n",
       "       [-0.036,  0.01 ,  0.297,  0.873],\n",
       "       [ 0.348,  0.39 ,  0.037,  0.161],\n",
       "       [-0.167,  0.638,  0.317, -0.014],\n",
       "       [ 0.493,  0.372,  0.179, -0.421],\n",
       "       [ 0.077,  0.724, -0.067,  0.074],\n",
       "       [-0.299,  0.838, -0.234,  0.024]])"
      ]
     },
     "execution_count": 51,
     "metadata": {},
     "output_type": "execute_result"
    }
   ],
   "source": [
    "fa_obm = FactorAnalyzer(n_factors=4, rotation='promax', method='principal').fit(med)\n",
    "fa_obm.loadings_.round(3)"
   ]
  },
  {
   "cell_type": "code",
   "execution_count": 52,
   "metadata": {},
   "outputs": [
    {
     "data": {
      "text/plain": [
       "(array([0.95414288, 0.83086735, 0.75943936, 0.60004208, 0.49652333,\n",
       "        0.85162308, 0.30052969, 0.53561803, 0.59095958, 0.54013375,\n",
       "        0.84727643]),\n",
       " array([0.04585712, 0.16913265, 0.24056064, 0.39995792, 0.50347667,\n",
       "        0.14837692, 0.69947031, 0.46438197, 0.40904042, 0.45986625,\n",
       "        0.15272357]))"
      ]
     },
     "execution_count": 52,
     "metadata": {},
     "output_type": "execute_result"
    }
   ],
   "source": [
    "# communality와 인자고유분산(uniqueness)\n",
    "fa_obm.get_communalities(), fa_obm.get_uniquenesses()"
   ]
  },
  {
   "cell_type": "code",
   "execution_count": 53,
   "metadata": {},
   "outputs": [
    {
     "data": {
      "text/plain": [
       "lung        F1\n",
       "muscle      F3\n",
       "liver       F1\n",
       "skeleton    F3\n",
       "kidneys     F4\n",
       "heart       F4\n",
       "step        F2\n",
       "stamina     F2\n",
       "stretch     F1\n",
       "blow        F2\n",
       "urine       F2\n",
       "dtype: object"
      ]
     },
     "execution_count": 53,
     "metadata": {},
     "output_type": "execute_result"
    }
   ],
   "source": [
    "fa_df = pd.DataFrame(fa_obm.loadings_, index=med.columns, columns=['F1', 'F2', 'F3', 'F4'])\n",
    "fa_df.idxmax(axis=1)"
   ]
  },
  {
   "cell_type": "code",
   "execution_count": 54,
   "metadata": {},
   "outputs": [
    {
     "data": {
      "text/plain": [
       "(array([2.26214499, 2.09579603, 1.62970148, 1.31951306]),\n",
       " array([0.20564954, 0.19052691, 0.14815468, 0.11995573]),\n",
       " array([0.20564954, 0.39617646, 0.54433114, 0.66428687]))"
      ]
     },
     "execution_count": 54,
     "metadata": {},
     "output_type": "execute_result"
    }
   ],
   "source": [
    "# return : variance, proportional_variance, cumulative_variance\n",
    "fa_obm.get_factor_variance()"
   ]
  },
  {
   "cell_type": "code",
   "execution_count": 57,
   "metadata": {},
   "outputs": [
    {
     "data": {
      "text/plain": [
       "array([[ 0.977,  0.068,  0.051, -0.121,  0.05 , -0.048, -0.104],\n",
       "       [ 0.073,  0.08 ,  0.875,  0.122, -0.14 ,  0.032, -0.081],\n",
       "       [ 0.773, -0.091, -0.006,  0.153, -0.037,  0.105,  0.08 ],\n",
       "       [-0.059, -0.038,  0.704,  0.058,  0.418, -0.011,  0.063],\n",
       "       [ 0.099,  0.037, -0.151,  0.648,  0.162, -0.181,  0.199],\n",
       "       [-0.068, -0.071,  0.248,  0.95 , -0.219,  0.003, -0.012],\n",
       "       [-0.049,  0.064, -0.051,  0.101, -0.   ,  0.144,  0.919],\n",
       "       [ 0.026, -0.021,  0.036, -0.121,  0.002,  0.969,  0.154],\n",
       "       [ 0.044, -0.071,  0.124, -0.266,  0.947, -0.098,  0.141],\n",
       "       [-0.033,  0.093, -0.142,  0.276,  0.696,  0.234, -0.261],\n",
       "       [ 0.004,  1.018,  0.077, -0.066, -0.036, -0.021,  0.074]])"
      ]
     },
     "execution_count": 57,
     "metadata": {},
     "output_type": "execute_result"
    }
   ],
   "source": [
    "fa_obm = FactorAnalyzer(n_factors=7, rotation='promax', method='principal').fit(med)\n",
    "fa_obm.loadings_.round(3)"
   ]
  },
  {
   "cell_type": "code",
   "execution_count": 58,
   "metadata": {},
   "outputs": [
    {
     "data": {
      "text/plain": [
       "(array([1.57975167, 1.08087522, 1.39254126, 1.55377666, 1.65397675,\n",
       "        1.07086863, 1.03017618]),\n",
       " array([0.14361379, 0.09826138, 0.12659466, 0.14125242, 0.15036152,\n",
       "        0.09735169, 0.09365238]),\n",
       " array([0.14361379, 0.24187517, 0.36846983, 0.50972226, 0.66008378,\n",
       "        0.75743547, 0.85108785]))"
      ]
     },
     "execution_count": 58,
     "metadata": {},
     "output_type": "execute_result"
    }
   ],
   "source": [
    "# cumulative_variance의 결과값을 보고 유의미한지를 판단하는 것도 한 방법일듯\n",
    "fa_obm.get_factor_variance()"
   ]
  },
  {
   "cell_type": "code",
   "execution_count": null,
   "metadata": {},
   "outputs": [],
   "source": []
  }
 ],
 "metadata": {
  "kernelspec": {
   "display_name": "base",
   "language": "python",
   "name": "python3"
  },
  "language_info": {
   "codemirror_mode": {
    "name": "ipython",
    "version": 3
   },
   "file_extension": ".py",
   "mimetype": "text/x-python",
   "name": "python",
   "nbconvert_exporter": "python",
   "pygments_lexer": "ipython3",
   "version": "3.10.9"
  },
  "orig_nbformat": 4
 },
 "nbformat": 4,
 "nbformat_minor": 2
}
