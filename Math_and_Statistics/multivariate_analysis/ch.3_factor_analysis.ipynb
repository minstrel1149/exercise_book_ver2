{
 "cells": [
  {
   "cell_type": "code",
   "execution_count": 1,
   "metadata": {},
   "outputs": [],
   "source": [
    "import pandas as pd\n",
    "import numpy as np\n",
    "import matplotlib.pyplot as plt\n",
    "import seaborn as sns\n",
    "from pathlib import Path\n",
    "import scipy.stats as ss\n",
    "import pingouin as pg"
   ]
  },
  {
   "cell_type": "code",
   "execution_count": 64,
   "metadata": {},
   "outputs": [],
   "source": [
    "from factor_analyzer import FactorAnalyzer\n",
    "from sklearn.preprocessing import StandardScaler"
   ]
  },
  {
   "cell_type": "code",
   "execution_count": 3,
   "metadata": {},
   "outputs": [
    {
     "data": {
      "text/html": [
       "<div>\n",
       "<style scoped>\n",
       "    .dataframe tbody tr th:only-of-type {\n",
       "        vertical-align: middle;\n",
       "    }\n",
       "\n",
       "    .dataframe tbody tr th {\n",
       "        vertical-align: top;\n",
       "    }\n",
       "\n",
       "    .dataframe thead th {\n",
       "        text-align: right;\n",
       "    }\n",
       "</style>\n",
       "<table border=\"1\" class=\"dataframe\">\n",
       "  <thead>\n",
       "    <tr style=\"text-align: right;\">\n",
       "      <th></th>\n",
       "      <th>lung</th>\n",
       "      <th>muscle</th>\n",
       "      <th>liver</th>\n",
       "      <th>skeleton</th>\n",
       "      <th>kidneys</th>\n",
       "      <th>heart</th>\n",
       "      <th>step</th>\n",
       "      <th>stamina</th>\n",
       "      <th>stretch</th>\n",
       "      <th>blow</th>\n",
       "      <th>urine</th>\n",
       "    </tr>\n",
       "  </thead>\n",
       "  <tbody>\n",
       "    <tr>\n",
       "      <th>0</th>\n",
       "      <td>20</td>\n",
       "      <td>16</td>\n",
       "      <td>52</td>\n",
       "      <td>10</td>\n",
       "      <td>24</td>\n",
       "      <td>23</td>\n",
       "      <td>19</td>\n",
       "      <td>20</td>\n",
       "      <td>23</td>\n",
       "      <td>29</td>\n",
       "      <td>67</td>\n",
       "    </tr>\n",
       "    <tr>\n",
       "      <th>1</th>\n",
       "      <td>24</td>\n",
       "      <td>16</td>\n",
       "      <td>52</td>\n",
       "      <td>7</td>\n",
       "      <td>27</td>\n",
       "      <td>16</td>\n",
       "      <td>16</td>\n",
       "      <td>15</td>\n",
       "      <td>31</td>\n",
       "      <td>33</td>\n",
       "      <td>59</td>\n",
       "    </tr>\n",
       "    <tr>\n",
       "      <th>2</th>\n",
       "      <td>19</td>\n",
       "      <td>21</td>\n",
       "      <td>57</td>\n",
       "      <td>18</td>\n",
       "      <td>22</td>\n",
       "      <td>23</td>\n",
       "      <td>16</td>\n",
       "      <td>19</td>\n",
       "      <td>42</td>\n",
       "      <td>40</td>\n",
       "      <td>61</td>\n",
       "    </tr>\n",
       "    <tr>\n",
       "      <th>3</th>\n",
       "      <td>24</td>\n",
       "      <td>21</td>\n",
       "      <td>62</td>\n",
       "      <td>12</td>\n",
       "      <td>31</td>\n",
       "      <td>25</td>\n",
       "      <td>17</td>\n",
       "      <td>17</td>\n",
       "      <td>36</td>\n",
       "      <td>36</td>\n",
       "      <td>77</td>\n",
       "    </tr>\n",
       "    <tr>\n",
       "      <th>4</th>\n",
       "      <td>29</td>\n",
       "      <td>18</td>\n",
       "      <td>62</td>\n",
       "      <td>14</td>\n",
       "      <td>26</td>\n",
       "      <td>27</td>\n",
       "      <td>15</td>\n",
       "      <td>20</td>\n",
       "      <td>33</td>\n",
       "      <td>29</td>\n",
       "      <td>88</td>\n",
       "    </tr>\n",
       "  </tbody>\n",
       "</table>\n",
       "</div>"
      ],
      "text/plain": [
       "   lung  muscle  liver  skeleton  kidneys  heart  step  stamina  stretch  \\\n",
       "0    20      16     52        10       24     23    19       20       23   \n",
       "1    24      16     52         7       27     16    16       15       31   \n",
       "2    19      21     57        18       22     23    16       19       42   \n",
       "3    24      21     62        12       31     25    17       17       36   \n",
       "4    29      18     62        14       26     27    15       20       33   \n",
       "\n",
       "   blow  urine  \n",
       "0    29     67  \n",
       "1    33     59  \n",
       "2    40     61  \n",
       "3    36     77  \n",
       "4    29     88  "
      ]
     },
     "execution_count": 3,
     "metadata": {},
     "output_type": "execute_result"
    }
   ],
   "source": [
    "med = pd.read_csv(Path.cwd() / 'data' / 'medFactor.csv')\n",
    "med.head()"
   ]
  },
  {
   "cell_type": "code",
   "execution_count": 4,
   "metadata": {},
   "outputs": [
    {
     "data": {
      "text/plain": [
       "HZResults(hz=124.8479134609871, pval=0.0, normal=False)"
      ]
     },
     "execution_count": 4,
     "metadata": {},
     "output_type": "execute_result"
    }
   ],
   "source": [
    "pg.multivariate_normality(med, alpha=0.1)"
   ]
  },
  {
   "cell_type": "code",
   "execution_count": 5,
   "metadata": {},
   "outputs": [
    {
     "data": {
      "text/plain": [
       "ShapiroResult(statistic=0.9579742550849915, pvalue=0.0005490659968927503)"
      ]
     },
     "execution_count": 5,
     "metadata": {},
     "output_type": "execute_result"
    }
   ],
   "source": [
    "ss.shapiro(med['lung'])"
   ]
  },
  {
   "cell_type": "code",
   "execution_count": 6,
   "metadata": {},
   "outputs": [
    {
     "data": {
      "text/html": [
       "<div>\n",
       "<style scoped>\n",
       "    .dataframe tbody tr th:only-of-type {\n",
       "        vertical-align: middle;\n",
       "    }\n",
       "\n",
       "    .dataframe tbody tr th {\n",
       "        vertical-align: top;\n",
       "    }\n",
       "\n",
       "    .dataframe thead th {\n",
       "        text-align: right;\n",
       "    }\n",
       "</style>\n",
       "<table border=\"1\" class=\"dataframe\">\n",
       "  <thead>\n",
       "    <tr style=\"text-align: right;\">\n",
       "      <th></th>\n",
       "      <th>lung</th>\n",
       "      <th>muscle</th>\n",
       "      <th>liver</th>\n",
       "      <th>skeleton</th>\n",
       "      <th>kidneys</th>\n",
       "      <th>heart</th>\n",
       "      <th>step</th>\n",
       "      <th>stamina</th>\n",
       "      <th>stretch</th>\n",
       "      <th>blow</th>\n",
       "      <th>urine</th>\n",
       "    </tr>\n",
       "  </thead>\n",
       "  <tbody>\n",
       "    <tr>\n",
       "      <th>count</th>\n",
       "      <td>128.000000</td>\n",
       "      <td>128.000000</td>\n",
       "      <td>128.000000</td>\n",
       "      <td>128.000000</td>\n",
       "      <td>128.000000</td>\n",
       "      <td>128.000000</td>\n",
       "      <td>128.000000</td>\n",
       "      <td>128.000000</td>\n",
       "      <td>128.000000</td>\n",
       "      <td>128.000000</td>\n",
       "      <td>128.000000</td>\n",
       "    </tr>\n",
       "    <tr>\n",
       "      <th>mean</th>\n",
       "      <td>19.960938</td>\n",
       "      <td>18.820312</td>\n",
       "      <td>54.695312</td>\n",
       "      <td>12.867188</td>\n",
       "      <td>25.640625</td>\n",
       "      <td>23.179688</td>\n",
       "      <td>16.171875</td>\n",
       "      <td>15.867188</td>\n",
       "      <td>38.812500</td>\n",
       "      <td>33.539062</td>\n",
       "      <td>66.906250</td>\n",
       "    </tr>\n",
       "    <tr>\n",
       "      <th>std</th>\n",
       "      <td>4.464034</td>\n",
       "      <td>4.088458</td>\n",
       "      <td>7.428990</td>\n",
       "      <td>2.986508</td>\n",
       "      <td>3.805786</td>\n",
       "      <td>4.159106</td>\n",
       "      <td>2.478599</td>\n",
       "      <td>2.651314</td>\n",
       "      <td>7.798395</td>\n",
       "      <td>4.097055</td>\n",
       "      <td>12.565067</td>\n",
       "    </tr>\n",
       "    <tr>\n",
       "      <th>min</th>\n",
       "      <td>4.000000</td>\n",
       "      <td>9.000000</td>\n",
       "      <td>26.000000</td>\n",
       "      <td>3.000000</td>\n",
       "      <td>16.000000</td>\n",
       "      <td>11.000000</td>\n",
       "      <td>4.000000</td>\n",
       "      <td>7.000000</td>\n",
       "      <td>16.000000</td>\n",
       "      <td>17.000000</td>\n",
       "      <td>9.000000</td>\n",
       "    </tr>\n",
       "    <tr>\n",
       "      <th>25%</th>\n",
       "      <td>17.000000</td>\n",
       "      <td>16.000000</td>\n",
       "      <td>50.750000</td>\n",
       "      <td>11.000000</td>\n",
       "      <td>23.000000</td>\n",
       "      <td>22.000000</td>\n",
       "      <td>15.000000</td>\n",
       "      <td>14.000000</td>\n",
       "      <td>34.000000</td>\n",
       "      <td>32.000000</td>\n",
       "      <td>59.000000</td>\n",
       "    </tr>\n",
       "    <tr>\n",
       "      <th>50%</th>\n",
       "      <td>20.000000</td>\n",
       "      <td>19.000000</td>\n",
       "      <td>55.000000</td>\n",
       "      <td>13.000000</td>\n",
       "      <td>26.000000</td>\n",
       "      <td>23.000000</td>\n",
       "      <td>17.000000</td>\n",
       "      <td>16.000000</td>\n",
       "      <td>40.000000</td>\n",
       "      <td>34.000000</td>\n",
       "      <td>67.000000</td>\n",
       "    </tr>\n",
       "    <tr>\n",
       "      <th>75%</th>\n",
       "      <td>23.000000</td>\n",
       "      <td>22.000000</td>\n",
       "      <td>60.250000</td>\n",
       "      <td>15.000000</td>\n",
       "      <td>29.000000</td>\n",
       "      <td>25.000000</td>\n",
       "      <td>18.000000</td>\n",
       "      <td>18.000000</td>\n",
       "      <td>45.000000</td>\n",
       "      <td>36.000000</td>\n",
       "      <td>76.000000</td>\n",
       "    </tr>\n",
       "    <tr>\n",
       "      <th>max</th>\n",
       "      <td>29.000000</td>\n",
       "      <td>28.000000</td>\n",
       "      <td>69.000000</td>\n",
       "      <td>19.000000</td>\n",
       "      <td>32.000000</td>\n",
       "      <td>56.000000</td>\n",
       "      <td>20.000000</td>\n",
       "      <td>20.000000</td>\n",
       "      <td>51.000000</td>\n",
       "      <td>41.000000</td>\n",
       "      <td>93.000000</td>\n",
       "    </tr>\n",
       "  </tbody>\n",
       "</table>\n",
       "</div>"
      ],
      "text/plain": [
       "             lung      muscle       liver    skeleton     kidneys       heart  \\\n",
       "count  128.000000  128.000000  128.000000  128.000000  128.000000  128.000000   \n",
       "mean    19.960938   18.820312   54.695312   12.867188   25.640625   23.179688   \n",
       "std      4.464034    4.088458    7.428990    2.986508    3.805786    4.159106   \n",
       "min      4.000000    9.000000   26.000000    3.000000   16.000000   11.000000   \n",
       "25%     17.000000   16.000000   50.750000   11.000000   23.000000   22.000000   \n",
       "50%     20.000000   19.000000   55.000000   13.000000   26.000000   23.000000   \n",
       "75%     23.000000   22.000000   60.250000   15.000000   29.000000   25.000000   \n",
       "max     29.000000   28.000000   69.000000   19.000000   32.000000   56.000000   \n",
       "\n",
       "             step     stamina     stretch        blow       urine  \n",
       "count  128.000000  128.000000  128.000000  128.000000  128.000000  \n",
       "mean    16.171875   15.867188   38.812500   33.539062   66.906250  \n",
       "std      2.478599    2.651314    7.798395    4.097055   12.565067  \n",
       "min      4.000000    7.000000   16.000000   17.000000    9.000000  \n",
       "25%     15.000000   14.000000   34.000000   32.000000   59.000000  \n",
       "50%     17.000000   16.000000   40.000000   34.000000   67.000000  \n",
       "75%     18.000000   18.000000   45.000000   36.000000   76.000000  \n",
       "max     20.000000   20.000000   51.000000   41.000000   93.000000  "
      ]
     },
     "execution_count": 6,
     "metadata": {},
     "output_type": "execute_result"
    }
   ],
   "source": [
    "med.describe()"
   ]
  },
  {
   "cell_type": "code",
   "execution_count": 7,
   "metadata": {},
   "outputs": [
    {
     "data": {
      "text/plain": [
       "(array([3.37918137, 1.48277065, 1.25063015, 0.98047706, 0.7688022 ,\n",
       "        0.73305114, 0.64039936, 0.62219335, 0.52837181, 0.35193006,\n",
       "        0.26219284]),\n",
       " array([ 2.87429658,  0.92121209,  0.82708599,  0.32961252,  0.14798142,\n",
       "         0.11630939,  0.03260218, -0.078728  , -0.09010899, -0.16583141,\n",
       "        -0.29405096]))"
      ]
     },
     "execution_count": 7,
     "metadata": {},
     "output_type": "execute_result"
    }
   ],
   "source": [
    "fa = FactorAnalyzer(rotation=None).fit(med)\n",
    "ev, v = fa.get_eigenvalues()\n",
    "ev, v"
   ]
  },
  {
   "cell_type": "code",
   "execution_count": 8,
   "metadata": {},
   "outputs": [
    {
     "data": {
      "image/png": "[encoded data removed]",
      "text/plain": [
       "<Figure size 432x288 with 1 Axes>"
      ]
     },
     "metadata": {
      "needs_background": "light"
     },
     "output_type": "display_data"
    }
   ],
   "source": [
    "plt.plot(ev, marker='o')\n",
    "plt.xticks(ticks=np.arange(11), labels=np.arange(1, 12))\n",
    "plt.show()"
   ]
  },
  {
   "cell_type": "code",
   "execution_count": 9,
   "metadata": {},
   "outputs": [
    {
     "data": {
      "text/plain": [
       "array([[ 0.82808075, -0.01127504,  0.08628291,  0.04859413],\n",
       "       [ 0.01442068, -0.11105114,  0.79811225,  0.17111399],\n",
       "       [ 0.7863582 ,  0.04631129,  0.12820724,  0.28811684],\n",
       "       [ 0.23753121,  0.20612517,  0.77433075,  0.02258082],\n",
       "       [ 0.46421471,  0.28567006, -0.10031512,  0.57747284],\n",
       "       [ 0.12372203,  0.027651  ,  0.25408005,  0.85274757],\n",
       "       [ 0.44383384,  0.46051392,  0.12988849,  0.22842996],\n",
       "       [ 0.03123887,  0.61165478,  0.35338127, -0.00875328],\n",
       "       [ 0.5247712 ,  0.49466448,  0.31331989, -0.33315929],\n",
       "       [ 0.23509342,  0.71035045,  0.02228321,  0.12646836],\n",
       "       [-0.12724924,  0.71674351, -0.19021636,  0.03657157]])"
      ]
     },
     "execution_count": 9,
     "metadata": {},
     "output_type": "execute_result"
    }
   ],
   "source": [
    "fa_varimax = FactorAnalyzer(n_factors=4, rotation='varimax', method='principal').fit(med)\n",
    "fa_varimax.loadings_"
   ]
  },
  {
   "cell_type": "code",
   "execution_count": 10,
   "metadata": {},
   "outputs": [
    {
     "data": {
      "text/plain": [
       "(array([0.69565099, 0.67880347, 0.71995236, 0.69900667, 0.6406407 ,\n",
       "        0.80780681, 0.47811281, 0.50005238, 0.72924223, 0.57635746,\n",
       "        0.56743336]),\n",
       " array([0.30434901, 0.32119653, 0.28004764, 0.30099333, 0.3593593 ,\n",
       "        0.19219319, 0.52188719, 0.49994762, 0.27075777, 0.42364254,\n",
       "        0.43256664]))"
      ]
     },
     "execution_count": 10,
     "metadata": {},
     "output_type": "execute_result"
    }
   ],
   "source": [
    "# communality와 인자고유분산(uniqueness)\n",
    "fa_varimax.get_communalities(), fa_varimax.get_uniquenesses()"
   ]
  },
  {
   "cell_type": "code",
   "execution_count": 11,
   "metadata": {},
   "outputs": [
    {
     "data": {
      "text/html": [
       "<div>\n",
       "<style scoped>\n",
       "    .dataframe tbody tr th:only-of-type {\n",
       "        vertical-align: middle;\n",
       "    }\n",
       "\n",
       "    .dataframe tbody tr th {\n",
       "        vertical-align: top;\n",
       "    }\n",
       "\n",
       "    .dataframe thead th {\n",
       "        text-align: right;\n",
       "    }\n",
       "</style>\n",
       "<table border=\"1\" class=\"dataframe\">\n",
       "  <thead>\n",
       "    <tr style=\"text-align: right;\">\n",
       "      <th></th>\n",
       "      <th>F1</th>\n",
       "      <th>F2</th>\n",
       "      <th>F3</th>\n",
       "      <th>F4</th>\n",
       "    </tr>\n",
       "  </thead>\n",
       "  <tbody>\n",
       "    <tr>\n",
       "      <th>lung</th>\n",
       "      <td>0.828081</td>\n",
       "      <td>-0.011275</td>\n",
       "      <td>0.086283</td>\n",
       "      <td>0.048594</td>\n",
       "    </tr>\n",
       "    <tr>\n",
       "      <th>muscle</th>\n",
       "      <td>0.014421</td>\n",
       "      <td>-0.111051</td>\n",
       "      <td>0.798112</td>\n",
       "      <td>0.171114</td>\n",
       "    </tr>\n",
       "    <tr>\n",
       "      <th>liver</th>\n",
       "      <td>0.786358</td>\n",
       "      <td>0.046311</td>\n",
       "      <td>0.128207</td>\n",
       "      <td>0.288117</td>\n",
       "    </tr>\n",
       "    <tr>\n",
       "      <th>skeleton</th>\n",
       "      <td>0.237531</td>\n",
       "      <td>0.206125</td>\n",
       "      <td>0.774331</td>\n",
       "      <td>0.022581</td>\n",
       "    </tr>\n",
       "    <tr>\n",
       "      <th>kidneys</th>\n",
       "      <td>0.464215</td>\n",
       "      <td>0.285670</td>\n",
       "      <td>-0.100315</td>\n",
       "      <td>0.577473</td>\n",
       "    </tr>\n",
       "    <tr>\n",
       "      <th>heart</th>\n",
       "      <td>0.123722</td>\n",
       "      <td>0.027651</td>\n",
       "      <td>0.254080</td>\n",
       "      <td>0.852748</td>\n",
       "    </tr>\n",
       "    <tr>\n",
       "      <th>step</th>\n",
       "      <td>0.443834</td>\n",
       "      <td>0.460514</td>\n",
       "      <td>0.129888</td>\n",
       "      <td>0.228430</td>\n",
       "    </tr>\n",
       "    <tr>\n",
       "      <th>stamina</th>\n",
       "      <td>0.031239</td>\n",
       "      <td>0.611655</td>\n",
       "      <td>0.353381</td>\n",
       "      <td>-0.008753</td>\n",
       "    </tr>\n",
       "    <tr>\n",
       "      <th>stretch</th>\n",
       "      <td>0.524771</td>\n",
       "      <td>0.494664</td>\n",
       "      <td>0.313320</td>\n",
       "      <td>-0.333159</td>\n",
       "    </tr>\n",
       "    <tr>\n",
       "      <th>blow</th>\n",
       "      <td>0.235093</td>\n",
       "      <td>0.710350</td>\n",
       "      <td>0.022283</td>\n",
       "      <td>0.126468</td>\n",
       "    </tr>\n",
       "    <tr>\n",
       "      <th>urine</th>\n",
       "      <td>-0.127249</td>\n",
       "      <td>0.716744</td>\n",
       "      <td>-0.190216</td>\n",
       "      <td>0.036572</td>\n",
       "    </tr>\n",
       "  </tbody>\n",
       "</table>\n",
       "</div>"
      ],
      "text/plain": [
       "                F1        F2        F3        F4\n",
       "lung      0.828081 -0.011275  0.086283  0.048594\n",
       "muscle    0.014421 -0.111051  0.798112  0.171114\n",
       "liver     0.786358  0.046311  0.128207  0.288117\n",
       "skeleton  0.237531  0.206125  0.774331  0.022581\n",
       "kidneys   0.464215  0.285670 -0.100315  0.577473\n",
       "heart     0.123722  0.027651  0.254080  0.852748\n",
       "step      0.443834  0.460514  0.129888  0.228430\n",
       "stamina   0.031239  0.611655  0.353381 -0.008753\n",
       "stretch   0.524771  0.494664  0.313320 -0.333159\n",
       "blow      0.235093  0.710350  0.022283  0.126468\n",
       "urine    -0.127249  0.716744 -0.190216  0.036572"
      ]
     },
     "execution_count": 11,
     "metadata": {},
     "output_type": "execute_result"
    }
   ],
   "source": [
    "fa_df = pd.DataFrame(fa_varimax.loadings_, index=med.columns, columns=['F1', 'F2', 'F3', 'F4'])\n",
    "fa_df"
   ]
  },
  {
   "cell_type": "code",
   "execution_count": 12,
   "metadata": {},
   "outputs": [
    {
     "data": {
      "text/plain": [
       "lung        F1\n",
       "muscle      F3\n",
       "liver       F1\n",
       "skeleton    F3\n",
       "kidneys     F4\n",
       "heart       F4\n",
       "step        F2\n",
       "stamina     F2\n",
       "stretch     F1\n",
       "blow        F2\n",
       "urine       F2\n",
       "dtype: object"
      ]
     },
     "execution_count": 12,
     "metadata": {},
     "output_type": "execute_result"
    }
   ],
   "source": [
    "fa_df.idxmax(axis=1)"
   ]
  },
  {
   "cell_type": "code",
   "execution_count": 13,
   "metadata": {},
   "outputs": [
    {
     "data": {
      "text/plain": [
       "array([[ 0.945, -0.232, -0.049, -0.071],\n",
       "       [-0.108, -0.181,  0.859,  0.221],\n",
       "       [ 0.838, -0.152,  0.013,  0.183],\n",
       "       [ 0.101,  0.106,  0.76 ,  0.023],\n",
       "       [ 0.395,  0.223, -0.174,  0.51 ],\n",
       "       [-0.036,  0.01 ,  0.297,  0.873],\n",
       "       [ 0.348,  0.39 ,  0.037,  0.161],\n",
       "       [-0.167,  0.638,  0.317, -0.014],\n",
       "       [ 0.493,  0.372,  0.179, -0.421],\n",
       "       [ 0.077,  0.724, -0.067,  0.074],\n",
       "       [-0.299,  0.838, -0.234,  0.024]])"
      ]
     },
     "execution_count": 13,
     "metadata": {},
     "output_type": "execute_result"
    }
   ],
   "source": [
    "fa_obm = FactorAnalyzer(n_factors=4, rotation='promax', method='principal').fit(med)\n",
    "fa_obm.loadings_.round(3)"
   ]
  },
  {
   "cell_type": "code",
   "execution_count": 14,
   "metadata": {},
   "outputs": [
    {
     "data": {
      "text/plain": [
       "(array([0.95414288, 0.83086735, 0.75943936, 0.60004208, 0.49652333,\n",
       "        0.85162308, 0.30052969, 0.53561803, 0.59095958, 0.54013375,\n",
       "        0.84727643]),\n",
       " array([0.04585712, 0.16913265, 0.24056064, 0.39995792, 0.50347667,\n",
       "        0.14837692, 0.69947031, 0.46438197, 0.40904042, 0.45986625,\n",
       "        0.15272357]))"
      ]
     },
     "execution_count": 14,
     "metadata": {},
     "output_type": "execute_result"
    }
   ],
   "source": [
    "# communality와 인자고유분산(uniqueness)\n",
    "fa_obm.get_communalities(), fa_obm.get_uniquenesses()"
   ]
  },
  {
   "cell_type": "code",
   "execution_count": 15,
   "metadata": {},
   "outputs": [
    {
     "data": {
      "text/plain": [
       "lung        F1\n",
       "muscle      F3\n",
       "liver       F1\n",
       "skeleton    F3\n",
       "kidneys     F4\n",
       "heart       F4\n",
       "step        F2\n",
       "stamina     F2\n",
       "stretch     F1\n",
       "blow        F2\n",
       "urine       F2\n",
       "dtype: object"
      ]
     },
     "execution_count": 15,
     "metadata": {},
     "output_type": "execute_result"
    }
   ],
   "source": [
    "fa_df = pd.DataFrame(fa_obm.loadings_, index=med.columns, columns=['F1', 'F2', 'F3', 'F4'])\n",
    "fa_df.idxmax(axis=1)"
   ]
  },
  {
   "cell_type": "code",
   "execution_count": 16,
   "metadata": {},
   "outputs": [
    {
     "data": {
      "text/plain": [
       "(array([2.26214499, 2.09579603, 1.62970148, 1.31951306]),\n",
       " array([0.20564954, 0.19052691, 0.14815468, 0.11995573]),\n",
       " array([0.20564954, 0.39617646, 0.54433114, 0.66428687]))"
      ]
     },
     "execution_count": 16,
     "metadata": {},
     "output_type": "execute_result"
    }
   ],
   "source": [
    "# return : variance, proportional_variance, cumulative_variance\n",
    "fa_obm.get_factor_variance()"
   ]
  },
  {
   "cell_type": "code",
   "execution_count": 17,
   "metadata": {},
   "outputs": [
    {
     "data": {
      "text/plain": [
       "array([[ 0.977,  0.068,  0.051, -0.121,  0.05 , -0.048, -0.104],\n",
       "       [ 0.073,  0.08 ,  0.875,  0.122, -0.14 ,  0.032, -0.081],\n",
       "       [ 0.773, -0.091, -0.006,  0.153, -0.037,  0.105,  0.08 ],\n",
       "       [-0.059, -0.038,  0.704,  0.058,  0.418, -0.011,  0.063],\n",
       "       [ 0.099,  0.037, -0.151,  0.648,  0.162, -0.181,  0.199],\n",
       "       [-0.068, -0.071,  0.248,  0.95 , -0.219,  0.003, -0.012],\n",
       "       [-0.049,  0.064, -0.051,  0.101, -0.   ,  0.144,  0.919],\n",
       "       [ 0.026, -0.021,  0.036, -0.121,  0.002,  0.969,  0.154],\n",
       "       [ 0.044, -0.071,  0.124, -0.266,  0.947, -0.098,  0.141],\n",
       "       [-0.033,  0.093, -0.142,  0.276,  0.696,  0.234, -0.261],\n",
       "       [ 0.004,  1.018,  0.077, -0.066, -0.036, -0.021,  0.074]])"
      ]
     },
     "execution_count": 17,
     "metadata": {},
     "output_type": "execute_result"
    }
   ],
   "source": [
    "fa_obm = FactorAnalyzer(n_factors=7, rotation='promax', method='principal').fit(med)\n",
    "fa_obm.loadings_.round(3)"
   ]
  },
  {
   "cell_type": "code",
   "execution_count": 18,
   "metadata": {},
   "outputs": [
    {
     "data": {
      "text/plain": [
       "(array([1.57975167, 1.08087522, 1.39254126, 1.55377666, 1.65397675,\n",
       "        1.07086863, 1.03017618]),\n",
       " array([0.14361379, 0.09826138, 0.12659466, 0.14125242, 0.15036152,\n",
       "        0.09735169, 0.09365238]),\n",
       " array([0.14361379, 0.24187517, 0.36846983, 0.50972226, 0.66008378,\n",
       "        0.75743547, 0.85108785]))"
      ]
     },
     "execution_count": 18,
     "metadata": {},
     "output_type": "execute_result"
    }
   ],
   "source": [
    "# cumulative_variance의 결과값을 보고 유의미한지를 판단하는 것도 한 방법일듯\n",
    "fa_obm.get_factor_variance()"
   ]
  },
  {
   "cell_type": "code",
   "execution_count": 19,
   "metadata": {},
   "outputs": [
    {
     "data": {
      "text/html": [
       "<div>\n",
       "<style scoped>\n",
       "    .dataframe tbody tr th:only-of-type {\n",
       "        vertical-align: middle;\n",
       "    }\n",
       "\n",
       "    .dataframe tbody tr th {\n",
       "        vertical-align: top;\n",
       "    }\n",
       "\n",
       "    .dataframe thead th {\n",
       "        text-align: right;\n",
       "    }\n",
       "</style>\n",
       "<table border=\"1\" class=\"dataframe\">\n",
       "  <thead>\n",
       "    <tr style=\"text-align: right;\">\n",
       "      <th></th>\n",
       "      <th>lung</th>\n",
       "      <th>muscle</th>\n",
       "      <th>liver</th>\n",
       "      <th>skeleton</th>\n",
       "      <th>kidneys</th>\n",
       "      <th>heart</th>\n",
       "      <th>step</th>\n",
       "      <th>stamina</th>\n",
       "      <th>stretch</th>\n",
       "      <th>blow</th>\n",
       "      <th>urine</th>\n",
       "    </tr>\n",
       "  </thead>\n",
       "  <tbody>\n",
       "    <tr>\n",
       "      <th>0</th>\n",
       "      <td>20</td>\n",
       "      <td>16</td>\n",
       "      <td>52</td>\n",
       "      <td>10</td>\n",
       "      <td>24</td>\n",
       "      <td>23</td>\n",
       "      <td>19</td>\n",
       "      <td>20</td>\n",
       "      <td>23</td>\n",
       "      <td>29</td>\n",
       "      <td>67</td>\n",
       "    </tr>\n",
       "    <tr>\n",
       "      <th>1</th>\n",
       "      <td>24</td>\n",
       "      <td>16</td>\n",
       "      <td>52</td>\n",
       "      <td>7</td>\n",
       "      <td>27</td>\n",
       "      <td>16</td>\n",
       "      <td>16</td>\n",
       "      <td>15</td>\n",
       "      <td>31</td>\n",
       "      <td>33</td>\n",
       "      <td>59</td>\n",
       "    </tr>\n",
       "    <tr>\n",
       "      <th>2</th>\n",
       "      <td>19</td>\n",
       "      <td>21</td>\n",
       "      <td>57</td>\n",
       "      <td>18</td>\n",
       "      <td>22</td>\n",
       "      <td>23</td>\n",
       "      <td>16</td>\n",
       "      <td>19</td>\n",
       "      <td>42</td>\n",
       "      <td>40</td>\n",
       "      <td>61</td>\n",
       "    </tr>\n",
       "    <tr>\n",
       "      <th>3</th>\n",
       "      <td>24</td>\n",
       "      <td>21</td>\n",
       "      <td>62</td>\n",
       "      <td>12</td>\n",
       "      <td>31</td>\n",
       "      <td>25</td>\n",
       "      <td>17</td>\n",
       "      <td>17</td>\n",
       "      <td>36</td>\n",
       "      <td>36</td>\n",
       "      <td>77</td>\n",
       "    </tr>\n",
       "    <tr>\n",
       "      <th>4</th>\n",
       "      <td>29</td>\n",
       "      <td>18</td>\n",
       "      <td>62</td>\n",
       "      <td>14</td>\n",
       "      <td>26</td>\n",
       "      <td>27</td>\n",
       "      <td>15</td>\n",
       "      <td>20</td>\n",
       "      <td>33</td>\n",
       "      <td>29</td>\n",
       "      <td>88</td>\n",
       "    </tr>\n",
       "  </tbody>\n",
       "</table>\n",
       "</div>"
      ],
      "text/plain": [
       "   lung  muscle  liver  skeleton  kidneys  heart  step  stamina  stretch  \\\n",
       "0    20      16     52        10       24     23    19       20       23   \n",
       "1    24      16     52         7       27     16    16       15       31   \n",
       "2    19      21     57        18       22     23    16       19       42   \n",
       "3    24      21     62        12       31     25    17       17       36   \n",
       "4    29      18     62        14       26     27    15       20       33   \n",
       "\n",
       "   blow  urine  \n",
       "0    29     67  \n",
       "1    33     59  \n",
       "2    40     61  \n",
       "3    36     77  \n",
       "4    29     88  "
      ]
     },
     "execution_count": 19,
     "metadata": {},
     "output_type": "execute_result"
    }
   ],
   "source": [
    "med = pd.read_csv(Path.cwd() / 'data' / 'medFactor.csv')\n",
    "med.head()"
   ]
  },
  {
   "cell_type": "code",
   "execution_count": 42,
   "metadata": {},
   "outputs": [],
   "source": [
    "fa = FactorAnalyzer(n_factors=3, rotation='varimax', method='principal').fit(med)"
   ]
  },
  {
   "cell_type": "code",
   "execution_count": 43,
   "metadata": {},
   "outputs": [
    {
     "data": {
      "text/plain": [
       "(array([3.37918137, 1.48277065, 1.25063015, 0.98047706, 0.7688022 ,\n",
       "        0.73305114, 0.64039936, 0.62219335, 0.52837181, 0.35193006,\n",
       "        0.26219284]),\n",
       " array([ 2.94446526,  1.03252448,  0.86348619,  0.50018404,  0.32746613,\n",
       "         0.25552467,  0.21943899,  0.13355579,  0.07463731, -0.07247877,\n",
       "        -0.16622191]))"
      ]
     },
     "execution_count": 43,
     "metadata": {},
     "output_type": "execute_result"
    }
   ],
   "source": [
    "fa.get_eigenvalues()"
   ]
  },
  {
   "cell_type": "code",
   "execution_count": 44,
   "metadata": {},
   "outputs": [
    {
     "data": {
      "text/plain": [
       "array([0.4747417 , 0.6360021 , 0.65777589, 0.6977395 , 0.60567719,\n",
       "       0.46257681, 0.47753807, 0.4678467 , 0.57033933, 0.56047876,\n",
       "       0.50186613])"
      ]
     },
     "execution_count": 44,
     "metadata": {},
     "output_type": "execute_result"
    }
   ],
   "source": [
    "# 이게 꽤 중요한 개념 → Xi가 가지고 있는 정보 중 q개의 factor들에 의하여 확보될 수 있는 정보의 비율\n",
    "# 클 수록 설명력이 큰듯\n",
    "fa.get_communalities()"
   ]
  },
  {
   "cell_type": "code",
   "execution_count": 45,
   "metadata": {},
   "outputs": [
    {
     "data": {
      "text/html": [
       "<div>\n",
       "<style scoped>\n",
       "    .dataframe tbody tr th:only-of-type {\n",
       "        vertical-align: middle;\n",
       "    }\n",
       "\n",
       "    .dataframe tbody tr th {\n",
       "        vertical-align: top;\n",
       "    }\n",
       "\n",
       "    .dataframe thead th {\n",
       "        text-align: right;\n",
       "    }\n",
       "</style>\n",
       "<table border=\"1\" class=\"dataframe\">\n",
       "  <thead>\n",
       "    <tr style=\"text-align: right;\">\n",
       "      <th></th>\n",
       "      <th>FA1</th>\n",
       "      <th>FA2</th>\n",
       "      <th>FA3</th>\n",
       "    </tr>\n",
       "  </thead>\n",
       "  <tbody>\n",
       "    <tr>\n",
       "      <th>lung</th>\n",
       "      <td>0.658785</td>\n",
       "      <td>0.123463</td>\n",
       "      <td>0.159689</td>\n",
       "    </tr>\n",
       "    <tr>\n",
       "      <th>muscle</th>\n",
       "      <td>0.110502</td>\n",
       "      <td>-0.085587</td>\n",
       "      <td>0.785154</td>\n",
       "    </tr>\n",
       "    <tr>\n",
       "      <th>liver</th>\n",
       "      <td>0.782771</td>\n",
       "      <td>0.126602</td>\n",
       "      <td>0.170345</td>\n",
       "    </tr>\n",
       "    <tr>\n",
       "      <th>skeleton</th>\n",
       "      <td>0.185113</td>\n",
       "      <td>0.285366</td>\n",
       "      <td>0.762915</td>\n",
       "    </tr>\n",
       "    <tr>\n",
       "      <th>kidneys</th>\n",
       "      <td>0.731159</td>\n",
       "      <td>0.229844</td>\n",
       "      <td>-0.135115</td>\n",
       "    </tr>\n",
       "    <tr>\n",
       "      <th>heart</th>\n",
       "      <td>0.645624</td>\n",
       "      <td>-0.107134</td>\n",
       "      <td>0.185117</td>\n",
       "    </tr>\n",
       "    <tr>\n",
       "      <th>step</th>\n",
       "      <td>0.486117</td>\n",
       "      <td>0.480344</td>\n",
       "      <td>0.102461</td>\n",
       "    </tr>\n",
       "    <tr>\n",
       "      <th>stamina</th>\n",
       "      <td>0.016222</td>\n",
       "      <td>0.619571</td>\n",
       "      <td>0.289335</td>\n",
       "    </tr>\n",
       "    <tr>\n",
       "      <th>stretch</th>\n",
       "      <td>0.179512</td>\n",
       "      <td>0.651887</td>\n",
       "      <td>0.336389</td>\n",
       "    </tr>\n",
       "    <tr>\n",
       "      <th>blow</th>\n",
       "      <td>0.264150</td>\n",
       "      <td>0.699354</td>\n",
       "      <td>-0.040085</td>\n",
       "    </tr>\n",
       "    <tr>\n",
       "      <th>urine</th>\n",
       "      <td>-0.066324</td>\n",
       "      <td>0.648854</td>\n",
       "      <td>-0.276505</td>\n",
       "    </tr>\n",
       "  </tbody>\n",
       "</table>\n",
       "</div>"
      ],
      "text/plain": [
       "               FA1       FA2       FA3\n",
       "lung      0.658785  0.123463  0.159689\n",
       "muscle    0.110502 -0.085587  0.785154\n",
       "liver     0.782771  0.126602  0.170345\n",
       "skeleton  0.185113  0.285366  0.762915\n",
       "kidneys   0.731159  0.229844 -0.135115\n",
       "heart     0.645624 -0.107134  0.185117\n",
       "step      0.486117  0.480344  0.102461\n",
       "stamina   0.016222  0.619571  0.289335\n",
       "stretch   0.179512  0.651887  0.336389\n",
       "blow      0.264150  0.699354 -0.040085\n",
       "urine    -0.066324  0.648854 -0.276505"
      ]
     },
     "execution_count": 45,
     "metadata": {},
     "output_type": "execute_result"
    }
   ],
   "source": [
    "fa_loadings = pd.DataFrame(fa.loadings_, index=med.columns, columns=['FA1', 'FA2', 'FA3'])\n",
    "fa_loadings"
   ]
  },
  {
   "cell_type": "code",
   "execution_count": 46,
   "metadata": {},
   "outputs": [
    {
     "data": {
      "text/plain": [
       "lung        FA1\n",
       "muscle      FA3\n",
       "liver       FA1\n",
       "skeleton    FA3\n",
       "kidneys     FA1\n",
       "heart       FA1\n",
       "step        FA1\n",
       "stamina     FA2\n",
       "stretch     FA2\n",
       "blow        FA2\n",
       "urine       FA2\n",
       "dtype: object"
      ]
     },
     "execution_count": 46,
     "metadata": {},
     "output_type": "execute_result"
    }
   ],
   "source": [
    "fa_loadings.idxmax(axis=1)"
   ]
  },
  {
   "cell_type": "code",
   "execution_count": 47,
   "metadata": {},
   "outputs": [
    {
     "data": {
      "text/plain": [
       "array([[-0.12017945, -0.25849844, -0.74765823],\n",
       "       [ 0.05719017, -0.48034107, -1.53801211],\n",
       "       [-0.59386033,  0.89931313,  1.53198136],\n",
       "       [ 1.2139429 ,  0.31922542, -0.42187331],\n",
       "       [ 0.82614388,  0.15193952, -0.03000487],\n",
       "       [-0.08639935,  1.14969113,  0.7658987 ],\n",
       "       [-0.19714333, -1.80585521,  1.27206438],\n",
       "       [-0.23114929, -0.80849976,  0.87159889],\n",
       "       [ 1.38302324,  0.69841434,  0.42206183],\n",
       "       [-0.27024468,  0.16027167,  0.11005332],\n",
       "       [-0.44051353, -0.8317711 , -0.4774911 ],\n",
       "       [ 0.82816353,  0.20427674, -0.24764435],\n",
       "       [-0.17672516,  0.07929663,  1.28065825],\n",
       "       [-0.82283198, -0.27156673, -0.06982012],\n",
       "       [-1.92498535,  0.67021139, -0.78885024],\n",
       "       [-0.68966187, -2.33838587,  2.70874853],\n",
       "       [-1.2793416 ,  0.09529534, -0.93048784],\n",
       "       [ 0.12865237, -0.25709453,  0.37860291],\n",
       "       [ 0.10429399,  0.76420651, -1.0779211 ],\n",
       "       [ 1.3946209 ,  0.74983265, -1.64232713],\n",
       "       [ 0.6621099 ,  0.44540207,  0.84280892],\n",
       "       [ 0.67734558,  0.29723131,  0.44522397],\n",
       "       [ 0.6018318 ,  1.28432885,  0.17861131],\n",
       "       [-0.30175963,  1.03955437,  1.73393129],\n",
       "       [ 0.56714966,  0.64703667, -2.01965736],\n",
       "       [ 0.61746484,  0.48212848, -1.25016122],\n",
       "       [ 0.99195367, -0.65014887, -2.35136618],\n",
       "       [-0.88707345,  0.34799069, -0.44095239],\n",
       "       [-0.59936072,  0.21605179, -0.50359715],\n",
       "       [-0.21408488, -0.73446377,  1.64899044],\n",
       "       [ 0.22702407,  1.04205645, -0.0789918 ],\n",
       "       [ 1.27066346,  0.34744714, -0.0510253 ],\n",
       "       [ 0.28804097,  0.80000466,  1.27490295],\n",
       "       [-0.40657914,  1.90803234, -0.32250697],\n",
       "       [-0.06018225, -0.27815578,  0.33040758],\n",
       "       [-0.47868356,  0.80910741,  0.53751289],\n",
       "       [ 0.23739414,  0.18775949,  0.02621322],\n",
       "       [-1.14673495, -0.01984159,  1.30188656],\n",
       "       [ 0.553957  ,  0.8390052 , -0.81674021],\n",
       "       [-0.23747012,  0.6948975 ,  0.18429196],\n",
       "       [ 1.29352587, -4.03936391,  1.68576591],\n",
       "       [ 0.48715549, -2.00319371, -0.97341531],\n",
       "       [-1.13017381,  0.14154045, -0.36248847],\n",
       "       [-3.50525426, -2.80138701, -0.52821284],\n",
       "       [ 0.2986081 ,  0.71091379,  0.8170231 ],\n",
       "       [-1.09121849, -2.05512895, -0.23131862],\n",
       "       [ 0.77608776, -0.64304647,  0.1249565 ],\n",
       "       [ 1.5967419 ,  0.38929141, -1.01267184],\n",
       "       [-0.14860764,  0.65090521, -1.19004092],\n",
       "       [ 1.57757422,  0.07036169,  1.01753542],\n",
       "       [ 0.48785018,  0.55066434,  1.45423915],\n",
       "       [ 0.33918428, -1.09825783, -3.14588653],\n",
       "       [-0.08103976,  0.789534  ,  0.31291616],\n",
       "       [-0.13017353,  0.36835623, -1.10944006],\n",
       "       [-0.94169886,  1.3083102 , -1.06544649],\n",
       "       [-0.66834769, -0.17368186, -0.18821261],\n",
       "       [-0.94740498,  0.32017227, -0.18756323],\n",
       "       [-0.60985291,  1.71376265,  0.51158329],\n",
       "       [ 2.07209641, -1.19395961,  0.1189583 ],\n",
       "       [-0.73118454,  0.94751653, -0.36097594],\n",
       "       [-0.81046154,  1.60245798, -1.14851257],\n",
       "       [ 1.75099446,  0.18954037,  1.10247755],\n",
       "       [ 1.68034949,  0.03890579,  1.81501723],\n",
       "       [-1.17235939, -0.75218966, -1.62201988],\n",
       "       [-0.07524168, -0.42593348, -0.96035877],\n",
       "       [ 1.02949229, -0.63159106, -0.38018992],\n",
       "       [ 0.07353792,  0.10697428,  1.23496634],\n",
       "       [-2.25433516,  0.19104637, -0.11910361],\n",
       "       [-0.93276866, -0.53984953,  1.40282733],\n",
       "       [-1.18136531,  0.23589825,  0.15964737],\n",
       "       [ 0.47408096, -0.58648537, -1.63950006],\n",
       "       [ 0.5709627 , -0.77219839, -1.7916221 ],\n",
       "       [-0.20621583,  0.00623159, -0.04408642],\n",
       "       [-0.25904687, -0.82789718, -0.46366961],\n",
       "       [-0.26734638,  0.6736229 ,  1.0670273 ],\n",
       "       [-0.44761094, -1.33334904, -0.24720989],\n",
       "       [-1.142089  ,  1.19421627, -0.33088682],\n",
       "       [ 0.60000922,  0.54342621, -0.44632095],\n",
       "       [-0.7832542 , -0.68948931, -1.55228882],\n",
       "       [-0.713583  ,  0.41468141,  1.15028784],\n",
       "       [-2.0777539 , -2.16607008,  0.39215765],\n",
       "       [ 1.72298727,  0.58957958,  1.03462228],\n",
       "       [ 1.2430669 ,  1.44723143, -0.34829316],\n",
       "       [-0.2703943 ,  0.80040346, -0.9715612 ],\n",
       "       [-0.71868287,  0.51909437,  0.64266132],\n",
       "       [ 0.87225275, -0.56955202,  0.36912726],\n",
       "       [ 3.41643451, -2.92393271,  0.39718057],\n",
       "       [-1.39045054,  0.32040147,  0.13663336],\n",
       "       [ 0.08059841, -1.11455161,  0.12798692],\n",
       "       [-0.51240268, -2.03212342, -0.61592557],\n",
       "       [ 0.58814293,  0.56645461, -0.53392756],\n",
       "       [-0.49266937,  0.98096502,  0.14503172],\n",
       "       [ 0.38450178, -0.55333622,  1.71656467],\n",
       "       [ 1.79567893, -2.16881352,  0.11807857],\n",
       "       [ 0.93857462, -0.88445771, -2.00837275],\n",
       "       [-0.13686678, -0.48984252, -0.10684076],\n",
       "       [ 0.24485994,  0.46712054, -0.67593831],\n",
       "       [-2.66074088, -0.53832197, -0.61867562],\n",
       "       [-0.76675821, -0.03393061,  0.34926782],\n",
       "       [ 1.31273427,  1.21440473,  0.33627358],\n",
       "       [-0.04660384,  0.9427725 ,  0.67538465],\n",
       "       [ 1.48773828,  0.11322305, -0.75400064],\n",
       "       [ 0.24325088,  0.46252798,  1.57412859],\n",
       "       [-0.15945469, -1.47612192, -0.95166413],\n",
       "       [ 0.24453077,  0.25590531, -0.68696696],\n",
       "       [-1.75012224, -0.18786567,  1.14835489],\n",
       "       [ 0.27036933,  0.72618352, -1.22402877],\n",
       "       [ 0.62600093,  1.26948024, -0.62590701],\n",
       "       [ 0.22969418,  0.08864803,  1.02569699],\n",
       "       [ 0.02590428, -1.02458058,  0.59867571],\n",
       "       [-0.23668859,  0.25899551,  2.24596928],\n",
       "       [ 1.09978435,  1.11760368,  0.52178174],\n",
       "       [-1.05527108,  0.07934346,  1.16544862],\n",
       "       [-1.35054424,  0.785024  ,  0.1637971 ],\n",
       "       [-0.84835849,  0.74177403,  0.14592504],\n",
       "       [-0.33708116,  0.89117828,  0.58428527],\n",
       "       [-0.07241769, -0.12788142, -0.184466  ],\n",
       "       [ 0.57570135, -0.23210966,  0.14369372],\n",
       "       [ 0.42895783,  0.73863751, -0.34562583],\n",
       "       [ 0.38120572,  0.22757067,  0.22511294],\n",
       "       [-1.38665515,  0.61702509,  0.05804051],\n",
       "       [-0.20033563, -1.24579779, -0.12782165],\n",
       "       [ 0.95036724, -0.37481692, -1.93954939],\n",
       "       [ 1.03703605,  0.33525642,  0.65947148],\n",
       "       [ 0.482538  ,  0.93616767,  0.60182382],\n",
       "       [ 0.02093992, -0.59186868,  0.57522217],\n",
       "       [-1.08304367, -0.84176688, -0.55369202],\n",
       "       [ 0.50582634,  0.89805576,  0.48171226]])"
      ]
     },
     "execution_count": 47,
     "metadata": {},
     "output_type": "execute_result"
    }
   ],
   "source": [
    "fa.transform(med)"
   ]
  },
  {
   "cell_type": "code",
   "execution_count": 50,
   "metadata": {},
   "outputs": [
    {
     "data": {
      "text/plain": [
       "0.5556892890499564"
      ]
     },
     "execution_count": 50,
     "metadata": {},
     "output_type": "execute_result"
    }
   ],
   "source": [
    "fa.get_factor_variance()[2][2]"
   ]
  },
  {
   "cell_type": "code",
   "execution_count": 62,
   "metadata": {},
   "outputs": [
    {
     "data": {
      "text/plain": [
       "[0.4419956386007845,\n",
       " 0.5556892890499564,\n",
       " 0.644823567479947,\n",
       " 0.714714676613862,\n",
       " 0.7813556893480657,\n",
       " 0.8395738126714474,\n",
       " 0.8961368447688329,\n",
       " 0.9441706453172671,\n",
       " 0.9761642873324815]"
      ]
     },
     "execution_count": 62,
     "metadata": {},
     "output_type": "execute_result"
    }
   ],
   "source": [
    "cumul_var_list = []\n",
    "for i in range(2, len(med.columns)):\n",
    "    fa = FactorAnalyzer(n_factors=i, rotation='varimax', method='principal').fit(med)\n",
    "    cumul_var_list.append(fa.get_factor_variance()[2][i-1])\n",
    "cumul_var_list"
   ]
  },
  {
   "cell_type": "code",
   "execution_count": 63,
   "metadata": {},
   "outputs": [
    {
     "data": {
      "text/plain": [
       "array([[ 3.47934621e-01,  1.50885963e+00, -2.47499163e-01,\n",
       "        -1.49844031e-01, -2.09491128e+00],\n",
       "       [ 9.36628536e-01, -2.49752052e-01, -1.68091357e+00,\n",
       "        -8.85782283e-01, -6.38282398e-01],\n",
       "       [-5.79754438e-01,  2.10743475e-01,  1.40823621e+00,\n",
       "        -3.41407861e-01,  1.19733011e+00],\n",
       "       [ 9.56522491e-01,  8.44762107e-01, -2.11608820e-01,\n",
       "         9.16908882e-01, -4.91763339e-01],\n",
       "       [ 1.69596248e+00,  1.77375995e+00,  3.78736692e-01,\n",
       "        -1.77119897e-01, -1.86162470e+00],\n",
       "       [-5.69406749e-01, -1.73764609e-02,  5.46195477e-01,\n",
       "         2.93476290e-01,  1.82025467e+00],\n",
       "       [ 9.77163425e-01, -4.76087070e-01,  1.44376890e+00,\n",
       "        -1.14162736e+00, -2.25301776e+00],\n",
       "       [-6.22947324e-01, -1.40546224e+00,  6.99304492e-01,\n",
       "         1.11203853e-01,  4.29086629e-01],\n",
       "       [ 1.10101153e+00,  6.18814418e-01,  4.71477980e-01,\n",
       "         9.05037171e-01,  3.38585010e-01],\n",
       "       [-3.30275812e-01,  8.82431582e-01,  3.91471633e-01,\n",
       "         1.33292545e-01, -6.81733150e-01],\n",
       "       [-3.59668264e-01,  8.72670021e-02, -2.34127402e-01,\n",
       "        -1.21495575e-01, -1.32342546e+00],\n",
       "       [ 6.31563148e-01, -6.50761065e-01, -5.22092311e-01,\n",
       "         3.63299133e-01,  9.67325027e-01],\n",
       "       [ 6.52987430e-01, -7.43442933e-01,  8.98384981e-01,\n",
       "        -1.12079394e+00,  8.58523029e-01],\n",
       "       [-8.83389284e-01,  2.82919930e-01,  1.30251025e-01,\n",
       "        -1.69184996e-01, -6.47307760e-01],\n",
       "       [-3.50266680e+00,  5.23618802e-01, -5.03205798e-01,\n",
       "         8.72385876e-01,  7.40670342e-01],\n",
       "       [ 9.69819999e-01, -1.42282008e+00,  2.66490502e+00,\n",
       "        -1.98710601e+00, -1.99969347e+00],\n",
       "       [-3.11684538e-01, -1.24773719e-01, -1.15713631e+00,\n",
       "        -1.58497820e+00,  1.69435747e-01],\n",
       "       [-2.57448780e-01,  2.21067847e-01,  5.97678101e-01,\n",
       "         5.48101345e-01, -5.50325985e-01],\n",
       "       [-1.47268897e+00,  1.00407326e+00, -7.05010358e-01,\n",
       "         1.80539373e+00,  2.26475120e-01],\n",
       "       [ 1.61722289e+00,  7.49911193e-01, -1.69946267e+00,\n",
       "         3.98662169e-01,  1.09357502e-01],\n",
       "       [ 1.71196763e-01, -1.56497546e-01,  7.54832100e-01,\n",
       "         6.84733899e-01,  8.91912134e-01],\n",
       "       [ 1.13458292e+00, -3.33263729e-01,  1.67022172e-01,\n",
       "        -3.19556165e-01,  7.05604665e-01],\n",
       "       [ 3.32509851e-02,  9.91384062e-01,  2.55808725e-01,\n",
       "         8.79732707e-01,  8.80316932e-01],\n",
       "       [-1.15596928e-01,  4.91291218e-01,  1.63871159e+00,\n",
       "        -3.55764619e-01,  1.06785282e+00],\n",
       "       [ 6.88734272e-01,  1.32464975e+00, -1.82281557e+00,\n",
       "         3.11367191e-01, -6.09956736e-01],\n",
       "       [-1.54931651e-01, -1.28074358e-02, -1.30386760e+00,\n",
       "         9.81375147e-01,  7.45851299e-01],\n",
       "       [ 1.32301267e+00,  1.08181829e-01, -2.27342029e+00,\n",
       "         1.79017268e-01, -1.28373002e+00],\n",
       "       [-5.61062609e-01,  3.78677821e-01, -4.51004253e-01,\n",
       "        -6.72094266e-01,  9.25066668e-02],\n",
       "       [-5.33731213e-01,  3.68855801e-01, -4.45240008e-01,\n",
       "        -2.64001443e-01, -7.29352608e-02],\n",
       "       [-1.39883622e-01, -3.72233534e-01,  1.75657823e+00,\n",
       "        -1.36058806e-01, -6.08037062e-01],\n",
       "       [ 6.33677930e-01,  7.42946072e-01, -1.83088931e-01,\n",
       "        -3.15713234e-01,  6.58349486e-01],\n",
       "       [ 9.55648229e-01,  1.03925259e-01, -8.79223451e-02,\n",
       "         8.24557703e-01,  3.66424838e-01],\n",
       "       [ 2.25200488e-01,  4.32645949e-01,  1.24177785e+00,\n",
       "         1.68584201e-01,  7.59275905e-01],\n",
       "       [-2.08765557e-01,  1.63397153e+00, -3.12219364e-01,\n",
       "        -2.82743428e-01,  1.03493330e+00],\n",
       "       [ 1.03859367e+00,  7.20756510e-01,  4.82805924e-01,\n",
       "        -9.61220766e-01, -1.32783788e+00],\n",
       "       [ 4.24423104e-01,  2.40825074e-01,  2.71747504e-01,\n",
       "        -1.20518515e+00,  8.51115483e-01],\n",
       "       [-1.51921248e-01,  1.13849005e-01,  7.46659895e-02,\n",
       "         5.02813525e-01,  1.98181146e-01],\n",
       "       [-1.92115052e-01,  1.06688098e-01,  1.24381311e+00,\n",
       "        -1.43783345e+00, -1.58680925e-01],\n",
       "       [-1.36795018e-01,  6.80812201e-01, -7.28861154e-01,\n",
       "         9.79202069e-01,  5.36607205e-01],\n",
       "       [ 3.21816822e-01,  7.88052468e-01,  1.83111072e-01,\n",
       "        -6.02775020e-01,  1.16158306e-01],\n",
       "       [ 9.13133830e-01, -5.41249743e+00,  9.95070546e-01,\n",
       "         2.84491104e-01, -8.20716004e-02],\n",
       "       [ 5.30884798e-01, -1.40636220e+00, -9.54109317e-01,\n",
       "         1.26859908e-01, -1.51581503e+00],\n",
       "       [-7.90472248e-01,  4.89271507e-01, -2.72075738e-01,\n",
       "        -7.29343596e-01, -3.13895338e-01],\n",
       "       [-2.24250540e+00, -1.50169657e+00, -4.24567118e-01,\n",
       "        -2.69286059e+00, -2.50510010e+00],\n",
       "       [-2.43733526e-01,  2.36431250e-01,  8.08695265e-01,\n",
       "         6.39991946e-01,  8.89360566e-01],\n",
       "       [-1.07631813e+00, -2.37197430e+00, -4.73254765e-01,\n",
       "        -7.08888576e-01, -4.22559612e-01],\n",
       "       [ 4.97080369e-01, -1.00545764e+00, -1.49645215e-02,\n",
       "         4.74562744e-01,  1.32648279e-01],\n",
       "       [ 1.78613866e+00, -9.26514168e-02, -1.24608635e+00,\n",
       "         3.76728103e-01,  5.03308904e-01],\n",
       "       [-2.70603593e-02, -3.96776205e-01, -1.55450535e+00,\n",
       "        -3.83253492e-01,  1.32397248e+00],\n",
       "       [ 1.25479987e+00, -4.78812735e-01,  8.76254361e-01,\n",
       "         8.68715106e-01,  6.12882389e-01],\n",
       "       [ 6.78302154e-01,  5.02193907e-01,  1.47144291e+00,\n",
       "         4.09387467e-02,  2.75727715e-01],\n",
       "       [-7.14888634e-01, -1.01359239e+00, -3.10744605e+00,\n",
       "         1.16011719e+00, -5.28175068e-01],\n",
       "       [-2.42613148e-01,  5.30572007e-01,  3.16934456e-01,\n",
       "         1.40759866e-01,  6.34417804e-01],\n",
       "       [-5.68460564e-01, -5.36376382e-02, -1.18143434e+00,\n",
       "         3.32220503e-01,  6.24649593e-01],\n",
       "       [-4.32041714e-01,  1.51814427e+00, -9.89588579e-01,\n",
       "        -7.67924403e-01,  2.31370468e-01],\n",
       "       [ 3.86661569e-01,  7.90062430e-01, -3.26262076e-02,\n",
       "        -1.16764669e+00, -1.22722065e+00],\n",
       "       [ 2.28296930e-01,  3.76591977e-01, -3.25330953e-01,\n",
       "        -1.57998142e+00, -5.71012954e-02],\n",
       "       [-5.56839561e-01,  2.03633470e+00,  7.65403342e-01,\n",
       "        -8.92638731e-02,  3.86603300e-01],\n",
       "       [ 1.45762021e+00, -8.04057979e-01,  2.27179797e-01,\n",
       "         1.48973622e+00, -9.24322249e-01],\n",
       "       [-1.90711929e+00,  3.25908936e-01, -3.03866345e-01,\n",
       "         8.58350359e-01,  1.24726265e+00],\n",
       "       [-6.28562466e-01,  4.61215137e-01, -1.47080035e+00,\n",
       "        -6.62833803e-01,  1.83621399e+00],\n",
       "       [ 1.20824787e+00, -3.21889267e-01,  1.01803748e+00,\n",
       "         1.18887609e+00,  6.45295742e-01],\n",
       "       [ 1.86011720e+00, -5.56372514e-01,  1.58930290e+00,\n",
       "         3.75460379e-01,  6.03709406e-01],\n",
       "       [-1.65002999e+00, -5.49013014e-01, -1.54058648e+00,\n",
       "        -4.17994642e-03, -4.45009164e-01],\n",
       "       [ 3.92484054e-01, -6.28262516e-01, -1.16277355e+00,\n",
       "        -6.04958212e-01, -5.79280400e-02],\n",
       "       [ 9.16264403e-01, -1.05331569e+00, -5.86435062e-01,\n",
       "         3.91309883e-01,  1.39194044e-01],\n",
       "       [ 3.95172773e-01, -6.16981019e-01,  9.67352778e-01,\n",
       "        -4.61695185e-01,  8.21225076e-01],\n",
       "       [-6.12101598e-01,  1.37516002e-01, -3.51123332e-01,\n",
       "        -2.64227145e+00,  2.35150568e-02],\n",
       "       [-2.38426783e+00, -4.73498517e-02,  1.83565764e+00,\n",
       "         1.20684720e+00, -4.11882671e-01],\n",
       "       [-8.36697454e-01,  4.65668276e-01,  2.29644822e-01,\n",
       "        -7.73688379e-01, -1.24809402e-01],\n",
       "       [-3.26684487e-01,  2.24322291e-01, -1.31880968e+00,\n",
       "         1.16758081e+00, -1.08531466e+00],\n",
       "       [ 3.98951115e-02,  2.62484620e-01, -1.45793244e+00,\n",
       "         9.62304352e-01, -1.45191710e+00],\n",
       "       [ 5.27704773e-01,  2.34115285e+00,  6.47733257e-01,\n",
       "        -3.06484031e-01, -2.60289752e+00],\n",
       "       [ 3.21292965e-01,  3.18691728e-01, -2.28559024e-01,\n",
       "        -5.14967350e-01, -1.65053951e+00],\n",
       "       [ 6.29388932e-01,  7.12731496e-01,  1.01229150e+00,\n",
       "        -9.79011628e-01,  1.55723570e-01],\n",
       "       [-7.40837582e-01, -3.32273539e-02,  1.61134599e-01,\n",
       "         3.14854570e-01, -1.86659269e+00],\n",
       "       [-1.20949870e+00,  3.37734535e-01, -5.13365747e-01,\n",
       "        -5.03500064e-01,  1.46029935e+00],\n",
       "       [ 4.72552353e-01, -3.62235896e-01, -7.25386516e-01,\n",
       "         2.12346952e-01,  1.15175453e+00],\n",
       "       [-1.72793785e-01, -5.01240897e-01, -1.66110473e+00,\n",
       "        -9.78474174e-01, -5.85529409e-01],\n",
       "       [-5.15577942e-01,  8.32588354e-01,  1.33792491e+00,\n",
       "        -3.65727370e-01, -2.20035436e-01],\n",
       "       [-3.13191094e+00, -1.07839511e+00,  8.47799460e-01,\n",
       "         3.21711307e-01, -1.73010708e+00],\n",
       "       [ 1.47280172e+00,  1.60877409e+00,  1.46045313e+00,\n",
       "         1.26147808e+00, -8.83894562e-01],\n",
       "       [ 1.46540554e+00,  7.83802937e-01, -5.48808840e-01,\n",
       "         2.43145746e-01,  1.16432295e+00],\n",
       "       [ 1.39144615e-01, -9.23276706e-01, -1.59993578e+00,\n",
       "        -8.79048608e-01,  2.08375269e+00],\n",
       "       [-5.66244741e-01,  9.47029230e-01,  8.36035795e-01,\n",
       "        -3.11010667e-01, -2.04087754e-01],\n",
       "       [ 1.89814652e-01, -1.41172088e+00,  1.39644348e-01,\n",
       "         8.30530356e-01,  7.41354532e-01],\n",
       "       [-9.92883161e-01, -1.36374487e+00,  1.40010431e+00,\n",
       "         6.14015949e+00, -2.37888459e+00],\n",
       "       [-1.62623824e+00,  3.21308183e-03,  1.24303932e-01,\n",
       "        -3.74343924e-01,  5.93743118e-01],\n",
       "       [-7.18063461e-01, -7.74079086e-01,  3.01229814e-01,\n",
       "         8.55916563e-01, -6.90389410e-01],\n",
       "       [-2.91885042e-01, -2.39336828e+00, -9.29166098e-01,\n",
       "        -6.94737982e-01, -4.48014158e-01],\n",
       "       [ 1.41283249e+00,  6.71459436e-01, -6.22020932e-01,\n",
       "        -5.49714716e-01, -6.82099649e-02],\n",
       "       [-1.15992976e-01,  1.57414557e-01, -1.18446726e-01,\n",
       "        -7.07818527e-01,  1.25533536e+00],\n",
       "       [ 8.85470714e-01, -9.84901980e-02,  1.78591208e+00,\n",
       "        -2.98316564e-01, -7.32164433e-01],\n",
       "       [ 1.77139685e+00, -2.37075784e+00, -1.42320852e-01,\n",
       "         5.41146236e-01, -7.46725157e-01],\n",
       "       [ 9.12276658e-01,  1.44483579e-01, -1.78338288e+00,\n",
       "         5.75350665e-01, -1.59674290e+00],\n",
       "       [-2.53215149e-02, -8.06298315e-01, -2.70431114e-01,\n",
       "        -2.87349539e-01,  1.32338683e-01],\n",
       "       [-4.86399368e-01,  8.80588494e-01, -3.98909083e-01,\n",
       "         9.97396033e-01, -1.94325562e-01],\n",
       "       [-2.56564241e+00,  6.65346672e-01, -2.10765298e-01,\n",
       "        -9.61907555e-01, -1.38494228e+00],\n",
       "       [-9.41983410e-01, -3.59001077e-01,  2.89739506e-01,\n",
       "        -2.10624571e-01,  4.23387773e-01],\n",
       "       [ 6.84660904e-01,  6.47178757e-01,  3.11015066e-01,\n",
       "         1.16581609e+00,  1.11922236e+00],\n",
       "       [-6.51583500e-01,  1.65148706e+00,  1.10943728e+00,\n",
       "         8.57709571e-01, -2.64918323e-01],\n",
       "       [ 1.06177196e+00, -1.32986121e+00, -1.22879280e+00,\n",
       "         7.28509736e-01,  1.53445024e+00],\n",
       "       [-1.89311794e-01, -4.96011277e-01,  1.38205809e+00,\n",
       "         3.71675310e-01,  1.33020180e+00],\n",
       "       [ 5.12520652e-01, -9.61721427e-01, -1.01305915e+00,\n",
       "        -7.71947098e-01, -1.27001204e+00],\n",
       "       [-1.49644212e-01, -4.00466429e-02, -7.28377937e-01,\n",
       "         4.62244277e-01,  4.33336054e-01],\n",
       "       [-1.87981868e+00, -2.82661798e-01,  1.19296511e+00,\n",
       "        -6.19935275e-01,  2.02605202e-01],\n",
       "       [ 2.27723993e-01,  1.15927203e+00, -1.05165915e+00,\n",
       "         3.12617135e-01, -2.39225193e-01],\n",
       "       [ 1.11394067e+00,  9.39050525e-01, -7.61235592e-01,\n",
       "        -2.26560975e-01,  7.22512121e-01],\n",
       "       [-7.65196732e-02, -7.46184557e-01,  8.14639105e-01,\n",
       "         2.30466911e-01,  1.00720308e+00],\n",
       "       [ 9.10643216e-01, -9.99315062e-01,  3.99900759e-01,\n",
       "        -9.89690961e-01, -5.41116954e-01],\n",
       "       [ 1.10071635e+00,  3.85472853e-03,  2.01478895e+00,\n",
       "        -1.52545144e+00,  2.90627092e-01],\n",
       "       [ 9.55757745e-01, -2.65854513e-01,  1.34479547e-01,\n",
       "         3.74590263e-01,  1.90684699e+00],\n",
       "       [-2.08963310e-01, -5.00963599e-01,  8.81630066e-01,\n",
       "        -1.44422271e+00,  6.44437029e-01],\n",
       "       [-1.65245990e+00,  2.19082312e-01,  1.09483634e-01,\n",
       "        -3.08639309e-01,  1.05418728e+00],\n",
       "       [-2.21813297e-01,  1.74845855e-01, -7.94819605e-02,\n",
       "        -1.07524620e+00,  8.69459548e-01],\n",
       "       [-9.41978010e-01,  1.22037745e+00,  8.87067587e-01,\n",
       "         6.44747574e-01,  1.35969705e-01],\n",
       "       [-1.13093346e+00, -7.64010374e-01, -2.40154983e-01,\n",
       "         9.16303521e-01,  7.85162562e-01],\n",
       "       [ 8.44499968e-01, -6.89901919e-01, -8.65473438e-02,\n",
       "        -1.68771490e-01,  3.30659850e-01],\n",
       "       [ 6.54121739e-02,  2.09024310e-01, -4.33922319e-01,\n",
       "         4.92525044e-01,  8.75177190e-01],\n",
       "       [ 1.23042838e+00,  7.91654040e-01,  2.92096116e-01,\n",
       "        -5.78841263e-01, -6.54341401e-01],\n",
       "       [-5.39903939e-01,  8.74494164e-01,  8.30024911e-02,\n",
       "        -1.34541016e+00, -6.89676152e-02],\n",
       "       [-1.03108211e+00, -8.66064234e-01,  5.47919660e-02,\n",
       "         7.71124935e-01, -7.73862640e-01],\n",
       "       [ 6.11293542e-01,  9.56749590e-01, -1.51871902e+00,\n",
       "         1.01959649e+00, -1.67062653e+00],\n",
       "       [ 1.93558757e-01,  4.30306525e-01,  8.51492716e-01,\n",
       "         1.36060142e+00,  1.20866548e-01],\n",
       "       [ 3.48408525e-01,  5.70067787e-01,  5.69203146e-01,\n",
       "         3.32486469e-01,  7.81751723e-01],\n",
       "       [-1.20029807e-01, -1.22667115e+00,  3.49992716e-01,\n",
       "        -3.88913286e-02,  4.90676945e-01],\n",
       "       [-4.91414846e-01, -1.11122571e+00, -7.96824522e-01,\n",
       "        -1.19840533e+00, -9.04385061e-02],\n",
       "       [ 2.68386778e-01,  4.87392918e-01,  4.44578792e-01,\n",
       "         4.36080971e-01,  8.23120050e-01]])"
      ]
     },
     "execution_count": 63,
     "metadata": {},
     "output_type": "execute_result"
    }
   ],
   "source": [
    "fa = FactorAnalyzer(n_factors=5, rotation='varimax', method='principal').fit(med)\n",
    "fa.transform(med)"
   ]
  },
  {
   "cell_type": "code",
   "execution_count": 65,
   "metadata": {},
   "outputs": [
    {
     "data": {
      "text/plain": [
       "array([[ 0.00878488, -0.69253353, -0.36423565, ..., -2.03562815,\n",
       "        -1.11223726,  0.00749048],\n",
       "       [ 0.90835632, -0.69253353, -0.36423565, ..., -1.00574513,\n",
       "        -0.13209014, -0.63169707],\n",
       "       [-0.21610798,  0.53522674,  0.31144787, ...,  0.41034401,\n",
       "         1.58316733, -0.47190018],\n",
       "       ...,\n",
       "       [ 0.00878488,  0.04412263, -0.09396224, ...,  0.28160864,\n",
       "        -0.37712692, -0.55179863],\n",
       "       [-0.89078657, -0.69253353, -0.63450906, ..., -0.49080363,\n",
       "        -0.13209014, -1.27088462],\n",
       "       [-0.21610798,  1.02633085,  0.44658458, ...,  1.18275628,\n",
       "         0.11294664,  0.80647492]])"
      ]
     },
     "execution_count": 65,
     "metadata": {},
     "output_type": "execute_result"
    }
   ],
   "source": [
    "scaler = StandardScaler()\n",
    "med_sc = scaler.fit_transform(med)\n",
    "med_sc"
   ]
  },
  {
   "cell_type": "code",
   "execution_count": 66,
   "metadata": {},
   "outputs": [
    {
     "data": {
      "text/plain": [
       "[0.44199563860078467,\n",
       " 0.5556892890499562,\n",
       " 0.6448235674799472,\n",
       " 0.7147146766138627,\n",
       " 0.7813556893480658,\n",
       " 0.8395738126714481,\n",
       " 0.8961368447688327,\n",
       " 0.9441706453172666,\n",
       " 0.9761642873324823]"
      ]
     },
     "execution_count": 66,
     "metadata": {},
     "output_type": "execute_result"
    }
   ],
   "source": [
    "# Standard Scaler 이후 진행해봐도 분산의 차이는 없음 → 굳이 할 필요 없는듯?\n",
    "cumul_var_list = []\n",
    "for i in range(2, len(med.columns)):\n",
    "    fa = FactorAnalyzer(n_factors=i, rotation='varimax', method='principal').fit(med_sc)\n",
    "    cumul_var_list.append(fa.get_factor_variance()[2][i-1])\n",
    "cumul_var_list"
   ]
  },
  {
   "cell_type": "code",
   "execution_count": 68,
   "metadata": {},
   "outputs": [
    {
     "data": {
      "text/plain": [
       "array([[ 0.87004907,  0.00921907,  0.08258948,  0.03498331,  0.1072214 ],\n",
       "       [ 0.09417789,  0.00117163,  0.8294996 ,  0.07844825, -0.09775949],\n",
       "       [ 0.80759781,  0.03476668,  0.12997899,  0.28638161,  0.10482369],\n",
       "       [ 0.13027656,  0.02958834,  0.71925583,  0.09988428,  0.4178264 ],\n",
       "       [ 0.34240766,  0.07472371, -0.127307  ,  0.68980428,  0.26494277],\n",
       "       [ 0.09869622, -0.02013106,  0.28940344,  0.84967069, -0.08674361],\n",
       "       [ 0.43061927,  0.3898416 ,  0.10656597,  0.27706944,  0.27114678],\n",
       "       [ 0.08933876,  0.64853046,  0.33889784, -0.01112719,  0.21597578],\n",
       "       [ 0.26253396,  0.07582888,  0.17399142, -0.09250441,  0.86919574],\n",
       "       [ 0.0183031 ,  0.35223148, -0.07598097,  0.34199138,  0.66939841],\n",
       "       [-0.01416714,  0.83227077, -0.18032652,  0.01329187,  0.04551925]])"
      ]
     },
     "execution_count": 68,
     "metadata": {},
     "output_type": "execute_result"
    }
   ],
   "source": [
    "fa = FactorAnalyzer(n_factors=5, rotation='varimax', method='principal').fit(med_sc)\n",
    "fa.loadings_"
   ]
  },
  {
   "cell_type": "code",
   "execution_count": null,
   "metadata": {},
   "outputs": [],
   "source": []
  }
 ],
 "metadata": {
  "kernelspec": {
   "display_name": "base",
   "language": "python",
   "name": "python3"
  },
  "language_info": {
   "codemirror_mode": {
    "name": "ipython",
    "version": 3
   },
   "file_extension": ".py",
   "mimetype": "text/x-python",
   "name": "python",
   "nbconvert_exporter": "python",
   "pygments_lexer": "ipython3",
   "version": "3.10.9"
  },
  "orig_nbformat": 4
 },
 "nbformat": 4,
 "nbformat_minor": 2
}
