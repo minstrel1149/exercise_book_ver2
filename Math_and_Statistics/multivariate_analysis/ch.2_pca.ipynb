{
 "cells": [
  {
   "cell_type": "code",
   "execution_count": 1,
   "metadata": {},
   "outputs": [],
   "source": [
    "import pandas as pd\n",
    "import numpy as np\n",
    "import matplotlib.pyplot as plt\n",
    "import seaborn as sns\n",
    "from pathlib import Path\n",
    "import scipy.stats as ss"
   ]
  },
  {
   "cell_type": "code",
   "execution_count": 28,
   "metadata": {},
   "outputs": [
    {
     "data": {
      "text/html": [
       "<div>\n",
       "<style scoped>\n",
       "    .dataframe tbody tr th:only-of-type {\n",
       "        vertical-align: middle;\n",
       "    }\n",
       "\n",
       "    .dataframe tbody tr th {\n",
       "        vertical-align: top;\n",
       "    }\n",
       "\n",
       "    .dataframe thead th {\n",
       "        text-align: right;\n",
       "    }\n",
       "</style>\n",
       "<table border=\"1\" class=\"dataframe\">\n",
       "  <thead>\n",
       "    <tr style=\"text-align: right;\">\n",
       "      <th></th>\n",
       "      <th>x1</th>\n",
       "      <th>x2</th>\n",
       "      <th>x3</th>\n",
       "      <th>x4</th>\n",
       "      <th>x5</th>\n",
       "      <th>x6</th>\n",
       "      <th>x7</th>\n",
       "      <th>x8</th>\n",
       "      <th>x9</th>\n",
       "      <th>x10</th>\n",
       "      <th>x11</th>\n",
       "      <th>x12</th>\n",
       "      <th>x13</th>\n",
       "    </tr>\n",
       "  </thead>\n",
       "  <tbody>\n",
       "    <tr>\n",
       "      <th>0</th>\n",
       "      <td>275</td>\n",
       "      <td>742</td>\n",
       "      <td>3462</td>\n",
       "      <td>1068</td>\n",
       "      <td>2394</td>\n",
       "      <td>20851</td>\n",
       "      <td>16611</td>\n",
       "      <td>26645</td>\n",
       "      <td>15.6</td>\n",
       "      <td>17.9</td>\n",
       "      <td>6871</td>\n",
       "      <td>9619</td>\n",
       "      <td>32883</td>\n",
       "    </tr>\n",
       "    <tr>\n",
       "      <th>1</th>\n",
       "      <td>306</td>\n",
       "      <td>829</td>\n",
       "      <td>4176</td>\n",
       "      <td>1624</td>\n",
       "      <td>2552</td>\n",
       "      <td>24179</td>\n",
       "      <td>18923</td>\n",
       "      <td>32006</td>\n",
       "      <td>18.0</td>\n",
       "      <td>20.0</td>\n",
       "      <td>6485</td>\n",
       "      <td>8701</td>\n",
       "      <td>33505</td>\n",
       "    </tr>\n",
       "    <tr>\n",
       "      <th>2</th>\n",
       "      <td>386</td>\n",
       "      <td>1256</td>\n",
       "      <td>7465</td>\n",
       "      <td>3225</td>\n",
       "      <td>4240</td>\n",
       "      <td>26954</td>\n",
       "      <td>22330</td>\n",
       "      <td>36740</td>\n",
       "      <td>19.2</td>\n",
       "      <td>20.6</td>\n",
       "      <td>8175</td>\n",
       "      <td>16572</td>\n",
       "      <td>34103</td>\n",
       "    </tr>\n",
       "    <tr>\n",
       "      <th>3</th>\n",
       "      <td>523</td>\n",
       "      <td>1871</td>\n",
       "      <td>11312</td>\n",
       "      <td>4460</td>\n",
       "      <td>6852</td>\n",
       "      <td>35542</td>\n",
       "      <td>30209</td>\n",
       "      <td>43984</td>\n",
       "      <td>27.3</td>\n",
       "      <td>25.6</td>\n",
       "      <td>8843</td>\n",
       "      <td>16884</td>\n",
       "      <td>34692</td>\n",
       "    </tr>\n",
       "    <tr>\n",
       "      <th>4</th>\n",
       "      <td>573</td>\n",
       "      <td>2544</td>\n",
       "      <td>12355</td>\n",
       "      <td>5081</td>\n",
       "      <td>7274</td>\n",
       "      <td>46019</td>\n",
       "      <td>38378</td>\n",
       "      <td>61590</td>\n",
       "      <td>34.6</td>\n",
       "      <td>30.0</td>\n",
       "      <td>10129</td>\n",
       "      <td>18420</td>\n",
       "      <td>35281</td>\n",
       "    </tr>\n",
       "  </tbody>\n",
       "</table>\n",
       "</div>"
      ],
      "text/plain": [
       "    x1    x2     x3    x4    x5     x6     x7     x8    x9   x10    x11  \\\n",
       "0  275   742   3462  1068  2394  20851  16611  26645  15.6  17.9   6871   \n",
       "1  306   829   4176  1624  2552  24179  18923  32006  18.0  20.0   6485   \n",
       "2  386  1256   7465  3225  4240  26954  22330  36740  19.2  20.6   8175   \n",
       "3  523  1871  11312  4460  6852  35542  30209  43984  27.3  25.6   8843   \n",
       "4  573  2544  12355  5081  7274  46019  38378  61590  34.6  30.0  10129   \n",
       "\n",
       "     x12    x13  \n",
       "0   9619  32883  \n",
       "1   8701  33505  \n",
       "2  16572  34103  \n",
       "3  16884  34692  \n",
       "4  18420  35281  "
      ]
     },
     "execution_count": 28,
     "metadata": {},
     "output_type": "execute_result"
    }
   ],
   "source": [
    "econo = pd.read_csv(Path.cwd() / 'data' / 'econo1992.csv').iloc[:, 1:]\n",
    "econo.head()"
   ]
  },
  {
   "cell_type": "code",
   "execution_count": 29,
   "metadata": {},
   "outputs": [
    {
     "data": {
      "text/plain": [
       "13"
      ]
     },
     "execution_count": 29,
     "metadata": {},
     "output_type": "execute_result"
    }
   ],
   "source": [
    "np.linalg.matrix_rank(econo.values)"
   ]
  },
  {
   "cell_type": "code",
   "execution_count": null,
   "metadata": {},
   "outputs": [],
   "source": []
  }
 ],
 "metadata": {
  "kernelspec": {
   "display_name": "base",
   "language": "python",
   "name": "python3"
  },
  "language_info": {
   "codemirror_mode": {
    "name": "ipython",
    "version": 3
   },
   "file_extension": ".py",
   "mimetype": "text/x-python",
   "name": "python",
   "nbconvert_exporter": "python",
   "pygments_lexer": "ipython3",
   "version": "3.10.9"
  },
  "orig_nbformat": 4
 },
 "nbformat": 4,
 "nbformat_minor": 2
}
