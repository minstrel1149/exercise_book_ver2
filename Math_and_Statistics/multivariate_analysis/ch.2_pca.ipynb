{
 "cells": [
  {
   "cell_type": "code",
   "execution_count": 1,
   "metadata": {},
   "outputs": [],
   "source": [
    "import pandas as pd\n",
    "import numpy as np\n",
    "import matplotlib.pyplot as plt\n",
    "import seaborn as sns\n",
    "from pathlib import Path\n",
    "import scipy.stats as ss"
   ]
  },
  {
   "cell_type": "code",
   "execution_count": 2,
   "metadata": {},
   "outputs": [],
   "source": [
    "from sklearn.preprocessing import StandardScaler\n",
    "from sklearn.decomposition import PCA"
   ]
  },
  {
   "cell_type": "code",
   "execution_count": 3,
   "metadata": {},
   "outputs": [
    {
     "data": {
      "text/html": [
       "<div>\n",
       "<style scoped>\n",
       "    .dataframe tbody tr th:only-of-type {\n",
       "        vertical-align: middle;\n",
       "    }\n",
       "\n",
       "    .dataframe tbody tr th {\n",
       "        vertical-align: top;\n",
       "    }\n",
       "\n",
       "    .dataframe thead th {\n",
       "        text-align: right;\n",
       "    }\n",
       "</style>\n",
       "<table border=\"1\" class=\"dataframe\">\n",
       "  <thead>\n",
       "    <tr style=\"text-align: right;\">\n",
       "      <th></th>\n",
       "      <th>x1</th>\n",
       "      <th>x2</th>\n",
       "      <th>x3</th>\n",
       "      <th>x4</th>\n",
       "      <th>x5</th>\n",
       "      <th>x6</th>\n",
       "      <th>x7</th>\n",
       "      <th>x8</th>\n",
       "      <th>x9</th>\n",
       "      <th>x10</th>\n",
       "      <th>x11</th>\n",
       "      <th>x12</th>\n",
       "      <th>x13</th>\n",
       "    </tr>\n",
       "  </thead>\n",
       "  <tbody>\n",
       "    <tr>\n",
       "      <th>0</th>\n",
       "      <td>275</td>\n",
       "      <td>742</td>\n",
       "      <td>3462</td>\n",
       "      <td>1068</td>\n",
       "      <td>2394</td>\n",
       "      <td>20851</td>\n",
       "      <td>16611</td>\n",
       "      <td>26645</td>\n",
       "      <td>15.6</td>\n",
       "      <td>17.9</td>\n",
       "      <td>6871</td>\n",
       "      <td>9619</td>\n",
       "      <td>32883</td>\n",
       "    </tr>\n",
       "    <tr>\n",
       "      <th>1</th>\n",
       "      <td>306</td>\n",
       "      <td>829</td>\n",
       "      <td>4176</td>\n",
       "      <td>1624</td>\n",
       "      <td>2552</td>\n",
       "      <td>24179</td>\n",
       "      <td>18923</td>\n",
       "      <td>32006</td>\n",
       "      <td>18.0</td>\n",
       "      <td>20.0</td>\n",
       "      <td>6485</td>\n",
       "      <td>8701</td>\n",
       "      <td>33505</td>\n",
       "    </tr>\n",
       "    <tr>\n",
       "      <th>2</th>\n",
       "      <td>386</td>\n",
       "      <td>1256</td>\n",
       "      <td>7465</td>\n",
       "      <td>3225</td>\n",
       "      <td>4240</td>\n",
       "      <td>26954</td>\n",
       "      <td>22330</td>\n",
       "      <td>36740</td>\n",
       "      <td>19.2</td>\n",
       "      <td>20.6</td>\n",
       "      <td>8175</td>\n",
       "      <td>16572</td>\n",
       "      <td>34103</td>\n",
       "    </tr>\n",
       "    <tr>\n",
       "      <th>3</th>\n",
       "      <td>523</td>\n",
       "      <td>1871</td>\n",
       "      <td>11312</td>\n",
       "      <td>4460</td>\n",
       "      <td>6852</td>\n",
       "      <td>35542</td>\n",
       "      <td>30209</td>\n",
       "      <td>43984</td>\n",
       "      <td>27.3</td>\n",
       "      <td>25.6</td>\n",
       "      <td>8843</td>\n",
       "      <td>16884</td>\n",
       "      <td>34692</td>\n",
       "    </tr>\n",
       "    <tr>\n",
       "      <th>4</th>\n",
       "      <td>573</td>\n",
       "      <td>2544</td>\n",
       "      <td>12355</td>\n",
       "      <td>5081</td>\n",
       "      <td>7274</td>\n",
       "      <td>46019</td>\n",
       "      <td>38378</td>\n",
       "      <td>61590</td>\n",
       "      <td>34.6</td>\n",
       "      <td>30.0</td>\n",
       "      <td>10129</td>\n",
       "      <td>18420</td>\n",
       "      <td>35281</td>\n",
       "    </tr>\n",
       "  </tbody>\n",
       "</table>\n",
       "</div>"
      ],
      "text/plain": [
       "    x1    x2     x3    x4    x5     x6     x7     x8    x9   x10    x11  \\\n",
       "0  275   742   3462  1068  2394  20851  16611  26645  15.6  17.9   6871   \n",
       "1  306   829   4176  1624  2552  24179  18923  32006  18.0  20.0   6485   \n",
       "2  386  1256   7465  3225  4240  26954  22330  36740  19.2  20.6   8175   \n",
       "3  523  1871  11312  4460  6852  35542  30209  43984  27.3  25.6   8843   \n",
       "4  573  2544  12355  5081  7274  46019  38378  61590  34.6  30.0  10129   \n",
       "\n",
       "     x12    x13  \n",
       "0   9619  32883  \n",
       "1   8701  33505  \n",
       "2  16572  34103  \n",
       "3  16884  34692  \n",
       "4  18420  35281  "
      ]
     },
     "execution_count": 3,
     "metadata": {},
     "output_type": "execute_result"
    }
   ],
   "source": [
    "econo = pd.read_csv(Path.cwd() / 'data' / 'econo1992.csv').iloc[:, 1:]\n",
    "econo.head()"
   ]
  },
  {
   "cell_type": "code",
   "execution_count": 4,
   "metadata": {},
   "outputs": [
    {
     "data": {
      "text/plain": [
       "13"
      ]
     },
     "execution_count": 4,
     "metadata": {},
     "output_type": "execute_result"
    }
   ],
   "source": [
    "np.linalg.matrix_rank(econo.values)"
   ]
  },
  {
   "cell_type": "code",
   "execution_count": 5,
   "metadata": {},
   "outputs": [
    {
     "data": {
      "text/html": [
       "<div>\n",
       "<style scoped>\n",
       "    .dataframe tbody tr th:only-of-type {\n",
       "        vertical-align: middle;\n",
       "    }\n",
       "\n",
       "    .dataframe tbody tr th {\n",
       "        vertical-align: top;\n",
       "    }\n",
       "\n",
       "    .dataframe thead th {\n",
       "        text-align: right;\n",
       "    }\n",
       "</style>\n",
       "<table border=\"1\" class=\"dataframe\">\n",
       "  <thead>\n",
       "    <tr style=\"text-align: right;\">\n",
       "      <th></th>\n",
       "      <th>name</th>\n",
       "      <th>hurdles</th>\n",
       "      <th>highjump</th>\n",
       "      <th>shot</th>\n",
       "      <th>run200m</th>\n",
       "      <th>longjump</th>\n",
       "      <th>javelin</th>\n",
       "      <th>run800m</th>\n",
       "      <th>score</th>\n",
       "    </tr>\n",
       "  </thead>\n",
       "  <tbody>\n",
       "    <tr>\n",
       "      <th>0</th>\n",
       "      <td>Joyner-Kersee (USA)</td>\n",
       "      <td>12.69</td>\n",
       "      <td>1.86</td>\n",
       "      <td>15.80</td>\n",
       "      <td>22.56</td>\n",
       "      <td>7.27</td>\n",
       "      <td>45.66</td>\n",
       "      <td>128.51</td>\n",
       "      <td>7291</td>\n",
       "    </tr>\n",
       "    <tr>\n",
       "      <th>1</th>\n",
       "      <td>John (GDR)</td>\n",
       "      <td>12.85</td>\n",
       "      <td>1.80</td>\n",
       "      <td>16.23</td>\n",
       "      <td>23.65</td>\n",
       "      <td>6.71</td>\n",
       "      <td>42.56</td>\n",
       "      <td>126.12</td>\n",
       "      <td>6897</td>\n",
       "    </tr>\n",
       "    <tr>\n",
       "      <th>2</th>\n",
       "      <td>Behmer (GDR)</td>\n",
       "      <td>13.20</td>\n",
       "      <td>1.83</td>\n",
       "      <td>14.20</td>\n",
       "      <td>23.10</td>\n",
       "      <td>6.68</td>\n",
       "      <td>44.54</td>\n",
       "      <td>124.20</td>\n",
       "      <td>6858</td>\n",
       "    </tr>\n",
       "    <tr>\n",
       "      <th>3</th>\n",
       "      <td>Sablovskaite (URS)</td>\n",
       "      <td>13.61</td>\n",
       "      <td>1.80</td>\n",
       "      <td>15.23</td>\n",
       "      <td>23.92</td>\n",
       "      <td>6.25</td>\n",
       "      <td>42.78</td>\n",
       "      <td>132.24</td>\n",
       "      <td>6540</td>\n",
       "    </tr>\n",
       "    <tr>\n",
       "      <th>4</th>\n",
       "      <td>Choubenkova (URS)</td>\n",
       "      <td>13.51</td>\n",
       "      <td>1.74</td>\n",
       "      <td>14.76</td>\n",
       "      <td>23.93</td>\n",
       "      <td>6.32</td>\n",
       "      <td>47.46</td>\n",
       "      <td>127.90</td>\n",
       "      <td>6540</td>\n",
       "    </tr>\n",
       "  </tbody>\n",
       "</table>\n",
       "</div>"
      ],
      "text/plain": [
       "                  name  hurdles  highjump   shot  run200m  longjump  javelin  \\\n",
       "0  Joyner-Kersee (USA)    12.69      1.86  15.80    22.56      7.27    45.66   \n",
       "1           John (GDR)    12.85      1.80  16.23    23.65      6.71    42.56   \n",
       "2         Behmer (GDR)    13.20      1.83  14.20    23.10      6.68    44.54   \n",
       "3   Sablovskaite (URS)    13.61      1.80  15.23    23.92      6.25    42.78   \n",
       "4    Choubenkova (URS)    13.51      1.74  14.76    23.93      6.32    47.46   \n",
       "\n",
       "   run800m  score  \n",
       "0   128.51   7291  \n",
       "1   126.12   6897  \n",
       "2   124.20   6858  \n",
       "3   132.24   6540  \n",
       "4   127.90   6540  "
      ]
     },
     "execution_count": 5,
     "metadata": {},
     "output_type": "execute_result"
    }
   ],
   "source": [
    "hepta = pd.read_csv(Path.cwd() / 'data' / 'heptathlon.csv')\n",
    "hepta.head()"
   ]
  },
  {
   "cell_type": "code",
   "execution_count": 6,
   "metadata": {},
   "outputs": [
    {
     "data": {
      "text/plain": [
       "Index(['name', 'hurdles', 'highjump', 'shot', 'run200m', 'longjump', 'javelin',\n",
       "       'run800m', 'score'],\n",
       "      dtype='object')"
      ]
     },
     "execution_count": 6,
     "metadata": {},
     "output_type": "execute_result"
    }
   ],
   "source": [
    "hepta.columns"
   ]
  },
  {
   "cell_type": "code",
   "execution_count": 7,
   "metadata": {},
   "outputs": [],
   "source": [
    "feature = ['hurdles', 'highjump', 'shot', 'run200m', 'longjump', 'javelin', 'run800m']"
   ]
  },
  {
   "cell_type": "code",
   "execution_count": 8,
   "metadata": {},
   "outputs": [
    {
     "data": {
      "text/html": [
       "<div>\n",
       "<style scoped>\n",
       "    .dataframe tbody tr th:only-of-type {\n",
       "        vertical-align: middle;\n",
       "    }\n",
       "\n",
       "    .dataframe tbody tr th {\n",
       "        vertical-align: top;\n",
       "    }\n",
       "\n",
       "    .dataframe thead th {\n",
       "        text-align: right;\n",
       "    }\n",
       "</style>\n",
       "<table border=\"1\" class=\"dataframe\">\n",
       "  <thead>\n",
       "    <tr style=\"text-align: right;\">\n",
       "      <th></th>\n",
       "      <th>hurdles</th>\n",
       "      <th>highjump</th>\n",
       "      <th>shot</th>\n",
       "      <th>run200m</th>\n",
       "      <th>longjump</th>\n",
       "      <th>javelin</th>\n",
       "      <th>run800m</th>\n",
       "      <th>score</th>\n",
       "    </tr>\n",
       "  </thead>\n",
       "  <tbody>\n",
       "    <tr>\n",
       "      <th>count</th>\n",
       "      <td>25.00</td>\n",
       "      <td>25.00</td>\n",
       "      <td>25.00</td>\n",
       "      <td>25.00</td>\n",
       "      <td>25.00</td>\n",
       "      <td>25.00</td>\n",
       "      <td>25.00</td>\n",
       "      <td>25.00</td>\n",
       "    </tr>\n",
       "    <tr>\n",
       "      <th>mean</th>\n",
       "      <td>13.84</td>\n",
       "      <td>1.78</td>\n",
       "      <td>13.12</td>\n",
       "      <td>24.65</td>\n",
       "      <td>6.15</td>\n",
       "      <td>41.48</td>\n",
       "      <td>136.05</td>\n",
       "      <td>6090.60</td>\n",
       "    </tr>\n",
       "    <tr>\n",
       "      <th>std</th>\n",
       "      <td>0.74</td>\n",
       "      <td>0.08</td>\n",
       "      <td>1.49</td>\n",
       "      <td>0.97</td>\n",
       "      <td>0.47</td>\n",
       "      <td>3.55</td>\n",
       "      <td>8.29</td>\n",
       "      <td>568.47</td>\n",
       "    </tr>\n",
       "    <tr>\n",
       "      <th>min</th>\n",
       "      <td>12.69</td>\n",
       "      <td>1.50</td>\n",
       "      <td>10.00</td>\n",
       "      <td>22.56</td>\n",
       "      <td>4.88</td>\n",
       "      <td>35.68</td>\n",
       "      <td>124.20</td>\n",
       "      <td>4566.00</td>\n",
       "    </tr>\n",
       "    <tr>\n",
       "      <th>25%</th>\n",
       "      <td>13.47</td>\n",
       "      <td>1.77</td>\n",
       "      <td>12.32</td>\n",
       "      <td>23.92</td>\n",
       "      <td>6.05</td>\n",
       "      <td>39.06</td>\n",
       "      <td>132.24</td>\n",
       "      <td>5746.00</td>\n",
       "    </tr>\n",
       "    <tr>\n",
       "      <th>50%</th>\n",
       "      <td>13.75</td>\n",
       "      <td>1.80</td>\n",
       "      <td>12.88</td>\n",
       "      <td>24.83</td>\n",
       "      <td>6.25</td>\n",
       "      <td>40.28</td>\n",
       "      <td>134.74</td>\n",
       "      <td>6137.00</td>\n",
       "    </tr>\n",
       "    <tr>\n",
       "      <th>75%</th>\n",
       "      <td>14.07</td>\n",
       "      <td>1.83</td>\n",
       "      <td>14.20</td>\n",
       "      <td>25.23</td>\n",
       "      <td>6.37</td>\n",
       "      <td>44.54</td>\n",
       "      <td>138.48</td>\n",
       "      <td>6351.00</td>\n",
       "    </tr>\n",
       "    <tr>\n",
       "      <th>max</th>\n",
       "      <td>16.42</td>\n",
       "      <td>1.86</td>\n",
       "      <td>16.23</td>\n",
       "      <td>26.61</td>\n",
       "      <td>7.27</td>\n",
       "      <td>47.50</td>\n",
       "      <td>163.43</td>\n",
       "      <td>7291.00</td>\n",
       "    </tr>\n",
       "  </tbody>\n",
       "</table>\n",
       "</div>"
      ],
      "text/plain": [
       "       hurdles  highjump   shot  run200m  longjump  javelin  run800m    score\n",
       "count    25.00     25.00  25.00    25.00     25.00    25.00    25.00    25.00\n",
       "mean     13.84      1.78  13.12    24.65      6.15    41.48   136.05  6090.60\n",
       "std       0.74      0.08   1.49     0.97      0.47     3.55     8.29   568.47\n",
       "min      12.69      1.50  10.00    22.56      4.88    35.68   124.20  4566.00\n",
       "25%      13.47      1.77  12.32    23.92      6.05    39.06   132.24  5746.00\n",
       "50%      13.75      1.80  12.88    24.83      6.25    40.28   134.74  6137.00\n",
       "75%      14.07      1.83  14.20    25.23      6.37    44.54   138.48  6351.00\n",
       "max      16.42      1.86  16.23    26.61      7.27    47.50   163.43  7291.00"
      ]
     },
     "execution_count": 8,
     "metadata": {},
     "output_type": "execute_result"
    }
   ],
   "source": [
    "hepta.describe().round(2)"
   ]
  },
  {
   "cell_type": "code",
   "execution_count": 9,
   "metadata": {},
   "outputs": [
    {
     "data": {
      "text/plain": [
       "array([[-1.59331748e+00,  1.02137646e+00,  1.83507052e+00,\n",
       "        -2.19923178e+00,  2.40534810e+00,  1.20252642e+00,\n",
       "        -9.28655284e-01],\n",
       "       [-1.37163852e+00,  2.35702260e-01,  2.12924004e+00,\n",
       "        -1.05182481e+00,  1.20009135e+00,  3.10188258e-01,\n",
       "        -1.22286076e+00],\n",
       "       [-8.86715814e-01,  6.28539361e-01,  7.40486253e-01,\n",
       "        -1.63079163e+00,  1.13552403e+00,  8.80133274e-01,\n",
       "        -1.45920993e+00],\n",
       "       [-3.18663496e-01,  2.35702260e-01,  1.44512487e+00,\n",
       "        -7.67604736e-01,  2.10059032e-01,  3.73515482e-01,\n",
       "        -4.69497780e-01],\n",
       "       [-4.57212841e-01, -5.49971941e-01,  1.12359074e+00,\n",
       "        -7.57078066e-01,  3.60716125e-01,  1.72065825e+00,\n",
       "        -1.00374538e+00],\n",
       "       [-1.24694411e-01,  6.28539361e-01,  2.61605639e-01,\n",
       "         8.42133556e-04,  3.82238566e-01,  3.85029522e-01,\n",
       "        -1.26348328e+00],\n",
       "       [-6.37326991e-01,  2.35702260e-01, -1.62545763e-01,\n",
       "        -1.11498483e+00,  4.68328334e-01, -3.46112065e-01,\n",
       "        -4.32568222e-01],\n",
       "       [-4.01793103e-01,  2.35702260e-01,  6.92598192e-01,\n",
       "        -1.78111247e-01,  6.83552752e-01, -1.00241239e+00,\n",
       "        -2.95928858e-01],\n",
       "       [-2.90953626e-01,  6.28539361e-01,  7.95215466e-01,\n",
       "         2.21902192e-01, -9.12551532e-02,  2.06561891e-01,\n",
       "        -4.92394106e-04],\n",
       "       [-8.17441141e-01, -1.57134840e-01, -3.40415705e-01,\n",
       "        -1.11498483e+00,  2.74626357e-01, -6.97290307e-01,\n",
       "        -1.61751464e-01],\n",
       "       [-1.24694411e-01,  1.02137646e+00, -7.36107916e-02,\n",
       "         4.00855572e-01,  4.03761008e-01, -1.04271153e+00,\n",
       "        -5.61821675e-01],\n",
       "       [-8.31296075e-01,  2.35702260e-01, -1.62545763e-01,\n",
       "        -1.11498483e+00,  4.68328334e-01, -3.46112065e-01,\n",
       "        -4.32568222e-01],\n",
       "       [ 1.38549346e-02,  1.02137646e+00, -1.05189548e+00,\n",
       "         2.32428861e-01, -2.20389804e-01,  1.73217229e+00,\n",
       "        -1.38362744e-01],\n",
       "       [-1.80114150e-01,  6.28539361e-01,  2.90064829e-02,\n",
       "         1.37688836e-01, -6.97327114e-02,  8.91647315e-01,\n",
       "         8.32884630e-01],\n",
       "       [-6.92746730e-02,  2.35702260e-01, -5.45650255e-01,\n",
       "        -4.12645442e-02, -1.55822479e-01,  1.13919919e+00,\n",
       "         1.23837118e-01],\n",
       "       [ 1.24694411e-01,  1.02137646e+00,  7.47327405e-01,\n",
       "         3.69275564e-01,  5.32895659e-01, -8.29701776e-01,\n",
       "         1.30681396e+00],\n",
       "       [-5.12632580e-01,  2.35702260e-01, -2.51480734e-01,\n",
       "         8.64029028e-01,  4.03761008e-01, -1.64719867e+00,\n",
       "         2.98637025e-01],\n",
       "       [ 3.18663496e-01,  6.28539361e-01, -2.92527644e-01,\n",
       "         1.90322184e-01, -4.82102696e-02,  8.22563071e-01,\n",
       "         1.27727031e+00],\n",
       "       [ 7.62021402e-01, -9.42809042e-01, -2.99368796e-01,\n",
       "         2.85062209e-01, -1.12777595e-01, -1.07149663e+00,\n",
       "         2.42011703e-01],\n",
       "       [ 2.77098692e-01, -1.57134840e-01, -8.94548988e-01,\n",
       "         1.01140240e+00, -3.49524455e-01, -1.67022675e+00,\n",
       "        -2.65154226e-01],\n",
       "       [ 6.51181926e-01, -1.57134840e-01, -9.97166263e-01,\n",
       "         1.09561576e+00, -8.66063058e-01, -5.76392880e-01,\n",
       "        -3.32858416e-01],\n",
       "       [ 5.40342449e-01, -9.42809042e-01, -1.14657701e-01,\n",
       "         8.95609036e-01, -1.40412410e+00, -5.30336717e-01,\n",
       "         9.80602862e-01],\n",
       "       [ 1.39934839e+00, -1.33564614e+00, -2.13279743e+00,\n",
       "         6.11388961e-01, -1.46869143e+00, -6.74262226e-01,\n",
       "         1.53380764e-01],\n",
       "       [ 9.55990487e-01, -9.42809042e-01, -1.56498185e+00,\n",
       "         2.06406934e+00, -1.40412410e+00, -6.39720104e-01,\n",
       "         3.83575008e-01],\n",
       "       [ 3.57457312e+00, -3.69266875e+00, -9.15072443e-01,\n",
       "         1.59036922e+00, -2.73851550e+00,  1.40977915e+00,\n",
       "         3.36994526e+00]])"
      ]
     },
     "execution_count": 9,
     "metadata": {},
     "output_type": "execute_result"
    }
   ],
   "source": [
    "scaler = StandardScaler()\n",
    "feat_scale = scaler.fit_transform(hepta[feature])\n",
    "feat_scale"
   ]
  },
  {
   "cell_type": "code",
   "execution_count": 10,
   "metadata": {},
   "outputs": [
    {
     "data": {
      "text/html": [
       "<style>#sk-container-id-1 {color: black;background-color: white;}#sk-container-id-1 pre{padding: 0;}#sk-container-id-1 div.sk-toggleable {background-color: white;}#sk-container-id-1 label.sk-toggleable__label {cursor: pointer;display: block;width: 100%;margin-bottom: 0;padding: 0.3em;box-sizing: border-box;text-align: center;}#sk-container-id-1 label.sk-toggleable__label-arrow:before {content: \"▸\";float: left;margin-right: 0.25em;color: #696969;}#sk-container-id-1 label.sk-toggleable__label-arrow:hover:before {color: black;}#sk-container-id-1 div.sk-estimator:hover label.sk-toggleable__label-arrow:before {color: black;}#sk-container-id-1 div.sk-toggleable__content {max-height: 0;max-width: 0;overflow: hidden;text-align: left;background-color: #f0f8ff;}#sk-container-id-1 div.sk-toggleable__content pre {margin: 0.2em;color: black;border-radius: 0.25em;background-color: #f0f8ff;}#sk-container-id-1 input.sk-toggleable__control:checked~div.sk-toggleable__content {max-height: 200px;max-width: 100%;overflow: auto;}#sk-container-id-1 input.sk-toggleable__control:checked~label.sk-toggleable__label-arrow:before {content: \"▾\";}#sk-container-id-1 div.sk-estimator input.sk-toggleable__control:checked~label.sk-toggleable__label {background-color: #d4ebff;}#sk-container-id-1 div.sk-label input.sk-toggleable__control:checked~label.sk-toggleable__label {background-color: #d4ebff;}#sk-container-id-1 input.sk-hidden--visually {border: 0;clip: rect(1px 1px 1px 1px);clip: rect(1px, 1px, 1px, 1px);height: 1px;margin: -1px;overflow: hidden;padding: 0;position: absolute;width: 1px;}#sk-container-id-1 div.sk-estimator {font-family: monospace;background-color: #f0f8ff;border: 1px dotted black;border-radius: 0.25em;box-sizing: border-box;margin-bottom: 0.5em;}#sk-container-id-1 div.sk-estimator:hover {background-color: #d4ebff;}#sk-container-id-1 div.sk-parallel-item::after {content: \"\";width: 100%;border-bottom: 1px solid gray;flex-grow: 1;}#sk-container-id-1 div.sk-label:hover label.sk-toggleable__label {background-color: #d4ebff;}#sk-container-id-1 div.sk-serial::before {content: \"\";position: absolute;border-left: 1px solid gray;box-sizing: border-box;top: 0;bottom: 0;left: 50%;z-index: 0;}#sk-container-id-1 div.sk-serial {display: flex;flex-direction: column;align-items: center;background-color: white;padding-right: 0.2em;padding-left: 0.2em;position: relative;}#sk-container-id-1 div.sk-item {position: relative;z-index: 1;}#sk-container-id-1 div.sk-parallel {display: flex;align-items: stretch;justify-content: center;background-color: white;position: relative;}#sk-container-id-1 div.sk-item::before, #sk-container-id-1 div.sk-parallel-item::before {content: \"\";position: absolute;border-left: 1px solid gray;box-sizing: border-box;top: 0;bottom: 0;left: 50%;z-index: -1;}#sk-container-id-1 div.sk-parallel-item {display: flex;flex-direction: column;z-index: 1;position: relative;background-color: white;}#sk-container-id-1 div.sk-parallel-item:first-child::after {align-self: flex-end;width: 50%;}#sk-container-id-1 div.sk-parallel-item:last-child::after {align-self: flex-start;width: 50%;}#sk-container-id-1 div.sk-parallel-item:only-child::after {width: 0;}#sk-container-id-1 div.sk-dashed-wrapped {border: 1px dashed gray;margin: 0 0.4em 0.5em 0.4em;box-sizing: border-box;padding-bottom: 0.4em;background-color: white;}#sk-container-id-1 div.sk-label label {font-family: monospace;font-weight: bold;display: inline-block;line-height: 1.2em;}#sk-container-id-1 div.sk-label-container {text-align: center;}#sk-container-id-1 div.sk-container {/* jupyter's `normalize.less` sets `[hidden] { display: none; }` but bootstrap.min.css set `[hidden] { display: none !important; }` so we also need the `!important` here to be able to override the default hidden behavior on the sphinx rendered scikit-learn.org. See: https://github.com/scikit-learn/scikit-learn/issues/21755 */display: inline-block !important;position: relative;}#sk-container-id-1 div.sk-text-repr-fallback {display: none;}</style><div id=\"sk-container-id-1\" class=\"sk-top-container\"><div class=\"sk-text-repr-fallback\"><pre>PCA(n_components=7)</pre><b>In a Jupyter environment, please rerun this cell to show the HTML representation or trust the notebook. <br />On GitHub, the HTML representation is unable to render, please try loading this page with nbviewer.org.</b></div><div class=\"sk-container\" hidden><div class=\"sk-item\"><div class=\"sk-estimator sk-toggleable\"><input class=\"sk-toggleable__control sk-hidden--visually\" id=\"sk-estimator-id-1\" type=\"checkbox\" checked><label for=\"sk-estimator-id-1\" class=\"sk-toggleable__label sk-toggleable__label-arrow\">PCA</label><div class=\"sk-toggleable__content\"><pre>PCA(n_components=7)</pre></div></div></div></div></div>"
      ],
      "text/plain": [
       "PCA(n_components=7)"
      ]
     },
     "execution_count": 10,
     "metadata": {},
     "output_type": "execute_result"
    }
   ],
   "source": [
    "pca_init = PCA(n_components=len(feature))\n",
    "pca_init.fit(feat_scale)"
   ]
  },
  {
   "cell_type": "code",
   "execution_count": 11,
   "metadata": {},
   "outputs": [
    {
     "data": {
      "text/plain": [
       "(array([4.64611996, 1.24408391, 0.54272305, 0.47621544, 0.25548619,\n",
       "        0.0759954 , 0.05104272]),\n",
       " array([0.63718217, 0.17061722, 0.07443059, 0.06530955, 0.03503811,\n",
       "        0.01042223, 0.00700014]))"
      ]
     },
     "execution_count": 11,
     "metadata": {},
     "output_type": "execute_result"
    }
   ],
   "source": [
    "pca_init.explained_variance_, pca_init.explained_variance_ratio_"
   ]
  },
  {
   "cell_type": "code",
   "execution_count": 12,
   "metadata": {},
   "outputs": [
    {
     "data": {
      "image/png": "[encoded data removed]",
      "text/plain": [
       "<Figure size 432x288 with 1 Axes>"
      ]
     },
     "metadata": {
      "needs_background": "light"
     },
     "output_type": "display_data"
    }
   ],
   "source": [
    "plt.plot(pca_init.explained_variance_, marker='o')\n",
    "plt.xticks(ticks=np.arange(7), labels=np.arange(1, 8))\n",
    "plt.show()"
   ]
  },
  {
   "cell_type": "code",
   "execution_count": 16,
   "metadata": {},
   "outputs": [
    {
     "data": {
      "text/plain": [
       "(array([ 0.453, -0.377, -0.363,  0.408, -0.456, -0.075,  0.375]),\n",
       " array([ 0.158, -0.248,  0.289, -0.26 , -0.056,  0.842,  0.224]))"
      ]
     },
     "execution_count": 16,
     "metadata": {},
     "output_type": "execute_result"
    }
   ],
   "source": [
    "pca_init.components_.round(3)\n",
    "# 제1주성분 계수, # 제2주성분 계수\n",
    "pca_init.components_.round(3)[0, :], pca_init.components_.round(3)[1, :]"
   ]
  },
  {
   "cell_type": "code",
   "execution_count": 17,
   "metadata": {},
   "outputs": [
    {
     "data": {
      "text/html": [
       "<div>\n",
       "<style scoped>\n",
       "    .dataframe tbody tr th:only-of-type {\n",
       "        vertical-align: middle;\n",
       "    }\n",
       "\n",
       "    .dataframe tbody tr th {\n",
       "        vertical-align: top;\n",
       "    }\n",
       "\n",
       "    .dataframe thead th {\n",
       "        text-align: right;\n",
       "    }\n",
       "</style>\n",
       "<table border=\"1\" class=\"dataframe\">\n",
       "  <thead>\n",
       "    <tr style=\"text-align: right;\">\n",
       "      <th></th>\n",
       "      <th>cost</th>\n",
       "      <th>size</th>\n",
       "      <th>alcohol</th>\n",
       "      <th>reputat</th>\n",
       "      <th>color</th>\n",
       "      <th>aroma</th>\n",
       "      <th>taste</th>\n",
       "    </tr>\n",
       "  </thead>\n",
       "  <tbody>\n",
       "    <tr>\n",
       "      <th>0</th>\n",
       "      <td>10</td>\n",
       "      <td>15</td>\n",
       "      <td>20</td>\n",
       "      <td>85</td>\n",
       "      <td>40</td>\n",
       "      <td>30</td>\n",
       "      <td>50</td>\n",
       "    </tr>\n",
       "    <tr>\n",
       "      <th>1</th>\n",
       "      <td>100</td>\n",
       "      <td>70</td>\n",
       "      <td>50</td>\n",
       "      <td>30</td>\n",
       "      <td>75</td>\n",
       "      <td>60</td>\n",
       "      <td>80</td>\n",
       "    </tr>\n",
       "    <tr>\n",
       "      <th>2</th>\n",
       "      <td>65</td>\n",
       "      <td>30</td>\n",
       "      <td>35</td>\n",
       "      <td>80</td>\n",
       "      <td>80</td>\n",
       "      <td>60</td>\n",
       "      <td>90</td>\n",
       "    </tr>\n",
       "    <tr>\n",
       "      <th>3</th>\n",
       "      <td>0</td>\n",
       "      <td>0</td>\n",
       "      <td>20</td>\n",
       "      <td>30</td>\n",
       "      <td>80</td>\n",
       "      <td>90</td>\n",
       "      <td>100</td>\n",
       "    </tr>\n",
       "    <tr>\n",
       "      <th>4</th>\n",
       "      <td>10</td>\n",
       "      <td>25</td>\n",
       "      <td>10</td>\n",
       "      <td>100</td>\n",
       "      <td>50</td>\n",
       "      <td>40</td>\n",
       "      <td>60</td>\n",
       "    </tr>\n",
       "  </tbody>\n",
       "</table>\n",
       "</div>"
      ],
      "text/plain": [
       "   cost  size  alcohol  reputat  color  aroma  taste\n",
       "0    10    15       20       85     40     30     50\n",
       "1   100    70       50       30     75     60     80\n",
       "2    65    30       35       80     80     60     90\n",
       "3     0     0       20       30     80     90    100\n",
       "4    10    25       10      100     50     40     60"
      ]
     },
     "execution_count": 17,
     "metadata": {},
     "output_type": "execute_result"
    }
   ],
   "source": [
    "beer = pd.read_csv(Path.cwd() / 'data' / 'beer.csv')\n",
    "beer.head()"
   ]
  },
  {
   "cell_type": "code",
   "execution_count": 19,
   "metadata": {},
   "outputs": [],
   "source": [
    "pca = PCA(n_components=len(beer.columns))\n",
    "pca_beer = pca.fit_transform(beer)"
   ]
  },
  {
   "cell_type": "code",
   "execution_count": 21,
   "metadata": {},
   "outputs": [
    {
     "data": {
      "text/plain": [
       "(array([1545.79201197, 1222.20770757,  326.39050166,   72.23684187,\n",
       "          42.40723824,   19.39263959,    6.7204514 ]),\n",
       " array([0.47781193, 0.37779042, 0.10088891, 0.02232876, 0.01310829,\n",
       "        0.00599436, 0.00207732]))"
      ]
     },
     "execution_count": 21,
     "metadata": {},
     "output_type": "execute_result"
    }
   ],
   "source": [
    "pca.explained_variance_, pca.explained_variance_ratio_"
   ]
  },
  {
   "cell_type": "code",
   "execution_count": 22,
   "metadata": {},
   "outputs": [
    {
     "data": {
      "image/png": "[encoded data removed]",
      "text/plain": [
       "<Figure size 432x288 with 1 Axes>"
      ]
     },
     "metadata": {
      "needs_background": "light"
     },
     "output_type": "display_data"
    }
   ],
   "source": [
    "plt.plot(pca.explained_variance_ratio_, marker='o')\n",
    "plt.xticks(ticks=np.arange(7), labels=np.arange(1, 8))\n",
    "plt.show()"
   ]
  },
  {
   "cell_type": "code",
   "execution_count": 23,
   "metadata": {},
   "outputs": [],
   "source": [
    "pca = PCA(n_components='mle')\n",
    "pca_beer = pca.fit_transform(beer)"
   ]
  },
  {
   "cell_type": "code",
   "execution_count": 24,
   "metadata": {},
   "outputs": [
    {
     "data": {
      "text/plain": [
       "(array([1545.79201197, 1222.20770757,  326.39050166,   72.23684187,\n",
       "          42.40723824,   19.39263959]),\n",
       " array([0.47781193, 0.37779042, 0.10088891, 0.02232876, 0.01310829,\n",
       "        0.00599436]))"
      ]
     },
     "execution_count": 24,
     "metadata": {},
     "output_type": "execute_result"
    }
   ],
   "source": [
    "pca.explained_variance_, pca.explained_variance_ratio_"
   ]
  },
  {
   "cell_type": "code",
   "execution_count": null,
   "metadata": {},
   "outputs": [],
   "source": []
  }
 ],
 "metadata": {
  "kernelspec": {
   "display_name": "base",
   "language": "python",
   "name": "python3"
  },
  "language_info": {
   "codemirror_mode": {
    "name": "ipython",
    "version": 3
   },
   "file_extension": ".py",
   "mimetype": "text/x-python",
   "name": "python",
   "nbconvert_exporter": "python",
   "pygments_lexer": "ipython3",
   "version": "3.10.9"
  },
  "orig_nbformat": 4
 },
 "nbformat": 4,
 "nbformat_minor": 2
}
