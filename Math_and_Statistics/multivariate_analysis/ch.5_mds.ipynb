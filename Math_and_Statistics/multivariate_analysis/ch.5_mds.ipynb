{
 "cells": [
  {
   "cell_type": "code",
   "execution_count": 1,
   "metadata": {},
   "outputs": [],
   "source": [
    "import pandas as pd\n",
    "import numpy as np\n",
    "import matplotlib.pyplot as plt\n",
    "import seaborn as sns\n",
    "from pathlib import Path\n",
    "import scipy.stats as ss\n",
    "import pingouin as pg"
   ]
  },
  {
   "cell_type": "code",
   "execution_count": 2,
   "metadata": {},
   "outputs": [],
   "source": [
    "from sklearn.manifold import MDS\n",
    "from sklearn.preprocessing import StandardScaler\n",
    "from sklearn.metrics import pairwise_distances"
   ]
  },
  {
   "cell_type": "code",
   "execution_count": 3,
   "metadata": {},
   "outputs": [
    {
     "data": {
      "text/plain": [
       "(          length  width  enginesize  fuel  price\n",
       " autoName                                        \n",
       " visto       3495   1495         798  21.5    540\n",
       " tico        3340   1400         796  21.0    550\n",
       " Matiz       3495   1495         796  22.2    555\n",
       " Atos        3495   1495         798  22.0    571\n",
       " Spectra     4510   1720        1493  20.8    540,\n",
       " (23, 5))"
      ]
     },
     "execution_count": 3,
     "metadata": {},
     "output_type": "execute_result"
    }
   ],
   "source": [
    "auto = pd.read_csv(Path.cwd() / 'data' / 'auto.csv', index_col=['autoName'])\n",
    "auto.head(), auto.shape"
   ]
  },
  {
   "cell_type": "code",
   "execution_count": 4,
   "metadata": {},
   "outputs": [
    {
     "data": {
      "text/plain": [
       "array([[-1.83077769, -1.75076166, -1.41560794,  1.36328455, -0.8280921 ],\n",
       "       [-2.12684131, -2.51052616, -1.418249  ,  1.25926536, -0.81889951],\n",
       "       [-1.83077769, -1.75076166, -1.418249  ,  1.50891142, -0.81430322],\n",
       "       [-1.83077769, -1.75076166, -1.41560794,  1.46730374, -0.79959508],\n",
       "       [ 0.10796149,  0.04868056, -0.49783973,  1.21765769, -0.8280921 ],\n",
       "       [ 0.07931017, -0.11126986, -0.49123708,  0.21907346, -0.56150711],\n",
       "       [ 0.10796149,  0.04868056, -0.49519867,  0.11505427, -0.54312194],\n",
       "       [-0.45551443, -0.31120788, -0.49783973,  0.406308  , -0.67365666],\n",
       "       [-0.40776223, -0.19124507, -0.49123708,  0.11505427, -0.57529599],\n",
       "       [-0.41731267, -0.35119549, -0.49519867,  0.53113103, -0.79591805],\n",
       "       [ 0.04110841, -0.11126986, -0.49123708,  0.21907346, -0.77293658],\n",
       "       [ 0.55683214,  0.52853182,  0.16902781,  1.21765769, -0.89887501],\n",
       "       [ 0.60458433,  0.80844506,  0.16902781, -0.28021865,  0.04979983],\n",
       "       [ 0.41357555,  0.52853182, -0.0977192 , -0.34263017, -0.32617692],\n",
       "       [ 0.48997906,  0.80844506,  0.16770728, -0.1970033 , -0.14784076],\n",
       "       [-0.20720301,  0.60850703,  0.13865563, -0.61308006, -0.08900821],\n",
       "       [ 0.55683214,  0.80844506,  0.16770728, -0.17619946,  0.14907976],\n",
       "       [ 0.95795059,  0.08866817,  0.82401059, -1.13317601,  0.82197703],\n",
       "       [ 0.78604268,  0.88842027,  0.82269006, -1.13317601,  0.79439927],\n",
       "       [ 1.00570278,  0.76845745,  1.45522383, -1.38698284,  1.70354599],\n",
       "       [ 1.0821063 ,  0.76845745,  1.4314543 , -1.44523358,  1.85614292],\n",
       "       [ 1.14895937,  0.88842027,  1.7549841 , -1.65327196,  1.98483912],\n",
       "       [ 1.16806025,  1.24830871,  2.12473244, -1.27880288,  2.11353531]])"
      ]
     },
     "execution_count": 4,
     "metadata": {},
     "output_type": "execute_result"
    }
   ],
   "source": [
    "scaler = StandardScaler()\n",
    "scaler.fit(auto)\n",
    "zauto = scaler.transform(auto)\n",
    "zauto"
   ]
  },
  {
   "cell_type": "code",
   "execution_count": 5,
   "metadata": {},
   "outputs": [],
   "source": [
    "zauto_dist = pairwise_distances(zauto, metric='euclidean')"
   ]
  },
  {
   "cell_type": "code",
   "execution_count": 6,
   "metadata": {},
   "outputs": [
    {
     "name": "stderr",
     "output_type": "stream",
     "text": [
      "c:\\Users\\admin\\anaconda3\\lib\\site-packages\\sklearn\\manifold\\_mds.py:299: FutureWarning: The default value of `normalized_stress` will change to `'auto'` in version 1.4. To suppress this warning, manually set the value of `normalized_stress`.\n",
      "  warnings.warn(\n"
     ]
    },
    {
     "data": {
      "text/plain": [
       "array([[-0.34905181, -3.28703158],\n",
       "       [-0.83761076, -3.8051683 ],\n",
       "       [-0.21473922, -3.36895701],\n",
       "       [-0.21848629, -3.34503557],\n",
       "       [ 1.35147266, -0.95643153],\n",
       "       [ 0.49767976, -0.51291392],\n",
       "       [ 0.50707511, -0.36597709],\n",
       "       [ 0.34797204, -1.01971192],\n",
       "       [ 0.18726058, -0.76804334],\n",
       "       [ 0.47821419, -1.11757088],\n",
       "       [ 0.61473484, -0.61008521],\n",
       "       [ 1.81770445, -0.16049355],\n",
       "       [ 0.39187547,  0.9564402 ],\n",
       "       [ 0.40532146,  0.43730817],\n",
       "       [ 0.47273881,  0.78001901],\n",
       "       [ 0.763788  ,  0.69810637],\n",
       "       [ 0.3108764 ,  0.91663491],\n",
       "       [-0.96472974,  1.53139889],\n",
       "       [-0.40974763,  1.92805211],\n",
       "       [-1.294658  ,  2.62882412],\n",
       "       [-1.39827723,  2.7271656 ],\n",
       "       [-1.41539024,  3.1488329 ],\n",
       "       [-1.04402284,  3.56463762]])"
      ]
     },
     "execution_count": 6,
     "metadata": {},
     "output_type": "execute_result"
    }
   ],
   "source": [
    "# Pre-computed dissimilarities are passed directly to fit and fit_transform\n",
    "cmds = MDS(n_components=2, random_state=0, dissimilarity='precomputed')\n",
    "mds1 = cmds.fit_transform(zauto_dist)\n",
    "mds1"
   ]
  },
  {
   "cell_type": "code",
   "execution_count": 7,
   "metadata": {},
   "outputs": [
    {
     "data": {
      "image/png": "[encoded data removed]",
      "text/plain": [
       "<Figure size 864x576 with 1 Axes>"
      ]
     },
     "metadata": {
      "needs_background": "light"
     },
     "output_type": "display_data"
    }
   ],
   "source": [
    "labels = auto.index\n",
    "plt.figure(figsize=(12, 8))\n",
    "plt.scatter(mds1[:, 0], mds1[:, 1])\n",
    "for label, x, y in zip(labels, mds1[:, 0], mds1[:, 1]):\n",
    "    plt.annotate(text=label, xy=(x, y), xycoords='data')"
   ]
  },
  {
   "cell_type": "code",
   "execution_count": 8,
   "metadata": {},
   "outputs": [
    {
     "data": {
      "text/html": [
       "<div>\n",
       "<style scoped>\n",
       "    .dataframe tbody tr th:only-of-type {\n",
       "        vertical-align: middle;\n",
       "    }\n",
       "\n",
       "    .dataframe tbody tr th {\n",
       "        vertical-align: top;\n",
       "    }\n",
       "\n",
       "    .dataframe thead th {\n",
       "        text-align: right;\n",
       "    }\n",
       "</style>\n",
       "<table border=\"1\" class=\"dataframe\">\n",
       "  <thead>\n",
       "    <tr style=\"text-align: right;\">\n",
       "      <th></th>\n",
       "      <th>length</th>\n",
       "      <th>width</th>\n",
       "      <th>enginesize</th>\n",
       "      <th>fuel</th>\n",
       "      <th>price</th>\n",
       "    </tr>\n",
       "    <tr>\n",
       "      <th>autoName</th>\n",
       "      <th></th>\n",
       "      <th></th>\n",
       "      <th></th>\n",
       "      <th></th>\n",
       "      <th></th>\n",
       "    </tr>\n",
       "  </thead>\n",
       "  <tbody>\n",
       "    <tr>\n",
       "      <th>visto</th>\n",
       "      <td>3495</td>\n",
       "      <td>1495</td>\n",
       "      <td>798</td>\n",
       "      <td>21.5</td>\n",
       "      <td>540</td>\n",
       "    </tr>\n",
       "    <tr>\n",
       "      <th>tico</th>\n",
       "      <td>3340</td>\n",
       "      <td>1400</td>\n",
       "      <td>796</td>\n",
       "      <td>21.0</td>\n",
       "      <td>550</td>\n",
       "    </tr>\n",
       "    <tr>\n",
       "      <th>Matiz</th>\n",
       "      <td>3495</td>\n",
       "      <td>1495</td>\n",
       "      <td>796</td>\n",
       "      <td>22.2</td>\n",
       "      <td>555</td>\n",
       "    </tr>\n",
       "    <tr>\n",
       "      <th>Atos</th>\n",
       "      <td>3495</td>\n",
       "      <td>1495</td>\n",
       "      <td>798</td>\n",
       "      <td>22.0</td>\n",
       "      <td>571</td>\n",
       "    </tr>\n",
       "    <tr>\n",
       "      <th>Spectra</th>\n",
       "      <td>4510</td>\n",
       "      <td>1720</td>\n",
       "      <td>1493</td>\n",
       "      <td>20.8</td>\n",
       "      <td>540</td>\n",
       "    </tr>\n",
       "  </tbody>\n",
       "</table>\n",
       "</div>"
      ],
      "text/plain": [
       "          length  width  enginesize  fuel  price\n",
       "autoName                                        \n",
       "visto       3495   1495         798  21.5    540\n",
       "tico        3340   1400         796  21.0    550\n",
       "Matiz       3495   1495         796  22.2    555\n",
       "Atos        3495   1495         798  22.0    571\n",
       "Spectra     4510   1720        1493  20.8    540"
      ]
     },
     "execution_count": 8,
     "metadata": {},
     "output_type": "execute_result"
    }
   ],
   "source": [
    "auto.head()"
   ]
  },
  {
   "cell_type": "code",
   "execution_count": 9,
   "metadata": {},
   "outputs": [
    {
     "data": {
      "text/plain": [
       "array([[-1.83077769, -1.75076166, -1.41560794,  1.36328455, -0.8280921 ],\n",
       "       [-2.12684131, -2.51052616, -1.418249  ,  1.25926536, -0.81889951],\n",
       "       [-1.83077769, -1.75076166, -1.418249  ,  1.50891142, -0.81430322],\n",
       "       [-1.83077769, -1.75076166, -1.41560794,  1.46730374, -0.79959508],\n",
       "       [ 0.10796149,  0.04868056, -0.49783973,  1.21765769, -0.8280921 ],\n",
       "       [ 0.07931017, -0.11126986, -0.49123708,  0.21907346, -0.56150711],\n",
       "       [ 0.10796149,  0.04868056, -0.49519867,  0.11505427, -0.54312194],\n",
       "       [-0.45551443, -0.31120788, -0.49783973,  0.406308  , -0.67365666],\n",
       "       [-0.40776223, -0.19124507, -0.49123708,  0.11505427, -0.57529599],\n",
       "       [-0.41731267, -0.35119549, -0.49519867,  0.53113103, -0.79591805],\n",
       "       [ 0.04110841, -0.11126986, -0.49123708,  0.21907346, -0.77293658],\n",
       "       [ 0.55683214,  0.52853182,  0.16902781,  1.21765769, -0.89887501],\n",
       "       [ 0.60458433,  0.80844506,  0.16902781, -0.28021865,  0.04979983],\n",
       "       [ 0.41357555,  0.52853182, -0.0977192 , -0.34263017, -0.32617692],\n",
       "       [ 0.48997906,  0.80844506,  0.16770728, -0.1970033 , -0.14784076],\n",
       "       [-0.20720301,  0.60850703,  0.13865563, -0.61308006, -0.08900821],\n",
       "       [ 0.55683214,  0.80844506,  0.16770728, -0.17619946,  0.14907976],\n",
       "       [ 0.95795059,  0.08866817,  0.82401059, -1.13317601,  0.82197703],\n",
       "       [ 0.78604268,  0.88842027,  0.82269006, -1.13317601,  0.79439927],\n",
       "       [ 1.00570278,  0.76845745,  1.45522383, -1.38698284,  1.70354599],\n",
       "       [ 1.0821063 ,  0.76845745,  1.4314543 , -1.44523358,  1.85614292],\n",
       "       [ 1.14895937,  0.88842027,  1.7549841 , -1.65327196,  1.98483912],\n",
       "       [ 1.16806025,  1.24830871,  2.12473244, -1.27880288,  2.11353531]])"
      ]
     },
     "execution_count": 9,
     "metadata": {},
     "output_type": "execute_result"
    }
   ],
   "source": [
    "scaler = StandardScaler()\n",
    "zauto = scaler.fit_transform(auto)\n",
    "zauto"
   ]
  },
  {
   "cell_type": "code",
   "execution_count": 10,
   "metadata": {},
   "outputs": [
    {
     "name": "stderr",
     "output_type": "stream",
     "text": [
      "c:\\Users\\admin\\anaconda3\\lib\\site-packages\\sklearn\\manifold\\_mds.py:299: FutureWarning: The default value of `normalized_stress` will change to `'auto'` in version 1.4. To suppress this warning, manually set the value of `normalized_stress`.\n",
      "  warnings.warn(\n",
      "c:\\Users\\admin\\anaconda3\\lib\\site-packages\\sklearn\\manifold\\_mds.py:299: FutureWarning: The default value of `normalized_stress` will change to `'auto'` in version 1.4. To suppress this warning, manually set the value of `normalized_stress`.\n",
      "  warnings.warn(\n"
     ]
    },
    {
     "data": {
      "text/plain": [
       "array([[-0.34905181, -3.28703158],\n",
       "       [-0.83761076, -3.8051683 ],\n",
       "       [-0.21473922, -3.36895701],\n",
       "       [-0.21848629, -3.34503557],\n",
       "       [ 1.35147266, -0.95643153],\n",
       "       [ 0.49767976, -0.51291392],\n",
       "       [ 0.50707511, -0.36597709],\n",
       "       [ 0.34797204, -1.01971192],\n",
       "       [ 0.18726058, -0.76804334],\n",
       "       [ 0.47821419, -1.11757088],\n",
       "       [ 0.61473484, -0.61008521],\n",
       "       [ 1.81770445, -0.16049355],\n",
       "       [ 0.39187547,  0.9564402 ],\n",
       "       [ 0.40532146,  0.43730817],\n",
       "       [ 0.47273881,  0.78001901],\n",
       "       [ 0.763788  ,  0.69810637],\n",
       "       [ 0.3108764 ,  0.91663491],\n",
       "       [-0.96472974,  1.53139889],\n",
       "       [-0.40974763,  1.92805211],\n",
       "       [-1.294658  ,  2.62882412],\n",
       "       [-1.39827723,  2.7271656 ],\n",
       "       [-1.41539024,  3.1488329 ],\n",
       "       [-1.04402284,  3.56463762]])"
      ]
     },
     "execution_count": 10,
     "metadata": {},
     "output_type": "execute_result"
    }
   ],
   "source": [
    "zauto_dist = pairwise_distances(zauto, metric='euclidean')\n",
    "mds = MDS(n_components=2, metric=True, random_state=0, dissimilarity='precomputed').fit(zauto_dist)\n",
    "zauto_mds = mds.fit_transform(zauto_dist)\n",
    "zauto_mds"
   ]
  },
  {
   "cell_type": "code",
   "execution_count": 11,
   "metadata": {},
   "outputs": [
    {
     "data": {
      "text/plain": [
       "3.562167703051256"
      ]
     },
     "execution_count": 11,
     "metadata": {},
     "output_type": "execute_result"
    }
   ],
   "source": [
    "mds.stress_"
   ]
  },
  {
   "cell_type": "code",
   "execution_count": 12,
   "metadata": {},
   "outputs": [
    {
     "name": "stderr",
     "output_type": "stream",
     "text": [
      "c:\\Users\\admin\\anaconda3\\lib\\site-packages\\sklearn\\manifold\\_mds.py:299: FutureWarning: The default value of `normalized_stress` will change to `'auto'` in version 1.4. To suppress this warning, manually set the value of `normalized_stress`.\n",
      "  warnings.warn(\n",
      "c:\\Users\\admin\\anaconda3\\lib\\site-packages\\sklearn\\manifold\\_mds.py:299: FutureWarning: The default value of `normalized_stress` will change to `'auto'` in version 1.4. To suppress this warning, manually set the value of `normalized_stress`.\n",
      "  warnings.warn(\n"
     ]
    },
    {
     "data": {
      "text/plain": [
       "array([[-0.34905181, -3.28703158],\n",
       "       [-0.83761076, -3.8051683 ],\n",
       "       [-0.21473922, -3.36895701],\n",
       "       [-0.21848629, -3.34503557],\n",
       "       [ 1.35147266, -0.95643153],\n",
       "       [ 0.49767976, -0.51291392],\n",
       "       [ 0.50707511, -0.36597709],\n",
       "       [ 0.34797204, -1.01971192],\n",
       "       [ 0.18726058, -0.76804334],\n",
       "       [ 0.47821419, -1.11757088],\n",
       "       [ 0.61473484, -0.61008521],\n",
       "       [ 1.81770445, -0.16049355],\n",
       "       [ 0.39187547,  0.9564402 ],\n",
       "       [ 0.40532146,  0.43730817],\n",
       "       [ 0.47273881,  0.78001901],\n",
       "       [ 0.763788  ,  0.69810637],\n",
       "       [ 0.3108764 ,  0.91663491],\n",
       "       [-0.96472974,  1.53139889],\n",
       "       [-0.40974763,  1.92805211],\n",
       "       [-1.294658  ,  2.62882412],\n",
       "       [-1.39827723,  2.7271656 ],\n",
       "       [-1.41539024,  3.1488329 ],\n",
       "       [-1.04402284,  3.56463762]])"
      ]
     },
     "execution_count": 12,
     "metadata": {},
     "output_type": "execute_result"
    }
   ],
   "source": [
    "zauto_dist = pairwise_distances(zauto, metric='euclidean')\n",
    "mds = MDS(n_components=2, metric=True, random_state=0, dissimilarity='euclidean').fit(zauto)\n",
    "zauto_mds = mds.fit_transform(zauto)\n",
    "zauto_mds"
   ]
  },
  {
   "cell_type": "code",
   "execution_count": 13,
   "metadata": {},
   "outputs": [
    {
     "data": {
      "text/plain": [
       "array([[0.        , 0.82207495, 0.14630206, 0.10785208, 2.80360618,\n",
       "        2.92764702, 3.07947105, 2.39700167, 2.63315613, 2.34463999,\n",
       "        2.8911267 , 3.66512583, 4.29690525, 3.88988365, 4.1640819 ,\n",
       "        3.88202793, 4.25229146, 5.01312698, 5.26191996, 6.05036558,\n",
       "        6.16684791, 6.55049336, 6.79376626],\n",
       "       [0.82207495, 0.        , 0.8527837 , 0.8417573 , 3.52034821,\n",
       "        3.55403099, 3.71230074, 3.03745278, 3.24995545, 2.99464969,\n",
       "        3.52134913, 4.35494564, 4.91124762, 4.49913714, 4.79057558,\n",
       "        4.45822274, 4.87139339, 5.45121379, 5.77806598, 6.49513456,\n",
       "        6.60606189, 6.97831922, 7.25113079],\n",
       "       [0.14630206, 0.8527837 , 0.        , 0.04420976, 2.81582564,\n",
       "        2.98719064, 3.14087581, 2.45892926, 2.70488046, 2.40105877,\n",
       "        2.95239483, 3.67522629, 4.35288817, 3.95506924, 4.21960016,\n",
       "        3.95663951, 4.30501829, 5.08392315, 5.32948287, 6.11348515,\n",
       "        6.22980114, 6.61423647, 6.84717161],\n",
       "       [0.10785208, 0.8417573 , 0.04420976, 0.        , 2.81107375,\n",
       "        2.96742232, 3.12061088, 2.43875687, 2.68149496, 2.38332854,\n",
       "        2.93345223, 3.67139069, 4.33207848, 3.93307977, 4.19964756,\n",
       "        3.93075174, 4.28464626, 5.05651953, 5.3034254 , 6.08657774,\n",
       "        6.20265584, 6.58694425, 6.82267487],\n",
       "       [2.80360618, 3.52034821, 2.81582564, 2.81107375, 0.        ,\n",
       "        1.04627274, 1.1388368 , 1.06262101, 1.26618286, 0.95298205,\n",
       "        1.0150417 , 0.93886348, 2.06952082, 1.7804973 , 1.90529261,\n",
       "        2.17156772, 2.02962616, 3.2742199 , 3.32680825, 4.28156737,\n",
       "        4.41421792, 4.79779883, 4.9321688 ],\n",
       "       [2.92764702, 3.55403099, 2.98719064, 2.96742232, 1.04627274,\n",
       "        0.        , 0.19385235, 0.61130226, 0.5046243 , 0.67567941,\n",
       "        0.21485296, 1.47794137, 1.47672848, 1.0231457 , 1.33901899,\n",
       "        1.38299244, 1.47284922, 2.50688405, 2.62532217, 3.62363297,\n",
       "        3.75382631, 4.14470697, 4.39051394],\n",
       "       [3.07947105, 3.71230074, 3.14087581, 3.12061088, 1.1388368 ,\n",
       "        0.19385235, 0.        , 0.74087774, 0.56972461, 0.82026797,\n",
       "        0.30611097, 1.48836603, 1.33149167, 0.85917827, 1.19006343,\n",
       "        1.24535316, 1.33496936, 2.42610132, 2.49976587, 3.52587556,\n",
       "        3.65650087, 4.04595188, 4.29274057],\n",
       "       [2.39700167, 3.03745278, 2.45892926, 2.43875687, 1.06262101,\n",
       "        0.61130226, 0.74087774, 0.        , 0.33349438, 0.18328664,\n",
       "        0.57581797, 1.69815555, 1.95367668, 1.51730918, 1.79749836,\n",
       "        1.64122706, 1.93329544, 2.91753383, 3.04131056, 3.99778373,\n",
       "        4.13282256, 4.51642873, 4.74910616],\n",
       "       [2.63315613, 3.24995545, 2.70488046, 2.68149496, 1.26618286,\n",
       "        0.5046243 , 0.56972461, 0.33349438, 0.        , 0.49747865,\n",
       "        0.50770335, 1.79022582, 1.73411681, 1.27242532, 1.58733278,\n",
       "        1.35766257, 1.72440694, 2.68027053, 2.78413288, 3.76256012,\n",
       "        3.8966489 , 4.27970074, 4.53557931],\n",
       "       [2.34463999, 2.99464969, 2.40105877, 2.38332854, 0.95298205,\n",
       "        0.67567941, 0.82026797, 0.18328664, 0.49747865, 0.        ,\n",
       "        0.60468006, 1.62665118, 2.05030816, 1.61443509, 1.88615285,\n",
       "        1.7821018 , 2.03138029, 3.03523386, 3.16552826, 4.12422416,\n",
       "        4.26067085, 4.64299523, 4.86586474],\n",
       "       [2.8911267 , 3.52134913, 2.95239483, 2.93345223, 1.0150417 ,\n",
       "        0.21485296, 0.30611097, 0.57581797, 0.50770335, 0.60468006,\n",
       "        0.        , 1.45749711, 1.5891879 , 1.10364824, 1.43018625,\n",
       "        1.4617591 , 1.59762605, 2.6424949 , 2.7506058 , 3.76901251,\n",
       "        3.90337237, 4.28756666, 4.53179042],\n",
       "       [3.66512583, 4.35494564, 3.67522629, 3.67139069, 0.93886348,\n",
       "        1.47794137, 1.48836603, 1.69815555, 1.79022582, 1.62665118,\n",
       "        1.45749711, 0.        , 1.79561944, 1.68942526, 1.62731086,\n",
       "        2.14442373, 1.76618235, 3.04485292, 3.00048802, 3.93320438,\n",
       "        4.07532962, 4.42192672, 4.47475032],\n",
       "       [4.29690525, 4.91124762, 4.35288817, 4.33207848, 2.06952082,\n",
       "        1.47672848, 1.33149167, 1.95367668, 1.73411681, 2.05030816,\n",
       "        1.5891879 , 1.79561944, 0.        , 0.57553754, 0.24315162,\n",
       "        0.91102182, 0.15152066, 1.54781872, 1.32233206, 2.40345554,\n",
       "        2.53840146, 2.90648412, 3.09708578],\n",
       "       [3.88988365, 4.49913714, 3.95506924, 3.93307977, 1.7804973 ,\n",
       "        1.0231457 , 0.85917827, 1.51730918, 1.27242532, 1.61443509,\n",
       "        1.10364824, 1.68942526, 0.57553754, 0.        , 0.45568751,\n",
       "        0.7596231 , 0.65030238, 1.81180304, 1.7309126 , 2.8337711 ,\n",
       "        2.97003761, 3.3408675 , 3.58541942],\n",
       "       [4.1640819 , 4.79057558, 4.21960016, 4.19964756, 1.90529261,\n",
       "        1.33901899, 1.19006343, 1.79749836, 1.58733278, 1.88615285,\n",
       "        1.43018625, 1.62731086, 0.24315162, 0.45568751, 0.        ,\n",
       "        0.83872712, 0.30506381, 1.72765044, 1.51237818, 2.60172117,\n",
       "        2.74286339, 3.10308566, 3.28136156],\n",
       "       [3.88202793, 4.45822274, 3.95663951, 3.93075174, 2.17156772,\n",
       "        1.38299244, 1.24535316, 1.64122706, 1.35766257, 1.7821018 ,\n",
       "        1.4617591 , 2.14442373, 0.91102182, 0.7596231 , 0.83872712,\n",
       "        0.        , 0.93387336, 1.7882731 , 1.60738922, 2.65372427,\n",
       "        2.79916477, 3.14847383, 3.3969959 ],\n",
       "       [4.25229146, 4.87139339, 4.30501829, 4.28464626, 2.02962616,\n",
       "        1.47284922, 1.33496936, 1.93329544, 1.72440694, 2.03138029,\n",
       "        1.59762605, 1.76618235, 0.15152066, 0.65030238, 0.30506381,\n",
       "        0.93387336, 0.        , 1.5742629 , 1.34913948, 2.39648584,\n",
       "        2.52964043, 2.90313864, 3.07763663],\n",
       "       [5.01312698, 5.45121379, 5.08392315, 5.05651953, 3.2742199 ,\n",
       "        2.50688405, 2.42610132, 2.91753383, 2.68027053, 3.03523386,\n",
       "        2.6424949 , 3.04485292, 1.54781872, 1.81180304, 1.72765044,\n",
       "        1.7882731 , 1.5742629 , 0.        , 0.8184852 , 1.30552888,\n",
       "        1.4189415 , 1.77919855, 2.18406034],\n",
       "       [5.26191996, 5.77806598, 5.32948287, 5.3034254 , 3.32680825,\n",
       "        2.62532217, 2.49976587, 3.04131056, 2.78413288, 3.16552826,\n",
       "        2.7506058 , 3.00048802, 1.32233206, 1.7309126 , 1.51237818,\n",
       "        1.60738922, 1.34913948, 0.8184852 , 0.        , 1.16348884,\n",
       "        1.30281162, 1.63967299, 1.93186401],\n",
       "       [6.05036558, 6.49513456, 6.11348515, 6.08657774, 4.28156737,\n",
       "        3.62363297, 3.52587556, 3.99778373, 3.76256012, 4.12422416,\n",
       "        3.76901251, 3.93320438, 2.40345554, 2.8337711 , 2.60172117,\n",
       "        2.65372427, 2.39648584, 1.30552888, 1.16348884, 0.        ,\n",
       "        0.18188309, 0.52421891, 0.94055999],\n",
       "       [6.16684791, 6.60606189, 6.22980114, 6.20265584, 4.41421792,\n",
       "        3.75382631, 3.65650087, 4.13282256, 3.8966489 , 4.26067085,\n",
       "        3.90337237, 4.07532962, 2.53840146, 2.97003761, 2.74286339,\n",
       "        2.79916477, 2.52964043, 1.4189415 , 1.30281162, 0.18188309,\n",
       "        0.        , 0.42822263, 0.90123799],\n",
       "       [6.55049336, 6.97831922, 6.61423647, 6.58694425, 4.79779883,\n",
       "        4.14470697, 4.04595188, 4.51642873, 4.27970074, 4.64299523,\n",
       "        4.28756666, 4.42192672, 2.90648412, 3.3408675 , 3.10308566,\n",
       "        3.14847383, 2.90313864, 1.77919855, 1.63967299, 0.52421891,\n",
       "        0.42822263, 0.        , 0.65068286],\n",
       "       [6.79376626, 7.25113079, 6.84717161, 6.82267487, 4.9321688 ,\n",
       "        4.39051394, 4.29274057, 4.74910616, 4.53557931, 4.86586474,\n",
       "        4.53179042, 4.47475032, 3.09708578, 3.58541942, 3.28136156,\n",
       "        3.3969959 , 3.07763663, 2.18406034, 1.93186401, 0.94055999,\n",
       "        0.90123799, 0.65068286, 0.        ]])"
      ]
     },
     "execution_count": 13,
     "metadata": {},
     "output_type": "execute_result"
    }
   ],
   "source": [
    "mds.dissimilarity_matrix_"
   ]
  },
  {
   "cell_type": "code",
   "execution_count": 14,
   "metadata": {},
   "outputs": [
    {
     "data": {
      "text/plain": [
       "3.562167703051256"
      ]
     },
     "execution_count": 14,
     "metadata": {},
     "output_type": "execute_result"
    }
   ],
   "source": [
    "# 왜 소수점이 아니라 1 이상의 수가 나오지..?\n",
    "mds.stress_"
   ]
  },
  {
   "cell_type": "code",
   "execution_count": 17,
   "metadata": {},
   "outputs": [
    {
     "name": "stdout",
     "output_type": "stream",
     "text": [
      "3.562167703051256\n",
      "1.3508858017475125\n",
      "0.41607323037913435\n"
     ]
    },
    {
     "name": "stderr",
     "output_type": "stream",
     "text": [
      "c:\\Users\\admin\\anaconda3\\lib\\site-packages\\sklearn\\manifold\\_mds.py:299: FutureWarning: The default value of `normalized_stress` will change to `'auto'` in version 1.4. To suppress this warning, manually set the value of `normalized_stress`.\n",
      "  warnings.warn(\n",
      "c:\\Users\\admin\\anaconda3\\lib\\site-packages\\sklearn\\manifold\\_mds.py:299: FutureWarning: The default value of `normalized_stress` will change to `'auto'` in version 1.4. To suppress this warning, manually set the value of `normalized_stress`.\n",
      "  warnings.warn(\n",
      "c:\\Users\\admin\\anaconda3\\lib\\site-packages\\sklearn\\manifold\\_mds.py:299: FutureWarning: The default value of `normalized_stress` will change to `'auto'` in version 1.4. To suppress this warning, manually set the value of `normalized_stress`.\n",
      "  warnings.warn(\n"
     ]
    }
   ],
   "source": [
    "for i in range(2, 5):\n",
    "    mds = MDS(n_components=i, metric=True, random_state=0, dissimilarity='euclidean').fit(zauto)\n",
    "    print(mds.stress_)"
   ]
  },
  {
   "cell_type": "code",
   "execution_count": null,
   "metadata": {},
   "outputs": [],
   "source": []
  }
 ],
 "metadata": {
  "kernelspec": {
   "display_name": "base",
   "language": "python",
   "name": "python3"
  },
  "language_info": {
   "codemirror_mode": {
    "name": "ipython",
    "version": 3
   },
   "file_extension": ".py",
   "mimetype": "text/x-python",
   "name": "python",
   "nbconvert_exporter": "python",
   "pygments_lexer": "ipython3",
   "version": "3.10.9"
  },
  "orig_nbformat": 4
 },
 "nbformat": 4,
 "nbformat_minor": 2
}
