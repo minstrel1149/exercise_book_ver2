{
 "cells": [
  {
   "cell_type": "code",
   "execution_count": 1,
   "metadata": {},
   "outputs": [],
   "source": [
    "import pandas as pd\n",
    "import numpy as np\n",
    "import matplotlib.pyplot as plt\n",
    "import seaborn as sns\n",
    "from pathlib import Path\n",
    "import scipy.stats as ss\n",
    "import pingouin as pg"
   ]
  },
  {
   "cell_type": "code",
   "execution_count": 36,
   "metadata": {},
   "outputs": [],
   "source": [
    "from sklearn.linear_model import LogisticRegression\n",
    "from sklearn.model_selection import train_test_split\n",
    "from sklearn.metrics import ConfusionMatrixDisplay, classification_report\n",
    "from sklearn.preprocessing import StandardScaler\n",
    "import statsmodels.api as sma\n",
    "import statsmodels.formula.api as smfa"
   ]
  },
  {
   "cell_type": "code",
   "execution_count": 3,
   "metadata": {},
   "outputs": [
    {
     "data": {
      "text/html": [
       "<div>\n",
       "<style scoped>\n",
       "    .dataframe tbody tr th:only-of-type {\n",
       "        vertical-align: middle;\n",
       "    }\n",
       "\n",
       "    .dataframe tbody tr th {\n",
       "        vertical-align: top;\n",
       "    }\n",
       "\n",
       "    .dataframe thead th {\n",
       "        text-align: right;\n",
       "    }\n",
       "</style>\n",
       "<table border=\"1\" class=\"dataframe\">\n",
       "  <thead>\n",
       "    <tr style=\"text-align: right;\">\n",
       "      <th></th>\n",
       "      <th>income</th>\n",
       "      <th>size</th>\n",
       "    </tr>\n",
       "    <tr>\n",
       "      <th>owner</th>\n",
       "      <th></th>\n",
       "      <th></th>\n",
       "    </tr>\n",
       "  </thead>\n",
       "  <tbody>\n",
       "    <tr>\n",
       "      <th>yes</th>\n",
       "      <td>20.0</td>\n",
       "      <td>9.2</td>\n",
       "    </tr>\n",
       "    <tr>\n",
       "      <th>yes</th>\n",
       "      <td>28.5</td>\n",
       "      <td>8.4</td>\n",
       "    </tr>\n",
       "    <tr>\n",
       "      <th>yes</th>\n",
       "      <td>21.6</td>\n",
       "      <td>10.8</td>\n",
       "    </tr>\n",
       "    <tr>\n",
       "      <th>yes</th>\n",
       "      <td>20.5</td>\n",
       "      <td>10.4</td>\n",
       "    </tr>\n",
       "    <tr>\n",
       "      <th>yes</th>\n",
       "      <td>29.0</td>\n",
       "      <td>11.8</td>\n",
       "    </tr>\n",
       "  </tbody>\n",
       "</table>\n",
       "</div>"
      ],
      "text/plain": [
       "       income  size\n",
       "owner              \n",
       "yes      20.0   9.2\n",
       "yes      28.5   8.4\n",
       "yes      21.6  10.8\n",
       "yes      20.5  10.4\n",
       "yes      29.0  11.8"
      ]
     },
     "execution_count": 3,
     "metadata": {},
     "output_type": "execute_result"
    }
   ],
   "source": [
    "mower = pd.read_csv(Path.cwd() / 'data' / 'mower.csv', index_col=['owner'])\n",
    "mower.head()"
   ]
  },
  {
   "cell_type": "code",
   "execution_count": 4,
   "metadata": {},
   "outputs": [],
   "source": [
    "y = mower.index\n",
    "X = mower.values"
   ]
  },
  {
   "cell_type": "code",
   "execution_count": 5,
   "metadata": {},
   "outputs": [
    {
     "data": {
      "text/plain": [
       "((18, 2), (6, 2))"
      ]
     },
     "execution_count": 5,
     "metadata": {},
     "output_type": "execute_result"
    }
   ],
   "source": [
    "X_train, X_test, y_train, y_test = train_test_split(X, y, random_state=0)\n",
    "X_train.shape, X_test.shape"
   ]
  },
  {
   "cell_type": "code",
   "execution_count": 6,
   "metadata": {},
   "outputs": [],
   "source": [
    "clf = LogisticRegression(max_iter=1000, penalty='l2', solver='lbfgs').fit(X_train, y_train)\n",
    "y_hat = clf.predict(X_test)"
   ]
  },
  {
   "cell_type": "code",
   "execution_count": 7,
   "metadata": {},
   "outputs": [
    {
     "data": {
      "text/plain": [
       "array([ True, False,  True,  True,  True, False])"
      ]
     },
     "execution_count": 7,
     "metadata": {},
     "output_type": "execute_result"
    }
   ],
   "source": [
    "y_hat == y_test"
   ]
  },
  {
   "cell_type": "code",
   "execution_count": 8,
   "metadata": {},
   "outputs": [
    {
     "data": {
      "text/plain": [
       "(array([[0.23527645, 1.05912327]]), array([-15.70074138]))"
      ]
     },
     "execution_count": 8,
     "metadata": {},
     "output_type": "execute_result"
    }
   ],
   "source": [
    "clf.coef_, clf.intercept_"
   ]
  },
  {
   "cell_type": "code",
   "execution_count": 9,
   "metadata": {},
   "outputs": [
    {
     "data": {
      "text/plain": [
       "array([[ 1.2429556 ],\n",
       "       [-0.05068567],\n",
       "       [-4.28717875],\n",
       "       [-1.51030983],\n",
       "       [-3.29856257],\n",
       "       [-0.09872695]])"
      ]
     },
     "execution_count": 9,
     "metadata": {},
     "output_type": "execute_result"
    }
   ],
   "source": [
    "logodds = np.dot(X_test, clf.coef_.T) + clf.intercept_\n",
    "logodds"
   ]
  },
  {
   "cell_type": "code",
   "execution_count": 10,
   "metadata": {},
   "outputs": [],
   "source": [
    "def prob(logodds):\n",
    "    odds = np.exp(logodds)\n",
    "    prob = odds / (1 + odds)\n",
    "    return prob"
   ]
  },
  {
   "cell_type": "code",
   "execution_count": 11,
   "metadata": {},
   "outputs": [
    {
     "data": {
      "text/plain": [
       "array([[0.77608],\n",
       "       [0.48733],\n",
       "       [0.01356],\n",
       "       [0.18089],\n",
       "       [0.03562],\n",
       "       [0.47534]])"
      ]
     },
     "execution_count": 11,
     "metadata": {},
     "output_type": "execute_result"
    }
   ],
   "source": [
    "prob(logodds).round(5)"
   ]
  },
  {
   "cell_type": "code",
   "execution_count": 12,
   "metadata": {},
   "outputs": [
    {
     "data": {
      "text/plain": [
       "array([0.77608, 0.48733, 0.01356, 0.18089, 0.03562, 0.47534])"
      ]
     },
     "execution_count": 12,
     "metadata": {},
     "output_type": "execute_result"
    }
   ],
   "source": [
    "y_proba = clf.predict_proba(X_test)[:, 1].round(5)\n",
    "y_proba"
   ]
  },
  {
   "cell_type": "code",
   "execution_count": 13,
   "metadata": {},
   "outputs": [
    {
     "data": {
      "text/plain": [
       "<sklearn.metrics._plot.confusion_matrix.ConfusionMatrixDisplay at 0x1e6ecac3d90>"
      ]
     },
     "execution_count": 13,
     "metadata": {},
     "output_type": "execute_result"
    },
    {
     "data": {
      "image/png": "[encoded data removed]",
      "text/plain": [
       "<Figure size 432x288 with 2 Axes>"
      ]
     },
     "metadata": {
      "needs_background": "light"
     },
     "output_type": "display_data"
    }
   ],
   "source": [
    "ConfusionMatrixDisplay.from_predictions(y_test, y_hat)"
   ]
  },
  {
   "cell_type": "code",
   "execution_count": 14,
   "metadata": {},
   "outputs": [
    {
     "name": "stdout",
     "output_type": "stream",
     "text": [
      "              precision    recall  f1-score   support\n",
      "\n",
      "          no       0.60      1.00      0.75         3\n",
      "         yes       1.00      0.33      0.50         3\n",
      "\n",
      "    accuracy                           0.67         6\n",
      "   macro avg       0.80      0.67      0.62         6\n",
      "weighted avg       0.80      0.67      0.62         6\n",
      "\n"
     ]
    }
   ],
   "source": [
    "print(classification_report(y_test, y_hat))"
   ]
  },
  {
   "cell_type": "code",
   "execution_count": 15,
   "metadata": {},
   "outputs": [
    {
     "data": {
      "text/plain": [
       "(array([[ 1. , 17.6, 10.4],\n",
       "        [ 1. , 21. ,  7.4],\n",
       "        [ 1. , 28. ,  8.8],\n",
       "        [ 1. , 23. , 10. ],\n",
       "        [ 1. , 36. ,  8.8],\n",
       "        [ 1. , 16.4,  8.8],\n",
       "        [ 1. , 29. , 11.8],\n",
       "        [ 1. , 21.6, 10.8],\n",
       "        [ 1. , 36.7,  9.6],\n",
       "        [ 1. , 19.8,  8. ],\n",
       "        [ 1. , 31. , 10.4],\n",
       "        [ 1. , 27.6, 11.2],\n",
       "        [ 1. , 22. ,  9.2],\n",
       "        [ 1. , 20.5, 10.4],\n",
       "        [ 1. , 20. ,  9.2],\n",
       "        [ 1. , 11. ,  9.4],\n",
       "        [ 1. , 14.4, 10.2],\n",
       "        [ 1. , 25. ,  9.8]]),\n",
       " Index(['no', 'no', 'no', 'yes', 'yes', 'no', 'yes', 'yes', 'yes', 'no', 'yes',\n",
       "        'yes', 'no', 'yes', 'yes', 'no', 'no', 'no'],\n",
       "       dtype='object', name='owner'))"
      ]
     },
     "execution_count": 15,
     "metadata": {},
     "output_type": "execute_result"
    }
   ],
   "source": [
    "aX_train = sma.add_constant(X_train)\n",
    "ay_train = y_train.copy()\n",
    "aX_train, ay_train"
   ]
  },
  {
   "cell_type": "code",
   "execution_count": 16,
   "metadata": {},
   "outputs": [
    {
     "data": {
      "text/plain": [
       "[0, 0, 0, 0, 0, 0, 0, 0, 0, 0, 0, 0, 0, 0, 0, 0, 0, 0]"
      ]
     },
     "execution_count": 16,
     "metadata": {},
     "output_type": "execute_result"
    }
   ],
   "source": [
    "iy = [0] * len(ay_train)\n",
    "iy"
   ]
  },
  {
   "cell_type": "code",
   "execution_count": 17,
   "metadata": {},
   "outputs": [],
   "source": [
    "for i in range(len(ay_train)):\n",
    "    if (ay_train[i] == 'yes'):\n",
    "        iy[i] =1\n",
    "    else:\n",
    "        iy[i] = 0"
   ]
  },
  {
   "cell_type": "code",
   "execution_count": 18,
   "metadata": {},
   "outputs": [
    {
     "data": {
      "text/plain": [
       "[0, 0, 0, 1, 1, 0, 1, 1, 1, 0, 1, 1, 0, 1, 1, 0, 0, 0]"
      ]
     },
     "execution_count": 18,
     "metadata": {},
     "output_type": "execute_result"
    }
   ],
   "source": [
    "iy"
   ]
  },
  {
   "cell_type": "code",
   "execution_count": 19,
   "metadata": {},
   "outputs": [
    {
     "name": "stdout",
     "output_type": "stream",
     "text": [
      "Optimization terminated successfully.\n",
      "         Current function value: 0.333991\n",
      "         Iterations 8\n"
     ]
    },
    {
     "data": {
      "text/plain": [
       "array([-26.83840235,   0.28986683,   2.07193934])"
      ]
     },
     "execution_count": 19,
     "metadata": {},
     "output_type": "execute_result"
    }
   ],
   "source": [
    "mower_sm = sma.Logit(iy, aX_train).fit()\n",
    "mower_sm.params"
   ]
  },
  {
   "cell_type": "code",
   "execution_count": 20,
   "metadata": {},
   "outputs": [
    {
     "data": {
      "text/plain": [
       "array([8.46498153e-01, 7.06960307e-01, 6.06565621e-04, 5.96027581e-02,\n",
       "       5.12440192e-03, 2.36329883e-01])"
      ]
     },
     "execution_count": 20,
     "metadata": {},
     "output_type": "execute_result"
    }
   ],
   "source": [
    "mower_sm.predict(sma.add_constant(X_test))"
   ]
  },
  {
   "cell_type": "code",
   "execution_count": 21,
   "metadata": {},
   "outputs": [
    {
     "data": {
      "text/html": [
       "<table class=\"simpletable\">\n",
       "<caption>Logit Regression Results</caption>\n",
       "<tr>\n",
       "  <th>Dep. Variable:</th>           <td>y</td>        <th>  No. Observations:  </th>  <td>    18</td> \n",
       "</tr>\n",
       "<tr>\n",
       "  <th>Model:</th>                 <td>Logit</td>      <th>  Df Residuals:      </th>  <td>    15</td> \n",
       "</tr>\n",
       "<tr>\n",
       "  <th>Method:</th>                 <td>MLE</td>       <th>  Df Model:          </th>  <td>     2</td> \n",
       "</tr>\n",
       "<tr>\n",
       "  <th>Date:</th>            <td>Sat, 22 Jul 2023</td> <th>  Pseudo R-squ.:     </th>  <td>0.5182</td> \n",
       "</tr>\n",
       "<tr>\n",
       "  <th>Time:</th>                <td>17:44:37</td>     <th>  Log-Likelihood:    </th> <td> -6.0118</td>\n",
       "</tr>\n",
       "<tr>\n",
       "  <th>converged:</th>             <td>True</td>       <th>  LL-Null:           </th> <td> -12.477</td>\n",
       "</tr>\n",
       "<tr>\n",
       "  <th>Covariance Type:</th>     <td>nonrobust</td>    <th>  LLR p-value:       </th> <td>0.001557</td>\n",
       "</tr>\n",
       "</table>\n",
       "<table class=\"simpletable\">\n",
       "<tr>\n",
       "    <td></td>       <th>coef</th>     <th>std err</th>      <th>z</th>      <th>P>|z|</th>  <th>[0.025</th>    <th>0.975]</th>  \n",
       "</tr>\n",
       "<tr>\n",
       "  <th>const</th> <td>  -26.8384</td> <td>   14.408</td> <td>   -1.863</td> <td> 0.063</td> <td>  -55.078</td> <td>    1.402</td>\n",
       "</tr>\n",
       "<tr>\n",
       "  <th>x1</th>    <td>    0.2899</td> <td>    0.156</td> <td>    1.855</td> <td> 0.064</td> <td>   -0.016</td> <td>    0.596</td>\n",
       "</tr>\n",
       "<tr>\n",
       "  <th>x2</th>    <td>    2.0719</td> <td>    1.244</td> <td>    1.665</td> <td> 0.096</td> <td>   -0.367</td> <td>    4.511</td>\n",
       "</tr>\n",
       "</table>"
      ],
      "text/plain": [
       "<class 'statsmodels.iolib.summary.Summary'>\n",
       "\"\"\"\n",
       "                           Logit Regression Results                           \n",
       "==============================================================================\n",
       "Dep. Variable:                      y   No. Observations:                   18\n",
       "Model:                          Logit   Df Residuals:                       15\n",
       "Method:                           MLE   Df Model:                            2\n",
       "Date:                Sat, 22 Jul 2023   Pseudo R-squ.:                  0.5182\n",
       "Time:                        17:44:37   Log-Likelihood:                -6.0118\n",
       "converged:                       True   LL-Null:                       -12.477\n",
       "Covariance Type:            nonrobust   LLR p-value:                  0.001557\n",
       "==============================================================================\n",
       "                 coef    std err          z      P>|z|      [0.025      0.975]\n",
       "------------------------------------------------------------------------------\n",
       "const        -26.8384     14.408     -1.863      0.063     -55.078       1.402\n",
       "x1             0.2899      0.156      1.855      0.064      -0.016       0.596\n",
       "x2             2.0719      1.244      1.665      0.096      -0.367       4.511\n",
       "==============================================================================\n",
       "\"\"\""
      ]
     },
     "execution_count": 21,
     "metadata": {},
     "output_type": "execute_result"
    }
   ],
   "source": [
    "mower_sm.summary()"
   ]
  },
  {
   "cell_type": "code",
   "execution_count": 28,
   "metadata": {},
   "outputs": [
    {
     "data": {
      "text/plain": [
       "(array([[-0.85047462,  0.67038815],\n",
       "        [-0.34903871, -2.11430109],\n",
       "        [ 0.68332932, -0.81477945],\n",
       "        [-0.05407642,  0.29909625],\n",
       "        [ 1.86317849, -0.81477945],\n",
       "        [-1.02745199, -0.81477945],\n",
       "        [ 0.83081046,  1.9699098 ],\n",
       "        [-0.26055003,  1.04168005],\n",
       "        [ 1.9664153 , -0.07219565],\n",
       "        [-0.52601609, -1.55736325],\n",
       "        [ 1.12577276,  0.67038815],\n",
       "        [ 0.62433686,  1.41297195],\n",
       "        [-0.20155757, -0.44348755],\n",
       "        [-0.42277929,  0.67038815],\n",
       "        [-0.49651986, -0.44348755],\n",
       "        [-1.82385019, -0.2578416 ],\n",
       "        [-1.32241429,  0.4847422 ],\n",
       "        [ 0.24088587,  0.1134503 ]]),\n",
       " array([[ 0.53584817,  0.29909625],\n",
       "        [-0.9389633 ,  1.227326  ],\n",
       "        [-0.9389633 , -2.48559299],\n",
       "        [-0.26055003, -1.0004254 ],\n",
       "        [-1.11594068, -1.3717173 ],\n",
       "        [ 0.75706989, -1.18607135]]))"
      ]
     },
     "execution_count": 28,
     "metadata": {},
     "output_type": "execute_result"
    }
   ],
   "source": [
    "scaler = StandardScaler().fit(X_train)\n",
    "X_train_sc = scaler.transform(X_train)\n",
    "X_test_sc = scaler.transform(X_test)\n",
    "X_train_sc, X_test_sc"
   ]
  },
  {
   "cell_type": "code",
   "execution_count": 30,
   "metadata": {},
   "outputs": [
    {
     "data": {
      "text/plain": [
       "<sklearn.metrics._plot.confusion_matrix.ConfusionMatrixDisplay at 0x1e6eed0e7d0>"
      ]
     },
     "execution_count": 30,
     "metadata": {},
     "output_type": "execute_result"
    },
    {
     "data": {
      "image/png": "[encoded data removed]",
      "text/plain": [
       "<Figure size 432x288 with 2 Axes>"
      ]
     },
     "metadata": {
      "needs_background": "light"
     },
     "output_type": "display_data"
    }
   ],
   "source": [
    "logreg = LogisticRegression(max_iter=1000, penalty='l1', solver='liblinear').fit(X_train_sc, y_train)\n",
    "ConfusionMatrixDisplay.from_estimator(logreg, X_test_sc, y_test)"
   ]
  },
  {
   "cell_type": "code",
   "execution_count": 31,
   "metadata": {},
   "outputs": [
    {
     "data": {
      "text/plain": [
       "array([[1.08227806, 1.04986481]])"
      ]
     },
     "execution_count": 31,
     "metadata": {},
     "output_type": "execute_result"
    }
   ],
   "source": [
    "logreg.coef_"
   ]
  },
  {
   "cell_type": "code",
   "execution_count": 35,
   "metadata": {},
   "outputs": [
    {
     "data": {
      "text/plain": [
       "(array([[0.29029591, 0.70970409],\n",
       "        [0.43234082, 0.56765918],\n",
       "        [0.97406175, 0.02593825],\n",
       "        [0.79122066, 0.20877934],\n",
       "        [0.93387995, 0.06612005],\n",
       "        [0.60488331, 0.39511669]]),\n",
       " Index(['yes', 'yes', 'no', 'no', 'no', 'yes'], dtype='object', name='owner'))"
      ]
     },
     "execution_count": 35,
     "metadata": {},
     "output_type": "execute_result"
    }
   ],
   "source": [
    "logreg.predict_proba(X_test_sc), y_test"
   ]
  },
  {
   "cell_type": "code",
   "execution_count": 46,
   "metadata": {},
   "outputs": [
    {
     "data": {
      "text/html": [
       "<div>\n",
       "<style scoped>\n",
       "    .dataframe tbody tr th:only-of-type {\n",
       "        vertical-align: middle;\n",
       "    }\n",
       "\n",
       "    .dataframe tbody tr th {\n",
       "        vertical-align: top;\n",
       "    }\n",
       "\n",
       "    .dataframe thead th {\n",
       "        text-align: right;\n",
       "    }\n",
       "</style>\n",
       "<table border=\"1\" class=\"dataframe\">\n",
       "  <thead>\n",
       "    <tr style=\"text-align: right;\">\n",
       "      <th></th>\n",
       "      <th>owner</th>\n",
       "      <th>income</th>\n",
       "      <th>size</th>\n",
       "      <th>owner2</th>\n",
       "    </tr>\n",
       "  </thead>\n",
       "  <tbody>\n",
       "    <tr>\n",
       "      <th>0</th>\n",
       "      <td>yes</td>\n",
       "      <td>20.0</td>\n",
       "      <td>9.2</td>\n",
       "      <td>1</td>\n",
       "    </tr>\n",
       "    <tr>\n",
       "      <th>1</th>\n",
       "      <td>yes</td>\n",
       "      <td>28.5</td>\n",
       "      <td>8.4</td>\n",
       "      <td>1</td>\n",
       "    </tr>\n",
       "    <tr>\n",
       "      <th>2</th>\n",
       "      <td>yes</td>\n",
       "      <td>21.6</td>\n",
       "      <td>10.8</td>\n",
       "      <td>1</td>\n",
       "    </tr>\n",
       "    <tr>\n",
       "      <th>3</th>\n",
       "      <td>yes</td>\n",
       "      <td>20.5</td>\n",
       "      <td>10.4</td>\n",
       "      <td>1</td>\n",
       "    </tr>\n",
       "    <tr>\n",
       "      <th>4</th>\n",
       "      <td>yes</td>\n",
       "      <td>29.0</td>\n",
       "      <td>11.8</td>\n",
       "      <td>1</td>\n",
       "    </tr>\n",
       "  </tbody>\n",
       "</table>\n",
       "</div>"
      ],
      "text/plain": [
       "  owner  income  size  owner2\n",
       "0   yes    20.0   9.2       1\n",
       "1   yes    28.5   8.4       1\n",
       "2   yes    21.6  10.8       1\n",
       "3   yes    20.5  10.4       1\n",
       "4   yes    29.0  11.8       1"
      ]
     },
     "execution_count": 46,
     "metadata": {},
     "output_type": "execute_result"
    }
   ],
   "source": [
    "mower_reset = mower.reset_index()\n",
    "mower_reset = mower_reset.assign(owner2=lambda df: df['owner'].replace({'yes':1, 'no':0}))\n",
    "mower_reset.head()"
   ]
  },
  {
   "cell_type": "code",
   "execution_count": 52,
   "metadata": {},
   "outputs": [
    {
     "name": "stdout",
     "output_type": "stream",
     "text": [
      "Optimization terminated successfully.\n",
      "         Current function value: 0.319235\n",
      "         Iterations 8\n"
     ]
    },
    {
     "data": {
      "text/html": [
       "<table class=\"simpletable\">\n",
       "<caption>Logit Regression Results</caption>\n",
       "<tr>\n",
       "  <th>Dep. Variable:</th>        <td>owner2</td>      <th>  No. Observations:  </th>  <td>    24</td>  \n",
       "</tr>\n",
       "<tr>\n",
       "  <th>Model:</th>                 <td>Logit</td>      <th>  Df Residuals:      </th>  <td>    21</td>  \n",
       "</tr>\n",
       "<tr>\n",
       "  <th>Method:</th>                 <td>MLE</td>       <th>  Df Model:          </th>  <td>     2</td>  \n",
       "</tr>\n",
       "<tr>\n",
       "  <th>Date:</th>            <td>Sat, 22 Jul 2023</td> <th>  Pseudo R-squ.:     </th>  <td>0.5394</td>  \n",
       "</tr>\n",
       "<tr>\n",
       "  <th>Time:</th>                <td>18:06:19</td>     <th>  Log-Likelihood:    </th> <td> -7.6616</td> \n",
       "</tr>\n",
       "<tr>\n",
       "  <th>converged:</th>             <td>True</td>       <th>  LL-Null:           </th> <td> -16.636</td> \n",
       "</tr>\n",
       "<tr>\n",
       "  <th>Covariance Type:</th>     <td>nonrobust</td>    <th>  LLR p-value:       </th> <td>0.0001267</td>\n",
       "</tr>\n",
       "</table>\n",
       "<table class=\"simpletable\">\n",
       "<tr>\n",
       "      <td></td>         <th>coef</th>     <th>std err</th>      <th>z</th>      <th>P>|z|</th>  <th>[0.025</th>    <th>0.975]</th>  \n",
       "</tr>\n",
       "<tr>\n",
       "  <th>Intercept</th> <td>  -25.9382</td> <td>   11.487</td> <td>   -2.258</td> <td> 0.024</td> <td>  -48.453</td> <td>   -3.423</td>\n",
       "</tr>\n",
       "<tr>\n",
       "  <th>income</th>    <td>    0.3326</td> <td>    0.163</td> <td>    2.042</td> <td> 0.041</td> <td>    0.013</td> <td>    0.652</td>\n",
       "</tr>\n",
       "<tr>\n",
       "  <th>size</th>      <td>    1.9276</td> <td>    0.926</td> <td>    2.083</td> <td> 0.037</td> <td>    0.113</td> <td>    3.742</td>\n",
       "</tr>\n",
       "</table>"
      ],
      "text/plain": [
       "<class 'statsmodels.iolib.summary.Summary'>\n",
       "\"\"\"\n",
       "                           Logit Regression Results                           \n",
       "==============================================================================\n",
       "Dep. Variable:                 owner2   No. Observations:                   24\n",
       "Model:                          Logit   Df Residuals:                       21\n",
       "Method:                           MLE   Df Model:                            2\n",
       "Date:                Sat, 22 Jul 2023   Pseudo R-squ.:                  0.5394\n",
       "Time:                        18:06:19   Log-Likelihood:                -7.6616\n",
       "converged:                       True   LL-Null:                       -16.636\n",
       "Covariance Type:            nonrobust   LLR p-value:                 0.0001267\n",
       "==============================================================================\n",
       "                 coef    std err          z      P>|z|      [0.025      0.975]\n",
       "------------------------------------------------------------------------------\n",
       "Intercept    -25.9382     11.487     -2.258      0.024     -48.453      -3.423\n",
       "income         0.3326      0.163      2.042      0.041       0.013       0.652\n",
       "size           1.9276      0.926      2.083      0.037       0.113       3.742\n",
       "==============================================================================\n",
       "\"\"\""
      ]
     },
     "execution_count": 52,
     "metadata": {},
     "output_type": "execute_result"
    }
   ],
   "source": [
    "formula = 'owner2 ~ income + size'\n",
    "model = smfa.logit(formula, data=mower_reset).fit()\n",
    "model.summary()"
   ]
  },
  {
   "cell_type": "code",
   "execution_count": null,
   "metadata": {},
   "outputs": [],
   "source": []
  }
 ],
 "metadata": {
  "kernelspec": {
   "display_name": "base",
   "language": "python",
   "name": "python3"
  },
  "language_info": {
   "codemirror_mode": {
    "name": "ipython",
    "version": 3
   },
   "file_extension": ".py",
   "mimetype": "text/x-python",
   "name": "python",
   "nbconvert_exporter": "python",
   "pygments_lexer": "ipython3",
   "version": "3.10.9"
  },
  "orig_nbformat": 4
 },
 "nbformat": 4,
 "nbformat_minor": 2
}
