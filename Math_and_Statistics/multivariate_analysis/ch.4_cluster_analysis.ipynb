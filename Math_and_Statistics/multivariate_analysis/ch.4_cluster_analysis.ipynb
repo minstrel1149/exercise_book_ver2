{
 "cells": [
  {
   "cell_type": "code",
   "execution_count": 1,
   "metadata": {},
   "outputs": [],
   "source": [
    "import pandas as pd\n",
    "import numpy as np\n",
    "import matplotlib.pyplot as plt\n",
    "import seaborn as sns\n",
    "from pathlib import Path\n",
    "import scipy.stats as ss\n",
    "import pingouin as pg"
   ]
  },
  {
   "cell_type": "code",
   "execution_count": 2,
   "metadata": {},
   "outputs": [],
   "source": [
    "from sklearn.preprocessing import StandardScaler\n",
    "from sklearn.cluster import AgglomerativeClustering, KMeans\n",
    "import scipy.cluster.hierarchy as sch"
   ]
  },
  {
   "cell_type": "code",
   "execution_count": 3,
   "metadata": {},
   "outputs": [
    {
     "data": {
      "text/html": [
       "<div>\n",
       "<style scoped>\n",
       "    .dataframe tbody tr th:only-of-type {\n",
       "        vertical-align: middle;\n",
       "    }\n",
       "\n",
       "    .dataframe tbody tr th {\n",
       "        vertical-align: top;\n",
       "    }\n",
       "\n",
       "    .dataframe thead th {\n",
       "        text-align: right;\n",
       "    }\n",
       "</style>\n",
       "<table border=\"1\" class=\"dataframe\">\n",
       "  <thead>\n",
       "    <tr style=\"text-align: right;\">\n",
       "      <th></th>\n",
       "      <th>calories</th>\n",
       "      <th>sodium</th>\n",
       "      <th>alcohol</th>\n",
       "      <th>cost</th>\n",
       "    </tr>\n",
       "    <tr>\n",
       "      <th>name</th>\n",
       "      <th></th>\n",
       "      <th></th>\n",
       "      <th></th>\n",
       "      <th></th>\n",
       "    </tr>\n",
       "  </thead>\n",
       "  <tbody>\n",
       "    <tr>\n",
       "      <th>BUDWEISER</th>\n",
       "      <td>144</td>\n",
       "      <td>15</td>\n",
       "      <td>4.7</td>\n",
       "      <td>0.43</td>\n",
       "    </tr>\n",
       "    <tr>\n",
       "      <th>SCHLITZ</th>\n",
       "      <td>151</td>\n",
       "      <td>19</td>\n",
       "      <td>4.9</td>\n",
       "      <td>0.43</td>\n",
       "    </tr>\n",
       "    <tr>\n",
       "      <th>LOWENBRAU</th>\n",
       "      <td>157</td>\n",
       "      <td>15</td>\n",
       "      <td>4.9</td>\n",
       "      <td>0.48</td>\n",
       "    </tr>\n",
       "    <tr>\n",
       "      <th>KRONENBOURG</th>\n",
       "      <td>170</td>\n",
       "      <td>7</td>\n",
       "      <td>5.2</td>\n",
       "      <td>0.73</td>\n",
       "    </tr>\n",
       "    <tr>\n",
       "      <th>HEINEKEN</th>\n",
       "      <td>152</td>\n",
       "      <td>11</td>\n",
       "      <td>5.0</td>\n",
       "      <td>0.77</td>\n",
       "    </tr>\n",
       "  </tbody>\n",
       "</table>\n",
       "</div>"
      ],
      "text/plain": [
       "             calories  sodium  alcohol  cost\n",
       "name                                        \n",
       "BUDWEISER         144      15      4.7  0.43\n",
       "SCHLITZ           151      19      4.9  0.43\n",
       "LOWENBRAU         157      15      4.9  0.48\n",
       "KRONENBOURG       170       7      5.2  0.73\n",
       "HEINEKEN          152      11      5.0  0.77"
      ]
     },
     "execution_count": 3,
     "metadata": {},
     "output_type": "execute_result"
    }
   ],
   "source": [
    "beer = pd.read_csv(Path.cwd() / 'data' / 'beerbrand.csv', index_col='name')\n",
    "beer.head()"
   ]
  },
  {
   "cell_type": "code",
   "execution_count": 4,
   "metadata": {},
   "outputs": [
    {
     "data": {
      "text/html": [
       "<div>\n",
       "<style scoped>\n",
       "    .dataframe tbody tr th:only-of-type {\n",
       "        vertical-align: middle;\n",
       "    }\n",
       "\n",
       "    .dataframe tbody tr th {\n",
       "        vertical-align: top;\n",
       "    }\n",
       "\n",
       "    .dataframe thead th {\n",
       "        text-align: right;\n",
       "    }\n",
       "</style>\n",
       "<table border=\"1\" class=\"dataframe\">\n",
       "  <thead>\n",
       "    <tr style=\"text-align: right;\">\n",
       "      <th></th>\n",
       "      <th>calories</th>\n",
       "      <th>sodium</th>\n",
       "      <th>alcohol</th>\n",
       "      <th>cost</th>\n",
       "    </tr>\n",
       "  </thead>\n",
       "  <tbody>\n",
       "    <tr>\n",
       "      <th>count</th>\n",
       "      <td>20.000000</td>\n",
       "      <td>20.000000</td>\n",
       "      <td>20.000000</td>\n",
       "      <td>20.000000</td>\n",
       "    </tr>\n",
       "    <tr>\n",
       "      <th>mean</th>\n",
       "      <td>132.400000</td>\n",
       "      <td>14.950000</td>\n",
       "      <td>4.440000</td>\n",
       "      <td>0.496500</td>\n",
       "    </tr>\n",
       "    <tr>\n",
       "      <th>std</th>\n",
       "      <td>30.257491</td>\n",
       "      <td>6.581273</td>\n",
       "      <td>0.759778</td>\n",
       "      <td>0.143757</td>\n",
       "    </tr>\n",
       "    <tr>\n",
       "      <th>min</th>\n",
       "      <td>68.000000</td>\n",
       "      <td>6.000000</td>\n",
       "      <td>2.300000</td>\n",
       "      <td>0.280000</td>\n",
       "    </tr>\n",
       "    <tr>\n",
       "      <th>25%</th>\n",
       "      <td>110.250000</td>\n",
       "      <td>9.500000</td>\n",
       "      <td>4.200000</td>\n",
       "      <td>0.430000</td>\n",
       "    </tr>\n",
       "    <tr>\n",
       "      <th>50%</th>\n",
       "      <td>144.000000</td>\n",
       "      <td>15.000000</td>\n",
       "      <td>4.650000</td>\n",
       "      <td>0.440000</td>\n",
       "    </tr>\n",
       "    <tr>\n",
       "      <th>75%</th>\n",
       "      <td>150.250000</td>\n",
       "      <td>19.000000</td>\n",
       "      <td>4.900000</td>\n",
       "      <td>0.485000</td>\n",
       "    </tr>\n",
       "    <tr>\n",
       "      <th>max</th>\n",
       "      <td>175.000000</td>\n",
       "      <td>27.000000</td>\n",
       "      <td>5.500000</td>\n",
       "      <td>0.790000</td>\n",
       "    </tr>\n",
       "  </tbody>\n",
       "</table>\n",
       "</div>"
      ],
      "text/plain": [
       "         calories     sodium    alcohol       cost\n",
       "count   20.000000  20.000000  20.000000  20.000000\n",
       "mean   132.400000  14.950000   4.440000   0.496500\n",
       "std     30.257491   6.581273   0.759778   0.143757\n",
       "min     68.000000   6.000000   2.300000   0.280000\n",
       "25%    110.250000   9.500000   4.200000   0.430000\n",
       "50%    144.000000  15.000000   4.650000   0.440000\n",
       "75%    150.250000  19.000000   4.900000   0.485000\n",
       "max    175.000000  27.000000   5.500000   0.790000"
      ]
     },
     "execution_count": 4,
     "metadata": {},
     "output_type": "execute_result"
    }
   ],
   "source": [
    "beer.describe()"
   ]
  },
  {
   "cell_type": "code",
   "execution_count": 5,
   "metadata": {},
   "outputs": [
    {
     "data": {
      "text/plain": [
       "array([[ 0.39333561,  0.00779468,  0.35109498, -0.47460365],\n",
       "       [ 0.63069331,  0.63136906,  0.62116805, -0.47460365],\n",
       "       [ 0.83414276,  0.00779468,  0.62116805, -0.1177588 ],\n",
       "       [ 1.27494991, -1.23935408,  1.02627765,  1.66646546],\n",
       "       [ 0.66460155, -0.6157797 ,  0.75620458,  1.95194134],\n",
       "       [ 0.42724385,  1.25494344,  0.21605845, -1.54513821],\n",
       "       [ 1.44449112,  1.41083704,  1.43138724, -0.68871056],\n",
       "       [ 0.56287682,  1.87851782,  0.35109498, -0.54597262],\n",
       "       [-1.13253529, -0.7716733 , -0.18905115, -0.47460365],\n",
       "       [-0.6578199 , -1.08346049, -0.99927034, -0.40323468],\n",
       "       [ 0.25770264,  0.47547547,  0.21605845, -0.40323468],\n",
       "       [-1.03081057,  0.00779468, -0.45912421, -0.26049674],\n",
       "       [ 0.08816143, -0.6157797 , -0.32408768,  0.02497914],\n",
       "       [ 0.59678506,  0.63136906,  0.35109498,  1.88057237],\n",
       "       [ 0.56287682, -1.39524768,  0.75620458,  2.09467928],\n",
       "       [-2.1836908 ,  0.00779468, -2.88978179, -0.83144851],\n",
       "       [ 0.12206967,  0.63136906, -0.05401461, -0.47460365],\n",
       "       [ 0.39333561,  1.41083704,  0.62116805, -0.47460365],\n",
       "       [-2.04805784, -1.39524768, -2.0795626 , -0.26049674],\n",
       "       [-1.20035178, -1.23935408, -0.32408768, -0.18912777]])"
      ]
     },
     "execution_count": 5,
     "metadata": {},
     "output_type": "execute_result"
    }
   ],
   "source": [
    "scaler = StandardScaler()\n",
    "zbeer = scaler.fit_transform(beer)\n",
    "zbeer"
   ]
  },
  {
   "cell_type": "code",
   "execution_count": 6,
   "metadata": {},
   "outputs": [
    {
     "data": {
      "text/plain": [
       "array([[10.        , 16.        ,  0.34746526,  2.        ],\n",
       "       [ 0.        , 20.        ,  0.51034304,  3.        ],\n",
       "       [ 8.        , 19.        ,  0.56837992,  2.        ],\n",
       "       [ 7.        , 17.        ,  0.57052829,  2.        ],\n",
       "       [ 1.        , 21.        ,  0.57674272,  4.        ],\n",
       "       [ 2.        , 24.        ,  0.62816292,  5.        ],\n",
       "       [ 4.        , 14.        ,  0.79893202,  2.        ],\n",
       "       [23.        , 25.        ,  0.81480611,  7.        ],\n",
       "       [11.        , 22.        ,  0.85831199,  3.        ],\n",
       "       [ 3.        , 26.        ,  0.88750067,  3.        ],\n",
       "       [ 9.        , 28.        ,  0.90573564,  4.        ],\n",
       "       [12.        , 27.        ,  1.08969302,  8.        ],\n",
       "       [ 5.        , 31.        ,  1.15568621,  9.        ],\n",
       "       [30.        , 32.        ,  1.18930743, 13.        ],\n",
       "       [13.        , 29.        ,  1.31498533,  4.        ],\n",
       "       [ 6.        , 33.        ,  1.34433062, 14.        ],\n",
       "       [15.        , 18.        ,  1.72318462,  2.        ],\n",
       "       [35.        , 36.        ,  1.79370517, 16.        ],\n",
       "       [34.        , 37.        ,  2.12401757, 20.        ]])"
      ]
     },
     "execution_count": 6,
     "metadata": {},
     "output_type": "execute_result"
    }
   ],
   "source": [
    "slink = sch.linkage(zbeer, method='single')\n",
    "slink"
   ]
  },
  {
   "cell_type": "code",
   "execution_count": 7,
   "metadata": {},
   "outputs": [
    {
     "data": {
      "image/png": "[encoded data removed]",
      "text/plain": [
       "<Figure size 1080x216 with 1 Axes>"
      ]
     },
     "metadata": {
      "needs_background": "light"
     },
     "output_type": "display_data"
    }
   ],
   "source": [
    "plt.figure(figsize=(15, 3))\n",
    "sch.dendrogram(slink, leaf_font_size=10, leaf_rotation=90, labels=beer.index)\n",
    "plt.show()"
   ]
  },
  {
   "cell_type": "code",
   "execution_count": 8,
   "metadata": {},
   "outputs": [
    {
     "data": {
      "text/plain": [
       "array([[10.        , 16.        ,  0.34746526,  2.        ],\n",
       "       [ 8.        , 19.        ,  0.56837992,  2.        ],\n",
       "       [ 7.        , 17.        ,  0.57052829,  2.        ],\n",
       "       [ 0.        ,  2.        ,  0.62816292,  2.        ],\n",
       "       [ 1.        , 23.        ,  0.7652467 ,  3.        ],\n",
       "       [ 4.        , 14.        ,  0.79893202,  2.        ],\n",
       "       [ 3.        , 25.        ,  0.96066551,  3.        ],\n",
       "       [ 9.        , 21.        ,  1.04656384,  3.        ],\n",
       "       [20.        , 24.        ,  1.10428769,  5.        ],\n",
       "       [11.        , 27.        ,  1.28005237,  4.        ],\n",
       "       [ 5.        , 22.        ,  1.31571714,  3.        ],\n",
       "       [12.        , 29.        ,  1.48375985,  5.        ],\n",
       "       [15.        , 18.        ,  1.72318462,  2.        ],\n",
       "       [ 6.        , 30.        ,  1.76520247,  4.        ],\n",
       "       [13.        , 26.        ,  2.20546003,  4.        ],\n",
       "       [28.        , 33.        ,  2.69569365,  9.        ],\n",
       "       [31.        , 32.        ,  4.12425205,  7.        ],\n",
       "       [34.        , 35.        ,  6.8676748 , 13.        ],\n",
       "       [36.        , 37.        ,  8.14940958, 20.        ]])"
      ]
     },
     "execution_count": 8,
     "metadata": {},
     "output_type": "execute_result"
    }
   ],
   "source": [
    "wlink = sch.linkage(zbeer, method='ward')\n",
    "wlink"
   ]
  },
  {
   "cell_type": "code",
   "execution_count": 9,
   "metadata": {},
   "outputs": [
    {
     "data": {
      "image/png": "[encoded data removed]",
      "text/plain": [
       "<Figure size 1080x216 with 1 Axes>"
      ]
     },
     "metadata": {
      "needs_background": "light"
     },
     "output_type": "display_data"
    }
   ],
   "source": [
    "plt.figure(figsize=(15, 3))\n",
    "sch.dendrogram(wlink, leaf_font_size=10, leaf_rotation=90, labels=beer.index)\n",
    "plt.show()"
   ]
  },
  {
   "cell_type": "code",
   "execution_count": 10,
   "metadata": {},
   "outputs": [
    {
     "data": {
      "text/plain": [
       "array([0, 0, 0, 2, 2, 0, 0, 0, 3, 3, 0, 3, 3, 2, 2, 1, 0, 0, 1, 3],\n",
       "      dtype=int64)"
      ]
     },
     "execution_count": 10,
     "metadata": {},
     "output_type": "execute_result"
    }
   ],
   "source": [
    "wcluster = AgglomerativeClustering(n_clusters=4, metric='euclidean', linkage='ward')\n",
    "member = wcluster.fit_predict(zbeer)\n",
    "member"
   ]
  },
  {
   "cell_type": "code",
   "execution_count": 11,
   "metadata": {},
   "outputs": [
    {
     "data": {
      "text/html": [
       "<div>\n",
       "<style scoped>\n",
       "    .dataframe tbody tr th:only-of-type {\n",
       "        vertical-align: middle;\n",
       "    }\n",
       "\n",
       "    .dataframe tbody tr th {\n",
       "        vertical-align: top;\n",
       "    }\n",
       "\n",
       "    .dataframe thead th {\n",
       "        text-align: right;\n",
       "    }\n",
       "</style>\n",
       "<table border=\"1\" class=\"dataframe\">\n",
       "  <thead>\n",
       "    <tr style=\"text-align: right;\">\n",
       "      <th></th>\n",
       "      <th>cluster</th>\n",
       "    </tr>\n",
       "    <tr>\n",
       "      <th>name</th>\n",
       "      <th></th>\n",
       "    </tr>\n",
       "  </thead>\n",
       "  <tbody>\n",
       "    <tr>\n",
       "      <th>BUDWEISER</th>\n",
       "      <td>0</td>\n",
       "    </tr>\n",
       "    <tr>\n",
       "      <th>SCHLITZ</th>\n",
       "      <td>0</td>\n",
       "    </tr>\n",
       "    <tr>\n",
       "      <th>LOWENBRAU</th>\n",
       "      <td>0</td>\n",
       "    </tr>\n",
       "    <tr>\n",
       "      <th>KRONENBOURG</th>\n",
       "      <td>2</td>\n",
       "    </tr>\n",
       "    <tr>\n",
       "      <th>HEINEKEN</th>\n",
       "      <td>2</td>\n",
       "    </tr>\n",
       "  </tbody>\n",
       "</table>\n",
       "</div>"
      ],
      "text/plain": [
       "             cluster\n",
       "name                \n",
       "BUDWEISER          0\n",
       "SCHLITZ            0\n",
       "LOWENBRAU          0\n",
       "KRONENBOURG        2\n",
       "HEINEKEN           2"
      ]
     },
     "execution_count": 11,
     "metadata": {},
     "output_type": "execute_result"
    }
   ],
   "source": [
    "member1 = pd.DataFrame(member, columns=['cluster'], index=beer.index)\n",
    "member1.head()"
   ]
  },
  {
   "cell_type": "code",
   "execution_count": 12,
   "metadata": {},
   "outputs": [
    {
     "name": "stderr",
     "output_type": "stream",
     "text": [
      "c:\\Users\\admin\\anaconda3\\lib\\site-packages\\sklearn\\cluster\\_kmeans.py:870: FutureWarning: The default value of `n_init` will change from 10 to 'auto' in 1.4. Set the value of `n_init` explicitly to suppress the warning\n",
      "  warnings.warn(\n",
      "c:\\Users\\admin\\anaconda3\\lib\\site-packages\\sklearn\\cluster\\_kmeans.py:870: FutureWarning: The default value of `n_init` will change from 10 to 'auto' in 1.4. Set the value of `n_init` explicitly to suppress the warning\n",
      "  warnings.warn(\n",
      "c:\\Users\\admin\\anaconda3\\lib\\site-packages\\sklearn\\cluster\\_kmeans.py:870: FutureWarning: The default value of `n_init` will change from 10 to 'auto' in 1.4. Set the value of `n_init` explicitly to suppress the warning\n",
      "  warnings.warn(\n",
      "c:\\Users\\admin\\anaconda3\\lib\\site-packages\\sklearn\\cluster\\_kmeans.py:870: FutureWarning: The default value of `n_init` will change from 10 to 'auto' in 1.4. Set the value of `n_init` explicitly to suppress the warning\n",
      "  warnings.warn(\n",
      "c:\\Users\\admin\\anaconda3\\lib\\site-packages\\sklearn\\cluster\\_kmeans.py:870: FutureWarning: The default value of `n_init` will change from 10 to 'auto' in 1.4. Set the value of `n_init` explicitly to suppress the warning\n",
      "  warnings.warn(\n",
      "c:\\Users\\admin\\anaconda3\\lib\\site-packages\\sklearn\\cluster\\_kmeans.py:870: FutureWarning: The default value of `n_init` will change from 10 to 'auto' in 1.4. Set the value of `n_init` explicitly to suppress the warning\n",
      "  warnings.warn(\n",
      "c:\\Users\\admin\\anaconda3\\lib\\site-packages\\sklearn\\cluster\\_kmeans.py:870: FutureWarning: The default value of `n_init` will change from 10 to 'auto' in 1.4. Set the value of `n_init` explicitly to suppress the warning\n",
      "  warnings.warn(\n",
      "c:\\Users\\admin\\anaconda3\\lib\\site-packages\\sklearn\\cluster\\_kmeans.py:870: FutureWarning: The default value of `n_init` will change from 10 to 'auto' in 1.4. Set the value of `n_init` explicitly to suppress the warning\n",
      "  warnings.warn(\n",
      "c:\\Users\\admin\\anaconda3\\lib\\site-packages\\sklearn\\cluster\\_kmeans.py:870: FutureWarning: The default value of `n_init` will change from 10 to 'auto' in 1.4. Set the value of `n_init` explicitly to suppress the warning\n",
      "  warnings.warn(\n"
     ]
    },
    {
     "data": {
      "text/plain": [
       "[<matplotlib.lines.Line2D at 0x265f5009630>]"
      ]
     },
     "execution_count": 12,
     "metadata": {},
     "output_type": "execute_result"
    },
    {
     "data": {
      "image/png": "[encoded data removed]",
      "text/plain": [
       "<Figure size 432x288 with 1 Axes>"
      ]
     },
     "metadata": {
      "needs_background": "light"
     },
     "output_type": "display_data"
    }
   ],
   "source": [
    "# kmeans를 위해서는 threadpoolctl를 > 3.0.0 이상으로 업데이트 필요 → 3.2.0버전 설치\n",
    "inertia_list = []\n",
    "for i in range(2, 11):\n",
    "    kmeans = KMeans(n_clusters=i, random_state=0).fit(zbeer)\n",
    "    inertia_list.append(kmeans.inertia_)\n",
    "plt.plot(range(2, 11), inertia_list, marker='o')"
   ]
  },
  {
   "cell_type": "code",
   "execution_count": null,
   "metadata": {},
   "outputs": [],
   "source": []
  }
 ],
 "metadata": {
  "kernelspec": {
   "display_name": "base",
   "language": "python",
   "name": "python3"
  },
  "language_info": {
   "codemirror_mode": {
    "name": "ipython",
    "version": 3
   },
   "file_extension": ".py",
   "mimetype": "text/x-python",
   "name": "python",
   "nbconvert_exporter": "python",
   "pygments_lexer": "ipython3",
   "version": "3.10.9"
  },
  "orig_nbformat": 4
 },
 "nbformat": 4,
 "nbformat_minor": 2
}
