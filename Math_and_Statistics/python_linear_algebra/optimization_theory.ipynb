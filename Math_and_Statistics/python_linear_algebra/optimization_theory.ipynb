{
 "cells": [
  {
   "cell_type": "code",
   "execution_count": 2,
   "metadata": {},
   "outputs": [],
   "source": [
    "import numpy as np\n",
    "import sympy as sp"
   ]
  },
  {
   "cell_type": "code",
   "execution_count": 3,
   "metadata": {},
   "outputs": [
    {
     "data": {
      "text/plain": [
       "array([[a - 2*b],\n",
       "       [-2*a + 8*b]], dtype=object)"
      ]
     },
     "execution_count": 3,
     "metadata": {},
     "output_type": "execute_result"
    }
   ],
   "source": [
    "a = sp.Symbol('a')\n",
    "b = sp.Symbol('b')\n",
    "A = np.array([[1, -2],\n",
    "              [-2, 8]])\n",
    "x = np.array([a, b]).reshape(2, -1)\n",
    "del_fx = np.dot(A, x)\n",
    "del_fx"
   ]
  },
  {
   "cell_type": "code",
   "execution_count": 4,
   "metadata": {},
   "outputs": [
    {
     "data": {
      "text/plain": [
       "array([[0.5*a*(a - 2*b) + 0.5*b*(-2*a + 8*b)]], dtype=object)"
      ]
     },
     "execution_count": 4,
     "metadata": {},
     "output_type": "execute_result"
    }
   ],
   "source": [
    "f = 0.5 * np.dot(np.dot(x.transpose(), A), x)\n",
    "f"
   ]
  },
  {
   "cell_type": "code",
   "execution_count": 5,
   "metadata": {},
   "outputs": [],
   "source": [
    "a0, b0 = 1, 2\n",
    "eps = 1e-8\n",
    "t = 0.01"
   ]
  },
  {
   "cell_type": "code",
   "execution_count": 6,
   "metadata": {},
   "outputs": [],
   "source": [
    "x_list, y_list = [], []\n",
    "x_list.append(a0)\n",
    "y_list.append(b0)"
   ]
  },
  {
   "cell_type": "code",
   "execution_count": 7,
   "metadata": {},
   "outputs": [],
   "source": [
    "a_k, b_k = a0, b0\n",
    "iter = 0"
   ]
  },
  {
   "cell_type": "code",
   "execution_count": 8,
   "metadata": {},
   "outputs": [],
   "source": [
    "def f(a0, a1, x, y):\n",
    "    N = len(x)\n",
    "    return 1/N * np.sum((a0 + a1*x - y) ** 2)\n",
    "\n",
    "def dfda0(a0, a1, x, y):\n",
    "    N = len(x)\n",
    "    return 2/N * np.sum(a0 + a1*x - y)\n",
    "\n",
    "def dfda1(a0, a1, x, y):\n",
    "    N = len(x)\n",
    "    return 2/N * np.sum((a0 + a1*x - y) * x)"
   ]
  },
  {
   "cell_type": "code",
   "execution_count": 9,
   "metadata": {},
   "outputs": [],
   "source": [
    "x = np.array([1, 2, 3, 4, 5])\n",
    "y = np.array([1, 3, 5, 3, 7])\n",
    "N = len(x)"
   ]
  },
  {
   "cell_type": "code",
   "execution_count": 10,
   "metadata": {},
   "outputs": [],
   "source": [
    "a0_0, a1_0 = 0, 0\n",
    "eps = 1e-8"
   ]
  },
  {
   "cell_type": "code",
   "execution_count": 11,
   "metadata": {},
   "outputs": [
    {
     "data": {
      "text/plain": [
       "(array([ 50., 200.]),\n",
       " array([[-0.8,  0.6],\n",
       "        [-0.6, -0.8]]))"
      ]
     },
     "execution_count": 11,
     "metadata": {},
     "output_type": "execute_result"
    }
   ],
   "source": [
    "X = np.array([[104, -72],\n",
    "              [-72, 146]])\n",
    "np.linalg.eig(X)"
   ]
  },
  {
   "cell_type": "code",
   "execution_count": 13,
   "metadata": {},
   "outputs": [
    {
     "data": {
      "text/plain": [
       "(array([[-0.70710678, -0.70710678],\n",
       "        [-0.70710678,  0.70710678]]),\n",
       " array([14.14213562,  7.07106781]),\n",
       " array([[ 0.6, -0.8],\n",
       "        [-0.8, -0.6]]))"
      ]
     },
     "execution_count": 13,
     "metadata": {},
     "output_type": "execute_result"
    }
   ],
   "source": [
    "A = np.array([[-2, 11],\n",
    "              [-10, 5]])\n",
    "np.linalg.svd(A)"
   ]
  },
  {
   "cell_type": "code",
   "execution_count": 16,
   "metadata": {},
   "outputs": [
    {
     "data": {
      "text/plain": [
       "array([[ 0.8627451 ],\n",
       "       [-3.57843137],\n",
       "       [-1.92156863],\n",
       "       [ 2.45098039]])"
      ]
     },
     "execution_count": 16,
     "metadata": {},
     "output_type": "execute_result"
    }
   ],
   "source": [
    "A = np.array([[9, -2, 1, 0],\n",
    "              [-1, 10, -2, 4],\n",
    "              [3, -2, 9, -1],\n",
    "              [0, 4, 2, 7]])\n",
    "b = np.array([13, -23, -10, -1]).reshape(-1, 1)\n",
    "x = np.dot(np.linalg.inv(A), b)\n",
    "x"
   ]
  },
  {
   "cell_type": "code",
   "execution_count": 17,
   "metadata": {},
   "outputs": [
    {
     "data": {
      "text/plain": [
       "array([[ 0.11519608,  0.02941176, -0.00245098, -0.01715686],\n",
       "       [-0.0002451 ,  0.13823529,  0.04681373, -0.07230392],\n",
       "       [-0.0372549 ,  0.01176471,  0.11568627,  0.00980392],\n",
       "       [ 0.01078431, -0.08235294, -0.05980392,  0.18137255]])"
      ]
     },
     "execution_count": 17,
     "metadata": {},
     "output_type": "execute_result"
    }
   ],
   "source": [
    "np.linalg.inv(A)"
   ]
  },
  {
   "cell_type": "code",
   "execution_count": 18,
   "metadata": {},
   "outputs": [
    {
     "data": {
      "text/plain": [
       "array([ 13, -23, -10,  -9])"
      ]
     },
     "execution_count": 18,
     "metadata": {},
     "output_type": "execute_result"
    }
   ],
   "source": [
    "x = np.array([1, -3, -2, 1]).T\n",
    "np.dot(A, x)"
   ]
  },
  {
   "cell_type": "code",
   "execution_count": null,
   "metadata": {},
   "outputs": [],
   "source": []
  }
 ],
 "metadata": {
  "kernelspec": {
   "display_name": "base",
   "language": "python",
   "name": "python3"
  },
  "language_info": {
   "codemirror_mode": {
    "name": "ipython",
    "version": 3
   },
   "file_extension": ".py",
   "mimetype": "text/x-python",
   "name": "python",
   "nbconvert_exporter": "python",
   "pygments_lexer": "ipython3",
   "version": "3.10.9"
  },
  "orig_nbformat": 4
 },
 "nbformat": 4,
 "nbformat_minor": 2
}
