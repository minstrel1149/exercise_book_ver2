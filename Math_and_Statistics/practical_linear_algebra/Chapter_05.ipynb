{
 "cells": [
  {
   "cell_type": "code",
   "execution_count": 1,
   "metadata": {},
   "outputs": [],
   "source": [
    "import numpy as np"
   ]
  },
  {
   "cell_type": "code",
   "execution_count": 2,
   "metadata": {},
   "outputs": [
    {
     "data": {
      "text/plain": [
       "(array([[ 0,  1,  2,  3,  4,  5,  6,  7,  8,  9],\n",
       "        [10, 11, 12, 13, 14, 15, 16, 17, 18, 19],\n",
       "        [20, 21, 22, 23, 24, 25, 26, 27, 28, 29],\n",
       "        [30, 31, 32, 33, 34, 35, 36, 37, 38, 39],\n",
       "        [40, 41, 42, 43, 44, 45, 46, 47, 48, 49],\n",
       "        [50, 51, 52, 53, 54, 55, 56, 57, 58, 59]]),\n",
       " array([[10, 11, 12, 13, 14],\n",
       "        [20, 21, 22, 23, 24],\n",
       "        [30, 31, 32, 33, 34]]))"
      ]
     },
     "execution_count": 2,
     "metadata": {},
     "output_type": "execute_result"
    }
   ],
   "source": [
    "A = np.arange(60).reshape(6, 10)\n",
    "sub = A[1:4, 0:5]\n",
    "A, sub"
   ]
  },
  {
   "cell_type": "code",
   "execution_count": 3,
   "metadata": {},
   "outputs": [
    {
     "data": {
      "text/plain": [
       "array([[ 0.48212363,  1.09244655, -1.17679573,  0.50704667, -0.4307945 ,\n",
       "        -0.34682924],\n",
       "       [-0.20395385,  0.01335842, -0.05782874, -0.29041732, -0.22898582,\n",
       "         1.12625089],\n",
       "       [ 0.76323993,  0.47002877, -1.25836562, -0.06475671, -0.39891081,\n",
       "        -0.152359  ],\n",
       "       [-1.37524448,  0.75679503,  0.682202  ,  0.21827355,  0.10003244,\n",
       "         1.60153607]])"
      ]
     },
     "execution_count": 3,
     "metadata": {},
     "output_type": "execute_result"
    }
   ],
   "source": [
    "mrows = 4\n",
    "ncols = 6\n",
    "A = np.random.randn(mrows, ncols)\n",
    "A"
   ]
  },
  {
   "cell_type": "code",
   "execution_count": 4,
   "metadata": {},
   "outputs": [
    {
     "data": {
      "text/plain": [
       "array([[10.,  5.,  1.],\n",
       "       [ 0.,  7., 11.],\n",
       "       [ 4.,  9., 13.]])"
      ]
     },
     "execution_count": 4,
     "metadata": {},
     "output_type": "execute_result"
    }
   ],
   "source": [
    "A = np.array([[4, 5, 1],\n",
    "              [0, 1, 11],\n",
    "              [4, 9, 7]])\n",
    "s = 6\n",
    "A + s * np.eye(len(A))"
   ]
  },
  {
   "cell_type": "code",
   "execution_count": 6,
   "metadata": {},
   "outputs": [
    {
     "data": {
      "text/plain": [
       "(array([[-0.45956035, -1.35002346, -0.15507799],\n",
       "        [ 0.20918233, -0.66069919, -2.1613482 ],\n",
       "        [ 0.63352334,  0.12673277, -0.04044267]]),\n",
       " array([[-1.5046749 , -2.46770293, -0.0179345 ],\n",
       "        [-3.69501379, -0.75527429,  0.75909681],\n",
       "        [ 1.48455275,  2.06259001,  0.11317587]]))"
      ]
     },
     "execution_count": 6,
     "metadata": {},
     "output_type": "execute_result"
    }
   ],
   "source": [
    "A = np.random.randn(3, 3)\n",
    "B = np.random.randn(3, 3)\n",
    "A * B, A @ B"
   ]
  },
  {
   "cell_type": "code",
   "execution_count": null,
   "metadata": {},
   "outputs": [],
   "source": []
  }
 ],
 "metadata": {
  "kernelspec": {
   "display_name": "base",
   "language": "python",
   "name": "python3"
  },
  "language_info": {
   "codemirror_mode": {
    "name": "ipython",
    "version": 3
   },
   "file_extension": ".py",
   "mimetype": "text/x-python",
   "name": "python",
   "nbconvert_exporter": "python",
   "pygments_lexer": "ipython3",
   "version": "3.10.9"
  }
 },
 "nbformat": 4,
 "nbformat_minor": 2
}
