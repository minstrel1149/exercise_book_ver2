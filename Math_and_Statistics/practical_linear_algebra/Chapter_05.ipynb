{
 "cells": [
  {
   "cell_type": "code",
   "execution_count": 1,
   "metadata": {},
   "outputs": [],
   "source": [
    "import numpy as np"
   ]
  },
  {
   "cell_type": "code",
   "execution_count": 2,
   "metadata": {},
   "outputs": [
    {
     "data": {
      "text/plain": [
       "(array([[ 0,  1,  2,  3,  4,  5,  6,  7,  8,  9],\n",
       "        [10, 11, 12, 13, 14, 15, 16, 17, 18, 19],\n",
       "        [20, 21, 22, 23, 24, 25, 26, 27, 28, 29],\n",
       "        [30, 31, 32, 33, 34, 35, 36, 37, 38, 39],\n",
       "        [40, 41, 42, 43, 44, 45, 46, 47, 48, 49],\n",
       "        [50, 51, 52, 53, 54, 55, 56, 57, 58, 59]]),\n",
       " array([[10, 11, 12, 13, 14],\n",
       "        [20, 21, 22, 23, 24],\n",
       "        [30, 31, 32, 33, 34]]))"
      ]
     },
     "execution_count": 2,
     "metadata": {},
     "output_type": "execute_result"
    }
   ],
   "source": [
    "A = np.arange(60).reshape(6, 10)\n",
    "sub = A[1:4, 0:5]\n",
    "A, sub"
   ]
  },
  {
   "cell_type": "code",
   "execution_count": 3,
   "metadata": {},
   "outputs": [
    {
     "data": {
      "text/plain": [
       "array([[ 0.48186557, -0.06299354,  1.3425246 ,  0.36227549, -0.38151017,\n",
       "         1.68543305],\n",
       "       [-0.16334852,  1.21907217, -0.0028547 ,  0.96207399,  1.57083446,\n",
       "        -0.58235217],\n",
       "       [ 0.4789189 ,  0.01186981, -0.6046602 , -0.80032503, -0.30241437,\n",
       "        -0.57972566],\n",
       "       [ 0.08157211,  0.19425577, -0.4842434 , -1.98688026,  1.12824559,\n",
       "         0.92494201]])"
      ]
     },
     "execution_count": 3,
     "metadata": {},
     "output_type": "execute_result"
    }
   ],
   "source": [
    "mrows = 4\n",
    "ncols = 6\n",
    "A = np.random.randn(mrows, ncols)\n",
    "A"
   ]
  },
  {
   "cell_type": "code",
   "execution_count": 4,
   "metadata": {},
   "outputs": [
    {
     "data": {
      "text/plain": [
       "array([[10.,  5.,  1.],\n",
       "       [ 0.,  7., 11.],\n",
       "       [ 4.,  9., 13.]])"
      ]
     },
     "execution_count": 4,
     "metadata": {},
     "output_type": "execute_result"
    }
   ],
   "source": [
    "A = np.array([[4, 5, 1],\n",
    "              [0, 1, 11],\n",
    "              [4, 9, 7]])\n",
    "s = 6\n",
    "A + s * np.eye(len(A))"
   ]
  },
  {
   "cell_type": "code",
   "execution_count": 5,
   "metadata": {},
   "outputs": [
    {
     "data": {
      "text/plain": [
       "(array([[ 0.07513871, -0.19293618, -0.859164  ],\n",
       "        [-5.35375705,  0.14641558, -0.32125828],\n",
       "        [ 0.7214293 , -1.44026082, -0.31671571]]),\n",
       " array([[-1.70731744, -0.89758157,  1.1633162 ],\n",
       "        [-1.97717876,  0.92926766, -3.50425582],\n",
       "        [-1.7776522 ,  1.06887363,  1.19343884]]))"
      ]
     },
     "execution_count": 5,
     "metadata": {},
     "output_type": "execute_result"
    }
   ],
   "source": [
    "A = np.random.randn(3, 3)\n",
    "B = np.random.randn(3, 3)\n",
    "A * B, A @ B"
   ]
  },
  {
   "cell_type": "code",
   "execution_count": 6,
   "metadata": {},
   "outputs": [
    {
     "data": {
      "text/plain": [
       "array([[ 0,  1,  2,  3],\n",
       "       [ 4,  5,  6,  7],\n",
       "       [ 8,  9, 10, 11]])"
      ]
     },
     "execution_count": 6,
     "metadata": {},
     "output_type": "execute_result"
    }
   ],
   "source": [
    "A = np.arange(12).reshape(3, 4)\n",
    "A"
   ]
  },
  {
   "cell_type": "code",
   "execution_count": 8,
   "metadata": {},
   "outputs": [
    {
     "data": {
      "text/plain": [
       "7"
      ]
     },
     "execution_count": 8,
     "metadata": {},
     "output_type": "execute_result"
    }
   ],
   "source": [
    "row = 2\n",
    "column = 4\n",
    "A[row-1, column-1]"
   ]
  },
  {
   "cell_type": "code",
   "execution_count": 9,
   "metadata": {},
   "outputs": [
    {
     "data": {
      "text/plain": [
       "array([[ 0,  1,  2,  3,  4,  5,  6,  7,  8,  9],\n",
       "       [10, 11, 12, 13, 14, 15, 16, 17, 18, 19],\n",
       "       [20, 21, 22, 23, 24, 25, 26, 27, 28, 29],\n",
       "       [30, 31, 32, 33, 34, 35, 36, 37, 38, 39],\n",
       "       [40, 41, 42, 43, 44, 45, 46, 47, 48, 49],\n",
       "       [50, 51, 52, 53, 54, 55, 56, 57, 58, 59],\n",
       "       [60, 61, 62, 63, 64, 65, 66, 67, 68, 69],\n",
       "       [70, 71, 72, 73, 74, 75, 76, 77, 78, 79],\n",
       "       [80, 81, 82, 83, 84, 85, 86, 87, 88, 89],\n",
       "       [90, 91, 92, 93, 94, 95, 96, 97, 98, 99]])"
      ]
     },
     "execution_count": 9,
     "metadata": {},
     "output_type": "execute_result"
    }
   ],
   "source": [
    "C = np.arange(100).reshape(10, 10)\n",
    "C"
   ]
  },
  {
   "cell_type": "code",
   "execution_count": 10,
   "metadata": {},
   "outputs": [
    {
     "data": {
      "text/plain": [
       "array([[ 0,  1,  2,  3,  4],\n",
       "       [10, 11, 12, 13, 14],\n",
       "       [20, 21, 22, 23, 24],\n",
       "       [30, 31, 32, 33, 34],\n",
       "       [40, 41, 42, 43, 44]])"
      ]
     },
     "execution_count": 10,
     "metadata": {},
     "output_type": "execute_result"
    }
   ],
   "source": [
    "rows = 5\n",
    "columns = 5\n",
    "C[rows-rows:rows, columns-columns:columns]"
   ]
  },
  {
   "cell_type": "code",
   "execution_count": 13,
   "metadata": {},
   "outputs": [
    {
     "data": {
      "text/plain": [
       "array([[55, 56, 57, 58, 59, 50, 51, 52, 53, 54],\n",
       "       [65, 66, 67, 68, 69, 60, 61, 62, 63, 64],\n",
       "       [75, 76, 77, 78, 79, 70, 71, 72, 73, 74],\n",
       "       [85, 86, 87, 88, 89, 80, 81, 82, 83, 84],\n",
       "       [95, 96, 97, 98, 99, 90, 91, 92, 93, 94],\n",
       "       [ 5,  6,  7,  8,  9,  0,  1,  2,  3,  4],\n",
       "       [15, 16, 17, 18, 19, 10, 11, 12, 13, 14],\n",
       "       [25, 26, 27, 28, 29, 20, 21, 22, 23, 24],\n",
       "       [35, 36, 37, 38, 39, 30, 31, 32, 33, 34],\n",
       "       [45, 46, 47, 48, 49, 40, 41, 42, 43, 44]])"
      ]
     },
     "execution_count": 13,
     "metadata": {},
     "output_type": "execute_result"
    }
   ],
   "source": [
    "C_1 = C[0:5, 0:5]\n",
    "C_2 = C[0:5, 5:10]\n",
    "C_3 = C[5:10, 0:5]\n",
    "C_4 = C[5:10, 5:10]\n",
    "np.vstack([(np.hstack([C_4, C_3])), np.hstack([C_2, C_1])])"
   ]
  },
  {
   "cell_type": "code",
   "execution_count": 19,
   "metadata": {},
   "outputs": [
    {
     "data": {
      "text/plain": [
       "(array([[1., 1., 1., 1.],\n",
       "        [1., 1., 1., 1.],\n",
       "        [1., 1., 1., 1.],\n",
       "        [1., 1., 1., 1.]]),\n",
       " array([[ 1,  0,  0,  0],\n",
       "        [ 0,  4,  0,  0],\n",
       "        [ 0,  0,  9,  0],\n",
       "        [ 0,  0,  0, 16]]),\n",
       " array([[1., 0., 0., 0.],\n",
       "        [0., 2., 0., 0.],\n",
       "        [0., 0., 3., 0.],\n",
       "        [0., 0., 0., 4.]]))"
      ]
     },
     "execution_count": 19,
     "metadata": {},
     "output_type": "execute_result"
    }
   ],
   "source": [
    "n = 4\n",
    "O = np.ones((n, n))\n",
    "D = np.diag(np.arange(1, n+1)**2)\n",
    "S = np.sqrt(D)\n",
    "O, D, S"
   ]
  },
  {
   "cell_type": "code",
   "execution_count": 21,
   "metadata": {},
   "outputs": [
    {
     "data": {
      "text/plain": [
       "(array([[ 1.,  1.,  1.,  1.],\n",
       "        [ 4.,  4.,  4.,  4.],\n",
       "        [ 9.,  9.,  9.,  9.],\n",
       "        [16., 16., 16., 16.]]),\n",
       " array([[ 1.,  4.,  9., 16.],\n",
       "        [ 1.,  4.,  9., 16.],\n",
       "        [ 1.,  4.,  9., 16.],\n",
       "        [ 1.,  4.,  9., 16.]]))"
      ]
     },
     "execution_count": 21,
     "metadata": {},
     "output_type": "execute_result"
    }
   ],
   "source": [
    "D @ O, O @ D"
   ]
  },
  {
   "cell_type": "code",
   "execution_count": 22,
   "metadata": {},
   "outputs": [
    {
     "data": {
      "text/plain": [
       "array([[ 1.,  2.,  3.,  4.],\n",
       "       [ 2.,  4.,  6.,  8.],\n",
       "       [ 3.,  6.,  9., 12.],\n",
       "       [ 4.,  8., 12., 16.]])"
      ]
     },
     "execution_count": 22,
     "metadata": {},
     "output_type": "execute_result"
    }
   ],
   "source": [
    "S @ O @ S"
   ]
  },
  {
   "cell_type": "code",
   "execution_count": null,
   "metadata": {},
   "outputs": [],
   "source": []
  }
 ],
 "metadata": {
  "kernelspec": {
   "display_name": "base",
   "language": "python",
   "name": "python3"
  },
  "language_info": {
   "codemirror_mode": {
    "name": "ipython",
    "version": 3
   },
   "file_extension": ".py",
   "mimetype": "text/x-python",
   "name": "python",
   "nbconvert_exporter": "python",
   "pygments_lexer": "ipython3",
   "version": "3.10.9"
  }
 },
 "nbformat": 4,
 "nbformat_minor": 2
}
