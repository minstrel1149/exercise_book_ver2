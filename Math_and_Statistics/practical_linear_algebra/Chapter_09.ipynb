{
 "cells": [
  {
   "cell_type": "code",
   "execution_count": 1,
   "metadata": {},
   "outputs": [],
   "source": [
    "import numpy as np"
   ]
  },
  {
   "cell_type": "code",
   "execution_count": 4,
   "metadata": {},
   "outputs": [
    {
     "name": "stdout",
     "output_type": "stream",
     "text": [
      "[[ 1.  0.  0.  0. -0. -0.]\n",
      " [ 0.  1.  0. -0.  0. -0.]\n",
      " [ 0.  0.  1.  0. -0.  0.]\n",
      " [ 0. -0.  0.  1.  0. -0.]\n",
      " [-0.  0. -0.  0.  1. -0.]\n",
      " [-0. -0.  0. -0. -0.  1.]]\n",
      "[[10.     0.    -0.    -1.328  0.     0.   ]\n",
      " [ 0.    11.     0.    -0.154  0.     0.   ]\n",
      " [ 0.     0.    12.     2.453  0.    -0.   ]\n",
      " [ 0.     0.     0.    10.761 -3.916 -5.633]\n",
      " [ 0.     0.     0.     0.    13.441 -1.641]\n",
      " [ 0.     0.     0.     0.     0.    13.805]]\n",
      " \n"
     ]
    },
    {
     "data": {
      "text/plain": [
       "(None, None)"
      ]
     },
     "execution_count": 4,
     "metadata": {},
     "output_type": "execute_result"
    }
   ],
   "source": [
    "# create an orthogonal matrix, call it U (to avoid confusing with Q)\n",
    "U = np.linalg.qr( np.random.randn(6,6) )[0]\n",
    "\n",
    "\n",
    "# part 2: modulate the column norms\n",
    "for i in range(U.shape[0]):\n",
    "  U[:,i] = U[:,i]*(10+i)\n",
    "\n",
    "\n",
    "q, r = np.linalg.qr(U)\n",
    "print(np.round(q.T @ q, 3))\n",
    "\n",
    "# part 3: Change one matrix element\n",
    "U[0,3] = 0 # this is q_{1,4}\n",
    "\n",
    "\n",
    "# QR decomp\n",
    "q,r = np.linalg.qr(U)\n",
    "\n",
    "# show R and, for part 2, Q'Q\n",
    "print( np.round(r,3) ), print(' ')\n",
    "# print( np.round(Q.T@Q,4))"
   ]
  },
  {
   "cell_type": "code",
   "execution_count": 12,
   "metadata": {},
   "outputs": [
    {
     "data": {
      "text/plain": [
       "(1.0000000000000002, 2.9999999999999996, 2.9999999999999996)"
      ]
     },
     "execution_count": 12,
     "metadata": {},
     "output_type": "execute_result"
    }
   ],
   "source": [
    "m = 9\n",
    "A = np.random.randn(m, m)\n",
    "Q, R = np.linalg.qr(A)\n",
    "np.linalg.norm(Q, 2), np.sqrt(np.sum(Q**2)), np.linalg.norm(Q, 'fro')"
   ]
  },
  {
   "cell_type": "code",
   "execution_count": 17,
   "metadata": {},
   "outputs": [
    {
     "data": {
      "text/plain": [
       "(3.1871958444703066, 3.187195844470307, 3.187195844470307)"
      ]
     },
     "execution_count": 17,
     "metadata": {},
     "output_type": "execute_result"
    }
   ],
   "source": [
    "v = np.random.randn(m, 1)\n",
    "np.linalg.norm(v), np.linalg.norm(Q @ v), np.linalg.norm(np.dot(Q, v))"
   ]
  },
  {
   "cell_type": "code",
   "execution_count": 18,
   "metadata": {},
   "outputs": [
    {
     "data": {
      "text/plain": [
       "array([[-3.55323189, -0.75136428,  0.61262235, -0.85000548],\n",
       "       [ 0.        ,  3.07710885,  1.4073568 , -0.4423664 ],\n",
       "       [ 0.        ,  0.        ,  2.93591627, -0.23868697],\n",
       "       [ 0.        ,  0.        ,  0.        ,  1.9659837 ],\n",
       "       [ 0.        ,  0.        ,  0.        ,  0.        ],\n",
       "       [ 0.        ,  0.        ,  0.        ,  0.        ],\n",
       "       [ 0.        ,  0.        ,  0.        ,  0.        ],\n",
       "       [ 0.        ,  0.        ,  0.        ,  0.        ],\n",
       "       [ 0.        ,  0.        ,  0.        ,  0.        ],\n",
       "       [ 0.        ,  0.        ,  0.        ,  0.        ]])"
      ]
     },
     "execution_count": 18,
     "metadata": {},
     "output_type": "execute_result"
    }
   ],
   "source": [
    "A = np.random.randn(10, 4)\n",
    "Q, R = np.linalg.qr(A, 'complete')\n",
    "R"
   ]
  },
  {
   "cell_type": "code",
   "execution_count": 22,
   "metadata": {},
   "outputs": [
    {
     "data": {
      "text/plain": [
       "(array([[-0.28, -0.07,  0.09, -0.13,  0.  ,  0.  ,  0.  ,  0.  ,  0.  ,\n",
       "          0.  ],\n",
       "        [-0.  ,  0.32, -0.16,  0.05,  0.  ,  0.  ,  0.  ,  0.  ,  0.  ,\n",
       "          0.  ],\n",
       "        [-0.  , -0.  ,  0.34,  0.04,  0.  ,  0.  ,  0.  ,  0.  ,  0.  ,\n",
       "          0.  ],\n",
       "        [ 0.  , -0.  , -0.  ,  0.51,  0.  ,  0.  ,  0.  ,  0.  ,  0.  ,\n",
       "          0.  ]]),\n",
       " array([[-0.28, -0.07,  0.09, -0.13],\n",
       "        [ 0.  ,  0.32, -0.16,  0.05],\n",
       "        [ 0.  ,  0.  ,  0.34,  0.04],\n",
       "        [ 0.  ,  0.  ,  0.  ,  0.51]]))"
      ]
     },
     "execution_count": 22,
     "metadata": {},
     "output_type": "execute_result"
    }
   ],
   "source": [
    "np.linalg.pinv(R).round(2), np.linalg.inv(R[:4, :]).round(2)"
   ]
  },
  {
   "cell_type": "code",
   "execution_count": null,
   "metadata": {},
   "outputs": [],
   "source": []
  }
 ],
 "metadata": {
  "kernelspec": {
   "display_name": "base",
   "language": "python",
   "name": "python3"
  },
  "language_info": {
   "codemirror_mode": {
    "name": "ipython",
    "version": 3
   },
   "file_extension": ".py",
   "mimetype": "text/x-python",
   "name": "python",
   "nbconvert_exporter": "python",
   "pygments_lexer": "ipython3",
   "version": "3.10.9"
  }
 },
 "nbformat": 4,
 "nbformat_minor": 2
}
