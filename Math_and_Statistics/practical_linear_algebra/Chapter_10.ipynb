{
 "cells": [
  {
   "cell_type": "code",
   "execution_count": 1,
   "metadata": {},
   "outputs": [],
   "source": [
    "import numpy as np\n",
    "import sympy as sym\n",
    "import scipy as sp"
   ]
  },
  {
   "cell_type": "code",
   "execution_count": 2,
   "metadata": {},
   "outputs": [
    {
     "data": {
      "text/plain": [
       "(Matrix([\n",
       " [1, 0, 1.33333333333333],\n",
       " [0, 1, 2.66666666666667]]),\n",
       " (0, 1))"
      ]
     },
     "execution_count": 2,
     "metadata": {},
     "output_type": "execute_result"
    }
   ],
   "source": [
    "M = np.array([[1, 1, 4], [-1/2, 1, 2]])\n",
    "sym.Matrix(M).rref()"
   ]
  },
  {
   "cell_type": "code",
   "execution_count": 5,
   "metadata": {},
   "outputs": [
    {
     "data": {
      "text/plain": [
       "(array([[0., 0., 0., 0., 0., 1.],\n",
       "        [0., 0., 1., 0., 0., 0.],\n",
       "        [0., 1., 0., 0., 0., 0.],\n",
       "        [0., 0., 0., 0., 1., 0.],\n",
       "        [0., 0., 0., 1., 0., 0.],\n",
       "        [1., 0., 0., 0., 0., 0.]]),\n",
       " array([[ 1.        ,  0.        ,  0.        ,  0.        ,  0.        ,\n",
       "          0.        ],\n",
       "        [ 0.88314767,  1.        ,  0.        ,  0.        ,  0.        ,\n",
       "          0.        ],\n",
       "        [-0.94728852, -0.64521825,  1.        ,  0.        ,  0.        ,\n",
       "          0.        ],\n",
       "        [ 0.23676789,  0.67621436, -0.54027887,  1.        ,  0.        ,\n",
       "          0.        ],\n",
       "        [ 0.65787404,  0.96934444, -0.24224941,  0.        ,  1.        ,\n",
       "          0.        ],\n",
       "        [-0.40708979, -0.71131091,  0.56423474, -1.        , -0.12121212,\n",
       "          1.        ]]),\n",
       " array([[-1.39768005e+00, -3.87265718e+00,  1.69929568e+00,\n",
       "         -2.82104351e+00, -3.63927171e-01,  1.45870381e-01,\n",
       "         -5.61261266e-01,  1.93683467e+00],\n",
       "        [ 0.00000000e+00,  2.64695398e+00, -5.09385018e-02,\n",
       "          1.02718556e+00,  6.64276348e-02,  4.29216382e-01,\n",
       "         -1.90402385e+00, -4.45412287e-01],\n",
       "        [ 0.00000000e+00,  0.00000000e+00, -6.08541292e-01,\n",
       "          5.02440291e-01, -5.45927364e-01, -2.35784011e+00,\n",
       "         -4.21110841e+00,  7.14917510e-01],\n",
       "        [ 0.00000000e+00,  0.00000000e+00,  0.00000000e+00,\n",
       "          2.22044605e-16,  1.66533454e-16,  2.22044605e-16,\n",
       "          9.99200722e-16, -4.16333634e-16],\n",
       "        [ 0.00000000e+00,  0.00000000e+00,  0.00000000e+00,\n",
       "          0.00000000e+00,  2.28983499e-16,  8.88178420e-16,\n",
       "          1.99840144e-15, -5.55111512e-16],\n",
       "        [ 0.00000000e+00,  0.00000000e+00,  0.00000000e+00,\n",
       "          0.00000000e+00,  0.00000000e+00, -2.22044605e-16,\n",
       "          0.00000000e+00,  1.24900090e-16]]),\n",
       " 6)"
      ]
     },
     "execution_count": 5,
     "metadata": {},
     "output_type": "execute_result"
    }
   ],
   "source": [
    "row = 6\n",
    "column = 8\n",
    "rank = 3\n",
    "A = np.random.randn(row, rank) @ np.random.randn(rank, column)\n",
    "P, L, U = sp.linalg.lu(A)\n",
    "P, L, U, np.linalg.matrix_rank(L)"
   ]
  },
  {
   "cell_type": "code",
   "execution_count": null,
   "metadata": {},
   "outputs": [],
   "source": []
  }
 ],
 "metadata": {
  "kernelspec": {
   "display_name": "base",
   "language": "python",
   "name": "python3"
  },
  "language_info": {
   "codemirror_mode": {
    "name": "ipython",
    "version": 3
   },
   "file_extension": ".py",
   "mimetype": "text/x-python",
   "name": "python",
   "nbconvert_exporter": "python",
   "pygments_lexer": "ipython3",
   "version": "3.10.9"
  }
 },
 "nbformat": 4,
 "nbformat_minor": 2
}
