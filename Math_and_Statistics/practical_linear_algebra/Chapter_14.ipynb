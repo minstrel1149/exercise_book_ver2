{
 "cells": [
  {
   "cell_type": "code",
   "execution_count": 1,
   "metadata": {},
   "outputs": [],
   "source": [
    "import numpy as np"
   ]
  },
  {
   "cell_type": "code",
   "execution_count": 4,
   "metadata": {},
   "outputs": [
    {
     "name": "stdout",
     "output_type": "stream",
     "text": [
      "Eigenvalues and singular values:\n",
      "[[11.68233082 11.68233082]\n",
      " [10.01536027 10.01536027]\n",
      " [ 3.76464987  3.76464987]\n",
      " [ 0.74249272  0.74249272]\n",
      " [ 0.04650163  0.04650163]]\n",
      "\n",
      "Left-Right singular vectors (should be zeros)\n",
      "[[-0.  0. -0.  0. -0.]\n",
      " [-0. -0.  0.  0.  0.]\n",
      " [-0. -0. -0.  0.  0.]\n",
      " [ 0. -0. -0.  0.  0.]\n",
      " [-0.  0. -0. -0.  0.]]\n",
      "\n",
      "Singular vectors - eigenvectors (should be zeros)\n",
      "[[-0.22231066  0.         -0.         -0.0611909  -0.97988083]\n",
      " [ 0.40849189 -0.          0.         -0.39549319 -1.52556086]\n",
      " [-1.13229839  0.         -0.          0.09586891 -0.74613346]\n",
      " [ 1.53225383 -0.         -0.         -0.32653096 -0.19969644]\n",
      " [-0.39218733  0.         -0.         -1.92977395  0.3404465 ]]\n",
      " \n",
      "[[ 0.          1.39903658 -1.0145757   0.          0.        ]\n",
      " [-0.         -0.18979687  1.14601952  0.         -0.        ]\n",
      " [-0.         -1.25234197 -0.76395939 -0.          0.        ]\n",
      " [-0.         -0.66058229 -1.03408322 -0.          0.        ]\n",
      " [ 0.          0.04409583 -0.06567602  0.          0.        ]]\n"
     ]
    }
   ],
   "source": [
    "# create a symmetric matrix\n",
    "A = np.random.randn(5,5)\n",
    "A = A.T@A\n",
    "# A = A+A.T # uncomment this line to repeat for A+A'\n",
    "\n",
    "# eigendecomposition\n",
    "evals,evecs = np.linalg.eig(A)\n",
    "\n",
    "# sorting them helps the comparison!\n",
    "sidx  = np.argsort(evals)[::-1]\n",
    "evals = evals[sidx]\n",
    "evecs = evecs[:,sidx]\n",
    "\n",
    "\n",
    "\n",
    "# SVD\n",
    "U,s,Vt = np.linalg.svd(A)\n",
    "\n",
    "# compare the eigenvalues and singular values\n",
    "print('Eigenvalues and singular values:')\n",
    "print(np.vstack((evals,s)).T)\n",
    "\n",
    "# now compare the left and right singular vectors\n",
    "print(f'\\nLeft-Right singular vectors (should be zeros)')\n",
    "print(np.round(U-Vt.T,10)) # remember to compare V not V^T!\n",
    "\n",
    "# then compare singular vectors with eigenvectors\n",
    "print(f'\\nSingular vectors - eigenvectors (should be zeros)')\n",
    "print(np.round(U-evecs,10)) # subtract and \n",
    "print(' ')                  \n",
    "print(np.round(U+evecs,10)) # add for sign indeterminancy\n"
   ]
  },
  {
   "cell_type": "code",
   "execution_count": null,
   "metadata": {},
   "outputs": [],
   "source": []
  }
 ],
 "metadata": {
  "kernelspec": {
   "display_name": "base",
   "language": "python",
   "name": "python3"
  },
  "language_info": {
   "codemirror_mode": {
    "name": "ipython",
    "version": 3
   },
   "file_extension": ".py",
   "mimetype": "text/x-python",
   "name": "python",
   "nbconvert_exporter": "python",
   "pygments_lexer": "ipython3",
   "version": "3.10.9"
  }
 },
 "nbformat": 4,
 "nbformat_minor": 2
}
