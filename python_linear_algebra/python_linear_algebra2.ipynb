{
 "cells": [
  {
   "cell_type": "code",
   "execution_count": 1,
   "metadata": {},
   "outputs": [],
   "source": [
    "import numpy as np\n",
    "import sympy as sp"
   ]
  },
  {
   "cell_type": "code",
   "execution_count": 2,
   "metadata": {},
   "outputs": [
    {
     "data": {
      "text/plain": [
       "(Matrix([\n",
       " [1, 0, 0, 1],\n",
       " [0, 1, 0, 2],\n",
       " [0, 0, 1, 3]]),\n",
       " (0, 1, 2))"
      ]
     },
     "execution_count": 2,
     "metadata": {},
     "output_type": "execute_result"
    }
   ],
   "source": [
    "A = sp.Matrix([[0, 2, -7, -17],\n",
    "               [2, 2, 4, 18],\n",
    "               [3, 6, -5, 0]])\n",
    "A.rref()"
   ]
  },
  {
   "cell_type": "code",
   "execution_count": 3,
   "metadata": {},
   "outputs": [
    {
     "data": {
      "text/plain": [
       "(Matrix([\n",
       " [1, 3, 0, 4, 2, 0,   0],\n",
       " [0, 0, 1, 2, 0, 0,   0],\n",
       " [0, 0, 0, 0, 0, 1, 1/3],\n",
       " [0, 0, 0, 0, 0, 0,   0]]),\n",
       " (0, 2, 5))"
      ]
     },
     "execution_count": 3,
     "metadata": {},
     "output_type": "execute_result"
    }
   ],
   "source": [
    "A = sp.Matrix([[1, 3, -2, 0, 2, 0, 0],\n",
    "               [2, 6, -5, -2, 4, -3, -1],\n",
    "               [0, 0, 5, 10, 0, 15, 5],\n",
    "               [2, 6, 0, 8, 4, 18, 6]])\n",
    "A.rref()"
   ]
  },
  {
   "cell_type": "code",
   "execution_count": 4,
   "metadata": {},
   "outputs": [
    {
     "data": {
      "text/plain": [
       "array([[-4, -6],\n",
       "       [-6,  0]])"
      ]
     },
     "execution_count": 4,
     "metadata": {},
     "output_type": "execute_result"
    }
   ],
   "source": [
    "a = np.array([[1, 2, -1], [3, 1, 0]])\n",
    "b = np.array([[-2, 1], [0, -3], [2, 1]])\n",
    "np.dot(a, b)"
   ]
  },
  {
   "cell_type": "code",
   "execution_count": 5,
   "metadata": {},
   "outputs": [
    {
     "data": {
      "text/plain": [
       "array([[ 1, -3,  2],\n",
       "       [-9, -3,  0],\n",
       "       [ 5,  5, -2]])"
      ]
     },
     "execution_count": 5,
     "metadata": {},
     "output_type": "execute_result"
    }
   ],
   "source": [
    "a = np.array([[1, 2, -1],\n",
    "              [3, 1, 0]])\n",
    "b = np.array([[-2, 1],\n",
    "              [0, -3],\n",
    "              [2, 1]])\n",
    "np.dot(b, a)"
   ]
  },
  {
   "cell_type": "code",
   "execution_count": 6,
   "metadata": {},
   "outputs": [
    {
     "data": {
      "text/plain": [
       "array([[1, 0],\n",
       "       [0, 1]])"
      ]
     },
     "execution_count": 6,
     "metadata": {},
     "output_type": "execute_result"
    }
   ],
   "source": [
    "a = np.array([[-2, -5],\n",
    "              [-1, -3]])\n",
    "b = np.array([[-3, 5],\n",
    "              [1, -2]])\n",
    "np.dot(b, a)"
   ]
  },
  {
   "cell_type": "code",
   "execution_count": 7,
   "metadata": {},
   "outputs": [
    {
     "data": {
      "text/plain": [
       "array([[-3.,  5.],\n",
       "       [ 1., -2.]])"
      ]
     },
     "execution_count": 7,
     "metadata": {},
     "output_type": "execute_result"
    }
   ],
   "source": [
    "np.linalg.inv(a)"
   ]
  },
  {
   "cell_type": "code",
   "execution_count": 8,
   "metadata": {},
   "outputs": [
    {
     "data": {
      "text/plain": [
       "(Matrix([\n",
       " [1, 0, -11/4, 0, 1/4, -1/2],\n",
       " [0, 1,   9/8, 0, 1/8,  1/4],\n",
       " [0, 0,     0, 1,  -1,   -1]]),\n",
       " (0, 1, 3))"
      ]
     },
     "execution_count": 8,
     "metadata": {},
     "output_type": "execute_result"
    }
   ],
   "source": [
    "A = sp.Matrix([[1, 6, 4, 1, 0, 0],\n",
    "               [2, 4, -1, 0, 1, 0],\n",
    "               [-1, 2, 5, 0, 0, 1]])\n",
    "A.rref()"
   ]
  },
  {
   "cell_type": "code",
   "execution_count": 9,
   "metadata": {},
   "outputs": [
    {
     "data": {
      "text/plain": [
       "array([[-1.],\n",
       "       [ 1.],\n",
       "       [ 0.]])"
      ]
     },
     "execution_count": 9,
     "metadata": {},
     "output_type": "execute_result"
    }
   ],
   "source": [
    "a = np.array([[1, 2, 3],\n",
    "              [2, 5, 3],\n",
    "              [1, 0, 8]])\n",
    "b = np.array([[1],\n",
    "              [3],\n",
    "              [-1]])\n",
    "np.dot(np.linalg.inv(a), b)"
   ]
  },
  {
   "cell_type": "code",
   "execution_count": 10,
   "metadata": {},
   "outputs": [
    {
     "data": {
      "text/plain": [
       "array([[1., 0., 0., 0.],\n",
       "       [0., 1., 0., 0.],\n",
       "       [0., 0., 1., 0.],\n",
       "       [0., 0., 0., 1.]])"
      ]
     },
     "execution_count": 10,
     "metadata": {},
     "output_type": "execute_result"
    }
   ],
   "source": [
    "np.identity(4)"
   ]
  },
  {
   "cell_type": "code",
   "execution_count": 11,
   "metadata": {},
   "outputs": [
    {
     "data": {
      "text/plain": [
       "165.00000000000009"
      ]
     },
     "execution_count": 11,
     "metadata": {},
     "output_type": "execute_result"
    }
   ],
   "source": [
    "A = np.array([[0, 1, 5],\n",
    "              [3, -6, 9],\n",
    "              [2, 6, 1]])\n",
    "np.linalg.det(A)"
   ]
  },
  {
   "cell_type": "code",
   "execution_count": 12,
   "metadata": {},
   "outputs": [
    {
     "data": {
      "text/plain": [
       "array([[-4, -6, -8],\n",
       "       [10, -5, 0],\n",
       "       [-2, -3, 16]], dtype=object)"
      ]
     },
     "execution_count": 12,
     "metadata": {},
     "output_type": "execute_result"
    }
   ],
   "source": [
    "A = np.array([[2, -3, 1],\n",
    "              [4, 2, 2],\n",
    "              [1, 0, -2]])\n",
    "A_sp = sp.Matrix(A)\n",
    "np.array(A_sp.adjugate())"
   ]
  },
  {
   "cell_type": "code",
   "execution_count": 13,
   "metadata": {},
   "outputs": [
    {
     "data": {
      "text/plain": [
       "(-5, -2, 0.4)"
      ]
     },
     "execution_count": 13,
     "metadata": {},
     "output_type": "execute_result"
    }
   ],
   "source": [
    "A = np.array([[3, 2, 4],\n",
    "              [2, -1, 1],\n",
    "              [1, 2, 3]])\n",
    "b = np.array([[1],\n",
    "              [0],\n",
    "              [1]])\n",
    "det_A = round(np.linalg.det(A))\n",
    "A[:, [2]] = b\n",
    "det_M2 = round(np.linalg.det(A))\n",
    "det_A, det_M2, det_M2 / det_A\n"
   ]
  },
  {
   "cell_type": "code",
   "execution_count": 14,
   "metadata": {},
   "outputs": [
    {
     "data": {
      "text/plain": [
       "array([[ 0.14285714],\n",
       "       [-0.42857143]])"
      ]
     },
     "execution_count": 14,
     "metadata": {},
     "output_type": "execute_result"
    }
   ],
   "source": [
    "A = np.array([[1, -2],\n",
    "              [1, 5]])\n",
    "b = np.array([[1],\n",
    "              [-2]])\n",
    "np.dot(np.linalg.inv(A), b)"
   ]
  },
  {
   "cell_type": "code",
   "execution_count": 15,
   "metadata": {},
   "outputs": [
    {
     "data": {
      "text/plain": [
       "(1, array([ 2, -7, -6]))"
      ]
     },
     "execution_count": 15,
     "metadata": {},
     "output_type": "execute_result"
    }
   ],
   "source": [
    "A = np.array([1, 2, -2])\n",
    "B = np.array([3, 0, 1])\n",
    "np.dot(A, B), np.cross(A, B)"
   ]
  },
  {
   "cell_type": "code",
   "execution_count": 16,
   "metadata": {},
   "outputs": [
    {
     "data": {
      "text/plain": [
       "array([-2, 12,  6])"
      ]
     },
     "execution_count": 16,
     "metadata": {},
     "output_type": "execute_result"
    }
   ],
   "source": [
    "A = np.array([3, 0, 1])\n",
    "B = np.array([1, 2, -2])\n",
    "C = np.array([2, 0, -1])\n",
    "np.cross(A, (B + C))"
   ]
  },
  {
   "cell_type": "code",
   "execution_count": 17,
   "metadata": {},
   "outputs": [
    {
     "data": {
      "text/plain": [
       "15.0"
      ]
     },
     "execution_count": 17,
     "metadata": {},
     "output_type": "execute_result"
    }
   ],
   "source": [
    "P = np.array([2, 2, 0])\n",
    "Q = np.array([-1, 0, 2])\n",
    "R = np.array([0, 4, 3])\n",
    "PQ = Q - P\n",
    "PR = R - P\n",
    "np.linalg.norm(np.cross(PQ, PR))"
   ]
  },
  {
   "cell_type": "code",
   "execution_count": 18,
   "metadata": {},
   "outputs": [
    {
     "data": {
      "text/plain": [
       "-12.0"
      ]
     },
     "execution_count": 18,
     "metadata": {},
     "output_type": "execute_result"
    }
   ],
   "source": [
    "A = np.array([2, 1, -3])\n",
    "B = np.array([4, 1, 1])\n",
    "C = np.array([-2, 0, 2])\n",
    "np.linalg.det(np.vstack([A, B, C]))"
   ]
  },
  {
   "cell_type": "code",
   "execution_count": 19,
   "metadata": {},
   "outputs": [
    {
     "data": {
      "text/plain": [
       "array([ 0.16666667,  0.5       , -0.66666667,  0.16666667, -0.5       ])"
      ]
     },
     "execution_count": 19,
     "metadata": {},
     "output_type": "execute_result"
    }
   ],
   "source": [
    "X = np.array([1, 3, -4, 1, -3])\n",
    "Y = np.array([2, -1, 2, -2, 0])\n",
    "(1 / np.linalg.norm(X)) * X"
   ]
  },
  {
   "cell_type": "code",
   "execution_count": 20,
   "metadata": {},
   "outputs": [
    {
     "data": {
      "text/plain": [
       "0"
      ]
     },
     "execution_count": 20,
     "metadata": {},
     "output_type": "execute_result"
    }
   ],
   "source": [
    "X = np.array([2, 0, 1, -1])\n",
    "Y = np.array([-3, 2, 3, -3])\n",
    "np.dot(X, Y)"
   ]
  },
  {
   "cell_type": "code",
   "execution_count": 21,
   "metadata": {},
   "outputs": [
    {
     "data": {
      "text/plain": [
       "array([ 4, -3,  2])"
      ]
     },
     "execution_count": 21,
     "metadata": {},
     "output_type": "execute_result"
    }
   ],
   "source": [
    "P = np.array([1, 2, 0])\n",
    "Q = np.array([5, -1, 2])\n",
    "PQ = Q - P\n",
    "PQ"
   ]
  },
  {
   "cell_type": "code",
   "execution_count": 22,
   "metadata": {},
   "outputs": [
    {
     "data": {
      "text/plain": [
       "array([ 2.85714286, -0.71428571,  1.42857143])"
      ]
     },
     "execution_count": 22,
     "metadata": {},
     "output_type": "execute_result"
    }
   ],
   "source": [
    "X = np.array([2, -1, 3])\n",
    "Y = np.array([4, -1, 2])\n",
    "X_dot_Y = np.dot(X, Y)\n",
    "Y_norm = np.linalg.norm(Y)\n",
    "(X_dot_Y / (Y_norm * Y_norm)) * Y"
   ]
  },
  {
   "cell_type": "code",
   "execution_count": 23,
   "metadata": {},
   "outputs": [
    {
     "data": {
      "text/plain": [
       "array([[-6.],\n",
       "       [ 3.],\n",
       "       [ 2.]])"
      ]
     },
     "execution_count": 23,
     "metadata": {},
     "output_type": "execute_result"
    }
   ],
   "source": [
    "A = np.array([[1, 1, 2],\n",
    "              [1, 2, -1],\n",
    "              [1, 3, 1]])\n",
    "B = np.array([1, -2, 5]).reshape(-1, 1)\n",
    "np.dot(np.linalg.inv(A), B)"
   ]
  },
  {
   "cell_type": "code",
   "execution_count": 24,
   "metadata": {},
   "outputs": [
    {
     "data": {
      "text/plain": [
       "0.0"
      ]
     },
     "execution_count": 24,
     "metadata": {},
     "output_type": "execute_result"
    }
   ],
   "source": [
    "A = np.array([[2, 1, 0],\n",
    "              [1, -1, 3],\n",
    "              [0, 2, -4]])\n",
    "np.linalg.det(A)"
   ]
  },
  {
   "cell_type": "code",
   "execution_count": 25,
   "metadata": {},
   "outputs": [
    {
     "data": {
      "text/plain": [
       "0.0"
      ]
     },
     "execution_count": 25,
     "metadata": {},
     "output_type": "execute_result"
    }
   ],
   "source": [
    "A = np.array([[1, 1, 5],\n",
    "              [-1, 3, 3],\n",
    "              [0, -1, -2]])\n",
    "np.linalg.det(A)"
   ]
  },
  {
   "cell_type": "code",
   "execution_count": 26,
   "metadata": {},
   "outputs": [
    {
     "data": {
      "text/plain": [
       "array([[0.],\n",
       "       [2.],\n",
       "       [1.]])"
      ]
     },
     "execution_count": 26,
     "metadata": {},
     "output_type": "execute_result"
    }
   ],
   "source": [
    "S = np.array([[1, 1, 0],\n",
    "              [1, 1, 1],\n",
    "              [0, 1, -1]])\n",
    "x = np.array([2, 3, 1]).reshape(-1, 1)\n",
    "np.dot(np.linalg.inv(S), x)"
   ]
  },
  {
   "cell_type": "code",
   "execution_count": 27,
   "metadata": {},
   "outputs": [
    {
     "data": {
      "text/plain": [
       "array([[-0.5,  1.5, -0.5],\n",
       "       [-0. ,  2. , -1. ],\n",
       "       [ 0.5, -2.5,  1.5]])"
      ]
     },
     "execution_count": 27,
     "metadata": {},
     "output_type": "execute_result"
    }
   ],
   "source": [
    "S = np.array([[1, 1, 2],\n",
    "              [2, 1, 0],\n",
    "              [0, 1, 1]])\n",
    "T = np.array([[4, 5, 6],\n",
    "              [-1, 5, 3],\n",
    "              [3, 2, 3]])\n",
    "P = np.dot(np.linalg.inv(S), T)\n",
    "Q = np.linalg.inv(P).round(3)\n",
    "Q"
   ]
  },
  {
   "cell_type": "code",
   "execution_count": 28,
   "metadata": {},
   "outputs": [
    {
     "data": {
      "text/plain": [
       "array([[-2.5],\n",
       "       [-3. ],\n",
       "       [ 4.5]])"
      ]
     },
     "execution_count": 28,
     "metadata": {},
     "output_type": "execute_result"
    }
   ],
   "source": [
    "X_s = np.array([1, -1, 1]).reshape(-1, 1)\n",
    "X = np.dot(S, X_s)\n",
    "np.dot(np.linalg.inv(T), X)"
   ]
  },
  {
   "cell_type": "code",
   "execution_count": 29,
   "metadata": {},
   "outputs": [
    {
     "data": {
      "text/plain": [
       "(array([[-1.],\n",
       "        [ 4.]]),\n",
       " array([[3.],\n",
       "        [1.]]),\n",
       " array([[2.],\n",
       "        [6.]]))"
      ]
     },
     "execution_count": 29,
     "metadata": {},
     "output_type": "execute_result"
    }
   ],
   "source": [
    "A = np.array([[6, -3],\n",
    "              [-1, 1]])\n",
    "A_inv = np.linalg.inv(A)\n",
    "b1 = np.array([-18, 5]).reshape(-1, 1)\n",
    "b2 = np.array([15, -2]).reshape(-1, 1)\n",
    "b3 = np.array([-6, 4]).reshape(-1, 1)\n",
    "np.dot(A_inv, b1), np.dot(A_inv, b2), np.dot(A_inv, b3)"
   ]
  },
  {
   "cell_type": "code",
   "execution_count": 32,
   "metadata": {},
   "outputs": [
    {
     "data": {
      "text/plain": [
       "array([[ 1.,  4.],\n",
       "       [ 0.,  2.],\n",
       "       [-1., -3.]])"
      ]
     },
     "execution_count": 32,
     "metadata": {},
     "output_type": "execute_result"
    }
   ],
   "source": [
    "T = np.array([[1, -1, 0],\n",
    "              [0, 2, 1],\n",
    "              [-1, 1, 1]])\n",
    "x1 = np.array([1, 1]).reshape(-1, 1)\n",
    "x2 = np.array([2, 1]).reshape(-1, 1)\n",
    "A = np.array([[1, 0],\n",
    "              [2, -3],\n",
    "              [-3, 1]])\n",
    "Lx1, Lx2 = np.dot(A, x1), np.dot(A, x2)\n",
    "np.dot(np.linalg.inv(T), np.hstack([Lx1, Lx2]))"
   ]
  },
  {
   "cell_type": "code",
   "execution_count": 33,
   "metadata": {},
   "outputs": [
    {
     "data": {
      "text/plain": [
       "array([[ 0., -2.],\n",
       "       [ 1.,  2.]])"
      ]
     },
     "execution_count": 33,
     "metadata": {},
     "output_type": "execute_result"
    }
   ],
   "source": [
    "A = np.array([[1, -1],\n",
    "              [1, 1]])\n",
    "P = np.array([[0, -1],\n",
    "              [1, 1]])\n",
    "np.dot(np.dot(np.linalg.inv(P), A), P)"
   ]
  },
  {
   "cell_type": "code",
   "execution_count": null,
   "metadata": {},
   "outputs": [],
   "source": []
  }
 ],
 "metadata": {
  "kernelspec": {
   "display_name": "base",
   "language": "python",
   "name": "python3"
  },
  "language_info": {
   "codemirror_mode": {
    "name": "ipython",
    "version": 3
   },
   "file_extension": ".py",
   "mimetype": "text/x-python",
   "name": "python",
   "nbconvert_exporter": "python",
   "pygments_lexer": "ipython3",
   "version": "3.10.9"
  },
  "orig_nbformat": 4
 },
 "nbformat": 4,
 "nbformat_minor": 2
}
