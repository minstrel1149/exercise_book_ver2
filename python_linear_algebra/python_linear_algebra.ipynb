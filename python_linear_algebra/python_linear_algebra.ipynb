{
 "cells": [
  {
   "cell_type": "code",
   "execution_count": 1,
   "metadata": {},
   "outputs": [],
   "source": [
    "import numpy as np\n",
    "import sympy as sp"
   ]
  },
  {
   "cell_type": "code",
   "execution_count": 2,
   "metadata": {},
   "outputs": [
    {
     "data": {
      "text/plain": [
       "array([[-4, -6],\n",
       "       [-6,  0]])"
      ]
     },
     "execution_count": 2,
     "metadata": {},
     "output_type": "execute_result"
    }
   ],
   "source": [
    "a = np.array([[1, 2, -1], [3, 1, 0]])\n",
    "b = np.array([[-2, 1], [0, -3], [2, 1]])\n",
    "np.dot(a, b)"
   ]
  },
  {
   "cell_type": "code",
   "execution_count": 3,
   "metadata": {},
   "outputs": [
    {
     "data": {
      "text/plain": [
       "array([[1, 0, 0],\n",
       "       [0, 1, 0],\n",
       "       [0, 0, 1]])"
      ]
     },
     "execution_count": 3,
     "metadata": {},
     "output_type": "execute_result"
    }
   ],
   "source": [
    "a = np.array([[1, 0, 0],\n",
    "[0, 1, 0],\n",
    "[-2, 0, 1]])\n",
    "b = np.array([[1, 0, 0],\n",
    "[0, 1, 0],\n",
    "[2, 0, 1]])\n",
    "np.dot(a, b)"
   ]
  },
  {
   "cell_type": "code",
   "execution_count": 4,
   "metadata": {},
   "outputs": [
    {
     "data": {
      "text/plain": [
       "1.999999999999998"
      ]
     },
     "execution_count": 4,
     "metadata": {},
     "output_type": "execute_result"
    }
   ],
   "source": [
    "a = np.array([[4, 3], [6, 5]])\n",
    "np.linalg.det(a)"
   ]
  },
  {
   "cell_type": "code",
   "execution_count": 5,
   "metadata": {},
   "outputs": [
    {
     "data": {
      "text/plain": [
       "array([[ 4.],\n",
       "       [ 3.],\n",
       "       [-5.],\n",
       "       [ 1.]])"
      ]
     },
     "execution_count": 5,
     "metadata": {},
     "output_type": "execute_result"
    }
   ],
   "source": [
    "a = np.array([[1, 1, 1, 1], [1, 2, 4, 8], [1, 3, 9, 27], [1, 4, 16, 64]])\n",
    "b = np.array([[3, -2, -5, 0]]).reshape(-1, 1)\n",
    "np.dot(np.linalg.inv(a), b)"
   ]
  },
  {
   "cell_type": "code",
   "execution_count": 6,
   "metadata": {},
   "outputs": [
    {
     "data": {
      "text/plain": [
       "57.00000000000001"
      ]
     },
     "execution_count": 6,
     "metadata": {},
     "output_type": "execute_result"
    }
   ],
   "source": [
    "a = np.array([[3, 7, 1], [-2, 1, 1], [5, -2, 1]])\n",
    "np.linalg.det(a)"
   ]
  },
  {
   "cell_type": "code",
   "execution_count": 7,
   "metadata": {},
   "outputs": [
    {
     "data": {
      "text/plain": [
       "-2"
      ]
     },
     "execution_count": 7,
     "metadata": {},
     "output_type": "execute_result"
    }
   ],
   "source": [
    "a = np.array([[-1, 2, 3, -1]]).reshape(-1, 1)\n",
    "b = np.array([[2, 1, 0, 2]]).reshape(-1, 1)\n",
    "inner_product = 0\n",
    "for comp in zip(a, b):\n",
    "    inner_product += comp[0] * comp[1]\n",
    "int(inner_product)"
   ]
  },
  {
   "cell_type": "code",
   "execution_count": 8,
   "metadata": {},
   "outputs": [
    {
     "data": {
      "text/plain": [
       "(array([[1.5],\n",
       "        [3.5]]),\n",
       " array([[ 3.5],\n",
       "        [-0.5]]),\n",
       " array([[5.],\n",
       "        [3.]]))"
      ]
     },
     "execution_count": 8,
     "metadata": {},
     "output_type": "execute_result"
    }
   ],
   "source": [
    "t1 = np.array([1, 1]).reshape(-1, 1)\n",
    "t2 = np.array([1, -1]).reshape(-1, 1)\n",
    "t = np.hstack([t1, t2])\n",
    "x = np.array([5, -2]).reshape(-1, 1)\n",
    "y = np.array([3, 4]).reshape(-1, 1)\n",
    "np.dot(np.linalg.inv(t), x), np.dot(np.linalg.inv(t), y), np.dot(np.linalg.inv(t), x + y)"
   ]
  },
  {
   "cell_type": "code",
   "execution_count": 9,
   "metadata": {},
   "outputs": [
    {
     "data": {
      "text/plain": [
       "array([[ 2.51428571],\n",
       "       [-2.85714286],\n",
       "       [ 5.6       ]])"
      ]
     },
     "execution_count": 9,
     "metadata": {},
     "output_type": "execute_result"
    }
   ],
   "source": [
    "A = np.array([[1, 1, 2], [3, 4, 1], [3, 7, 1], [4, 2, 3]])\n",
    "b = np.array([11, 2, -7, 21]).reshape(-1, 1)\n",
    "np.dot(np.dot(np.linalg.inv(np.dot(A.transpose(), A)), A.transpose()), b)"
   ]
  },
  {
   "cell_type": "code",
   "execution_count": 10,
   "metadata": {},
   "outputs": [
    {
     "data": {
      "text/plain": [
       "-27.0"
      ]
     },
     "execution_count": 10,
     "metadata": {},
     "output_type": "execute_result"
    }
   ],
   "source": [
    "a = np.array([[1, 2, 2], [1, 2, -1], [3, -3, 0]])\n",
    "np.linalg.det(a)"
   ]
  },
  {
   "cell_type": "code",
   "execution_count": 11,
   "metadata": {},
   "outputs": [
    {
     "data": {
      "text/plain": [
       "-0.9999999999999998"
      ]
     },
     "execution_count": 11,
     "metadata": {},
     "output_type": "execute_result"
    }
   ],
   "source": [
    "a = np.array([[4, 1], [5, 1]])\n",
    "np.linalg.det(a)"
   ]
  },
  {
   "cell_type": "code",
   "execution_count": 12,
   "metadata": {},
   "outputs": [],
   "source": [
    "a = np.array([[1, 1, 1, 0], [1, 1, 0, 1], [1, 1, 2, -1]]).transpose()"
   ]
  },
  {
   "cell_type": "code",
   "execution_count": 13,
   "metadata": {},
   "outputs": [
    {
     "data": {
      "text/plain": [
       "array([[ 0.5 ,  0.  ,  0.  ],\n",
       "       [-0.25,  0.5 ,  0.5 ],\n",
       "       [-1.75,  0.5 , -0.5 ]])"
      ]
     },
     "execution_count": 13,
     "metadata": {},
     "output_type": "execute_result"
    }
   ],
   "source": [
    "a = np.array([[2, 0, 0], [4, 1, 1], [-3, 1, -1]])\n",
    "np.linalg.inv(a)"
   ]
  },
  {
   "cell_type": "code",
   "execution_count": 14,
   "metadata": {},
   "outputs": [
    {
     "data": {
      "text/plain": [
       "(Matrix([\n",
       " [1, 0, -4, -28, -37, 13],\n",
       " [0, 1, -2, -12, -16,  5],\n",
       " [0, 0,  0,   0,   0,  0],\n",
       " [0, 0,  0,   0,   0,  0]]),\n",
       " (0, 1))"
      ]
     },
     "execution_count": 14,
     "metadata": {},
     "output_type": "execute_result"
    }
   ],
   "source": [
    "a = sp.Matrix([[-1, 2, 0, 4, 5, -3], [3, -7, 2, 0, 1, 4], [2, -5, 2, 4, 6, 1], [4, -9, 2, -4, -4, 7]])\n",
    "a.rref()"
   ]
  },
  {
   "cell_type": "code",
   "execution_count": 15,
   "metadata": {},
   "outputs": [
    {
     "data": {
      "text/plain": [
       "array([[0.],\n",
       "       [2.],\n",
       "       [1.]])"
      ]
     },
     "execution_count": 15,
     "metadata": {},
     "output_type": "execute_result"
    }
   ],
   "source": [
    "x = np.array([[2, 3, 1]]).reshape(-1, 1)\n",
    "S = np.array([[1, 1, 0], [1, 1, 1], [0, 1, -1]])\n",
    "S_inv = np.linalg.inv(S)\n",
    "np.dot(S_inv, x)"
   ]
  },
  {
   "cell_type": "code",
   "execution_count": 16,
   "metadata": {},
   "outputs": [
    {
     "data": {
      "text/plain": [
       "(Matrix([\n",
       " [1, 0, 0, -1, 2, 1],\n",
       " [0, 1, 0,  1, 1, 1],\n",
       " [0, 0, 1,  2, 1, 2]]),\n",
       " (0, 1, 2))"
      ]
     },
     "execution_count": 16,
     "metadata": {},
     "output_type": "execute_result"
    }
   ],
   "source": [
    "A_and_T = sp.Matrix([[1, 1, 2, 4, 5, 6], [2, 1, 0, -1, 5, 3], [0, 1, 1, 3, 2, 3]])\n",
    "A_and_T.rref()"
   ]
  },
  {
   "cell_type": "code",
   "execution_count": 17,
   "metadata": {},
   "outputs": [
    {
     "data": {
      "text/plain": [
       "9.748646334628575e-12"
      ]
     },
     "execution_count": 17,
     "metadata": {},
     "output_type": "execute_result"
    }
   ],
   "source": [
    "A = np.array([[35, 42, 77], [42, 70, 112], [77, 112, 189]])\n",
    "np.linalg.det(A)"
   ]
  },
  {
   "cell_type": "code",
   "execution_count": 18,
   "metadata": {},
   "outputs": [
    {
     "name": "stdout",
     "output_type": "stream",
     "text": [
      "역행렬이 없음 0.0\n"
     ]
    }
   ],
   "source": [
    "A = np.array([[3, 2], [3, 2]])\n",
    "A_T = A.transpose()\n",
    "b = np.array([[12, 6]]).reshape(-1, 1)\n",
    "try:\n",
    "    np.linalg.inv(np.dot(A_T, A))\n",
    "except:\n",
    "    print('역행렬이 없음', np.linalg.det(np.dot(A_T, A)))\n",
    "#A_T_multiple_A_inv = np.linalg.inv(np.dot(A_T, A))\n",
    "#x = np.dot(A_T_multiple_A_inv, A_T, b)"
   ]
  },
  {
   "cell_type": "code",
   "execution_count": 19,
   "metadata": {},
   "outputs": [
    {
     "data": {
      "text/plain": [
       "(Matrix([\n",
       " [1, 3, 0, 4, 2, 0,   0],\n",
       " [0, 0, 1, 2, 0, 0,   0],\n",
       " [0, 0, 0, 0, 0, 1, 1/3],\n",
       " [0, 0, 0, 0, 0, 0,   0]]),\n",
       " (0, 2, 5))"
      ]
     },
     "execution_count": 19,
     "metadata": {},
     "output_type": "execute_result"
    }
   ],
   "source": [
    "A = sp.Matrix([[1, 3, -2, 0, 2, 0, 0], [2, 6, -5, -2, 4, -3, -1],\n",
    "[0, 0, 5, 10, 0, 15, 5], [2, 6, 0, 8, 4, 18, 6]])\n",
    "A.rref()\n"
   ]
  },
  {
   "cell_type": "code",
   "execution_count": 20,
   "metadata": {},
   "outputs": [
    {
     "data": {
      "text/plain": [
       "((Matrix([\n",
       "  [1, 0, 0],\n",
       "  [0, 1, 0]]),\n",
       "  (0, 1)),\n",
       " (Matrix([\n",
       "  [1, -1/2, 0],\n",
       "  [0,    0, 0]]),\n",
       "  (0,)))"
      ]
     },
     "execution_count": 20,
     "metadata": {},
     "output_type": "execute_result"
    }
   ],
   "source": [
    "A = np.array([[2, -3, 0], [1, 3, 0]])\n",
    "B = np.array([[2, -1, 0], [6, -3, 0]])\n",
    "A = sp.Matrix(A)\n",
    "B = sp.Matrix(B)\n",
    "A.rref(), B.rref()"
   ]
  },
  {
   "cell_type": "code",
   "execution_count": 21,
   "metadata": {},
   "outputs": [
    {
     "data": {
      "text/plain": [
       "(9.000000000000002, 0.0)"
      ]
     },
     "execution_count": 21,
     "metadata": {},
     "output_type": "execute_result"
    }
   ],
   "source": [
    "A = np.array([[2, -3], [1, 3]])\n",
    "B = np.array([[2, -1], [6, -3]])\n",
    "np.linalg.det(A), np.linalg.det(B)"
   ]
  },
  {
   "cell_type": "code",
   "execution_count": 22,
   "metadata": {},
   "outputs": [
    {
     "data": {
      "text/plain": [
       "0.0"
      ]
     },
     "execution_count": 22,
     "metadata": {},
     "output_type": "execute_result"
    }
   ],
   "source": [
    "A = np.array([[-2, 7, 3], [1, 5, 8], [0, 0, 0]])\n",
    "np.linalg.det(A)"
   ]
  },
  {
   "cell_type": "code",
   "execution_count": 23,
   "metadata": {},
   "outputs": [
    {
     "data": {
      "text/plain": [
       "(Matrix([\n",
       " [1, 0, 0, -40, 16,  9],\n",
       " [0, 1, 0,  13, -5, -3],\n",
       " [0, 0, 1,   5, -2, -1]]),\n",
       " (0, 1, 2))"
      ]
     },
     "execution_count": 23,
     "metadata": {},
     "output_type": "execute_result"
    }
   ],
   "source": [
    "A = np.array([[1, 2, 3, 1, 0, 0], [2, 5, 3, 0, 1, 0], [1, 0, 8, 0, 0, 1]])\n",
    "A_sp = sp.Matrix(A)\n",
    "A_sp.rref()"
   ]
  },
  {
   "cell_type": "code",
   "execution_count": 24,
   "metadata": {},
   "outputs": [
    {
     "data": {
      "text/plain": [
       "array([[-1.],\n",
       "       [ 1.],\n",
       "       [-0.]])"
      ]
     },
     "execution_count": 24,
     "metadata": {},
     "output_type": "execute_result"
    }
   ],
   "source": [
    "A = np.array([[1, 2, 3], [2, 5, 3], [1, 0, 8]])\n",
    "b = np.array([[1, 3, -1]]).transpose()\n",
    "np.dot(np.linalg.inv(A), b).round(2)"
   ]
  },
  {
   "cell_type": "code",
   "execution_count": 25,
   "metadata": {},
   "outputs": [
    {
     "data": {
      "text/plain": [
       "(Matrix([\n",
       " [1, 0, 0, 0,  1],\n",
       " [0, 1, 0, 0, -6],\n",
       " [0, 0, 1, 0,  2],\n",
       " [0, 0, 0, 1, 10]]),\n",
       " (0, 1, 2, 3))"
      ]
     },
     "execution_count": 25,
     "metadata": {},
     "output_type": "execute_result"
    }
   ],
   "source": [
    "A = np.array([[0, 0, 0, 1, 10], [1, 1, 1, 1, 7], [27, 9, 3, 1, -11], [64, 16, 4, 1, -14]])\n",
    "A_sp = sp.Matrix(A)\n",
    "A_sp.rref()"
   ]
  },
  {
   "cell_type": "code",
   "execution_count": 26,
   "metadata": {},
   "outputs": [
    {
     "data": {
      "text/plain": [
       "(-4.000000000000001, -108.00000000000003, 108)"
      ]
     },
     "execution_count": 26,
     "metadata": {},
     "output_type": "execute_result"
    }
   ],
   "source": [
    "A = np.array([[1, 2, 1], [1, 1, 0], [2, -1, 1]])\n",
    "A_3 = 3 * A\n",
    "np.linalg.det(A), np.linalg.det(A_3), 27 * 4"
   ]
  },
  {
   "cell_type": "code",
   "execution_count": 27,
   "metadata": {},
   "outputs": [
    {
     "data": {
      "text/plain": [
       "array([[0.100000000000000, 0.150000000000000, 0.200000000000000],\n",
       "       [-0.250000000000000, 0.125000000000000, 0],\n",
       "       [0.0500000000000000, 0.0750000000000000, -0.400000000000000]],\n",
       "      dtype=object)"
      ]
     },
     "execution_count": 27,
     "metadata": {},
     "output_type": "execute_result"
    }
   ],
   "source": [
    "A = np.array([[2, -3, 1], [4, 2, 2], [1, 0, -2]])\n",
    "A_sp = sp.Matrix(A)\n",
    "adj_A = np.array(A_sp.adjugate())\n",
    "np.dot(A, adj_A)\n",
    "np.dot((1 / np.linalg.det(A)), adj_A)"
   ]
  },
  {
   "cell_type": "code",
   "execution_count": 28,
   "metadata": {},
   "outputs": [
    {
     "data": {
      "text/plain": [
       "-0.2"
      ]
     },
     "execution_count": 28,
     "metadata": {},
     "output_type": "execute_result"
    }
   ],
   "source": [
    "A = np.array([[3, 2, 4], [2, -1, 1], [1, 2, 3]])\n",
    "b = np.array([[1, 0, 1]]).transpose()\n",
    "det_A = np.linalg.det(A).round(0)\n",
    "A[:, 0] = b.transpose()\n",
    "det_b1 = np.linalg.det(A)\n",
    "x1 = det_b1 / det_A\n",
    "x1"
   ]
  },
  {
   "cell_type": "code",
   "execution_count": 29,
   "metadata": {},
   "outputs": [
    {
     "data": {
      "text/plain": [
       "array([[ 4.],\n",
       "       [ 3.],\n",
       "       [-5.],\n",
       "       [ 1.]])"
      ]
     },
     "execution_count": 29,
     "metadata": {},
     "output_type": "execute_result"
    }
   ],
   "source": [
    "V = np.array([[1, 1, 1, 1], [1, 2, 4, 8], [1, 3, 9, 27], [1, 4, 16, 64]])\n",
    "p_x = np.array([[3, -2, -5, 0]]).transpose()\n",
    "np.dot(np.linalg.inv(V), p_x)"
   ]
  },
  {
   "cell_type": "code",
   "execution_count": 30,
   "metadata": {},
   "outputs": [
    {
     "data": {
      "text/plain": [
       "array([[10.],\n",
       "       [ 2.],\n",
       "       [-6.],\n",
       "       [ 1.]])"
      ]
     },
     "execution_count": 30,
     "metadata": {},
     "output_type": "execute_result"
    }
   ],
   "source": [
    "V = np.array([[1, 0, 0, 0], [1, 1, 1, 1], [1, 3, 9, 27], [1, 4, 16, 64]])\n",
    "b = np.array([[10, 7, -11, -14]]).transpose()\n",
    "np.dot(np.linalg.inv(V), b)"
   ]
  },
  {
   "cell_type": "code",
   "execution_count": 31,
   "metadata": {},
   "outputs": [
    {
     "data": {
      "text/plain": [
       "7.280109889280518"
      ]
     },
     "execution_count": 31,
     "metadata": {},
     "output_type": "execute_result"
    }
   ],
   "source": [
    "v = np.array([[-2, 7]])\n",
    "np.linalg.norm(v)"
   ]
  },
  {
   "cell_type": "code",
   "execution_count": 32,
   "metadata": {},
   "outputs": [
    {
     "data": {
      "text/plain": [
       "array([[0]])"
      ]
     },
     "execution_count": 32,
     "metadata": {},
     "output_type": "execute_result"
    }
   ],
   "source": [
    "u = np.array([[0, 2, -1]])\n",
    "v = np.array([[-1, 1, 2]])\n",
    "np.dot(u, v.transpose())"
   ]
  },
  {
   "cell_type": "code",
   "execution_count": 33,
   "metadata": {},
   "outputs": [
    {
     "data": {
      "text/plain": [
       "5.477225575051661"
      ]
     },
     "execution_count": 33,
     "metadata": {},
     "output_type": "execute_result"
    }
   ],
   "source": [
    "norm_u = np.linalg.norm(u)\n",
    "norm_v = np.linalg.norm(v)\n",
    "norm_u * norm_v"
   ]
  },
  {
   "cell_type": "code",
   "execution_count": 34,
   "metadata": {},
   "outputs": [
    {
     "data": {
      "text/plain": [
       "15.0"
      ]
     },
     "execution_count": 34,
     "metadata": {},
     "output_type": "execute_result"
    }
   ],
   "source": [
    "x = np.array([[-3, -2, 2]])\n",
    "y = np.array([[-2, 2, 3]])\n",
    "np.cross(x, y)\n",
    "np.linalg.norm(np.cross(x, y))"
   ]
  },
  {
   "cell_type": "code",
   "execution_count": 35,
   "metadata": {},
   "outputs": [
    {
     "data": {
      "text/plain": [
       "5.830951894845301"
      ]
     },
     "execution_count": 35,
     "metadata": {},
     "output_type": "execute_result"
    }
   ],
   "source": [
    "x = np.array([[1, 3, -4, 1, -4]])\n",
    "y = np.array([[2, -1, 2, -2, 0]])\n",
    "np.dot(x, y.transpose())\n",
    "np.linalg.norm(x) * np.linalg.norm(y)\n",
    "np.linalg.norm(x + y)"
   ]
  },
  {
   "cell_type": "code",
   "execution_count": 36,
   "metadata": {},
   "outputs": [
    {
     "data": {
      "text/plain": [
       "0"
      ]
     },
     "execution_count": 36,
     "metadata": {},
     "output_type": "execute_result"
    }
   ],
   "source": [
    "x = np.array([[2, 0, 1, -1]])\n",
    "y = np.array([[-3, 2, 3, -3]])\n",
    "np.dot(x, y.transpose())[0][0]"
   ]
  },
  {
   "cell_type": "code",
   "execution_count": 37,
   "metadata": {},
   "outputs": [
    {
     "data": {
      "text/plain": [
       "array([[-6,  0, -3,  3],\n",
       "       [ 4,  0,  2, -2],\n",
       "       [ 6,  0,  3, -3],\n",
       "       [-6,  0, -3,  3]])"
      ]
     },
     "execution_count": 37,
     "metadata": {},
     "output_type": "execute_result"
    }
   ],
   "source": [
    "np.dot(y.transpose(), x)"
   ]
  },
  {
   "cell_type": "code",
   "execution_count": 38,
   "metadata": {},
   "outputs": [
    {
     "data": {
      "text/plain": [
       "(Matrix([\n",
       " [1, 0, -5, -5,  0],\n",
       " [0, 1,  2,  1, -1],\n",
       " [0, 0,  0,  0,  0],\n",
       " [0, 0,  0,  0,  0]]),\n",
       " (0, 1))"
      ]
     },
     "execution_count": 38,
     "metadata": {},
     "output_type": "execute_result"
    }
   ],
   "source": [
    "S = np.array([[1, 3, 1, -2, -3], [1, 4, 3, -1, -4], [2, 3, -4, -7, -3], [3, 8, 1, -7, -8]])\n",
    "S_sp = sp.Matrix(S)\n",
    "S_sp.rref()"
   ]
  },
  {
   "cell_type": "code",
   "execution_count": 39,
   "metadata": {},
   "outputs": [
    {
     "data": {
      "text/plain": [
       "(Matrix([\n",
       " [1, 0, 1/3],\n",
       " [0, 1,   0]]),\n",
       " (0, 1))"
      ]
     },
     "execution_count": 39,
     "metadata": {},
     "output_type": "execute_result"
    }
   ],
   "source": [
    "S = np.array([[0, 1, 0], [3, 0, 1]])\n",
    "S_sp = sp.Matrix(S)\n",
    "S_sp.rref()"
   ]
  },
  {
   "cell_type": "code",
   "execution_count": 40,
   "metadata": {},
   "outputs": [
    {
     "data": {
      "text/plain": [
       "(Matrix([\n",
       " [1, 0, 0],\n",
       " [0, 1, 0],\n",
       " [0, 0, 1]]),\n",
       " (0, 1, 2))"
      ]
     },
     "execution_count": 40,
     "metadata": {},
     "output_type": "execute_result"
    }
   ],
   "source": [
    "S = np.array([[2, 4, -3], [0, 1, 1], [0, 1, -1]])\n",
    "S_sp = sp.Matrix(S)\n",
    "S_sp.rref()"
   ]
  },
  {
   "cell_type": "code",
   "execution_count": 41,
   "metadata": {},
   "outputs": [
    {
     "data": {
      "text/plain": [
       "(Matrix([\n",
       " [1, 0, 0,  2],\n",
       " [0, 1, 0, -1],\n",
       " [0, 0, 1,  3]]),\n",
       " (0, 1, 2))"
      ]
     },
     "execution_count": 41,
     "metadata": {},
     "output_type": "execute_result"
    }
   ],
   "source": [
    "S = np.array([[1, 2, 3, 9], [2, -1, 1, 8], [3, 0, -1, 3]])\n",
    "S_sp = sp.Matrix(S)\n",
    "S_sp.rref()"
   ]
  },
  {
   "cell_type": "code",
   "execution_count": 42,
   "metadata": {},
   "outputs": [
    {
     "data": {
      "text/plain": [
       "(Matrix([\n",
       " [1, 0, -4, -28, -37, 13],\n",
       " [0, 1, -2, -12, -16,  5],\n",
       " [0, 0,  0,   0,   0,  0],\n",
       " [0, 0,  0,   0,   0,  0]]),\n",
       " (0, 1))"
      ]
     },
     "execution_count": 42,
     "metadata": {},
     "output_type": "execute_result"
    }
   ],
   "source": [
    "S = np.array([[-1, 2, 0, 4, 5, -3], [3, -7, 2, 0, 1, 4], [2, -5, 2, 4, 6, 1], [4, -9, 2, -4, -4, 7]])\n",
    "S_sp = sp.Matrix(S)\n",
    "S_sp.rref()"
   ]
  },
  {
   "cell_type": "code",
   "execution_count": 43,
   "metadata": {},
   "outputs": [
    {
     "data": {
      "text/plain": [
       "array([[0.],\n",
       "       [2.],\n",
       "       [1.]])"
      ]
     },
     "execution_count": 43,
     "metadata": {},
     "output_type": "execute_result"
    }
   ],
   "source": [
    "S = np.array([[1, 1, 0], [1, 1, 1], [0, 1, -1]]).transpose()\n",
    "x = np.array([[2, 3, 1]]).transpose()\n",
    "x_s = np.dot(np.linalg.inv(S), x)\n",
    "x_s"
   ]
  },
  {
   "cell_type": "code",
   "execution_count": 44,
   "metadata": {},
   "outputs": [
    {
     "data": {
      "text/plain": [
       "array([[ 5.],\n",
       "       [-2.]])"
      ]
     },
     "execution_count": 44,
     "metadata": {},
     "output_type": "execute_result"
    }
   ],
   "source": [
    "S = np.array([[1, 0], [0, 1]]).transpose()\n",
    "x = np.array([[5, -2]]).transpose()\n",
    "x_s = np.dot(np.linalg.inv(S), x)\n",
    "x_s"
   ]
  },
  {
   "cell_type": "code",
   "execution_count": 45,
   "metadata": {},
   "outputs": [
    {
     "data": {
      "text/plain": [
       "array([[1.5],\n",
       "       [3.5]])"
      ]
     },
     "execution_count": 45,
     "metadata": {},
     "output_type": "execute_result"
    }
   ],
   "source": [
    "S = np.array([[1, 1], [1, -1]]).transpose()\n",
    "x = np.array([[5, -2]]).transpose()\n",
    "x_s = np.dot(np.linalg.inv(S), x)\n",
    "x_s"
   ]
  },
  {
   "cell_type": "code",
   "execution_count": 46,
   "metadata": {},
   "outputs": [
    {
     "data": {
      "text/plain": [
       "array([[-1.,  2.,  1.],\n",
       "       [ 1.,  1.,  1.],\n",
       "       [ 2.,  1.,  2.]])"
      ]
     },
     "execution_count": 46,
     "metadata": {},
     "output_type": "execute_result"
    }
   ],
   "source": [
    "S = np.array([[1, 1, 2], [2, 1, 0], [0, 1, 1]])\n",
    "y1 = np.array([[4, -1, 3]]).transpose()\n",
    "y2 = np.array([[5, 5, 2]]).transpose()\n",
    "y3 = np.array([[6, 3, 3]]).transpose()\n",
    "y1_s = np.dot(np.linalg.inv(S), y1)\n",
    "y2_s = np.dot(np.linalg.inv(S), y2)\n",
    "y3_s = np.dot(np.linalg.inv(S), y3)\n",
    "P = np.hstack([y1_s, y2_s, y3_s])\n",
    "P"
   ]
  },
  {
   "cell_type": "code",
   "execution_count": 47,
   "metadata": {},
   "outputs": [
    {
     "data": {
      "text/plain": [
       "array([[ 0.24],\n",
       "       [ 1.  ],\n",
       "       [-0.32]])"
      ]
     },
     "execution_count": 47,
     "metadata": {},
     "output_type": "execute_result"
    }
   ],
   "source": [
    "y = np.array([[2, 1, 1]]).transpose()\n",
    "x1 = np.array([[0, 1, 0]]).transpose()\n",
    "x2 = np.array([[0.6, 0, -0.8]]).transpose()\n",
    "np.dot(x1.transpose(), y)[0][0] * x1 + np.dot(x2.transpose(), y)[0][0] * x2"
   ]
  },
  {
   "cell_type": "code",
   "execution_count": 48,
   "metadata": {},
   "outputs": [
    {
     "data": {
      "text/plain": [
       "4.561086358745012"
      ]
     },
     "execution_count": 48,
     "metadata": {},
     "output_type": "execute_result"
    }
   ],
   "source": [
    "A = np.array([[1, -1], [3, 2], [-2, 4]])\n",
    "b = np.array([[4, 1, 3]]).transpose()\n",
    "ATA = np.dot(A.transpose(), A)\n",
    "ATb = np.dot(A.transpose(), b)\n",
    "x = np.dot(np.linalg.inv(ATA), ATb)\n",
    "np.linalg.norm(b - np.dot(A, x))"
   ]
  },
  {
   "cell_type": "code",
   "execution_count": 49,
   "metadata": {},
   "outputs": [
    {
     "data": {
      "text/plain": [
       "(Matrix([\n",
       " [1, 0, -9, 10],\n",
       " [0, 1,  4, -2],\n",
       " [0, 0,  0,  0]]),\n",
       " (0, 1))"
      ]
     },
     "execution_count": 49,
     "metadata": {},
     "output_type": "execute_result"
    }
   ],
   "source": [
    "A = np.array([[1, 3, 3, 4], [1, 4, 7, 2], [2, 7, 10, 6]])\n",
    "A_sp = sp.Matrix(A)\n",
    "A_sp.rref()"
   ]
  },
  {
   "cell_type": "code",
   "execution_count": 50,
   "metadata": {},
   "outputs": [
    {
     "data": {
      "text/plain": [
       "(Matrix([\n",
       " [1, 0,  2],\n",
       " [0, 1, -1],\n",
       " [0, 0,  0],\n",
       " [0, 0,  0]]),\n",
       " (0, 1))"
      ]
     },
     "execution_count": 50,
     "metadata": {},
     "output_type": "execute_result"
    }
   ],
   "source": [
    "A = np.array([[1, 1, 1, 0], [1, 1, 0, 1], [1, 1, 2, -1]]).transpose()\n",
    "A_sp = sp.Matrix(A)\n",
    "A_sp.rref()"
   ]
  },
  {
   "cell_type": "code",
   "execution_count": 51,
   "metadata": {},
   "outputs": [
    {
     "data": {
      "text/plain": [
       "(Matrix([\n",
       " [1, 0, 1],\n",
       " [0, 1, 1],\n",
       " [0, 0, 0]]),\n",
       " (0, 1))"
      ]
     },
     "execution_count": 51,
     "metadata": {},
     "output_type": "execute_result"
    }
   ],
   "source": [
    "A = np.array([[1, 0, 1], [1, 1, 2], [2, 1, 3]])\n",
    "A_sp = sp.Matrix(A)\n",
    "A_sp.rref()"
   ]
  },
  {
   "cell_type": "code",
   "execution_count": 52,
   "metadata": {},
   "outputs": [
    {
     "data": {
      "text/plain": [
       "(Matrix([\n",
       " [1, 0,  5,  4],\n",
       " [0, 1, -3, -1],\n",
       " [0, 0,  0,  0],\n",
       " [0, 0,  0,  0],\n",
       " [0, 0,  0,  0]]),\n",
       " (0, 1))"
      ]
     },
     "execution_count": 52,
     "metadata": {},
     "output_type": "execute_result"
    }
   ],
   "source": [
    "A = np.array([[1, 1, 2, 3], [3, 4, 3, 8], [1, 3, -4, 1], [-2, -1, -7, -7], [-3, -4, -3, -8]])\n",
    "A_sp = sp.Matrix(A)\n",
    "A_sp.rref()"
   ]
  },
  {
   "cell_type": "code",
   "execution_count": 53,
   "metadata": {},
   "outputs": [
    {
     "data": {
      "text/plain": [
       "(Matrix([\n",
       " [1, 0, -2],\n",
       " [0, 1,  1]]),\n",
       " (0, 1))"
      ]
     },
     "execution_count": 53,
     "metadata": {},
     "output_type": "execute_result"
    }
   ],
   "source": [
    "A = np.array([[1, 2, 0], [0, 1, 1]])\n",
    "A_sp = sp.Matrix(A)\n",
    "A_sp.rref()"
   ]
  },
  {
   "cell_type": "code",
   "execution_count": 54,
   "metadata": {},
   "outputs": [
    {
     "data": {
      "text/plain": [
       "array([[1., 0.],\n",
       "       [0., 1.]])"
      ]
     },
     "execution_count": 54,
     "metadata": {},
     "output_type": "execute_result"
    }
   ],
   "source": [
    "A = np.array([[6, -3], [-1, 1]])\n",
    "B = np.array([[1/3, 1], [1/3, 2]])\n",
    "np.dot(B, A)"
   ]
  },
  {
   "cell_type": "code",
   "execution_count": 55,
   "metadata": {},
   "outputs": [
    {
     "data": {
      "text/plain": [
       "array([-1.,  4.])"
      ]
     },
     "execution_count": 55,
     "metadata": {},
     "output_type": "execute_result"
    }
   ],
   "source": [
    "B = np.array([[1/3, 1], [1/3, 2]])\n",
    "x = np.array([-18, 5]).transpose()\n",
    "np.dot(B, x)"
   ]
  },
  {
   "cell_type": "code",
   "execution_count": 56,
   "metadata": {},
   "outputs": [
    {
     "data": {
      "text/plain": [
       "array([[ 0. , -0.5,  0.5],\n",
       "       [-1. ,  0.5,  0.5]])"
      ]
     },
     "execution_count": 56,
     "metadata": {},
     "output_type": "execute_result"
    }
   ],
   "source": [
    "T = np.array([[1, -1], [1, 1]])\n",
    "S = np.array([[1, 0, 1], [0, 1, 1], [1, 1, 0]])\n",
    "x1 = S[:, 0].reshape(-1, 1)\n",
    "x2 = S[:, 1].reshape(-1, 1)\n",
    "x3 = S[:, 2].reshape(-1, 1)\n",
    "A_e = np.array([[1, -1, 0], [0, 1, -1]])\n",
    "Lx1 = np.dot(A_e, x1)\n",
    "Lx2 = np.dot(A_e, x2)\n",
    "Lx3 = np.dot(A_e, x3)\n",
    "L_x1_T = np.dot(np.linalg.inv(T), Lx1)\n",
    "L_x2_T = np.dot(np.linalg.inv(T), Lx2)\n",
    "L_x3_T = np.dot(np.linalg.inv(T), Lx3)\n",
    "np.hstack([L_x1_T, L_x2_T, L_x3_T])"
   ]
  },
  {
   "cell_type": "code",
   "execution_count": 57,
   "metadata": {},
   "outputs": [
    {
     "data": {
      "text/plain": [
       "array([[ 0., -2.],\n",
       "       [ 1.,  2.]])"
      ]
     },
     "execution_count": 57,
     "metadata": {},
     "output_type": "execute_result"
    }
   ],
   "source": [
    "A = np.array([[1, -1], [1, 1]])\n",
    "S = np.array([[1, 0], [0, 1]])\n",
    "T = np.array([[0, -1], [1, 1]])\n",
    "P = np.dot(np.linalg.inv(S), T)\n",
    "P_inv = np.dot(np.linalg.inv(T), S)\n",
    "P, P_inv\n",
    "np.dot(np.dot(P_inv, A), P)\n",
    "\n"
   ]
  },
  {
   "cell_type": "code",
   "execution_count": 58,
   "metadata": {},
   "outputs": [
    {
     "data": {
      "text/plain": [
       "(array([ 3., -3.,  3.]),\n",
       " array([[ 0.78446454,  0.53452248, -0.19587907],\n",
       "        [ 0.19611614, -0.26726124, -0.78439677],\n",
       "        [ 0.58834841, -0.80178373,  0.58851771]]))"
      ]
     },
     "execution_count": 58,
     "metadata": {},
     "output_type": "execute_result"
    }
   ],
   "source": [
    "A = np.array([[1, 2, 2, 1, 2, -1, 3, -3, 0]]).reshape(3, -3)\n",
    "np.linalg.eig(A)"
   ]
  },
  {
   "cell_type": "code",
   "execution_count": 59,
   "metadata": {},
   "outputs": [
    {
     "data": {
      "text/plain": [
       "(Matrix([\n",
       " [1, -1.0, -1.0],\n",
       " [0,    0,    0],\n",
       " [0,    0,    0]]),\n",
       " (0,))"
      ]
     },
     "execution_count": 59,
     "metadata": {},
     "output_type": "execute_result"
    }
   ],
   "source": [
    "I = np.identity(3)\n",
    "sp.Matrix(3 * I - A).rref()"
   ]
  },
  {
   "cell_type": "code",
   "execution_count": 60,
   "metadata": {},
   "outputs": [
    {
     "data": {
      "text/plain": [
       "(array([3., 2.]),\n",
       " array([[0.70710678, 0.62469505],\n",
       "        [0.70710678, 0.78086881]]))"
      ]
     },
     "execution_count": 60,
     "metadata": {},
     "output_type": "execute_result"
    }
   ],
   "source": [
    "A = np.array([[7, -4, 5, -2]]).reshape(2, -2)\n",
    "np.linalg.eig(A)"
   ]
  },
  {
   "cell_type": "code",
   "execution_count": 61,
   "metadata": {},
   "outputs": [
    {
     "data": {
      "text/plain": [
       "(Matrix([\n",
       " [1, -0.8],\n",
       " [0,    0]]),\n",
       " (0,))"
      ]
     },
     "execution_count": 61,
     "metadata": {},
     "output_type": "execute_result"
    }
   ],
   "source": [
    "I = np.identity(2)\n",
    "sp.Matrix(3 * I - A).rref()\n",
    "sp.Matrix(2 * I - A).rref()"
   ]
  },
  {
   "cell_type": "code",
   "execution_count": 62,
   "metadata": {},
   "outputs": [
    {
     "data": {
      "text/plain": [
       "(Matrix([\n",
       " [1, 0, 0],\n",
       " [0, 1, 0],\n",
       " [0, 0, 1]]),\n",
       " (0, 1, 2))"
      ]
     },
     "execution_count": 62,
     "metadata": {},
     "output_type": "execute_result"
    }
   ],
   "source": [
    "A = np.array([[1, 1, 0, 1, 0, 1, -2, 1, 3]]).reshape(-3, 3)\n",
    "sp.Matrix(A).rref()"
   ]
  },
  {
   "cell_type": "code",
   "execution_count": 63,
   "metadata": {},
   "outputs": [
    {
     "data": {
      "text/plain": [
       "((array([3., 2., 2.]),\n",
       "  array([[ 0.57735027,  0.43624197,  0.65716998],\n",
       "         [ 0.57735027,  0.71160833,  0.31472427],\n",
       "         [ 0.57735027,  0.55073272, -0.68489142]])),\n",
       " (array([0., 1., 1.]),\n",
       "  array([[ 1.00000000e+00,  0.00000000e+00,  1.11022302e-16],\n",
       "         [ 0.00000000e+00,  1.00000000e+00, -1.00000000e+00],\n",
       "         [ 0.00000000e+00,  0.00000000e+00,  1.11022302e-16]])))"
      ]
     },
     "execution_count": 63,
     "metadata": {},
     "output_type": "execute_result"
    }
   ],
   "source": [
    "A = np.array([[4, -2, 1, 2, 0, 1, 2, -2, 3]]).reshape(3, -3)\n",
    "B = np.array([[0, 0, 1, 0, 1, 2, 0, 0, 1]]).reshape(3, -3)\n",
    "I = np.identity(3)\n",
    "np.linalg.eig(A), np.linalg.eig(B)"
   ]
  },
  {
   "cell_type": "code",
   "execution_count": 64,
   "metadata": {},
   "outputs": [
    {
     "data": {
      "text/plain": [
       "(Matrix([\n",
       " [1, -1.0, 0.5],\n",
       " [0,    0,   0],\n",
       " [0,    0,   0]]),\n",
       " (0,))"
      ]
     },
     "execution_count": 64,
     "metadata": {},
     "output_type": "execute_result"
    }
   ],
   "source": [
    "sp.Matrix(2 * I - A).rref()"
   ]
  },
  {
   "cell_type": "code",
   "execution_count": 65,
   "metadata": {},
   "outputs": [
    {
     "data": {
      "text/plain": [
       "array([[-2,  0,  0],\n",
       "       [ 0, 20,  0],\n",
       "       [ 0,  0, -5]])"
      ]
     },
     "execution_count": 65,
     "metadata": {},
     "output_type": "execute_result"
    }
   ],
   "source": [
    "P = np.array([[0, -1, 2, 1, 0, 0, 0, 2, 1]]).reshape(3, -3)\n",
    "A = np.array([[0, 0, -2, 0, -2, 0, -2, 0, 3]]).reshape(3, -3)\n",
    "np.dot(np.dot(P.transpose(), A), P)"
   ]
  },
  {
   "cell_type": "code",
   "execution_count": 66,
   "metadata": {},
   "outputs": [
    {
     "data": {
      "text/plain": [
       "(array([[ 0.9486833 , -0.31622777],\n",
       "        [ 0.31622777,  0.9486833 ]]),\n",
       " array([18.97366596,  9.48683298]),\n",
       " array([[ 0.33333333,  0.66666667,  0.66666667],\n",
       "        [ 0.66666667,  0.33333333, -0.66666667],\n",
       "        [-0.66666667,  0.66666667, -0.33333333]]))"
      ]
     },
     "execution_count": 66,
     "metadata": {},
     "output_type": "execute_result"
    }
   ],
   "source": [
    "A = np.array([[4, 11, 14, 8, 7, -2]]).reshape(-2, 3)\n",
    "np.linalg.svd(A)"
   ]
  },
  {
   "cell_type": "code",
   "execution_count": 67,
   "metadata": {},
   "outputs": [
    {
     "data": {
      "text/plain": [
       "(array([[-0.33333333,  0.66666667, -0.66666667],\n",
       "        [ 0.66666667,  0.66666667,  0.33333333],\n",
       "        [-0.66666667,  0.33333333,  0.66666667]]),\n",
       " array([4.24264069, 0.        ]),\n",
       " array([[-0.70710678,  0.70710678],\n",
       "        [ 0.70710678,  0.70710678]]))"
      ]
     },
     "execution_count": 67,
     "metadata": {},
     "output_type": "execute_result"
    }
   ],
   "source": [
    "A = np.array([[1, -1, -2, 2, 2, -2]]).reshape(-3, 2)\n",
    "np.linalg.svd(A)"
   ]
  },
  {
   "cell_type": "code",
   "execution_count": 68,
   "metadata": {},
   "outputs": [
    {
     "name": "stdout",
     "output_type": "stream",
     "text": [
      "(Matrix([\n",
      "[1, 1.0],\n",
      "[0,   0]]), (0,))\n",
      "(Matrix([\n",
      "[1, -1.0],\n",
      "[0,    0]]), (0,))\n"
     ]
    }
   ],
   "source": [
    "eigenvalue, eigenvector = np.linalg.eig(np.dot(A.transpose(), A))\n",
    "for ev in eigenvalue:\n",
    "    print(sp.Matrix(ev * np.identity(2) - np.dot(A.transpose(), A)).rref())"
   ]
  },
  {
   "cell_type": "code",
   "execution_count": 69,
   "metadata": {},
   "outputs": [
    {
     "data": {
      "text/plain": [
       "(array([1.+1.j, 1.-1.j]),\n",
       " array([[0.70710678+0.j        , 0.70710678-0.j        ],\n",
       "        [0.        -0.70710678j, 0.        +0.70710678j]]))"
      ]
     },
     "execution_count": 69,
     "metadata": {},
     "output_type": "execute_result"
    }
   ],
   "source": [
    "A = np.array([[1, -1, 1, 1]]).reshape(2, -2)\n",
    "np.linalg.eig(A)"
   ]
  },
  {
   "cell_type": "code",
   "execution_count": 70,
   "metadata": {},
   "outputs": [
    {
     "data": {
      "text/plain": [
       "(Matrix([\n",
       " [1, 0,   0],\n",
       " [0, 1, 0.4],\n",
       " [0, 0,   0]]),\n",
       " (0, 1))"
      ]
     },
     "execution_count": 70,
     "metadata": {},
     "output_type": "execute_result"
    }
   ],
   "source": [
    "A = np.array([[3, 0, 0, -4, 6, 2, 16, -15, -5]]).reshape(3, 3)\n",
    "sp.Matrix(np.identity(3) - A).rref()"
   ]
  },
  {
   "cell_type": "code",
   "execution_count": 71,
   "metadata": {},
   "outputs": [
    {
     "data": {
      "text/plain": [
       "(array([ 1.65930207+0.j        , -0.47101902+1.22767294j,\n",
       "        -0.47101902-1.22767294j, -0.35863201+0.46897406j,\n",
       "        -0.35863201-0.46897406j]),\n",
       " array([[ 0.60571766+0.j        , -0.02485126+0.50859463j,\n",
       "         -0.02485126-0.50859463j, -0.46352816+0.04455464j,\n",
       "         -0.46352816-0.04455464j],\n",
       "        [ 0.55368192+0.j        , -0.18784717-0.07458128j,\n",
       "         -0.18784717+0.07458128j, -0.22191424-0.5019018j ,\n",
       "         -0.22191424+0.5019018j ],\n",
       "        [ 0.46733891+0.j        ,  0.60487629+0.j        ,\n",
       "          0.60487629-0.j        , -0.05229083-0.19261437j,\n",
       "         -0.05229083+0.19261437j],\n",
       "        [ 0.16973876+0.j        , -0.26005698+0.23399562j,\n",
       "         -0.26005698-0.23399562j,  0.57261247+0.j        ,\n",
       "          0.57261247-0.j        ],\n",
       "        [ 0.28164788+0.j        , -0.1647783 -0.4294813j ,\n",
       "         -0.1647783 +0.4294813j , -0.20535716+0.2685404j ,\n",
       "         -0.20535716-0.2685404j ]]))"
      ]
     },
     "execution_count": 71,
     "metadata": {},
     "output_type": "execute_result"
    }
   ],
   "source": [
    "A = np.array([[0, 1, 0, 1, 1, 0, 0, 1, 1, 1, 1, 0, 0, 1, 0, 0, 0, 0, 0, 1, 0, 0, 1, 0, 0]]).reshape(5, 5)\n",
    "np.linalg.eig(A)"
   ]
  },
  {
   "cell_type": "code",
   "execution_count": 72,
   "metadata": {},
   "outputs": [
    {
     "data": {
      "text/plain": [
       "(Matrix([\n",
       " [1, 0],\n",
       " [0, 1]]),\n",
       " (0, 1))"
      ]
     },
     "execution_count": 72,
     "metadata": {},
     "output_type": "execute_result"
    }
   ],
   "source": [
    "A = np.array([[1, 1, 1, -1]]).reshape(2, 2)\n",
    "sp.Matrix(A).rref()"
   ]
  },
  {
   "cell_type": "code",
   "execution_count": 73,
   "metadata": {},
   "outputs": [
    {
     "data": {
      "text/plain": [
       "array([[ 1.,  4.],\n",
       "       [ 0.,  2.],\n",
       "       [-1., -3.]])"
      ]
     },
     "execution_count": 73,
     "metadata": {},
     "output_type": "execute_result"
    }
   ],
   "source": [
    "T = np.array([[1, -1, 0, 0, 2, 1, -1, 1, 1]]).reshape(3, 3)\n",
    "Lx1 = np.array([[1, -1, -2]]).transpose()\n",
    "Lx2 = np.array([[2, 1, -5]]).transpose()\n",
    "Lx = np.hstack([Lx1, Lx2])\n",
    "np.dot(np.linalg.inv(T), Lx)"
   ]
  },
  {
   "cell_type": "code",
   "execution_count": 74,
   "metadata": {},
   "outputs": [
    {
     "data": {
      "text/plain": [
       "(array([[-0.33333333,  0.66666667, -0.66666667],\n",
       "        [ 0.66666667,  0.66666667,  0.33333333],\n",
       "        [-0.66666667,  0.33333333,  0.66666667]]),\n",
       " array([4.24264069, 0.        ]),\n",
       " array([[-0.70710678,  0.70710678],\n",
       "        [ 0.70710678,  0.70710678]]))"
      ]
     },
     "execution_count": 74,
     "metadata": {},
     "output_type": "execute_result"
    }
   ],
   "source": [
    "A = np.array([[1, -1, -2, 2, 2, -2]]).reshape(3, 2)\n",
    "A\n",
    "np.linalg.svd(A)"
   ]
  },
  {
   "cell_type": "code",
   "execution_count": 75,
   "metadata": {},
   "outputs": [
    {
     "data": {
      "text/plain": [
       "array([[ 9, -9],\n",
       "       [-9,  9]])"
      ]
     },
     "execution_count": 75,
     "metadata": {},
     "output_type": "execute_result"
    }
   ],
   "source": [
    "np.dot(A.transpose(), A)"
   ]
  },
  {
   "cell_type": "code",
   "execution_count": 76,
   "metadata": {},
   "outputs": [
    {
     "data": {
      "text/plain": [
       "(Matrix([\n",
       " [1, 0, 0, -40, 16,  9],\n",
       " [0, 1, 0,  13, -5, -3],\n",
       " [0, 0, 1,   5, -2, -1]]),\n",
       " (0, 1, 2))"
      ]
     },
     "execution_count": 76,
     "metadata": {},
     "output_type": "execute_result"
    }
   ],
   "source": [
    "A = np.array([[1, 2, 3, 1, 0, 0, 2, 5, 3, 0, 1, 0, 1, 0, 8, 0, 0, 1]]).reshape(-1, 6)\n",
    "sp.Matrix(A).rref()"
   ]
  },
  {
   "cell_type": "code",
   "execution_count": 77,
   "metadata": {},
   "outputs": [
    {
     "data": {
      "text/plain": [
       "array([[10.],\n",
       "       [ 2.],\n",
       "       [-6.],\n",
       "       [ 1.]])"
      ]
     },
     "execution_count": 77,
     "metadata": {},
     "output_type": "execute_result"
    }
   ],
   "source": [
    "V = np.array([[1, 0, 0, 0, 1, 1, 1, 1, 1, 3, 9, 27, 1, 4, 16, 64]]).reshape(4, 4)\n",
    "b= np.array([[10, 7, -11, -14]]).T\n",
    "np.dot(np.linalg.inv(V), b)"
   ]
  },
  {
   "cell_type": "code",
   "execution_count": 78,
   "metadata": {},
   "outputs": [
    {
     "data": {
      "text/plain": [
       "(Matrix([\n",
       " [1, 0, 0, 0,  1],\n",
       " [0, 1, 0, 0, -6],\n",
       " [0, 0, 1, 0,  2],\n",
       " [0, 0, 0, 1, 10]]),\n",
       " (0, 1, 2, 3))"
      ]
     },
     "execution_count": 78,
     "metadata": {},
     "output_type": "execute_result"
    }
   ],
   "source": [
    "A = np.array([[0, 0, 0, 1, 10], [1, 1, 1, 1, 7], [27, 9, 3, 1, -11], [64, 16, 4, 1, -14]])\n",
    "A_sp = sp.Matrix(A)\n",
    "A_sp.rref()"
   ]
  },
  {
   "cell_type": "code",
   "execution_count": 79,
   "metadata": {},
   "outputs": [
    {
     "data": {
      "text/plain": [
       "array([[-12]])"
      ]
     },
     "execution_count": 79,
     "metadata": {},
     "output_type": "execute_result"
    }
   ],
   "source": [
    "x = np.array([[2, 1, -3]])\n",
    "y = np.array([[4, 1, 1]])\n",
    "z = np.array([[-2, 0, 2]])\n",
    "np.dot(x, np.cross(y, z).T)"
   ]
  },
  {
   "cell_type": "code",
   "execution_count": 80,
   "metadata": {},
   "outputs": [
    {
     "data": {
      "text/plain": [
       "(Matrix([\n",
       " [1, 0,  2],\n",
       " [0, 1, -1],\n",
       " [0, 0,  0],\n",
       " [0, 0,  0]]),\n",
       " (0, 1))"
      ]
     },
     "execution_count": 80,
     "metadata": {},
     "output_type": "execute_result"
    }
   ],
   "source": [
    "X = np.array([[1, 1, 1, 0, 1, 1, 0, 1, 1, 1, 2, -1]]).reshape(3, 4).T\n",
    "sp.Matrix(X).rref()"
   ]
  },
  {
   "cell_type": "code",
   "execution_count": 81,
   "metadata": {},
   "outputs": [
    {
     "data": {
      "text/plain": [
       "(Matrix([\n",
       " [1, 0,   0],\n",
       " [0, 1, 1/3],\n",
       " [0, 0,   0]]),\n",
       " (0, 1))"
      ]
     },
     "execution_count": 81,
     "metadata": {},
     "output_type": "execute_result"
    }
   ],
   "source": [
    "A = np.array([[3, 0, 0, -4, 6, 2, 16, -15, -5]]).reshape(3, 3)\n",
    "sp.Matrix(A).rref()"
   ]
  },
  {
   "cell_type": "code",
   "execution_count": 82,
   "metadata": {},
   "outputs": [
    {
     "data": {
      "text/plain": [
       "array([[ 2., -0.],\n",
       "       [ 0.,  3.]])"
      ]
     },
     "execution_count": 82,
     "metadata": {},
     "output_type": "execute_result"
    }
   ],
   "source": [
    "P = np.array([[4, 1, 5, 1]]).reshape(2, 2)\n",
    "A = np.array([[7, -4, 5, -2]]).reshape(2, 2)\n",
    "np.dot(np.dot(np.linalg.inv(P), A), P).round(0)"
   ]
  },
  {
   "cell_type": "code",
   "execution_count": 85,
   "metadata": {},
   "outputs": [
    {
     "data": {
      "text/plain": [
       "array([[ 0. , -0.5,  0.5],\n",
       "       [-1. ,  0.5,  0.5]])"
      ]
     },
     "execution_count": 85,
     "metadata": {},
     "output_type": "execute_result"
    }
   ],
   "source": [
    "A = np.array([[1, -1, 0, 0, 1, -1]]).reshape(2, 3)\n",
    "S = np.array([[1, 0, 1, 0, 1, 1, 1, 1, 0]]).reshape(3, 3)\n",
    "T = np.array([[1, -1, 1, 1]]).reshape(2, 2)\n",
    "np.dot(np.linalg.inv(T), np.dot(A, S))"
   ]
  },
  {
   "cell_type": "code",
   "execution_count": 89,
   "metadata": {},
   "outputs": [
    {
     "data": {
      "text/plain": [
       "array([[3, 3, 2, 1, 1],\n",
       "       [2, 4, 5, 4, 2],\n",
       "       [1, 1, 1, 1, 1]])"
      ]
     },
     "execution_count": 89,
     "metadata": {},
     "output_type": "execute_result"
    }
   ],
   "source": [
    "V = np.array([[0, 2, 3, 2, 0, 0, 0, 1, 2, 2]]).reshape(2, 5)\n",
    "T = np.array([[0, -1, 1, 0]]).reshape(2, 2)\n",
    "V_T = np.dot(T, V)\n",
    "parellel =np.array([[1, 0, 3, 0, 1, 2, 0, 0, 1]]).reshape(3, 3)\n",
    "homo_coords = np.vstack([V_T, [1, 1, 1, 1, 1]])\n",
    "np.dot(parellel, homo_coords)"
   ]
  },
  {
   "cell_type": "code",
   "execution_count": null,
   "metadata": {},
   "outputs": [],
   "source": []
  }
 ],
 "metadata": {
  "kernelspec": {
   "display_name": "base",
   "language": "python",
   "name": "python3"
  },
  "language_info": {
   "codemirror_mode": {
    "name": "ipython",
    "version": 3
   },
   "file_extension": ".py",
   "mimetype": "text/x-python",
   "name": "python",
   "nbconvert_exporter": "python",
   "pygments_lexer": "ipython3",
   "version": "3.9.12"
  },
  "orig_nbformat": 4,
  "vscode": {
   "interpreter": {
    "hash": "610a6f344c2137faf927ea819c63f6cee33a2c04455044b28099f39fe9722347"
   }
  }
 },
 "nbformat": 4,
 "nbformat_minor": 2
}
