{
 "cells": [
  {
   "cell_type": "code",
   "execution_count": 1,
   "metadata": {},
   "outputs": [],
   "source": [
    "class DisjointSet:\n",
    "    def __init__(self, vnum):\n",
    "        self.parent=[-1 for _ in range(vnum)]\n",
    "\n",
    "    def simple_find(self, i):\n",
    "        while self.parent[i] >= 0:\n",
    "            i=self.parent[i]\n",
    "        return i\n",
    "\n",
    "    def simple_union(self, i, j):\n",
    "        self.parent[i]=j\n",
    "\n",
    "    def collapsing_find(self, i):\n",
    "        root=trail=lead=None\n",
    "        # 루트를 찾는다.\n",
    "        root=i\n",
    "        while self.parent[root] >= 0:\n",
    "            root=self.parent[root]\n",
    "\n",
    "        # 모든 노드를 루트의 자식으로 만든다\n",
    "        trail=i\n",
    "        while trail != root:\n",
    "            lead=self.parent[trail]\n",
    "            self.parent[trail]=root\n",
    "            trail=lead\n",
    "\n",
    "        return root\n",
    "\n",
    "    def weighted_union(self, i, j):\n",
    "        \"\"\"\n",
    "        paremeters i, j must be roots!\n",
    "        if size[i] < size[j] then parent[i]=j\n",
    "        \"\"\"\n",
    "        #abs(parent[i])=size[i]\n",
    "        #temp_cnt는 음수이고 size[i] + size[j]\n",
    "        temp_cnt=self.parent[i]+self.parent[j]\n",
    "\n",
    "        #size[i] < size[j]\n",
    "        if self.parent[i] > self.parent[j]:\n",
    "            self.parent[i]=j\n",
    "            self.parent[j]=temp_cnt\n",
    "        #size[i] > size[j]\n",
    "        else:\n",
    "            self.parent[j]=i\n",
    "            self.parent[i]=temp_cnt\n",
    "\n",
    "class Edge:\n",
    "    def __init__(self, u, v, w):\n",
    "        self.u=u\n",
    "        self.v=v\n",
    "        self.w=w"
   ]
  },
  {
   "cell_type": "code",
   "execution_count": null,
   "metadata": {},
   "outputs": [],
   "source": []
  }
 ],
 "metadata": {
  "kernelspec": {
   "display_name": "base",
   "language": "python",
   "name": "python3"
  },
  "language_info": {
   "codemirror_mode": {
    "name": "ipython",
    "version": 3
   },
   "file_extension": ".py",
   "mimetype": "text/x-python",
   "name": "python",
   "nbconvert_exporter": "python",
   "pygments_lexer": "ipython3",
   "version": "3.10.9"
  },
  "orig_nbformat": 4
 },
 "nbformat": 4,
 "nbformat_minor": 2
}
