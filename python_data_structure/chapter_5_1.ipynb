{
 "cells": [
  {
   "cell_type": "code",
   "execution_count": 1,
   "metadata": {},
   "outputs": [],
   "source": [
    "class Stack:\n",
    "    def __init__(self):\n",
    "        self.container=list()\n",
    "\n",
    "    def empty(self):\n",
    "        if not self.container:\n",
    "            return True\n",
    "        else:\n",
    "            return False\n",
    "\n",
    "    def push(self, data):\n",
    "        self.container.append(data)\n",
    "\n",
    "    def pop(self):\n",
    "        if self.empty():\n",
    "            return None\n",
    "        return self.container.pop()\n",
    "\n",
    "    def peek(self):\n",
    "        if self.empty():\n",
    "            return None\n",
    "        return self.container[-1]"
   ]
  },
  {
   "cell_type": "code",
   "execution_count": 2,
   "metadata": {},
   "outputs": [
    {
     "name": "stdout",
     "output_type": "stream",
     "text": [
      "5\t4\t3\t2\t1\t"
     ]
    }
   ],
   "source": [
    "s = Stack()\n",
    "for i in range(5):\n",
    "    s.push(i + 1)\n",
    "while not s.empty():\n",
    "    print(s.pop(), end='\\t')"
   ]
  },
  {
   "cell_type": "code",
   "execution_count": 3,
   "metadata": {},
   "outputs": [],
   "source": [
    "class Queue:\n",
    "    def __init__(self):\n",
    "        self.container=list()\n",
    "\n",
    "    def empty(self):\n",
    "        if not self.container:\n",
    "            return True\n",
    "        else:\n",
    "            return False\n",
    "\n",
    "    def enqueue(self, data):\n",
    "        self.container.append(data)\n",
    "\n",
    "    def dequeue(self):\n",
    "        # 동적 배열의 맨 처음 데이터를 삭제하므로\n",
    "        # 빅오는 O(n)\n",
    "        # 좀 더 효율적으로 구현할 수는 없을까?\n",
    "        return self.container.pop(0) \n",
    "\n",
    "    def peek(self):\n",
    "        return self.container[0]"
   ]
  },
  {
   "cell_type": "code",
   "execution_count": 4,
   "metadata": {},
   "outputs": [],
   "source": [
    "class CQueue:\n",
    "    MAXSIZE=10\n",
    "    def __init__(self):\n",
    "        self.container=[None for _ in range(CQueue.MAXSIZE)]\n",
    "        self.front=0\n",
    "        self.rear=0\n",
    "\n",
    "    def is_empty(self):\n",
    "        if self.front==self.rear:\n",
    "            return True\n",
    "        return False\n",
    "\n",
    "    def is_full(self):\n",
    "        next=self.__step_forward(self.rear)\n",
    "        if next==self.front:\n",
    "            return True\n",
    "        return False\n",
    "\n",
    "    def enqueue(self, data):\n",
    "        if self.is_full():\n",
    "            raise Exception(\"The queue is full\")\n",
    "        self.container[self.rear]=data\n",
    "        self.rear=self.__step_forward(self.rear)\n",
    "\n",
    "    def dequeue(self):\n",
    "        if self.is_empty():\n",
    "            raise Exception(\"The queue is empty\")\n",
    "        ret=self.container[self.front]\n",
    "        self.front=self.__step_forward(self.front)\n",
    "        return ret\n",
    "\n",
    "    def peek(self):\n",
    "        if self.is_empty():\n",
    "            raise Exception(\"The queue is empty\")\n",
    "        return self.container[self.front]\n",
    "\n",
    "    def __step_forward(self, x):\n",
    "        x+=1\n",
    "        if x >= CQueue.MAXSIZE:\n",
    "            x=0\n",
    "        return x"
   ]
  },
  {
   "cell_type": "code",
   "execution_count": 6,
   "metadata": {},
   "outputs": [
    {
     "name": "stdout",
     "output_type": "stream",
     "text": [
      "0\t1\t2\t3\t4\t"
     ]
    }
   ],
   "source": [
    "cq = CQueue()\n",
    "\n",
    "for i in range(8):\n",
    "    cq.enqueue(i)\n",
    "\n",
    "for i in range(5):\n",
    "    print(cq.dequeue(), end='\\t')"
   ]
  },
  {
   "cell_type": "code",
   "execution_count": 7,
   "metadata": {},
   "outputs": [],
   "source": [
    "from collections import deque"
   ]
  },
  {
   "cell_type": "code",
   "execution_count": 8,
   "metadata": {},
   "outputs": [
    {
     "name": "stdout",
     "output_type": "stream",
     "text": [
      "******************** STACK ********************\n",
      "deque([1])\n",
      "deque([1, 2])\n",
      "deque([1, 2, 3])\n",
      "deque([1, 2, 3, 4])\n",
      "deque([1, 2, 3, 4, 5])\n",
      "5\n",
      "4\n",
      "3\n",
      "2\n",
      "1\n",
      "******************** QUEUE ********************\n",
      "deque([1])\n",
      "deque([1, 2])\n",
      "deque([1, 2, 3])\n",
      "deque([1, 2, 3, 4])\n",
      "deque([1, 2, 3, 4, 5])\n",
      "1\n",
      "2\n",
      "3\n",
      "4\n",
      "5\n"
     ]
    }
   ],
   "source": [
    "print('*' * 20 + ' STACK ' + '*' * 20)\n",
    "stack = deque()\n",
    "for i in range(1, 6):\n",
    "    stack.append(i)\n",
    "    print(stack)\n",
    "\n",
    "for i in range(5):\n",
    "    print(stack.pop())\n",
    "\n",
    "print('*' * 20 + ' QUEUE ' + '*' * 20)\n",
    "queue = deque()\n",
    "for i in range(1, 6):\n",
    "    queue.append(i)\n",
    "    print(queue)\n",
    "\n",
    "for i in range(5):\n",
    "    print(queue.popleft())"
   ]
  },
  {
   "cell_type": "code",
   "execution_count": null,
   "metadata": {},
   "outputs": [],
   "source": []
  }
 ],
 "metadata": {
  "kernelspec": {
   "display_name": "base",
   "language": "python",
   "name": "python3"
  },
  "language_info": {
   "codemirror_mode": {
    "name": "ipython",
    "version": 3
   },
   "file_extension": ".py",
   "mimetype": "text/x-python",
   "name": "python",
   "nbconvert_exporter": "python",
   "pygments_lexer": "ipython3",
   "version": "3.10.9"
  },
  "orig_nbformat": 4
 },
 "nbformat": 4,
 "nbformat_minor": 2
}
