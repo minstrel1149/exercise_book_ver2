{
 "cells": [
  {
   "cell_type": "code",
   "execution_count": 1,
   "metadata": {},
   "outputs": [],
   "source": [
    "from queue import Queue"
   ]
  },
  {
   "cell_type": "code",
   "execution_count": 2,
   "metadata": {},
   "outputs": [],
   "source": [
    "class Stack:\n",
    "    def __init__(self):\n",
    "        # 내부 표현(representation)\n",
    "        # 실제로 데이터를 담을 객체는 \n",
    "        # 동적 배열\n",
    "        self.container=list()\n",
    "\n",
    "    def empty(self):\n",
    "        if not self.container:\n",
    "            return True\n",
    "        else:\n",
    "            return False\n",
    "\n",
    "    def push(self, data):\n",
    "        # 맨 마지막 요소가 top\n",
    "        # 동적 배열의 맨 마지막에 요소를 추가하는 것은\n",
    "        # 스택의 top에 요소를 추가하는 것과 같다.\n",
    "        self.container.append(data)\n",
    "\n",
    "    def pop(self):\n",
    "        if self.empty():\n",
    "            return None\n",
    "        return self.container.pop()\n",
    "\n",
    "    def peek(self):\n",
    "        if self.empty():\n",
    "            return None\n",
    "        return self.container[-1]\n",
    "\n",
    "class TreeNode:\n",
    "    def __init__(self, data=None):\n",
    "        self.__data=data\n",
    "        self.__left=None\n",
    "        self.__right=None\n",
    "\n",
    "    def __del__(self):\n",
    "        print('data {} is deleted'.format(self.__data))\n",
    "\n",
    "    @property\n",
    "    def data(self):\n",
    "        return self.__data\n",
    "\n",
    "    @data.setter\n",
    "    def data(self, data):\n",
    "        self.__data=data\n",
    "\n",
    "    @property\n",
    "    def left(self):\n",
    "        return self.__left\n",
    "\n",
    "    @left.setter\n",
    "    def left(self, left):\n",
    "        self.__left=left\n",
    "\n",
    "    @property\n",
    "    def right(self):\n",
    "        return self.__right\n",
    "\n",
    "    @right.setter\n",
    "    def right(self, right):\n",
    "        self.__right=right\n",
    "\n",
    "def preorder(cur):\n",
    "    # 현재 노드가 empty node라면\n",
    "    if not cur:\n",
    "        return\n",
    "\n",
    "    # 방문\n",
    "    print(cur.data, end='  ')\n",
    "    # 왼쪽 서브 트리로 이동\n",
    "    preorder(cur.left)\n",
    "    # 오른쪽 서브 트리로 이동\n",
    "    preorder(cur.right)\n",
    "\n",
    "def inorder(cur):\n",
    "    # 현재 노드가 empty node라면\n",
    "    if not cur:\n",
    "        return\n",
    "\n",
    "    # 왼쪽 서브 트리로 이동\n",
    "    inorder(cur.left)\n",
    "    # 방문\n",
    "    print(cur.data, end='  ')\n",
    "    # 오른쪽 서브 트리로 이동\n",
    "    inorder(cur.right)\n",
    "\n",
    "def postorder(cur):\n",
    "    if not cur:\n",
    "        return\n",
    "\n",
    "    postorder(cur.left)\n",
    "    postorder(cur.right)\n",
    "    print(cur.data, end='  ')\n",
    "\n",
    "def iter_preorder(cur):\n",
    "    s=Stack()\n",
    "    while True:\n",
    "        while cur:\n",
    "            print(cur.data, end='  ')\n",
    "            s.push(cur)\n",
    "            cur=cur.left\n",
    "\n",
    "        cur=s.pop()\n",
    "        if not cur:\n",
    "            break\n",
    "\n",
    "        cur=cur.right\n",
    "\n",
    "def iter_inorder(cur):\n",
    "    s=Stack()\n",
    "    while True:\n",
    "        while cur:\n",
    "            s.push(cur)\n",
    "            cur=cur.left\n",
    "        cur=s.pop()\n",
    "        if not cur:\n",
    "            break\n",
    "        # 방문을 pop을 한 이후에 합니다.\n",
    "        print(cur.data, end='  ')\n",
    "        cur=cur.right\n",
    "            \n",
    "def levelorder(cur):\n",
    "    q=Queue()\n",
    "\n",
    "    q.put(cur)\n",
    "    while not q.empty():\n",
    "        cur=q.get()\n",
    "        print(cur.data, end='  ')\n",
    "\n",
    "        if cur.left:\n",
    "            q.put(cur.left)\n",
    " \n",
    "        if cur.right:\n",
    "            q.put(cur.right)"
   ]
  },
  {
   "cell_type": "code",
   "execution_count": 4,
   "metadata": {},
   "outputs": [
    {
     "name": "stdout",
     "output_type": "stream",
     "text": [
      "data 1 is deleted\n",
      "data 2 is deleted\n",
      "data 3 is deleted\n",
      "data 4 is deleted\n",
      "data 5 is deleted\n",
      "data 6 is deleted\n",
      "data 7 is deleted\n",
      "1  2  4  5  3  6  7  "
     ]
    }
   ],
   "source": [
    "n1=TreeNode(1)\n",
    "n2=TreeNode(2)\n",
    "n3=TreeNode(3)\n",
    "n4=TreeNode(4)\n",
    "n5=TreeNode(5)\n",
    "n6=TreeNode(6)\n",
    "n7=TreeNode(7)\n",
    "\n",
    "n1.left=n2; n1.right=n3\n",
    "n2.left=n4; n2.right=n5\n",
    "n3.left=n6; n3.right=n7\n",
    "\n",
    "preorder(n1)"
   ]
  },
  {
   "cell_type": "code",
   "execution_count": 5,
   "metadata": {},
   "outputs": [
    {
     "name": "stdout",
     "output_type": "stream",
     "text": [
      "4  2  5  1  6  3  7  "
     ]
    }
   ],
   "source": [
    "inorder(n1)"
   ]
  },
  {
   "cell_type": "code",
   "execution_count": 6,
   "metadata": {},
   "outputs": [
    {
     "name": "stdout",
     "output_type": "stream",
     "text": [
      "1  2  3  4  5  6  7  "
     ]
    }
   ],
   "source": [
    "levelorder(n1)"
   ]
  },
  {
   "cell_type": "code",
   "execution_count": null,
   "metadata": {},
   "outputs": [],
   "source": []
  }
 ],
 "metadata": {
  "kernelspec": {
   "display_name": "base",
   "language": "python",
   "name": "python3"
  },
  "language_info": {
   "codemirror_mode": {
    "name": "ipython",
    "version": 3
   },
   "file_extension": ".py",
   "mimetype": "text/x-python",
   "name": "python",
   "nbconvert_exporter": "python",
   "pygments_lexer": "ipython3",
   "version": "3.10.9"
  },
  "orig_nbformat": 4
 },
 "nbformat": 4,
 "nbformat_minor": 2
}
