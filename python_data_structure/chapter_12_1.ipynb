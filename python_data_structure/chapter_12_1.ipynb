{
 "cells": [
  {
   "cell_type": "code",
   "execution_count": 1,
   "metadata": {},
   "outputs": [],
   "source": [
    "class DAG:\n",
    "    def __init__(self, vertex_num):\n",
    "        self.adj_list=[[] for _ in range(vertex_num)]\n",
    "        self.visited=[False for _ in range(vertex_num)]\n",
    "\n",
    "    def add_edge(self, u, v):\n",
    "        # u : tail, v : head\n",
    "        self.adj_list[u].append(v)\n",
    "\n",
    "    def init_visited(self):\n",
    "        for i in range(len(self.visited)):\n",
    "            self.visited[i]=False\n",
    "    \n",
    "    def dfs(self, v, ts_list):\n",
    "        self.visited[v]=True\n",
    "\n",
    "        adj_v = self.adj_list[v]\n",
    "        for u in adj_v:\n",
    "            if not self.visited[u]:\n",
    "                self.dfs(u, ts_list)\n",
    "\n",
    "        ts_list.append(v)        \n",
    "\n",
    "    def topological_sort(self):\n",
    "        self.init_visited()\n",
    "        ts_list=[]\n",
    "        for i in range(len(self.visited)):\n",
    "            if not self.visited[i]:\n",
    "                self.dfs(i, ts_list)\n",
    "        ts_list.reverse()\n",
    "        return ts_list"
   ]
  },
  {
   "cell_type": "code",
   "execution_count": null,
   "metadata": {},
   "outputs": [],
   "source": []
  }
 ],
 "metadata": {
  "kernelspec": {
   "display_name": "base",
   "language": "python",
   "name": "python3"
  },
  "language_info": {
   "codemirror_mode": {
    "name": "ipython",
    "version": 3
   },
   "file_extension": ".py",
   "mimetype": "text/x-python",
   "name": "python",
   "nbconvert_exporter": "python",
   "pygments_lexer": "ipython3",
   "version": "3.10.9"
  },
  "orig_nbformat": 4
 },
 "nbformat": 4,
 "nbformat_minor": 2
}
